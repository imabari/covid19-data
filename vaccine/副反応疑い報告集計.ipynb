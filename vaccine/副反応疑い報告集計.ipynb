{
  "nbformat": 4,
  "nbformat_minor": 0,
  "metadata": {
    "colab": {
      "name": "副反応疑い報告集計.ipynb",
      "provenance": [],
      "authorship_tag": "ABX9TyPGBJv5egGNWuIyqSM5ryLb",
      "include_colab_link": true
    },
    "kernelspec": {
      "name": "python3",
      "display_name": "Python 3"
    },
    "language_info": {
      "name": "python"
    }
  },
  "cells": [
    {
      "cell_type": "markdown",
      "metadata": {
        "id": "view-in-github",
        "colab_type": "text"
      },
      "source": [
        "<a href=\"https://colab.research.google.com/github/imabari/covid19-data/blob/master/vaccine/%E5%89%AF%E5%8F%8D%E5%BF%9C%E7%96%91%E3%81%84%E5%A0%B1%E5%91%8A%E9%9B%86%E8%A8%88.ipynb\" target=\"_parent\"><img src=\"https://colab.research.google.com/assets/colab-badge.svg\" alt=\"Open In Colab\"/></a>"
      ]
    },
    {
      "cell_type": "code",
      "metadata": {
        "colab": {
          "base_uri": "https://localhost:8080/"
        },
        "id": "Z0nEgkR0QqYG",
        "outputId": "40b10663-cf84-45bf-825e-6ffa08f741bb"
      },
      "source": [
        "!wget https://www.mhlw.go.jp/content/10906000/000784435.pdf -O data.pdf"
      ],
      "execution_count": 1,
      "outputs": [
        {
          "output_type": "stream",
          "text": [
            "--2021-05-26 14:13:39--  https://www.mhlw.go.jp/content/10906000/000784435.pdf\n",
            "Resolving www.mhlw.go.jp (www.mhlw.go.jp)... 173.223.150.129, 2600:1408:5400:48d::3194, 2600:1408:5400:4a8::3194\n",
            "Connecting to www.mhlw.go.jp (www.mhlw.go.jp)|173.223.150.129|:443... connected.\n",
            "HTTP request sent, awaiting response... 200 OK\n",
            "Length: 4932198 (4.7M) [application/pdf]\n",
            "Saving to: ‘data.pdf’\n",
            "\n",
            "data.pdf            100%[===================>]   4.70M  --.-KB/s    in 0.1s    \n",
            "\n",
            "2021-05-26 14:13:39 (47.8 MB/s) - ‘data.pdf’ saved [4932198/4932198]\n",
            "\n"
          ],
          "name": "stdout"
        }
      ]
    },
    {
      "cell_type": "code",
      "metadata": {
        "colab": {
          "base_uri": "https://localhost:8080/"
        },
        "id": "OUH-MjwAQ_iU",
        "outputId": "9e56ffb1-be87-498e-c695-377432c74244"
      },
      "source": [
        "!apt install python3-tk ghostscript\n",
        "!pip install camelot-py[cv]"
      ],
      "execution_count": 2,
      "outputs": [
        {
          "output_type": "stream",
          "text": [
            "Reading package lists... Done\n",
            "Building dependency tree       \n",
            "Reading state information... Done\n",
            "python3-tk is already the newest version (3.6.9-1~18.04).\n",
            "The following package was automatically installed and is no longer required:\n",
            "  libnvidia-common-460\n",
            "Use 'apt autoremove' to remove it.\n",
            "The following additional packages will be installed:\n",
            "  fonts-droid-fallback fonts-noto-mono gsfonts libcupsfilters1 libcupsimage2\n",
            "  libgs9 libgs9-common libijs-0.35 libjbig2dec0 poppler-data\n",
            "Suggested packages:\n",
            "  fonts-noto ghostscript-x poppler-utils fonts-japanese-mincho\n",
            "  | fonts-ipafont-mincho fonts-japanese-gothic | fonts-ipafont-gothic\n",
            "  fonts-arphic-ukai fonts-arphic-uming fonts-nanum\n",
            "The following NEW packages will be installed:\n",
            "  fonts-droid-fallback fonts-noto-mono ghostscript gsfonts libcupsfilters1\n",
            "  libcupsimage2 libgs9 libgs9-common libijs-0.35 libjbig2dec0 poppler-data\n",
            "0 upgraded, 11 newly installed, 0 to remove and 34 not upgraded.\n",
            "Need to get 14.1 MB of archives.\n",
            "After this operation, 49.9 MB of additional disk space will be used.\n",
            "Get:1 http://archive.ubuntu.com/ubuntu bionic/main amd64 fonts-droid-fallback all 1:6.0.1r16-1.1 [1,805 kB]\n",
            "Get:2 http://archive.ubuntu.com/ubuntu bionic/main amd64 poppler-data all 0.4.8-2 [1,479 kB]\n",
            "Get:3 http://archive.ubuntu.com/ubuntu bionic/main amd64 fonts-noto-mono all 20171026-2 [75.5 kB]\n",
            "Get:4 http://archive.ubuntu.com/ubuntu bionic-updates/main amd64 libcupsimage2 amd64 2.2.7-1ubuntu2.8 [18.6 kB]\n",
            "Get:5 http://archive.ubuntu.com/ubuntu bionic/main amd64 libijs-0.35 amd64 0.35-13 [15.5 kB]\n",
            "Get:6 http://archive.ubuntu.com/ubuntu bionic/main amd64 libjbig2dec0 amd64 0.13-6 [55.9 kB]\n",
            "Get:7 http://archive.ubuntu.com/ubuntu bionic-updates/main amd64 libgs9-common all 9.26~dfsg+0-0ubuntu0.18.04.14 [5,092 kB]\n",
            "Get:8 http://archive.ubuntu.com/ubuntu bionic-updates/main amd64 libgs9 amd64 9.26~dfsg+0-0ubuntu0.18.04.14 [2,265 kB]\n",
            "Get:9 http://archive.ubuntu.com/ubuntu bionic-updates/main amd64 ghostscript amd64 9.26~dfsg+0-0ubuntu0.18.04.14 [51.3 kB]\n",
            "Get:10 http://archive.ubuntu.com/ubuntu bionic/main amd64 gsfonts all 1:8.11+urwcyr1.0.7~pre44-4.4 [3,120 kB]\n",
            "Get:11 http://archive.ubuntu.com/ubuntu bionic-updates/main amd64 libcupsfilters1 amd64 1.20.2-0ubuntu3.1 [108 kB]\n",
            "Fetched 14.1 MB in 1s (10.3 MB/s)\n",
            "Selecting previously unselected package fonts-droid-fallback.\n",
            "(Reading database ... 160706 files and directories currently installed.)\n",
            "Preparing to unpack .../00-fonts-droid-fallback_1%3a6.0.1r16-1.1_all.deb ...\n",
            "Unpacking fonts-droid-fallback (1:6.0.1r16-1.1) ...\n",
            "Selecting previously unselected package poppler-data.\n",
            "Preparing to unpack .../01-poppler-data_0.4.8-2_all.deb ...\n",
            "Unpacking poppler-data (0.4.8-2) ...\n",
            "Selecting previously unselected package fonts-noto-mono.\n",
            "Preparing to unpack .../02-fonts-noto-mono_20171026-2_all.deb ...\n",
            "Unpacking fonts-noto-mono (20171026-2) ...\n",
            "Selecting previously unselected package libcupsimage2:amd64.\n",
            "Preparing to unpack .../03-libcupsimage2_2.2.7-1ubuntu2.8_amd64.deb ...\n",
            "Unpacking libcupsimage2:amd64 (2.2.7-1ubuntu2.8) ...\n",
            "Selecting previously unselected package libijs-0.35:amd64.\n",
            "Preparing to unpack .../04-libijs-0.35_0.35-13_amd64.deb ...\n",
            "Unpacking libijs-0.35:amd64 (0.35-13) ...\n",
            "Selecting previously unselected package libjbig2dec0:amd64.\n",
            "Preparing to unpack .../05-libjbig2dec0_0.13-6_amd64.deb ...\n",
            "Unpacking libjbig2dec0:amd64 (0.13-6) ...\n",
            "Selecting previously unselected package libgs9-common.\n",
            "Preparing to unpack .../06-libgs9-common_9.26~dfsg+0-0ubuntu0.18.04.14_all.deb ...\n",
            "Unpacking libgs9-common (9.26~dfsg+0-0ubuntu0.18.04.14) ...\n",
            "Selecting previously unselected package libgs9:amd64.\n",
            "Preparing to unpack .../07-libgs9_9.26~dfsg+0-0ubuntu0.18.04.14_amd64.deb ...\n",
            "Unpacking libgs9:amd64 (9.26~dfsg+0-0ubuntu0.18.04.14) ...\n",
            "Selecting previously unselected package ghostscript.\n",
            "Preparing to unpack .../08-ghostscript_9.26~dfsg+0-0ubuntu0.18.04.14_amd64.deb ...\n",
            "Unpacking ghostscript (9.26~dfsg+0-0ubuntu0.18.04.14) ...\n",
            "Selecting previously unselected package gsfonts.\n",
            "Preparing to unpack .../09-gsfonts_1%3a8.11+urwcyr1.0.7~pre44-4.4_all.deb ...\n",
            "Unpacking gsfonts (1:8.11+urwcyr1.0.7~pre44-4.4) ...\n",
            "Selecting previously unselected package libcupsfilters1:amd64.\n",
            "Preparing to unpack .../10-libcupsfilters1_1.20.2-0ubuntu3.1_amd64.deb ...\n",
            "Unpacking libcupsfilters1:amd64 (1.20.2-0ubuntu3.1) ...\n",
            "Setting up libgs9-common (9.26~dfsg+0-0ubuntu0.18.04.14) ...\n",
            "Setting up fonts-droid-fallback (1:6.0.1r16-1.1) ...\n",
            "Setting up gsfonts (1:8.11+urwcyr1.0.7~pre44-4.4) ...\n",
            "Setting up poppler-data (0.4.8-2) ...\n",
            "Setting up fonts-noto-mono (20171026-2) ...\n",
            "Setting up libcupsfilters1:amd64 (1.20.2-0ubuntu3.1) ...\n",
            "Setting up libcupsimage2:amd64 (2.2.7-1ubuntu2.8) ...\n",
            "Setting up libjbig2dec0:amd64 (0.13-6) ...\n",
            "Setting up libijs-0.35:amd64 (0.35-13) ...\n",
            "Setting up libgs9:amd64 (9.26~dfsg+0-0ubuntu0.18.04.14) ...\n",
            "Setting up ghostscript (9.26~dfsg+0-0ubuntu0.18.04.14) ...\n",
            "Processing triggers for man-db (2.8.3-2ubuntu0.1) ...\n",
            "Processing triggers for fontconfig (2.12.6-0ubuntu2) ...\n",
            "Processing triggers for libc-bin (2.27-3ubuntu1.2) ...\n",
            "/sbin/ldconfig.real: /usr/local/lib/python3.7/dist-packages/ideep4py/lib/libmkldnn.so.0 is not a symbolic link\n",
            "\n",
            "Collecting camelot-py[cv]\n",
            "\u001b[?25l  Downloading https://files.pythonhosted.org/packages/ed/78/123007d6aff9811bd087ff5dd68e06a9df62b2fdbf7685d74c9d6f247921/camelot_py-0.8.2-py3-none-any.whl (42kB)\n",
            "\u001b[K     |████████████████████████████████| 51kB 1.9MB/s \n",
            "\u001b[?25hRequirement already satisfied: pandas>=0.23.4 in /usr/local/lib/python3.7/dist-packages (from camelot-py[cv]) (1.1.5)\n",
            "Requirement already satisfied: numpy>=1.13.3 in /usr/local/lib/python3.7/dist-packages (from camelot-py[cv]) (1.19.5)\n",
            "Requirement already satisfied: chardet>=3.0.4 in /usr/local/lib/python3.7/dist-packages (from camelot-py[cv]) (3.0.4)\n",
            "Requirement already satisfied: openpyxl>=2.5.8 in /usr/local/lib/python3.7/dist-packages (from camelot-py[cv]) (2.5.9)\n",
            "Collecting pdfminer.six>=20200726\n",
            "\u001b[?25l  Downloading https://files.pythonhosted.org/packages/93/f3/4fec7dabe8802ebec46141345bf714cd1fc7d93cb74ddde917e4b6d97d88/pdfminer.six-20201018-py3-none-any.whl (5.6MB)\n",
            "\u001b[K     |████████████████████████████████| 5.6MB 5.0MB/s \n",
            "\u001b[?25hRequirement already satisfied: click>=6.7 in /usr/local/lib/python3.7/dist-packages (from camelot-py[cv]) (7.1.2)\n",
            "Collecting PyPDF2>=1.26.0\n",
            "\u001b[?25l  Downloading https://files.pythonhosted.org/packages/b4/01/68fcc0d43daf4c6bdbc6b33cc3f77bda531c86b174cac56ef0ffdb96faab/PyPDF2-1.26.0.tar.gz (77kB)\n",
            "\u001b[K     |████████████████████████████████| 81kB 4.2MB/s \n",
            "\u001b[?25hRequirement already satisfied: opencv-python>=3.4.2.17; extra == \"cv\" in /usr/local/lib/python3.7/dist-packages (from camelot-py[cv]) (4.1.2.30)\n",
            "Requirement already satisfied: python-dateutil>=2.7.3 in /usr/local/lib/python3.7/dist-packages (from pandas>=0.23.4->camelot-py[cv]) (2.8.1)\n",
            "Requirement already satisfied: pytz>=2017.2 in /usr/local/lib/python3.7/dist-packages (from pandas>=0.23.4->camelot-py[cv]) (2018.9)\n",
            "Requirement already satisfied: jdcal in /usr/local/lib/python3.7/dist-packages (from openpyxl>=2.5.8->camelot-py[cv]) (1.4.1)\n",
            "Requirement already satisfied: et-xmlfile in /usr/local/lib/python3.7/dist-packages (from openpyxl>=2.5.8->camelot-py[cv]) (1.1.0)\n",
            "Requirement already satisfied: sortedcontainers in /usr/local/lib/python3.7/dist-packages (from pdfminer.six>=20200726->camelot-py[cv]) (2.4.0)\n",
            "Collecting cryptography\n",
            "\u001b[?25l  Downloading https://files.pythonhosted.org/packages/b2/26/7af637e6a7e87258b963f1731c5982fb31cd507f0d90d91836e446955d02/cryptography-3.4.7-cp36-abi3-manylinux2014_x86_64.whl (3.2MB)\n",
            "\u001b[K     |████████████████████████████████| 3.2MB 37.8MB/s \n",
            "\u001b[?25hRequirement already satisfied: six>=1.5 in /usr/local/lib/python3.7/dist-packages (from python-dateutil>=2.7.3->pandas>=0.23.4->camelot-py[cv]) (1.15.0)\n",
            "Requirement already satisfied: cffi>=1.12 in /usr/local/lib/python3.7/dist-packages (from cryptography->pdfminer.six>=20200726->camelot-py[cv]) (1.14.5)\n",
            "Requirement already satisfied: pycparser in /usr/local/lib/python3.7/dist-packages (from cffi>=1.12->cryptography->pdfminer.six>=20200726->camelot-py[cv]) (2.20)\n",
            "Building wheels for collected packages: PyPDF2\n",
            "  Building wheel for PyPDF2 (setup.py) ... \u001b[?25l\u001b[?25hdone\n",
            "  Created wheel for PyPDF2: filename=PyPDF2-1.26.0-cp37-none-any.whl size=61085 sha256=8788eff7b63c3301456cac1e4ad310a364ff8288ee758a1edd0d1ec32b0c0cbc\n",
            "  Stored in directory: /root/.cache/pip/wheels/53/84/19/35bc977c8bf5f0c23a8a011aa958acd4da4bbd7a229315c1b7\n",
            "Successfully built PyPDF2\n",
            "Installing collected packages: cryptography, pdfminer.six, PyPDF2, camelot-py\n",
            "Successfully installed PyPDF2-1.26.0 camelot-py-0.8.2 cryptography-3.4.7 pdfminer.six-20201018\n"
          ],
          "name": "stdout"
        }
      ]
    },
    {
      "cell_type": "code",
      "metadata": {
        "id": "VVyB-HZOQ4B8"
      },
      "source": [
        "import camelot\n",
        "import pandas as pd"
      ],
      "execution_count": 3,
      "outputs": []
    },
    {
      "cell_type": "code",
      "metadata": {
        "id": "s8qjs2KaQ0or"
      },
      "source": [
        "tables = camelot.read_pdf(\"data.pdf\", pages=\"2-end\", split_text=True)\n",
        "\n",
        "df = pd.concat([table.df for table in tables])\n",
        "\n",
        "df.to_csv(\"data.csv\", encoding=\"utf_8_sig\", index=False, header=False)"
      ],
      "execution_count": 4,
      "outputs": []
    },
    {
      "cell_type": "markdown",
      "metadata": {
        "id": "WPaMXApiJ8l2"
      },
      "source": [
        "# ダウンロード"
      ]
    },
    {
      "cell_type": "code",
      "metadata": {
        "id": "0UrGUovIJ3L_"
      },
      "source": [
        "from google.colab import files"
      ],
      "execution_count": null,
      "outputs": []
    },
    {
      "cell_type": "code",
      "metadata": {
        "id": "agQaDzy4J5uB"
      },
      "source": [
        "files.download(\"data.csv\")"
      ],
      "execution_count": null,
      "outputs": []
    },
    {
      "cell_type": "markdown",
      "metadata": {
        "id": "7nhRNxrzKCR5"
      },
      "source": [
        "# 前処理"
      ]
    },
    {
      "cell_type": "code",
      "metadata": {
        "id": "Q1mX4NRTXZY-"
      },
      "source": [
        "df0 = pd.read_csv(\"data.csv\", dtype=\"object\").fillna(\"\")"
      ],
      "execution_count": 5,
      "outputs": []
    },
    {
      "cell_type": "code",
      "metadata": {
        "colab": {
          "base_uri": "https://localhost:8080/"
        },
        "id": "5d1PZWNXZDMX",
        "outputId": "8aa5cdf8-7f42-475e-b6f9-6c7f7c9efdaa"
      },
      "source": [
        "df0.info()"
      ],
      "execution_count": 6,
      "outputs": [
        {
          "output_type": "stream",
          "text": [
            "<class 'pandas.core.frame.DataFrame'>\n",
            "RangeIndex: 7298 entries, 0 to 7297\n",
            "Data columns (total 14 columns):\n",
            " #   Column         Non-Null Count  Dtype \n",
            "---  ------         --------------  ----- \n",
            " 0   No             7298 non-null   object\n",
            " 1   年齢             7298 non-null   object\n",
            " 2   性別             7298 non-null   object\n",
            " 3   接種日            7298 non-null   object\n",
            " 4   発生日            7298 non-null   object\n",
            " 5   接種から\n",
            "発生までの\n",
            "日数  7298 non-null   object\n",
            " 6   ワクチン名          7298 non-null   object\n",
            " 7   製造販売業者         7298 non-null   object\n",
            " 8   ロット番\n",
            "号         7298 non-null   object\n",
            " 9   症状名（PT名）       7298 non-null   object\n",
            " 10  因果関係\n",
            "（報告医評価）   7298 non-null   object\n",
            " 11  重篤度\n",
            "（報告医評価）    7298 non-null   object\n",
            " 12  転帰日            7298 non-null   object\n",
            " 13  転帰内容           7298 non-null   object\n",
            "dtypes: object(14)\n",
            "memory usage: 798.3+ KB\n"
          ],
          "name": "stdout"
        }
      ]
    },
    {
      "cell_type": "code",
      "metadata": {
        "id": "DzykbWkDXfgx"
      },
      "source": [
        "df0.columns = df0.columns.str.replace(\"\\n\", \"\")"
      ],
      "execution_count": 7,
      "outputs": []
    },
    {
      "cell_type": "code",
      "metadata": {
        "id": "dlmvhu4WXfdV"
      },
      "source": [
        "df0[\"No\"] = df0[\"No\"].str.replace(\"※[１-９]\", \"\").str.strip().astype(int)"
      ],
      "execution_count": 8,
      "outputs": []
    },
    {
      "cell_type": "code",
      "metadata": {
        "id": "8VYbwVgFxLUV"
      },
      "source": [
        "df0.set_index(\"No\", inplace=True)"
      ],
      "execution_count": 9,
      "outputs": []
    },
    {
      "cell_type": "code",
      "metadata": {
        "id": "uIznjAa6zz8s"
      },
      "source": [
        "df0[\"年齢\"] = df0[\"年齢\"].str.rstrip(\"歳\")\n",
        "df0[\"年齢\"] = df0[\"年齢\"].mask(df0[\"年齢\"] == \"\").astype(float).astype(\"Int64\")"
      ],
      "execution_count": 10,
      "outputs": []
    },
    {
      "cell_type": "code",
      "metadata": {
        "id": "XGyykwyr13bu"
      },
      "source": [
        "df0[\"性別\"] = df0[\"性別\"].replace({\"\": \"不明\"})"
      ],
      "execution_count": 11,
      "outputs": []
    },
    {
      "cell_type": "code",
      "metadata": {
        "id": "3n5BFG9mwlXb"
      },
      "source": [
        "df1 = df0.copy()"
      ],
      "execution_count": 12,
      "outputs": []
    },
    {
      "cell_type": "markdown",
      "metadata": {
        "id": "HyPfcAcp_YC6"
      },
      "source": [
        "# 症状別報告件数"
      ]
    },
    {
      "cell_type": "code",
      "metadata": {
        "id": "xcq0BSJazCUd"
      },
      "source": [
        "def symptoms(df1):\n",
        "\n",
        "    df2 = (\n",
        "        df1[\"症状名（PT名）\"]\n",
        "        .str.replace(\"\\s\", \"\")\n",
        "        .str.extractall(\"(.+?)（(.+?)）\")\n",
        "        .rename(columns={0: \"症状名\", 1: \"PT名\"})\n",
        "        .reset_index()\n",
        "        .rename(columns={\"level_0\": \"No\"})\n",
        "    )\n",
        "\n",
        "    df3 = df2.loc[:, [\"No\", \"症状名\"]].join(df2[\"PT名\"].str.split(\"|\", expand=True))\n",
        "\n",
        "    df4 = (\n",
        "        pd.melt(df3, id_vars=[\"No\", \"症状名\"])\n",
        "        .dropna(subset=[\"value\"])\n",
        "        .drop(\"variable\", axis=1)\n",
        "        .rename(columns={\"value\": \"PT名\"})\n",
        "        .reset_index(drop=True)\n",
        "    )\n",
        "\n",
        "    df4[\"症状\"] = df4[\"症状名\"] + \"（\" + df4[\"PT名\"] + \"）\"\n",
        "\n",
        "    df4[\"症状\"].value_counts().to_csv(\"症状別報告件数.csv\", encoding=\"utf_8_sig\")\n",
        "\n",
        "symptoms(df1)"
      ],
      "execution_count": 13,
      "outputs": []
    },
    {
      "cell_type": "markdown",
      "metadata": {
        "id": "_EMBpZKE_wXU"
      },
      "source": [
        "# アナフィラキシー"
      ]
    },
    {
      "cell_type": "code",
      "metadata": {
        "colab": {
          "base_uri": "https://localhost:8080/"
        },
        "id": "9_At8OHs_y4a",
        "outputId": "59d04c60-5267-4fcb-809c-fade025b7edf"
      },
      "source": [
        "df1[\"症状名（PT名）\"].str.contains(\"アナフィラキシー\").sum()"
      ],
      "execution_count": 14,
      "outputs": [
        {
          "output_type": "execute_result",
          "data": {
            "text/plain": [
              "994"
            ]
          },
          "metadata": {
            "tags": []
          },
          "execution_count": 14
        }
      ]
    },
    {
      "cell_type": "markdown",
      "metadata": {
        "id": "I7u_D399-8JZ"
      },
      "source": [
        "# 性別"
      ]
    },
    {
      "cell_type": "code",
      "metadata": {
        "colab": {
          "base_uri": "https://localhost:8080/"
        },
        "id": "LrGVweoG2sKU",
        "outputId": "82502d3a-1a4d-4426-d08b-02ddcb041732"
      },
      "source": [
        "# 性別 副反応疑い報告数\n",
        "df1[\"性別\"].value_counts()"
      ],
      "execution_count": 15,
      "outputs": [
        {
          "output_type": "execute_result",
          "data": {
            "text/plain": [
              "女性    6048\n",
              "男性    1241\n",
              "不明       9\n",
              "Name: 性別, dtype: int64"
            ]
          },
          "metadata": {
            "tags": []
          },
          "execution_count": 15
        }
      ]
    },
    {
      "cell_type": "code",
      "metadata": {
        "colab": {
          "base_uri": "https://localhost:8080/"
        },
        "id": "Ofd2HPrHpugJ",
        "outputId": "cb4e92ca-e380-435d-c334-72b802c1d1a0"
      },
      "source": [
        "# 性別 重篤報告数\n",
        "df1.loc[df1[\"重篤度（報告医評価）\"] == \"重い\", \"性別\"].value_counts()"
      ],
      "execution_count": 16,
      "outputs": [
        {
          "output_type": "execute_result",
          "data": {
            "text/plain": [
              "女性    705\n",
              "男性    139\n",
              "不明      2\n",
              "Name: 性別, dtype: int64"
            ]
          },
          "metadata": {
            "tags": []
          },
          "execution_count": 16
        }
      ]
    },
    {
      "cell_type": "code",
      "metadata": {
        "colab": {
          "base_uri": "https://localhost:8080/"
        },
        "id": "SEMNM9p920qV",
        "outputId": "0cb434f1-ca54-4dc4-90be-fdc78bd6721e"
      },
      "source": [
        "# 性別 死亡報告数\n",
        "df1.loc[df1[\"転帰内容\"].str.contains(\"死亡\"), \"性別\"].value_counts()"
      ],
      "execution_count": 17,
      "outputs": [
        {
          "output_type": "execute_result",
          "data": {
            "text/plain": [
              "女性    29\n",
              "男性    23\n",
              "Name: 性別, dtype: int64"
            ]
          },
          "metadata": {
            "tags": []
          },
          "execution_count": 17
        }
      ]
    },
    {
      "cell_type": "markdown",
      "metadata": {
        "id": "dxp0mP6M-0M1"
      },
      "source": [
        "# 年齢別"
      ]
    },
    {
      "cell_type": "code",
      "metadata": {
        "id": "KPdcKw7G48K7"
      },
      "source": [
        "labels = [\n",
        "    \"0～9歳\",\n",
        "    \"10～19歳\",\n",
        "    \"20～29歳\",\n",
        "    \"30～39歳\",\n",
        "    \"40～49歳\",\n",
        "    \"50～59歳\",\n",
        "    \"60～69歳\",\n",
        "    \"70～79歳\",\n",
        "    \"80歳以上\",\n",
        "]"
      ],
      "execution_count": 18,
      "outputs": []
    },
    {
      "cell_type": "code",
      "metadata": {
        "id": "nV0Eqwdh5Kcc"
      },
      "source": [
        "df1[\"年代\"] = pd.cut(\n",
        "    df1[\"年齢\"],\n",
        "    [0, 10, 20, 30, 40, 50, 60, 70, 80, 120],\n",
        "    include_lowest=True,\n",
        "    right=False,\n",
        "    labels=labels,\n",
        ").astype(str)"
      ],
      "execution_count": 19,
      "outputs": []
    },
    {
      "cell_type": "code",
      "metadata": {
        "id": "uWGiKLaU6Btj"
      },
      "source": [
        "df1[\"年代\"] = df1[\"年代\"].mask(df1[\"年齢\"].isnull(), \"不明\")"
      ],
      "execution_count": 20,
      "outputs": []
    },
    {
      "cell_type": "code",
      "metadata": {
        "colab": {
          "base_uri": "https://localhost:8080/"
        },
        "id": "Gx4CzQLu5W-6",
        "outputId": "47581354-bfdb-4ce4-f107-c5439c914167"
      },
      "source": [
        "# 年齢別副反応疑い報告数\n",
        "df1[\"年代\"].value_counts().reindex(labels + [\"不明\"]).fillna(0).astype(int)"
      ],
      "execution_count": 21,
      "outputs": [
        {
          "output_type": "execute_result",
          "data": {
            "text/plain": [
              "0～9歳         0\n",
              "10～19歳      41\n",
              "20～29歳    1491\n",
              "30～39歳    1724\n",
              "40～49歳    2063\n",
              "50～59歳    1363\n",
              "60～69歳     403\n",
              "70～79歳      90\n",
              "80歳以上      121\n",
              "不明           2\n",
              "Name: 年代, dtype: int64"
            ]
          },
          "metadata": {
            "tags": []
          },
          "execution_count": 21
        }
      ]
    },
    {
      "cell_type": "code",
      "metadata": {
        "colab": {
          "base_uri": "https://localhost:8080/"
        },
        "id": "XLM-GkPg9ALU",
        "outputId": "92939168-5377-4651-f0b9-7538dd099818"
      },
      "source": [
        "# 年齢別重篤報告数\n",
        "df1.loc[df1[\"重篤度（報告医評価）\"] == \"重い\", \"年代\"].value_counts().reindex(labels + [\"不明\"]).fillna(0).astype(int)"
      ],
      "execution_count": 22,
      "outputs": [
        {
          "output_type": "execute_result",
          "data": {
            "text/plain": [
              "0～9歳        0\n",
              "10～19歳      5\n",
              "20～29歳    149\n",
              "30～39歳    197\n",
              "40～49歳    246\n",
              "50～59歳    152\n",
              "60～69歳     38\n",
              "70～79歳     20\n",
              "80歳以上      37\n",
              "不明          2\n",
              "Name: 年代, dtype: int64"
            ]
          },
          "metadata": {
            "tags": []
          },
          "execution_count": 22
        }
      ]
    },
    {
      "cell_type": "code",
      "metadata": {
        "colab": {
          "base_uri": "https://localhost:8080/"
        },
        "id": "kzHYkL3lm77e",
        "outputId": "277e1d6c-38ae-40a2-faa2-59ff24b3846f"
      },
      "source": [
        "# 年齢別死亡報告数\n",
        "df1.loc[df1[\"転帰内容\"].str.contains(\"死亡\"), \"年代\"].value_counts().reindex(labels + [\"不明\"]).fillna(0).astype(int)"
      ],
      "execution_count": 23,
      "outputs": [
        {
          "output_type": "execute_result",
          "data": {
            "text/plain": [
              "0～9歳       0\n",
              "10～19歳     0\n",
              "20～29歳     3\n",
              "30～39歳     1\n",
              "40～49歳     5\n",
              "50～59歳     4\n",
              "60～69歳     6\n",
              "70～79歳    10\n",
              "80歳以上     23\n",
              "不明         0\n",
              "Name: 年代, dtype: int64"
            ]
          },
          "metadata": {
            "tags": []
          },
          "execution_count": 23
        }
      ]
    }
  ]
}