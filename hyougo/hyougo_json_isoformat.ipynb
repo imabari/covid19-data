{
  "nbformat": 4,
  "nbformat_minor": 0,
  "metadata": {
    "colab": {
      "name": "hyougo_json-isoformat.ipynb",
      "provenance": [],
      "collapsed_sections": [],
      "toc_visible": true,
      "include_colab_link": true
    },
    "kernelspec": {
      "name": "python3",
      "display_name": "Python 3"
    }
  },
  "cells": [
    {
      "cell_type": "markdown",
      "metadata": {
        "id": "view-in-github",
        "colab_type": "text"
      },
      "source": [
        "<a href=\"https://colab.research.google.com/github/imabari/covid19-data/blob/master/hyougo/hyougo_json_isoformat.ipynb\" target=\"_parent\"><img src=\"https://colab.research.google.com/assets/colab-badge.svg\" alt=\"Open In Colab\"/></a>"
      ]
    },
    {
      "cell_type": "code",
      "metadata": {
        "id": "l9PRH1px56P3",
        "colab_type": "code",
        "colab": {
          "base_uri": "https://localhost:8080/",
          "height": 35
        },
        "outputId": "a3254b09-f7ff-4d9a-dfdf-e4cca495244d"
      },
      "source": [
        "!pip install jsonschema"
      ],
      "execution_count": 187,
      "outputs": [
        {
          "output_type": "stream",
          "text": [
            "Requirement already satisfied: jsonschema in /usr/local/lib/python3.6/dist-packages (2.6.0)\n"
          ],
          "name": "stdout"
        }
      ]
    },
    {
      "cell_type": "code",
      "metadata": {
        "id": "yRXkkxa-dr4G",
        "colab_type": "code",
        "colab": {
          "base_uri": "https://localhost:8080/",
          "height": 89
        },
        "outputId": "7bea6b10-8057-4916-8875-7141577f6084"
      },
      "source": [
        "!pip install pycurl\n",
        "!pip install retry"
      ],
      "execution_count": 188,
      "outputs": [
        {
          "output_type": "stream",
          "text": [
            "Requirement already satisfied: pycurl in /usr/local/lib/python3.6/dist-packages (7.43.0.5)\n",
            "Requirement already satisfied: retry in /usr/local/lib/python3.6/dist-packages (0.9.2)\n",
            "Requirement already satisfied: decorator>=3.4.2 in /usr/local/lib/python3.6/dist-packages (from retry) (4.4.2)\n",
            "Requirement already satisfied: py<2.0.0,>=1.4.26 in /usr/local/lib/python3.6/dist-packages (from retry) (1.9.0)\n"
          ],
          "name": "stdout"
        }
      ]
    },
    {
      "cell_type": "code",
      "metadata": {
        "id": "55BT72KZeIvu",
        "colab_type": "code",
        "colab": {}
      },
      "source": [
        "PCR_XLSX = \"https://web.pref.hyogo.lg.jp/kk03/documents/pcr.xlsx\"\n",
        "YOUSEI_XLSX = \"https://web.pref.hyogo.lg.jp/kk03/documents/yousei.xlsx\"\n",
        "KANJA_HTML = \"https://web.pref.hyogo.lg.jp/kk03/corona_kanjyajyokyo.html\"\n",
        "\n",
        "DOWNLOAD_DIR = \"download\"\n",
        "DATA_DIR = \"data\""
      ],
      "execution_count": 189,
      "outputs": []
    },
    {
      "cell_type": "code",
      "metadata": {
        "id": "nslK3ecQeb0u",
        "colab_type": "code",
        "colab": {}
      },
      "source": [
        "from retry import retry\n",
        "import pathlib"
      ],
      "execution_count": 190,
      "outputs": []
    },
    {
      "cell_type": "markdown",
      "metadata": {
        "id": "9JQQ0bZHBL33",
        "colab_type": "text"
      },
      "source": [
        "# ダウンロード"
      ]
    },
    {
      "cell_type": "code",
      "metadata": {
        "id": "N1Pbfu-Ddsdv",
        "colab_type": "code",
        "colab": {}
      },
      "source": [
        "@retry(tries=5, delay=5, backoff=3)\n",
        "def get_file(url, dir=\".\"):\n",
        "\n",
        "    r = requests.get(url)\n",
        "\n",
        "    p = pathlib.Path(dir, pathlib.PurePath(url).name)\n",
        "    p.parent.mkdir(parents=True, exist_ok=True)\n",
        "\n",
        "    with p.open(mode=\"wb\") as fw:\n",
        "        fw.write(r.content)\n",
        "\n",
        "    return p"
      ],
      "execution_count": 191,
      "outputs": []
    },
    {
      "cell_type": "markdown",
      "metadata": {
        "id": "qhcpLl5vDICg",
        "colab_type": "text"
      },
      "source": [
        "# SCHEMA"
      ]
    },
    {
      "cell_type": "code",
      "metadata": {
        "id": "Xoc8NSP4DP2t",
        "colab_type": "code",
        "colab": {}
      },
      "source": [
        "AGE_SCHEMA = {\n",
        "    \"$schema\": \"http://json-schema.org/draft-07/schema#\",\n",
        "    \"type\": \"object\",\n",
        "    \"properties\": {\n",
        "        \"data\": {\n",
        "            \"type\": \"object\",\n",
        "            \"additionalProperties\": {\n",
        "                \"default\": 0,\n",
        "                \"type\": \"integer\"\n",
        "            }\n",
        "        },\n",
        "        \"last_update\": {\n",
        "            \"format\": \"date-time\",\n",
        "            \"type\": \"string\"\n",
        "        }\n",
        "    },\n",
        "    \"required\": [\n",
        "        \"data\",\n",
        "        \"last_update\"\n",
        "    ],\n",
        "}"
      ],
      "execution_count": 192,
      "outputs": []
    },
    {
      "cell_type": "code",
      "metadata": {
        "id": "TlJpnZuUDP5k",
        "colab_type": "code",
        "colab": {}
      },
      "source": [
        "AGE_SUMMARY_SCHEMA = {\n",
        "    \"$schema\": \"http://json-schema.org/draft-07/schema#\",\n",
        "    \"type\": \"object\",\n",
        "    \"additionalProperties\": False,\n",
        "    \"properties\": {\n",
        "        \"data\": {\n",
        "            \"type\": \"object\",\n",
        "            \"additionalProperties\": {\n",
        "                \"type\": \"array\",\n",
        "                \"items\": {\"default\": 0, \"type\": \"integer\"},\n",
        "            },\n",
        "        },\n",
        "        \"labels\": {\n",
        "            \"type\": \"array\",\n",
        "            \"items\": {\"pattern\": \"^[0-9]{1,2}/[0-9]{1,2}$\", \"type\": \"string\"},\n",
        "        },\n",
        "        \"last_update\": {\n",
        "            \"format\": \"date-time\",\n",
        "            \"type\": \"string\",\n",
        "        },\n",
        "    },\n",
        "    \"required\": [\"data\", \"labels\", \"last_update\"],\n",
        "}"
      ],
      "execution_count": 193,
      "outputs": []
    },
    {
      "cell_type": "code",
      "metadata": {
        "id": "dLwTO18NYG8G",
        "colab_type": "code",
        "colab": {}
      },
      "source": [
        "CLUSTERS_SCHEMA = {\n",
        "    \"$schema\": \"http://json-schema.org/draft-07/schema#\",\n",
        "    \"type\": \"object\",\n",
        "    \"additionalProperties\": False,\n",
        "    \"properties\": {\n",
        "        \"data\": {\n",
        "            \"type\": \"array\",\n",
        "            \"items\": {\n",
        "                \"type\": \"object\",\n",
        "                \"oneOf\": [\n",
        "                    {\n",
        "                        \"properties\": {\"日付\": {\"type\": \"string\", \"format\": \"date-time\"}},\n",
        "                    },\n",
        "                    {\n",
        "                        \"additionalProperties\": {\"type\": \"integer\"},\n",
        "                    }\n",
        "                ],\n",
        "            },\n",
        "        },\n",
        "        \"last_update\": {\"type\": \"string\", \"format\": \"date-time\"},\n",
        "    },\n",
        "    \"required\": [\"data\", \"last_update\"],\n",
        "}"
      ],
      "execution_count": 194,
      "outputs": []
    },
    {
      "cell_type": "code",
      "metadata": {
        "id": "--P3YaJDDQDE",
        "colab_type": "code",
        "colab": {}
      },
      "source": [
        "CLUSTERS_SUMMARY_SCHEMA = {\n",
        "    \"$schema\": \"http://json-schema.org/draft-07/schema#\",\n",
        "    \"type\": \"object\",\n",
        "    \"additionalProperties\": False,\n",
        "    \"properties\": {\n",
        "        \"data\": {\n",
        "            \"type\": \"object\",\n",
        "            \"additionalProperties\": {\"default\": 0, \"type\": \"integer\"},\n",
        "        },\n",
        "        \"last_update\": {\n",
        "            \"format\": \"date-time\",\n",
        "            \"type\": \"string\",\n",
        "        },\n",
        "    },\n",
        "    \"required\": [\"data\", \"last_update\"],\n",
        "}"
      ],
      "execution_count": 195,
      "outputs": []
    },
    {
      "cell_type": "code",
      "metadata": {
        "id": "qdnNk3-Uuhhe",
        "colab_type": "code",
        "colab": {}
      },
      "source": [
        "INSPECTIONS_SCHEMA = {\n",
        "    \"$schema\": \"http://json-schema.org/draft-07/schema#\",\n",
        "    \"type\": \"object\",\n",
        "    \"additionalProperties\": False,\n",
        "    \"properties\": {\n",
        "        \"data\": {\n",
        "            \"type\": \"array\",\n",
        "            \"items\": {\n",
        "                \"type\": \"object\",\n",
        "                \"additionalProperties\": False,\n",
        "                \"properties\": {\n",
        "                    \"判明日\": {\"type\": \"string\", \"format\": \"date\"},\n",
        "                    \"地方衛生研究所等\": {\"type\": \"integer\"},\n",
        "                    \"民間検査機関等\": {\n",
        "                        \"type\": \"object\",\n",
        "                        \"additionalProperties\": {\"type\": \"integer\"},\n",
        "                    },\n",
        "                    \"陽性確認\": {\"type\": \"integer\"},\n",
        "                },\n",
        "                \"required\": [\"判明日\", \"地方衛生研究所等\", \"民間検査機関等\", \"陽性確認\"],\n",
        "            },\n",
        "        },\n",
        "        \"last_update\": {\"type\": \"string\", \"format\": \"date-time\"},\n",
        "    },\n",
        "    \"required\": [\"data\", \"last_update\"],\n",
        "}"
      ],
      "execution_count": 196,
      "outputs": []
    },
    {
      "cell_type": "code",
      "metadata": {
        "id": "iT0ZZYuJDPwh",
        "colab_type": "code",
        "colab": {}
      },
      "source": [
        "INSPECTIONS_SUMMARY_SCHEMA = {\n",
        "    \"$schema\": \"http://json-schema.org/draft-07/schema#\",\n",
        "    \"type\": \"object\",\n",
        "    \"additionalProperties\": False,\n",
        "    \"properties\": {\n",
        "        \"data\": {\n",
        "            \"type\": \"object\",\n",
        "            \"additionalProperties\": {\n",
        "                \"type\": \"array\",\n",
        "                \"items\": {\"default\": 0, \"type\": \"integer\"},\n",
        "            },\n",
        "        },\n",
        "        \"labels\": {\n",
        "            \"type\": \"array\",\n",
        "            \"items\": {\"pattern\": r\"^[0-9]{1,2}/[0-9]{1,2}$\", \"type\": \"string\"},\n",
        "        },\n",
        "        \"last_update\": {\n",
        "            \"format\": \"date-time\",\n",
        "            \"type\": \"string\",\n",
        "        },\n",
        "    },\n",
        "    \"required\": [\"data\", \"labels\", \"last_update\"],\n",
        "}"
      ],
      "execution_count": 197,
      "outputs": []
    },
    {
      "cell_type": "code",
      "metadata": {
        "id": "8mEE9K1mC20P",
        "colab_type": "code",
        "colab": {}
      },
      "source": [
        "MAIN_SUMMARY_SCHEMA = {\n",
        "    \"$schema\": \"http://json-schema.org/draft-06/schema#\",\n",
        "    \"$ref\": \"#/definitions/Main\",\n",
        "    \"definitions\": {\n",
        "        \"Main\": {\n",
        "            \"type\": \"object\",\n",
        "            \"additionalProperties\": False,\n",
        "            \"properties\": {\n",
        "                \"attr\": {\"type\": \"string\"},\n",
        "                \"value\": {\"type\": \"integer\", \"default\": 0},\n",
        "                \"children\": {\n",
        "                    \"type\": \"array\",\n",
        "                    \"items\": {\"$ref\": \"#/definitions/Inspections\"},\n",
        "                },\n",
        "                \"last_update\": {\n",
        "                    \"format\": \"date-time\",\n",
        "                    \"type\": \"string\",\n",
        "                },\n",
        "            },\n",
        "            \"required\": [\"attr\", \"children\", \"last_update\", \"value\"],\n",
        "            \"title\": \"Main\",\n",
        "        },\n",
        "        \"Inspections\": {\n",
        "            \"type\": \"object\",\n",
        "            \"additionalProperties\": False,\n",
        "            \"properties\": {\n",
        "                \"attr\": {\"type\": \"string\"},\n",
        "                \"value\": {\"type\": \"integer\", \"default\": 0},\n",
        "                \"children\": {\n",
        "                    \"type\": \"array\",\n",
        "                    \"items\": {\"$ref\": \"#/definitions/Patients\"},\n",
        "                },\n",
        "            },\n",
        "            \"required\": [\"attr\", \"children\", \"value\"],\n",
        "            \"title\": \"Inspections\",\n",
        "        },\n",
        "        \"Patients\": {\n",
        "            \"type\": \"object\",\n",
        "            \"additionalProperties\": False,\n",
        "            \"properties\": {\n",
        "                \"attr\": {\"type\": \"string\"},\n",
        "                \"value\": {\"type\": \"integer\", \"default\": 0},\n",
        "                \"children\": {\n",
        "                    \"type\": \"array\",\n",
        "                    \"items\": {\"$ref\": \"#/definitions/Symptoms\"},\n",
        "                },\n",
        "            },\n",
        "            \"required\": [\"attr\", \"value\"],\n",
        "            \"title\": \"Patients\",\n",
        "        },\n",
        "        \"Symptoms\": {\n",
        "            \"type\": \"object\",\n",
        "            \"additionalProperties\": False,\n",
        "            \"properties\": {\n",
        "                \"attr\": {\"type\": \"string\"},\n",
        "                \"value\": {\"type\": \"integer\", \"default\": 0},\n",
        "            },\n",
        "            \"required\": [\"attr\", \"value\"],\n",
        "            \"title\": \"Symptoms\",\n",
        "        },\n",
        "    },\n",
        "}"
      ],
      "execution_count": 198,
      "outputs": []
    },
    {
      "cell_type": "code",
      "metadata": {
        "id": "hBEq8Iv4DP_2",
        "colab_type": "code",
        "colab": {}
      },
      "source": [
        "PATIENTS_SCHEMA = {\n",
        "    \"$schema\": \"http://json-schema.org/draft-07/schema#\",\n",
        "    \"$ref\": \"#/definitions/Main\",\n",
        "    \"definitions\": {\n",
        "        \"Main\": {\n",
        "            \"type\": \"object\",\n",
        "            \"additionalProperties\": False,\n",
        "            \"properties\": {\n",
        "                \"data\": {\"type\": \"array\", \"items\": {\"$ref\": \"#/definitions/Datum\"}},\n",
        "                \"last_update\": {\"type\": \"string\"},\n",
        "            },\n",
        "            \"required\": [\"data\", \"last_update\"],\n",
        "            \"title\": \"Main\",\n",
        "        },\n",
        "        \"Datum\": {\n",
        "            \"type\": \"object\",\n",
        "            \"additionalProperties\": False,\n",
        "            \"properties\": {\n",
        "                \"No\": {\"type\": \"integer\"},\n",
        "                \"居住地\": {\"type\": \"string\", \"pattern\": \"(都|道|府|県|市|区|町|村|市内|市外|事務所管内|調査中)$\",},\n",
        "                \"年代\": {\"$ref\": \"#/definitions/Age\"},\n",
        "                \"性別\": {\"$ref\": \"#/definitions/Sex\"},\n",
        "                \"備考\": {\"type\": \"string\"},\n",
        "                \"退院\": {\"type\": \"null\"},\n",
        "                \"date\": {\"type\": \"string\", \"format\": \"date\"},\n",
        "                \"リリース日\": {\"type\": \"string\", \"format\": \"date\"},\n",
        "                \"曜日\": {\"$ref\": \"#/definitions/Week\"},\n",
        "            },\n",
        "            \"required\": [\"date\", \"リリース日\", \"備考\", \"居住地\", \"年代\", \"性別\", \"曜日\", \"No\", \"退院\"],\n",
        "            \"title\": \"Datum\",\n",
        "        },\n",
        "        \"Age\": {\n",
        "            \"type\": \"string\",\n",
        "            \"enum\": [\n",
        "                \"10歳未満\",\n",
        "                \"10代\",\n",
        "                \"20代\",\n",
        "                \"30代\",\n",
        "                \"40代\",\n",
        "                \"50代\",\n",
        "                \"60代\",\n",
        "                \"70代\",\n",
        "                \"80代\",\n",
        "                \"90歳以上\",\n",
        "                \"非公表\",\n",
        "            ],\n",
        "            \"title\": \"Age\",\n",
        "        },\n",
        "        \"Sex\": {\"type\": \"string\", \"enum\": [\"男性\", \"女性\", \"非公表\"], \"title\": \"Sex\"},\n",
        "        \"Week\": {\n",
        "            \"type\": \"string\",\n",
        "            \"enum\": [\"月\", \"火\", \"水\", \"木\", \"金\", \"土\", \"日\"],\n",
        "            \"title\": \"Week\",\n",
        "        },\n",
        "    },\n",
        "}"
      ],
      "execution_count": 199,
      "outputs": []
    },
    {
      "cell_type": "code",
      "metadata": {
        "id": "_b3I-Z95DP8s",
        "colab_type": "code",
        "colab": {}
      },
      "source": [
        "PATIENTS_SUMMARY_SCHEMA = {\n",
        "    \"$schema\": \"http://json-schema.org/draft-07/schema#\",\n",
        "    \"type\": \"object\",\n",
        "    \"additionalProperties\": False,\n",
        "    \"properties\": {\n",
        "        \"data\": {\n",
        "            \"type\": \"array\",\n",
        "            \"items\": {\n",
        "                \"type\": \"object\",\n",
        "                \"additionalProperties\": False,\n",
        "                \"properties\": {\n",
        "                    \"日付\": {\"type\": \"string\", \"format\": \"date\"},\n",
        "                    \"小計\": {\"default\": 0, \"type\": \"integer\"},\n",
        "                },\n",
        "                \"required\": [\"小計\", \"日付\"],\n",
        "            },\n",
        "        },\n",
        "        \"last_update\": {\n",
        "            \"format\": \"date-time\",\n",
        "            \"type\": \"string\",\n",
        "        },\n",
        "    },\n",
        "    \"required\": [\"data\", \"last_update\"],\n",
        "}"
      ],
      "execution_count": 200,
      "outputs": []
    },
    {
      "cell_type": "markdown",
      "metadata": {
        "id": "O7HqGFL7BbdW",
        "colab_type": "text"
      },
      "source": [
        "# データラングリング"
      ]
    },
    {
      "cell_type": "code",
      "metadata": {
        "id": "pD01Cc3nA_Lz",
        "colab_type": "code",
        "colab": {}
      },
      "source": [
        "import datetime\n",
        "import json\n",
        "\n",
        "import jsonschema\n",
        "import pandas as pd\n",
        "import requests"
      ],
      "execution_count": 201,
      "outputs": []
    },
    {
      "cell_type": "code",
      "metadata": {
        "id": "by7pxgiFgtxW",
        "colab_type": "code",
        "colab": {}
      },
      "source": [
        "from bs4 import BeautifulSoup\n",
        "from urllib.parse import urljoin"
      ],
      "execution_count": 202,
      "outputs": []
    },
    {
      "cell_type": "code",
      "metadata": {
        "id": "E02siZKr5663",
        "colab_type": "code",
        "colab": {}
      },
      "source": [
        "def dumps_json(file_name, json_data, dir=DATA_DIR):\n",
        "\n",
        "    p = pathlib.Path(dir, file_name)\n",
        "\n",
        "    p.parent.mkdir(parents=True, exist_ok=True)\n",
        "\n",
        "    with p.open(mode=\"w\") as fw:\n",
        "        json.dump(json_data, fw, ensure_ascii=False, indent=4)"
      ],
      "execution_count": 203,
      "outputs": []
    },
    {
      "cell_type": "code",
      "metadata": {
        "id": "UDR_y1oO57D8",
        "colab_type": "code",
        "colab": {}
      },
      "source": [
        "def json_check(fn, d):\n",
        "\n",
        "    r = requests.get(\n",
        "        \"https://raw.githubusercontent.com/stop-covid19-hyogo/covid19-scraping/gh-pages/\"\n",
        "        + fn\n",
        "    )\n",
        "\n",
        "    result = d == r.json()\n",
        "\n",
        "    if not result:\n",
        "\n",
        "        print(fn)"
      ],
      "execution_count": 204,
      "outputs": []
    },
    {
      "cell_type": "code",
      "metadata": {
        "id": "AHrrm4nZasLI",
        "colab_type": "code",
        "colab": {}
      },
      "source": [
        "# 最終更新日\n",
        "JST = datetime.timezone(datetime.timedelta(hours=+9))\n",
        "dt_now = datetime.datetime.now(JST)"
      ],
      "execution_count": 205,
      "outputs": []
    },
    {
      "cell_type": "code",
      "metadata": {
        "id": "-AbIt9nnbig3",
        "colab_type": "code",
        "colab": {}
      },
      "source": [
        "last_update = dt_now.replace(hour=0, minute=0, second=0, microsecond=0)\n",
        "# last_update -= datetime.timedelta(days=1)"
      ],
      "execution_count": 206,
      "outputs": []
    },
    {
      "cell_type": "markdown",
      "metadata": {
        "id": "_1pbVpuxCDXm",
        "colab_type": "text"
      },
      "source": [
        "## pcr.xlsx"
      ]
    },
    {
      "cell_type": "code",
      "metadata": {
        "id": "Io18c4WKfF9v",
        "colab_type": "code",
        "colab": {}
      },
      "source": [
        "pcr_path = get_file(PCR_XLSX, DOWNLOAD_DIR)"
      ],
      "execution_count": 207,
      "outputs": []
    },
    {
      "cell_type": "code",
      "metadata": {
        "id": "E3FQSlBaBz4N",
        "colab_type": "code",
        "colab": {}
      },
      "source": [
        "df_pcr = pd.read_excel(pcr_path, index_col=\"年月日\").fillna(0).astype(int)"
      ],
      "execution_count": 208,
      "outputs": []
    },
    {
      "cell_type": "code",
      "metadata": {
        "id": "VGowyWJ-bjdX",
        "colab_type": "code",
        "colab": {}
      },
      "source": [
        "df_pcr.rename(\n",
        "    columns={\n",
        "        \"検査件数（合計）\": \"合計\",\n",
        "        \"うち地方衛生研究所等によるPCR検査件数\": \"地方衛生研究所等\",\n",
        "        \"うち民間検査機関等によるPCR検査件数\": \"民間検査機関等_PCR検査\",\n",
        "        \"うち民間検査機関等による抗原検査件数\": \"民間検査機関等_抗原検査\",\n",
        "        \"陽性件数\": \"陽性確認\",\n",
        "    },\n",
        "    inplace=True,\n",
        ")"
      ],
      "execution_count": 209,
      "outputs": []
    },
    {
      "cell_type": "code",
      "metadata": {
        "id": "ld_yiP2R6bbw",
        "colab_type": "code",
        "colab": {}
      },
      "source": [
        "df_pcr[\"民間検査機関等\"] = df_pcr[\"民間検査機関等_PCR検査\"] + df_pcr[\"民間検査機関等_抗原検査\"] "
      ],
      "execution_count": 210,
      "outputs": []
    },
    {
      "cell_type": "code",
      "metadata": {
        "id": "M7o21i2BZPnG",
        "colab_type": "code",
        "colab": {}
      },
      "source": [
        "df_pcr[\"日付\"] = df_pcr.index.map(lambda d: pd.Timestamp(d, tz='Asia/Tokyo').isoformat())"
      ],
      "execution_count": 211,
      "outputs": []
    },
    {
      "cell_type": "code",
      "metadata": {
        "id": "merlZmH60wZm",
        "colab_type": "code",
        "colab": {}
      },
      "source": [
        "df_pcr.to_csv(\"pcr.tsv\", sep=\"\\t\")"
      ],
      "execution_count": 212,
      "outputs": []
    },
    {
      "cell_type": "code",
      "metadata": {
        "id": "BKjuTqsaBz6_",
        "colab_type": "code",
        "colab": {}
      },
      "source": [
        "# inspections_summary\n",
        "\n",
        "df_insp_sum = df_pcr.loc[:, [\"地方衛生研究所等\", \"民間検査機関等\"]].copy()\n",
        "\n",
        "labels = df_insp_sum.index.map(lambda x: f\"{x.month}/{x.day}\")"
      ],
      "execution_count": 213,
      "outputs": []
    },
    {
      "cell_type": "code",
      "metadata": {
        "id": "Bat9wxoSCfWf",
        "colab_type": "code",
        "colab": {}
      },
      "source": [
        "inspections_summary = {\n",
        "    \"data\": df_insp_sum.to_dict(orient=\"list\"),\n",
        "    \"labels\": labels.tolist(),\n",
        "    \"last_update\": last_update.isoformat(),\n",
        "}"
      ],
      "execution_count": 214,
      "outputs": []
    },
    {
      "cell_type": "code",
      "metadata": {
        "id": "rYnfrPiYCVOb",
        "colab_type": "code",
        "colab": {}
      },
      "source": [
        "jsonschema.validate(inspections_summary, INSPECTIONS_SUMMARY_SCHEMA)\n",
        "\n",
        "dumps_json(\"inspections_summary.json\", inspections_summary)"
      ],
      "execution_count": 215,
      "outputs": []
    },
    {
      "cell_type": "code",
      "metadata": {
        "id": "zcGyFB9TtN0H",
        "colab_type": "code",
        "colab": {}
      },
      "source": [
        "# inspections\n",
        "\n",
        "df_insp = df_pcr.loc[:, [\"地方衛生研究所等\", \"民間検査機関等_PCR検査\", \"民間検査機関等_抗原検査\", \"陽性確認\"]].copy()\n",
        "df_insp[\"判明日\"] = df_insp.index.strftime(\"%Y-%m-%d\")"
      ],
      "execution_count": 216,
      "outputs": []
    },
    {
      "cell_type": "code",
      "metadata": {
        "id": "nxwsrQ768e9H",
        "colab_type": "code",
        "colab": {}
      },
      "source": [
        "df_insp.sort_index(inplace=True)"
      ],
      "execution_count": 217,
      "outputs": []
    },
    {
      "cell_type": "code",
      "metadata": {
        "id": "4c3RVjtr7iU-",
        "colab_type": "code",
        "colab": {}
      },
      "source": [
        "insp_dict = [\n",
        "    {\n",
        "        \"判明日\": row[\"判明日\"],\n",
        "        \"地方衛生研究所等\": row[\"地方衛生研究所等\"],\n",
        "        \"民間検査機関等\": {\"PCR検査\": row[\"民間検査機関等_PCR検査\"], \"抗原検査\": row[\"民間検査機関等_抗原検査\"]},\n",
        "        \"陽性確認\": row[\"陽性確認\"],\n",
        "    }\n",
        "    for _, row in df_insp.iterrows()\n",
        "]"
      ],
      "execution_count": 218,
      "outputs": []
    },
    {
      "cell_type": "code",
      "metadata": {
        "id": "NAMFCmGzt3Nv",
        "colab_type": "code",
        "colab": {}
      },
      "source": [
        "inspections = {\n",
        "    \"data\": insp_dict,\n",
        "    \"last_update\": last_update.isoformat(),\n",
        "}"
      ],
      "execution_count": 219,
      "outputs": []
    },
    {
      "cell_type": "code",
      "metadata": {
        "id": "qNaEiQYgt851",
        "colab_type": "code",
        "colab": {}
      },
      "source": [
        "# jsonschema.validate(inspections, INSPECTIONS_SCHEMA)\n",
        "dumps_json(\"inspections.json\", inspections)"
      ],
      "execution_count": 220,
      "outputs": []
    },
    {
      "cell_type": "code",
      "metadata": {
        "id": "r1MYAu9yBz97",
        "colab_type": "code",
        "colab": {}
      },
      "source": [
        "# parent_summary\n",
        "\n",
        "df_pts = df_pcr.loc[:, [\"日付\", \"陽性確認\"]].copy()\n",
        "\n",
        "df_pts.rename(columns={\"陽性確認\": \"小計\"}, inplace=True)"
      ],
      "execution_count": 221,
      "outputs": []
    },
    {
      "cell_type": "code",
      "metadata": {
        "id": "IpH_cQcECj24",
        "colab_type": "code",
        "colab": {}
      },
      "source": [
        "patients_summary = {\n",
        "    \"data\": df_pts.to_dict(orient=\"records\"),\n",
        "    \"last_update\": last_update.isoformat(),\n",
        "}"
      ],
      "execution_count": 222,
      "outputs": []
    },
    {
      "cell_type": "code",
      "metadata": {
        "id": "nkGEW1SaCj83",
        "colab_type": "code",
        "colab": {}
      },
      "source": [
        "jsonschema.validate(patients_summary, PATIENTS_SUMMARY_SCHEMA)\n",
        "\n",
        "dumps_json(\"patients_summary.json\", patients_summary)"
      ],
      "execution_count": 223,
      "outputs": []
    },
    {
      "cell_type": "markdown",
      "metadata": {
        "id": "EXKm4d_sDzrI",
        "colab_type": "text"
      },
      "source": [
        "## kanjya.xlsx"
      ]
    },
    {
      "cell_type": "code",
      "metadata": {
        "id": "OABVe2Prf3du",
        "colab_type": "code",
        "colab": {}
      },
      "source": [
        "p = get_file(KANJA_HTML, DOWNLOAD_DIR)\n",
        "\n",
        "soup = BeautifulSoup(p.open(encoding='utf-8'), \"html.parser\")"
      ],
      "execution_count": 224,
      "outputs": []
    },
    {
      "cell_type": "code",
      "metadata": {
        "id": "fquaSlsChfCX",
        "colab_type": "code",
        "colab": {}
      },
      "source": [
        "tag = soup.find(\"a\", class_=\"icon_excel\")\n",
        "\n",
        "link = urljoin(KANJA_HTML, tag.get(\"href\"))"
      ],
      "execution_count": 225,
      "outputs": []
    },
    {
      "cell_type": "code",
      "metadata": {
        "id": "jfk6xIa2fXhm",
        "colab_type": "code",
        "colab": {}
      },
      "source": [
        "kanja_path = get_file(link, DOWNLOAD_DIR)"
      ],
      "execution_count": 226,
      "outputs": []
    },
    {
      "cell_type": "code",
      "metadata": {
        "id": "qxpb3vYZCkAP",
        "colab_type": "code",
        "colab": {}
      },
      "source": [
        "df_head = pd.read_excel(kanja_path, header=None, skiprows=3).dropna(how=\"all\", axis=1)\n",
        "\n",
        "df_head.columns = [\"\".join(i).strip() for i in df_head.head(2).fillna(\"\").T.values]\n",
        "df_tmp = df_head.iloc[2:, :].copy().reset_index(drop=True)\n",
        "\n",
        "df_kanja = df_tmp[df_tmp[\"番号\"].notnull()].copy()\n",
        "\n",
        "df_kanja.dropna(how=\"all\", axis=1, inplace=True)\n",
        "\n",
        "df_kanja.columns = df_kanja.columns.map(lambda s: s.replace(\"\\n\", \"\"))\n",
        "\n",
        "df_kanja[\"番号\"] = df_kanja[\"番号\"].astype(int)\n",
        "df_kanja[\"年代\"] = df_kanja[\"年代\"].astype(str)\n",
        "df_kanja[\"年代\"] = df_kanja[\"年代\"].replace({\"10?[歳代]未満\": \"10歳未満\", \"90\": \"90歳以上\", \"([1-8]0$)\": r\"\\1代\"}, regex=True)\n",
        "\n",
        "flg_is_serial = df_kanja[\"発表日\"].astype(\"str\").str.isdigit()\n",
        "\n",
        "fromSerial = pd.to_datetime(df_kanja.loc[flg_is_serial, \"発表日\"].astype(float), unit=\"D\", origin=pd.Timestamp(\"1899/12/30\"))\n",
        "fromString = pd.to_datetime(df_kanja.loc[~flg_is_serial, \"発表日\"])\n",
        "\n",
        "df_kanja[\"発表日\"] = pd.concat([fromString, fromSerial])\n",
        "\n",
        "df_kanja[\"備考欄\"] = df_kanja[\"備考欄\"].str.replace(\"\\n\", \"\")\n",
        "\n",
        "df_kanja.set_index(\"番号\", inplace=True)"
      ],
      "execution_count": 227,
      "outputs": []
    },
    {
      "cell_type": "code",
      "metadata": {
        "id": "J-0H6NmSaHt8",
        "colab_type": "code",
        "colab": {}
      },
      "source": [
        "# 欠番\n",
        "df_kanja = df_kanja.drop(738)"
      ],
      "execution_count": 228,
      "outputs": []
    },
    {
      "cell_type": "code",
      "metadata": {
        "id": "vnCzl3fKq4Ft",
        "colab_type": "code",
        "colab": {
          "base_uri": "https://localhost:8080/",
          "height": 805
        },
        "outputId": "d9f5d294-8ab0-4875-d411-d0aa6dafd587"
      },
      "source": [
        "# 居住地確認\n",
        "df_kanja[\"居住地\"].value_counts()"
      ],
      "execution_count": 229,
      "outputs": [
        {
          "output_type": "execute_result",
          "data": {
            "text/plain": [
              "神戸市             337\n",
              "西宮市             153\n",
              "尼崎市             115\n",
              "調査中             111\n",
              "伊丹健康福祉事務所管内      84\n",
              "姫路市              72\n",
              "宝塚市              54\n",
              "芦屋市              43\n",
              "伊丹市              39\n",
              "明石市              29\n",
              "加古川市             27\n",
              "川西市              19\n",
              "宝塚健康福祉事務所管内      18\n",
              "三田市              17\n",
              "加東健康福祉事務所管内      17\n",
              "稲美町              15\n",
              "神戸市外             14\n",
              "西宮市外             11\n",
              "高砂市              11\n",
              "淡路市               9\n",
              "大阪市               6\n",
              "丹波健康福祉事務所管内       6\n",
              "芦屋健康福祉事務所管内       5\n",
              "洲本健康福祉事務所管内       4\n",
              "加古川健康事務所管内        4\n",
              "赤穂健康福祉事務所管内       3\n",
              "赤穂市               3\n",
              "中播磨健康福祉事務所管内      3\n",
              "大阪府               3\n",
              "龍野健康福祉事務所管内       3\n",
              "三木市               2\n",
              "西脇市               2\n",
              "加西市               2\n",
              "東京都               2\n",
              "神戸市内              1\n",
              "丹波市               1\n",
              "会社員               1\n",
              "播磨町               1\n",
              "朝来健康福祉事務所管内       1\n",
              "福崎町               1\n",
              "加東市               1\n",
              "猪名川町              1\n",
              "南あわじ市             1\n",
              "Name: 居住地, dtype: int64"
            ]
          },
          "metadata": {
            "tags": []
          },
          "execution_count": 229
        }
      ]
    },
    {
      "cell_type": "code",
      "metadata": {
        "id": "-rBVMlHItpuP",
        "colab_type": "code",
        "colab": {}
      },
      "source": [
        "nlist = df_kanja.loc[~df_kanja[\"居住地\"].str.endswith((\"都\", \"道\", \"府\", \"県\", \"市\", \"区\", \"町\", \"村\", \"市内\", \"市外\", \"事務所管内\")) & ~(df_kanja[\"居住地\"] == \"調査中\"), \"居住地\"].unique()"
      ],
      "execution_count": 230,
      "outputs": []
    },
    {
      "cell_type": "code",
      "metadata": {
        "id": "SoULiXmjyEbj",
        "colab_type": "code",
        "colab": {
          "base_uri": "https://localhost:8080/",
          "height": 375
        },
        "outputId": "50c13b04-96ee-4d5b-9dbf-06fc0fc648d4"
      },
      "source": [
        "df_kanja[df_kanja[\"居住地\"].isin(nlist)]"
      ],
      "execution_count": 231,
      "outputs": [
        {
          "output_type": "execute_result",
          "data": {
            "text/html": [
              "<div>\n",
              "<style scoped>\n",
              "    .dataframe tbody tr th:only-of-type {\n",
              "        vertical-align: middle;\n",
              "    }\n",
              "\n",
              "    .dataframe tbody tr th {\n",
              "        vertical-align: top;\n",
              "    }\n",
              "\n",
              "    .dataframe thead th {\n",
              "        text-align: right;\n",
              "    }\n",
              "</style>\n",
              "<table border=\"1\" class=\"dataframe\">\n",
              "  <thead>\n",
              "    <tr style=\"text-align: right;\">\n",
              "      <th></th>\n",
              "      <th>発表日</th>\n",
              "      <th>年代</th>\n",
              "      <th>性別</th>\n",
              "      <th>管轄</th>\n",
              "      <th>居住地</th>\n",
              "      <th>職業</th>\n",
              "      <th>発症日</th>\n",
              "      <th>渡航歴</th>\n",
              "      <th>備考欄</th>\n",
              "      <th>認定こども園</th>\n",
              "      <th>北播磨総合医療センター</th>\n",
              "      <th>宝塚第一病院</th>\n",
              "      <th>仁恵病院</th>\n",
              "      <th>神戸市中央市民病院</th>\n",
              "      <th>神戸赤十字病院</th>\n",
              "      <th>神戸西警察署</th>\n",
              "      <th>神戸市環境局</th>\n",
              "      <th>グリーンアルス関係</th>\n",
              "      <th>介護保険通所事業所</th>\n",
              "      <th>ライブ関係</th>\n",
              "      <th>海外渡航関係</th>\n",
              "      <th>その他</th>\n",
              "      <th>行動歴調査中</th>\n",
              "      <th>特定できず</th>\n",
              "      <th></th>\n",
              "    </tr>\n",
              "    <tr>\n",
              "      <th>番号</th>\n",
              "      <th></th>\n",
              "      <th></th>\n",
              "      <th></th>\n",
              "      <th></th>\n",
              "      <th></th>\n",
              "      <th></th>\n",
              "      <th></th>\n",
              "      <th></th>\n",
              "      <th></th>\n",
              "      <th></th>\n",
              "      <th></th>\n",
              "      <th></th>\n",
              "      <th></th>\n",
              "      <th></th>\n",
              "      <th></th>\n",
              "      <th></th>\n",
              "      <th></th>\n",
              "      <th></th>\n",
              "      <th></th>\n",
              "      <th></th>\n",
              "      <th></th>\n",
              "      <th></th>\n",
              "      <th></th>\n",
              "      <th></th>\n",
              "      <th></th>\n",
              "    </tr>\n",
              "  </thead>\n",
              "  <tbody>\n",
              "    <tr>\n",
              "      <th>829</th>\n",
              "      <td>2020-07-19</td>\n",
              "      <td>20代</td>\n",
              "      <td>女性</td>\n",
              "      <td>尼崎</td>\n",
              "      <td>会社員</td>\n",
              "      <td>尼崎市</td>\n",
              "      <td>44025</td>\n",
              "      <td>なし</td>\n",
              "      <td>行動歴調査中</td>\n",
              "      <td>NaN</td>\n",
              "      <td>NaN</td>\n",
              "      <td>NaN</td>\n",
              "      <td>NaN</td>\n",
              "      <td>NaN</td>\n",
              "      <td>NaN</td>\n",
              "      <td>NaN</td>\n",
              "      <td>NaN</td>\n",
              "      <td>NaN</td>\n",
              "      <td>NaN</td>\n",
              "      <td>NaN</td>\n",
              "      <td>NaN</td>\n",
              "      <td>NaN</td>\n",
              "      <td>○</td>\n",
              "      <td>NaN</td>\n",
              "      <td>NaN</td>\n",
              "    </tr>\n",
              "  </tbody>\n",
              "</table>\n",
              "</div>"
            ],
            "text/plain": [
              "           発表日   年代  性別  管轄  居住地   職業  ... ライブ関係 海外渡航関係  その他 行動歴調査中 特定できず    \n",
              "番号                                     ...                                   \n",
              "829 2020-07-19  20代  女性  尼崎  会社員  尼崎市  ...   NaN    NaN  NaN      ○   NaN NaN\n",
              "\n",
              "[1 rows x 25 columns]"
            ]
          },
          "metadata": {
            "tags": []
          },
          "execution_count": 231
        }
      ]
    },
    {
      "cell_type": "code",
      "metadata": {
        "id": "fYk_jK-Pz8__",
        "colab_type": "code",
        "colab": {}
      },
      "source": [
        "s = df_kanja[\"居住地\"].mask(df_kanja[\"居住地\"].isin(nlist) & df_kanja[\"職業\"].str.endswith((\"都\", \"道\", \"府\", \"県\", \"市\", \"区\", \"町\", \"村\", \"市内\", \"市外\", \"事務所管内\")), df_kanja[\"職業\"])\n",
        "df_kanja[\"職業\"] = df_kanja[\"職業\"].mask(df_kanja[\"居住地\"].isin(nlist), df_kanja[\"居住地\"])\n",
        "df_kanja[\"居住地\"] = s"
      ],
      "execution_count": 232,
      "outputs": []
    },
    {
      "cell_type": "code",
      "metadata": {
        "id": "EOcy78R2Dwv3",
        "colab_type": "code",
        "colab": {}
      },
      "source": [
        "df_kanja.to_csv(\"kanja.tsv\", sep=\"\\t\")"
      ],
      "execution_count": 233,
      "outputs": []
    },
    {
      "cell_type": "code",
      "metadata": {
        "id": "wgIuFlPBDwy8",
        "colab_type": "code",
        "colab": {
          "base_uri": "https://localhost:8080/",
          "height": 35
        },
        "outputId": "a4f60f86-bb32-46c2-d4f1-8cf1a841f419"
      },
      "source": [
        "# 陽性患者数（累計）\n",
        "\n",
        "len(df_kanja)"
      ],
      "execution_count": 234,
      "outputs": [
        {
          "output_type": "execute_result",
          "data": {
            "text/plain": [
              "1252"
            ]
          },
          "metadata": {
            "tags": []
          },
          "execution_count": 234
        }
      ]
    },
    {
      "cell_type": "code",
      "metadata": {
        "id": "hNahpt-pDw2L",
        "colab_type": "code",
        "colab": {
          "base_uri": "https://localhost:8080/",
          "height": 72
        },
        "outputId": "2a1a6e8c-7a70-48a1-dff3-aef4b065c909"
      },
      "source": [
        "# 陽性患者数（日別）\n",
        "\"\"\"\n",
        "df_pts = (\n",
        "    df_kanja[\"発表日\"]\n",
        "    .value_counts()\n",
        "    .sort_index()\n",
        "    .asfreq(\"D\", fill_value=0)\n",
        "    .reset_index()\n",
        ")\n",
        "\n",
        "df_pts[\"日付\"] = df_pts[\"index\"].dt.strftime(\"%Y-%m-%d\")\n",
        "\n",
        "df_pts.rename(columns={\"発表日\": \"小計\"}, inplace=True)\n",
        "\n",
        "df_pts.drop(\"index\", axis=1, inplace=True)\n",
        "\n",
        "df_pts\n",
        "\"\"\""
      ],
      "execution_count": 235,
      "outputs": [
        {
          "output_type": "execute_result",
          "data": {
            "application/vnd.google.colaboratory.intrinsic+json": {
              "type": "string"
            },
            "text/plain": [
              "'\\ndf_pts = (\\n    df_kanja[\"発表日\"]\\n    .value_counts()\\n    .sort_index()\\n    .asfreq(\"D\", fill_value=0)\\n    .reset_index()\\n)\\n\\ndf_pts[\"日付\"] = df_pts[\"index\"].dt.strftime(\"%Y-%m-%d\")\\n\\ndf_pts.rename(columns={\"発表日\": \"小計\"}, inplace=True)\\n\\ndf_pts.drop(\"index\", axis=1, inplace=True)\\n\\ndf_pts\\n'"
            ]
          },
          "metadata": {
            "tags": []
          },
          "execution_count": 235
        }
      ]
    },
    {
      "cell_type": "code",
      "metadata": {
        "id": "6C55vNCAEU9X",
        "colab_type": "code",
        "colab": {
          "base_uri": "https://localhost:8080/",
          "height": 54
        },
        "outputId": "06d2c671-18fd-4bac-a440-0defcd90fb6f"
      },
      "source": [
        "\"\"\"\n",
        "patients_summary = {\n",
        "    \"data\": df_pts.to_dict(orient=\"records\"),\n",
        "    \"last_update\": last_update.strftime(\"%Y-%m-%d %H:%M\"),\n",
        "}\n",
        "\"\"\""
      ],
      "execution_count": 236,
      "outputs": [
        {
          "output_type": "execute_result",
          "data": {
            "application/vnd.google.colaboratory.intrinsic+json": {
              "type": "string"
            },
            "text/plain": [
              "'\\npatients_summary = {\\n    \"data\": df_pts.to_dict(orient=\"records\"),\\n    \"last_update\": last_update.strftime(\"%Y-%m-%d %H:%M\"),\\n}\\n'"
            ]
          },
          "metadata": {
            "tags": []
          },
          "execution_count": 236
        }
      ]
    },
    {
      "cell_type": "code",
      "metadata": {
        "id": "iIkDdxn5Dw5i",
        "colab_type": "code",
        "colab": {}
      },
      "source": [
        "jsonschema.validate(patients_summary, PATIENTS_SUMMARY_SCHEMA)\n",
        "\n",
        "dumps_json(\"patients_summary.json\", patients_summary)"
      ],
      "execution_count": 237,
      "outputs": []
    },
    {
      "cell_type": "code",
      "metadata": {
        "id": "E48gD9ZtDw8Z",
        "colab_type": "code",
        "colab": {
          "base_uri": "https://localhost:8080/",
          "height": 528
        },
        "outputId": "008a9145-2ba2-45de-b314-1cc3149986f6"
      },
      "source": [
        "# 陽性患者情報\n",
        "\n",
        "df_pt = df_kanja.loc[:, [\"発表日\", \"居住地\", \"年代\", \"性別\", \"備考欄\"]].sort_index().reset_index()\n",
        "df_pt.head(10)\n",
        "\n",
        "df_pt[\"退院\"] = None\n",
        "\n",
        "df_pt[\"date\"] = df_pt[\"発表日\"].dt.strftime(\"%Y-%m-%d\")\n",
        "df_pt[\"リリース日\"] = df_pt[\"発表日\"].apply(lambda d: pd.Timestamp(d, tz='Asia/Tokyo').isoformat())\n",
        "\n",
        "week = [\"月\", \"火\", \"水\", \"木\", \"金\", \"土\", \"日\"]\n",
        "\n",
        "df_pt[\"曜日\"] = df_pt[\"発表日\"].dt.dayofweek.apply(lambda x: week[x])\n",
        "\n",
        "df_pt[\"備考欄\"] = df_pt[\"備考欄\"].str.replace(\"NO.|N0.|NO,|N0,|No,\", \"No.\")\n",
        "df_pt[\"備考欄\"] = df_pt[\"備考欄\"].str.replace(\"・\", \"、\")\n",
        "df_pt[\"備考欄\"] = df_pt[\"備考欄\"].fillna(\"\")\n",
        "df_pt.rename(columns={\"番号\": \"No\", \"備考欄\": \"備考\"}, inplace=True)\n",
        "\n",
        "df_pt.drop(\"発表日\", axis=1, inplace=True)\n",
        "\n",
        "df_pt"
      ],
      "execution_count": 238,
      "outputs": [
        {
          "output_type": "execute_result",
          "data": {
            "text/html": [
              "<div>\n",
              "<style scoped>\n",
              "    .dataframe tbody tr th:only-of-type {\n",
              "        vertical-align: middle;\n",
              "    }\n",
              "\n",
              "    .dataframe tbody tr th {\n",
              "        vertical-align: top;\n",
              "    }\n",
              "\n",
              "    .dataframe thead th {\n",
              "        text-align: right;\n",
              "    }\n",
              "</style>\n",
              "<table border=\"1\" class=\"dataframe\">\n",
              "  <thead>\n",
              "    <tr style=\"text-align: right;\">\n",
              "      <th></th>\n",
              "      <th>No</th>\n",
              "      <th>居住地</th>\n",
              "      <th>年代</th>\n",
              "      <th>性別</th>\n",
              "      <th>備考</th>\n",
              "      <th>退院</th>\n",
              "      <th>date</th>\n",
              "      <th>リリース日</th>\n",
              "      <th>曜日</th>\n",
              "    </tr>\n",
              "  </thead>\n",
              "  <tbody>\n",
              "    <tr>\n",
              "      <th>0</th>\n",
              "      <td>1</td>\n",
              "      <td>西宮市</td>\n",
              "      <td>40代</td>\n",
              "      <td>男性</td>\n",
              "      <td>特定できず</td>\n",
              "      <td>None</td>\n",
              "      <td>2020-03-01</td>\n",
              "      <td>2020-03-01T00:00:00+09:00</td>\n",
              "      <td>日</td>\n",
              "    </tr>\n",
              "    <tr>\n",
              "      <th>1</th>\n",
              "      <td>2</td>\n",
              "      <td>神戸市</td>\n",
              "      <td>40代</td>\n",
              "      <td>男性</td>\n",
              "      <td>感染経路確認済</td>\n",
              "      <td>None</td>\n",
              "      <td>2020-03-03</td>\n",
              "      <td>2020-03-03T00:00:00+09:00</td>\n",
              "      <td>火</td>\n",
              "    </tr>\n",
              "    <tr>\n",
              "      <th>2</th>\n",
              "      <td>3</td>\n",
              "      <td>神戸市</td>\n",
              "      <td>40代</td>\n",
              "      <td>女性</td>\n",
              "      <td>2/15、16に大阪のライブハウスArcに参加</td>\n",
              "      <td>None</td>\n",
              "      <td>2020-03-03</td>\n",
              "      <td>2020-03-03T00:00:00+09:00</td>\n",
              "      <td>火</td>\n",
              "    </tr>\n",
              "    <tr>\n",
              "      <th>3</th>\n",
              "      <td>4</td>\n",
              "      <td>福崎町</td>\n",
              "      <td>50代</td>\n",
              "      <td>女性</td>\n",
              "      <td>2/15、16に大阪のライブハウスArcに参加</td>\n",
              "      <td>None</td>\n",
              "      <td>2020-03-05</td>\n",
              "      <td>2020-03-05T00:00:00+09:00</td>\n",
              "      <td>木</td>\n",
              "    </tr>\n",
              "    <tr>\n",
              "      <th>4</th>\n",
              "      <td>5</td>\n",
              "      <td>姫路市</td>\n",
              "      <td>40代</td>\n",
              "      <td>男性</td>\n",
              "      <td>2/19に大阪のSoap operaライブに参加</td>\n",
              "      <td>None</td>\n",
              "      <td>2020-03-06</td>\n",
              "      <td>2020-03-06T00:00:00+09:00</td>\n",
              "      <td>金</td>\n",
              "    </tr>\n",
              "    <tr>\n",
              "      <th>...</th>\n",
              "      <td>...</td>\n",
              "      <td>...</td>\n",
              "      <td>...</td>\n",
              "      <td>...</td>\n",
              "      <td>...</td>\n",
              "      <td>...</td>\n",
              "      <td>...</td>\n",
              "      <td>...</td>\n",
              "      <td>...</td>\n",
              "    </tr>\n",
              "    <tr>\n",
              "      <th>1247</th>\n",
              "      <td>1249</td>\n",
              "      <td>宝塚市</td>\n",
              "      <td>30代</td>\n",
              "      <td>男性</td>\n",
              "      <td>行動歴調査中</td>\n",
              "      <td>None</td>\n",
              "      <td>2020-08-01</td>\n",
              "      <td>2020-08-01T00:00:00+09:00</td>\n",
              "      <td>土</td>\n",
              "    </tr>\n",
              "    <tr>\n",
              "      <th>1248</th>\n",
              "      <td>1250</td>\n",
              "      <td>伊丹市</td>\n",
              "      <td>90歳以上</td>\n",
              "      <td>女性</td>\n",
              "      <td>行動歴調査中</td>\n",
              "      <td>None</td>\n",
              "      <td>2020-08-01</td>\n",
              "      <td>2020-08-01T00:00:00+09:00</td>\n",
              "      <td>土</td>\n",
              "    </tr>\n",
              "    <tr>\n",
              "      <th>1249</th>\n",
              "      <td>1251</td>\n",
              "      <td>加古川健康事務所管内</td>\n",
              "      <td>60代</td>\n",
              "      <td>男性</td>\n",
              "      <td>行動歴調査中</td>\n",
              "      <td>None</td>\n",
              "      <td>2020-08-01</td>\n",
              "      <td>2020-08-01T00:00:00+09:00</td>\n",
              "      <td>土</td>\n",
              "    </tr>\n",
              "    <tr>\n",
              "      <th>1250</th>\n",
              "      <td>1252</td>\n",
              "      <td>明石市</td>\n",
              "      <td>20代</td>\n",
              "      <td>男性</td>\n",
              "      <td>陽性患者の濃厚接触者</td>\n",
              "      <td>None</td>\n",
              "      <td>2020-08-01</td>\n",
              "      <td>2020-08-01T00:00:00+09:00</td>\n",
              "      <td>土</td>\n",
              "    </tr>\n",
              "    <tr>\n",
              "      <th>1251</th>\n",
              "      <td>1253</td>\n",
              "      <td>朝来健康福祉事務所管内</td>\n",
              "      <td>60代</td>\n",
              "      <td>男性</td>\n",
              "      <td>行動歴調査中</td>\n",
              "      <td>None</td>\n",
              "      <td>2020-08-01</td>\n",
              "      <td>2020-08-01T00:00:00+09:00</td>\n",
              "      <td>土</td>\n",
              "    </tr>\n",
              "  </tbody>\n",
              "</table>\n",
              "<p>1252 rows × 9 columns</p>\n",
              "</div>"
            ],
            "text/plain": [
              "        No          居住地     年代  ...        date                      リリース日 曜日\n",
              "0        1          西宮市    40代  ...  2020-03-01  2020-03-01T00:00:00+09:00  日\n",
              "1        2          神戸市    40代  ...  2020-03-03  2020-03-03T00:00:00+09:00  火\n",
              "2        3          神戸市    40代  ...  2020-03-03  2020-03-03T00:00:00+09:00  火\n",
              "3        4          福崎町    50代  ...  2020-03-05  2020-03-05T00:00:00+09:00  木\n",
              "4        5          姫路市    40代  ...  2020-03-06  2020-03-06T00:00:00+09:00  金\n",
              "...    ...          ...    ...  ...         ...                        ... ..\n",
              "1247  1249          宝塚市    30代  ...  2020-08-01  2020-08-01T00:00:00+09:00  土\n",
              "1248  1250          伊丹市  90歳以上  ...  2020-08-01  2020-08-01T00:00:00+09:00  土\n",
              "1249  1251   加古川健康事務所管内    60代  ...  2020-08-01  2020-08-01T00:00:00+09:00  土\n",
              "1250  1252          明石市    20代  ...  2020-08-01  2020-08-01T00:00:00+09:00  土\n",
              "1251  1253  朝来健康福祉事務所管内    60代  ...  2020-08-01  2020-08-01T00:00:00+09:00  土\n",
              "\n",
              "[1252 rows x 9 columns]"
            ]
          },
          "metadata": {
            "tags": []
          },
          "execution_count": 238
        }
      ]
    },
    {
      "cell_type": "code",
      "metadata": {
        "id": "hsejNrMkEOIo",
        "colab_type": "code",
        "colab": {}
      },
      "source": [
        "patients = {\n",
        "    \"data\": df_pt.to_dict(orient=\"records\"),\n",
        "    \"last_update\": last_update.isoformat(),\n",
        "}"
      ],
      "execution_count": 239,
      "outputs": []
    },
    {
      "cell_type": "code",
      "metadata": {
        "id": "Dc8pW64x43wo",
        "colab_type": "code",
        "colab": {}
      },
      "source": [
        "jsonschema.validate(patients, PATIENTS_SCHEMA)\n",
        "\n",
        "dumps_json(\"patients.json\", patients)"
      ],
      "execution_count": 240,
      "outputs": []
    },
    {
      "cell_type": "code",
      "metadata": {
        "id": "ekQLzuX3EOOh",
        "colab_type": "code",
        "colab": {}
      },
      "source": [
        "# 年代集計\n",
        "\n",
        "age_list = [\"10歳未満\",\"10代\", \"20代\", \"30代\", \"40代\", \"50代\", \"60代\", \"70代\", \"80代\", \"90歳以上\", \"非公表\"]\n",
        "\n",
        "df_age = df_kanja[\"年代\"].value_counts().sort_index().reindex(age_list, fill_value=0)\n",
        "\n",
        "df_age = df_age.astype(int)"
      ],
      "execution_count": 241,
      "outputs": []
    },
    {
      "cell_type": "code",
      "metadata": {
        "id": "1mAAXEhjEORq",
        "colab_type": "code",
        "colab": {}
      },
      "source": [
        "age = {\n",
        "    \"data\": df_age.to_dict(),\n",
        "    \"last_update\": last_update.isoformat(),\n",
        "}"
      ],
      "execution_count": 242,
      "outputs": []
    },
    {
      "cell_type": "code",
      "metadata": {
        "id": "bWEsrIOKEOUq",
        "colab_type": "code",
        "colab": {}
      },
      "source": [
        "jsonschema.validate(age, AGE_SCHEMA)\n",
        "\n",
        "dumps_json(\"age.json\", age)"
      ],
      "execution_count": 243,
      "outputs": []
    },
    {
      "cell_type": "code",
      "metadata": {
        "id": "o4sLD-zdE4Pn",
        "colab_type": "code",
        "colab": {
          "base_uri": "https://localhost:8080/",
          "height": 455
        },
        "outputId": "b91f549e-0740-464c-baa1-f7197543f1d9"
      },
      "source": [
        "df_ages = pd.crosstab(df_kanja[\"発表日\"], df_kanja[\"年代\"]).reindex(\n",
        "    age_list, axis=1, fill_value=0\n",
        ")\n",
        "\n",
        "if df_pcr.index[-1] not in df_ages.index:\n",
        "    df_ages.loc[df_pcr.index[-1]] = 0\n",
        "\n",
        "df_ages = df_ages.astype(int)\n",
        "df_ages.sort_index(inplace=True)\n",
        "\n",
        "df_agesum = df_ages.asfreq(\"D\", fill_value=0)\n",
        "\n",
        "df_agesum"
      ],
      "execution_count": 244,
      "outputs": [
        {
          "output_type": "execute_result",
          "data": {
            "text/html": [
              "<div>\n",
              "<style scoped>\n",
              "    .dataframe tbody tr th:only-of-type {\n",
              "        vertical-align: middle;\n",
              "    }\n",
              "\n",
              "    .dataframe tbody tr th {\n",
              "        vertical-align: top;\n",
              "    }\n",
              "\n",
              "    .dataframe thead th {\n",
              "        text-align: right;\n",
              "    }\n",
              "</style>\n",
              "<table border=\"1\" class=\"dataframe\">\n",
              "  <thead>\n",
              "    <tr style=\"text-align: right;\">\n",
              "      <th>年代</th>\n",
              "      <th>10歳未満</th>\n",
              "      <th>10代</th>\n",
              "      <th>20代</th>\n",
              "      <th>30代</th>\n",
              "      <th>40代</th>\n",
              "      <th>50代</th>\n",
              "      <th>60代</th>\n",
              "      <th>70代</th>\n",
              "      <th>80代</th>\n",
              "      <th>90歳以上</th>\n",
              "      <th>非公表</th>\n",
              "    </tr>\n",
              "    <tr>\n",
              "      <th>発表日</th>\n",
              "      <th></th>\n",
              "      <th></th>\n",
              "      <th></th>\n",
              "      <th></th>\n",
              "      <th></th>\n",
              "      <th></th>\n",
              "      <th></th>\n",
              "      <th></th>\n",
              "      <th></th>\n",
              "      <th></th>\n",
              "      <th></th>\n",
              "    </tr>\n",
              "  </thead>\n",
              "  <tbody>\n",
              "    <tr>\n",
              "      <th>2020-03-01</th>\n",
              "      <td>0</td>\n",
              "      <td>0</td>\n",
              "      <td>0</td>\n",
              "      <td>0</td>\n",
              "      <td>1</td>\n",
              "      <td>0</td>\n",
              "      <td>0</td>\n",
              "      <td>0</td>\n",
              "      <td>0</td>\n",
              "      <td>0</td>\n",
              "      <td>0</td>\n",
              "    </tr>\n",
              "    <tr>\n",
              "      <th>2020-03-02</th>\n",
              "      <td>0</td>\n",
              "      <td>0</td>\n",
              "      <td>0</td>\n",
              "      <td>0</td>\n",
              "      <td>0</td>\n",
              "      <td>0</td>\n",
              "      <td>0</td>\n",
              "      <td>0</td>\n",
              "      <td>0</td>\n",
              "      <td>0</td>\n",
              "      <td>0</td>\n",
              "    </tr>\n",
              "    <tr>\n",
              "      <th>2020-03-03</th>\n",
              "      <td>0</td>\n",
              "      <td>0</td>\n",
              "      <td>0</td>\n",
              "      <td>0</td>\n",
              "      <td>2</td>\n",
              "      <td>0</td>\n",
              "      <td>0</td>\n",
              "      <td>0</td>\n",
              "      <td>0</td>\n",
              "      <td>0</td>\n",
              "      <td>0</td>\n",
              "    </tr>\n",
              "    <tr>\n",
              "      <th>2020-03-04</th>\n",
              "      <td>0</td>\n",
              "      <td>0</td>\n",
              "      <td>0</td>\n",
              "      <td>0</td>\n",
              "      <td>0</td>\n",
              "      <td>0</td>\n",
              "      <td>0</td>\n",
              "      <td>0</td>\n",
              "      <td>0</td>\n",
              "      <td>0</td>\n",
              "      <td>0</td>\n",
              "    </tr>\n",
              "    <tr>\n",
              "      <th>2020-03-05</th>\n",
              "      <td>0</td>\n",
              "      <td>0</td>\n",
              "      <td>0</td>\n",
              "      <td>0</td>\n",
              "      <td>0</td>\n",
              "      <td>1</td>\n",
              "      <td>0</td>\n",
              "      <td>0</td>\n",
              "      <td>0</td>\n",
              "      <td>0</td>\n",
              "      <td>0</td>\n",
              "    </tr>\n",
              "    <tr>\n",
              "      <th>...</th>\n",
              "      <td>...</td>\n",
              "      <td>...</td>\n",
              "      <td>...</td>\n",
              "      <td>...</td>\n",
              "      <td>...</td>\n",
              "      <td>...</td>\n",
              "      <td>...</td>\n",
              "      <td>...</td>\n",
              "      <td>...</td>\n",
              "      <td>...</td>\n",
              "      <td>...</td>\n",
              "    </tr>\n",
              "    <tr>\n",
              "      <th>2020-07-28</th>\n",
              "      <td>0</td>\n",
              "      <td>2</td>\n",
              "      <td>6</td>\n",
              "      <td>11</td>\n",
              "      <td>6</td>\n",
              "      <td>4</td>\n",
              "      <td>1</td>\n",
              "      <td>2</td>\n",
              "      <td>1</td>\n",
              "      <td>0</td>\n",
              "      <td>0</td>\n",
              "    </tr>\n",
              "    <tr>\n",
              "      <th>2020-07-29</th>\n",
              "      <td>5</td>\n",
              "      <td>2</td>\n",
              "      <td>14</td>\n",
              "      <td>3</td>\n",
              "      <td>9</td>\n",
              "      <td>6</td>\n",
              "      <td>5</td>\n",
              "      <td>0</td>\n",
              "      <td>1</td>\n",
              "      <td>0</td>\n",
              "      <td>1</td>\n",
              "    </tr>\n",
              "    <tr>\n",
              "      <th>2020-07-30</th>\n",
              "      <td>3</td>\n",
              "      <td>2</td>\n",
              "      <td>22</td>\n",
              "      <td>11</td>\n",
              "      <td>4</td>\n",
              "      <td>5</td>\n",
              "      <td>2</td>\n",
              "      <td>3</td>\n",
              "      <td>1</td>\n",
              "      <td>0</td>\n",
              "      <td>0</td>\n",
              "    </tr>\n",
              "    <tr>\n",
              "      <th>2020-07-31</th>\n",
              "      <td>0</td>\n",
              "      <td>6</td>\n",
              "      <td>26</td>\n",
              "      <td>6</td>\n",
              "      <td>13</td>\n",
              "      <td>7</td>\n",
              "      <td>1</td>\n",
              "      <td>3</td>\n",
              "      <td>0</td>\n",
              "      <td>0</td>\n",
              "      <td>0</td>\n",
              "    </tr>\n",
              "    <tr>\n",
              "      <th>2020-08-01</th>\n",
              "      <td>1</td>\n",
              "      <td>0</td>\n",
              "      <td>13</td>\n",
              "      <td>4</td>\n",
              "      <td>4</td>\n",
              "      <td>5</td>\n",
              "      <td>2</td>\n",
              "      <td>2</td>\n",
              "      <td>0</td>\n",
              "      <td>1</td>\n",
              "      <td>0</td>\n",
              "    </tr>\n",
              "  </tbody>\n",
              "</table>\n",
              "<p>154 rows × 11 columns</p>\n",
              "</div>"
            ],
            "text/plain": [
              "年代          10歳未満  10代  20代  30代  40代  50代  60代  70代  80代  90歳以上  非公表\n",
              "発表日                                                                  \n",
              "2020-03-01      0    0    0    0    1    0    0    0    0      0    0\n",
              "2020-03-02      0    0    0    0    0    0    0    0    0      0    0\n",
              "2020-03-03      0    0    0    0    2    0    0    0    0      0    0\n",
              "2020-03-04      0    0    0    0    0    0    0    0    0      0    0\n",
              "2020-03-05      0    0    0    0    0    1    0    0    0      0    0\n",
              "...           ...  ...  ...  ...  ...  ...  ...  ...  ...    ...  ...\n",
              "2020-07-28      0    2    6   11    6    4    1    2    1      0    0\n",
              "2020-07-29      5    2   14    3    9    6    5    0    1      0    1\n",
              "2020-07-30      3    2   22   11    4    5    2    3    1      0    0\n",
              "2020-07-31      0    6   26    6   13    7    1    3    0      0    0\n",
              "2020-08-01      1    0   13    4    4    5    2    2    0      1    0\n",
              "\n",
              "[154 rows x 11 columns]"
            ]
          },
          "metadata": {
            "tags": []
          },
          "execution_count": 244
        }
      ]
    },
    {
      "cell_type": "code",
      "metadata": {
        "id": "-7IURnJTE4Sr",
        "colab_type": "code",
        "colab": {}
      },
      "source": [
        "labels = df_agesum.index.map(lambda d: f\"{d.month}/{d.day}\")"
      ],
      "execution_count": 245,
      "outputs": []
    },
    {
      "cell_type": "code",
      "metadata": {
        "id": "fxzc9U1VE4Vm",
        "colab_type": "code",
        "colab": {}
      },
      "source": [
        "age_summary = {\n",
        "    \"data\": df_agesum.to_dict(orient=\"list\"),\n",
        "    \"labels\": labels.tolist(),\n",
        "    \"last_update\": last_update.isoformat(),\n",
        "}"
      ],
      "execution_count": 246,
      "outputs": []
    },
    {
      "cell_type": "code",
      "metadata": {
        "id": "aM6yKRUGE4Ym",
        "colab_type": "code",
        "colab": {}
      },
      "source": [
        "jsonschema.validate(age_summary, AGE_SUMMARY_SCHEMA)\n",
        "\n",
        "dumps_json(\"age_summary.json\", age_summary)"
      ],
      "execution_count": 247,
      "outputs": []
    },
    {
      "cell_type": "code",
      "metadata": {
        "id": "C6g7-wHoE4cO",
        "colab_type": "code",
        "colab": {}
      },
      "source": [
        "# クラスタ概要\n",
        "\n",
        "df_cluster_sum = df_kanja.loc[:, \"認定こども園\":\"特定できず\"].copy().notnull().sum()"
      ],
      "execution_count": 248,
      "outputs": []
    },
    {
      "cell_type": "code",
      "metadata": {
        "id": "wQ5pZ66YFMzb",
        "colab_type": "code",
        "colab": {}
      },
      "source": [
        "clusters_summary = {\n",
        "    \"data\": df_cluster_sum.to_dict(),\n",
        "    \"last_update\": last_update.isoformat(),\n",
        "}"
      ],
      "execution_count": 249,
      "outputs": []
    },
    {
      "cell_type": "code",
      "metadata": {
        "id": "kYoLUbXiFM2o",
        "colab_type": "code",
        "colab": {}
      },
      "source": [
        "jsonschema.validate(clusters_summary, CLUSTERS_SUMMARY_SCHEMA)\n",
        "\n",
        "dumps_json(\"clusters_summary.json\", clusters_summary)"
      ],
      "execution_count": 250,
      "outputs": []
    },
    {
      "cell_type": "code",
      "metadata": {
        "id": "56_J6al5FM5n",
        "colab_type": "code",
        "colab": {}
      },
      "source": [
        "# クラスタ\n",
        "\n",
        "df_clusters = df_kanja.loc[:, \"認定こども園\":\"特定できず\"].copy().fillna(0)"
      ],
      "execution_count": 251,
      "outputs": []
    },
    {
      "cell_type": "code",
      "metadata": {
        "id": "TXproIbA84q4",
        "colab_type": "code",
        "colab": {}
      },
      "source": [
        "df_clusters[df_clusters != 0] = 1"
      ],
      "execution_count": 252,
      "outputs": []
    },
    {
      "cell_type": "code",
      "metadata": {
        "id": "NgU1WgNG8h16",
        "colab_type": "code",
        "colab": {}
      },
      "source": [
        "df_clusters[\"発表日\"] = df_kanja[\"発表日\"]"
      ],
      "execution_count": 253,
      "outputs": []
    },
    {
      "cell_type": "code",
      "metadata": {
        "id": "Z330Et_P8BWj",
        "colab_type": "code",
        "colab": {}
      },
      "source": [
        "pv_clusters = df_clusters.pivot_table(index=\"発表日\", aggfunc=\"sum\")"
      ],
      "execution_count": 254,
      "outputs": []
    },
    {
      "cell_type": "code",
      "metadata": {
        "id": "aalNoxIkrmy8",
        "colab_type": "code",
        "colab": {}
      },
      "source": [
        "if df_pcr.index[-1] not in pv_clusters.index:\n",
        "    pv_clusters.loc[df_pcr.index[-1]] = 0\n",
        "\n",
        "pv_clusters.sort_index(inplace=True)"
      ],
      "execution_count": 255,
      "outputs": []
    },
    {
      "cell_type": "code",
      "metadata": {
        "id": "MKIjIVa47DL2",
        "colab_type": "code",
        "colab": {}
      },
      "source": [
        "pv_clusters = pv_clusters.asfreq(\"D\", fill_value=0)\n",
        "\n",
        "pv_clusters[\"日付\"] = pv_clusters.index.map(lambda d: pd.Timestamp(d, tz='Asia/Tokyo').isoformat())"
      ],
      "execution_count": 256,
      "outputs": []
    },
    {
      "cell_type": "code",
      "metadata": {
        "id": "uztyhc-JFM8-",
        "colab_type": "code",
        "colab": {}
      },
      "source": [
        "clusters = {\n",
        "    \"data\": pv_clusters.to_dict(orient=\"recodes\"),\n",
        "    \"last_update\": last_update.isoformat(),\n",
        "}"
      ],
      "execution_count": 257,
      "outputs": []
    },
    {
      "cell_type": "code",
      "metadata": {
        "id": "2jzMYwd0FUmB",
        "colab_type": "code",
        "colab": {}
      },
      "source": [
        "jsonschema.validate(clusters, CLUSTERS_SCHEMA)\n",
        "dumps_json(\"clusters.json\", clusters)"
      ],
      "execution_count": 258,
      "outputs": []
    },
    {
      "cell_type": "code",
      "metadata": {
        "id": "xKR55Q97Dw_Z",
        "colab_type": "code",
        "colab": {
          "base_uri": "https://localhost:8080/",
          "height": 35
        },
        "outputId": "370ab7b1-08d9-4bdf-9f67-d10d492f9233"
      },
      "source": [
        "# 重複者\n",
        "\n",
        "(df_kanja.loc[:, \"認定こども園\":].copy().notnull().sum(axis=1) > 1).sum()"
      ],
      "execution_count": 259,
      "outputs": [
        {
          "output_type": "execute_result",
          "data": {
            "text/plain": [
              "5"
            ]
          },
          "metadata": {
            "tags": []
          },
          "execution_count": 259
        }
      ]
    },
    {
      "cell_type": "markdown",
      "metadata": {
        "id": "gug1ffSBFixf",
        "colab_type": "text"
      },
      "source": [
        "## yousei.xlsx"
      ]
    },
    {
      "cell_type": "code",
      "metadata": {
        "id": "kODIiANyfhdN",
        "colab_type": "code",
        "colab": {}
      },
      "source": [
        "yousei_path = get_file(YOUSEI_XLSX, DOWNLOAD_DIR)"
      ],
      "execution_count": 260,
      "outputs": []
    },
    {
      "cell_type": "code",
      "metadata": {
        "id": "FgEnLr8pFhWI",
        "colab_type": "code",
        "colab": {
          "base_uri": "https://localhost:8080/",
          "height": 455
        },
        "outputId": "d15824b0-4cd5-4615-ea4f-e7a6ee2ea2fb"
      },
      "source": [
        "df_yousei = pd.read_excel(yousei_path, index_col=\"発表年月日\")\n",
        "\n",
        "df_yousei.columns = df_yousei.columns.map(lambda s: s.replace(\"（累計）\", \"\").strip())\n",
        "\n",
        "# df_yousei.index += pd.to_timedelta(\"1 days\")\n",
        "\n",
        "df_yousei.rename(columns={\"入院中（宿泊療養を含む）\": \"入院中\", \"中等症以下\": \"軽症・中等症\", \"陽性者数\": \"陽性患者数\"}, inplace=True)\n",
        "\n",
        "df_yousei.drop(\"発表時間\", axis=1, inplace=True)\n",
        "\n",
        "df_yousei"
      ],
      "execution_count": 261,
      "outputs": [
        {
          "output_type": "execute_result",
          "data": {
            "text/html": [
              "<div>\n",
              "<style scoped>\n",
              "    .dataframe tbody tr th:only-of-type {\n",
              "        vertical-align: middle;\n",
              "    }\n",
              "\n",
              "    .dataframe tbody tr th {\n",
              "        vertical-align: top;\n",
              "    }\n",
              "\n",
              "    .dataframe thead th {\n",
              "        text-align: right;\n",
              "    }\n",
              "</style>\n",
              "<table border=\"1\" class=\"dataframe\">\n",
              "  <thead>\n",
              "    <tr style=\"text-align: right;\">\n",
              "      <th></th>\n",
              "      <th>検査実施人数</th>\n",
              "      <th>陽性患者数</th>\n",
              "      <th>入院中</th>\n",
              "      <th>軽症・中等症</th>\n",
              "      <th>重症</th>\n",
              "      <th>死亡</th>\n",
              "      <th>退院</th>\n",
              "    </tr>\n",
              "    <tr>\n",
              "      <th>発表年月日</th>\n",
              "      <th></th>\n",
              "      <th></th>\n",
              "      <th></th>\n",
              "      <th></th>\n",
              "      <th></th>\n",
              "      <th></th>\n",
              "      <th></th>\n",
              "    </tr>\n",
              "  </thead>\n",
              "  <tbody>\n",
              "    <tr>\n",
              "      <th>2020-03-10</th>\n",
              "      <td>444</td>\n",
              "      <td>25</td>\n",
              "      <td>24</td>\n",
              "      <td>20</td>\n",
              "      <td>4</td>\n",
              "      <td>0</td>\n",
              "      <td>1</td>\n",
              "    </tr>\n",
              "    <tr>\n",
              "      <th>2020-03-11</th>\n",
              "      <td>540</td>\n",
              "      <td>37</td>\n",
              "      <td>35</td>\n",
              "      <td>31</td>\n",
              "      <td>4</td>\n",
              "      <td>1</td>\n",
              "      <td>1</td>\n",
              "    </tr>\n",
              "    <tr>\n",
              "      <th>2020-03-12</th>\n",
              "      <td>650</td>\n",
              "      <td>46</td>\n",
              "      <td>44</td>\n",
              "      <td>40</td>\n",
              "      <td>4</td>\n",
              "      <td>1</td>\n",
              "      <td>1</td>\n",
              "    </tr>\n",
              "    <tr>\n",
              "      <th>2020-03-13</th>\n",
              "      <td>744</td>\n",
              "      <td>56</td>\n",
              "      <td>54</td>\n",
              "      <td>50</td>\n",
              "      <td>4</td>\n",
              "      <td>1</td>\n",
              "      <td>1</td>\n",
              "    </tr>\n",
              "    <tr>\n",
              "      <th>2020-03-14</th>\n",
              "      <td>824</td>\n",
              "      <td>67</td>\n",
              "      <td>64</td>\n",
              "      <td>57</td>\n",
              "      <td>7</td>\n",
              "      <td>1</td>\n",
              "      <td>2</td>\n",
              "    </tr>\n",
              "    <tr>\n",
              "      <th>...</th>\n",
              "      <td>...</td>\n",
              "      <td>...</td>\n",
              "      <td>...</td>\n",
              "      <td>...</td>\n",
              "      <td>...</td>\n",
              "      <td>...</td>\n",
              "      <td>...</td>\n",
              "    </tr>\n",
              "    <tr>\n",
              "      <th>2020-07-28</th>\n",
              "      <td>24520</td>\n",
              "      <td>1059</td>\n",
              "      <td>203</td>\n",
              "      <td>195</td>\n",
              "      <td>8</td>\n",
              "      <td>45</td>\n",
              "      <td>811</td>\n",
              "    </tr>\n",
              "    <tr>\n",
              "      <th>2020-07-29</th>\n",
              "      <td>25096</td>\n",
              "      <td>1105</td>\n",
              "      <td>204</td>\n",
              "      <td>198</td>\n",
              "      <td>6</td>\n",
              "      <td>45</td>\n",
              "      <td>856</td>\n",
              "    </tr>\n",
              "    <tr>\n",
              "      <th>2020-07-30</th>\n",
              "      <td>25952</td>\n",
              "      <td>1158</td>\n",
              "      <td>236</td>\n",
              "      <td>231</td>\n",
              "      <td>5</td>\n",
              "      <td>45</td>\n",
              "      <td>877</td>\n",
              "    </tr>\n",
              "    <tr>\n",
              "      <th>2020-07-31</th>\n",
              "      <td>26627</td>\n",
              "      <td>1220</td>\n",
              "      <td>263</td>\n",
              "      <td>259</td>\n",
              "      <td>4</td>\n",
              "      <td>45</td>\n",
              "      <td>912</td>\n",
              "    </tr>\n",
              "    <tr>\n",
              "      <th>2020-08-01</th>\n",
              "      <td>27277</td>\n",
              "      <td>1252</td>\n",
              "      <td>266</td>\n",
              "      <td>261</td>\n",
              "      <td>5</td>\n",
              "      <td>45</td>\n",
              "      <td>941</td>\n",
              "    </tr>\n",
              "  </tbody>\n",
              "</table>\n",
              "<p>145 rows × 7 columns</p>\n",
              "</div>"
            ],
            "text/plain": [
              "            検査実施人数  陽性患者数  入院中  軽症・中等症  重症  死亡   退院\n",
              "発表年月日                                              \n",
              "2020-03-10     444     25   24      20   4   0    1\n",
              "2020-03-11     540     37   35      31   4   1    1\n",
              "2020-03-12     650     46   44      40   4   1    1\n",
              "2020-03-13     744     56   54      50   4   1    1\n",
              "2020-03-14     824     67   64      57   7   1    2\n",
              "...            ...    ...  ...     ...  ..  ..  ...\n",
              "2020-07-28   24520   1059  203     195   8  45  811\n",
              "2020-07-29   25096   1105  204     198   6  45  856\n",
              "2020-07-30   25952   1158  236     231   5  45  877\n",
              "2020-07-31   26627   1220  263     259   4  45  912\n",
              "2020-08-01   27277   1252  266     261   5  45  941\n",
              "\n",
              "[145 rows x 7 columns]"
            ]
          },
          "metadata": {
            "tags": []
          },
          "execution_count": 261
        }
      ]
    },
    {
      "cell_type": "code",
      "metadata": {
        "id": "vjb095wp30fb",
        "colab_type": "code",
        "colab": {
          "base_uri": "https://localhost:8080/",
          "height": 81
        },
        "outputId": "9d5ea8fd-610d-48e2-90d6-b123e24cc412"
      },
      "source": [
        "df_yousei[df_yousei[\"入院中\"] != df_yousei[\"軽症・中等症\"] + df_yousei[\"重症\"]]"
      ],
      "execution_count": 262,
      "outputs": [
        {
          "output_type": "execute_result",
          "data": {
            "text/html": [
              "<div>\n",
              "<style scoped>\n",
              "    .dataframe tbody tr th:only-of-type {\n",
              "        vertical-align: middle;\n",
              "    }\n",
              "\n",
              "    .dataframe tbody tr th {\n",
              "        vertical-align: top;\n",
              "    }\n",
              "\n",
              "    .dataframe thead th {\n",
              "        text-align: right;\n",
              "    }\n",
              "</style>\n",
              "<table border=\"1\" class=\"dataframe\">\n",
              "  <thead>\n",
              "    <tr style=\"text-align: right;\">\n",
              "      <th></th>\n",
              "      <th>検査実施人数</th>\n",
              "      <th>陽性患者数</th>\n",
              "      <th>入院中</th>\n",
              "      <th>軽症・中等症</th>\n",
              "      <th>重症</th>\n",
              "      <th>死亡</th>\n",
              "      <th>退院</th>\n",
              "    </tr>\n",
              "    <tr>\n",
              "      <th>発表年月日</th>\n",
              "      <th></th>\n",
              "      <th></th>\n",
              "      <th></th>\n",
              "      <th></th>\n",
              "      <th></th>\n",
              "      <th></th>\n",
              "      <th></th>\n",
              "    </tr>\n",
              "  </thead>\n",
              "  <tbody>\n",
              "  </tbody>\n",
              "</table>\n",
              "</div>"
            ],
            "text/plain": [
              "Empty DataFrame\n",
              "Columns: [検査実施人数, 陽性患者数, 入院中, 軽症・中等症, 重症, 死亡, 退院]\n",
              "Index: []"
            ]
          },
          "metadata": {
            "tags": []
          },
          "execution_count": 262
        }
      ]
    },
    {
      "cell_type": "code",
      "metadata": {
        "id": "Xt1AETMj3SIn",
        "colab_type": "code",
        "colab": {
          "base_uri": "https://localhost:8080/",
          "height": 238
        },
        "outputId": "e05a77b0-1714-4ea2-e000-a54371548196"
      },
      "source": [
        "df_yousei[df_yousei[\"陽性患者数\"] != df_yousei[\"入院中\"] + df_yousei[\"死亡\"] + df_yousei[\"退院\"]]"
      ],
      "execution_count": 263,
      "outputs": [
        {
          "output_type": "execute_result",
          "data": {
            "text/html": [
              "<div>\n",
              "<style scoped>\n",
              "    .dataframe tbody tr th:only-of-type {\n",
              "        vertical-align: middle;\n",
              "    }\n",
              "\n",
              "    .dataframe tbody tr th {\n",
              "        vertical-align: top;\n",
              "    }\n",
              "\n",
              "    .dataframe thead th {\n",
              "        text-align: right;\n",
              "    }\n",
              "</style>\n",
              "<table border=\"1\" class=\"dataframe\">\n",
              "  <thead>\n",
              "    <tr style=\"text-align: right;\">\n",
              "      <th></th>\n",
              "      <th>検査実施人数</th>\n",
              "      <th>陽性患者数</th>\n",
              "      <th>入院中</th>\n",
              "      <th>軽症・中等症</th>\n",
              "      <th>重症</th>\n",
              "      <th>死亡</th>\n",
              "      <th>退院</th>\n",
              "    </tr>\n",
              "    <tr>\n",
              "      <th>発表年月日</th>\n",
              "      <th></th>\n",
              "      <th></th>\n",
              "      <th></th>\n",
              "      <th></th>\n",
              "      <th></th>\n",
              "      <th></th>\n",
              "      <th></th>\n",
              "    </tr>\n",
              "  </thead>\n",
              "  <tbody>\n",
              "    <tr>\n",
              "      <th>2020-07-12</th>\n",
              "      <td>16846</td>\n",
              "      <td>737</td>\n",
              "      <td>30</td>\n",
              "      <td>30</td>\n",
              "      <td>0</td>\n",
              "      <td>45</td>\n",
              "      <td>663</td>\n",
              "    </tr>\n",
              "    <tr>\n",
              "      <th>2020-07-13</th>\n",
              "      <td>17192</td>\n",
              "      <td>738</td>\n",
              "      <td>25</td>\n",
              "      <td>25</td>\n",
              "      <td>0</td>\n",
              "      <td>45</td>\n",
              "      <td>669</td>\n",
              "    </tr>\n",
              "    <tr>\n",
              "      <th>2020-07-14</th>\n",
              "      <td>17478</td>\n",
              "      <td>747</td>\n",
              "      <td>30</td>\n",
              "      <td>30</td>\n",
              "      <td>0</td>\n",
              "      <td>45</td>\n",
              "      <td>673</td>\n",
              "    </tr>\n",
              "    <tr>\n",
              "      <th>2020-07-15</th>\n",
              "      <td>17829</td>\n",
              "      <td>759</td>\n",
              "      <td>41</td>\n",
              "      <td>41</td>\n",
              "      <td>0</td>\n",
              "      <td>45</td>\n",
              "      <td>674</td>\n",
              "    </tr>\n",
              "    <tr>\n",
              "      <th>2020-07-16</th>\n",
              "      <td>18310</td>\n",
              "      <td>776</td>\n",
              "      <td>51</td>\n",
              "      <td>51</td>\n",
              "      <td>0</td>\n",
              "      <td>45</td>\n",
              "      <td>681</td>\n",
              "    </tr>\n",
              "  </tbody>\n",
              "</table>\n",
              "</div>"
            ],
            "text/plain": [
              "            検査実施人数  陽性患者数  入院中  軽症・中等症  重症  死亡   退院\n",
              "発表年月日                                              \n",
              "2020-07-12   16846    737   30      30   0  45  663\n",
              "2020-07-13   17192    738   25      25   0  45  669\n",
              "2020-07-14   17478    747   30      30   0  45  673\n",
              "2020-07-15   17829    759   41      41   0  45  674\n",
              "2020-07-16   18310    776   51      51   0  45  681"
            ]
          },
          "metadata": {
            "tags": []
          },
          "execution_count": 263
        }
      ]
    },
    {
      "cell_type": "code",
      "metadata": {
        "id": "xlI_55c5FiM_",
        "colab_type": "code",
        "colab": {}
      },
      "source": [
        "d = df_yousei.iloc[-1].to_dict()"
      ],
      "execution_count": 264,
      "outputs": []
    },
    {
      "cell_type": "code",
      "metadata": {
        "id": "0foKI_aFgfTI",
        "colab_type": "code",
        "colab": {
          "base_uri": "https://localhost:8080/",
          "height": 142
        },
        "outputId": "b9c5d1d6-51fe-49aa-90fd-738e8447645f"
      },
      "source": [
        "d"
      ],
      "execution_count": 265,
      "outputs": [
        {
          "output_type": "execute_result",
          "data": {
            "text/plain": [
              "{'入院中': 266,\n",
              " '検査実施人数': 27277,\n",
              " '死亡': 45,\n",
              " '軽症・中等症': 261,\n",
              " '退院': 941,\n",
              " '重症': 5,\n",
              " '陽性患者数': 1252}"
            ]
          },
          "metadata": {
            "tags": []
          },
          "execution_count": 265
        }
      ]
    },
    {
      "cell_type": "code",
      "metadata": {
        "id": "YSv_sHnJFoRf",
        "colab_type": "code",
        "colab": {}
      },
      "source": [
        "main_summary = {\n",
        "    \"attr\": \"検査実施人数\",\n",
        "    \"value\": d[\"検査実施人数\"],\n",
        "    \"children\": [\n",
        "        {\n",
        "            \"attr\": \"陽性患者数\",\n",
        "            \"value\": d[\"陽性患者数\"],\n",
        "            \"children\": [\n",
        "                {\n",
        "                    \"attr\": \"入院中\",\n",
        "                    \"value\": d[\"入院中\"],\n",
        "                    \"children\": [\n",
        "                        {\"attr\": \"軽症・中等症\", \"value\": d[\"軽症・中等症\"]},\n",
        "                        {\"attr\": \"重症\", \"value\": d[\"重症\"]},\n",
        "                    ],\n",
        "                },\n",
        "                {\"attr\": \"死亡\", \"value\": d[\"死亡\"]},\n",
        "                {\"attr\": \"退院\", \"value\": d[\"退院\"]},\n",
        "            ],\n",
        "        }\n",
        "    ],\n",
        "    \"last_update\": last_update.isoformat(),\n",
        "}"
      ],
      "execution_count": 266,
      "outputs": []
    },
    {
      "cell_type": "code",
      "metadata": {
        "id": "FTxI8eGt57NM",
        "colab_type": "code",
        "colab": {}
      },
      "source": [
        "jsonschema.validate(main_summary, MAIN_SUMMARY_SCHEMA)\n",
        "\n",
        "dumps_json(\"main_summary.json\", main_summary)"
      ],
      "execution_count": 267,
      "outputs": []
    },
    {
      "cell_type": "code",
      "metadata": {
        "id": "axcFj5K83J9S",
        "colab_type": "code",
        "colab": {}
      },
      "source": [
        "ser_cur = df_yousei[\"入院中\"].reindex(df_pcr.index)"
      ],
      "execution_count": 268,
      "outputs": []
    },
    {
      "cell_type": "code",
      "metadata": {
        "id": "nWCR1pFE34KZ",
        "colab_type": "code",
        "colab": {}
      },
      "source": [
        "df_current = pd.DataFrame({\"小計\": ser_cur.combine_first(df_pcr[\"陽性確認\"].cumsum())}).diff().fillna(0).astype(int)"
      ],
      "execution_count": 269,
      "outputs": []
    },
    {
      "cell_type": "code",
      "metadata": {
        "id": "SMCuFsiRvVq5",
        "colab_type": "code",
        "colab": {}
      },
      "source": [
        "df_current[\"日付\"] = df_current.index.map(lambda d: pd.Timestamp(d, tz='Asia/Tokyo').isoformat())"
      ],
      "execution_count": 270,
      "outputs": []
    },
    {
      "cell_type": "code",
      "metadata": {
        "id": "Fm1XQY4UvdiA",
        "colab_type": "code",
        "colab": {}
      },
      "source": [
        "df_cur_pts = df_current.loc[:, [\"日付\", \"小計\"]].copy()"
      ],
      "execution_count": 271,
      "outputs": []
    },
    {
      "cell_type": "code",
      "metadata": {
        "id": "9u9WrvTQvoG5",
        "colab_type": "code",
        "colab": {}
      },
      "source": [
        "current_patients = {\n",
        "    \"data\": df_cur_pts.to_dict(orient=\"records\"),\n",
        "    \"last_update\": last_update.isoformat(),\n",
        "}"
      ],
      "execution_count": 272,
      "outputs": []
    },
    {
      "cell_type": "code",
      "metadata": {
        "id": "9J3s_2ygvrj1",
        "colab_type": "code",
        "colab": {}
      },
      "source": [
        "jsonschema.validate(current_patients, PATIENTS_SUMMARY_SCHEMA)\n",
        "\n",
        "dumps_json(\"current_patients.json\", current_patients)"
      ],
      "execution_count": 273,
      "outputs": []
    },
    {
      "cell_type": "markdown",
      "metadata": {
        "id": "HfVk5o1rF1a7",
        "colab_type": "text"
      },
      "source": [
        "# チェック"
      ]
    },
    {
      "cell_type": "code",
      "metadata": {
        "id": "hDmtMj6hyaJB",
        "colab_type": "code",
        "colab": {
          "base_uri": "https://localhost:8080/",
          "height": 53
        },
        "outputId": "92552b04-bc3b-46bf-9136-d5cbd7384316"
      },
      "source": [
        "json_check(\"inspections.json\", inspections)\n",
        "json_check(\"inspections_summary.json\", inspections_summary)"
      ],
      "execution_count": 274,
      "outputs": [
        {
          "output_type": "stream",
          "text": [
            "inspections.json\n",
            "inspections_summary.json\n"
          ],
          "name": "stdout"
        }
      ]
    },
    {
      "cell_type": "code",
      "metadata": {
        "id": "zS14yuR2WzmP",
        "colab_type": "code",
        "colab": {}
      },
      "source": [
        "json_check(\"age.json\", age)\n",
        "json_check(\"age_summary.json\", age_summary)"
      ],
      "execution_count": 275,
      "outputs": []
    },
    {
      "cell_type": "code",
      "metadata": {
        "id": "YGURxqLmCu1H",
        "colab_type": "code",
        "colab": {
          "base_uri": "https://localhost:8080/",
          "height": 71
        },
        "outputId": "98f48946-3e6e-403d-8df4-7ba94b3a37db"
      },
      "source": [
        "json_check(\"patients_summary.json\", patients_summary)\n",
        "json_check(\"patients.json\", patients)\n",
        "json_check(\"current_patients.json\", current_patients)"
      ],
      "execution_count": 276,
      "outputs": [
        {
          "output_type": "stream",
          "text": [
            "patients_summary.json\n",
            "patients.json\n",
            "current_patients.json\n"
          ],
          "name": "stdout"
        }
      ]
    },
    {
      "cell_type": "code",
      "metadata": {
        "id": "_zyUtFqjWwhp",
        "colab_type": "code",
        "colab": {}
      },
      "source": [
        "json_check(\"clusters.json\", clusters)\n",
        "json_check(\"clusters_summary.json\", clusters_summary)"
      ],
      "execution_count": 277,
      "outputs": []
    },
    {
      "cell_type": "code",
      "metadata": {
        "id": "iurioM6cCu4c",
        "colab_type": "code",
        "colab": {
          "base_uri": "https://localhost:8080/",
          "height": 35
        },
        "outputId": "9a7799ce-c687-4d73-bf1e-82b472997c3f"
      },
      "source": [
        "json_check(\"main_summary.json\", main_summary)"
      ],
      "execution_count": 278,
      "outputs": [
        {
          "output_type": "stream",
          "text": [
            "main_summary.json\n"
          ],
          "name": "stdout"
        }
      ]
    }
  ]
}