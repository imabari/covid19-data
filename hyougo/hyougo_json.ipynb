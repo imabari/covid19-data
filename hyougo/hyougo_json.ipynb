{
  "nbformat": 4,
  "nbformat_minor": 0,
  "metadata": {
    "colab": {
      "name": "hyougo_json.ipynb",
      "provenance": [],
      "collapsed_sections": [],
      "toc_visible": true,
      "include_colab_link": true
    },
    "kernelspec": {
      "name": "python3",
      "display_name": "Python 3"
    }
  },
  "cells": [
    {
      "cell_type": "markdown",
      "metadata": {
        "id": "view-in-github",
        "colab_type": "text"
      },
      "source": [
        "<a href=\"https://colab.research.google.com/github/imabari/covid19-data/blob/master/hyougo/hyougo_json.ipynb\" target=\"_parent\"><img src=\"https://colab.research.google.com/assets/colab-badge.svg\" alt=\"Open In Colab\"/></a>"
      ]
    },
    {
      "cell_type": "code",
      "metadata": {
        "id": "l9PRH1px56P3",
        "colab_type": "code",
        "colab": {}
      },
      "source": [
        "!pip install jsonschema"
      ],
      "execution_count": 0,
      "outputs": []
    },
    {
      "cell_type": "code",
      "metadata": {
        "id": "yRXkkxa-dr4G",
        "colab_type": "code",
        "colab": {}
      },
      "source": [
        "!pip install pycurl\n",
        "!pip install retry"
      ],
      "execution_count": 0,
      "outputs": []
    },
    {
      "cell_type": "code",
      "metadata": {
        "id": "55BT72KZeIvu",
        "colab_type": "code",
        "colab": {}
      },
      "source": [
        "PCR_XLSX = \"https://web.pref.hyogo.lg.jp/kk03/documents/pcr.xlsx\"\n",
        "YOUSEI_XLSX = \"https://web.pref.hyogo.lg.jp/kk03/documents/yousei.xlsx\"\n",
        "KANJA_HTML = \"https://web.pref.hyogo.lg.jp/kk03/corona_kanjyajyokyo.html\"\n",
        "\n",
        "DOWNLOAD_DIR = \"download\"\n",
        "DATA_DIR = \"data\""
      ],
      "execution_count": 0,
      "outputs": []
    },
    {
      "cell_type": "code",
      "metadata": {
        "id": "nslK3ecQeb0u",
        "colab_type": "code",
        "colab": {}
      },
      "source": [
        "import pycurl\n",
        "from retry import retry\n",
        "import pathlib"
      ],
      "execution_count": 0,
      "outputs": []
    },
    {
      "cell_type": "markdown",
      "metadata": {
        "id": "9JQQ0bZHBL33",
        "colab_type": "text"
      },
      "source": [
        "# ダウンロード"
      ]
    },
    {
      "cell_type": "code",
      "metadata": {
        "id": "N1Pbfu-Ddsdv",
        "colab_type": "code",
        "colab": {}
      },
      "source": [
        "@retry(tries=5, delay=5, backoff=3)\n",
        "def get_file(url, dir=\".\"):\n",
        "\n",
        "    p = pathlib.Path(dir, pathlib.PurePath(url).name)\n",
        "\n",
        "    p.parent.mkdir(parents=True, exist_ok=True)\n",
        "\n",
        "    with p.open(mode=\"wb\") as f:\n",
        "\n",
        "        c = pycurl.Curl()\n",
        "        c.setopt(c.URL, url)\n",
        "        c.setopt(c.WRITEDATA, f)\n",
        "        c.perform()\n",
        "        c.close()\n",
        "\n",
        "    return p"
      ],
      "execution_count": 0,
      "outputs": []
    },
    {
      "cell_type": "markdown",
      "metadata": {
        "id": "qhcpLl5vDICg",
        "colab_type": "text"
      },
      "source": [
        "# SCHEMA"
      ]
    },
    {
      "cell_type": "code",
      "metadata": {
        "id": "iT0ZZYuJDPwh",
        "colab_type": "code",
        "colab": {}
      },
      "source": [
        "INSPECTIONS_SUMMARY_SCHEMA = {\n",
        "    \"$schema\": \"http://json-schema.org/draft-07/schema#\",\n",
        "    \"type\": \"object\",\n",
        "    \"additionalProperties\": False,\n",
        "    \"properties\": {\n",
        "        \"data\": {\n",
        "            \"type\": \"object\",\n",
        "            \"additionalProperties\": {\n",
        "                \"type\": \"array\",\n",
        "                \"items\": {\"default\": 0, \"type\": \"integer\"},\n",
        "            },\n",
        "        },\n",
        "        \"labels\": {\n",
        "            \"type\": \"array\",\n",
        "            \"items\": {\"pattern\": r\"^[0-9]{2}/[0-9]{2}$\", \"type\": \"string\"},\n",
        "        },\n",
        "        \"last_update\": {\n",
        "            \"pattern\": r\"^[0-9]{4}-[0-9]{2}-[0-9]{2} [0-9]{2}:[0-9]{2}$\",\n",
        "            \"type\": \"string\",\n",
        "        },\n",
        "    },\n",
        "    \"required\": [\"data\", \"labels\", \"last_update\"],\n",
        "}"
      ],
      "execution_count": 0,
      "outputs": []
    },
    {
      "cell_type": "code",
      "metadata": {
        "id": "BgOCH2VhDPzr",
        "colab_type": "code",
        "colab": {}
      },
      "source": [
        "PATIENTS_SUMMARY_SCHEMA = {\n",
        "    \"$schema\": \"http://json-schema.org/draft-07/schema#\",\n",
        "    \"type\": \"object\",\n",
        "    \"additionalProperties\": False,\n",
        "    \"properties\": {\n",
        "        \"data\": {\n",
        "            \"type\": \"array\",\n",
        "            \"items\": {\n",
        "                \"type\": \"object\",\n",
        "                \"additionalProperties\": False,\n",
        "                \"properties\": {\n",
        "                    \"日付\": {\"type\": \"string\", \"format\": \"date\"},\n",
        "                    \"小計\": {\"default\": 0, \"type\": \"integer\"},\n",
        "                },\n",
        "                \"required\": [\"小計\", \"日付\"],\n",
        "            },\n",
        "        },\n",
        "        \"last_update\": {\n",
        "            \"pattern\": r\"^[0-9]{4}-[0-9]{2}-[0-9]{2} [0-9]{2}:[0-9]{2}$\",\n",
        "            \"type\": \"string\",\n",
        "        },\n",
        "    },\n",
        "    \"required\": [\"data\", \"last_update\"],\n",
        "}"
      ],
      "execution_count": 0,
      "outputs": []
    },
    {
      "cell_type": "code",
      "metadata": {
        "id": "Xoc8NSP4DP2t",
        "colab_type": "code",
        "colab": {}
      },
      "source": [
        "AGE_SCHEMA = {\n",
        "    \"$schema\": \"http://json-schema.org/draft-07/schema#\",\n",
        "    \"type\": \"object\",\n",
        "    \"properties\": {\n",
        "        \"data\": {\n",
        "            \"type\": \"object\",\n",
        "            \"additionalProperties\": {\n",
        "                \"default\": 0,\n",
        "                \"type\": \"integer\"\n",
        "            }\n",
        "        },\n",
        "        \"last_update\": {\n",
        "            \"pattern\": r\"^[0-9]{4}-[0-9]{2}-[0-9]{2} [0-9]{2}:[0-9]{2}$\",\n",
        "            \"type\": \"string\"\n",
        "        }\n",
        "    },\n",
        "    \"required\": [\n",
        "        \"data\",\n",
        "        \"last_update\"\n",
        "    ],\n",
        "}"
      ],
      "execution_count": 0,
      "outputs": []
    },
    {
      "cell_type": "code",
      "metadata": {
        "id": "TlJpnZuUDP5k",
        "colab_type": "code",
        "colab": {}
      },
      "source": [
        "AGE_SUMMARY_SCHEMA = {\n",
        "    \"$schema\": \"http://json-schema.org/draft-07/schema#\",\n",
        "    \"type\": \"object\",\n",
        "    \"additionalProperties\": False,\n",
        "    \"properties\": {\n",
        "        \"data\": {\n",
        "            \"type\": \"object\",\n",
        "            \"additionalProperties\": {\n",
        "                \"type\": \"array\",\n",
        "                \"items\": {\"default\": 0, \"type\": \"integer\"},\n",
        "            },\n",
        "        },\n",
        "        \"labels\": {\n",
        "            \"type\": \"array\",\n",
        "            \"items\": {\"pattern\": \"^[0-9]{1,2}/[0-9]{1,2}$\", \"type\": \"string\"},\n",
        "        },\n",
        "        \"last_update\": {\n",
        "            \"pattern\": r\"^[0-9]{4}-[0-9]{2}-[0-9]{2} [0-9]{2}:[0-9]{2}$\",\n",
        "            \"type\": \"string\",\n",
        "        },\n",
        "    },\n",
        "    \"required\": [\"data\", \"labels\", \"last_update\"],\n",
        "}"
      ],
      "execution_count": 0,
      "outputs": []
    },
    {
      "cell_type": "code",
      "metadata": {
        "id": "_b3I-Z95DP8s",
        "colab_type": "code",
        "colab": {}
      },
      "source": [
        "PATIENTS_SUMMARY_SCHEMA = {\n",
        "    \"$schema\": \"http://json-schema.org/draft-07/schema#\",\n",
        "    \"type\": \"object\",\n",
        "    \"additionalProperties\": False,\n",
        "    \"properties\": {\n",
        "        \"data\": {\n",
        "            \"type\": \"array\",\n",
        "            \"items\": {\n",
        "                \"type\": \"object\",\n",
        "                \"additionalProperties\": False,\n",
        "                \"properties\": {\n",
        "                    \"日付\": {\"type\": \"string\", \"format\": \"date\"},\n",
        "                    \"小計\": {\"default\": 0, \"type\": \"integer\"},\n",
        "                },\n",
        "                \"required\": [\"小計\", \"日付\"],\n",
        "            },\n",
        "        },\n",
        "        \"last_update\": {\n",
        "            \"pattern\": r\"^[0-9]{4}-[0-9]{2}-[0-9]{2} [0-9]{2}:[0-9]{2}$\",\n",
        "            \"type\": \"string\",\n",
        "        },\n",
        "    },\n",
        "    \"required\": [\"data\", \"last_update\"],\n",
        "}"
      ],
      "execution_count": 0,
      "outputs": []
    },
    {
      "cell_type": "code",
      "metadata": {
        "id": "hBEq8Iv4DP_2",
        "colab_type": "code",
        "colab": {}
      },
      "source": [
        "PATIENTS_SCHEMA = {\n",
        "    \"$schema\": \"http://json-schema.org/draft-07/schema#\",\n",
        "    \"$ref\": \"#/definitions/Main\",\n",
        "    \"definitions\": {\n",
        "        \"Main\": {\n",
        "            \"type\": \"object\",\n",
        "            \"additionalProperties\": False,\n",
        "            \"properties\": {\n",
        "                \"data\": {\"type\": \"array\", \"items\": {\"$ref\": \"#/definitions/Datum\"}},\n",
        "                \"last_update\": {\"type\": \"string\"},\n",
        "            },\n",
        "            \"required\": [\"data\", \"last_update\"],\n",
        "            \"title\": \"Main\",\n",
        "        },\n",
        "        \"Datum\": {\n",
        "            \"type\": \"object\",\n",
        "            \"additionalProperties\": False,\n",
        "            \"properties\": {\n",
        "                \"No\": {\"type\": \"integer\"},\n",
        "                \"居住地\": {\"type\": \"string\"},\n",
        "                \"年代\": {\"$ref\": \"#/definitions/Age\"},\n",
        "                \"性別\": {\"$ref\": \"#/definitions/Sex\"},\n",
        "                \"備考\": {\"type\": \"string\"},\n",
        "                \"退院\": {\"type\": \"null\"},\n",
        "                \"date\": {\"type\": \"string\", \"format\": \"date\"},\n",
        "                \"リリース日\": {\"type\": \"string\", \"format\": \"date\"},\n",
        "                \"曜日\": {\"$ref\": \"#/definitions/Week\"},\n",
        "            },\n",
        "            \"required\": [\"date\", \"リリース日\", \"備考\", \"居住地\", \"年代\", \"性別\", \"曜日\", \"No\", \"退院\"],\n",
        "            \"title\": \"Datum\",\n",
        "        },\n",
        "        \"Age\": {\n",
        "            \"type\": \"string\",\n",
        "            \"enum\": [\n",
        "                \"10歳未満\",\n",
        "                \"10代\",\n",
        "                \"20代\",\n",
        "                \"30代\",\n",
        "                \"40代\",\n",
        "                \"50代\",\n",
        "                \"60代\",\n",
        "                \"70代\",\n",
        "                \"80代\",\n",
        "                \"90歳以上\",\n",
        "                \"非公表\",\n",
        "            ],\n",
        "            \"title\": \"Age\",\n",
        "        },\n",
        "        \"Sex\": {\"type\": \"string\", \"enum\": [\"男性\", \"女性\"], \"title\": \"Sex\"},\n",
        "        \"Week\": {\n",
        "            \"type\": \"string\",\n",
        "            \"enum\": [\"月\", \"火\", \"水\", \"木\", \"金\", \"土\", \"日\"],\n",
        "            \"title\": \"Week\",\n",
        "        },\n",
        "    },\n",
        "}"
      ],
      "execution_count": 0,
      "outputs": []
    },
    {
      "cell_type": "code",
      "metadata": {
        "id": "--P3YaJDDQDE",
        "colab_type": "code",
        "colab": {}
      },
      "source": [
        "CLUSTERS_SUMMARY_SCHEMA = {\n",
        "    \"$schema\": \"http://json-schema.org/draft-07/schema#\",\n",
        "    \"type\": \"object\",\n",
        "    \"additionalProperties\": False,\n",
        "    \"properties\": {\n",
        "        \"data\": {\n",
        "            \"type\": \"object\",\n",
        "            \"additionalProperties\": {\"default\": 0, \"type\": \"integer\"},\n",
        "        },\n",
        "        \"last_update\": {\n",
        "            \"pattern\": r\"^[0-9]{4}-[0-9]{2}-[0-9]{2} [0-9]{2}:[0-9]{2}$\",\n",
        "            \"type\": \"string\",\n",
        "        },\n",
        "    },\n",
        "    \"required\": [\"data\", \"last_update\"],\n",
        "}"
      ],
      "execution_count": 0,
      "outputs": []
    },
    {
      "cell_type": "code",
      "metadata": {
        "id": "8mEE9K1mC20P",
        "colab_type": "code",
        "colab": {}
      },
      "source": [
        "MAIN_SUMMARY_SCHEMA = {\n",
        "    \"$schema\": \"http://json-schema.org/draft-06/schema#\",\n",
        "    \"$ref\": \"#/definitions/Main\",\n",
        "    \"definitions\": {\n",
        "        \"Main\": {\n",
        "            \"type\": \"object\",\n",
        "            \"additionalProperties\": False,\n",
        "            \"properties\": {\n",
        "                \"attr\": {\"type\": \"string\"},\n",
        "                \"value\": {\"type\": \"integer\", \"default\": 0},\n",
        "                \"children\": {\n",
        "                    \"type\": \"array\",\n",
        "                    \"items\": {\"$ref\": \"#/definitions/Inspections\"},\n",
        "                },\n",
        "                \"last_update\": {\n",
        "                    \"pattern\": \"^[0-9]{4}-[0-9]{2}-[0-9]{2} [0-9]{2}:[0-9]{2}$\",\n",
        "                    \"type\": \"string\",\n",
        "                },\n",
        "            },\n",
        "            \"required\": [\"attr\", \"children\", \"last_update\", \"value\"],\n",
        "            \"title\": \"Main\",\n",
        "        },\n",
        "        \"Inspections\": {\n",
        "            \"type\": \"object\",\n",
        "            \"additionalProperties\": False,\n",
        "            \"properties\": {\n",
        "                \"attr\": {\"type\": \"string\"},\n",
        "                \"value\": {\"type\": \"integer\", \"default\": 0},\n",
        "                \"children\": {\n",
        "                    \"type\": \"array\",\n",
        "                    \"items\": {\"$ref\": \"#/definitions/Patients\"},\n",
        "                },\n",
        "            },\n",
        "            \"required\": [\"attr\", \"children\", \"value\"],\n",
        "            \"title\": \"Inspections\",\n",
        "        },\n",
        "        \"Patients\": {\n",
        "            \"type\": \"object\",\n",
        "            \"additionalProperties\": False,\n",
        "            \"properties\": {\n",
        "                \"attr\": {\"type\": \"string\"},\n",
        "                \"value\": {\"type\": \"integer\", \"default\": 0},\n",
        "                \"children\": {\n",
        "                    \"type\": \"array\",\n",
        "                    \"items\": {\"$ref\": \"#/definitions/Symptoms\"},\n",
        "                },\n",
        "            },\n",
        "            \"required\": [\"attr\", \"value\"],\n",
        "            \"title\": \"Patients\",\n",
        "        },\n",
        "        \"Symptoms\": {\n",
        "            \"type\": \"object\",\n",
        "            \"additionalProperties\": False,\n",
        "            \"properties\": {\n",
        "                \"attr\": {\"type\": \"string\"},\n",
        "                \"value\": {\"type\": \"integer\", \"default\": 0},\n",
        "            },\n",
        "            \"required\": [\"attr\", \"value\"],\n",
        "            \"title\": \"Symptoms\",\n",
        "        },\n",
        "    },\n",
        "}"
      ],
      "execution_count": 0,
      "outputs": []
    },
    {
      "cell_type": "markdown",
      "metadata": {
        "id": "O7HqGFL7BbdW",
        "colab_type": "text"
      },
      "source": [
        "# データラングリング"
      ]
    },
    {
      "cell_type": "code",
      "metadata": {
        "id": "pD01Cc3nA_Lz",
        "colab_type": "code",
        "colab": {}
      },
      "source": [
        "import datetime\n",
        "import json\n",
        "import re\n",
        "\n",
        "import jsonschema\n",
        "import pandas as pd\n",
        "import requests"
      ],
      "execution_count": 0,
      "outputs": []
    },
    {
      "cell_type": "code",
      "metadata": {
        "id": "by7pxgiFgtxW",
        "colab_type": "code",
        "colab": {}
      },
      "source": [
        "from bs4 import BeautifulSoup\n",
        "from urllib.parse import urljoin"
      ],
      "execution_count": 0,
      "outputs": []
    },
    {
      "cell_type": "code",
      "metadata": {
        "id": "E02siZKr5663",
        "colab_type": "code",
        "colab": {}
      },
      "source": [
        "def dumps_json(file_name, json_data, dir=DATA_DIR):\n",
        "\n",
        "    p = pathlib.Path(dir, file_name)\n",
        "\n",
        "    p.parent.mkdir(parents=True, exist_ok=True)\n",
        "\n",
        "    with p.open(mode=\"w\") as fw:\n",
        "        json.dump(json_data, fw, ensure_ascii=False, indent=4)"
      ],
      "execution_count": 0,
      "outputs": []
    },
    {
      "cell_type": "code",
      "metadata": {
        "id": "UDR_y1oO57D8",
        "colab_type": "code",
        "colab": {}
      },
      "source": [
        "def json_check(fn, d):\n",
        "\n",
        "    r = requests.get(\n",
        "        \"https://raw.githubusercontent.com/stop-covid19-hyogo/covid19/development/data/\"\n",
        "        + fn\n",
        "    )\n",
        "\n",
        "    result = d == r.json()\n",
        "\n",
        "    if not result:\n",
        "\n",
        "        print(fn)"
      ],
      "execution_count": 0,
      "outputs": []
    },
    {
      "cell_type": "code",
      "metadata": {
        "id": "bU2P5-qEBz0-",
        "colab_type": "code",
        "colab": {}
      },
      "source": [
        "# 最終更新日\n",
        "last_update = datetime.date.today()\n",
        "last_update"
      ],
      "execution_count": 0,
      "outputs": []
    },
    {
      "cell_type": "markdown",
      "metadata": {
        "id": "_1pbVpuxCDXm",
        "colab_type": "text"
      },
      "source": [
        "## pcr.xlsx"
      ]
    },
    {
      "cell_type": "code",
      "metadata": {
        "id": "Io18c4WKfF9v",
        "colab_type": "code",
        "colab": {}
      },
      "source": [
        "pcr_path = get_file(PCR_XLSX, DOWNLOAD_DIR)"
      ],
      "execution_count": 0,
      "outputs": []
    },
    {
      "cell_type": "code",
      "metadata": {
        "id": "E3FQSlBaBz4N",
        "colab_type": "code",
        "colab": {}
      },
      "source": [
        "df_pcr = pd.read_excel(pcr_path, index_col=\"年月日\").fillna(0).astype(int)\n",
        "\n",
        "df_pcr[\"日付\"] = df_pcr.index.strftime(\"%Y-%m-%d\")\n",
        "\n",
        "df_pcr.rename(columns={\"PCR検査件数\": \"検査検体数\", \"陽性件数\": \"陽性確認\"}, inplace=True)"
      ],
      "execution_count": 0,
      "outputs": []
    },
    {
      "cell_type": "code",
      "metadata": {
        "id": "BKjuTqsaBz6_",
        "colab_type": "code",
        "colab": {}
      },
      "source": [
        "# inspections_summary\n",
        "\n",
        "df_insp = df_pcr.loc[:, [\"検査検体数\", \"陽性確認\"]].copy()\n",
        "\n",
        "labels = df_insp.index.strftime(\"%m/%d\")"
      ],
      "execution_count": 0,
      "outputs": []
    },
    {
      "cell_type": "code",
      "metadata": {
        "id": "Bat9wxoSCfWf",
        "colab_type": "code",
        "colab": {}
      },
      "source": [
        "inspections_summary = {\n",
        "    \"data\": df_insp.to_dict(orient=\"list\"),\n",
        "    \"labels\": labels.tolist(),\n",
        "    \"last_update\": last_update.strftime(\"%Y-%m-%d %H:%M\"),\n",
        "}"
      ],
      "execution_count": 0,
      "outputs": []
    },
    {
      "cell_type": "code",
      "metadata": {
        "id": "rYnfrPiYCVOb",
        "colab_type": "code",
        "colab": {}
      },
      "source": [
        "jsonschema.validate(inspections_summary, INSPECTIONS_SUMMARY_SCHEMA)\n",
        "\n",
        "dumps_json(\"inspections_summary.json\", inspections_summary)"
      ],
      "execution_count": 0,
      "outputs": []
    },
    {
      "cell_type": "code",
      "metadata": {
        "id": "r1MYAu9yBz97",
        "colab_type": "code",
        "colab": {}
      },
      "source": [
        "# parent_summary\n",
        "\n",
        "df_pts = df_pcr.loc[:, [\"日付\", \"陽性確認\"]].copy()\n",
        "\n",
        "df_pts.rename(columns={\"陽性確認\": \"小計\"}, inplace=True)"
      ],
      "execution_count": 0,
      "outputs": []
    },
    {
      "cell_type": "code",
      "metadata": {
        "id": "IpH_cQcECj24",
        "colab_type": "code",
        "colab": {}
      },
      "source": [
        "patients_summary = {\n",
        "    \"data\": df_pts.to_dict(orient=\"records\"),\n",
        "    \"last_update\": last_update.strftime(\"%Y-%m-%d %H:%M\"),\n",
        "}"
      ],
      "execution_count": 0,
      "outputs": []
    },
    {
      "cell_type": "code",
      "metadata": {
        "id": "nkGEW1SaCj83",
        "colab_type": "code",
        "colab": {}
      },
      "source": [
        "jsonschema.validate(patients_summary, PATIENTS_SUMMARY_SCHEMA)\n",
        "\n",
        "dumps_json(\"patients_summary.json\", patients_summary)"
      ],
      "execution_count": 0,
      "outputs": []
    },
    {
      "cell_type": "markdown",
      "metadata": {
        "id": "EXKm4d_sDzrI",
        "colab_type": "text"
      },
      "source": [
        "## kanjya.xlsx"
      ]
    },
    {
      "cell_type": "code",
      "metadata": {
        "id": "OABVe2Prf3du",
        "colab_type": "code",
        "colab": {}
      },
      "source": [
        "p = get_file(KANJA_HTML, DOWNLOAD_DIR)\n",
        "\n",
        "soup = BeautifulSoup(p.open(encoding='utf-8'), \"html.parser\")"
      ],
      "execution_count": 0,
      "outputs": []
    },
    {
      "cell_type": "code",
      "metadata": {
        "id": "fquaSlsChfCX",
        "colab_type": "code",
        "colab": {}
      },
      "source": [
        "tag = soup.find(\"a\", class_=\"icon_excel\")\n",
        "\n",
        "link = urljoin(KANJA_HTML, tag.get(\"href\"))"
      ],
      "execution_count": 0,
      "outputs": []
    },
    {
      "cell_type": "code",
      "metadata": {
        "id": "jfk6xIa2fXhm",
        "colab_type": "code",
        "colab": {}
      },
      "source": [
        "kanja_path = get_file(link, DOWNLOAD_DIR)"
      ],
      "execution_count": 0,
      "outputs": []
    },
    {
      "cell_type": "code",
      "metadata": {
        "id": "qxpb3vYZCkAP",
        "colab_type": "code",
        "colab": {}
      },
      "source": [
        "df_head = pd.read_excel(kanja_path, header=None, skiprows=3).dropna(how=\"all\", axis=1)\n",
        "\n",
        "df_head.columns = [\"\".join(i).strip() for i in df_head.head(2).fillna(\"\").T.values]\n",
        "df_tmp = df_head.iloc[2:, :].copy().reset_index(drop=True)\n",
        "\n",
        "df_kanja = df_tmp[df_tmp[\"番号\"].notnull()].copy()\n",
        "\n",
        "df_kanja.dropna(how=\"all\", axis=1, inplace=True)\n",
        "\n",
        "df_kanja.columns = df_kanja.columns.map(lambda s: s.replace(\"\\n\", \"\"))\n",
        "\n",
        "df_kanja[\"番号\"] = df_kanja[\"番号\"].astype(int)\n",
        "df_kanja[\"年代\"] = df_kanja[\"年代\"].astype(str)\n",
        "df_kanja[\"年代\"] = df_kanja[\"年代\"].replace({\"10[歳代]未満\": \"10歳未満\", \"90\": \"90歳以上\", \"([1-8]0$)\": r\"\\1代\"}, regex=True)\n",
        "\n",
        "df_kanja[\"発表日\"] = df_kanja[\"発表日\"].apply(\n",
        "    lambda date: pd.to_datetime(date, unit=\"D\", origin=pd.Timestamp(\"1899/12/30\"))\n",
        ")\n",
        "\n",
        "df_kanja[\"備考欄\"] = df_kanja[\"備考欄\"].str.replace(\"\\n\", \"\")\n",
        "\n",
        "df_kanja.set_index(\"番号\", inplace=True)"
      ],
      "execution_count": 0,
      "outputs": []
    },
    {
      "cell_type": "code",
      "metadata": {
        "id": "EOcy78R2Dwv3",
        "colab_type": "code",
        "colab": {}
      },
      "source": [
        "df_kanja.to_csv(\"kanja.tsv\", sep=\"\\t\")"
      ],
      "execution_count": 0,
      "outputs": []
    },
    {
      "cell_type": "code",
      "metadata": {
        "id": "wgIuFlPBDwy8",
        "colab_type": "code",
        "colab": {}
      },
      "source": [
        "# 陽性患者数（累計）\n",
        "\n",
        "len(df_kanja)"
      ],
      "execution_count": 0,
      "outputs": []
    },
    {
      "cell_type": "code",
      "metadata": {
        "id": "hNahpt-pDw2L",
        "colab_type": "code",
        "colab": {}
      },
      "source": [
        "# 陽性患者数（日別）\n",
        "\"\"\"\n",
        "df_pts = (\n",
        "    df_kanja[\"発表日\"]\n",
        "    .value_counts()\n",
        "    .sort_index()\n",
        "    .asfreq(\"D\", fill_value=0)\n",
        "    .reset_index()\n",
        ")\n",
        "\n",
        "df_pts[\"日付\"] = df_pts[\"index\"].dt.strftime(\"%Y-%m-%d\")\n",
        "\n",
        "df_pts.rename(columns={\"発表日\": \"小計\"}, inplace=True)\n",
        "\n",
        "df_pts.drop(\"index\", axis=1, inplace=True)\n",
        "\n",
        "df_pts\n",
        "\"\"\""
      ],
      "execution_count": 0,
      "outputs": []
    },
    {
      "cell_type": "code",
      "metadata": {
        "id": "6C55vNCAEU9X",
        "colab_type": "code",
        "colab": {}
      },
      "source": [
        "\"\"\"\n",
        "patients_summary = {\n",
        "    \"data\": df_pts.to_dict(orient=\"records\"),\n",
        "    \"last_update\": last_update.strftime(\"%Y-%m-%d %H:%M\"),\n",
        "}\n",
        "\"\"\""
      ],
      "execution_count": 0,
      "outputs": []
    },
    {
      "cell_type": "code",
      "metadata": {
        "id": "iIkDdxn5Dw5i",
        "colab_type": "code",
        "colab": {}
      },
      "source": [
        "# jsonschema.validate(patients_summary, PATIENTS_SUMMARY_SCHEMA)\n",
        "\n",
        "# dumps_json(\"patients_summary.json\", patients_summary)"
      ],
      "execution_count": 0,
      "outputs": []
    },
    {
      "cell_type": "code",
      "metadata": {
        "id": "E48gD9ZtDw8Z",
        "colab_type": "code",
        "colab": {}
      },
      "source": [
        "# 陽性患者情報\n",
        "\n",
        "df_pt = df_kanja.loc[:, [\"発表日\", \"居住地\", \"年代\", \"性別\", \"備考欄\"]].sort_index().reset_index()\n",
        "df_pt.head(10)\n",
        "\n",
        "df_pt[\"退院\"] = None\n",
        "\n",
        "df_pt[\"date\"] = df_pt[\"発表日\"].dt.strftime(\"%Y-%m-%d\")\n",
        "df_pt[\"リリース日\"] = df_pt[\"発表日\"].dt.strftime(\"%Y-%m-%d\")\n",
        "\n",
        "week = [\"月\", \"火\", \"水\", \"木\", \"金\", \"土\", \"日\"]\n",
        "\n",
        "df_pt[\"曜日\"] = df_pt[\"発表日\"].dt.dayofweek.apply(lambda x: week[x])\n",
        "\n",
        "df_pt[\"備考欄\"] = df_pt[\"備考欄\"].str.replace(\"NO.|N0.|NO,|N0,|No,\", \"No.\")\n",
        "df_pt[\"備考欄\"] = df_pt[\"備考欄\"].str.replace(\"・\", \"、\")\n",
        "df_pt[\"備考欄\"] = df_pt[\"備考欄\"].fillna(\"\")\n",
        "df_pt.rename(columns={\"番号\": \"No\", \"備考欄\": \"備考\"}, inplace=True)\n",
        "\n",
        "df_pt.drop(\"発表日\", axis=1, inplace=True)\n",
        "\n",
        "df_pt"
      ],
      "execution_count": 0,
      "outputs": []
    },
    {
      "cell_type": "code",
      "metadata": {
        "id": "hsejNrMkEOIo",
        "colab_type": "code",
        "colab": {}
      },
      "source": [
        "patients = {\n",
        "    \"data\": df_pt.to_dict(orient=\"records\"),\n",
        "    \"last_update\": last_update.strftime(\"%Y-%m-%d %H:%M\"),\n",
        "}"
      ],
      "execution_count": 0,
      "outputs": []
    },
    {
      "cell_type": "code",
      "metadata": {
        "id": "OCAWwZpVEOLo",
        "colab_type": "code",
        "colab": {}
      },
      "source": [
        "jsonschema.validate(patients, PATIENTS_SCHEMA)\n",
        "\n",
        "dumps_json(\"patients.json\", patients)"
      ],
      "execution_count": 0,
      "outputs": []
    },
    {
      "cell_type": "code",
      "metadata": {
        "id": "ekQLzuX3EOOh",
        "colab_type": "code",
        "colab": {}
      },
      "source": [
        "# 年代集計\n",
        "\n",
        "age_list = [\"10歳未満\",\"10代\", \"20代\", \"30代\", \"40代\", \"50代\", \"60代\", \"70代\", \"80代\", \"90歳以上\", \"非公表\"]\n",
        "\n",
        "df_age = df_kanja[\"年代\"].value_counts().sort_index().reindex(age_list, fill_value=0)\n",
        "\n",
        "df_age = df_age.astype(int)"
      ],
      "execution_count": 0,
      "outputs": []
    },
    {
      "cell_type": "code",
      "metadata": {
        "id": "1mAAXEhjEORq",
        "colab_type": "code",
        "colab": {}
      },
      "source": [
        "age = {\n",
        "    \"data\": df_age.to_dict(),\n",
        "    \"last_update\": last_update.strftime(\"%Y-%m-%d %H:%M\"),\n",
        "}"
      ],
      "execution_count": 0,
      "outputs": []
    },
    {
      "cell_type": "code",
      "metadata": {
        "id": "bWEsrIOKEOUq",
        "colab_type": "code",
        "colab": {}
      },
      "source": [
        "jsonschema.validate(age, AGE_SCHEMA)\n",
        "\n",
        "dumps_json(\"age.json\", age)"
      ],
      "execution_count": 0,
      "outputs": []
    },
    {
      "cell_type": "code",
      "metadata": {
        "id": "o4sLD-zdE4Pn",
        "colab_type": "code",
        "colab": {}
      },
      "source": [
        "df_ages = pd.crosstab(df_kanja[\"発表日\"], df_kanja[\"年代\"]).reindex(\n",
        "    age_list, axis=1, fill_value=0\n",
        ")\n",
        "\n",
        "df_ages = df_ages.astype(int)\n",
        "\n",
        "df_agesum = df_ages.asfreq(\"D\", fill_value=0)\n",
        "\n",
        "df_agesum"
      ],
      "execution_count": 0,
      "outputs": []
    },
    {
      "cell_type": "code",
      "metadata": {
        "id": "-7IURnJTE4Sr",
        "colab_type": "code",
        "colab": {}
      },
      "source": [
        "labels = df_agesum.index.map(lambda d: f\"{d.month}/{d.day}\")"
      ],
      "execution_count": 0,
      "outputs": []
    },
    {
      "cell_type": "code",
      "metadata": {
        "id": "fxzc9U1VE4Vm",
        "colab_type": "code",
        "colab": {}
      },
      "source": [
        "age_summary = {\n",
        "    \"data\": df_agesum.to_dict(orient=\"list\"),\n",
        "    \"labels\": labels.tolist(),\n",
        "    \"last_update\": last_update.strftime(\"%Y-%m-%d %H:%M\"),\n",
        "}"
      ],
      "execution_count": 0,
      "outputs": []
    },
    {
      "cell_type": "code",
      "metadata": {
        "id": "aM6yKRUGE4Ym",
        "colab_type": "code",
        "colab": {}
      },
      "source": [
        "jsonschema.validate(age_summary, AGE_SUMMARY_SCHEMA)\n",
        "\n",
        "dumps_json(\"age_summary.json\", age_summary)"
      ],
      "execution_count": 0,
      "outputs": []
    },
    {
      "cell_type": "code",
      "metadata": {
        "id": "C6g7-wHoE4cO",
        "colab_type": "code",
        "colab": {}
      },
      "source": [
        "# クラスタ概要\n",
        "\n",
        "df_cluster_sum = df_kanja.loc[:, \"認定こども園\":].copy().notnull().sum()"
      ],
      "execution_count": 0,
      "outputs": []
    },
    {
      "cell_type": "code",
      "metadata": {
        "id": "wQ5pZ66YFMzb",
        "colab_type": "code",
        "colab": {}
      },
      "source": [
        "clusters_summary = {\n",
        "    \"data\": df_cluster_sum.to_dict(),\n",
        "    \"last_update\": last_update.strftime(\"%Y-%m-%d %H:%M\"),\n",
        "}"
      ],
      "execution_count": 0,
      "outputs": []
    },
    {
      "cell_type": "code",
      "metadata": {
        "id": "kYoLUbXiFM2o",
        "colab_type": "code",
        "colab": {}
      },
      "source": [
        "jsonschema.validate(clusters_summary, CLUSTERS_SUMMARY_SCHEMA)\n",
        "\n",
        "dumps_json(\"clusters_summary.json\", clusters_summary)"
      ],
      "execution_count": 0,
      "outputs": []
    },
    {
      "cell_type": "code",
      "metadata": {
        "id": "56_J6al5FM5n",
        "colab_type": "code",
        "colab": {}
      },
      "source": [
        "# クラスタ\n",
        "\n",
        "df_clusters = df_kanja.loc[:, \"認定こども園\":].copy().fillna(0)\n",
        "\n",
        "df_clusters[\"発表日\"] = df_kanja[\"発表日\"]\n",
        "\n",
        "df_clusters.replace({\"〇\": 1, \"○\": 1}, inplace=True)\n",
        "\n",
        "pv_clusters = df_clusters.pivot_table(index=\"発表日\", aggfunc=\"sum\").asfreq(\"D\", fill_value=0)\n",
        "\n",
        "pv_clusters[\"日付\"] = pv_clusters.index.strftime(\"%Y-%m-%d\")"
      ],
      "execution_count": 0,
      "outputs": []
    },
    {
      "cell_type": "code",
      "metadata": {
        "id": "uztyhc-JFM8-",
        "colab_type": "code",
        "colab": {}
      },
      "source": [
        "clusters = {\n",
        "    \"data\": pv_clusters.to_dict(orient=\"recodes\"),\n",
        "    \"last_update\": last_update.strftime(\"%Y-%m-%d %H:%M\"),\n",
        "}"
      ],
      "execution_count": 0,
      "outputs": []
    },
    {
      "cell_type": "code",
      "metadata": {
        "id": "2jzMYwd0FUmB",
        "colab_type": "code",
        "colab": {}
      },
      "source": [
        "dumps_json(\"clusters.json\", clusters)"
      ],
      "execution_count": 0,
      "outputs": []
    },
    {
      "cell_type": "code",
      "metadata": {
        "id": "xKR55Q97Dw_Z",
        "colab_type": "code",
        "colab": {}
      },
      "source": [
        "# 重複者\n",
        "\n",
        "(df_kanja.loc[:, \"認定こども園\":].copy().notnull().sum(axis=1) > 1).sum()"
      ],
      "execution_count": 0,
      "outputs": []
    },
    {
      "cell_type": "markdown",
      "metadata": {
        "id": "gug1ffSBFixf",
        "colab_type": "text"
      },
      "source": [
        "## yousei.xlsx"
      ]
    },
    {
      "cell_type": "code",
      "metadata": {
        "id": "kODIiANyfhdN",
        "colab_type": "code",
        "colab": {}
      },
      "source": [
        "yousei_path = get_file(YOUSEI_XLSX, DOWNLOAD_DIR)"
      ],
      "execution_count": 0,
      "outputs": []
    },
    {
      "cell_type": "code",
      "metadata": {
        "id": "FgEnLr8pFhWI",
        "colab_type": "code",
        "colab": {}
      },
      "source": [
        "df_yousei = pd.read_excel(yousei_path, index_col=\"発表年月日\")\n",
        "\n",
        "df_yousei.columns = df_yousei.columns.map(lambda s: s.replace(\"（累計）\", \"\").strip())\n",
        "\n",
        "df_yousei.index += pd.to_timedelta(\"1 days\")\n",
        "\n",
        "df_yousei.rename(columns={\"中等症以下\": \"軽症・中等症\", \"陽性者数\": \"陽性患者数\"}, inplace=True)\n",
        "\n",
        "df_yousei.drop(\"発表時間\", axis=1, inplace=True)\n",
        "\n",
        "df_yousei"
      ],
      "execution_count": 0,
      "outputs": []
    },
    {
      "cell_type": "code",
      "metadata": {
        "id": "xlI_55c5FiM_",
        "colab_type": "code",
        "colab": {}
      },
      "source": [
        "d = df_yousei.iloc[-1].to_dict()"
      ],
      "execution_count": 0,
      "outputs": []
    },
    {
      "cell_type": "code",
      "metadata": {
        "id": "YSv_sHnJFoRf",
        "colab_type": "code",
        "colab": {}
      },
      "source": [
        "main_summary = {\n",
        "    \"attr\": \"検査実施人数\",\n",
        "    \"value\": d[\"検査実施人数\"],\n",
        "    \"children\": [\n",
        "        {\n",
        "            \"attr\": \"陽性患者数\",\n",
        "            \"value\": d[\"陽性患者数\"],\n",
        "            \"children\": [\n",
        "                {\n",
        "                    \"attr\": \"入院中\",\n",
        "                    \"value\": d[\"入院中\"],\n",
        "                    \"children\": [\n",
        "                        {\"attr\": \"軽症・中等症\", \"value\": d[\"軽症・中等症\"]},\n",
        "                        {\"attr\": \"重症\", \"value\": d[\"重症\"]},\n",
        "                    ],\n",
        "                },\n",
        "                {\"attr\": \"死亡\", \"value\": d[\"死亡\"]},\n",
        "                {\"attr\": \"退院\", \"value\": d[\"退院\"]},\n",
        "            ],\n",
        "        }\n",
        "    ],\n",
        "    \"last_update\": last_update.strftime(\"%Y-%m-%d %H:%M\"),\n",
        "}"
      ],
      "execution_count": 0,
      "outputs": []
    },
    {
      "cell_type": "code",
      "metadata": {
        "id": "FTxI8eGt57NM",
        "colab_type": "code",
        "colab": {}
      },
      "source": [
        "jsonschema.validate(main_summary, MAIN_SUMMARY_SCHEMA)\n",
        "\n",
        "dumps_json(\"main_summary.json\", main_summary)"
      ],
      "execution_count": 0,
      "outputs": []
    },
    {
      "cell_type": "markdown",
      "metadata": {
        "id": "HfVk5o1rF1a7",
        "colab_type": "text"
      },
      "source": [
        "# チェック"
      ]
    },
    {
      "cell_type": "code",
      "metadata": {
        "id": "2MAgx7EfCux3",
        "colab_type": "code",
        "colab": {}
      },
      "source": [
        "json_check(\"patients_summary.json\", patients_summary)\n",
        "json_check(\"inspections_summary.json\", inspections_summary)"
      ],
      "execution_count": 0,
      "outputs": []
    },
    {
      "cell_type": "code",
      "metadata": {
        "id": "YGURxqLmCu1H",
        "colab_type": "code",
        "colab": {}
      },
      "source": [
        "json_check(\"patients_summary.json\", patients_summary)\n",
        "json_check(\"age.json\", age)\n",
        "json_check(\"age_summary.json\", age_summary)\n",
        "json_check(\"clusters.json\", clusters)\n",
        "json_check(\"clusters_summary.json\", clusters_summary)\n",
        "json_check(\"patients.json\", patients)"
      ],
      "execution_count": 0,
      "outputs": []
    },
    {
      "cell_type": "code",
      "metadata": {
        "id": "iurioM6cCu4c",
        "colab_type": "code",
        "colab": {}
      },
      "source": [
        "json_check(\"main_summary.json\", main_summary)"
      ],
      "execution_count": 0,
      "outputs": []
    }
  ]
}