{
  "nbformat": 4,
  "nbformat_minor": 0,
  "metadata": {
    "colab": {
      "name": "toyama_opendata.ipynb",
      "provenance": [],
      "authorship_tag": "ABX9TyPzpD4NpeayKJfm6Nr+yVSx",
      "include_colab_link": true
    },
    "kernelspec": {
      "name": "python3",
      "display_name": "Python 3"
    }
  },
  "cells": [
    {
      "cell_type": "markdown",
      "metadata": {
        "id": "view-in-github",
        "colab_type": "text"
      },
      "source": [
        "<a href=\"https://colab.research.google.com/github/imabari/covid19-data/blob/master/toyama/toyama_opendata.ipynb\" target=\"_parent\"><img src=\"https://colab.research.google.com/assets/colab-badge.svg\" alt=\"Open In Colab\"/></a>"
      ]
    },
    {
      "cell_type": "code",
      "metadata": {
        "id": "Pz5ZiWjygZvW",
        "colab_type": "code",
        "outputId": "634b66ac-01d2-4ae2-9b43-983964bad972",
        "colab": {
          "base_uri": "https://localhost:8080/",
          "height": 104
        }
      },
      "source": [
        "!pip install -U pandas"
      ],
      "execution_count": 1,
      "outputs": [
        {
          "output_type": "stream",
          "text": [
            "Requirement already up-to-date: pandas in /usr/local/lib/python3.6/dist-packages (1.0.3)\n",
            "Requirement already satisfied, skipping upgrade: numpy>=1.13.3 in /usr/local/lib/python3.6/dist-packages (from pandas) (1.18.3)\n",
            "Requirement already satisfied, skipping upgrade: pytz>=2017.2 in /usr/local/lib/python3.6/dist-packages (from pandas) (2018.9)\n",
            "Requirement already satisfied, skipping upgrade: python-dateutil>=2.6.1 in /usr/local/lib/python3.6/dist-packages (from pandas) (2.8.1)\n",
            "Requirement already satisfied, skipping upgrade: six>=1.5 in /usr/local/lib/python3.6/dist-packages (from python-dateutil>=2.6.1->pandas) (1.12.0)\n"
          ],
          "name": "stdout"
        }
      ]
    },
    {
      "cell_type": "code",
      "metadata": {
        "id": "wQdpmy8RgQBq",
        "colab_type": "code",
        "colab": {}
      },
      "source": [
        "import datetime\n",
        "import json\n",
        "import os"
      ],
      "execution_count": 0,
      "outputs": []
    },
    {
      "cell_type": "code",
      "metadata": {
        "id": "hgMT_PxAgdAe",
        "colab_type": "code",
        "colab": {}
      },
      "source": [
        "import pandas as pd"
      ],
      "execution_count": 0,
      "outputs": []
    },
    {
      "cell_type": "markdown",
      "metadata": {
        "id": "dF8GEhL_o5hx",
        "colab_type": "text"
      },
      "source": [
        "# 設定"
      ]
    },
    {
      "cell_type": "code",
      "metadata": {
        "id": "tAPimLkMggEg",
        "colab_type": "code",
        "colab": {}
      },
      "source": [
        "PREF_CODE = \"160008\"\n",
        "PREF_NAME = \"富山県\"\n",
        "CITY_NAME = \"\""
      ],
      "execution_count": 0,
      "outputs": []
    },
    {
      "cell_type": "code",
      "metadata": {
        "id": "qVL6j85_iWUV",
        "colab_type": "code",
        "colab": {}
      },
      "source": [
        "OUT_DIR = \"./data\"\n",
        "\n",
        "COUNTS_FILE = \"./data/toyama_counts.csv\"\n",
        "PATIENTS_FILE = \"./data/toyama_patients.csv\""
      ],
      "execution_count": 0,
      "outputs": []
    },
    {
      "cell_type": "code",
      "metadata": {
        "id": "dn8YaU1RiI5e",
        "colab_type": "code",
        "colab": {}
      },
      "source": [
        "!mkdir -p $OUT_DIR"
      ],
      "execution_count": 0,
      "outputs": []
    },
    {
      "cell_type": "markdown",
      "metadata": {
        "id": "xeQkelXUqHFp",
        "colab_type": "text"
      },
      "source": [
        "# ダウンロード"
      ]
    },
    {
      "cell_type": "code",
      "metadata": {
        "id": "rKjNZrKGg0VW",
        "colab_type": "code",
        "outputId": "c5a69697-e62e-4690-f90b-f0951256c9f5",
        "colab": {
          "base_uri": "https://localhost:8080/",
          "height": 399
        }
      },
      "source": [
        "!wget \"https://docs.google.com/spreadsheets/d/e/2PACX-1vSJuQThafLPC7OPqUC9TbLV1DmSU0x2Co8VZi2Q2ZZCKLJCTayDl6IoXKyK676mzBgpkoKMgpNK1VML/pub?gid=0&single=true&output=csv\" -O $PATIENTS_FILE\n",
        "!wget \"https://docs.google.com/spreadsheets/d/e/2PACX-1vSJuQThafLPC7OPqUC9TbLV1DmSU0x2Co8VZi2Q2ZZCKLJCTayDl6IoXKyK676mzBgpkoKMgpNK1VML/pub?gid=574469870&single=true&output=csv\" -O $COUNTS_FILE"
      ],
      "execution_count": 7,
      "outputs": [
        {
          "output_type": "stream",
          "text": [
            "--2020-04-27 00:59:02--  https://docs.google.com/spreadsheets/d/e/2PACX-1vSJuQThafLPC7OPqUC9TbLV1DmSU0x2Co8VZi2Q2ZZCKLJCTayDl6IoXKyK676mzBgpkoKMgpNK1VML/pub?gid=0&single=true&output=csv\n",
            "Resolving docs.google.com (docs.google.com)... 173.194.69.113, 173.194.69.138, 173.194.69.102, ...\n",
            "Connecting to docs.google.com (docs.google.com)|173.194.69.113|:443... connected.\n",
            "HTTP request sent, awaiting response... 200 OK\n",
            "Length: unspecified [text/csv]\n",
            "Saving to: ‘./data/toyama_patients.csv’\n",
            "\n",
            "./data/toyama_patie     [ <=>                ]  14.75K  --.-KB/s    in 0s      \n",
            "\n",
            "2020-04-27 00:59:03 (83.4 MB/s) - ‘./data/toyama_patients.csv’ saved [15109]\n",
            "\n",
            "--2020-04-27 00:59:04--  https://docs.google.com/spreadsheets/d/e/2PACX-1vSJuQThafLPC7OPqUC9TbLV1DmSU0x2Co8VZi2Q2ZZCKLJCTayDl6IoXKyK676mzBgpkoKMgpNK1VML/pub?gid=574469870&single=true&output=csv\n",
            "Resolving docs.google.com (docs.google.com)... 173.194.69.139, 173.194.69.138, 173.194.69.102, ...\n",
            "Connecting to docs.google.com (docs.google.com)|173.194.69.139|:443... connected.\n",
            "HTTP request sent, awaiting response... 200 OK\n",
            "Length: unspecified [text/csv]\n",
            "Saving to: ‘./data/toyama_counts.csv’\n",
            "\n",
            "./data/toyama_count     [ <=>                ]   1.93K  --.-KB/s    in 0s      \n",
            "\n",
            "2020-04-27 00:59:06 (21.2 MB/s) - ‘./data/toyama_counts.csv’ saved [1976]\n",
            "\n"
          ],
          "name": "stdout"
        }
      ]
    },
    {
      "cell_type": "markdown",
      "metadata": {
        "id": "TuuPZgAvpAdB",
        "colab_type": "text"
      },
      "source": [
        "# オープンデータ作成"
      ]
    },
    {
      "cell_type": "code",
      "metadata": {
        "id": "nGxj1IohggKC",
        "colab_type": "code",
        "colab": {}
      },
      "source": [
        "df_counts = pd.read_csv(\n",
        "    COUNTS_FILE, index_col=\"年月日\", parse_dates=True, dtype={\"備考\": \"object\"},\n",
        ")"
      ],
      "execution_count": 0,
      "outputs": []
    },
    {
      "cell_type": "markdown",
      "metadata": {
        "id": "I1iMLiBlqeAh",
        "colab_type": "text"
      },
      "source": [
        "## 前処理"
      ]
    },
    {
      "cell_type": "code",
      "metadata": {
        "id": "CiV-yTXoggPW",
        "colab_type": "code",
        "colab": {}
      },
      "source": [
        "df_counts[\"備考\"] = df_counts[\"備考\"].fillna(\"\")\n",
        "\n",
        "# 検査実施人数\n",
        "df_counts[\"実施_年月日\"] = df_counts.index.strftime(\"%Y-%m-%d\")\n",
        "\n",
        "# 陰性確認数\n",
        "df_counts[\"完了_年月日\"] = df_counts.index.strftime(\"%Y-%m-%d\")\n",
        "\n",
        "# コールセンター相談件数\n",
        "df_counts[\"受付_年月日\"] = df_counts.index.strftime(\"%Y-%m-%d\")"
      ],
      "execution_count": 0,
      "outputs": []
    },
    {
      "cell_type": "code",
      "metadata": {
        "id": "1Z5vbQIsphEU",
        "colab_type": "code",
        "colab": {}
      },
      "source": [
        "df_counts[\"全国地方公共団体コード\"] = PREF_CODE\n",
        "df_counts[\"都道府県名\"] = PREF_NAME\n",
        "df_counts[\"市区町村名\"] = CITY_NAME"
      ],
      "execution_count": 0,
      "outputs": []
    },
    {
      "cell_type": "markdown",
      "metadata": {
        "id": "iCZ2-5yzqhOr",
        "colab_type": "text"
      },
      "source": [
        "## 検査実施人数"
      ]
    },
    {
      "cell_type": "code",
      "metadata": {
        "id": "WsgRZWvapZ5K",
        "colab_type": "code",
        "colab": {}
      },
      "source": [
        "df_counts.rename(columns={\"検査実施人数\": \"検査実施_人数\"}, inplace=True)\n",
        "\n",
        "test_people = df_counts.loc[\n",
        "    :, [\"実施_年月日\", \"全国地方公共団体コード\", \"都道府県名\", \"市区町村名\", \"検査実施_人数\", \"備考\"]\n",
        "].copy()\n",
        "\n",
        "test_people.to_csv(\n",
        "    os.path.join(OUT_DIR, \"160001_toyama_covid19_test_people.csv\"),\n",
        "    index=False,\n",
        "    encoding=\"utf-8\",\n",
        ")"
      ],
      "execution_count": 0,
      "outputs": []
    },
    {
      "cell_type": "markdown",
      "metadata": {
        "id": "r10R1Qbuqoa1",
        "colab_type": "text"
      },
      "source": [
        "## 陰性確認数"
      ]
    },
    {
      "cell_type": "code",
      "metadata": {
        "id": "DgT1smMcggRp",
        "colab_type": "code",
        "colab": {}
      },
      "source": [
        "\n",
        "df_counts.rename(columns={\"陰性人数\": \"陰性確認_件数\"}, inplace=True)\n",
        "\n",
        "confirm_negative = df_counts.loc[\n",
        "    :, [\"完了_年月日\", \"全国地方公共団体コード\", \"都道府県名\", \"市区町村名\", \"陰性確認_件数\", \"備考\"]\n",
        "].copy()\n",
        "\n",
        "confirm_negative.to_csv(\n",
        "    os.path.join(OUT_DIR, \"160001_toyama_covid19_confirm_negative.csv\"),\n",
        "    index=False,\n",
        "    encoding=\"utf-8\",\n",
        ")"
      ],
      "execution_count": 0,
      "outputs": []
    },
    {
      "cell_type": "markdown",
      "metadata": {
        "id": "Decg4CLykNS8",
        "colab_type": "text"
      },
      "source": [
        "## 一般相談件数"
      ]
    },
    {
      "cell_type": "code",
      "metadata": {
        "id": "c18uI1qAggUT",
        "colab_type": "code",
        "colab": {}
      },
      "source": [
        "\n",
        "call_center = df_counts.loc[\n",
        "    :, [\"受付_年月日\", \"全国地方公共団体コード\", \"都道府県名\", \"市区町村名\", \"一般相談件数\"]\n",
        "].copy()\n",
        "\n",
        "call_center.rename(columns={\"一般相談件数\": \"相談件数\"}, inplace=True)\n",
        "call_center.to_csv(\n",
        "    os.path.join(OUT_DIR, \"160001_toyama_covid19_call_center.csv\"),\n",
        "    index=False,\n",
        "    encoding=\"utf-8\",\n",
        ")"
      ],
      "execution_count": 0,
      "outputs": []
    },
    {
      "cell_type": "markdown",
      "metadata": {
        "id": "2hVfOixDq0jr",
        "colab_type": "text"
      },
      "source": [
        "## 帰国者・接触者相談センター相談件数"
      ]
    },
    {
      "cell_type": "code",
      "metadata": {
        "id": "_zH4-u5fggXL",
        "colab_type": "code",
        "colab": {}
      },
      "source": [
        "hot_line = df_counts.loc[\n",
        "    :, [\"受付_年月日\", \"全国地方公共団体コード\", \"都道府県名\", \"市区町村名\", \"帰国者相談件数\"]\n",
        "].copy()\n",
        "\n",
        "hot_line.rename(columns={\"帰国者相談件数\": \"相談件数\"}, inplace=True)\n",
        "hot_line.to_csv(\n",
        "    os.path.join(OUT_DIR, \"160001_toyama_covid19_hot_line.csv\"),\n",
        "    index=False,\n",
        "    encoding=\"utf-8\",\n",
        ")"
      ],
      "execution_count": 0,
      "outputs": []
    },
    {
      "cell_type": "markdown",
      "metadata": {
        "id": "q1zSOoc5kYjM",
        "colab_type": "text"
      },
      "source": [
        "## 陽性患者属性"
      ]
    },
    {
      "cell_type": "code",
      "metadata": {
        "id": "k6lZFmXHl8dj",
        "colab_type": "code",
        "colab": {}
      },
      "source": [
        "df_kanja = pd.read_csv(\n",
        "    PATIENTS_FILE,\n",
        "    index_col=\"No\",\n",
        "    dtype={\"発症日\": \"object\", \"年代\": \"object\", \"備考\": \"object\"},\n",
        ")"
      ],
      "execution_count": 0,
      "outputs": []
    },
    {
      "cell_type": "code",
      "metadata": {
        "id": "O8GpdmKZmQEz",
        "colab_type": "code",
        "colab": {}
      },
      "source": [
        "# タイトル名変更\n",
        "df_kanja.rename(\n",
        "    columns={\n",
        "        \"検査結果判明日\": \"公表_年月日\",\n",
        "        \"発症日\": \"発症_年月日\",\n",
        "        \"居住地\": \"患者_居住地\",\n",
        "        \"年代\": \"患者_年代\",\n",
        "        \"性別\": \"患者_性別\",\n",
        "        \"職業\": \"患者_職業\",\n",
        "        \"症状\": \"患者_状態\",\n",
        "        \"渡航歴の有無\": \"患者_渡航歴の有無フラグ\",\n",
        "        \"状態\": \"患者_退院済フラグ\",\n",
        "    },\n",
        "    inplace=True,\n",
        ")"
      ],
      "execution_count": 0,
      "outputs": []
    },
    {
      "cell_type": "code",
      "metadata": {
        "id": "uOuX9Za6mQQz",
        "colab_type": "code",
        "colab": {}
      },
      "source": [
        "df_kanja[\"全国地方公共団体コード\"] = PREF_CODE\n",
        "df_kanja[\"都道府県名\"] = PREF_NAME\n",
        "df_kanja[\"市区町村名\"] = CITY_NAME"
      ],
      "execution_count": 0,
      "outputs": []
    },
    {
      "cell_type": "code",
      "metadata": {
        "id": "bqS00_OomQgq",
        "colab_type": "code",
        "colab": {}
      },
      "source": [
        "df_kanja[\"患者_退院済フラグ\"] = (\n",
        "    df_kanja[\"患者_退院済フラグ\"].replace({\"入院中\": 0, \"退院\": 1, \"死亡\": 1}).astype(\"Int64\")\n",
        ")"
      ],
      "execution_count": 0,
      "outputs": []
    },
    {
      "cell_type": "code",
      "metadata": {
        "id": "lnjbixnLmaE8",
        "colab_type": "code",
        "colab": {}
      },
      "source": [
        "df_kanja[\"患者_渡航歴の有無フラグ\"] = (\n",
        "    df_kanja[\"患者_渡航歴の有無フラグ\"].replace({\"x\": 0, \"o\": 1}).astype(\"Int64\")\n",
        ")"
      ],
      "execution_count": 0,
      "outputs": []
    },
    {
      "cell_type": "code",
      "metadata": {
        "id": "SSysBi4XmcOQ",
        "colab_type": "code",
        "colab": {}
      },
      "source": [
        "df_kanja[\"患者_症状\"] = \"\""
      ],
      "execution_count": 0,
      "outputs": []
    },
    {
      "cell_type": "code",
      "metadata": {
        "id": "SPwq3pRlrlup",
        "colab_type": "code",
        "colab": {}
      },
      "source": [
        "df_kanja[\"患者_年代\"] = df_kanja[\"患者_年代\"].replace({\"90代以上\": \"90歳以上\"})"
      ],
      "execution_count": 0,
      "outputs": []
    },
    {
      "cell_type": "code",
      "metadata": {
        "id": "XgsHanz0mnW7",
        "colab_type": "code",
        "colab": {}
      },
      "source": [
        "patients = df_kanja.loc[\n",
        "    :,\n",
        "    [\n",
        "        \"全国地方公共団体コード\",\n",
        "        \"都道府県名\",\n",
        "        \"市区町村名\",\n",
        "        \"公表_年月日\",\n",
        "        \"発症_年月日\",\n",
        "        \"患者_居住地\",\n",
        "        \"患者_年代\",\n",
        "        \"患者_性別\",\n",
        "        \"患者_職業\",\n",
        "        \"患者_状態\",\n",
        "        \"患者_症状\",\n",
        "        \"患者_渡航歴の有無フラグ\",\n",
        "        \"患者_退院済フラグ\",\n",
        "        \"備考\",\n",
        "    ],\n",
        "]"
      ],
      "execution_count": 0,
      "outputs": []
    },
    {
      "cell_type": "code",
      "metadata": {
        "id": "ioZ5UF57kY2L",
        "colab_type": "code",
        "colab": {}
      },
      "source": [
        "patients.to_csv(\n",
        "    os.path.join(OUT_DIR, \"160001_toyama_covid19_patients.csv\"),\n",
        "    index=False,\n",
        "    encoding=\"utf-8\",\n",
        ")"
      ],
      "execution_count": 0,
      "outputs": []
    },
    {
      "cell_type": "markdown",
      "metadata": {
        "id": "hg_kiQeHpwYT",
        "colab_type": "text"
      },
      "source": [
        "# ファイル圧縮"
      ]
    },
    {
      "cell_type": "code",
      "metadata": {
        "id": "mAkjGWBDnb-z",
        "colab_type": "code",
        "outputId": "406558d1-357f-461a-c3c0-0b7ef1d02869",
        "colab": {
          "base_uri": "https://localhost:8080/",
          "height": 156
        }
      },
      "source": [
        "!zip opendata -r data"
      ],
      "execution_count": 24,
      "outputs": [
        {
          "output_type": "stream",
          "text": [
            "  adding: data/ (stored 0%)\n",
            "  adding: data/160001_toyama_covid19_call_center.csv (deflated 80%)\n",
            "  adding: data/160001_toyama_covid19_confirm_negative.csv (deflated 80%)\n",
            "  adding: data/160001_toyama_covid19_patients.csv (deflated 90%)\n",
            "  adding: data/160001_toyama_covid19_hot_line.csv (deflated 81%)\n",
            "  adding: data/toyama_patients.csv (deflated 87%)\n",
            "  adding: data/160001_toyama_covid19_test_people.csv (deflated 80%)\n",
            "  adding: data/toyama_counts.csv (deflated 66%)\n"
          ],
          "name": "stdout"
        }
      ]
    },
    {
      "cell_type": "markdown",
      "metadata": {
        "id": "IubIiqvSpzRy",
        "colab_type": "text"
      },
      "source": [
        "# ダウンロード"
      ]
    },
    {
      "cell_type": "code",
      "metadata": {
        "id": "OlfWWqvon8rD",
        "colab_type": "code",
        "colab": {}
      },
      "source": [
        "from google.colab import files"
      ],
      "execution_count": 0,
      "outputs": []
    },
    {
      "cell_type": "code",
      "metadata": {
        "id": "LLvCymj3n_By",
        "colab_type": "code",
        "colab": {}
      },
      "source": [
        "files.download(\"opendata.zip\")"
      ],
      "execution_count": 0,
      "outputs": []
    }
  ]
}