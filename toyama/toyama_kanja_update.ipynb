{
  "nbformat": 4,
  "nbformat_minor": 0,
  "metadata": {
    "colab": {
      "name": "toyama_kanja_update.ipynb",
      "provenance": [],
      "authorship_tag": "ABX9TyMP88528RsRVN5MboePDK+H",
      "include_colab_link": true
    },
    "kernelspec": {
      "name": "python3",
      "display_name": "Python 3"
    }
  },
  "cells": [
    {
      "cell_type": "markdown",
      "metadata": {
        "id": "view-in-github",
        "colab_type": "text"
      },
      "source": [
        "<a href=\"https://colab.research.google.com/github/imabari/toyama/blob/master/toyama_kanja_update.ipynb\" target=\"_parent\"><img src=\"https://colab.research.google.com/assets/colab-badge.svg\" alt=\"Open In Colab\"/></a>"
      ]
    },
    {
      "cell_type": "code",
      "metadata": {
        "id": "XS60Gg8xLnEd",
        "colab_type": "code",
        "outputId": "0fde90a1-b637-4009-c1c2-ebf536ab18ab",
        "colab": {
          "base_uri": "https://localhost:8080/",
          "height": 173
        }
      },
      "source": [
        "!pip install jaconv"
      ],
      "execution_count": 1,
      "outputs": [
        {
          "output_type": "stream",
          "text": [
            "Collecting jaconv\n",
            "  Downloading https://files.pythonhosted.org/packages/b0/9e/cf1353fb3e81a177bb52ca59a0ebee425f084b7298039a7965c5414d2d62/jaconv-0.2.4.tar.gz\n",
            "Building wheels for collected packages: jaconv\n",
            "  Building wheel for jaconv (setup.py) ... \u001b[?25l\u001b[?25hdone\n",
            "  Created wheel for jaconv: filename=jaconv-0.2.4-cp36-none-any.whl size=12285 sha256=660f86377714e171f65a44e309d191b9b67f14ddf536bd05001da29b79050fe3\n",
            "  Stored in directory: /root/.cache/pip/wheels/e1/46/f7/85a7f89bd3263423c8530dfed16083f9a142cc0fc78c81ff32\n",
            "Successfully built jaconv\n",
            "Installing collected packages: jaconv\n",
            "Successfully installed jaconv-0.2.4\n"
          ],
          "name": "stdout"
        }
      ]
    },
    {
      "cell_type": "code",
      "metadata": {
        "id": "jLjSn87oL0nk",
        "colab_type": "code",
        "colab": {}
      },
      "source": [
        "import jaconv"
      ],
      "execution_count": 0,
      "outputs": []
    },
    {
      "cell_type": "code",
      "metadata": {
        "id": "kusZknHhOOYl",
        "colab_type": "code",
        "colab": {}
      },
      "source": [
        "import datetime"
      ],
      "execution_count": 0,
      "outputs": []
    },
    {
      "cell_type": "code",
      "metadata": {
        "id": "qpkXEgqqJzH6",
        "colab_type": "code",
        "colab": {}
      },
      "source": [
        "import requests\n",
        "from bs4 import BeautifulSoup"
      ],
      "execution_count": 0,
      "outputs": []
    },
    {
      "cell_type": "code",
      "metadata": {
        "id": "PM0Abp4gJzHN",
        "colab_type": "code",
        "colab": {}
      },
      "source": [
        "url = \"http://www.pref.toyama.jp/cms_sec/1205/kj00021798.html\"\n",
        "\n",
        "headers = {\n",
        "    \"User-Agent\": \"Mozilla/5.0 (Windows NT 10.0; WOW64; Trident/7.0; rv:11.0) like Gecko\",\n",
        "}"
      ],
      "execution_count": 0,
      "outputs": []
    },
    {
      "cell_type": "code",
      "metadata": {
        "id": "PDxEWA_qOD--",
        "colab_type": "code",
        "colab": {}
      },
      "source": [
        "# 和暦から西暦のdateに変換\n",
        "def wareki2date(s):\n",
        "\n",
        "    m = re.match(\"(昭和|平成|令和)(\\d{1,2})年(\\d{1,2})月(\\d{1,2})日\", s)\n",
        "\n",
        "    year = int(m.group(2))\n",
        "    month = int(m.group(3))\n",
        "    day = int(m.group(4))\n",
        "\n",
        "    if m.group(1) == \"昭和\":\n",
        "        year += 1925\n",
        "    elif m.group(1) == \"平成\":\n",
        "        year += 1988\n",
        "    elif m.group(1) == \"令和\":\n",
        "        year += 2018\n",
        "\n",
        "    result = datetime.date(year, month, day)\n",
        "\n",
        "    return result"
      ],
      "execution_count": 0,
      "outputs": []
    },
    {
      "cell_type": "code",
      "metadata": {
        "id": "7CV0YJ59JzGf",
        "colab_type": "code",
        "colab": {}
      },
      "source": [
        "r = requests.get(url, headers=headers)\n",
        "\n",
        "r.raise_for_status()\n",
        "\n",
        "soup = BeautifulSoup(r.content, \"html5lib\")"
      ],
      "execution_count": 0,
      "outputs": []
    },
    {
      "cell_type": "code",
      "metadata": {
        "id": "8PctjQj2NFzk",
        "colab_type": "code",
        "colab": {}
      },
      "source": [
        "import re"
      ],
      "execution_count": 0,
      "outputs": []
    },
    {
      "cell_type": "code",
      "metadata": {
        "id": "tIj3Tsb-NJ9E",
        "colab_type": "code",
        "colab": {}
      },
      "source": [
        "result = []\n",
        "\n",
        "h4 = soup.find(\"h4\")\n",
        "\n",
        "title = jaconv.z2h(h4.get_text(), digit=True, ascii=True)\n",
        "\n",
        "dt = wareki2date(title)\n",
        "\n",
        "s = jaconv.z2h(\n",
        "    h4.find_next_sibling(\"p\").get_text(\"\\n\", strip=True),\n",
        "    kana=False,\n",
        "    digit=True,\n",
        "    ascii=False,\n",
        ").strip(\"◎\")\n",
        "\n",
        "for i in s.split(\"◎\"):\n",
        "\n",
        "    data = [dt]\n",
        "\n",
        "    tmp = i.splitlines()\n",
        "\n",
        "    m = re.match(\"(\\d{1,3})例目（(.+)）\", tmp[0])\n",
        "    data.extend(list(m.groups()))\n",
        "\n",
        "    data.extend([i.split()[1] for i in tmp[1:]])\n",
        "\n",
        "    result.append(data)"
      ],
      "execution_count": 0,
      "outputs": []
    },
    {
      "cell_type": "code",
      "metadata": {
        "id": "8ALZphfc5q9q",
        "colab_type": "code",
        "colab": {}
      },
      "source": [
        "import pandas as pd"
      ],
      "execution_count": 0,
      "outputs": []
    },
    {
      "cell_type": "code",
      "metadata": {
        "id": "DzLeuuHD5mTK",
        "colab_type": "code",
        "colab": {}
      },
      "source": [
        "df = pd.DataFrame(result, columns=[\"公表年月日\", \"No\", \"症状\", \"年代\", \"性別\", \"居住地\"])"
      ],
      "execution_count": 0,
      "outputs": []
    },
    {
      "cell_type": "code",
      "metadata": {
        "id": "PdiE-z3G68BY",
        "colab_type": "code",
        "colab": {}
      },
      "source": [
        "df[\"No\"] = df[\"No\"].astype(int)"
      ],
      "execution_count": 0,
      "outputs": []
    },
    {
      "cell_type": "code",
      "metadata": {
        "id": "pqCEFlTh7GjE",
        "colab_type": "code",
        "colab": {}
      },
      "source": [
        "df[\"症状\"] = df[\"症状\"].replace({\"患者\":\"軽症・中等症\", \"無症状病原体保有者\":\"無症状\"})"
      ],
      "execution_count": 0,
      "outputs": []
    },
    {
      "cell_type": "code",
      "metadata": {
        "id": "Xg0xCevG7cP2",
        "colab_type": "code",
        "colab": {}
      },
      "source": [
        "df[\"年代\"] = df[\"年代\"].str.replace(\"歳\", \"\")"
      ],
      "execution_count": 0,
      "outputs": []
    },
    {
      "cell_type": "code",
      "metadata": {
        "id": "LD8MzHmd9igE",
        "colab_type": "code",
        "colab": {}
      },
      "source": [
        "df[\"市区町村名\"] = df[\"居住地\"].apply(lambda x: \"富山市\" if \"富山市\" in x else \"\")"
      ],
      "execution_count": 0,
      "outputs": []
    },
    {
      "cell_type": "code",
      "metadata": {
        "id": "yFJ2TQ-BAECz",
        "colab_type": "code",
        "colab": {}
      },
      "source": [
        "df[\"状態\"] = \"入院中\""
      ],
      "execution_count": 0,
      "outputs": []
    },
    {
      "cell_type": "code",
      "metadata": {
        "id": "hcZJ8cywAEJ1",
        "colab_type": "code",
        "colab": {}
      },
      "source": [
        "df[\"発症日\"] = \"\"\n",
        "df[\"職業\"] = \"\"\n",
        "df[\"渡航歴の有無\"] = \"x\"\n",
        "df[\"備考\"] = \"\""
      ],
      "execution_count": 0,
      "outputs": []
    },
    {
      "cell_type": "code",
      "metadata": {
        "id": "kSAWmr1J7nur",
        "colab_type": "code",
        "colab": {}
      },
      "source": [
        "df.set_index(\"No\", inplace=True)"
      ],
      "execution_count": 0,
      "outputs": []
    },
    {
      "cell_type": "code",
      "metadata": {
        "id": "ZnhHVph09Z7j",
        "colab_type": "code",
        "colab": {}
      },
      "source": [
        "df.sort_index(inplace=True)"
      ],
      "execution_count": 0,
      "outputs": []
    },
    {
      "cell_type": "code",
      "metadata": {
        "id": "4f0zAHpS8M-Z",
        "colab_type": "code",
        "colab": {}
      },
      "source": [
        "df_csv = df.loc[\n",
        "    :, [\"市区町村名\", \"公表年月日\", \"発症日\", \"居住地\", \"年代\", \"性別\", \"職業\", \"状態\", \"症状\", \"渡航歴の有無\", \"備考\"]\n",
        "]"
      ],
      "execution_count": 0,
      "outputs": []
    },
    {
      "cell_type": "code",
      "metadata": {
        "id": "3pb6Hc52FGFQ",
        "colab_type": "code",
        "colab": {
          "base_uri": "https://localhost:8080/",
          "height": 175
        },
        "outputId": "789e1629-7a9d-4c7c-963c-4b49fba5a7ac"
      },
      "source": [
        "df_csv"
      ],
      "execution_count": 25,
      "outputs": [
        {
          "output_type": "execute_result",
          "data": {
            "text/html": [
              "<div>\n",
              "<style scoped>\n",
              "    .dataframe tbody tr th:only-of-type {\n",
              "        vertical-align: middle;\n",
              "    }\n",
              "\n",
              "    .dataframe tbody tr th {\n",
              "        vertical-align: top;\n",
              "    }\n",
              "\n",
              "    .dataframe thead th {\n",
              "        text-align: right;\n",
              "    }\n",
              "</style>\n",
              "<table border=\"1\" class=\"dataframe\">\n",
              "  <thead>\n",
              "    <tr style=\"text-align: right;\">\n",
              "      <th></th>\n",
              "      <th>市区町村名</th>\n",
              "      <th>公表年月日</th>\n",
              "      <th>発症日</th>\n",
              "      <th>居住地</th>\n",
              "      <th>年代</th>\n",
              "      <th>性別</th>\n",
              "      <th>職業</th>\n",
              "      <th>状態</th>\n",
              "      <th>症状</th>\n",
              "      <th>渡航歴の有無</th>\n",
              "      <th>備考</th>\n",
              "    </tr>\n",
              "    <tr>\n",
              "      <th>No</th>\n",
              "      <th></th>\n",
              "      <th></th>\n",
              "      <th></th>\n",
              "      <th></th>\n",
              "      <th></th>\n",
              "      <th></th>\n",
              "      <th></th>\n",
              "      <th></th>\n",
              "      <th></th>\n",
              "      <th></th>\n",
              "      <th></th>\n",
              "    </tr>\n",
              "  </thead>\n",
              "  <tbody>\n",
              "    <tr>\n",
              "      <th>6</th>\n",
              "      <td>富山市</td>\n",
              "      <td>2020-04-02</td>\n",
              "      <td></td>\n",
              "      <td>富山市保健所管内（富山市）</td>\n",
              "      <td>50代</td>\n",
              "      <td>女性</td>\n",
              "      <td></td>\n",
              "      <td>入院中</td>\n",
              "      <td>軽症・中等症</td>\n",
              "      <td>x</td>\n",
              "      <td></td>\n",
              "    </tr>\n",
              "    <tr>\n",
              "      <th>7</th>\n",
              "      <td>富山市</td>\n",
              "      <td>2020-04-02</td>\n",
              "      <td></td>\n",
              "      <td>富山市保健所管内（富山市）</td>\n",
              "      <td>20代</td>\n",
              "      <td>男性</td>\n",
              "      <td></td>\n",
              "      <td>入院中</td>\n",
              "      <td>無症状</td>\n",
              "      <td>x</td>\n",
              "      <td></td>\n",
              "    </tr>\n",
              "    <tr>\n",
              "      <th>8</th>\n",
              "      <td></td>\n",
              "      <td>2020-04-02</td>\n",
              "      <td></td>\n",
              "      <td>高岡厚生センター管内（高岡市、射水市、氷見市）</td>\n",
              "      <td>50代</td>\n",
              "      <td>女性</td>\n",
              "      <td></td>\n",
              "      <td>入院中</td>\n",
              "      <td>軽症・中等症</td>\n",
              "      <td>x</td>\n",
              "      <td></td>\n",
              "    </tr>\n",
              "  </tbody>\n",
              "</table>\n",
              "</div>"
            ],
            "text/plain": [
              "   市区町村名       公表年月日 発症日                      居住地  ...   状態      症状 渡航歴の有無 備考\n",
              "No                                                 ...                       \n",
              "6    富山市  2020-04-02                富山市保健所管内（富山市）  ...  入院中  軽症・中等症      x   \n",
              "7    富山市  2020-04-02                富山市保健所管内（富山市）  ...  入院中     無症状      x   \n",
              "8         2020-04-02      高岡厚生センター管内（高岡市、射水市、氷見市）  ...  入院中  軽症・中等症      x   \n",
              "\n",
              "[3 rows x 11 columns]"
            ]
          },
          "metadata": {
            "tags": []
          },
          "execution_count": 25
        }
      ]
    },
    {
      "cell_type": "code",
      "metadata": {
        "id": "RzvQ_uyUBJYC",
        "colab_type": "code",
        "colab": {}
      },
      "source": [
        "df_csv.to_csv(f\"{dt}_kanja.csv\", encoding=\"utf_8_sig\")"
      ],
      "execution_count": 0,
      "outputs": []
    },
    {
      "cell_type": "code",
      "metadata": {
        "id": "Ot7zD5d1DuaE",
        "colab_type": "code",
        "colab": {}
      },
      "source": [
        "from google.colab import files"
      ],
      "execution_count": 0,
      "outputs": []
    },
    {
      "cell_type": "code",
      "metadata": {
        "id": "6k8wOS42Dx9D",
        "colab_type": "code",
        "colab": {}
      },
      "source": [
        "files.download(f\"{dt}_kanja.csv\")"
      ],
      "execution_count": 0,
      "outputs": []
    }
  ]
}
