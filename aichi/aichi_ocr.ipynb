{
  "nbformat": 4,
  "nbformat_minor": 0,
  "metadata": {
    "colab": {
      "name": "aichi_ocr.ipynb",
      "provenance": [],
      "collapsed_sections": [],
      "toc_visible": true,
      "authorship_tag": "ABX9TyNQd/kcUBPfkY3qn+6jP7/B",
      "include_colab_link": true
    },
    "kernelspec": {
      "name": "python3",
      "display_name": "Python 3"
    }
  },
  "cells": [
    {
      "cell_type": "markdown",
      "metadata": {
        "id": "view-in-github",
        "colab_type": "text"
      },
      "source": [
        "<a href=\"https://colab.research.google.com/github/imabari/covid19-data/blob/master/aichi/aichi_ocr.ipynb\" target=\"_parent\"><img src=\"https://colab.research.google.com/assets/colab-badge.svg\" alt=\"Open In Colab\"/></a>"
      ]
    },
    {
      "cell_type": "code",
      "metadata": {
        "id": "Pk-ZtniNyVfb",
        "colab_type": "code",
        "colab": {
          "base_uri": "https://localhost:8080/",
          "height": 1000
        },
        "outputId": "2eb2dcb4-fb39-4563-fe09-8e487784f6fd"
      },
      "source": [
        "!add-apt-repository ppa:alex-p/tesseract-ocr -y\n",
        "\n",
        "!apt update\n",
        "\n",
        "!apt install tesseract-ocr\n",
        "!apt install libtesseract-dev\n",
        "\n",
        "!tesseract -v\n",
        "\n",
        "!apt install tesseract-ocr-jpn  tesseract-ocr-jpn-vert\n",
        "!apt install tesseract-ocr-script-jpan tesseract-ocr-script-jpan-vert\n",
        "\n",
        "!tesseract --list-langs\n",
        "!pip install pytesseract"
      ],
      "execution_count": 1,
      "outputs": [
        {
          "output_type": "stream",
          "text": [
            "\r0% [Working]\r            \rHit:1 http://archive.ubuntu.com/ubuntu bionic InRelease\n",
            "\r0% [Waiting for headers] [Connected to cloud.r-project.org (13.227.219.75)] [Wa\r                                                                               \rGet:2 http://archive.ubuntu.com/ubuntu bionic-updates InRelease [88.7 kB]\n",
            "\r                                                                               \rGet:3 http://security.ubuntu.com/ubuntu bionic-security InRelease [88.7 kB]\n",
            "\r                                                                               \rGet:4 https://cloud.r-project.org/bin/linux/ubuntu bionic-cran35/ InRelease [3,626 B]\n",
            "\r                                                                               \rGet:5 http://ppa.launchpad.net/alex-p/tesseract-ocr/ubuntu bionic InRelease [15.4 kB]\n",
            "\r                                                                               \rGet:6 http://ppa.launchpad.net/graphics-drivers/ppa/ubuntu bionic InRelease [21.3 kB]\n",
            "\r0% [2 InRelease 88.7 kB/88.7 kB 100%] [6 InRelease 14.2 kB/21.3 kB 67%] [Waitin\r0% [Waiting for headers] [6 InRelease 17.1 kB/21.3 kB 80%] [Waiting for headers\r0% [1 InRelease gpgv 242 kB] [Waiting for headers] [6 InRelease 17.1 kB/21.3 kB\r0% [1 InRelease gpgv 242 kB] [Waiting for headers] [Connecting to ppa.launchpad\r                                                                               \rGet:7 http://archive.ubuntu.com/ubuntu bionic-backports InRelease [74.6 kB]\n",
            "Ign:8 https://developer.download.nvidia.com/compute/cuda/repos/ubuntu1804/x86_64  InRelease\n",
            "Ign:9 https://developer.download.nvidia.com/compute/machine-learning/repos/ubuntu1804/x86_64  InRelease\n",
            "Hit:10 https://developer.download.nvidia.com/compute/cuda/repos/ubuntu1804/x86_64  Release\n",
            "Get:11 https://developer.download.nvidia.com/compute/machine-learning/repos/ubuntu1804/x86_64  Release [564 B]\n",
            "Get:12 https://developer.download.nvidia.com/compute/machine-learning/repos/ubuntu1804/x86_64  Release.gpg [833 B]\n",
            "Get:13 http://security.ubuntu.com/ubuntu bionic-security/restricted amd64 Packages [109 kB]\n",
            "Get:14 http://security.ubuntu.com/ubuntu bionic-security/main amd64 Packages [1,067 kB]\n",
            "Get:15 http://security.ubuntu.com/ubuntu bionic-security/universe amd64 Packages [892 kB]\n",
            "Get:16 https://cloud.r-project.org/bin/linux/ubuntu bionic-cran35/ Packages [95.7 kB]\n",
            "Get:17 http://archive.ubuntu.com/ubuntu bionic-updates/restricted amd64 Packages [125 kB]\n",
            "Get:18 http://archive.ubuntu.com/ubuntu bionic-updates/main amd64 Packages [1,362 kB]\n",
            "Get:19 http://ppa.launchpad.net/marutter/c2d4u3.5/ubuntu bionic InRelease [15.4 kB]\n",
            "Get:20 http://archive.ubuntu.com/ubuntu bionic-updates/universe amd64 Packages [1,421 kB]\n",
            "Get:21 http://ppa.launchpad.net/alex-p/tesseract-ocr/ubuntu bionic/main amd64 Packages [26.5 kB]\n",
            "Get:22 http://ppa.launchpad.net/graphics-drivers/ppa/ubuntu bionic/main amd64 Packages [43.0 kB]\n",
            "Get:24 https://developer.download.nvidia.com/compute/machine-learning/repos/ubuntu1804/x86_64  Packages [47.5 kB]\n",
            "Get:25 http://ppa.launchpad.net/marutter/c2d4u3.5/ubuntu bionic/main Sources [1,864 kB]\n",
            "Get:26 http://ppa.launchpad.net/marutter/c2d4u3.5/ubuntu bionic/main amd64 Packages [900 kB]\n",
            "Fetched 8,261 kB in 2s (3,380 kB/s)\n",
            "Reading package lists... Done\n",
            "Hit:1 http://archive.ubuntu.com/ubuntu bionic InRelease\n",
            "Hit:2 http://ppa.launchpad.net/alex-p/tesseract-ocr/ubuntu bionic InRelease\n",
            "Hit:3 http://archive.ubuntu.com/ubuntu bionic-updates InRelease\n",
            "Hit:4 http://archive.ubuntu.com/ubuntu bionic-backports InRelease\n",
            "Hit:5 https://cloud.r-project.org/bin/linux/ubuntu bionic-cran35/ InRelease\n",
            "Hit:6 http://ppa.launchpad.net/graphics-drivers/ppa/ubuntu bionic InRelease\n",
            "Hit:7 http://ppa.launchpad.net/marutter/c2d4u3.5/ubuntu bionic InRelease\n",
            "Hit:8 http://security.ubuntu.com/ubuntu bionic-security InRelease\n",
            "Ign:9 https://developer.download.nvidia.com/compute/cuda/repos/ubuntu1804/x86_64  InRelease\n",
            "Ign:10 https://developer.download.nvidia.com/compute/machine-learning/repos/ubuntu1804/x86_64  InRelease\n",
            "Hit:11 https://developer.download.nvidia.com/compute/cuda/repos/ubuntu1804/x86_64  Release\n",
            "Hit:12 https://developer.download.nvidia.com/compute/machine-learning/repos/ubuntu1804/x86_64  Release\n",
            "Reading package lists... Done\n",
            "Building dependency tree       \n",
            "Reading state information... Done\n",
            "71 packages can be upgraded. Run 'apt list --upgradable' to see them.\n",
            "Reading package lists... Done\n",
            "Building dependency tree       \n",
            "Reading state information... Done\n",
            "The following package was automatically installed and is no longer required:\n",
            "  libnvidia-common-440\n",
            "Use 'apt autoremove' to remove it.\n",
            "The following additional packages will be installed:\n",
            "  libtesseract4 tesseract-ocr-eng tesseract-ocr-osd\n",
            "The following NEW packages will be installed:\n",
            "  tesseract-ocr tesseract-ocr-eng tesseract-ocr-osd\n",
            "The following packages will be upgraded:\n",
            "  libtesseract4\n",
            "1 upgraded, 3 newly installed, 0 to remove and 70 not upgraded.\n",
            "Need to get 6,161 kB of archives.\n",
            "After this operation, 16.3 MB of additional disk space will be used.\n",
            "Get:1 http://ppa.launchpad.net/alex-p/tesseract-ocr/ubuntu bionic/main amd64 libtesseract4 amd64 4.1.1+git4247-97079fa3-1ppa1~bionic1 [1,260 kB]\n",
            "Get:2 http://ppa.launchpad.net/alex-p/tesseract-ocr/ubuntu bionic/main amd64 tesseract-ocr-eng all 1:4.0.0+git39-6572757-1ppa1~bionic1 [1,589 kB]\n",
            "Get:3 http://ppa.launchpad.net/alex-p/tesseract-ocr/ubuntu bionic/main amd64 tesseract-ocr-osd all 1:4.0.0+git39-6572757-1ppa1~bionic1 [2,992 kB]\n",
            "Get:4 http://ppa.launchpad.net/alex-p/tesseract-ocr/ubuntu bionic/main amd64 tesseract-ocr amd64 4.1.1+git4247-97079fa3-1ppa1~bionic1 [320 kB]\n",
            "Fetched 6,161 kB in 1s (7,937 kB/s)\n",
            "(Reading database ... 144579 files and directories currently installed.)\n",
            "Preparing to unpack .../libtesseract4_4.1.1+git4247-97079fa3-1ppa1~bionic1_amd64.deb ...\n",
            "Unpacking libtesseract4:amd64 (4.1.1+git4247-97079fa3-1ppa1~bionic1) over (4.00~git2288-10f4998a-2) ...\n",
            "Selecting previously unselected package tesseract-ocr-eng.\n",
            "Preparing to unpack .../tesseract-ocr-eng_1%3a4.0.0+git39-6572757-1ppa1~bionic1_all.deb ...\n",
            "Unpacking tesseract-ocr-eng (1:4.0.0+git39-6572757-1ppa1~bionic1) ...\n",
            "Selecting previously unselected package tesseract-ocr-osd.\n",
            "Preparing to unpack .../tesseract-ocr-osd_1%3a4.0.0+git39-6572757-1ppa1~bionic1_all.deb ...\n",
            "Unpacking tesseract-ocr-osd (1:4.0.0+git39-6572757-1ppa1~bionic1) ...\n",
            "Selecting previously unselected package tesseract-ocr.\n",
            "Preparing to unpack .../tesseract-ocr_4.1.1+git4247-97079fa3-1ppa1~bionic1_amd64.deb ...\n",
            "Unpacking tesseract-ocr (4.1.1+git4247-97079fa3-1ppa1~bionic1) ...\n",
            "Setting up libtesseract4:amd64 (4.1.1+git4247-97079fa3-1ppa1~bionic1) ...\n",
            "Setting up tesseract-ocr-osd (1:4.0.0+git39-6572757-1ppa1~bionic1) ...\n",
            "Setting up tesseract-ocr-eng (1:4.0.0+git39-6572757-1ppa1~bionic1) ...\n",
            "Setting up tesseract-ocr (4.1.1+git4247-97079fa3-1ppa1~bionic1) ...\n",
            "Processing triggers for man-db (2.8.3-2ubuntu0.1) ...\n",
            "Processing triggers for libc-bin (2.27-3ubuntu1) ...\n",
            "/sbin/ldconfig.real: /usr/local/lib/python3.6/dist-packages/ideep4py/lib/libmkldnn.so.0 is not a symbolic link\n",
            "\n",
            "Reading package lists... Done\n",
            "Building dependency tree       \n",
            "Reading state information... Done\n",
            "The following package was automatically installed and is no longer required:\n",
            "  libnvidia-common-440\n",
            "Use 'apt autoremove' to remove it.\n",
            "The following additional packages will be installed:\n",
            "  libarchive-dev liblept5 libleptonica-dev\n",
            "The following NEW packages will be installed:\n",
            "  libarchive-dev libleptonica-dev libtesseract-dev\n",
            "The following packages will be upgraded:\n",
            "  liblept5\n",
            "1 upgraded, 3 newly installed, 0 to remove and 69 not upgraded.\n",
            "Need to get 4,327 kB of archives.\n",
            "After this operation, 15.2 MB of additional disk space will be used.\n",
            "Get:1 http://archive.ubuntu.com/ubuntu bionic-updates/main amd64 libarchive-dev amd64 3.2.2-3.1ubuntu0.6 [470 kB]\n",
            "Get:2 http://ppa.launchpad.net/alex-p/tesseract-ocr/ubuntu bionic/main amd64 liblept5 amd64 1.78.0-1+nmu1ppa1~bionic1 [985 kB]\n",
            "Get:3 http://ppa.launchpad.net/alex-p/tesseract-ocr/ubuntu bionic/main amd64 libleptonica-dev amd64 1.78.0-1+nmu1ppa1~bionic1 [1,375 kB]\n",
            "Get:4 http://ppa.launchpad.net/alex-p/tesseract-ocr/ubuntu bionic/main amd64 libtesseract-dev amd64 4.1.1+git4247-97079fa3-1ppa1~bionic1 [1,496 kB]\n",
            "Fetched 4,327 kB in 1s (6,986 kB/s)\n",
            "Selecting previously unselected package libarchive-dev:amd64.\n",
            "(Reading database ... 144631 files and directories currently installed.)\n",
            "Preparing to unpack .../libarchive-dev_3.2.2-3.1ubuntu0.6_amd64.deb ...\n",
            "Unpacking libarchive-dev:amd64 (3.2.2-3.1ubuntu0.6) ...\n",
            "Preparing to unpack .../liblept5_1.78.0-1+nmu1ppa1~bionic1_amd64.deb ...\n",
            "Unpacking liblept5 (1.78.0-1+nmu1ppa1~bionic1) over (1.75.3-3) ...\n",
            "Selecting previously unselected package libleptonica-dev.\n",
            "Preparing to unpack .../libleptonica-dev_1.78.0-1+nmu1ppa1~bionic1_amd64.deb ...\n",
            "Unpacking libleptonica-dev (1.78.0-1+nmu1ppa1~bionic1) ...\n",
            "Selecting previously unselected package libtesseract-dev:amd64.\n",
            "Preparing to unpack .../libtesseract-dev_4.1.1+git4247-97079fa3-1ppa1~bionic1_amd64.deb ...\n",
            "Unpacking libtesseract-dev:amd64 (4.1.1+git4247-97079fa3-1ppa1~bionic1) ...\n",
            "Setting up liblept5 (1.78.0-1+nmu1ppa1~bionic1) ...\n",
            "Setting up libarchive-dev:amd64 (3.2.2-3.1ubuntu0.6) ...\n",
            "Setting up libleptonica-dev (1.78.0-1+nmu1ppa1~bionic1) ...\n",
            "Setting up libtesseract-dev:amd64 (4.1.1+git4247-97079fa3-1ppa1~bionic1) ...\n",
            "Processing triggers for libc-bin (2.27-3ubuntu1) ...\n",
            "/sbin/ldconfig.real: /usr/local/lib/python3.6/dist-packages/ideep4py/lib/libmkldnn.so.0 is not a symbolic link\n",
            "\n",
            "Processing triggers for man-db (2.8.3-2ubuntu0.1) ...\n",
            "tesseract 4.1.1-rc2-25-g9707\n",
            " leptonica-1.78.0\n",
            "  libgif 5.1.4 : libjpeg 8d (libjpeg-turbo 1.5.2) : libpng 1.6.34 : libtiff 4.0.9 : zlib 1.2.11 : libwebp 0.6.1 : libopenjp2 2.3.0\n",
            " Found AVX2\n",
            " Found AVX\n",
            " Found FMA\n",
            " Found SSE\n",
            " Found libarchive 3.2.2 zlib/1.2.11 liblzma/5.2.2 bz2lib/1.0.6 liblz4/1.7.1\n",
            "Reading package lists... Done\n",
            "Building dependency tree       \n",
            "Reading state information... Done\n",
            "The following package was automatically installed and is no longer required:\n",
            "  libnvidia-common-440\n",
            "Use 'apt autoremove' to remove it.\n",
            "The following NEW packages will be installed:\n",
            "  tesseract-ocr-jpn tesseract-ocr-jpn-vert\n",
            "0 upgraded, 2 newly installed, 0 to remove and 69 not upgraded.\n",
            "Need to get 3,281 kB of archives.\n",
            "After this operation, 5,539 kB of additional disk space will be used.\n",
            "Get:1 http://ppa.launchpad.net/alex-p/tesseract-ocr/ubuntu bionic/main amd64 tesseract-ocr-jpn all 1:4.0.0+git39-6572757-1ppa1~bionic1 [1,391 kB]\n",
            "Get:2 http://ppa.launchpad.net/alex-p/tesseract-ocr/ubuntu bionic/main amd64 tesseract-ocr-jpn-vert all 1:4.0.0+git39-6572757-1ppa1~bionic1 [1,890 kB]\n",
            "Fetched 3,281 kB in 0s (8,507 kB/s)\n",
            "Selecting previously unselected package tesseract-ocr-jpn.\n",
            "(Reading database ... 144759 files and directories currently installed.)\n",
            "Preparing to unpack .../tesseract-ocr-jpn_1%3a4.0.0+git39-6572757-1ppa1~bionic1_all.deb ...\n",
            "Unpacking tesseract-ocr-jpn (1:4.0.0+git39-6572757-1ppa1~bionic1) ...\n",
            "Selecting previously unselected package tesseract-ocr-jpn-vert.\n",
            "Preparing to unpack .../tesseract-ocr-jpn-vert_1%3a4.0.0+git39-6572757-1ppa1~bionic1_all.deb ...\n",
            "Unpacking tesseract-ocr-jpn-vert (1:4.0.0+git39-6572757-1ppa1~bionic1) ...\n",
            "Setting up tesseract-ocr-jpn (1:4.0.0+git39-6572757-1ppa1~bionic1) ...\n",
            "Setting up tesseract-ocr-jpn-vert (1:4.0.0+git39-6572757-1ppa1~bionic1) ...\n",
            "Reading package lists... Done\n",
            "Building dependency tree       \n",
            "Reading state information... Done\n",
            "The following package was automatically installed and is no longer required:\n",
            "  libnvidia-common-440\n",
            "Use 'apt autoremove' to remove it.\n",
            "The following NEW packages will be installed:\n",
            "  tesseract-ocr-script-jpan tesseract-ocr-script-jpan-vert\n",
            "0 upgraded, 2 newly installed, 0 to remove and 69 not upgraded.\n",
            "Need to get 5,670 kB of archives.\n",
            "After this operation, 12.4 MB of additional disk space will be used.\n",
            "Get:1 http://ppa.launchpad.net/alex-p/tesseract-ocr/ubuntu bionic/main amd64 tesseract-ocr-script-jpan all 1:4.0.0+git39-6572757-1ppa1~bionic1 [2,586 kB]\n",
            "Get:2 http://ppa.launchpad.net/alex-p/tesseract-ocr/ubuntu bionic/main amd64 tesseract-ocr-script-jpan-vert all 1:4.0.0+git39-6572757-1ppa1~bionic1 [3,084 kB]\n",
            "Fetched 5,670 kB in 0s (12.6 MB/s)\n",
            "Selecting previously unselected package tesseract-ocr-script-jpan.\n",
            "(Reading database ... 144767 files and directories currently installed.)\n",
            "Preparing to unpack .../tesseract-ocr-script-jpan_1%3a4.0.0+git39-6572757-1ppa1~bionic1_all.deb ...\n",
            "Unpacking tesseract-ocr-script-jpan (1:4.0.0+git39-6572757-1ppa1~bionic1) ...\n",
            "Selecting previously unselected package tesseract-ocr-script-jpan-vert.\n",
            "Preparing to unpack .../tesseract-ocr-script-jpan-vert_1%3a4.0.0+git39-6572757-1ppa1~bionic1_all.deb ...\n",
            "Unpacking tesseract-ocr-script-jpan-vert (1:4.0.0+git39-6572757-1ppa1~bionic1) ...\n",
            "Setting up tesseract-ocr-script-jpan (1:4.0.0+git39-6572757-1ppa1~bionic1) ...\n",
            "Setting up tesseract-ocr-script-jpan-vert (1:4.0.0+git39-6572757-1ppa1~bionic1) ...\n",
            "List of available languages (6):\n",
            "Japanese\n",
            "Japanese_vert\n",
            "eng\n",
            "jpn\n",
            "jpn_vert\n",
            "osd\n",
            "Collecting pytesseract\n",
            "  Downloading https://files.pythonhosted.org/packages/ba/19/c4c09496657920a859aca0e95db41da5fa6299d1693d7e7ab8ac96677198/pytesseract-0.3.5.tar.gz\n",
            "Requirement already satisfied: Pillow in /usr/local/lib/python3.6/dist-packages (from pytesseract) (7.0.0)\n",
            "Building wheels for collected packages: pytesseract\n",
            "  Building wheel for pytesseract (setup.py) ... \u001b[?25l\u001b[?25hdone\n",
            "  Created wheel for pytesseract: filename=pytesseract-0.3.5-py2.py3-none-any.whl size=13405 sha256=59f42925676688013a9f213d8b855c44fe1d22dcae9994dd80c89c16eee260c1\n",
            "  Stored in directory: /root/.cache/pip/wheels/4c/57/f5/4e60154cc0cfb584373ec7922766e67d00f34879c21ed73f14\n",
            "Successfully built pytesseract\n",
            "Installing collected packages: pytesseract\n",
            "Successfully installed pytesseract-0.3.5\n"
          ],
          "name": "stdout"
        }
      ]
    },
    {
      "cell_type": "code",
      "metadata": {
        "id": "51vJQPiXi-h5",
        "colab_type": "code",
        "colab": {}
      },
      "source": [
        "import pathlib\n",
        "import re\n",
        "from urllib.parse import urljoin\n",
        "\n",
        "import cv2\n",
        "import numpy as np\n",
        "import pytesseract\n",
        "import requests\n",
        "from bs4 import BeautifulSoup"
      ],
      "execution_count": 2,
      "outputs": []
    },
    {
      "cell_type": "code",
      "metadata": {
        "id": "41Pr3NNxi_ex",
        "colab_type": "code",
        "colab": {}
      },
      "source": [
        "# スクレイピング\n",
        "url = \"https://www.pref.aichi.jp/site/covid19-aichi/\"\n",
        "\n",
        "headers = {\n",
        "    \"User-Agent\": \"Mozilla/5.0 (Windows NT 10.0; WOW64; Trident/7.0; rv:11.0) like Gecko\",\n",
        "}\n",
        "\n",
        "r = requests.get(url, headers=headers)\n",
        "r.raise_for_status()"
      ],
      "execution_count": 3,
      "outputs": []
    },
    {
      "cell_type": "code",
      "metadata": {
        "id": "qszUikt3i_k4",
        "colab_type": "code",
        "colab": {}
      },
      "source": [
        "soup = BeautifulSoup(r.content, \"html5lib\")\n",
        "src = soup.find(\"img\", alt=re.compile(\"検査陽性者$\")).get(\"src\")"
      ],
      "execution_count": 4,
      "outputs": []
    },
    {
      "cell_type": "code",
      "metadata": {
        "id": "YAx0NRZBjkq7",
        "colab_type": "code",
        "colab": {
          "base_uri": "https://localhost:8080/",
          "height": 35
        },
        "outputId": "d75be1e6-ff7b-475e-d38c-f084d6140308"
      },
      "source": [
        "link = urljoin(url, src)\n",
        "print(link)\n",
        "\n",
        "# ダウンロード\n",
        "def get_file(url, dir=\".\"):\n",
        "\n",
        "    r = requests.get(url)\n",
        "\n",
        "    p = pathlib.Path(dir, pathlib.PurePath(url).name)\n",
        "    p.parent.mkdir(parents=True, exist_ok=True)\n",
        "\n",
        "    with p.open(mode=\"wb\") as fw:\n",
        "        fw.write(r.content)\n",
        "\n",
        "    return p\n",
        "\n",
        "jpg_path = get_file(link)"
      ],
      "execution_count": 5,
      "outputs": [
        {
          "output_type": "stream",
          "text": [
            "https://www.pref.aichi.jp/uploaded/image/243084.jpg\n"
          ],
          "name": "stdout"
        }
      ]
    },
    {
      "cell_type": "code",
      "metadata": {
        "id": "aYwr-CWwjpnZ",
        "colab_type": "code",
        "colab": {}
      },
      "source": [
        "from google.colab.patches import cv2_imshow"
      ],
      "execution_count": 6,
      "outputs": []
    },
    {
      "cell_type": "code",
      "metadata": {
        "id": "cSmIj0VGo21B",
        "colab_type": "code",
        "colab": {}
      },
      "source": [
        "src = cv2.imread(str(jpg_path))[2:-2, 2:-2]"
      ],
      "execution_count": 7,
      "outputs": []
    },
    {
      "cell_type": "markdown",
      "metadata": {
        "id": "cGT0pXOlAGpB",
        "colab_type": "text"
      },
      "source": [
        "# ファイルを選択"
      ]
    },
    {
      "cell_type": "code",
      "metadata": {
        "id": "xDJ7rbbbstAy",
        "colab_type": "code",
        "colab": {}
      },
      "source": [
        "src = cv2.imread(\"2020082220.jpg\")[2:-2, 2:-2]"
      ],
      "execution_count": 203,
      "outputs": []
    },
    {
      "cell_type": "code",
      "metadata": {
        "id": "2irO09IsjpYJ",
        "colab_type": "code",
        "colab": {}
      },
      "source": [
        "gray = cv2.cvtColor(src, cv2.COLOR_BGR2GRAY)"
      ],
      "execution_count": 204,
      "outputs": []
    },
    {
      "cell_type": "code",
      "metadata": {
        "id": "JoPvk-tFkJfR",
        "colab_type": "code",
        "colab": {}
      },
      "source": [
        "kernel = cv2.getStructuringElement(cv2.MORPH_RECT, (5, 5))\n",
        "dilated = cv2.dilate(gray, kernel, iterations=1)\n",
        "diff = cv2.absdiff(dilated, gray)"
      ],
      "execution_count": 205,
      "outputs": []
    },
    {
      "cell_type": "code",
      "metadata": {
        "id": "iBAEquG73a-w",
        "colab_type": "code",
        "colab": {}
      },
      "source": [
        "contour = cv2.bitwise_not(diff)"
      ],
      "execution_count": 206,
      "outputs": []
    },
    {
      "cell_type": "code",
      "metadata": {
        "id": "PR1uUSLRz_ip",
        "colab_type": "code",
        "colab": {}
      },
      "source": [
        "contour[contour > 200] = 255\n",
        "# contour[contour < 100] = 0"
      ],
      "execution_count": 207,
      "outputs": []
    },
    {
      "cell_type": "code",
      "metadata": {
        "id": "nxgAMaRCECLA",
        "colab_type": "code",
        "colab": {}
      },
      "source": [
        "h, w = contour.shape[:2]\n",
        "wide = int(1200 / w * h)\n",
        "\n",
        "large = cv2.resize(contour, (1200, wide))"
      ],
      "execution_count": 208,
      "outputs": []
    },
    {
      "cell_type": "code",
      "metadata": {
        "id": "EUvPxrZ9kcIy",
        "colab_type": "code",
        "colab": {
          "base_uri": "https://localhost:8080/",
          "height": 35
        },
        "outputId": "0c39115a-97c3-433b-dc51-8dbb178d7ece"
      },
      "source": [
        "# 楕円形カーネル\n",
        "kernel = cv2.getStructuringElement(cv2.MORPH_ELLIPSE, (3, 3))\n",
        "\n",
        "# モルフォロジー勾配（物体の境界線）\n",
        "grad = cv2.morphologyEx(large, cv2.MORPH_GRADIENT, kernel)\n",
        "\n",
        "# 二値化\n",
        "_, bw = cv2.threshold(grad, 0.0, 255.0, cv2.THRESH_BINARY | cv2.THRESH_OTSU)\n",
        "\n",
        "# 矩形カーネル\n",
        "kernel = cv2.getStructuringElement(cv2.MORPH_RECT, (9, 1))\n",
        "\n",
        "# ノイズ除去\n",
        "connected = cv2.morphologyEx(bw, cv2.MORPH_CLOSE, kernel)\n",
        "\n",
        "# cv2.RETR_EXTERNAL 輪郭\n",
        "# cv2.CHAIN_APPROX_NONE 輪郭全点の情報を保持\n",
        "\n",
        "contours, hierarchy = cv2.findContours(\n",
        "    connected.copy(), cv2.RETR_EXTERNAL, cv2.CHAIN_APPROX_NONE\n",
        ")\n",
        "\n",
        "mask = np.zeros(bw.shape, dtype=np.uint8)\n",
        "\n",
        "rects = []\n",
        "\n",
        "for idx in range(len(contours)):\n",
        "    # 外接矩形\n",
        "    x, y, w, h = cv2.boundingRect(contours[idx])\n",
        "\n",
        "    mask[y : y + h, x : x + w] = 0\n",
        "\n",
        "    # 輪郭を描画\n",
        "    cv2.drawContours(mask, contours, idx, (255, 255, 255), -1)\n",
        "\n",
        "    # 面積割合\n",
        "    r = float(cv2.countNonZero(mask[y : y + h, x : x + w])) / (w * h)\n",
        "\n",
        "    # 面積、縦・横長さ\n",
        "    if r > 0.45 and w > 1000 and h > 8:\n",
        "        rects.append((x, x + w, y, y + h))\n",
        "\n",
        "# Y下、X左でソート\n",
        "rects = sorted(rects, key=lambda x: (x[3], x[0]))\n",
        "\n",
        "# 個数\n",
        "print(len(rects))"
      ],
      "execution_count": 209,
      "outputs": [
        {
          "output_type": "stream",
          "text": [
            "5\n"
          ],
          "name": "stdout"
        }
      ]
    },
    {
      "cell_type": "code",
      "metadata": {
        "id": "KHHUkjg6ni-Y",
        "colab_type": "code",
        "colab": {
          "base_uri": "https://localhost:8080/",
          "height": 67
        },
        "outputId": "f6d1b62b-3c27-4b92-e2fc-0fd9aaad3909"
      },
      "source": [
        "dst = large[0:50, 800:1500].copy()\n",
        "cv2_imshow(dst)"
      ],
      "execution_count": 210,
      "outputs": [
        {
          "output_type": "display_data",
          "data": {
            "image/png": "[encoded data removed]",
            "text/plain": [
              "<PIL.Image.Image image mode=L size=400x50 at 0x7F5CD2BC5F98>"
            ]
          },
          "metadata": {
            "tags": []
          }
        }
      ]
    },
    {
      "cell_type": "code",
      "metadata": {
        "id": "thnnR2Cen2mC",
        "colab_type": "code",
        "colab": {
          "base_uri": "https://localhost:8080/",
          "height": 35
        },
        "outputId": "2c180b40-1176-4afe-af22-bfa062ec9bc5"
      },
      "source": [
        "txt = (\n",
        "    pytesseract.image_to_string(dst, lang=\"jpn\", config=\"--psm 6\")\n",
        "    .strip()\n",
        "    .replace(\".\", \"\")\n",
        "    .replace(\",\", \"\")\n",
        ")\n",
        "print(txt)"
      ],
      "execution_count": 211,
      "outputs": [
        {
          "output_type": "stream",
          "text": [
            "2020年8月22日20時現存\n"
          ],
          "name": "stdout"
        }
      ]
    },
    {
      "cell_type": "code",
      "metadata": {
        "id": "ZZH1cJohkh-C",
        "colab_type": "code",
        "colab": {
          "base_uri": "https://localhost:8080/",
          "height": 51
        },
        "outputId": "23e2cef1-9bb2-4454-f06f-22e1ae3cbec3"
      },
      "source": [
        "# 座標\n",
        "x1, x2, y1, y2 = rects[0]\n",
        "\n",
        "y_crop = int((y2 - y1) * 0.23)\n",
        "\n",
        "# 切り出し\n",
        "dst = large[y1:y2, x1:x2][-y_crop:-5, 5:-5].copy()\n",
        "\n",
        "cv2_imshow(dst)"
      ],
      "execution_count": 212,
      "outputs": [
        {
          "output_type": "display_data",
          "data": {
            "image/png": "[encoded data removed]",
            "text/plain": [
              "<PIL.Image.Image image mode=L size=1150x34 at 0x7F5CD2BBF748>"
            ]
          },
          "metadata": {
            "tags": []
          }
        }
      ]
    },
    {
      "cell_type": "code",
      "metadata": {
        "id": "1Lse9comyOrT",
        "colab_type": "code",
        "colab": {}
      },
      "source": [
        "edges = cv2.Canny(dst, 100, 200, apertureSize=3)\n",
        "lines = cv2.HoughLines(edges, 1, np.pi / 2, 30)\n",
        "\n",
        "# 縦線削除\n",
        "# theta 角度\n",
        "for line in lines:\n",
        "    for rho, theta in line:\n",
        "\n",
        "        if theta == 0:\n",
        "\n",
        "            a = np.cos(theta)\n",
        "            # b = np.sin(theta)\n",
        "\n",
        "            x0 = int(a * rho)\n",
        "\n",
        "            x1, x2 = x0, x0\n",
        "            y1, y2 = 100, -100\n",
        "\n",
        "            cv2.line(dst, (x1, y1), (x2, y2), (255, 255, 255), 3)"
      ],
      "execution_count": 213,
      "outputs": []
    },
    {
      "cell_type": "code",
      "metadata": {
        "id": "w1Gp0bnOv26Q",
        "colab_type": "code",
        "colab": {}
      },
      "source": [
        "def data_check(text):\n",
        "    print(text)\n",
        "\n",
        "    data = list(map(int, re.findall(\"\\d+\", text)))\n",
        "    print(data)\n",
        "\n",
        "    if(len(data) == 12):\n",
        "        if data[2] == data[3] + data[4] + data[5]:\n",
        "            if data[1] == data[2] + data[6] + data[7] + data[8] + data[9] + data[10] + data[11]:\n",
        "                print(\"OK\")\n",
        "            else:\n",
        "                print(\"陽性者数の集計があいません\")\n",
        "        else:\n",
        "            print(\"入院の集計があいません\")\n",
        "    else:\n",
        "        print(\"データ数が足りません\")"
      ],
      "execution_count": 214,
      "outputs": []
    },
    {
      "cell_type": "code",
      "metadata": {
        "id": "zif9II_gmWxB",
        "colab_type": "code",
        "colab": {
          "base_uri": "https://localhost:8080/",
          "height": 71
        },
        "outputId": "e6528f50-a0be-4890-d730-b37216bf3f62"
      },
      "source": [
        "txt = (\n",
        "    pytesseract.image_to_string(dst, lang=\"jpn\", config=\"--psm 3\")\n",
        "    .strip()\n",
        "    .replace(\".\", \"\")\n",
        "    .replace(\",\", \"\")\n",
        ")\n",
        "data_check(txt)"
      ],
      "execution_count": 215,
      "outputs": [
        {
          "output_type": "stream",
          "text": [
            "45659人 4137人 。 356人 212人 118人 26人 23人 59人 610人 69人 2966人 54人\n",
            "[45659, 4137, 356, 212, 118, 26, 23, 59, 610, 69, 2966, 54]\n",
            "OK\n"
          ],
          "name": "stdout"
        }
      ]
    },
    {
      "cell_type": "code",
      "metadata": {
        "colab_type": "code",
        "id": "D1UUOkFyvPGC",
        "colab": {
          "base_uri": "https://localhost:8080/",
          "height": 71
        },
        "outputId": "3cee4c0f-e79c-4f1b-afe6-dd5a6c972d07"
      },
      "source": [
        "txt = (\n",
        "    pytesseract.image_to_string(dst, lang=\"jpn\", config=\"--psm 6\")\n",
        "    .strip()\n",
        "    .replace(\".\", \"\")\n",
        "    .replace(\",\", \"\")\n",
        ")\n",
        "data_check(txt)"
      ],
      "execution_count": 216,
      "outputs": [
        {
          "output_type": "stream",
          "text": [
            "45659人 4137人 。 356人 212人 118人 26人 23人 59人 610人 69人 2966人 54人\n",
            "[45659, 4137, 356, 212, 118, 26, 23, 59, 610, 69, 2966, 54]\n",
            "OK\n"
          ],
          "name": "stdout"
        }
      ]
    },
    {
      "cell_type": "code",
      "metadata": {
        "id": "M8uCkYTNxzRg",
        "colab_type": "code",
        "colab": {
          "base_uri": "https://localhost:8080/",
          "height": 51
        },
        "outputId": "44decf98-6fe9-4b15-e0f8-fa7e987b8b1a"
      },
      "source": [
        "cv2_imshow(dst)"
      ],
      "execution_count": 217,
      "outputs": [
        {
          "output_type": "display_data",
          "data": {
            "image/png": "[encoded data removed]",
            "text/plain": [
              "<PIL.Image.Image image mode=L size=1150x34 at 0x7F5CD2CE0F60>"
            ]
          },
          "metadata": {
            "tags": []
          }
        }
      ]
    },
    {
      "cell_type": "code",
      "metadata": {
        "id": "hM4UPm_avTwZ",
        "colab_type": "code",
        "colab": {
          "base_uri": "https://localhost:8080/",
          "height": 322
        },
        "outputId": "f3f94ff9-722f-49d5-9a60-a97360241d39"
      },
      "source": [
        "txt = (\n",
        "    pytesseract.image_to_string(dst, lang=\"jpn\", config=\"--psm 11\")\n",
        "    .strip()\n",
        "    .replace(\".\", \"\")\n",
        "    .replace(\",\", \"\")\n",
        ")\n",
        "data_check(txt)"
      ],
      "execution_count": 218,
      "outputs": [
        {
          "output_type": "stream",
          "text": [
            "45559人 4137人 356人\n",
            "\n",
            "212人\n",
            "\n",
            "118人\n",
            "\n",
            "26人\n",
            "\n",
            "23人\n",
            "\n",
            "59人\n",
            "\n",
            "610人\n",
            "\n",
            "69人 2966人 54人\n",
            "[45559, 4137, 356, 212, 118, 26, 23, 59, 610, 69, 2966, 54]\n",
            "OK\n"
          ],
          "name": "stdout"
        }
      ]
    },
    {
      "cell_type": "code",
      "metadata": {
        "id": "_Wi93nDrujXC",
        "colab_type": "code",
        "colab": {
          "base_uri": "https://localhost:8080/",
          "height": 35
        },
        "outputId": "9f5d0b75-ae0f-47a1-c04e-b2aaad5d320f"
      },
      "source": [
        "cv2.imwrite(\"main.png\", dst)"
      ],
      "execution_count": 219,
      "outputs": [
        {
          "output_type": "execute_result",
          "data": {
            "text/plain": [
              "True"
            ]
          },
          "metadata": {
            "tags": []
          },
          "execution_count": 219
        }
      ]
    }
  ]
}