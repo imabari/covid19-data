{
  "nbformat": 4,
  "nbformat_minor": 0,
  "metadata": {
    "colab": {
      "name": "saitama_main.ipynb",
      "provenance": [],
      "collapsed_sections": [],
      "authorship_tag": "ABX9TyM9ZwZ1GjM7F7ahbUA2ajlX",
      "include_colab_link": true
    },
    "kernelspec": {
      "name": "python3",
      "display_name": "Python 3"
    }
  },
  "cells": [
    {
      "cell_type": "markdown",
      "metadata": {
        "id": "view-in-github",
        "colab_type": "text"
      },
      "source": [
        "<a href=\"https://colab.research.google.com/github/imabari/covid19-data/blob/master/saitama/saitama_main.ipynb\" target=\"_parent\"><img src=\"https://colab.research.google.com/assets/colab-badge.svg\" alt=\"Open In Colab\"/></a>"
      ]
    },
    {
      "cell_type": "code",
      "metadata": {
        "id": "nBRfz2WnFEaa",
        "colab_type": "code",
        "colab": {
          "base_uri": "https://localhost:8080/",
          "height": 321
        },
        "outputId": "d47326b2-2f9d-4507-fc91-58b4abf3d6c8"
      },
      "source": [
        "!pip install pycurl\n",
        "!pip install retry"
      ],
      "execution_count": 1,
      "outputs": [
        {
          "output_type": "stream",
          "text": [
            "Collecting pycurl\n",
            "\u001b[?25l  Downloading https://files.pythonhosted.org/packages/ef/05/4b773f74f830a90a326b06f9b24e65506302ab049e825a3c0b60b1a6e26a/pycurl-7.43.0.5.tar.gz (216kB)\n",
            "\r\u001b[K     |█▌                              | 10kB 17.7MB/s eta 0:00:01\r\u001b[K     |███                             | 20kB 1.8MB/s eta 0:00:01\r\u001b[K     |████▌                           | 30kB 2.3MB/s eta 0:00:01\r\u001b[K     |██████                          | 40kB 2.6MB/s eta 0:00:01\r\u001b[K     |███████▌                        | 51kB 2.0MB/s eta 0:00:01\r\u001b[K     |█████████                       | 61kB 2.3MB/s eta 0:00:01\r\u001b[K     |██████████▋                     | 71kB 2.5MB/s eta 0:00:01\r\u001b[K     |████████████                    | 81kB 2.8MB/s eta 0:00:01\r\u001b[K     |█████████████▋                  | 92kB 3.0MB/s eta 0:00:01\r\u001b[K     |███████████████                 | 102kB 2.8MB/s eta 0:00:01\r\u001b[K     |████████████████▋               | 112kB 2.8MB/s eta 0:00:01\r\u001b[K     |██████████████████▏             | 122kB 2.8MB/s eta 0:00:01\r\u001b[K     |███████████████████▋            | 133kB 2.8MB/s eta 0:00:01\r\u001b[K     |█████████████████████▏          | 143kB 2.8MB/s eta 0:00:01\r\u001b[K     |██████████████████████▋         | 153kB 2.8MB/s eta 0:00:01\r\u001b[K     |████████████████████████▏       | 163kB 2.8MB/s eta 0:00:01\r\u001b[K     |█████████████████████████▊      | 174kB 2.8MB/s eta 0:00:01\r\u001b[K     |███████████████████████████▏    | 184kB 2.8MB/s eta 0:00:01\r\u001b[K     |████████████████████████████▊   | 194kB 2.8MB/s eta 0:00:01\r\u001b[K     |██████████████████████████████▏ | 204kB 2.8MB/s eta 0:00:01\r\u001b[K     |███████████████████████████████▊| 215kB 2.8MB/s eta 0:00:01\r\u001b[K     |████████████████████████████████| 225kB 2.8MB/s \n",
            "\u001b[?25hBuilding wheels for collected packages: pycurl\n",
            "  Building wheel for pycurl (setup.py) ... \u001b[?25l\u001b[?25hdone\n",
            "  Created wheel for pycurl: filename=pycurl-7.43.0.5-cp36-cp36m-linux_x86_64.whl size=283552 sha256=607e5a908b04e42b9452cfbd7de12327d2ad51438dbcefebd9d55b45901ae3b9\n",
            "  Stored in directory: /root/.cache/pip/wheels/98/a3/19/9439c79b88a742f508af0c4e410ae3f685db2e13d3374e798e\n",
            "Successfully built pycurl\n",
            "Installing collected packages: pycurl\n",
            "Successfully installed pycurl-7.43.0.5\n",
            "Collecting retry\n",
            "  Downloading https://files.pythonhosted.org/packages/4b/0d/53aea75710af4528a25ed6837d71d117602b01946b307a3912cb3cfcbcba/retry-0.9.2-py2.py3-none-any.whl\n",
            "Requirement already satisfied: decorator>=3.4.2 in /usr/local/lib/python3.6/dist-packages (from retry) (4.4.2)\n",
            "Requirement already satisfied: py<2.0.0,>=1.4.26 in /usr/local/lib/python3.6/dist-packages (from retry) (1.8.1)\n",
            "Installing collected packages: retry\n",
            "Successfully installed retry-0.9.2\n"
          ],
          "name": "stdout"
        }
      ]
    },
    {
      "cell_type": "code",
      "metadata": {
        "id": "2kh7HZIf9wQt",
        "colab_type": "code",
        "colab": {}
      },
      "source": [
        "JOKYO_URL = \"https://opendata.pref.saitama.lg.jp/data/dataset/covid19-jokyo\"\n",
        "KENSA_URL = \"https://opendata.pref.saitama.lg.jp/data/dataset/covid19-kensa\""
      ],
      "execution_count": 0,
      "outputs": []
    },
    {
      "cell_type": "code",
      "metadata": {
        "id": "0pe0dE5cDfd2",
        "colab_type": "code",
        "colab": {}
      },
      "source": [
        "JOKYO_TITLE = \"^埼玉県内の新型コロナウイルス感染症の発生状況\"\n",
        "KENSA_TITLE = \"^埼玉県が実施した新型コロナウイルス疑い例検査数\""
      ],
      "execution_count": 0,
      "outputs": []
    },
    {
      "cell_type": "code",
      "metadata": {
        "id": "p6jkgMldDfnu",
        "colab_type": "code",
        "colab": {}
      },
      "source": [
        "USER_AGENT = \"Mozilla/5.0 (Windows NT 10.0; WOW64; Trident/7.0; rv:11.0) like Gecko\""
      ],
      "execution_count": 0,
      "outputs": []
    },
    {
      "cell_type": "code",
      "metadata": {
        "id": "UhIH69mJDfub",
        "colab_type": "code",
        "colab": {}
      },
      "source": [
        "DOWNLOAD_DIR = \"download\"\n",
        "DATA_DIR = \"data\""
      ],
      "execution_count": 0,
      "outputs": []
    },
    {
      "cell_type": "code",
      "metadata": {
        "id": "dHvNC1w6FpsM",
        "colab_type": "code",
        "colab": {}
      },
      "source": [
        "import pathlib"
      ],
      "execution_count": 0,
      "outputs": []
    },
    {
      "cell_type": "code",
      "metadata": {
        "id": "nRMnyqgmDoOs",
        "colab_type": "code",
        "colab": {}
      },
      "source": [
        "import pycurl\n",
        "from retry import retry"
      ],
      "execution_count": 0,
      "outputs": []
    },
    {
      "cell_type": "code",
      "metadata": {
        "id": "mElhd9YXDf0r",
        "colab_type": "code",
        "colab": {}
      },
      "source": [
        "@retry(tries=5, delay=5, backoff=3)\n",
        "def get_file(url, dir=\".\"):\n",
        "\n",
        "    p = pathlib.Path(dir, pathlib.PurePath(url).name)\n",
        "\n",
        "    p.parent.mkdir(parents=True, exist_ok=True)\n",
        "\n",
        "    with p.open(mode=\"wb\") as f:\n",
        "\n",
        "        c = pycurl.Curl()\n",
        "        c.setopt(c.URL, url)\n",
        "        c.setopt(c.USERAGENT, USER_AGENT)\n",
        "        c.setopt(c.WRITEDATA, f)\n",
        "        c.perform()\n",
        "        c.close()\n",
        "\n",
        "    return p"
      ],
      "execution_count": 0,
      "outputs": []
    },
    {
      "cell_type": "code",
      "metadata": {
        "id": "IcBqRTyv9x8C",
        "colab_type": "code",
        "colab": {}
      },
      "source": [
        "import requests\n",
        "from bs4 import BeautifulSoup"
      ],
      "execution_count": 0,
      "outputs": []
    },
    {
      "cell_type": "code",
      "metadata": {
        "id": "0NjbOdTe9x54",
        "colab_type": "code",
        "colab": {}
      },
      "source": [
        "from urllib.parse import urljoin"
      ],
      "execution_count": 0,
      "outputs": []
    },
    {
      "cell_type": "code",
      "metadata": {
        "id": "UXQtGyFI-AEe",
        "colab_type": "code",
        "colab": {}
      },
      "source": [
        "import re"
      ],
      "execution_count": 0,
      "outputs": []
    },
    {
      "cell_type": "code",
      "metadata": {
        "id": "A4oydbhl9x7a",
        "colab_type": "code",
        "colab": {}
      },
      "source": [
        "headers = {\"User-Agent\": USER_AGENT}"
      ],
      "execution_count": 0,
      "outputs": []
    },
    {
      "cell_type": "code",
      "metadata": {
        "id": "bjqXCXso_J1u",
        "colab_type": "code",
        "colab": {}
      },
      "source": [
        "def csv_link(url):\n",
        "\n",
        "    r = requests.get(url, headers=headers)\n",
        "    r.raise_for_status()\n",
        "\n",
        "    soup = BeautifulSoup(r.content, \"html.parser\")\n",
        "\n",
        "    link = soup.find(\"p\", class_=\"muted ellipsis\").find(\"a\").get(\"href\")\n",
        "\n",
        "    return link"
      ],
      "execution_count": 0,
      "outputs": []
    },
    {
      "cell_type": "code",
      "metadata": {
        "id": "lzmElY_b9x6y",
        "colab_type": "code",
        "colab": {}
      },
      "source": [
        "def get_csv(url, text):\n",
        "\n",
        "    r = requests.get(url, headers=headers)\n",
        "    r.raise_for_status()\n",
        "\n",
        "    soup = BeautifulSoup(r.content, \"html.parser\")\n",
        "\n",
        "    href = soup.find_all(\"a\", title=re.compile(text))[-1].get(\"href\")\n",
        "\n",
        "    link = csv_link(urljoin(url, href))\n",
        "\n",
        "    p = get_file(link, DOWNLOAD_DIR)\n",
        "\n",
        "    return p"
      ],
      "execution_count": 0,
      "outputs": []
    },
    {
      "cell_type": "code",
      "metadata": {
        "id": "s7AkqJvEGQe4",
        "colab_type": "code",
        "colab": {}
      },
      "source": [
        "import pandas as pd"
      ],
      "execution_count": 0,
      "outputs": []
    },
    {
      "cell_type": "code",
      "metadata": {
        "id": "eCsOMRBUSX1T",
        "colab_type": "code",
        "colab": {}
      },
      "source": [
        "import datetime"
      ],
      "execution_count": 0,
      "outputs": []
    },
    {
      "cell_type": "code",
      "metadata": {
        "id": "d4yfpKmhSmE6",
        "colab_type": "code",
        "colab": {}
      },
      "source": [
        "dt_now = datetime.datetime.now()"
      ],
      "execution_count": 0,
      "outputs": []
    },
    {
      "cell_type": "code",
      "metadata": {
        "id": "pkY2XWFLSpvR",
        "colab_type": "code",
        "colab": {}
      },
      "source": [
        "url = \"http://www.pref.saitama.lg.jp/a0701/shingatacoronavirus.html\""
      ],
      "execution_count": 0,
      "outputs": []
    },
    {
      "cell_type": "code",
      "metadata": {
        "id": "6oOqULmtSpyg",
        "colab_type": "code",
        "colab": {}
      },
      "source": [
        "r = requests.get(url)\n",
        "r.raise_for_status()\n",
        "soup = BeautifulSoup(r.content, \"html.parser\")"
      ],
      "execution_count": 0,
      "outputs": []
    },
    {
      "cell_type": "code",
      "metadata": {
        "id": "4A-081lOSp1m",
        "colab_type": "code",
        "colab": {}
      },
      "source": [
        "# main_summary\n",
        "tag = soup.find(\"div\", class_=\"box_info_ttl\")"
      ],
      "execution_count": 0,
      "outputs": []
    },
    {
      "cell_type": "code",
      "metadata": {
        "id": "8E6NBLgRSp5R",
        "colab_type": "code",
        "colab": {}
      },
      "source": [
        "# 更新日付取得\n",
        "s_date = tag.find(\"span\", class_=\"txt_big\").get_text(strip=True)\n",
        "l_date = list(map(int, re.findall(\"(\\d{1,2})\", s_date)))\n",
        "\n",
        "dt_update = datetime.datetime(dt_now.year, *l_date, 21, 0).strftime(\"%Y/%m/%d %H:%M\")\n",
        "\n",
        "data = {\"lastUpdate\": dt_update}"
      ],
      "execution_count": 0,
      "outputs": []
    },
    {
      "cell_type": "code",
      "metadata": {
        "id": "uWUniPCfSp9Z",
        "colab_type": "code",
        "colab": {}
      },
      "source": [
        "# 人数取得\n",
        "main_sum = [int(i.replace(\",\", \"\")) for i in re.findall(\"([0-9,]+)人\", tag.get_text())]"
      ],
      "execution_count": 0,
      "outputs": []
    },
    {
      "cell_type": "code",
      "metadata": {
        "id": "wkusFHZXS6j6",
        "colab_type": "code",
        "outputId": "04ea0696-1f9d-4d7f-ca60-14d870b7a3d5",
        "colab": {
          "base_uri": "https://localhost:8080/",
          "height": 35
        }
      },
      "source": [
        "print(main_sum)"
      ],
      "execution_count": 23,
      "outputs": [
        {
          "output_type": "stream",
          "text": [
            "[836, 7, 688, 672, 16, 118, 30, 4258, 2844]\n"
          ],
          "name": "stdout"
        }
      ]
    },
    {
      "cell_type": "code",
      "metadata": {
        "id": "sIjyiOK2STir",
        "colab_type": "code",
        "colab": {}
      },
      "source": [
        "data[\"main_summary\"] = {\n",
        "    \"attr\": \"検査実施人数\",\n",
        "    \"value\": main_sum[7],\n",
        "    \"children\": [\n",
        "        {\n",
        "            \"attr\": \"陽性患者数\",\n",
        "            \"value\": main_sum[0],\n",
        "            \"children\": [\n",
        "                {\n",
        "                    \"attr\": \"入院中\",\n",
        "                    \"value\": main_sum[2],\n",
        "                    \"children\": [\n",
        "                        {\"attr\": \"軽症・中等症\", \"value\": main_sum[3]},\n",
        "                        {\"attr\": \"重症\", \"value\": main_sum[4]},\n",
        "                    ],\n",
        "                },\n",
        "                {\"attr\": \"退院\", \"value\": main_sum[5]},\n",
        "                {\"attr\": \"死亡\", \"value\": main_sum[6]},\n",
        "            ],\n",
        "        }\n",
        "    ],\n",
        "}"
      ],
      "execution_count": 0,
      "outputs": []
    },
    {
      "cell_type": "markdown",
      "metadata": {
        "id": "lGFvZh5KKFQs",
        "colab_type": "text"
      },
      "source": [
        "# 状況"
      ]
    },
    {
      "cell_type": "code",
      "metadata": {
        "id": "9g3tWasc92V_",
        "colab_type": "code",
        "colab": {}
      },
      "source": [
        "jokyo_path = get_csv(JOKYO_URL, JOKYO_TITLE)"
      ],
      "execution_count": 0,
      "outputs": []
    },
    {
      "cell_type": "code",
      "metadata": {
        "id": "q7p1PrN2GKqE",
        "colab_type": "code",
        "colab": {}
      },
      "source": [
        "df_kanja = pd.read_csv(jokyo_path, encoding=\"cp932\")"
      ],
      "execution_count": 0,
      "outputs": []
    },
    {
      "cell_type": "code",
      "metadata": {
        "id": "wyd-0WbzHUzU",
        "colab_type": "code",
        "colab": {}
      },
      "source": [
        "df_kanja[\"date\"] = pd.to_datetime(df_kanja[\"判明日\"], errors=\"coerce\")"
      ],
      "execution_count": 0,
      "outputs": []
    },
    {
      "cell_type": "code",
      "metadata": {
        "id": "3mCNlRydyeSl",
        "colab_type": "code",
        "colab": {}
      },
      "source": [
        "df_patients_sum = (\n",
        "    df_kanja[\"date\"].value_counts().sort_index().asfreq(\"D\", fill_value=0).reset_index()\n",
        ")"
      ],
      "execution_count": 0,
      "outputs": []
    },
    {
      "cell_type": "code",
      "metadata": {
        "id": "_dNg1Blgy1qL",
        "colab_type": "code",
        "colab": {}
      },
      "source": [
        "df_patients_sum[\"日付\"] = df_patients_sum[\"index\"].dt.strftime(\"%Y-%m-%dT08:00:00.000Z\")"
      ],
      "execution_count": 0,
      "outputs": []
    },
    {
      "cell_type": "code",
      "metadata": {
        "id": "BdvuHMXpy1vb",
        "colab_type": "code",
        "colab": {}
      },
      "source": [
        "df_patients_sum.rename(columns={\"date\": \"小計\"}, inplace=True)"
      ],
      "execution_count": 0,
      "outputs": []
    },
    {
      "cell_type": "code",
      "metadata": {
        "id": "ygL4GXcoy86d",
        "colab_type": "code",
        "colab": {}
      },
      "source": [
        "df_patients_sum.drop(columns=[\"index\"], inplace=True)"
      ],
      "execution_count": 0,
      "outputs": []
    },
    {
      "cell_type": "code",
      "metadata": {
        "id": "6u0OcHlIyvS-",
        "colab_type": "code",
        "colab": {}
      },
      "source": [
        "data[\"patients_summary\"] = {\n",
        "    \"data\": df_patients_sum.to_dict(orient=\"records\"),\n",
        "    \"date\": dt_update,\n",
        "}"
      ],
      "execution_count": 0,
      "outputs": []
    },
    {
      "cell_type": "code",
      "metadata": {
        "id": "_5t8K9kPUDYe",
        "colab_type": "code",
        "colab": {}
      },
      "source": [
        "df_kanja.rename(columns={\"No.\": \"No\"}, inplace=True)"
      ],
      "execution_count": 0,
      "outputs": []
    },
    {
      "cell_type": "code",
      "metadata": {
        "id": "u9IXnbeCHIPp",
        "colab_type": "code",
        "colab": {}
      },
      "source": [
        "df_kanja[\"リリース日\"] = df_kanja[\"date\"].dt.strftime(\"%Y-%m-%dT08:00:00.000Z\")\n",
        "df_kanja[\"date\"] = df_kanja[\"date\"].dt.strftime(\"%Y-%m-%d\")"
      ],
      "execution_count": 0,
      "outputs": []
    },
    {
      "cell_type": "code",
      "metadata": {
        "id": "fvY_wS9n2b8W",
        "colab_type": "code",
        "colab": {}
      },
      "source": [
        "df_kanja[\"リリース日\"] = df_kanja[\"リリース日\"].mask(df_kanja[\"判明日\"] == \"調査中\", \"調査中\")\n",
        "df_kanja[\"date\"] = df_kanja[\"date\"].mask(df_kanja[\"判明日\"] == \"調査中\", \"調査中\")"
      ],
      "execution_count": 0,
      "outputs": []
    },
    {
      "cell_type": "code",
      "metadata": {
        "id": "6F5F-HqCrpTj",
        "colab_type": "code",
        "colab": {}
      },
      "source": [
        "df_kanja[\"退院\"] = \"\""
      ],
      "execution_count": 0,
      "outputs": []
    },
    {
      "cell_type": "code",
      "metadata": {
        "id": "l9tqGbXxI9Dk",
        "colab_type": "code",
        "colab": {}
      },
      "source": [
        "df_patients = df_kanja.loc[:, [\"No\", \"リリース日\", \"年代\", \"性別\", \"居住地\", \"退院\", \"date\"]].copy()"
      ],
      "execution_count": 0,
      "outputs": []
    },
    {
      "cell_type": "code",
      "metadata": {
        "id": "wAuK6TzCGy87",
        "colab_type": "code",
        "colab": {}
      },
      "source": [
        "df_patients.fillna(\"\", inplace=True)"
      ],
      "execution_count": 0,
      "outputs": []
    },
    {
      "cell_type": "code",
      "metadata": {
        "id": "51zunlV7TnX6",
        "colab_type": "code",
        "colab": {}
      },
      "source": [
        "data[\"patients\"] = {\n",
        "    \"data\": df_patients.to_dict(orient=\"records\"),\n",
        "    \"date\": dt_update,\n",
        "}"
      ],
      "execution_count": 0,
      "outputs": []
    },
    {
      "cell_type": "markdown",
      "metadata": {
        "id": "wM-ddHOSJVNC",
        "colab_type": "text"
      },
      "source": [
        "## 検査"
      ]
    },
    {
      "cell_type": "code",
      "metadata": {
        "id": "km9S8vffAirG",
        "colab_type": "code",
        "colab": {}
      },
      "source": [
        "kensa_path = get_csv(KENSA_URL, KENSA_TITLE)"
      ],
      "execution_count": 0,
      "outputs": []
    },
    {
      "cell_type": "code",
      "metadata": {
        "id": "cB1jWDd8KIf6",
        "colab_type": "code",
        "colab": {}
      },
      "source": [
        "df_kensa = pd.read_csv(kensa_path, encoding=\"cp932\", index_col=\"検査日\", parse_dates=True)"
      ],
      "execution_count": 0,
      "outputs": []
    },
    {
      "cell_type": "code",
      "metadata": {
        "id": "6P2gmeK-uxCn",
        "colab_type": "code",
        "colab": {}
      },
      "source": [
        "df_kensa.rename(columns={\"検査数（延べ人数）\": \"小計\"}, inplace=True)"
      ],
      "execution_count": 0,
      "outputs": []
    },
    {
      "cell_type": "code",
      "metadata": {
        "id": "w3ayFD01u-09",
        "colab_type": "code",
        "colab": {}
      },
      "source": [
        "df_kensa[\"日付\"] = df_kensa.index.strftime(\"%Y-%m-%dT08:00:00.000Z\")"
      ],
      "execution_count": 0,
      "outputs": []
    },
    {
      "cell_type": "code",
      "metadata": {
        "id": "2UU0J-zNvL3F",
        "colab_type": "code",
        "colab": {}
      },
      "source": [
        "df_insp_sum = df_kensa.loc[:, [\"日付\", \"小計\"]]"
      ],
      "execution_count": 0,
      "outputs": []
    },
    {
      "cell_type": "code",
      "metadata": {
        "id": "UkaGZdyMvgqF",
        "colab_type": "code",
        "colab": {}
      },
      "source": [
        "data[\"inspections_summary\"] = {\n",
        "    \"data\": df_insp_sum.to_dict(orient=\"records\"),\n",
        "    \"date\": dt_update,\n",
        "}"
      ],
      "execution_count": 0,
      "outputs": []
    },
    {
      "cell_type": "code",
      "metadata": {
        "id": "qR669ZmWT0vN",
        "colab_type": "code",
        "colab": {}
      },
      "source": [
        "import json"
      ],
      "execution_count": 0,
      "outputs": []
    },
    {
      "cell_type": "code",
      "metadata": {
        "id": "KXvLuIvfTw3T",
        "colab_type": "code",
        "colab": {}
      },
      "source": [
        "with open(\"data.json\", \"w\", encoding=\"utf-8\") as fw:\n",
        "    json.dump(data, fw, ensure_ascii=False, indent=4)"
      ],
      "execution_count": 0,
      "outputs": []
    },
    {
      "cell_type": "code",
      "metadata": {
        "id": "No6_L69p48R0",
        "colab_type": "code",
        "colab": {}
      },
      "source": [
        "from google.colab import files"
      ],
      "execution_count": 0,
      "outputs": []
    },
    {
      "cell_type": "code",
      "metadata": {
        "id": "JA8TasJa4-SV",
        "colab_type": "code",
        "colab": {}
      },
      "source": [
        "files.download(\"data.json\")"
      ],
      "execution_count": 0,
      "outputs": []
    }
  ]
}