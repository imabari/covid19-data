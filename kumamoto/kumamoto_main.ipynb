{
  "nbformat": 4,
  "nbformat_minor": 0,
  "metadata": {
    "colab": {
      "name": "kumamoto_main.ipynb",
      "provenance": [],
      "toc_visible": true,
      "authorship_tag": "ABX9TyN/wPy/r1qX8pl1d1yTLoIq",
      "include_colab_link": true
    },
    "kernelspec": {
      "name": "python3",
      "display_name": "Python 3"
    }
  },
  "cells": [
    {
      "cell_type": "markdown",
      "metadata": {
        "id": "view-in-github",
        "colab_type": "text"
      },
      "source": [
        "<a href=\"https://colab.research.google.com/github/imabari/covid19-data/blob/master/kumamoto/kumamoto_main.ipynb\" target=\"_parent\"><img src=\"https://colab.research.google.com/assets/colab-badge.svg\" alt=\"Open In Colab\"/></a>"
      ]
    },
    {
      "cell_type": "markdown",
      "metadata": {
        "id": "kVWZ2sz-v3X4",
        "colab_type": "text"
      },
      "source": [
        "# インストール"
      ]
    },
    {
      "cell_type": "code",
      "metadata": {
        "id": "aDT7etUurqVU",
        "colab_type": "code",
        "colab": {}
      },
      "source": [
        "!pip install pycurl\n",
        "!pip install retry"
      ],
      "execution_count": 0,
      "outputs": []
    },
    {
      "cell_type": "code",
      "metadata": {
        "id": "5v18UNaf9SXH",
        "colab_type": "code",
        "colab": {}
      },
      "source": [
        "!pip install -U pandas"
      ],
      "execution_count": 0,
      "outputs": []
    },
    {
      "cell_type": "markdown",
      "metadata": {
        "id": "-mzP-93kvsAj",
        "colab_type": "text"
      },
      "source": [
        "# 設定"
      ]
    },
    {
      "cell_type": "code",
      "metadata": {
        "id": "b3pQa81usPAh",
        "colab_type": "code",
        "colab": {}
      },
      "source": [
        "USER_AGENT = \"Mozilla/5.0 (Windows NT 10.0; WOW64; Trident/7.0; rv:11.0) like Gecko\"\n",
        "\n",
        "DOWNLOAD_DIR = \"download\"\n",
        "DATA_DIR = \"data\""
      ],
      "execution_count": 0,
      "outputs": []
    },
    {
      "cell_type": "markdown",
      "metadata": {
        "id": "Sdm-4xPVL6Mk",
        "colab_type": "text"
      },
      "source": [
        "# スクレイピング"
      ]
    },
    {
      "cell_type": "code",
      "metadata": {
        "id": "bZ2qlW1XGN9P",
        "colab_type": "code",
        "colab": {}
      },
      "source": [
        "import requests\n",
        "from bs4 import BeautifulSoup"
      ],
      "execution_count": 0,
      "outputs": []
    },
    {
      "cell_type": "code",
      "metadata": {
        "id": "Ovc8qvh8Gw-z",
        "colab_type": "code",
        "colab": {}
      },
      "source": [
        "import re"
      ],
      "execution_count": 0,
      "outputs": []
    },
    {
      "cell_type": "code",
      "metadata": {
        "id": "yqtUe2j7GN8Z",
        "colab_type": "code",
        "colab": {}
      },
      "source": [
        "url = \"https://www.pref.kumamoto.jp/kiji_22038.html\""
      ],
      "execution_count": 0,
      "outputs": []
    },
    {
      "cell_type": "code",
      "metadata": {
        "id": "ngbFEda7GN7c",
        "colab_type": "code",
        "colab": {}
      },
      "source": [
        "r = requests.get(url, headers={\"User-Agent\": USER_AGENT})\n",
        "\n",
        "r.raise_for_status()\n",
        "\n",
        "soup = BeautifulSoup(r.content, \"html.parser\")"
      ],
      "execution_count": 0,
      "outputs": []
    },
    {
      "cell_type": "code",
      "metadata": {
        "id": "kYjgA7HoJjAk",
        "colab_type": "code",
        "colab": {}
      },
      "source": [
        "tag = soup.find(\"h3\", text=\"新型コロナウイルス感染症\").next_sibling.find_all(\"tr\")"
      ],
      "execution_count": 0,
      "outputs": []
    },
    {
      "cell_type": "markdown",
      "metadata": {
        "id": "hwB7xMLHqhFJ",
        "colab_type": "text"
      },
      "source": [
        "# オープンデータ"
      ]
    },
    {
      "cell_type": "code",
      "metadata": {
        "id": "NA9HXe00GXlq",
        "colab_type": "code",
        "colab": {}
      },
      "source": [
        "soudan_csv = tag[1].find(\"img\", src=re.compile(\"csv.gif$\")).find_parent(\"a\").get(\"href\")\n",
        "kanja_csv = tag[2].find(\"img\", src=re.compile(\"csv.gif$\")).find_parent(\"a\").get(\"href\")\n",
        "kensa_csv = tag[3].find(\"img\", src=re.compile(\"csv.gif$\")).find_parent(\"a\").get(\"href\")"
      ],
      "execution_count": 0,
      "outputs": []
    },
    {
      "cell_type": "markdown",
      "metadata": {
        "id": "bwjZ_rLsvvi7",
        "colab_type": "text"
      },
      "source": [
        "# データラングリング"
      ]
    },
    {
      "cell_type": "code",
      "metadata": {
        "id": "dfybpHdJrsZv",
        "colab_type": "code",
        "colab": {}
      },
      "source": [
        "import pycurl\n",
        "from retry import retry\n",
        "import pathlib"
      ],
      "execution_count": 0,
      "outputs": []
    },
    {
      "cell_type": "code",
      "metadata": {
        "id": "C1qebmPmrsfx",
        "colab_type": "code",
        "colab": {}
      },
      "source": [
        "@retry(tries=5, delay=5, backoff=3)\n",
        "def get_file(url, file_name, dir=\".\"):\n",
        "\n",
        "    p = pathlib.Path(dir, file_name)\n",
        "\n",
        "    p.parent.mkdir(parents=True, exist_ok=True)\n",
        "\n",
        "    with p.open(mode=\"wb\") as f:\n",
        "\n",
        "        c = pycurl.Curl()\n",
        "        c.setopt(c.URL, url)\n",
        "        c.setopt(c.USERAGENT, USER_AGENT)\n",
        "        c.setopt(c.WRITEDATA, f)\n",
        "        c.perform()\n",
        "        c.close()\n",
        "\n",
        "    return p"
      ],
      "execution_count": 0,
      "outputs": []
    },
    {
      "cell_type": "code",
      "metadata": {
        "id": "WpKvYXsfH68h",
        "colab_type": "code",
        "colab": {}
      },
      "source": [
        "import pandas as pd"
      ],
      "execution_count": 0,
      "outputs": []
    },
    {
      "cell_type": "code",
      "metadata": {
        "id": "XsQ-MBx0ojj9",
        "colab_type": "code",
        "colab": {}
      },
      "source": [
        "import datetime\n",
        "import pathlib\n",
        "import json"
      ],
      "execution_count": 0,
      "outputs": []
    },
    {
      "cell_type": "code",
      "metadata": {
        "id": "ja-aa3NipatK",
        "colab_type": "code",
        "colab": {}
      },
      "source": [
        "JST = datetime.timezone(datetime.timedelta(hours=+9), \"JST\")"
      ],
      "execution_count": 0,
      "outputs": []
    },
    {
      "cell_type": "code",
      "metadata": {
        "id": "X-JPjFGUolQz",
        "colab_type": "code",
        "colab": {}
      },
      "source": [
        "dt_now = datetime.datetime.now(JST)\n",
        "dt_update = dt_now.strftime(\"%Y/%m/%d %H:%M\")"
      ],
      "execution_count": 0,
      "outputs": []
    },
    {
      "cell_type": "code",
      "metadata": {
        "id": "ZPMiGSsqNMWK",
        "colab_type": "code",
        "colab": {}
      },
      "source": [
        "data = {\"lastUpdate\": dt_update}"
      ],
      "execution_count": 0,
      "outputs": []
    },
    {
      "cell_type": "markdown",
      "metadata": {
        "id": "vXrR8Ty_qsDq",
        "colab_type": "text"
      },
      "source": [
        "# 相談件数"
      ]
    },
    {
      "cell_type": "code",
      "metadata": {
        "id": "pAVr7qAw12gw",
        "colab_type": "code",
        "colab": {}
      },
      "source": [
        "soudan_path = get_file(soudan_csv, \"soudan.csv\", DOWNLOAD_DIR)\n",
        "df_soudan = pd.read_csv(soudan_path)"
      ],
      "execution_count": 0,
      "outputs": []
    },
    {
      "cell_type": "code",
      "metadata": {
        "id": "gKaw6v0D-kKP",
        "colab_type": "code",
        "colab": {}
      },
      "source": [
        "df_soudan[\"受付_年月日\"] = pd.to_datetime(df_soudan[\"受付_年月日\"])"
      ],
      "execution_count": 0,
      "outputs": []
    },
    {
      "cell_type": "code",
      "metadata": {
        "id": "PPRVuxqZ_BO7",
        "colab_type": "code",
        "colab": {}
      },
      "source": [
        "df_soudan.set_index(\"受付_年月日\", inplace=True)"
      ],
      "execution_count": 0,
      "outputs": []
    },
    {
      "cell_type": "code",
      "metadata": {
        "id": "XDADq5OE6Fcm",
        "colab_type": "code",
        "colab": {}
      },
      "source": [
        "df_contacts = pd.to_numeric(df_soudan[\"相談件数\"], errors='coerce').dropna().astype(int).reset_index()\n",
        "\n",
        "df_contacts[\"日付\"] = df_contacts[\"受付_年月日\"].dt.strftime(\"%Y-%m-%d\")\n",
        "\n",
        "df_contacts.rename(columns={\"相談件数\": \"小計\"}, inplace=True)\n",
        "\n",
        "df_contacts.drop(columns=[\"受付_年月日\"], inplace=True)\n",
        "\n",
        "data[\"contacts\"] = {\n",
        "    \"data\": df_contacts.to_dict(orient=\"records\"),\n",
        "    \"date\": dt_update,\n",
        "}"
      ],
      "execution_count": 0,
      "outputs": []
    },
    {
      "cell_type": "code",
      "metadata": {
        "id": "AsORP4uuBP1v",
        "colab_type": "code",
        "colab": {}
      },
      "source": [
        "df_contacts"
      ],
      "execution_count": 0,
      "outputs": []
    },
    {
      "cell_type": "markdown",
      "metadata": {
        "id": "F5WTME4hypNg",
        "colab_type": "text"
      },
      "source": [
        "# 検査"
      ]
    },
    {
      "cell_type": "code",
      "metadata": {
        "id": "YBTKbwU6H9b_",
        "colab_type": "code",
        "colab": {}
      },
      "source": [
        "kensa_path = get_file(kensa_csv, \"kensa.csv\", DOWNLOAD_DIR)\n",
        "df_kensa = pd.read_csv(kensa_path).pivot(index=\"実施_年月日\", columns=\"全国地方公共団体コード\", values=\"検査実施_件数\").dropna().astype(int)"
      ],
      "execution_count": 0,
      "outputs": []
    },
    {
      "cell_type": "code",
      "metadata": {
        "id": "t-2LUywiL38x",
        "colab_type": "code",
        "colab": {}
      },
      "source": [
        "df_kensa.rename(columns={430005: \"熊本県\", 431001: \"熊本市\"}, inplace=True)"
      ],
      "execution_count": 0,
      "outputs": []
    },
    {
      "cell_type": "code",
      "metadata": {
        "id": "O9NfI19948q5",
        "colab_type": "code",
        "colab": {}
      },
      "source": [
        "df_kensa.index = pd.to_datetime(df_kensa.index)"
      ],
      "execution_count": 0,
      "outputs": []
    },
    {
      "cell_type": "code",
      "metadata": {
        "id": "TZqGTAnOwyV1",
        "colab_type": "code",
        "colab": {}
      },
      "source": [
        "df_kensa.sort_index(inplace=True)"
      ],
      "execution_count": 0,
      "outputs": []
    },
    {
      "cell_type": "code",
      "metadata": {
        "id": "A1CiVMBiwTEi",
        "colab_type": "code",
        "colab": {}
      },
      "source": [
        "df_kensa.to_csv(\"kumamoto_kensa.csv\", encoding=\"utf_8_sig\")"
      ],
      "execution_count": 0,
      "outputs": []
    },
    {
      "cell_type": "code",
      "metadata": {
        "id": "g_ybvNhkMQxx",
        "colab_type": "code",
        "colab": {}
      },
      "source": [
        "labels = df_kensa.index.map(lambda s: f\"{s.month}/{s.day}\")"
      ],
      "execution_count": 0,
      "outputs": []
    },
    {
      "cell_type": "code",
      "metadata": {
        "id": "3qqi5uuytvRW",
        "colab_type": "code",
        "colab": {}
      },
      "source": [
        "data[\"inspections_summary\"] = {\n",
        "    \"data\": df_kensa.to_dict(orient=\"list\"),\n",
        "    \"labels\": labels.tolist(),\n",
        "    \"date\": dt_update,\n",
        "}"
      ],
      "execution_count": 0,
      "outputs": []
    },
    {
      "cell_type": "markdown",
      "metadata": {
        "id": "WYZo6P3Eo4l0",
        "colab_type": "text"
      },
      "source": [
        "# 患者"
      ]
    },
    {
      "cell_type": "code",
      "metadata": {
        "id": "tLYw0l3vh36V",
        "colab_type": "code",
        "colab": {}
      },
      "source": [
        "kanja_path = get_file(kanja_csv, \"kanja.csv\", DOWNLOAD_DIR)\n",
        "df_kanja = pd.read_csv(\n",
        "    kanja_path,\n",
        "    index_col=\"No\",\n",
        "    parse_dates=[\"公表_年月日\", \"確定_年月日\"],\n",
        "    dtype={\n",
        "        \"No\": \"Int64\",\n",
        "        \"全国地方公共団体コード\": \"Int64\",\n",
        "        \"患者_渡航歴の有無フラグ\": \"Int64\",\n",
        "        \"患者_退院済フラグ\": \"Int64\",\n",
        "    },\n",
        ")"
      ],
      "execution_count": 0,
      "outputs": []
    },
    {
      "cell_type": "code",
      "metadata": {
        "id": "ESJXjs0NH0GU",
        "colab_type": "code",
        "colab": {}
      },
      "source": [
        "df_kanja.dropna(how=\"all\", inplace=True)"
      ],
      "execution_count": 0,
      "outputs": []
    },
    {
      "cell_type": "code",
      "metadata": {
        "id": "nVtWwlggixc7",
        "colab_type": "code",
        "colab": {}
      },
      "source": [
        "df_kanja.columns = df_kanja.columns.map(lambda s: s.replace(\"患者_\", \"\"))"
      ],
      "execution_count": 0,
      "outputs": []
    },
    {
      "cell_type": "code",
      "metadata": {
        "id": "sWVSsqOfl1sN",
        "colab_type": "code",
        "colab": {}
      },
      "source": [
        "df_kanja[\"リリース日\"] = df_kanja[\"公表_年月日\"].dt.strftime(\"%Y-%m-%dT08:00:00.000Z\")\n",
        "df_kanja[\"date\"] = df_kanja[\"公表_年月日\"].dt.strftime(\"%Y-%m-%d\")"
      ],
      "execution_count": 0,
      "outputs": []
    },
    {
      "cell_type": "code",
      "metadata": {
        "id": "eeT_Hddnmj18",
        "colab_type": "code",
        "colab": {}
      },
      "source": [
        "weeks = [\"月\", \"火\", \"水\", \"木\", \"金\", \"土\", \"日\"]\n",
        "df_kanja[\"曜日\"] = df_kanja[\"公表_年月日\"].dt.dayofweek.apply(lambda x: weeks[x])"
      ],
      "execution_count": 0,
      "outputs": []
    },
    {
      "cell_type": "code",
      "metadata": {
        "id": "HyMIwGjzkYv8",
        "colab_type": "code",
        "colab": {}
      },
      "source": [
        "df_kanja[\"退院\"] = df_kanja[\"退院済フラグ\"].replace({1: \"○\", 0: None})"
      ],
      "execution_count": 0,
      "outputs": []
    },
    {
      "cell_type": "code",
      "metadata": {
        "id": "XDQxvgNelLGt",
        "colab_type": "code",
        "colab": {}
      },
      "source": [
        "patients = df_kanja.loc[:, [ \"リリース日\", \"曜日\", \"居住地\", \"年代\", \"性別\", \"退院\", \"date\"]]"
      ],
      "execution_count": 0,
      "outputs": []
    },
    {
      "cell_type": "code",
      "metadata": {
        "id": "nT1h4-wToWp8",
        "colab_type": "code",
        "colab": {}
      },
      "source": [
        "data[\"patients\"] = {\n",
        "    \"data\": patients.to_dict(orient=\"records\"),\n",
        "    \"date\": dt_update,\n",
        "}"
      ],
      "execution_count": 0,
      "outputs": []
    },
    {
      "cell_type": "code",
      "metadata": {
        "id": "kZl8v8_JqJvd",
        "colab_type": "code",
        "colab": {}
      },
      "source": [
        "df_patients_sum = (\n",
        "    df_kanja[\"公表_年月日\"].value_counts().sort_index().asfreq(\"D\", fill_value=0).reset_index()\n",
        ")\n",
        "\n",
        "df_patients_sum[\"日付\"] = df_patients_sum[\"index\"].dt.strftime(\"%Y-%m-%dT08:00:00.000Z\")\n",
        "\n",
        "df_patients_sum.rename(columns={\"公表_年月日\": \"小計\"}, inplace=True)\n",
        "\n",
        "df_patients_sum.drop(columns=[\"index\"], inplace=True)\n",
        "\n",
        "data[\"patients_summary\"] = {\n",
        "    \"data\": df_patients_sum.to_dict(orient=\"records\"),\n",
        "    \"date\": dt_update,\n",
        "}"
      ],
      "execution_count": 0,
      "outputs": []
    },
    {
      "cell_type": "code",
      "metadata": {
        "id": "Oho5c5izEhFh",
        "colab_type": "code",
        "colab": {}
      },
      "source": [
        "df_kanja"
      ],
      "execution_count": 0,
      "outputs": []
    },
    {
      "cell_type": "code",
      "metadata": {
        "id": "dGh9NSo6V24M",
        "colab_type": "code",
        "colab": {}
      },
      "source": [
        "# 状態の内死亡以外（無症状・軽症・中等症・重症・非公表）を症状にコピー\n",
        "df_kanja[\"症状\"] = df_kanja[\"状態\"].mask(df_kanja[\"状態\"] == \"死亡\")\n",
        "\n",
        "# 状態の内死亡以外を入院中に変更\n",
        "df_kanja[\"状況\"] = df_kanja[\"状態\"].where(df_kanja[\"状態\"] == \"死亡\", \"入院中\")\n",
        "\n",
        "# 状態が死亡以外でかつ退院済みフラグが1の場合を退院に変更\n",
        "df_kanja[\"状況\"] = df_kanja[\"状況\"].mask((df_kanja[\"退院済フラグ\"] == 1) & (df_kanja[\"状態\"] != \"死亡\"), \"退院\")\n",
        "\n",
        "situation = df_kanja[\"状況\"].value_counts()\n",
        "condition = df_kanja[\"症状\"].value_counts()"
      ],
      "execution_count": 0,
      "outputs": []
    },
    {
      "cell_type": "code",
      "metadata": {
        "id": "2epOJfh-b6HY",
        "colab_type": "code",
        "colab": {}
      },
      "source": [
        "data[\"main_summary\"] = {\n",
        "    \"attr\": \"検査実施人数\",\n",
        "    \"value\": int(df_kensa.sum(axis=1).sum()),\n",
        "    \"children\": [\n",
        "        {\n",
        "            \"attr\": \"陽性患者数\",\n",
        "            \"value\": int(len(df_kanja)),\n",
        "            \"children\": [\n",
        "                {\n",
        "                    \"attr\": \"入院中\",\n",
        "                    \"value\": int(situation[\"入院中\"]),\n",
        "                    \"children\": [\n",
        "                        {\"attr\": \"軽症・中等症\", \"value\":int(condition.sum() - condition[\"重症\"])},\n",
        "                        {\"attr\": \"重症\", \"value\": int(condition[\"重症\"])},\n",
        "                    ],\n",
        "                },\n",
        "                {\"attr\": \"退院\", \"value\": int(situation[\"退院\"])},\n",
        "                {\"attr\": \"死亡\", \"value\": int(situation[\"死亡\"])},\n",
        "            ],\n",
        "        }\n",
        "    ],\n",
        "}"
      ],
      "execution_count": 0,
      "outputs": []
    },
    {
      "cell_type": "code",
      "metadata": {
        "id": "SVgEuTd5pAB9",
        "colab_type": "code",
        "colab": {}
      },
      "source": [
        "p = pathlib.Path(DATA_DIR, \"data.json\")\n",
        "p.parent.mkdir(parents=True, exist_ok=True)\n",
        "\n",
        "with p.open(mode=\"w\", encoding=\"utf-8\") as fw:\n",
        "    json.dump(data, fw, ensure_ascii=False, indent=4)"
      ],
      "execution_count": 0,
      "outputs": []
    },
    {
      "cell_type": "markdown",
      "metadata": {
        "id": "c2d3CFqaqcqM",
        "colab_type": "text"
      },
      "source": [
        "# ダウンロード"
      ]
    },
    {
      "cell_type": "code",
      "metadata": {
        "id": "BGHCwo8Tp6zo",
        "colab_type": "code",
        "colab": {}
      },
      "source": [
        "from google.colab import files\n",
        "\n",
        "files.download(\"kumamoto_kensa.csv\")\n",
        "files.download(\"data/data.json\")"
      ],
      "execution_count": 0,
      "outputs": []
    },
    {
      "cell_type": "markdown",
      "metadata": {
        "id": "n4nICx3dBpz8",
        "colab_type": "text"
      },
      "source": [
        "# 可視化"
      ]
    },
    {
      "cell_type": "code",
      "metadata": {
        "id": "6hdtEQnJBnvR",
        "colab_type": "code",
        "colab": {}
      },
      "source": [
        "!pip install japanize-matplotlib"
      ],
      "execution_count": 0,
      "outputs": []
    },
    {
      "cell_type": "code",
      "metadata": {
        "id": "LYD6skDUBnuq",
        "colab_type": "code",
        "colab": {}
      },
      "source": [
        "import matplotlib.pyplot as plt"
      ],
      "execution_count": 0,
      "outputs": []
    },
    {
      "cell_type": "code",
      "metadata": {
        "id": "GLf6A3MEBntP",
        "colab_type": "code",
        "colab": {}
      },
      "source": [
        "import japanize_matplotlib\n",
        "import matplotlib.dates as mdates"
      ],
      "execution_count": 0,
      "outputs": []
    },
    {
      "cell_type": "code",
      "metadata": {
        "id": "eWTPDKTfBnsh",
        "colab_type": "code",
        "colab": {}
      },
      "source": [
        "# 解像度\n",
        "import matplotlib as mpl\n",
        "mpl.rcParams['figure.dpi'] = 200"
      ],
      "execution_count": 0,
      "outputs": []
    },
    {
      "cell_type": "markdown",
      "metadata": {
        "id": "wABPiWj7PNiv",
        "colab_type": "text"
      },
      "source": [
        "## 相談件数"
      ]
    },
    {
      "cell_type": "code",
      "metadata": {
        "id": "WcEs_kcFOEUB",
        "colab_type": "code",
        "colab": {}
      },
      "source": [
        "sr_contacts = pd.to_numeric(df_soudan[\"相談件数\"], errors='coerce').dropna().astype(int)\n",
        "sr_contacts.plot()"
      ],
      "execution_count": 0,
      "outputs": []
    },
    {
      "cell_type": "markdown",
      "metadata": {
        "id": "kh_qfoNnIq1H",
        "colab_type": "text"
      },
      "source": [
        "## 検査件数"
      ]
    },
    {
      "cell_type": "code",
      "metadata": {
        "id": "Lxbn3o_bHs8b",
        "colab_type": "code",
        "colab": {}
      },
      "source": [
        "ax = df_kensa.plot()\n",
        "ax.legend(title=None)"
      ],
      "execution_count": 0,
      "outputs": []
    },
    {
      "cell_type": "markdown",
      "metadata": {
        "id": "1cCJ8PBiMVQu",
        "colab_type": "text"
      },
      "source": [
        "## 陽性患者"
      ]
    },
    {
      "cell_type": "code",
      "metadata": {
        "id": "eMOnCrLCI4-0",
        "colab_type": "code",
        "colab": {}
      },
      "source": [
        "sr_pats = df_kanja[\"公表_年月日\"].value_counts().sort_index().asfreq(\"D\", fill_value=0)\n",
        "sr_pats.plot.bar()"
      ],
      "execution_count": 0,
      "outputs": []
    },
    {
      "cell_type": "markdown",
      "metadata": {
        "id": "2ZUzdzbIF40b",
        "colab_type": "text"
      },
      "source": [
        "## 居住地別"
      ]
    },
    {
      "cell_type": "code",
      "metadata": {
        "id": "IWDPFoCY_6x-",
        "colab_type": "code",
        "colab": {}
      },
      "source": [
        "df_area = pd.crosstab(df_kanja[\"確定_年月日\"], df_kanja[\"居住地\"])"
      ],
      "execution_count": 0,
      "outputs": []
    },
    {
      "cell_type": "markdown",
      "metadata": {
        "id": "th9iTnkBF-Lq",
        "colab_type": "text"
      },
      "source": [
        "## 居住地別（全期間）"
      ]
    },
    {
      "cell_type": "code",
      "metadata": {
        "id": "3aiOG4MuBC5v",
        "colab_type": "code",
        "colab": {}
      },
      "source": [
        "df_area.T.plot.barh(stacked=True)\n",
        "plt.legend(bbox_to_anchor=(1.05, 1), loc='upper left', borderaxespad=0, fontsize=6)"
      ],
      "execution_count": 0,
      "outputs": []
    },
    {
      "cell_type": "markdown",
      "metadata": {
        "id": "q8QvrnHMGN7B",
        "colab_type": "text"
      },
      "source": [
        "## 居住地別（直近７日）"
      ]
    },
    {
      "cell_type": "code",
      "metadata": {
        "id": "05z1bxioFkTz",
        "colab_type": "code",
        "colab": {}
      },
      "source": [
        "df_area.tail(7).T.plot.barh(stacked=True)\n",
        "plt.legend(bbox_to_anchor=(1.05, 1), loc='upper left', borderaxespad=0, fontsize=6)"
      ],
      "execution_count": 0,
      "outputs": []
    },
    {
      "cell_type": "markdown",
      "metadata": {
        "id": "U6mv9uVPGQSt",
        "colab_type": "text"
      },
      "source": [
        "## 年代別"
      ]
    },
    {
      "cell_type": "code",
      "metadata": {
        "id": "o5ziNrv-E6h7",
        "colab_type": "code",
        "colab": {}
      },
      "source": [
        "age_list = [\"10歳未満\",\"10代\", \"20代\", \"30代\", \"40代\", \"50代\", \"60代\", \"70代\", \"80代\", \"90歳以上\", \"非公表\"]"
      ],
      "execution_count": 0,
      "outputs": []
    },
    {
      "cell_type": "code",
      "metadata": {
        "id": "j-RVu5MpESgS",
        "colab_type": "code",
        "colab": {}
      },
      "source": [
        "df_age = df_kanja[\"年代\"].value_counts().reindex(age_list, fill_value=0)"
      ],
      "execution_count": 0,
      "outputs": []
    },
    {
      "cell_type": "code",
      "metadata": {
        "id": "lBm7SIMkFHbv",
        "colab_type": "code",
        "colab": {}
      },
      "source": [
        "df_age.plot.barh()"
      ],
      "execution_count": 0,
      "outputs": []
    },
    {
      "cell_type": "markdown",
      "metadata": {
        "id": "rDCYvuRoG6eR",
        "colab_type": "text"
      },
      "source": [
        "## 性別"
      ]
    },
    {
      "cell_type": "code",
      "metadata": {
        "id": "x5ptI-0YGgs5",
        "colab_type": "code",
        "colab": {}
      },
      "source": [
        "df_gender = df_kanja[\"性別\"].value_counts()\n",
        "df_gender.plot.barh()"
      ],
      "execution_count": 0,
      "outputs": []
    },
    {
      "cell_type": "markdown",
      "metadata": {
        "id": "zpZQK4PpHAfx",
        "colab_type": "text"
      },
      "source": [
        "## 職業別"
      ]
    },
    {
      "cell_type": "code",
      "metadata": {
        "id": "Bnaqd5AvHAFD",
        "colab_type": "code",
        "colab": {}
      },
      "source": [
        "df_job = df_kanja[\"職業\"].value_counts()\n",
        "df_job.plot.barh()"
      ],
      "execution_count": 0,
      "outputs": []
    }
  ]
}