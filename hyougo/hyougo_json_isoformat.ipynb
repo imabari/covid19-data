{
  "nbformat": 4,
  "nbformat_minor": 0,
  "metadata": {
    "colab": {
      "name": "hyougo_json-isoformat.ipynb",
      "provenance": [],
      "collapsed_sections": [],
      "toc_visible": true,
      "include_colab_link": true
    },
    "kernelspec": {
      "name": "python3",
      "display_name": "Python 3"
    }
  },
  "cells": [
    {
      "cell_type": "markdown",
      "metadata": {
        "id": "view-in-github",
        "colab_type": "text"
      },
      "source": [
        "<a href=\"https://colab.research.google.com/github/imabari/covid19-data/blob/master/hyougo/hyougo_json_isoformat.ipynb\" target=\"_parent\"><img src=\"https://colab.research.google.com/assets/colab-badge.svg\" alt=\"Open In Colab\"/></a>"
      ]
    },
    {
      "cell_type": "code",
      "metadata": {
        "id": "l9PRH1px56P3",
        "colab_type": "code",
        "colab": {
          "base_uri": "https://localhost:8080/",
          "height": 35
        },
        "outputId": "4bc77607-6572-4ecf-886d-3898a751adf1"
      },
      "source": [
        "!pip install jsonschema"
      ],
      "execution_count": 1,
      "outputs": [
        {
          "output_type": "stream",
          "text": [
            "Requirement already satisfied: jsonschema in /usr/local/lib/python3.6/dist-packages (2.6.0)\n"
          ],
          "name": "stdout"
        }
      ]
    },
    {
      "cell_type": "code",
      "metadata": {
        "id": "yRXkkxa-dr4G",
        "colab_type": "code",
        "colab": {
          "base_uri": "https://localhost:8080/",
          "height": 304
        },
        "outputId": "5b1c872d-3812-492b-b80c-3341f46027a0"
      },
      "source": [
        "!pip install pycurl\n",
        "!pip install retry"
      ],
      "execution_count": 2,
      "outputs": [
        {
          "output_type": "stream",
          "text": [
            "Collecting pycurl\n",
            "\u001b[?25l  Downloading https://files.pythonhosted.org/packages/50/1a/35b1d8b8e4e23a234f1b17a8a40299fd550940b16866c9a1f2d47a04b969/pycurl-7.43.0.6.tar.gz (222kB)\n",
            "\r\u001b[K     |█▌                              | 10kB 15.2MB/s eta 0:00:01\r\u001b[K     |███                             | 20kB 3.0MB/s eta 0:00:01\r\u001b[K     |████▍                           | 30kB 3.7MB/s eta 0:00:01\r\u001b[K     |█████▉                          | 40kB 4.3MB/s eta 0:00:01\r\u001b[K     |███████▍                        | 51kB 3.4MB/s eta 0:00:01\r\u001b[K     |████████▉                       | 61kB 3.8MB/s eta 0:00:01\r\u001b[K     |██████████▎                     | 71kB 4.0MB/s eta 0:00:01\r\u001b[K     |███████████▊                    | 81kB 4.2MB/s eta 0:00:01\r\u001b[K     |█████████████▎                  | 92kB 4.4MB/s eta 0:00:01\r\u001b[K     |██████████████▊                 | 102kB 4.3MB/s eta 0:00:01\r\u001b[K     |████████████████▏               | 112kB 4.3MB/s eta 0:00:01\r\u001b[K     |█████████████████▋              | 122kB 4.3MB/s eta 0:00:01\r\u001b[K     |███████████████████▏            | 133kB 4.3MB/s eta 0:00:01\r\u001b[K     |████████████████████▋           | 143kB 4.3MB/s eta 0:00:01\r\u001b[K     |██████████████████████          | 153kB 4.3MB/s eta 0:00:01\r\u001b[K     |███████████████████████▌        | 163kB 4.3MB/s eta 0:00:01\r\u001b[K     |█████████████████████████       | 174kB 4.3MB/s eta 0:00:01\r\u001b[K     |██████████████████████████▌     | 184kB 4.3MB/s eta 0:00:01\r\u001b[K     |████████████████████████████    | 194kB 4.3MB/s eta 0:00:01\r\u001b[K     |█████████████████████████████▍  | 204kB 4.3MB/s eta 0:00:01\r\u001b[K     |██████████████████████████████▉ | 215kB 4.3MB/s eta 0:00:01\r\u001b[K     |████████████████████████████████| 225kB 4.3MB/s \n",
            "\u001b[?25hBuilding wheels for collected packages: pycurl\n",
            "  Building wheel for pycurl (setup.py) ... \u001b[?25l\u001b[?25hdone\n",
            "  Created wheel for pycurl: filename=pycurl-7.43.0.6-cp36-cp36m-linux_x86_64.whl size=284320 sha256=53c6e1571c249b810332692206dddbc1b68cf0dfdf259599a367df69b768b0b5\n",
            "  Stored in directory: /root/.cache/pip/wheels/d9/a1/7b/2894883fd5c69a3ba684a49d255466d1e924b3cf58cedc1ade\n",
            "Successfully built pycurl\n",
            "Installing collected packages: pycurl\n",
            "Successfully installed pycurl-7.43.0.6\n",
            "Collecting retry\n",
            "  Downloading https://files.pythonhosted.org/packages/4b/0d/53aea75710af4528a25ed6837d71d117602b01946b307a3912cb3cfcbcba/retry-0.9.2-py2.py3-none-any.whl\n",
            "Requirement already satisfied: py<2.0.0,>=1.4.26 in /usr/local/lib/python3.6/dist-packages (from retry) (1.9.0)\n",
            "Requirement already satisfied: decorator>=3.4.2 in /usr/local/lib/python3.6/dist-packages (from retry) (4.4.2)\n",
            "Installing collected packages: retry\n",
            "Successfully installed retry-0.9.2\n"
          ],
          "name": "stdout"
        }
      ]
    },
    {
      "cell_type": "code",
      "metadata": {
        "id": "55BT72KZeIvu",
        "colab_type": "code",
        "colab": {}
      },
      "source": [
        "PCR_XLSX = \"https://web.pref.hyogo.lg.jp/kk03/documents/pcr.xlsx\"\n",
        "YOUSEI_XLSX = \"https://web.pref.hyogo.lg.jp/kk03/documents/yousei.xlsx\"\n",
        "KANJA_HTML = \"https://web.pref.hyogo.lg.jp/kk03/corona_kanjyajyokyo.html\"\n",
        "\n",
        "DOWNLOAD_DIR = \"download\"\n",
        "DATA_DIR = \"data\""
      ],
      "execution_count": 3,
      "outputs": []
    },
    {
      "cell_type": "code",
      "metadata": {
        "id": "nslK3ecQeb0u",
        "colab_type": "code",
        "colab": {}
      },
      "source": [
        "from retry import retry\n",
        "import pathlib"
      ],
      "execution_count": 4,
      "outputs": []
    },
    {
      "cell_type": "markdown",
      "metadata": {
        "id": "9JQQ0bZHBL33",
        "colab_type": "text"
      },
      "source": [
        "# ダウンロード"
      ]
    },
    {
      "cell_type": "code",
      "metadata": {
        "id": "N1Pbfu-Ddsdv",
        "colab_type": "code",
        "colab": {}
      },
      "source": [
        "@retry(tries=5, delay=5, backoff=3)\n",
        "def get_file(url, dir=\".\"):\n",
        "\n",
        "    r = requests.get(url)\n",
        "    r.raise_for_status()\n",
        "\n",
        "    p = pathlib.Path(dir, pathlib.PurePath(url).name)\n",
        "    p.parent.mkdir(parents=True, exist_ok=True)\n",
        "\n",
        "    with p.open(mode=\"wb\") as fw:\n",
        "        fw.write(r.content)\n",
        "\n",
        "    return p"
      ],
      "execution_count": 5,
      "outputs": []
    },
    {
      "cell_type": "markdown",
      "metadata": {
        "id": "qhcpLl5vDICg",
        "colab_type": "text"
      },
      "source": [
        "# SCHEMA"
      ]
    },
    {
      "cell_type": "code",
      "metadata": {
        "id": "Xoc8NSP4DP2t",
        "colab_type": "code",
        "colab": {}
      },
      "source": [
        "AGE_SCHEMA = {\n",
        "    \"$schema\": \"http://json-schema.org/draft-07/schema#\",\n",
        "    \"type\": \"object\",\n",
        "    \"properties\": {\n",
        "        \"data\": {\n",
        "            \"type\": \"object\",\n",
        "            \"additionalProperties\": {\n",
        "                \"default\": 0,\n",
        "                \"type\": \"integer\"\n",
        "            }\n",
        "        },\n",
        "        \"last_update\": {\n",
        "            \"format\": \"date-time\",\n",
        "            \"type\": \"string\"\n",
        "        }\n",
        "    },\n",
        "    \"required\": [\n",
        "        \"data\",\n",
        "        \"last_update\"\n",
        "    ],\n",
        "}"
      ],
      "execution_count": 6,
      "outputs": []
    },
    {
      "cell_type": "code",
      "metadata": {
        "id": "TlJpnZuUDP5k",
        "colab_type": "code",
        "colab": {}
      },
      "source": [
        "AGE_SUMMARY_SCHEMA = {\n",
        "    \"$schema\": \"http://json-schema.org/draft-07/schema#\",\n",
        "    \"type\": \"object\",\n",
        "    \"additionalProperties\": False,\n",
        "    \"properties\": {\n",
        "        \"data\": {\n",
        "            \"type\": \"object\",\n",
        "            \"additionalProperties\": {\n",
        "                \"type\": \"array\",\n",
        "                \"items\": {\"default\": 0, \"type\": \"integer\"},\n",
        "            },\n",
        "        },\n",
        "        \"labels\": {\n",
        "            \"type\": \"array\",\n",
        "            \"items\": {\"pattern\": \"^[0-9]{1,2}/[0-9]{1,2}$\", \"type\": \"string\"},\n",
        "        },\n",
        "        \"last_update\": {\n",
        "            \"format\": \"date-time\",\n",
        "            \"type\": \"string\",\n",
        "        },\n",
        "    },\n",
        "    \"required\": [\"data\", \"labels\", \"last_update\"],\n",
        "}"
      ],
      "execution_count": 7,
      "outputs": []
    },
    {
      "cell_type": "code",
      "metadata": {
        "id": "dLwTO18NYG8G",
        "colab_type": "code",
        "colab": {}
      },
      "source": [
        "CLUSTERS_SCHEMA = {\n",
        "    \"$schema\": \"http://json-schema.org/draft-07/schema#\",\n",
        "    \"type\": \"object\",\n",
        "    \"additionalProperties\": False,\n",
        "    \"properties\": {\n",
        "        \"data\": {\n",
        "            \"type\": \"array\",\n",
        "            \"items\": {\n",
        "                \"type\": \"object\",\n",
        "                \"oneOf\": [\n",
        "                    {\n",
        "                        \"properties\": {\"日付\": {\"type\": \"string\", \"format\": \"date-time\"}},\n",
        "                    },\n",
        "                    {\n",
        "                        \"additionalProperties\": {\"type\": \"integer\"},\n",
        "                    }\n",
        "                ],\n",
        "            },\n",
        "        },\n",
        "        \"last_update\": {\"type\": \"string\", \"format\": \"date-time\"},\n",
        "    },\n",
        "    \"required\": [\"data\", \"last_update\"],\n",
        "}"
      ],
      "execution_count": 8,
      "outputs": []
    },
    {
      "cell_type": "code",
      "metadata": {
        "id": "--P3YaJDDQDE",
        "colab_type": "code",
        "colab": {}
      },
      "source": [
        "CLUSTERS_SUMMARY_SCHEMA = {\n",
        "    \"$schema\": \"http://json-schema.org/draft-07/schema#\",\n",
        "    \"type\": \"object\",\n",
        "    \"additionalProperties\": False,\n",
        "    \"properties\": {\n",
        "        \"data\": {\n",
        "            \"type\": \"object\",\n",
        "            \"additionalProperties\": {\"default\": 0, \"type\": \"integer\"},\n",
        "        },\n",
        "        \"last_update\": {\n",
        "            \"format\": \"date-time\",\n",
        "            \"type\": \"string\",\n",
        "        },\n",
        "    },\n",
        "    \"required\": [\"data\", \"last_update\"],\n",
        "}"
      ],
      "execution_count": 9,
      "outputs": []
    },
    {
      "cell_type": "code",
      "metadata": {
        "id": "qdnNk3-Uuhhe",
        "colab_type": "code",
        "colab": {}
      },
      "source": [
        "INSPECTIONS_SCHEMA = {\n",
        "    \"$schema\": \"http://json-schema.org/draft-07/schema#\",\n",
        "    \"type\": \"object\",\n",
        "    \"additionalProperties\": False,\n",
        "    \"properties\": {\n",
        "        \"data\": {\n",
        "            \"type\": \"array\",\n",
        "            \"items\": {\n",
        "                \"type\": \"object\",\n",
        "                \"additionalProperties\": False,\n",
        "                \"properties\": {\n",
        "                    \"判明日\": {\"type\": \"string\", \"format\": \"date\"},\n",
        "                    \"地方衛生研究所等\": {\"type\": \"integer\"},\n",
        "                    \"民間検査機関等\": {\n",
        "                        \"type\": \"object\",\n",
        "                        \"additionalProperties\": {\"type\": \"integer\"},\n",
        "                    },\n",
        "                    \"陽性確認\": {\"type\": \"integer\"},\n",
        "                },\n",
        "                \"required\": [\"判明日\", \"地方衛生研究所等\", \"民間検査機関等\", \"陽性確認\"],\n",
        "            },\n",
        "        },\n",
        "        \"last_update\": {\"type\": \"string\", \"format\": \"date-time\"},\n",
        "    },\n",
        "    \"required\": [\"data\", \"last_update\"],\n",
        "}"
      ],
      "execution_count": 10,
      "outputs": []
    },
    {
      "cell_type": "code",
      "metadata": {
        "id": "iT0ZZYuJDPwh",
        "colab_type": "code",
        "colab": {}
      },
      "source": [
        "INSPECTIONS_SUMMARY_SCHEMA = {\n",
        "    \"$schema\": \"http://json-schema.org/draft-07/schema#\",\n",
        "    \"type\": \"object\",\n",
        "    \"additionalProperties\": False,\n",
        "    \"properties\": {\n",
        "        \"data\": {\n",
        "            \"type\": \"object\",\n",
        "            \"additionalProperties\": {\n",
        "                \"type\": \"array\",\n",
        "                \"items\": {\"default\": 0, \"type\": \"integer\"},\n",
        "            },\n",
        "        },\n",
        "        \"labels\": {\n",
        "            \"type\": \"array\",\n",
        "            \"items\": {\"pattern\": r\"^[0-9]{1,2}/[0-9]{1,2}$\", \"type\": \"string\"},\n",
        "        },\n",
        "        \"last_update\": {\n",
        "            \"format\": \"date-time\",\n",
        "            \"type\": \"string\",\n",
        "        },\n",
        "    },\n",
        "    \"required\": [\"data\", \"labels\", \"last_update\"],\n",
        "}"
      ],
      "execution_count": 11,
      "outputs": []
    },
    {
      "cell_type": "code",
      "metadata": {
        "id": "8mEE9K1mC20P",
        "colab_type": "code",
        "colab": {}
      },
      "source": [
        "MAIN_SUMMARY_SCHEMA = {\n",
        "    \"$schema\": \"http://json-schema.org/draft-06/schema#\",\n",
        "    \"$ref\": \"#/definitions/Main\",\n",
        "    \"definitions\": {\n",
        "        \"Main\": {\n",
        "            \"type\": \"object\",\n",
        "            \"additionalProperties\": False,\n",
        "            \"properties\": {\n",
        "                \"attr\": {\"type\": \"string\"},\n",
        "                \"value\": {\"type\": \"integer\", \"default\": 0},\n",
        "                \"children\": {\n",
        "                    \"type\": \"array\",\n",
        "                    \"items\": {\"$ref\": \"#/definitions/Inspections\"},\n",
        "                },\n",
        "                \"last_update\": {\n",
        "                    \"format\": \"date-time\",\n",
        "                    \"type\": \"string\",\n",
        "                },\n",
        "            },\n",
        "            \"required\": [\"attr\", \"children\", \"last_update\", \"value\"],\n",
        "            \"title\": \"Main\",\n",
        "        },\n",
        "        \"Inspections\": {\n",
        "            \"type\": \"object\",\n",
        "            \"additionalProperties\": False,\n",
        "            \"properties\": {\n",
        "                \"attr\": {\"type\": \"string\"},\n",
        "                \"value\": {\"type\": \"integer\", \"default\": 0},\n",
        "                \"children\": {\n",
        "                    \"type\": \"array\",\n",
        "                    \"items\": {\"$ref\": \"#/definitions/Patients\"},\n",
        "                },\n",
        "            },\n",
        "            \"required\": [\"attr\", \"children\", \"value\"],\n",
        "            \"title\": \"Inspections\",\n",
        "        },\n",
        "        \"Patients\": {\n",
        "            \"type\": \"object\",\n",
        "            \"additionalProperties\": False,\n",
        "            \"properties\": {\n",
        "                \"attr\": {\"type\": \"string\"},\n",
        "                \"value\": {\"type\": \"integer\", \"default\": 0},\n",
        "                \"children\": {\n",
        "                    \"type\": \"array\",\n",
        "                    \"items\": {\"$ref\": \"#/definitions/Symptoms\"},\n",
        "                },\n",
        "            },\n",
        "            \"required\": [\"attr\", \"value\"],\n",
        "            \"title\": \"Patients\",\n",
        "        },\n",
        "        \"Symptoms\": {\n",
        "            \"type\": \"object\",\n",
        "            \"additionalProperties\": False,\n",
        "            \"properties\": {\n",
        "                \"attr\": {\"type\": \"string\"},\n",
        "                \"value\": {\"type\": \"integer\", \"default\": 0},\n",
        "            },\n",
        "            \"required\": [\"attr\", \"value\"],\n",
        "            \"title\": \"Symptoms\",\n",
        "        },\n",
        "    },\n",
        "}"
      ],
      "execution_count": 12,
      "outputs": []
    },
    {
      "cell_type": "code",
      "metadata": {
        "id": "hBEq8Iv4DP_2",
        "colab_type": "code",
        "colab": {}
      },
      "source": [
        "PATIENTS_SCHEMA = {\n",
        "    \"$schema\": \"http://json-schema.org/draft-07/schema#\",\n",
        "    \"$ref\": \"#/definitions/Main\",\n",
        "    \"definitions\": {\n",
        "        \"Main\": {\n",
        "            \"type\": \"object\",\n",
        "            \"additionalProperties\": False,\n",
        "            \"properties\": {\n",
        "                \"data\": {\"type\": \"array\", \"items\": {\"$ref\": \"#/definitions/Datum\"}},\n",
        "                \"last_update\": {\"type\": \"string\"},\n",
        "            },\n",
        "            \"required\": [\"data\", \"last_update\"],\n",
        "            \"title\": \"Main\",\n",
        "        },\n",
        "        \"Datum\": {\n",
        "            \"type\": \"object\",\n",
        "            \"additionalProperties\": False,\n",
        "            \"properties\": {\n",
        "                \"No\": {\"type\": \"integer\"},\n",
        "                \"居住地\": {\"type\": \"string\"},\n",
        "                \"年代\": {\"$ref\": \"#/definitions/Age\"},\n",
        "                \"性別\": {\"$ref\": \"#/definitions/Sex\"},\n",
        "                \"備考\": {\"type\": \"string\"},\n",
        "                \"退院\": {\"type\": \"null\"},\n",
        "                \"date\": {\"type\": \"string\", \"format\": \"date\"},\n",
        "                \"リリース日\": {\"type\": \"string\", \"format\": \"date\"},\n",
        "                \"曜日\": {\"$ref\": \"#/definitions/Week\"},\n",
        "            },\n",
        "            \"required\": [\"date\", \"リリース日\", \"備考\", \"居住地\", \"年代\", \"性別\", \"曜日\", \"No\", \"退院\"],\n",
        "            \"title\": \"Datum\",\n",
        "        },\n",
        "        \"Age\": {\n",
        "            \"type\": \"string\",\n",
        "            \"enum\": [\n",
        "                \"10歳未満\",\n",
        "                \"10代\",\n",
        "                \"20代\",\n",
        "                \"30代\",\n",
        "                \"40代\",\n",
        "                \"50代\",\n",
        "                \"60代\",\n",
        "                \"70代\",\n",
        "                \"80代\",\n",
        "                \"90歳以上\",\n",
        "                \"非公表\",\n",
        "            ],\n",
        "            \"title\": \"Age\",\n",
        "        },\n",
        "        \"Sex\": {\"type\": \"string\", \"enum\": [\"男性\", \"女性\", \"非公表\"], \"title\": \"Sex\"},\n",
        "        \"Week\": {\n",
        "            \"type\": \"string\",\n",
        "            \"enum\": [\"月\", \"火\", \"水\", \"木\", \"金\", \"土\", \"日\"],\n",
        "            \"title\": \"Week\",\n",
        "        },\n",
        "    },\n",
        "}"
      ],
      "execution_count": 13,
      "outputs": []
    },
    {
      "cell_type": "code",
      "metadata": {
        "id": "_b3I-Z95DP8s",
        "colab_type": "code",
        "colab": {}
      },
      "source": [
        "PATIENTS_SUMMARY_SCHEMA = {\n",
        "    \"$schema\": \"http://json-schema.org/draft-07/schema#\",\n",
        "    \"type\": \"object\",\n",
        "    \"additionalProperties\": False,\n",
        "    \"properties\": {\n",
        "        \"data\": {\n",
        "            \"type\": \"array\",\n",
        "            \"items\": {\n",
        "                \"type\": \"object\",\n",
        "                \"additionalProperties\": False,\n",
        "                \"properties\": {\n",
        "                    \"日付\": {\"type\": \"string\", \"format\": \"date\"},\n",
        "                    \"小計\": {\"default\": 0, \"type\": \"integer\"},\n",
        "                },\n",
        "                \"required\": [\"小計\", \"日付\"],\n",
        "            },\n",
        "        },\n",
        "        \"last_update\": {\n",
        "            \"format\": \"date-time\",\n",
        "            \"type\": \"string\",\n",
        "        },\n",
        "    },\n",
        "    \"required\": [\"data\", \"last_update\"],\n",
        "}"
      ],
      "execution_count": 14,
      "outputs": []
    },
    {
      "cell_type": "markdown",
      "metadata": {
        "id": "O7HqGFL7BbdW",
        "colab_type": "text"
      },
      "source": [
        "# データラングリング"
      ]
    },
    {
      "cell_type": "code",
      "metadata": {
        "id": "pD01Cc3nA_Lz",
        "colab_type": "code",
        "colab": {}
      },
      "source": [
        "import datetime\n",
        "import json\n",
        "\n",
        "import jsonschema\n",
        "import pandas as pd\n",
        "import requests"
      ],
      "execution_count": 15,
      "outputs": []
    },
    {
      "cell_type": "code",
      "metadata": {
        "id": "by7pxgiFgtxW",
        "colab_type": "code",
        "colab": {}
      },
      "source": [
        "from bs4 import BeautifulSoup\n",
        "from urllib.parse import urljoin"
      ],
      "execution_count": 16,
      "outputs": []
    },
    {
      "cell_type": "code",
      "metadata": {
        "id": "E02siZKr5663",
        "colab_type": "code",
        "colab": {}
      },
      "source": [
        "def dumps_json(file_name, json_data, dir=DATA_DIR):\n",
        "\n",
        "    p = pathlib.Path(dir, file_name)\n",
        "\n",
        "    p.parent.mkdir(parents=True, exist_ok=True)\n",
        "\n",
        "    with p.open(mode=\"w\") as fw:\n",
        "        json.dump(json_data, fw, ensure_ascii=False, indent=4)"
      ],
      "execution_count": 17,
      "outputs": []
    },
    {
      "cell_type": "code",
      "metadata": {
        "id": "AHrrm4nZasLI",
        "colab_type": "code",
        "colab": {}
      },
      "source": [
        "# 最終更新日\n",
        "JST = datetime.timezone(datetime.timedelta(hours=+9))\n",
        "dt_now = datetime.datetime.now(JST)"
      ],
      "execution_count": 18,
      "outputs": []
    },
    {
      "cell_type": "code",
      "metadata": {
        "id": "-AbIt9nnbig3",
        "colab_type": "code",
        "colab": {}
      },
      "source": [
        "last_update = dt_now.replace(hour=0, minute=0, second=0, microsecond=0)\n",
        "# last_update -= datetime.timedelta(days=1)"
      ],
      "execution_count": 19,
      "outputs": []
    },
    {
      "cell_type": "markdown",
      "metadata": {
        "id": "_1pbVpuxCDXm",
        "colab_type": "text"
      },
      "source": [
        "## pcr.xlsx"
      ]
    },
    {
      "cell_type": "code",
      "metadata": {
        "id": "Io18c4WKfF9v",
        "colab_type": "code",
        "colab": {}
      },
      "source": [
        "pcr_path = get_file(PCR_XLSX, DOWNLOAD_DIR)"
      ],
      "execution_count": 20,
      "outputs": []
    },
    {
      "cell_type": "code",
      "metadata": {
        "id": "E3FQSlBaBz4N",
        "colab_type": "code",
        "colab": {}
      },
      "source": [
        "df_pcr = pd.read_excel(pcr_path, index_col=\"年月日\").fillna(0).astype(int)"
      ],
      "execution_count": 21,
      "outputs": []
    },
    {
      "cell_type": "code",
      "metadata": {
        "id": "VGowyWJ-bjdX",
        "colab_type": "code",
        "colab": {}
      },
      "source": [
        "df_pcr.rename(\n",
        "    columns={\n",
        "        \"検査件数（合計）\": \"合計\",\n",
        "        \"うち地方衛生研究所等によるPCR検査件数\": \"地方衛生研究所等\",\n",
        "        \"うち民間検査機関等によるPCR検査件数\": \"民間検査機関等_PCR検査\",\n",
        "        \"うち民間検査機関等による抗原検査件数\": \"民間検査機関等_抗原検査\",\n",
        "        \"陽性件数\": \"陽性確認\",\n",
        "    },\n",
        "    inplace=True,\n",
        ")"
      ],
      "execution_count": 22,
      "outputs": []
    },
    {
      "cell_type": "code",
      "metadata": {
        "id": "ld_yiP2R6bbw",
        "colab_type": "code",
        "colab": {}
      },
      "source": [
        "df_pcr[\"民間検査機関等\"] = df_pcr[\"民間検査機関等_PCR検査\"] + df_pcr[\"民間検査機関等_抗原検査\"] "
      ],
      "execution_count": 23,
      "outputs": []
    },
    {
      "cell_type": "code",
      "metadata": {
        "id": "M7o21i2BZPnG",
        "colab_type": "code",
        "colab": {}
      },
      "source": [
        "df_pcr[\"日付\"] = df_pcr.index.map(lambda d: pd.Timestamp(d, tz='Asia/Tokyo').isoformat())"
      ],
      "execution_count": 24,
      "outputs": []
    },
    {
      "cell_type": "code",
      "metadata": {
        "id": "merlZmH60wZm",
        "colab_type": "code",
        "colab": {}
      },
      "source": [
        "df_pcr.to_csv(\"pcr.tsv\", sep=\"\\t\")"
      ],
      "execution_count": 25,
      "outputs": []
    },
    {
      "cell_type": "code",
      "metadata": {
        "id": "BKjuTqsaBz6_",
        "colab_type": "code",
        "colab": {}
      },
      "source": [
        "# inspections_summary\n",
        "\n",
        "df_insp_sum = df_pcr.loc[:, [\"地方衛生研究所等\", \"民間検査機関等\"]].copy()\n",
        "\n",
        "labels = df_insp_sum.index.map(lambda x: f\"{x.month}/{x.day}\")"
      ],
      "execution_count": 26,
      "outputs": []
    },
    {
      "cell_type": "code",
      "metadata": {
        "id": "Bat9wxoSCfWf",
        "colab_type": "code",
        "colab": {}
      },
      "source": [
        "inspections_summary = {\n",
        "    \"data\": df_insp_sum.to_dict(orient=\"list\"),\n",
        "    \"labels\": labels.tolist(),\n",
        "    \"last_update\": last_update.isoformat(),\n",
        "}"
      ],
      "execution_count": 27,
      "outputs": []
    },
    {
      "cell_type": "code",
      "metadata": {
        "id": "rYnfrPiYCVOb",
        "colab_type": "code",
        "colab": {}
      },
      "source": [
        "jsonschema.validate(inspections_summary, INSPECTIONS_SUMMARY_SCHEMA)\n",
        "\n",
        "dumps_json(\"inspections_summary.json\", inspections_summary)"
      ],
      "execution_count": 28,
      "outputs": []
    },
    {
      "cell_type": "code",
      "metadata": {
        "id": "zcGyFB9TtN0H",
        "colab_type": "code",
        "colab": {}
      },
      "source": [
        "# inspections\n",
        "\n",
        "df_insp = df_pcr.loc[:, [\"地方衛生研究所等\", \"民間検査機関等_PCR検査\", \"民間検査機関等_抗原検査\", \"陽性確認\"]].copy()\n",
        "df_insp[\"判明日\"] = df_insp.index.strftime(\"%Y-%m-%d\")"
      ],
      "execution_count": 29,
      "outputs": []
    },
    {
      "cell_type": "code",
      "metadata": {
        "id": "nxwsrQ768e9H",
        "colab_type": "code",
        "colab": {}
      },
      "source": [
        "df_insp.sort_index(inplace=True)"
      ],
      "execution_count": 30,
      "outputs": []
    },
    {
      "cell_type": "code",
      "metadata": {
        "id": "4c3RVjtr7iU-",
        "colab_type": "code",
        "colab": {}
      },
      "source": [
        "insp_dict = [\n",
        "    {\n",
        "        \"判明日\": row[\"判明日\"],\n",
        "        \"地方衛生研究所等\": row[\"地方衛生研究所等\"],\n",
        "        \"民間検査機関等\": {\"PCR検査\": row[\"民間検査機関等_PCR検査\"], \"抗原検査\": row[\"民間検査機関等_抗原検査\"]},\n",
        "        \"陽性確認\": row[\"陽性確認\"],\n",
        "    }\n",
        "    for _, row in df_insp.iterrows()\n",
        "]"
      ],
      "execution_count": 31,
      "outputs": []
    },
    {
      "cell_type": "code",
      "metadata": {
        "id": "NAMFCmGzt3Nv",
        "colab_type": "code",
        "colab": {}
      },
      "source": [
        "inspections = {\n",
        "    \"data\": insp_dict,\n",
        "    \"last_update\": last_update.isoformat(),\n",
        "}"
      ],
      "execution_count": 32,
      "outputs": []
    },
    {
      "cell_type": "code",
      "metadata": {
        "id": "qNaEiQYgt851",
        "colab_type": "code",
        "colab": {}
      },
      "source": [
        "# jsonschema.validate(inspections, INSPECTIONS_SCHEMA)\n",
        "dumps_json(\"inspections.json\", inspections)"
      ],
      "execution_count": 33,
      "outputs": []
    },
    {
      "cell_type": "code",
      "metadata": {
        "id": "r1MYAu9yBz97",
        "colab_type": "code",
        "colab": {}
      },
      "source": [
        "# parent_summary\n",
        "\n",
        "df_pts = df_pcr.loc[:, [\"日付\", \"陽性確認\"]].copy()\n",
        "\n",
        "df_pts.rename(columns={\"陽性確認\": \"小計\"}, inplace=True)"
      ],
      "execution_count": 34,
      "outputs": []
    },
    {
      "cell_type": "code",
      "metadata": {
        "id": "IpH_cQcECj24",
        "colab_type": "code",
        "colab": {}
      },
      "source": [
        "patients_summary = {\n",
        "    \"data\": df_pts.to_dict(orient=\"records\"),\n",
        "    \"last_update\": last_update.isoformat(),\n",
        "}"
      ],
      "execution_count": 35,
      "outputs": []
    },
    {
      "cell_type": "code",
      "metadata": {
        "id": "nkGEW1SaCj83",
        "colab_type": "code",
        "colab": {}
      },
      "source": [
        "jsonschema.validate(patients_summary, PATIENTS_SUMMARY_SCHEMA)\n",
        "\n",
        "dumps_json(\"patients_summary.json\", patients_summary)"
      ],
      "execution_count": 36,
      "outputs": []
    },
    {
      "cell_type": "markdown",
      "metadata": {
        "id": "EXKm4d_sDzrI",
        "colab_type": "text"
      },
      "source": [
        "## kanjya.xlsx"
      ]
    },
    {
      "cell_type": "code",
      "metadata": {
        "id": "OABVe2Prf3du",
        "colab_type": "code",
        "colab": {}
      },
      "source": [
        "p = get_file(KANJA_HTML, DOWNLOAD_DIR)\n",
        "\n",
        "soup = BeautifulSoup(p.open(encoding='utf-8'), \"html.parser\")"
      ],
      "execution_count": 37,
      "outputs": []
    },
    {
      "cell_type": "code",
      "metadata": {
        "id": "tSOAaF6kZp7v",
        "colab_type": "code",
        "colab": {}
      },
      "source": [
        "import re"
      ],
      "execution_count": 38,
      "outputs": []
    },
    {
      "cell_type": "code",
      "metadata": {
        "id": "fquaSlsChfCX",
        "colab_type": "code",
        "colab": {}
      },
      "source": [
        "# tag = soup.find(\"a\", class_=\"icon_excel\")\n",
        "\n",
        "tag = soup.find(\"a\", href=re.compile(\".xls[mx]?$\"))\n",
        "\n",
        "link = urljoin(KANJA_HTML, tag.get(\"href\"))"
      ],
      "execution_count": 39,
      "outputs": []
    },
    {
      "cell_type": "code",
      "metadata": {
        "id": "jfk6xIa2fXhm",
        "colab_type": "code",
        "colab": {}
      },
      "source": [
        "kanja_path = get_file(link, DOWNLOAD_DIR)"
      ],
      "execution_count": 40,
      "outputs": []
    },
    {
      "cell_type": "code",
      "metadata": {
        "id": "bOQey7D5QNHZ",
        "colab_type": "code",
        "colab": {}
      },
      "source": [
        "df_head = pd.read_excel(kanja_path, header=None, skiprows=4).dropna(how=\"all\", axis=1)"
      ],
      "execution_count": 41,
      "outputs": []
    },
    {
      "cell_type": "code",
      "metadata": {
        "id": "qxpb3vYZCkAP",
        "colab_type": "code",
        "colab": {}
      },
      "source": [
        "df_head.columns = [\"\".join(i).strip() for i in df_head.head(2).fillna(\"\").T.values]\n",
        "df_tmp = df_head.iloc[2:, :].copy().reset_index(drop=True)\n",
        "\n",
        "df_kanja = df_tmp[df_tmp[\"番号\"].notnull()].copy()\n",
        "\n",
        "df_kanja.dropna(how=\"all\", axis=1, inplace=True)\n",
        "\n",
        "df_kanja.dropna(thresh=2, inplace=True)\n",
        "\n",
        "df_kanja.columns = df_kanja.columns.map(lambda s: s.replace(\"\\n\", \"\"))\n",
        "\n",
        "df_kanja[\"番号\"] = df_kanja[\"番号\"].astype(int)\n",
        "df_kanja[\"年代\"] = df_kanja[\"年代\"].astype(str)\n",
        "df_kanja[\"年代\"] = df_kanja[\"年代\"].replace({\"10?[歳代]未満\": \"10歳未満\", \"90(歳以上)?\": \"90歳以上\", \"([1-8]0$)\": r\"\\1代\"}, regex=True)\n",
        "\n",
        "flg_is_serial = df_kanja[\"発表日\"].astype(\"str\").str.isdigit()\n",
        "\n",
        "fromSerial = pd.to_datetime(df_kanja.loc[flg_is_serial, \"発表日\"].astype(float), unit=\"D\", origin=pd.Timestamp(\"1899/12/30\"))\n",
        "fromString = pd.to_datetime(df_kanja.loc[~flg_is_serial, \"発表日\"])\n",
        "\n",
        "df_kanja[\"発表日\"] = pd.concat([fromString, fromSerial])\n",
        "\n",
        "df_kanja[\"居住地\"] = df_kanja[\"居住地\"].str.replace(\"\\n\", \"\")\n",
        "df_kanja[\"備考欄\"] = df_kanja[\"備考欄\"].str.replace(\"\\n\", \" \")\n",
        "\n",
        "df_kanja.set_index(\"番号\", inplace=True)"
      ],
      "execution_count": 42,
      "outputs": []
    },
    {
      "cell_type": "code",
      "metadata": {
        "id": "EOcy78R2Dwv3",
        "colab_type": "code",
        "colab": {}
      },
      "source": [
        "df_kanja.to_csv(\"kanja.tsv\", sep=\"\\t\")"
      ],
      "execution_count": 44,
      "outputs": []
    },
    {
      "cell_type": "code",
      "metadata": {
        "id": "hNahpt-pDw2L",
        "colab_type": "code",
        "colab": {
          "base_uri": "https://localhost:8080/",
          "height": 54
        },
        "outputId": "a94af48f-703f-495b-e802-7c61749fea33"
      },
      "source": [
        "# 陽性患者数（日別）\n",
        "\"\"\"\n",
        "df_pts = (\n",
        "    df_kanja[\"発表日\"]\n",
        "    .value_counts()\n",
        "    .sort_index()\n",
        "    .asfreq(\"D\", fill_value=0)\n",
        "    .reset_index()\n",
        ")\n",
        "\n",
        "df_pts[\"日付\"] = df_pts[\"index\"].dt.strftime(\"%Y-%m-%d\")\n",
        "\n",
        "df_pts.rename(columns={\"発表日\": \"小計\"}, inplace=True)\n",
        "\n",
        "df_pts.drop(\"index\", axis=1, inplace=True)\n",
        "\n",
        "df_pts\n",
        "\"\"\""
      ],
      "execution_count": 45,
      "outputs": [
        {
          "output_type": "execute_result",
          "data": {
            "application/vnd.google.colaboratory.intrinsic+json": {
              "type": "string"
            },
            "text/plain": [
              "'\\ndf_pts = (\\n    df_kanja[\"発表日\"]\\n    .value_counts()\\n    .sort_index()\\n    .asfreq(\"D\", fill_value=0)\\n    .reset_index()\\n)\\n\\ndf_pts[\"日付\"] = df_pts[\"index\"].dt.strftime(\"%Y-%m-%d\")\\n\\ndf_pts.rename(columns={\"発表日\": \"小計\"}, inplace=True)\\n\\ndf_pts.drop(\"index\", axis=1, inplace=True)\\n\\ndf_pts\\n'"
            ]
          },
          "metadata": {
            "tags": []
          },
          "execution_count": 45
        }
      ]
    },
    {
      "cell_type": "code",
      "metadata": {
        "id": "6C55vNCAEU9X",
        "colab_type": "code",
        "colab": {
          "base_uri": "https://localhost:8080/",
          "height": 36
        },
        "outputId": "1969488d-87bb-457e-e36c-47b62679278a"
      },
      "source": [
        "\"\"\"\n",
        "patients_summary = {\n",
        "    \"data\": df_pts.to_dict(orient=\"records\"),\n",
        "    \"last_update\": last_update.strftime(\"%Y-%m-%d %H:%M\"),\n",
        "}\n",
        "\"\"\""
      ],
      "execution_count": 46,
      "outputs": [
        {
          "output_type": "execute_result",
          "data": {
            "application/vnd.google.colaboratory.intrinsic+json": {
              "type": "string"
            },
            "text/plain": [
              "'\\npatients_summary = {\\n    \"data\": df_pts.to_dict(orient=\"records\"),\\n    \"last_update\": last_update.strftime(\"%Y-%m-%d %H:%M\"),\\n}\\n'"
            ]
          },
          "metadata": {
            "tags": []
          },
          "execution_count": 46
        }
      ]
    },
    {
      "cell_type": "code",
      "metadata": {
        "id": "iIkDdxn5Dw5i",
        "colab_type": "code",
        "colab": {}
      },
      "source": [
        "jsonschema.validate(patients_summary, PATIENTS_SUMMARY_SCHEMA)\n",
        "\n",
        "dumps_json(\"patients_summary.json\", patients_summary)"
      ],
      "execution_count": 47,
      "outputs": []
    },
    {
      "cell_type": "code",
      "metadata": {
        "id": "E48gD9ZtDw8Z",
        "colab_type": "code",
        "colab": {
          "base_uri": "https://localhost:8080/",
          "height": 424
        },
        "outputId": "920de513-e2cd-4da2-fb4f-9e864026a508"
      },
      "source": [
        "# 陽性患者情報\n",
        "\n",
        "df_pt = df_kanja.loc[:, [\"発表日\", \"居住地\", \"年代\", \"性別\", \"備考欄\"]].sort_index().reset_index()\n",
        "df_pt.head(10)\n",
        "\n",
        "df_pt[\"退院\"] = None\n",
        "\n",
        "df_pt[\"date\"] = df_pt[\"発表日\"].dt.strftime(\"%Y-%m-%d\")\n",
        "df_pt[\"リリース日\"] = df_pt[\"発表日\"].apply(lambda d: pd.Timestamp(d, tz='Asia/Tokyo').isoformat())\n",
        "\n",
        "week = [\"月\", \"火\", \"水\", \"木\", \"金\", \"土\", \"日\"]\n",
        "\n",
        "df_pt[\"曜日\"] = df_pt[\"発表日\"].dt.dayofweek.apply(lambda x: week[x])\n",
        "\n",
        "df_pt[\"備考欄\"] = df_pt[\"備考欄\"].str.replace(\"NO.|N0.|NO,|N0,|No,\", \"No.\")\n",
        "df_pt[\"備考欄\"] = df_pt[\"備考欄\"].str.replace(\"・\", \"、\")\n",
        "df_pt[\"備考欄\"] = df_pt[\"備考欄\"].fillna(\"\")\n",
        "df_pt.rename(columns={\"番号\": \"No\", \"備考欄\": \"備考\"}, inplace=True)\n",
        "\n",
        "df_pt.drop(\"発表日\", axis=1, inplace=True)\n",
        "\n",
        "df_pt"
      ],
      "execution_count": 48,
      "outputs": [
        {
          "output_type": "execute_result",
          "data": {
            "text/html": [
              "<div>\n",
              "<style scoped>\n",
              "    .dataframe tbody tr th:only-of-type {\n",
              "        vertical-align: middle;\n",
              "    }\n",
              "\n",
              "    .dataframe tbody tr th {\n",
              "        vertical-align: top;\n",
              "    }\n",
              "\n",
              "    .dataframe thead th {\n",
              "        text-align: right;\n",
              "    }\n",
              "</style>\n",
              "<table border=\"1\" class=\"dataframe\">\n",
              "  <thead>\n",
              "    <tr style=\"text-align: right;\">\n",
              "      <th></th>\n",
              "      <th>No</th>\n",
              "      <th>居住地</th>\n",
              "      <th>年代</th>\n",
              "      <th>性別</th>\n",
              "      <th>備考</th>\n",
              "      <th>退院</th>\n",
              "      <th>date</th>\n",
              "      <th>リリース日</th>\n",
              "      <th>曜日</th>\n",
              "    </tr>\n",
              "  </thead>\n",
              "  <tbody>\n",
              "    <tr>\n",
              "      <th>0</th>\n",
              "      <td>1</td>\n",
              "      <td>西宮市</td>\n",
              "      <td>40代</td>\n",
              "      <td>男性</td>\n",
              "      <td>特定できず</td>\n",
              "      <td>None</td>\n",
              "      <td>2020-03-01</td>\n",
              "      <td>2020-03-01T00:00:00+09:00</td>\n",
              "      <td>日</td>\n",
              "    </tr>\n",
              "    <tr>\n",
              "      <th>1</th>\n",
              "      <td>2</td>\n",
              "      <td>神戸市</td>\n",
              "      <td>40代</td>\n",
              "      <td>男性</td>\n",
              "      <td>感染経路確認済</td>\n",
              "      <td>None</td>\n",
              "      <td>2020-03-03</td>\n",
              "      <td>2020-03-03T00:00:00+09:00</td>\n",
              "      <td>火</td>\n",
              "    </tr>\n",
              "    <tr>\n",
              "      <th>2</th>\n",
              "      <td>3</td>\n",
              "      <td>神戸市</td>\n",
              "      <td>40代</td>\n",
              "      <td>女性</td>\n",
              "      <td>2/15、16に大阪のライブハウスArcに参加</td>\n",
              "      <td>None</td>\n",
              "      <td>2020-03-03</td>\n",
              "      <td>2020-03-03T00:00:00+09:00</td>\n",
              "      <td>火</td>\n",
              "    </tr>\n",
              "    <tr>\n",
              "      <th>3</th>\n",
              "      <td>4</td>\n",
              "      <td>福崎町</td>\n",
              "      <td>50代</td>\n",
              "      <td>女性</td>\n",
              "      <td>2/15、16に大阪のライブハウスArcに参加</td>\n",
              "      <td>None</td>\n",
              "      <td>2020-03-05</td>\n",
              "      <td>2020-03-05T00:00:00+09:00</td>\n",
              "      <td>木</td>\n",
              "    </tr>\n",
              "    <tr>\n",
              "      <th>4</th>\n",
              "      <td>5</td>\n",
              "      <td>姫路市</td>\n",
              "      <td>40代</td>\n",
              "      <td>男性</td>\n",
              "      <td>2/19に大阪のSoap operaライブに参加</td>\n",
              "      <td>None</td>\n",
              "      <td>2020-03-06</td>\n",
              "      <td>2020-03-06T00:00:00+09:00</td>\n",
              "      <td>金</td>\n",
              "    </tr>\n",
              "    <tr>\n",
              "      <th>...</th>\n",
              "      <td>...</td>\n",
              "      <td>...</td>\n",
              "      <td>...</td>\n",
              "      <td>...</td>\n",
              "      <td>...</td>\n",
              "      <td>...</td>\n",
              "      <td>...</td>\n",
              "      <td>...</td>\n",
              "      <td>...</td>\n",
              "    </tr>\n",
              "    <tr>\n",
              "      <th>2516</th>\n",
              "      <td>2528</td>\n",
              "      <td>宝塚市</td>\n",
              "      <td>90歳以上</td>\n",
              "      <td>男性</td>\n",
              "      <td>陽性患者の濃厚接触者</td>\n",
              "      <td>None</td>\n",
              "      <td>2020-09-16</td>\n",
              "      <td>2020-09-16T00:00:00+09:00</td>\n",
              "      <td>水</td>\n",
              "    </tr>\n",
              "    <tr>\n",
              "      <th>2517</th>\n",
              "      <td>2529</td>\n",
              "      <td>宝塚市</td>\n",
              "      <td>20代</td>\n",
              "      <td>女性</td>\n",
              "      <td>陽性患者の濃厚接触者</td>\n",
              "      <td>None</td>\n",
              "      <td>2020-09-16</td>\n",
              "      <td>2020-09-16T00:00:00+09:00</td>\n",
              "      <td>水</td>\n",
              "    </tr>\n",
              "    <tr>\n",
              "      <th>2518</th>\n",
              "      <td>2530</td>\n",
              "      <td>宝塚市</td>\n",
              "      <td>30代</td>\n",
              "      <td>女性</td>\n",
              "      <td>No2445の濃厚接触者</td>\n",
              "      <td>None</td>\n",
              "      <td>2020-09-16</td>\n",
              "      <td>2020-09-16T00:00:00+09:00</td>\n",
              "      <td>水</td>\n",
              "    </tr>\n",
              "    <tr>\n",
              "      <th>2519</th>\n",
              "      <td>2531</td>\n",
              "      <td>宝塚健康福祉事務所管内</td>\n",
              "      <td>20代</td>\n",
              "      <td>男性</td>\n",
              "      <td>行動歴調査中</td>\n",
              "      <td>None</td>\n",
              "      <td>2020-09-16</td>\n",
              "      <td>2020-09-16T00:00:00+09:00</td>\n",
              "      <td>水</td>\n",
              "    </tr>\n",
              "    <tr>\n",
              "      <th>2520</th>\n",
              "      <td>2532</td>\n",
              "      <td>加古川健康福祉事務所管内</td>\n",
              "      <td>40代</td>\n",
              "      <td>男性</td>\n",
              "      <td>行動歴調査中</td>\n",
              "      <td>None</td>\n",
              "      <td>2020-09-16</td>\n",
              "      <td>2020-09-16T00:00:00+09:00</td>\n",
              "      <td>水</td>\n",
              "    </tr>\n",
              "  </tbody>\n",
              "</table>\n",
              "<p>2521 rows × 9 columns</p>\n",
              "</div>"
            ],
            "text/plain": [
              "        No           居住地     年代  ...        date                      リリース日 曜日\n",
              "0        1           西宮市    40代  ...  2020-03-01  2020-03-01T00:00:00+09:00  日\n",
              "1        2           神戸市    40代  ...  2020-03-03  2020-03-03T00:00:00+09:00  火\n",
              "2        3           神戸市    40代  ...  2020-03-03  2020-03-03T00:00:00+09:00  火\n",
              "3        4           福崎町    50代  ...  2020-03-05  2020-03-05T00:00:00+09:00  木\n",
              "4        5           姫路市    40代  ...  2020-03-06  2020-03-06T00:00:00+09:00  金\n",
              "...    ...           ...    ...  ...         ...                        ... ..\n",
              "2516  2528           宝塚市  90歳以上  ...  2020-09-16  2020-09-16T00:00:00+09:00  水\n",
              "2517  2529           宝塚市    20代  ...  2020-09-16  2020-09-16T00:00:00+09:00  水\n",
              "2518  2530           宝塚市    30代  ...  2020-09-16  2020-09-16T00:00:00+09:00  水\n",
              "2519  2531   宝塚健康福祉事務所管内    20代  ...  2020-09-16  2020-09-16T00:00:00+09:00  水\n",
              "2520  2532  加古川健康福祉事務所管内    40代  ...  2020-09-16  2020-09-16T00:00:00+09:00  水\n",
              "\n",
              "[2521 rows x 9 columns]"
            ]
          },
          "metadata": {
            "tags": []
          },
          "execution_count": 48
        }
      ]
    },
    {
      "cell_type": "code",
      "metadata": {
        "id": "hsejNrMkEOIo",
        "colab_type": "code",
        "colab": {}
      },
      "source": [
        "patients = {\n",
        "    \"data\": df_pt.to_dict(orient=\"records\"),\n",
        "    \"last_update\": last_update.isoformat(),\n",
        "}"
      ],
      "execution_count": 49,
      "outputs": []
    },
    {
      "cell_type": "code",
      "metadata": {
        "id": "Dc8pW64x43wo",
        "colab_type": "code",
        "colab": {}
      },
      "source": [
        "jsonschema.validate(patients, PATIENTS_SCHEMA)\n",
        "\n",
        "dumps_json(\"patients.json\", patients)"
      ],
      "execution_count": 50,
      "outputs": []
    },
    {
      "cell_type": "code",
      "metadata": {
        "id": "ekQLzuX3EOOh",
        "colab_type": "code",
        "colab": {}
      },
      "source": [
        "# 年代集計\n",
        "\n",
        "age_list = [\"10歳未満\",\"10代\", \"20代\", \"30代\", \"40代\", \"50代\", \"60代\", \"70代\", \"80代\", \"90歳以上\", \"非公表\"]\n",
        "\n",
        "df_age = df_kanja[\"年代\"].value_counts().sort_index().reindex(age_list, fill_value=0)\n",
        "\n",
        "df_age = df_age.astype(int)"
      ],
      "execution_count": 51,
      "outputs": []
    },
    {
      "cell_type": "code",
      "metadata": {
        "id": "1mAAXEhjEORq",
        "colab_type": "code",
        "colab": {}
      },
      "source": [
        "age = {\n",
        "    \"data\": df_age.to_dict(),\n",
        "    \"last_update\": last_update.isoformat(),\n",
        "}"
      ],
      "execution_count": 52,
      "outputs": []
    },
    {
      "cell_type": "code",
      "metadata": {
        "id": "bWEsrIOKEOUq",
        "colab_type": "code",
        "colab": {}
      },
      "source": [
        "jsonschema.validate(age, AGE_SCHEMA)\n",
        "\n",
        "dumps_json(\"age.json\", age)"
      ],
      "execution_count": 53,
      "outputs": []
    },
    {
      "cell_type": "code",
      "metadata": {
        "id": "o4sLD-zdE4Pn",
        "colab_type": "code",
        "colab": {
          "base_uri": "https://localhost:8080/",
          "height": 455
        },
        "outputId": "45c6b1fe-5582-41f6-c24b-9dd971972ae0"
      },
      "source": [
        "df_ages = pd.crosstab(df_kanja[\"発表日\"], df_kanja[\"年代\"]).reindex(\n",
        "    age_list, axis=1, fill_value=0\n",
        ")\n",
        "\n",
        "if df_pcr.index[-1] not in df_ages.index:\n",
        "    df_ages.loc[df_pcr.index[-1]] = 0\n",
        "\n",
        "df_ages = df_ages.astype(int)\n",
        "df_ages.sort_index(inplace=True)\n",
        "\n",
        "df_agesum = df_ages.asfreq(\"D\", fill_value=0)\n",
        "\n",
        "df_agesum"
      ],
      "execution_count": 54,
      "outputs": [
        {
          "output_type": "execute_result",
          "data": {
            "text/html": [
              "<div>\n",
              "<style scoped>\n",
              "    .dataframe tbody tr th:only-of-type {\n",
              "        vertical-align: middle;\n",
              "    }\n",
              "\n",
              "    .dataframe tbody tr th {\n",
              "        vertical-align: top;\n",
              "    }\n",
              "\n",
              "    .dataframe thead th {\n",
              "        text-align: right;\n",
              "    }\n",
              "</style>\n",
              "<table border=\"1\" class=\"dataframe\">\n",
              "  <thead>\n",
              "    <tr style=\"text-align: right;\">\n",
              "      <th>年代</th>\n",
              "      <th>10歳未満</th>\n",
              "      <th>10代</th>\n",
              "      <th>20代</th>\n",
              "      <th>30代</th>\n",
              "      <th>40代</th>\n",
              "      <th>50代</th>\n",
              "      <th>60代</th>\n",
              "      <th>70代</th>\n",
              "      <th>80代</th>\n",
              "      <th>90歳以上</th>\n",
              "      <th>非公表</th>\n",
              "    </tr>\n",
              "    <tr>\n",
              "      <th>発表日</th>\n",
              "      <th></th>\n",
              "      <th></th>\n",
              "      <th></th>\n",
              "      <th></th>\n",
              "      <th></th>\n",
              "      <th></th>\n",
              "      <th></th>\n",
              "      <th></th>\n",
              "      <th></th>\n",
              "      <th></th>\n",
              "      <th></th>\n",
              "    </tr>\n",
              "  </thead>\n",
              "  <tbody>\n",
              "    <tr>\n",
              "      <th>2020-03-01</th>\n",
              "      <td>0</td>\n",
              "      <td>0</td>\n",
              "      <td>0</td>\n",
              "      <td>0</td>\n",
              "      <td>1</td>\n",
              "      <td>0</td>\n",
              "      <td>0</td>\n",
              "      <td>0</td>\n",
              "      <td>0</td>\n",
              "      <td>0</td>\n",
              "      <td>0</td>\n",
              "    </tr>\n",
              "    <tr>\n",
              "      <th>2020-03-02</th>\n",
              "      <td>0</td>\n",
              "      <td>0</td>\n",
              "      <td>0</td>\n",
              "      <td>0</td>\n",
              "      <td>0</td>\n",
              "      <td>0</td>\n",
              "      <td>0</td>\n",
              "      <td>0</td>\n",
              "      <td>0</td>\n",
              "      <td>0</td>\n",
              "      <td>0</td>\n",
              "    </tr>\n",
              "    <tr>\n",
              "      <th>2020-03-03</th>\n",
              "      <td>0</td>\n",
              "      <td>0</td>\n",
              "      <td>0</td>\n",
              "      <td>0</td>\n",
              "      <td>2</td>\n",
              "      <td>0</td>\n",
              "      <td>0</td>\n",
              "      <td>0</td>\n",
              "      <td>0</td>\n",
              "      <td>0</td>\n",
              "      <td>0</td>\n",
              "    </tr>\n",
              "    <tr>\n",
              "      <th>2020-03-04</th>\n",
              "      <td>0</td>\n",
              "      <td>0</td>\n",
              "      <td>0</td>\n",
              "      <td>0</td>\n",
              "      <td>0</td>\n",
              "      <td>0</td>\n",
              "      <td>0</td>\n",
              "      <td>0</td>\n",
              "      <td>0</td>\n",
              "      <td>0</td>\n",
              "      <td>0</td>\n",
              "    </tr>\n",
              "    <tr>\n",
              "      <th>2020-03-05</th>\n",
              "      <td>0</td>\n",
              "      <td>0</td>\n",
              "      <td>0</td>\n",
              "      <td>0</td>\n",
              "      <td>0</td>\n",
              "      <td>1</td>\n",
              "      <td>0</td>\n",
              "      <td>0</td>\n",
              "      <td>0</td>\n",
              "      <td>0</td>\n",
              "      <td>0</td>\n",
              "    </tr>\n",
              "    <tr>\n",
              "      <th>...</th>\n",
              "      <td>...</td>\n",
              "      <td>...</td>\n",
              "      <td>...</td>\n",
              "      <td>...</td>\n",
              "      <td>...</td>\n",
              "      <td>...</td>\n",
              "      <td>...</td>\n",
              "      <td>...</td>\n",
              "      <td>...</td>\n",
              "      <td>...</td>\n",
              "      <td>...</td>\n",
              "    </tr>\n",
              "    <tr>\n",
              "      <th>2020-09-12</th>\n",
              "      <td>2</td>\n",
              "      <td>0</td>\n",
              "      <td>4</td>\n",
              "      <td>3</td>\n",
              "      <td>3</td>\n",
              "      <td>3</td>\n",
              "      <td>2</td>\n",
              "      <td>0</td>\n",
              "      <td>3</td>\n",
              "      <td>0</td>\n",
              "      <td>0</td>\n",
              "    </tr>\n",
              "    <tr>\n",
              "      <th>2020-09-13</th>\n",
              "      <td>1</td>\n",
              "      <td>3</td>\n",
              "      <td>3</td>\n",
              "      <td>3</td>\n",
              "      <td>1</td>\n",
              "      <td>2</td>\n",
              "      <td>0</td>\n",
              "      <td>1</td>\n",
              "      <td>1</td>\n",
              "      <td>0</td>\n",
              "      <td>0</td>\n",
              "    </tr>\n",
              "    <tr>\n",
              "      <th>2020-09-14</th>\n",
              "      <td>1</td>\n",
              "      <td>0</td>\n",
              "      <td>2</td>\n",
              "      <td>1</td>\n",
              "      <td>0</td>\n",
              "      <td>1</td>\n",
              "      <td>2</td>\n",
              "      <td>1</td>\n",
              "      <td>0</td>\n",
              "      <td>0</td>\n",
              "      <td>0</td>\n",
              "    </tr>\n",
              "    <tr>\n",
              "      <th>2020-09-15</th>\n",
              "      <td>0</td>\n",
              "      <td>1</td>\n",
              "      <td>1</td>\n",
              "      <td>5</td>\n",
              "      <td>5</td>\n",
              "      <td>0</td>\n",
              "      <td>3</td>\n",
              "      <td>3</td>\n",
              "      <td>5</td>\n",
              "      <td>0</td>\n",
              "      <td>0</td>\n",
              "    </tr>\n",
              "    <tr>\n",
              "      <th>2020-09-16</th>\n",
              "      <td>0</td>\n",
              "      <td>0</td>\n",
              "      <td>4</td>\n",
              "      <td>2</td>\n",
              "      <td>1</td>\n",
              "      <td>4</td>\n",
              "      <td>2</td>\n",
              "      <td>4</td>\n",
              "      <td>2</td>\n",
              "      <td>1</td>\n",
              "      <td>0</td>\n",
              "    </tr>\n",
              "  </tbody>\n",
              "</table>\n",
              "<p>200 rows × 11 columns</p>\n",
              "</div>"
            ],
            "text/plain": [
              "年代          10歳未満  10代  20代  30代  40代  50代  60代  70代  80代  90歳以上  非公表\n",
              "発表日                                                                  \n",
              "2020-03-01      0    0    0    0    1    0    0    0    0      0    0\n",
              "2020-03-02      0    0    0    0    0    0    0    0    0      0    0\n",
              "2020-03-03      0    0    0    0    2    0    0    0    0      0    0\n",
              "2020-03-04      0    0    0    0    0    0    0    0    0      0    0\n",
              "2020-03-05      0    0    0    0    0    1    0    0    0      0    0\n",
              "...           ...  ...  ...  ...  ...  ...  ...  ...  ...    ...  ...\n",
              "2020-09-12      2    0    4    3    3    3    2    0    3      0    0\n",
              "2020-09-13      1    3    3    3    1    2    0    1    1      0    0\n",
              "2020-09-14      1    0    2    1    0    1    2    1    0      0    0\n",
              "2020-09-15      0    1    1    5    5    0    3    3    5      0    0\n",
              "2020-09-16      0    0    4    2    1    4    2    4    2      1    0\n",
              "\n",
              "[200 rows x 11 columns]"
            ]
          },
          "metadata": {
            "tags": []
          },
          "execution_count": 54
        }
      ]
    },
    {
      "cell_type": "code",
      "metadata": {
        "id": "-7IURnJTE4Sr",
        "colab_type": "code",
        "colab": {}
      },
      "source": [
        "labels = df_agesum.index.map(lambda d: f\"{d.month}/{d.day}\")"
      ],
      "execution_count": 55,
      "outputs": []
    },
    {
      "cell_type": "code",
      "metadata": {
        "id": "fxzc9U1VE4Vm",
        "colab_type": "code",
        "colab": {}
      },
      "source": [
        "age_summary = {\n",
        "    \"data\": df_agesum.to_dict(orient=\"list\"),\n",
        "    \"labels\": labels.tolist(),\n",
        "    \"last_update\": last_update.isoformat(),\n",
        "}"
      ],
      "execution_count": 56,
      "outputs": []
    },
    {
      "cell_type": "code",
      "metadata": {
        "id": "aM6yKRUGE4Ym",
        "colab_type": "code",
        "colab": {}
      },
      "source": [
        "jsonschema.validate(age_summary, AGE_SUMMARY_SCHEMA)\n",
        "\n",
        "dumps_json(\"age_summary.json\", age_summary)"
      ],
      "execution_count": 57,
      "outputs": []
    },
    {
      "cell_type": "code",
      "metadata": {
        "id": "C6g7-wHoE4cO",
        "colab_type": "code",
        "colab": {}
      },
      "source": [
        "# クラスタ概要\n",
        "\n",
        "df_cluster_sum = df_kanja.loc[:, \"認定こども園\":\"特定できず\"].copy().notnull().sum()"
      ],
      "execution_count": 58,
      "outputs": []
    },
    {
      "cell_type": "code",
      "metadata": {
        "id": "wQ5pZ66YFMzb",
        "colab_type": "code",
        "colab": {}
      },
      "source": [
        "clusters_summary = {\n",
        "    \"data\": df_cluster_sum.to_dict(),\n",
        "    \"last_update\": last_update.isoformat(),\n",
        "}"
      ],
      "execution_count": 59,
      "outputs": []
    },
    {
      "cell_type": "code",
      "metadata": {
        "id": "kYoLUbXiFM2o",
        "colab_type": "code",
        "colab": {}
      },
      "source": [
        "jsonschema.validate(clusters_summary, CLUSTERS_SUMMARY_SCHEMA)\n",
        "\n",
        "dumps_json(\"clusters_summary.json\", clusters_summary)"
      ],
      "execution_count": 60,
      "outputs": []
    },
    {
      "cell_type": "code",
      "metadata": {
        "id": "56_J6al5FM5n",
        "colab_type": "code",
        "colab": {}
      },
      "source": [
        "# クラスタ\n",
        "\n",
        "df_clusters = df_kanja.loc[:, \"認定こども園\":\"特定できず\"].copy().fillna(0)"
      ],
      "execution_count": 61,
      "outputs": []
    },
    {
      "cell_type": "code",
      "metadata": {
        "id": "TXproIbA84q4",
        "colab_type": "code",
        "colab": {}
      },
      "source": [
        "df_clusters[df_clusters != 0] = 1"
      ],
      "execution_count": 62,
      "outputs": []
    },
    {
      "cell_type": "code",
      "metadata": {
        "id": "NgU1WgNG8h16",
        "colab_type": "code",
        "colab": {}
      },
      "source": [
        "df_clusters[\"発表日\"] = df_kanja[\"発表日\"]"
      ],
      "execution_count": 63,
      "outputs": []
    },
    {
      "cell_type": "code",
      "metadata": {
        "id": "Z330Et_P8BWj",
        "colab_type": "code",
        "colab": {}
      },
      "source": [
        "pv_clusters = df_clusters.pivot_table(index=\"発表日\", aggfunc=\"sum\")"
      ],
      "execution_count": 64,
      "outputs": []
    },
    {
      "cell_type": "code",
      "metadata": {
        "id": "aalNoxIkrmy8",
        "colab_type": "code",
        "colab": {}
      },
      "source": [
        "if df_pcr.index[-1] not in pv_clusters.index:\n",
        "    pv_clusters.loc[df_pcr.index[-1]] = 0\n",
        "\n",
        "pv_clusters.sort_index(inplace=True)"
      ],
      "execution_count": 65,
      "outputs": []
    },
    {
      "cell_type": "code",
      "metadata": {
        "id": "MKIjIVa47DL2",
        "colab_type": "code",
        "colab": {}
      },
      "source": [
        "pv_clusters = pv_clusters.asfreq(\"D\", fill_value=0)\n",
        "\n",
        "pv_clusters[\"日付\"] = pv_clusters.index.map(lambda d: pd.Timestamp(d, tz='Asia/Tokyo').isoformat())"
      ],
      "execution_count": 66,
      "outputs": []
    },
    {
      "cell_type": "code",
      "metadata": {
        "id": "uztyhc-JFM8-",
        "colab_type": "code",
        "colab": {}
      },
      "source": [
        "clusters = {\n",
        "    \"data\": pv_clusters.to_dict(orient=\"recodes\"),\n",
        "    \"last_update\": last_update.isoformat(),\n",
        "}"
      ],
      "execution_count": 67,
      "outputs": []
    },
    {
      "cell_type": "code",
      "metadata": {
        "id": "2jzMYwd0FUmB",
        "colab_type": "code",
        "colab": {}
      },
      "source": [
        "jsonschema.validate(clusters, CLUSTERS_SCHEMA)\n",
        "dumps_json(\"clusters.json\", clusters)"
      ],
      "execution_count": 68,
      "outputs": []
    },
    {
      "cell_type": "code",
      "metadata": {
        "id": "xKR55Q97Dw_Z",
        "colab_type": "code",
        "colab": {
          "base_uri": "https://localhost:8080/",
          "height": 35
        },
        "outputId": "8794d7c0-3e83-4aab-a5e1-e515da0ff134"
      },
      "source": [
        "# 重複者\n",
        "\n",
        "(df_kanja.loc[:, \"認定こども園\":].copy().notnull().sum(axis=1) > 1).sum()"
      ],
      "execution_count": 69,
      "outputs": [
        {
          "output_type": "execute_result",
          "data": {
            "text/plain": [
              "6"
            ]
          },
          "metadata": {
            "tags": []
          },
          "execution_count": 69
        }
      ]
    },
    {
      "cell_type": "markdown",
      "metadata": {
        "id": "gug1ffSBFixf",
        "colab_type": "text"
      },
      "source": [
        "## yousei.xlsx"
      ]
    },
    {
      "cell_type": "code",
      "metadata": {
        "id": "kODIiANyfhdN",
        "colab_type": "code",
        "colab": {}
      },
      "source": [
        "yousei_path = get_file(YOUSEI_XLSX, DOWNLOAD_DIR)"
      ],
      "execution_count": 70,
      "outputs": []
    },
    {
      "cell_type": "code",
      "metadata": {
        "id": "FgEnLr8pFhWI",
        "colab_type": "code",
        "colab": {}
      },
      "source": [
        "df_yousei = pd.read_excel(yousei_path, index_col=\"発表年月日\")\n",
        "\n",
        "df_yousei.columns = df_yousei.columns.map(lambda s: s.replace(\"（累計）\", \"\").strip())\n",
        "\n",
        "# df_yousei.index += pd.to_timedelta(\"1 days\")\n",
        "\n",
        "df_yousei.rename(columns={\"入院中（合計）\": \"入院中\", \"入院中（中等症以下）\": \"軽症・中等症\", \"入院中（重症）\": \"重症\", \"陽性者数\": \"陽性患者数\"}, inplace=True)\n",
        "\n",
        "df_yousei.drop(\"発表時間\", axis=1, inplace=True)"
      ],
      "execution_count": 71,
      "outputs": []
    },
    {
      "cell_type": "code",
      "metadata": {
        "id": "ZDDIdyIl5IB-",
        "colab_type": "code",
        "colab": {}
      },
      "source": [
        "df_yousei.to_csv(\"yousei.tsv\", sep=\"\\t\")"
      ],
      "execution_count": 72,
      "outputs": []
    },
    {
      "cell_type": "code",
      "metadata": {
        "id": "xlI_55c5FiM_",
        "colab_type": "code",
        "colab": {}
      },
      "source": [
        "d = df_yousei.iloc[-1].to_dict()"
      ],
      "execution_count": 73,
      "outputs": []
    },
    {
      "cell_type": "code",
      "metadata": {
        "id": "0foKI_aFgfTI",
        "colab_type": "code",
        "colab": {
          "base_uri": "https://localhost:8080/",
          "height": 160
        },
        "outputId": "05f71ad1-f1c8-448f-95d4-13ec6a404386"
      },
      "source": [
        "d"
      ],
      "execution_count": 74,
      "outputs": [
        {
          "output_type": "execute_result",
          "data": {
            "text/plain": [
              "{'入院中': 121,\n",
              " '宿泊療養': 16,\n",
              " '検査実施人数': 51144,\n",
              " '死亡': 55,\n",
              " '軽症・中等症': 110,\n",
              " '退院': 2329,\n",
              " '重症': 11,\n",
              " '陽性患者数': 2521}"
            ]
          },
          "metadata": {
            "tags": []
          },
          "execution_count": 74
        }
      ]
    },
    {
      "cell_type": "code",
      "metadata": {
        "id": "YSv_sHnJFoRf",
        "colab_type": "code",
        "colab": {}
      },
      "source": [
        "main_summary = {\n",
        "    \"attr\": \"検査実施人数\",\n",
        "    \"value\": d[\"検査実施人数\"],\n",
        "    \"children\": [\n",
        "        {\n",
        "            \"attr\": \"陽性患者数\",\n",
        "            \"value\": d[\"陽性患者数\"],\n",
        "            \"children\": [\n",
        "                {\n",
        "                    \"attr\": \"入院中\",\n",
        "                    \"value\": d[\"入院中\"],\n",
        "                    \"children\": [\n",
        "                        {\"attr\": \"軽症・中等症\", \"value\": d[\"軽症・中等症\"]},\n",
        "                        {\"attr\": \"重症\", \"value\": d[\"重症\"]},\n",
        "                    ],\n",
        "                },\n",
        "                {\"attr\": \"宿泊療養\", \"value\": d[\"宿泊療養\"]},\n",
        "                {\"attr\": \"死亡\", \"value\": d[\"死亡\"]},\n",
        "                {\"attr\": \"退院\", \"value\": d[\"退院\"]},\n",
        "            ],\n",
        "        }\n",
        "    ],\n",
        "    \"last_update\": last_update.isoformat(),\n",
        "}"
      ],
      "execution_count": 75,
      "outputs": []
    },
    {
      "cell_type": "code",
      "metadata": {
        "id": "FTxI8eGt57NM",
        "colab_type": "code",
        "colab": {}
      },
      "source": [
        "jsonschema.validate(main_summary, MAIN_SUMMARY_SCHEMA)\n",
        "\n",
        "dumps_json(\"main_summary.json\", main_summary)"
      ],
      "execution_count": 76,
      "outputs": []
    },
    {
      "cell_type": "code",
      "metadata": {
        "id": "RxcOU-t151aE",
        "colab_type": "code",
        "colab": {}
      },
      "source": [
        "df_yousei[\"治療中\"] = df_yousei[\"入院中\"] + df_yousei[\"宿泊療養\"]"
      ],
      "execution_count": 77,
      "outputs": []
    },
    {
      "cell_type": "code",
      "metadata": {
        "id": "axcFj5K83J9S",
        "colab_type": "code",
        "colab": {}
      },
      "source": [
        "ser_cur = df_yousei[\"治療中\"].reindex(df_pcr.index)"
      ],
      "execution_count": 78,
      "outputs": []
    },
    {
      "cell_type": "code",
      "metadata": {
        "id": "nWCR1pFE34KZ",
        "colab_type": "code",
        "colab": {}
      },
      "source": [
        "df_current = pd.DataFrame({\"小計\": ser_cur.combine_first(df_pcr[\"陽性確認\"].cumsum())}).diff().fillna(0).astype(int)"
      ],
      "execution_count": 79,
      "outputs": []
    },
    {
      "cell_type": "code",
      "metadata": {
        "id": "SMCuFsiRvVq5",
        "colab_type": "code",
        "colab": {}
      },
      "source": [
        "df_current[\"日付\"] = df_current.index.map(lambda d: pd.Timestamp(d, tz='Asia/Tokyo').isoformat())"
      ],
      "execution_count": 80,
      "outputs": []
    },
    {
      "cell_type": "code",
      "metadata": {
        "id": "Fm1XQY4UvdiA",
        "colab_type": "code",
        "colab": {}
      },
      "source": [
        "df_cur_pts = df_current.loc[:, [\"日付\", \"小計\"]].copy()"
      ],
      "execution_count": 81,
      "outputs": []
    },
    {
      "cell_type": "code",
      "metadata": {
        "id": "9u9WrvTQvoG5",
        "colab_type": "code",
        "colab": {}
      },
      "source": [
        "current_patients = {\n",
        "    \"data\": df_cur_pts.to_dict(orient=\"records\"),\n",
        "    \"last_update\": last_update.isoformat(),\n",
        "}"
      ],
      "execution_count": 82,
      "outputs": []
    },
    {
      "cell_type": "code",
      "metadata": {
        "id": "9J3s_2ygvrj1",
        "colab_type": "code",
        "colab": {}
      },
      "source": [
        "jsonschema.validate(current_patients, PATIENTS_SUMMARY_SCHEMA)\n",
        "\n",
        "dumps_json(\"current_patients.json\", current_patients)"
      ],
      "execution_count": 83,
      "outputs": []
    },
    {
      "cell_type": "markdown",
      "metadata": {
        "id": "HfVk5o1rF1a7",
        "colab_type": "text"
      },
      "source": [
        "# チェック"
      ]
    },
    {
      "cell_type": "code",
      "metadata": {
        "id": "GH_X0bQHV6TE",
        "colab_type": "code",
        "colab": {
          "base_uri": "https://localhost:8080/",
          "height": 89
        },
        "outputId": "bc1ff21e-9b41-4344-c0b8-b410f1d04774"
      },
      "source": [
        "!pip install dictdiffer"
      ],
      "execution_count": 84,
      "outputs": [
        {
          "output_type": "stream",
          "text": [
            "Collecting dictdiffer\n",
            "  Downloading https://files.pythonhosted.org/packages/97/92/350b6b6ec39c5f87d98d04c91a50c498518716a05368e6dea88b5c69b590/dictdiffer-0.8.1-py2.py3-none-any.whl\n",
            "Installing collected packages: dictdiffer\n",
            "Successfully installed dictdiffer-0.8.1\n"
          ],
          "name": "stdout"
        }
      ]
    },
    {
      "cell_type": "code",
      "metadata": {
        "id": "csbWJHlyV_dR",
        "colab_type": "code",
        "colab": {}
      },
      "source": [
        "from dictdiffer import diff, patch, swap, revert"
      ],
      "execution_count": 85,
      "outputs": []
    },
    {
      "cell_type": "code",
      "metadata": {
        "id": "33EddlLOWsT5",
        "colab_type": "code",
        "colab": {}
      },
      "source": [
        "import pprint"
      ],
      "execution_count": 86,
      "outputs": []
    },
    {
      "cell_type": "code",
      "metadata": {
        "id": "UDR_y1oO57D8",
        "colab_type": "code",
        "colab": {}
      },
      "source": [
        "def json_check(fn, d):\n",
        "\n",
        "    r = requests.get(\n",
        "        \"https://raw.githubusercontent.com/stop-covid19-hyogo/covid19-scraping/gh-pages/\"\n",
        "        + fn\n",
        "    )\n",
        "\n",
        "    result = d == r.json()\n",
        "\n",
        "    if not result:\n",
        "\n",
        "        print(fn)\n",
        "        pprint.pprint(list(diff(d, r.json())))"
      ],
      "execution_count": 87,
      "outputs": []
    },
    {
      "cell_type": "code",
      "metadata": {
        "id": "hDmtMj6hyaJB",
        "colab_type": "code",
        "colab": {
          "base_uri": "https://localhost:8080/",
          "height": 357
        },
        "outputId": "4c1a8fbe-309c-4a6d-dffb-f1cba48a951a"
      },
      "source": [
        "json_check(\"inspections.json\", inspections)\n",
        "json_check(\"inspections_summary.json\", inspections_summary)"
      ],
      "execution_count": 88,
      "outputs": [
        {
          "output_type": "stream",
          "text": [
            "inspections.json\n",
            "[('change', ['data', 228, '陽性確認'], (23, 24)),\n",
            " ('remove',\n",
            "  'data',\n",
            "  [(229,\n",
            "    {'判明日': '2020-09-16',\n",
            "     '地方衛生研究所等': 153,\n",
            "     '民間検査機関等': {'PCR検査': 174, '抗原検査': 80},\n",
            "     '陽性確認': 20})]),\n",
            " ('change',\n",
            "  'last_update',\n",
            "  ('2020-09-17T00:00:00+09:00', '2020-09-16T00:00:00+09:00'))]\n",
            "inspections_summary.json\n",
            "[('remove', 'data.地方衛生研究所等', [(229, 153)]),\n",
            " ('remove', 'data.民間検査機関等', [(229, 254)]),\n",
            " ('remove', 'labels', [(229, '9/16')]),\n",
            " ('change',\n",
            "  'last_update',\n",
            "  ('2020-09-17T00:00:00+09:00', '2020-09-16T00:00:00+09:00'))]\n"
          ],
          "name": "stdout"
        }
      ]
    },
    {
      "cell_type": "code",
      "metadata": {
        "id": "zS14yuR2WzmP",
        "colab_type": "code",
        "colab": {
          "base_uri": "https://localhost:8080/",
          "height": 555
        },
        "outputId": "d74364d2-3c84-45fd-f259-698dd3801c80"
      },
      "source": [
        "json_check(\"age.json\", age)\n",
        "json_check(\"age_summary.json\", age_summary)"
      ],
      "execution_count": 89,
      "outputs": [
        {
          "output_type": "stream",
          "text": [
            "age.json\n",
            "[('change', 'data.10歳未満', (83, 84)),\n",
            " ('change', 'data.20代', (607, 603)),\n",
            " ('change', 'data.30代', (350, 348)),\n",
            " ('change', 'data.40代', (391, 390)),\n",
            " ('change', 'data.50代', (379, 375)),\n",
            " ('change', 'data.60代', (212, 210)),\n",
            " ('change', 'data.70代', (182, 178)),\n",
            " ('change', 'data.80代', (112, 110)),\n",
            " ('change', 'data.90歳以上', (43, 42)),\n",
            " ('change',\n",
            "  'last_update',\n",
            "  ('2020-09-17T00:00:00+09:00', '2020-09-16T00:00:00+09:00'))]\n",
            "age_summary.json\n",
            "[('change', ['data', '10歳未満', 198], (0, 1)),\n",
            " ('remove', 'data.10歳未満', [(199, 0)]),\n",
            " ('remove', 'data.10代', [(199, 0)]),\n",
            " ('remove', 'data.20代', [(199, 4)]),\n",
            " ('remove', 'data.30代', [(199, 2)]),\n",
            " ('remove', 'data.40代', [(199, 1)]),\n",
            " ('remove', 'data.50代', [(199, 4)]),\n",
            " ('remove', 'data.60代', [(199, 2)]),\n",
            " ('remove', 'data.70代', [(199, 4)]),\n",
            " ('remove', 'data.80代', [(199, 2)]),\n",
            " ('remove', 'data.90歳以上', [(199, 1)]),\n",
            " ('remove', 'data.非公表', [(199, 0)]),\n",
            " ('remove', 'labels', [(199, '9/16')]),\n",
            " ('change',\n",
            "  'last_update',\n",
            "  ('2020-09-17T00:00:00+09:00', '2020-09-16T00:00:00+09:00'))]\n"
          ],
          "name": "stdout"
        }
      ]
    },
    {
      "cell_type": "code",
      "metadata": {
        "id": "YGURxqLmCu1H",
        "colab_type": "code",
        "colab": {
          "base_uri": "https://localhost:8080/",
          "height": 1000
        },
        "outputId": "50a31e86-1826-4dd0-aef4-eebcb6d7e429"
      },
      "source": [
        "json_check(\"patients_summary.json\", patients_summary)\n",
        "json_check(\"patients.json\", patients)\n",
        "json_check(\"current_patients.json\", current_patients)"
      ],
      "execution_count": 90,
      "outputs": [
        {
          "output_type": "stream",
          "text": [
            "patients_summary.json\n",
            "[('change', ['data', 228, '小計'], (23, 24)),\n",
            " ('remove', 'data', [(229, {'小計': 20, '日付': '2020-09-16T00:00:00+09:00'})]),\n",
            " ('change',\n",
            "  'last_update',\n",
            "  ('2020-09-17T00:00:00+09:00', '2020-09-16T00:00:00+09:00'))]\n",
            "patients.json\n",
            "[('change', ['data', 22, '備考'], ('', None)),\n",
            " ('change', ['data', 2215, '居住地'], ('神戸市', '調査中')),\n",
            " ('change', ['data', 2215, '備考'], ('非公表', '行動歴調査中')),\n",
            " ('change', ['data', 2236, '居住地'], ('神戸市', '調査中')),\n",
            " ('change', ['data', 2237, '居住地'], ('神戸市', '調査中')),\n",
            " ('change', ['data', 2254, '居住地'], ('神戸市外', '調査中')),\n",
            " ('change', ['data', 2258, '居住地'], ('神戸市', '調査中')),\n",
            " ('change', ['data', 2258, '備考'], ('神戸市外の感染患者の濃厚接触者', '行動歴調査中')),\n",
            " ('change', ['data', 2259, '居住地'], ('神戸市', '調査中')),\n",
            " ('change', ['data', 2267, '居住地'], ('神戸市', '調査中')),\n",
            " ('change', ['data', 2267, '備考'], ('神戸市外の感染患者の濃厚接触者', '行動歴調査中')),\n",
            " ('change', ['data', 2269, '居住地'], ('神戸市', '調査中')),\n",
            " ('change', ['data', 2270, '居住地'], ('神戸市', '調査中')),\n",
            " ('change', ['data', 2270, '備考'], ('神戸市内の感染患者の濃厚接触者', '行動歴調査中')),\n",
            " ('change', ['data', 2271, '居住地'], ('神戸市', '調査中')),\n",
            " ('change', ['data', 2271, '備考'], ('神戸市内の感染患者の濃厚接触者', '行動歴調査中')),\n",
            " ('change', ['data', 2272, '居住地'], ('神戸市', '調査中')),\n",
            " ('change', ['data', 2272, '備考'], ('神戸市内の感染患者の濃厚接触者', '行動歴調査中')),\n",
            " ('change', ['data', 2273, '居住地'], ('神戸市', '調査中')),\n",
            " ('change', ['data', 2273, '備考'], ('神戸市外の感染患者の濃厚接触者', '行動歴調査中')),\n",
            " ('change', ['data', 2275, '居住地'], ('神戸市', '調査中')),\n",
            " ('change', ['data', 2275, '備考'], ('神戸市内の感染患者の濃厚接触者', '行動歴調査中')),\n",
            " ('change', ['data', 2276, '居住地'], ('神戸市', '調査中')),\n",
            " ('change', ['data', 2277, '居住地'], ('神戸市', '調査中')),\n",
            " ('change', ['data', 2279, '居住地'], ('神戸市', '調査中')),\n",
            " ('change', ['data', 2279, '備考'], ('神戸市外の感染患者の濃厚接触者', '行動歴調査中')),\n",
            " ('change', ['data', 2280, '居住地'], ('神戸市', '調査中')),\n",
            " ('change', ['data', 2296, '居住地'], ('神戸市', '調査中')),\n",
            " ('change', ['data', 2297, '居住地'], ('神戸市', '調査中')),\n",
            " ('change', ['data', 2297, '備考'], ('神戸市内の感染患者の濃厚接触者', '行動歴調査中')),\n",
            " ('change', ['data', 2298, '居住地'], ('神戸市', '調査中')),\n",
            " ('change', ['data', 2480, 'No'], (2492, 2491)),\n",
            " ('change', ['data', 2480, '年代'], ('40代', '10歳未満')),\n",
            " ('change', ['data', 2481, 'No'], (2493, 2492)),\n",
            " ('change', ['data', 2481, '居住地'], ('姫路市', '調査中')),\n",
            " ('change', ['data', 2482, 'No'], (2494, 2493)),\n",
            " ('change', ['data', 2482, '年代'], ('30代', '40代')),\n",
            " ('change', ['data', 2482, '性別'], ('女性', '男性')),\n",
            " ('change', ['data', 2482, '備考'], ('No2476の濃厚接触者', '行動歴調査中')),\n",
            " ('change', ['data', 2483, 'No'], (2495, 2494)),\n",
            " ('change', ['data', 2483, '年代'], ('60代', '30代')),\n",
            " ('change', ['data', 2483, '性別'], ('男性', '女性')),\n",
            " ('change', ['data', 2483, '備考'], ('No2478の濃厚接触者', 'No2476の濃厚接触者')),\n",
            " ('change', ['data', 2484, 'No'], (2496, 2495)),\n",
            " ('change', ['data', 2484, '性別'], ('女性', '男性')),\n",
            " ('change', ['data', 2484, '備考'], ('No2497の同居者', 'No2478の濃厚接触者')),\n",
            " ('change', ['data', 2485, 'No'], (2497, 2496)),\n",
            " ('change', ['data', 2485, '備考'], ('行動歴調査中', 'No2497の同居者')),\n",
            " ('change', ['data', 2486, 'No'], (2498, 2497)),\n",
            " ('change', ['data', 2486, '居住地'], ('伊丹市', '姫路市')),\n",
            " ('change', ['data', 2486, '年代'], ('30代', '60代')),\n",
            " ('change', ['data', 2486, '性別'], ('男性', '女性')),\n",
            " ('change', ['data', 2486, '備考'], ('兵庫県発表患者の濃厚接触者', '行動歴調査中')),\n",
            " ('change', ['data', 2487, 'No'], (2499, 2498)),\n",
            " ('change', ['data', 2487, '居住地'], ('神戸市', '伊丹市')),\n",
            " ('change', ['data', 2488, 'No'], (2500, 2499)),\n",
            " ('change', ['data', 2488, '居住地'], ('伊丹市', '神戸市')),\n",
            " ('change', ['data', 2488, '年代'], ('40代', '30代')),\n",
            " ('change', ['data', 2488, '性別'], ('女性', '男性')),\n",
            " ('change', ['data', 2489, 'No'], (2501, 2500)),\n",
            " ('change', ['data', 2489, '居住地'], ('尼崎市', '伊丹市')),\n",
            " ('change', ['data', 2489, '年代'], ('80代', '40代')),\n",
            " ('change', ['data', 2489, '性別'], ('男性', '女性')),\n",
            " ('change', ['data', 2490, 'No'], (2502, 2501)),\n",
            " ('change', ['data', 2490, '性別'], ('女性', '男性')),\n",
            " ('change', ['data', 2491, 'No'], (2503, 2502)),\n",
            " ('change', ['data', 2492, 'No'], (2504, 2503)),\n",
            " ('change', ['data', 2492, '居住地'], ('伊丹市', '尼崎市')),\n",
            " ('change', ['data', 2493, 'No'], (2505, 2504)),\n",
            " ('change', ['data', 2493, '居住地'], ('尼崎市', '伊丹市')),\n",
            " ('change', ['data', 2493, '年代'], ('70代', '80代')),\n",
            " ('change', ['data', 2494, 'No'], (2506, 2505)),\n",
            " ('change', ['data', 2494, '年代'], ('80代', '70代')),\n",
            " ('change', ['data', 2495, 'No'], (2507, 2506)),\n",
            " ('change', ['data', 2495, '居住地'], ('西宮市', '尼崎市')),\n",
            " ('change', ['data', 2495, '年代'], ('40代', '80代')),\n",
            " ('change', ['data', 2495, '備考'], ('大阪市で発生した患者の濃厚接触者', '兵庫県発表患者の濃厚接触者')),\n",
            " ('change', ['data', 2496, 'No'], (2508, 2507)),\n",
            " ('change', ['data', 2496, '居住地'], ('明石市', '西宮市')),\n",
            " ('change', ['data', 2496, '年代'], ('20代', '40代')),\n",
            " ('change',\n",
            "  ['data', 2496, '備考'],\n",
            "  ('No2509の同居家族\\u3000行動歴調査中', '大阪市で発生した患者の濃厚接触者')),\n",
            " ('change', ['data', 2497, 'No'], (2509, 2508)),\n",
            " ('change', ['data', 2497, '年代'], ('10代', '20代')),\n",
            " ('change', ['data', 2497, '性別'], ('男性', '女性')),\n",
            " ('change',\n",
            "  ['data', 2497, '備考'],\n",
            "  ('No2508の同居家族\\u3000行動歴調査中', 'No2511の同居家族\\u3000行動歴調査中')),\n",
            " ('change', ['data', 2498, 'No'], (2510, 2509)),\n",
            " ('change', ['data', 2498, '居住地'], ('伊丹健康福祉事務所管内', '明石市')),\n",
            " ('change', ['data', 2498, '年代'], ('40代', '10代')),\n",
            " ('change', ['data', 2498, '性別'], ('女性', '男性')),\n",
            " ('change', ['data', 2498, '備考'], ('行動歴調査中', 'No2510の同居家族\\u3000行動歴調査中')),\n",
            " ('change', ['data', 2499, 'No'], (2511, 2510)),\n",
            " ('change', ['data', 2499, '居住地'], ('洲本健康福祉事務所管内', '伊丹健康福祉事務所管内')),\n",
            " ('change', ['data', 2499, '年代'], ('70代', '40代')),\n",
            " ('change', ['data', 2499, '備考'], ('陽性患者の濃厚接触者', '行動歴調査中')),\n",
            " ('change', ['data', 2500, 'No'], (2512, 2511)),\n",
            " ('change', ['data', 2501, 'No'], (2513, 2512)),\n",
            " ('change', ['data', 2501, '居住地'], ('調査中', '洲本健康福祉事務所管内')),\n",
            " ('change', ['data', 2501, '年代'], ('20代', '70代')),\n",
            " ('change', ['data', 2501, '性別'], ('男性', '女性')),\n",
            " ('change', ['data', 2501, '備考'], ('行動歴調査中', '陽性患者の濃厚接触者')),\n",
            " ('change', ['data', 2501, 'date'], ('2020-09-16', '2020-09-15')),\n",
            " ('change',\n",
            "  ['data', 2501, 'リリース日'],\n",
            "  ('2020-09-16T00:00:00+09:00', '2020-09-15T00:00:00+09:00')),\n",
            " ('change', ['data', 2501, '曜日'], ('水', '火')),\n",
            " ('remove',\n",
            "  'data',\n",
            "  [(2520,\n",
            "    {'No': 2532,\n",
            "     'date': '2020-09-16',\n",
            "     'リリース日': '2020-09-16T00:00:00+09:00',\n",
            "     '備考': '行動歴調査中',\n",
            "     '居住地': '加古川健康福祉事務所管内',\n",
            "     '年代': '40代',\n",
            "     '性別': '男性',\n",
            "     '曜日': '水',\n",
            "     '退院': None}),\n",
            "   (2519,\n",
            "    {'No': 2531,\n",
            "     'date': '2020-09-16',\n",
            "     'リリース日': '2020-09-16T00:00:00+09:00',\n",
            "     '備考': '行動歴調査中',\n",
            "     '居住地': '宝塚健康福祉事務所管内',\n",
            "     '年代': '20代',\n",
            "     '性別': '男性',\n",
            "     '曜日': '水',\n",
            "     '退院': None}),\n",
            "   (2518,\n",
            "    {'No': 2530,\n",
            "     'date': '2020-09-16',\n",
            "     'リリース日': '2020-09-16T00:00:00+09:00',\n",
            "     '備考': 'No2445の濃厚接触者',\n",
            "     '居住地': '宝塚市',\n",
            "     '年代': '30代',\n",
            "     '性別': '女性',\n",
            "     '曜日': '水',\n",
            "     '退院': None}),\n",
            "   (2517,\n",
            "    {'No': 2529,\n",
            "     'date': '2020-09-16',\n",
            "     'リリース日': '2020-09-16T00:00:00+09:00',\n",
            "     '備考': '陽性患者の濃厚接触者',\n",
            "     '居住地': '宝塚市',\n",
            "     '年代': '20代',\n",
            "     '性別': '女性',\n",
            "     '曜日': '水',\n",
            "     '退院': None}),\n",
            "   (2516,\n",
            "    {'No': 2528,\n",
            "     'date': '2020-09-16',\n",
            "     'リリース日': '2020-09-16T00:00:00+09:00',\n",
            "     '備考': '陽性患者の濃厚接触者',\n",
            "     '居住地': '宝塚市',\n",
            "     '年代': '90歳以上',\n",
            "     '性別': '男性',\n",
            "     '曜日': '水',\n",
            "     '退院': None}),\n",
            "   (2515,\n",
            "    {'No': 2527,\n",
            "     'date': '2020-09-16',\n",
            "     'リリース日': '2020-09-16T00:00:00+09:00',\n",
            "     '備考': '陽性患者の濃厚接触者',\n",
            "     '居住地': '宝塚健康福祉事務所管内',\n",
            "     '年代': '70代',\n",
            "     '性別': '女性',\n",
            "     '曜日': '水',\n",
            "     '退院': None}),\n",
            "   (2514,\n",
            "    {'No': 2526,\n",
            "     'date': '2020-09-16',\n",
            "     'リリース日': '2020-09-16T00:00:00+09:00',\n",
            "     '備考': 'No2509、No2508の濃厚接触者（同居家族）',\n",
            "     '居住地': '明石市',\n",
            "     '年代': '20代',\n",
            "     '性別': '男性',\n",
            "     '曜日': '水',\n",
            "     '退院': None}),\n",
            "   (2513,\n",
            "    {'No': 2525,\n",
            "     'date': '2020-09-16',\n",
            "     'リリース日': '2020-09-16T00:00:00+09:00',\n",
            "     '備考': '尼崎市で発生した陽性患者の接触者',\n",
            "     '居住地': '西宮市',\n",
            "     '年代': '50代',\n",
            "     '性別': '男性',\n",
            "     '曜日': '水',\n",
            "     '退院': None}),\n",
            "   (2512,\n",
            "    {'No': 2524,\n",
            "     'date': '2020-09-16',\n",
            "     'リリース日': '2020-09-16T00:00:00+09:00',\n",
            "     '備考': 'No2507の濃厚接触者',\n",
            "     '居住地': '西宮市',\n",
            "     '年代': '60代',\n",
            "     '性別': '女性',\n",
            "     '曜日': '水',\n",
            "     '退院': None}),\n",
            "   (2511,\n",
            "    {'No': 2523,\n",
            "     'date': '2020-09-16',\n",
            "     'リリース日': '2020-09-16T00:00:00+09:00',\n",
            "     '備考': 'No2501の濃厚接触者',\n",
            "     '居住地': '尼崎市',\n",
            "     '年代': '70代',\n",
            "     '性別': '女性',\n",
            "     '曜日': '水',\n",
            "     '退院': None}),\n",
            "   (2510,\n",
            "    {'No': 2522,\n",
            "     'date': '2020-09-16',\n",
            "     'リリース日': '2020-09-16T00:00:00+09:00',\n",
            "     '備考': 'No2506の濃厚接触者',\n",
            "     '居住地': '尼崎市',\n",
            "     '年代': '70代',\n",
            "     '性別': '男性',\n",
            "     '曜日': '水',\n",
            "     '退院': None}),\n",
            "   (2509,\n",
            "    {'No': 2521,\n",
            "     'date': '2020-09-16',\n",
            "     'リリース日': '2020-09-16T00:00:00+09:00',\n",
            "     '備考': 'No2500の濃厚接触者',\n",
            "     '居住地': '尼崎市',\n",
            "     '年代': '80代',\n",
            "     '性別': '男性',\n",
            "     '曜日': '水',\n",
            "     '退院': None}),\n",
            "   (2508,\n",
            "    {'No': 2520,\n",
            "     'date': '2020-09-16',\n",
            "     'リリース日': '2020-09-16T00:00:00+09:00',\n",
            "     '備考': '兵庫県発表患者の濃厚接触者',\n",
            "     '居住地': '尼崎市',\n",
            "     '年代': '80代',\n",
            "     '性別': '女性',\n",
            "     '曜日': '水',\n",
            "     '退院': None}),\n",
            "   (2507,\n",
            "    {'No': 2519,\n",
            "     'date': '2020-09-16',\n",
            "     'リリース日': '2020-09-16T00:00:00+09:00',\n",
            "     '備考': '兵庫県発表患者の濃厚接触者',\n",
            "     '居住地': '尼崎市',\n",
            "     '年代': '70代',\n",
            "     '性別': '女性',\n",
            "     '曜日': '水',\n",
            "     '退院': None}),\n",
            "   (2506,\n",
            "    {'No': 2518,\n",
            "     'date': '2020-09-16',\n",
            "     'リリース日': '2020-09-16T00:00:00+09:00',\n",
            "     '備考': '行動歴調査中',\n",
            "     '居住地': '姫路市',\n",
            "     '年代': '60代',\n",
            "     '性別': '男性',\n",
            "     '曜日': '水',\n",
            "     '退院': None}),\n",
            "   (2505,\n",
            "    {'No': 2517,\n",
            "     'date': '2020-09-16',\n",
            "     'リリース日': '2020-09-16T00:00:00+09:00',\n",
            "     '備考': 'No2478の濃厚接触者',\n",
            "     '居住地': '姫路市',\n",
            "     '年代': '50代',\n",
            "     '性別': '女性',\n",
            "     '曜日': '水',\n",
            "     '退院': None}),\n",
            "   (2504,\n",
            "    {'No': 2516,\n",
            "     'date': '2020-09-16',\n",
            "     'リリース日': '2020-09-16T00:00:00+09:00',\n",
            "     '備考': '行動歴調査中',\n",
            "     '居住地': '調査中',\n",
            "     '年代': '30代',\n",
            "     '性別': '女性',\n",
            "     '曜日': '水',\n",
            "     '退院': None}),\n",
            "   (2503,\n",
            "    {'No': 2515,\n",
            "     'date': '2020-09-16',\n",
            "     'リリース日': '2020-09-16T00:00:00+09:00',\n",
            "     '備考': '行動歴調査中',\n",
            "     '居住地': '調査中',\n",
            "     '年代': '50代',\n",
            "     '性別': '男性',\n",
            "     '曜日': '水',\n",
            "     '退院': None}),\n",
            "   (2502,\n",
            "    {'No': 2514,\n",
            "     'date': '2020-09-16',\n",
            "     'リリース日': '2020-09-16T00:00:00+09:00',\n",
            "     '備考': '行動歴調査中',\n",
            "     '居住地': '調査中',\n",
            "     '年代': '50代',\n",
            "     '性別': '男性',\n",
            "     '曜日': '水',\n",
            "     '退院': None})]),\n",
            " ('change',\n",
            "  'last_update',\n",
            "  ('2020-09-17T00:00:00+09:00', '2020-09-16T00:00:00+09:00'))]\n",
            "current_patients.json\n",
            "[('change', ['data', 196, '小計'], (7, 6)),\n",
            " ('change', ['data', 202, '小計'], (3, 2)),\n",
            " ('change', ['data', 207, '小計'], (-30, -29)),\n",
            " ('change', ['data', 215, '小計'], (-11, -17)),\n",
            " ('change', ['data', 216, '小計'], (-11, -5)),\n",
            " ('change', ['data', 219, '小計'], (0, 1)),\n",
            " ('remove', 'data', [(229, {'小計': 11, '日付': '2020-09-16T00:00:00+09:00'})]),\n",
            " ('change',\n",
            "  'last_update',\n",
            "  ('2020-09-17T00:00:00+09:00', '2020-09-16T00:00:00+09:00'))]\n"
          ],
          "name": "stdout"
        }
      ]
    },
    {
      "cell_type": "code",
      "metadata": {
        "id": "_zyUtFqjWwhp",
        "colab_type": "code",
        "colab": {
          "base_uri": "https://localhost:8080/",
          "height": 698
        },
        "outputId": "cd5e6944-1181-4672-96aa-f1e5539f6841"
      },
      "source": [
        "json_check(\"clusters.json\", clusters)\n",
        "json_check(\"clusters_summary.json\", clusters_summary)"
      ],
      "execution_count": 91,
      "outputs": [
        {
          "output_type": "stream",
          "text": [
            "clusters.json\n",
            "[('change', ['data', 182, 'その他'], (6, 5)),\n",
            " ('change', ['data', 182, '行動歴調査中'], (7, 8)),\n",
            " ('change', ['data', 183, 'その他'], (7, 2)),\n",
            " ('change', ['data', 183, '行動歴調査中'], (1, 6)),\n",
            " ('change', ['data', 184, 'その他'], (10, 8)),\n",
            " ('change', ['data', 184, '行動歴調査中'], (11, 13)),\n",
            " ('change', ['data', 185, 'その他'], (2, 1)),\n",
            " ('change', ['data', 185, '行動歴調査中'], (5, 6)),\n",
            " ('change', ['data', 198, '行動歴調査中'], (9, 10)),\n",
            " ('remove',\n",
            "  'data',\n",
            "  [(199,\n",
            "    {'その他': 13,\n",
            "     'グリーンアルス関係': 0,\n",
            "     'ライブ関係': 0,\n",
            "     '仁恵病院': 0,\n",
            "     '介護保険通所事業所': 0,\n",
            "     '北播磨総合医療センター': 0,\n",
            "     '宝塚第一病院': 0,\n",
            "     '日付': '2020-09-16T00:00:00+09:00',\n",
            "     '海外渡航関係': 0,\n",
            "     '特定できず': 0,\n",
            "     '神戸市中央市民病院': 0,\n",
            "     '神戸市環境局': 0,\n",
            "     '神戸西警察署': 0,\n",
            "     '神戸赤十字病院': 0,\n",
            "     '行動歴調査中': 7,\n",
            "     '認定こども園': 0})]),\n",
            " ('change',\n",
            "  'last_update',\n",
            "  ('2020-09-17T00:00:00+09:00', '2020-09-16T00:00:00+09:00'))]\n",
            "clusters_summary.json\n",
            "[('change', 'data.その他', (1093, 1071)),\n",
            " ('change', 'data.行動歴調査中', (1028, 1031)),\n",
            " ('change',\n",
            "  'last_update',\n",
            "  ('2020-09-17T00:00:00+09:00', '2020-09-16T00:00:00+09:00'))]\n"
          ],
          "name": "stdout"
        }
      ]
    },
    {
      "cell_type": "code",
      "metadata": {
        "id": "iurioM6cCu4c",
        "colab_type": "code",
        "colab": {
          "base_uri": "https://localhost:8080/",
          "height": 214
        },
        "outputId": "35cdafea-cfb2-4283-9763-5d4edd89425d"
      },
      "source": [
        "json_check(\"main_summary.json\", main_summary)"
      ],
      "execution_count": 92,
      "outputs": [
        {
          "output_type": "stream",
          "text": [
            "main_summary.json\n",
            "[('change', 'value', (51144, 50737)),\n",
            " ('change', ['children', 0, 'value'], (2521, 2502)),\n",
            " ('change', ['children', 0, 'children', 0, 'value'], (121, 113)),\n",
            " ('change', ['children', 0, 'children', 0, 'children', 0, 'value'], (110, 103)),\n",
            " ('change', ['children', 0, 'children', 0, 'children', 1, 'value'], (11, 10)),\n",
            " ('change', ['children', 0, 'children', 1, 'value'], (16, 13)),\n",
            " ('change', ['children', 0, 'children', 3, 'value'], (2329, 2321)),\n",
            " ('change',\n",
            "  'last_update',\n",
            "  ('2020-09-17T00:00:00+09:00', '2020-09-16T00:00:00+09:00'))]\n"
          ],
          "name": "stdout"
        }
      ]
    }
  ]
}