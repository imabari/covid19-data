{
  "nbformat": 4,
  "nbformat_minor": 0,
  "metadata": {
    "colab": {
      "name": "副反応疑い報告集計.ipynb",
      "provenance": [],
      "toc_visible": true,
      "authorship_tag": "ABX9TyPfip9F4cdDyVvfJUfKqt+a",
      "include_colab_link": true
    },
    "kernelspec": {
      "name": "python3",
      "display_name": "Python 3"
    },
    "language_info": {
      "name": "python"
    }
  },
  "cells": [
    {
      "cell_type": "markdown",
      "metadata": {
        "id": "view-in-github",
        "colab_type": "text"
      },
      "source": [
        "<a href=\"https://colab.research.google.com/github/imabari/covid19-data/blob/master/vaccine/%E5%89%AF%E5%8F%8D%E5%BF%9C%E7%96%91%E3%81%84%E5%A0%B1%E5%91%8A%E9%9B%86%E8%A8%88.ipynb\" target=\"_parent\"><img src=\"https://colab.research.google.com/assets/colab-badge.svg\" alt=\"Open In Colab\"/></a>"
      ]
    },
    {
      "cell_type": "code",
      "metadata": {
        "colab": {
          "base_uri": "https://localhost:8080/"
        },
        "id": "Z0nEgkR0QqYG",
        "outputId": "b5d64e0f-9d36-4a2a-9f12-ce2b8c598183"
      },
      "source": [
        "!wget https://www.mhlw.go.jp/content/10906000/000784435.pdf -O data.pdf"
      ],
      "execution_count": 1,
      "outputs": [
        {
          "output_type": "stream",
          "text": [
            "--2021-05-27 08:11:24--  https://www.mhlw.go.jp/content/10906000/000784435.pdf\n",
            "Resolving www.mhlw.go.jp (www.mhlw.go.jp)... 23.77.29.154, 2600:1417:8000:c93::3194, 2600:1417:8000:caa::3194\n",
            "Connecting to www.mhlw.go.jp (www.mhlw.go.jp)|23.77.29.154|:443... connected.\n",
            "HTTP request sent, awaiting response... 200 OK\n",
            "Length: 4932198 (4.7M) [application/pdf]\n",
            "Saving to: ‘data.pdf’\n",
            "\n",
            "data.pdf            100%[===================>]   4.70M  22.4MB/s    in 0.2s    \n",
            "\n",
            "2021-05-27 08:11:25 (22.4 MB/s) - ‘data.pdf’ saved [4932198/4932198]\n",
            "\n"
          ],
          "name": "stdout"
        }
      ]
    },
    {
      "cell_type": "code",
      "metadata": {
        "colab": {
          "base_uri": "https://localhost:8080/"
        },
        "id": "OUH-MjwAQ_iU",
        "outputId": "73f50898-21c0-46db-e901-a88d8b31784b"
      },
      "source": [
        "!apt install python3-tk ghostscript\n",
        "!pip install camelot-py[cv]"
      ],
      "execution_count": 2,
      "outputs": [
        {
          "output_type": "stream",
          "text": [
            "Reading package lists... Done\n",
            "Building dependency tree       \n",
            "Reading state information... Done\n",
            "python3-tk is already the newest version (3.6.9-1~18.04).\n",
            "The following package was automatically installed and is no longer required:\n",
            "  libnvidia-common-460\n",
            "Use 'apt autoremove' to remove it.\n",
            "The following additional packages will be installed:\n",
            "  fonts-droid-fallback fonts-noto-mono gsfonts libcupsfilters1 libcupsimage2\n",
            "  libgs9 libgs9-common libijs-0.35 libjbig2dec0 poppler-data\n",
            "Suggested packages:\n",
            "  fonts-noto ghostscript-x poppler-utils fonts-japanese-mincho\n",
            "  | fonts-ipafont-mincho fonts-japanese-gothic | fonts-ipafont-gothic\n",
            "  fonts-arphic-ukai fonts-arphic-uming fonts-nanum\n",
            "The following NEW packages will be installed:\n",
            "  fonts-droid-fallback fonts-noto-mono ghostscript gsfonts libcupsfilters1\n",
            "  libcupsimage2 libgs9 libgs9-common libijs-0.35 libjbig2dec0 poppler-data\n",
            "0 upgraded, 11 newly installed, 0 to remove and 34 not upgraded.\n",
            "Need to get 14.1 MB of archives.\n",
            "After this operation, 49.9 MB of additional disk space will be used.\n",
            "Get:1 http://archive.ubuntu.com/ubuntu bionic/main amd64 fonts-droid-fallback all 1:6.0.1r16-1.1 [1,805 kB]\n",
            "Get:2 http://archive.ubuntu.com/ubuntu bionic/main amd64 poppler-data all 0.4.8-2 [1,479 kB]\n",
            "Get:3 http://archive.ubuntu.com/ubuntu bionic/main amd64 fonts-noto-mono all 20171026-2 [75.5 kB]\n",
            "Get:4 http://archive.ubuntu.com/ubuntu bionic-updates/main amd64 libcupsimage2 amd64 2.2.7-1ubuntu2.8 [18.6 kB]\n",
            "Get:5 http://archive.ubuntu.com/ubuntu bionic/main amd64 libijs-0.35 amd64 0.35-13 [15.5 kB]\n",
            "Get:6 http://archive.ubuntu.com/ubuntu bionic/main amd64 libjbig2dec0 amd64 0.13-6 [55.9 kB]\n",
            "Get:7 http://archive.ubuntu.com/ubuntu bionic-updates/main amd64 libgs9-common all 9.26~dfsg+0-0ubuntu0.18.04.14 [5,092 kB]\n",
            "Get:8 http://archive.ubuntu.com/ubuntu bionic-updates/main amd64 libgs9 amd64 9.26~dfsg+0-0ubuntu0.18.04.14 [2,265 kB]\n",
            "Get:9 http://archive.ubuntu.com/ubuntu bionic-updates/main amd64 ghostscript amd64 9.26~dfsg+0-0ubuntu0.18.04.14 [51.3 kB]\n",
            "Get:10 http://archive.ubuntu.com/ubuntu bionic/main amd64 gsfonts all 1:8.11+urwcyr1.0.7~pre44-4.4 [3,120 kB]\n",
            "Get:11 http://archive.ubuntu.com/ubuntu bionic-updates/main amd64 libcupsfilters1 amd64 1.20.2-0ubuntu3.1 [108 kB]\n",
            "Fetched 14.1 MB in 4s (3,950 kB/s)\n",
            "Selecting previously unselected package fonts-droid-fallback.\n",
            "(Reading database ... 160706 files and directories currently installed.)\n",
            "Preparing to unpack .../00-fonts-droid-fallback_1%3a6.0.1r16-1.1_all.deb ...\n",
            "Unpacking fonts-droid-fallback (1:6.0.1r16-1.1) ...\n",
            "Selecting previously unselected package poppler-data.\n",
            "Preparing to unpack .../01-poppler-data_0.4.8-2_all.deb ...\n",
            "Unpacking poppler-data (0.4.8-2) ...\n",
            "Selecting previously unselected package fonts-noto-mono.\n",
            "Preparing to unpack .../02-fonts-noto-mono_20171026-2_all.deb ...\n",
            "Unpacking fonts-noto-mono (20171026-2) ...\n",
            "Selecting previously unselected package libcupsimage2:amd64.\n",
            "Preparing to unpack .../03-libcupsimage2_2.2.7-1ubuntu2.8_amd64.deb ...\n",
            "Unpacking libcupsimage2:amd64 (2.2.7-1ubuntu2.8) ...\n",
            "Selecting previously unselected package libijs-0.35:amd64.\n",
            "Preparing to unpack .../04-libijs-0.35_0.35-13_amd64.deb ...\n",
            "Unpacking libijs-0.35:amd64 (0.35-13) ...\n",
            "Selecting previously unselected package libjbig2dec0:amd64.\n",
            "Preparing to unpack .../05-libjbig2dec0_0.13-6_amd64.deb ...\n",
            "Unpacking libjbig2dec0:amd64 (0.13-6) ...\n",
            "Selecting previously unselected package libgs9-common.\n",
            "Preparing to unpack .../06-libgs9-common_9.26~dfsg+0-0ubuntu0.18.04.14_all.deb ...\n",
            "Unpacking libgs9-common (9.26~dfsg+0-0ubuntu0.18.04.14) ...\n",
            "Selecting previously unselected package libgs9:amd64.\n",
            "Preparing to unpack .../07-libgs9_9.26~dfsg+0-0ubuntu0.18.04.14_amd64.deb ...\n",
            "Unpacking libgs9:amd64 (9.26~dfsg+0-0ubuntu0.18.04.14) ...\n",
            "Selecting previously unselected package ghostscript.\n",
            "Preparing to unpack .../08-ghostscript_9.26~dfsg+0-0ubuntu0.18.04.14_amd64.deb ...\n",
            "Unpacking ghostscript (9.26~dfsg+0-0ubuntu0.18.04.14) ...\n",
            "Selecting previously unselected package gsfonts.\n",
            "Preparing to unpack .../09-gsfonts_1%3a8.11+urwcyr1.0.7~pre44-4.4_all.deb ...\n",
            "Unpacking gsfonts (1:8.11+urwcyr1.0.7~pre44-4.4) ...\n",
            "Selecting previously unselected package libcupsfilters1:amd64.\n",
            "Preparing to unpack .../10-libcupsfilters1_1.20.2-0ubuntu3.1_amd64.deb ...\n",
            "Unpacking libcupsfilters1:amd64 (1.20.2-0ubuntu3.1) ...\n",
            "Setting up libgs9-common (9.26~dfsg+0-0ubuntu0.18.04.14) ...\n",
            "Setting up fonts-droid-fallback (1:6.0.1r16-1.1) ...\n",
            "Setting up gsfonts (1:8.11+urwcyr1.0.7~pre44-4.4) ...\n",
            "Setting up poppler-data (0.4.8-2) ...\n",
            "Setting up fonts-noto-mono (20171026-2) ...\n",
            "Setting up libcupsfilters1:amd64 (1.20.2-0ubuntu3.1) ...\n",
            "Setting up libcupsimage2:amd64 (2.2.7-1ubuntu2.8) ...\n",
            "Setting up libjbig2dec0:amd64 (0.13-6) ...\n",
            "Setting up libijs-0.35:amd64 (0.35-13) ...\n",
            "Setting up libgs9:amd64 (9.26~dfsg+0-0ubuntu0.18.04.14) ...\n",
            "Setting up ghostscript (9.26~dfsg+0-0ubuntu0.18.04.14) ...\n",
            "Processing triggers for man-db (2.8.3-2ubuntu0.1) ...\n",
            "Processing triggers for fontconfig (2.12.6-0ubuntu2) ...\n",
            "Processing triggers for libc-bin (2.27-3ubuntu1.2) ...\n",
            "/sbin/ldconfig.real: /usr/local/lib/python3.7/dist-packages/ideep4py/lib/libmkldnn.so.0 is not a symbolic link\n",
            "\n",
            "Collecting camelot-py[cv]\n",
            "\u001b[?25l  Downloading https://files.pythonhosted.org/packages/ed/78/123007d6aff9811bd087ff5dd68e06a9df62b2fdbf7685d74c9d6f247921/camelot_py-0.8.2-py3-none-any.whl (42kB)\n",
            "\u001b[K     |████████████████████████████████| 51kB 1.6MB/s \n",
            "\u001b[?25hRequirement already satisfied: chardet>=3.0.4 in /usr/local/lib/python3.7/dist-packages (from camelot-py[cv]) (3.0.4)\n",
            "Collecting PyPDF2>=1.26.0\n",
            "\u001b[?25l  Downloading https://files.pythonhosted.org/packages/b4/01/68fcc0d43daf4c6bdbc6b33cc3f77bda531c86b174cac56ef0ffdb96faab/PyPDF2-1.26.0.tar.gz (77kB)\n",
            "\u001b[K     |████████████████████████████████| 81kB 2.5MB/s \n",
            "\u001b[?25hRequirement already satisfied: openpyxl>=2.5.8 in /usr/local/lib/python3.7/dist-packages (from camelot-py[cv]) (2.5.9)\n",
            "Requirement already satisfied: click>=6.7 in /usr/local/lib/python3.7/dist-packages (from camelot-py[cv]) (7.1.2)\n",
            "Requirement already satisfied: pandas>=0.23.4 in /usr/local/lib/python3.7/dist-packages (from camelot-py[cv]) (1.1.5)\n",
            "Collecting pdfminer.six>=20200726\n",
            "\u001b[?25l  Downloading https://files.pythonhosted.org/packages/93/f3/4fec7dabe8802ebec46141345bf714cd1fc7d93cb74ddde917e4b6d97d88/pdfminer.six-20201018-py3-none-any.whl (5.6MB)\n",
            "\u001b[K     |████████████████████████████████| 5.6MB 12.6MB/s \n",
            "\u001b[?25hRequirement already satisfied: numpy>=1.13.3 in /usr/local/lib/python3.7/dist-packages (from camelot-py[cv]) (1.19.5)\n",
            "Requirement already satisfied: opencv-python>=3.4.2.17; extra == \"cv\" in /usr/local/lib/python3.7/dist-packages (from camelot-py[cv]) (4.1.2.30)\n",
            "Requirement already satisfied: et-xmlfile in /usr/local/lib/python3.7/dist-packages (from openpyxl>=2.5.8->camelot-py[cv]) (1.1.0)\n",
            "Requirement already satisfied: jdcal in /usr/local/lib/python3.7/dist-packages (from openpyxl>=2.5.8->camelot-py[cv]) (1.4.1)\n",
            "Requirement already satisfied: pytz>=2017.2 in /usr/local/lib/python3.7/dist-packages (from pandas>=0.23.4->camelot-py[cv]) (2018.9)\n",
            "Requirement already satisfied: python-dateutil>=2.7.3 in /usr/local/lib/python3.7/dist-packages (from pandas>=0.23.4->camelot-py[cv]) (2.8.1)\n",
            "Collecting cryptography\n",
            "\u001b[?25l  Downloading https://files.pythonhosted.org/packages/b2/26/7af637e6a7e87258b963f1731c5982fb31cd507f0d90d91836e446955d02/cryptography-3.4.7-cp36-abi3-manylinux2014_x86_64.whl (3.2MB)\n",
            "\u001b[K     |████████████████████████████████| 3.2MB 42.9MB/s \n",
            "\u001b[?25hRequirement already satisfied: sortedcontainers in /usr/local/lib/python3.7/dist-packages (from pdfminer.six>=20200726->camelot-py[cv]) (2.4.0)\n",
            "Requirement already satisfied: six>=1.5 in /usr/local/lib/python3.7/dist-packages (from python-dateutil>=2.7.3->pandas>=0.23.4->camelot-py[cv]) (1.15.0)\n",
            "Requirement already satisfied: cffi>=1.12 in /usr/local/lib/python3.7/dist-packages (from cryptography->pdfminer.six>=20200726->camelot-py[cv]) (1.14.5)\n",
            "Requirement already satisfied: pycparser in /usr/local/lib/python3.7/dist-packages (from cffi>=1.12->cryptography->pdfminer.six>=20200726->camelot-py[cv]) (2.20)\n",
            "Building wheels for collected packages: PyPDF2\n",
            "  Building wheel for PyPDF2 (setup.py) ... \u001b[?25l\u001b[?25hdone\n",
            "  Created wheel for PyPDF2: filename=PyPDF2-1.26.0-cp37-none-any.whl size=61085 sha256=e3a39924db7d6389a0ad6976e9206b46daa5db9562557c1eef1aff78b36e622b\n",
            "  Stored in directory: /root/.cache/pip/wheels/53/84/19/35bc977c8bf5f0c23a8a011aa958acd4da4bbd7a229315c1b7\n",
            "Successfully built PyPDF2\n",
            "Installing collected packages: PyPDF2, cryptography, pdfminer.six, camelot-py\n",
            "Successfully installed PyPDF2-1.26.0 camelot-py-0.8.2 cryptography-3.4.7 pdfminer.six-20201018\n"
          ],
          "name": "stdout"
        }
      ]
    },
    {
      "cell_type": "code",
      "metadata": {
        "id": "VVyB-HZOQ4B8"
      },
      "source": [
        "import camelot\n",
        "import pandas as pd"
      ],
      "execution_count": 3,
      "outputs": []
    },
    {
      "cell_type": "code",
      "metadata": {
        "id": "0UrGUovIJ3L_"
      },
      "source": [
        "from google.colab import files"
      ],
      "execution_count": 5,
      "outputs": []
    },
    {
      "cell_type": "markdown",
      "metadata": {
        "id": "Q2hUvnpK75XY"
      },
      "source": [
        "# PDF変換"
      ]
    },
    {
      "cell_type": "code",
      "metadata": {
        "id": "s8qjs2KaQ0or"
      },
      "source": [
        "tables = camelot.read_pdf(\"data.pdf\", pages=\"2-end\", split_text=True)\n",
        "\n",
        "df = pd.concat([table.df for table in tables])\n",
        "\n",
        "df.to_csv(\"data.csv\", encoding=\"utf_8_sig\", index=False, header=False)"
      ],
      "execution_count": 4,
      "outputs": []
    },
    {
      "cell_type": "markdown",
      "metadata": {
        "id": "WPaMXApiJ8l2"
      },
      "source": [
        "# ダウンロード"
      ]
    },
    {
      "cell_type": "code",
      "metadata": {
        "id": "agQaDzy4J5uB",
        "colab": {
          "base_uri": "https://localhost:8080/",
          "height": 17
        },
        "outputId": "b5d102d1-81d9-4b64-d780-6da9fe5b8900"
      },
      "source": [
        "files.download(\"data.csv\")"
      ],
      "execution_count": 6,
      "outputs": [
        {
          "output_type": "display_data",
          "data": {
            "application/javascript": [
              "\n",
              "    async function download(id, filename, size) {\n",
              "      if (!google.colab.kernel.accessAllowed) {\n",
              "        return;\n",
              "      }\n",
              "      const div = document.createElement('div');\n",
              "      const label = document.createElement('label');\n",
              "      label.textContent = `Downloading \"${filename}\": `;\n",
              "      div.appendChild(label);\n",
              "      const progress = document.createElement('progress');\n",
              "      progress.max = size;\n",
              "      div.appendChild(progress);\n",
              "      document.body.appendChild(div);\n",
              "\n",
              "      const buffers = [];\n",
              "      let downloaded = 0;\n",
              "\n",
              "      const channel = await google.colab.kernel.comms.open(id);\n",
              "      // Send a message to notify the kernel that we're ready.\n",
              "      channel.send({})\n",
              "\n",
              "      for await (const message of channel.messages) {\n",
              "        // Send a message to notify the kernel that we're ready.\n",
              "        channel.send({})\n",
              "        if (message.buffers) {\n",
              "          for (const buffer of message.buffers) {\n",
              "            buffers.push(buffer);\n",
              "            downloaded += buffer.byteLength;\n",
              "            progress.value = downloaded;\n",
              "          }\n",
              "        }\n",
              "      }\n",
              "      const blob = new Blob(buffers, {type: 'application/binary'});\n",
              "      const a = document.createElement('a');\n",
              "      a.href = window.URL.createObjectURL(blob);\n",
              "      a.download = filename;\n",
              "      div.appendChild(a);\n",
              "      a.click();\n",
              "      div.remove();\n",
              "    }\n",
              "  "
            ],
            "text/plain": [
              "<IPython.core.display.Javascript object>"
            ]
          },
          "metadata": {
            "tags": []
          }
        },
        {
          "output_type": "display_data",
          "data": {
            "application/javascript": [
              "download(\"download_70c96d96-ab05-489b-80b6-48136f49316d\", \"data.csv\", 1755724)"
            ],
            "text/plain": [
              "<IPython.core.display.Javascript object>"
            ]
          },
          "metadata": {
            "tags": []
          }
        }
      ]
    },
    {
      "cell_type": "markdown",
      "metadata": {
        "id": "7nhRNxrzKCR5"
      },
      "source": [
        "# 前処理"
      ]
    },
    {
      "cell_type": "code",
      "metadata": {
        "id": "C8rDViWy-r8Z"
      },
      "source": [
        "import re\n",
        "import pandas as pd"
      ],
      "execution_count": 15,
      "outputs": []
    },
    {
      "cell_type": "code",
      "metadata": {
        "id": "Q1mX4NRTXZY-"
      },
      "source": [
        "df0 = pd.read_csv(\"data.csv\", dtype=\"object\").fillna(\"\")"
      ],
      "execution_count": 7,
      "outputs": []
    },
    {
      "cell_type": "code",
      "metadata": {
        "colab": {
          "base_uri": "https://localhost:8080/"
        },
        "id": "5d1PZWNXZDMX",
        "outputId": "4eb79a83-b41d-436d-eec5-314b2fa74778"
      },
      "source": [
        "df0.info()"
      ],
      "execution_count": 8,
      "outputs": [
        {
          "output_type": "stream",
          "text": [
            "<class 'pandas.core.frame.DataFrame'>\n",
            "RangeIndex: 7298 entries, 0 to 7297\n",
            "Data columns (total 14 columns):\n",
            " #   Column         Non-Null Count  Dtype \n",
            "---  ------         --------------  ----- \n",
            " 0   No             7298 non-null   object\n",
            " 1   年齢             7298 non-null   object\n",
            " 2   性別             7298 non-null   object\n",
            " 3   接種日            7298 non-null   object\n",
            " 4   発生日            7298 non-null   object\n",
            " 5   接種から\n",
            "発生までの\n",
            "日数  7298 non-null   object\n",
            " 6   ワクチン名          7298 non-null   object\n",
            " 7   製造販売業者         7298 non-null   object\n",
            " 8   ロット番\n",
            "号         7298 non-null   object\n",
            " 9   症状名（PT名）       7298 non-null   object\n",
            " 10  因果関係\n",
            "（報告医評価）   7298 non-null   object\n",
            " 11  重篤度\n",
            "（報告医評価）    7298 non-null   object\n",
            " 12  転帰日            7298 non-null   object\n",
            " 13  転帰内容           7298 non-null   object\n",
            "dtypes: object(14)\n",
            "memory usage: 798.3+ KB\n"
          ],
          "name": "stdout"
        }
      ]
    },
    {
      "cell_type": "code",
      "metadata": {
        "id": "DzykbWkDXfgx"
      },
      "source": [
        "df0.columns = df0.columns.str.replace(\"\\n\", \"\")"
      ],
      "execution_count": 9,
      "outputs": []
    },
    {
      "cell_type": "code",
      "metadata": {
        "id": "dlmvhu4WXfdV"
      },
      "source": [
        "df0[\"No\"] = df0[\"No\"].str.replace(\"※[１-９]\", \"\").str.strip().astype(int)"
      ],
      "execution_count": 10,
      "outputs": []
    },
    {
      "cell_type": "code",
      "metadata": {
        "id": "uIznjAa6zz8s"
      },
      "source": [
        "df0[\"年齢\"] = df0[\"年齢\"].str.rstrip(\"歳\")\n",
        "df0[\"年齢\"] = df0[\"年齢\"].mask(df0[\"年齢\"] == \"\").astype(float).astype(\"Int64\")"
      ],
      "execution_count": 11,
      "outputs": []
    },
    {
      "cell_type": "code",
      "metadata": {
        "id": "XGyykwyr13bu"
      },
      "source": [
        "df0[\"性別\"] = df0[\"性別\"].replace({\"\": \"不明\"})"
      ],
      "execution_count": 12,
      "outputs": []
    },
    {
      "cell_type": "markdown",
      "metadata": {
        "id": "HyPfcAcp_YC6"
      },
      "source": [
        "# 整然データ"
      ]
    },
    {
      "cell_type": "markdown",
      "metadata": {
        "id": "4E-gOd3lBt8S"
      },
      "source": [
        "かのえ／Pattie／柿人 さんのコードを参考にさせていただきました\n",
        "\n",
        "https://twitter.com/kanoekakihito/status/1397222333505486849\n",
        "\n",
        "https://github.com/kanoekakihito/tidy_mhlw_data/blob/main/20210523_%E6%96%B0%E5%9E%8B%E3%82%B3%E3%83%AD%E3%83%8A%E3%83%AF%E3%82%AF%E3%83%81%E3%83%B3%E5%89%AF%E5%8F%8D%E5%BF%9CCSV%E6%95%B4%E5%BD%A2.py"
      ]
    },
    {
      "cell_type": "code",
      "metadata": {
        "id": "3n5BFG9mwlXb"
      },
      "source": [
        "df1 = df0.copy()"
      ],
      "execution_count": 13,
      "outputs": []
    },
    {
      "cell_type": "code",
      "metadata": {
        "id": "2FtX32Tn7PXx"
      },
      "source": [
        "df1[\"症状名（PT名）\"] = df1[\"症状名（PT名）\"].apply(lambda s: [i.replace(\"\\n\", \"\").strip() for i in re.split(\"(?<=[）)]\\n)\", s)])\n",
        "df1[\"発生日\"] = df1[\"発生日\"].str.split()\n",
        "df1[\"転帰日\"] = df1[\"転帰日\"].str.split()\n",
        "df1[\"転帰内容\"] = df1[\"転帰内容\"].str.split()"
      ],
      "execution_count": 16,
      "outputs": []
    },
    {
      "cell_type": "code",
      "metadata": {
        "id": "U2miq3rS7QsR"
      },
      "source": [
        "dfs = []\n",
        "\n",
        "for i, row in df1.iterrows():\n",
        "    dfs.append(row.apply(pd.Series).T.fillna(method=\"ffill\"))"
      ],
      "execution_count": 17,
      "outputs": []
    },
    {
      "cell_type": "code",
      "metadata": {
        "id": "UZDcM53V7SQa"
      },
      "source": [
        "df2 = pd.concat(dfs).reset_index(drop=True)"
      ],
      "execution_count": 55,
      "outputs": []
    },
    {
      "cell_type": "code",
      "metadata": {
        "id": "Y-KfA_Fk7Xq5"
      },
      "source": [
        "df3 = df2[\"症状名（PT名）\"].str.extract(\"(.+)[（()](.+?)[）)]\").rename(columns={0:\"症状名\", 1:\"PT名\"})\n",
        "df3[\"PT名\"] = df3[\"PT名\"].str.split(\"|\")"
      ],
      "execution_count": 56,
      "outputs": []
    },
    {
      "cell_type": "code",
      "metadata": {
        "id": "JUFRIkVk7cKA"
      },
      "source": [
        "df4 = df2.join(df3).explode(\"PT名\")"
      ],
      "execution_count": 57,
      "outputs": []
    },
    {
      "cell_type": "code",
      "metadata": {
        "id": "bQ0N32P-7ZyQ"
      },
      "source": [
        "df4[\"症状名\"] = df4[\"症状名\"].str.strip()\n",
        "df4[\"PT名\"] = df4[\"PT名\"].str.strip()"
      ],
      "execution_count": 58,
      "outputs": []
    },
    {
      "cell_type": "code",
      "metadata": {
        "id": "3ewbywyGALbE"
      },
      "source": [
        "df4[\"No\"] = df2[\"No\"].astype(int)\n",
        "df4[\"年齢\"] = df2[\"年齢\"].astype(\"Int64\")"
      ],
      "execution_count": 59,
      "outputs": []
    },
    {
      "cell_type": "code",
      "metadata": {
        "colab": {
          "base_uri": "https://localhost:8080/"
        },
        "id": "h_KhQY-S_N7x",
        "outputId": "94c41f7e-27af-40e6-a1f9-9c65507ecbeb"
      },
      "source": [
        "df4.info()"
      ],
      "execution_count": 60,
      "outputs": [
        {
          "output_type": "stream",
          "text": [
            "<class 'pandas.core.frame.DataFrame'>\n",
            "Int64Index: 16742 entries, 0 to 16295\n",
            "Data columns (total 16 columns):\n",
            " #   Column       Non-Null Count  Dtype \n",
            "---  ------       --------------  ----- \n",
            " 0   No           16742 non-null  int64 \n",
            " 1   年齢           16740 non-null  Int64 \n",
            " 2   性別           16742 non-null  object\n",
            " 3   接種日          16742 non-null  object\n",
            " 4   発生日          16742 non-null  object\n",
            " 5   接種から発生までの日数  16742 non-null  object\n",
            " 6   ワクチン名        16742 non-null  object\n",
            " 7   製造販売業者       16742 non-null  object\n",
            " 8   ロット番号        16742 non-null  object\n",
            " 9   症状名（PT名）     16742 non-null  object\n",
            " 10  因果関係（報告医評価）  16742 non-null  object\n",
            " 11  重篤度（報告医評価）   16742 non-null  object\n",
            " 12  転帰日          16742 non-null  object\n",
            " 13  転帰内容         16742 non-null  object\n",
            " 14  症状名          16742 non-null  object\n",
            " 15  PT名          16742 non-null  object\n",
            "dtypes: Int64(1), int64(1), object(14)\n",
            "memory usage: 2.2+ MB\n"
          ],
          "name": "stdout"
        }
      ]
    },
    {
      "cell_type": "code",
      "metadata": {
        "colab": {
          "base_uri": "https://localhost:8080/",
          "height": 615
        },
        "id": "Xv43LQRVAB9Z",
        "outputId": "460e1992-39d7-4359-cb9e-012d9e465e88"
      },
      "source": [
        "df4"
      ],
      "execution_count": 61,
      "outputs": [
        {
          "output_type": "execute_result",
          "data": {
            "text/html": [
              "<div>\n",
              "<style scoped>\n",
              "    .dataframe tbody tr th:only-of-type {\n",
              "        vertical-align: middle;\n",
              "    }\n",
              "\n",
              "    .dataframe tbody tr th {\n",
              "        vertical-align: top;\n",
              "    }\n",
              "\n",
              "    .dataframe thead th {\n",
              "        text-align: right;\n",
              "    }\n",
              "</style>\n",
              "<table border=\"1\" class=\"dataframe\">\n",
              "  <thead>\n",
              "    <tr style=\"text-align: right;\">\n",
              "      <th></th>\n",
              "      <th>No</th>\n",
              "      <th>年齢</th>\n",
              "      <th>性別</th>\n",
              "      <th>接種日</th>\n",
              "      <th>発生日</th>\n",
              "      <th>接種から発生までの日数</th>\n",
              "      <th>ワクチン名</th>\n",
              "      <th>製造販売業者</th>\n",
              "      <th>ロット番号</th>\n",
              "      <th>症状名（PT名）</th>\n",
              "      <th>因果関係（報告医評価）</th>\n",
              "      <th>重篤度（報告医評価）</th>\n",
              "      <th>転帰日</th>\n",
              "      <th>転帰内容</th>\n",
              "      <th>症状名</th>\n",
              "      <th>PT名</th>\n",
              "    </tr>\n",
              "  </thead>\n",
              "  <tbody>\n",
              "    <tr>\n",
              "      <th>0</th>\n",
              "      <td>1</td>\n",
              "      <td>55</td>\n",
              "      <td>女性</td>\n",
              "      <td>2021/03/19</td>\n",
              "      <td>2021/03/19</td>\n",
              "      <td>0</td>\n",
              "      <td>コミナティ筋注</td>\n",
              "      <td>ファイザー</td>\n",
              "      <td>EP9605</td>\n",
              "      <td>口腔咽頭不快感（口腔咽頭不快感）</td>\n",
              "      <td></td>\n",
              "      <td>重くない</td>\n",
              "      <td>未記入</td>\n",
              "      <td>不明</td>\n",
              "      <td>口腔咽頭不快感</td>\n",
              "      <td>口腔咽頭不快感</td>\n",
              "    </tr>\n",
              "    <tr>\n",
              "      <th>1</th>\n",
              "      <td>1</td>\n",
              "      <td>55</td>\n",
              "      <td>女性</td>\n",
              "      <td>2021/03/19</td>\n",
              "      <td>2021/03/19</td>\n",
              "      <td>0</td>\n",
              "      <td>コミナティ筋注</td>\n",
              "      <td>ファイザー</td>\n",
              "      <td>EP9605</td>\n",
              "      <td>皮疹・発疹・紅斑（紅斑）</td>\n",
              "      <td></td>\n",
              "      <td>重くない</td>\n",
              "      <td>未記入</td>\n",
              "      <td>軽快</td>\n",
              "      <td>皮疹・発疹・紅斑</td>\n",
              "      <td>紅斑</td>\n",
              "    </tr>\n",
              "    <tr>\n",
              "      <th>2</th>\n",
              "      <td>2</td>\n",
              "      <td>24</td>\n",
              "      <td>女性</td>\n",
              "      <td>2021/04/01</td>\n",
              "      <td>2021/04/01</td>\n",
              "      <td>0</td>\n",
              "      <td>コミナティ筋注</td>\n",
              "      <td>ファイザー</td>\n",
              "      <td>ER2659</td>\n",
              "      <td>悪心・嘔吐（悪心）</td>\n",
              "      <td></td>\n",
              "      <td>重くない</td>\n",
              "      <td>未記入</td>\n",
              "      <td>軽快</td>\n",
              "      <td>悪心・嘔吐</td>\n",
              "      <td>悪心</td>\n",
              "    </tr>\n",
              "    <tr>\n",
              "      <th>3</th>\n",
              "      <td>2</td>\n",
              "      <td>24</td>\n",
              "      <td>女性</td>\n",
              "      <td>2021/04/01</td>\n",
              "      <td>2021/04/01</td>\n",
              "      <td>0</td>\n",
              "      <td>コミナティ筋注</td>\n",
              "      <td>ファイザー</td>\n",
              "      <td>ER2659</td>\n",
              "      <td>口腔咽頭不快感（口腔咽頭不快感）</td>\n",
              "      <td></td>\n",
              "      <td>重くない</td>\n",
              "      <td>未記入</td>\n",
              "      <td>軽快</td>\n",
              "      <td>口腔咽頭不快感</td>\n",
              "      <td>口腔咽頭不快感</td>\n",
              "    </tr>\n",
              "    <tr>\n",
              "      <th>4</th>\n",
              "      <td>3</td>\n",
              "      <td>77</td>\n",
              "      <td>男性</td>\n",
              "      <td>2021/04/19</td>\n",
              "      <td>2021/04/23</td>\n",
              "      <td>4</td>\n",
              "      <td>コミナティ筋注</td>\n",
              "      <td>ファイザー</td>\n",
              "      <td>ET9096</td>\n",
              "      <td>脳出血（脳幹出血）</td>\n",
              "      <td></td>\n",
              "      <td>重い</td>\n",
              "      <td>未記入</td>\n",
              "      <td>死亡</td>\n",
              "      <td>脳出血</td>\n",
              "      <td>脳幹出血</td>\n",
              "    </tr>\n",
              "    <tr>\n",
              "      <th>...</th>\n",
              "      <td>...</td>\n",
              "      <td>...</td>\n",
              "      <td>...</td>\n",
              "      <td>...</td>\n",
              "      <td>...</td>\n",
              "      <td>...</td>\n",
              "      <td>...</td>\n",
              "      <td>...</td>\n",
              "      <td>...</td>\n",
              "      <td>...</td>\n",
              "      <td>...</td>\n",
              "      <td>...</td>\n",
              "      <td>...</td>\n",
              "      <td>...</td>\n",
              "      <td>...</td>\n",
              "      <td>...</td>\n",
              "    </tr>\n",
              "    <tr>\n",
              "      <th>16291</th>\n",
              "      <td>7297</td>\n",
              "      <td>66</td>\n",
              "      <td>女性</td>\n",
              "      <td>2021/05/15</td>\n",
              "      <td>2021/05/15</td>\n",
              "      <td>0</td>\n",
              "      <td>コミナティ筋注</td>\n",
              "      <td>ファイザー</td>\n",
              "      <td>EW4811</td>\n",
              "      <td>胸部不快感（胸部不快感）</td>\n",
              "      <td>関連あり</td>\n",
              "      <td>重くない</td>\n",
              "      <td>2021/05/15</td>\n",
              "      <td>回復</td>\n",
              "      <td>胸部不快感</td>\n",
              "      <td>胸部不快感</td>\n",
              "    </tr>\n",
              "    <tr>\n",
              "      <th>16292</th>\n",
              "      <td>7297</td>\n",
              "      <td>66</td>\n",
              "      <td>女性</td>\n",
              "      <td>2021/05/15</td>\n",
              "      <td>2021/05/15</td>\n",
              "      <td>0</td>\n",
              "      <td>コミナティ筋注</td>\n",
              "      <td>ファイザー</td>\n",
              "      <td>EW4811</td>\n",
              "      <td>動悸（動悸）</td>\n",
              "      <td>関連あり</td>\n",
              "      <td>重くない</td>\n",
              "      <td>2021/05/15</td>\n",
              "      <td>回復</td>\n",
              "      <td>動悸</td>\n",
              "      <td>動悸</td>\n",
              "    </tr>\n",
              "    <tr>\n",
              "      <th>16293</th>\n",
              "      <td>7297</td>\n",
              "      <td>66</td>\n",
              "      <td>女性</td>\n",
              "      <td>2021/05/15</td>\n",
              "      <td>2021/05/15</td>\n",
              "      <td>0</td>\n",
              "      <td>コミナティ筋注</td>\n",
              "      <td>ファイザー</td>\n",
              "      <td>EW4811</td>\n",
              "      <td>口の錯感覚（口の錯感覚）</td>\n",
              "      <td>関連あり</td>\n",
              "      <td>重くない</td>\n",
              "      <td>2021/05/15</td>\n",
              "      <td>回復</td>\n",
              "      <td>口の錯感覚</td>\n",
              "      <td>口の錯感覚</td>\n",
              "    </tr>\n",
              "    <tr>\n",
              "      <th>16294</th>\n",
              "      <td>7297</td>\n",
              "      <td>66</td>\n",
              "      <td>女性</td>\n",
              "      <td>2021/05/15</td>\n",
              "      <td>2021/05/15</td>\n",
              "      <td>0</td>\n",
              "      <td>コミナティ筋注</td>\n",
              "      <td>ファイザー</td>\n",
              "      <td>EW4811</td>\n",
              "      <td>皮疹・発疹・紅斑（紅斑）</td>\n",
              "      <td>関連あり</td>\n",
              "      <td>重くない</td>\n",
              "      <td>2021/05/15</td>\n",
              "      <td>回復</td>\n",
              "      <td>皮疹・発疹・紅斑</td>\n",
              "      <td>紅斑</td>\n",
              "    </tr>\n",
              "    <tr>\n",
              "      <th>16295</th>\n",
              "      <td>7298</td>\n",
              "      <td>30</td>\n",
              "      <td>女性</td>\n",
              "      <td>2021/05/15</td>\n",
              "      <td>2021/05/15</td>\n",
              "      <td>0</td>\n",
              "      <td>コミナティ筋注</td>\n",
              "      <td>ファイザー</td>\n",
              "      <td>EY2173</td>\n",
              "      <td>異常感（異常感）</td>\n",
              "      <td>関連あり</td>\n",
              "      <td>重くない</td>\n",
              "      <td>未記入</td>\n",
              "      <td>軽快</td>\n",
              "      <td>異常感</td>\n",
              "      <td>異常感</td>\n",
              "    </tr>\n",
              "  </tbody>\n",
              "</table>\n",
              "<p>16742 rows × 16 columns</p>\n",
              "</div>"
            ],
            "text/plain": [
              "         No  年齢  性別         接種日  ...         転帰日 転帰内容       症状名      PT名\n",
              "0         1  55  女性  2021/03/19  ...         未記入   不明   口腔咽頭不快感  口腔咽頭不快感\n",
              "1         1  55  女性  2021/03/19  ...         未記入   軽快  皮疹・発疹・紅斑       紅斑\n",
              "2         2  24  女性  2021/04/01  ...         未記入   軽快     悪心・嘔吐       悪心\n",
              "3         2  24  女性  2021/04/01  ...         未記入   軽快   口腔咽頭不快感  口腔咽頭不快感\n",
              "4         3  77  男性  2021/04/19  ...         未記入   死亡       脳出血     脳幹出血\n",
              "...     ...  ..  ..         ...  ...         ...  ...       ...      ...\n",
              "16291  7297  66  女性  2021/05/15  ...  2021/05/15   回復     胸部不快感    胸部不快感\n",
              "16292  7297  66  女性  2021/05/15  ...  2021/05/15   回復        動悸       動悸\n",
              "16293  7297  66  女性  2021/05/15  ...  2021/05/15   回復     口の錯感覚    口の錯感覚\n",
              "16294  7297  66  女性  2021/05/15  ...  2021/05/15   回復  皮疹・発疹・紅斑       紅斑\n",
              "16295  7298  30  女性  2021/05/15  ...         未記入   軽快       異常感      異常感\n",
              "\n",
              "[16742 rows x 16 columns]"
            ]
          },
          "metadata": {
            "tags": []
          },
          "execution_count": 61
        }
      ]
    },
    {
      "cell_type": "code",
      "metadata": {
        "id": "7rLhYJDO7Z5a"
      },
      "source": [
        "df4.to_csv(\"output.csv\", index=False, encoding=\"utf_8_sig\")"
      ],
      "execution_count": 50,
      "outputs": []
    },
    {
      "cell_type": "markdown",
      "metadata": {
        "id": "Diklkt87ChdZ"
      },
      "source": [
        "# ダウンロード"
      ]
    },
    {
      "cell_type": "code",
      "metadata": {
        "id": "B-BbHP04CgxR"
      },
      "source": [
        "files.download(\"output.csv\")"
      ],
      "execution_count": null,
      "outputs": []
    },
    {
      "cell_type": "markdown",
      "metadata": {
        "id": "jSfQGmP1Dogr"
      },
      "source": [
        "# 症状別報告件数"
      ]
    },
    {
      "cell_type": "code",
      "metadata": {
        "id": "9Jl19g6HDE5i"
      },
      "source": [
        "df4[\"症状\"] = df4[\"症状名\"] + \"（\" + df4[\"PT名\"] + \"）\""
      ],
      "execution_count": 52,
      "outputs": []
    },
    {
      "cell_type": "code",
      "metadata": {
        "colab": {
          "base_uri": "https://localhost:8080/"
        },
        "id": "n53q6O8dDXbh",
        "outputId": "e475e5a7-0ece-43d7-9028-1ba706b3bfe9"
      },
      "source": [
        "df4[\"症状\"].value_counts()"
      ],
      "execution_count": 53,
      "outputs": [
        {
          "output_type": "execute_result",
          "data": {
            "text/plain": [
              "発熱（発熱）                  2254\n",
              "倦怠感（倦怠感）                1494\n",
              "頭痛（頭痛）                  1374\n",
              "アナフィラキシー（アナフィラキシー反応）     984\n",
              "悪寒（悪寒）                   662\n",
              "                        ... \n",
              "脊髄炎（脊髄炎）                   1\n",
              "脳ヘルニア（脳ヘルニア）               1\n",
              "末梢循環不全（末梢循環不全）             1\n",
              "平衡障害（平衡障害）                 1\n",
              "アトピー性皮膚炎（アトピー性皮膚炎）         1\n",
              "Name: 症状, Length: 547, dtype: int64"
            ]
          },
          "metadata": {
            "tags": []
          },
          "execution_count": 53
        }
      ]
    },
    {
      "cell_type": "markdown",
      "metadata": {
        "id": "j0aAuBi48IYQ"
      },
      "source": [
        "# 集計確認"
      ]
    },
    {
      "cell_type": "code",
      "metadata": {
        "id": "cyW6gLTg6G3B"
      },
      "source": [
        "df1 = df0.copy()\n",
        "df1.set_index(\"No\", inplace=True)"
      ],
      "execution_count": 25,
      "outputs": []
    },
    {
      "cell_type": "markdown",
      "metadata": {
        "id": "_EMBpZKE_wXU"
      },
      "source": [
        "## アナフィラキシー"
      ]
    },
    {
      "cell_type": "code",
      "metadata": {
        "colab": {
          "base_uri": "https://localhost:8080/"
        },
        "id": "9_At8OHs_y4a",
        "outputId": "da6b6e5a-e82a-4768-bd1d-de305a8c2a63"
      },
      "source": [
        "df1[\"症状名（PT名）\"].str.contains(\"アナフィラキシー\").sum()"
      ],
      "execution_count": 26,
      "outputs": [
        {
          "output_type": "execute_result",
          "data": {
            "text/plain": [
              "994"
            ]
          },
          "metadata": {
            "tags": []
          },
          "execution_count": 26
        }
      ]
    },
    {
      "cell_type": "markdown",
      "metadata": {
        "id": "I7u_D399-8JZ"
      },
      "source": [
        "## 性別"
      ]
    },
    {
      "cell_type": "code",
      "metadata": {
        "colab": {
          "base_uri": "https://localhost:8080/"
        },
        "id": "LrGVweoG2sKU",
        "outputId": "ab93dfc8-2c0f-4f68-96bd-3156a17f6267"
      },
      "source": [
        "# 性別 副反応疑い報告数\n",
        "df1[\"性別\"].value_counts()"
      ],
      "execution_count": 27,
      "outputs": [
        {
          "output_type": "execute_result",
          "data": {
            "text/plain": [
              "女性    6048\n",
              "男性    1241\n",
              "不明       9\n",
              "Name: 性別, dtype: int64"
            ]
          },
          "metadata": {
            "tags": []
          },
          "execution_count": 27
        }
      ]
    },
    {
      "cell_type": "code",
      "metadata": {
        "colab": {
          "base_uri": "https://localhost:8080/"
        },
        "id": "Ofd2HPrHpugJ",
        "outputId": "b1545bc5-a8a9-4b67-d1fc-de1dbd4476e6"
      },
      "source": [
        "# 性別 重篤報告数\n",
        "df1.loc[df1[\"重篤度（報告医評価）\"] == \"重い\", \"性別\"].value_counts()"
      ],
      "execution_count": 28,
      "outputs": [
        {
          "output_type": "execute_result",
          "data": {
            "text/plain": [
              "女性    705\n",
              "男性    139\n",
              "不明      2\n",
              "Name: 性別, dtype: int64"
            ]
          },
          "metadata": {
            "tags": []
          },
          "execution_count": 28
        }
      ]
    },
    {
      "cell_type": "code",
      "metadata": {
        "colab": {
          "base_uri": "https://localhost:8080/"
        },
        "id": "SEMNM9p920qV",
        "outputId": "cf7b55eb-af96-40ab-fa43-fa8efa747af4"
      },
      "source": [
        "# 性別 死亡報告数\n",
        "df1.loc[df1[\"転帰内容\"].str.contains(\"死亡\"), \"性別\"].value_counts()"
      ],
      "execution_count": 29,
      "outputs": [
        {
          "output_type": "execute_result",
          "data": {
            "text/plain": [
              "女性    29\n",
              "男性    23\n",
              "Name: 性別, dtype: int64"
            ]
          },
          "metadata": {
            "tags": []
          },
          "execution_count": 29
        }
      ]
    },
    {
      "cell_type": "markdown",
      "metadata": {
        "id": "dxp0mP6M-0M1"
      },
      "source": [
        "## 年齢別"
      ]
    },
    {
      "cell_type": "code",
      "metadata": {
        "id": "KPdcKw7G48K7"
      },
      "source": [
        "labels = [\n",
        "    \"0～9歳\",\n",
        "    \"10～19歳\",\n",
        "    \"20～29歳\",\n",
        "    \"30～39歳\",\n",
        "    \"40～49歳\",\n",
        "    \"50～59歳\",\n",
        "    \"60～69歳\",\n",
        "    \"70～79歳\",\n",
        "    \"80歳以上\",\n",
        "]"
      ],
      "execution_count": 30,
      "outputs": []
    },
    {
      "cell_type": "code",
      "metadata": {
        "id": "nV0Eqwdh5Kcc"
      },
      "source": [
        "df1[\"年代\"] = pd.cut(\n",
        "    df1[\"年齢\"],\n",
        "    [0, 10, 20, 30, 40, 50, 60, 70, 80, 120],\n",
        "    include_lowest=True,\n",
        "    right=False,\n",
        "    labels=labels,\n",
        ").astype(str)"
      ],
      "execution_count": 31,
      "outputs": []
    },
    {
      "cell_type": "code",
      "metadata": {
        "id": "uWGiKLaU6Btj"
      },
      "source": [
        "df1[\"年代\"] = df1[\"年代\"].mask(df1[\"年齢\"].isnull(), \"不明\")"
      ],
      "execution_count": 32,
      "outputs": []
    },
    {
      "cell_type": "code",
      "metadata": {
        "colab": {
          "base_uri": "https://localhost:8080/"
        },
        "id": "Gx4CzQLu5W-6",
        "outputId": "9f5e03f7-9075-49b3-d66c-4002f5af880b"
      },
      "source": [
        "# 年齢別副反応疑い報告数\n",
        "df1[\"年代\"].value_counts().reindex(labels + [\"不明\"]).fillna(0).astype(int)"
      ],
      "execution_count": 33,
      "outputs": [
        {
          "output_type": "execute_result",
          "data": {
            "text/plain": [
              "0～9歳         0\n",
              "10～19歳      41\n",
              "20～29歳    1491\n",
              "30～39歳    1724\n",
              "40～49歳    2063\n",
              "50～59歳    1363\n",
              "60～69歳     403\n",
              "70～79歳      90\n",
              "80歳以上      121\n",
              "不明           2\n",
              "Name: 年代, dtype: int64"
            ]
          },
          "metadata": {
            "tags": []
          },
          "execution_count": 33
        }
      ]
    },
    {
      "cell_type": "code",
      "metadata": {
        "colab": {
          "base_uri": "https://localhost:8080/"
        },
        "id": "XLM-GkPg9ALU",
        "outputId": "706b5e5b-664c-4ce8-8b70-d4ecf9d8d5a0"
      },
      "source": [
        "# 年齢別重篤報告数\n",
        "df1.loc[df1[\"重篤度（報告医評価）\"] == \"重い\", \"年代\"].value_counts().reindex(labels + [\"不明\"]).fillna(0).astype(int)"
      ],
      "execution_count": 34,
      "outputs": [
        {
          "output_type": "execute_result",
          "data": {
            "text/plain": [
              "0～9歳        0\n",
              "10～19歳      5\n",
              "20～29歳    149\n",
              "30～39歳    197\n",
              "40～49歳    246\n",
              "50～59歳    152\n",
              "60～69歳     38\n",
              "70～79歳     20\n",
              "80歳以上      37\n",
              "不明          2\n",
              "Name: 年代, dtype: int64"
            ]
          },
          "metadata": {
            "tags": []
          },
          "execution_count": 34
        }
      ]
    },
    {
      "cell_type": "code",
      "metadata": {
        "colab": {
          "base_uri": "https://localhost:8080/"
        },
        "id": "kzHYkL3lm77e",
        "outputId": "10d0952c-336b-4a28-99bc-e6dc8e79900e"
      },
      "source": [
        "# 年齢別死亡報告数\n",
        "df1.loc[df1[\"転帰内容\"].str.contains(\"死亡\"), \"年代\"].value_counts().reindex(labels + [\"不明\"]).fillna(0).astype(int)"
      ],
      "execution_count": 35,
      "outputs": [
        {
          "output_type": "execute_result",
          "data": {
            "text/plain": [
              "0～9歳       0\n",
              "10～19歳     0\n",
              "20～29歳     3\n",
              "30～39歳     1\n",
              "40～49歳     5\n",
              "50～59歳     4\n",
              "60～69歳     6\n",
              "70～79歳    10\n",
              "80歳以上     23\n",
              "不明         0\n",
              "Name: 年代, dtype: int64"
            ]
          },
          "metadata": {
            "tags": []
          },
          "execution_count": 35
        }
      ]
    }
  ]
}