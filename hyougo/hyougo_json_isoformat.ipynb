{
  "nbformat": 4,
  "nbformat_minor": 0,
  "metadata": {
    "colab": {
      "name": "hyougo_json-isoformat.ipynb",
      "provenance": [],
      "collapsed_sections": [],
      "toc_visible": true,
      "include_colab_link": true
    },
    "kernelspec": {
      "name": "python3",
      "display_name": "Python 3"
    }
  },
  "cells": [
    {
      "cell_type": "markdown",
      "metadata": {
        "id": "view-in-github",
        "colab_type": "text"
      },
      "source": [
        "<a href=\"https://colab.research.google.com/github/imabari/covid19-data/blob/master/hyougo/hyougo_json_isoformat.ipynb\" target=\"_parent\"><img src=\"https://colab.research.google.com/assets/colab-badge.svg\" alt=\"Open In Colab\"/></a>"
      ]
    },
    {
      "cell_type": "code",
      "metadata": {
        "id": "l9PRH1px56P3",
        "colab_type": "code",
        "colab": {
          "base_uri": "https://localhost:8080/",
          "height": 35
        },
        "outputId": "e20482b5-3f1d-4163-a47b-abaef949c107"
      },
      "source": [
        "!pip install jsonschema"
      ],
      "execution_count": 111,
      "outputs": [
        {
          "output_type": "stream",
          "text": [
            "Requirement already satisfied: jsonschema in /usr/local/lib/python3.6/dist-packages (2.6.0)\n"
          ],
          "name": "stdout"
        }
      ]
    },
    {
      "cell_type": "code",
      "metadata": {
        "id": "yRXkkxa-dr4G",
        "colab_type": "code",
        "colab": {
          "base_uri": "https://localhost:8080/",
          "height": 89
        },
        "outputId": "2e116509-1401-4244-ab19-dac014bde28c"
      },
      "source": [
        "!pip install pycurl\n",
        "!pip install retry"
      ],
      "execution_count": 112,
      "outputs": [
        {
          "output_type": "stream",
          "text": [
            "Requirement already satisfied: pycurl in /usr/local/lib/python3.6/dist-packages (7.43.0.5)\n",
            "Requirement already satisfied: retry in /usr/local/lib/python3.6/dist-packages (0.9.2)\n",
            "Requirement already satisfied: decorator>=3.4.2 in /usr/local/lib/python3.6/dist-packages (from retry) (4.4.2)\n",
            "Requirement already satisfied: py<2.0.0,>=1.4.26 in /usr/local/lib/python3.6/dist-packages (from retry) (1.9.0)\n"
          ],
          "name": "stdout"
        }
      ]
    },
    {
      "cell_type": "code",
      "metadata": {
        "id": "55BT72KZeIvu",
        "colab_type": "code",
        "colab": {}
      },
      "source": [
        "PCR_XLSX = \"https://web.pref.hyogo.lg.jp/kk03/documents/pcr.xlsx\"\n",
        "YOUSEI_XLSX = \"https://web.pref.hyogo.lg.jp/kk03/documents/yousei.xlsx\"\n",
        "KANJA_HTML = \"https://web.pref.hyogo.lg.jp/kk03/corona_kanjyajyokyo.html\"\n",
        "\n",
        "DOWNLOAD_DIR = \"download\"\n",
        "DATA_DIR = \"data\""
      ],
      "execution_count": 113,
      "outputs": []
    },
    {
      "cell_type": "code",
      "metadata": {
        "id": "nslK3ecQeb0u",
        "colab_type": "code",
        "colab": {}
      },
      "source": [
        "from retry import retry\n",
        "import pathlib"
      ],
      "execution_count": 114,
      "outputs": []
    },
    {
      "cell_type": "markdown",
      "metadata": {
        "id": "9JQQ0bZHBL33",
        "colab_type": "text"
      },
      "source": [
        "# ダウンロード"
      ]
    },
    {
      "cell_type": "code",
      "metadata": {
        "id": "N1Pbfu-Ddsdv",
        "colab_type": "code",
        "colab": {}
      },
      "source": [
        "@retry(tries=5, delay=5, backoff=3)\n",
        "def get_file(url, dir=\".\"):\n",
        "\n",
        "    r = requests.get(url)\n",
        "    r.raise_for_status()\n",
        "\n",
        "    p = pathlib.Path(dir, pathlib.PurePath(url).name)\n",
        "    p.parent.mkdir(parents=True, exist_ok=True)\n",
        "\n",
        "    with p.open(mode=\"wb\") as fw:\n",
        "        fw.write(r.content)\n",
        "\n",
        "    return p"
      ],
      "execution_count": 115,
      "outputs": []
    },
    {
      "cell_type": "markdown",
      "metadata": {
        "id": "qhcpLl5vDICg",
        "colab_type": "text"
      },
      "source": [
        "# SCHEMA"
      ]
    },
    {
      "cell_type": "code",
      "metadata": {
        "id": "Xoc8NSP4DP2t",
        "colab_type": "code",
        "colab": {}
      },
      "source": [
        "AGE_SCHEMA = {\n",
        "    \"$schema\": \"http://json-schema.org/draft-07/schema#\",\n",
        "    \"type\": \"object\",\n",
        "    \"properties\": {\n",
        "        \"data\": {\n",
        "            \"type\": \"object\",\n",
        "            \"additionalProperties\": {\n",
        "                \"default\": 0,\n",
        "                \"type\": \"integer\"\n",
        "            }\n",
        "        },\n",
        "        \"last_update\": {\n",
        "            \"format\": \"date-time\",\n",
        "            \"type\": \"string\"\n",
        "        }\n",
        "    },\n",
        "    \"required\": [\n",
        "        \"data\",\n",
        "        \"last_update\"\n",
        "    ],\n",
        "}"
      ],
      "execution_count": 116,
      "outputs": []
    },
    {
      "cell_type": "code",
      "metadata": {
        "id": "TlJpnZuUDP5k",
        "colab_type": "code",
        "colab": {}
      },
      "source": [
        "AGE_SUMMARY_SCHEMA = {\n",
        "    \"$schema\": \"http://json-schema.org/draft-07/schema#\",\n",
        "    \"type\": \"object\",\n",
        "    \"additionalProperties\": False,\n",
        "    \"properties\": {\n",
        "        \"data\": {\n",
        "            \"type\": \"object\",\n",
        "            \"additionalProperties\": {\n",
        "                \"type\": \"array\",\n",
        "                \"items\": {\"default\": 0, \"type\": \"integer\"},\n",
        "            },\n",
        "        },\n",
        "        \"labels\": {\n",
        "            \"type\": \"array\",\n",
        "            \"items\": {\"pattern\": \"^[0-9]{1,2}/[0-9]{1,2}$\", \"type\": \"string\"},\n",
        "        },\n",
        "        \"last_update\": {\n",
        "            \"format\": \"date-time\",\n",
        "            \"type\": \"string\",\n",
        "        },\n",
        "    },\n",
        "    \"required\": [\"data\", \"labels\", \"last_update\"],\n",
        "}"
      ],
      "execution_count": 117,
      "outputs": []
    },
    {
      "cell_type": "code",
      "metadata": {
        "id": "dLwTO18NYG8G",
        "colab_type": "code",
        "colab": {}
      },
      "source": [
        "CLUSTERS_SCHEMA = {\n",
        "    \"$schema\": \"http://json-schema.org/draft-07/schema#\",\n",
        "    \"type\": \"object\",\n",
        "    \"additionalProperties\": False,\n",
        "    \"properties\": {\n",
        "        \"data\": {\n",
        "            \"type\": \"array\",\n",
        "            \"items\": {\n",
        "                \"type\": \"object\",\n",
        "                \"oneOf\": [\n",
        "                    {\n",
        "                        \"properties\": {\"日付\": {\"type\": \"string\", \"format\": \"date-time\"}},\n",
        "                    },\n",
        "                    {\n",
        "                        \"additionalProperties\": {\"type\": \"integer\"},\n",
        "                    }\n",
        "                ],\n",
        "            },\n",
        "        },\n",
        "        \"last_update\": {\"type\": \"string\", \"format\": \"date-time\"},\n",
        "    },\n",
        "    \"required\": [\"data\", \"last_update\"],\n",
        "}"
      ],
      "execution_count": 118,
      "outputs": []
    },
    {
      "cell_type": "code",
      "metadata": {
        "id": "--P3YaJDDQDE",
        "colab_type": "code",
        "colab": {}
      },
      "source": [
        "CLUSTERS_SUMMARY_SCHEMA = {\n",
        "    \"$schema\": \"http://json-schema.org/draft-07/schema#\",\n",
        "    \"type\": \"object\",\n",
        "    \"additionalProperties\": False,\n",
        "    \"properties\": {\n",
        "        \"data\": {\n",
        "            \"type\": \"object\",\n",
        "            \"additionalProperties\": {\"default\": 0, \"type\": \"integer\"},\n",
        "        },\n",
        "        \"last_update\": {\n",
        "            \"format\": \"date-time\",\n",
        "            \"type\": \"string\",\n",
        "        },\n",
        "    },\n",
        "    \"required\": [\"data\", \"last_update\"],\n",
        "}"
      ],
      "execution_count": 119,
      "outputs": []
    },
    {
      "cell_type": "code",
      "metadata": {
        "id": "qdnNk3-Uuhhe",
        "colab_type": "code",
        "colab": {}
      },
      "source": [
        "INSPECTIONS_SCHEMA = {\n",
        "    \"$schema\": \"http://json-schema.org/draft-07/schema#\",\n",
        "    \"type\": \"object\",\n",
        "    \"additionalProperties\": False,\n",
        "    \"properties\": {\n",
        "        \"data\": {\n",
        "            \"type\": \"array\",\n",
        "            \"items\": {\n",
        "                \"type\": \"object\",\n",
        "                \"additionalProperties\": False,\n",
        "                \"properties\": {\n",
        "                    \"判明日\": {\"type\": \"string\", \"format\": \"date\"},\n",
        "                    \"地方衛生研究所等\": {\"type\": \"integer\"},\n",
        "                    \"民間検査機関等\": {\n",
        "                        \"type\": \"object\",\n",
        "                        \"additionalProperties\": {\"type\": \"integer\"},\n",
        "                    },\n",
        "                    \"陽性確認\": {\"type\": \"integer\"},\n",
        "                },\n",
        "                \"required\": [\"判明日\", \"地方衛生研究所等\", \"民間検査機関等\", \"陽性確認\"],\n",
        "            },\n",
        "        },\n",
        "        \"last_update\": {\"type\": \"string\", \"format\": \"date-time\"},\n",
        "    },\n",
        "    \"required\": [\"data\", \"last_update\"],\n",
        "}"
      ],
      "execution_count": 120,
      "outputs": []
    },
    {
      "cell_type": "code",
      "metadata": {
        "id": "iT0ZZYuJDPwh",
        "colab_type": "code",
        "colab": {}
      },
      "source": [
        "INSPECTIONS_SUMMARY_SCHEMA = {\n",
        "    \"$schema\": \"http://json-schema.org/draft-07/schema#\",\n",
        "    \"type\": \"object\",\n",
        "    \"additionalProperties\": False,\n",
        "    \"properties\": {\n",
        "        \"data\": {\n",
        "            \"type\": \"object\",\n",
        "            \"additionalProperties\": {\n",
        "                \"type\": \"array\",\n",
        "                \"items\": {\"default\": 0, \"type\": \"integer\"},\n",
        "            },\n",
        "        },\n",
        "        \"labels\": {\n",
        "            \"type\": \"array\",\n",
        "            \"items\": {\"pattern\": r\"^[0-9]{1,2}/[0-9]{1,2}$\", \"type\": \"string\"},\n",
        "        },\n",
        "        \"last_update\": {\n",
        "            \"format\": \"date-time\",\n",
        "            \"type\": \"string\",\n",
        "        },\n",
        "    },\n",
        "    \"required\": [\"data\", \"labels\", \"last_update\"],\n",
        "}"
      ],
      "execution_count": 121,
      "outputs": []
    },
    {
      "cell_type": "code",
      "metadata": {
        "id": "8mEE9K1mC20P",
        "colab_type": "code",
        "colab": {}
      },
      "source": [
        "MAIN_SUMMARY_SCHEMA = {\n",
        "    \"$schema\": \"http://json-schema.org/draft-06/schema#\",\n",
        "    \"$ref\": \"#/definitions/Main\",\n",
        "    \"definitions\": {\n",
        "        \"Main\": {\n",
        "            \"type\": \"object\",\n",
        "            \"additionalProperties\": False,\n",
        "            \"properties\": {\n",
        "                \"attr\": {\"type\": \"string\"},\n",
        "                \"value\": {\"type\": \"integer\", \"default\": 0},\n",
        "                \"children\": {\n",
        "                    \"type\": \"array\",\n",
        "                    \"items\": {\"$ref\": \"#/definitions/Inspections\"},\n",
        "                },\n",
        "                \"last_update\": {\n",
        "                    \"format\": \"date-time\",\n",
        "                    \"type\": \"string\",\n",
        "                },\n",
        "            },\n",
        "            \"required\": [\"attr\", \"children\", \"last_update\", \"value\"],\n",
        "            \"title\": \"Main\",\n",
        "        },\n",
        "        \"Inspections\": {\n",
        "            \"type\": \"object\",\n",
        "            \"additionalProperties\": False,\n",
        "            \"properties\": {\n",
        "                \"attr\": {\"type\": \"string\"},\n",
        "                \"value\": {\"type\": \"integer\", \"default\": 0},\n",
        "                \"children\": {\n",
        "                    \"type\": \"array\",\n",
        "                    \"items\": {\"$ref\": \"#/definitions/Patients\"},\n",
        "                },\n",
        "            },\n",
        "            \"required\": [\"attr\", \"children\", \"value\"],\n",
        "            \"title\": \"Inspections\",\n",
        "        },\n",
        "        \"Patients\": {\n",
        "            \"type\": \"object\",\n",
        "            \"additionalProperties\": False,\n",
        "            \"properties\": {\n",
        "                \"attr\": {\"type\": \"string\"},\n",
        "                \"value\": {\"type\": \"integer\", \"default\": 0},\n",
        "                \"children\": {\n",
        "                    \"type\": \"array\",\n",
        "                    \"items\": {\"$ref\": \"#/definitions/Symptoms\"},\n",
        "                },\n",
        "            },\n",
        "            \"required\": [\"attr\", \"value\"],\n",
        "            \"title\": \"Patients\",\n",
        "        },\n",
        "        \"Symptoms\": {\n",
        "            \"type\": \"object\",\n",
        "            \"additionalProperties\": False,\n",
        "            \"properties\": {\n",
        "                \"attr\": {\"type\": \"string\"},\n",
        "                \"value\": {\"type\": \"integer\", \"default\": 0},\n",
        "            },\n",
        "            \"required\": [\"attr\", \"value\"],\n",
        "            \"title\": \"Symptoms\",\n",
        "        },\n",
        "    },\n",
        "}"
      ],
      "execution_count": 122,
      "outputs": []
    },
    {
      "cell_type": "code",
      "metadata": {
        "id": "hBEq8Iv4DP_2",
        "colab_type": "code",
        "colab": {}
      },
      "source": [
        "PATIENTS_SCHEMA = {\n",
        "    \"$schema\": \"http://json-schema.org/draft-07/schema#\",\n",
        "    \"$ref\": \"#/definitions/Main\",\n",
        "    \"definitions\": {\n",
        "        \"Main\": {\n",
        "            \"type\": \"object\",\n",
        "            \"additionalProperties\": False,\n",
        "            \"properties\": {\n",
        "                \"data\": {\"type\": \"array\", \"items\": {\"$ref\": \"#/definitions/Datum\"}},\n",
        "                \"last_update\": {\"type\": \"string\"},\n",
        "            },\n",
        "            \"required\": [\"data\", \"last_update\"],\n",
        "            \"title\": \"Main\",\n",
        "        },\n",
        "        \"Datum\": {\n",
        "            \"type\": \"object\",\n",
        "            \"additionalProperties\": False,\n",
        "            \"properties\": {\n",
        "                \"No\": {\"type\": \"integer\"},\n",
        "                \"居住地\": {\"type\": \"string\", \"pattern\": \"(都|道|府|県|市|区|町|村|市内|市外|県外|事務所管内|調査中)$\",},\n",
        "                \"年代\": {\"$ref\": \"#/definitions/Age\"},\n",
        "                \"性別\": {\"$ref\": \"#/definitions/Sex\"},\n",
        "                \"備考\": {\"type\": \"string\"},\n",
        "                \"退院\": {\"type\": \"null\"},\n",
        "                \"date\": {\"type\": \"string\", \"format\": \"date\"},\n",
        "                \"リリース日\": {\"type\": \"string\", \"format\": \"date\"},\n",
        "                \"曜日\": {\"$ref\": \"#/definitions/Week\"},\n",
        "            },\n",
        "            \"required\": [\"date\", \"リリース日\", \"備考\", \"居住地\", \"年代\", \"性別\", \"曜日\", \"No\", \"退院\"],\n",
        "            \"title\": \"Datum\",\n",
        "        },\n",
        "        \"Age\": {\n",
        "            \"type\": \"string\",\n",
        "            \"enum\": [\n",
        "                \"10歳未満\",\n",
        "                \"10代\",\n",
        "                \"20代\",\n",
        "                \"30代\",\n",
        "                \"40代\",\n",
        "                \"50代\",\n",
        "                \"60代\",\n",
        "                \"70代\",\n",
        "                \"80代\",\n",
        "                \"90歳以上\",\n",
        "                \"非公表\",\n",
        "            ],\n",
        "            \"title\": \"Age\",\n",
        "        },\n",
        "        \"Sex\": {\"type\": \"string\", \"enum\": [\"男性\", \"女性\", \"非公表\"], \"title\": \"Sex\"},\n",
        "        \"Week\": {\n",
        "            \"type\": \"string\",\n",
        "            \"enum\": [\"月\", \"火\", \"水\", \"木\", \"金\", \"土\", \"日\"],\n",
        "            \"title\": \"Week\",\n",
        "        },\n",
        "    },\n",
        "}"
      ],
      "execution_count": 123,
      "outputs": []
    },
    {
      "cell_type": "code",
      "metadata": {
        "id": "_b3I-Z95DP8s",
        "colab_type": "code",
        "colab": {}
      },
      "source": [
        "PATIENTS_SUMMARY_SCHEMA = {\n",
        "    \"$schema\": \"http://json-schema.org/draft-07/schema#\",\n",
        "    \"type\": \"object\",\n",
        "    \"additionalProperties\": False,\n",
        "    \"properties\": {\n",
        "        \"data\": {\n",
        "            \"type\": \"array\",\n",
        "            \"items\": {\n",
        "                \"type\": \"object\",\n",
        "                \"additionalProperties\": False,\n",
        "                \"properties\": {\n",
        "                    \"日付\": {\"type\": \"string\", \"format\": \"date\"},\n",
        "                    \"小計\": {\"default\": 0, \"type\": \"integer\"},\n",
        "                },\n",
        "                \"required\": [\"小計\", \"日付\"],\n",
        "            },\n",
        "        },\n",
        "        \"last_update\": {\n",
        "            \"format\": \"date-time\",\n",
        "            \"type\": \"string\",\n",
        "        },\n",
        "    },\n",
        "    \"required\": [\"data\", \"last_update\"],\n",
        "}"
      ],
      "execution_count": 124,
      "outputs": []
    },
    {
      "cell_type": "markdown",
      "metadata": {
        "id": "O7HqGFL7BbdW",
        "colab_type": "text"
      },
      "source": [
        "# データラングリング"
      ]
    },
    {
      "cell_type": "code",
      "metadata": {
        "id": "pD01Cc3nA_Lz",
        "colab_type": "code",
        "colab": {}
      },
      "source": [
        "import datetime\n",
        "import json\n",
        "\n",
        "import jsonschema\n",
        "import pandas as pd\n",
        "import requests"
      ],
      "execution_count": 125,
      "outputs": []
    },
    {
      "cell_type": "code",
      "metadata": {
        "id": "by7pxgiFgtxW",
        "colab_type": "code",
        "colab": {}
      },
      "source": [
        "from bs4 import BeautifulSoup\n",
        "from urllib.parse import urljoin"
      ],
      "execution_count": 126,
      "outputs": []
    },
    {
      "cell_type": "code",
      "metadata": {
        "id": "E02siZKr5663",
        "colab_type": "code",
        "colab": {}
      },
      "source": [
        "def dumps_json(file_name, json_data, dir=DATA_DIR):\n",
        "\n",
        "    p = pathlib.Path(dir, file_name)\n",
        "\n",
        "    p.parent.mkdir(parents=True, exist_ok=True)\n",
        "\n",
        "    with p.open(mode=\"w\") as fw:\n",
        "        json.dump(json_data, fw, ensure_ascii=False, indent=4)"
      ],
      "execution_count": 127,
      "outputs": []
    },
    {
      "cell_type": "code",
      "metadata": {
        "id": "AHrrm4nZasLI",
        "colab_type": "code",
        "colab": {}
      },
      "source": [
        "# 最終更新日\n",
        "JST = datetime.timezone(datetime.timedelta(hours=+9))\n",
        "dt_now = datetime.datetime.now(JST)"
      ],
      "execution_count": 128,
      "outputs": []
    },
    {
      "cell_type": "code",
      "metadata": {
        "id": "-AbIt9nnbig3",
        "colab_type": "code",
        "colab": {}
      },
      "source": [
        "last_update = dt_now.replace(hour=0, minute=0, second=0, microsecond=0)\n",
        "# last_update -= datetime.timedelta(days=1)"
      ],
      "execution_count": 129,
      "outputs": []
    },
    {
      "cell_type": "markdown",
      "metadata": {
        "id": "_1pbVpuxCDXm",
        "colab_type": "text"
      },
      "source": [
        "## pcr.xlsx"
      ]
    },
    {
      "cell_type": "code",
      "metadata": {
        "id": "Io18c4WKfF9v",
        "colab_type": "code",
        "colab": {}
      },
      "source": [
        "pcr_path = get_file(PCR_XLSX, DOWNLOAD_DIR)"
      ],
      "execution_count": 130,
      "outputs": []
    },
    {
      "cell_type": "code",
      "metadata": {
        "id": "E3FQSlBaBz4N",
        "colab_type": "code",
        "colab": {}
      },
      "source": [
        "df_pcr = pd.read_excel(pcr_path, index_col=\"年月日\").fillna(0).astype(int)"
      ],
      "execution_count": 131,
      "outputs": []
    },
    {
      "cell_type": "code",
      "metadata": {
        "id": "VGowyWJ-bjdX",
        "colab_type": "code",
        "colab": {}
      },
      "source": [
        "df_pcr.rename(\n",
        "    columns={\n",
        "        \"検査件数（合計）\": \"合計\",\n",
        "        \"うち地方衛生研究所等によるPCR検査件数\": \"地方衛生研究所等\",\n",
        "        \"うち民間検査機関等によるPCR検査件数\": \"民間検査機関等_PCR検査\",\n",
        "        \"うち民間検査機関等による抗原検査件数\": \"民間検査機関等_抗原検査\",\n",
        "        \"陽性件数\": \"陽性確認\",\n",
        "    },\n",
        "    inplace=True,\n",
        ")"
      ],
      "execution_count": 132,
      "outputs": []
    },
    {
      "cell_type": "code",
      "metadata": {
        "id": "ld_yiP2R6bbw",
        "colab_type": "code",
        "colab": {}
      },
      "source": [
        "df_pcr[\"民間検査機関等\"] = df_pcr[\"民間検査機関等_PCR検査\"] + df_pcr[\"民間検査機関等_抗原検査\"] "
      ],
      "execution_count": 133,
      "outputs": []
    },
    {
      "cell_type": "code",
      "metadata": {
        "id": "M7o21i2BZPnG",
        "colab_type": "code",
        "colab": {}
      },
      "source": [
        "df_pcr[\"日付\"] = df_pcr.index.map(lambda d: pd.Timestamp(d, tz='Asia/Tokyo').isoformat())"
      ],
      "execution_count": 134,
      "outputs": []
    },
    {
      "cell_type": "code",
      "metadata": {
        "id": "merlZmH60wZm",
        "colab_type": "code",
        "colab": {}
      },
      "source": [
        "df_pcr.to_csv(\"pcr.tsv\", sep=\"\\t\")"
      ],
      "execution_count": 135,
      "outputs": []
    },
    {
      "cell_type": "code",
      "metadata": {
        "id": "BKjuTqsaBz6_",
        "colab_type": "code",
        "colab": {}
      },
      "source": [
        "# inspections_summary\n",
        "\n",
        "df_insp_sum = df_pcr.loc[:, [\"地方衛生研究所等\", \"民間検査機関等\"]].copy()\n",
        "\n",
        "labels = df_insp_sum.index.map(lambda x: f\"{x.month}/{x.day}\")"
      ],
      "execution_count": 136,
      "outputs": []
    },
    {
      "cell_type": "code",
      "metadata": {
        "id": "Bat9wxoSCfWf",
        "colab_type": "code",
        "colab": {}
      },
      "source": [
        "inspections_summary = {\n",
        "    \"data\": df_insp_sum.to_dict(orient=\"list\"),\n",
        "    \"labels\": labels.tolist(),\n",
        "    \"last_update\": last_update.isoformat(),\n",
        "}"
      ],
      "execution_count": 137,
      "outputs": []
    },
    {
      "cell_type": "code",
      "metadata": {
        "id": "rYnfrPiYCVOb",
        "colab_type": "code",
        "colab": {}
      },
      "source": [
        "jsonschema.validate(inspections_summary, INSPECTIONS_SUMMARY_SCHEMA)\n",
        "\n",
        "dumps_json(\"inspections_summary.json\", inspections_summary)"
      ],
      "execution_count": 138,
      "outputs": []
    },
    {
      "cell_type": "code",
      "metadata": {
        "id": "zcGyFB9TtN0H",
        "colab_type": "code",
        "colab": {}
      },
      "source": [
        "# inspections\n",
        "\n",
        "df_insp = df_pcr.loc[:, [\"地方衛生研究所等\", \"民間検査機関等_PCR検査\", \"民間検査機関等_抗原検査\", \"陽性確認\"]].copy()\n",
        "df_insp[\"判明日\"] = df_insp.index.strftime(\"%Y-%m-%d\")"
      ],
      "execution_count": 139,
      "outputs": []
    },
    {
      "cell_type": "code",
      "metadata": {
        "id": "nxwsrQ768e9H",
        "colab_type": "code",
        "colab": {}
      },
      "source": [
        "df_insp.sort_index(inplace=True)"
      ],
      "execution_count": 140,
      "outputs": []
    },
    {
      "cell_type": "code",
      "metadata": {
        "id": "4c3RVjtr7iU-",
        "colab_type": "code",
        "colab": {}
      },
      "source": [
        "insp_dict = [\n",
        "    {\n",
        "        \"判明日\": row[\"判明日\"],\n",
        "        \"地方衛生研究所等\": row[\"地方衛生研究所等\"],\n",
        "        \"民間検査機関等\": {\"PCR検査\": row[\"民間検査機関等_PCR検査\"], \"抗原検査\": row[\"民間検査機関等_抗原検査\"]},\n",
        "        \"陽性確認\": row[\"陽性確認\"],\n",
        "    }\n",
        "    for _, row in df_insp.iterrows()\n",
        "]"
      ],
      "execution_count": 141,
      "outputs": []
    },
    {
      "cell_type": "code",
      "metadata": {
        "id": "NAMFCmGzt3Nv",
        "colab_type": "code",
        "colab": {}
      },
      "source": [
        "inspections = {\n",
        "    \"data\": insp_dict,\n",
        "    \"last_update\": last_update.isoformat(),\n",
        "}"
      ],
      "execution_count": 142,
      "outputs": []
    },
    {
      "cell_type": "code",
      "metadata": {
        "id": "qNaEiQYgt851",
        "colab_type": "code",
        "colab": {}
      },
      "source": [
        "# jsonschema.validate(inspections, INSPECTIONS_SCHEMA)\n",
        "dumps_json(\"inspections.json\", inspections)"
      ],
      "execution_count": 143,
      "outputs": []
    },
    {
      "cell_type": "code",
      "metadata": {
        "id": "r1MYAu9yBz97",
        "colab_type": "code",
        "colab": {}
      },
      "source": [
        "# parent_summary\n",
        "\n",
        "df_pts = df_pcr.loc[:, [\"日付\", \"陽性確認\"]].copy()\n",
        "\n",
        "df_pts.rename(columns={\"陽性確認\": \"小計\"}, inplace=True)"
      ],
      "execution_count": 144,
      "outputs": []
    },
    {
      "cell_type": "code",
      "metadata": {
        "id": "IpH_cQcECj24",
        "colab_type": "code",
        "colab": {}
      },
      "source": [
        "patients_summary = {\n",
        "    \"data\": df_pts.to_dict(orient=\"records\"),\n",
        "    \"last_update\": last_update.isoformat(),\n",
        "}"
      ],
      "execution_count": 145,
      "outputs": []
    },
    {
      "cell_type": "code",
      "metadata": {
        "id": "nkGEW1SaCj83",
        "colab_type": "code",
        "colab": {}
      },
      "source": [
        "jsonschema.validate(patients_summary, PATIENTS_SUMMARY_SCHEMA)\n",
        "\n",
        "dumps_json(\"patients_summary.json\", patients_summary)"
      ],
      "execution_count": 146,
      "outputs": []
    },
    {
      "cell_type": "markdown",
      "metadata": {
        "id": "EXKm4d_sDzrI",
        "colab_type": "text"
      },
      "source": [
        "## kanjya.xlsx"
      ]
    },
    {
      "cell_type": "code",
      "metadata": {
        "id": "OABVe2Prf3du",
        "colab_type": "code",
        "colab": {}
      },
      "source": [
        "p = get_file(KANJA_HTML, DOWNLOAD_DIR)\n",
        "\n",
        "soup = BeautifulSoup(p.open(encoding='utf-8'), \"html.parser\")"
      ],
      "execution_count": 147,
      "outputs": []
    },
    {
      "cell_type": "code",
      "metadata": {
        "id": "tSOAaF6kZp7v",
        "colab_type": "code",
        "colab": {}
      },
      "source": [
        "import re"
      ],
      "execution_count": 148,
      "outputs": []
    },
    {
      "cell_type": "code",
      "metadata": {
        "id": "fquaSlsChfCX",
        "colab_type": "code",
        "colab": {}
      },
      "source": [
        "# tag = soup.find(\"a\", class_=\"icon_excel\")\n",
        "\n",
        "tag = soup.find(\"a\", href=re.compile(\".xls[mx]?$\"))\n",
        "\n",
        "link = urljoin(KANJA_HTML, tag.get(\"href\"))"
      ],
      "execution_count": 149,
      "outputs": []
    },
    {
      "cell_type": "code",
      "metadata": {
        "id": "jfk6xIa2fXhm",
        "colab_type": "code",
        "colab": {}
      },
      "source": [
        "kanja_path = get_file(link, DOWNLOAD_DIR)"
      ],
      "execution_count": 150,
      "outputs": []
    },
    {
      "cell_type": "code",
      "metadata": {
        "id": "qxpb3vYZCkAP",
        "colab_type": "code",
        "colab": {}
      },
      "source": [
        "df_head = pd.read_excel(kanja_path, header=None, skiprows=3).dropna(how=\"all\", axis=1)\n",
        "\n",
        "df_head.columns = [\"\".join(i).strip() for i in df_head.head(2).fillna(\"\").T.values]\n",
        "df_tmp = df_head.iloc[2:, :].copy().reset_index(drop=True)\n",
        "\n",
        "df_kanja = df_tmp[df_tmp[\"番号\"].notnull()].copy()\n",
        "\n",
        "df_kanja.dropna(how=\"all\", axis=1, inplace=True)\n",
        "\n",
        "df_kanja.columns = df_kanja.columns.map(lambda s: s.replace(\"\\n\", \"\"))\n",
        "\n",
        "df_kanja[\"番号\"] = df_kanja[\"番号\"].astype(int)\n",
        "df_kanja[\"年代\"] = df_kanja[\"年代\"].astype(str)\n",
        "df_kanja[\"年代\"] = df_kanja[\"年代\"].replace({\"10?[歳代]未満\": \"10歳未満\", \"90(歳以上)?\": \"90歳以上\", \"([1-8]0$)\": r\"\\1代\"}, regex=True)\n",
        "\n",
        "flg_is_serial = df_kanja[\"発表日\"].astype(\"str\").str.isdigit()\n",
        "\n",
        "fromSerial = pd.to_datetime(df_kanja.loc[flg_is_serial, \"発表日\"].astype(float), unit=\"D\", origin=pd.Timestamp(\"1899/12/30\"))\n",
        "fromString = pd.to_datetime(df_kanja.loc[~flg_is_serial, \"発表日\"])\n",
        "\n",
        "df_kanja[\"発表日\"] = pd.concat([fromString, fromSerial])\n",
        "\n",
        "df_kanja[\"備考欄\"] = df_kanja[\"備考欄\"].str.replace(\"\\n\", \"\")\n",
        "\n",
        "df_kanja.set_index(\"番号\", inplace=True)"
      ],
      "execution_count": 151,
      "outputs": []
    },
    {
      "cell_type": "code",
      "metadata": {
        "id": "J-0H6NmSaHt8",
        "colab_type": "code",
        "colab": {}
      },
      "source": [
        "# 欠番\n",
        "df_kanja = df_kanja.drop(738)"
      ],
      "execution_count": 152,
      "outputs": []
    },
    {
      "cell_type": "code",
      "metadata": {
        "id": "EOcy78R2Dwv3",
        "colab_type": "code",
        "colab": {}
      },
      "source": [
        "df_kanja.to_csv(\"kanja.tsv\", sep=\"\\t\")"
      ],
      "execution_count": 153,
      "outputs": []
    },
    {
      "cell_type": "code",
      "metadata": {
        "id": "hNahpt-pDw2L",
        "colab_type": "code",
        "colab": {
          "base_uri": "https://localhost:8080/",
          "height": 54
        },
        "outputId": "c0f78642-f628-42e0-a0de-4f05416d81a1"
      },
      "source": [
        "# 陽性患者数（日別）\n",
        "\"\"\"\n",
        "df_pts = (\n",
        "    df_kanja[\"発表日\"]\n",
        "    .value_counts()\n",
        "    .sort_index()\n",
        "    .asfreq(\"D\", fill_value=0)\n",
        "    .reset_index()\n",
        ")\n",
        "\n",
        "df_pts[\"日付\"] = df_pts[\"index\"].dt.strftime(\"%Y-%m-%d\")\n",
        "\n",
        "df_pts.rename(columns={\"発表日\": \"小計\"}, inplace=True)\n",
        "\n",
        "df_pts.drop(\"index\", axis=1, inplace=True)\n",
        "\n",
        "df_pts\n",
        "\"\"\""
      ],
      "execution_count": 154,
      "outputs": [
        {
          "output_type": "execute_result",
          "data": {
            "application/vnd.google.colaboratory.intrinsic+json": {
              "type": "string"
            },
            "text/plain": [
              "'\\ndf_pts = (\\n    df_kanja[\"発表日\"]\\n    .value_counts()\\n    .sort_index()\\n    .asfreq(\"D\", fill_value=0)\\n    .reset_index()\\n)\\n\\ndf_pts[\"日付\"] = df_pts[\"index\"].dt.strftime(\"%Y-%m-%d\")\\n\\ndf_pts.rename(columns={\"発表日\": \"小計\"}, inplace=True)\\n\\ndf_pts.drop(\"index\", axis=1, inplace=True)\\n\\ndf_pts\\n'"
            ]
          },
          "metadata": {
            "tags": []
          },
          "execution_count": 154
        }
      ]
    },
    {
      "cell_type": "code",
      "metadata": {
        "id": "6C55vNCAEU9X",
        "colab_type": "code",
        "colab": {
          "base_uri": "https://localhost:8080/",
          "height": 36
        },
        "outputId": "7a953168-f2de-4d82-caf6-a520440d34bc"
      },
      "source": [
        "\"\"\"\n",
        "patients_summary = {\n",
        "    \"data\": df_pts.to_dict(orient=\"records\"),\n",
        "    \"last_update\": last_update.strftime(\"%Y-%m-%d %H:%M\"),\n",
        "}\n",
        "\"\"\""
      ],
      "execution_count": 155,
      "outputs": [
        {
          "output_type": "execute_result",
          "data": {
            "application/vnd.google.colaboratory.intrinsic+json": {
              "type": "string"
            },
            "text/plain": [
              "'\\npatients_summary = {\\n    \"data\": df_pts.to_dict(orient=\"records\"),\\n    \"last_update\": last_update.strftime(\"%Y-%m-%d %H:%M\"),\\n}\\n'"
            ]
          },
          "metadata": {
            "tags": []
          },
          "execution_count": 155
        }
      ]
    },
    {
      "cell_type": "code",
      "metadata": {
        "id": "iIkDdxn5Dw5i",
        "colab_type": "code",
        "colab": {}
      },
      "source": [
        "jsonschema.validate(patients_summary, PATIENTS_SUMMARY_SCHEMA)\n",
        "\n",
        "dumps_json(\"patients_summary.json\", patients_summary)"
      ],
      "execution_count": 156,
      "outputs": []
    },
    {
      "cell_type": "code",
      "metadata": {
        "id": "E48gD9ZtDw8Z",
        "colab_type": "code",
        "colab": {
          "base_uri": "https://localhost:8080/",
          "height": 424
        },
        "outputId": "7de62b74-3ef9-45cd-9f96-da74217d81cd"
      },
      "source": [
        "# 陽性患者情報\n",
        "\n",
        "df_pt = df_kanja.loc[:, [\"発表日\", \"居住地\", \"年代\", \"性別\", \"備考欄\"]].sort_index().reset_index()\n",
        "df_pt.head(10)\n",
        "\n",
        "df_pt[\"退院\"] = None\n",
        "\n",
        "df_pt[\"date\"] = df_pt[\"発表日\"].dt.strftime(\"%Y-%m-%d\")\n",
        "df_pt[\"リリース日\"] = df_pt[\"発表日\"].apply(lambda d: pd.Timestamp(d, tz='Asia/Tokyo').isoformat())\n",
        "\n",
        "week = [\"月\", \"火\", \"水\", \"木\", \"金\", \"土\", \"日\"]\n",
        "\n",
        "df_pt[\"曜日\"] = df_pt[\"発表日\"].dt.dayofweek.apply(lambda x: week[x])\n",
        "\n",
        "df_pt[\"備考欄\"] = df_pt[\"備考欄\"].str.replace(\"NO.|N0.|NO,|N0,|No,\", \"No.\")\n",
        "df_pt[\"備考欄\"] = df_pt[\"備考欄\"].str.replace(\"・\", \"、\")\n",
        "df_pt[\"備考欄\"] = df_pt[\"備考欄\"].fillna(\"\")\n",
        "df_pt.rename(columns={\"番号\": \"No\", \"備考欄\": \"備考\"}, inplace=True)\n",
        "\n",
        "df_pt.drop(\"発表日\", axis=1, inplace=True)\n",
        "\n",
        "df_pt"
      ],
      "execution_count": 157,
      "outputs": [
        {
          "output_type": "execute_result",
          "data": {
            "text/html": [
              "<div>\n",
              "<style scoped>\n",
              "    .dataframe tbody tr th:only-of-type {\n",
              "        vertical-align: middle;\n",
              "    }\n",
              "\n",
              "    .dataframe tbody tr th {\n",
              "        vertical-align: top;\n",
              "    }\n",
              "\n",
              "    .dataframe thead th {\n",
              "        text-align: right;\n",
              "    }\n",
              "</style>\n",
              "<table border=\"1\" class=\"dataframe\">\n",
              "  <thead>\n",
              "    <tr style=\"text-align: right;\">\n",
              "      <th></th>\n",
              "      <th>No</th>\n",
              "      <th>居住地</th>\n",
              "      <th>年代</th>\n",
              "      <th>性別</th>\n",
              "      <th>備考</th>\n",
              "      <th>退院</th>\n",
              "      <th>date</th>\n",
              "      <th>リリース日</th>\n",
              "      <th>曜日</th>\n",
              "    </tr>\n",
              "  </thead>\n",
              "  <tbody>\n",
              "    <tr>\n",
              "      <th>0</th>\n",
              "      <td>1</td>\n",
              "      <td>西宮市</td>\n",
              "      <td>40代</td>\n",
              "      <td>男性</td>\n",
              "      <td>特定できず</td>\n",
              "      <td>None</td>\n",
              "      <td>2020-03-01</td>\n",
              "      <td>2020-03-01T00:00:00+09:00</td>\n",
              "      <td>日</td>\n",
              "    </tr>\n",
              "    <tr>\n",
              "      <th>1</th>\n",
              "      <td>2</td>\n",
              "      <td>神戸市</td>\n",
              "      <td>40代</td>\n",
              "      <td>男性</td>\n",
              "      <td>感染経路確認済</td>\n",
              "      <td>None</td>\n",
              "      <td>2020-03-03</td>\n",
              "      <td>2020-03-03T00:00:00+09:00</td>\n",
              "      <td>火</td>\n",
              "    </tr>\n",
              "    <tr>\n",
              "      <th>2</th>\n",
              "      <td>3</td>\n",
              "      <td>神戸市</td>\n",
              "      <td>40代</td>\n",
              "      <td>女性</td>\n",
              "      <td>2/15、16に大阪のライブハウスArcに参加</td>\n",
              "      <td>None</td>\n",
              "      <td>2020-03-03</td>\n",
              "      <td>2020-03-03T00:00:00+09:00</td>\n",
              "      <td>火</td>\n",
              "    </tr>\n",
              "    <tr>\n",
              "      <th>3</th>\n",
              "      <td>4</td>\n",
              "      <td>福崎町</td>\n",
              "      <td>50代</td>\n",
              "      <td>女性</td>\n",
              "      <td>2/15、16に大阪のライブハウスArcに参加</td>\n",
              "      <td>None</td>\n",
              "      <td>2020-03-05</td>\n",
              "      <td>2020-03-05T00:00:00+09:00</td>\n",
              "      <td>木</td>\n",
              "    </tr>\n",
              "    <tr>\n",
              "      <th>4</th>\n",
              "      <td>5</td>\n",
              "      <td>姫路市</td>\n",
              "      <td>40代</td>\n",
              "      <td>男性</td>\n",
              "      <td>2/19に大阪のSoap operaライブに参加</td>\n",
              "      <td>None</td>\n",
              "      <td>2020-03-06</td>\n",
              "      <td>2020-03-06T00:00:00+09:00</td>\n",
              "      <td>金</td>\n",
              "    </tr>\n",
              "    <tr>\n",
              "      <th>...</th>\n",
              "      <td>...</td>\n",
              "      <td>...</td>\n",
              "      <td>...</td>\n",
              "      <td>...</td>\n",
              "      <td>...</td>\n",
              "      <td>...</td>\n",
              "      <td>...</td>\n",
              "      <td>...</td>\n",
              "      <td>...</td>\n",
              "    </tr>\n",
              "    <tr>\n",
              "      <th>1858</th>\n",
              "      <td>1860</td>\n",
              "      <td>川西市</td>\n",
              "      <td>60代</td>\n",
              "      <td>男性</td>\n",
              "      <td>No1728の濃厚接触者</td>\n",
              "      <td>None</td>\n",
              "      <td>2020-08-15</td>\n",
              "      <td>2020-08-15T00:00:00+09:00</td>\n",
              "      <td>土</td>\n",
              "    </tr>\n",
              "    <tr>\n",
              "      <th>1859</th>\n",
              "      <td>1861</td>\n",
              "      <td>伊丹健康福祉事務所管内</td>\n",
              "      <td>40代</td>\n",
              "      <td>男性</td>\n",
              "      <td>No1728の濃厚接触者</td>\n",
              "      <td>None</td>\n",
              "      <td>2020-08-15</td>\n",
              "      <td>2020-08-15T00:00:00+09:00</td>\n",
              "      <td>土</td>\n",
              "    </tr>\n",
              "    <tr>\n",
              "      <th>1860</th>\n",
              "      <td>1862</td>\n",
              "      <td>加古川市</td>\n",
              "      <td>40代</td>\n",
              "      <td>男性</td>\n",
              "      <td>行動歴調査中</td>\n",
              "      <td>None</td>\n",
              "      <td>2020-08-15</td>\n",
              "      <td>2020-08-15T00:00:00+09:00</td>\n",
              "      <td>土</td>\n",
              "    </tr>\n",
              "    <tr>\n",
              "      <th>1861</th>\n",
              "      <td>1863</td>\n",
              "      <td>加東健康福祉事務所管内</td>\n",
              "      <td>70代</td>\n",
              "      <td>女性</td>\n",
              "      <td>行動歴調査中</td>\n",
              "      <td>None</td>\n",
              "      <td>2020-08-15</td>\n",
              "      <td>2020-08-15T00:00:00+09:00</td>\n",
              "      <td>土</td>\n",
              "    </tr>\n",
              "    <tr>\n",
              "      <th>1862</th>\n",
              "      <td>1864</td>\n",
              "      <td>加東健康福祉事務所管内</td>\n",
              "      <td>50代</td>\n",
              "      <td>女性</td>\n",
              "      <td>行動歴調査中</td>\n",
              "      <td>None</td>\n",
              "      <td>2020-08-15</td>\n",
              "      <td>2020-08-15T00:00:00+09:00</td>\n",
              "      <td>土</td>\n",
              "    </tr>\n",
              "  </tbody>\n",
              "</table>\n",
              "<p>1863 rows × 9 columns</p>\n",
              "</div>"
            ],
            "text/plain": [
              "        No          居住地   年代  ...        date                      リリース日 曜日\n",
              "0        1          西宮市  40代  ...  2020-03-01  2020-03-01T00:00:00+09:00  日\n",
              "1        2          神戸市  40代  ...  2020-03-03  2020-03-03T00:00:00+09:00  火\n",
              "2        3          神戸市  40代  ...  2020-03-03  2020-03-03T00:00:00+09:00  火\n",
              "3        4          福崎町  50代  ...  2020-03-05  2020-03-05T00:00:00+09:00  木\n",
              "4        5          姫路市  40代  ...  2020-03-06  2020-03-06T00:00:00+09:00  金\n",
              "...    ...          ...  ...  ...         ...                        ... ..\n",
              "1858  1860          川西市  60代  ...  2020-08-15  2020-08-15T00:00:00+09:00  土\n",
              "1859  1861  伊丹健康福祉事務所管内  40代  ...  2020-08-15  2020-08-15T00:00:00+09:00  土\n",
              "1860  1862         加古川市  40代  ...  2020-08-15  2020-08-15T00:00:00+09:00  土\n",
              "1861  1863  加東健康福祉事務所管内  70代  ...  2020-08-15  2020-08-15T00:00:00+09:00  土\n",
              "1862  1864  加東健康福祉事務所管内  50代  ...  2020-08-15  2020-08-15T00:00:00+09:00  土\n",
              "\n",
              "[1863 rows x 9 columns]"
            ]
          },
          "metadata": {
            "tags": []
          },
          "execution_count": 157
        }
      ]
    },
    {
      "cell_type": "code",
      "metadata": {
        "id": "hsejNrMkEOIo",
        "colab_type": "code",
        "colab": {}
      },
      "source": [
        "patients = {\n",
        "    \"data\": df_pt.to_dict(orient=\"records\"),\n",
        "    \"last_update\": last_update.isoformat(),\n",
        "}"
      ],
      "execution_count": 158,
      "outputs": []
    },
    {
      "cell_type": "code",
      "metadata": {
        "id": "Dc8pW64x43wo",
        "colab_type": "code",
        "colab": {}
      },
      "source": [
        "jsonschema.validate(patients, PATIENTS_SCHEMA)\n",
        "\n",
        "dumps_json(\"patients.json\", patients)"
      ],
      "execution_count": 159,
      "outputs": []
    },
    {
      "cell_type": "code",
      "metadata": {
        "id": "ekQLzuX3EOOh",
        "colab_type": "code",
        "colab": {}
      },
      "source": [
        "# 年代集計\n",
        "\n",
        "age_list = [\"10歳未満\",\"10代\", \"20代\", \"30代\", \"40代\", \"50代\", \"60代\", \"70代\", \"80代\", \"90歳以上\", \"非公表\"]\n",
        "\n",
        "df_age = df_kanja[\"年代\"].value_counts().sort_index().reindex(age_list, fill_value=0)\n",
        "\n",
        "df_age = df_age.astype(int)"
      ],
      "execution_count": 160,
      "outputs": []
    },
    {
      "cell_type": "code",
      "metadata": {
        "id": "1mAAXEhjEORq",
        "colab_type": "code",
        "colab": {}
      },
      "source": [
        "age = {\n",
        "    \"data\": df_age.to_dict(),\n",
        "    \"last_update\": last_update.isoformat(),\n",
        "}"
      ],
      "execution_count": 161,
      "outputs": []
    },
    {
      "cell_type": "code",
      "metadata": {
        "id": "bWEsrIOKEOUq",
        "colab_type": "code",
        "colab": {}
      },
      "source": [
        "jsonschema.validate(age, AGE_SCHEMA)\n",
        "\n",
        "dumps_json(\"age.json\", age)"
      ],
      "execution_count": 162,
      "outputs": []
    },
    {
      "cell_type": "code",
      "metadata": {
        "id": "o4sLD-zdE4Pn",
        "colab_type": "code",
        "colab": {
          "base_uri": "https://localhost:8080/",
          "height": 455
        },
        "outputId": "18719331-e37e-48e0-d94c-1cba249cd3ce"
      },
      "source": [
        "df_ages = pd.crosstab(df_kanja[\"発表日\"], df_kanja[\"年代\"]).reindex(\n",
        "    age_list, axis=1, fill_value=0\n",
        ")\n",
        "\n",
        "if df_pcr.index[-1] not in df_ages.index:\n",
        "    df_ages.loc[df_pcr.index[-1]] = 0\n",
        "\n",
        "df_ages = df_ages.astype(int)\n",
        "df_ages.sort_index(inplace=True)\n",
        "\n",
        "df_agesum = df_ages.asfreq(\"D\", fill_value=0)\n",
        "\n",
        "df_agesum"
      ],
      "execution_count": 163,
      "outputs": [
        {
          "output_type": "execute_result",
          "data": {
            "text/html": [
              "<div>\n",
              "<style scoped>\n",
              "    .dataframe tbody tr th:only-of-type {\n",
              "        vertical-align: middle;\n",
              "    }\n",
              "\n",
              "    .dataframe tbody tr th {\n",
              "        vertical-align: top;\n",
              "    }\n",
              "\n",
              "    .dataframe thead th {\n",
              "        text-align: right;\n",
              "    }\n",
              "</style>\n",
              "<table border=\"1\" class=\"dataframe\">\n",
              "  <thead>\n",
              "    <tr style=\"text-align: right;\">\n",
              "      <th>年代</th>\n",
              "      <th>10歳未満</th>\n",
              "      <th>10代</th>\n",
              "      <th>20代</th>\n",
              "      <th>30代</th>\n",
              "      <th>40代</th>\n",
              "      <th>50代</th>\n",
              "      <th>60代</th>\n",
              "      <th>70代</th>\n",
              "      <th>80代</th>\n",
              "      <th>90歳以上</th>\n",
              "      <th>非公表</th>\n",
              "    </tr>\n",
              "    <tr>\n",
              "      <th>発表日</th>\n",
              "      <th></th>\n",
              "      <th></th>\n",
              "      <th></th>\n",
              "      <th></th>\n",
              "      <th></th>\n",
              "      <th></th>\n",
              "      <th></th>\n",
              "      <th></th>\n",
              "      <th></th>\n",
              "      <th></th>\n",
              "      <th></th>\n",
              "    </tr>\n",
              "  </thead>\n",
              "  <tbody>\n",
              "    <tr>\n",
              "      <th>2020-03-01</th>\n",
              "      <td>0</td>\n",
              "      <td>0</td>\n",
              "      <td>0</td>\n",
              "      <td>0</td>\n",
              "      <td>1</td>\n",
              "      <td>0</td>\n",
              "      <td>0</td>\n",
              "      <td>0</td>\n",
              "      <td>0</td>\n",
              "      <td>0</td>\n",
              "      <td>0</td>\n",
              "    </tr>\n",
              "    <tr>\n",
              "      <th>2020-03-02</th>\n",
              "      <td>0</td>\n",
              "      <td>0</td>\n",
              "      <td>0</td>\n",
              "      <td>0</td>\n",
              "      <td>0</td>\n",
              "      <td>0</td>\n",
              "      <td>0</td>\n",
              "      <td>0</td>\n",
              "      <td>0</td>\n",
              "      <td>0</td>\n",
              "      <td>0</td>\n",
              "    </tr>\n",
              "    <tr>\n",
              "      <th>2020-03-03</th>\n",
              "      <td>0</td>\n",
              "      <td>0</td>\n",
              "      <td>0</td>\n",
              "      <td>0</td>\n",
              "      <td>2</td>\n",
              "      <td>0</td>\n",
              "      <td>0</td>\n",
              "      <td>0</td>\n",
              "      <td>0</td>\n",
              "      <td>0</td>\n",
              "      <td>0</td>\n",
              "    </tr>\n",
              "    <tr>\n",
              "      <th>2020-03-04</th>\n",
              "      <td>0</td>\n",
              "      <td>0</td>\n",
              "      <td>0</td>\n",
              "      <td>0</td>\n",
              "      <td>0</td>\n",
              "      <td>0</td>\n",
              "      <td>0</td>\n",
              "      <td>0</td>\n",
              "      <td>0</td>\n",
              "      <td>0</td>\n",
              "      <td>0</td>\n",
              "    </tr>\n",
              "    <tr>\n",
              "      <th>2020-03-05</th>\n",
              "      <td>0</td>\n",
              "      <td>0</td>\n",
              "      <td>0</td>\n",
              "      <td>0</td>\n",
              "      <td>0</td>\n",
              "      <td>1</td>\n",
              "      <td>0</td>\n",
              "      <td>0</td>\n",
              "      <td>0</td>\n",
              "      <td>0</td>\n",
              "      <td>0</td>\n",
              "    </tr>\n",
              "    <tr>\n",
              "      <th>...</th>\n",
              "      <td>...</td>\n",
              "      <td>...</td>\n",
              "      <td>...</td>\n",
              "      <td>...</td>\n",
              "      <td>...</td>\n",
              "      <td>...</td>\n",
              "      <td>...</td>\n",
              "      <td>...</td>\n",
              "      <td>...</td>\n",
              "      <td>...</td>\n",
              "      <td>...</td>\n",
              "    </tr>\n",
              "    <tr>\n",
              "      <th>2020-08-11</th>\n",
              "      <td>5</td>\n",
              "      <td>2</td>\n",
              "      <td>7</td>\n",
              "      <td>5</td>\n",
              "      <td>5</td>\n",
              "      <td>3</td>\n",
              "      <td>3</td>\n",
              "      <td>0</td>\n",
              "      <td>0</td>\n",
              "      <td>0</td>\n",
              "      <td>0</td>\n",
              "    </tr>\n",
              "    <tr>\n",
              "      <th>2020-08-12</th>\n",
              "      <td>0</td>\n",
              "      <td>2</td>\n",
              "      <td>2</td>\n",
              "      <td>6</td>\n",
              "      <td>6</td>\n",
              "      <td>5</td>\n",
              "      <td>3</td>\n",
              "      <td>4</td>\n",
              "      <td>2</td>\n",
              "      <td>6</td>\n",
              "      <td>0</td>\n",
              "    </tr>\n",
              "    <tr>\n",
              "      <th>2020-08-13</th>\n",
              "      <td>2</td>\n",
              "      <td>4</td>\n",
              "      <td>13</td>\n",
              "      <td>4</td>\n",
              "      <td>7</td>\n",
              "      <td>7</td>\n",
              "      <td>6</td>\n",
              "      <td>2</td>\n",
              "      <td>1</td>\n",
              "      <td>2</td>\n",
              "      <td>0</td>\n",
              "    </tr>\n",
              "    <tr>\n",
              "      <th>2020-08-14</th>\n",
              "      <td>0</td>\n",
              "      <td>1</td>\n",
              "      <td>7</td>\n",
              "      <td>2</td>\n",
              "      <td>5</td>\n",
              "      <td>8</td>\n",
              "      <td>5</td>\n",
              "      <td>2</td>\n",
              "      <td>2</td>\n",
              "      <td>2</td>\n",
              "      <td>0</td>\n",
              "    </tr>\n",
              "    <tr>\n",
              "      <th>2020-08-15</th>\n",
              "      <td>2</td>\n",
              "      <td>5</td>\n",
              "      <td>9</td>\n",
              "      <td>10</td>\n",
              "      <td>7</td>\n",
              "      <td>10</td>\n",
              "      <td>5</td>\n",
              "      <td>3</td>\n",
              "      <td>2</td>\n",
              "      <td>0</td>\n",
              "      <td>0</td>\n",
              "    </tr>\n",
              "  </tbody>\n",
              "</table>\n",
              "<p>168 rows × 11 columns</p>\n",
              "</div>"
            ],
            "text/plain": [
              "年代          10歳未満  10代  20代  30代  40代  50代  60代  70代  80代  90歳以上  非公表\n",
              "発表日                                                                  \n",
              "2020-03-01      0    0    0    0    1    0    0    0    0      0    0\n",
              "2020-03-02      0    0    0    0    0    0    0    0    0      0    0\n",
              "2020-03-03      0    0    0    0    2    0    0    0    0      0    0\n",
              "2020-03-04      0    0    0    0    0    0    0    0    0      0    0\n",
              "2020-03-05      0    0    0    0    0    1    0    0    0      0    0\n",
              "...           ...  ...  ...  ...  ...  ...  ...  ...  ...    ...  ...\n",
              "2020-08-11      5    2    7    5    5    3    3    0    0      0    0\n",
              "2020-08-12      0    2    2    6    6    5    3    4    2      6    0\n",
              "2020-08-13      2    4   13    4    7    7    6    2    1      2    0\n",
              "2020-08-14      0    1    7    2    5    8    5    2    2      2    0\n",
              "2020-08-15      2    5    9   10    7   10    5    3    2      0    0\n",
              "\n",
              "[168 rows x 11 columns]"
            ]
          },
          "metadata": {
            "tags": []
          },
          "execution_count": 163
        }
      ]
    },
    {
      "cell_type": "code",
      "metadata": {
        "id": "-7IURnJTE4Sr",
        "colab_type": "code",
        "colab": {}
      },
      "source": [
        "labels = df_agesum.index.map(lambda d: f\"{d.month}/{d.day}\")"
      ],
      "execution_count": 164,
      "outputs": []
    },
    {
      "cell_type": "code",
      "metadata": {
        "id": "fxzc9U1VE4Vm",
        "colab_type": "code",
        "colab": {}
      },
      "source": [
        "age_summary = {\n",
        "    \"data\": df_agesum.to_dict(orient=\"list\"),\n",
        "    \"labels\": labels.tolist(),\n",
        "    \"last_update\": last_update.isoformat(),\n",
        "}"
      ],
      "execution_count": 165,
      "outputs": []
    },
    {
      "cell_type": "code",
      "metadata": {
        "id": "aM6yKRUGE4Ym",
        "colab_type": "code",
        "colab": {}
      },
      "source": [
        "jsonschema.validate(age_summary, AGE_SUMMARY_SCHEMA)\n",
        "\n",
        "dumps_json(\"age_summary.json\", age_summary)"
      ],
      "execution_count": 166,
      "outputs": []
    },
    {
      "cell_type": "code",
      "metadata": {
        "id": "C6g7-wHoE4cO",
        "colab_type": "code",
        "colab": {}
      },
      "source": [
        "# クラスタ概要\n",
        "\n",
        "df_cluster_sum = df_kanja.loc[:, \"認定こども園\":\"特定できず\"].copy().notnull().sum()"
      ],
      "execution_count": 167,
      "outputs": []
    },
    {
      "cell_type": "code",
      "metadata": {
        "id": "wQ5pZ66YFMzb",
        "colab_type": "code",
        "colab": {}
      },
      "source": [
        "clusters_summary = {\n",
        "    \"data\": df_cluster_sum.to_dict(),\n",
        "    \"last_update\": last_update.isoformat(),\n",
        "}"
      ],
      "execution_count": 168,
      "outputs": []
    },
    {
      "cell_type": "code",
      "metadata": {
        "id": "kYoLUbXiFM2o",
        "colab_type": "code",
        "colab": {}
      },
      "source": [
        "jsonschema.validate(clusters_summary, CLUSTERS_SUMMARY_SCHEMA)\n",
        "\n",
        "dumps_json(\"clusters_summary.json\", clusters_summary)"
      ],
      "execution_count": 169,
      "outputs": []
    },
    {
      "cell_type": "code",
      "metadata": {
        "id": "56_J6al5FM5n",
        "colab_type": "code",
        "colab": {}
      },
      "source": [
        "# クラスタ\n",
        "\n",
        "df_clusters = df_kanja.loc[:, \"認定こども園\":\"特定できず\"].copy().fillna(0)"
      ],
      "execution_count": 170,
      "outputs": []
    },
    {
      "cell_type": "code",
      "metadata": {
        "id": "TXproIbA84q4",
        "colab_type": "code",
        "colab": {}
      },
      "source": [
        "df_clusters[df_clusters != 0] = 1"
      ],
      "execution_count": 171,
      "outputs": []
    },
    {
      "cell_type": "code",
      "metadata": {
        "id": "NgU1WgNG8h16",
        "colab_type": "code",
        "colab": {}
      },
      "source": [
        "df_clusters[\"発表日\"] = df_kanja[\"発表日\"]"
      ],
      "execution_count": 172,
      "outputs": []
    },
    {
      "cell_type": "code",
      "metadata": {
        "id": "Z330Et_P8BWj",
        "colab_type": "code",
        "colab": {}
      },
      "source": [
        "pv_clusters = df_clusters.pivot_table(index=\"発表日\", aggfunc=\"sum\")"
      ],
      "execution_count": 173,
      "outputs": []
    },
    {
      "cell_type": "code",
      "metadata": {
        "id": "aalNoxIkrmy8",
        "colab_type": "code",
        "colab": {}
      },
      "source": [
        "if df_pcr.index[-1] not in pv_clusters.index:\n",
        "    pv_clusters.loc[df_pcr.index[-1]] = 0\n",
        "\n",
        "pv_clusters.sort_index(inplace=True)"
      ],
      "execution_count": 174,
      "outputs": []
    },
    {
      "cell_type": "code",
      "metadata": {
        "id": "MKIjIVa47DL2",
        "colab_type": "code",
        "colab": {}
      },
      "source": [
        "pv_clusters = pv_clusters.asfreq(\"D\", fill_value=0)\n",
        "\n",
        "pv_clusters[\"日付\"] = pv_clusters.index.map(lambda d: pd.Timestamp(d, tz='Asia/Tokyo').isoformat())"
      ],
      "execution_count": 175,
      "outputs": []
    },
    {
      "cell_type": "code",
      "metadata": {
        "id": "uztyhc-JFM8-",
        "colab_type": "code",
        "colab": {}
      },
      "source": [
        "clusters = {\n",
        "    \"data\": pv_clusters.to_dict(orient=\"recodes\"),\n",
        "    \"last_update\": last_update.isoformat(),\n",
        "}"
      ],
      "execution_count": 176,
      "outputs": []
    },
    {
      "cell_type": "code",
      "metadata": {
        "id": "2jzMYwd0FUmB",
        "colab_type": "code",
        "colab": {}
      },
      "source": [
        "jsonschema.validate(clusters, CLUSTERS_SCHEMA)\n",
        "dumps_json(\"clusters.json\", clusters)"
      ],
      "execution_count": 177,
      "outputs": []
    },
    {
      "cell_type": "code",
      "metadata": {
        "id": "xKR55Q97Dw_Z",
        "colab_type": "code",
        "colab": {
          "base_uri": "https://localhost:8080/",
          "height": 35
        },
        "outputId": "aef090ad-7973-41e6-a031-029b82b7b8a8"
      },
      "source": [
        "# 重複者\n",
        "\n",
        "(df_kanja.loc[:, \"認定こども園\":].copy().notnull().sum(axis=1) > 1).sum()"
      ],
      "execution_count": 178,
      "outputs": [
        {
          "output_type": "execute_result",
          "data": {
            "text/plain": [
              "4"
            ]
          },
          "metadata": {
            "tags": []
          },
          "execution_count": 178
        }
      ]
    },
    {
      "cell_type": "markdown",
      "metadata": {
        "id": "gug1ffSBFixf",
        "colab_type": "text"
      },
      "source": [
        "## yousei.xlsx"
      ]
    },
    {
      "cell_type": "code",
      "metadata": {
        "id": "kODIiANyfhdN",
        "colab_type": "code",
        "colab": {}
      },
      "source": [
        "yousei_path = get_file(YOUSEI_XLSX, DOWNLOAD_DIR)"
      ],
      "execution_count": 179,
      "outputs": []
    },
    {
      "cell_type": "code",
      "metadata": {
        "id": "FgEnLr8pFhWI",
        "colab_type": "code",
        "colab": {}
      },
      "source": [
        "df_yousei = pd.read_excel(yousei_path, index_col=\"発表年月日\")\n",
        "\n",
        "df_yousei.columns = df_yousei.columns.map(lambda s: s.replace(\"（累計）\", \"\").strip())\n",
        "\n",
        "# df_yousei.index += pd.to_timedelta(\"1 days\")\n",
        "\n",
        "df_yousei.rename(columns={\"入院中（合計）\": \"入院中\", \"入院中（中等症以下）\": \"軽症・中等症\", \"入院中（重症）\": \"重症\", \"陽性者数\": \"陽性患者数\"}, inplace=True)\n",
        "\n",
        "df_yousei.drop(\"発表時間\", axis=1, inplace=True)"
      ],
      "execution_count": 180,
      "outputs": []
    },
    {
      "cell_type": "code",
      "metadata": {
        "id": "ZDDIdyIl5IB-",
        "colab_type": "code",
        "colab": {}
      },
      "source": [
        "df_yousei.to_csv(\"yousei.tsv\", sep=\"\\t\")"
      ],
      "execution_count": 181,
      "outputs": []
    },
    {
      "cell_type": "code",
      "metadata": {
        "id": "xlI_55c5FiM_",
        "colab_type": "code",
        "colab": {}
      },
      "source": [
        "d = df_yousei.iloc[-1].to_dict()"
      ],
      "execution_count": 182,
      "outputs": []
    },
    {
      "cell_type": "code",
      "metadata": {
        "id": "0foKI_aFgfTI",
        "colab_type": "code",
        "colab": {
          "base_uri": "https://localhost:8080/",
          "height": 160
        },
        "outputId": "c2e9bb8e-cc20-41d5-e5af-0d2295677e84"
      },
      "source": [
        "d"
      ],
      "execution_count": 183,
      "outputs": [
        {
          "output_type": "execute_result",
          "data": {
            "text/plain": [
              "{'入院中': 219,\n",
              " '宿泊療養': 60,\n",
              " '検査実施人数': 35836,\n",
              " '死亡': 48,\n",
              " '軽症・中等症': 205,\n",
              " '退院': 1536,\n",
              " '重症': 14,\n",
              " '陽性患者数': 1863}"
            ]
          },
          "metadata": {
            "tags": []
          },
          "execution_count": 183
        }
      ]
    },
    {
      "cell_type": "code",
      "metadata": {
        "id": "YSv_sHnJFoRf",
        "colab_type": "code",
        "colab": {}
      },
      "source": [
        "main_summary = {\n",
        "    \"attr\": \"検査実施人数\",\n",
        "    \"value\": d[\"検査実施人数\"],\n",
        "    \"children\": [\n",
        "        {\n",
        "            \"attr\": \"陽性患者数\",\n",
        "            \"value\": d[\"陽性患者数\"],\n",
        "            \"children\": [\n",
        "                {\n",
        "                    \"attr\": \"入院中\",\n",
        "                    \"value\": d[\"入院中\"],\n",
        "                    \"children\": [\n",
        "                        {\"attr\": \"軽症・中等症\", \"value\": d[\"軽症・中等症\"]},\n",
        "                        {\"attr\": \"重症\", \"value\": d[\"重症\"]},\n",
        "                    ],\n",
        "                },\n",
        "                {\"attr\": \"宿泊療養\", \"value\": d[\"宿泊療養\"]},\n",
        "                {\"attr\": \"死亡\", \"value\": d[\"死亡\"]},\n",
        "                {\"attr\": \"退院\", \"value\": d[\"退院\"]},\n",
        "            ],\n",
        "        }\n",
        "    ],\n",
        "    \"last_update\": last_update.isoformat(),\n",
        "}"
      ],
      "execution_count": 184,
      "outputs": []
    },
    {
      "cell_type": "code",
      "metadata": {
        "id": "FTxI8eGt57NM",
        "colab_type": "code",
        "colab": {}
      },
      "source": [
        "jsonschema.validate(main_summary, MAIN_SUMMARY_SCHEMA)\n",
        "\n",
        "dumps_json(\"main_summary.json\", main_summary)"
      ],
      "execution_count": 185,
      "outputs": []
    },
    {
      "cell_type": "code",
      "metadata": {
        "id": "RxcOU-t151aE",
        "colab_type": "code",
        "colab": {}
      },
      "source": [
        "df_yousei[\"治療中\"] = df_yousei[\"入院中\"] + df_yousei[\"宿泊療養\"]"
      ],
      "execution_count": 186,
      "outputs": []
    },
    {
      "cell_type": "code",
      "metadata": {
        "id": "axcFj5K83J9S",
        "colab_type": "code",
        "colab": {}
      },
      "source": [
        "ser_cur = df_yousei[\"治療中\"].reindex(df_pcr.index)"
      ],
      "execution_count": 187,
      "outputs": []
    },
    {
      "cell_type": "code",
      "metadata": {
        "id": "nWCR1pFE34KZ",
        "colab_type": "code",
        "colab": {}
      },
      "source": [
        "df_current = pd.DataFrame({\"小計\": ser_cur.combine_first(df_pcr[\"陽性確認\"].cumsum())}).diff().fillna(0).astype(int)"
      ],
      "execution_count": 188,
      "outputs": []
    },
    {
      "cell_type": "code",
      "metadata": {
        "id": "rWyD5FJp7DJl",
        "colab_type": "code",
        "colab": {
          "base_uri": "https://localhost:8080/",
          "height": 455
        },
        "outputId": "92b21b39-53f2-4a4c-a909-f1055b3f9150"
      },
      "source": [
        "df_current"
      ],
      "execution_count": 189,
      "outputs": [
        {
          "output_type": "execute_result",
          "data": {
            "text/html": [
              "<div>\n",
              "<style scoped>\n",
              "    .dataframe tbody tr th:only-of-type {\n",
              "        vertical-align: middle;\n",
              "    }\n",
              "\n",
              "    .dataframe tbody tr th {\n",
              "        vertical-align: top;\n",
              "    }\n",
              "\n",
              "    .dataframe thead th {\n",
              "        text-align: right;\n",
              "    }\n",
              "</style>\n",
              "<table border=\"1\" class=\"dataframe\">\n",
              "  <thead>\n",
              "    <tr style=\"text-align: right;\">\n",
              "      <th></th>\n",
              "      <th>小計</th>\n",
              "    </tr>\n",
              "    <tr>\n",
              "      <th>年月日</th>\n",
              "      <th></th>\n",
              "    </tr>\n",
              "  </thead>\n",
              "  <tbody>\n",
              "    <tr>\n",
              "      <th>2020-01-31</th>\n",
              "      <td>0</td>\n",
              "    </tr>\n",
              "    <tr>\n",
              "      <th>2020-02-01</th>\n",
              "      <td>0</td>\n",
              "    </tr>\n",
              "    <tr>\n",
              "      <th>2020-02-02</th>\n",
              "      <td>0</td>\n",
              "    </tr>\n",
              "    <tr>\n",
              "      <th>2020-02-03</th>\n",
              "      <td>0</td>\n",
              "    </tr>\n",
              "    <tr>\n",
              "      <th>2020-02-04</th>\n",
              "      <td>0</td>\n",
              "    </tr>\n",
              "    <tr>\n",
              "      <th>...</th>\n",
              "      <td>...</td>\n",
              "    </tr>\n",
              "    <tr>\n",
              "      <th>2020-08-11</th>\n",
              "      <td>-12</td>\n",
              "    </tr>\n",
              "    <tr>\n",
              "      <th>2020-08-12</th>\n",
              "      <td>-1</td>\n",
              "    </tr>\n",
              "    <tr>\n",
              "      <th>2020-08-13</th>\n",
              "      <td>-10</td>\n",
              "    </tr>\n",
              "    <tr>\n",
              "      <th>2020-08-14</th>\n",
              "      <td>7</td>\n",
              "    </tr>\n",
              "    <tr>\n",
              "      <th>2020-08-15</th>\n",
              "      <td>7</td>\n",
              "    </tr>\n",
              "  </tbody>\n",
              "</table>\n",
              "<p>198 rows × 1 columns</p>\n",
              "</div>"
            ],
            "text/plain": [
              "            小計\n",
              "年月日           \n",
              "2020-01-31   0\n",
              "2020-02-01   0\n",
              "2020-02-02   0\n",
              "2020-02-03   0\n",
              "2020-02-04   0\n",
              "...         ..\n",
              "2020-08-11 -12\n",
              "2020-08-12  -1\n",
              "2020-08-13 -10\n",
              "2020-08-14   7\n",
              "2020-08-15   7\n",
              "\n",
              "[198 rows x 1 columns]"
            ]
          },
          "metadata": {
            "tags": []
          },
          "execution_count": 189
        }
      ]
    },
    {
      "cell_type": "code",
      "metadata": {
        "id": "SMCuFsiRvVq5",
        "colab_type": "code",
        "colab": {}
      },
      "source": [
        "df_current[\"日付\"] = df_current.index.map(lambda d: pd.Timestamp(d, tz='Asia/Tokyo').isoformat())"
      ],
      "execution_count": 190,
      "outputs": []
    },
    {
      "cell_type": "code",
      "metadata": {
        "id": "Fm1XQY4UvdiA",
        "colab_type": "code",
        "colab": {}
      },
      "source": [
        "df_cur_pts = df_current.loc[:, [\"日付\", \"小計\"]].copy()"
      ],
      "execution_count": 191,
      "outputs": []
    },
    {
      "cell_type": "code",
      "metadata": {
        "id": "9u9WrvTQvoG5",
        "colab_type": "code",
        "colab": {}
      },
      "source": [
        "current_patients = {\n",
        "    \"data\": df_cur_pts.to_dict(orient=\"records\"),\n",
        "    \"last_update\": last_update.isoformat(),\n",
        "}"
      ],
      "execution_count": 192,
      "outputs": []
    },
    {
      "cell_type": "code",
      "metadata": {
        "id": "9J3s_2ygvrj1",
        "colab_type": "code",
        "colab": {}
      },
      "source": [
        "jsonschema.validate(current_patients, PATIENTS_SUMMARY_SCHEMA)\n",
        "\n",
        "dumps_json(\"current_patients.json\", current_patients)"
      ],
      "execution_count": 193,
      "outputs": []
    },
    {
      "cell_type": "markdown",
      "metadata": {
        "id": "HfVk5o1rF1a7",
        "colab_type": "text"
      },
      "source": [
        "# チェック"
      ]
    },
    {
      "cell_type": "code",
      "metadata": {
        "id": "GH_X0bQHV6TE",
        "colab_type": "code",
        "colab": {
          "base_uri": "https://localhost:8080/",
          "height": 35
        },
        "outputId": "d7e9378f-9318-496c-e891-12a5fce703af"
      },
      "source": [
        "!pip install dictdiffer"
      ],
      "execution_count": 194,
      "outputs": [
        {
          "output_type": "stream",
          "text": [
            "Requirement already satisfied: dictdiffer in /usr/local/lib/python3.6/dist-packages (0.8.1)\n"
          ],
          "name": "stdout"
        }
      ]
    },
    {
      "cell_type": "code",
      "metadata": {
        "id": "csbWJHlyV_dR",
        "colab_type": "code",
        "colab": {}
      },
      "source": [
        "from dictdiffer import diff, patch, swap, revert"
      ],
      "execution_count": 195,
      "outputs": []
    },
    {
      "cell_type": "code",
      "metadata": {
        "id": "33EddlLOWsT5",
        "colab_type": "code",
        "colab": {}
      },
      "source": [
        "import pprint"
      ],
      "execution_count": 196,
      "outputs": []
    },
    {
      "cell_type": "code",
      "metadata": {
        "id": "UDR_y1oO57D8",
        "colab_type": "code",
        "colab": {}
      },
      "source": [
        "def json_check(fn, d):\n",
        "\n",
        "    r = requests.get(\n",
        "        \"https://raw.githubusercontent.com/stop-covid19-hyogo/covid19-scraping/gh-pages/\"\n",
        "        + fn\n",
        "    )\n",
        "\n",
        "    result = d == r.json()\n",
        "\n",
        "    if not result:\n",
        "\n",
        "        print(fn)\n",
        "        pprint.pprint(list(diff(d, r.json())))"
      ],
      "execution_count": 197,
      "outputs": []
    },
    {
      "cell_type": "code",
      "metadata": {
        "id": "hDmtMj6hyaJB",
        "colab_type": "code",
        "colab": {}
      },
      "source": [
        "json_check(\"inspections.json\", inspections)\n",
        "json_check(\"inspections_summary.json\", inspections_summary)"
      ],
      "execution_count": 198,
      "outputs": []
    },
    {
      "cell_type": "code",
      "metadata": {
        "id": "zS14yuR2WzmP",
        "colab_type": "code",
        "colab": {}
      },
      "source": [
        "json_check(\"age.json\", age)\n",
        "json_check(\"age_summary.json\", age_summary)"
      ],
      "execution_count": 199,
      "outputs": []
    },
    {
      "cell_type": "code",
      "metadata": {
        "id": "YGURxqLmCu1H",
        "colab_type": "code",
        "colab": {
          "base_uri": "https://localhost:8080/",
          "height": 1000
        },
        "outputId": "c51e47dd-031e-4911-d01b-dcbb562a00d1"
      },
      "source": [
        "json_check(\"patients_summary.json\", patients_summary)\n",
        "json_check(\"patients.json\", patients)\n",
        "json_check(\"current_patients.json\", current_patients)"
      ],
      "execution_count": 200,
      "outputs": [
        {
          "output_type": "stream",
          "text": [
            "patients.json\n",
            "[('change', ['data', 22, '備考'], ('', 'None')),\n",
            " ('change',\n",
            "  ['data', 26, '備考'],\n",
            "  ('介護老人保健施設グリーンアルス伊丹デイケアを利用宝塚第一病院の入院者',\n",
            "   '介護老人保健施設グリーンアルス伊丹デイケアを利用\\n宝塚第一病院の入院者')),\n",
            " ('change',\n",
            "  ['data', 47, '備考'],\n",
            "  ('2/19に大阪のSoap operaライブに参加\\u3000No.49、69と同居',\n",
            "   '2/19に大阪のSoap operaライブに参加\\u3000\\nNo.49、69と同居')),\n",
            " ('change',\n",
            "  ['data', 49, '備考'],\n",
            "  ('神戸市内の介護保険通所事業所の利用者（5/20再発、神戸No.284)',\n",
            "   '神戸市内の介護保険通所事業所の利用者\\n（5/20再発、神戸No.284)')),\n",
            " ('change',\n",
            "  ['data', 68, '備考'],\n",
            "  ('神戸市内の介護保険通所事業所の利用者No.48、49と同居', '神戸市内の介護保険通所事業所の利用者\\nNo.48、49と同居')),\n",
            " ('change',\n",
            "  ['data', 266, '備考'],\n",
            "  ('No.268の同居人大阪府発表369例目患者と接触歴あり', 'No.268の同居人\\n大阪府発表369例目患者と接触歴あり')),\n",
            " ('change',\n",
            "  ['data', 288, '備考'],\n",
            "  ('No.213の濃厚接触者（神戸西署）（5/16再発、神戸No.283)',\n",
            "   'No.213の濃厚接触者（神戸西署）\\n（5/16再発、神戸No.283)')),\n",
            " ('change',\n",
            "  ['data', 595, '備考'],\n",
            "  ('市内の介護施設に勤務する職員No.567の同居者', '市内の介護施設に勤務する職員\\nNo.567の同居者')),\n",
            " ('change',\n",
            "  ['data', 620, '備考'],\n",
            "  ('市立医療センター中央市民病院に勤務する医師（5/20再発、神戸No.285)',\n",
            "   '市立医療センター中央市民病院に勤務する医師\\n（5/20再発、神戸No.285)')),\n",
            " ('change',\n",
            "  ['data', 714, '備考'],\n",
            "  ('市内医療機関に勤務する職員\\u3000No714の同居者No711とNo714と会食、感染源については調査中',\n",
            "   '市内医療機関に勤務する職員\\u3000No714の同居者\\nNo711とNo714と会食、感染源については調査中')),\n",
            " ('change',\n",
            "  ['data', 1028, '備考'],\n",
            "  ('市立医療センタ－中央市民病院の入院患者行動歴調査中', '市立医療センタ－中央市民病院の入院患者\\n行動歴調査中')),\n",
            " ('change',\n",
            "  ['data', 1226, '備考'],\n",
            "  ('陽性患者の濃厚接触者\\u3000環境局兵庫事業所職に勤務する職員', '陽性患者の濃厚接触者\\u3000\\n環境局兵庫事業所職に勤務する職員')),\n",
            " ('change',\n",
            "  ['data', 1257, '備考'],\n",
            "  ('市立高等学校の生徒\\u3000行動歴調査中', '市立高等学校の生徒\\u3000\\n行動歴調査中')),\n",
            " ('change',\n",
            "  ['data', 1440, '備考'],\n",
            "  ('市内の障害児の福祉サービス事業所の職員行動歴調査中', '市内の障害児の福祉サービス事業所の職員\\n行動歴調査中')),\n",
            " ('change',\n",
            "  ['data', 1534, '備考'],\n",
            "  ('環境局西事業所に勤務する職員\\u3000接触歴なしその他行動歴調査中',\n",
            "   '環境局西事業所に勤務する職員\\u3000接触歴なし\\nその他行動歴調査中')),\n",
            " ('change',\n",
            "  ['data', 1548, '備考'],\n",
            "  ('環境局西事業所に勤務する職員\\u3000接触歴なしその他行動歴調査中',\n",
            "   '環境局西事業所に勤務する職員\\u3000接触歴なし\\nその他行動歴調査中')),\n",
            " ('change',\n",
            "  ['data', 1550, '備考'],\n",
            "  ('市内医療機関に勤務する医師感染患者（同居者）の濃厚接触者', '市内医療機関に勤務する医師\\n感染患者（同居者）の濃厚接触者')),\n",
            " ('change',\n",
            "  ['data', 1675, '備考'],\n",
            "  ('環境局西事業所に勤務する職員No1550の濃厚接触者', '環境局西事業所に勤務する職員\\nNo1550の濃厚接触者')),\n",
            " ('change',\n",
            "  ['data', 1706, '備考'],\n",
            "  ('市内保育園に勤務する職員\\u3000接触歴あり行動歴調査中', '市内保育園に勤務する職員\\u3000接触歴あり\\n行動歴調査中')),\n",
            " ('change',\n",
            "  ['data', 1718, '備考'],\n",
            "  ('尼崎市立中学校の生徒No1719の同居人\\u3000行動歴調査中', '尼崎市立中学校の生徒\\nNo1719の同居人\\u3000行動歴調査中')),\n",
            " ('change',\n",
            "  ['data', 1735, '備考'],\n",
            "  ('市内保育園の園児\\u3000感染が確認された園児の濃厚接触者', '市内保育園の園児\\u3000\\n感染が確認された園児の濃厚接触者')),\n",
            " ('change',\n",
            "  ['data', 1750, '備考'],\n",
            "  ('No1751の同居人\\u3000行動歴調査中\\u3000通学先で感染者あり',\n",
            "   'No1751の同居人\\u3000行動歴調査中\\u3000\\n通学先で感染者あり')),\n",
            " ('change',\n",
            "  ['data', 1844, '備考'],\n",
            "  ('No1804の濃厚接触者\\u3000No1804\\u3000No1847の同居家族',\n",
            "   'No1804の濃厚接触者\\u3000\\nNo1804\\u3000No1847の同居家族')),\n",
            " ('change',\n",
            "  ['data', 1845, '備考'],\n",
            "  ('No1804の濃厚接触者\\u3000No1804\\u3000No1846の同居家族',\n",
            "   'No1804の濃厚接触者\\u3000\\nNo1804\\u3000No1846の同居家族'))]\n"
          ],
          "name": "stdout"
        }
      ]
    },
    {
      "cell_type": "code",
      "metadata": {
        "id": "_zyUtFqjWwhp",
        "colab_type": "code",
        "colab": {}
      },
      "source": [
        "json_check(\"clusters.json\", clusters)\n",
        "json_check(\"clusters_summary.json\", clusters_summary)"
      ],
      "execution_count": 201,
      "outputs": []
    },
    {
      "cell_type": "code",
      "metadata": {
        "id": "iurioM6cCu4c",
        "colab_type": "code",
        "colab": {}
      },
      "source": [
        "json_check(\"main_summary.json\", main_summary)"
      ],
      "execution_count": 202,
      "outputs": []
    }
  ]
}