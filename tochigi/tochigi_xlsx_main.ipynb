{
  "nbformat": 4,
  "nbformat_minor": 0,
  "metadata": {
    "colab": {
      "name": "tochigi_xlsx_main.ipynb",
      "provenance": [],
      "collapsed_sections": [],
      "toc_visible": true,
      "authorship_tag": "ABX9TyMVvTqKoSd6txHn/yOMCgD2",
      "include_colab_link": true
    },
    "kernelspec": {
      "name": "python3",
      "display_name": "Python 3"
    }
  },
  "cells": [
    {
      "cell_type": "markdown",
      "metadata": {
        "id": "view-in-github",
        "colab_type": "text"
      },
      "source": [
        "<a href=\"https://colab.research.google.com/github/imabari/covid19-data/blob/master/tochigi/tochigi_xlsx_main.ipynb\" target=\"_parent\"><img src=\"https://colab.research.google.com/assets/colab-badge.svg\" alt=\"Open In Colab\"/></a>"
      ]
    },
    {
      "cell_type": "markdown",
      "metadata": {
        "id": "KLGAhzzc544Y",
        "colab_type": "text"
      },
      "source": [
        "# インストール"
      ]
    },
    {
      "cell_type": "code",
      "metadata": {
        "id": "KJpCgCgA9Y23",
        "colab_type": "code",
        "outputId": "475873be-a55e-4fb4-de0e-dd25495d2a1b",
        "colab": {
          "base_uri": "https://localhost:8080/",
          "height": 266
        }
      },
      "source": [
        "!pip install jaconv\n",
        "!pip install -U pandas"
      ],
      "execution_count": 1,
      "outputs": [
        {
          "output_type": "stream",
          "text": [
            "Collecting jaconv\n",
            "  Downloading https://files.pythonhosted.org/packages/b0/9e/cf1353fb3e81a177bb52ca59a0ebee425f084b7298039a7965c5414d2d62/jaconv-0.2.4.tar.gz\n",
            "Building wheels for collected packages: jaconv\n",
            "  Building wheel for jaconv (setup.py) ... \u001b[?25l\u001b[?25hdone\n",
            "  Created wheel for jaconv: filename=jaconv-0.2.4-cp36-none-any.whl size=12285 sha256=f90a557b64860e131192a6e0cccafad71e937444e07677b330955f458aeb0c83\n",
            "  Stored in directory: /root/.cache/pip/wheels/e1/46/f7/85a7f89bd3263423c8530dfed16083f9a142cc0fc78c81ff32\n",
            "Successfully built jaconv\n",
            "Installing collected packages: jaconv\n",
            "Successfully installed jaconv-0.2.4\n",
            "Requirement already up-to-date: pandas in /usr/local/lib/python3.6/dist-packages (1.0.3)\n",
            "Requirement already satisfied, skipping upgrade: numpy>=1.13.3 in /usr/local/lib/python3.6/dist-packages (from pandas) (1.18.3)\n",
            "Requirement already satisfied, skipping upgrade: python-dateutil>=2.6.1 in /usr/local/lib/python3.6/dist-packages (from pandas) (2.8.1)\n",
            "Requirement already satisfied, skipping upgrade: pytz>=2017.2 in /usr/local/lib/python3.6/dist-packages (from pandas) (2018.9)\n",
            "Requirement already satisfied, skipping upgrade: six>=1.5 in /usr/local/lib/python3.6/dist-packages (from python-dateutil>=2.6.1->pandas) (1.12.0)\n"
          ],
          "name": "stdout"
        }
      ]
    },
    {
      "cell_type": "code",
      "metadata": {
        "id": "UbGLa2DCdEBG",
        "colab_type": "code",
        "outputId": "a98c9cd1-9991-442b-e0f9-fa4c4d9b0e10",
        "colab": {
          "base_uri": "https://localhost:8080/",
          "height": 215
        }
      },
      "source": [
        "!pip install simplejson"
      ],
      "execution_count": 2,
      "outputs": [
        {
          "output_type": "stream",
          "text": [
            "Collecting simplejson\n",
            "\u001b[?25l  Downloading https://files.pythonhosted.org/packages/98/87/a7b98aa9256c8843f92878966dc3d8d914c14aad97e2c5ce4798d5743e07/simplejson-3.17.0.tar.gz (83kB)\n",
            "\r\u001b[K     |████                            | 10kB 15.8MB/s eta 0:00:01\r\u001b[K     |███████▉                        | 20kB 1.5MB/s eta 0:00:01\r\u001b[K     |███████████▉                    | 30kB 2.2MB/s eta 0:00:01\r\u001b[K     |███████████████▊                | 40kB 2.9MB/s eta 0:00:01\r\u001b[K     |███████████████████▊            | 51kB 2.1MB/s eta 0:00:01\r\u001b[K     |███████████████████████▋        | 61kB 2.3MB/s eta 0:00:01\r\u001b[K     |███████████████████████████▋    | 71kB 2.7MB/s eta 0:00:01\r\u001b[K     |███████████████████████████████▌| 81kB 3.1MB/s eta 0:00:01\r\u001b[K     |████████████████████████████████| 92kB 2.7MB/s \n",
            "\u001b[?25hBuilding wheels for collected packages: simplejson\n",
            "  Building wheel for simplejson (setup.py) ... \u001b[?25l\u001b[?25hdone\n",
            "  Created wheel for simplejson: filename=simplejson-3.17.0-cp36-cp36m-linux_x86_64.whl size=114206 sha256=a58c3cb95cd8a8cad99f50f7d2c14fda55862c7422b1b39610fbcaadd75bb8e2\n",
            "  Stored in directory: /root/.cache/pip/wheels/86/c0/83/dcd0339abb2640544bb8e0938aab2d069cef55e5647ce6e097\n",
            "Successfully built simplejson\n",
            "Installing collected packages: simplejson\n",
            "Successfully installed simplejson-3.17.0\n"
          ],
          "name": "stdout"
        }
      ]
    },
    {
      "cell_type": "code",
      "metadata": {
        "id": "sTwkDbBs-A2f",
        "colab_type": "code",
        "colab": {}
      },
      "source": [
        "import datetime\n",
        "import re\n",
        "from urllib.parse import urljoin"
      ],
      "execution_count": 0,
      "outputs": []
    },
    {
      "cell_type": "code",
      "metadata": {
        "id": "TvmueaS7S_C7",
        "colab_type": "code",
        "colab": {}
      },
      "source": [
        "import jaconv\n",
        "import pandas as pd\n",
        "import requests\n",
        "import simplejson as json\n",
        "from bs4 import BeautifulSoup"
      ],
      "execution_count": 0,
      "outputs": []
    },
    {
      "cell_type": "code",
      "metadata": {
        "id": "sQ2A-6r7V7nS",
        "colab_type": "code",
        "colab": {}
      },
      "source": [
        "from google.colab import files"
      ],
      "execution_count": 0,
      "outputs": []
    },
    {
      "cell_type": "markdown",
      "metadata": {
        "id": "yemtlk1roLTQ",
        "colab_type": "text"
      },
      "source": [
        "# スクレイピング"
      ]
    },
    {
      "cell_type": "code",
      "metadata": {
        "id": "EscuFEcB-A1w",
        "colab_type": "code",
        "colab": {}
      },
      "source": [
        "url = \"http://www.pref.tochigi.lg.jp/e04/welfare/hoken-eisei/kansen/hp/coronakensahasseijyoukyou.html\"\n",
        "\n",
        "headers = {\n",
        "    \"User-Agent\": \"Mozilla/5.0 (Windows NT 10.0; WOW64; Trident/7.0; rv:11.0) like Gecko\",\n",
        "}"
      ],
      "execution_count": 0,
      "outputs": []
    },
    {
      "cell_type": "code",
      "metadata": {
        "id": "_8K8527x-A0_",
        "colab_type": "code",
        "colab": {}
      },
      "source": [
        "r = requests.get(url, headers=headers)\n",
        "\n",
        "r.raise_for_status()\n",
        "\n",
        "soup = BeautifulSoup(r.content, \"html5lib\")"
      ],
      "execution_count": 0,
      "outputs": []
    },
    {
      "cell_type": "code",
      "metadata": {
        "id": "RnZUlfyXaT7N",
        "colab_type": "code",
        "colab": {}
      },
      "source": [
        "text = soup.find(\"h2\", text=\"栃木県における新型コロナウイルス感染症の検査実施状況について\").find_next_sibling(\"p\").get_text(strip=True)"
      ],
      "execution_count": 0,
      "outputs": []
    },
    {
      "cell_type": "code",
      "metadata": {
        "id": "m-k9b_4iagp3",
        "colab_type": "code",
        "outputId": "f0719acb-99df-4b8b-e210-611c11b1e01e",
        "colab": {
          "base_uri": "https://localhost:8080/",
          "height": 35
        }
      },
      "source": [
        "text"
      ],
      "execution_count": 9,
      "outputs": [
        {
          "output_type": "execute_result",
          "data": {
            "text/plain": [
              "'令和2(2020)年4月24日までに、栃木県（宇都宮市保健所実施分を含む）が実施した新型コロナウイルス感染症の検査件数は、1,724件です。（うち陽性52件）'"
            ]
          },
          "metadata": {
            "tags": []
          },
          "execution_count": 9
        }
      ]
    },
    {
      "cell_type": "code",
      "metadata": {
        "id": "m5HRMCStbBAs",
        "colab_type": "code",
        "outputId": "1b64d758-d5b7-4cbe-9a57-e7a558c480c9",
        "colab": {
          "base_uri": "https://localhost:8080/",
          "height": 35
        }
      },
      "source": [
        "# 半角数字のみ抽出\n",
        "kensa = [int(i.replace(\",\", \"\")) for i in re.findall(\"([0-9,]+)\", text)]\n",
        "kensa"
      ],
      "execution_count": 10,
      "outputs": [
        {
          "output_type": "execute_result",
          "data": {
            "text/plain": [
              "[2, 2020, 4, 24, 1724, 52]"
            ]
          },
          "metadata": {
            "tags": []
          },
          "execution_count": 10
        }
      ]
    },
    {
      "cell_type": "code",
      "metadata": {
        "id": "_I2ASLUkjBuA",
        "colab_type": "code",
        "outputId": "dbe7c8d0-ba8d-489e-aa30-390f7ff7b012",
        "colab": {
          "base_uri": "https://localhost:8080/",
          "height": 35
        }
      },
      "source": [
        "# 日付に変換\n",
        "dt_kensa = datetime.datetime(kensa[1], kensa[2], kensa[3])\n",
        "dt_kensa"
      ],
      "execution_count": 16,
      "outputs": [
        {
          "output_type": "execute_result",
          "data": {
            "text/plain": [
              "datetime.datetime(2020, 4, 24, 0, 0)"
            ]
          },
          "metadata": {
            "tags": []
          },
          "execution_count": 16
        }
      ]
    },
    {
      "cell_type": "code",
      "metadata": {
        "id": "mQmXTL4iWWIR",
        "colab_type": "code",
        "colab": {}
      },
      "source": [
        "# 自動化時に有効にする\n",
        "# df_insp = pd.read_csv(\"inspections.csv\"\", index_col=\"年月日\", parse_dates=True)\n",
        "\n",
        "# 自動化まではスプレッドシートを参照\n",
        "df_insp = pd.read_csv(\"https://docs.google.com/spreadsheets/d/e/2PACX-1vS8KB87AREAsj5NIkdyubw0t8VcOrRBPaG2igOjwl-GZ8kOrJmgmskgFKTCUFdiWEQRyB5L1idP00Av/pub?gid=0&single=true&output=csv\", index_col=\"年月日\", parse_dates=True)"
      ],
      "execution_count": 0,
      "outputs": []
    },
    {
      "cell_type": "code",
      "metadata": {
        "id": "808CVpW5jldB",
        "colab_type": "code",
        "outputId": "aa22ef10-4a24-4ec6-9de9-e8fd7ba3ade3",
        "colab": {
          "base_uri": "https://localhost:8080/",
          "height": 455
        }
      },
      "source": [
        "df_insp"
      ],
      "execution_count": 18,
      "outputs": [
        {
          "output_type": "execute_result",
          "data": {
            "text/html": [
              "<div>\n",
              "<style scoped>\n",
              "    .dataframe tbody tr th:only-of-type {\n",
              "        vertical-align: middle;\n",
              "    }\n",
              "\n",
              "    .dataframe tbody tr th {\n",
              "        vertical-align: top;\n",
              "    }\n",
              "\n",
              "    .dataframe thead th {\n",
              "        text-align: right;\n",
              "    }\n",
              "</style>\n",
              "<table border=\"1\" class=\"dataframe\">\n",
              "  <thead>\n",
              "    <tr style=\"text-align: right;\">\n",
              "      <th></th>\n",
              "      <th>検査累計</th>\n",
              "      <th>陽性累計</th>\n",
              "    </tr>\n",
              "    <tr>\n",
              "      <th>年月日</th>\n",
              "      <th></th>\n",
              "      <th></th>\n",
              "    </tr>\n",
              "  </thead>\n",
              "  <tbody>\n",
              "    <tr>\n",
              "      <th>2020-01-14</th>\n",
              "      <td>0</td>\n",
              "      <td>0</td>\n",
              "    </tr>\n",
              "    <tr>\n",
              "      <th>2020-01-15</th>\n",
              "      <td>0</td>\n",
              "      <td>0</td>\n",
              "    </tr>\n",
              "    <tr>\n",
              "      <th>2020-01-16</th>\n",
              "      <td>0</td>\n",
              "      <td>0</td>\n",
              "    </tr>\n",
              "    <tr>\n",
              "      <th>2020-01-17</th>\n",
              "      <td>0</td>\n",
              "      <td>0</td>\n",
              "    </tr>\n",
              "    <tr>\n",
              "      <th>2020-01-18</th>\n",
              "      <td>0</td>\n",
              "      <td>0</td>\n",
              "    </tr>\n",
              "    <tr>\n",
              "      <th>...</th>\n",
              "      <td>...</td>\n",
              "      <td>...</td>\n",
              "    </tr>\n",
              "    <tr>\n",
              "      <th>2020-04-19</th>\n",
              "      <td>1472</td>\n",
              "      <td>46</td>\n",
              "    </tr>\n",
              "    <tr>\n",
              "      <th>2020-04-20</th>\n",
              "      <td>1520</td>\n",
              "      <td>49</td>\n",
              "    </tr>\n",
              "    <tr>\n",
              "      <th>2020-04-21</th>\n",
              "      <td>1568</td>\n",
              "      <td>51</td>\n",
              "    </tr>\n",
              "    <tr>\n",
              "      <th>2020-04-22</th>\n",
              "      <td>1617</td>\n",
              "      <td>52</td>\n",
              "    </tr>\n",
              "    <tr>\n",
              "      <th>2020-04-24</th>\n",
              "      <td>1724</td>\n",
              "      <td>52</td>\n",
              "    </tr>\n",
              "  </tbody>\n",
              "</table>\n",
              "<p>101 rows × 2 columns</p>\n",
              "</div>"
            ],
            "text/plain": [
              "            検査累計  陽性累計\n",
              "年月日                   \n",
              "2020-01-14     0     0\n",
              "2020-01-15     0     0\n",
              "2020-01-16     0     0\n",
              "2020-01-17     0     0\n",
              "2020-01-18     0     0\n",
              "...          ...   ...\n",
              "2020-04-19  1472    46\n",
              "2020-04-20  1520    49\n",
              "2020-04-21  1568    51\n",
              "2020-04-22  1617    52\n",
              "2020-04-24  1724    52\n",
              "\n",
              "[101 rows x 2 columns]"
            ]
          },
          "metadata": {
            "tags": []
          },
          "execution_count": 18
        }
      ]
    },
    {
      "cell_type": "code",
      "metadata": {
        "id": "XfrDpphpiuKr",
        "colab_type": "code",
        "colab": {}
      },
      "source": [
        "# 最新検査日の累計を追加\n",
        "df_insp.loc[dt_kensa] = kensa[4:6]"
      ],
      "execution_count": 0,
      "outputs": []
    },
    {
      "cell_type": "code",
      "metadata": {
        "id": "nPMw8Yjmj7BI",
        "colab_type": "code",
        "colab": {}
      },
      "source": [
        "# CSVに保存\n",
        "df_insp.to_csv(\"inspections.csv\")"
      ],
      "execution_count": 0,
      "outputs": []
    },
    {
      "cell_type": "code",
      "metadata": {
        "id": "rXzRl8cP-H7z",
        "colab_type": "code",
        "colab": {}
      },
      "source": [
        "tag = soup.find(\"a\", text=re.compile(\"^栃木県における新型コロナウイルス感染症の発生状況一覧.+エクセル\"))"
      ],
      "execution_count": 0,
      "outputs": []
    },
    {
      "cell_type": "code",
      "metadata": {
        "id": "N2Cybzzs-eYn",
        "colab_type": "code",
        "colab": {}
      },
      "source": [
        "link = urljoin(url, tag.get(\"href\"))"
      ],
      "execution_count": 0,
      "outputs": []
    },
    {
      "cell_type": "markdown",
      "metadata": {
        "id": "j9DkjQA0oyeC",
        "colab_type": "text"
      },
      "source": [
        "# データラングリング"
      ]
    },
    {
      "cell_type": "code",
      "metadata": {
        "id": "SBmvcOsKCjAo",
        "colab_type": "code",
        "colab": {}
      },
      "source": [
        "JST = datetime.timezone(datetime.timedelta(hours=+9), \"JST\")\n",
        "\n",
        "dt_now = datetime.datetime.now(JST)\n",
        "dt_update = dt_now.strftime(\"%Y/%m/%d %H:%M\")"
      ],
      "execution_count": 0,
      "outputs": []
    },
    {
      "cell_type": "code",
      "metadata": {
        "id": "coMQ6TUDVtfs",
        "colab_type": "code",
        "colab": {}
      },
      "source": [
        "data = {\"lastUpdate\": dt_update}"
      ],
      "execution_count": 0,
      "outputs": []
    },
    {
      "cell_type": "markdown",
      "metadata": {
        "id": "KbIlNKZHwswE",
        "colab_type": "text"
      },
      "source": [
        "## 検査件数"
      ]
    },
    {
      "cell_type": "code",
      "metadata": {
        "id": "QH35QlZhwp2H",
        "colab_type": "code",
        "colab": {}
      },
      "source": [
        "df_insp_sum = df_insp[\"検査累計\"].diff().fillna(0).astype(int).sort_index().asfreq(\"D\", fill_value=0).reset_index()"
      ],
      "execution_count": 0,
      "outputs": []
    },
    {
      "cell_type": "code",
      "metadata": {
        "id": "w3BWTcP0x22X",
        "colab_type": "code",
        "colab": {}
      },
      "source": [
        "df_insp_sum[\"日付\"] = df_insp_sum[\"年月日\"].dt.strftime(\"%Y-%m-%d\") "
      ],
      "execution_count": 0,
      "outputs": []
    },
    {
      "cell_type": "code",
      "metadata": {
        "id": "1y9d92bxyCsS",
        "colab_type": "code",
        "colab": {}
      },
      "source": [
        "data[\"inspections_summary\"] = {\n",
        "    \"data\": df_insp_sum.loc[:, [\"日付\", \"検査累計\"]].values.tolist(),\n",
        "    \"date\": dt_update,\n",
        "}"
      ],
      "execution_count": 0,
      "outputs": []
    },
    {
      "cell_type": "markdown",
      "metadata": {
        "id": "SkX3jccEoP0Q",
        "colab_type": "text"
      },
      "source": [
        "## xlsxから発生状況一覧を抽出"
      ]
    },
    {
      "cell_type": "code",
      "metadata": {
        "id": "Y5_anTsAPFZm",
        "colab_type": "code",
        "colab": {}
      },
      "source": [
        "df_kanja = pd.read_excel(link, index_col=\"番号\", header=1, skipfooter=2)"
      ],
      "execution_count": 0,
      "outputs": []
    },
    {
      "cell_type": "code",
      "metadata": {
        "id": "5SPUK6O1QIQ8",
        "colab_type": "code",
        "colab": {}
      },
      "source": [
        "df_kanja[\"陽性判明日\"] = df_kanja[\"陽性判明日\"].apply(lambda date: pd.to_datetime(date, unit=\"D\", origin=pd.Timestamp(\"1899/12/30\")))"
      ],
      "execution_count": 0,
      "outputs": []
    },
    {
      "cell_type": "code",
      "metadata": {
        "id": "aumHRJcTQWrk",
        "colab_type": "code",
        "colab": {}
      },
      "source": [
        "df_kanja[\"退院日\"] = df_kanja[\"退院日\"].apply(lambda date: pd.to_datetime(date, unit=\"D\", origin=pd.Timestamp(\"1899/12/30\")))"
      ],
      "execution_count": 0,
      "outputs": []
    },
    {
      "cell_type": "code",
      "metadata": {
        "id": "zdSvpTUFQKCc",
        "colab_type": "code",
        "outputId": "7e3a3db1-f72c-407c-dfde-1053e5256193",
        "colab": {
          "base_uri": "https://localhost:8080/",
          "height": 1000
        }
      },
      "source": [
        "df_kanja"
      ],
      "execution_count": 31,
      "outputs": [
        {
          "output_type": "execute_result",
          "data": {
            "text/html": [
              "<div>\n",
              "<style scoped>\n",
              "    .dataframe tbody tr th:only-of-type {\n",
              "        vertical-align: middle;\n",
              "    }\n",
              "\n",
              "    .dataframe tbody tr th {\n",
              "        vertical-align: top;\n",
              "    }\n",
              "\n",
              "    .dataframe thead th {\n",
              "        text-align: right;\n",
              "    }\n",
              "</style>\n",
              "<table border=\"1\" class=\"dataframe\">\n",
              "  <thead>\n",
              "    <tr style=\"text-align: right;\">\n",
              "      <th></th>\n",
              "      <th>年代</th>\n",
              "      <th>性別</th>\n",
              "      <th>居住地</th>\n",
              "      <th>陽性判明日</th>\n",
              "      <th>退院日</th>\n",
              "      <th>備考</th>\n",
              "    </tr>\n",
              "    <tr>\n",
              "      <th>番号</th>\n",
              "      <th></th>\n",
              "      <th></th>\n",
              "      <th></th>\n",
              "      <th></th>\n",
              "      <th></th>\n",
              "      <th></th>\n",
              "    </tr>\n",
              "  </thead>\n",
              "  <tbody>\n",
              "    <tr>\n",
              "      <th>1</th>\n",
              "      <td>60代</td>\n",
              "      <td>女性</td>\n",
              "      <td>県南</td>\n",
              "      <td>2020-02-22</td>\n",
              "      <td>2020-03-27</td>\n",
              "      <td>クルーズ船下船</td>\n",
              "    </tr>\n",
              "    <tr>\n",
              "      <th>2</th>\n",
              "      <td>30代</td>\n",
              "      <td>女性</td>\n",
              "      <td>県南</td>\n",
              "      <td>2020-03-05</td>\n",
              "      <td>2020-03-12</td>\n",
              "      <td>大阪ライブハウス、ショッピングセンター勤務</td>\n",
              "    </tr>\n",
              "    <tr>\n",
              "      <th>3</th>\n",
              "      <td>40代</td>\n",
              "      <td>女性</td>\n",
              "      <td>宇都宮</td>\n",
              "      <td>2020-03-18</td>\n",
              "      <td>2020-04-01</td>\n",
              "      <td>タイ旅行　※宇都宮市1例目</td>\n",
              "    </tr>\n",
              "    <tr>\n",
              "      <th>4</th>\n",
              "      <td>50代</td>\n",
              "      <td>男性</td>\n",
              "      <td>県南</td>\n",
              "      <td>2020-03-20</td>\n",
              "      <td>2020-04-03</td>\n",
              "      <td>ポルトガル旅行</td>\n",
              "    </tr>\n",
              "    <tr>\n",
              "      <th>5</th>\n",
              "      <td>40代</td>\n",
              "      <td>男性</td>\n",
              "      <td>フィリピン</td>\n",
              "      <td>2020-03-24</td>\n",
              "      <td>2020-04-10</td>\n",
              "      <td>フィリピンから帰国</td>\n",
              "    </tr>\n",
              "    <tr>\n",
              "      <th>6</th>\n",
              "      <td>70代</td>\n",
              "      <td>男性</td>\n",
              "      <td>安足</td>\n",
              "      <td>2020-03-24</td>\n",
              "      <td>2020-04-20</td>\n",
              "      <td>親族との接触あり</td>\n",
              "    </tr>\n",
              "    <tr>\n",
              "      <th>7</th>\n",
              "      <td>60代</td>\n",
              "      <td>女性</td>\n",
              "      <td>安足</td>\n",
              "      <td>2020-03-25</td>\n",
              "      <td>2020-04-03</td>\n",
              "      <td>No.6の妻</td>\n",
              "    </tr>\n",
              "    <tr>\n",
              "      <th>8</th>\n",
              "      <td>50代</td>\n",
              "      <td>男性</td>\n",
              "      <td>県西</td>\n",
              "      <td>2020-03-25</td>\n",
              "      <td>2020-04-11</td>\n",
              "      <td>No.6の同僚</td>\n",
              "    </tr>\n",
              "    <tr>\n",
              "      <th>9</th>\n",
              "      <td>50代</td>\n",
              "      <td>女性</td>\n",
              "      <td>県西</td>\n",
              "      <td>2020-03-25</td>\n",
              "      <td>NaT</td>\n",
              "      <td>No.8の妻</td>\n",
              "    </tr>\n",
              "    <tr>\n",
              "      <th>10</th>\n",
              "      <td>40代</td>\n",
              "      <td>男性</td>\n",
              "      <td>県南</td>\n",
              "      <td>2020-03-25</td>\n",
              "      <td>2020-04-18</td>\n",
              "      <td>別の新型コロナ感染者と濃厚接触</td>\n",
              "    </tr>\n",
              "    <tr>\n",
              "      <th>11</th>\n",
              "      <td>10代</td>\n",
              "      <td>男性</td>\n",
              "      <td>県南</td>\n",
              "      <td>2020-03-26</td>\n",
              "      <td>2020-04-14</td>\n",
              "      <td>No.10の子</td>\n",
              "    </tr>\n",
              "    <tr>\n",
              "      <th>12</th>\n",
              "      <td>60代</td>\n",
              "      <td>男性</td>\n",
              "      <td>東京都</td>\n",
              "      <td>2020-03-29</td>\n",
              "      <td>NaT</td>\n",
              "      <td>接待を伴う飲食あり</td>\n",
              "    </tr>\n",
              "    <tr>\n",
              "      <th>13</th>\n",
              "      <td>30代</td>\n",
              "      <td>男性</td>\n",
              "      <td>宇都宮</td>\n",
              "      <td>2020-03-31</td>\n",
              "      <td>NaT</td>\n",
              "      <td>※宇都宮市2例目</td>\n",
              "    </tr>\n",
              "    <tr>\n",
              "      <th>14</th>\n",
              "      <td>50代</td>\n",
              "      <td>男性</td>\n",
              "      <td>県南</td>\n",
              "      <td>2020-03-31</td>\n",
              "      <td>NaT</td>\n",
              "      <td>NaN</td>\n",
              "    </tr>\n",
              "    <tr>\n",
              "      <th>15</th>\n",
              "      <td>20代</td>\n",
              "      <td>男性</td>\n",
              "      <td>県外</td>\n",
              "      <td>2020-04-01</td>\n",
              "      <td>NaT</td>\n",
              "      <td>県外で発症　※宇都宮市3例目</td>\n",
              "    </tr>\n",
              "    <tr>\n",
              "      <th>16</th>\n",
              "      <td>40代</td>\n",
              "      <td>男性</td>\n",
              "      <td>宇都宮</td>\n",
              "      <td>2020-04-01</td>\n",
              "      <td>NaT</td>\n",
              "      <td>No.13の兄　※宇都宮市4例目</td>\n",
              "    </tr>\n",
              "    <tr>\n",
              "      <th>17</th>\n",
              "      <td>40代</td>\n",
              "      <td>男性</td>\n",
              "      <td>県南</td>\n",
              "      <td>2020-04-01</td>\n",
              "      <td>NaT</td>\n",
              "      <td>NaN</td>\n",
              "    </tr>\n",
              "    <tr>\n",
              "      <th>18</th>\n",
              "      <td>30代</td>\n",
              "      <td>男性</td>\n",
              "      <td>宇都宮</td>\n",
              "      <td>2020-04-06</td>\n",
              "      <td>NaT</td>\n",
              "      <td>接待を伴う飲食あり　※宇都宮市5例目</td>\n",
              "    </tr>\n",
              "    <tr>\n",
              "      <th>19</th>\n",
              "      <td>30代</td>\n",
              "      <td>男性</td>\n",
              "      <td>宇都宮</td>\n",
              "      <td>2020-04-06</td>\n",
              "      <td>NaT</td>\n",
              "      <td>※宇都宮市6例目</td>\n",
              "    </tr>\n",
              "    <tr>\n",
              "      <th>20</th>\n",
              "      <td>20代</td>\n",
              "      <td>男性</td>\n",
              "      <td>栃木市</td>\n",
              "      <td>2020-04-07</td>\n",
              "      <td>NaT</td>\n",
              "      <td>NaN</td>\n",
              "    </tr>\n",
              "    <tr>\n",
              "      <th>21</th>\n",
              "      <td>30代</td>\n",
              "      <td>女性</td>\n",
              "      <td>宇都宮</td>\n",
              "      <td>2020-04-07</td>\n",
              "      <td>NaT</td>\n",
              "      <td>都内の接客業　※宇都宮市7例目</td>\n",
              "    </tr>\n",
              "    <tr>\n",
              "      <th>22</th>\n",
              "      <td>40代</td>\n",
              "      <td>男性</td>\n",
              "      <td>宇都宮</td>\n",
              "      <td>2020-04-07</td>\n",
              "      <td>NaT</td>\n",
              "      <td>神奈川県に出張　※宇都宮市8例目</td>\n",
              "    </tr>\n",
              "    <tr>\n",
              "      <th>23</th>\n",
              "      <td>40代</td>\n",
              "      <td>男性</td>\n",
              "      <td>足利市</td>\n",
              "      <td>2020-04-08</td>\n",
              "      <td>NaT</td>\n",
              "      <td>都内ライブハウス</td>\n",
              "    </tr>\n",
              "    <tr>\n",
              "      <th>24</th>\n",
              "      <td>10代</td>\n",
              "      <td>女性</td>\n",
              "      <td>佐野市</td>\n",
              "      <td>2020-04-08</td>\n",
              "      <td>2020-04-22</td>\n",
              "      <td>No.20の知人</td>\n",
              "    </tr>\n",
              "    <tr>\n",
              "      <th>25</th>\n",
              "      <td>20代</td>\n",
              "      <td>男性</td>\n",
              "      <td>佐野市</td>\n",
              "      <td>2020-04-08</td>\n",
              "      <td>2020-04-22</td>\n",
              "      <td>No.20の同僚</td>\n",
              "    </tr>\n",
              "    <tr>\n",
              "      <th>26</th>\n",
              "      <td>30代</td>\n",
              "      <td>男性</td>\n",
              "      <td>下野市</td>\n",
              "      <td>2020-04-08</td>\n",
              "      <td>NaT</td>\n",
              "      <td>別の新型コロナ感染者と濃厚接触</td>\n",
              "    </tr>\n",
              "    <tr>\n",
              "      <th>27</th>\n",
              "      <td>60代</td>\n",
              "      <td>女性</td>\n",
              "      <td>宇都宮市</td>\n",
              "      <td>2020-04-08</td>\n",
              "      <td>NaT</td>\n",
              "      <td>No.21の母　※宇都宮市9例目</td>\n",
              "    </tr>\n",
              "    <tr>\n",
              "      <th>28</th>\n",
              "      <td>30代</td>\n",
              "      <td>女性</td>\n",
              "      <td>宇都宮市</td>\n",
              "      <td>2020-04-08</td>\n",
              "      <td>NaT</td>\n",
              "      <td>No.21の妹　※宇都宮市10例目</td>\n",
              "    </tr>\n",
              "    <tr>\n",
              "      <th>29</th>\n",
              "      <td>40代</td>\n",
              "      <td>男性</td>\n",
              "      <td>鹿沼市</td>\n",
              "      <td>2020-04-09</td>\n",
              "      <td>2020-04-19</td>\n",
              "      <td>NaN</td>\n",
              "    </tr>\n",
              "    <tr>\n",
              "      <th>30</th>\n",
              "      <td>70代</td>\n",
              "      <td>男性</td>\n",
              "      <td>栃木市</td>\n",
              "      <td>2020-04-09</td>\n",
              "      <td>NaT</td>\n",
              "      <td>NaN</td>\n",
              "    </tr>\n",
              "    <tr>\n",
              "      <th>31</th>\n",
              "      <td>70代</td>\n",
              "      <td>女性</td>\n",
              "      <td>那須塩原市</td>\n",
              "      <td>2020-04-09</td>\n",
              "      <td>NaT</td>\n",
              "      <td>NaN</td>\n",
              "    </tr>\n",
              "    <tr>\n",
              "      <th>32</th>\n",
              "      <td>20代</td>\n",
              "      <td>女性</td>\n",
              "      <td>県外</td>\n",
              "      <td>2020-04-10</td>\n",
              "      <td>NaT</td>\n",
              "      <td>No.14の娘</td>\n",
              "    </tr>\n",
              "    <tr>\n",
              "      <th>33</th>\n",
              "      <td>70代</td>\n",
              "      <td>男性</td>\n",
              "      <td>那須塩原市</td>\n",
              "      <td>2020-04-11</td>\n",
              "      <td>NaT</td>\n",
              "      <td>No.31の夫</td>\n",
              "    </tr>\n",
              "    <tr>\n",
              "      <th>34</th>\n",
              "      <td>60代</td>\n",
              "      <td>男性</td>\n",
              "      <td>小山市</td>\n",
              "      <td>2020-04-11</td>\n",
              "      <td>NaT</td>\n",
              "      <td>NaN</td>\n",
              "    </tr>\n",
              "    <tr>\n",
              "      <th>35</th>\n",
              "      <td>40代</td>\n",
              "      <td>男性</td>\n",
              "      <td>栃木市</td>\n",
              "      <td>2020-04-11</td>\n",
              "      <td>NaT</td>\n",
              "      <td>NaN</td>\n",
              "    </tr>\n",
              "    <tr>\n",
              "      <th>36</th>\n",
              "      <td>30代</td>\n",
              "      <td>女性</td>\n",
              "      <td>栃木市</td>\n",
              "      <td>2020-04-13</td>\n",
              "      <td>NaT</td>\n",
              "      <td>No.35の妻</td>\n",
              "    </tr>\n",
              "    <tr>\n",
              "      <th>37</th>\n",
              "      <td>60代</td>\n",
              "      <td>男性</td>\n",
              "      <td>栃木市</td>\n",
              "      <td>2020-04-14</td>\n",
              "      <td>NaT</td>\n",
              "      <td>NaN</td>\n",
              "    </tr>\n",
              "    <tr>\n",
              "      <th>38</th>\n",
              "      <td>30代</td>\n",
              "      <td>男性</td>\n",
              "      <td>宇都宮市</td>\n",
              "      <td>2020-04-14</td>\n",
              "      <td>NaT</td>\n",
              "      <td>家族が他県で発症　※宇都宮市11例目</td>\n",
              "    </tr>\n",
              "    <tr>\n",
              "      <th>39</th>\n",
              "      <td>60代</td>\n",
              "      <td>女性</td>\n",
              "      <td>那須塩原市</td>\n",
              "      <td>2020-04-15</td>\n",
              "      <td>NaT</td>\n",
              "      <td>NaN</td>\n",
              "    </tr>\n",
              "    <tr>\n",
              "      <th>40</th>\n",
              "      <td>40代</td>\n",
              "      <td>女性</td>\n",
              "      <td>宇都宮市</td>\n",
              "      <td>2020-04-15</td>\n",
              "      <td>NaT</td>\n",
              "      <td>※宇都宮市12例目</td>\n",
              "    </tr>\n",
              "    <tr>\n",
              "      <th>41</th>\n",
              "      <td>50代</td>\n",
              "      <td>女性</td>\n",
              "      <td>那須塩原市</td>\n",
              "      <td>2020-04-16</td>\n",
              "      <td>NaT</td>\n",
              "      <td>No.31及びNo.33の子</td>\n",
              "    </tr>\n",
              "    <tr>\n",
              "      <th>42</th>\n",
              "      <td>50代</td>\n",
              "      <td>男性</td>\n",
              "      <td>栃木市</td>\n",
              "      <td>2020-04-16</td>\n",
              "      <td>NaT</td>\n",
              "      <td>No.37の同僚</td>\n",
              "    </tr>\n",
              "    <tr>\n",
              "      <th>43</th>\n",
              "      <td>50代</td>\n",
              "      <td>女性</td>\n",
              "      <td>栃木市</td>\n",
              "      <td>2020-04-17</td>\n",
              "      <td>NaT</td>\n",
              "      <td>NaN</td>\n",
              "    </tr>\n",
              "    <tr>\n",
              "      <th>44</th>\n",
              "      <td>60代</td>\n",
              "      <td>男性</td>\n",
              "      <td>那須塩原市</td>\n",
              "      <td>2020-04-17</td>\n",
              "      <td>NaT</td>\n",
              "      <td>No.39の夫</td>\n",
              "    </tr>\n",
              "    <tr>\n",
              "      <th>45</th>\n",
              "      <td>60代</td>\n",
              "      <td>女性</td>\n",
              "      <td>栃木市</td>\n",
              "      <td>2020-04-19</td>\n",
              "      <td>NaT</td>\n",
              "      <td>No.43の同僚</td>\n",
              "    </tr>\n",
              "    <tr>\n",
              "      <th>46</th>\n",
              "      <td>60代</td>\n",
              "      <td>女性</td>\n",
              "      <td>那須塩原市</td>\n",
              "      <td>2020-04-19</td>\n",
              "      <td>NaT</td>\n",
              "      <td>NaN</td>\n",
              "    </tr>\n",
              "    <tr>\n",
              "      <th>47</th>\n",
              "      <td>50代</td>\n",
              "      <td>男性</td>\n",
              "      <td>栃木市</td>\n",
              "      <td>2020-04-20</td>\n",
              "      <td>NaT</td>\n",
              "      <td>No.45の同僚</td>\n",
              "    </tr>\n",
              "    <tr>\n",
              "      <th>48</th>\n",
              "      <td>70代</td>\n",
              "      <td>男性</td>\n",
              "      <td>栃木市</td>\n",
              "      <td>2020-04-20</td>\n",
              "      <td>NaT</td>\n",
              "      <td>No.45の同僚</td>\n",
              "    </tr>\n",
              "    <tr>\n",
              "      <th>49</th>\n",
              "      <td>60代</td>\n",
              "      <td>男性</td>\n",
              "      <td>栃木市</td>\n",
              "      <td>2020-04-20</td>\n",
              "      <td>NaT</td>\n",
              "      <td>No.37の兄</td>\n",
              "    </tr>\n",
              "    <tr>\n",
              "      <th>50</th>\n",
              "      <td>30代</td>\n",
              "      <td>男性</td>\n",
              "      <td>真岡市</td>\n",
              "      <td>2020-04-21</td>\n",
              "      <td>NaT</td>\n",
              "      <td>NaN</td>\n",
              "    </tr>\n",
              "    <tr>\n",
              "      <th>51</th>\n",
              "      <td>20代</td>\n",
              "      <td>女性</td>\n",
              "      <td>栃木市</td>\n",
              "      <td>2020-04-21</td>\n",
              "      <td>NaT</td>\n",
              "      <td>No.47例目の娘</td>\n",
              "    </tr>\n",
              "    <tr>\n",
              "      <th>52</th>\n",
              "      <td>70代</td>\n",
              "      <td>男性</td>\n",
              "      <td>那須塩原市</td>\n",
              "      <td>2020-04-22</td>\n",
              "      <td>NaT</td>\n",
              "      <td>別の新型コロナ感染者と同じ会合に参加</td>\n",
              "    </tr>\n",
              "  </tbody>\n",
              "</table>\n",
              "</div>"
            ],
            "text/plain": [
              "     年代  性別    居住地      陽性判明日        退院日                     備考\n",
              "番号                                                             \n",
              "1   60代  女性     県南 2020-02-22 2020-03-27                クルーズ船下船\n",
              "2   30代  女性     県南 2020-03-05 2020-03-12  大阪ライブハウス、ショッピングセンター勤務\n",
              "3   40代  女性    宇都宮 2020-03-18 2020-04-01          タイ旅行　※宇都宮市1例目\n",
              "4   50代  男性     県南 2020-03-20 2020-04-03                ポルトガル旅行\n",
              "5   40代  男性  フィリピン 2020-03-24 2020-04-10              フィリピンから帰国\n",
              "6   70代  男性     安足 2020-03-24 2020-04-20               親族との接触あり\n",
              "7   60代  女性     安足 2020-03-25 2020-04-03                 No.6の妻\n",
              "8   50代  男性     県西 2020-03-25 2020-04-11                No.6の同僚\n",
              "9   50代  女性     県西 2020-03-25        NaT                 No.8の妻\n",
              "10  40代  男性     県南 2020-03-25 2020-04-18        別の新型コロナ感染者と濃厚接触\n",
              "11  10代  男性     県南 2020-03-26 2020-04-14                No.10の子\n",
              "12  60代  男性    東京都 2020-03-29        NaT              接待を伴う飲食あり\n",
              "13  30代  男性    宇都宮 2020-03-31        NaT               ※宇都宮市2例目\n",
              "14  50代  男性     県南 2020-03-31        NaT                    NaN\n",
              "15  20代  男性     県外 2020-04-01        NaT         県外で発症　※宇都宮市3例目\n",
              "16  40代  男性    宇都宮 2020-04-01        NaT       No.13の兄　※宇都宮市4例目\n",
              "17  40代  男性     県南 2020-04-01        NaT                    NaN\n",
              "18  30代  男性    宇都宮 2020-04-06        NaT     接待を伴う飲食あり　※宇都宮市5例目\n",
              "19  30代  男性    宇都宮 2020-04-06        NaT               ※宇都宮市6例目\n",
              "20  20代  男性    栃木市 2020-04-07        NaT                    NaN\n",
              "21  30代  女性    宇都宮 2020-04-07        NaT        都内の接客業　※宇都宮市7例目\n",
              "22  40代  男性    宇都宮 2020-04-07        NaT       神奈川県に出張　※宇都宮市8例目\n",
              "23  40代  男性    足利市 2020-04-08        NaT               都内ライブハウス\n",
              "24  10代  女性    佐野市 2020-04-08 2020-04-22               No.20の知人\n",
              "25  20代  男性    佐野市 2020-04-08 2020-04-22               No.20の同僚\n",
              "26  30代  男性    下野市 2020-04-08        NaT        別の新型コロナ感染者と濃厚接触\n",
              "27  60代  女性   宇都宮市 2020-04-08        NaT       No.21の母　※宇都宮市9例目\n",
              "28  30代  女性   宇都宮市 2020-04-08        NaT      No.21の妹　※宇都宮市10例目\n",
              "29  40代  男性    鹿沼市 2020-04-09 2020-04-19                    NaN\n",
              "30  70代  男性    栃木市 2020-04-09        NaT                    NaN\n",
              "31  70代  女性  那須塩原市 2020-04-09        NaT                    NaN\n",
              "32  20代  女性     県外 2020-04-10        NaT                No.14の娘\n",
              "33  70代  男性  那須塩原市 2020-04-11        NaT                No.31の夫\n",
              "34  60代  男性    小山市 2020-04-11        NaT                    NaN\n",
              "35  40代  男性    栃木市 2020-04-11        NaT                    NaN\n",
              "36  30代  女性    栃木市 2020-04-13        NaT                No.35の妻\n",
              "37  60代  男性    栃木市 2020-04-14        NaT                    NaN\n",
              "38  30代  男性   宇都宮市 2020-04-14        NaT     家族が他県で発症　※宇都宮市11例目\n",
              "39  60代  女性  那須塩原市 2020-04-15        NaT                    NaN\n",
              "40  40代  女性   宇都宮市 2020-04-15        NaT              ※宇都宮市12例目\n",
              "41  50代  女性  那須塩原市 2020-04-16        NaT         No.31及びNo.33の子\n",
              "42  50代  男性    栃木市 2020-04-16        NaT               No.37の同僚\n",
              "43  50代  女性    栃木市 2020-04-17        NaT                    NaN\n",
              "44  60代  男性  那須塩原市 2020-04-17        NaT                No.39の夫\n",
              "45  60代  女性    栃木市 2020-04-19        NaT               No.43の同僚\n",
              "46  60代  女性  那須塩原市 2020-04-19        NaT                    NaN\n",
              "47  50代  男性    栃木市 2020-04-20        NaT               No.45の同僚\n",
              "48  70代  男性    栃木市 2020-04-20        NaT               No.45の同僚\n",
              "49  60代  男性    栃木市 2020-04-20        NaT                No.37の兄\n",
              "50  30代  男性    真岡市 2020-04-21        NaT                    NaN\n",
              "51  20代  女性    栃木市 2020-04-21        NaT              No.47例目の娘\n",
              "52  70代  男性  那須塩原市 2020-04-22        NaT     別の新型コロナ感染者と同じ会合に参加"
            ]
          },
          "metadata": {
            "tags": []
          },
          "execution_count": 31
        }
      ]
    },
    {
      "cell_type": "code",
      "metadata": {
        "id": "ABQ-b0yEBM90",
        "colab_type": "code",
        "colab": {}
      },
      "source": [
        "df_kanja[\"退院\"] = df_kanja[\"退院日\"].dt.strftime(\"%Y-%m-%d\")"
      ],
      "execution_count": 0,
      "outputs": []
    },
    {
      "cell_type": "code",
      "metadata": {
        "id": "FD3RO4GETW2A",
        "colab_type": "code",
        "colab": {}
      },
      "source": [
        "df_kanja[\"状態\"]  = \"入院中\""
      ],
      "execution_count": 0,
      "outputs": []
    },
    {
      "cell_type": "code",
      "metadata": {
        "id": "zq4Tpq5cTeLU",
        "colab_type": "code",
        "colab": {}
      },
      "source": [
        "df_kanja[\"状態\"] = df_kanja[\"状態\"].where(df_kanja[\"退院日\"].isnull(), \"退院\")"
      ],
      "execution_count": 0,
      "outputs": []
    },
    {
      "cell_type": "markdown",
      "metadata": {
        "id": "TGorkbIyvLpQ",
        "colab_type": "text"
      },
      "source": [
        "## main_summary"
      ]
    },
    {
      "cell_type": "code",
      "metadata": {
        "id": "nfc72BChU_zN",
        "colab_type": "code",
        "colab": {}
      },
      "source": [
        "sr_situ = df_kanja[\"状態\"].value_counts()"
      ],
      "execution_count": 0,
      "outputs": []
    },
    {
      "cell_type": "code",
      "metadata": {
        "id": "qufNujUFtABa",
        "colab_type": "code",
        "outputId": "d6b41a25-2dc0-4918-a475-c2260f59ffe8",
        "colab": {
          "base_uri": "https://localhost:8080/",
          "height": 88
        }
      },
      "source": [
        "sr_situ = sr_situ.reindex([\"入院中\", \"退院\", \"死亡\"], fill_value=0)\n",
        "sr_situ"
      ],
      "execution_count": 36,
      "outputs": [
        {
          "output_type": "execute_result",
          "data": {
            "text/plain": [
              "入院中    39\n",
              "退院     13\n",
              "死亡      0\n",
              "Name: 状態, dtype: int64"
            ]
          },
          "metadata": {
            "tags": []
          },
          "execution_count": 36
        }
      ]
    },
    {
      "cell_type": "code",
      "metadata": {
        "id": "J4xLpF19uLE4",
        "colab_type": "code",
        "colab": {}
      },
      "source": [
        "data[\"main_summary\"] = {\n",
        "    \"attr\": \"検査実施人数\",\n",
        "    \"value\": kensa[4],\n",
        "    \"children\": [\n",
        "        {\n",
        "            \"attr\": \"陽性患者数\",\n",
        "            \"value\": kensa[5],\n",
        "            \"children\": [\n",
        "                {\"attr\": \"入院中\", \"value\": int(sr_situ[\"入院中\"])},\n",
        "                {\"attr\": \"退院\", \"value\": int(sr_situ[\"退院\"])},\n",
        "                {\"attr\": \"死亡\", \"value\": int(sr_situ[\"死亡\"])},\n",
        "            ],\n",
        "        }\n",
        "    ],\n",
        "}"
      ],
      "execution_count": 0,
      "outputs": []
    },
    {
      "cell_type": "markdown",
      "metadata": {
        "id": "dMoE_0aSo8io",
        "colab_type": "text"
      },
      "source": [
        "## patients"
      ]
    },
    {
      "cell_type": "code",
      "metadata": {
        "id": "eLyCb1h7MKJ3",
        "colab_type": "code",
        "colab": {}
      },
      "source": [
        "df_kanja[\"リリース日\"] = df_kanja[\"陽性判明日\"].dt.strftime(\"%Y-%m-%d\")"
      ],
      "execution_count": 0,
      "outputs": []
    },
    {
      "cell_type": "code",
      "metadata": {
        "id": "HC9xsB93UqXl",
        "colab_type": "code",
        "colab": {}
      },
      "source": [
        "df_patients = df_kanja.loc[:, [\"リリース日\", \"居住地\", \"年代\", \"性別\",\"退院\"]]"
      ],
      "execution_count": 0,
      "outputs": []
    },
    {
      "cell_type": "code",
      "metadata": {
        "id": "Sryv2HGBVxH9",
        "colab_type": "code",
        "colab": {}
      },
      "source": [
        "data[\"patients\"] = {\n",
        "    \"data\": df_patients.to_dict(orient=\"records\"),\n",
        "    \"date\": dt_update,\n",
        "}"
      ],
      "execution_count": 0,
      "outputs": []
    },
    {
      "cell_type": "code",
      "metadata": {
        "id": "ioyPx4NmV78X",
        "colab_type": "code",
        "colab": {}
      },
      "source": [
        ""
      ],
      "execution_count": 0,
      "outputs": []
    },
    {
      "cell_type": "markdown",
      "metadata": {
        "id": "D04QzEG4o_sv",
        "colab_type": "text"
      },
      "source": [
        "## patients_summary"
      ]
    },
    {
      "cell_type": "code",
      "metadata": {
        "id": "4BPlVWPMYEMA",
        "colab_type": "code",
        "colab": {}
      },
      "source": [
        "df_patients_sum = (df_kanja[\"陽性判明日\"].value_counts().sort_index().asfreq(\"D\", fill_value=0).reset_index())"
      ],
      "execution_count": 0,
      "outputs": []
    },
    {
      "cell_type": "code",
      "metadata": {
        "id": "95aG-rVaYKu9",
        "colab_type": "code",
        "colab": {}
      },
      "source": [
        "df_patients_sum[\"日付\"] = df_patients_sum[\"index\"].dt.strftime(\"%Y-%m-%d\")"
      ],
      "execution_count": 0,
      "outputs": []
    },
    {
      "cell_type": "code",
      "metadata": {
        "id": "ydun42oLYKyN",
        "colab_type": "code",
        "colab": {}
      },
      "source": [
        "df_patients_sum.rename(columns={\"陽性判明日\": \"小計\"}, inplace=True)\n",
        "\n",
        "df_patients_sum.drop(columns=[\"index\"], inplace=True)"
      ],
      "execution_count": 0,
      "outputs": []
    },
    {
      "cell_type": "code",
      "metadata": {
        "id": "NcQRDPRaYK1U",
        "colab_type": "code",
        "colab": {}
      },
      "source": [
        "data[\"patients_summary\"] = {\n",
        "    \"data\": df_patients_sum.loc[:, [\"日付\", \"小計\"]].values.tolist(),\n",
        "    \"date\": dt_update,\n",
        "}"
      ],
      "execution_count": 0,
      "outputs": []
    },
    {
      "cell_type": "code",
      "metadata": {
        "id": "gJ1vrLY9V1s5",
        "colab_type": "code",
        "colab": {}
      },
      "source": [
        "with open(\"data.json\", \"w\", encoding=\"utf-8\") as fw:\n",
        "    json.dump(data, fw, ignore_nan=True, ensure_ascii=False, indent=4)"
      ],
      "execution_count": 0,
      "outputs": []
    },
    {
      "cell_type": "markdown",
      "metadata": {
        "id": "yfLIyJV8251I",
        "colab_type": "text"
      },
      "source": [
        "# ダウンロード"
      ]
    },
    {
      "cell_type": "code",
      "metadata": {
        "id": "Ofz1r5d72x-P",
        "colab_type": "code",
        "colab": {}
      },
      "source": [
        "from google.colab import files"
      ],
      "execution_count": 0,
      "outputs": []
    },
    {
      "cell_type": "code",
      "metadata": {
        "id": "dPqGTqvq4cYH",
        "colab_type": "code",
        "colab": {}
      },
      "source": [
        "files.download(\"inspections.csv\")"
      ],
      "execution_count": 0,
      "outputs": []
    },
    {
      "cell_type": "code",
      "metadata": {
        "id": "ZeJ9VZdc21xv",
        "colab_type": "code",
        "colab": {}
      },
      "source": [
        "files.download(\"data.json\")"
      ],
      "execution_count": 0,
      "outputs": []
    }
  ]
}