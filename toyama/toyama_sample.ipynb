{
  "nbformat": 4,
  "nbformat_minor": 0,
  "metadata": {
    "colab": {
      "name": "toyama_sample.ipynb",
      "provenance": [],
      "collapsed_sections": [],
      "toc_visible": true,
      "authorship_tag": "ABX9TyP03n01c99h51gPGyqQcHU4",
      "include_colab_link": true
    },
    "kernelspec": {
      "name": "python3",
      "display_name": "Python 3"
    }
  },
  "cells": [
    {
      "cell_type": "markdown",
      "metadata": {
        "id": "view-in-github",
        "colab_type": "text"
      },
      "source": [
        "<a href=\"https://colab.research.google.com/github/imabari/covid19-data/blob/master/toyama/toyama_sample.ipynb\" target=\"_parent\"><img src=\"https://colab.research.google.com/assets/colab-badge.svg\" alt=\"Open In Colab\"/></a>"
      ]
    },
    {
      "cell_type": "markdown",
      "metadata": {
        "id": "ZPTiwSYgcD9y",
        "colab_type": "text"
      },
      "source": [
        "富山県のデータで作成\n",
        "\n",
        "※わかりやすいようにグラフ表示していますが値の場合は「.plot.bar()」を削除"
      ]
    },
    {
      "cell_type": "code",
      "metadata": {
        "id": "W90w0qd0OKbA",
        "colab_type": "code",
        "outputId": "0fc6b3d4-9949-4565-ebf0-5ad4860a9323",
        "colab": {
          "base_uri": "https://localhost:8080/",
          "height": 191
        }
      },
      "source": [
        "!pip install japanize-matplotlib"
      ],
      "execution_count": 1,
      "outputs": [
        {
          "output_type": "stream",
          "text": [
            "Collecting japanize-matplotlib\n",
            "\u001b[?25l  Downloading https://files.pythonhosted.org/packages/aa/c0/b75d434be51a8cc11d2e9b36f2d7f93a1bcf63bde24dc79a61d329d60b2a/japanize-matplotlib-1.0.5.tar.gz (4.1MB)\n",
            "\u001b[K     |████████████████████████████████| 4.1MB 4.5MB/s \n",
            "\u001b[?25hBuilding wheels for collected packages: japanize-matplotlib\n",
            "  Building wheel for japanize-matplotlib (setup.py) ... \u001b[?25l\u001b[?25hdone\n",
            "  Created wheel for japanize-matplotlib: filename=japanize_matplotlib-1.0.5-cp36-none-any.whl size=4118721 sha256=0f3722bc157fd7f0b358d037e74154fd11889fbe79630037cd1b66531a96dad1\n",
            "  Stored in directory: /root/.cache/pip/wheels/6c/8a/08/4a784957da9f3c2b4839b4986be2fba2a481877318948be52c\n",
            "Successfully built japanize-matplotlib\n",
            "Installing collected packages: japanize-matplotlib\n",
            "Successfully installed japanize-matplotlib-1.0.5\n"
          ],
          "name": "stdout"
        }
      ]
    },
    {
      "cell_type": "code",
      "metadata": {
        "id": "Pz5ZiWjygZvW",
        "colab_type": "code",
        "outputId": "7a7c4c69-750d-47fa-81c3-436628b14ce0",
        "colab": {
          "base_uri": "https://localhost:8080/",
          "height": 104
        }
      },
      "source": [
        "!pip install -U pandas"
      ],
      "execution_count": 2,
      "outputs": [
        {
          "output_type": "stream",
          "text": [
            "Requirement already up-to-date: pandas in /usr/local/lib/python3.6/dist-packages (1.0.3)\n",
            "Requirement already satisfied, skipping upgrade: python-dateutil>=2.6.1 in /usr/local/lib/python3.6/dist-packages (from pandas) (2.8.1)\n",
            "Requirement already satisfied, skipping upgrade: pytz>=2017.2 in /usr/local/lib/python3.6/dist-packages (from pandas) (2018.9)\n",
            "Requirement already satisfied, skipping upgrade: numpy>=1.13.3 in /usr/local/lib/python3.6/dist-packages (from pandas) (1.18.3)\n",
            "Requirement already satisfied, skipping upgrade: six>=1.5 in /usr/local/lib/python3.6/dist-packages (from python-dateutil>=2.6.1->pandas) (1.12.0)\n"
          ],
          "name": "stdout"
        }
      ]
    },
    {
      "cell_type": "code",
      "metadata": {
        "id": "Q4P0hfg0OKaC",
        "colab_type": "code",
        "colab": {}
      },
      "source": [
        "import pandas as pd\n",
        "import matplotlib.pyplot as plt"
      ],
      "execution_count": 0,
      "outputs": []
    },
    {
      "cell_type": "code",
      "metadata": {
        "id": "0_4HLsdHOKYR",
        "colab_type": "code",
        "outputId": "3b1d5781-4523-459c-c557-e18336184928",
        "colab": {
          "base_uri": "https://localhost:8080/",
          "height": 69
        }
      },
      "source": [
        "import japanize_matplotlib"
      ],
      "execution_count": 4,
      "outputs": [
        {
          "output_type": "stream",
          "text": [
            "/usr/local/lib/python3.6/dist-packages/japanize_matplotlib/__init__.py:13: MatplotlibDeprecationWarning: \n",
            "The createFontList function was deprecated in Matplotlib 3.2 and will be removed two minor releases later. Use FontManager.addfont instead.\n",
            "  font_list = font_manager.createFontList(font_files)\n"
          ],
          "name": "stderr"
        }
      ]
    },
    {
      "cell_type": "markdown",
      "metadata": {
        "id": "dF8GEhL_o5hx",
        "colab_type": "text"
      },
      "source": [
        "# 設定"
      ]
    },
    {
      "cell_type": "code",
      "metadata": {
        "id": "qVL6j85_iWUV",
        "colab_type": "code",
        "colab": {}
      },
      "source": [
        "COUNTS_FILE = \"toyama_counts.csv\"\n",
        "PATIENTS_FILE = \"toyama_patients.csv\""
      ],
      "execution_count": 0,
      "outputs": []
    },
    {
      "cell_type": "markdown",
      "metadata": {
        "id": "xeQkelXUqHFp",
        "colab_type": "text"
      },
      "source": [
        "# ダウンロード"
      ]
    },
    {
      "cell_type": "code",
      "metadata": {
        "id": "rKjNZrKGg0VW",
        "colab_type": "code",
        "outputId": "2a077b4c-6252-47f5-8c34-b2a6b23015c1",
        "colab": {
          "base_uri": "https://localhost:8080/",
          "height": 399
        }
      },
      "source": [
        "!wget \"https://docs.google.com/spreadsheets/d/e/2PACX-1vSJuQThafLPC7OPqUC9TbLV1DmSU0x2Co8VZi2Q2ZZCKLJCTayDl6IoXKyK676mzBgpkoKMgpNK1VML/pub?gid=0&single=true&output=csv\" -O $PATIENTS_FILE\n",
        "!wget \"https://docs.google.com/spreadsheets/d/e/2PACX-1vSJuQThafLPC7OPqUC9TbLV1DmSU0x2Co8VZi2Q2ZZCKLJCTayDl6IoXKyK676mzBgpkoKMgpNK1VML/pub?gid=574469870&single=true&output=csv\" -O $COUNTS_FILE"
      ],
      "execution_count": 6,
      "outputs": [
        {
          "output_type": "stream",
          "text": [
            "--2020-04-28 02:34:47--  https://docs.google.com/spreadsheets/d/e/2PACX-1vSJuQThafLPC7OPqUC9TbLV1DmSU0x2Co8VZi2Q2ZZCKLJCTayDl6IoXKyK676mzBgpkoKMgpNK1VML/pub?gid=0&single=true&output=csv\n",
            "Resolving docs.google.com (docs.google.com)... 74.125.142.100, 74.125.142.139, 74.125.142.101, ...\n",
            "Connecting to docs.google.com (docs.google.com)|74.125.142.100|:443... connected.\n",
            "HTTP request sent, awaiting response... 200 OK\n",
            "Length: unspecified [text/csv]\n",
            "Saving to: ‘toyama_patients.csv’\n",
            "\n",
            "toyama_patients.csv     [ <=>                ]  14.98K  --.-KB/s    in 0s      \n",
            "\n",
            "2020-04-28 02:34:47 (75.3 MB/s) - ‘toyama_patients.csv’ saved [15344]\n",
            "\n",
            "--2020-04-28 02:34:48--  https://docs.google.com/spreadsheets/d/e/2PACX-1vSJuQThafLPC7OPqUC9TbLV1DmSU0x2Co8VZi2Q2ZZCKLJCTayDl6IoXKyK676mzBgpkoKMgpNK1VML/pub?gid=574469870&single=true&output=csv\n",
            "Resolving docs.google.com (docs.google.com)... 173.194.202.138, 173.194.202.101, 173.194.202.100, ...\n",
            "Connecting to docs.google.com (docs.google.com)|173.194.202.138|:443... connected.\n",
            "HTTP request sent, awaiting response... 200 OK\n",
            "Length: unspecified [text/csv]\n",
            "Saving to: ‘toyama_counts.csv’\n",
            "\n",
            "toyama_counts.csv       [ <=>                ]   1.98K  --.-KB/s    in 0s      \n",
            "\n",
            "2020-04-28 02:34:49 (19.0 MB/s) - ‘toyama_counts.csv’ saved [2027]\n",
            "\n"
          ],
          "name": "stdout"
        }
      ]
    },
    {
      "cell_type": "markdown",
      "metadata": {
        "id": "jLrjSfpKcpCV",
        "colab_type": "text"
      },
      "source": [
        "# 内容確認"
      ]
    },
    {
      "cell_type": "markdown",
      "metadata": {
        "id": "8tPzIhmbdKiJ",
        "colab_type": "text"
      },
      "source": [
        "## 日別データ"
      ]
    },
    {
      "cell_type": "code",
      "metadata": {
        "id": "nGxj1IohggKC",
        "colab_type": "code",
        "outputId": "37534b6c-f129-4966-ef21-3b426dd47fbb",
        "colab": {
          "base_uri": "https://localhost:8080/",
          "height": 394
        }
      },
      "source": [
        "df_counts = pd.read_csv(COUNTS_FILE, index_col=\"年月日\", parse_dates=True, dtype={\"備考\": \"object\"})\n",
        "\n",
        "df_counts.head(10)"
      ],
      "execution_count": 7,
      "outputs": [
        {
          "output_type": "execute_result",
          "data": {
            "text/html": [
              "<div>\n",
              "<style scoped>\n",
              "    .dataframe tbody tr th:only-of-type {\n",
              "        vertical-align: middle;\n",
              "    }\n",
              "\n",
              "    .dataframe tbody tr th {\n",
              "        vertical-align: top;\n",
              "    }\n",
              "\n",
              "    .dataframe thead th {\n",
              "        text-align: right;\n",
              "    }\n",
              "</style>\n",
              "<table border=\"1\" class=\"dataframe\">\n",
              "  <thead>\n",
              "    <tr style=\"text-align: right;\">\n",
              "      <th></th>\n",
              "      <th>検査実施人数</th>\n",
              "      <th>陰性人数</th>\n",
              "      <th>陽性人数</th>\n",
              "      <th>一般相談件数</th>\n",
              "      <th>帰国者相談件数</th>\n",
              "      <th>退院者数</th>\n",
              "      <th>死亡者数</th>\n",
              "      <th>備考</th>\n",
              "    </tr>\n",
              "    <tr>\n",
              "      <th>年月日</th>\n",
              "      <th></th>\n",
              "      <th></th>\n",
              "      <th></th>\n",
              "      <th></th>\n",
              "      <th></th>\n",
              "      <th></th>\n",
              "      <th></th>\n",
              "      <th></th>\n",
              "    </tr>\n",
              "  </thead>\n",
              "  <tbody>\n",
              "    <tr>\n",
              "      <th>2020-02-27</th>\n",
              "      <td>24.0</td>\n",
              "      <td>24.0</td>\n",
              "      <td>0</td>\n",
              "      <td>1614.0</td>\n",
              "      <td>96.0</td>\n",
              "      <td>0</td>\n",
              "      <td>0</td>\n",
              "      <td>当日以前の分も含めて累計で表示</td>\n",
              "    </tr>\n",
              "    <tr>\n",
              "      <th>2020-02-28</th>\n",
              "      <td>0.0</td>\n",
              "      <td>0.0</td>\n",
              "      <td>0</td>\n",
              "      <td>144.0</td>\n",
              "      <td>8.0</td>\n",
              "      <td>0</td>\n",
              "      <td>0</td>\n",
              "      <td>NaN</td>\n",
              "    </tr>\n",
              "    <tr>\n",
              "      <th>2020-02-29</th>\n",
              "      <td>0.0</td>\n",
              "      <td>0.0</td>\n",
              "      <td>0</td>\n",
              "      <td>43.0</td>\n",
              "      <td>4.0</td>\n",
              "      <td>0</td>\n",
              "      <td>0</td>\n",
              "      <td>NaN</td>\n",
              "    </tr>\n",
              "    <tr>\n",
              "      <th>2020-03-01</th>\n",
              "      <td>1.0</td>\n",
              "      <td>1.0</td>\n",
              "      <td>0</td>\n",
              "      <td>29.0</td>\n",
              "      <td>4.0</td>\n",
              "      <td>0</td>\n",
              "      <td>0</td>\n",
              "      <td>NaN</td>\n",
              "    </tr>\n",
              "    <tr>\n",
              "      <th>2020-03-02</th>\n",
              "      <td>1.0</td>\n",
              "      <td>1.0</td>\n",
              "      <td>0</td>\n",
              "      <td>165.0</td>\n",
              "      <td>6.0</td>\n",
              "      <td>0</td>\n",
              "      <td>0</td>\n",
              "      <td>NaN</td>\n",
              "    </tr>\n",
              "    <tr>\n",
              "      <th>2020-03-03</th>\n",
              "      <td>2.0</td>\n",
              "      <td>2.0</td>\n",
              "      <td>0</td>\n",
              "      <td>129.0</td>\n",
              "      <td>8.0</td>\n",
              "      <td>0</td>\n",
              "      <td>0</td>\n",
              "      <td>NaN</td>\n",
              "    </tr>\n",
              "    <tr>\n",
              "      <th>2020-03-04</th>\n",
              "      <td>3.0</td>\n",
              "      <td>3.0</td>\n",
              "      <td>0</td>\n",
              "      <td>113.0</td>\n",
              "      <td>10.0</td>\n",
              "      <td>0</td>\n",
              "      <td>0</td>\n",
              "      <td>NaN</td>\n",
              "    </tr>\n",
              "    <tr>\n",
              "      <th>2020-03-05</th>\n",
              "      <td>3.0</td>\n",
              "      <td>3.0</td>\n",
              "      <td>0</td>\n",
              "      <td>90.0</td>\n",
              "      <td>6.0</td>\n",
              "      <td>0</td>\n",
              "      <td>0</td>\n",
              "      <td>NaN</td>\n",
              "    </tr>\n",
              "    <tr>\n",
              "      <th>2020-03-06</th>\n",
              "      <td>4.0</td>\n",
              "      <td>4.0</td>\n",
              "      <td>0</td>\n",
              "      <td>102.0</td>\n",
              "      <td>9.0</td>\n",
              "      <td>0</td>\n",
              "      <td>0</td>\n",
              "      <td>NaN</td>\n",
              "    </tr>\n",
              "    <tr>\n",
              "      <th>2020-03-07</th>\n",
              "      <td>0.0</td>\n",
              "      <td>0.0</td>\n",
              "      <td>0</td>\n",
              "      <td>20.0</td>\n",
              "      <td>1.0</td>\n",
              "      <td>0</td>\n",
              "      <td>0</td>\n",
              "      <td>NaN</td>\n",
              "    </tr>\n",
              "  </tbody>\n",
              "</table>\n",
              "</div>"
            ],
            "text/plain": [
              "            検査実施人数  陰性人数  陽性人数  一般相談件数  帰国者相談件数  退院者数  死亡者数               備考\n",
              "年月日                                                                         \n",
              "2020-02-27    24.0  24.0     0  1614.0     96.0     0     0  当日以前の分も含めて累計で表示\n",
              "2020-02-28     0.0   0.0     0   144.0      8.0     0     0              NaN\n",
              "2020-02-29     0.0   0.0     0    43.0      4.0     0     0              NaN\n",
              "2020-03-01     1.0   1.0     0    29.0      4.0     0     0              NaN\n",
              "2020-03-02     1.0   1.0     0   165.0      6.0     0     0              NaN\n",
              "2020-03-03     2.0   2.0     0   129.0      8.0     0     0              NaN\n",
              "2020-03-04     3.0   3.0     0   113.0     10.0     0     0              NaN\n",
              "2020-03-05     3.0   3.0     0    90.0      6.0     0     0              NaN\n",
              "2020-03-06     4.0   4.0     0   102.0      9.0     0     0              NaN\n",
              "2020-03-07     0.0   0.0     0    20.0      1.0     0     0              NaN"
            ]
          },
          "metadata": {
            "tags": []
          },
          "execution_count": 7
        }
      ]
    },
    {
      "cell_type": "markdown",
      "metadata": {
        "id": "kMjXOkxAdPZT",
        "colab_type": "text"
      },
      "source": [
        "## 患者データ"
      ]
    },
    {
      "cell_type": "code",
      "metadata": {
        "id": "zp1qsgKtcpYC",
        "colab_type": "code",
        "outputId": "de094aff-047a-48ce-f456-3818054fc9d7",
        "colab": {
          "base_uri": "https://localhost:8080/",
          "height": 394
        }
      },
      "source": [
        "df_kanja = pd.read_csv(PATIENTS_FILE, index_col=\"No\", dtype={\"発症日\": \"object\", \"年代\": \"object\", \"備考\": \"object\"})\n",
        "\n",
        "df_kanja.head(10)"
      ],
      "execution_count": 8,
      "outputs": [
        {
          "output_type": "execute_result",
          "data": {
            "text/html": [
              "<div>\n",
              "<style scoped>\n",
              "    .dataframe tbody tr th:only-of-type {\n",
              "        vertical-align: middle;\n",
              "    }\n",
              "\n",
              "    .dataframe tbody tr th {\n",
              "        vertical-align: top;\n",
              "    }\n",
              "\n",
              "    .dataframe thead th {\n",
              "        text-align: right;\n",
              "    }\n",
              "</style>\n",
              "<table border=\"1\" class=\"dataframe\">\n",
              "  <thead>\n",
              "    <tr style=\"text-align: right;\">\n",
              "      <th></th>\n",
              "      <th>市番号</th>\n",
              "      <th>検査結果判明日</th>\n",
              "      <th>年代</th>\n",
              "      <th>性別</th>\n",
              "      <th>居住地</th>\n",
              "      <th>職業</th>\n",
              "      <th>市区町村名</th>\n",
              "      <th>発症日</th>\n",
              "      <th>状態</th>\n",
              "      <th>症状</th>\n",
              "      <th>渡航歴の有無</th>\n",
              "      <th>備考</th>\n",
              "    </tr>\n",
              "    <tr>\n",
              "      <th>No</th>\n",
              "      <th></th>\n",
              "      <th></th>\n",
              "      <th></th>\n",
              "      <th></th>\n",
              "      <th></th>\n",
              "      <th></th>\n",
              "      <th></th>\n",
              "      <th></th>\n",
              "      <th></th>\n",
              "      <th></th>\n",
              "      <th></th>\n",
              "      <th></th>\n",
              "    </tr>\n",
              "  </thead>\n",
              "  <tbody>\n",
              "    <tr>\n",
              "      <th>1</th>\n",
              "      <td>感染者1</td>\n",
              "      <td>2020-03-30</td>\n",
              "      <td>20代</td>\n",
              "      <td>女</td>\n",
              "      <td>富山市</td>\n",
              "      <td>卒業生</td>\n",
              "      <td>富山市</td>\n",
              "      <td>NaN</td>\n",
              "      <td>入院中</td>\n",
              "      <td>軽症・中等症</td>\n",
              "      <td>x</td>\n",
              "      <td>NaN</td>\n",
              "    </tr>\n",
              "    <tr>\n",
              "      <th>2</th>\n",
              "      <td>A</td>\n",
              "      <td>2020-03-31</td>\n",
              "      <td>20代</td>\n",
              "      <td>女</td>\n",
              "      <td>南砺市</td>\n",
              "      <td>看護師</td>\n",
              "      <td>NaN</td>\n",
              "      <td>NaN</td>\n",
              "      <td>入院中</td>\n",
              "      <td>軽症・中等症</td>\n",
              "      <td>x</td>\n",
              "      <td>NaN</td>\n",
              "    </tr>\n",
              "    <tr>\n",
              "      <th>3</th>\n",
              "      <td>感染者2</td>\n",
              "      <td>2020-03-31</td>\n",
              "      <td>20代</td>\n",
              "      <td>女</td>\n",
              "      <td>富山市</td>\n",
              "      <td>保育士</td>\n",
              "      <td>富山市</td>\n",
              "      <td>NaN</td>\n",
              "      <td>入院中</td>\n",
              "      <td>無症状</td>\n",
              "      <td>x</td>\n",
              "      <td>NaN</td>\n",
              "    </tr>\n",
              "    <tr>\n",
              "      <th>4</th>\n",
              "      <td>感染者3</td>\n",
              "      <td>2020-03-31</td>\n",
              "      <td>20代</td>\n",
              "      <td>女</td>\n",
              "      <td>富山市</td>\n",
              "      <td>就職予定者</td>\n",
              "      <td>富山市</td>\n",
              "      <td>NaN</td>\n",
              "      <td>入院中</td>\n",
              "      <td>軽症・中等症</td>\n",
              "      <td>x</td>\n",
              "      <td>NaN</td>\n",
              "    </tr>\n",
              "    <tr>\n",
              "      <th>5</th>\n",
              "      <td>‐</td>\n",
              "      <td>2020-04-01</td>\n",
              "      <td>20代</td>\n",
              "      <td>男</td>\n",
              "      <td>射水市</td>\n",
              "      <td>新規採用教員</td>\n",
              "      <td>NaN</td>\n",
              "      <td>NaN</td>\n",
              "      <td>入院中</td>\n",
              "      <td>軽症・中等症</td>\n",
              "      <td>x</td>\n",
              "      <td>NaN</td>\n",
              "    </tr>\n",
              "    <tr>\n",
              "      <th>6</th>\n",
              "      <td>感染者4</td>\n",
              "      <td>2020-04-01</td>\n",
              "      <td>50代</td>\n",
              "      <td>女</td>\n",
              "      <td>富山市</td>\n",
              "      <td>介護施設職員</td>\n",
              "      <td>富山市</td>\n",
              "      <td>NaN</td>\n",
              "      <td>入院中</td>\n",
              "      <td>軽症・中等症</td>\n",
              "      <td>x</td>\n",
              "      <td>NaN</td>\n",
              "    </tr>\n",
              "    <tr>\n",
              "      <th>7</th>\n",
              "      <td>感染者5</td>\n",
              "      <td>2020-04-01</td>\n",
              "      <td>20代</td>\n",
              "      <td>男</td>\n",
              "      <td>富山市</td>\n",
              "      <td>会社員</td>\n",
              "      <td>富山市</td>\n",
              "      <td>NaN</td>\n",
              "      <td>入院中</td>\n",
              "      <td>無症状</td>\n",
              "      <td>x</td>\n",
              "      <td>NaN</td>\n",
              "    </tr>\n",
              "    <tr>\n",
              "      <th>8</th>\n",
              "      <td>-</td>\n",
              "      <td>2020-04-02</td>\n",
              "      <td>50代</td>\n",
              "      <td>女</td>\n",
              "      <td>射水市</td>\n",
              "      <td>国家公務員</td>\n",
              "      <td>NaN</td>\n",
              "      <td>NaN</td>\n",
              "      <td>入院中</td>\n",
              "      <td>軽症・中等症</td>\n",
              "      <td>x</td>\n",
              "      <td>NaN</td>\n",
              "    </tr>\n",
              "    <tr>\n",
              "      <th>9</th>\n",
              "      <td>感染者6</td>\n",
              "      <td>2020-04-04</td>\n",
              "      <td>20代</td>\n",
              "      <td>女</td>\n",
              "      <td>富山市</td>\n",
              "      <td>飲食店店員</td>\n",
              "      <td>富山市</td>\n",
              "      <td>NaN</td>\n",
              "      <td>入院中</td>\n",
              "      <td>軽症・中等症</td>\n",
              "      <td>x</td>\n",
              "      <td>NaN</td>\n",
              "    </tr>\n",
              "    <tr>\n",
              "      <th>10</th>\n",
              "      <td>感染者7</td>\n",
              "      <td>2020-04-04</td>\n",
              "      <td>50代</td>\n",
              "      <td>男</td>\n",
              "      <td>富山市</td>\n",
              "      <td>ライブハウス経営者</td>\n",
              "      <td>富山市</td>\n",
              "      <td>NaN</td>\n",
              "      <td>入院中</td>\n",
              "      <td>軽症・中等症</td>\n",
              "      <td>x</td>\n",
              "      <td>NaN</td>\n",
              "    </tr>\n",
              "  </tbody>\n",
              "</table>\n",
              "</div>"
            ],
            "text/plain": [
              "     市番号     検査結果判明日   年代 性別  居住地  ...  発症日   状態      症状 渡航歴の有無   備考\n",
              "No                                 ...                              \n",
              "1   感染者1  2020-03-30  20代  女  富山市  ...  NaN  入院中  軽症・中等症      x  NaN\n",
              "2      A  2020-03-31  20代  女  南砺市  ...  NaN  入院中  軽症・中等症      x  NaN\n",
              "3   感染者2  2020-03-31  20代  女  富山市  ...  NaN  入院中     無症状      x  NaN\n",
              "4   感染者3  2020-03-31  20代  女  富山市  ...  NaN  入院中  軽症・中等症      x  NaN\n",
              "5      ‐  2020-04-01  20代  男  射水市  ...  NaN  入院中  軽症・中等症      x  NaN\n",
              "6   感染者4  2020-04-01  50代  女  富山市  ...  NaN  入院中  軽症・中等症      x  NaN\n",
              "7   感染者5  2020-04-01  20代  男  富山市  ...  NaN  入院中     無症状      x  NaN\n",
              "8      -  2020-04-02  50代  女  射水市  ...  NaN  入院中  軽症・中等症      x  NaN\n",
              "9   感染者6  2020-04-04  20代  女  富山市  ...  NaN  入院中  軽症・中等症      x  NaN\n",
              "10  感染者7  2020-04-04  50代  男  富山市  ...  NaN  入院中  軽症・中等症      x  NaN\n",
              "\n",
              "[10 rows x 12 columns]"
            ]
          },
          "metadata": {
            "tags": []
          },
          "execution_count": 8
        }
      ]
    },
    {
      "cell_type": "markdown",
      "metadata": {
        "id": "1W4a01AiSlXh",
        "colab_type": "text"
      },
      "source": [
        "# 一般"
      ]
    },
    {
      "cell_type": "markdown",
      "metadata": {
        "id": "-mcWm53kRdnn",
        "colab_type": "text"
      },
      "source": [
        "## 検査実施状況"
      ]
    },
    {
      "cell_type": "code",
      "metadata": {
        "id": "12NvF2XwOudb",
        "colab_type": "code",
        "outputId": "a56adcc2-2233-413b-c0a8-9961814a13c0",
        "colab": {
          "base_uri": "https://localhost:8080/",
          "height": 112
        }
      },
      "source": [
        "df_counts.tail(1)"
      ],
      "execution_count": 9,
      "outputs": [
        {
          "output_type": "execute_result",
          "data": {
            "text/html": [
              "<div>\n",
              "<style scoped>\n",
              "    .dataframe tbody tr th:only-of-type {\n",
              "        vertical-align: middle;\n",
              "    }\n",
              "\n",
              "    .dataframe tbody tr th {\n",
              "        vertical-align: top;\n",
              "    }\n",
              "\n",
              "    .dataframe thead th {\n",
              "        text-align: right;\n",
              "    }\n",
              "</style>\n",
              "<table border=\"1\" class=\"dataframe\">\n",
              "  <thead>\n",
              "    <tr style=\"text-align: right;\">\n",
              "      <th></th>\n",
              "      <th>検査実施人数</th>\n",
              "      <th>陰性人数</th>\n",
              "      <th>陽性人数</th>\n",
              "      <th>一般相談件数</th>\n",
              "      <th>帰国者相談件数</th>\n",
              "      <th>退院者数</th>\n",
              "      <th>死亡者数</th>\n",
              "      <th>備考</th>\n",
              "    </tr>\n",
              "    <tr>\n",
              "      <th>年月日</th>\n",
              "      <th></th>\n",
              "      <th></th>\n",
              "      <th></th>\n",
              "      <th></th>\n",
              "      <th></th>\n",
              "      <th></th>\n",
              "      <th></th>\n",
              "      <th></th>\n",
              "    </tr>\n",
              "  </thead>\n",
              "  <tbody>\n",
              "    <tr>\n",
              "      <th>2020-04-27</th>\n",
              "      <td>NaN</td>\n",
              "      <td>NaN</td>\n",
              "      <td>1</td>\n",
              "      <td>NaN</td>\n",
              "      <td>NaN</td>\n",
              "      <td>3</td>\n",
              "      <td>0</td>\n",
              "      <td>NaN</td>\n",
              "    </tr>\n",
              "  </tbody>\n",
              "</table>\n",
              "</div>"
            ],
            "text/plain": [
              "            検査実施人数  陰性人数  陽性人数  一般相談件数  帰国者相談件数  退院者数  死亡者数   備考\n",
              "年月日                                                             \n",
              "2020-04-27     NaN   NaN     1     NaN      NaN     3     0  NaN"
            ]
          },
          "metadata": {
            "tags": []
          },
          "execution_count": 9
        }
      ]
    },
    {
      "cell_type": "markdown",
      "metadata": {
        "id": "BveDONFcQU4Q",
        "colab_type": "text"
      },
      "source": [
        "## 陽性患者数"
      ]
    },
    {
      "cell_type": "code",
      "metadata": {
        "id": "XMkKJ9rrQVO3",
        "colab_type": "code",
        "outputId": "5b50c352-cb20-4a10-a0cb-c17b15ebe37d",
        "colab": {
          "base_uri": "https://localhost:8080/",
          "height": 390
        }
      },
      "source": [
        "#日別\n",
        "df_counts[\"陽性人数\"].plot.bar()"
      ],
      "execution_count": 10,
      "outputs": [
        {
          "output_type": "execute_result",
          "data": {
            "text/plain": [
              "<matplotlib.axes._subplots.AxesSubplot at 0x7fe9f55cc0f0>"
            ]
          },
          "metadata": {
            "tags": []
          },
          "execution_count": 10
        },
        {
          "output_type": "display_data",
          "data": {
            "image/png": "[encoded data removed]",
            "text/plain": [
              "<Figure size 432x288 with 1 Axes>"
            ]
          },
          "metadata": {
            "tags": [],
            "needs_background": "light"
          }
        }
      ]
    },
    {
      "cell_type": "code",
      "metadata": {
        "id": "uYpxytDgQVWw",
        "colab_type": "code",
        "outputId": "9bfc0fe5-dbe4-4d23-8f40-74f8569c9d28",
        "colab": {
          "base_uri": "https://localhost:8080/",
          "height": 390
        }
      },
      "source": [
        "# 累計\n",
        "df_counts[\"陽性人数\"].cumsum().plot.bar()"
      ],
      "execution_count": 11,
      "outputs": [
        {
          "output_type": "execute_result",
          "data": {
            "text/plain": [
              "<matplotlib.axes._subplots.AxesSubplot at 0x7fe9f53c91d0>"
            ]
          },
          "metadata": {
            "tags": []
          },
          "execution_count": 11
        },
        {
          "output_type": "display_data",
          "data": {
            "image/png": "[encoded data removed]",
            "text/plain": [
              "<Figure size 432x288 with 1 Axes>"
            ]
          },
          "metadata": {
            "tags": [],
            "needs_background": "light"
          }
        }
      ]
    },
    {
      "cell_type": "markdown",
      "metadata": {
        "id": "iCZ2-5yzqhOr",
        "colab_type": "text"
      },
      "source": [
        "## 検査実施人数"
      ]
    },
    {
      "cell_type": "code",
      "metadata": {
        "id": "EUX2xhjwOtFT",
        "colab_type": "code",
        "outputId": "a1607f47-7178-41c3-f073-8b6d1ca844cd",
        "colab": {
          "base_uri": "https://localhost:8080/",
          "height": 390
        }
      },
      "source": [
        "# 日別\n",
        "df_counts[\"検査実施人数\"].plot.bar()"
      ],
      "execution_count": 12,
      "outputs": [
        {
          "output_type": "execute_result",
          "data": {
            "text/plain": [
              "<matplotlib.axes._subplots.AxesSubplot at 0x7fe9f6312470>"
            ]
          },
          "metadata": {
            "tags": []
          },
          "execution_count": 12
        },
        {
          "output_type": "display_data",
          "data": {
            "image/png": "[encoded data removed]",
            "text/plain": [
              "<Figure size 432x288 with 1 Axes>"
            ]
          },
          "metadata": {
            "tags": [],
            "needs_background": "light"
          }
        }
      ]
    },
    {
      "cell_type": "code",
      "metadata": {
        "id": "n3dj-SR7PJzr",
        "colab_type": "code",
        "outputId": "8cf7b578-b07e-42e5-a480-e55d3028cc5c",
        "colab": {
          "base_uri": "https://localhost:8080/",
          "height": 390
        }
      },
      "source": [
        "# 累計\n",
        "df_counts[\"検査実施人数\"].cumsum().plot.bar()"
      ],
      "execution_count": 13,
      "outputs": [
        {
          "output_type": "execute_result",
          "data": {
            "text/plain": [
              "<matplotlib.axes._subplots.AxesSubplot at 0x7fe9f4c62d30>"
            ]
          },
          "metadata": {
            "tags": []
          },
          "execution_count": 13
        },
        {
          "output_type": "display_data",
          "data": {
            "image/png": "[encoded data removed]",
            "text/plain": [
              "<Figure size 432x288 with 1 Axes>"
            ]
          },
          "metadata": {
            "tags": [],
            "needs_background": "light"
          }
        }
      ]
    },
    {
      "cell_type": "markdown",
      "metadata": {
        "id": "Y5RHFCfKRGpo",
        "colab_type": "text"
      },
      "source": [
        "## 相談件数"
      ]
    },
    {
      "cell_type": "code",
      "metadata": {
        "id": "_z7ziW3DQssY",
        "colab_type": "code",
        "outputId": "c392ccf0-a529-4bde-a3ed-5a98924cdfab",
        "colab": {
          "base_uri": "https://localhost:8080/",
          "height": 390
        }
      },
      "source": [
        "# 日別\n",
        "df_counts[\"一般相談件数\"].plot.bar()"
      ],
      "execution_count": 14,
      "outputs": [
        {
          "output_type": "execute_result",
          "data": {
            "text/plain": [
              "<matplotlib.axes._subplots.AxesSubplot at 0x7fe9f4c38630>"
            ]
          },
          "metadata": {
            "tags": []
          },
          "execution_count": 14
        },
        {
          "output_type": "display_data",
          "data": {
            "image/png": "[encoded data removed]",
            "text/plain": [
              "<Figure size 432x288 with 1 Axes>"
            ]
          },
          "metadata": {
            "tags": [],
            "needs_background": "light"
          }
        }
      ]
    },
    {
      "cell_type": "code",
      "metadata": {
        "id": "EuP-GYNCRMJg",
        "colab_type": "code",
        "outputId": "52368397-cb33-4ed6-ec06-fbe24d9a66df",
        "colab": {
          "base_uri": "https://localhost:8080/",
          "height": 390
        }
      },
      "source": [
        "# 累計\n",
        "df_counts[\"一般相談件数\"].cumsum().plot.bar()"
      ],
      "execution_count": 15,
      "outputs": [
        {
          "output_type": "execute_result",
          "data": {
            "text/plain": [
              "<matplotlib.axes._subplots.AxesSubplot at 0x7fe9f541bc50>"
            ]
          },
          "metadata": {
            "tags": []
          },
          "execution_count": 15
        },
        {
          "output_type": "display_data",
          "data": {
            "image/png": "[encoded data removed]",
            "text/plain": [
              "<Figure size 432x288 with 1 Axes>"
            ]
          },
          "metadata": {
            "tags": [],
            "needs_background": "light"
          }
        }
      ]
    },
    {
      "cell_type": "markdown",
      "metadata": {
        "id": "3CSLybdsS2-f",
        "colab_type": "text"
      },
      "source": [
        "# その他"
      ]
    },
    {
      "cell_type": "markdown",
      "metadata": {
        "id": "JvkFDf_8TBMu",
        "colab_type": "text"
      },
      "source": [
        "## 現在患者数"
      ]
    },
    {
      "cell_type": "markdown",
      "metadata": {
        "id": "MnYujg27eGLJ",
        "colab_type": "text"
      },
      "source": [
        "現在患者数とは、陽性人数から退院者数と死亡者数を除いた人数です。"
      ]
    },
    {
      "cell_type": "code",
      "metadata": {
        "id": "EHZj_30JTBom",
        "colab_type": "code",
        "colab": {}
      },
      "source": [
        "df_counts[\"現在患者数\"] = df_counts[\"陽性人数\"] - df_counts[\"退院者数\"] - df_counts[\"死亡者数\"]"
      ],
      "execution_count": 0,
      "outputs": []
    },
    {
      "cell_type": "code",
      "metadata": {
        "id": "q8xHctenV1xQ",
        "colab_type": "code",
        "outputId": "4c1fc107-f7c7-4cdf-d412-e16a392c282e",
        "colab": {
          "base_uri": "https://localhost:8080/",
          "height": 390
        }
      },
      "source": [
        "# 日別\n",
        "df_counts[\"現在患者数\"].plot.bar()"
      ],
      "execution_count": 17,
      "outputs": [
        {
          "output_type": "execute_result",
          "data": {
            "text/plain": [
              "<matplotlib.axes._subplots.AxesSubplot at 0x7fe9f477b518>"
            ]
          },
          "metadata": {
            "tags": []
          },
          "execution_count": 17
        },
        {
          "output_type": "display_data",
          "data": {
            "image/png": "[encoded data removed]",
            "text/plain": [
              "<Figure size 432x288 with 1 Axes>"
            ]
          },
          "metadata": {
            "tags": [],
            "needs_background": "light"
          }
        }
      ]
    },
    {
      "cell_type": "code",
      "metadata": {
        "id": "Yf1C0GD6V3hQ",
        "colab_type": "code",
        "outputId": "eae263d2-2912-4caf-8c15-061b5b9a623b",
        "colab": {
          "base_uri": "https://localhost:8080/",
          "height": 390
        }
      },
      "source": [
        "# 累計\n",
        "df_counts[\"現在患者数\"].cumsum().plot.bar()"
      ],
      "execution_count": 18,
      "outputs": [
        {
          "output_type": "execute_result",
          "data": {
            "text/plain": [
              "<matplotlib.axes._subplots.AxesSubplot at 0x7fe9f495a320>"
            ]
          },
          "metadata": {
            "tags": []
          },
          "execution_count": 18
        },
        {
          "output_type": "display_data",
          "data": {
            "image/png": "[encoded data removed]",
            "text/plain": [
              "<Figure size 432x288 with 1 Axes>"
            ]
          },
          "metadata": {
            "tags": [],
            "needs_background": "light"
          }
        }
      ]
    },
    {
      "cell_type": "markdown",
      "metadata": {
        "id": "0kweVh8kU2rl",
        "colab_type": "text"
      },
      "source": [
        "## 治療修了者数"
      ]
    },
    {
      "cell_type": "code",
      "metadata": {
        "id": "Hfif53q2Uqm1",
        "colab_type": "code",
        "outputId": "53cd4628-bf7c-4ec4-8171-0ebdfb2f82a7",
        "colab": {
          "base_uri": "https://localhost:8080/",
          "height": 390
        }
      },
      "source": [
        "# 日別\n",
        "df_counts[\"退院者数\"].plot.bar()"
      ],
      "execution_count": 19,
      "outputs": [
        {
          "output_type": "execute_result",
          "data": {
            "text/plain": [
              "<matplotlib.axes._subplots.AxesSubplot at 0x7fe9f340c860>"
            ]
          },
          "metadata": {
            "tags": []
          },
          "execution_count": 19
        },
        {
          "output_type": "display_data",
          "data": {
            "image/png": "[encoded data removed]",
            "text/plain": [
              "<Figure size 432x288 with 1 Axes>"
            ]
          },
          "metadata": {
            "tags": [],
            "needs_background": "light"
          }
        }
      ]
    },
    {
      "cell_type": "code",
      "metadata": {
        "id": "YDFvHGa4Vjgu",
        "colab_type": "code",
        "outputId": "4b077f49-b2ed-47fa-a799-bf807b19f01d",
        "colab": {
          "base_uri": "https://localhost:8080/",
          "height": 390
        }
      },
      "source": [
        "# 累計\n",
        "df_counts[\"退院者数\"].cumsum().plot.bar()"
      ],
      "execution_count": 20,
      "outputs": [
        {
          "output_type": "execute_result",
          "data": {
            "text/plain": [
              "<matplotlib.axes._subplots.AxesSubplot at 0x7fe9f31d3b00>"
            ]
          },
          "metadata": {
            "tags": []
          },
          "execution_count": 20
        },
        {
          "output_type": "display_data",
          "data": {
            "image/png": "[encoded data removed]",
            "text/plain": [
              "<Figure size 432x288 with 1 Axes>"
            ]
          },
          "metadata": {
            "tags": [],
            "needs_background": "light"
          }
        }
      ]
    },
    {
      "cell_type": "markdown",
      "metadata": {
        "id": "pq402mR6YU18",
        "colab_type": "text"
      },
      "source": [
        "## 年代別"
      ]
    },
    {
      "cell_type": "code",
      "metadata": {
        "id": "k4ce1RQrXVwz",
        "colab_type": "code",
        "outputId": "59e18786-8f22-4d42-fd18-b4c6627e6fe6",
        "colab": {
          "base_uri": "https://localhost:8080/",
          "height": 315
        }
      },
      "source": [
        "age_lists = [\"10歳未満\", \"10代\", \"20代\", \"30代\", \"40代\", \"50代\", \"60代\", \"70代\", \"80代\", \"90代以上\"]\n",
        "df_kanja[\"年代\"].value_counts().reindex(age_lists).plot.bar()"
      ],
      "execution_count": 21,
      "outputs": [
        {
          "output_type": "execute_result",
          "data": {
            "text/plain": [
              "<matplotlib.axes._subplots.AxesSubplot at 0x7fe9f2f09198>"
            ]
          },
          "metadata": {
            "tags": []
          },
          "execution_count": 21
        },
        {
          "output_type": "display_data",
          "data": {
            "image/png": "[encoded data removed]",
            "text/plain": [
              "<Figure size 432x288 with 1 Axes>"
            ]
          },
          "metadata": {
            "tags": [],
            "needs_background": "light"
          }
        }
      ]
    },
    {
      "cell_type": "markdown",
      "metadata": {
        "id": "q9AIY6V3oVga",
        "colab_type": "text"
      },
      "source": [
        "## 年代・男女別"
      ]
    },
    {
      "cell_type": "code",
      "metadata": {
        "id": "_Rnhi9Wxm9EZ",
        "colab_type": "code",
        "colab": {
          "base_uri": "https://localhost:8080/",
          "height": 328
        },
        "outputId": "c85a2c52-bc88-4463-d962-e7bf484476e7"
      },
      "source": [
        "pd.crosstab(df_kanja[\"年代\"], df_kanja[\"性別\"]).reindex(index=age_lists, columns=[\"男\", \"女\"]).plot.bar(stacked=True)"
      ],
      "execution_count": 22,
      "outputs": [
        {
          "output_type": "execute_result",
          "data": {
            "text/plain": [
              "<matplotlib.axes._subplots.AxesSubplot at 0x7fe9f2ea70f0>"
            ]
          },
          "metadata": {
            "tags": []
          },
          "execution_count": 22
        },
        {
          "output_type": "display_data",
          "data": {
            "image/png": "[encoded data removed]",
            "text/plain": [
              "<Figure size 432x288 with 1 Axes>"
            ]
          },
          "metadata": {
            "tags": [],
            "needs_background": "light"
          }
        }
      ]
    },
    {
      "cell_type": "markdown",
      "metadata": {
        "id": "xqs3ZFfnoeYH",
        "colab_type": "text"
      },
      "source": [
        "## 男女別"
      ]
    },
    {
      "cell_type": "code",
      "metadata": {
        "id": "LQqGYfUwoIgv",
        "colab_type": "code",
        "colab": {
          "base_uri": "https://localhost:8080/",
          "height": 282
        },
        "outputId": "69829302-c48e-4fd1-c855-77d2f08c46f0"
      },
      "source": [
        "df_kanja[\"性別\"].value_counts().reindex([\"男\", \"女\"]).plot.bar()"
      ],
      "execution_count": 23,
      "outputs": [
        {
          "output_type": "execute_result",
          "data": {
            "text/plain": [
              "<matplotlib.axes._subplots.AxesSubplot at 0x7fe9f2e5bef0>"
            ]
          },
          "metadata": {
            "tags": []
          },
          "execution_count": 23
        },
        {
          "output_type": "display_data",
          "data": {
            "image/png": "[encoded data removed]",
            "text/plain": [
              "<Figure size 432x288 with 1 Axes>"
            ]
          },
          "metadata": {
            "tags": [],
            "needs_background": "light"
          }
        }
      ]
    },
    {
      "cell_type": "markdown",
      "metadata": {
        "id": "jejaaxM1oiWH",
        "colab_type": "text"
      },
      "source": [
        "## 男女・年代別"
      ]
    },
    {
      "cell_type": "code",
      "metadata": {
        "id": "dvwsFJlUn0hv",
        "colab_type": "code",
        "colab": {
          "base_uri": "https://localhost:8080/",
          "height": 296
        },
        "outputId": "87f11281-1f0b-494a-9c09-314bc9b0490d"
      },
      "source": [
        "pd.crosstab(df_kanja[\"性別\"], df_kanja[\"年代\"]).reindex(index=[\"男\", \"女\"], columns=age_lists).plot.bar(stacked=True)"
      ],
      "execution_count": 24,
      "outputs": [
        {
          "output_type": "execute_result",
          "data": {
            "text/plain": [
              "<matplotlib.axes._subplots.AxesSubplot at 0x7fe9f2d9ac50>"
            ]
          },
          "metadata": {
            "tags": []
          },
          "execution_count": 24
        },
        {
          "output_type": "display_data",
          "data": {
            "image/png": "[encoded data removed]",
            "text/plain": [
              "<Figure size 432x288 with 1 Axes>"
            ]
          },
          "metadata": {
            "tags": [],
            "needs_background": "light"
          }
        }
      ]
    },
    {
      "cell_type": "markdown",
      "metadata": {
        "id": "o6z_zwMAXOOk",
        "colab_type": "text"
      },
      "source": [
        "## 居住地別"
      ]
    },
    {
      "cell_type": "code",
      "metadata": {
        "id": "4C-5LnzBW2b9",
        "colab_type": "code",
        "outputId": "e6baad9b-dd92-4e5f-bfe8-004f3965c8b1",
        "colab": {
          "base_uri": "https://localhost:8080/",
          "height": 302
        }
      },
      "source": [
        "df_kanja[\"居住地\"].value_counts().plot.bar()"
      ],
      "execution_count": 25,
      "outputs": [
        {
          "output_type": "execute_result",
          "data": {
            "text/plain": [
              "<matplotlib.axes._subplots.AxesSubplot at 0x7fe9f2cdfdd8>"
            ]
          },
          "metadata": {
            "tags": []
          },
          "execution_count": 25
        },
        {
          "output_type": "display_data",
          "data": {
            "image/png": "[encoded data removed]",
            "text/plain": [
              "<Figure size 432x288 with 1 Axes>"
            ]
          },
          "metadata": {
            "tags": [],
            "needs_background": "light"
          }
        }
      ]
    },
    {
      "cell_type": "markdown",
      "metadata": {
        "id": "RwBOAArYYlgk",
        "colab_type": "text"
      },
      "source": [
        "## 陽性率"
      ]
    },
    {
      "cell_type": "code",
      "metadata": {
        "id": "QvKAQ-etYlCj",
        "colab_type": "code",
        "colab": {}
      },
      "source": [
        "df_positive = df_counts.loc[:, [\"検査実施人数\", \"陽性人数\"]].copy()"
      ],
      "execution_count": 0,
      "outputs": []
    },
    {
      "cell_type": "code",
      "metadata": {
        "id": "PLuJFUA2pLJh",
        "colab_type": "code",
        "colab": {
          "base_uri": "https://localhost:8080/",
          "height": 455
        },
        "outputId": "3e33e7eb-8bfa-4fa4-c29f-17bb2d763bbd"
      },
      "source": [
        "df_positive"
      ],
      "execution_count": 31,
      "outputs": [
        {
          "output_type": "execute_result",
          "data": {
            "text/html": [
              "<div>\n",
              "<style scoped>\n",
              "    .dataframe tbody tr th:only-of-type {\n",
              "        vertical-align: middle;\n",
              "    }\n",
              "\n",
              "    .dataframe tbody tr th {\n",
              "        vertical-align: top;\n",
              "    }\n",
              "\n",
              "    .dataframe thead th {\n",
              "        text-align: right;\n",
              "    }\n",
              "</style>\n",
              "<table border=\"1\" class=\"dataframe\">\n",
              "  <thead>\n",
              "    <tr style=\"text-align: right;\">\n",
              "      <th></th>\n",
              "      <th>検査実施人数</th>\n",
              "      <th>陽性人数</th>\n",
              "    </tr>\n",
              "    <tr>\n",
              "      <th>年月日</th>\n",
              "      <th></th>\n",
              "      <th></th>\n",
              "    </tr>\n",
              "  </thead>\n",
              "  <tbody>\n",
              "    <tr>\n",
              "      <th>2020-02-27</th>\n",
              "      <td>24.0</td>\n",
              "      <td>0</td>\n",
              "    </tr>\n",
              "    <tr>\n",
              "      <th>2020-02-28</th>\n",
              "      <td>0.0</td>\n",
              "      <td>0</td>\n",
              "    </tr>\n",
              "    <tr>\n",
              "      <th>2020-02-29</th>\n",
              "      <td>0.0</td>\n",
              "      <td>0</td>\n",
              "    </tr>\n",
              "    <tr>\n",
              "      <th>2020-03-01</th>\n",
              "      <td>1.0</td>\n",
              "      <td>0</td>\n",
              "    </tr>\n",
              "    <tr>\n",
              "      <th>2020-03-02</th>\n",
              "      <td>1.0</td>\n",
              "      <td>0</td>\n",
              "    </tr>\n",
              "    <tr>\n",
              "      <th>...</th>\n",
              "      <td>...</td>\n",
              "      <td>...</td>\n",
              "    </tr>\n",
              "    <tr>\n",
              "      <th>2020-04-23</th>\n",
              "      <td>110.0</td>\n",
              "      <td>13</td>\n",
              "    </tr>\n",
              "    <tr>\n",
              "      <th>2020-04-24</th>\n",
              "      <td>126.0</td>\n",
              "      <td>14</td>\n",
              "    </tr>\n",
              "    <tr>\n",
              "      <th>2020-04-25</th>\n",
              "      <td>88.0</td>\n",
              "      <td>6</td>\n",
              "    </tr>\n",
              "    <tr>\n",
              "      <th>2020-04-26</th>\n",
              "      <td>24.0</td>\n",
              "      <td>3</td>\n",
              "    </tr>\n",
              "    <tr>\n",
              "      <th>2020-04-27</th>\n",
              "      <td>NaN</td>\n",
              "      <td>1</td>\n",
              "    </tr>\n",
              "  </tbody>\n",
              "</table>\n",
              "<p>61 rows × 2 columns</p>\n",
              "</div>"
            ],
            "text/plain": [
              "            検査実施人数  陽性人数\n",
              "年月日                     \n",
              "2020-02-27    24.0     0\n",
              "2020-02-28     0.0     0\n",
              "2020-02-29     0.0     0\n",
              "2020-03-01     1.0     0\n",
              "2020-03-02     1.0     0\n",
              "...            ...   ...\n",
              "2020-04-23   110.0    13\n",
              "2020-04-24   126.0    14\n",
              "2020-04-25    88.0     6\n",
              "2020-04-26    24.0     3\n",
              "2020-04-27     NaN     1\n",
              "\n",
              "[61 rows x 2 columns]"
            ]
          },
          "metadata": {
            "tags": []
          },
          "execution_count": 31
        }
      ]
    },
    {
      "cell_type": "code",
      "metadata": {
        "id": "DDYBtlDdZmX_",
        "colab_type": "code",
        "outputId": "92303ec6-c28a-438b-db6a-5c50d0dd0d79",
        "colab": {
          "base_uri": "https://localhost:8080/",
          "height": 329
        }
      },
      "source": [
        "# 7日間平均\n",
        "df_positive_2w = df_positive.rolling(window=7).mean()\n",
        "df_positive_2w[\"陽性率\"] = df_positive_2w[\"陽性人数\"] / df_positive_2w[\"検査実施人数\"] * 100\n",
        "df_positive_2w[\"陽性率\"].plot(ylim=(0, 50))"
      ],
      "execution_count": 27,
      "outputs": [
        {
          "output_type": "execute_result",
          "data": {
            "text/plain": [
              "<matplotlib.axes._subplots.AxesSubplot at 0x7fe9f2ce6c18>"
            ]
          },
          "metadata": {
            "tags": []
          },
          "execution_count": 27
        },
        {
          "output_type": "display_data",
          "data": {
            "image/png": "[encoded data removed]",
            "text/plain": [
              "<Figure size 432x288 with 1 Axes>"
            ]
          },
          "metadata": {
            "tags": [],
            "needs_background": "light"
          }
        }
      ]
    },
    {
      "cell_type": "code",
      "metadata": {
        "id": "MvfaH0rzbM0z",
        "colab_type": "code",
        "outputId": "38e8624a-edf1-4493-c386-6b9d10ce5949",
        "colab": {
          "base_uri": "https://localhost:8080/",
          "height": 329
        }
      },
      "source": [
        "# 補正なし\n",
        "df_positive[\"陽性率\"] = df_positive[\"陽性人数\"] / df_positive[\"検査実施人数\"] * 100\n",
        "df_positive[\"陽性率\"].plot(ylim=(0, 50))"
      ],
      "execution_count": 28,
      "outputs": [
        {
          "output_type": "execute_result",
          "data": {
            "text/plain": [
              "<matplotlib.axes._subplots.AxesSubplot at 0x7fe9f2c3ef98>"
            ]
          },
          "metadata": {
            "tags": []
          },
          "execution_count": 28
        },
        {
          "output_type": "display_data",
          "data": {
            "image/png": "[encoded data removed]",
            "text/plain": [
              "<Figure size 432x288 with 1 Axes>"
            ]
          },
          "metadata": {
            "tags": [],
            "needs_background": "light"
          }
        }
      ]
    }
  ]
}