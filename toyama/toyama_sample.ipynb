{
  "nbformat": 4,
  "nbformat_minor": 0,
  "metadata": {
    "colab": {
      "name": "toyama_sample.ipynb",
      "provenance": [],
      "collapsed_sections": [],
      "authorship_tag": "ABX9TyPVp9u8lfI175VWWV2Y6Yxv",
      "include_colab_link": true
    },
    "kernelspec": {
      "name": "python3",
      "display_name": "Python 3"
    }
  },
  "cells": [
    {
      "cell_type": "markdown",
      "metadata": {
        "id": "view-in-github",
        "colab_type": "text"
      },
      "source": [
        "<a href=\"https://colab.research.google.com/github/imabari/covid19-data/blob/master/toyama/toyama_sample.ipynb\" target=\"_parent\"><img src=\"https://colab.research.google.com/assets/colab-badge.svg\" alt=\"Open In Colab\"/></a>"
      ]
    },
    {
      "cell_type": "markdown",
      "metadata": {
        "id": "ZPTiwSYgcD9y",
        "colab_type": "text"
      },
      "source": [
        "富山県のデータで作成\n",
        "\n",
        "※わかりやすいようにグラフ表示していますが値の場合は「.plot.bar()」を削除"
      ]
    },
    {
      "cell_type": "code",
      "metadata": {
        "id": "W90w0qd0OKbA",
        "colab_type": "code",
        "colab": {
          "base_uri": "https://localhost:8080/",
          "height": 34
        },
        "outputId": "09ee04ba-e6cf-4570-86f4-d874b3acf8d0"
      },
      "source": [
        "!pip install japanize-matplotlib"
      ],
      "execution_count": 27,
      "outputs": [
        {
          "output_type": "stream",
          "text": [
            "Requirement already satisfied: japanize-matplotlib in /usr/local/lib/python3.6/dist-packages (1.0.5)\n"
          ],
          "name": "stdout"
        }
      ]
    },
    {
      "cell_type": "code",
      "metadata": {
        "id": "Pz5ZiWjygZvW",
        "colab_type": "code",
        "outputId": "02e65a16-858a-4ec6-f12e-964c3fa9b5db",
        "colab": {
          "base_uri": "https://localhost:8080/",
          "height": 104
        }
      },
      "source": [
        "!pip install -U pandas"
      ],
      "execution_count": 28,
      "outputs": [
        {
          "output_type": "stream",
          "text": [
            "Requirement already up-to-date: pandas in /usr/local/lib/python3.6/dist-packages (1.0.3)\n",
            "Requirement already satisfied, skipping upgrade: python-dateutil>=2.6.1 in /usr/local/lib/python3.6/dist-packages (from pandas) (2.8.1)\n",
            "Requirement already satisfied, skipping upgrade: pytz>=2017.2 in /usr/local/lib/python3.6/dist-packages (from pandas) (2018.9)\n",
            "Requirement already satisfied, skipping upgrade: numpy>=1.13.3 in /usr/local/lib/python3.6/dist-packages (from pandas) (1.18.3)\n",
            "Requirement already satisfied, skipping upgrade: six>=1.5 in /usr/local/lib/python3.6/dist-packages (from python-dateutil>=2.6.1->pandas) (1.12.0)\n"
          ],
          "name": "stdout"
        }
      ]
    },
    {
      "cell_type": "code",
      "metadata": {
        "id": "Q4P0hfg0OKaC",
        "colab_type": "code",
        "colab": {}
      },
      "source": [
        "import pandas as pd\n",
        "import matplotlib.pyplot as plt"
      ],
      "execution_count": 0,
      "outputs": []
    },
    {
      "cell_type": "code",
      "metadata": {
        "id": "0_4HLsdHOKYR",
        "colab_type": "code",
        "colab": {}
      },
      "source": [
        "import japanize_matplotlib"
      ],
      "execution_count": 0,
      "outputs": []
    },
    {
      "cell_type": "markdown",
      "metadata": {
        "id": "dF8GEhL_o5hx",
        "colab_type": "text"
      },
      "source": [
        "# 設定"
      ]
    },
    {
      "cell_type": "code",
      "metadata": {
        "id": "qVL6j85_iWUV",
        "colab_type": "code",
        "colab": {}
      },
      "source": [
        "COUNTS_FILE = \"toyama_counts.csv\"\n",
        "PATIENTS_FILE = \"toyama_patients.csv\""
      ],
      "execution_count": 0,
      "outputs": []
    },
    {
      "cell_type": "markdown",
      "metadata": {
        "id": "xeQkelXUqHFp",
        "colab_type": "text"
      },
      "source": [
        "# ダウンロード"
      ]
    },
    {
      "cell_type": "code",
      "metadata": {
        "id": "rKjNZrKGg0VW",
        "colab_type": "code",
        "outputId": "56c14287-b549-481c-80f9-139012c41dd1",
        "colab": {
          "base_uri": "https://localhost:8080/",
          "height": 399
        }
      },
      "source": [
        "!wget \"https://docs.google.com/spreadsheets/d/e/2PACX-1vSJuQThafLPC7OPqUC9TbLV1DmSU0x2Co8VZi2Q2ZZCKLJCTayDl6IoXKyK676mzBgpkoKMgpNK1VML/pub?gid=0&single=true&output=csv\" -O $PATIENTS_FILE\n",
        "!wget \"https://docs.google.com/spreadsheets/d/e/2PACX-1vSJuQThafLPC7OPqUC9TbLV1DmSU0x2Co8VZi2Q2ZZCKLJCTayDl6IoXKyK676mzBgpkoKMgpNK1VML/pub?gid=574469870&single=true&output=csv\" -O $COUNTS_FILE"
      ],
      "execution_count": 32,
      "outputs": [
        {
          "output_type": "stream",
          "text": [
            "--2020-04-26 07:53:08--  https://docs.google.com/spreadsheets/d/e/2PACX-1vSJuQThafLPC7OPqUC9TbLV1DmSU0x2Co8VZi2Q2ZZCKLJCTayDl6IoXKyK676mzBgpkoKMgpNK1VML/pub?gid=0&single=true&output=csv\n",
            "Resolving docs.google.com (docs.google.com)... 108.177.97.138, 108.177.97.102, 108.177.97.139, ...\n",
            "Connecting to docs.google.com (docs.google.com)|108.177.97.138|:443... connected.\n",
            "HTTP request sent, awaiting response... 200 OK\n",
            "Length: unspecified [text/csv]\n",
            "Saving to: ‘toyama_patients.csv’\n",
            "\n",
            "toyama_patients.csv     [ <=>                ]  12.62K  --.-KB/s    in 0s      \n",
            "\n",
            "2020-04-26 07:53:09 (51.7 MB/s) - ‘toyama_patients.csv’ saved [12925]\n",
            "\n",
            "--2020-04-26 07:53:10--  https://docs.google.com/spreadsheets/d/e/2PACX-1vSJuQThafLPC7OPqUC9TbLV1DmSU0x2Co8VZi2Q2ZZCKLJCTayDl6IoXKyK676mzBgpkoKMgpNK1VML/pub?gid=574469870&single=true&output=csv\n",
            "Resolving docs.google.com (docs.google.com)... 108.177.97.113, 108.177.97.102, 108.177.97.138, ...\n",
            "Connecting to docs.google.com (docs.google.com)|108.177.97.113|:443... connected.\n",
            "HTTP request sent, awaiting response... 200 OK\n",
            "Length: unspecified [text/csv]\n",
            "Saving to: ‘toyama_counts.csv’\n",
            "\n",
            "toyama_counts.csv       [ <=>                ]   1.83K  --.-KB/s    in 0s      \n",
            "\n",
            "2020-04-26 07:53:12 (23.2 MB/s) - ‘toyama_counts.csv’ saved [1872]\n",
            "\n"
          ],
          "name": "stdout"
        }
      ]
    },
    {
      "cell_type": "markdown",
      "metadata": {
        "id": "jLrjSfpKcpCV",
        "colab_type": "text"
      },
      "source": [
        "# 内容確認"
      ]
    },
    {
      "cell_type": "markdown",
      "metadata": {
        "id": "8tPzIhmbdKiJ",
        "colab_type": "text"
      },
      "source": [
        "## 日別データ"
      ]
    },
    {
      "cell_type": "code",
      "metadata": {
        "id": "nGxj1IohggKC",
        "colab_type": "code",
        "colab": {
          "base_uri": "https://localhost:8080/",
          "height": 394
        },
        "outputId": "5b62443b-91a2-44f4-c576-319d0cca427f"
      },
      "source": [
        "df_counts = pd.read_csv(COUNTS_FILE, index_col=\"年月日\", parse_dates=True, dtype={\"備考\": \"object\"})\n",
        "\n",
        "df_counts.head(10)"
      ],
      "execution_count": 33,
      "outputs": [
        {
          "output_type": "execute_result",
          "data": {
            "text/html": [
              "<div>\n",
              "<style scoped>\n",
              "    .dataframe tbody tr th:only-of-type {\n",
              "        vertical-align: middle;\n",
              "    }\n",
              "\n",
              "    .dataframe tbody tr th {\n",
              "        vertical-align: top;\n",
              "    }\n",
              "\n",
              "    .dataframe thead th {\n",
              "        text-align: right;\n",
              "    }\n",
              "</style>\n",
              "<table border=\"1\" class=\"dataframe\">\n",
              "  <thead>\n",
              "    <tr style=\"text-align: right;\">\n",
              "      <th></th>\n",
              "      <th>検査実施人数</th>\n",
              "      <th>陰性人数</th>\n",
              "      <th>陽性人数</th>\n",
              "      <th>一般相談件数</th>\n",
              "      <th>帰国者相談件数</th>\n",
              "      <th>退院者数</th>\n",
              "      <th>死亡者数</th>\n",
              "      <th>備考</th>\n",
              "    </tr>\n",
              "    <tr>\n",
              "      <th>年月日</th>\n",
              "      <th></th>\n",
              "      <th></th>\n",
              "      <th></th>\n",
              "      <th></th>\n",
              "      <th></th>\n",
              "      <th></th>\n",
              "      <th></th>\n",
              "      <th></th>\n",
              "    </tr>\n",
              "  </thead>\n",
              "  <tbody>\n",
              "    <tr>\n",
              "      <th>2020-02-27</th>\n",
              "      <td>24</td>\n",
              "      <td>24</td>\n",
              "      <td>0</td>\n",
              "      <td>1614</td>\n",
              "      <td>96</td>\n",
              "      <td>0</td>\n",
              "      <td>0</td>\n",
              "      <td>当日以前の分も含めて累計で表示</td>\n",
              "    </tr>\n",
              "    <tr>\n",
              "      <th>2020-02-28</th>\n",
              "      <td>0</td>\n",
              "      <td>0</td>\n",
              "      <td>0</td>\n",
              "      <td>144</td>\n",
              "      <td>8</td>\n",
              "      <td>0</td>\n",
              "      <td>0</td>\n",
              "      <td>NaN</td>\n",
              "    </tr>\n",
              "    <tr>\n",
              "      <th>2020-02-29</th>\n",
              "      <td>0</td>\n",
              "      <td>0</td>\n",
              "      <td>0</td>\n",
              "      <td>43</td>\n",
              "      <td>4</td>\n",
              "      <td>0</td>\n",
              "      <td>0</td>\n",
              "      <td>NaN</td>\n",
              "    </tr>\n",
              "    <tr>\n",
              "      <th>2020-03-01</th>\n",
              "      <td>1</td>\n",
              "      <td>1</td>\n",
              "      <td>0</td>\n",
              "      <td>29</td>\n",
              "      <td>4</td>\n",
              "      <td>0</td>\n",
              "      <td>0</td>\n",
              "      <td>NaN</td>\n",
              "    </tr>\n",
              "    <tr>\n",
              "      <th>2020-03-02</th>\n",
              "      <td>1</td>\n",
              "      <td>1</td>\n",
              "      <td>0</td>\n",
              "      <td>165</td>\n",
              "      <td>6</td>\n",
              "      <td>0</td>\n",
              "      <td>0</td>\n",
              "      <td>NaN</td>\n",
              "    </tr>\n",
              "    <tr>\n",
              "      <th>2020-03-03</th>\n",
              "      <td>2</td>\n",
              "      <td>2</td>\n",
              "      <td>0</td>\n",
              "      <td>129</td>\n",
              "      <td>8</td>\n",
              "      <td>0</td>\n",
              "      <td>0</td>\n",
              "      <td>NaN</td>\n",
              "    </tr>\n",
              "    <tr>\n",
              "      <th>2020-03-04</th>\n",
              "      <td>3</td>\n",
              "      <td>3</td>\n",
              "      <td>0</td>\n",
              "      <td>113</td>\n",
              "      <td>10</td>\n",
              "      <td>0</td>\n",
              "      <td>0</td>\n",
              "      <td>NaN</td>\n",
              "    </tr>\n",
              "    <tr>\n",
              "      <th>2020-03-05</th>\n",
              "      <td>3</td>\n",
              "      <td>3</td>\n",
              "      <td>0</td>\n",
              "      <td>90</td>\n",
              "      <td>6</td>\n",
              "      <td>0</td>\n",
              "      <td>0</td>\n",
              "      <td>NaN</td>\n",
              "    </tr>\n",
              "    <tr>\n",
              "      <th>2020-03-06</th>\n",
              "      <td>4</td>\n",
              "      <td>4</td>\n",
              "      <td>0</td>\n",
              "      <td>102</td>\n",
              "      <td>9</td>\n",
              "      <td>0</td>\n",
              "      <td>0</td>\n",
              "      <td>NaN</td>\n",
              "    </tr>\n",
              "    <tr>\n",
              "      <th>2020-03-07</th>\n",
              "      <td>0</td>\n",
              "      <td>0</td>\n",
              "      <td>0</td>\n",
              "      <td>20</td>\n",
              "      <td>1</td>\n",
              "      <td>0</td>\n",
              "      <td>0</td>\n",
              "      <td>NaN</td>\n",
              "    </tr>\n",
              "  </tbody>\n",
              "</table>\n",
              "</div>"
            ],
            "text/plain": [
              "            検査実施人数  陰性人数  陽性人数  一般相談件数  帰国者相談件数  退院者数  死亡者数               備考\n",
              "年月日                                                                         \n",
              "2020-02-27      24    24     0    1614       96     0     0  当日以前の分も含めて累計で表示\n",
              "2020-02-28       0     0     0     144        8     0     0              NaN\n",
              "2020-02-29       0     0     0      43        4     0     0              NaN\n",
              "2020-03-01       1     1     0      29        4     0     0              NaN\n",
              "2020-03-02       1     1     0     165        6     0     0              NaN\n",
              "2020-03-03       2     2     0     129        8     0     0              NaN\n",
              "2020-03-04       3     3     0     113       10     0     0              NaN\n",
              "2020-03-05       3     3     0      90        6     0     0              NaN\n",
              "2020-03-06       4     4     0     102        9     0     0              NaN\n",
              "2020-03-07       0     0     0      20        1     0     0              NaN"
            ]
          },
          "metadata": {
            "tags": []
          },
          "execution_count": 33
        }
      ]
    },
    {
      "cell_type": "markdown",
      "metadata": {
        "id": "kMjXOkxAdPZT",
        "colab_type": "text"
      },
      "source": [
        "## 患者データ"
      ]
    },
    {
      "cell_type": "code",
      "metadata": {
        "id": "zp1qsgKtcpYC",
        "colab_type": "code",
        "colab": {
          "base_uri": "https://localhost:8080/",
          "height": 394
        },
        "outputId": "67665450-647f-46c8-8635-044bf458f460"
      },
      "source": [
        "df_kanja = pd.read_csv(PATIENTS_FILE, index_col=\"No\", dtype={\"発症日\": \"object\", \"年代\": \"object\", \"備考\": \"object\"})\n",
        "\n",
        "df_kanja.head(10)"
      ],
      "execution_count": 34,
      "outputs": [
        {
          "output_type": "execute_result",
          "data": {
            "text/html": [
              "<div>\n",
              "<style scoped>\n",
              "    .dataframe tbody tr th:only-of-type {\n",
              "        vertical-align: middle;\n",
              "    }\n",
              "\n",
              "    .dataframe tbody tr th {\n",
              "        vertical-align: top;\n",
              "    }\n",
              "\n",
              "    .dataframe thead th {\n",
              "        text-align: right;\n",
              "    }\n",
              "</style>\n",
              "<table border=\"1\" class=\"dataframe\">\n",
              "  <thead>\n",
              "    <tr style=\"text-align: right;\">\n",
              "      <th></th>\n",
              "      <th>市番号</th>\n",
              "      <th>検査結果判明日</th>\n",
              "      <th>年代</th>\n",
              "      <th>性別</th>\n",
              "      <th>居住地</th>\n",
              "      <th>職業</th>\n",
              "      <th>市区町村名</th>\n",
              "      <th>発症日</th>\n",
              "      <th>状態</th>\n",
              "      <th>症状</th>\n",
              "      <th>渡航歴の有無</th>\n",
              "      <th>備考</th>\n",
              "    </tr>\n",
              "    <tr>\n",
              "      <th>No</th>\n",
              "      <th></th>\n",
              "      <th></th>\n",
              "      <th></th>\n",
              "      <th></th>\n",
              "      <th></th>\n",
              "      <th></th>\n",
              "      <th></th>\n",
              "      <th></th>\n",
              "      <th></th>\n",
              "      <th></th>\n",
              "      <th></th>\n",
              "      <th></th>\n",
              "    </tr>\n",
              "  </thead>\n",
              "  <tbody>\n",
              "    <tr>\n",
              "      <th>1</th>\n",
              "      <td>感染者1</td>\n",
              "      <td>2020-03-30</td>\n",
              "      <td>20代</td>\n",
              "      <td>女</td>\n",
              "      <td>富山市</td>\n",
              "      <td>卒業生</td>\n",
              "      <td>富山市</td>\n",
              "      <td>NaN</td>\n",
              "      <td>入院中</td>\n",
              "      <td>軽症・中等症</td>\n",
              "      <td>x</td>\n",
              "      <td>NaN</td>\n",
              "    </tr>\n",
              "    <tr>\n",
              "      <th>2</th>\n",
              "      <td>A</td>\n",
              "      <td>2020-03-31</td>\n",
              "      <td>20代</td>\n",
              "      <td>女</td>\n",
              "      <td>南砺市</td>\n",
              "      <td>看護師</td>\n",
              "      <td>NaN</td>\n",
              "      <td>NaN</td>\n",
              "      <td>入院中</td>\n",
              "      <td>軽症・中等症</td>\n",
              "      <td>x</td>\n",
              "      <td>NaN</td>\n",
              "    </tr>\n",
              "    <tr>\n",
              "      <th>3</th>\n",
              "      <td>感染者2</td>\n",
              "      <td>2020-03-31</td>\n",
              "      <td>20代</td>\n",
              "      <td>女</td>\n",
              "      <td>富山市</td>\n",
              "      <td>保育士</td>\n",
              "      <td>富山市</td>\n",
              "      <td>NaN</td>\n",
              "      <td>入院中</td>\n",
              "      <td>無症状</td>\n",
              "      <td>x</td>\n",
              "      <td>NaN</td>\n",
              "    </tr>\n",
              "    <tr>\n",
              "      <th>4</th>\n",
              "      <td>感染者3</td>\n",
              "      <td>2020-03-31</td>\n",
              "      <td>20代</td>\n",
              "      <td>女</td>\n",
              "      <td>富山市</td>\n",
              "      <td>就職予定者</td>\n",
              "      <td>富山市</td>\n",
              "      <td>NaN</td>\n",
              "      <td>入院中</td>\n",
              "      <td>軽症・中等症</td>\n",
              "      <td>x</td>\n",
              "      <td>NaN</td>\n",
              "    </tr>\n",
              "    <tr>\n",
              "      <th>5</th>\n",
              "      <td>‐</td>\n",
              "      <td>2020-04-01</td>\n",
              "      <td>20代</td>\n",
              "      <td>男</td>\n",
              "      <td>射水市</td>\n",
              "      <td>新規採用教員</td>\n",
              "      <td>NaN</td>\n",
              "      <td>NaN</td>\n",
              "      <td>入院中</td>\n",
              "      <td>軽症・中等症</td>\n",
              "      <td>x</td>\n",
              "      <td>NaN</td>\n",
              "    </tr>\n",
              "    <tr>\n",
              "      <th>6</th>\n",
              "      <td>感染者4</td>\n",
              "      <td>2020-04-01</td>\n",
              "      <td>50代</td>\n",
              "      <td>女</td>\n",
              "      <td>富山市</td>\n",
              "      <td>介護施設職員</td>\n",
              "      <td>富山市</td>\n",
              "      <td>NaN</td>\n",
              "      <td>入院中</td>\n",
              "      <td>軽症・中等症</td>\n",
              "      <td>x</td>\n",
              "      <td>NaN</td>\n",
              "    </tr>\n",
              "    <tr>\n",
              "      <th>7</th>\n",
              "      <td>感染者5</td>\n",
              "      <td>2020-04-01</td>\n",
              "      <td>20代</td>\n",
              "      <td>男</td>\n",
              "      <td>富山市</td>\n",
              "      <td>会社員</td>\n",
              "      <td>富山市</td>\n",
              "      <td>NaN</td>\n",
              "      <td>入院中</td>\n",
              "      <td>無症状</td>\n",
              "      <td>x</td>\n",
              "      <td>NaN</td>\n",
              "    </tr>\n",
              "    <tr>\n",
              "      <th>8</th>\n",
              "      <td>-</td>\n",
              "      <td>2020-04-02</td>\n",
              "      <td>50代</td>\n",
              "      <td>女</td>\n",
              "      <td>射水市</td>\n",
              "      <td>国家公務員</td>\n",
              "      <td>NaN</td>\n",
              "      <td>NaN</td>\n",
              "      <td>入院中</td>\n",
              "      <td>軽症・中等症</td>\n",
              "      <td>x</td>\n",
              "      <td>NaN</td>\n",
              "    </tr>\n",
              "    <tr>\n",
              "      <th>9</th>\n",
              "      <td>感染者6</td>\n",
              "      <td>2020-04-04</td>\n",
              "      <td>20代</td>\n",
              "      <td>女</td>\n",
              "      <td>富山市</td>\n",
              "      <td>飲食店店員</td>\n",
              "      <td>富山市</td>\n",
              "      <td>NaN</td>\n",
              "      <td>入院中</td>\n",
              "      <td>軽症・中等症</td>\n",
              "      <td>x</td>\n",
              "      <td>NaN</td>\n",
              "    </tr>\n",
              "    <tr>\n",
              "      <th>10</th>\n",
              "      <td>感染者7</td>\n",
              "      <td>2020-04-04</td>\n",
              "      <td>50代</td>\n",
              "      <td>男</td>\n",
              "      <td>富山市</td>\n",
              "      <td>ライブハウス経営者</td>\n",
              "      <td>富山市</td>\n",
              "      <td>NaN</td>\n",
              "      <td>入院中</td>\n",
              "      <td>軽症・中等症</td>\n",
              "      <td>x</td>\n",
              "      <td>NaN</td>\n",
              "    </tr>\n",
              "  </tbody>\n",
              "</table>\n",
              "</div>"
            ],
            "text/plain": [
              "     市番号     検査結果判明日   年代 性別  居住地  ...  発症日   状態      症状 渡航歴の有無   備考\n",
              "No                                 ...                              \n",
              "1   感染者1  2020-03-30  20代  女  富山市  ...  NaN  入院中  軽症・中等症      x  NaN\n",
              "2      A  2020-03-31  20代  女  南砺市  ...  NaN  入院中  軽症・中等症      x  NaN\n",
              "3   感染者2  2020-03-31  20代  女  富山市  ...  NaN  入院中     無症状      x  NaN\n",
              "4   感染者3  2020-03-31  20代  女  富山市  ...  NaN  入院中  軽症・中等症      x  NaN\n",
              "5      ‐  2020-04-01  20代  男  射水市  ...  NaN  入院中  軽症・中等症      x  NaN\n",
              "6   感染者4  2020-04-01  50代  女  富山市  ...  NaN  入院中  軽症・中等症      x  NaN\n",
              "7   感染者5  2020-04-01  20代  男  富山市  ...  NaN  入院中     無症状      x  NaN\n",
              "8      -  2020-04-02  50代  女  射水市  ...  NaN  入院中  軽症・中等症      x  NaN\n",
              "9   感染者6  2020-04-04  20代  女  富山市  ...  NaN  入院中  軽症・中等症      x  NaN\n",
              "10  感染者7  2020-04-04  50代  男  富山市  ...  NaN  入院中  軽症・中等症      x  NaN\n",
              "\n",
              "[10 rows x 12 columns]"
            ]
          },
          "metadata": {
            "tags": []
          },
          "execution_count": 34
        }
      ]
    },
    {
      "cell_type": "markdown",
      "metadata": {
        "id": "1W4a01AiSlXh",
        "colab_type": "text"
      },
      "source": [
        "# 一般"
      ]
    },
    {
      "cell_type": "markdown",
      "metadata": {
        "id": "-mcWm53kRdnn",
        "colab_type": "text"
      },
      "source": [
        "## 検査実施状況"
      ]
    },
    {
      "cell_type": "code",
      "metadata": {
        "id": "12NvF2XwOudb",
        "colab_type": "code",
        "colab": {
          "base_uri": "https://localhost:8080/",
          "height": 112
        },
        "outputId": "1c1ccf44-c7d0-4e3f-959b-69c6592b3b5b"
      },
      "source": [
        "df_counts.tail(1)"
      ],
      "execution_count": 35,
      "outputs": [
        {
          "output_type": "execute_result",
          "data": {
            "text/html": [
              "<div>\n",
              "<style scoped>\n",
              "    .dataframe tbody tr th:only-of-type {\n",
              "        vertical-align: middle;\n",
              "    }\n",
              "\n",
              "    .dataframe tbody tr th {\n",
              "        vertical-align: top;\n",
              "    }\n",
              "\n",
              "    .dataframe thead th {\n",
              "        text-align: right;\n",
              "    }\n",
              "</style>\n",
              "<table border=\"1\" class=\"dataframe\">\n",
              "  <thead>\n",
              "    <tr style=\"text-align: right;\">\n",
              "      <th></th>\n",
              "      <th>検査実施人数</th>\n",
              "      <th>陰性人数</th>\n",
              "      <th>陽性人数</th>\n",
              "      <th>一般相談件数</th>\n",
              "      <th>帰国者相談件数</th>\n",
              "      <th>退院者数</th>\n",
              "      <th>死亡者数</th>\n",
              "      <th>備考</th>\n",
              "    </tr>\n",
              "    <tr>\n",
              "      <th>年月日</th>\n",
              "      <th></th>\n",
              "      <th></th>\n",
              "      <th></th>\n",
              "      <th></th>\n",
              "      <th></th>\n",
              "      <th></th>\n",
              "      <th></th>\n",
              "      <th></th>\n",
              "    </tr>\n",
              "  </thead>\n",
              "  <tbody>\n",
              "    <tr>\n",
              "      <th>2020-04-22</th>\n",
              "      <td>155</td>\n",
              "      <td>145</td>\n",
              "      <td>10</td>\n",
              "      <td>416</td>\n",
              "      <td>30</td>\n",
              "      <td>1</td>\n",
              "      <td>1</td>\n",
              "      <td>NaN</td>\n",
              "    </tr>\n",
              "  </tbody>\n",
              "</table>\n",
              "</div>"
            ],
            "text/plain": [
              "            検査実施人数  陰性人数  陽性人数  一般相談件数  帰国者相談件数  退院者数  死亡者数   備考\n",
              "年月日                                                             \n",
              "2020-04-22     155   145    10     416       30     1     1  NaN"
            ]
          },
          "metadata": {
            "tags": []
          },
          "execution_count": 35
        }
      ]
    },
    {
      "cell_type": "markdown",
      "metadata": {
        "id": "BveDONFcQU4Q",
        "colab_type": "text"
      },
      "source": [
        "## 陽性患者数"
      ]
    },
    {
      "cell_type": "code",
      "metadata": {
        "id": "XMkKJ9rrQVO3",
        "colab_type": "code",
        "colab": {
          "base_uri": "https://localhost:8080/",
          "height": 390
        },
        "outputId": "d905ec72-d810-4568-cc2b-33a397665428"
      },
      "source": [
        "#日別\n",
        "df_counts[\"陽性人数\"].plot.bar()"
      ],
      "execution_count": 36,
      "outputs": [
        {
          "output_type": "execute_result",
          "data": {
            "text/plain": [
              "<matplotlib.axes._subplots.AxesSubplot at 0x7fd27d45c400>"
            ]
          },
          "metadata": {
            "tags": []
          },
          "execution_count": 36
        },
        {
          "output_type": "display_data",
          "data": {
            "image/png": "[encoded data removed]",
            "text/plain": [
              "<Figure size 432x288 with 1 Axes>"
            ]
          },
          "metadata": {
            "tags": [],
            "needs_background": "light"
          }
        }
      ]
    },
    {
      "cell_type": "code",
      "metadata": {
        "id": "uYpxytDgQVWw",
        "colab_type": "code",
        "colab": {
          "base_uri": "https://localhost:8080/",
          "height": 390
        },
        "outputId": "f3929405-a9a4-4651-fe9b-ad8fe3a04669"
      },
      "source": [
        "# 累計\n",
        "df_counts[\"陽性人数\"].cumsum().plot.bar()"
      ],
      "execution_count": 37,
      "outputs": [
        {
          "output_type": "execute_result",
          "data": {
            "text/plain": [
              "<matplotlib.axes._subplots.AxesSubplot at 0x7fd27d3f3d30>"
            ]
          },
          "metadata": {
            "tags": []
          },
          "execution_count": 37
        },
        {
          "output_type": "display_data",
          "data": {
            "image/png": "[encoded data removed]",
            "text/plain": [
              "<Figure size 432x288 with 1 Axes>"
            ]
          },
          "metadata": {
            "tags": [],
            "needs_background": "light"
          }
        }
      ]
    },
    {
      "cell_type": "markdown",
      "metadata": {
        "id": "iCZ2-5yzqhOr",
        "colab_type": "text"
      },
      "source": [
        "## 検査実施人数"
      ]
    },
    {
      "cell_type": "code",
      "metadata": {
        "id": "EUX2xhjwOtFT",
        "colab_type": "code",
        "colab": {
          "base_uri": "https://localhost:8080/",
          "height": 390
        },
        "outputId": "fcb11dd3-126d-420c-dd69-5683c17982ac"
      },
      "source": [
        "# 日別\n",
        "df_counts[\"検査実施人数\"].plot.bar()"
      ],
      "execution_count": 38,
      "outputs": [
        {
          "output_type": "execute_result",
          "data": {
            "text/plain": [
              "<matplotlib.axes._subplots.AxesSubplot at 0x7fd27d141cf8>"
            ]
          },
          "metadata": {
            "tags": []
          },
          "execution_count": 38
        },
        {
          "output_type": "display_data",
          "data": {
            "image/png": "[encoded data removed]",
            "text/plain": [
              "<Figure size 432x288 with 1 Axes>"
            ]
          },
          "metadata": {
            "tags": [],
            "needs_background": "light"
          }
        }
      ]
    },
    {
      "cell_type": "code",
      "metadata": {
        "id": "n3dj-SR7PJzr",
        "colab_type": "code",
        "colab": {
          "base_uri": "https://localhost:8080/",
          "height": 390
        },
        "outputId": "7084a514-071d-4160-a39c-091159d4e6a5"
      },
      "source": [
        "# 累計\n",
        "df_counts[\"検査実施人数\"].cumsum().plot.bar()"
      ],
      "execution_count": 39,
      "outputs": [
        {
          "output_type": "execute_result",
          "data": {
            "text/plain": [
              "<matplotlib.axes._subplots.AxesSubplot at 0x7fd27d530080>"
            ]
          },
          "metadata": {
            "tags": []
          },
          "execution_count": 39
        },
        {
          "output_type": "display_data",
          "data": {
            "image/png": "[encoded data removed]",
            "text/plain": [
              "<Figure size 432x288 with 1 Axes>"
            ]
          },
          "metadata": {
            "tags": [],
            "needs_background": "light"
          }
        }
      ]
    },
    {
      "cell_type": "markdown",
      "metadata": {
        "id": "Y5RHFCfKRGpo",
        "colab_type": "text"
      },
      "source": [
        "## 相談件数"
      ]
    },
    {
      "cell_type": "code",
      "metadata": {
        "id": "_z7ziW3DQssY",
        "colab_type": "code",
        "colab": {
          "base_uri": "https://localhost:8080/",
          "height": 390
        },
        "outputId": "b3b5350b-d8ea-4a02-c6ee-9bd998974335"
      },
      "source": [
        "# 日別\n",
        "df_counts[\"一般相談件数\"].plot.bar()"
      ],
      "execution_count": 40,
      "outputs": [
        {
          "output_type": "execute_result",
          "data": {
            "text/plain": [
              "<matplotlib.axes._subplots.AxesSubplot at 0x7fd27cf85860>"
            ]
          },
          "metadata": {
            "tags": []
          },
          "execution_count": 40
        },
        {
          "output_type": "display_data",
          "data": {
            "image/png": "[encoded data removed]",
            "text/plain": [
              "<Figure size 432x288 with 1 Axes>"
            ]
          },
          "metadata": {
            "tags": [],
            "needs_background": "light"
          }
        }
      ]
    },
    {
      "cell_type": "code",
      "metadata": {
        "id": "EuP-GYNCRMJg",
        "colab_type": "code",
        "colab": {
          "base_uri": "https://localhost:8080/",
          "height": 390
        },
        "outputId": "278883d3-421e-459a-fdda-1f7d417d9e3e"
      },
      "source": [
        "# 累計\n",
        "df_counts[\"一般相談件数\"].cumsum().plot.bar()"
      ],
      "execution_count": 41,
      "outputs": [
        {
          "output_type": "execute_result",
          "data": {
            "text/plain": [
              "<matplotlib.axes._subplots.AxesSubplot at 0x7fd27ccd4240>"
            ]
          },
          "metadata": {
            "tags": []
          },
          "execution_count": 41
        },
        {
          "output_type": "display_data",
          "data": {
            "image/png": "[encoded data removed]",
            "text/plain": [
              "<Figure size 432x288 with 1 Axes>"
            ]
          },
          "metadata": {
            "tags": [],
            "needs_background": "light"
          }
        }
      ]
    },
    {
      "cell_type": "markdown",
      "metadata": {
        "id": "3CSLybdsS2-f",
        "colab_type": "text"
      },
      "source": [
        "# その他"
      ]
    },
    {
      "cell_type": "markdown",
      "metadata": {
        "id": "JvkFDf_8TBMu",
        "colab_type": "text"
      },
      "source": [
        "## 現在患者数"
      ]
    },
    {
      "cell_type": "markdown",
      "metadata": {
        "id": "MnYujg27eGLJ",
        "colab_type": "text"
      },
      "source": [
        "現在患者数とは、陽性人数から退院者数と死亡者数を除いた人数です。"
      ]
    },
    {
      "cell_type": "code",
      "metadata": {
        "id": "EHZj_30JTBom",
        "colab_type": "code",
        "colab": {}
      },
      "source": [
        "df_counts[\"現在患者数\"] = df_counts[\"陽性人数\"] - df_counts[\"退院者数\"] - df_counts[\"死亡者数\"]"
      ],
      "execution_count": 0,
      "outputs": []
    },
    {
      "cell_type": "code",
      "metadata": {
        "id": "q8xHctenV1xQ",
        "colab_type": "code",
        "colab": {
          "base_uri": "https://localhost:8080/",
          "height": 390
        },
        "outputId": "3bcd74e5-6037-4c3f-fc9e-7e56585675c8"
      },
      "source": [
        "# 日別\n",
        "df_counts[\"現在患者数\"].plot.bar()"
      ],
      "execution_count": 43,
      "outputs": [
        {
          "output_type": "execute_result",
          "data": {
            "text/plain": [
              "<matplotlib.axes._subplots.AxesSubplot at 0x7fd27cc7cb00>"
            ]
          },
          "metadata": {
            "tags": []
          },
          "execution_count": 43
        },
        {
          "output_type": "display_data",
          "data": {
            "image/png": "[encoded data removed]",
            "text/plain": [
              "<Figure size 432x288 with 1 Axes>"
            ]
          },
          "metadata": {
            "tags": [],
            "needs_background": "light"
          }
        }
      ]
    },
    {
      "cell_type": "code",
      "metadata": {
        "id": "Yf1C0GD6V3hQ",
        "colab_type": "code",
        "colab": {
          "base_uri": "https://localhost:8080/",
          "height": 390
        },
        "outputId": "8ba5e267-00d8-4524-8f02-7d17ee62e3d4"
      },
      "source": [
        "# 累計\n",
        "df_counts[\"現在患者数\"].cumsum().plot.bar()"
      ],
      "execution_count": 44,
      "outputs": [
        {
          "output_type": "execute_result",
          "data": {
            "text/plain": [
              "<matplotlib.axes._subplots.AxesSubplot at 0x7fd27ca43198>"
            ]
          },
          "metadata": {
            "tags": []
          },
          "execution_count": 44
        },
        {
          "output_type": "display_data",
          "data": {
            "image/png": "[encoded data removed]",
            "text/plain": [
              "<Figure size 432x288 with 1 Axes>"
            ]
          },
          "metadata": {
            "tags": [],
            "needs_background": "light"
          }
        }
      ]
    },
    {
      "cell_type": "markdown",
      "metadata": {
        "id": "0kweVh8kU2rl",
        "colab_type": "text"
      },
      "source": [
        "## 治療修了者数"
      ]
    },
    {
      "cell_type": "code",
      "metadata": {
        "id": "Hfif53q2Uqm1",
        "colab_type": "code",
        "colab": {
          "base_uri": "https://localhost:8080/",
          "height": 390
        },
        "outputId": "1ef5df8f-bfb5-4afb-c8e8-faf4b0ae61b2"
      },
      "source": [
        "# 日別\n",
        "df_counts[\"退院者数\"].plot.bar()"
      ],
      "execution_count": 45,
      "outputs": [
        {
          "output_type": "execute_result",
          "data": {
            "text/plain": [
              "<matplotlib.axes._subplots.AxesSubplot at 0x7fd27c8a0f60>"
            ]
          },
          "metadata": {
            "tags": []
          },
          "execution_count": 45
        },
        {
          "output_type": "display_data",
          "data": {
            "image/png": "[encoded data removed]",
            "text/plain": [
              "<Figure size 432x288 with 1 Axes>"
            ]
          },
          "metadata": {
            "tags": [],
            "needs_background": "light"
          }
        }
      ]
    },
    {
      "cell_type": "code",
      "metadata": {
        "id": "YDFvHGa4Vjgu",
        "colab_type": "code",
        "colab": {
          "base_uri": "https://localhost:8080/",
          "height": 390
        },
        "outputId": "923103ea-b54a-4287-9024-e7cd53f856b6"
      },
      "source": [
        "# 累計\n",
        "df_counts[\"退院者数\"].cumsum().plot.bar()"
      ],
      "execution_count": 46,
      "outputs": [
        {
          "output_type": "execute_result",
          "data": {
            "text/plain": [
              "<matplotlib.axes._subplots.AxesSubplot at 0x7fd27ce8a198>"
            ]
          },
          "metadata": {
            "tags": []
          },
          "execution_count": 46
        },
        {
          "output_type": "display_data",
          "data": {
            "image/png": "[encoded data removed]",
            "text/plain": [
              "<Figure size 432x288 with 1 Axes>"
            ]
          },
          "metadata": {
            "tags": [],
            "needs_background": "light"
          }
        }
      ]
    },
    {
      "cell_type": "markdown",
      "metadata": {
        "id": "pq402mR6YU18",
        "colab_type": "text"
      },
      "source": [
        "## 年代別"
      ]
    },
    {
      "cell_type": "code",
      "metadata": {
        "id": "k4ce1RQrXVwz",
        "colab_type": "code",
        "colab": {
          "base_uri": "https://localhost:8080/",
          "height": 315
        },
        "outputId": "de5b94b5-f190-4836-d699-941aca674e52"
      },
      "source": [
        "age_lists = [\"10歳未満\", \"10代\", \"20代\", \"30代\", \"40代\", \"50代\", \"60代\", \"70代\", \"80代\", \"90代以上\"]\n",
        "df_kanja[\"年代\"].value_counts().reindex(age_lists).plot.bar()"
      ],
      "execution_count": 47,
      "outputs": [
        {
          "output_type": "execute_result",
          "data": {
            "text/plain": [
              "<matplotlib.axes._subplots.AxesSubplot at 0x7fd27c5efe48>"
            ]
          },
          "metadata": {
            "tags": []
          },
          "execution_count": 47
        },
        {
          "output_type": "display_data",
          "data": {
            "image/png": "[encoded data removed]",
            "text/plain": [
              "<Figure size 432x288 with 1 Axes>"
            ]
          },
          "metadata": {
            "tags": [],
            "needs_background": "light"
          }
        }
      ]
    },
    {
      "cell_type": "markdown",
      "metadata": {
        "id": "o6z_zwMAXOOk",
        "colab_type": "text"
      },
      "source": [
        "## 居住地別"
      ]
    },
    {
      "cell_type": "code",
      "metadata": {
        "id": "4C-5LnzBW2b9",
        "colab_type": "code",
        "colab": {
          "base_uri": "https://localhost:8080/",
          "height": 302
        },
        "outputId": "65f8c562-9ece-4090-8faa-6696faced060"
      },
      "source": [
        "df_kanja[\"居住地\"].value_counts().plot.bar()"
      ],
      "execution_count": 48,
      "outputs": [
        {
          "output_type": "execute_result",
          "data": {
            "text/plain": [
              "<matplotlib.axes._subplots.AxesSubplot at 0x7fd27c56d278>"
            ]
          },
          "metadata": {
            "tags": []
          },
          "execution_count": 48
        },
        {
          "output_type": "display_data",
          "data": {
            "image/png": "[encoded data removed]",
            "text/plain": [
              "<Figure size 432x288 with 1 Axes>"
            ]
          },
          "metadata": {
            "tags": [],
            "needs_background": "light"
          }
        }
      ]
    },
    {
      "cell_type": "markdown",
      "metadata": {
        "id": "RwBOAArYYlgk",
        "colab_type": "text"
      },
      "source": [
        "## 陽性率"
      ]
    },
    {
      "cell_type": "code",
      "metadata": {
        "id": "QvKAQ-etYlCj",
        "colab_type": "code",
        "colab": {}
      },
      "source": [
        "df_positive = df_counts.loc[:, [\"検査実施人数\", \"陽性人数\"]].copy()"
      ],
      "execution_count": 0,
      "outputs": []
    },
    {
      "cell_type": "code",
      "metadata": {
        "id": "fBqkgg2GZXgz",
        "colab_type": "code",
        "colab": {
          "base_uri": "https://localhost:8080/",
          "height": 329
        },
        "outputId": "1d21994e-72ae-4465-9796-01c7d5ea264c"
      },
      "source": [
        "# 3日間平均\n",
        "df_positive_3d = df_positive.rolling(window=3).mean()\n",
        "df_positive_3d[\"陽性率\"] = df_positive_3d[\"陽性人数\"] / df_positive_3d[\"検査実施人数\"] * 100\n",
        "df_positive_3d[\"陽性率\"].plot(ylim=(0, 50))"
      ],
      "execution_count": 50,
      "outputs": [
        {
          "output_type": "execute_result",
          "data": {
            "text/plain": [
              "<matplotlib.axes._subplots.AxesSubplot at 0x7fd27c4eb630>"
            ]
          },
          "metadata": {
            "tags": []
          },
          "execution_count": 50
        },
        {
          "output_type": "display_data",
          "data": {
            "image/png": "[encoded data removed]",
            "text/plain": [
              "<Figure size 432x288 with 1 Axes>"
            ]
          },
          "metadata": {
            "tags": [],
            "needs_background": "light"
          }
        }
      ]
    },
    {
      "cell_type": "code",
      "metadata": {
        "id": "DDYBtlDdZmX_",
        "colab_type": "code",
        "colab": {
          "base_uri": "https://localhost:8080/",
          "height": 329
        },
        "outputId": "573c8b2a-9108-4d31-dea8-060970cba118"
      },
      "source": [
        "# 14日間平均\n",
        "df_positive_2w = df_positive.rolling(window=14).mean()\n",
        "df_positive_2w[\"陽性率\"] = df_positive_2w[\"陽性人数\"] / df_positive_2w[\"検査実施人数\"] * 100\n",
        "df_positive_2w[\"陽性率\"].plot(ylim=(0, 50))"
      ],
      "execution_count": 51,
      "outputs": [
        {
          "output_type": "execute_result",
          "data": {
            "text/plain": [
              "<matplotlib.axes._subplots.AxesSubplot at 0x7fd27c589278>"
            ]
          },
          "metadata": {
            "tags": []
          },
          "execution_count": 51
        },
        {
          "output_type": "display_data",
          "data": {
            "image/png": "[encoded data removed]",
            "text/plain": [
              "<Figure size 432x288 with 1 Axes>"
            ]
          },
          "metadata": {
            "tags": [],
            "needs_background": "light"
          }
        }
      ]
    },
    {
      "cell_type": "code",
      "metadata": {
        "id": "MvfaH0rzbM0z",
        "colab_type": "code",
        "colab": {
          "base_uri": "https://localhost:8080/",
          "height": 329
        },
        "outputId": "8628984a-0759-4de2-fa1c-9c4e5353bb00"
      },
      "source": [
        "# 補正なし\n",
        "df_positive[\"陽性率\"] = df_positive[\"陽性人数\"] / df_positive[\"検査実施人数\"] * 100\n",
        "df_positive[\"陽性率\"].plot(ylim=(0, 50))"
      ],
      "execution_count": 52,
      "outputs": [
        {
          "output_type": "execute_result",
          "data": {
            "text/plain": [
              "<matplotlib.axes._subplots.AxesSubplot at 0x7fd27c387080>"
            ]
          },
          "metadata": {
            "tags": []
          },
          "execution_count": 52
        },
        {
          "output_type": "display_data",
          "data": {
            "image/png": "[encoded data removed]",
            "text/plain": [
              "<Figure size 432x288 with 1 Axes>"
            ]
          },
          "metadata": {
            "tags": [],
            "needs_background": "light"
          }
        }
      ]
    }
  ]
}