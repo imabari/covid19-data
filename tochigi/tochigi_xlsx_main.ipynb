{
  "nbformat": 4,
  "nbformat_minor": 0,
  "metadata": {
    "colab": {
      "name": "tochigi_xlsx_main.ipynb",
      "provenance": [],
      "collapsed_sections": [],
      "toc_visible": true,
      "authorship_tag": "ABX9TyMtNqHtT+PQDeLv1kHV+VAA",
      "include_colab_link": true
    },
    "kernelspec": {
      "name": "python3",
      "display_name": "Python 3"
    }
  },
  "cells": [
    {
      "cell_type": "markdown",
      "metadata": {
        "id": "view-in-github",
        "colab_type": "text"
      },
      "source": [
        "<a href=\"https://colab.research.google.com/github/imabari/covid19-data/blob/master/tochigi/tochigi_xlsx_main.ipynb\" target=\"_parent\"><img src=\"https://colab.research.google.com/assets/colab-badge.svg\" alt=\"Open In Colab\"/></a>"
      ]
    },
    {
      "cell_type": "markdown",
      "metadata": {
        "id": "KLGAhzzc544Y",
        "colab_type": "text"
      },
      "source": [
        "# インストール"
      ]
    },
    {
      "cell_type": "code",
      "metadata": {
        "id": "KJpCgCgA9Y23",
        "colab_type": "code",
        "colab": {}
      },
      "source": [
        "!pip install -U pandas"
      ],
      "execution_count": 0,
      "outputs": []
    },
    {
      "cell_type": "code",
      "metadata": {
        "id": "UbGLa2DCdEBG",
        "colab_type": "code",
        "colab": {}
      },
      "source": [
        "!pip install simplejson"
      ],
      "execution_count": 0,
      "outputs": []
    },
    {
      "cell_type": "code",
      "metadata": {
        "id": "sTwkDbBs-A2f",
        "colab_type": "code",
        "colab": {}
      },
      "source": [
        "import datetime\n",
        "import re\n",
        "from urllib.parse import urljoin"
      ],
      "execution_count": 0,
      "outputs": []
    },
    {
      "cell_type": "code",
      "metadata": {
        "id": "TvmueaS7S_C7",
        "colab_type": "code",
        "colab": {}
      },
      "source": [
        "import pandas as pd\n",
        "import requests\n",
        "import simplejson as json\n",
        "from bs4 import BeautifulSoup"
      ],
      "execution_count": 0,
      "outputs": []
    },
    {
      "cell_type": "code",
      "metadata": {
        "id": "sQ2A-6r7V7nS",
        "colab_type": "code",
        "colab": {}
      },
      "source": [
        "from google.colab import files"
      ],
      "execution_count": 0,
      "outputs": []
    },
    {
      "cell_type": "code",
      "metadata": {
        "id": "SBmvcOsKCjAo",
        "colab_type": "code",
        "colab": {}
      },
      "source": [
        "JST = datetime.timezone(datetime.timedelta(hours=+9), \"JST\")\n",
        "\n",
        "dt_now = datetime.datetime.now(JST)\n",
        "dt_update = dt_now.strftime(\"%Y/%m/%d %H:%M\")"
      ],
      "execution_count": 0,
      "outputs": []
    },
    {
      "cell_type": "code",
      "metadata": {
        "id": "coMQ6TUDVtfs",
        "colab_type": "code",
        "colab": {}
      },
      "source": [
        "data = {\"lastUpdate\": dt_update}"
      ],
      "execution_count": 0,
      "outputs": []
    },
    {
      "cell_type": "markdown",
      "metadata": {
        "id": "j9DkjQA0oyeC",
        "colab_type": "text"
      },
      "source": [
        "# データラングリング"
      ]
    },
    {
      "cell_type": "code",
      "metadata": {
        "id": "EscuFEcB-A1w",
        "colab_type": "code",
        "colab": {}
      },
      "source": [
        "url = \"http://www.pref.tochigi.lg.jp/e04/welfare/hoken-eisei/kansen/hp/coronakensahasseijyoukyou.html\"\n",
        "\n",
        "headers = {\n",
        "    \"User-Agent\": \"Mozilla/5.0 (Windows NT 10.0; WOW64; Trident/7.0; rv:11.0) like Gecko\",\n",
        "}"
      ],
      "execution_count": 0,
      "outputs": []
    },
    {
      "cell_type": "code",
      "metadata": {
        "id": "_8K8527x-A0_",
        "colab_type": "code",
        "colab": {}
      },
      "source": [
        "r = requests.get(url, headers=headers)\n",
        "\n",
        "r.raise_for_status()\n",
        "\n",
        "soup = BeautifulSoup(r.content, \"html5lib\")"
      ],
      "execution_count": 0,
      "outputs": []
    },
    {
      "cell_type": "markdown",
      "metadata": {
        "id": "XVhTb49wxRfZ",
        "colab_type": "text"
      },
      "source": [
        "# 新型コロナウイルス感染症検査件数"
      ]
    },
    {
      "cell_type": "markdown",
      "metadata": {
        "id": "KbIlNKZHwswE",
        "colab_type": "text"
      },
      "source": [
        "## inspections_summary"
      ]
    },
    {
      "cell_type": "code",
      "metadata": {
        "id": "NvOSHgFMhxJS",
        "colab_type": "code",
        "colab": {}
      },
      "source": [
        "tag_kensa = soup.find(\"a\", text=re.compile(\"^新型コロナウイルス感染症検査件数.+エクセル\"))"
      ],
      "execution_count": 0,
      "outputs": []
    },
    {
      "cell_type": "code",
      "metadata": {
        "id": "J_QQ9wSwiMWK",
        "colab_type": "code",
        "colab": {}
      },
      "source": [
        "link_kensa = urljoin(url, tag_kensa.get(\"href\"))"
      ],
      "execution_count": 0,
      "outputs": []
    },
    {
      "cell_type": "code",
      "metadata": {
        "id": "Jz2VDlfdiDSu",
        "colab_type": "code",
        "colab": {}
      },
      "source": [
        "df_kensa = pd.read_excel(link_kensa, header=[2, 3])"
      ],
      "execution_count": 0,
      "outputs": []
    },
    {
      "cell_type": "code",
      "metadata": {
        "id": "b3-ZH6qIkcdn",
        "colab_type": "code",
        "colab": {}
      },
      "source": [
        "df_kensa.columns = df_kensa.columns.to_flat_index()"
      ],
      "execution_count": 0,
      "outputs": []
    },
    {
      "cell_type": "code",
      "metadata": {
        "id": "muTXJ884k6Nz",
        "colab_type": "code",
        "colab": {}
      },
      "source": [
        "df_kensa.rename(columns={(\"検査日\", \"Unnamed: 0_level_1\"): \"検査日\"}, inplace=True)"
      ],
      "execution_count": 0,
      "outputs": []
    },
    {
      "cell_type": "code",
      "metadata": {
        "id": "aaLxXyc1qmnm",
        "colab_type": "code",
        "colab": {}
      },
      "source": [
        "df_kensa.set_index(\"検査日\", inplace=True)"
      ],
      "execution_count": 0,
      "outputs": []
    },
    {
      "cell_type": "code",
      "metadata": {
        "id": "QH35QlZhwp2H",
        "colab_type": "code",
        "colab": {}
      },
      "source": [
        "df_kensa[\"日付\"] = df_kensa.index.strftime(\"%Y-%m-%d\")"
      ],
      "execution_count": 0,
      "outputs": []
    },
    {
      "cell_type": "code",
      "metadata": {
        "id": "GRibeRTGqNg_",
        "colab_type": "code",
        "colab": {}
      },
      "source": [
        "df_insp_sum = df_kensa.loc[:, [\"日付\", (\"検査件数\", \"栃木県\"), (\"検査件数\", \"宇都宮市\")]]"
      ],
      "execution_count": 0,
      "outputs": []
    },
    {
      "cell_type": "code",
      "metadata": {
        "id": "1y9d92bxyCsS",
        "colab_type": "code",
        "colab": {}
      },
      "source": [
        "data[\"inspections_summary\"] = {\n",
        "    \"data\": df_insp_sum.values.tolist(),\n",
        "    \"date\": dt_update,\n",
        "}"
      ],
      "execution_count": 0,
      "outputs": []
    },
    {
      "cell_type": "markdown",
      "metadata": {
        "id": "lZpPFlcmvoNN",
        "colab_type": "text"
      },
      "source": [
        "# 栃木県における新型コロナウイルス感染症の発生状況一覧"
      ]
    },
    {
      "cell_type": "code",
      "metadata": {
        "id": "rXzRl8cP-H7z",
        "colab_type": "code",
        "colab": {}
      },
      "source": [
        "tag_kanja = soup.find(\"a\", text=re.compile(\"^栃木県における新型コロナウイルス感染症の発生状況一覧.+エクセル\"))"
      ],
      "execution_count": 0,
      "outputs": []
    },
    {
      "cell_type": "code",
      "metadata": {
        "id": "N2Cybzzs-eYn",
        "colab_type": "code",
        "colab": {}
      },
      "source": [
        "link_kanja = urljoin(url, tag_kanja.get(\"href\"))"
      ],
      "execution_count": 0,
      "outputs": []
    },
    {
      "cell_type": "code",
      "metadata": {
        "id": "Y5_anTsAPFZm",
        "colab_type": "code",
        "colab": {}
      },
      "source": [
        "df_kanja = pd.read_excel(link_kanja, index_col=\"番号\", header=1, skipfooter=2)"
      ],
      "execution_count": 0,
      "outputs": []
    },
    {
      "cell_type": "code",
      "metadata": {
        "id": "jz9SvTf4jHpi",
        "colab_type": "code",
        "colab": {}
      },
      "source": [
        "df_kanja"
      ],
      "execution_count": 0,
      "outputs": []
    },
    {
      "cell_type": "code",
      "metadata": {
        "id": "5SPUK6O1QIQ8",
        "colab_type": "code",
        "colab": {}
      },
      "source": [
        "df_kanja[\"陽性判明日\"] = df_kanja[\"陽性判明日\"].apply(lambda date: pd.to_datetime(date, unit=\"D\", origin=pd.Timestamp(\"1899/12/30\")))"
      ],
      "execution_count": 0,
      "outputs": []
    },
    {
      "cell_type": "code",
      "metadata": {
        "id": "aumHRJcTQWrk",
        "colab_type": "code",
        "colab": {}
      },
      "source": [
        "df_kanja[\"退院日\"] = df_kanja[\"退院日\"].apply(lambda date: pd.to_datetime(date, unit=\"D\", origin=pd.Timestamp(\"1899/12/30\")))"
      ],
      "execution_count": 0,
      "outputs": []
    },
    {
      "cell_type": "code",
      "metadata": {
        "id": "ABQ-b0yEBM90",
        "colab_type": "code",
        "colab": {}
      },
      "source": [
        "df_kanja[\"退院\"] = df_kanja[\"退院日\"].dt.strftime(\"%Y-%m-%d\")"
      ],
      "execution_count": 0,
      "outputs": []
    },
    {
      "cell_type": "code",
      "metadata": {
        "id": "FD3RO4GETW2A",
        "colab_type": "code",
        "colab": {}
      },
      "source": [
        "df_kanja[\"状態\"]  = \"入院中\""
      ],
      "execution_count": 0,
      "outputs": []
    },
    {
      "cell_type": "code",
      "metadata": {
        "id": "zq4Tpq5cTeLU",
        "colab_type": "code",
        "colab": {}
      },
      "source": [
        "df_kanja[\"状態\"] = df_kanja[\"状態\"].where(df_kanja[\"退院日\"].isnull(), \"退院\")"
      ],
      "execution_count": 0,
      "outputs": []
    },
    {
      "cell_type": "markdown",
      "metadata": {
        "id": "TGorkbIyvLpQ",
        "colab_type": "text"
      },
      "source": [
        "## main_summary"
      ]
    },
    {
      "cell_type": "code",
      "metadata": {
        "id": "nfc72BChU_zN",
        "colab_type": "code",
        "colab": {}
      },
      "source": [
        "sr_situ = df_kanja[\"状態\"].value_counts()"
      ],
      "execution_count": 0,
      "outputs": []
    },
    {
      "cell_type": "code",
      "metadata": {
        "id": "qufNujUFtABa",
        "colab_type": "code",
        "colab": {}
      },
      "source": [
        "sr_situ = sr_situ.reindex([\"入院中\", \"退院\", \"死亡\"], fill_value=0)\n",
        "sr_situ"
      ],
      "execution_count": 0,
      "outputs": []
    },
    {
      "cell_type": "code",
      "metadata": {
        "id": "J4xLpF19uLE4",
        "colab_type": "code",
        "colab": {}
      },
      "source": [
        "data[\"main_summary\"] = {\n",
        "    \"attr\": \"検査実施人数\",\n",
        "    \"value\": int(df_kensa.iloc[-1][(\"累積検査件数\", \"合計\")]),\n",
        "    \"children\": [\n",
        "        {\n",
        "            \"attr\": \"陽性患者数\",\n",
        "            \"value\": len(df_kanja),\n",
        "            \"children\": [\n",
        "                {\"attr\": \"入院中\", \"value\": int(sr_situ[\"入院中\"])},\n",
        "                {\"attr\": \"退院\", \"value\": int(sr_situ[\"退院\"])},\n",
        "                {\"attr\": \"死亡\", \"value\": int(sr_situ[\"死亡\"])},\n",
        "            ],\n",
        "        }\n",
        "    ],\n",
        "}"
      ],
      "execution_count": 0,
      "outputs": []
    },
    {
      "cell_type": "markdown",
      "metadata": {
        "id": "dMoE_0aSo8io",
        "colab_type": "text"
      },
      "source": [
        "## patients"
      ]
    },
    {
      "cell_type": "code",
      "metadata": {
        "id": "eLyCb1h7MKJ3",
        "colab_type": "code",
        "colab": {}
      },
      "source": [
        "df_kanja[\"リリース日\"] = df_kanja[\"陽性判明日\"].dt.strftime(\"%Y-%m-%d\")"
      ],
      "execution_count": 0,
      "outputs": []
    },
    {
      "cell_type": "code",
      "metadata": {
        "id": "HC9xsB93UqXl",
        "colab_type": "code",
        "colab": {}
      },
      "source": [
        "df_patients = df_kanja.loc[:, [\"リリース日\", \"居住地\", \"年代\", \"性別\",\"退院\"]]"
      ],
      "execution_count": 0,
      "outputs": []
    },
    {
      "cell_type": "code",
      "metadata": {
        "id": "Sryv2HGBVxH9",
        "colab_type": "code",
        "colab": {}
      },
      "source": [
        "data[\"patients\"] = {\n",
        "    \"data\": df_patients.to_dict(orient=\"records\"),\n",
        "    \"date\": dt_update,\n",
        "}"
      ],
      "execution_count": 0,
      "outputs": []
    },
    {
      "cell_type": "markdown",
      "metadata": {
        "id": "D04QzEG4o_sv",
        "colab_type": "text"
      },
      "source": [
        "## patients_summary"
      ]
    },
    {
      "cell_type": "code",
      "metadata": {
        "id": "4BPlVWPMYEMA",
        "colab_type": "code",
        "colab": {}
      },
      "source": [
        "df_patients_sum = (df_kanja[\"陽性判明日\"].value_counts().sort_index().asfreq(\"D\", fill_value=0).reset_index())"
      ],
      "execution_count": 0,
      "outputs": []
    },
    {
      "cell_type": "code",
      "metadata": {
        "id": "95aG-rVaYKu9",
        "colab_type": "code",
        "colab": {}
      },
      "source": [
        "df_patients_sum[\"日付\"] = df_patients_sum[\"index\"].dt.strftime(\"%Y-%m-%d\")"
      ],
      "execution_count": 0,
      "outputs": []
    },
    {
      "cell_type": "code",
      "metadata": {
        "id": "ydun42oLYKyN",
        "colab_type": "code",
        "colab": {}
      },
      "source": [
        "df_patients_sum.rename(columns={\"陽性判明日\": \"小計\"}, inplace=True)\n",
        "\n",
        "df_patients_sum.drop(columns=[\"index\"], inplace=True)"
      ],
      "execution_count": 0,
      "outputs": []
    },
    {
      "cell_type": "code",
      "metadata": {
        "id": "NcQRDPRaYK1U",
        "colab_type": "code",
        "colab": {}
      },
      "source": [
        "data[\"patients_summary\"] = {\n",
        "    \"data\": df_patients_sum.loc[:, [\"日付\", \"小計\"]].values.tolist(),\n",
        "    \"date\": dt_update,\n",
        "}"
      ],
      "execution_count": 0,
      "outputs": []
    },
    {
      "cell_type": "code",
      "metadata": {
        "id": "gJ1vrLY9V1s5",
        "colab_type": "code",
        "colab": {}
      },
      "source": [
        "with open(\"data.json\", \"w\", encoding=\"utf-8\") as fw:\n",
        "    json.dump(data, fw, ignore_nan=True, ensure_ascii=False, indent=4)"
      ],
      "execution_count": 0,
      "outputs": []
    },
    {
      "cell_type": "markdown",
      "metadata": {
        "id": "yfLIyJV8251I",
        "colab_type": "text"
      },
      "source": [
        "# ダウンロード"
      ]
    },
    {
      "cell_type": "code",
      "metadata": {
        "id": "Ofz1r5d72x-P",
        "colab_type": "code",
        "colab": {}
      },
      "source": [
        "from google.colab import files"
      ],
      "execution_count": 0,
      "outputs": []
    },
    {
      "cell_type": "code",
      "metadata": {
        "id": "ZeJ9VZdc21xv",
        "colab_type": "code",
        "colab": {}
      },
      "source": [
        "files.download(\"data.json\")"
      ],
      "execution_count": 0,
      "outputs": []
    }
  ]
}