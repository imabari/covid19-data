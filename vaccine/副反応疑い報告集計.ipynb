{
  "nbformat": 4,
  "nbformat_minor": 0,
  "metadata": {
    "colab": {
      "name": "副反応疑い報告集計.ipynb",
      "provenance": [],
      "toc_visible": true,
      "authorship_tag": "ABX9TyP8BJQ1xWPanobROPZI66pT",
      "include_colab_link": true
    },
    "kernelspec": {
      "name": "python3",
      "display_name": "Python 3"
    },
    "language_info": {
      "name": "python"
    }
  },
  "cells": [
    {
      "cell_type": "markdown",
      "metadata": {
        "id": "view-in-github",
        "colab_type": "text"
      },
      "source": [
        "<a href=\"https://colab.research.google.com/github/imabari/covid19-data/blob/master/vaccine/%E5%89%AF%E5%8F%8D%E5%BF%9C%E7%96%91%E3%81%84%E5%A0%B1%E5%91%8A%E9%9B%86%E8%A8%88.ipynb\" target=\"_parent\"><img src=\"https://colab.research.google.com/assets/colab-badge.svg\" alt=\"Open In Colab\"/></a>"
      ]
    },
    {
      "cell_type": "code",
      "metadata": {
        "colab": {
          "base_uri": "https://localhost:8080/"
        },
        "id": "Z0nEgkR0QqYG",
        "outputId": "5a8849d6-a4be-44ed-c75b-f239689afc24"
      },
      "source": [
        "!wget https://www.mhlw.go.jp/content/10906000/000790066.pdf -O data.pdf"
      ],
      "execution_count": 1,
      "outputs": [
        {
          "output_type": "stream",
          "text": [
            "--2021-06-09 11:42:48--  https://www.mhlw.go.jp/content/10906000/000790066.pdf\n",
            "Resolving www.mhlw.go.jp (www.mhlw.go.jp)... 69.192.197.216, 2600:1405:800:1a3::3194, 2600:1405:800:194::3194\n",
            "Connecting to www.mhlw.go.jp (www.mhlw.go.jp)|69.192.197.216|:443... connected.\n",
            "HTTP request sent, awaiting response... 200 OK\n",
            "Length: 5600642 (5.3M) [application/pdf]\n",
            "Saving to: ‘data.pdf’\n",
            "\n",
            "\rdata.pdf              0%[                    ]       0  --.-KB/s               \rdata.pdf            100%[===================>]   5.34M  --.-KB/s    in 0.06s   \n",
            "\n",
            "2021-06-09 11:42:49 (85.8 MB/s) - ‘data.pdf’ saved [5600642/5600642]\n",
            "\n"
          ],
          "name": "stdout"
        }
      ]
    },
    {
      "cell_type": "code",
      "metadata": {
        "colab": {
          "base_uri": "https://localhost:8080/"
        },
        "id": "OUH-MjwAQ_iU",
        "outputId": "f926aad7-c646-416e-b1cb-109831da28a8"
      },
      "source": [
        "!apt install python3-tk ghostscript\n",
        "!pip install camelot-py[cv]"
      ],
      "execution_count": 2,
      "outputs": [
        {
          "output_type": "stream",
          "text": [
            "Reading package lists... Done\n",
            "Building dependency tree       \n",
            "Reading state information... Done\n",
            "python3-tk is already the newest version (3.6.9-1~18.04).\n",
            "The following additional packages will be installed:\n",
            "  fonts-droid-fallback fonts-noto-mono gsfonts libcupsfilters1 libcupsimage2\n",
            "  libgs9 libgs9-common libijs-0.35 libjbig2dec0 poppler-data\n",
            "Suggested packages:\n",
            "  fonts-noto ghostscript-x poppler-utils fonts-japanese-mincho\n",
            "  | fonts-ipafont-mincho fonts-japanese-gothic | fonts-ipafont-gothic\n",
            "  fonts-arphic-ukai fonts-arphic-uming fonts-nanum\n",
            "The following NEW packages will be installed:\n",
            "  fonts-droid-fallback fonts-noto-mono ghostscript gsfonts libcupsfilters1\n",
            "  libcupsimage2 libgs9 libgs9-common libijs-0.35 libjbig2dec0 poppler-data\n",
            "0 upgraded, 11 newly installed, 0 to remove and 39 not upgraded.\n",
            "Need to get 14.1 MB of archives.\n",
            "After this operation, 49.9 MB of additional disk space will be used.\n",
            "Get:1 http://archive.ubuntu.com/ubuntu bionic/main amd64 fonts-droid-fallback all 1:6.0.1r16-1.1 [1,805 kB]\n",
            "Get:2 http://archive.ubuntu.com/ubuntu bionic/main amd64 poppler-data all 0.4.8-2 [1,479 kB]\n",
            "Get:3 http://archive.ubuntu.com/ubuntu bionic/main amd64 fonts-noto-mono all 20171026-2 [75.5 kB]\n",
            "Get:4 http://archive.ubuntu.com/ubuntu bionic-updates/main amd64 libcupsimage2 amd64 2.2.7-1ubuntu2.8 [18.6 kB]\n",
            "Get:5 http://archive.ubuntu.com/ubuntu bionic/main amd64 libijs-0.35 amd64 0.35-13 [15.5 kB]\n",
            "Get:6 http://archive.ubuntu.com/ubuntu bionic/main amd64 libjbig2dec0 amd64 0.13-6 [55.9 kB]\n",
            "Get:7 http://archive.ubuntu.com/ubuntu bionic-updates/main amd64 libgs9-common all 9.26~dfsg+0-0ubuntu0.18.04.14 [5,092 kB]\n",
            "Get:8 http://archive.ubuntu.com/ubuntu bionic-updates/main amd64 libgs9 amd64 9.26~dfsg+0-0ubuntu0.18.04.14 [2,265 kB]\n",
            "Get:9 http://archive.ubuntu.com/ubuntu bionic-updates/main amd64 ghostscript amd64 9.26~dfsg+0-0ubuntu0.18.04.14 [51.3 kB]\n",
            "Get:10 http://archive.ubuntu.com/ubuntu bionic/main amd64 gsfonts all 1:8.11+urwcyr1.0.7~pre44-4.4 [3,120 kB]\n",
            "Get:11 http://archive.ubuntu.com/ubuntu bionic-updates/main amd64 libcupsfilters1 amd64 1.20.2-0ubuntu3.1 [108 kB]\n",
            "Fetched 14.1 MB in 2s (6,787 kB/s)\n",
            "Selecting previously unselected package fonts-droid-fallback.\n",
            "(Reading database ... 160772 files and directories currently installed.)\n",
            "Preparing to unpack .../00-fonts-droid-fallback_1%3a6.0.1r16-1.1_all.deb ...\n",
            "Unpacking fonts-droid-fallback (1:6.0.1r16-1.1) ...\n",
            "Selecting previously unselected package poppler-data.\n",
            "Preparing to unpack .../01-poppler-data_0.4.8-2_all.deb ...\n",
            "Unpacking poppler-data (0.4.8-2) ...\n",
            "Selecting previously unselected package fonts-noto-mono.\n",
            "Preparing to unpack .../02-fonts-noto-mono_20171026-2_all.deb ...\n",
            "Unpacking fonts-noto-mono (20171026-2) ...\n",
            "Selecting previously unselected package libcupsimage2:amd64.\n",
            "Preparing to unpack .../03-libcupsimage2_2.2.7-1ubuntu2.8_amd64.deb ...\n",
            "Unpacking libcupsimage2:amd64 (2.2.7-1ubuntu2.8) ...\n",
            "Selecting previously unselected package libijs-0.35:amd64.\n",
            "Preparing to unpack .../04-libijs-0.35_0.35-13_amd64.deb ...\n",
            "Unpacking libijs-0.35:amd64 (0.35-13) ...\n",
            "Selecting previously unselected package libjbig2dec0:amd64.\n",
            "Preparing to unpack .../05-libjbig2dec0_0.13-6_amd64.deb ...\n",
            "Unpacking libjbig2dec0:amd64 (0.13-6) ...\n",
            "Selecting previously unselected package libgs9-common.\n",
            "Preparing to unpack .../06-libgs9-common_9.26~dfsg+0-0ubuntu0.18.04.14_all.deb ...\n",
            "Unpacking libgs9-common (9.26~dfsg+0-0ubuntu0.18.04.14) ...\n",
            "Selecting previously unselected package libgs9:amd64.\n",
            "Preparing to unpack .../07-libgs9_9.26~dfsg+0-0ubuntu0.18.04.14_amd64.deb ...\n",
            "Unpacking libgs9:amd64 (9.26~dfsg+0-0ubuntu0.18.04.14) ...\n",
            "Selecting previously unselected package ghostscript.\n",
            "Preparing to unpack .../08-ghostscript_9.26~dfsg+0-0ubuntu0.18.04.14_amd64.deb ...\n",
            "Unpacking ghostscript (9.26~dfsg+0-0ubuntu0.18.04.14) ...\n",
            "Selecting previously unselected package gsfonts.\n",
            "Preparing to unpack .../09-gsfonts_1%3a8.11+urwcyr1.0.7~pre44-4.4_all.deb ...\n",
            "Unpacking gsfonts (1:8.11+urwcyr1.0.7~pre44-4.4) ...\n",
            "Selecting previously unselected package libcupsfilters1:amd64.\n",
            "Preparing to unpack .../10-libcupsfilters1_1.20.2-0ubuntu3.1_amd64.deb ...\n",
            "Unpacking libcupsfilters1:amd64 (1.20.2-0ubuntu3.1) ...\n",
            "Setting up libgs9-common (9.26~dfsg+0-0ubuntu0.18.04.14) ...\n",
            "Setting up fonts-droid-fallback (1:6.0.1r16-1.1) ...\n",
            "Setting up gsfonts (1:8.11+urwcyr1.0.7~pre44-4.4) ...\n",
            "Setting up poppler-data (0.4.8-2) ...\n",
            "Setting up fonts-noto-mono (20171026-2) ...\n",
            "Setting up libcupsfilters1:amd64 (1.20.2-0ubuntu3.1) ...\n",
            "Setting up libcupsimage2:amd64 (2.2.7-1ubuntu2.8) ...\n",
            "Setting up libjbig2dec0:amd64 (0.13-6) ...\n",
            "Setting up libijs-0.35:amd64 (0.35-13) ...\n",
            "Setting up libgs9:amd64 (9.26~dfsg+0-0ubuntu0.18.04.14) ...\n",
            "Setting up ghostscript (9.26~dfsg+0-0ubuntu0.18.04.14) ...\n",
            "Processing triggers for man-db (2.8.3-2ubuntu0.1) ...\n",
            "Processing triggers for fontconfig (2.12.6-0ubuntu2) ...\n",
            "Processing triggers for libc-bin (2.27-3ubuntu1.2) ...\n",
            "/sbin/ldconfig.real: /usr/local/lib/python3.7/dist-packages/ideep4py/lib/libmkldnn.so.0 is not a symbolic link\n",
            "\n",
            "Collecting camelot-py[cv]\n",
            "\u001b[?25l  Downloading https://files.pythonhosted.org/packages/ed/78/123007d6aff9811bd087ff5dd68e06a9df62b2fdbf7685d74c9d6f247921/camelot_py-0.8.2-py3-none-any.whl (42kB)\n",
            "\u001b[K     |████████████████████████████████| 51kB 4.5MB/s \n",
            "\u001b[?25hRequirement already satisfied: pandas>=0.23.4 in /usr/local/lib/python3.7/dist-packages (from camelot-py[cv]) (1.1.5)\n",
            "Requirement already satisfied: click>=6.7 in /usr/local/lib/python3.7/dist-packages (from camelot-py[cv]) (7.1.2)\n",
            "Collecting PyPDF2>=1.26.0\n",
            "\u001b[?25l  Downloading https://files.pythonhosted.org/packages/b4/01/68fcc0d43daf4c6bdbc6b33cc3f77bda531c86b174cac56ef0ffdb96faab/PyPDF2-1.26.0.tar.gz (77kB)\n",
            "\u001b[K     |████████████████████████████████| 81kB 5.4MB/s \n",
            "\u001b[?25hRequirement already satisfied: numpy>=1.13.3 in /usr/local/lib/python3.7/dist-packages (from camelot-py[cv]) (1.19.5)\n",
            "Requirement already satisfied: chardet>=3.0.4 in /usr/local/lib/python3.7/dist-packages (from camelot-py[cv]) (3.0.4)\n",
            "Collecting pdfminer.six>=20200726\n",
            "\u001b[?25l  Downloading https://files.pythonhosted.org/packages/93/f3/4fec7dabe8802ebec46141345bf714cd1fc7d93cb74ddde917e4b6d97d88/pdfminer.six-20201018-py3-none-any.whl (5.6MB)\n",
            "\u001b[K     |████████████████████████████████| 5.6MB 15.4MB/s \n",
            "\u001b[?25hRequirement already satisfied: openpyxl>=2.5.8 in /usr/local/lib/python3.7/dist-packages (from camelot-py[cv]) (2.5.9)\n",
            "Requirement already satisfied: opencv-python>=3.4.2.17; extra == \"cv\" in /usr/local/lib/python3.7/dist-packages (from camelot-py[cv]) (4.1.2.30)\n",
            "Requirement already satisfied: python-dateutil>=2.7.3 in /usr/local/lib/python3.7/dist-packages (from pandas>=0.23.4->camelot-py[cv]) (2.8.1)\n",
            "Requirement already satisfied: pytz>=2017.2 in /usr/local/lib/python3.7/dist-packages (from pandas>=0.23.4->camelot-py[cv]) (2018.9)\n",
            "Collecting cryptography\n",
            "\u001b[?25l  Downloading https://files.pythonhosted.org/packages/b2/26/7af637e6a7e87258b963f1731c5982fb31cd507f0d90d91836e446955d02/cryptography-3.4.7-cp36-abi3-manylinux2014_x86_64.whl (3.2MB)\n",
            "\u001b[K     |████████████████████████████████| 3.2MB 44.9MB/s \n",
            "\u001b[?25hRequirement already satisfied: sortedcontainers in /usr/local/lib/python3.7/dist-packages (from pdfminer.six>=20200726->camelot-py[cv]) (2.4.0)\n",
            "Requirement already satisfied: jdcal in /usr/local/lib/python3.7/dist-packages (from openpyxl>=2.5.8->camelot-py[cv]) (1.4.1)\n",
            "Requirement already satisfied: et-xmlfile in /usr/local/lib/python3.7/dist-packages (from openpyxl>=2.5.8->camelot-py[cv]) (1.1.0)\n",
            "Requirement already satisfied: six>=1.5 in /usr/local/lib/python3.7/dist-packages (from python-dateutil>=2.7.3->pandas>=0.23.4->camelot-py[cv]) (1.15.0)\n",
            "Requirement already satisfied: cffi>=1.12 in /usr/local/lib/python3.7/dist-packages (from cryptography->pdfminer.six>=20200726->camelot-py[cv]) (1.14.5)\n",
            "Requirement already satisfied: pycparser in /usr/local/lib/python3.7/dist-packages (from cffi>=1.12->cryptography->pdfminer.six>=20200726->camelot-py[cv]) (2.20)\n",
            "Building wheels for collected packages: PyPDF2\n",
            "  Building wheel for PyPDF2 (setup.py) ... \u001b[?25l\u001b[?25hdone\n",
            "  Created wheel for PyPDF2: filename=PyPDF2-1.26.0-cp37-none-any.whl size=61102 sha256=1b30aaf85fb6425af73dd708273b21fa0360420777a2015ee2baec8320488a4e\n",
            "  Stored in directory: /root/.cache/pip/wheels/53/84/19/35bc977c8bf5f0c23a8a011aa958acd4da4bbd7a229315c1b7\n",
            "Successfully built PyPDF2\n",
            "Installing collected packages: PyPDF2, cryptography, pdfminer.six, camelot-py\n",
            "Successfully installed PyPDF2-1.26.0 camelot-py-0.8.2 cryptography-3.4.7 pdfminer.six-20201018\n"
          ],
          "name": "stdout"
        }
      ]
    },
    {
      "cell_type": "code",
      "metadata": {
        "id": "VVyB-HZOQ4B8"
      },
      "source": [
        "import camelot\n",
        "import pandas as pd"
      ],
      "execution_count": 3,
      "outputs": []
    },
    {
      "cell_type": "markdown",
      "metadata": {
        "id": "Q2hUvnpK75XY"
      },
      "source": [
        "# PDF変換"
      ]
    },
    {
      "cell_type": "code",
      "metadata": {
        "id": "s8qjs2KaQ0or"
      },
      "source": [
        "tables = camelot.read_pdf(\"data.pdf\", pages=\"2-end\", split_text=True)\n",
        "\n",
        "df = pd.concat([table.df for table in tables])\n",
        "\n",
        "df.to_csv(\"data.csv\", encoding=\"utf_8_sig\", index=False, header=False)"
      ],
      "execution_count": 4,
      "outputs": []
    },
    {
      "cell_type": "markdown",
      "metadata": {
        "id": "WPaMXApiJ8l2"
      },
      "source": [
        "# ダウンロード"
      ]
    },
    {
      "cell_type": "code",
      "metadata": {
        "id": "0UrGUovIJ3L_"
      },
      "source": [
        "from google.colab import files"
      ],
      "execution_count": 5,
      "outputs": []
    },
    {
      "cell_type": "code",
      "metadata": {
        "id": "agQaDzy4J5uB",
        "colab": {
          "base_uri": "https://localhost:8080/",
          "height": 17
        },
        "outputId": "ac87753d-c79f-4644-a5e7-3ddeec2312dc"
      },
      "source": [
        "files.download(\"data.csv\")"
      ],
      "execution_count": 6,
      "outputs": [
        {
          "output_type": "display_data",
          "data": {
            "application/javascript": [
              "\n",
              "    async function download(id, filename, size) {\n",
              "      if (!google.colab.kernel.accessAllowed) {\n",
              "        return;\n",
              "      }\n",
              "      const div = document.createElement('div');\n",
              "      const label = document.createElement('label');\n",
              "      label.textContent = `Downloading \"${filename}\": `;\n",
              "      div.appendChild(label);\n",
              "      const progress = document.createElement('progress');\n",
              "      progress.max = size;\n",
              "      div.appendChild(progress);\n",
              "      document.body.appendChild(div);\n",
              "\n",
              "      const buffers = [];\n",
              "      let downloaded = 0;\n",
              "\n",
              "      const channel = await google.colab.kernel.comms.open(id);\n",
              "      // Send a message to notify the kernel that we're ready.\n",
              "      channel.send({})\n",
              "\n",
              "      for await (const message of channel.messages) {\n",
              "        // Send a message to notify the kernel that we're ready.\n",
              "        channel.send({})\n",
              "        if (message.buffers) {\n",
              "          for (const buffer of message.buffers) {\n",
              "            buffers.push(buffer);\n",
              "            downloaded += buffer.byteLength;\n",
              "            progress.value = downloaded;\n",
              "          }\n",
              "        }\n",
              "      }\n",
              "      const blob = new Blob(buffers, {type: 'application/binary'});\n",
              "      const a = document.createElement('a');\n",
              "      a.href = window.URL.createObjectURL(blob);\n",
              "      a.download = filename;\n",
              "      div.appendChild(a);\n",
              "      a.click();\n",
              "      div.remove();\n",
              "    }\n",
              "  "
            ],
            "text/plain": [
              "<IPython.core.display.Javascript object>"
            ]
          },
          "metadata": {
            "tags": []
          }
        },
        {
          "output_type": "display_data",
          "data": {
            "application/javascript": [
              "download(\"download_d2aa2db5-0534-499c-b09b-753507bce0cc\", \"data.csv\", 2583293)"
            ],
            "text/plain": [
              "<IPython.core.display.Javascript object>"
            ]
          },
          "metadata": {
            "tags": []
          }
        }
      ]
    },
    {
      "cell_type": "markdown",
      "metadata": {
        "id": "7nhRNxrzKCR5"
      },
      "source": [
        "# 前処理"
      ]
    },
    {
      "cell_type": "code",
      "metadata": {
        "id": "C8rDViWy-r8Z"
      },
      "source": [
        "import re\n",
        "import pandas as pd"
      ],
      "execution_count": 7,
      "outputs": []
    },
    {
      "cell_type": "code",
      "metadata": {
        "id": "2LD275tJ_ovx"
      },
      "source": [
        "#!wget https://raw.githubusercontent.com/imabari/covid19-data/master/vaccine/data.csv -O data.csv"
      ],
      "execution_count": 8,
      "outputs": []
    },
    {
      "cell_type": "code",
      "metadata": {
        "id": "Q1mX4NRTXZY-"
      },
      "source": [
        "df0 = pd.read_csv(\"data.csv\", dtype=\"object\").fillna(\"\")"
      ],
      "execution_count": 9,
      "outputs": []
    },
    {
      "cell_type": "code",
      "metadata": {
        "colab": {
          "base_uri": "https://localhost:8080/"
        },
        "id": "5d1PZWNXZDMX",
        "outputId": "78cc12d8-188c-413d-f866-26ff46a49b46"
      },
      "source": [
        "df0.info()"
      ],
      "execution_count": 10,
      "outputs": [
        {
          "output_type": "stream",
          "text": [
            "<class 'pandas.core.frame.DataFrame'>\n",
            "RangeIndex: 10659 entries, 0 to 10658\n",
            "Data columns (total 14 columns):\n",
            " #   Column         Non-Null Count  Dtype \n",
            "---  ------         --------------  ----- \n",
            " 0   No             10659 non-null  object\n",
            " 1   年齢             10659 non-null  object\n",
            " 2   性別             10659 non-null  object\n",
            " 3   接種日            10659 non-null  object\n",
            " 4   発生日            10659 non-null  object\n",
            " 5   接種から\n",
            "発生までの\n",
            "日数  10659 non-null  object\n",
            " 6   ワクチン名          10659 non-null  object\n",
            " 7   製造販売業者         10659 non-null  object\n",
            " 8   ロット番\n",
            "号         10659 non-null  object\n",
            " 9   症状名（PT名）       10659 non-null  object\n",
            " 10  因果関係\n",
            "（報告医評価）   10659 non-null  object\n",
            " 11  重篤度\n",
            "（報告医評価）    10659 non-null  object\n",
            " 12  転帰日            10659 non-null  object\n",
            " 13  転帰内容           10659 non-null  object\n",
            "dtypes: object(14)\n",
            "memory usage: 1.1+ MB\n"
          ],
          "name": "stdout"
        }
      ]
    },
    {
      "cell_type": "code",
      "metadata": {
        "id": "DzykbWkDXfgx"
      },
      "source": [
        "df0.columns = df0.columns.str.replace(\"\\n\", \"\")"
      ],
      "execution_count": 11,
      "outputs": []
    },
    {
      "cell_type": "code",
      "metadata": {
        "id": "dlmvhu4WXfdV"
      },
      "source": [
        "df0[\"No\"] = df0[\"No\"].str.replace(\"※[１-９]\", \"\").str.strip().astype(int)"
      ],
      "execution_count": 12,
      "outputs": []
    },
    {
      "cell_type": "code",
      "metadata": {
        "id": "uIznjAa6zz8s"
      },
      "source": [
        "df0[\"年齢\"] = df0[\"年齢\"].str.rstrip(\"歳\")\n",
        "df0[\"年齢\"] = df0[\"年齢\"].mask(df0[\"年齢\"] == \"\").astype(float).astype(\"Int64\")"
      ],
      "execution_count": 13,
      "outputs": []
    },
    {
      "cell_type": "code",
      "metadata": {
        "id": "XGyykwyr13bu"
      },
      "source": [
        "df0[\"性別\"] = df0[\"性別\"].replace({\"\": \"不明\"})"
      ],
      "execution_count": 14,
      "outputs": []
    },
    {
      "cell_type": "code",
      "metadata": {
        "id": "QzocIOTYk53C"
      },
      "source": [
        "df0[\"症状名（PT名）\"] = df0[\"症状名（PT名）\"].str.normalize(\"NFKC\").str.strip().str.replace(\" \", \"\")"
      ],
      "execution_count": 15,
      "outputs": []
    },
    {
      "cell_type": "markdown",
      "metadata": {
        "id": "HyPfcAcp_YC6"
      },
      "source": [
        "# 整然データ"
      ]
    },
    {
      "cell_type": "markdown",
      "metadata": {
        "id": "4E-gOd3lBt8S"
      },
      "source": [
        "かのえ／Pattie／柿人 さんのコードを参考にさせていただきました\n",
        "\n",
        "https://twitter.com/kanoekakihito/status/1397222333505486849\n",
        "\n",
        "https://github.com/kanoekakihito/tidy_mhlw_data/blob/main/20210523_%E6%96%B0%E5%9E%8B%E3%82%B3%E3%83%AD%E3%83%8A%E3%83%AF%E3%82%AF%E3%83%81%E3%83%B3%E5%89%AF%E5%8F%8D%E5%BF%9CCSV%E6%95%B4%E5%BD%A2.py"
      ]
    },
    {
      "cell_type": "code",
      "metadata": {
        "id": "3n5BFG9mwlXb"
      },
      "source": [
        "df1 = df0.copy()"
      ],
      "execution_count": 16,
      "outputs": []
    },
    {
      "cell_type": "code",
      "metadata": {
        "colab": {
          "base_uri": "https://localhost:8080/",
          "height": 927
        },
        "id": "GMIpztnza7DN",
        "outputId": "dcf85a49-f1d7-4542-dc87-76f32287c357"
      },
      "source": [
        "df1"
      ],
      "execution_count": 17,
      "outputs": [
        {
          "output_type": "execute_result",
          "data": {
            "text/html": [
              "<div>\n",
              "<style scoped>\n",
              "    .dataframe tbody tr th:only-of-type {\n",
              "        vertical-align: middle;\n",
              "    }\n",
              "\n",
              "    .dataframe tbody tr th {\n",
              "        vertical-align: top;\n",
              "    }\n",
              "\n",
              "    .dataframe thead th {\n",
              "        text-align: right;\n",
              "    }\n",
              "</style>\n",
              "<table border=\"1\" class=\"dataframe\">\n",
              "  <thead>\n",
              "    <tr style=\"text-align: right;\">\n",
              "      <th></th>\n",
              "      <th>No</th>\n",
              "      <th>年齢</th>\n",
              "      <th>性別</th>\n",
              "      <th>接種日</th>\n",
              "      <th>発生日</th>\n",
              "      <th>接種から発生までの日数</th>\n",
              "      <th>ワクチン名</th>\n",
              "      <th>製造販売業者</th>\n",
              "      <th>ロット番号</th>\n",
              "      <th>症状名（PT名）</th>\n",
              "      <th>因果関係（報告医評価）</th>\n",
              "      <th>重篤度（報告医評価）</th>\n",
              "      <th>転帰日</th>\n",
              "      <th>転帰内容</th>\n",
              "    </tr>\n",
              "  </thead>\n",
              "  <tbody>\n",
              "    <tr>\n",
              "      <th>0</th>\n",
              "      <td>1</td>\n",
              "      <td>55</td>\n",
              "      <td>女性</td>\n",
              "      <td>2021/03/19</td>\n",
              "      <td>2021/03/19\\r\\n2021/03/19</td>\n",
              "      <td>0</td>\n",
              "      <td>コミナティ筋注</td>\n",
              "      <td>ファイザー</td>\n",
              "      <td>EP9605</td>\n",
              "      <td>口腔咽頭不快感(口腔咽頭不快感)\\r\\n皮疹・発疹・紅斑(紅斑)</td>\n",
              "      <td></td>\n",
              "      <td>重くない</td>\n",
              "      <td>未記入\\r\\n未記入</td>\n",
              "      <td>不明\\r\\n軽快</td>\n",
              "    </tr>\n",
              "    <tr>\n",
              "      <th>1</th>\n",
              "      <td>2</td>\n",
              "      <td>24</td>\n",
              "      <td>女性</td>\n",
              "      <td>2021/04/01</td>\n",
              "      <td>2021/04/01\\r\\n2021/04/01</td>\n",
              "      <td>0</td>\n",
              "      <td>コミナティ筋注</td>\n",
              "      <td>ファイザー</td>\n",
              "      <td>ER2659</td>\n",
              "      <td>悪心・嘔吐(悪心)\\r\\n口腔咽頭不快感(口腔咽頭不快感)</td>\n",
              "      <td></td>\n",
              "      <td>重くない</td>\n",
              "      <td>未記入\\r\\n未記入</td>\n",
              "      <td>軽快\\r\\n軽快</td>\n",
              "    </tr>\n",
              "    <tr>\n",
              "      <th>2</th>\n",
              "      <td>3</td>\n",
              "      <td>77</td>\n",
              "      <td>男性</td>\n",
              "      <td>2021/04/19</td>\n",
              "      <td>2021/04/23</td>\n",
              "      <td>4</td>\n",
              "      <td>コミナティ筋注</td>\n",
              "      <td>ファイザー</td>\n",
              "      <td>ET9096</td>\n",
              "      <td>脳出血(脳幹出血)</td>\n",
              "      <td></td>\n",
              "      <td>重い</td>\n",
              "      <td>未記入</td>\n",
              "      <td>死亡</td>\n",
              "    </tr>\n",
              "    <tr>\n",
              "      <th>3</th>\n",
              "      <td>4</td>\n",
              "      <td>66</td>\n",
              "      <td>男性</td>\n",
              "      <td>2021/05/08</td>\n",
              "      <td>2021/05/08\\r\\n2021/05/08</td>\n",
              "      <td>0</td>\n",
              "      <td>コミナティ筋注</td>\n",
              "      <td>ファイザー</td>\n",
              "      <td>ER7449</td>\n",
              "      <td>発熱(発熱)\\r\\n接種部位疼痛(ワクチン接種部位疼痛)</td>\n",
              "      <td></td>\n",
              "      <td>重くない</td>\n",
              "      <td>2021/05/10\\r\\n2021/05/10</td>\n",
              "      <td>回復\\r\\n回復</td>\n",
              "    </tr>\n",
              "    <tr>\n",
              "      <th>4</th>\n",
              "      <td>5</td>\n",
              "      <td>61</td>\n",
              "      <td>女性</td>\n",
              "      <td>2021/04/20</td>\n",
              "      <td>2021/04/20\\r\\n2021/04/20</td>\n",
              "      <td>0</td>\n",
              "      <td>コミナティ筋注</td>\n",
              "      <td>ファイザー</td>\n",
              "      <td>不明</td>\n",
              "      <td>頭痛(頭痛)\\r\\n血圧上昇(血圧上昇)</td>\n",
              "      <td></td>\n",
              "      <td>重い</td>\n",
              "      <td>2021/04/25\\r\\n2021/04/22</td>\n",
              "      <td>回復\\r\\n回復</td>\n",
              "    </tr>\n",
              "    <tr>\n",
              "      <th>...</th>\n",
              "      <td>...</td>\n",
              "      <td>...</td>\n",
              "      <td>...</td>\n",
              "      <td>...</td>\n",
              "      <td>...</td>\n",
              "      <td>...</td>\n",
              "      <td>...</td>\n",
              "      <td>...</td>\n",
              "      <td>...</td>\n",
              "      <td>...</td>\n",
              "      <td>...</td>\n",
              "      <td>...</td>\n",
              "      <td>...</td>\n",
              "      <td>...</td>\n",
              "    </tr>\n",
              "    <tr>\n",
              "      <th>10654</th>\n",
              "      <td>10672</td>\n",
              "      <td>52</td>\n",
              "      <td>女性</td>\n",
              "      <td>2021/05/18</td>\n",
              "      <td>2021/05/19\\r\\n2021/05/19</td>\n",
              "      <td>1</td>\n",
              "      <td>コミナティ筋注</td>\n",
              "      <td>ファイザー</td>\n",
              "      <td>EY5420</td>\n",
              "      <td>発熱(発熱)\\r\\n接種部位疼痛(ワクチン接種部位疼痛)</td>\n",
              "      <td>関連あり</td>\n",
              "      <td>重くない</td>\n",
              "      <td>2021/05/20\\r\\n2021/05/20</td>\n",
              "      <td>回復\\r\\n回復</td>\n",
              "    </tr>\n",
              "    <tr>\n",
              "      <th>10655</th>\n",
              "      <td>10673</td>\n",
              "      <td>51</td>\n",
              "      <td>女性</td>\n",
              "      <td>2021/05/18</td>\n",
              "      <td>2021/05/18\\r\\n2021/05/18</td>\n",
              "      <td>0</td>\n",
              "      <td>コミナティ筋注</td>\n",
              "      <td>ファイザー</td>\n",
              "      <td>EY2173</td>\n",
              "      <td>口腔咽頭不快感(口腔咽頭不快感)\\r\\n熱感(熱感)</td>\n",
              "      <td>関連あり</td>\n",
              "      <td>重くない</td>\n",
              "      <td>未記入\\r\\n未記入</td>\n",
              "      <td>軽快\\r\\n軽快</td>\n",
              "    </tr>\n",
              "    <tr>\n",
              "      <th>10656</th>\n",
              "      <td>10674</td>\n",
              "      <td>70</td>\n",
              "      <td>女性</td>\n",
              "      <td>2021/05/18</td>\n",
              "      <td>2021/05/18</td>\n",
              "      <td>0</td>\n",
              "      <td>コミナティ筋注</td>\n",
              "      <td>ファイザー</td>\n",
              "      <td>EY2173</td>\n",
              "      <td>頻脈(頻脈)</td>\n",
              "      <td>関連なし</td>\n",
              "      <td>重くない</td>\n",
              "      <td>2021/05/18</td>\n",
              "      <td>回復</td>\n",
              "    </tr>\n",
              "    <tr>\n",
              "      <th>10657</th>\n",
              "      <td>10675</td>\n",
              "      <td>58</td>\n",
              "      <td>女性</td>\n",
              "      <td>2021/05/28</td>\n",
              "      <td>2021/05/28</td>\n",
              "      <td>0</td>\n",
              "      <td>コミナティ筋注</td>\n",
              "      <td>ファイザー</td>\n",
              "      <td>EY2173</td>\n",
              "      <td>動悸(動悸)</td>\n",
              "      <td>関連あり</td>\n",
              "      <td>重くない</td>\n",
              "      <td>未記入</td>\n",
              "      <td>軽快</td>\n",
              "    </tr>\n",
              "    <tr>\n",
              "      <th>10658</th>\n",
              "      <td>10676</td>\n",
              "      <td>43</td>\n",
              "      <td>女性</td>\n",
              "      <td>2021/05/29</td>\n",
              "      <td>2021/05/29</td>\n",
              "      <td>0</td>\n",
              "      <td>コミナティ筋注</td>\n",
              "      <td>ファイザー</td>\n",
              "      <td>EY2173</td>\n",
              "      <td>そう痒症(そう痒症)</td>\n",
              "      <td>関連あり</td>\n",
              "      <td>重くない</td>\n",
              "      <td>未記入</td>\n",
              "      <td>軽快</td>\n",
              "    </tr>\n",
              "  </tbody>\n",
              "</table>\n",
              "<p>10659 rows × 14 columns</p>\n",
              "</div>"
            ],
            "text/plain": [
              "          No  年齢  性別  ... 重篤度（報告医評価）                       転帰日      転帰内容\n",
              "0          1  55  女性  ...       重くない                未記入\\r\\n未記入  不明\\r\\n軽快\n",
              "1          2  24  女性  ...       重くない                未記入\\r\\n未記入  軽快\\r\\n軽快\n",
              "2          3  77  男性  ...         重い                       未記入        死亡\n",
              "3          4  66  男性  ...       重くない  2021/05/10\\r\\n2021/05/10  回復\\r\\n回復\n",
              "4          5  61  女性  ...         重い  2021/04/25\\r\\n2021/04/22  回復\\r\\n回復\n",
              "...      ...  ..  ..  ...        ...                       ...       ...\n",
              "10654  10672  52  女性  ...       重くない  2021/05/20\\r\\n2021/05/20  回復\\r\\n回復\n",
              "10655  10673  51  女性  ...       重くない                未記入\\r\\n未記入  軽快\\r\\n軽快\n",
              "10656  10674  70  女性  ...       重くない                2021/05/18        回復\n",
              "10657  10675  58  女性  ...       重くない                       未記入        軽快\n",
              "10658  10676  43  女性  ...       重くない                       未記入        軽快\n",
              "\n",
              "[10659 rows x 14 columns]"
            ]
          },
          "metadata": {
            "tags": []
          },
          "execution_count": 17
        }
      ]
    },
    {
      "cell_type": "code",
      "metadata": {
        "colab": {
          "base_uri": "https://localhost:8080/"
        },
        "id": "ByENMwi4avdR",
        "outputId": "aca75aad-1275-4a74-b999-c7ec93ee4ea1"
      },
      "source": [
        "len(df1.loc[df1[\"転帰内容\"].str.contains(\"死亡\"), \"No\"])"
      ],
      "execution_count": 18,
      "outputs": [
        {
          "output_type": "execute_result",
          "data": {
            "text/plain": [
              "123"
            ]
          },
          "metadata": {
            "tags": []
          },
          "execution_count": 18
        }
      ]
    },
    {
      "cell_type": "code",
      "metadata": {
        "id": "2FtX32Tn7PXx"
      },
      "source": [
        "df1[\"症状名（PT名）\"] = df1[\"症状名（PT名）\"].str.replace(\"\\r\", \"\").apply(lambda s: [i.replace(\"\\n\", \"\").strip() for i in re.split(\"(?<=\\)\\n)\", s)])\n",
        "df1[\"発生日\"] = df1[\"発生日\"].str.split()\n",
        "df1[\"転帰日\"] = df1[\"転帰日\"].str.split()\n",
        "df1[\"転帰内容\"] = df1[\"転帰内容\"].str.split()"
      ],
      "execution_count": 19,
      "outputs": []
    },
    {
      "cell_type": "code",
      "metadata": {
        "colab": {
          "base_uri": "https://localhost:8080/"
        },
        "id": "p-gQqGu9hgO4",
        "outputId": "1087e82d-9d65-4811-e86b-1c6e4f4c3b98"
      },
      "source": [
        "df1[\"症状名（PT名）\"]"
      ],
      "execution_count": 20,
      "outputs": [
        {
          "output_type": "execute_result",
          "data": {
            "text/plain": [
              "0        [口腔咽頭不快感(口腔咽頭不快感), 皮疹・発疹・紅斑(紅斑)]\n",
              "1           [悪心・嘔吐(悪心), 口腔咽頭不快感(口腔咽頭不快感)]\n",
              "2                             [脳出血(脳幹出血)]\n",
              "3            [発熱(発熱), 接種部位疼痛(ワクチン接種部位疼痛)]\n",
              "4                    [頭痛(頭痛), 血圧上昇(血圧上昇)]\n",
              "                       ...               \n",
              "10654        [発熱(発熱), 接種部位疼痛(ワクチン接種部位疼痛)]\n",
              "10655          [口腔咽頭不快感(口腔咽頭不快感), 熱感(熱感)]\n",
              "10656                            [頻脈(頻脈)]\n",
              "10657                            [動悸(動悸)]\n",
              "10658                        [そう痒症(そう痒症)]\n",
              "Name: 症状名（PT名）, Length: 10659, dtype: object"
            ]
          },
          "metadata": {
            "tags": []
          },
          "execution_count": 20
        }
      ]
    },
    {
      "cell_type": "code",
      "metadata": {
        "id": "U2miq3rS7QsR"
      },
      "source": [
        "dfs = []\n",
        "\n",
        "for i, row in df1.iterrows():\n",
        "    dfs.append(row.apply(pd.Series).T.fillna(method=\"ffill\"))"
      ],
      "execution_count": 21,
      "outputs": []
    },
    {
      "cell_type": "code",
      "metadata": {
        "id": "UZDcM53V7SQa"
      },
      "source": [
        "df2 = pd.concat(dfs).reset_index(drop=True)"
      ],
      "execution_count": 22,
      "outputs": []
    },
    {
      "cell_type": "code",
      "metadata": {
        "colab": {
          "base_uri": "https://localhost:8080/"
        },
        "id": "zFQDQX6EQCma",
        "outputId": "555feda8-4c4b-47e2-e757-90d7608b207d"
      },
      "source": [
        "df2[\"症状名（PT名）\"]"
      ],
      "execution_count": 23,
      "outputs": [
        {
          "output_type": "execute_result",
          "data": {
            "text/plain": [
              "0        口腔咽頭不快感(口腔咽頭不快感)\n",
              "1            皮疹・発疹・紅斑(紅斑)\n",
              "2               悪心・嘔吐(悪心)\n",
              "3        口腔咽頭不快感(口腔咽頭不快感)\n",
              "4               脳出血(脳幹出血)\n",
              "               ...       \n",
              "24380    口腔咽頭不快感(口腔咽頭不快感)\n",
              "24381              熱感(熱感)\n",
              "24382              頻脈(頻脈)\n",
              "24383              動悸(動悸)\n",
              "24384          そう痒症(そう痒症)\n",
              "Name: 症状名（PT名）, Length: 24385, dtype: object"
            ]
          },
          "metadata": {
            "tags": []
          },
          "execution_count": 23
        }
      ]
    },
    {
      "cell_type": "code",
      "metadata": {
        "id": "Y-KfA_Fk7Xq5"
      },
      "source": [
        "df3 = df2[\"症状名（PT名）\"].str.extract(\"(.+)\\((.+?)\\)\").rename(columns={0:\"症状名\", 1:\"PT名\"})\n",
        "df3[\"PT名\"] = df3[\"PT名\"].str.split(\"|\")"
      ],
      "execution_count": 24,
      "outputs": []
    },
    {
      "cell_type": "code",
      "metadata": {
        "id": "JUFRIkVk7cKA"
      },
      "source": [
        "df4 = df2.join(df3).explode(\"PT名\")"
      ],
      "execution_count": 25,
      "outputs": []
    },
    {
      "cell_type": "code",
      "metadata": {
        "id": "bQ0N32P-7ZyQ"
      },
      "source": [
        "df4[\"症状名\"] = df4[\"症状名\"].str.strip()\n",
        "df4[\"PT名\"] = df4[\"PT名\"].str.strip()"
      ],
      "execution_count": 26,
      "outputs": []
    },
    {
      "cell_type": "code",
      "metadata": {
        "id": "3ewbywyGALbE"
      },
      "source": [
        "df4[\"No\"] = df2[\"No\"].astype(int)\n",
        "df4[\"年齢\"] = df2[\"年齢\"].astype(\"Int64\")"
      ],
      "execution_count": 27,
      "outputs": []
    },
    {
      "cell_type": "code",
      "metadata": {
        "colab": {
          "base_uri": "https://localhost:8080/"
        },
        "id": "h_KhQY-S_N7x",
        "outputId": "7bebade9-794c-46ad-82ef-f10ffbdb188b"
      },
      "source": [
        "df4.info()"
      ],
      "execution_count": 28,
      "outputs": [
        {
          "output_type": "stream",
          "text": [
            "<class 'pandas.core.frame.DataFrame'>\n",
            "Int64Index: 25032 entries, 0 to 24384\n",
            "Data columns (total 16 columns):\n",
            " #   Column       Non-Null Count  Dtype \n",
            "---  ------       --------------  ----- \n",
            " 0   No           25032 non-null  int64 \n",
            " 1   年齢           25031 non-null  Int64 \n",
            " 2   性別           25032 non-null  object\n",
            " 3   接種日          25032 non-null  object\n",
            " 4   発生日          25032 non-null  object\n",
            " 5   接種から発生までの日数  25032 non-null  object\n",
            " 6   ワクチン名        25032 non-null  object\n",
            " 7   製造販売業者       25032 non-null  object\n",
            " 8   ロット番号        25032 non-null  object\n",
            " 9   症状名（PT名）     25032 non-null  object\n",
            " 10  因果関係（報告医評価）  25032 non-null  object\n",
            " 11  重篤度（報告医評価）   25032 non-null  object\n",
            " 12  転帰日          25032 non-null  object\n",
            " 13  転帰内容         25032 non-null  object\n",
            " 14  症状名          25032 non-null  object\n",
            " 15  PT名          25032 non-null  object\n",
            "dtypes: Int64(1), int64(1), object(14)\n",
            "memory usage: 3.3+ MB\n"
          ],
          "name": "stdout"
        }
      ]
    },
    {
      "cell_type": "code",
      "metadata": {
        "id": "DuYLmOSSZMaK"
      },
      "source": [
        "# 集計用に修正\n",
        "\n",
        "df4[\"症状名\"] = df4[\"症状名\"].str.replace(\"̲\", \"_\")\n",
        "\n",
        "df4[\"症状名\"] = df4[\"症状名\"].mask((df4[\"症状名\"] == \"失神寸前の状態\") & (df4[\"PT名\"] == \"失神寸前の状態\"), \"血管迷走神経反射\")\n",
        "df4[\"症状名\"] = df4[\"症状名\"].mask((df4[\"症状名\"] == \"失神\") & (df4[\"PT名\"] == \"失神\"), \"血管迷走神経反射_失神を伴う\")"
      ],
      "execution_count": 29,
      "outputs": []
    },
    {
      "cell_type": "code",
      "metadata": {
        "colab": {
          "base_uri": "https://localhost:8080/",
          "height": 875
        },
        "id": "Xv43LQRVAB9Z",
        "outputId": "cf6f16ff-630e-4fad-ef69-99fc14c6058b"
      },
      "source": [
        "df4"
      ],
      "execution_count": 30,
      "outputs": [
        {
          "output_type": "execute_result",
          "data": {
            "text/html": [
              "<div>\n",
              "<style scoped>\n",
              "    .dataframe tbody tr th:only-of-type {\n",
              "        vertical-align: middle;\n",
              "    }\n",
              "\n",
              "    .dataframe tbody tr th {\n",
              "        vertical-align: top;\n",
              "    }\n",
              "\n",
              "    .dataframe thead th {\n",
              "        text-align: right;\n",
              "    }\n",
              "</style>\n",
              "<table border=\"1\" class=\"dataframe\">\n",
              "  <thead>\n",
              "    <tr style=\"text-align: right;\">\n",
              "      <th></th>\n",
              "      <th>No</th>\n",
              "      <th>年齢</th>\n",
              "      <th>性別</th>\n",
              "      <th>接種日</th>\n",
              "      <th>発生日</th>\n",
              "      <th>接種から発生までの日数</th>\n",
              "      <th>ワクチン名</th>\n",
              "      <th>製造販売業者</th>\n",
              "      <th>ロット番号</th>\n",
              "      <th>症状名（PT名）</th>\n",
              "      <th>因果関係（報告医評価）</th>\n",
              "      <th>重篤度（報告医評価）</th>\n",
              "      <th>転帰日</th>\n",
              "      <th>転帰内容</th>\n",
              "      <th>症状名</th>\n",
              "      <th>PT名</th>\n",
              "    </tr>\n",
              "  </thead>\n",
              "  <tbody>\n",
              "    <tr>\n",
              "      <th>0</th>\n",
              "      <td>1</td>\n",
              "      <td>55</td>\n",
              "      <td>女性</td>\n",
              "      <td>2021/03/19</td>\n",
              "      <td>2021/03/19</td>\n",
              "      <td>0</td>\n",
              "      <td>コミナティ筋注</td>\n",
              "      <td>ファイザー</td>\n",
              "      <td>EP9605</td>\n",
              "      <td>口腔咽頭不快感(口腔咽頭不快感)</td>\n",
              "      <td></td>\n",
              "      <td>重くない</td>\n",
              "      <td>未記入</td>\n",
              "      <td>不明</td>\n",
              "      <td>口腔咽頭不快感</td>\n",
              "      <td>口腔咽頭不快感</td>\n",
              "    </tr>\n",
              "    <tr>\n",
              "      <th>1</th>\n",
              "      <td>1</td>\n",
              "      <td>55</td>\n",
              "      <td>女性</td>\n",
              "      <td>2021/03/19</td>\n",
              "      <td>2021/03/19</td>\n",
              "      <td>0</td>\n",
              "      <td>コミナティ筋注</td>\n",
              "      <td>ファイザー</td>\n",
              "      <td>EP9605</td>\n",
              "      <td>皮疹・発疹・紅斑(紅斑)</td>\n",
              "      <td></td>\n",
              "      <td>重くない</td>\n",
              "      <td>未記入</td>\n",
              "      <td>軽快</td>\n",
              "      <td>皮疹・発疹・紅斑</td>\n",
              "      <td>紅斑</td>\n",
              "    </tr>\n",
              "    <tr>\n",
              "      <th>2</th>\n",
              "      <td>2</td>\n",
              "      <td>24</td>\n",
              "      <td>女性</td>\n",
              "      <td>2021/04/01</td>\n",
              "      <td>2021/04/01</td>\n",
              "      <td>0</td>\n",
              "      <td>コミナティ筋注</td>\n",
              "      <td>ファイザー</td>\n",
              "      <td>ER2659</td>\n",
              "      <td>悪心・嘔吐(悪心)</td>\n",
              "      <td></td>\n",
              "      <td>重くない</td>\n",
              "      <td>未記入</td>\n",
              "      <td>軽快</td>\n",
              "      <td>悪心・嘔吐</td>\n",
              "      <td>悪心</td>\n",
              "    </tr>\n",
              "    <tr>\n",
              "      <th>3</th>\n",
              "      <td>2</td>\n",
              "      <td>24</td>\n",
              "      <td>女性</td>\n",
              "      <td>2021/04/01</td>\n",
              "      <td>2021/04/01</td>\n",
              "      <td>0</td>\n",
              "      <td>コミナティ筋注</td>\n",
              "      <td>ファイザー</td>\n",
              "      <td>ER2659</td>\n",
              "      <td>口腔咽頭不快感(口腔咽頭不快感)</td>\n",
              "      <td></td>\n",
              "      <td>重くない</td>\n",
              "      <td>未記入</td>\n",
              "      <td>軽快</td>\n",
              "      <td>口腔咽頭不快感</td>\n",
              "      <td>口腔咽頭不快感</td>\n",
              "    </tr>\n",
              "    <tr>\n",
              "      <th>4</th>\n",
              "      <td>3</td>\n",
              "      <td>77</td>\n",
              "      <td>男性</td>\n",
              "      <td>2021/04/19</td>\n",
              "      <td>2021/04/23</td>\n",
              "      <td>4</td>\n",
              "      <td>コミナティ筋注</td>\n",
              "      <td>ファイザー</td>\n",
              "      <td>ET9096</td>\n",
              "      <td>脳出血(脳幹出血)</td>\n",
              "      <td></td>\n",
              "      <td>重い</td>\n",
              "      <td>未記入</td>\n",
              "      <td>死亡</td>\n",
              "      <td>脳出血</td>\n",
              "      <td>脳幹出血</td>\n",
              "    </tr>\n",
              "    <tr>\n",
              "      <th>...</th>\n",
              "      <td>...</td>\n",
              "      <td>...</td>\n",
              "      <td>...</td>\n",
              "      <td>...</td>\n",
              "      <td>...</td>\n",
              "      <td>...</td>\n",
              "      <td>...</td>\n",
              "      <td>...</td>\n",
              "      <td>...</td>\n",
              "      <td>...</td>\n",
              "      <td>...</td>\n",
              "      <td>...</td>\n",
              "      <td>...</td>\n",
              "      <td>...</td>\n",
              "      <td>...</td>\n",
              "      <td>...</td>\n",
              "    </tr>\n",
              "    <tr>\n",
              "      <th>24380</th>\n",
              "      <td>10673</td>\n",
              "      <td>51</td>\n",
              "      <td>女性</td>\n",
              "      <td>2021/05/18</td>\n",
              "      <td>2021/05/18</td>\n",
              "      <td>0</td>\n",
              "      <td>コミナティ筋注</td>\n",
              "      <td>ファイザー</td>\n",
              "      <td>EY2173</td>\n",
              "      <td>口腔咽頭不快感(口腔咽頭不快感)</td>\n",
              "      <td>関連あり</td>\n",
              "      <td>重くない</td>\n",
              "      <td>未記入</td>\n",
              "      <td>軽快</td>\n",
              "      <td>口腔咽頭不快感</td>\n",
              "      <td>口腔咽頭不快感</td>\n",
              "    </tr>\n",
              "    <tr>\n",
              "      <th>24381</th>\n",
              "      <td>10673</td>\n",
              "      <td>51</td>\n",
              "      <td>女性</td>\n",
              "      <td>2021/05/18</td>\n",
              "      <td>2021/05/18</td>\n",
              "      <td>0</td>\n",
              "      <td>コミナティ筋注</td>\n",
              "      <td>ファイザー</td>\n",
              "      <td>EY2173</td>\n",
              "      <td>熱感(熱感)</td>\n",
              "      <td>関連あり</td>\n",
              "      <td>重くない</td>\n",
              "      <td>未記入</td>\n",
              "      <td>軽快</td>\n",
              "      <td>熱感</td>\n",
              "      <td>熱感</td>\n",
              "    </tr>\n",
              "    <tr>\n",
              "      <th>24382</th>\n",
              "      <td>10674</td>\n",
              "      <td>70</td>\n",
              "      <td>女性</td>\n",
              "      <td>2021/05/18</td>\n",
              "      <td>2021/05/18</td>\n",
              "      <td>0</td>\n",
              "      <td>コミナティ筋注</td>\n",
              "      <td>ファイザー</td>\n",
              "      <td>EY2173</td>\n",
              "      <td>頻脈(頻脈)</td>\n",
              "      <td>関連なし</td>\n",
              "      <td>重くない</td>\n",
              "      <td>2021/05/18</td>\n",
              "      <td>回復</td>\n",
              "      <td>頻脈</td>\n",
              "      <td>頻脈</td>\n",
              "    </tr>\n",
              "    <tr>\n",
              "      <th>24383</th>\n",
              "      <td>10675</td>\n",
              "      <td>58</td>\n",
              "      <td>女性</td>\n",
              "      <td>2021/05/28</td>\n",
              "      <td>2021/05/28</td>\n",
              "      <td>0</td>\n",
              "      <td>コミナティ筋注</td>\n",
              "      <td>ファイザー</td>\n",
              "      <td>EY2173</td>\n",
              "      <td>動悸(動悸)</td>\n",
              "      <td>関連あり</td>\n",
              "      <td>重くない</td>\n",
              "      <td>未記入</td>\n",
              "      <td>軽快</td>\n",
              "      <td>動悸</td>\n",
              "      <td>動悸</td>\n",
              "    </tr>\n",
              "    <tr>\n",
              "      <th>24384</th>\n",
              "      <td>10676</td>\n",
              "      <td>43</td>\n",
              "      <td>女性</td>\n",
              "      <td>2021/05/29</td>\n",
              "      <td>2021/05/29</td>\n",
              "      <td>0</td>\n",
              "      <td>コミナティ筋注</td>\n",
              "      <td>ファイザー</td>\n",
              "      <td>EY2173</td>\n",
              "      <td>そう痒症(そう痒症)</td>\n",
              "      <td>関連あり</td>\n",
              "      <td>重くない</td>\n",
              "      <td>未記入</td>\n",
              "      <td>軽快</td>\n",
              "      <td>そう痒症</td>\n",
              "      <td>そう痒症</td>\n",
              "    </tr>\n",
              "  </tbody>\n",
              "</table>\n",
              "<p>25032 rows × 16 columns</p>\n",
              "</div>"
            ],
            "text/plain": [
              "          No  年齢  性別         接種日  ...         転帰日 転帰内容       症状名      PT名\n",
              "0          1  55  女性  2021/03/19  ...         未記入   不明   口腔咽頭不快感  口腔咽頭不快感\n",
              "1          1  55  女性  2021/03/19  ...         未記入   軽快  皮疹・発疹・紅斑       紅斑\n",
              "2          2  24  女性  2021/04/01  ...         未記入   軽快     悪心・嘔吐       悪心\n",
              "3          2  24  女性  2021/04/01  ...         未記入   軽快   口腔咽頭不快感  口腔咽頭不快感\n",
              "4          3  77  男性  2021/04/19  ...         未記入   死亡       脳出血     脳幹出血\n",
              "...      ...  ..  ..         ...  ...         ...  ...       ...      ...\n",
              "24380  10673  51  女性  2021/05/18  ...         未記入   軽快   口腔咽頭不快感  口腔咽頭不快感\n",
              "24381  10673  51  女性  2021/05/18  ...         未記入   軽快        熱感       熱感\n",
              "24382  10674  70  女性  2021/05/18  ...  2021/05/18   回復        頻脈       頻脈\n",
              "24383  10675  58  女性  2021/05/28  ...         未記入   軽快        動悸       動悸\n",
              "24384  10676  43  女性  2021/05/29  ...         未記入   軽快      そう痒症     そう痒症\n",
              "\n",
              "[25032 rows x 16 columns]"
            ]
          },
          "metadata": {
            "tags": []
          },
          "execution_count": 30
        }
      ]
    },
    {
      "cell_type": "code",
      "metadata": {
        "id": "7rLhYJDO7Z5a"
      },
      "source": [
        "df4.to_csv(\"output.csv\", index=False, encoding=\"utf_8_sig\")"
      ],
      "execution_count": 31,
      "outputs": []
    },
    {
      "cell_type": "markdown",
      "metadata": {
        "id": "Diklkt87ChdZ"
      },
      "source": [
        "# ダウンロード"
      ]
    },
    {
      "cell_type": "code",
      "metadata": {
        "id": "B-BbHP04CgxR",
        "colab": {
          "base_uri": "https://localhost:8080/",
          "height": 17
        },
        "outputId": "9bc8306a-46af-4a0a-d91e-aa82b5b8e8a6"
      },
      "source": [
        "files.download(\"output.csv\")"
      ],
      "execution_count": 32,
      "outputs": [
        {
          "output_type": "display_data",
          "data": {
            "application/javascript": [
              "\n",
              "    async function download(id, filename, size) {\n",
              "      if (!google.colab.kernel.accessAllowed) {\n",
              "        return;\n",
              "      }\n",
              "      const div = document.createElement('div');\n",
              "      const label = document.createElement('label');\n",
              "      label.textContent = `Downloading \"${filename}\": `;\n",
              "      div.appendChild(label);\n",
              "      const progress = document.createElement('progress');\n",
              "      progress.max = size;\n",
              "      div.appendChild(progress);\n",
              "      document.body.appendChild(div);\n",
              "\n",
              "      const buffers = [];\n",
              "      let downloaded = 0;\n",
              "\n",
              "      const channel = await google.colab.kernel.comms.open(id);\n",
              "      // Send a message to notify the kernel that we're ready.\n",
              "      channel.send({})\n",
              "\n",
              "      for await (const message of channel.messages) {\n",
              "        // Send a message to notify the kernel that we're ready.\n",
              "        channel.send({})\n",
              "        if (message.buffers) {\n",
              "          for (const buffer of message.buffers) {\n",
              "            buffers.push(buffer);\n",
              "            downloaded += buffer.byteLength;\n",
              "            progress.value = downloaded;\n",
              "          }\n",
              "        }\n",
              "      }\n",
              "      const blob = new Blob(buffers, {type: 'application/binary'});\n",
              "      const a = document.createElement('a');\n",
              "      a.href = window.URL.createObjectURL(blob);\n",
              "      a.download = filename;\n",
              "      div.appendChild(a);\n",
              "      a.click();\n",
              "      div.remove();\n",
              "    }\n",
              "  "
            ],
            "text/plain": [
              "<IPython.core.display.Javascript object>"
            ]
          },
          "metadata": {
            "tags": []
          }
        },
        {
          "output_type": "display_data",
          "data": {
            "application/javascript": [
              "download(\"download_22d8ff9a-0c10-4d1e-9ae9-ea6e76350899\", \"output.csv\", 4377457)"
            ],
            "text/plain": [
              "<IPython.core.display.Javascript object>"
            ]
          },
          "metadata": {
            "tags": []
          }
        }
      ]
    },
    {
      "cell_type": "markdown",
      "metadata": {
        "id": "jSfQGmP1Dogr"
      },
      "source": [
        "# 症状別報告件数"
      ]
    },
    {
      "cell_type": "markdown",
      "metadata": {
        "id": "gScsRwBVyMwv"
      },
      "source": [
        "type.csvは\n",
        "症状別報告件数集計確認.ipynb\n",
        "で利用する"
      ]
    },
    {
      "cell_type": "code",
      "metadata": {
        "id": "9Jl19g6HDE5i"
      },
      "source": [
        "df4[\"症状\"] = df4[\"症状名\"] + \"(\" + df4[\"PT名\"] + \")\""
      ],
      "execution_count": 33,
      "outputs": []
    },
    {
      "cell_type": "code",
      "metadata": {
        "id": "n53q6O8dDXbh"
      },
      "source": [
        "df4[\"症状\"].value_counts().to_csv(\"type.csv\", header=False, encoding=\"utf_8_sig\")"
      ],
      "execution_count": 34,
      "outputs": []
    },
    {
      "cell_type": "code",
      "metadata": {
        "id": "n28m5c_ryF7w",
        "colab": {
          "base_uri": "https://localhost:8080/",
          "height": 17
        },
        "outputId": "2f4b6f67-0f04-470f-ba98-d5282dc92310"
      },
      "source": [
        "files.download(\"type.csv\")"
      ],
      "execution_count": 35,
      "outputs": [
        {
          "output_type": "display_data",
          "data": {
            "application/javascript": [
              "\n",
              "    async function download(id, filename, size) {\n",
              "      if (!google.colab.kernel.accessAllowed) {\n",
              "        return;\n",
              "      }\n",
              "      const div = document.createElement('div');\n",
              "      const label = document.createElement('label');\n",
              "      label.textContent = `Downloading \"${filename}\": `;\n",
              "      div.appendChild(label);\n",
              "      const progress = document.createElement('progress');\n",
              "      progress.max = size;\n",
              "      div.appendChild(progress);\n",
              "      document.body.appendChild(div);\n",
              "\n",
              "      const buffers = [];\n",
              "      let downloaded = 0;\n",
              "\n",
              "      const channel = await google.colab.kernel.comms.open(id);\n",
              "      // Send a message to notify the kernel that we're ready.\n",
              "      channel.send({})\n",
              "\n",
              "      for await (const message of channel.messages) {\n",
              "        // Send a message to notify the kernel that we're ready.\n",
              "        channel.send({})\n",
              "        if (message.buffers) {\n",
              "          for (const buffer of message.buffers) {\n",
              "            buffers.push(buffer);\n",
              "            downloaded += buffer.byteLength;\n",
              "            progress.value = downloaded;\n",
              "          }\n",
              "        }\n",
              "      }\n",
              "      const blob = new Blob(buffers, {type: 'application/binary'});\n",
              "      const a = document.createElement('a');\n",
              "      a.href = window.URL.createObjectURL(blob);\n",
              "      a.download = filename;\n",
              "      div.appendChild(a);\n",
              "      a.click();\n",
              "      div.remove();\n",
              "    }\n",
              "  "
            ],
            "text/plain": [
              "<IPython.core.display.Javascript object>"
            ]
          },
          "metadata": {
            "tags": []
          }
        },
        {
          "output_type": "display_data",
          "data": {
            "application/javascript": [
              "download(\"download_94fcbe1a-baa1-47cb-894b-95fb84d08012\", \"type.csv\", 22625)"
            ],
            "text/plain": [
              "<IPython.core.display.Javascript object>"
            ]
          },
          "metadata": {
            "tags": []
          }
        }
      ]
    },
    {
      "cell_type": "markdown",
      "metadata": {
        "id": "j0aAuBi48IYQ"
      },
      "source": [
        "# 集計確認"
      ]
    },
    {
      "cell_type": "code",
      "metadata": {
        "id": "cyW6gLTg6G3B"
      },
      "source": [
        "df1 = df0.copy()\n",
        "df1.set_index(\"No\", inplace=True)"
      ],
      "execution_count": 36,
      "outputs": []
    },
    {
      "cell_type": "markdown",
      "metadata": {
        "id": "_EMBpZKE_wXU"
      },
      "source": [
        "## アナフィラキシー"
      ]
    },
    {
      "cell_type": "code",
      "metadata": {
        "id": "9_At8OHs_y4a",
        "colab": {
          "base_uri": "https://localhost:8080/"
        },
        "outputId": "f1396d8a-3998-4ece-baf6-571f22784262"
      },
      "source": [
        "df1[\"症状名（PT名）\"].str.contains(\"アナフィラキシー\").sum()"
      ],
      "execution_count": 37,
      "outputs": [
        {
          "output_type": "execute_result",
          "data": {
            "text/plain": [
              "1263"
            ]
          },
          "metadata": {
            "tags": []
          },
          "execution_count": 37
        }
      ]
    },
    {
      "cell_type": "markdown",
      "metadata": {
        "id": "I7u_D399-8JZ"
      },
      "source": [
        "## 性別"
      ]
    },
    {
      "cell_type": "code",
      "metadata": {
        "id": "LrGVweoG2sKU",
        "colab": {
          "base_uri": "https://localhost:8080/"
        },
        "outputId": "6910ae63-78b2-42af-9446-360776c9f38b"
      },
      "source": [
        "# 性別 副反応疑い報告数\n",
        "df1[\"性別\"].value_counts()"
      ],
      "execution_count": 38,
      "outputs": [
        {
          "output_type": "execute_result",
          "data": {
            "text/plain": [
              "女性    8729\n",
              "男性    1911\n",
              "不明      19\n",
              "Name: 性別, dtype: int64"
            ]
          },
          "metadata": {
            "tags": []
          },
          "execution_count": 38
        }
      ]
    },
    {
      "cell_type": "code",
      "metadata": {
        "id": "Ofd2HPrHpugJ",
        "colab": {
          "base_uri": "https://localhost:8080/"
        },
        "outputId": "6129755c-bcce-4a6e-c07e-efe138c1d7ac"
      },
      "source": [
        "# 性別 重篤報告数\n",
        "df1.loc[df1[\"重篤度（報告医評価）\"] == \"重い\", \"性別\"].value_counts()"
      ],
      "execution_count": 39,
      "outputs": [
        {
          "output_type": "execute_result",
          "data": {
            "text/plain": [
              "女性    1008\n",
              "男性     249\n",
              "不明       4\n",
              "Name: 性別, dtype: int64"
            ]
          },
          "metadata": {
            "tags": []
          },
          "execution_count": 39
        }
      ]
    },
    {
      "cell_type": "code",
      "metadata": {
        "id": "SEMNM9p920qV",
        "colab": {
          "base_uri": "https://localhost:8080/"
        },
        "outputId": "859bbcba-e174-4896-9384-4c1b8dd63e5b"
      },
      "source": [
        "# 性別 死亡報告数\n",
        "df1.loc[df1[\"転帰内容\"].str.contains(\"死亡\"), \"性別\"].value_counts()"
      ],
      "execution_count": 40,
      "outputs": [
        {
          "output_type": "execute_result",
          "data": {
            "text/plain": [
              "女性    64\n",
              "男性    59\n",
              "Name: 性別, dtype: int64"
            ]
          },
          "metadata": {
            "tags": []
          },
          "execution_count": 40
        }
      ]
    },
    {
      "cell_type": "markdown",
      "metadata": {
        "id": "dxp0mP6M-0M1"
      },
      "source": [
        "## 年齢別"
      ]
    },
    {
      "cell_type": "code",
      "metadata": {
        "id": "KPdcKw7G48K7"
      },
      "source": [
        "labels = [\n",
        "    \"0～9歳\",\n",
        "    \"10～19歳\",\n",
        "    \"20～29歳\",\n",
        "    \"30～39歳\",\n",
        "    \"40～49歳\",\n",
        "    \"50～59歳\",\n",
        "    \"60～69歳\",\n",
        "    \"70～79歳\",\n",
        "    \"80歳以上\",\n",
        "]"
      ],
      "execution_count": 41,
      "outputs": []
    },
    {
      "cell_type": "code",
      "metadata": {
        "id": "nV0Eqwdh5Kcc"
      },
      "source": [
        "df1[\"年代\"] = pd.cut(\n",
        "    df1[\"年齢\"],\n",
        "    [0, 10, 20, 30, 40, 50, 60, 70, 80, 120],\n",
        "    include_lowest=True,\n",
        "    right=False,\n",
        "    labels=labels,\n",
        ").astype(str)"
      ],
      "execution_count": 42,
      "outputs": []
    },
    {
      "cell_type": "code",
      "metadata": {
        "id": "uWGiKLaU6Btj"
      },
      "source": [
        "df1[\"年代\"] = df1[\"年代\"].mask(df1[\"年齢\"].isnull(), \"不明\")"
      ],
      "execution_count": 43,
      "outputs": []
    },
    {
      "cell_type": "code",
      "metadata": {
        "id": "Gx4CzQLu5W-6",
        "colab": {
          "base_uri": "https://localhost:8080/"
        },
        "outputId": "cdd0d41e-6114-40e5-d093-b2d51cbdf63d"
      },
      "source": [
        "# 年齢別副反応疑い報告数\n",
        "df1[\"年代\"].value_counts().reindex(labels + [\"不明\"]).fillna(0).astype(int)"
      ],
      "execution_count": 44,
      "outputs": [
        {
          "output_type": "execute_result",
          "data": {
            "text/plain": [
              "0～9歳         0\n",
              "10～19歳      53\n",
              "20～29歳    2015\n",
              "30～39歳    2399\n",
              "40～49歳    2993\n",
              "50～59歳    1921\n",
              "60～69歳     672\n",
              "70～79歳     236\n",
              "80歳以上      369\n",
              "不明           1\n",
              "Name: 年代, dtype: int64"
            ]
          },
          "metadata": {
            "tags": []
          },
          "execution_count": 44
        }
      ]
    },
    {
      "cell_type": "code",
      "metadata": {
        "id": "XLM-GkPg9ALU",
        "colab": {
          "base_uri": "https://localhost:8080/"
        },
        "outputId": "a4cd3007-3812-496f-e577-f6561e5ac91c"
      },
      "source": [
        "# 年齢別重篤報告数\n",
        "df1.loc[df1[\"重篤度（報告医評価）\"] == \"重い\", \"年代\"].value_counts().reindex(labels + [\"不明\"]).fillna(0).astype(int)"
      ],
      "execution_count": 45,
      "outputs": [
        {
          "output_type": "execute_result",
          "data": {
            "text/plain": [
              "0～9歳        0\n",
              "10～19歳      8\n",
              "20～29歳    199\n",
              "30～39歳    260\n",
              "40～49歳    321\n",
              "50～59歳    193\n",
              "60～69歳     72\n",
              "70～79歳     65\n",
              "80歳以上     142\n",
              "不明          1\n",
              "Name: 年代, dtype: int64"
            ]
          },
          "metadata": {
            "tags": []
          },
          "execution_count": 45
        }
      ]
    },
    {
      "cell_type": "code",
      "metadata": {
        "id": "kzHYkL3lm77e",
        "colab": {
          "base_uri": "https://localhost:8080/"
        },
        "outputId": "4550b6b2-8485-4bef-932b-8b07a9b01302"
      },
      "source": [
        "# 年齢別死亡報告数\n",
        "df1.loc[df1[\"転帰内容\"].str.contains(\"死亡\"), \"年代\"].value_counts().reindex(labels + [\"不明\"]).fillna(0).astype(int)"
      ],
      "execution_count": 46,
      "outputs": [
        {
          "output_type": "execute_result",
          "data": {
            "text/plain": [
              "0～9歳       0\n",
              "10～19歳     0\n",
              "20～29歳     3\n",
              "30～39歳     1\n",
              "40～49歳     6\n",
              "50～59歳     4\n",
              "60～69歳    10\n",
              "70～79歳    23\n",
              "80歳以上     76\n",
              "不明         0\n",
              "Name: 年代, dtype: int64"
            ]
          },
          "metadata": {
            "tags": []
          },
          "execution_count": 46
        }
      ]
    }
  ]
}