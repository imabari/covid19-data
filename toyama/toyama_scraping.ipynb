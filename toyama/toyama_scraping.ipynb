{
  "nbformat": 4,
  "nbformat_minor": 0,
  "metadata": {
    "colab": {
      "name": "toyama_scraping.ipynb",
      "provenance": [],
      "collapsed_sections": [],
      "toc_visible": true,
      "authorship_tag": "ABX9TyPx2K4oSY9brDWy3uchgMnU",
      "include_colab_link": true
    },
    "kernelspec": {
      "name": "python3",
      "display_name": "Python 3"
    }
  },
  "cells": [
    {
      "cell_type": "markdown",
      "metadata": {
        "id": "view-in-github",
        "colab_type": "text"
      },
      "source": [
        "<a href=\"https://colab.research.google.com/github/imabari/covid19-data/blob/master/toyama/toyama_scraping.ipynb\" target=\"_parent\"><img src=\"https://colab.research.google.com/assets/colab-badge.svg\" alt=\"Open In Colab\"/></a>"
      ]
    },
    {
      "cell_type": "code",
      "metadata": {
        "id": "hBiy1E2YQclp",
        "colab_type": "code",
        "colab": {}
      },
      "source": [
        "!apt install python3-tk ghostscript\n",
        "!pip install camelot-py[cv]"
      ],
      "execution_count": 0,
      "outputs": []
    },
    {
      "cell_type": "markdown",
      "metadata": {
        "id": "Ar3ydKjRpAv6",
        "colab_type": "text"
      },
      "source": [
        "# スクレイピング"
      ]
    },
    {
      "cell_type": "code",
      "metadata": {
        "id": "4kbdBd8rgJ9Z",
        "colab_type": "code",
        "colab": {}
      },
      "source": [
        "def date_conv(sr):\n",
        "\n",
        "    df = sr.str.extract(\"(\\d{1,2})[月/](\\d{1,2})日?(.)\", expand=True)\n",
        "\n",
        "    df.rename(columns={0: \"月\", 1: \"日\", 2: \"曜日\"}, inplace=True)\n",
        "\n",
        "    df[\"月\"] = df[\"月\"].astype(int)\n",
        "    df[\"日\"] = df[\"日\"].astype(int)\n",
        "\n",
        "    df[\"date\"] = df.apply(lambda x: pd.Timestamp(year=dt_now.year, month=x[\"月\"], day=x[\"日\"]), axis=1)\n",
        "\n",
        "    return df[\"date\"]"
      ],
      "execution_count": 0,
      "outputs": []
    },
    {
      "cell_type": "code",
      "metadata": {
        "id": "VRf2CwR1-V7B",
        "colab_type": "code",
        "colab": {}
      },
      "source": [
        "import datetime\n",
        "\n",
        "import pandas as pd\n",
        "import requests\n",
        "from bs4 import BeautifulSoup\n",
        "\n",
        "import camelot"
      ],
      "execution_count": 0,
      "outputs": []
    },
    {
      "cell_type": "code",
      "metadata": {
        "id": "m-wnReDT00y_",
        "colab_type": "code",
        "colab": {}
      },
      "source": [
        "from google.colab import files"
      ],
      "execution_count": 0,
      "outputs": []
    },
    {
      "cell_type": "code",
      "metadata": {
        "id": "UFzR2y5k-V6Z",
        "colab_type": "code",
        "colab": {}
      },
      "source": [
        "url = \"http://www.pref.toyama.jp/cms_sec/1205/kj00021629.html\"\n",
        "\n",
        "headers = {\n",
        "    \"User-Agent\": \"Mozilla/5.0 (Windows NT 10.0; WOW64; Trident/7.0; rv:11.0) like Gecko\",\n",
        "}"
      ],
      "execution_count": 0,
      "outputs": []
    },
    {
      "cell_type": "code",
      "metadata": {
        "id": "QCPtpLon45bJ",
        "colab_type": "code",
        "colab": {}
      },
      "source": [
        "dt_now = datetime.datetime.now()"
      ],
      "execution_count": 0,
      "outputs": []
    },
    {
      "cell_type": "code",
      "metadata": {
        "id": "IZc0ba6Q-V5u",
        "colab_type": "code",
        "colab": {}
      },
      "source": [
        "r = requests.get(url, headers=headers)\n",
        "\n",
        "r.raise_for_status()\n",
        "\n",
        "soup = BeautifulSoup(r.content, \"html.parser\")"
      ],
      "execution_count": 0,
      "outputs": []
    },
    {
      "cell_type": "code",
      "metadata": {
        "id": "uz_3VCqdNkxc",
        "colab_type": "code",
        "colab": {}
      },
      "source": [
        "file_list = soup.find(\"div\", id=\"file\")"
      ],
      "execution_count": 0,
      "outputs": []
    },
    {
      "cell_type": "markdown",
      "metadata": {
        "id": "G6lMfU8VpD2x",
        "colab_type": "text"
      },
      "source": [
        "# データラングリング"
      ]
    },
    {
      "cell_type": "markdown",
      "metadata": {
        "id": "auDOaZ3MoU7S",
        "colab_type": "text"
      },
      "source": [
        "## 新型コロナウイルス感染症にかかる相談状況"
      ]
    },
    {
      "cell_type": "code",
      "metadata": {
        "id": "x1ERbDeyOWEc",
        "colab_type": "code",
        "colab": {}
      },
      "source": [
        "pdf_ippan = file_list.find(\"a\", text=\"新型コロナウイルス感染症にかかる相談状況\").get(\"href\")\n",
        "\n",
        "!wget $pdf_ippan -O ippan.pdf"
      ],
      "execution_count": 0,
      "outputs": []
    },
    {
      "cell_type": "code",
      "metadata": {
        "id": "VF_5u832PKMV",
        "colab_type": "code",
        "colab": {}
      },
      "source": [
        "tb_ippan = camelot.read_pdf(\"ippan.pdf\", pages=\"all\", split_text=True, strip_text=\"\\n\", line_scale=40)\n",
        "df_ippan = tb_ippan[1].df.iloc[:2, 3:-1].T.copy().reset_index(drop=True)"
      ],
      "execution_count": 0,
      "outputs": []
    },
    {
      "cell_type": "code",
      "metadata": {
        "id": "K3d1YYbfQ4mb",
        "colab_type": "code",
        "colab": {}
      },
      "source": [
        "df_ippan.rename(columns={0: \"日付\", 1: \"一般相談件数\"}, inplace=True)\n",
        "df_ippan[\"日付\"] = date_conv(df_ippan[\"日付\"])\n",
        "df_ippan.set_index(\"日付\", inplace=True)\n",
        "df_ippan = df_ippan.astype(int)\n",
        "\n",
        "df_ippan"
      ],
      "execution_count": 0,
      "outputs": []
    },
    {
      "cell_type": "markdown",
      "metadata": {
        "id": "wasEcjjZfABw",
        "colab_type": "text"
      },
      "source": [
        "## 帰国者・接触者相談センター相談件数"
      ]
    },
    {
      "cell_type": "code",
      "metadata": {
        "id": "eaxgLP1HOvJt",
        "colab_type": "code",
        "colab": {}
      },
      "source": [
        "pdf_kikoku = file_list.find(\"a\", text=\"帰国者・接触者相談センター相談件数\").get(\"href\")\n",
        "\n",
        "!wget $pdf_kikoku -O kikoku.pdf"
      ],
      "execution_count": 0,
      "outputs": []
    },
    {
      "cell_type": "code",
      "metadata": {
        "id": "L12jtJrbfAgQ",
        "colab_type": "code",
        "colab": {}
      },
      "source": [
        "tb_kikoku = camelot.read_pdf(\"kikoku.pdf\", pages=\"all\", split_text=True, strip_text=\"\\n\", line_scale=40)\n",
        "df_kikoku = tb_kikoku[0].df.iloc[1:, :].copy()"
      ],
      "execution_count": 0,
      "outputs": []
    },
    {
      "cell_type": "code",
      "metadata": {
        "id": "JZXwSejvft3Y",
        "colab_type": "code",
        "colab": {}
      },
      "source": [
        "df_kikoku.rename(columns={0:\"日付\", 1:\"帰国者相談件数\", 2:\"帰国者相談累計\"}, inplace=True)\n",
        "df_kikoku[\"日付\"] = date_conv(df_kikoku[\"日付\"])\n",
        "df_kikoku.set_index(\"日付\", inplace=True)\n",
        "df_kikoku = df_kikoku.astype(int)\n",
        "\n",
        "df_kikoku"
      ],
      "execution_count": 0,
      "outputs": []
    },
    {
      "cell_type": "markdown",
      "metadata": {
        "id": "8s-PDiilVx93",
        "colab_type": "text"
      },
      "source": [
        "## 新型コロナウイルスPCR検査件数"
      ]
    },
    {
      "cell_type": "code",
      "metadata": {
        "id": "7GrNQxC8O_WU",
        "colab_type": "code",
        "colab": {}
      },
      "source": [
        "pdf_kensa = file_list.find(\"a\", text=\"新型コロナウイルスPCR検査件数\").get(\"href\")\n",
        "\n",
        "!wget $pdf_kensa -O kensa.pdf"
      ],
      "execution_count": 0,
      "outputs": []
    },
    {
      "cell_type": "code",
      "metadata": {
        "id": "mJL7t8GHV1fX",
        "colab_type": "code",
        "colab": {}
      },
      "source": [
        "tb_kensa = camelot.read_pdf(\"kensa.pdf\", pages=\"all\", split_text=True, strip_text=\"\\n\", line_scale=40)\n",
        "df_kensa = tb_kensa[0].df.iloc[1:, :].copy()"
      ],
      "execution_count": 0,
      "outputs": []
    },
    {
      "cell_type": "code",
      "metadata": {
        "id": "8_y_yzSDV1vl",
        "colab_type": "code",
        "colab": {}
      },
      "source": [
        "df_kensa.rename(columns={0:\"日付\", 1:\"検査実施人数\", 2:\"検査実施累計\"}, inplace=True)\n",
        "df_kensa[\"日付\"] = date_conv(df_kensa[\"日付\"])\n",
        "df_kensa.set_index(\"日付\", inplace=True)\n",
        "df_kensa = df_kensa.astype(int)\n",
        "\n",
        "df_kensa"
      ],
      "execution_count": 0,
      "outputs": []
    },
    {
      "cell_type": "markdown",
      "metadata": {
        "id": "7Z6odQ8omp5z",
        "colab_type": "text"
      },
      "source": [
        "## 陽性患者"
      ]
    },
    {
      "cell_type": "code",
      "metadata": {
        "id": "rRHf5T1H_vMJ",
        "colab_type": "code",
        "colab": {}
      },
      "source": [
        "url = \"http://www.pref.toyama.jp/cms_sec/1205/kj00021798.html\""
      ],
      "execution_count": 0,
      "outputs": []
    },
    {
      "cell_type": "code",
      "metadata": {
        "id": "dba46f-x_v4Y",
        "colab_type": "code",
        "colab": {}
      },
      "source": [
        "r = requests.get(url, headers=headers)\n",
        "\n",
        "r.raise_for_status()\n",
        "\n",
        "soup = BeautifulSoup(r.content, \"html.parser\")"
      ],
      "execution_count": 0,
      "outputs": []
    },
    {
      "cell_type": "code",
      "metadata": {
        "id": "dzY3UOtJC7Nc",
        "colab_type": "code",
        "colab": {}
      },
      "source": [
        "file_list = soup.find(\"div\", id=\"file\")"
      ],
      "execution_count": 0,
      "outputs": []
    },
    {
      "cell_type": "code",
      "metadata": {
        "id": "1J2L5gBc_v7F",
        "colab_type": "code",
        "colab": {}
      },
      "source": [
        "link = file_list.find(\"a\", text=\"富山県内における新型コロナウイルス感染症の発生状況一覧\").get(\"href\")"
      ],
      "execution_count": 0,
      "outputs": []
    },
    {
      "cell_type": "code",
      "metadata": {
        "id": "TbEeCpjM_v99",
        "colab_type": "code",
        "colab": {}
      },
      "source": [
        "df_kanja = pd.read_excel(link, skiprows=2)"
      ],
      "execution_count": 0,
      "outputs": []
    },
    {
      "cell_type": "code",
      "metadata": {
        "id": "qBduZPoG4k6v",
        "colab_type": "code",
        "colab": {}
      },
      "source": [
        "df_kanja[\"陽性人数\"] = df_kanja[\"検査結果判明日\"].apply(\n",
        "    lambda date: pd.to_datetime(date, unit=\"D\", origin=pd.Timestamp(\"1899/12/30\"))\n",
        ")"
      ],
      "execution_count": 0,
      "outputs": []
    },
    {
      "cell_type": "code",
      "metadata": {
        "id": "ak9KxLWh4lBI",
        "colab_type": "code",
        "colab": {}
      },
      "source": [
        "df_pats = df_kanja[\"陽性人数\"].value_counts().sort_index().asfreq(\"D\", fill_value=0)"
      ],
      "execution_count": 0,
      "outputs": []
    },
    {
      "cell_type": "markdown",
      "metadata": {
        "id": "jug-VdH0pO4y",
        "colab_type": "text"
      },
      "source": [
        "## 結合"
      ]
    },
    {
      "cell_type": "code",
      "metadata": {
        "id": "4MPP1LVKnaKy",
        "colab_type": "code",
        "colab": {}
      },
      "source": [
        "df = pd.concat([df_kensa, df_ippan, df_kikoku, df_pats], axis=1)\n",
        "df"
      ],
      "execution_count": 0,
      "outputs": []
    },
    {
      "cell_type": "code",
      "metadata": {
        "id": "GTgRcig-qcMc",
        "colab_type": "code",
        "colab": {}
      },
      "source": [
        "# 欠損値のある行は削除\n",
        "df.dropna(how=\"any\", inplace=True)"
      ],
      "execution_count": 0,
      "outputs": []
    },
    {
      "cell_type": "code",
      "metadata": {
        "id": "HlTraF2ktcND",
        "colab_type": "code",
        "colab": {}
      },
      "source": [
        "df = df.astype(int)"
      ],
      "execution_count": 0,
      "outputs": []
    },
    {
      "cell_type": "code",
      "metadata": {
        "id": "UYvYiq0VA2Xk",
        "colab_type": "code",
        "colab": {}
      },
      "source": [
        "df"
      ],
      "execution_count": 0,
      "outputs": []
    },
    {
      "cell_type": "code",
      "metadata": {
        "id": "CaeD8vthpqTj",
        "colab_type": "code",
        "colab": {}
      },
      "source": [
        "df[\"陰性人数\"] = df[\"検査実施人数\"] - df[\"陽性人数\"]"
      ],
      "execution_count": 0,
      "outputs": []
    },
    {
      "cell_type": "code",
      "metadata": {
        "id": "QSgPJm6WwQ7s",
        "colab_type": "code",
        "colab": {}
      },
      "source": [
        "df_data = df.loc[:, [\"検査実施人数\", \"陰性人数\", \"陽性人数\", \"一般相談件数\", \"帰国者相談件数\"]].copy()"
      ],
      "execution_count": 0,
      "outputs": []
    },
    {
      "cell_type": "code",
      "metadata": {
        "id": "KdtvRbhVc3B_",
        "colab_type": "code",
        "colab": {}
      },
      "source": [
        "df_ori = pd.read_csv(\"http://opendata.pref.toyama.jp/files/covid19/20200403/toyama_counts.csv\", index_col=\"年月日\", parse_dates=True, dtype={\"備考\": object})"
      ],
      "execution_count": 0,
      "outputs": []
    },
    {
      "cell_type": "code",
      "metadata": {
        "id": "nzrjBmzsdLHz",
        "colab_type": "code",
        "colab": {}
      },
      "source": [
        "df_csv = df_ori.append(df_data).groupby(level=0).last()"
      ],
      "execution_count": 0,
      "outputs": []
    },
    {
      "cell_type": "code",
      "metadata": {
        "id": "hBDfJwaKzBFR",
        "colab_type": "code",
        "colab": {}
      },
      "source": [
        "df_csv[\"退院者数\"] = df_csv[\"退院者数\"].astype(\"Int64\")\n",
        "df_csv[\"死亡者数\"] = df_csv[\"死亡者数\"].astype(\"Int64\")"
      ],
      "execution_count": 0,
      "outputs": []
    },
    {
      "cell_type": "code",
      "metadata": {
        "id": "IuoLsV1zth3L",
        "colab_type": "code",
        "colab": {}
      },
      "source": [
        "df_csv.to_csv(\"toyama_counts.csv\", encoding=\"utf_8_sig\")"
      ],
      "execution_count": 0,
      "outputs": []
    },
    {
      "cell_type": "code",
      "metadata": {
        "id": "CMOeAQ77ld-P",
        "colab_type": "code",
        "colab": {}
      },
      "source": [
        "df_csv"
      ],
      "execution_count": 0,
      "outputs": []
    },
    {
      "cell_type": "markdown",
      "metadata": {
        "id": "RNrJQ7Wv088v",
        "colab_type": "text"
      },
      "source": [
        "# ダウンロード"
      ]
    },
    {
      "cell_type": "code",
      "metadata": {
        "id": "09QkuxNN03F-",
        "colab_type": "code",
        "colab": {}
      },
      "source": [
        "files.download(\"toyama_counts.csv\")"
      ],
      "execution_count": 0,
      "outputs": []
    }
  ]
}