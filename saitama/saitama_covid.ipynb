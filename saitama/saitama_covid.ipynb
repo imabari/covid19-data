{
  "nbformat": 4,
  "nbformat_minor": 0,
  "metadata": {
    "colab": {
      "name": "saitama_covid.ipynb",
      "provenance": [],
      "collapsed_sections": [],
      "toc_visible": true,
      "authorship_tag": "ABX9TyOzpkuFPOgguW1PZJ3YPvt/",
      "include_colab_link": true
    },
    "kernelspec": {
      "name": "python3",
      "display_name": "Python 3"
    }
  },
  "cells": [
    {
      "cell_type": "markdown",
      "metadata": {
        "id": "view-in-github",
        "colab_type": "text"
      },
      "source": [
        "<a href=\"https://colab.research.google.com/github/imabari/covid19-data/blob/master/saitama/saitama_covid.ipynb\" target=\"_parent\"><img src=\"https://colab.research.google.com/assets/colab-badge.svg\" alt=\"Open In Colab\"/></a>"
      ]
    },
    {
      "cell_type": "code",
      "metadata": {
        "id": "lRSqPiGgUeLj"
      },
      "source": [
        "import datetime\r\n",
        "import json\r\n",
        "import pathlib\r\n",
        "import re\r\n",
        "from collections import Counter\r\n",
        "from urllib.parse import urljoin"
      ],
      "execution_count": 294,
      "outputs": []
    },
    {
      "cell_type": "code",
      "metadata": {
        "id": "2mRq8YGGDPo3"
      },
      "source": [
        "import pandas as pd\r\n",
        "import requests\r\n",
        "from bs4 import BeautifulSoup"
      ],
      "execution_count": 295,
      "outputs": []
    },
    {
      "cell_type": "code",
      "metadata": {
        "id": "OwpnecCeBgiS"
      },
      "source": [
        "from IPython.display import Image, display_png"
      ],
      "execution_count": 296,
      "outputs": []
    },
    {
      "cell_type": "code",
      "metadata": {
        "id": "4AF5yjAiU8vA"
      },
      "source": [
        "def fetch_soup(url):\r\n",
        "\r\n",
        "    r = requests.get(url)\r\n",
        "    r.raise_for_status()\r\n",
        "\r\n",
        "    soup = BeautifulSoup(r.content, \"html.parser\")\r\n",
        "\r\n",
        "    return soup"
      ],
      "execution_count": 297,
      "outputs": []
    },
    {
      "cell_type": "code",
      "metadata": {
        "id": "ryXcNiVjUe_Z"
      },
      "source": [
        "def fetch_file(url, dir=\".\"):\r\n",
        "\r\n",
        "    p = pathlib.Path(dir, pathlib.PurePath(url).name)\r\n",
        "    p.parent.mkdir(parents=True, exist_ok=True)\r\n",
        "\r\n",
        "    # 同一ファイル名の場合はダウンロードしない\r\n",
        "    if not p.exists():\r\n",
        "\r\n",
        "        r = requests.get(url)\r\n",
        "\r\n",
        "        with p.open(mode=\"wb\") as fw:\r\n",
        "            fw.write(r.content)\r\n",
        "\r\n",
        "    return p"
      ],
      "execution_count": 298,
      "outputs": []
    },
    {
      "cell_type": "code",
      "metadata": {
        "id": "eZ-JmiYtUfFJ"
      },
      "source": [
        "def fetch_csv(url, text):\r\n",
        "\r\n",
        "    soup = fetch_soup(url)\r\n",
        "    href = soup.find_all(\"a\", title=re.compile(text))[-1].get(\"href\")\r\n",
        "\r\n",
        "    csv_soup = fetch_soup(urljoin(url, href))\r\n",
        "    csv_href = csv_soup.find(\"p\", class_=\"muted ellipsis\").find(\"a\").get(\"href\")\r\n",
        "\r\n",
        "    p = fetch_file(csv_href, \"download\")\r\n",
        "\r\n",
        "    return p"
      ],
      "execution_count": 299,
      "outputs": []
    },
    {
      "cell_type": "code",
      "metadata": {
        "id": "NjAcsQBE67wD"
      },
      "source": [
        "def str2date(s):\r\n",
        "\r\n",
        "    lst = list(map(int, re.findall(\"\\d+\", s)))\r\n",
        "    lst.insert(0, None)\r\n",
        "\r\n",
        "    return lst[-3:]"
      ],
      "execution_count": 300,
      "outputs": []
    },
    {
      "cell_type": "code",
      "metadata": {
        "id": "QS6vcm1pcqvY"
      },
      "source": [
        "def dumps_json(file_name, json_data, dir=\".\"):\r\n",
        "\r\n",
        "    p = pathlib.Path(dir, file_name)\r\n",
        "    p.parent.mkdir(parents=True, exist_ok=True)\r\n",
        "\r\n",
        "    with p.open(mode=\"w\") as fw:\r\n",
        "        json.dump(json_data, fw, ensure_ascii=False, indent=4)"
      ],
      "execution_count": 301,
      "outputs": []
    },
    {
      "cell_type": "markdown",
      "metadata": {
        "id": "9xwDNQXbb_3y"
      },
      "source": [
        "## プログラム"
      ]
    },
    {
      "cell_type": "code",
      "metadata": {
        "id": "OHpSWPh8U6ch"
      },
      "source": [
        "# 検査陽性者の状況\r\n",
        "MAIN_SUMMARY_URL = \"http://www.pref.saitama.lg.jp/a0701/shingatacoronavirus.html\""
      ],
      "execution_count": 302,
      "outputs": []
    },
    {
      "cell_type": "code",
      "metadata": {
        "id": "CFcFYPe-Xmkp"
      },
      "source": [
        "soup = fetch_soup(MAIN_SUMMARY_URL)"
      ],
      "execution_count": 303,
      "outputs": []
    },
    {
      "cell_type": "code",
      "metadata": {
        "id": "KRYIP6VSWgyI"
      },
      "source": [
        "# 更新日付取得\r\n",
        "s = soup.select_one(\"#tmp_contents > h2\").get_text()\r\n",
        "m = re.search(\"([0-9]+)月([0-9]+)日\", s)\r\n",
        "\r\n",
        "month, day = map(int, m.groups())"
      ],
      "execution_count": 304,
      "outputs": []
    },
    {
      "cell_type": "code",
      "metadata": {
        "id": "QYxkNRaSWpvR"
      },
      "source": [
        "dt_now = datetime.datetime.now()"
      ],
      "execution_count": 305,
      "outputs": []
    },
    {
      "cell_type": "code",
      "metadata": {
        "id": "eargLRoQX66h"
      },
      "source": [
        "dt_update = dt_now.replace(month=month, day=day, hour=21, minute=0, second=0, microsecond=0)\r\n",
        "\r\n",
        "if dt_now < dt_update:\r\n",
        "    dt_update = dt_update.replace(year=dt_now.year -1)\r\n",
        "\r\n",
        "str_update = dt_update.strftime(\"%Y/%m/%d %H:%M\")"
      ],
      "execution_count": 306,
      "outputs": []
    },
    {
      "cell_type": "code",
      "metadata": {
        "id": "oTXxzztmZh2p"
      },
      "source": [
        "data = {\"lastUpdate\": str_update}"
      ],
      "execution_count": 307,
      "outputs": []
    },
    {
      "cell_type": "code",
      "metadata": {
        "id": "fU79BcI_WE85"
      },
      "source": [
        "tag = soup.select_one(\"#tmp_contents > div > div.outline > ul\")"
      ],
      "execution_count": 308,
      "outputs": []
    },
    {
      "cell_type": "code",
      "metadata": {
        "id": "zRmk_rAGW4Yx"
      },
      "source": [
        "# 人数取得\r\n",
        "text = tag.get_text(strip=True)\r\n",
        "\r\n",
        "temp = {}"
      ],
      "execution_count": 309,
      "outputs": []
    },
    {
      "cell_type": "code",
      "metadata": {
        "colab": {
          "base_uri": "https://localhost:8080/"
        },
        "id": "oXOHCYstWgiD",
        "outputId": "e4de1dbd-025f-48e2-9a48-d6c9a7ad4b7d"
      },
      "source": [
        "print(text)"
      ],
      "execution_count": 310,
      "outputs": [
        {
          "output_type": "stream",
          "text": [
            "県内の陽性確認者数：22,735人（1月22日新規公表分：358人）【内訳】入院：指定医療機関196人 一般医療機関699人 計895人（うち最重症者：7人 重症者：84人）宿泊療養：315人 自宅療養等：3,668人 退院・療養終了：退院6,130人 療養終了11,071人 計17,201人 死亡：298人(うち新型コロナウイルス感染症を死因とする死亡：245人)県内の疑い例検査数※検査数の詳細を見る（PDF：635KB）（1）自治体による検査（1月22日まで）：延べ52,158人（さいたま市・川越市・越谷市・川口市の実施分含む）【速報値】（2）民間検査機関等による検査（1月22日まで）：延べ361,154人【速報値】【留意事項】※1 検査実施人数は、同日までに実施した自治体による検査の累計と、同日までに報告のあった民間検査機関等による検査の累計の合計です。陰性確認のための検査数は含まれておりません。民間検査機関等による検査数は速報値のため、後日報告された分は報告日の検査数に計上されます。(特に休日の場合、検査実施人数の前日比は自治体による検査分のみが計上されるため、検査の実件数より大幅に少なく表記されます。)なお、右欄の陽性者数の前日比は休日の場合も含め、自治体による検査と民間医療機関等による検査で当日判明した陽性者数が計上、表記されます。※2 「自宅療養等」は、入院または宿泊療養調整中の方を含みます。※3 「新規公表分」は、調整を経て翌日に「入院中」「宿泊療養」「自宅療養等」に反映されます。※4 実際の退院日、療養終了日の翌日以降に報告された場合、報告日の件数に計上されます。※5 6月19日以降、新型コロナウイルス感染症の陽性者であって入院中や療養中に亡くなった方を「死亡」と表記し、うち新型コロナウイルス感染症を死因とする死亡者数を（　）内に内数として掲げています。なお、死亡には東京都が公表した1人を含みます。\n"
          ],
          "name": "stdout"
        }
      ]
    },
    {
      "cell_type": "code",
      "metadata": {
        "id": "8X347D8SampB"
      },
      "source": [
        "for i in re.finditer(\r\n",
        "    r\"(陽性確認者数|新規公表分|指定医療機関|一般医療機関|最重症者|重症者|宿泊療養|自宅療養等|新型コロナウイルス感染症を死因とする死亡|死亡|新規公表分|退院・療養終了)：?([0-9,]+)人?\",\r\n",
        "    text,\r\n",
        "):\r\n",
        "\r\n",
        "    temp[i.group(1)] = int(i.group(2).replace(\",\", \"\"))"
      ],
      "execution_count": 311,
      "outputs": []
    },
    {
      "cell_type": "code",
      "metadata": {
        "id": "VvS51YTOa-Oh"
      },
      "source": [
        "for i in re.finditer(r\"(自治体による検査|民間検査機関等による検査)（\\d{1,2}月\\d{1,2}日まで）：延べ([0-9,]+)人\", text):\r\n",
        "    temp[i.group(1)] = int(i.group(2).replace(\",\", \"\"))"
      ],
      "execution_count": 312,
      "outputs": []
    },
    {
      "cell_type": "code",
      "metadata": {
        "id": "fTouLlOQaxK5"
      },
      "source": [
        "m = re.search(\"(入院)：(指定医療機関)([0-9,]+)人\\s*(一般医療機関)([0-9,]+)人\\s*(計)([0-9,]+)人\", text)\r\n",
        "if m:\r\n",
        "    temp[f\"{m.group(1)}_{m.group(2)}\"] = int(m.group(3).replace(\",\", \"\"))\r\n",
        "    temp[f\"{m.group(1)}_{m.group(4)}\"] = int(m.group(5).replace(\",\", \"\"))\r\n",
        "    temp[f\"{m.group(1)}_{m.group(6)}\"] = int(m.group(7).replace(\",\", \"\"))"
      ],
      "execution_count": 313,
      "outputs": []
    },
    {
      "cell_type": "code",
      "metadata": {
        "id": "XCtBT-rPaxOJ"
      },
      "source": [
        "m = re.search(\"(退院・療養終了)：(退院)([0-9,]+)人\\s*(療養終了)([0-9,]+)人\\s*(計)([0-9,]+)人?\", text)\r\n",
        "if m:\r\n",
        "    temp[f\"{m.group(1)}_{m.group(2)}\"] = int(m.group(3).replace(\",\", \"\"))\r\n",
        "    temp[f\"{m.group(1)}_{m.group(4)}\"] = int(m.group(5).replace(\",\", \"\"))\r\n",
        "    temp[f\"{m.group(1)}_{m.group(6)}\"] = int(m.group(7).replace(\",\", \"\"))"
      ],
      "execution_count": 314,
      "outputs": []
    },
    {
      "cell_type": "code",
      "metadata": {
        "id": "Oh_XZg_3_uXB"
      },
      "source": [
        "img_url = urljoin(MAIN_SUMMARY_URL, soup.select_one(\"div#tmp_contents > div.outline_type1 > div > p > img\").get(\"src\"))\r\n",
        "p_img = fetch_file(img_url)"
      ],
      "execution_count": 315,
      "outputs": []
    },
    {
      "cell_type": "code",
      "metadata": {
        "colab": {
          "base_uri": "https://localhost:8080/"
        },
        "id": "BKkOQtgRbEMy",
        "outputId": "1ff5d3dc-6b21-442e-9e37-8701b5c10aae"
      },
      "source": [
        "temp"
      ],
      "execution_count": 316,
      "outputs": [
        {
          "output_type": "execute_result",
          "data": {
            "text/plain": [
              "{'一般医療機関': 699,\n",
              " '入院_一般医療機関': 699,\n",
              " '入院_指定医療機関': 196,\n",
              " '入院_計': 895,\n",
              " '宿泊療養': 315,\n",
              " '指定医療機関': 196,\n",
              " '新型コロナウイルス感染症を死因とする死亡': 245,\n",
              " '新規公表分': 358,\n",
              " '最重症者': 7,\n",
              " '死亡': 298,\n",
              " '民間検査機関等による検査': 361154,\n",
              " '自宅療養等': 3668,\n",
              " '自治体による検査': 52158,\n",
              " '退院・療養終了_療養終了': 11071,\n",
              " '退院・療養終了_計': 17201,\n",
              " '退院・療養終了_退院': 6130,\n",
              " '重症者': 84,\n",
              " '陽性確認者数': 22735}"
            ]
          },
          "metadata": {
            "tags": []
          },
          "execution_count": 316
        }
      ]
    },
    {
      "cell_type": "code",
      "metadata": {
        "colab": {
          "base_uri": "https://localhost:8080/",
          "height": 172
        },
        "id": "zKCMMG0SAch3",
        "outputId": "2bc37de5-22d2-4384-d3ca-2c384225c9a0"
      },
      "source": [
        "display_png(Image(str(p_img)))"
      ],
      "execution_count": 317,
      "outputs": [
        {
          "output_type": "display_data",
          "data": {
            "image/png": "[encoded data removed]"
          },
          "metadata": {
            "tags": []
          }
        }
      ]
    },
    {
      "cell_type": "code",
      "metadata": {
        "id": "80-8e_EpYqUu"
      },
      "source": [
        "temp[\"現在の患者数\"] = temp[\"陽性確認者数\"] - temp[\"退院・療養終了_計\"] - temp[\"死亡\"]"
      ],
      "execution_count": 318,
      "outputs": []
    },
    {
      "cell_type": "code",
      "metadata": {
        "colab": {
          "base_uri": "https://localhost:8080/"
        },
        "id": "jLChg1dVBoDW",
        "outputId": "f7771d23-9d5e-48f2-a850-583f2ae0fad1"
      },
      "source": [
        "print(\"検査実施人数:\", temp[\"自治体による検査\"] + temp[\"民間検査機関等による検査\"])\r\n",
        "print(\"陽性患者数 (累計):\", temp[\"陽性確認者数\"])\r\n",
        "print(\"現在の患者数:\", temp[\"現在の患者数\"])\r\n",
        "print(\"入院中:\", temp[\"入院_計\"])\r\n",
        "print(\"重症:\", temp[\"重症者\"] + temp[\"最重症者\"])\r\n",
        "print(\"宿泊療養:\", temp[\"宿泊療養\"])\r\n",
        "print(\"自宅療養:\", temp[\"自宅療養等\"])\r\n",
        "print(\"新規公表分:\", temp[\"新規公表分\"])\r\n",
        "print(\"退院・療養終了:\", temp[\"退院・療養終了_計\"])\r\n",
        "print(\"死亡:\", temp[\"死亡\"])"
      ],
      "execution_count": 319,
      "outputs": [
        {
          "output_type": "stream",
          "text": [
            "検査実施人数: 413312\n",
            "陽性患者数 (累計): 22735\n",
            "現在の患者数: 5236\n",
            "入院中: 895\n",
            "重症: 91\n",
            "宿泊療養: 315\n",
            "自宅療養: 3668\n",
            "新規公表分: 358\n",
            "退院・療養終了: 17201\n",
            "死亡: 298\n"
          ],
          "name": "stdout"
        }
      ]
    },
    {
      "cell_type": "code",
      "metadata": {
        "colab": {
          "base_uri": "https://localhost:8080/"
        },
        "id": "MC3xE5saY9Ee",
        "outputId": "ccb16ff6-0d55-4926-c3fd-52cfb0628876"
      },
      "source": [
        "# 入院中\r\n",
        "print(temp[\"入院_計\"])\r\n",
        "print(temp[\"現在の患者数\"] - temp[\"宿泊療養\"] - temp[\"自宅療養等\"] - temp[\"新規公表分\"])\r\n",
        "print(temp[\"指定医療機関\"] + temp[\"一般医療機関\"])"
      ],
      "execution_count": 320,
      "outputs": [
        {
          "output_type": "stream",
          "text": [
            "895\n",
            "895\n",
            "895\n"
          ],
          "name": "stdout"
        }
      ]
    },
    {
      "cell_type": "code",
      "metadata": {
        "id": "T9kIZVor7lny"
      },
      "source": [
        "hospital = [temp.get(\"入院_計\"), temp[\"現在の患者数\"] - temp[\"宿泊療養\"] - temp[\"自宅療養等\"] - temp[\"新規公表分\"], temp[\"指定医療機関\"] + temp[\"一般医療機関\"]]\r\n",
        "h = [k for k, v in Counter(hospital).items() if v > 1]\r\n",
        "temp[\"入院中\"] = h[0] if h else 0"
      ],
      "execution_count": 321,
      "outputs": []
    },
    {
      "cell_type": "code",
      "metadata": {
        "id": "FaGmBtOddkaR"
      },
      "source": [
        "data[\"main_summary\"] = {\r\n",
        "    \"attr\": \"検査実施人数\",\r\n",
        "    \"value\": temp[\"自治体による検査\"],\r\n",
        "    \"children\": [\r\n",
        "        {\r\n",
        "            \"attr\": \"陽性患者数\",\r\n",
        "            \"value\": temp[\"陽性確認者数\"],\r\n",
        "            \"children\": [\r\n",
        "                {\r\n",
        "                    \"attr\": \"入院中\",\r\n",
        "                    \"value\": temp[\"入院中\"],\r\n",
        "                    \"children\": [\r\n",
        "                        {\r\n",
        "                            \"attr\": \"軽症・中等症\",\r\n",
        "                            \"value\": temp[\"陽性確認者数\"]\r\n",
        "                            - temp[\"退院・療養終了_計\"]\r\n",
        "                            - temp[\"死亡\"]\r\n",
        "                            - temp[\"最重症者\"]\r\n",
        "                            - temp[\"重症者\"],\r\n",
        "                        },\r\n",
        "                        {\"attr\": \"重症\", \"value\": temp[\"最重症者\"] + temp[\"重症者\"]},\r\n",
        "                    ],\r\n",
        "                },\r\n",
        "                {\"attr\": \"退院\", \"value\": temp[\"退院・療養終了_計\"]},\r\n",
        "                {\"attr\": \"死亡\", \"value\": temp[\"死亡\"]},\r\n",
        "            ],\r\n",
        "        }\r\n",
        "    ],\r\n",
        "}"
      ],
      "execution_count": 322,
      "outputs": []
    },
    {
      "cell_type": "code",
      "metadata": {
        "id": "nuN-0wUTdqDo"
      },
      "source": [
        "# main_summary.json\r\n",
        "main_summary = {\r\n",
        "    \"attr\": \"検査実施人数\",\r\n",
        "    \"value\": temp[\"自治体による検査\"],\r\n",
        "    \"children\": [\r\n",
        "        {\r\n",
        "            \"attr\": \"陽性患者数\",\r\n",
        "            \"value\": temp[\"陽性確認者数\"],\r\n",
        "            \"children\": [\r\n",
        "                {\r\n",
        "                    \"attr\": \"入院中\",\r\n",
        "                    \"value\": temp[\"入院中\"],\r\n",
        "                    \"children\": [\r\n",
        "                        {\"attr\": \"重症\", \"value\": temp[\"最重症者\"] + temp[\"重症者\"]},\r\n",
        "                    ],\r\n",
        "                },\r\n",
        "                {\"attr\": \"宿泊療養\", \"value\": temp[\"宿泊療養\"]},\r\n",
        "                {\"attr\": \"自宅療養\", \"value\": temp[\"自宅療養等\"]},\r\n",
        "                {\"attr\": \"新規公表分\", \"value\": temp[\"新規公表分\"]},\r\n",
        "                {\"attr\": \"死亡\", \"value\": temp[\"死亡\"]},\r\n",
        "                {\"attr\": \"退院・療養終了\", \"value\": temp[\"退院・療養終了_計\"]},\r\n",
        "            ],\r\n",
        "        }\r\n",
        "    ],\r\n",
        "    \"lastUpdate\": str_update,\r\n",
        "}"
      ],
      "execution_count": 323,
      "outputs": []
    },
    {
      "cell_type": "code",
      "metadata": {
        "id": "KVff1JgWd_A5"
      },
      "source": [
        "dumps_json(\"main_summary.json\", main_summary, \"data\")"
      ],
      "execution_count": 324,
      "outputs": []
    },
    {
      "cell_type": "markdown",
      "metadata": {
        "id": "O2w08sVegNpJ"
      },
      "source": [
        "# 検査"
      ]
    },
    {
      "cell_type": "markdown",
      "metadata": {
        "id": "I1eLm8T3RiVF"
      },
      "source": [
        "## 前処理"
      ]
    },
    {
      "cell_type": "code",
      "metadata": {
        "id": "DDJ-TeNH_d3i"
      },
      "source": [
        "# 検査数\r\n",
        "KENSA_URL = \"https://opendata.pref.saitama.lg.jp/data/dataset/covid19-kensa\"\r\n",
        "KENSA_TITLE = \"^埼玉県が実施した新型コロナウイルス疑い例検査数\""
      ],
      "execution_count": 325,
      "outputs": []
    },
    {
      "cell_type": "code",
      "metadata": {
        "id": "TLCGpCN0gNBp"
      },
      "source": [
        "# 検査\r\n",
        "kensa_path = fetch_csv(KENSA_URL, KENSA_TITLE)"
      ],
      "execution_count": 326,
      "outputs": []
    },
    {
      "cell_type": "code",
      "metadata": {
        "id": "jic1YJswgT9B"
      },
      "source": [
        "df_kensa = pd.read_csv(kensa_path, encoding=\"cp932\")"
      ],
      "execution_count": 327,
      "outputs": []
    },
    {
      "cell_type": "code",
      "metadata": {
        "id": "-KJH9eBwj1aq"
      },
      "source": [
        "df_date = (\r\n",
        "    df_kensa[\"検査日\"]\r\n",
        "    .astype(\"str\")\r\n",
        "    .str.normalize(\"NFKC\")\r\n",
        "    .apply(str2date)\r\n",
        "    .apply(pd.Series)\r\n",
        "    .rename(columns={0: \"year\", 1: \"month\", 2: \"day\"})\r\n",
        ")"
      ],
      "execution_count": 328,
      "outputs": []
    },
    {
      "cell_type": "code",
      "metadata": {
        "id": "tVZrSLh39m57"
      },
      "source": [
        "df_date[\"year\"] = df_date[\"year\"].replace({20: 2020, 21: 2021}).fillna(method=\"ffill\")\r\n",
        "df_kensa[\"検査日\"] = pd.to_datetime(df_date, errors=\"coerce\")"
      ],
      "execution_count": 329,
      "outputs": []
    },
    {
      "cell_type": "code",
      "metadata": {
        "id": "2--Xxxlj9-ja"
      },
      "source": [
        "df_kensa = df_kensa.set_index(\"検査日\")\r\n",
        "df_kensa.rename(columns={\"検査数（延べ人数）\": \"小計\"}, inplace=True)\r\n",
        "df_kensa[\"日付\"] = df_kensa.index.strftime(\"%Y-%m-%dT08:00:00.000Z\")"
      ],
      "execution_count": 330,
      "outputs": []
    },
    {
      "cell_type": "markdown",
      "metadata": {
        "id": "6nwnooS2RbtL"
      },
      "source": [
        "## inspections_summary"
      ]
    },
    {
      "cell_type": "code",
      "metadata": {
        "id": "rAPU-skFRey6"
      },
      "source": [
        "df_insp_sum = df_kensa.loc[:, [\"日付\", \"小計\"]]"
      ],
      "execution_count": 331,
      "outputs": []
    },
    {
      "cell_type": "code",
      "metadata": {
        "id": "PN2F72l0erkq"
      },
      "source": [
        "data[\"inspections_summary\"] = {\r\n",
        "    \"data\": df_insp_sum.to_dict(orient=\"records\"),\r\n",
        "    \"date\": str_update,\r\n",
        "}"
      ],
      "execution_count": 332,
      "outputs": []
    },
    {
      "cell_type": "markdown",
      "metadata": {
        "id": "-w4GHzrs_4qa"
      },
      "source": [
        "# 陽性患者数"
      ]
    },
    {
      "cell_type": "markdown",
      "metadata": {
        "id": "QmoLA37dRQ_L"
      },
      "source": [
        "## 前処理"
      ]
    },
    {
      "cell_type": "code",
      "metadata": {
        "id": "nQwn4wm6_jOy"
      },
      "source": [
        "# 陽性患者数\r\n",
        "JOKYO_URL = \"https://opendata.pref.saitama.lg.jp/data/dataset/covid19-jokyo\"\r\n",
        "JOKYO_TITLE = \"^埼玉県内の新型コロナウイルス感染症の発生状況\""
      ],
      "execution_count": 333,
      "outputs": []
    },
    {
      "cell_type": "code",
      "metadata": {
        "id": "H2aVRLhP_8Va"
      },
      "source": [
        "# 状況\r\n",
        "jokyo_path = fetch_csv(JOKYO_URL, JOKYO_TITLE)"
      ],
      "execution_count": 334,
      "outputs": []
    },
    {
      "cell_type": "code",
      "metadata": {
        "id": "chTnaKVzAChJ"
      },
      "source": [
        "df_kanja = pd.read_csv(jokyo_path, encoding=\"cp932\")"
      ],
      "execution_count": 335,
      "outputs": []
    },
    {
      "cell_type": "code",
      "metadata": {
        "id": "ai4J3Q9lBLrS"
      },
      "source": [
        "df_temp = (\r\n",
        "    df_kanja[\"判明日\"]\r\n",
        "    .astype(\"str\")\r\n",
        "    .str.normalize(\"NFKC\")\r\n",
        "    .apply(str2date)\r\n",
        "    .apply(pd.Series)\r\n",
        "    .rename(columns={0: \"year\", 1: \"month\", 2: \"day\"})\r\n",
        ")"
      ],
      "execution_count": 336,
      "outputs": []
    },
    {
      "cell_type": "code",
      "metadata": {
        "id": "o5sx75c4Cprp"
      },
      "source": [
        "df_temp[\"year\"] = df_temp[\"year\"].replace({20: 2020, 21: 2021}).fillna(method=\"ffill\")\r\n",
        "df_kanja[\"date\"] = pd.to_datetime(df_temp, errors=\"coerce\")"
      ],
      "execution_count": 337,
      "outputs": []
    },
    {
      "cell_type": "markdown",
      "metadata": {
        "id": "Q8lOEJ-8NuZd"
      },
      "source": [
        "## チェック"
      ]
    },
    {
      "cell_type": "code",
      "metadata": {
        "id": "vs9US58dDUZ7",
        "colab": {
          "base_uri": "https://localhost:8080/",
          "height": 49
        },
        "outputId": "23a4d934-52f5-4fe1-9aca-a767d7df74e3"
      },
      "source": [
        "# 2020年より前を抽出\r\n",
        "df_kanja[df_kanja[\"date\"] < datetime.datetime(2020, 1, 1)]"
      ],
      "execution_count": 338,
      "outputs": [
        {
          "output_type": "execute_result",
          "data": {
            "text/html": [
              "<div>\n",
              "<style scoped>\n",
              "    .dataframe tbody tr th:only-of-type {\n",
              "        vertical-align: middle;\n",
              "    }\n",
              "\n",
              "    .dataframe tbody tr th {\n",
              "        vertical-align: top;\n",
              "    }\n",
              "\n",
              "    .dataframe thead th {\n",
              "        text-align: right;\n",
              "    }\n",
              "</style>\n",
              "<table border=\"1\" class=\"dataframe\">\n",
              "  <thead>\n",
              "    <tr style=\"text-align: right;\">\n",
              "      <th></th>\n",
              "      <th>NO.</th>\n",
              "      <th>判明日</th>\n",
              "      <th>年代</th>\n",
              "      <th>性別</th>\n",
              "      <th>居住地</th>\n",
              "      <th>date</th>\n",
              "    </tr>\n",
              "  </thead>\n",
              "  <tbody>\n",
              "  </tbody>\n",
              "</table>\n",
              "</div>"
            ],
            "text/plain": [
              "Empty DataFrame\n",
              "Columns: [NO., 判明日, 年代, 性別, 居住地, date]\n",
              "Index: []"
            ]
          },
          "metadata": {
            "tags": []
          },
          "execution_count": 338
        }
      ]
    },
    {
      "cell_type": "code",
      "metadata": {
        "id": "SUhItJk3BdeL",
        "colab": {
          "base_uri": "https://localhost:8080/",
          "height": 49
        },
        "outputId": "20bb74b4-803a-4ab9-c6fb-5f646c926a7d"
      },
      "source": [
        "# 未来の日付を抽出\r\n",
        "df_kanja[df_kanja[\"date\"] > dt_now]"
      ],
      "execution_count": 339,
      "outputs": [
        {
          "output_type": "execute_result",
          "data": {
            "text/html": [
              "<div>\n",
              "<style scoped>\n",
              "    .dataframe tbody tr th:only-of-type {\n",
              "        vertical-align: middle;\n",
              "    }\n",
              "\n",
              "    .dataframe tbody tr th {\n",
              "        vertical-align: top;\n",
              "    }\n",
              "\n",
              "    .dataframe thead th {\n",
              "        text-align: right;\n",
              "    }\n",
              "</style>\n",
              "<table border=\"1\" class=\"dataframe\">\n",
              "  <thead>\n",
              "    <tr style=\"text-align: right;\">\n",
              "      <th></th>\n",
              "      <th>NO.</th>\n",
              "      <th>判明日</th>\n",
              "      <th>年代</th>\n",
              "      <th>性別</th>\n",
              "      <th>居住地</th>\n",
              "      <th>date</th>\n",
              "    </tr>\n",
              "  </thead>\n",
              "  <tbody>\n",
              "  </tbody>\n",
              "</table>\n",
              "</div>"
            ],
            "text/plain": [
              "Empty DataFrame\n",
              "Columns: [NO., 判明日, 年代, 性別, 居住地, date]\n",
              "Index: []"
            ]
          },
          "metadata": {
            "tags": []
          },
          "execution_count": 339
        }
      ]
    },
    {
      "cell_type": "code",
      "metadata": {
        "id": "ZFanPd36_yU0",
        "colab": {
          "base_uri": "https://localhost:8080/",
          "height": 394
        },
        "outputId": "0649e873-b98f-44a4-a7fc-c392f742423e"
      },
      "source": [
        "# 日付が空で調査中、発生届取り下げ、東京都発表、重複でないものを抽出\r\n",
        "df_kanja[(df_kanja[\"date\"].isna()) & ~((df_kanja[\"判明日\"].isin([\"調査中\", \"発生届取り下げ\", \"東京都発表\"]) | df_kanja[\"判明日\"].str.contains(\"重複\", na=False)))]"
      ],
      "execution_count": 340,
      "outputs": [
        {
          "output_type": "execute_result",
          "data": {
            "text/html": [
              "<div>\n",
              "<style scoped>\n",
              "    .dataframe tbody tr th:only-of-type {\n",
              "        vertical-align: middle;\n",
              "    }\n",
              "\n",
              "    .dataframe tbody tr th {\n",
              "        vertical-align: top;\n",
              "    }\n",
              "\n",
              "    .dataframe thead th {\n",
              "        text-align: right;\n",
              "    }\n",
              "</style>\n",
              "<table border=\"1\" class=\"dataframe\">\n",
              "  <thead>\n",
              "    <tr style=\"text-align: right;\">\n",
              "      <th></th>\n",
              "      <th>NO.</th>\n",
              "      <th>判明日</th>\n",
              "      <th>年代</th>\n",
              "      <th>性別</th>\n",
              "      <th>居住地</th>\n",
              "      <th>date</th>\n",
              "    </tr>\n",
              "  </thead>\n",
              "  <tbody>\n",
              "    <tr>\n",
              "      <th>2281</th>\n",
              "      <td>2282</td>\n",
              "      <td>NaN</td>\n",
              "      <td>50代</td>\n",
              "      <td>男性</td>\n",
              "      <td>NaN</td>\n",
              "      <td>NaT</td>\n",
              "    </tr>\n",
              "    <tr>\n",
              "      <th>2436</th>\n",
              "      <td>2437</td>\n",
              "      <td>NaN</td>\n",
              "      <td>50代</td>\n",
              "      <td>男性</td>\n",
              "      <td>県外</td>\n",
              "      <td>NaT</td>\n",
              "    </tr>\n",
              "    <tr>\n",
              "      <th>4639</th>\n",
              "      <td>4640</td>\n",
              "      <td>NaN</td>\n",
              "      <td>NaN</td>\n",
              "      <td>NaN</td>\n",
              "      <td>入間市</td>\n",
              "      <td>NaT</td>\n",
              "    </tr>\n",
              "    <tr>\n",
              "      <th>4640</th>\n",
              "      <td>4641</td>\n",
              "      <td>NaN</td>\n",
              "      <td>NaN</td>\n",
              "      <td>NaN</td>\n",
              "      <td>入間市</td>\n",
              "      <td>NaT</td>\n",
              "    </tr>\n",
              "    <tr>\n",
              "      <th>4667</th>\n",
              "      <td>4668</td>\n",
              "      <td>NaN</td>\n",
              "      <td>NaN</td>\n",
              "      <td>女性</td>\n",
              "      <td>NaN</td>\n",
              "      <td>NaT</td>\n",
              "    </tr>\n",
              "    <tr>\n",
              "      <th>6682</th>\n",
              "      <td>6683</td>\n",
              "      <td>NaN</td>\n",
              "      <td>60代</td>\n",
              "      <td>男性</td>\n",
              "      <td>NaN</td>\n",
              "      <td>NaT</td>\n",
              "    </tr>\n",
              "    <tr>\n",
              "      <th>9234</th>\n",
              "      <td>9235</td>\n",
              "      <td>NaN</td>\n",
              "      <td>NaN</td>\n",
              "      <td>女性</td>\n",
              "      <td>NaN</td>\n",
              "      <td>NaT</td>\n",
              "    </tr>\n",
              "    <tr>\n",
              "      <th>9235</th>\n",
              "      <td>9236</td>\n",
              "      <td>NaN</td>\n",
              "      <td>NaN</td>\n",
              "      <td>女性</td>\n",
              "      <td>NaN</td>\n",
              "      <td>NaT</td>\n",
              "    </tr>\n",
              "    <tr>\n",
              "      <th>9650</th>\n",
              "      <td>9651</td>\n",
              "      <td>NaN</td>\n",
              "      <td>70代</td>\n",
              "      <td>男性</td>\n",
              "      <td>草加市</td>\n",
              "      <td>NaT</td>\n",
              "    </tr>\n",
              "    <tr>\n",
              "      <th>9651</th>\n",
              "      <td>9652</td>\n",
              "      <td>NaN</td>\n",
              "      <td>70代</td>\n",
              "      <td>女性</td>\n",
              "      <td>草加市</td>\n",
              "      <td>NaT</td>\n",
              "    </tr>\n",
              "    <tr>\n",
              "      <th>14342</th>\n",
              "      <td>14343</td>\n",
              "      <td>NaN</td>\n",
              "      <td>80代</td>\n",
              "      <td>男性</td>\n",
              "      <td>NaN</td>\n",
              "      <td>NaT</td>\n",
              "    </tr>\n",
              "  </tbody>\n",
              "</table>\n",
              "</div>"
            ],
            "text/plain": [
              "         NO.  判明日   年代   性別  居住地 date\n",
              "2281    2282  NaN  50代   男性  NaN  NaT\n",
              "2436    2437  NaN  50代   男性   県外  NaT\n",
              "4639    4640  NaN  NaN  NaN  入間市  NaT\n",
              "4640    4641  NaN  NaN  NaN  入間市  NaT\n",
              "4667    4668  NaN  NaN   女性  NaN  NaT\n",
              "6682    6683  NaN  60代   男性  NaN  NaT\n",
              "9234    9235  NaN  NaN   女性  NaN  NaT\n",
              "9235    9236  NaN  NaN   女性  NaN  NaT\n",
              "9650    9651  NaN  70代   男性  草加市  NaT\n",
              "9651    9652  NaN  70代   女性  草加市  NaT\n",
              "14342  14343  NaN  80代   男性  NaN  NaT"
            ]
          },
          "metadata": {
            "tags": []
          },
          "execution_count": 340
        }
      ]
    },
    {
      "cell_type": "markdown",
      "metadata": {
        "id": "OMPLeXf8RKir"
      },
      "source": [
        "## patients_summary"
      ]
    },
    {
      "cell_type": "code",
      "metadata": {
        "id": "H9t7i51CBjJK"
      },
      "source": [
        "ser_patients_sum = df_kanja[\"date\"].value_counts().sort_index()"
      ],
      "execution_count": 341,
      "outputs": []
    },
    {
      "cell_type": "code",
      "metadata": {
        "id": "kajPXA7VGj8T"
      },
      "source": [
        "dt_range = pd.date_range(ser_patients_sum.index[0], df_kensa.index[-1])\r\n",
        "ser_patients_sum = ser_patients_sum.reindex(index=dt_range, fill_value=0)"
      ],
      "execution_count": 342,
      "outputs": []
    },
    {
      "cell_type": "code",
      "metadata": {
        "id": "cBuzjQTiG-wJ"
      },
      "source": [
        "df_patients_sum = pd.DataFrame({\"小計\": ser_patients_sum})"
      ],
      "execution_count": 343,
      "outputs": []
    },
    {
      "cell_type": "code",
      "metadata": {
        "id": "E-_Nu5u2JFjb"
      },
      "source": [
        "df_patients_sum[\"日付\"] = df_patients_sum.index.strftime(\"%Y-%m-%dT08:00:00.000Z\")"
      ],
      "execution_count": 344,
      "outputs": []
    },
    {
      "cell_type": "code",
      "metadata": {
        "id": "pc8YhKKfI_ss"
      },
      "source": [
        "data[\"patients_summary\"] = {\r\n",
        "    \"data\": df_patients_sum.to_dict(orient=\"records\"),\r\n",
        "    \"date\": str_update,\r\n",
        "}"
      ],
      "execution_count": 345,
      "outputs": []
    },
    {
      "cell_type": "markdown",
      "metadata": {
        "id": "jyXpI4CXJYUT"
      },
      "source": [
        "## patients"
      ]
    },
    {
      "cell_type": "code",
      "metadata": {
        "id": "h3DEvo4eLRk6"
      },
      "source": [
        "df_kanja.rename(columns={\"NO.\": \"No\"}, inplace=True)"
      ],
      "execution_count": 346,
      "outputs": []
    },
    {
      "cell_type": "code",
      "metadata": {
        "id": "Cqh4_gSLXIuX"
      },
      "source": [
        "df_kanja[\"判明日\"] = df_kanja[\"判明日\"].fillna(\"調査中\")"
      ],
      "execution_count": 347,
      "outputs": []
    },
    {
      "cell_type": "code",
      "metadata": {
        "id": "qz2R1FFmLhvL"
      },
      "source": [
        "df_kanja[\"リリース日\"] = df_kanja[\"date\"].dt.strftime(\"%Y-%m-%dT08:00:00.000Z\")\r\n",
        "df_kanja[\"リリース日\"] = df_kanja[\"リリース日\"].mask(df_kanja[\"判明日\"] == \"調査中\", \"調査中\")"
      ],
      "execution_count": 348,
      "outputs": []
    },
    {
      "cell_type": "code",
      "metadata": {
        "id": "Z2YAGNiJMYkq"
      },
      "source": [
        "df_kanja[\"date\"] = df_kanja[\"date\"].dt.strftime(\"%Y-%m-%d\")\r\n",
        "df_kanja[\"date\"] = df_kanja[\"date\"].mask(df_kanja[\"判明日\"] == \"調査中\", \"調査中\").fillna(\"調査中\")"
      ],
      "execution_count": 349,
      "outputs": []
    },
    {
      "cell_type": "code",
      "metadata": {
        "id": "u3mOqMynHmxS"
      },
      "source": [
        "df_kanja[\"退院\"] = \"\""
      ],
      "execution_count": 350,
      "outputs": []
    },
    {
      "cell_type": "code",
      "metadata": {
        "id": "5oU-dBJAHobr"
      },
      "source": [
        "df_patients = df_kanja.loc[:, [\"No\", \"リリース日\", \"年代\", \"性別\", \"居住地\", \"退院\", \"date\"]].copy()\r\n",
        "df_patients.dropna(subset=[\"リリース日\"], inplace=True)\r\n",
        "df_patients.fillna(\"\", inplace=True)"
      ],
      "execution_count": 351,
      "outputs": []
    },
    {
      "cell_type": "code",
      "metadata": {
        "id": "bCmegNTRUFux"
      },
      "source": [
        "data[\"patients\"] = {\r\n",
        "    \"data\": df_patients.to_dict(orient=\"records\"),\r\n",
        "    \"date\": str_update,\r\n",
        "}"
      ],
      "execution_count": 352,
      "outputs": []
    },
    {
      "cell_type": "code",
      "metadata": {
        "id": "mBqKL425h4WR"
      },
      "source": [
        "dumps_json(\"data.json\", data, \"data\")"
      ],
      "execution_count": 353,
      "outputs": []
    }
  ]
}