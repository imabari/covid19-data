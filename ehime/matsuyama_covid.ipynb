{
  "nbformat": 4,
  "nbformat_minor": 0,
  "metadata": {
    "colab": {
      "name": "matsuyama_covid.ipynb",
      "provenance": [],
      "toc_visible": true,
      "authorship_tag": "ABX9TyP1Qy2+Bc7mSAKpoh9NQhwb",
      "include_colab_link": true
    },
    "kernelspec": {
      "name": "python3",
      "display_name": "Python 3"
    }
  },
  "cells": [
    {
      "cell_type": "markdown",
      "metadata": {
        "id": "view-in-github",
        "colab_type": "text"
      },
      "source": [
        "<a href=\"https://colab.research.google.com/github/imabari/covid19-data/blob/master/ehime/matsuyama_covid.ipynb\" target=\"_parent\"><img src=\"https://colab.research.google.com/assets/colab-badge.svg\" alt=\"Open In Colab\"/></a>"
      ]
    },
    {
      "cell_type": "code",
      "metadata": {
        "id": "Qq_fQmsLlaxQ"
      },
      "source": [
        "!pip install japanize-matplotlib"
      ],
      "execution_count": null,
      "outputs": []
    },
    {
      "cell_type": "code",
      "metadata": {
        "id": "eSPP83eK6ZLe"
      },
      "source": [
        "import datetime\r\n",
        "import pandas as pd"
      ],
      "execution_count": null,
      "outputs": []
    },
    {
      "cell_type": "code",
      "metadata": {
        "id": "_4BlIAjxFeyM"
      },
      "source": [
        "import matplotlib.pyplot as plt\r\n",
        "import matplotlib.dates as mdates"
      ],
      "execution_count": null,
      "outputs": []
    },
    {
      "cell_type": "code",
      "metadata": {
        "id": "0bZmcn8vlaJ4"
      },
      "source": [
        "import japanize_matplotlib"
      ],
      "execution_count": null,
      "outputs": []
    },
    {
      "cell_type": "code",
      "metadata": {
        "id": "LWiaUZuMF7Qt"
      },
      "source": [
        "import matplotlib as mpl\r\n",
        "mpl.rcParams[\"figure.dpi\"] = 200"
      ],
      "execution_count": null,
      "outputs": []
    },
    {
      "cell_type": "code",
      "metadata": {
        "id": "SQY1U9BJlxrz"
      },
      "source": [
        "def str2date(ser):\r\n",
        "    df_date = (\r\n",
        "        ser.str.extract(\"令和(\\d{1,2})年度?(\\d{1,2})月(\\d{1,2})日\")\r\n",
        "        .rename(columns={0: \"year\", 1: \"month\", 2: \"day\"})\r\n",
        "        .astype(int)\r\n",
        "    )\r\n",
        "    df_date[\"year\"] = df_date[\"year\"].replace({2: 2020, 3: 2021})\r\n",
        "\r\n",
        "    return pd.to_datetime(df_date, errors=\"coerce\")"
      ],
      "execution_count": null,
      "outputs": []
    },
    {
      "cell_type": "code",
      "metadata": {
        "id": "1pWDkPWLmY69"
      },
      "source": [
        "def str2normalize(df):\r\n",
        "    for col in df.select_dtypes(include=object).columns:\r\n",
        "        df[col] = df[col].str.strip().str.normalize(\"NFKC\").str.replace(\" \", \"\")\r\n",
        "    \r\n",
        "    return df"
      ],
      "execution_count": null,
      "outputs": []
    },
    {
      "cell_type": "code",
      "metadata": {
        "id": "GzX3GjGa2q9Q"
      },
      "source": [
        "def str2data(ser):\r\n",
        "    df = (\r\n",
        "        ser.str.extractall(\r\n",
        "            \"(.+?):(\\d{1,3})人\",\r\n",
        "        )\r\n",
        "        .droplevel(1)\r\n",
        "        .rename(columns={0: ser.name, 1: \"人数\"})\r\n",
        "        .pivot(columns=ser.name, values=\"人数\")\r\n",
        "        .fillna(0)\r\n",
        "        .astype(int)\r\n",
        "    )\r\n",
        "    return df"
      ],
      "execution_count": null,
      "outputs": []
    },
    {
      "cell_type": "markdown",
      "metadata": {
        "id": "bmON_TS9pqig"
      },
      "source": [
        "# 2020/03/～2021/01/04"
      ]
    },
    {
      "cell_type": "code",
      "metadata": {
        "id": "ZnqEYIU8iUPQ"
      },
      "source": [
        "urls = [\r\n",
        "    \"https://www.city.matsuyama.ehime.jp/kurashi/iryo/hokenyobo/kansensho/tyuui/mcovid_R0210made.html\",\r\n",
        "    \"https://www.city.matsuyama.ehime.jp/kurashi/iryo/hokenyobo/kansensho/tyuui/mcovid_R0211.html\",\r\n",
        "    \"https://www.city.matsuyama.ehime.jp/kurashi/iryo/hokenyobo/kansensho/tyuui/mcovid_R0212-01.html\",\r\n",
        "]"
      ],
      "execution_count": null,
      "outputs": []
    },
    {
      "cell_type": "code",
      "metadata": {
        "id": "vmkJ3xNjikiN"
      },
      "source": [
        "dfs = [pd.read_html(url)[0].sort_index(ascending=False) for url in urls]"
      ],
      "execution_count": null,
      "outputs": []
    },
    {
      "cell_type": "code",
      "metadata": {
        "id": "VoUaYXzZmt5O"
      },
      "source": [
        "df1 = str2normalize(pd.concat(dfs).reset_index(drop=True))"
      ],
      "execution_count": null,
      "outputs": []
    },
    {
      "cell_type": "code",
      "metadata": {
        "id": "IlvXlxdp4hAW"
      },
      "source": [
        "df1[\"date\"] = str2date(df1[\"発表日\"])"
      ],
      "execution_count": null,
      "outputs": []
    },
    {
      "cell_type": "code",
      "metadata": {
        "id": "Wh089MapRNzI"
      },
      "source": [
        "df1 = df1[~df1[\"市内事例（県内）\"].str.contains(\"陰性\")]"
      ],
      "execution_count": null,
      "outputs": []
    },
    {
      "cell_type": "code",
      "metadata": {
        "id": "2OiWKh1K7fH1"
      },
      "source": [
        "df1"
      ],
      "execution_count": null,
      "outputs": []
    },
    {
      "cell_type": "markdown",
      "metadata": {
        "id": "KAtJPns8qBQX"
      },
      "source": [
        "# 2021/01/05～"
      ]
    },
    {
      "cell_type": "markdown",
      "metadata": {
        "id": "AtX-rgW3mylE"
      },
      "source": [
        "## 削除する日付\r\n",
        "\r\n",
        "+ 2021/01/28　1人のため1/29とセルが結合されているため重複してしまう"
      ]
    },
    {
      "cell_type": "code",
      "metadata": {
        "id": "di1oZF48mZDu"
      },
      "source": [
        "del_date = [datetime.datetime(2021, 1, 28)]"
      ],
      "execution_count": null,
      "outputs": []
    },
    {
      "cell_type": "code",
      "metadata": {
        "id": "4FGf7l5t6Ry-"
      },
      "source": [
        "df2 = str2normalize(\r\n",
        "    pd.read_html(\r\n",
        "        \"https://www.city.matsuyama.ehime.jp/kurashi/iryo/hokenyobo/kansensho/tyuui/sinngatakorona.html\"\r\n",
        "    )[2]\r\n",
        "    .sort_index(ascending=False)\r\n",
        "    .dropna(thresh=3)\r\n",
        "    .drop_duplicates()\r\n",
        "    .reset_index(drop=True)\r\n",
        ")"
      ],
      "execution_count": null,
      "outputs": []
    },
    {
      "cell_type": "code",
      "metadata": {
        "id": "aJkE5l9enS5c"
      },
      "source": [
        "df2[\"date\"] = str2date(df2[\"発表日\"])"
      ],
      "execution_count": null,
      "outputs": []
    },
    {
      "cell_type": "code",
      "metadata": {
        "id": "bxk7icaolySd"
      },
      "source": [
        "df2 = df2[~df2[\"date\"].isin(del_date)]"
      ],
      "execution_count": null,
      "outputs": []
    },
    {
      "cell_type": "code",
      "metadata": {
        "id": "0QA9v8G7ozez"
      },
      "source": [
        "df2"
      ],
      "execution_count": null,
      "outputs": []
    },
    {
      "cell_type": "markdown",
      "metadata": {
        "id": "ZF8fZtkwn0ik"
      },
      "source": [
        "# 日付"
      ]
    },
    {
      "cell_type": "code",
      "metadata": {
        "id": "D4qML19e6DYH"
      },
      "source": [
        "df_case = str2data(df2[\"事例\"]).join(df2[\"date\"]).set_index(\"date\")\r\n",
        "df_case"
      ],
      "execution_count": null,
      "outputs": []
    },
    {
      "cell_type": "code",
      "metadata": {
        "id": "KXzWTtO94zPO"
      },
      "source": [
        "s1_date = df1[\"date\"].value_counts().sort_index()"
      ],
      "execution_count": null,
      "outputs": []
    },
    {
      "cell_type": "code",
      "metadata": {
        "id": "epPtEkGVlZhc"
      },
      "source": [
        "s2_date = df_case.sum(axis=1)"
      ],
      "execution_count": null,
      "outputs": []
    },
    {
      "cell_type": "code",
      "metadata": {
        "id": "ClKBEaoZ64-X"
      },
      "source": [
        "s_date = pd.concat([s1_date, s2_date]).sort_index()"
      ],
      "execution_count": null,
      "outputs": []
    },
    {
      "cell_type": "code",
      "metadata": {
        "id": "BxNykdjtoAU_"
      },
      "source": [
        "# s_date.index = s_date.index - datetime.timedelta(days=1)"
      ],
      "execution_count": null,
      "outputs": []
    },
    {
      "cell_type": "code",
      "metadata": {
        "id": "kOe2SIqaFtR0"
      },
      "source": [
        "s_date"
      ],
      "execution_count": null,
      "outputs": []
    },
    {
      "cell_type": "code",
      "metadata": {
        "id": "fU3MICilkkbA"
      },
      "source": [
        "s_date.sum()"
      ],
      "execution_count": null,
      "outputs": []
    },
    {
      "cell_type": "code",
      "metadata": {
        "id": "XX4jWWP77Dev"
      },
      "source": [
        "s_date.resample(\"M\").sum()"
      ],
      "execution_count": null,
      "outputs": []
    },
    {
      "cell_type": "code",
      "metadata": {
        "id": "tDvVSxD_Et6-"
      },
      "source": [
        "locator = mdates.AutoDateLocator()\r\n",
        "formatter = mdates.ConciseDateFormatter(locator)\r\n",
        "fig, ax = plt.subplots()\r\n",
        "ax.xaxis.set_major_locator(locator)\r\n",
        "ax.xaxis.set_major_formatter(formatter)\r\n",
        "\r\n",
        "ax.bar(s_date.index, s_date.values, width=1)\r\n",
        "\r\n",
        "plt.savefig(\"01.png\", dpi=200, bbox_inches=\"tight\")\r\n",
        "plt.show()"
      ],
      "execution_count": null,
      "outputs": []
    },
    {
      "cell_type": "markdown",
      "metadata": {
        "id": "-FA5Dyconb9l"
      },
      "source": [
        "# 陽性者累計"
      ]
    },
    {
      "cell_type": "code",
      "metadata": {
        "id": "FWPxqRvgG2gs"
      },
      "source": [
        "s_date.sum()"
      ],
      "execution_count": null,
      "outputs": []
    },
    {
      "cell_type": "code",
      "metadata": {
        "id": "x5gDUm-vV4ag"
      },
      "source": [
        "s_date.asfreq(\"D\", fill_value=0).to_csv(\"matsuyama.tsv\", sep=\"\\t\")"
      ],
      "execution_count": null,
      "outputs": []
    },
    {
      "cell_type": "markdown",
      "metadata": {
        "id": "-oEMuxm_n4eo"
      },
      "source": [
        "# 年代"
      ]
    },
    {
      "cell_type": "code",
      "metadata": {
        "id": "SdTtgmbMn8gJ"
      },
      "source": [
        "df1_ages = pd.crosstab(df1[\"date\"], df1[\"年代\"])\r\n",
        "df2_ages = str2data(df2[\"年代\"]).join(df2[\"date\"]).set_index(\"date\")\r\n",
        "\r\n",
        "df_ages = pd.concat([df1_ages, df2_ages]).fillna(0).astype(int).sort_index()"
      ],
      "execution_count": null,
      "outputs": []
    },
    {
      "cell_type": "code",
      "metadata": {
        "id": "hwVTypoJ4wnQ"
      },
      "source": [
        "df_ages"
      ],
      "execution_count": null,
      "outputs": []
    },
    {
      "cell_type": "code",
      "metadata": {
        "id": "sKX53muMr2MR"
      },
      "source": [
        "df_ages.sum().plot.barh()\r\n",
        "\r\n",
        "plt.savefig(\"02.png\", dpi=200, bbox_inches=\"tight\")\r\n",
        "plt.show()"
      ],
      "execution_count": null,
      "outputs": []
    },
    {
      "cell_type": "markdown",
      "metadata": {
        "id": "C2lD0AtmpYRY"
      },
      "source": [
        "# 性別"
      ]
    },
    {
      "cell_type": "code",
      "metadata": {
        "id": "-XKWgn-z5K0_"
      },
      "source": [
        "df1_sexs = pd.crosstab(df1[\"date\"], df1[\"性別\"])\r\n",
        "\r\n",
        "df2_sexs = str2data(df2[\"性別\"]).join(df2[\"date\"]).set_index(\"date\")\r\n",
        "df2_sexs[\"男性\"] += df2_sexs[\"男\"]\r\n",
        "df2_sexs[\"女性\"] += df2_sexs[\"女\"]\r\n",
        "df2_sexs.drop([\"男\", \"女\"], axis=1, inplace=True)\r\n",
        "\r\n",
        "df_sexs = pd.concat([df1_sexs, df2_sexs]).fillna(0).astype(int).sort_index()"
      ],
      "execution_count": null,
      "outputs": []
    },
    {
      "cell_type": "code",
      "metadata": {
        "id": "VENxaiDWq13n"
      },
      "source": [
        "df_sexs"
      ],
      "execution_count": null,
      "outputs": []
    },
    {
      "cell_type": "code",
      "metadata": {
        "id": "H34uBmgvsGaA"
      },
      "source": [
        "df_sexs.sum().plot.barh()\r\n",
        "\r\n",
        "plt.savefig(\"03.png\", dpi=200, bbox_inches=\"tight\")\r\n",
        "plt.show()"
      ],
      "execution_count": null,
      "outputs": []
    },
    {
      "cell_type": "markdown",
      "metadata": {
        "id": "OWFmmacPrDKJ"
      },
      "source": [
        "# 職業等"
      ]
    },
    {
      "cell_type": "code",
      "metadata": {
        "id": "VQ6JPkR5tU7Q"
      },
      "source": [
        "df1[\"職業等\"] = df1[\"職業等\"].replace(\r\n",
        "    {\r\n",
        "        \"入院患者等\": \"入院患者\",\r\n",
        "        \"学校関係者※学校での活動なし\": \"学校関係者\",\r\n",
        "        \"看護職員※居住地は松前町\": \"看護職員\",\r\n",
        "        \"医療機関Aに勤務する職員\": \"医療機関職員\",\r\n",
        "        \"医療機関職員※居住地は東温市\": \"医療機関職員\",\r\n",
        "        \"医療機関Aに勤務する介護職員\": \"介護職員\", \r\n",
        "    }\r\n",
        ")"
      ],
      "execution_count": null,
      "outputs": []
    },
    {
      "cell_type": "code",
      "metadata": {
        "id": "oQZ7TiPr23nY"
      },
      "source": [
        "df1_works = pd.crosstab(df1[\"date\"], df1[\"職業等\"])\r\n",
        "df2_works = str2data(df2[\"職業等\"]).join(df2[\"date\"]).set_index(\"date\")\r\n",
        "\r\n",
        "df_works = pd.concat([df1_works, df2_works]).fillna(0).astype(int).sort_index()"
      ],
      "execution_count": null,
      "outputs": []
    },
    {
      "cell_type": "code",
      "metadata": {
        "id": "RerKtEV5sNx5"
      },
      "source": [
        "df_works.sum()"
      ],
      "execution_count": null,
      "outputs": []
    },
    {
      "cell_type": "code",
      "metadata": {
        "id": "v-gWeD1E9mDR"
      },
      "source": [
        "df_works.sum().plot.barh()\r\n",
        "\r\n",
        "plt.savefig(\"04.png\", dpi=200, bbox_inches=\"tight\")\r\n",
        "plt.show()"
      ],
      "execution_count": null,
      "outputs": []
    },
    {
      "cell_type": "code",
      "metadata": {
        "id": "0WUN9qE9rdyJ"
      },
      "source": [
        "df_works"
      ],
      "execution_count": null,
      "outputs": []
    }
  ]
}