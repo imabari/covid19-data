{
  "nbformat": 4,
  "nbformat_minor": 0,
  "metadata": {
    "colab": {
      "name": "hyougo_excel_check.ipynb",
      "provenance": [],
      "collapsed_sections": [],
      "toc_visible": true,
      "authorship_tag": "ABX9TyNm0PB8tx/7jIdUrDBgeaH2",
      "include_colab_link": true
    },
    "kernelspec": {
      "name": "python3",
      "display_name": "Python 3"
    }
  },
  "cells": [
    {
      "cell_type": "markdown",
      "metadata": {
        "id": "view-in-github",
        "colab_type": "text"
      },
      "source": [
        "<a href=\"https://colab.research.google.com/github/imabari/hyougo/blob/master/hyougo_excel_check.ipynb\" target=\"_parent\"><img src=\"https://colab.research.google.com/assets/colab-badge.svg\" alt=\"Open In Colab\"/></a>"
      ]
    },
    {
      "cell_type": "markdown",
      "metadata": {
        "id": "JI61IuYf-LyM",
        "colab_type": "text"
      },
      "source": [
        "# 検査陽性者の状況"
      ]
    },
    {
      "cell_type": "code",
      "metadata": {
        "id": "W-X3Y3cxp4Sg",
        "colab_type": "code",
        "colab": {}
      },
      "source": [
        "import pandas as pd\n",
        "import datetime"
      ],
      "execution_count": 0,
      "outputs": []
    },
    {
      "cell_type": "code",
      "metadata": {
        "id": "lgm-5tIwuiJM",
        "colab_type": "code",
        "colab": {}
      },
      "source": [
        "# ファイルをダウンロード\n",
        "!wget -t 0 https://web.pref.hyogo.lg.jp/kk03/documents/yousei.xlsx -O yousei.xlsx"
      ],
      "execution_count": 0,
      "outputs": []
    },
    {
      "cell_type": "code",
      "metadata": {
        "id": "rAAiVj4qitcj",
        "colab_type": "code",
        "colab": {}
      },
      "source": [
        "df0 = pd.read_excel(\"yousei.xlsx\", index_col=\"発表年月日\")"
      ],
      "execution_count": 0,
      "outputs": []
    },
    {
      "cell_type": "code",
      "metadata": {
        "id": "m4oKMQoO903e",
        "colab_type": "code",
        "colab": {}
      },
      "source": [
        "df0.columns = df0.columns.map(lambda s: s.replace(\"（累計）\", \"\").strip())"
      ],
      "execution_count": 0,
      "outputs": []
    },
    {
      "cell_type": "code",
      "metadata": {
        "id": "A2kO6iF3JhY2",
        "colab_type": "code",
        "colab": {}
      },
      "source": [
        "df0.to_csv(\"yousei.tsv\", sep=\"\\t\")"
      ],
      "execution_count": 0,
      "outputs": []
    },
    {
      "cell_type": "markdown",
      "metadata": {
        "id": "Gb_R1ElSki7D",
        "colab_type": "text"
      },
      "source": [
        "## 検査陽性者の状況（EXCEL）"
      ]
    },
    {
      "cell_type": "code",
      "metadata": {
        "id": "WhA3M4XIuBBN",
        "colab_type": "code",
        "colab": {}
      },
      "source": [
        "df0.tail(3)"
      ],
      "execution_count": 0,
      "outputs": []
    },
    {
      "cell_type": "code",
      "metadata": {
        "id": "tKKa_7k_v0Tn",
        "colab_type": "code",
        "colab": {}
      },
      "source": [
        "df0.drop(\"発表時間\", axis=1, inplace=True)"
      ],
      "execution_count": 0,
      "outputs": []
    },
    {
      "cell_type": "markdown",
      "metadata": {
        "id": "GRd8Co8nBPlF",
        "colab_type": "text"
      },
      "source": [
        "# PCR検査数"
      ]
    },
    {
      "cell_type": "code",
      "metadata": {
        "id": "K57RGURP28qL",
        "colab_type": "code",
        "colab": {}
      },
      "source": [
        "# ファイルをダウンロード\n",
        "!wget -t 0 https://web.pref.hyogo.lg.jp/kk03/documents/pcr.xlsx -O pcr.xlsx"
      ],
      "execution_count": 0,
      "outputs": []
    },
    {
      "cell_type": "code",
      "metadata": {
        "id": "nRqCwJDN_MDv",
        "colab_type": "code",
        "colab": {}
      },
      "source": [
        "df1 = pd.read_excel(\"pcr.xlsx\", index_col=\"年月日\").fillna(0).astype(int)"
      ],
      "execution_count": 0,
      "outputs": []
    },
    {
      "cell_type": "code",
      "metadata": {
        "id": "4ZhDTE_PJrWp",
        "colab_type": "code",
        "colab": {}
      },
      "source": [
        "df1.to_csv(\"pcr.tsv\", sep=\"\\t\")"
      ],
      "execution_count": 0,
      "outputs": []
    },
    {
      "cell_type": "markdown",
      "metadata": {
        "id": "n-1vCiCc_rRB",
        "colab_type": "text"
      },
      "source": [
        "## PCR検査日別件数（直近10件）\n",
        "\n",
        "+ 最新日付を確認\n",
        "+ 陽性患者数を確認\n",
        "+ 検査実施数を確認"
      ]
    },
    {
      "cell_type": "code",
      "metadata": {
        "id": "Ui4fPlJE_UO8",
        "colab_type": "code",
        "colab": {}
      },
      "source": [
        "# 日別\n",
        "df1.tail(10)"
      ],
      "execution_count": 0,
      "outputs": []
    },
    {
      "cell_type": "markdown",
      "metadata": {
        "id": "2ufxVkYbZZCY",
        "colab_type": "text"
      },
      "source": [
        "## ※PCR検査累計件数（直近10件）\n",
        "\n",
        "+ 最新日付を確認\n",
        "+ 陽性患者数を確認\n",
        "+ 検査実施数を確認"
      ]
    },
    {
      "cell_type": "code",
      "metadata": {
        "id": "r16DrHuIYRM_",
        "colab_type": "code",
        "colab": {}
      },
      "source": [
        "# 累計\n",
        "df1.cumsum().tail(10)"
      ],
      "execution_count": 0,
      "outputs": []
    },
    {
      "cell_type": "markdown",
      "metadata": {
        "id": "X4NnDEYr-Hn1",
        "colab_type": "text"
      },
      "source": [
        "## PCR検査累計と陽性累計の確認\n",
        "\n",
        "+ yousei.xlsxとpcr.xlsの最終行をチェック"
      ]
    },
    {
      "cell_type": "code",
      "metadata": {
        "id": "1DLOXOtt-IJM",
        "colab_type": "code",
        "colab": {}
      },
      "source": [
        "df0.tail(1)"
      ],
      "execution_count": 0,
      "outputs": []
    },
    {
      "cell_type": "code",
      "metadata": {
        "id": "bfpNMSQi-Ns8",
        "colab_type": "code",
        "colab": {}
      },
      "source": [
        "df1.cumsum().tail(1)"
      ],
      "execution_count": 0,
      "outputs": []
    },
    {
      "cell_type": "markdown",
      "metadata": {
        "id": "sAR0jOzh-xSV",
        "colab_type": "text"
      },
      "source": [
        "# 陽性患者情報"
      ]
    },
    {
      "cell_type": "code",
      "metadata": {
        "id": "AYBpRetDp4Pu",
        "colab_type": "code",
        "colab": {}
      },
      "source": [
        "# ファイルをダウンロード\n",
        "!wget -t 0 https://web.pref.hyogo.lg.jp/kk03/documents/corona-kanjajokyou.xlsx -O kanja.xlsx"
      ],
      "execution_count": 0,
      "outputs": []
    },
    {
      "cell_type": "code",
      "metadata": {
        "id": "i0PyMRHkp4VP",
        "colab_type": "code",
        "colab": {}
      },
      "source": [
        "df_head = pd.read_excel(\"kanja.xlsx\", header=None, skiprows=3).dropna(how=\"all\", axis=1)"
      ],
      "execution_count": 0,
      "outputs": []
    },
    {
      "cell_type": "code",
      "metadata": {
        "id": "NboEXfE5J_Ec",
        "colab_type": "code",
        "colab": {}
      },
      "source": [
        "df_head.to_csv(\"kanaja.tsv\", index=False, header=False, sep=\"\\t\")"
      ],
      "execution_count": 0,
      "outputs": []
    },
    {
      "cell_type": "code",
      "metadata": {
        "id": "T7918QvYoADT",
        "colab_type": "code",
        "colab": {}
      },
      "source": [
        "df_head.columns = [\"\".join(i).strip() for i in df_head.head(2).fillna(\"\").T.values]"
      ],
      "execution_count": 0,
      "outputs": []
    },
    {
      "cell_type": "code",
      "metadata": {
        "id": "aLyuBq4yhsaV",
        "colab_type": "code",
        "colab": {}
      },
      "source": [
        "df_tmp = df_head.iloc[2:, :].copy().reset_index(drop=True)"
      ],
      "execution_count": 0,
      "outputs": []
    },
    {
      "cell_type": "code",
      "metadata": {
        "id": "yXrzqDiFdX2Y",
        "colab_type": "code",
        "colab": {}
      },
      "source": [
        "df_tmp.fillna(\"\")"
      ],
      "execution_count": 0,
      "outputs": []
    },
    {
      "cell_type": "code",
      "metadata": {
        "id": "VXSe3toB9qVA",
        "colab_type": "code",
        "colab": {}
      },
      "source": [
        "df2 = df_tmp[df_tmp[\"番号\"].notnull()].copy()"
      ],
      "execution_count": 0,
      "outputs": []
    },
    {
      "cell_type": "code",
      "metadata": {
        "id": "fhY3y6MPp4X3",
        "colab_type": "code",
        "colab": {}
      },
      "source": [
        "# 空列を削除\n",
        "df2.dropna(how=\"all\", axis=1, inplace=True)"
      ],
      "execution_count": 0,
      "outputs": []
    },
    {
      "cell_type": "code",
      "metadata": {
        "id": "mlaNTM199ytv",
        "colab_type": "code",
        "colab": {}
      },
      "source": [
        "df2.columns = df2.columns.map(lambda s: s.replace(\"\\n\", \"\"))"
      ],
      "execution_count": 0,
      "outputs": []
    },
    {
      "cell_type": "code",
      "metadata": {
        "id": "IRWeWLi_R3f6",
        "colab_type": "code",
        "colab": {}
      },
      "source": [
        "df2[\"年代\"] = df2[\"年代\"].replace(\"10歳未満\", \"0\")"
      ],
      "execution_count": 0,
      "outputs": []
    },
    {
      "cell_type": "code",
      "metadata": {
        "id": "GInBycJ897-X",
        "colab_type": "code",
        "colab": {}
      },
      "source": [
        "df2[\"番号\"] = df2[\"番号\"].astype(\"int64\")\n",
        "df2[\"年代\"] = df2[\"年代\"].astype(\"int64\")"
      ],
      "execution_count": 0,
      "outputs": []
    },
    {
      "cell_type": "code",
      "metadata": {
        "id": "PuT6EFhS-C9a",
        "colab_type": "code",
        "colab": {}
      },
      "source": [
        "df2[\"発表日\"] = df2[\"発表日\"].apply(lambda date: pd.to_datetime(date, unit='D', origin=pd.Timestamp('1899/12/30')))"
      ],
      "execution_count": 0,
      "outputs": []
    },
    {
      "cell_type": "code",
      "metadata": {
        "id": "7AQYYwZU-DBP",
        "colab_type": "code",
        "colab": {}
      },
      "source": [
        "df2[\"備考欄\"] = df2[\"備考欄\"].str.replace(\"\\n\", \"\")"
      ],
      "execution_count": 0,
      "outputs": []
    },
    {
      "cell_type": "code",
      "metadata": {
        "id": "8w18ZGocp4aW",
        "colab_type": "code",
        "colab": {}
      },
      "source": [
        "df2.set_index(\"番号\", inplace=True)"
      ],
      "execution_count": 0,
      "outputs": []
    },
    {
      "cell_type": "markdown",
      "metadata": {
        "id": "KJ5TiWg_qOCP",
        "colab_type": "text"
      },
      "source": [
        "## ※陽性患者数集計（累計）\n",
        "\n",
        "+ 陽性患者の属性の累計を確認"
      ]
    },
    {
      "cell_type": "code",
      "metadata": {
        "id": "s71kriS0p4hJ",
        "colab_type": "code",
        "colab": {}
      },
      "source": [
        "len(df2)"
      ],
      "execution_count": 0,
      "outputs": []
    },
    {
      "cell_type": "markdown",
      "metadata": {
        "id": "HePs_cnnqSy4",
        "colab_type": "text"
      },
      "source": [
        "## ※陽性患者数集計（日別）\n",
        "\n",
        "+ 最新日付を確認\n",
        "+ 陽性患者数を確認"
      ]
    },
    {
      "cell_type": "code",
      "metadata": {
        "id": "F_SRePnbqMJ_",
        "colab_type": "code",
        "colab": {}
      },
      "source": [
        "df2[\"発表日\"].value_counts().sort_index().reset_index().tail(10)"
      ],
      "execution_count": 0,
      "outputs": []
    },
    {
      "cell_type": "code",
      "metadata": {
        "id": "ZEcQVQ95EQT2",
        "colab_type": "code",
        "colab": {}
      },
      "source": [
        "# 確認用\n",
        "df1.tail(10)"
      ],
      "execution_count": 0,
      "outputs": []
    },
    {
      "cell_type": "markdown",
      "metadata": {
        "id": "_Ve9uutPqYOn",
        "colab_type": "text"
      },
      "source": [
        "## 陽性患者の属性（20件）\n",
        "\n",
        "+ Noを最大値を確認（陽性患者数の合計と一致）\n",
        "+ 陽性患者の属性を確認"
      ]
    },
    {
      "cell_type": "code",
      "metadata": {
        "id": "UCqZnGgJqMM2",
        "colab_type": "code",
        "colab": {}
      },
      "source": [
        "# 降順の場合\n",
        "df2.loc[:, [\"発表日\", \"居住地\", \"年代\", \"性別\", \"備考欄\"]].head(20)"
      ],
      "execution_count": 0,
      "outputs": []
    },
    {
      "cell_type": "markdown",
      "metadata": {
        "id": "nA3wyNw-qauf",
        "colab_type": "text"
      },
      "source": [
        "## ※年代集計\n",
        "\n",
        "+ 年代別陽性患者数の確認"
      ]
    },
    {
      "cell_type": "code",
      "metadata": {
        "id": "YIe5D6CMqMPn",
        "colab_type": "code",
        "colab": {}
      },
      "source": [
        "df2[\"年代\"].value_counts().sort_index().reset_index()"
      ],
      "execution_count": 0,
      "outputs": []
    },
    {
      "cell_type": "markdown",
      "metadata": {
        "id": "nsIL80-1wlgE",
        "colab_type": "text"
      },
      "source": [
        "## クラスタ確認（Excelより抽出）\n",
        "\n",
        "+ クラスター別陽性患者数の確認"
      ]
    },
    {
      "cell_type": "code",
      "metadata": {
        "id": "xDLp2f_JwkP2",
        "colab_type": "code",
        "colab": {}
      },
      "source": [
        "df3 = df_tmp[df_tmp[\"番号\"].isnull()].copy()\n",
        "\n",
        "# 空列を削除\n",
        "df3.dropna(how='all', axis=1, inplace=True)"
      ],
      "execution_count": 0,
      "outputs": []
    },
    {
      "cell_type": "code",
      "metadata": {
        "id": "KpeAlon4wkqb",
        "colab_type": "code",
        "colab": {}
      },
      "source": [
        "df3.fillna(\"\")"
      ],
      "execution_count": 0,
      "outputs": []
    },
    {
      "cell_type": "markdown",
      "metadata": {
        "id": "r_3UmiSmqfO2",
        "colab_type": "text"
      },
      "source": [
        "## ※クラスタ集計\n",
        "\n",
        "+ クラスター別陽性患者数の確認"
      ]
    },
    {
      "cell_type": "code",
      "metadata": {
        "id": "-vF0lbp9qMSm",
        "colab_type": "code",
        "colab": {}
      },
      "source": [
        "# クラスタのみを抽出\n",
        "df4 = df2.loc[:, \"認定こども園\":].copy()\n",
        "\n",
        "# クラスタ別にカウント\n",
        "df4.notnull().sum().reset_index()"
      ],
      "execution_count": 0,
      "outputs": []
    },
    {
      "cell_type": "code",
      "metadata": {
        "id": "Rot-QuGOgNzn",
        "colab_type": "code",
        "colab": {}
      },
      "source": [
        "# クラスタ別患者数\n",
        "df4.notnull().sum().sum()"
      ],
      "execution_count": 0,
      "outputs": []
    },
    {
      "cell_type": "markdown",
      "metadata": {
        "id": "iEc_y-ysD0A2",
        "colab_type": "text"
      },
      "source": [
        "## 該当なし"
      ]
    },
    {
      "cell_type": "code",
      "metadata": {
        "id": "S_HJ1LriDyUJ",
        "colab_type": "code",
        "colab": {}
      },
      "source": [
        "df4.isnull().all(axis=1).sum()"
      ],
      "execution_count": 0,
      "outputs": []
    },
    {
      "cell_type": "markdown",
      "metadata": {
        "id": "anCWM8WRqqxG",
        "colab_type": "text"
      },
      "source": [
        "## ※重複者集計\n",
        "\n",
        "+ クラスタ別陽性患者数の確認"
      ]
    },
    {
      "cell_type": "code",
      "metadata": {
        "id": "dvpmaSbXqqfP",
        "colab_type": "code",
        "colab": {}
      },
      "source": [
        "# クラスタの〇の数をカウントして2箇所以上の人をカウント\n",
        "duplication = df4.notnull().sum(axis=1) > 1\n",
        "duplication.sum()"
      ],
      "execution_count": 0,
      "outputs": []
    }
  ]
}