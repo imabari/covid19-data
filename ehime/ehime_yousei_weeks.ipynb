{
  "nbformat": 4,
  "nbformat_minor": 0,
  "metadata": {
    "colab": {
      "name": "ehime_yousei_weeks.ipynb",
      "provenance": [],
      "authorship_tag": "ABX9TyNfxa0licX7MXItQ4KC7z1K",
      "include_colab_link": true
    },
    "kernelspec": {
      "name": "python3",
      "display_name": "Python 3"
    },
    "language_info": {
      "name": "python"
    }
  },
  "cells": [
    {
      "cell_type": "markdown",
      "metadata": {
        "id": "view-in-github",
        "colab_type": "text"
      },
      "source": [
        "<a href=\"https://colab.research.google.com/github/imabari/covid19-data/blob/master/ehime/ehime_yousei_weeks.ipynb\" target=\"_parent\"><img src=\"https://colab.research.google.com/assets/colab-badge.svg\" alt=\"Open In Colab\"/></a>"
      ]
    },
    {
      "cell_type": "code",
      "metadata": {
        "id": "NUN_7ixDRW9k"
      },
      "source": [
        "import pandas as pd"
      ],
      "execution_count": 1,
      "outputs": []
    },
    {
      "cell_type": "code",
      "metadata": {
        "id": "VAlW7-dNR7pH"
      },
      "source": [
        "# オープンデータ読み込み\n",
        "df = pd.read_csv(\n",
        "    \"https://www.pref.ehime.jp/opendata-catalog/dataset/2174/resource/7073/380008_ehime_covid19_test_people.csv\",\n",
        "    index_col=0,\n",
        "    parse_dates=True,\n",
        ")"
      ],
      "execution_count": 2,
      "outputs": []
    },
    {
      "cell_type": "code",
      "metadata": {
        "colab": {
          "base_uri": "https://localhost:8080/",
          "height": 455
        },
        "id": "acbnlu3YSef1",
        "outputId": "818dcbd4-e43f-4ce7-ead8-6e518cc2877c"
      },
      "source": [
        "df"
      ],
      "execution_count": 3,
      "outputs": [
        {
          "output_type": "execute_result",
          "data": {
            "text/html": [
              "<div>\n",
              "<style scoped>\n",
              "    .dataframe tbody tr th:only-of-type {\n",
              "        vertical-align: middle;\n",
              "    }\n",
              "\n",
              "    .dataframe tbody tr th {\n",
              "        vertical-align: top;\n",
              "    }\n",
              "\n",
              "    .dataframe thead th {\n",
              "        text-align: right;\n",
              "    }\n",
              "</style>\n",
              "<table border=\"1\" class=\"dataframe\">\n",
              "  <thead>\n",
              "    <tr style=\"text-align: right;\">\n",
              "      <th></th>\n",
              "      <th>全国地方公共団体コード</th>\n",
              "      <th>都道府県名</th>\n",
              "      <th>市区町村名</th>\n",
              "      <th>検査実施_人数</th>\n",
              "      <th>陽性者_人数</th>\n",
              "      <th>備考</th>\n",
              "    </tr>\n",
              "    <tr>\n",
              "      <th>実施_年月日</th>\n",
              "      <th></th>\n",
              "      <th></th>\n",
              "      <th></th>\n",
              "      <th></th>\n",
              "      <th></th>\n",
              "      <th></th>\n",
              "    </tr>\n",
              "  </thead>\n",
              "  <tbody>\n",
              "    <tr>\n",
              "      <th>2020-02-01</th>\n",
              "      <td>380008</td>\n",
              "      <td>愛媛県</td>\n",
              "      <td>NaN</td>\n",
              "      <td>0</td>\n",
              "      <td>0</td>\n",
              "      <td>NaN</td>\n",
              "    </tr>\n",
              "    <tr>\n",
              "      <th>2020-02-02</th>\n",
              "      <td>380008</td>\n",
              "      <td>愛媛県</td>\n",
              "      <td>NaN</td>\n",
              "      <td>0</td>\n",
              "      <td>0</td>\n",
              "      <td>NaN</td>\n",
              "    </tr>\n",
              "    <tr>\n",
              "      <th>2020-02-03</th>\n",
              "      <td>380008</td>\n",
              "      <td>愛媛県</td>\n",
              "      <td>NaN</td>\n",
              "      <td>1</td>\n",
              "      <td>0</td>\n",
              "      <td>NaN</td>\n",
              "    </tr>\n",
              "    <tr>\n",
              "      <th>2020-02-04</th>\n",
              "      <td>380008</td>\n",
              "      <td>愛媛県</td>\n",
              "      <td>NaN</td>\n",
              "      <td>0</td>\n",
              "      <td>0</td>\n",
              "      <td>NaN</td>\n",
              "    </tr>\n",
              "    <tr>\n",
              "      <th>2020-02-05</th>\n",
              "      <td>380008</td>\n",
              "      <td>愛媛県</td>\n",
              "      <td>NaN</td>\n",
              "      <td>0</td>\n",
              "      <td>0</td>\n",
              "      <td>NaN</td>\n",
              "    </tr>\n",
              "    <tr>\n",
              "      <th>...</th>\n",
              "      <td>...</td>\n",
              "      <td>...</td>\n",
              "      <td>...</td>\n",
              "      <td>...</td>\n",
              "      <td>...</td>\n",
              "      <td>...</td>\n",
              "    </tr>\n",
              "    <tr>\n",
              "      <th>2021-04-15</th>\n",
              "      <td>380008</td>\n",
              "      <td>愛媛県</td>\n",
              "      <td>NaN</td>\n",
              "      <td>2776</td>\n",
              "      <td>45</td>\n",
              "      <td>NaN</td>\n",
              "    </tr>\n",
              "    <tr>\n",
              "      <th>2021-04-16</th>\n",
              "      <td>380008</td>\n",
              "      <td>愛媛県</td>\n",
              "      <td>NaN</td>\n",
              "      <td>1231</td>\n",
              "      <td>43</td>\n",
              "      <td>NaN</td>\n",
              "    </tr>\n",
              "    <tr>\n",
              "      <th>2021-04-17</th>\n",
              "      <td>380008</td>\n",
              "      <td>愛媛県</td>\n",
              "      <td>NaN</td>\n",
              "      <td>1285</td>\n",
              "      <td>48</td>\n",
              "      <td>NaN</td>\n",
              "    </tr>\n",
              "    <tr>\n",
              "      <th>2021-04-18</th>\n",
              "      <td>380008</td>\n",
              "      <td>愛媛県</td>\n",
              "      <td>NaN</td>\n",
              "      <td>389</td>\n",
              "      <td>15</td>\n",
              "      <td>NaN</td>\n",
              "    </tr>\n",
              "    <tr>\n",
              "      <th>2021-04-19</th>\n",
              "      <td>380008</td>\n",
              "      <td>愛媛県</td>\n",
              "      <td>NaN</td>\n",
              "      <td>393</td>\n",
              "      <td>28</td>\n",
              "      <td>NaN</td>\n",
              "    </tr>\n",
              "  </tbody>\n",
              "</table>\n",
              "<p>444 rows × 6 columns</p>\n",
              "</div>"
            ],
            "text/plain": [
              "            全国地方公共団体コード 都道府県名  市区町村名  検査実施_人数  陽性者_人数  備考\n",
              "実施_年月日                                                   \n",
              "2020-02-01       380008   愛媛県    NaN        0       0 NaN\n",
              "2020-02-02       380008   愛媛県    NaN        0       0 NaN\n",
              "2020-02-03       380008   愛媛県    NaN        1       0 NaN\n",
              "2020-02-04       380008   愛媛県    NaN        0       0 NaN\n",
              "2020-02-05       380008   愛媛県    NaN        0       0 NaN\n",
              "...                 ...   ...    ...      ...     ...  ..\n",
              "2021-04-15       380008   愛媛県    NaN     2776      45 NaN\n",
              "2021-04-16       380008   愛媛県    NaN     1231      43 NaN\n",
              "2021-04-17       380008   愛媛県    NaN     1285      48 NaN\n",
              "2021-04-18       380008   愛媛県    NaN      389      15 NaN\n",
              "2021-04-19       380008   愛媛県    NaN      393      28 NaN\n",
              "\n",
              "[444 rows x 6 columns]"
            ]
          },
          "metadata": {
            "tags": []
          },
          "execution_count": 3
        }
      ]
    },
    {
      "cell_type": "code",
      "metadata": {
        "id": "Gef4gqUhkSoY"
      },
      "source": [
        "# 公表日のため、確定日+1日\n",
        "df.index = df.index + pd.Timedelta(days=1)"
      ],
      "execution_count": 4,
      "outputs": []
    },
    {
      "cell_type": "code",
      "metadata": {
        "id": "aJsXUBv6oQPD"
      },
      "source": [
        "df_date = df.index.isocalendar()\n",
        "\n",
        "# 週追加\n",
        "df_date[\"weekday\"] = df_date.index.weekday\n",
        "df_date.drop(\"day\", axis=1, inplace=True)"
      ],
      "execution_count": 5,
      "outputs": []
    },
    {
      "cell_type": "code",
      "metadata": {
        "id": "FWb4I4typeo6"
      },
      "source": [
        "# 結合\n",
        "df1 = df.join(df_date)"
      ],
      "execution_count": 6,
      "outputs": []
    },
    {
      "cell_type": "code",
      "metadata": {
        "id": "eOvjUq09WtWW"
      },
      "source": [
        "# 曜日別に並び替え\n",
        "pv = (\n",
        "    df1.pivot(index=[\"year\", \"week\"], columns=\"weekday\", values=\"陽性者_人数\")\n",
        "    .astype(\"Int64\")\n",
        "    .set_axis([\"月\", \"火\", \"水\", \"木\", \"金\", \"土\", \"日\"], axis=1).reset_index(drop=True)\n",
        ")"
      ],
      "execution_count": 7,
      "outputs": []
    },
    {
      "cell_type": "code",
      "metadata": {
        "colab": {
          "base_uri": "https://localhost:8080/",
          "height": 424
        },
        "id": "loADVC2fjzbR",
        "outputId": "b62a1a7e-da5a-4889-b0b6-54da39e549f7"
      },
      "source": [
        "pv"
      ],
      "execution_count": 8,
      "outputs": [
        {
          "output_type": "execute_result",
          "data": {
            "text/html": [
              "<div>\n",
              "<style scoped>\n",
              "    .dataframe tbody tr th:only-of-type {\n",
              "        vertical-align: middle;\n",
              "    }\n",
              "\n",
              "    .dataframe tbody tr th {\n",
              "        vertical-align: top;\n",
              "    }\n",
              "\n",
              "    .dataframe thead th {\n",
              "        text-align: right;\n",
              "    }\n",
              "</style>\n",
              "<table border=\"1\" class=\"dataframe\">\n",
              "  <thead>\n",
              "    <tr style=\"text-align: right;\">\n",
              "      <th></th>\n",
              "      <th>月</th>\n",
              "      <th>火</th>\n",
              "      <th>水</th>\n",
              "      <th>木</th>\n",
              "      <th>金</th>\n",
              "      <th>土</th>\n",
              "      <th>日</th>\n",
              "    </tr>\n",
              "  </thead>\n",
              "  <tbody>\n",
              "    <tr>\n",
              "      <th>0</th>\n",
              "      <td>&lt;NA&gt;</td>\n",
              "      <td>&lt;NA&gt;</td>\n",
              "      <td>&lt;NA&gt;</td>\n",
              "      <td>&lt;NA&gt;</td>\n",
              "      <td>&lt;NA&gt;</td>\n",
              "      <td>&lt;NA&gt;</td>\n",
              "      <td>0</td>\n",
              "    </tr>\n",
              "    <tr>\n",
              "      <th>1</th>\n",
              "      <td>0</td>\n",
              "      <td>0</td>\n",
              "      <td>0</td>\n",
              "      <td>0</td>\n",
              "      <td>0</td>\n",
              "      <td>0</td>\n",
              "      <td>0</td>\n",
              "    </tr>\n",
              "    <tr>\n",
              "      <th>2</th>\n",
              "      <td>0</td>\n",
              "      <td>0</td>\n",
              "      <td>0</td>\n",
              "      <td>0</td>\n",
              "      <td>0</td>\n",
              "      <td>0</td>\n",
              "      <td>0</td>\n",
              "    </tr>\n",
              "    <tr>\n",
              "      <th>3</th>\n",
              "      <td>0</td>\n",
              "      <td>0</td>\n",
              "      <td>0</td>\n",
              "      <td>0</td>\n",
              "      <td>0</td>\n",
              "      <td>0</td>\n",
              "      <td>0</td>\n",
              "    </tr>\n",
              "    <tr>\n",
              "      <th>4</th>\n",
              "      <td>0</td>\n",
              "      <td>0</td>\n",
              "      <td>0</td>\n",
              "      <td>0</td>\n",
              "      <td>0</td>\n",
              "      <td>0</td>\n",
              "      <td>0</td>\n",
              "    </tr>\n",
              "    <tr>\n",
              "      <th>...</th>\n",
              "      <td>...</td>\n",
              "      <td>...</td>\n",
              "      <td>...</td>\n",
              "      <td>...</td>\n",
              "      <td>...</td>\n",
              "      <td>...</td>\n",
              "      <td>...</td>\n",
              "    </tr>\n",
              "    <tr>\n",
              "      <th>60</th>\n",
              "      <td>3</td>\n",
              "      <td>23</td>\n",
              "      <td>24</td>\n",
              "      <td>59</td>\n",
              "      <td>39</td>\n",
              "      <td>19</td>\n",
              "      <td>27</td>\n",
              "    </tr>\n",
              "    <tr>\n",
              "      <th>61</th>\n",
              "      <td>24</td>\n",
              "      <td>30</td>\n",
              "      <td>33</td>\n",
              "      <td>30</td>\n",
              "      <td>28</td>\n",
              "      <td>34</td>\n",
              "      <td>29</td>\n",
              "    </tr>\n",
              "    <tr>\n",
              "      <th>62</th>\n",
              "      <td>32</td>\n",
              "      <td>43</td>\n",
              "      <td>34</td>\n",
              "      <td>31</td>\n",
              "      <td>27</td>\n",
              "      <td>33</td>\n",
              "      <td>24</td>\n",
              "    </tr>\n",
              "    <tr>\n",
              "      <th>63</th>\n",
              "      <td>17</td>\n",
              "      <td>19</td>\n",
              "      <td>30</td>\n",
              "      <td>43</td>\n",
              "      <td>45</td>\n",
              "      <td>43</td>\n",
              "      <td>48</td>\n",
              "    </tr>\n",
              "    <tr>\n",
              "      <th>64</th>\n",
              "      <td>15</td>\n",
              "      <td>28</td>\n",
              "      <td>&lt;NA&gt;</td>\n",
              "      <td>&lt;NA&gt;</td>\n",
              "      <td>&lt;NA&gt;</td>\n",
              "      <td>&lt;NA&gt;</td>\n",
              "      <td>&lt;NA&gt;</td>\n",
              "    </tr>\n",
              "  </tbody>\n",
              "</table>\n",
              "<p>65 rows × 7 columns</p>\n",
              "</div>"
            ],
            "text/plain": [
              "       月     火     水     木     金     土     日\n",
              "0   <NA>  <NA>  <NA>  <NA>  <NA>  <NA>     0\n",
              "1      0     0     0     0     0     0     0\n",
              "2      0     0     0     0     0     0     0\n",
              "3      0     0     0     0     0     0     0\n",
              "4      0     0     0     0     0     0     0\n",
              "..   ...   ...   ...   ...   ...   ...   ...\n",
              "60     3    23    24    59    39    19    27\n",
              "61    24    30    33    30    28    34    29\n",
              "62    32    43    34    31    27    33    24\n",
              "63    17    19    30    43    45    43    48\n",
              "64    15    28  <NA>  <NA>  <NA>  <NA>  <NA>\n",
              "\n",
              "[65 rows x 7 columns]"
            ]
          },
          "metadata": {
            "tags": []
          },
          "execution_count": 8
        }
      ]
    },
    {
      "cell_type": "code",
      "metadata": {
        "id": "tnw6fsy0UwXn"
      },
      "source": [
        "# 週計計算\n",
        "df2 = df[\"陽性者_人数\"].resample(\"W\").sum().reset_index()\n",
        "df2.rename(columns={\"陽性者_人数\": \"計\", \"実施_年月日\": \"終了\"}, inplace=True)"
      ],
      "execution_count": 9,
      "outputs": []
    },
    {
      "cell_type": "code",
      "metadata": {
        "id": "lTxzK7250NZb"
      },
      "source": [
        "# 開始追加\n",
        "df2[\"開始\"] = df2[\"終了\"] - pd.Timedelta(days=6)"
      ],
      "execution_count": 10,
      "outputs": []
    },
    {
      "cell_type": "code",
      "metadata": {
        "id": "4KdC2oG1ya31"
      },
      "source": [
        "# 結合、列並び替え\n",
        "df3 = df2.join(pv).reindex(columns=[\"開始\", \"終了\", \"月\", \"火\", \"水\", \"木\", \"金\", \"土\", \"日\", \"計\"])"
      ],
      "execution_count": 11,
      "outputs": []
    },
    {
      "cell_type": "code",
      "metadata": {
        "id": "LBJDUwGJzrM8"
      },
      "source": [
        "# CSV変換\n",
        "df3.to_csv(\"yousei.csv\", encoding=\"utf_8_sig\", index=False)"
      ],
      "execution_count": 12,
      "outputs": []
    }
  ]
}