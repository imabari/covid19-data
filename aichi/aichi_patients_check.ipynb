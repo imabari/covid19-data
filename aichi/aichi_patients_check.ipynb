{
  "nbformat": 4,
  "nbformat_minor": 0,
  "metadata": {
    "colab": {
      "name": "aichi_patients_check.ipynb",
      "provenance": [],
      "collapsed_sections": [],
      "toc_visible": true,
      "authorship_tag": "ABX9TyNzyiKJM8v9Vy511zHKPzmU",
      "include_colab_link": true
    },
    "kernelspec": {
      "name": "python3",
      "display_name": "Python 3"
    }
  },
  "cells": [
    {
      "cell_type": "markdown",
      "metadata": {
        "id": "view-in-github",
        "colab_type": "text"
      },
      "source": [
        "<a href=\"https://colab.research.google.com/github/imabari/covid19-data/blob/master/aichi/aichi_patients_check.ipynb\" target=\"_parent\"><img src=\"https://colab.research.google.com/assets/colab-badge.svg\" alt=\"Open In Colab\"/></a>"
      ]
    },
    {
      "cell_type": "code",
      "metadata": {
        "colab": {
          "base_uri": "https://localhost:8080/"
        },
        "id": "jq3G94xN7KQE",
        "outputId": "9595eb31-d8ae-4b6a-9ddf-cdf425d9760d"
      },
      "source": [
        "!pip install pdfplumber"
      ],
      "execution_count": 1,
      "outputs": [
        {
          "output_type": "stream",
          "text": [
            "Collecting pdfplumber\n",
            "\u001b[?25l  Downloading https://files.pythonhosted.org/packages/8c/27/7e2723bfe422fa6af61c1bf05cc8d2bb4128e169ab8ffffc01f3cb1e8ace/pdfplumber-0.5.25.tar.gz (42kB)\n",
            "\u001b[K     |████████████████████████████████| 51kB 2.8MB/s \n",
            "\u001b[?25hCollecting pdfminer.six==20200517\n",
            "\u001b[?25l  Downloading https://files.pythonhosted.org/packages/b0/c0/ef1c8758bbd86edb10b5443700aac97d0ba27a9ca2e7696db8cd1fdbd5a8/pdfminer.six-20200517-py3-none-any.whl (5.6MB)\n",
            "\u001b[K     |████████████████████████████████| 5.6MB 6.0MB/s \n",
            "\u001b[?25hRequirement already satisfied: Pillow>=7.0.0 in /usr/local/lib/python3.6/dist-packages (from pdfplumber) (7.0.0)\n",
            "Collecting Wand\n",
            "\u001b[?25l  Downloading https://files.pythonhosted.org/packages/98/08/096b76e9211ca5ef338791100b76375555cb4082a53496b1c1d5897ee13c/Wand-0.6.5-py2.py3-none-any.whl (138kB)\n",
            "\u001b[K     |████████████████████████████████| 143kB 40.3MB/s \n",
            "\u001b[?25hRequirement already satisfied: chardet; python_version > \"3.0\" in /usr/local/lib/python3.6/dist-packages (from pdfminer.six==20200517->pdfplumber) (3.0.4)\n",
            "Requirement already satisfied: sortedcontainers in /usr/local/lib/python3.6/dist-packages (from pdfminer.six==20200517->pdfplumber) (2.3.0)\n",
            "Collecting pycryptodome\n",
            "\u001b[?25l  Downloading https://files.pythonhosted.org/packages/2b/6f/7e38d7c97fbbc3987539c804282c33f56b6b07381bf2390deead696440c5/pycryptodome-3.9.9-cp36-cp36m-manylinux1_x86_64.whl (13.7MB)\n",
            "\u001b[K     |████████████████████████████████| 13.7MB 319kB/s \n",
            "\u001b[?25hBuilding wheels for collected packages: pdfplumber\n",
            "  Building wheel for pdfplumber (setup.py) ... \u001b[?25l\u001b[?25hdone\n",
            "  Created wheel for pdfplumber: filename=pdfplumber-0.5.25-cp36-none-any.whl size=31560 sha256=5c8eb58de5fbf19cd5578faeb591ad80d91931bcd909eaeaf2cde2750d6b52cc\n",
            "  Stored in directory: /root/.cache/pip/wheels/fc/bd/c8/a28e0008387d034112de3c7c3bf6dbefa25653909a6269e4ff\n",
            "Successfully built pdfplumber\n",
            "Installing collected packages: pycryptodome, pdfminer.six, Wand, pdfplumber\n",
            "Successfully installed Wand-0.6.5 pdfminer.six-20200517 pdfplumber-0.5.25 pycryptodome-3.9.9\n"
          ],
          "name": "stdout"
        }
      ]
    },
    {
      "cell_type": "code",
      "metadata": {
        "colab": {
          "base_uri": "https://localhost:8080/"
        },
        "id": "RMGkh8wMOH6A",
        "outputId": "70049ce3-e6cd-4d73-fb01-b19524563d43"
      },
      "source": [
        "!pip install japanize-matplotlib"
      ],
      "execution_count": 2,
      "outputs": [
        {
          "output_type": "stream",
          "text": [
            "Collecting japanize-matplotlib\n",
            "\u001b[?25l  Downloading https://files.pythonhosted.org/packages/aa/85/08a4b7fe8987582d99d9bb7ad0ff1ec75439359a7f9690a0dbf2dbf98b15/japanize-matplotlib-1.1.3.tar.gz (4.1MB)\n",
            "\u001b[K     |████████████████████████████████| 4.1MB 4.3MB/s \n",
            "\u001b[?25hRequirement already satisfied: matplotlib in /usr/local/lib/python3.6/dist-packages (from japanize-matplotlib) (3.2.2)\n",
            "Requirement already satisfied: numpy>=1.11 in /usr/local/lib/python3.6/dist-packages (from matplotlib->japanize-matplotlib) (1.19.4)\n",
            "Requirement already satisfied: pyparsing!=2.0.4,!=2.1.2,!=2.1.6,>=2.0.1 in /usr/local/lib/python3.6/dist-packages (from matplotlib->japanize-matplotlib) (2.4.7)\n",
            "Requirement already satisfied: kiwisolver>=1.0.1 in /usr/local/lib/python3.6/dist-packages (from matplotlib->japanize-matplotlib) (1.3.1)\n",
            "Requirement already satisfied: python-dateutil>=2.1 in /usr/local/lib/python3.6/dist-packages (from matplotlib->japanize-matplotlib) (2.8.1)\n",
            "Requirement already satisfied: cycler>=0.10 in /usr/local/lib/python3.6/dist-packages (from matplotlib->japanize-matplotlib) (0.10.0)\n",
            "Requirement already satisfied: six>=1.5 in /usr/local/lib/python3.6/dist-packages (from python-dateutil>=2.1->matplotlib->japanize-matplotlib) (1.15.0)\n",
            "Building wheels for collected packages: japanize-matplotlib\n",
            "  Building wheel for japanize-matplotlib (setup.py) ... \u001b[?25l\u001b[?25hdone\n",
            "  Created wheel for japanize-matplotlib: filename=japanize_matplotlib-1.1.3-cp36-none-any.whl size=4120276 sha256=565b845d9e21aca23daefe9e1de460a5b1403926228f06dd7445825bc172dd9f\n",
            "  Stored in directory: /root/.cache/pip/wheels/b7/d9/a2/f907d50b32a2d2008ce5d691d30fb6569c2c93eefcfde55202\n",
            "Successfully built japanize-matplotlib\n",
            "Installing collected packages: japanize-matplotlib\n",
            "Successfully installed japanize-matplotlib-1.1.3\n"
          ],
          "name": "stdout"
        }
      ]
    },
    {
      "cell_type": "code",
      "metadata": {
        "id": "QoVgIaTm7OXq"
      },
      "source": [
        "import datetime\n",
        "import pathlib\n",
        "import re\n",
        "from urllib.parse import urljoin"
      ],
      "execution_count": 3,
      "outputs": []
    },
    {
      "cell_type": "code",
      "metadata": {
        "id": "CUZoBpRY83up"
      },
      "source": [
        "import pandas as pd\n",
        "import pdfplumber\n",
        "import requests\n",
        "from bs4 import BeautifulSoup"
      ],
      "execution_count": 4,
      "outputs": []
    },
    {
      "cell_type": "code",
      "metadata": {
        "id": "hVImjMBYOH6B"
      },
      "source": [
        "import matplotlib.pyplot as plt\n",
        "import matplotlib.dates as mdates\n",
        "import japanize_matplotlib"
      ],
      "execution_count": 5,
      "outputs": []
    },
    {
      "cell_type": "code",
      "metadata": {
        "id": "UwHtvqMpGuzS"
      },
      "source": [
        "from google.colab import files"
      ],
      "execution_count": 6,
      "outputs": []
    },
    {
      "cell_type": "code",
      "metadata": {
        "id": "WeGkqXyQY3Ec"
      },
      "source": [
        "aichi_citys = [\r\n",
        "    \"名古屋市\",\r\n",
        "    \"一宮市\",\r\n",
        "    \"瀬戸市\",\r\n",
        "    \"春日井市\",\r\n",
        "    \"犬山市\",\r\n",
        "    \"江南市\",\r\n",
        "    \"小牧市\",\r\n",
        "    \"稲沢市\",\r\n",
        "    \"尾張旭市\",\r\n",
        "    \"岩倉市\",\r\n",
        "    \"豊明市\",\r\n",
        "    \"日進市\",\r\n",
        "    \"清須市\",\r\n",
        "    \"北名古屋市\",\r\n",
        "    \"長久手市\",\r\n",
        "    \"東郷町\",\r\n",
        "    \"豊山町\",\r\n",
        "    \"大口町\",\r\n",
        "    \"扶桑町\",\r\n",
        "    \"津島市\",\r\n",
        "    \"愛西市\",\r\n",
        "    \"弥富市\",\r\n",
        "    \"あま市\",\r\n",
        "    \"大治町\",\r\n",
        "    \"蟹江町\",\r\n",
        "    \"飛島村\",\r\n",
        "    \"半田市\",\r\n",
        "    \"常滑市\",\r\n",
        "    \"東海市\",\r\n",
        "    \"大府市\",\r\n",
        "    \"知多市\",\r\n",
        "    \"阿久比町\",\r\n",
        "    \"東浦町\",\r\n",
        "    \"南知多町\",\r\n",
        "    \"美浜町\",\r\n",
        "    \"武豊町\",\r\n",
        "    \"岡崎市\",\r\n",
        "    \"碧南市\",\r\n",
        "    \"刈谷市\",\r\n",
        "    \"豊田市\",\r\n",
        "    \"安城市\",\r\n",
        "    \"西尾市\",\r\n",
        "    \"知立市\",\r\n",
        "    \"高浜市\",\r\n",
        "    \"みよし市\",\r\n",
        "    \"幸田町\",\r\n",
        "    \"豊橋市\",\r\n",
        "    \"豊川市\",\r\n",
        "    \"蒲郡市\",\r\n",
        "    \"新城市\",\r\n",
        "    \"田原市\",\r\n",
        "    \"設楽町\",\r\n",
        "    \"東栄町\",\r\n",
        "    \"豊根村\",\r\n",
        "]"
      ],
      "execution_count": 7,
      "outputs": []
    },
    {
      "cell_type": "code",
      "metadata": {
        "id": "675EHvaH4maf"
      },
      "source": [
        "ages_list = [\r\n",
        "    \"10歳未満\",\r\n",
        "    \"10代\",\r\n",
        "    \"20代\",\r\n",
        "    \"30代\",\r\n",
        "    \"40代\",\r\n",
        "    \"50代\",\r\n",
        "    \"60代\",\r\n",
        "    \"70代\",\r\n",
        "    \"80代\",\r\n",
        "    \"90代\",\r\n",
        "    \"100代\",\r\n",
        "]"
      ],
      "execution_count": 8,
      "outputs": []
    },
    {
      "cell_type": "code",
      "metadata": {
        "id": "OZlDHNRnALyS"
      },
      "source": [
        "def fetch_file(url, dir=\".\"):\n",
        "\n",
        "    r = requests.get(url)\n",
        "    r.raise_for_status()\n",
        "\n",
        "    p = pathlib.Path(dir, pathlib.PurePath(url).name)\n",
        "    p.parent.mkdir(parents=True, exist_ok=True)\n",
        "\n",
        "    with p.open(mode=\"wb\") as fw:\n",
        "        fw.write(r.content)\n",
        "    return p"
      ],
      "execution_count": 9,
      "outputs": []
    },
    {
      "cell_type": "code",
      "metadata": {
        "id": "hMyFDuFxDwg_"
      },
      "source": [
        "def days2date(s):\n",
        "\n",
        "    y = 2021 if s.name > 16576 else 2020\n",
        "\n",
        "    days = re.findall(\"[0-9]{1,2}\", s[\"発表日\"])\n",
        "\n",
        "    if len(days) == 2:\n",
        "        m, d = map(int, days)\n",
        "        return pd.Timestamp(year=y, month=m, day=d)\n",
        "    else:\n",
        "        return pd.NaT"
      ],
      "execution_count": 10,
      "outputs": []
    },
    {
      "cell_type": "markdown",
      "metadata": {
        "id": "0-6RNOg4JHdx"
      },
      "source": [
        "# スクレイピング"
      ]
    },
    {
      "cell_type": "code",
      "metadata": {
        "id": "C1xCCln37OXq"
      },
      "source": [
        "url = \"https://www.pref.aichi.jp/site/covid19-aichi/\"\n",
        "\n",
        "headers = {\n",
        "    \"User-Agent\": \"Mozilla/5.0 (Windows NT 10.0; WOW64; Trident/7.0; rv:11.0) like Gecko\"\n",
        "}"
      ],
      "execution_count": 11,
      "outputs": []
    },
    {
      "cell_type": "code",
      "metadata": {
        "id": "RCjy-vnJ7KQF"
      },
      "source": [
        "JST = datetime.timezone(datetime.timedelta(hours=+9), \"JST\")\n",
        "dt_now = datetime.datetime.now(JST)"
      ],
      "execution_count": 12,
      "outputs": []
    },
    {
      "cell_type": "code",
      "metadata": {
        "id": "DY9l5mrq7OXq"
      },
      "source": [
        "r = requests.get(url, headers=headers)\n",
        "r.raise_for_status()\n",
        "\n",
        "soup = BeautifulSoup(r.content, \"html.parser\")"
      ],
      "execution_count": 13,
      "outputs": []
    },
    {
      "cell_type": "code",
      "metadata": {
        "id": "HJYYJm9P71lD"
      },
      "source": [
        "dfs = []\n",
        "\n",
        "for tag in soup.find(\"span\", text=\"▶ 愛知県内の発生事例\").parent.find_all(\n",
        "    \"a\", href=re.compile(\".pdf$\")\n",
        ")[::-1]:\n",
        "\n",
        "    link = urljoin(url, tag.get(\"href\"))\n",
        "\n",
        "    path_pdf = fetch_file(link)\n",
        "\n",
        "    with pdfplumber.open(path_pdf) as pdf:\n",
        "\n",
        "        for page in pdf.pages:\n",
        "\n",
        "            table = page.extract_table()\n",
        "\n",
        "            df_tmp = pd.DataFrame(table[1:], columns=table[0])\n",
        "\n",
        "            dfs.append(df_tmp)"
      ],
      "execution_count": 14,
      "outputs": []
    },
    {
      "cell_type": "code",
      "metadata": {
        "id": "crg19vLH9iI-"
      },
      "source": [
        "df = pd.concat(dfs).set_index(\"No\")"
      ],
      "execution_count": 15,
      "outputs": []
    },
    {
      "cell_type": "markdown",
      "metadata": {
        "id": "Pul1GDeFF6Qz"
      },
      "source": [
        "# 前処理"
      ]
    },
    {
      "cell_type": "code",
      "metadata": {
        "id": "i0y2DbPdG6dO"
      },
      "source": [
        "# 発表日が欠損を削除\r\n",
        "df.dropna(subset=[\"発表日\"], inplace=True)"
      ],
      "execution_count": 16,
      "outputs": []
    },
    {
      "cell_type": "code",
      "metadata": {
        "id": "Sw-z5s25yNoY"
      },
      "source": [
        "# Noでソート\r\n",
        "df.index = df.index.astype(int)\r\n",
        "df.sort_index(inplace=True)"
      ],
      "execution_count": 17,
      "outputs": []
    },
    {
      "cell_type": "code",
      "metadata": {
        "id": "RmdZegcjV3Gp"
      },
      "source": [
        "# 発表日をdatetimeに変換\r\n",
        "df[\"発表日\"] = df.apply(days2date, axis=1)"
      ],
      "execution_count": 18,
      "outputs": []
    },
    {
      "cell_type": "code",
      "metadata": {
        "id": "U1MbdTftGeyh"
      },
      "source": [
        "cjk = str.maketrans(\"⻲⻑黑戶⻯⻄⻘⻤\", \"亀長黒戸竜西青鬼\")"
      ],
      "execution_count": 19,
      "outputs": []
    },
    {
      "cell_type": "code",
      "metadata": {
        "id": "ANzpyFxPGPVB"
      },
      "source": [
        "# 文字コード正規化\r\n",
        "df[\"住居地\"] = df[\"住居地\"].str.normalize(\"NFKC\")\r\n",
        "df[\"住居地\"] = df[\"住居地\"].apply(lambda s: s.translate(cjk))\r\n",
        "\r\n",
        "df[\"年代・性別\"] = df[\"年代・性別\"].str.normalize(\"NFKC\")"
      ],
      "execution_count": 20,
      "outputs": []
    },
    {
      "cell_type": "code",
      "metadata": {
        "id": "vnnD9IfhHcm3"
      },
      "source": [
        "# 年代と性別を分割\r\n",
        "df_ages = df[\"年代・性別\"].str.extract(\"(.+)(男性|女性|その他)\").rename(columns={0: \"年代\", 1: \"性別\"})\r\n",
        "df = df.join(df_ages)"
      ],
      "execution_count": 21,
      "outputs": []
    },
    {
      "cell_type": "code",
      "metadata": {
        "id": "i8lFEjoLJV-n"
      },
      "source": [
        "# 前後の空白削除\r\n",
        "df[\"年代\"] = df[\"年代\"].str.strip()"
      ],
      "execution_count": 22,
      "outputs": []
    },
    {
      "cell_type": "code",
      "metadata": {
        "id": "YKDA_3plPeeH"
      },
      "source": [
        "df.to_csv(\"aichi.csv\", encoding=\"utf_8_sig\")\r\n",
        "# files.download(\"aichi.csv\")"
      ],
      "execution_count": 23,
      "outputs": []
    },
    {
      "cell_type": "markdown",
      "metadata": {
        "id": "3oBqBYBWlwoi"
      },
      "source": [
        "# 陽性者数"
      ]
    },
    {
      "cell_type": "code",
      "metadata": {
        "id": "LHCWc-XSQroH"
      },
      "source": [
        "s = df[\"発表日\"].value_counts().sort_index().asfreq(\"D\", fill_value=0)"
      ],
      "execution_count": 24,
      "outputs": []
    },
    {
      "cell_type": "code",
      "metadata": {
        "colab": {
          "base_uri": "https://localhost:8080/",
          "height": 293
        },
        "id": "ioaZHD41QgBB",
        "outputId": "2ab2612e-d40e-41c0-eb88-2d198d09f077"
      },
      "source": [
        "locator = mdates.AutoDateLocator()\r\n",
        "formatter = mdates.ConciseDateFormatter(locator)\r\n",
        "fig, ax = plt.subplots()\r\n",
        "\r\n",
        "ax.xaxis.set_major_locator(locator)\r\n",
        "ax.xaxis.set_major_formatter(formatter)\r\n",
        "\r\n",
        "ax.bar(s.index, s, width=1)"
      ],
      "execution_count": 25,
      "outputs": [
        {
          "output_type": "execute_result",
          "data": {
            "text/plain": [
              "<BarContainer object of 345 artists>"
            ]
          },
          "metadata": {
            "tags": []
          },
          "execution_count": 25
        },
        {
          "output_type": "display_data",
          "data": {
            "image/png": "[encoded data removed]",
            "text/plain": [
              "<Figure size 432x288 with 1 Axes>"
            ]
          },
          "metadata": {
            "tags": [],
            "needs_background": "light"
          }
        }
      ]
    },
    {
      "cell_type": "code",
      "metadata": {
        "colab": {
          "base_uri": "https://localhost:8080/"
        },
        "id": "YjamriGRopIA",
        "outputId": "686035e8-1753-4a50-d293-a4cfa653388a"
      },
      "source": [
        "# 直近14日\r\n",
        "s.tail(14)"
      ],
      "execution_count": 26,
      "outputs": [
        {
          "output_type": "execute_result",
          "data": {
            "text/plain": [
              "2020-12-22    190\n",
              "2020-12-23    239\n",
              "2020-12-24    270\n",
              "2020-12-25    265\n",
              "2020-12-26    265\n",
              "2020-12-27    216\n",
              "2020-12-28    122\n",
              "2020-12-29    235\n",
              "2020-12-30    294\n",
              "2020-12-31    239\n",
              "2021-01-01    193\n",
              "2021-01-02    158\n",
              "2021-01-03    185\n",
              "2021-01-04    152\n",
              "Freq: D, Name: 発表日, dtype: int64"
            ]
          },
          "metadata": {
            "tags": []
          },
          "execution_count": 26
        }
      ]
    },
    {
      "cell_type": "markdown",
      "metadata": {
        "id": "eD0wbgivHOq6"
      },
      "source": [
        "# 住所地"
      ]
    },
    {
      "cell_type": "markdown",
      "metadata": {
        "id": "av9IrZO2J7yh"
      },
      "source": [
        "## 県内"
      ]
    },
    {
      "cell_type": "code",
      "metadata": {
        "id": "4zrPjWMlKItr"
      },
      "source": [
        "df_kennai = df[df[\"住居地\"].isin(aichi_citys)]"
      ],
      "execution_count": 27,
      "outputs": []
    },
    {
      "cell_type": "code",
      "metadata": {
        "colab": {
          "base_uri": "https://localhost:8080/",
          "height": 608
        },
        "id": "sqQKINKzmRKa",
        "outputId": "26306d4f-478a-4a04-93ab-0e0105df3526"
      },
      "source": [
        "# 県内\r\n",
        "df_kennai[\"住居地\"].value_counts().plot.barh(figsize=(5, 10))"
      ],
      "execution_count": 28,
      "outputs": [
        {
          "output_type": "execute_result",
          "data": {
            "text/plain": [
              "<matplotlib.axes._subplots.AxesSubplot at 0x7f47b3eb9208>"
            ]
          },
          "metadata": {
            "tags": []
          },
          "execution_count": 28
        },
        {
          "output_type": "display_data",
          "data": {
            "image/png": "[encoded data removed]",
            "text/plain": [
              "<Figure size 360x720 with 1 Axes>"
            ]
          },
          "metadata": {
            "tags": [],
            "needs_background": "light"
          }
        }
      ]
    },
    {
      "cell_type": "code",
      "metadata": {
        "colab": {
          "base_uri": "https://localhost:8080/"
        },
        "id": "TrFZYCuxJ1Ih",
        "outputId": "7fea589f-c136-4e22-c4c6-757b8f0be8a3"
      },
      "source": [
        "df_kennai[\"住居地\"].value_counts()"
      ],
      "execution_count": 29,
      "outputs": [
        {
          "output_type": "execute_result",
          "data": {
            "text/plain": [
              "名古屋市     8662\n",
              "豊田市       703\n",
              "一宮市       683\n",
              "春日井市      666\n",
              "岡崎市       573\n",
              "豊橋市       465\n",
              "小牧市       371\n",
              "刈谷市       249\n",
              "あま市       234\n",
              "稲沢市       219\n",
              "瀬戸市       218\n",
              "日進市       217\n",
              "半田市       217\n",
              "東海市       213\n",
              "豊川市       205\n",
              "西尾市       196\n",
              "江南市       184\n",
              "北名古屋市     184\n",
              "知多市       171\n",
              "安城市       171\n",
              "清須市       161\n",
              "尾張旭市      156\n",
              "愛西市       116\n",
              "犬山市       112\n",
              "長久手市      111\n",
              "蟹江町       110\n",
              "知立市        99\n",
              "碧南市        99\n",
              "弥富市        98\n",
              "津島市        96\n",
              "蒲郡市        93\n",
              "豊明市        91\n",
              "大府市        90\n",
              "岩倉市        87\n",
              "みよし市       86\n",
              "幸田町        85\n",
              "大治町        83\n",
              "常滑市        71\n",
              "扶桑町        67\n",
              "東郷町        64\n",
              "東浦町        59\n",
              "武豊町        51\n",
              "大口町        49\n",
              "高浜市        44\n",
              "豊山町        39\n",
              "田原市        38\n",
              "新城市        30\n",
              "阿久比町       24\n",
              "美浜町        24\n",
              "南知多町       16\n",
              "飛島村        12\n",
              "豊根村         1\n",
              "東栄町         1\n",
              "Name: 住居地, dtype: int64"
            ]
          },
          "metadata": {
            "tags": []
          },
          "execution_count": 29
        }
      ]
    },
    {
      "cell_type": "code",
      "metadata": {
        "id": "-DWjd2qRKrIQ"
      },
      "source": [
        "df_kennai.to_csv(\"kennai.csv\", encoding=\"utf_8_sig\")\r\n",
        "# files.download(\"kennai.csv\")"
      ],
      "execution_count": 30,
      "outputs": []
    },
    {
      "cell_type": "markdown",
      "metadata": {
        "id": "SHCWx-kIKCNB"
      },
      "source": [
        "## 県外"
      ]
    },
    {
      "cell_type": "code",
      "metadata": {
        "id": "nGIark2wY6LT"
      },
      "source": [
        "df_kengai = df[~df[\"住居地\"].isin(aichi_citys)]"
      ],
      "execution_count": 31,
      "outputs": []
    },
    {
      "cell_type": "code",
      "metadata": {
        "colab": {
          "base_uri": "https://localhost:8080/",
          "height": 608
        },
        "id": "L9S_PFK6SaJ_",
        "outputId": "ec241c03-64a1-4fb4-f851-2de8e3ab027d"
      },
      "source": [
        "# 県外\r\n",
        "df_kengai[\"住居地\"].value_counts().plot.barh(figsize=(5, 10))"
      ],
      "execution_count": 32,
      "outputs": [
        {
          "output_type": "execute_result",
          "data": {
            "text/plain": [
              "<matplotlib.axes._subplots.AxesSubplot at 0x7f47b53ad550>"
            ]
          },
          "metadata": {
            "tags": []
          },
          "execution_count": 32
        },
        {
          "output_type": "display_data",
          "data": {
            "image/png": "[encoded data removed]",
            "text/plain": [
              "<Figure size 360x720 with 1 Axes>"
            ]
          },
          "metadata": {
            "tags": [],
            "needs_background": "light"
          }
        }
      ]
    },
    {
      "cell_type": "code",
      "metadata": {
        "colab": {
          "base_uri": "https://localhost:8080/"
        },
        "id": "-rNPeckuGZiL",
        "outputId": "aef9eed2-69c3-4721-c311-149dee552c64"
      },
      "source": [
        "df_kengai[\"住居地\"].value_counts()"
      ],
      "execution_count": 33,
      "outputs": [
        {
          "output_type": "execute_result",
          "data": {
            "text/plain": [
              "岐阜県        23\n",
              "東京都        18\n",
              "三重県        12\n",
              "尾張地方       11\n",
              "三河地方        5\n",
              "大阪府         3\n",
              "神奈川県        3\n",
              "静岡県         3\n",
              "中国武漢市       2\n",
              "兵庫県         2\n",
              "福岡県         2\n",
              "京都府         2\n",
              "千葉県         2\n",
              "土岐市         1\n",
              "岐阜市         1\n",
              "北海道         1\n",
              "茨城県         1\n",
              "一宮保健所管内     1\n",
              "不定          1\n",
              "愛媛県         1\n",
              "福井県         1\n",
              "石川県         1\n",
              "滋賀県         1\n",
              "沖縄県         1\n",
              "可児市         1\n",
              "Name: 住居地, dtype: int64"
            ]
          },
          "metadata": {
            "tags": []
          },
          "execution_count": 33
        }
      ]
    },
    {
      "cell_type": "code",
      "metadata": {
        "id": "stJehDPlGfFa"
      },
      "source": [
        "df_kengai.to_csv(\"kengai.csv\", encoding=\"utf_8_sig\")\n",
        "# files.download(\"kengai.csv\")"
      ],
      "execution_count": 34,
      "outputs": []
    },
    {
      "cell_type": "markdown",
      "metadata": {
        "id": "90sg7yzVX14e"
      },
      "source": [
        "## 置換"
      ]
    },
    {
      "cell_type": "code",
      "metadata": {
        "id": "Tp0dVUAISme_"
      },
      "source": [
        "# 県外に置換\r\n",
        "df[\"住居地\"] = df[\"住居地\"].where(df[\"住居地\"].isin(aichi_citys), \"県外\")"
      ],
      "execution_count": 35,
      "outputs": []
    },
    {
      "cell_type": "code",
      "metadata": {
        "colab": {
          "base_uri": "https://localhost:8080/",
          "height": 879
        },
        "id": "4swryofKPufv",
        "outputId": "41192cf6-59c9-48e3-a0f1-28ade29bf820"
      },
      "source": [
        "df[\"住居地\"].value_counts().plot.barh(figsize=(5, 15))"
      ],
      "execution_count": 36,
      "outputs": [
        {
          "output_type": "execute_result",
          "data": {
            "text/plain": [
              "<matplotlib.axes._subplots.AxesSubplot at 0x7f47b53ad160>"
            ]
          },
          "metadata": {
            "tags": []
          },
          "execution_count": 36
        },
        {
          "output_type": "display_data",
          "data": {
            "image/png": "[encoded data removed]",
            "text/plain": [
              "<Figure size 360x1080 with 1 Axes>"
            ]
          },
          "metadata": {
            "tags": [],
            "needs_background": "light"
          }
        }
      ]
    },
    {
      "cell_type": "code",
      "metadata": {
        "colab": {
          "base_uri": "https://localhost:8080/"
        },
        "id": "Tyia7DxFn4Gv",
        "outputId": "356151a5-b636-4750-d21f-307a96667f38"
      },
      "source": [
        "df[\"住居地\"].value_counts()"
      ],
      "execution_count": 37,
      "outputs": [
        {
          "output_type": "execute_result",
          "data": {
            "text/plain": [
              "名古屋市     8662\n",
              "豊田市       703\n",
              "一宮市       683\n",
              "春日井市      666\n",
              "岡崎市       573\n",
              "豊橋市       465\n",
              "小牧市       371\n",
              "刈谷市       249\n",
              "あま市       234\n",
              "稲沢市       219\n",
              "瀬戸市       218\n",
              "日進市       217\n",
              "半田市       217\n",
              "東海市       213\n",
              "豊川市       205\n",
              "西尾市       196\n",
              "江南市       184\n",
              "北名古屋市     184\n",
              "知多市       171\n",
              "安城市       171\n",
              "清須市       161\n",
              "尾張旭市      156\n",
              "愛西市       116\n",
              "犬山市       112\n",
              "長久手市      111\n",
              "蟹江町       110\n",
              "県外        100\n",
              "知立市        99\n",
              "碧南市        99\n",
              "弥富市        98\n",
              "津島市        96\n",
              "蒲郡市        93\n",
              "豊明市        91\n",
              "大府市        90\n",
              "岩倉市        87\n",
              "みよし市       86\n",
              "幸田町        85\n",
              "大治町        83\n",
              "常滑市        71\n",
              "扶桑町        67\n",
              "東郷町        64\n",
              "東浦町        59\n",
              "武豊町        51\n",
              "大口町        49\n",
              "高浜市        44\n",
              "豊山町        39\n",
              "田原市        38\n",
              "新城市        30\n",
              "阿久比町       24\n",
              "美浜町        24\n",
              "南知多町       16\n",
              "飛島村        12\n",
              "豊根村         1\n",
              "東栄町         1\n",
              "Name: 住居地, dtype: int64"
            ]
          },
          "metadata": {
            "tags": []
          },
          "execution_count": 37
        }
      ]
    },
    {
      "cell_type": "markdown",
      "metadata": {
        "id": "qUjv75nlHYri"
      },
      "source": [
        "# 性別"
      ]
    },
    {
      "cell_type": "code",
      "metadata": {
        "colab": {
          "base_uri": "https://localhost:8080/",
          "height": 281
        },
        "id": "xo4KFL-rYRbe",
        "outputId": "1d5b85f6-5c5c-40f2-f9b7-b3fab19dcfc8"
      },
      "source": [
        "df[\"性別\"].value_counts().plot.barh()"
      ],
      "execution_count": 38,
      "outputs": [
        {
          "output_type": "execute_result",
          "data": {
            "text/plain": [
              "<matplotlib.axes._subplots.AxesSubplot at 0x7f47b0ccaeb8>"
            ]
          },
          "metadata": {
            "tags": []
          },
          "execution_count": 38
        },
        {
          "output_type": "display_data",
          "data": {
            "image/png": "[encoded data removed]",
            "text/plain": [
              "<Figure size 432x288 with 1 Axes>"
            ]
          },
          "metadata": {
            "tags": [],
            "needs_background": "light"
          }
        }
      ]
    },
    {
      "cell_type": "code",
      "metadata": {
        "colab": {
          "base_uri": "https://localhost:8080/"
        },
        "id": "MlVDe_kkq40X",
        "outputId": "194cf73a-c2a0-49e8-9b37-94e2c4596e27"
      },
      "source": [
        "# 性別 欠損数\r\n",
        "df[\"性別\"].isna().sum()"
      ],
      "execution_count": 39,
      "outputs": [
        {
          "output_type": "execute_result",
          "data": {
            "text/plain": [
              "0"
            ]
          },
          "metadata": {
            "tags": []
          },
          "execution_count": 39
        }
      ]
    },
    {
      "cell_type": "code",
      "metadata": {
        "colab": {
          "base_uri": "https://localhost:8080/"
        },
        "id": "PNsu8cggHrea",
        "outputId": "78a1e079-d72f-4ab2-ad43-ce68b0f42714"
      },
      "source": [
        "# 性別\r\n",
        "df[\"性別\"].value_counts()"
      ],
      "execution_count": 40,
      "outputs": [
        {
          "output_type": "execute_result",
          "data": {
            "text/plain": [
              "男性    9346\n",
              "女性    7918\n",
              "Name: 性別, dtype: int64"
            ]
          },
          "metadata": {
            "tags": []
          },
          "execution_count": 40
        }
      ]
    },
    {
      "cell_type": "markdown",
      "metadata": {
        "id": "iVf3aoulHm6C"
      },
      "source": [
        "# 年代確認"
      ]
    },
    {
      "cell_type": "markdown",
      "metadata": {
        "id": "LeKZdcUPIh9h"
      },
      "source": [
        "## 置換前"
      ]
    },
    {
      "cell_type": "code",
      "metadata": {
        "colab": {
          "base_uri": "https://localhost:8080/"
        },
        "id": "z3I2c0BOI4YB",
        "outputId": "7a46b84b-1612-4baa-f763-3d050ddf2f00"
      },
      "source": [
        "# ユニーク確認\r\n",
        "df[\"年代\"].unique()"
      ],
      "execution_count": 41,
      "outputs": [
        {
          "output_type": "execute_result",
          "data": {
            "text/plain": [
              "array(['40代', '60代', '50代', '80代', '70代', '20代', '30代', '90代', '10歳未満',\n",
              "       '10代', '100代', '高齢者', 'ー代', '10歳未満代'], dtype=object)"
            ]
          },
          "metadata": {
            "tags": []
          },
          "execution_count": 41
        }
      ]
    },
    {
      "cell_type": "code",
      "metadata": {
        "colab": {
          "base_uri": "https://localhost:8080/"
        },
        "id": "7bEE_z0GITSJ",
        "outputId": "5f07b478-5f25-4930-c568-6033f5079908"
      },
      "source": [
        "df[\"年代\"].value_counts()"
      ],
      "execution_count": 42,
      "outputs": [
        {
          "output_type": "execute_result",
          "data": {
            "text/plain": [
              "20代       4231\n",
              "30代       2564\n",
              "40代       2454\n",
              "50代       2242\n",
              "60代       1457\n",
              "70代       1429\n",
              "10代       1147\n",
              "80代        937\n",
              "10歳未満      517\n",
              "90代        274\n",
              "100代         8\n",
              "10歳未満代       2\n",
              "ー代           1\n",
              "高齢者          1\n",
              "Name: 年代, dtype: int64"
            ]
          },
          "metadata": {
            "tags": []
          },
          "execution_count": 42
        }
      ]
    },
    {
      "cell_type": "markdown",
      "metadata": {
        "id": "75OdePc-LCvB"
      },
      "source": [
        "## 確認"
      ]
    },
    {
      "cell_type": "code",
      "metadata": {
        "colab": {
          "base_uri": "https://localhost:8080/",
          "height": 206
        },
        "id": "xD2k8QOIAvnk",
        "outputId": "4d4e4afe-442e-4771-bd83-28d1de282d8b"
      },
      "source": [
        "# リスト外\r\n",
        "df[~df[\"年代\"].isin(ages_list)]"
      ],
      "execution_count": 43,
      "outputs": [
        {
          "output_type": "execute_result",
          "data": {
            "text/html": [
              "<div>\n",
              "<style scoped>\n",
              "    .dataframe tbody tr th:only-of-type {\n",
              "        vertical-align: middle;\n",
              "    }\n",
              "\n",
              "    .dataframe tbody tr th {\n",
              "        vertical-align: top;\n",
              "    }\n",
              "\n",
              "    .dataframe thead th {\n",
              "        text-align: right;\n",
              "    }\n",
              "</style>\n",
              "<table border=\"1\" class=\"dataframe\">\n",
              "  <thead>\n",
              "    <tr style=\"text-align: right;\">\n",
              "      <th></th>\n",
              "      <th>発表日</th>\n",
              "      <th>年代・性別</th>\n",
              "      <th>国籍</th>\n",
              "      <th>住居地</th>\n",
              "      <th>接触状況</th>\n",
              "      <th>備考</th>\n",
              "      <th>年代</th>\n",
              "      <th>性別</th>\n",
              "    </tr>\n",
              "    <tr>\n",
              "      <th>No</th>\n",
              "      <th></th>\n",
              "      <th></th>\n",
              "      <th></th>\n",
              "      <th></th>\n",
              "      <th></th>\n",
              "      <th></th>\n",
              "      <th></th>\n",
              "      <th></th>\n",
              "    </tr>\n",
              "  </thead>\n",
              "  <tbody>\n",
              "    <tr>\n",
              "      <th>5543</th>\n",
              "      <td>2020-10-11</td>\n",
              "      <td>高齢者女性</td>\n",
              "      <td></td>\n",
              "      <td>名古屋市</td>\n",
              "      <td></td>\n",
              "      <td>名古屋市発表2999</td>\n",
              "      <td>高齢者</td>\n",
              "      <td>女性</td>\n",
              "    </tr>\n",
              "    <tr>\n",
              "      <th>13890</th>\n",
              "      <td>2020-12-19</td>\n",
              "      <td>ー代女性</td>\n",
              "      <td></td>\n",
              "      <td>豊橋市</td>\n",
              "      <td></td>\n",
              "      <td>豊橋市発表347</td>\n",
              "      <td>ー代</td>\n",
              "      <td>女性</td>\n",
              "    </tr>\n",
              "    <tr>\n",
              "      <th>17216</th>\n",
              "      <td>2021-01-04</td>\n",
              "      <td>10歳未満代男性</td>\n",
              "      <td></td>\n",
              "      <td>名古屋市</td>\n",
              "      <td>No.16874と接触</td>\n",
              "      <td>名古屋市発表8646</td>\n",
              "      <td>10歳未満代</td>\n",
              "      <td>男性</td>\n",
              "    </tr>\n",
              "    <tr>\n",
              "      <th>17235</th>\n",
              "      <td>2021-01-04</td>\n",
              "      <td>10歳未満代女性</td>\n",
              "      <td></td>\n",
              "      <td>名古屋市</td>\n",
              "      <td>No.15636と接触</td>\n",
              "      <td>名古屋市発表8665</td>\n",
              "      <td>10歳未満代</td>\n",
              "      <td>女性</td>\n",
              "    </tr>\n",
              "  </tbody>\n",
              "</table>\n",
              "</div>"
            ],
            "text/plain": [
              "             発表日     年代・性別 国籍   住居地         接触状況          備考      年代  性別\n",
              "No                                                                      \n",
              "5543  2020-10-11     高齢者女性     名古屋市               名古屋市発表2999     高齢者  女性\n",
              "13890 2020-12-19      ー代女性      豊橋市                 豊橋市発表347      ー代  女性\n",
              "17216 2021-01-04  10歳未満代男性     名古屋市  No.16874と接触  名古屋市発表8646  10歳未満代  男性\n",
              "17235 2021-01-04  10歳未満代女性     名古屋市  No.15636と接触  名古屋市発表8665  10歳未満代  女性"
            ]
          },
          "metadata": {
            "tags": []
          },
          "execution_count": 43
        }
      ]
    },
    {
      "cell_type": "markdown",
      "metadata": {
        "id": "ZdkCmXvgIdYp"
      },
      "source": [
        "## 置換後 "
      ]
    },
    {
      "cell_type": "code",
      "metadata": {
        "id": "SJdW-bWDcjiQ"
      },
      "source": [
        "# 10歳未満代を10歳未満に置換\r\n",
        "df[\"年代\"] = df[\"年代\"].replace(\"10歳未満代\", \"10歳未満\")"
      ],
      "execution_count": 44,
      "outputs": []
    },
    {
      "cell_type": "code",
      "metadata": {
        "id": "SVLZqypHATDM"
      },
      "source": [
        "# リスト外をその他に置換\r\n",
        "df[\"年代\"] = df[\"年代\"].where(df[\"年代\"].isin(ages_list), \"その他\")"
      ],
      "execution_count": 45,
      "outputs": []
    },
    {
      "cell_type": "code",
      "metadata": {
        "colab": {
          "base_uri": "https://localhost:8080/"
        },
        "id": "HJjfsYZ3UzZ6",
        "outputId": "2f8c2850-2657-40ae-b4d6-36d28c3fd4ef"
      },
      "source": [
        "df[\"年代\"].unique()"
      ],
      "execution_count": 46,
      "outputs": [
        {
          "output_type": "execute_result",
          "data": {
            "text/plain": [
              "array(['40代', '60代', '50代', '80代', '70代', '20代', '30代', '90代', '10歳未満',\n",
              "       '10代', '100代', 'その他'], dtype=object)"
            ]
          },
          "metadata": {
            "tags": []
          },
          "execution_count": 46
        }
      ]
    },
    {
      "cell_type": "code",
      "metadata": {
        "colab": {
          "base_uri": "https://localhost:8080/",
          "height": 281
        },
        "id": "r9QxpWa5YW_F",
        "outputId": "d41e070f-5904-49a8-ca98-52c039ed12b7"
      },
      "source": [
        "df[\"年代\"].value_counts().plot.barh()"
      ],
      "execution_count": 47,
      "outputs": [
        {
          "output_type": "execute_result",
          "data": {
            "text/plain": [
              "<matplotlib.axes._subplots.AxesSubplot at 0x7f47b1e68b38>"
            ]
          },
          "metadata": {
            "tags": []
          },
          "execution_count": 47
        },
        {
          "output_type": "display_data",
          "data": {
            "image/png": "[encoded data removed]",
            "text/plain": [
              "<Figure size 432x288 with 1 Axes>"
            ]
          },
          "metadata": {
            "tags": [],
            "needs_background": "light"
          }
        }
      ]
    },
    {
      "cell_type": "code",
      "metadata": {
        "id": "rI_C4zfOXMBg",
        "colab": {
          "base_uri": "https://localhost:8080/"
        },
        "outputId": "8218845e-3c14-4dc6-cb40-d790b4b5f2ce"
      },
      "source": [
        "df[\"年代\"].value_counts()"
      ],
      "execution_count": 48,
      "outputs": [
        {
          "output_type": "execute_result",
          "data": {
            "text/plain": [
              "20代      4231\n",
              "30代      2564\n",
              "40代      2454\n",
              "50代      2242\n",
              "60代      1457\n",
              "70代      1429\n",
              "10代      1147\n",
              "80代       937\n",
              "10歳未満     519\n",
              "90代       274\n",
              "100代        8\n",
              "その他         2\n",
              "Name: 年代, dtype: int64"
            ]
          },
          "metadata": {
            "tags": []
          },
          "execution_count": 48
        }
      ]
    }
  ]
}