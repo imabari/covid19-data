{
  "nbformat": 4,
  "nbformat_minor": 0,
  "metadata": {
    "colab": {
      "name": "aichi_pdf_patients.ipynb",
      "provenance": [],
      "collapsed_sections": [],
      "authorship_tag": "ABX9TyPdk63KWoxs1bI3hzkP7K8C",
      "include_colab_link": true
    },
    "kernelspec": {
      "name": "python3",
      "display_name": "Python 3"
    }
  },
  "cells": [
    {
      "cell_type": "markdown",
      "metadata": {
        "id": "view-in-github",
        "colab_type": "text"
      },
      "source": [
        "<a href=\"https://colab.research.google.com/github/imabari/covid19-data/blob/master/aichi/aichi_pdf_patients.ipynb\" target=\"_parent\"><img src=\"https://colab.research.google.com/assets/colab-badge.svg\" alt=\"Open In Colab\"/></a>"
      ]
    },
    {
      "cell_type": "code",
      "metadata": {
        "id": "_Wm6u2NYpTaI",
        "colab_type": "code",
        "outputId": "59ddbedb-b8fe-49a2-ca65-0439edd028a0",
        "colab": {
          "base_uri": "https://localhost:8080/",
          "height": 1000
        }
      },
      "source": [
        "!apt install python3-tk ghostscript\n",
        "!pip install camelot-py[cv]"
      ],
      "execution_count": 1,
      "outputs": [
        {
          "output_type": "stream",
          "text": [
            "Reading package lists... Done\n",
            "Building dependency tree       \n",
            "Reading state information... Done\n",
            "python3-tk is already the newest version (3.6.9-1~18.04).\n",
            "The following additional packages will be installed:\n",
            "  fonts-droid-fallback fonts-noto-mono gsfonts libcupsfilters1 libcupsimage2\n",
            "  libgs9 libgs9-common libijs-0.35 libjbig2dec0 poppler-data\n",
            "Suggested packages:\n",
            "  fonts-noto ghostscript-x poppler-utils fonts-japanese-mincho\n",
            "  | fonts-ipafont-mincho fonts-japanese-gothic | fonts-ipafont-gothic\n",
            "  fonts-arphic-ukai fonts-arphic-uming fonts-nanum\n",
            "The following NEW packages will be installed:\n",
            "  fonts-droid-fallback fonts-noto-mono ghostscript gsfonts libcupsfilters1\n",
            "  libcupsimage2 libgs9 libgs9-common libijs-0.35 libjbig2dec0 poppler-data\n",
            "0 upgraded, 11 newly installed, 0 to remove and 29 not upgraded.\n",
            "Need to get 14.1 MB of archives.\n",
            "After this operation, 49.9 MB of additional disk space will be used.\n",
            "Get:1 http://archive.ubuntu.com/ubuntu bionic/main amd64 fonts-droid-fallback all 1:6.0.1r16-1.1 [1,805 kB]\n",
            "Get:2 http://archive.ubuntu.com/ubuntu bionic/main amd64 poppler-data all 0.4.8-2 [1,479 kB]\n",
            "Get:3 http://archive.ubuntu.com/ubuntu bionic/main amd64 fonts-noto-mono all 20171026-2 [75.5 kB]\n",
            "Get:4 http://archive.ubuntu.com/ubuntu bionic-updates/main amd64 libcupsimage2 amd64 2.2.7-1ubuntu2.8 [18.6 kB]\n",
            "Get:5 http://archive.ubuntu.com/ubuntu bionic/main amd64 libijs-0.35 amd64 0.35-13 [15.5 kB]\n",
            "Get:6 http://archive.ubuntu.com/ubuntu bionic/main amd64 libjbig2dec0 amd64 0.13-6 [55.9 kB]\n",
            "Get:7 http://archive.ubuntu.com/ubuntu bionic-updates/main amd64 libgs9-common all 9.26~dfsg+0-0ubuntu0.18.04.12 [5,092 kB]\n",
            "Get:8 http://archive.ubuntu.com/ubuntu bionic-updates/main amd64 libgs9 amd64 9.26~dfsg+0-0ubuntu0.18.04.12 [2,264 kB]\n",
            "Get:9 http://archive.ubuntu.com/ubuntu bionic-updates/main amd64 ghostscript amd64 9.26~dfsg+0-0ubuntu0.18.04.12 [50.9 kB]\n",
            "Get:10 http://archive.ubuntu.com/ubuntu bionic/main amd64 gsfonts all 1:8.11+urwcyr1.0.7~pre44-4.4 [3,120 kB]\n",
            "Get:11 http://archive.ubuntu.com/ubuntu bionic-updates/main amd64 libcupsfilters1 amd64 1.20.2-0ubuntu3.1 [108 kB]\n",
            "Fetched 14.1 MB in 1s (10.8 MB/s)\n",
            "Selecting previously unselected package fonts-droid-fallback.\n",
            "(Reading database ... 144429 files and directories currently installed.)\n",
            "Preparing to unpack .../00-fonts-droid-fallback_1%3a6.0.1r16-1.1_all.deb ...\n",
            "Unpacking fonts-droid-fallback (1:6.0.1r16-1.1) ...\n",
            "Selecting previously unselected package poppler-data.\n",
            "Preparing to unpack .../01-poppler-data_0.4.8-2_all.deb ...\n",
            "Unpacking poppler-data (0.4.8-2) ...\n",
            "Selecting previously unselected package fonts-noto-mono.\n",
            "Preparing to unpack .../02-fonts-noto-mono_20171026-2_all.deb ...\n",
            "Unpacking fonts-noto-mono (20171026-2) ...\n",
            "Selecting previously unselected package libcupsimage2:amd64.\n",
            "Preparing to unpack .../03-libcupsimage2_2.2.7-1ubuntu2.8_amd64.deb ...\n",
            "Unpacking libcupsimage2:amd64 (2.2.7-1ubuntu2.8) ...\n",
            "Selecting previously unselected package libijs-0.35:amd64.\n",
            "Preparing to unpack .../04-libijs-0.35_0.35-13_amd64.deb ...\n",
            "Unpacking libijs-0.35:amd64 (0.35-13) ...\n",
            "Selecting previously unselected package libjbig2dec0:amd64.\n",
            "Preparing to unpack .../05-libjbig2dec0_0.13-6_amd64.deb ...\n",
            "Unpacking libjbig2dec0:amd64 (0.13-6) ...\n",
            "Selecting previously unselected package libgs9-common.\n",
            "Preparing to unpack .../06-libgs9-common_9.26~dfsg+0-0ubuntu0.18.04.12_all.deb ...\n",
            "Unpacking libgs9-common (9.26~dfsg+0-0ubuntu0.18.04.12) ...\n",
            "Selecting previously unselected package libgs9:amd64.\n",
            "Preparing to unpack .../07-libgs9_9.26~dfsg+0-0ubuntu0.18.04.12_amd64.deb ...\n",
            "Unpacking libgs9:amd64 (9.26~dfsg+0-0ubuntu0.18.04.12) ...\n",
            "Selecting previously unselected package ghostscript.\n",
            "Preparing to unpack .../08-ghostscript_9.26~dfsg+0-0ubuntu0.18.04.12_amd64.deb ...\n",
            "Unpacking ghostscript (9.26~dfsg+0-0ubuntu0.18.04.12) ...\n",
            "Selecting previously unselected package gsfonts.\n",
            "Preparing to unpack .../09-gsfonts_1%3a8.11+urwcyr1.0.7~pre44-4.4_all.deb ...\n",
            "Unpacking gsfonts (1:8.11+urwcyr1.0.7~pre44-4.4) ...\n",
            "Selecting previously unselected package libcupsfilters1:amd64.\n",
            "Preparing to unpack .../10-libcupsfilters1_1.20.2-0ubuntu3.1_amd64.deb ...\n",
            "Unpacking libcupsfilters1:amd64 (1.20.2-0ubuntu3.1) ...\n",
            "Setting up libgs9-common (9.26~dfsg+0-0ubuntu0.18.04.12) ...\n",
            "Setting up fonts-droid-fallback (1:6.0.1r16-1.1) ...\n",
            "Setting up gsfonts (1:8.11+urwcyr1.0.7~pre44-4.4) ...\n",
            "Setting up poppler-data (0.4.8-2) ...\n",
            "Setting up fonts-noto-mono (20171026-2) ...\n",
            "Setting up libcupsfilters1:amd64 (1.20.2-0ubuntu3.1) ...\n",
            "Setting up libcupsimage2:amd64 (2.2.7-1ubuntu2.8) ...\n",
            "Setting up libjbig2dec0:amd64 (0.13-6) ...\n",
            "Setting up libijs-0.35:amd64 (0.35-13) ...\n",
            "Setting up libgs9:amd64 (9.26~dfsg+0-0ubuntu0.18.04.12) ...\n",
            "Setting up ghostscript (9.26~dfsg+0-0ubuntu0.18.04.12) ...\n",
            "Processing triggers for man-db (2.8.3-2ubuntu0.1) ...\n",
            "Processing triggers for fontconfig (2.12.6-0ubuntu2) ...\n",
            "Processing triggers for libc-bin (2.27-3ubuntu1) ...\n",
            "/sbin/ldconfig.real: /usr/local/lib/python3.6/dist-packages/ideep4py/lib/libmkldnn.so.0 is not a symbolic link\n",
            "\n",
            "Collecting camelot-py[cv]\n",
            "\u001b[?25l  Downloading https://files.pythonhosted.org/packages/70/d6/a47894242a6fba58a2332489358afedc6209da43942ab7f850b932019101/camelot_py-0.7.3-py3-none-any.whl (42kB)\n",
            "\u001b[K     |████████████████████████████████| 51kB 1.7MB/s \n",
            "\u001b[?25hRequirement already satisfied: numpy>=1.13.3 in /usr/local/lib/python3.6/dist-packages (from camelot-py[cv]) (1.18.4)\n",
            "Collecting pdfminer.six>=20170720\n",
            "\u001b[?25l  Downloading https://files.pythonhosted.org/packages/0b/04/f62d5834c2bdf90afcaeb23bb5241033c44e27000de64ad8472253daa4a8/pdfminer.six-20200402-py3-none-any.whl (5.6MB)\n",
            "\u001b[K     |████████████████████████████████| 5.6MB 5.1MB/s \n",
            "\u001b[?25hRequirement already satisfied: pandas>=0.23.4 in /usr/local/lib/python3.6/dist-packages (from camelot-py[cv]) (1.0.3)\n",
            "Requirement already satisfied: chardet>=3.0.4 in /usr/local/lib/python3.6/dist-packages (from camelot-py[cv]) (3.0.4)\n",
            "Requirement already satisfied: click>=6.7 in /usr/local/lib/python3.6/dist-packages (from camelot-py[cv]) (7.1.2)\n",
            "Requirement already satisfied: openpyxl>=2.5.8 in /usr/local/lib/python3.6/dist-packages (from camelot-py[cv]) (2.5.9)\n",
            "Collecting PyPDF2>=1.26.0\n",
            "\u001b[?25l  Downloading https://files.pythonhosted.org/packages/b4/01/68fcc0d43daf4c6bdbc6b33cc3f77bda531c86b174cac56ef0ffdb96faab/PyPDF2-1.26.0.tar.gz (77kB)\n",
            "\u001b[K     |████████████████████████████████| 81kB 9.8MB/s \n",
            "\u001b[?25hRequirement already satisfied: opencv-python>=3.4.2.17; extra == \"cv\" in /usr/local/lib/python3.6/dist-packages (from camelot-py[cv]) (4.1.2.30)\n",
            "Collecting pycryptodome\n",
            "\u001b[?25l  Downloading https://files.pythonhosted.org/packages/af/16/da16a22d47bac9bf9db39f3b9af74e8eeed8855c0df96be20b580ef92fff/pycryptodome-3.9.7-cp36-cp36m-manylinux1_x86_64.whl (13.7MB)\n",
            "\u001b[K     |████████████████████████████████| 13.7MB 336kB/s \n",
            "\u001b[?25hRequirement already satisfied: sortedcontainers in /usr/local/lib/python3.6/dist-packages (from pdfminer.six>=20170720->camelot-py[cv]) (2.1.0)\n",
            "Requirement already satisfied: python-dateutil>=2.6.1 in /usr/local/lib/python3.6/dist-packages (from pandas>=0.23.4->camelot-py[cv]) (2.8.1)\n",
            "Requirement already satisfied: pytz>=2017.2 in /usr/local/lib/python3.6/dist-packages (from pandas>=0.23.4->camelot-py[cv]) (2018.9)\n",
            "Requirement already satisfied: jdcal in /usr/local/lib/python3.6/dist-packages (from openpyxl>=2.5.8->camelot-py[cv]) (1.4.1)\n",
            "Requirement already satisfied: et-xmlfile in /usr/local/lib/python3.6/dist-packages (from openpyxl>=2.5.8->camelot-py[cv]) (1.0.1)\n",
            "Requirement already satisfied: six>=1.5 in /usr/local/lib/python3.6/dist-packages (from python-dateutil>=2.6.1->pandas>=0.23.4->camelot-py[cv]) (1.12.0)\n",
            "Building wheels for collected packages: PyPDF2\n",
            "  Building wheel for PyPDF2 (setup.py) ... \u001b[?25l\u001b[?25hdone\n",
            "  Created wheel for PyPDF2: filename=PyPDF2-1.26.0-cp36-none-any.whl size=61086 sha256=bcc33bd5fc80fd814f1867a36415c2535b97bc3e9bf945615db2b2c9b3c5b72d\n",
            "  Stored in directory: /root/.cache/pip/wheels/53/84/19/35bc977c8bf5f0c23a8a011aa958acd4da4bbd7a229315c1b7\n",
            "Successfully built PyPDF2\n",
            "Installing collected packages: pycryptodome, pdfminer.six, PyPDF2, camelot-py\n",
            "Successfully installed PyPDF2-1.26.0 camelot-py-0.7.3 pdfminer.six-20200402 pycryptodome-3.9.7\n"
          ],
          "name": "stdout"
        }
      ]
    },
    {
      "cell_type": "code",
      "metadata": {
        "id": "PWl5wxlz-_U8",
        "colab_type": "code",
        "colab": {}
      },
      "source": [
        "import datetime\n",
        "import re\n",
        "from urllib.parse import urljoin"
      ],
      "execution_count": 0,
      "outputs": []
    },
    {
      "cell_type": "code",
      "metadata": {
        "id": "B13eppg162QP",
        "colab_type": "code",
        "colab": {}
      },
      "source": [
        "import requests\n",
        "from bs4 import BeautifulSoup"
      ],
      "execution_count": 0,
      "outputs": []
    },
    {
      "cell_type": "code",
      "metadata": {
        "id": "s2ZKsu3C62Pp",
        "colab_type": "code",
        "colab": {}
      },
      "source": [
        "url = \"https://www.pref.aichi.jp/site/covid19-aichi/kansensya-kensa.html\"\n",
        "\n",
        "headers = {\n",
        "    \"User-Agent\": \"Mozilla/5.0 (Windows NT 10.0; WOW64; Trident/7.0; rv:11.0) like Gecko\",\n",
        "}"
      ],
      "execution_count": 0,
      "outputs": []
    },
    {
      "cell_type": "code",
      "metadata": {
        "id": "WmpV3LsA62O-",
        "colab_type": "code",
        "colab": {}
      },
      "source": [
        "r = requests.get(url, headers=headers)\n",
        "\n",
        "r.raise_for_status()\n",
        "\n",
        "soup = BeautifulSoup(r.content, \"html5lib\")"
      ],
      "execution_count": 0,
      "outputs": []
    },
    {
      "cell_type": "code",
      "metadata": {
        "id": "eTgKRiun66e4",
        "colab_type": "code",
        "colab": {}
      },
      "source": [
        "tag = soup.find(\"a\", text=re.compile(\"県内発生事例一覧.+PDFファイル\"))"
      ],
      "execution_count": 0,
      "outputs": []
    },
    {
      "cell_type": "code",
      "metadata": {
        "id": "2izjaefS62N8",
        "colab_type": "code",
        "colab": {}
      },
      "source": [
        "link = urljoin(url, tag.get(\"href\"))"
      ],
      "execution_count": 0,
      "outputs": []
    },
    {
      "cell_type": "markdown",
      "metadata": {
        "id": "TcmTBprWNCFu",
        "colab_type": "text"
      },
      "source": [
        "## 更新日"
      ]
    },
    {
      "cell_type": "code",
      "metadata": {
        "id": "CPpg8N8YLlq6",
        "colab_type": "code",
        "colab": {}
      },
      "source": [
        "JST = datetime.timezone(datetime.timedelta(hours=+9), 'JST')"
      ],
      "execution_count": 0,
      "outputs": []
    },
    {
      "cell_type": "code",
      "metadata": {
        "id": "ZH_zJbiECloh",
        "colab_type": "code",
        "colab": {}
      },
      "source": [
        "dt_now = datetime.datetime.now(JST)"
      ],
      "execution_count": 0,
      "outputs": []
    },
    {
      "cell_type": "code",
      "metadata": {
        "id": "WySL26PKBh36",
        "colab_type": "code",
        "colab": {}
      },
      "source": [
        "m = re.search(\"(\\d{1,2})月(\\d{1,2})日\", tag.get_text(strip=True))"
      ],
      "execution_count": 0,
      "outputs": []
    },
    {
      "cell_type": "code",
      "metadata": {
        "id": "zI9nWi3AB29a",
        "colab_type": "code",
        "colab": {}
      },
      "source": [
        "month, day = map(int, m.groups())"
      ],
      "execution_count": 0,
      "outputs": []
    },
    {
      "cell_type": "code",
      "metadata": {
        "id": "WbJbUCws-6xJ",
        "colab_type": "code",
        "outputId": "817d2ead-7b85-4cbb-d380-e0ea0f46f417",
        "colab": {
          "base_uri": "https://localhost:8080/",
          "height": 34
        }
      },
      "source": [
        "dt_update = datetime.datetime(dt_now.year, month, day)\n",
        "dt_update"
      ],
      "execution_count": 12,
      "outputs": [
        {
          "output_type": "execute_result",
          "data": {
            "text/plain": [
              "datetime.datetime(2020, 5, 13, 0, 0)"
            ]
          },
          "metadata": {
            "tags": []
          },
          "execution_count": 12
        }
      ]
    },
    {
      "cell_type": "code",
      "metadata": {
        "id": "0nzSTY-I2yLN",
        "colab_type": "code",
        "outputId": "05f6053e-4850-45fa-81ac-0718e83f3957",
        "colab": {
          "base_uri": "https://localhost:8080/",
          "height": 34
        }
      },
      "source": [
        "tag.get_text(strip=True)"
      ],
      "execution_count": 13,
      "outputs": [
        {
          "output_type": "execute_result",
          "data": {
            "text/plain": [
              "'県内発生事例一覧(5月13日現在) [PDFファイル／173KB]'"
            ]
          },
          "metadata": {
            "tags": []
          },
          "execution_count": 13
        }
      ]
    },
    {
      "cell_type": "code",
      "metadata": {
        "id": "kUfbsT4BLw_f",
        "colab_type": "code",
        "colab": {}
      },
      "source": [
        "dt_tomorrow = dt_update + datetime.timedelta(days=1)"
      ],
      "execution_count": 0,
      "outputs": []
    },
    {
      "cell_type": "code",
      "metadata": {
        "id": "Us6FH4de7ugy",
        "colab_type": "code",
        "colab": {}
      },
      "source": [
        "import pandas as pd\n",
        "import json\n",
        "import camelot"
      ],
      "execution_count": 0,
      "outputs": []
    },
    {
      "cell_type": "code",
      "metadata": {
        "id": "BRwzLpaDpj-Q",
        "colab_type": "code",
        "colab": {}
      },
      "source": [
        "tables = camelot.read_pdf(link, pages=\"all\", split_text=True, strip_text=\"\\n\", line_scale=40)"
      ],
      "execution_count": 0,
      "outputs": []
    },
    {
      "cell_type": "code",
      "metadata": {
        "id": "pE8rnPXmp4lJ",
        "colab_type": "code",
        "colab": {}
      },
      "source": [
        "df_csv = pd.concat([table.df for table in tables])\n",
        "\n",
        "df_csv.to_csv(\"partients.csv\", index=None, header=None)"
      ],
      "execution_count": 0,
      "outputs": []
    },
    {
      "cell_type": "code",
      "metadata": {
        "id": "96QPh5jk_EET",
        "colab_type": "code",
        "colab": {}
      },
      "source": [
        "data = {\"lastUpdate\": dt_now.strftime(\"%Y/%m/%d %H:%M\")}"
      ],
      "execution_count": 0,
      "outputs": []
    },
    {
      "cell_type": "code",
      "metadata": {
        "id": "ZUIjvnAE7yKa",
        "colab_type": "code",
        "colab": {}
      },
      "source": [
        "df_kanja = pd.read_csv(\"partients.csv\")"
      ],
      "execution_count": 0,
      "outputs": []
    },
    {
      "cell_type": "code",
      "metadata": {
        "id": "SlVINU7xq4rb",
        "colab_type": "code",
        "colab": {}
      },
      "source": [
        "def my_parser(s):\n",
        "\n",
        "    y = dt_now.year\n",
        "    m, d = map(int, re.findall(\"[0-9]{1,2}\", s))\n",
        "\n",
        "    return pd.Timestamp(year=y, month=m, day=d)"
      ],
      "execution_count": 0,
      "outputs": []
    },
    {
      "cell_type": "code",
      "metadata": {
        "id": "EAV-KwOK8KZy",
        "colab_type": "code",
        "colab": {}
      },
      "source": [
        "df_kanja[\"発表日\"] = df_kanja[\"発表日\"].apply(my_parser)"
      ],
      "execution_count": 0,
      "outputs": []
    },
    {
      "cell_type": "code",
      "metadata": {
        "id": "f1qGhqi5DQS0",
        "colab_type": "code",
        "colab": {}
      },
      "source": [
        "sr = df_kanja[\"発表日\"].value_counts()"
      ],
      "execution_count": 0,
      "outputs": []
    },
    {
      "cell_type": "code",
      "metadata": {
        "id": "fowD1SrgFmGZ",
        "colab_type": "code",
        "colab": {}
      },
      "source": [
        "df_kanja[\"date\"] = df_kanja[\"発表日\"].dt.strftime(\"%Y-%m-%d\")"
      ],
      "execution_count": 0,
      "outputs": []
    },
    {
      "cell_type": "code",
      "metadata": {
        "id": "JuGC7qejFmM_",
        "colab_type": "code",
        "colab": {}
      },
      "source": [
        "df_kanja[\"short_date\"] = df_kanja[\"発表日\"].dt.strftime(\"%m\\\\/%d\")"
      ],
      "execution_count": 0,
      "outputs": []
    },
    {
      "cell_type": "code",
      "metadata": {
        "id": "VCyQl_UwGgPw",
        "colab_type": "code",
        "colab": {}
      },
      "source": [
        "df_kanja[\"w\"] = (df_kanja[\"発表日\"].dt.dayofweek + 1) % 7\n",
        "df_kanja[\"w\"] = df_kanja[\"w\"].astype(str)"
      ],
      "execution_count": 0,
      "outputs": []
    },
    {
      "cell_type": "code",
      "metadata": {
        "id": "BMPryG1YJzrQ",
        "colab_type": "code",
        "colab": {}
      },
      "source": [
        "df_kanja[\"No\"] = df_kanja[\"No\"].astype(str)"
      ],
      "execution_count": 0,
      "outputs": []
    },
    {
      "cell_type": "code",
      "metadata": {
        "id": "fW_WPnQ0Guyg",
        "colab_type": "code",
        "colab": {}
      },
      "source": [
        "df_kanja[\"発表日\"] = df_kanja[\"発表日\"].dt.strftime(\"%Y/%m/%d %H:%M\")"
      ],
      "execution_count": 0,
      "outputs": []
    },
    {
      "cell_type": "code",
      "metadata": {
        "id": "4yGvVt-qG5EA",
        "colab_type": "code",
        "colab": {}
      },
      "source": [
        "df_kanja.fillna(\"\", inplace=True)"
      ],
      "execution_count": 0,
      "outputs": []
    },
    {
      "cell_type": "code",
      "metadata": {
        "id": "GgKaWlNgIqRA",
        "colab_type": "code",
        "colab": {}
      },
      "source": [
        "data[\"patients\"] = {\n",
        "    \"data\": df_kanja.to_dict(orient=\"recodes\"),\n",
        "    \"date\": dt_tomorrow.strftime(\"%Y/%m/%d %H:%M\"),\n",
        "}"
      ],
      "execution_count": 0,
      "outputs": []
    },
    {
      "cell_type": "code",
      "metadata": {
        "id": "INOG9a8gxqOJ",
        "colab_type": "code",
        "outputId": "edae72e8-6c56-48b9-b72e-874b693d38ed",
        "colab": {
          "base_uri": "https://localhost:8080/",
          "height": 382
        }
      },
      "source": [
        "sr.sort_index().tail(20)"
      ],
      "execution_count": 31,
      "outputs": [
        {
          "output_type": "execute_result",
          "data": {
            "text/plain": [
              "2020-04-17    10\n",
              "2020-04-18    17\n",
              "2020-04-19    10\n",
              "2020-04-20     5\n",
              "2020-04-21    16\n",
              "2020-04-22    19\n",
              "2020-04-23    12\n",
              "2020-04-24    14\n",
              "2020-04-25     1\n",
              "2020-04-26     1\n",
              "2020-04-28     5\n",
              "2020-04-29     4\n",
              "2020-04-30     1\n",
              "2020-05-01     3\n",
              "2020-05-03     2\n",
              "2020-05-04     3\n",
              "2020-05-05     3\n",
              "2020-05-09     3\n",
              "2020-05-11     1\n",
              "2020-05-12     1\n",
              "Name: 発表日, dtype: int64"
            ]
          },
          "metadata": {
            "tags": []
          },
          "execution_count": 31
        }
      ]
    },
    {
      "cell_type": "code",
      "metadata": {
        "id": "rO3SQ0z4IKBX",
        "colab_type": "code",
        "colab": {}
      },
      "source": [
        "if dt_update not in sr.index:\n",
        "    sr[dt_update] = 0"
      ],
      "execution_count": 0,
      "outputs": []
    },
    {
      "cell_type": "code",
      "metadata": {
        "id": "-Uszttj1Jvfb",
        "colab_type": "code",
        "colab": {}
      },
      "source": [
        "df_patients_sum = sr.sort_index().asfreq(\"D\", fill_value=0).reset_index()"
      ],
      "execution_count": 0,
      "outputs": []
    },
    {
      "cell_type": "code",
      "metadata": {
        "id": "NEA4J7h1_jeU",
        "colab_type": "code",
        "colab": {}
      },
      "source": [
        "df_patients_sum[\"日付\"] = df_patients_sum[\"index\"].dt.strftime(\"%Y-%m-%d\")"
      ],
      "execution_count": 0,
      "outputs": []
    },
    {
      "cell_type": "code",
      "metadata": {
        "id": "3fTnmx64__BK",
        "colab_type": "code",
        "colab": {}
      },
      "source": [
        "df_patients_sum.rename(columns={\"発表日\": \"小計\"}, inplace=True)\n",
        "df_patients_sum.drop(columns=[\"index\"], inplace=True)"
      ],
      "execution_count": 0,
      "outputs": []
    },
    {
      "cell_type": "code",
      "metadata": {
        "id": "kA0Feg9g-48h",
        "colab_type": "code",
        "colab": {}
      },
      "source": [
        "data[\"patients_summary\"] = {\n",
        "    \"data\": df_patients_sum.to_dict(orient=\"records\"),\n",
        "    \"date\": dt_tomorrow.strftime(\"%Y/%m/%d %H:%M\"),\n",
        "}"
      ],
      "execution_count": 0,
      "outputs": []
    },
    {
      "cell_type": "code",
      "metadata": {
        "id": "TevFFMDF_Jvi",
        "colab_type": "code",
        "colab": {}
      },
      "source": [
        "with open(\"data.json\", \"w\", encoding=\"utf-8\") as fw:\n",
        "    json.dump(data, fw, ensure_ascii=False, indent=4)"
      ],
      "execution_count": 0,
      "outputs": []
    }
  ]
}