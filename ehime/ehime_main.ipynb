{
  "nbformat": 4,
  "nbformat_minor": 0,
  "metadata": {
    "colab": {
      "name": "ehime_main.ipynb",
      "provenance": [],
      "authorship_tag": "ABX9TyOqv+DR4YZ2WtOGHPZIyESG",
      "include_colab_link": true
    },
    "kernelspec": {
      "name": "python3",
      "display_name": "Python 3"
    }
  },
  "cells": [
    {
      "cell_type": "markdown",
      "metadata": {
        "id": "view-in-github",
        "colab_type": "text"
      },
      "source": [
        "<a href=\"https://colab.research.google.com/github/imabari/covid19-data/blob/master/ehime/ehime_main.ipynb\" target=\"_parent\"><img src=\"https://colab.research.google.com/assets/colab-badge.svg\" alt=\"Open In Colab\"/></a>"
      ]
    },
    {
      "cell_type": "markdown",
      "metadata": {
        "id": "kVWZ2sz-v3X4",
        "colab_type": "text"
      },
      "source": [
        "# インストール"
      ]
    },
    {
      "cell_type": "code",
      "metadata": {
        "id": "aDT7etUurqVU",
        "colab_type": "code",
        "colab": {
          "base_uri": "https://localhost:8080/",
          "height": 295
        },
        "outputId": "188b2d8b-e426-47a5-ae57-28552c7acc37"
      },
      "source": [
        "!pip install pycurl\n",
        "!pip install retry"
      ],
      "execution_count": 1,
      "outputs": [
        {
          "output_type": "stream",
          "text": [
            "Collecting pycurl\n",
            "\u001b[?25l  Downloading https://files.pythonhosted.org/packages/ef/05/4b773f74f830a90a326b06f9b24e65506302ab049e825a3c0b60b1a6e26a/pycurl-7.43.0.5.tar.gz (216kB)\n",
            "\r\u001b[K     |█▌                              | 10kB 19.3MB/s eta 0:00:01\r\u001b[K     |███                             | 20kB 3.2MB/s eta 0:00:01\r\u001b[K     |████▌                           | 30kB 4.6MB/s eta 0:00:01\r\u001b[K     |██████                          | 40kB 3.0MB/s eta 0:00:01\r\u001b[K     |███████▌                        | 51kB 3.7MB/s eta 0:00:01\r\u001b[K     |█████████                       | 61kB 4.4MB/s eta 0:00:01\r\u001b[K     |██████████▋                     | 71kB 5.1MB/s eta 0:00:01\r\u001b[K     |████████████                    | 81kB 3.9MB/s eta 0:00:01\r\u001b[K     |█████████████▋                  | 92kB 4.3MB/s eta 0:00:01\r\u001b[K     |███████████████                 | 102kB 4.8MB/s eta 0:00:01\r\u001b[K     |████████████████▋               | 112kB 4.8MB/s eta 0:00:01\r\u001b[K     |██████████████████▏             | 122kB 4.8MB/s eta 0:00:01\r\u001b[K     |███████████████████▋            | 133kB 4.8MB/s eta 0:00:01\r\u001b[K     |█████████████████████▏          | 143kB 4.8MB/s eta 0:00:01\r\u001b[K     |██████████████████████▋         | 153kB 4.8MB/s eta 0:00:01\r\u001b[K     |████████████████████████▏       | 163kB 4.8MB/s eta 0:00:01\r\u001b[K     |█████████████████████████▊      | 174kB 4.8MB/s eta 0:00:01\r\u001b[K     |███████████████████████████▏    | 184kB 4.8MB/s eta 0:00:01\r\u001b[K     |████████████████████████████▊   | 194kB 4.8MB/s eta 0:00:01\r\u001b[K     |██████████████████████████████▏ | 204kB 4.8MB/s eta 0:00:01\r\u001b[K     |███████████████████████████████▊| 215kB 4.8MB/s eta 0:00:01\r\u001b[K     |████████████████████████████████| 225kB 4.8MB/s \n",
            "\u001b[?25hBuilding wheels for collected packages: pycurl\n",
            "  Building wheel for pycurl (setup.py) ... \u001b[?25l\u001b[?25hdone\n",
            "  Created wheel for pycurl: filename=pycurl-7.43.0.5-cp36-cp36m-linux_x86_64.whl size=283526 sha256=7b2b28e75b2503e2c73795587d32c11b1af8f8ac27d055ccce134cf011ee830a\n",
            "  Stored in directory: /root/.cache/pip/wheels/98/a3/19/9439c79b88a742f508af0c4e410ae3f685db2e13d3374e798e\n",
            "Successfully built pycurl\n",
            "Installing collected packages: pycurl\n",
            "Successfully installed pycurl-7.43.0.5\n",
            "Collecting retry\n",
            "  Downloading https://files.pythonhosted.org/packages/4b/0d/53aea75710af4528a25ed6837d71d117602b01946b307a3912cb3cfcbcba/retry-0.9.2-py2.py3-none-any.whl\n",
            "Requirement already satisfied: decorator>=3.4.2 in /usr/local/lib/python3.6/dist-packages (from retry) (4.4.2)\n",
            "Requirement already satisfied: py<2.0.0,>=1.4.26 in /usr/local/lib/python3.6/dist-packages (from retry) (1.8.1)\n",
            "Installing collected packages: retry\n",
            "Successfully installed retry-0.9.2\n"
          ],
          "name": "stdout"
        }
      ]
    },
    {
      "cell_type": "code",
      "metadata": {
        "id": "5v18UNaf9SXH",
        "colab_type": "code",
        "colab": {
          "base_uri": "https://localhost:8080/",
          "height": 104
        },
        "outputId": "17233b56-eb96-47ec-8ed0-6742f1c01329"
      },
      "source": [
        "!pip install -U pandas"
      ],
      "execution_count": 2,
      "outputs": [
        {
          "output_type": "stream",
          "text": [
            "Requirement already up-to-date: pandas in /usr/local/lib/python3.6/dist-packages (1.0.3)\n",
            "Requirement already satisfied, skipping upgrade: python-dateutil>=2.6.1 in /usr/local/lib/python3.6/dist-packages (from pandas) (2.8.1)\n",
            "Requirement already satisfied, skipping upgrade: numpy>=1.13.3 in /usr/local/lib/python3.6/dist-packages (from pandas) (1.18.3)\n",
            "Requirement already satisfied, skipping upgrade: pytz>=2017.2 in /usr/local/lib/python3.6/dist-packages (from pandas) (2018.9)\n",
            "Requirement already satisfied, skipping upgrade: six>=1.5 in /usr/local/lib/python3.6/dist-packages (from python-dateutil>=2.6.1->pandas) (1.12.0)\n"
          ],
          "name": "stdout"
        }
      ]
    },
    {
      "cell_type": "markdown",
      "metadata": {
        "id": "-mzP-93kvsAj",
        "colab_type": "text"
      },
      "source": [
        "# 設定"
      ]
    },
    {
      "cell_type": "code",
      "metadata": {
        "id": "b3pQa81usPAh",
        "colab_type": "code",
        "colab": {}
      },
      "source": [
        "USER_AGENT = \"Mozilla/5.0 (Windows NT 10.0; WOW64; Trident/7.0; rv:11.0) like Gecko\"\n",
        "\n",
        "DOWNLOAD_DIR = \"download\"\n",
        "DATA_DIR = \"data\""
      ],
      "execution_count": 0,
      "outputs": []
    },
    {
      "cell_type": "markdown",
      "metadata": {
        "id": "hwB7xMLHqhFJ",
        "colab_type": "text"
      },
      "source": [
        "# オープンデータ"
      ]
    },
    {
      "cell_type": "code",
      "metadata": {
        "id": "NA9HXe00GXlq",
        "colab_type": "code",
        "colab": {}
      },
      "source": [
        "kanja_csv = \"https://www.pref.ehime.jp/opendata-catalog/dataset/2174/resource/7057/380008_ehime_covid19_patients.csv\"\n",
        "kensa_csv = \"https://www.pref.ehime.jp/opendata-catalog/dataset/2174/resource/7056/380008_ehime_covid19_test_people.csv\""
      ],
      "execution_count": 0,
      "outputs": []
    },
    {
      "cell_type": "markdown",
      "metadata": {
        "id": "bwjZ_rLsvvi7",
        "colab_type": "text"
      },
      "source": [
        "# データラングリング"
      ]
    },
    {
      "cell_type": "code",
      "metadata": {
        "id": "dfybpHdJrsZv",
        "colab_type": "code",
        "colab": {}
      },
      "source": [
        "import pycurl\n",
        "from retry import retry\n",
        "import pathlib"
      ],
      "execution_count": 0,
      "outputs": []
    },
    {
      "cell_type": "code",
      "metadata": {
        "id": "C1qebmPmrsfx",
        "colab_type": "code",
        "colab": {}
      },
      "source": [
        "@retry(tries=5, delay=5, backoff=3)\n",
        "def get_file(url, file_name, dir=\".\"):\n",
        "\n",
        "    p = pathlib.Path(dir, file_name)\n",
        "\n",
        "    p.parent.mkdir(parents=True, exist_ok=True)\n",
        "\n",
        "    with p.open(mode=\"wb\") as f:\n",
        "\n",
        "        c = pycurl.Curl()\n",
        "        c.setopt(c.URL, url)\n",
        "        c.setopt(c.USERAGENT, USER_AGENT)\n",
        "        c.setopt(c.WRITEDATA, f)\n",
        "        c.perform()\n",
        "        c.close()\n",
        "\n",
        "    return p"
      ],
      "execution_count": 0,
      "outputs": []
    },
    {
      "cell_type": "code",
      "metadata": {
        "id": "WpKvYXsfH68h",
        "colab_type": "code",
        "colab": {}
      },
      "source": [
        "import pandas as pd"
      ],
      "execution_count": 0,
      "outputs": []
    },
    {
      "cell_type": "code",
      "metadata": {
        "id": "XsQ-MBx0ojj9",
        "colab_type": "code",
        "colab": {}
      },
      "source": [
        "import datetime\n",
        "import pathlib\n",
        "import json"
      ],
      "execution_count": 0,
      "outputs": []
    },
    {
      "cell_type": "code",
      "metadata": {
        "id": "ja-aa3NipatK",
        "colab_type": "code",
        "colab": {}
      },
      "source": [
        "JST = datetime.timezone(datetime.timedelta(hours=+9), \"JST\")"
      ],
      "execution_count": 0,
      "outputs": []
    },
    {
      "cell_type": "code",
      "metadata": {
        "id": "X-JPjFGUolQz",
        "colab_type": "code",
        "colab": {}
      },
      "source": [
        "dt_now = datetime.datetime.now(JST)\n",
        "dt_update = dt_now.strftime(\"%Y/%m/%d %H:%M\")"
      ],
      "execution_count": 0,
      "outputs": []
    },
    {
      "cell_type": "code",
      "metadata": {
        "id": "ZPMiGSsqNMWK",
        "colab_type": "code",
        "colab": {}
      },
      "source": [
        "data = {\"lastUpdate\": dt_update}"
      ],
      "execution_count": 0,
      "outputs": []
    },
    {
      "cell_type": "markdown",
      "metadata": {
        "id": "F5WTME4hypNg",
        "colab_type": "text"
      },
      "source": [
        "# 検査"
      ]
    },
    {
      "cell_type": "code",
      "metadata": {
        "id": "YBTKbwU6H9b_",
        "colab_type": "code",
        "colab": {}
      },
      "source": [
        "kensa_path = get_file(kensa_csv, \"kensa.csv\", DOWNLOAD_DIR)\n",
        "df_inspections_sum = pd.read_csv(kensa_path, index_col=\"実施_年月日\", parse_dates=True).loc[:, \"検査実施_人数\"]\n",
        "\n",
        "df_inspections_sum.name = \"検査人数\""
      ],
      "execution_count": 0,
      "outputs": []
    },
    {
      "cell_type": "markdown",
      "metadata": {
        "id": "WYZo6P3Eo4l0",
        "colab_type": "text"
      },
      "source": [
        "# 患者"
      ]
    },
    {
      "cell_type": "code",
      "metadata": {
        "id": "tLYw0l3vh36V",
        "colab_type": "code",
        "colab": {}
      },
      "source": [
        "kanja_path = get_file(kanja_csv, \"kanja.csv\", DOWNLOAD_DIR)\n",
        "df_kanja = pd.read_csv(kanja_path, index_col=\"No\", parse_dates=[\"公表_年月日\", \"発症_年月日\"])"
      ],
      "execution_count": 0,
      "outputs": []
    },
    {
      "cell_type": "code",
      "metadata": {
        "id": "nVtWwlggixc7",
        "colab_type": "code",
        "colab": {}
      },
      "source": [
        "df_kanja.columns = df_kanja.columns.map(lambda s: s.replace(\"患者_\", \"\"))"
      ],
      "execution_count": 0,
      "outputs": []
    },
    {
      "cell_type": "code",
      "metadata": {
        "id": "eeT_Hddnmj18",
        "colab_type": "code",
        "colab": {}
      },
      "source": [
        "weeks = [\"月\", \"火\", \"水\", \"木\", \"金\", \"土\", \"日\"]\n",
        "df_kanja[\"曜日\"] = df_kanja[\"公表_年月日\"].dt.dayofweek.apply(lambda x: weeks[x])"
      ],
      "execution_count": 0,
      "outputs": []
    },
    {
      "cell_type": "code",
      "metadata": {
        "id": "HyMIwGjzkYv8",
        "colab_type": "code",
        "colab": {}
      },
      "source": [
        "df_kanja[\"退院\"] = df_kanja[\"退院済フラグ\"].replace({1: \"○\", 0: \"\"}).fillna(\"\")"
      ],
      "execution_count": 0,
      "outputs": []
    },
    {
      "cell_type": "code",
      "metadata": {
        "id": "XDQxvgNelLGt",
        "colab_type": "code",
        "colab": {}
      },
      "source": [
        "patients = df_kanja.loc[:, [ \"公表_年月日\", \"曜日\", \"居住地\", \"年代\", \"性別\", \"退院\"]]"
      ],
      "execution_count": 0,
      "outputs": []
    },
    {
      "cell_type": "code",
      "metadata": {
        "id": "lc52kd7Jaa2h",
        "colab_type": "code",
        "colab": {
          "base_uri": "https://localhost:8080/",
          "height": 1000
        },
        "outputId": "e1cc49c0-7d75-4820-9314-d28b7b0e0f63"
      },
      "source": [
        "patients"
      ],
      "execution_count": 18,
      "outputs": [
        {
          "output_type": "execute_result",
          "data": {
            "text/html": [
              "<div>\n",
              "<style scoped>\n",
              "    .dataframe tbody tr th:only-of-type {\n",
              "        vertical-align: middle;\n",
              "    }\n",
              "\n",
              "    .dataframe tbody tr th {\n",
              "        vertical-align: top;\n",
              "    }\n",
              "\n",
              "    .dataframe thead th {\n",
              "        text-align: right;\n",
              "    }\n",
              "</style>\n",
              "<table border=\"1\" class=\"dataframe\">\n",
              "  <thead>\n",
              "    <tr style=\"text-align: right;\">\n",
              "      <th></th>\n",
              "      <th>公表_年月日</th>\n",
              "      <th>曜日</th>\n",
              "      <th>居住地</th>\n",
              "      <th>年代</th>\n",
              "      <th>性別</th>\n",
              "      <th>退院</th>\n",
              "    </tr>\n",
              "    <tr>\n",
              "      <th>No</th>\n",
              "      <th></th>\n",
              "      <th></th>\n",
              "      <th></th>\n",
              "      <th></th>\n",
              "      <th></th>\n",
              "      <th></th>\n",
              "    </tr>\n",
              "  </thead>\n",
              "  <tbody>\n",
              "    <tr>\n",
              "      <th>1</th>\n",
              "      <td>2020-03-02</td>\n",
              "      <td>月</td>\n",
              "      <td>愛南町</td>\n",
              "      <td>40代</td>\n",
              "      <td>女性</td>\n",
              "      <td></td>\n",
              "    </tr>\n",
              "    <tr>\n",
              "      <th>2</th>\n",
              "      <td>2020-03-04</td>\n",
              "      <td>水</td>\n",
              "      <td>松山市</td>\n",
              "      <td>30代</td>\n",
              "      <td>女性</td>\n",
              "      <td></td>\n",
              "    </tr>\n",
              "    <tr>\n",
              "      <th>3</th>\n",
              "      <td>2020-03-18</td>\n",
              "      <td>水</td>\n",
              "      <td>松山市</td>\n",
              "      <td>30代</td>\n",
              "      <td>女性</td>\n",
              "      <td></td>\n",
              "    </tr>\n",
              "    <tr>\n",
              "      <th>4</th>\n",
              "      <td>2020-03-26</td>\n",
              "      <td>木</td>\n",
              "      <td>新居浜市</td>\n",
              "      <td>20代</td>\n",
              "      <td>男性</td>\n",
              "      <td></td>\n",
              "    </tr>\n",
              "    <tr>\n",
              "      <th>5</th>\n",
              "      <td>2020-03-30</td>\n",
              "      <td>月</td>\n",
              "      <td>松山市</td>\n",
              "      <td>70代</td>\n",
              "      <td>男性</td>\n",
              "      <td></td>\n",
              "    </tr>\n",
              "    <tr>\n",
              "      <th>6</th>\n",
              "      <td>2020-03-30</td>\n",
              "      <td>月</td>\n",
              "      <td>松山市</td>\n",
              "      <td>80代</td>\n",
              "      <td>男性</td>\n",
              "      <td></td>\n",
              "    </tr>\n",
              "    <tr>\n",
              "      <th>7</th>\n",
              "      <td>2020-03-30</td>\n",
              "      <td>月</td>\n",
              "      <td>松山市</td>\n",
              "      <td>80代</td>\n",
              "      <td>女性</td>\n",
              "      <td></td>\n",
              "    </tr>\n",
              "    <tr>\n",
              "      <th>8</th>\n",
              "      <td>2020-03-30</td>\n",
              "      <td>月</td>\n",
              "      <td>松山市</td>\n",
              "      <td>50代</td>\n",
              "      <td>男性</td>\n",
              "      <td></td>\n",
              "    </tr>\n",
              "    <tr>\n",
              "      <th>9</th>\n",
              "      <td>2020-03-30</td>\n",
              "      <td>月</td>\n",
              "      <td>松山市</td>\n",
              "      <td>60代</td>\n",
              "      <td>男性</td>\n",
              "      <td></td>\n",
              "    </tr>\n",
              "    <tr>\n",
              "      <th>10</th>\n",
              "      <td>2020-04-01</td>\n",
              "      <td>水</td>\n",
              "      <td>松前町</td>\n",
              "      <td>30代</td>\n",
              "      <td>男性</td>\n",
              "      <td></td>\n",
              "    </tr>\n",
              "    <tr>\n",
              "      <th>11</th>\n",
              "      <td>2020-04-01</td>\n",
              "      <td>水</td>\n",
              "      <td>松前町</td>\n",
              "      <td>40代</td>\n",
              "      <td>女性</td>\n",
              "      <td></td>\n",
              "    </tr>\n",
              "    <tr>\n",
              "      <th>12</th>\n",
              "      <td>2020-04-02</td>\n",
              "      <td>木</td>\n",
              "      <td>新居浜市</td>\n",
              "      <td>50代</td>\n",
              "      <td>男性</td>\n",
              "      <td></td>\n",
              "    </tr>\n",
              "    <tr>\n",
              "      <th>13</th>\n",
              "      <td>2020-04-02</td>\n",
              "      <td>木</td>\n",
              "      <td>松前町</td>\n",
              "      <td>10歳未満</td>\n",
              "      <td>女性</td>\n",
              "      <td></td>\n",
              "    </tr>\n",
              "    <tr>\n",
              "      <th>14</th>\n",
              "      <td>2020-04-02</td>\n",
              "      <td>木</td>\n",
              "      <td>砥部町</td>\n",
              "      <td>50代</td>\n",
              "      <td>女性</td>\n",
              "      <td></td>\n",
              "    </tr>\n",
              "    <tr>\n",
              "      <th>15</th>\n",
              "      <td>2020-04-02</td>\n",
              "      <td>木</td>\n",
              "      <td>松山市</td>\n",
              "      <td>40代</td>\n",
              "      <td>男性</td>\n",
              "      <td></td>\n",
              "    </tr>\n",
              "    <tr>\n",
              "      <th>16</th>\n",
              "      <td>2020-04-02</td>\n",
              "      <td>木</td>\n",
              "      <td>松山市</td>\n",
              "      <td>80代</td>\n",
              "      <td>男性</td>\n",
              "      <td></td>\n",
              "    </tr>\n",
              "    <tr>\n",
              "      <th>17</th>\n",
              "      <td>2020-04-02</td>\n",
              "      <td>木</td>\n",
              "      <td>松山市</td>\n",
              "      <td>40代</td>\n",
              "      <td>女性</td>\n",
              "      <td></td>\n",
              "    </tr>\n",
              "    <tr>\n",
              "      <th>18</th>\n",
              "      <td>2020-04-02</td>\n",
              "      <td>木</td>\n",
              "      <td>松山市</td>\n",
              "      <td>50代</td>\n",
              "      <td>女性</td>\n",
              "      <td></td>\n",
              "    </tr>\n",
              "    <tr>\n",
              "      <th>19</th>\n",
              "      <td>2020-04-03</td>\n",
              "      <td>金</td>\n",
              "      <td>新居浜市</td>\n",
              "      <td>50代</td>\n",
              "      <td>女性</td>\n",
              "      <td></td>\n",
              "    </tr>\n",
              "    <tr>\n",
              "      <th>20</th>\n",
              "      <td>2020-04-04</td>\n",
              "      <td>土</td>\n",
              "      <td>松前町</td>\n",
              "      <td>50代</td>\n",
              "      <td>男性</td>\n",
              "      <td></td>\n",
              "    </tr>\n",
              "    <tr>\n",
              "      <th>21</th>\n",
              "      <td>2020-04-04</td>\n",
              "      <td>土</td>\n",
              "      <td>愛南町</td>\n",
              "      <td>50代</td>\n",
              "      <td>女性</td>\n",
              "      <td></td>\n",
              "    </tr>\n",
              "    <tr>\n",
              "      <th>22</th>\n",
              "      <td>2020-04-05</td>\n",
              "      <td>日</td>\n",
              "      <td>愛南町</td>\n",
              "      <td>50代</td>\n",
              "      <td>男性</td>\n",
              "      <td></td>\n",
              "    </tr>\n",
              "    <tr>\n",
              "      <th>23</th>\n",
              "      <td>2020-04-05</td>\n",
              "      <td>日</td>\n",
              "      <td>砥部町</td>\n",
              "      <td>60代</td>\n",
              "      <td>男性</td>\n",
              "      <td></td>\n",
              "    </tr>\n",
              "    <tr>\n",
              "      <th>24</th>\n",
              "      <td>2020-04-07</td>\n",
              "      <td>火</td>\n",
              "      <td>内子町</td>\n",
              "      <td>10代</td>\n",
              "      <td>男性</td>\n",
              "      <td></td>\n",
              "    </tr>\n",
              "    <tr>\n",
              "      <th>25</th>\n",
              "      <td>2020-04-07</td>\n",
              "      <td>火</td>\n",
              "      <td>松山市</td>\n",
              "      <td>30代</td>\n",
              "      <td>男性</td>\n",
              "      <td></td>\n",
              "    </tr>\n",
              "    <tr>\n",
              "      <th>26</th>\n",
              "      <td>2020-04-08</td>\n",
              "      <td>水</td>\n",
              "      <td>松山市</td>\n",
              "      <td>30代</td>\n",
              "      <td>女性</td>\n",
              "      <td></td>\n",
              "    </tr>\n",
              "    <tr>\n",
              "      <th>27</th>\n",
              "      <td>2020-04-09</td>\n",
              "      <td>木</td>\n",
              "      <td>愛南町</td>\n",
              "      <td>60代</td>\n",
              "      <td>女性</td>\n",
              "      <td></td>\n",
              "    </tr>\n",
              "    <tr>\n",
              "      <th>28</th>\n",
              "      <td>2020-04-09</td>\n",
              "      <td>木</td>\n",
              "      <td>愛南町</td>\n",
              "      <td>60代</td>\n",
              "      <td>男性</td>\n",
              "      <td></td>\n",
              "    </tr>\n",
              "    <tr>\n",
              "      <th>29</th>\n",
              "      <td>2020-04-10</td>\n",
              "      <td>金</td>\n",
              "      <td>松山市</td>\n",
              "      <td>30代</td>\n",
              "      <td>男性</td>\n",
              "      <td></td>\n",
              "    </tr>\n",
              "    <tr>\n",
              "      <th>30</th>\n",
              "      <td>2020-04-11</td>\n",
              "      <td>土</td>\n",
              "      <td>松山市</td>\n",
              "      <td>30代</td>\n",
              "      <td>女性</td>\n",
              "      <td></td>\n",
              "    </tr>\n",
              "    <tr>\n",
              "      <th>31</th>\n",
              "      <td>2020-04-12</td>\n",
              "      <td>日</td>\n",
              "      <td>愛南町</td>\n",
              "      <td>40代</td>\n",
              "      <td>女性</td>\n",
              "      <td></td>\n",
              "    </tr>\n",
              "    <tr>\n",
              "      <th>32</th>\n",
              "      <td>2020-04-12</td>\n",
              "      <td>日</td>\n",
              "      <td>愛南町</td>\n",
              "      <td>10歳未満</td>\n",
              "      <td>女性</td>\n",
              "      <td></td>\n",
              "    </tr>\n",
              "    <tr>\n",
              "      <th>33</th>\n",
              "      <td>2020-04-12</td>\n",
              "      <td>日</td>\n",
              "      <td>松山市</td>\n",
              "      <td>60代</td>\n",
              "      <td>男性</td>\n",
              "      <td></td>\n",
              "    </tr>\n",
              "    <tr>\n",
              "      <th>34</th>\n",
              "      <td>2020-04-12</td>\n",
              "      <td>日</td>\n",
              "      <td>松山市</td>\n",
              "      <td>40代</td>\n",
              "      <td>女性</td>\n",
              "      <td></td>\n",
              "    </tr>\n",
              "    <tr>\n",
              "      <th>35</th>\n",
              "      <td>2020-04-12</td>\n",
              "      <td>日</td>\n",
              "      <td>松山市</td>\n",
              "      <td>50代</td>\n",
              "      <td>男性</td>\n",
              "      <td></td>\n",
              "    </tr>\n",
              "    <tr>\n",
              "      <th>36</th>\n",
              "      <td>2020-04-12</td>\n",
              "      <td>日</td>\n",
              "      <td>松山市</td>\n",
              "      <td>50代</td>\n",
              "      <td>女性</td>\n",
              "      <td></td>\n",
              "    </tr>\n",
              "    <tr>\n",
              "      <th>37</th>\n",
              "      <td>2020-04-12</td>\n",
              "      <td>日</td>\n",
              "      <td>松山市</td>\n",
              "      <td>60代</td>\n",
              "      <td>男性</td>\n",
              "      <td></td>\n",
              "    </tr>\n",
              "    <tr>\n",
              "      <th>38</th>\n",
              "      <td>2020-04-13</td>\n",
              "      <td>月</td>\n",
              "      <td>松山市</td>\n",
              "      <td>50代</td>\n",
              "      <td>男性</td>\n",
              "      <td></td>\n",
              "    </tr>\n",
              "    <tr>\n",
              "      <th>39</th>\n",
              "      <td>2020-04-13</td>\n",
              "      <td>月</td>\n",
              "      <td>松山市</td>\n",
              "      <td>40代</td>\n",
              "      <td>女性</td>\n",
              "      <td></td>\n",
              "    </tr>\n",
              "    <tr>\n",
              "      <th>40</th>\n",
              "      <td>2020-04-14</td>\n",
              "      <td>火</td>\n",
              "      <td>松山市</td>\n",
              "      <td>50代</td>\n",
              "      <td>女性</td>\n",
              "      <td></td>\n",
              "    </tr>\n",
              "    <tr>\n",
              "      <th>41</th>\n",
              "      <td>2020-04-15</td>\n",
              "      <td>水</td>\n",
              "      <td>松山市</td>\n",
              "      <td>30代</td>\n",
              "      <td>男性</td>\n",
              "      <td></td>\n",
              "    </tr>\n",
              "    <tr>\n",
              "      <th>42</th>\n",
              "      <td>2020-04-17</td>\n",
              "      <td>金</td>\n",
              "      <td>西予市</td>\n",
              "      <td>60代</td>\n",
              "      <td>男性</td>\n",
              "      <td></td>\n",
              "    </tr>\n",
              "    <tr>\n",
              "      <th>43</th>\n",
              "      <td>2020-04-17</td>\n",
              "      <td>金</td>\n",
              "      <td>松山市</td>\n",
              "      <td>90歳以上</td>\n",
              "      <td>女性</td>\n",
              "      <td></td>\n",
              "    </tr>\n",
              "    <tr>\n",
              "      <th>44</th>\n",
              "      <td>2020-04-17</td>\n",
              "      <td>金</td>\n",
              "      <td>松山市</td>\n",
              "      <td>90歳以上</td>\n",
              "      <td>女性</td>\n",
              "      <td></td>\n",
              "    </tr>\n",
              "    <tr>\n",
              "      <th>45</th>\n",
              "      <td>2020-04-18</td>\n",
              "      <td>土</td>\n",
              "      <td>松山市</td>\n",
              "      <td>20代</td>\n",
              "      <td>女性</td>\n",
              "      <td></td>\n",
              "    </tr>\n",
              "    <tr>\n",
              "      <th>46</th>\n",
              "      <td>2020-04-19</td>\n",
              "      <td>日</td>\n",
              "      <td>松山市</td>\n",
              "      <td>20代</td>\n",
              "      <td>女性</td>\n",
              "      <td></td>\n",
              "    </tr>\n",
              "    <tr>\n",
              "      <th>47</th>\n",
              "      <td>2020-04-21</td>\n",
              "      <td>火</td>\n",
              "      <td>松山市</td>\n",
              "      <td>50代</td>\n",
              "      <td>女性</td>\n",
              "      <td></td>\n",
              "    </tr>\n",
              "  </tbody>\n",
              "</table>\n",
              "</div>"
            ],
            "text/plain": [
              "       公表_年月日 曜日   居住地     年代  性別 退院\n",
              "No                                  \n",
              "1  2020-03-02  月   愛南町    40代  女性   \n",
              "2  2020-03-04  水   松山市    30代  女性   \n",
              "3  2020-03-18  水   松山市    30代  女性   \n",
              "4  2020-03-26  木  新居浜市    20代  男性   \n",
              "5  2020-03-30  月   松山市    70代  男性   \n",
              "6  2020-03-30  月   松山市    80代  男性   \n",
              "7  2020-03-30  月   松山市    80代  女性   \n",
              "8  2020-03-30  月   松山市    50代  男性   \n",
              "9  2020-03-30  月   松山市    60代  男性   \n",
              "10 2020-04-01  水   松前町    30代  男性   \n",
              "11 2020-04-01  水   松前町    40代  女性   \n",
              "12 2020-04-02  木  新居浜市    50代  男性   \n",
              "13 2020-04-02  木   松前町  10歳未満  女性   \n",
              "14 2020-04-02  木   砥部町    50代  女性   \n",
              "15 2020-04-02  木   松山市    40代  男性   \n",
              "16 2020-04-02  木   松山市    80代  男性   \n",
              "17 2020-04-02  木   松山市    40代  女性   \n",
              "18 2020-04-02  木   松山市    50代  女性   \n",
              "19 2020-04-03  金  新居浜市    50代  女性   \n",
              "20 2020-04-04  土   松前町    50代  男性   \n",
              "21 2020-04-04  土   愛南町    50代  女性   \n",
              "22 2020-04-05  日   愛南町    50代  男性   \n",
              "23 2020-04-05  日   砥部町    60代  男性   \n",
              "24 2020-04-07  火   内子町    10代  男性   \n",
              "25 2020-04-07  火   松山市    30代  男性   \n",
              "26 2020-04-08  水   松山市    30代  女性   \n",
              "27 2020-04-09  木   愛南町    60代  女性   \n",
              "28 2020-04-09  木   愛南町    60代  男性   \n",
              "29 2020-04-10  金   松山市    30代  男性   \n",
              "30 2020-04-11  土   松山市    30代  女性   \n",
              "31 2020-04-12  日   愛南町    40代  女性   \n",
              "32 2020-04-12  日   愛南町  10歳未満  女性   \n",
              "33 2020-04-12  日   松山市    60代  男性   \n",
              "34 2020-04-12  日   松山市    40代  女性   \n",
              "35 2020-04-12  日   松山市    50代  男性   \n",
              "36 2020-04-12  日   松山市    50代  女性   \n",
              "37 2020-04-12  日   松山市    60代  男性   \n",
              "38 2020-04-13  月   松山市    50代  男性   \n",
              "39 2020-04-13  月   松山市    40代  女性   \n",
              "40 2020-04-14  火   松山市    50代  女性   \n",
              "41 2020-04-15  水   松山市    30代  男性   \n",
              "42 2020-04-17  金   西予市    60代  男性   \n",
              "43 2020-04-17  金   松山市  90歳以上  女性   \n",
              "44 2020-04-17  金   松山市  90歳以上  女性   \n",
              "45 2020-04-18  土   松山市    20代  女性   \n",
              "46 2020-04-19  日   松山市    20代  女性   \n",
              "47 2020-04-21  火   松山市    50代  女性   "
            ]
          },
          "metadata": {
            "tags": []
          },
          "execution_count": 18
        }
      ]
    },
    {
      "cell_type": "code",
      "metadata": {
        "id": "kZl8v8_JqJvd",
        "colab_type": "code",
        "colab": {}
      },
      "source": [
        "df_patients_sum = (\n",
        "    df_kanja[\"公表_年月日\"].value_counts().sort_index().asfreq(\"D\", fill_value=0)\n",
        ")\n",
        "\n",
        "df_patients_sum.name = \"陽性人数\""
      ],
      "execution_count": 0,
      "outputs": []
    },
    {
      "cell_type": "code",
      "metadata": {
        "id": "qtjwQ3evbYoa",
        "colab_type": "code",
        "colab": {}
      },
      "source": [
        "df_kensa = pd.concat([df_inspections_sum, df_patients_sum], axis=1).fillna(0).astype(\"Int64\")"
      ],
      "execution_count": 0,
      "outputs": []
    },
    {
      "cell_type": "code",
      "metadata": {
        "id": "3Po3WSUTbKrb",
        "colab_type": "code",
        "colab": {
          "base_uri": "https://localhost:8080/",
          "height": 424
        },
        "outputId": "ee931e22-4e25-4d20-fc22-4c57c53abd79"
      },
      "source": [
        "df_kensa"
      ],
      "execution_count": 21,
      "outputs": [
        {
          "output_type": "execute_result",
          "data": {
            "text/html": [
              "<div>\n",
              "<style scoped>\n",
              "    .dataframe tbody tr th:only-of-type {\n",
              "        vertical-align: middle;\n",
              "    }\n",
              "\n",
              "    .dataframe tbody tr th {\n",
              "        vertical-align: top;\n",
              "    }\n",
              "\n",
              "    .dataframe thead th {\n",
              "        text-align: right;\n",
              "    }\n",
              "</style>\n",
              "<table border=\"1\" class=\"dataframe\">\n",
              "  <thead>\n",
              "    <tr style=\"text-align: right;\">\n",
              "      <th></th>\n",
              "      <th>検査人数</th>\n",
              "      <th>陽性人数</th>\n",
              "    </tr>\n",
              "  </thead>\n",
              "  <tbody>\n",
              "    <tr>\n",
              "      <th>2020-02-01</th>\n",
              "      <td>0</td>\n",
              "      <td>0</td>\n",
              "    </tr>\n",
              "    <tr>\n",
              "      <th>2020-02-02</th>\n",
              "      <td>0</td>\n",
              "      <td>0</td>\n",
              "    </tr>\n",
              "    <tr>\n",
              "      <th>2020-02-03</th>\n",
              "      <td>1</td>\n",
              "      <td>0</td>\n",
              "    </tr>\n",
              "    <tr>\n",
              "      <th>2020-02-04</th>\n",
              "      <td>0</td>\n",
              "      <td>0</td>\n",
              "    </tr>\n",
              "    <tr>\n",
              "      <th>2020-02-05</th>\n",
              "      <td>0</td>\n",
              "      <td>0</td>\n",
              "    </tr>\n",
              "    <tr>\n",
              "      <th>...</th>\n",
              "      <td>...</td>\n",
              "      <td>...</td>\n",
              "    </tr>\n",
              "    <tr>\n",
              "      <th>2020-04-23</th>\n",
              "      <td>16</td>\n",
              "      <td>0</td>\n",
              "    </tr>\n",
              "    <tr>\n",
              "      <th>2020-04-24</th>\n",
              "      <td>25</td>\n",
              "      <td>0</td>\n",
              "    </tr>\n",
              "    <tr>\n",
              "      <th>2020-04-25</th>\n",
              "      <td>21</td>\n",
              "      <td>0</td>\n",
              "    </tr>\n",
              "    <tr>\n",
              "      <th>2020-04-26</th>\n",
              "      <td>1</td>\n",
              "      <td>0</td>\n",
              "    </tr>\n",
              "    <tr>\n",
              "      <th>2020-04-27</th>\n",
              "      <td>19</td>\n",
              "      <td>0</td>\n",
              "    </tr>\n",
              "  </tbody>\n",
              "</table>\n",
              "<p>87 rows × 2 columns</p>\n",
              "</div>"
            ],
            "text/plain": [
              "            検査人数  陽性人数\n",
              "2020-02-01     0     0\n",
              "2020-02-02     0     0\n",
              "2020-02-03     1     0\n",
              "2020-02-04     0     0\n",
              "2020-02-05     0     0\n",
              "...          ...   ...\n",
              "2020-04-23    16     0\n",
              "2020-04-24    25     0\n",
              "2020-04-25    21     0\n",
              "2020-04-26     1     0\n",
              "2020-04-27    19     0\n",
              "\n",
              "[87 rows x 2 columns]"
            ]
          },
          "metadata": {
            "tags": []
          },
          "execution_count": 21
        }
      ]
    },
    {
      "cell_type": "markdown",
      "metadata": {
        "id": "n4nICx3dBpz8",
        "colab_type": "text"
      },
      "source": [
        "# 可視化"
      ]
    },
    {
      "cell_type": "code",
      "metadata": {
        "id": "6hdtEQnJBnvR",
        "colab_type": "code",
        "colab": {
          "base_uri": "https://localhost:8080/",
          "height": 191
        },
        "outputId": "122448c8-68cb-4cb5-d05b-aacdb11e0c7b"
      },
      "source": [
        "!pip install japanize-matplotlib"
      ],
      "execution_count": 22,
      "outputs": [
        {
          "output_type": "stream",
          "text": [
            "Collecting japanize-matplotlib\n",
            "\u001b[?25l  Downloading https://files.pythonhosted.org/packages/aa/c0/b75d434be51a8cc11d2e9b36f2d7f93a1bcf63bde24dc79a61d329d60b2a/japanize-matplotlib-1.0.5.tar.gz (4.1MB)\n",
            "\u001b[K     |████████████████████████████████| 4.1MB 4.9MB/s \n",
            "\u001b[?25hBuilding wheels for collected packages: japanize-matplotlib\n",
            "  Building wheel for japanize-matplotlib (setup.py) ... \u001b[?25l\u001b[?25hdone\n",
            "  Created wheel for japanize-matplotlib: filename=japanize_matplotlib-1.0.5-cp36-none-any.whl size=4118721 sha256=90bc1e8751bbf1b8bb39c08cd35c243cba921f80dd7ca12f96edfd49096581d9\n",
            "  Stored in directory: /root/.cache/pip/wheels/6c/8a/08/4a784957da9f3c2b4839b4986be2fba2a481877318948be52c\n",
            "Successfully built japanize-matplotlib\n",
            "Installing collected packages: japanize-matplotlib\n",
            "Successfully installed japanize-matplotlib-1.0.5\n"
          ],
          "name": "stdout"
        }
      ]
    },
    {
      "cell_type": "code",
      "metadata": {
        "id": "LYD6skDUBnuq",
        "colab_type": "code",
        "colab": {}
      },
      "source": [
        "import matplotlib.pyplot as plt"
      ],
      "execution_count": 0,
      "outputs": []
    },
    {
      "cell_type": "code",
      "metadata": {
        "id": "GLf6A3MEBntP",
        "colab_type": "code",
        "colab": {
          "base_uri": "https://localhost:8080/",
          "height": 69
        },
        "outputId": "071d0e4d-aa42-4a83-f71b-7644c8096a66"
      },
      "source": [
        "import japanize_matplotlib\n",
        "import matplotlib.dates as mdates"
      ],
      "execution_count": 24,
      "outputs": [
        {
          "output_type": "stream",
          "text": [
            "/usr/local/lib/python3.6/dist-packages/japanize_matplotlib/__init__.py:13: MatplotlibDeprecationWarning: \n",
            "The createFontList function was deprecated in Matplotlib 3.2 and will be removed two minor releases later. Use FontManager.addfont instead.\n",
            "  font_list = font_manager.createFontList(font_files)\n"
          ],
          "name": "stderr"
        }
      ]
    },
    {
      "cell_type": "code",
      "metadata": {
        "id": "ItGbw3Xyjk4I",
        "colab_type": "code",
        "colab": {}
      },
      "source": [
        "# 解像度\n",
        "import matplotlib as mpl\n",
        "mpl.rcParams['figure.dpi'] = 150"
      ],
      "execution_count": 0,
      "outputs": []
    },
    {
      "cell_type": "markdown",
      "metadata": {
        "id": "kh_qfoNnIq1H",
        "colab_type": "text"
      },
      "source": [
        "## 検査件数"
      ]
    },
    {
      "cell_type": "code",
      "metadata": {
        "id": "Lxbn3o_bHs8b",
        "colab_type": "code",
        "colab": {
          "base_uri": "https://localhost:8080/",
          "height": 560
        },
        "outputId": "af9f0d17-aec3-44de-eced-8dd826572d54"
      },
      "source": [
        "fig, ax = plt.subplots()\n",
        "\n",
        "locator = mdates.AutoDateLocator()\n",
        "formatter = mdates.ConciseDateFormatter(locator)\n",
        "ax.xaxis.set_major_locator(locator)\n",
        "ax.xaxis.set_major_formatter(formatter)\n",
        "\n",
        "ax.bar(df_kensa.index, df_kensa[\"検査人数\"])\n",
        "ax.bar(df_kensa.index, df_kensa[\"陽性人数\"])\n",
        "ax.legend([\"陰性\", \"陽性\"])\n",
        "\n",
        "# グラフを保存\n",
        "plt.savefig('01_kensa.png', dpi=200, bbox_inches=\"tight\")\n",
        "plt.show()"
      ],
      "execution_count": 26,
      "outputs": [
        {
          "output_type": "display_data",
          "data": {
            "image/png": "[encoded data removed]",
            "text/plain": [
              "<Figure size 900x600 with 1 Axes>"
            ]
          },
          "metadata": {
            "tags": [],
            "needs_background": "light"
          }
        }
      ]
    },
    {
      "cell_type": "markdown",
      "metadata": {
        "id": "1cCJ8PBiMVQu",
        "colab_type": "text"
      },
      "source": [
        "## 陽性患者"
      ]
    },
    {
      "cell_type": "code",
      "metadata": {
        "id": "eMOnCrLCI4-0",
        "colab_type": "code",
        "colab": {
          "base_uri": "https://localhost:8080/",
          "height": 560
        },
        "outputId": "13e8ff94-1bdc-4c30-f32d-147403d9bb31"
      },
      "source": [
        "fig, ax = plt.subplots()\n",
        "\n",
        "locator = mdates.AutoDateLocator()\n",
        "formatter = mdates.ConciseDateFormatter(locator)\n",
        "ax.xaxis.set_major_locator(locator)\n",
        "ax.xaxis.set_major_formatter(formatter)\n",
        "\n",
        "ax.bar(df_kensa.index, df_kensa[\"陽性人数\"])\n",
        "\n",
        "# グラフを保存\n",
        "plt.savefig('02_yousei.png', dpi=200, bbox_inches=\"tight\")\n",
        "plt.show()"
      ],
      "execution_count": 27,
      "outputs": [
        {
          "output_type": "display_data",
          "data": {
            "image/png": "[encoded data removed]",
            "text/plain": [
              "<Figure size 900x600 with 1 Axes>"
            ]
          },
          "metadata": {
            "tags": [],
            "needs_background": "light"
          }
        }
      ]
    },
    {
      "cell_type": "code",
      "metadata": {
        "id": "kos99IfseeXJ",
        "colab_type": "code",
        "colab": {
          "base_uri": "https://localhost:8080/",
          "height": 1000
        },
        "outputId": "adfd2431-1d41-4993-fa3d-78f57d38cd47"
      },
      "source": [
        "patients"
      ],
      "execution_count": 28,
      "outputs": [
        {
          "output_type": "execute_result",
          "data": {
            "text/html": [
              "<div>\n",
              "<style scoped>\n",
              "    .dataframe tbody tr th:only-of-type {\n",
              "        vertical-align: middle;\n",
              "    }\n",
              "\n",
              "    .dataframe tbody tr th {\n",
              "        vertical-align: top;\n",
              "    }\n",
              "\n",
              "    .dataframe thead th {\n",
              "        text-align: right;\n",
              "    }\n",
              "</style>\n",
              "<table border=\"1\" class=\"dataframe\">\n",
              "  <thead>\n",
              "    <tr style=\"text-align: right;\">\n",
              "      <th></th>\n",
              "      <th>公表_年月日</th>\n",
              "      <th>曜日</th>\n",
              "      <th>居住地</th>\n",
              "      <th>年代</th>\n",
              "      <th>性別</th>\n",
              "      <th>退院</th>\n",
              "    </tr>\n",
              "    <tr>\n",
              "      <th>No</th>\n",
              "      <th></th>\n",
              "      <th></th>\n",
              "      <th></th>\n",
              "      <th></th>\n",
              "      <th></th>\n",
              "      <th></th>\n",
              "    </tr>\n",
              "  </thead>\n",
              "  <tbody>\n",
              "    <tr>\n",
              "      <th>1</th>\n",
              "      <td>2020-03-02</td>\n",
              "      <td>月</td>\n",
              "      <td>愛南町</td>\n",
              "      <td>40代</td>\n",
              "      <td>女性</td>\n",
              "      <td></td>\n",
              "    </tr>\n",
              "    <tr>\n",
              "      <th>2</th>\n",
              "      <td>2020-03-04</td>\n",
              "      <td>水</td>\n",
              "      <td>松山市</td>\n",
              "      <td>30代</td>\n",
              "      <td>女性</td>\n",
              "      <td></td>\n",
              "    </tr>\n",
              "    <tr>\n",
              "      <th>3</th>\n",
              "      <td>2020-03-18</td>\n",
              "      <td>水</td>\n",
              "      <td>松山市</td>\n",
              "      <td>30代</td>\n",
              "      <td>女性</td>\n",
              "      <td></td>\n",
              "    </tr>\n",
              "    <tr>\n",
              "      <th>4</th>\n",
              "      <td>2020-03-26</td>\n",
              "      <td>木</td>\n",
              "      <td>新居浜市</td>\n",
              "      <td>20代</td>\n",
              "      <td>男性</td>\n",
              "      <td></td>\n",
              "    </tr>\n",
              "    <tr>\n",
              "      <th>5</th>\n",
              "      <td>2020-03-30</td>\n",
              "      <td>月</td>\n",
              "      <td>松山市</td>\n",
              "      <td>70代</td>\n",
              "      <td>男性</td>\n",
              "      <td></td>\n",
              "    </tr>\n",
              "    <tr>\n",
              "      <th>6</th>\n",
              "      <td>2020-03-30</td>\n",
              "      <td>月</td>\n",
              "      <td>松山市</td>\n",
              "      <td>80代</td>\n",
              "      <td>男性</td>\n",
              "      <td></td>\n",
              "    </tr>\n",
              "    <tr>\n",
              "      <th>7</th>\n",
              "      <td>2020-03-30</td>\n",
              "      <td>月</td>\n",
              "      <td>松山市</td>\n",
              "      <td>80代</td>\n",
              "      <td>女性</td>\n",
              "      <td></td>\n",
              "    </tr>\n",
              "    <tr>\n",
              "      <th>8</th>\n",
              "      <td>2020-03-30</td>\n",
              "      <td>月</td>\n",
              "      <td>松山市</td>\n",
              "      <td>50代</td>\n",
              "      <td>男性</td>\n",
              "      <td></td>\n",
              "    </tr>\n",
              "    <tr>\n",
              "      <th>9</th>\n",
              "      <td>2020-03-30</td>\n",
              "      <td>月</td>\n",
              "      <td>松山市</td>\n",
              "      <td>60代</td>\n",
              "      <td>男性</td>\n",
              "      <td></td>\n",
              "    </tr>\n",
              "    <tr>\n",
              "      <th>10</th>\n",
              "      <td>2020-04-01</td>\n",
              "      <td>水</td>\n",
              "      <td>松前町</td>\n",
              "      <td>30代</td>\n",
              "      <td>男性</td>\n",
              "      <td></td>\n",
              "    </tr>\n",
              "    <tr>\n",
              "      <th>11</th>\n",
              "      <td>2020-04-01</td>\n",
              "      <td>水</td>\n",
              "      <td>松前町</td>\n",
              "      <td>40代</td>\n",
              "      <td>女性</td>\n",
              "      <td></td>\n",
              "    </tr>\n",
              "    <tr>\n",
              "      <th>12</th>\n",
              "      <td>2020-04-02</td>\n",
              "      <td>木</td>\n",
              "      <td>新居浜市</td>\n",
              "      <td>50代</td>\n",
              "      <td>男性</td>\n",
              "      <td></td>\n",
              "    </tr>\n",
              "    <tr>\n",
              "      <th>13</th>\n",
              "      <td>2020-04-02</td>\n",
              "      <td>木</td>\n",
              "      <td>松前町</td>\n",
              "      <td>10歳未満</td>\n",
              "      <td>女性</td>\n",
              "      <td></td>\n",
              "    </tr>\n",
              "    <tr>\n",
              "      <th>14</th>\n",
              "      <td>2020-04-02</td>\n",
              "      <td>木</td>\n",
              "      <td>砥部町</td>\n",
              "      <td>50代</td>\n",
              "      <td>女性</td>\n",
              "      <td></td>\n",
              "    </tr>\n",
              "    <tr>\n",
              "      <th>15</th>\n",
              "      <td>2020-04-02</td>\n",
              "      <td>木</td>\n",
              "      <td>松山市</td>\n",
              "      <td>40代</td>\n",
              "      <td>男性</td>\n",
              "      <td></td>\n",
              "    </tr>\n",
              "    <tr>\n",
              "      <th>16</th>\n",
              "      <td>2020-04-02</td>\n",
              "      <td>木</td>\n",
              "      <td>松山市</td>\n",
              "      <td>80代</td>\n",
              "      <td>男性</td>\n",
              "      <td></td>\n",
              "    </tr>\n",
              "    <tr>\n",
              "      <th>17</th>\n",
              "      <td>2020-04-02</td>\n",
              "      <td>木</td>\n",
              "      <td>松山市</td>\n",
              "      <td>40代</td>\n",
              "      <td>女性</td>\n",
              "      <td></td>\n",
              "    </tr>\n",
              "    <tr>\n",
              "      <th>18</th>\n",
              "      <td>2020-04-02</td>\n",
              "      <td>木</td>\n",
              "      <td>松山市</td>\n",
              "      <td>50代</td>\n",
              "      <td>女性</td>\n",
              "      <td></td>\n",
              "    </tr>\n",
              "    <tr>\n",
              "      <th>19</th>\n",
              "      <td>2020-04-03</td>\n",
              "      <td>金</td>\n",
              "      <td>新居浜市</td>\n",
              "      <td>50代</td>\n",
              "      <td>女性</td>\n",
              "      <td></td>\n",
              "    </tr>\n",
              "    <tr>\n",
              "      <th>20</th>\n",
              "      <td>2020-04-04</td>\n",
              "      <td>土</td>\n",
              "      <td>松前町</td>\n",
              "      <td>50代</td>\n",
              "      <td>男性</td>\n",
              "      <td></td>\n",
              "    </tr>\n",
              "    <tr>\n",
              "      <th>21</th>\n",
              "      <td>2020-04-04</td>\n",
              "      <td>土</td>\n",
              "      <td>愛南町</td>\n",
              "      <td>50代</td>\n",
              "      <td>女性</td>\n",
              "      <td></td>\n",
              "    </tr>\n",
              "    <tr>\n",
              "      <th>22</th>\n",
              "      <td>2020-04-05</td>\n",
              "      <td>日</td>\n",
              "      <td>愛南町</td>\n",
              "      <td>50代</td>\n",
              "      <td>男性</td>\n",
              "      <td></td>\n",
              "    </tr>\n",
              "    <tr>\n",
              "      <th>23</th>\n",
              "      <td>2020-04-05</td>\n",
              "      <td>日</td>\n",
              "      <td>砥部町</td>\n",
              "      <td>60代</td>\n",
              "      <td>男性</td>\n",
              "      <td></td>\n",
              "    </tr>\n",
              "    <tr>\n",
              "      <th>24</th>\n",
              "      <td>2020-04-07</td>\n",
              "      <td>火</td>\n",
              "      <td>内子町</td>\n",
              "      <td>10代</td>\n",
              "      <td>男性</td>\n",
              "      <td></td>\n",
              "    </tr>\n",
              "    <tr>\n",
              "      <th>25</th>\n",
              "      <td>2020-04-07</td>\n",
              "      <td>火</td>\n",
              "      <td>松山市</td>\n",
              "      <td>30代</td>\n",
              "      <td>男性</td>\n",
              "      <td></td>\n",
              "    </tr>\n",
              "    <tr>\n",
              "      <th>26</th>\n",
              "      <td>2020-04-08</td>\n",
              "      <td>水</td>\n",
              "      <td>松山市</td>\n",
              "      <td>30代</td>\n",
              "      <td>女性</td>\n",
              "      <td></td>\n",
              "    </tr>\n",
              "    <tr>\n",
              "      <th>27</th>\n",
              "      <td>2020-04-09</td>\n",
              "      <td>木</td>\n",
              "      <td>愛南町</td>\n",
              "      <td>60代</td>\n",
              "      <td>女性</td>\n",
              "      <td></td>\n",
              "    </tr>\n",
              "    <tr>\n",
              "      <th>28</th>\n",
              "      <td>2020-04-09</td>\n",
              "      <td>木</td>\n",
              "      <td>愛南町</td>\n",
              "      <td>60代</td>\n",
              "      <td>男性</td>\n",
              "      <td></td>\n",
              "    </tr>\n",
              "    <tr>\n",
              "      <th>29</th>\n",
              "      <td>2020-04-10</td>\n",
              "      <td>金</td>\n",
              "      <td>松山市</td>\n",
              "      <td>30代</td>\n",
              "      <td>男性</td>\n",
              "      <td></td>\n",
              "    </tr>\n",
              "    <tr>\n",
              "      <th>30</th>\n",
              "      <td>2020-04-11</td>\n",
              "      <td>土</td>\n",
              "      <td>松山市</td>\n",
              "      <td>30代</td>\n",
              "      <td>女性</td>\n",
              "      <td></td>\n",
              "    </tr>\n",
              "    <tr>\n",
              "      <th>31</th>\n",
              "      <td>2020-04-12</td>\n",
              "      <td>日</td>\n",
              "      <td>愛南町</td>\n",
              "      <td>40代</td>\n",
              "      <td>女性</td>\n",
              "      <td></td>\n",
              "    </tr>\n",
              "    <tr>\n",
              "      <th>32</th>\n",
              "      <td>2020-04-12</td>\n",
              "      <td>日</td>\n",
              "      <td>愛南町</td>\n",
              "      <td>10歳未満</td>\n",
              "      <td>女性</td>\n",
              "      <td></td>\n",
              "    </tr>\n",
              "    <tr>\n",
              "      <th>33</th>\n",
              "      <td>2020-04-12</td>\n",
              "      <td>日</td>\n",
              "      <td>松山市</td>\n",
              "      <td>60代</td>\n",
              "      <td>男性</td>\n",
              "      <td></td>\n",
              "    </tr>\n",
              "    <tr>\n",
              "      <th>34</th>\n",
              "      <td>2020-04-12</td>\n",
              "      <td>日</td>\n",
              "      <td>松山市</td>\n",
              "      <td>40代</td>\n",
              "      <td>女性</td>\n",
              "      <td></td>\n",
              "    </tr>\n",
              "    <tr>\n",
              "      <th>35</th>\n",
              "      <td>2020-04-12</td>\n",
              "      <td>日</td>\n",
              "      <td>松山市</td>\n",
              "      <td>50代</td>\n",
              "      <td>男性</td>\n",
              "      <td></td>\n",
              "    </tr>\n",
              "    <tr>\n",
              "      <th>36</th>\n",
              "      <td>2020-04-12</td>\n",
              "      <td>日</td>\n",
              "      <td>松山市</td>\n",
              "      <td>50代</td>\n",
              "      <td>女性</td>\n",
              "      <td></td>\n",
              "    </tr>\n",
              "    <tr>\n",
              "      <th>37</th>\n",
              "      <td>2020-04-12</td>\n",
              "      <td>日</td>\n",
              "      <td>松山市</td>\n",
              "      <td>60代</td>\n",
              "      <td>男性</td>\n",
              "      <td></td>\n",
              "    </tr>\n",
              "    <tr>\n",
              "      <th>38</th>\n",
              "      <td>2020-04-13</td>\n",
              "      <td>月</td>\n",
              "      <td>松山市</td>\n",
              "      <td>50代</td>\n",
              "      <td>男性</td>\n",
              "      <td></td>\n",
              "    </tr>\n",
              "    <tr>\n",
              "      <th>39</th>\n",
              "      <td>2020-04-13</td>\n",
              "      <td>月</td>\n",
              "      <td>松山市</td>\n",
              "      <td>40代</td>\n",
              "      <td>女性</td>\n",
              "      <td></td>\n",
              "    </tr>\n",
              "    <tr>\n",
              "      <th>40</th>\n",
              "      <td>2020-04-14</td>\n",
              "      <td>火</td>\n",
              "      <td>松山市</td>\n",
              "      <td>50代</td>\n",
              "      <td>女性</td>\n",
              "      <td></td>\n",
              "    </tr>\n",
              "    <tr>\n",
              "      <th>41</th>\n",
              "      <td>2020-04-15</td>\n",
              "      <td>水</td>\n",
              "      <td>松山市</td>\n",
              "      <td>30代</td>\n",
              "      <td>男性</td>\n",
              "      <td></td>\n",
              "    </tr>\n",
              "    <tr>\n",
              "      <th>42</th>\n",
              "      <td>2020-04-17</td>\n",
              "      <td>金</td>\n",
              "      <td>西予市</td>\n",
              "      <td>60代</td>\n",
              "      <td>男性</td>\n",
              "      <td></td>\n",
              "    </tr>\n",
              "    <tr>\n",
              "      <th>43</th>\n",
              "      <td>2020-04-17</td>\n",
              "      <td>金</td>\n",
              "      <td>松山市</td>\n",
              "      <td>90歳以上</td>\n",
              "      <td>女性</td>\n",
              "      <td></td>\n",
              "    </tr>\n",
              "    <tr>\n",
              "      <th>44</th>\n",
              "      <td>2020-04-17</td>\n",
              "      <td>金</td>\n",
              "      <td>松山市</td>\n",
              "      <td>90歳以上</td>\n",
              "      <td>女性</td>\n",
              "      <td></td>\n",
              "    </tr>\n",
              "    <tr>\n",
              "      <th>45</th>\n",
              "      <td>2020-04-18</td>\n",
              "      <td>土</td>\n",
              "      <td>松山市</td>\n",
              "      <td>20代</td>\n",
              "      <td>女性</td>\n",
              "      <td></td>\n",
              "    </tr>\n",
              "    <tr>\n",
              "      <th>46</th>\n",
              "      <td>2020-04-19</td>\n",
              "      <td>日</td>\n",
              "      <td>松山市</td>\n",
              "      <td>20代</td>\n",
              "      <td>女性</td>\n",
              "      <td></td>\n",
              "    </tr>\n",
              "    <tr>\n",
              "      <th>47</th>\n",
              "      <td>2020-04-21</td>\n",
              "      <td>火</td>\n",
              "      <td>松山市</td>\n",
              "      <td>50代</td>\n",
              "      <td>女性</td>\n",
              "      <td></td>\n",
              "    </tr>\n",
              "  </tbody>\n",
              "</table>\n",
              "</div>"
            ],
            "text/plain": [
              "       公表_年月日 曜日   居住地     年代  性別 退院\n",
              "No                                  \n",
              "1  2020-03-02  月   愛南町    40代  女性   \n",
              "2  2020-03-04  水   松山市    30代  女性   \n",
              "3  2020-03-18  水   松山市    30代  女性   \n",
              "4  2020-03-26  木  新居浜市    20代  男性   \n",
              "5  2020-03-30  月   松山市    70代  男性   \n",
              "6  2020-03-30  月   松山市    80代  男性   \n",
              "7  2020-03-30  月   松山市    80代  女性   \n",
              "8  2020-03-30  月   松山市    50代  男性   \n",
              "9  2020-03-30  月   松山市    60代  男性   \n",
              "10 2020-04-01  水   松前町    30代  男性   \n",
              "11 2020-04-01  水   松前町    40代  女性   \n",
              "12 2020-04-02  木  新居浜市    50代  男性   \n",
              "13 2020-04-02  木   松前町  10歳未満  女性   \n",
              "14 2020-04-02  木   砥部町    50代  女性   \n",
              "15 2020-04-02  木   松山市    40代  男性   \n",
              "16 2020-04-02  木   松山市    80代  男性   \n",
              "17 2020-04-02  木   松山市    40代  女性   \n",
              "18 2020-04-02  木   松山市    50代  女性   \n",
              "19 2020-04-03  金  新居浜市    50代  女性   \n",
              "20 2020-04-04  土   松前町    50代  男性   \n",
              "21 2020-04-04  土   愛南町    50代  女性   \n",
              "22 2020-04-05  日   愛南町    50代  男性   \n",
              "23 2020-04-05  日   砥部町    60代  男性   \n",
              "24 2020-04-07  火   内子町    10代  男性   \n",
              "25 2020-04-07  火   松山市    30代  男性   \n",
              "26 2020-04-08  水   松山市    30代  女性   \n",
              "27 2020-04-09  木   愛南町    60代  女性   \n",
              "28 2020-04-09  木   愛南町    60代  男性   \n",
              "29 2020-04-10  金   松山市    30代  男性   \n",
              "30 2020-04-11  土   松山市    30代  女性   \n",
              "31 2020-04-12  日   愛南町    40代  女性   \n",
              "32 2020-04-12  日   愛南町  10歳未満  女性   \n",
              "33 2020-04-12  日   松山市    60代  男性   \n",
              "34 2020-04-12  日   松山市    40代  女性   \n",
              "35 2020-04-12  日   松山市    50代  男性   \n",
              "36 2020-04-12  日   松山市    50代  女性   \n",
              "37 2020-04-12  日   松山市    60代  男性   \n",
              "38 2020-04-13  月   松山市    50代  男性   \n",
              "39 2020-04-13  月   松山市    40代  女性   \n",
              "40 2020-04-14  火   松山市    50代  女性   \n",
              "41 2020-04-15  水   松山市    30代  男性   \n",
              "42 2020-04-17  金   西予市    60代  男性   \n",
              "43 2020-04-17  金   松山市  90歳以上  女性   \n",
              "44 2020-04-17  金   松山市  90歳以上  女性   \n",
              "45 2020-04-18  土   松山市    20代  女性   \n",
              "46 2020-04-19  日   松山市    20代  女性   \n",
              "47 2020-04-21  火   松山市    50代  女性   "
            ]
          },
          "metadata": {
            "tags": []
          },
          "execution_count": 28
        }
      ]
    },
    {
      "cell_type": "markdown",
      "metadata": {
        "id": "2ZUzdzbIF40b",
        "colab_type": "text"
      },
      "source": [
        "## 居住地別"
      ]
    },
    {
      "cell_type": "code",
      "metadata": {
        "id": "IWDPFoCY_6x-",
        "colab_type": "code",
        "colab": {
          "base_uri": "https://localhost:8080/",
          "height": 802
        },
        "outputId": "1a87cdd3-e508-41d8-a859-4830796c9c83"
      },
      "source": [
        "df_area = pd.crosstab(df_kanja[\"公表_年月日\"], df_kanja[\"居住地\"])\n",
        "df_area"
      ],
      "execution_count": 29,
      "outputs": [
        {
          "output_type": "execute_result",
          "data": {
            "text/html": [
              "<div>\n",
              "<style scoped>\n",
              "    .dataframe tbody tr th:only-of-type {\n",
              "        vertical-align: middle;\n",
              "    }\n",
              "\n",
              "    .dataframe tbody tr th {\n",
              "        vertical-align: top;\n",
              "    }\n",
              "\n",
              "    .dataframe thead th {\n",
              "        text-align: right;\n",
              "    }\n",
              "</style>\n",
              "<table border=\"1\" class=\"dataframe\">\n",
              "  <thead>\n",
              "    <tr style=\"text-align: right;\">\n",
              "      <th>居住地</th>\n",
              "      <th>内子町</th>\n",
              "      <th>愛南町</th>\n",
              "      <th>新居浜市</th>\n",
              "      <th>松前町</th>\n",
              "      <th>松山市</th>\n",
              "      <th>砥部町</th>\n",
              "      <th>西予市</th>\n",
              "    </tr>\n",
              "    <tr>\n",
              "      <th>公表_年月日</th>\n",
              "      <th></th>\n",
              "      <th></th>\n",
              "      <th></th>\n",
              "      <th></th>\n",
              "      <th></th>\n",
              "      <th></th>\n",
              "      <th></th>\n",
              "    </tr>\n",
              "  </thead>\n",
              "  <tbody>\n",
              "    <tr>\n",
              "      <th>2020-03-02</th>\n",
              "      <td>0</td>\n",
              "      <td>1</td>\n",
              "      <td>0</td>\n",
              "      <td>0</td>\n",
              "      <td>0</td>\n",
              "      <td>0</td>\n",
              "      <td>0</td>\n",
              "    </tr>\n",
              "    <tr>\n",
              "      <th>2020-03-04</th>\n",
              "      <td>0</td>\n",
              "      <td>0</td>\n",
              "      <td>0</td>\n",
              "      <td>0</td>\n",
              "      <td>1</td>\n",
              "      <td>0</td>\n",
              "      <td>0</td>\n",
              "    </tr>\n",
              "    <tr>\n",
              "      <th>2020-03-18</th>\n",
              "      <td>0</td>\n",
              "      <td>0</td>\n",
              "      <td>0</td>\n",
              "      <td>0</td>\n",
              "      <td>1</td>\n",
              "      <td>0</td>\n",
              "      <td>0</td>\n",
              "    </tr>\n",
              "    <tr>\n",
              "      <th>2020-03-26</th>\n",
              "      <td>0</td>\n",
              "      <td>0</td>\n",
              "      <td>1</td>\n",
              "      <td>0</td>\n",
              "      <td>0</td>\n",
              "      <td>0</td>\n",
              "      <td>0</td>\n",
              "    </tr>\n",
              "    <tr>\n",
              "      <th>2020-03-30</th>\n",
              "      <td>0</td>\n",
              "      <td>0</td>\n",
              "      <td>0</td>\n",
              "      <td>0</td>\n",
              "      <td>5</td>\n",
              "      <td>0</td>\n",
              "      <td>0</td>\n",
              "    </tr>\n",
              "    <tr>\n",
              "      <th>2020-04-01</th>\n",
              "      <td>0</td>\n",
              "      <td>0</td>\n",
              "      <td>0</td>\n",
              "      <td>2</td>\n",
              "      <td>0</td>\n",
              "      <td>0</td>\n",
              "      <td>0</td>\n",
              "    </tr>\n",
              "    <tr>\n",
              "      <th>2020-04-02</th>\n",
              "      <td>0</td>\n",
              "      <td>0</td>\n",
              "      <td>1</td>\n",
              "      <td>1</td>\n",
              "      <td>4</td>\n",
              "      <td>1</td>\n",
              "      <td>0</td>\n",
              "    </tr>\n",
              "    <tr>\n",
              "      <th>2020-04-03</th>\n",
              "      <td>0</td>\n",
              "      <td>0</td>\n",
              "      <td>1</td>\n",
              "      <td>0</td>\n",
              "      <td>0</td>\n",
              "      <td>0</td>\n",
              "      <td>0</td>\n",
              "    </tr>\n",
              "    <tr>\n",
              "      <th>2020-04-04</th>\n",
              "      <td>0</td>\n",
              "      <td>1</td>\n",
              "      <td>0</td>\n",
              "      <td>1</td>\n",
              "      <td>0</td>\n",
              "      <td>0</td>\n",
              "      <td>0</td>\n",
              "    </tr>\n",
              "    <tr>\n",
              "      <th>2020-04-05</th>\n",
              "      <td>0</td>\n",
              "      <td>1</td>\n",
              "      <td>0</td>\n",
              "      <td>0</td>\n",
              "      <td>0</td>\n",
              "      <td>1</td>\n",
              "      <td>0</td>\n",
              "    </tr>\n",
              "    <tr>\n",
              "      <th>2020-04-07</th>\n",
              "      <td>1</td>\n",
              "      <td>0</td>\n",
              "      <td>0</td>\n",
              "      <td>0</td>\n",
              "      <td>1</td>\n",
              "      <td>0</td>\n",
              "      <td>0</td>\n",
              "    </tr>\n",
              "    <tr>\n",
              "      <th>2020-04-08</th>\n",
              "      <td>0</td>\n",
              "      <td>0</td>\n",
              "      <td>0</td>\n",
              "      <td>0</td>\n",
              "      <td>1</td>\n",
              "      <td>0</td>\n",
              "      <td>0</td>\n",
              "    </tr>\n",
              "    <tr>\n",
              "      <th>2020-04-09</th>\n",
              "      <td>0</td>\n",
              "      <td>2</td>\n",
              "      <td>0</td>\n",
              "      <td>0</td>\n",
              "      <td>0</td>\n",
              "      <td>0</td>\n",
              "      <td>0</td>\n",
              "    </tr>\n",
              "    <tr>\n",
              "      <th>2020-04-10</th>\n",
              "      <td>0</td>\n",
              "      <td>0</td>\n",
              "      <td>0</td>\n",
              "      <td>0</td>\n",
              "      <td>1</td>\n",
              "      <td>0</td>\n",
              "      <td>0</td>\n",
              "    </tr>\n",
              "    <tr>\n",
              "      <th>2020-04-11</th>\n",
              "      <td>0</td>\n",
              "      <td>0</td>\n",
              "      <td>0</td>\n",
              "      <td>0</td>\n",
              "      <td>1</td>\n",
              "      <td>0</td>\n",
              "      <td>0</td>\n",
              "    </tr>\n",
              "    <tr>\n",
              "      <th>2020-04-12</th>\n",
              "      <td>0</td>\n",
              "      <td>2</td>\n",
              "      <td>0</td>\n",
              "      <td>0</td>\n",
              "      <td>5</td>\n",
              "      <td>0</td>\n",
              "      <td>0</td>\n",
              "    </tr>\n",
              "    <tr>\n",
              "      <th>2020-04-13</th>\n",
              "      <td>0</td>\n",
              "      <td>0</td>\n",
              "      <td>0</td>\n",
              "      <td>0</td>\n",
              "      <td>2</td>\n",
              "      <td>0</td>\n",
              "      <td>0</td>\n",
              "    </tr>\n",
              "    <tr>\n",
              "      <th>2020-04-14</th>\n",
              "      <td>0</td>\n",
              "      <td>0</td>\n",
              "      <td>0</td>\n",
              "      <td>0</td>\n",
              "      <td>1</td>\n",
              "      <td>0</td>\n",
              "      <td>0</td>\n",
              "    </tr>\n",
              "    <tr>\n",
              "      <th>2020-04-15</th>\n",
              "      <td>0</td>\n",
              "      <td>0</td>\n",
              "      <td>0</td>\n",
              "      <td>0</td>\n",
              "      <td>1</td>\n",
              "      <td>0</td>\n",
              "      <td>0</td>\n",
              "    </tr>\n",
              "    <tr>\n",
              "      <th>2020-04-17</th>\n",
              "      <td>0</td>\n",
              "      <td>0</td>\n",
              "      <td>0</td>\n",
              "      <td>0</td>\n",
              "      <td>2</td>\n",
              "      <td>0</td>\n",
              "      <td>1</td>\n",
              "    </tr>\n",
              "    <tr>\n",
              "      <th>2020-04-18</th>\n",
              "      <td>0</td>\n",
              "      <td>0</td>\n",
              "      <td>0</td>\n",
              "      <td>0</td>\n",
              "      <td>1</td>\n",
              "      <td>0</td>\n",
              "      <td>0</td>\n",
              "    </tr>\n",
              "    <tr>\n",
              "      <th>2020-04-19</th>\n",
              "      <td>0</td>\n",
              "      <td>0</td>\n",
              "      <td>0</td>\n",
              "      <td>0</td>\n",
              "      <td>1</td>\n",
              "      <td>0</td>\n",
              "      <td>0</td>\n",
              "    </tr>\n",
              "    <tr>\n",
              "      <th>2020-04-21</th>\n",
              "      <td>0</td>\n",
              "      <td>0</td>\n",
              "      <td>0</td>\n",
              "      <td>0</td>\n",
              "      <td>1</td>\n",
              "      <td>0</td>\n",
              "      <td>0</td>\n",
              "    </tr>\n",
              "  </tbody>\n",
              "</table>\n",
              "</div>"
            ],
            "text/plain": [
              "居住地         内子町  愛南町  新居浜市  松前町  松山市  砥部町  西予市\n",
              "公表_年月日                                        \n",
              "2020-03-02    0    1     0    0    0    0    0\n",
              "2020-03-04    0    0     0    0    1    0    0\n",
              "2020-03-18    0    0     0    0    1    0    0\n",
              "2020-03-26    0    0     1    0    0    0    0\n",
              "2020-03-30    0    0     0    0    5    0    0\n",
              "2020-04-01    0    0     0    2    0    0    0\n",
              "2020-04-02    0    0     1    1    4    1    0\n",
              "2020-04-03    0    0     1    0    0    0    0\n",
              "2020-04-04    0    1     0    1    0    0    0\n",
              "2020-04-05    0    1     0    0    0    1    0\n",
              "2020-04-07    1    0     0    0    1    0    0\n",
              "2020-04-08    0    0     0    0    1    0    0\n",
              "2020-04-09    0    2     0    0    0    0    0\n",
              "2020-04-10    0    0     0    0    1    0    0\n",
              "2020-04-11    0    0     0    0    1    0    0\n",
              "2020-04-12    0    2     0    0    5    0    0\n",
              "2020-04-13    0    0     0    0    2    0    0\n",
              "2020-04-14    0    0     0    0    1    0    0\n",
              "2020-04-15    0    0     0    0    1    0    0\n",
              "2020-04-17    0    0     0    0    2    0    1\n",
              "2020-04-18    0    0     0    0    1    0    0\n",
              "2020-04-19    0    0     0    0    1    0    0\n",
              "2020-04-21    0    0     0    0    1    0    0"
            ]
          },
          "metadata": {
            "tags": []
          },
          "execution_count": 29
        }
      ]
    },
    {
      "cell_type": "markdown",
      "metadata": {
        "id": "th9iTnkBF-Lq",
        "colab_type": "text"
      },
      "source": [
        "## 居住地別（全期間）"
      ]
    },
    {
      "cell_type": "code",
      "metadata": {
        "id": "3aiOG4MuBC5v",
        "colab_type": "code",
        "colab": {
          "base_uri": "https://localhost:8080/",
          "height": 534
        },
        "outputId": "052ef7aa-43c9-454d-c65b-e04a4206e626"
      },
      "source": [
        "df_area.T.plot.barh(stacked=True)\n",
        "plt.legend(bbox_to_anchor=(1.05, 1), loc='upper left', borderaxespad=0, fontsize=6)\n",
        "\n",
        "# グラフを保存\n",
        "plt.savefig('03_area.png', dpi=200, bbox_inches=\"tight\")\n",
        "plt.show()"
      ],
      "execution_count": 30,
      "outputs": [
        {
          "output_type": "display_data",
          "data": {
            "image/png": "[encoded data removed]",
            "text/plain": [
              "<Figure size 900x600 with 1 Axes>"
            ]
          },
          "metadata": {
            "tags": [],
            "needs_background": "light"
          }
        }
      ]
    },
    {
      "cell_type": "markdown",
      "metadata": {
        "id": "q8QvrnHMGN7B",
        "colab_type": "text"
      },
      "source": [
        "## 居住地別（直近７日）"
      ]
    },
    {
      "cell_type": "code",
      "metadata": {
        "id": "05z1bxioFkTz",
        "colab_type": "code",
        "colab": {
          "base_uri": "https://localhost:8080/",
          "height": 534
        },
        "outputId": "9680f95d-ee6a-4e07-941d-9218327f7a65"
      },
      "source": [
        "df_area.tail(7).T.plot.barh(stacked=True)\n",
        "plt.legend(bbox_to_anchor=(1.05, 1), loc='upper left', borderaxespad=0, fontsize=6)\n",
        "\n",
        "# グラフを保存\n",
        "plt.savefig('04_area_7day.png', dpi=200, bbox_inches=\"tight\")\n",
        "plt.show()"
      ],
      "execution_count": 31,
      "outputs": [
        {
          "output_type": "display_data",
          "data": {
            "image/png": "[encoded data removed]",
            "text/plain": [
              "<Figure size 900x600 with 1 Axes>"
            ]
          },
          "metadata": {
            "tags": [],
            "needs_background": "light"
          }
        }
      ]
    },
    {
      "cell_type": "markdown",
      "metadata": {
        "id": "U6mv9uVPGQSt",
        "colab_type": "text"
      },
      "source": [
        "## 年代別"
      ]
    },
    {
      "cell_type": "code",
      "metadata": {
        "id": "o5ziNrv-E6h7",
        "colab_type": "code",
        "colab": {}
      },
      "source": [
        "age_list = [\"10歳未満\",\"10代\", \"20代\", \"30代\", \"40代\", \"50代\", \"60代\", \"70代\", \"80代\", \"90歳以上\", \"非公表\"]"
      ],
      "execution_count": 0,
      "outputs": []
    },
    {
      "cell_type": "code",
      "metadata": {
        "id": "j-RVu5MpESgS",
        "colab_type": "code",
        "colab": {}
      },
      "source": [
        "df_age = pd.crosstab(patients[\"年代\"], patients[\"性別\"]).reindex(index= age_list, columns = [\"男性\", \"女性\"], fill_value=0)"
      ],
      "execution_count": 0,
      "outputs": []
    },
    {
      "cell_type": "code",
      "metadata": {
        "id": "lBm7SIMkFHbv",
        "colab_type": "code",
        "colab": {
          "base_uri": "https://localhost:8080/",
          "height": 534
        },
        "outputId": "7b63fc82-da30-416d-eb15-b4a9234d6cb2"
      },
      "source": [
        "df_age.plot.barh()\n",
        "\n",
        "# グラフを保存\n",
        "plt.savefig('05_age.png', dpi=200, bbox_inches=\"tight\")\n",
        "plt.show()"
      ],
      "execution_count": 34,
      "outputs": [
        {
          "output_type": "display_data",
          "data": {
            "image/png": "[encoded data removed]",
            "text/plain": [
              "<Figure size 900x600 with 1 Axes>"
            ]
          },
          "metadata": {
            "tags": [],
            "needs_background": "light"
          }
        }
      ]
    },
    {
      "cell_type": "markdown",
      "metadata": {
        "id": "rDCYvuRoG6eR",
        "colab_type": "text"
      },
      "source": [
        "## 性別"
      ]
    },
    {
      "cell_type": "code",
      "metadata": {
        "id": "x5ptI-0YGgs5",
        "colab_type": "code",
        "colab": {
          "base_uri": "https://localhost:8080/",
          "height": 534
        },
        "outputId": "35c126f4-dba9-46e5-e1bf-419d92df9997"
      },
      "source": [
        "df_gender = pd.crosstab(patients[\"性別\"], patients[\"年代\"]).reindex(columns=age_list, fill_value=0)\n",
        "df_gender.plot.barh(stacked=True)\n",
        "plt.legend(bbox_to_anchor=(1.05, 1), loc='upper left', borderaxespad=0, fontsize=8)\n",
        "\n",
        "# グラフを保存\n",
        "plt.savefig('06_gender.png', dpi=200, bbox_inches=\"tight\")\n",
        "plt.show()"
      ],
      "execution_count": 35,
      "outputs": [
        {
          "output_type": "display_data",
          "data": {
            "image/png": "[encoded data removed]",
            "text/plain": [
              "<Figure size 900x600 with 1 Axes>"
            ]
          },
          "metadata": {
            "tags": [],
            "needs_background": "light"
          }
        }
      ]
    },
    {
      "cell_type": "code",
      "metadata": {
        "id": "wELRL22QhJ1B",
        "colab_type": "code",
        "colab": {
          "base_uri": "https://localhost:8080/",
          "height": 612
        },
        "outputId": "732b1c4d-a859-4f5c-d91e-61a6c3d57fb9"
      },
      "source": [
        "# 7日間平均\n",
        "df_positive_7d = df_kensa.rolling(window=7).mean()\n",
        "df_positive_7d[\"陽性率\"] = df_positive_7d[\"陽性人数\"] / df_positive_7d[\"検査人数\"] * 100\n",
        "df_positive_7d[\"陽性率\"].plot(ylim=(0, 50), grid=True)\n",
        "\n",
        "# グラフを保存\n",
        "plt.savefig(\"07_positive.png\", dpi=200, bbox_inches=\"tight\")\n",
        "plt.show()"
      ],
      "execution_count": 36,
      "outputs": [
        {
          "output_type": "display_data",
          "data": {
            "image/png": "[encoded data removed]",
            "text/plain": [
              "<Figure size 900x600 with 1 Axes>"
            ]
          },
          "metadata": {
            "tags": [],
            "needs_background": "light"
          }
        }
      ]
    },
    {
      "cell_type": "code",
      "metadata": {
        "id": "7h6XIkh_hTA5",
        "colab_type": "code",
        "colab": {}
      },
      "source": [
        ""
      ],
      "execution_count": 0,
      "outputs": []
    }
  ]
}