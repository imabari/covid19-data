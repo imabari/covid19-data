{
  "nbformat": 4,
  "nbformat_minor": 0,
  "metadata": {
    "colab": {
      "name": "aichi_ocr.ipynb",
      "provenance": [],
      "collapsed_sections": [],
      "toc_visible": true,
      "authorship_tag": "ABX9TyNT8yNVhfmouMK4CAORKLso",
      "include_colab_link": true
    },
    "kernelspec": {
      "name": "python3",
      "display_name": "Python 3"
    }
  },
  "cells": [
    {
      "cell_type": "markdown",
      "metadata": {
        "id": "view-in-github",
        "colab_type": "text"
      },
      "source": [
        "<a href=\"https://colab.research.google.com/github/imabari/covid19-data/blob/master/aichi/aichi_ocr.ipynb\" target=\"_parent\"><img src=\"https://colab.research.google.com/assets/colab-badge.svg\" alt=\"Open In Colab\"/></a>"
      ]
    },
    {
      "cell_type": "code",
      "metadata": {
        "id": "_XaDTJ4Vkrzf",
        "colab_type": "code",
        "colab": {}
      },
      "source": [
        "!add-apt-repository ppa:alex-p/tesseract-ocr -y"
      ],
      "execution_count": 0,
      "outputs": []
    },
    {
      "cell_type": "code",
      "metadata": {
        "id": "P_Q7so1hks6e",
        "colab_type": "code",
        "colab": {}
      },
      "source": [
        "!apt update"
      ],
      "execution_count": 0,
      "outputs": []
    },
    {
      "cell_type": "code",
      "metadata": {
        "id": "BIfA1Fs4k8pf",
        "colab_type": "code",
        "colab": {}
      },
      "source": [
        "!apt install tesseract-ocr\n",
        "!apt install libtesseract-dev"
      ],
      "execution_count": 0,
      "outputs": []
    },
    {
      "cell_type": "code",
      "metadata": {
        "id": "hWVxNxupk-_H",
        "colab_type": "code",
        "colab": {}
      },
      "source": [
        "!tesseract -v"
      ],
      "execution_count": 0,
      "outputs": []
    },
    {
      "cell_type": "code",
      "metadata": {
        "id": "tLOBzfeBk_De",
        "colab_type": "code",
        "colab": {}
      },
      "source": [
        "!apt install tesseract-ocr-jpn  tesseract-ocr-jpn-vert\n",
        "!apt install tesseract-ocr-script-jpan tesseract-ocr-script-jpan-vert"
      ],
      "execution_count": 0,
      "outputs": []
    },
    {
      "cell_type": "code",
      "metadata": {
        "id": "KiSNiwNmk_Gh",
        "colab_type": "code",
        "colab": {}
      },
      "source": [
        "!tesseract --list-langs"
      ],
      "execution_count": 0,
      "outputs": []
    },
    {
      "cell_type": "markdown",
      "metadata": {
        "id": "OJyZoIFoaHOY",
        "colab_type": "text"
      },
      "source": [
        "# スクレイピング"
      ]
    },
    {
      "cell_type": "code",
      "metadata": {
        "id": "JZgqK5j6dsUq",
        "colab_type": "code",
        "colab": {}
      },
      "source": [
        "import pathlib\n",
        "import re"
      ],
      "execution_count": 0,
      "outputs": []
    },
    {
      "cell_type": "code",
      "metadata": {
        "id": "yXmO8Gw30j8Z",
        "colab_type": "code",
        "colab": {}
      },
      "source": [
        "import requests\n",
        "from bs4 import BeautifulSoup\n",
        "from urllib.parse import urljoin"
      ],
      "execution_count": 0,
      "outputs": []
    },
    {
      "cell_type": "code",
      "metadata": {
        "id": "iUAYpueC0j7h",
        "colab_type": "code",
        "colab": {}
      },
      "source": [
        "url = \"https://www.pref.aichi.jp/site/covid19-aichi/\"\n",
        "\n",
        "headers = {\n",
        "    \"User-Agent\": \"Mozilla/5.0 (Windows NT 10.0; WOW64; Trident/7.0; rv:11.0) like Gecko\",\n",
        "}"
      ],
      "execution_count": 0,
      "outputs": []
    },
    {
      "cell_type": "code",
      "metadata": {
        "id": "yisuqHFp0j6e",
        "colab_type": "code",
        "colab": {}
      },
      "source": [
        "r = requests.get(url, headers=headers)\n",
        "\n",
        "r.raise_for_status()\n",
        "\n",
        "soup = BeautifulSoup(r.content, \"html5lib\")"
      ],
      "execution_count": 0,
      "outputs": []
    },
    {
      "cell_type": "code",
      "metadata": {
        "id": "EhwGnWcM0o0g",
        "colab_type": "code",
        "colab": {}
      },
      "source": [
        "src = soup.find(\"img\", alt=re.compile(\"検査陽性者$\")).get(\"src\")"
      ],
      "execution_count": 0,
      "outputs": []
    },
    {
      "cell_type": "code",
      "metadata": {
        "id": "GphQVh7H0j41",
        "colab_type": "code",
        "colab": {}
      },
      "source": [
        "link = urljoin(url, src)\n",
        "link"
      ],
      "execution_count": 0,
      "outputs": []
    },
    {
      "cell_type": "markdown",
      "metadata": {
        "id": "xJwtYaRKxyQ2",
        "colab_type": "text"
      },
      "source": [
        "# ダウンロード"
      ]
    },
    {
      "cell_type": "code",
      "metadata": {
        "id": "0Lk44P9JdUSW",
        "colab_type": "code",
        "colab": {}
      },
      "source": [
        "def get_file(url, dir=\".\"):\n",
        "\n",
        "    r = requests.get(url)\n",
        "\n",
        "    p = pathlib.Path(dir, pathlib.PurePath(url).name)\n",
        "    p.parent.mkdir(parents=True, exist_ok=True)\n",
        "\n",
        "    with p.open(mode='wb') as fw:\n",
        "        fw.write(r.content)\n",
        "\n",
        "    return p"
      ],
      "execution_count": 0,
      "outputs": []
    },
    {
      "cell_type": "code",
      "metadata": {
        "id": "eT2LbHEnmm54",
        "colab_type": "code",
        "colab": {}
      },
      "source": [
        "jpg_path = get_file(link)"
      ],
      "execution_count": 0,
      "outputs": []
    },
    {
      "cell_type": "markdown",
      "metadata": {
        "id": "s5yihSKBc0kv",
        "colab_type": "text"
      },
      "source": [
        "# pytesseract"
      ]
    },
    {
      "cell_type": "code",
      "metadata": {
        "id": "e19RJLlckIf4",
        "colab_type": "code",
        "colab": {}
      },
      "source": [
        "!pip install pytesseract"
      ],
      "execution_count": 0,
      "outputs": []
    },
    {
      "cell_type": "code",
      "metadata": {
        "id": "8_yhXJhWZOQ5",
        "colab_type": "code",
        "colab": {}
      },
      "source": [
        "try:\n",
        "    from PIL import Image\n",
        "except ImportError:\n",
        "    import Image\n",
        "    \n",
        "import pytesseract"
      ],
      "execution_count": 0,
      "outputs": []
    },
    {
      "cell_type": "code",
      "metadata": {
        "id": "uPFP9VmrgoqY",
        "colab_type": "code",
        "colab": {}
      },
      "source": [
        "import cv2\n",
        "import numpy as np"
      ],
      "execution_count": 0,
      "outputs": []
    },
    {
      "cell_type": "code",
      "metadata": {
        "id": "vdw4SqZThx_X",
        "colab_type": "code",
        "colab": {}
      },
      "source": [
        "from google.colab.patches import cv2_imshow"
      ],
      "execution_count": 0,
      "outputs": []
    },
    {
      "cell_type": "code",
      "metadata": {
        "id": "zLSBLD7Inbbw",
        "colab_type": "code",
        "colab": {}
      },
      "source": [
        "# img = cv2.imread(str(jpg_path))\n",
        "# img, _ = cv2.decolor(img)"
      ],
      "execution_count": 0,
      "outputs": []
    },
    {
      "cell_type": "code",
      "metadata": {
        "id": "gZf9w_AtmtOA",
        "colab_type": "code",
        "colab": {}
      },
      "source": [
        "src = cv2.imread(str(jpg_path))\n",
        "\n",
        "img = cv2.inRange(src, (150, 150, 100), (255, 255, 255))"
      ],
      "execution_count": 0,
      "outputs": []
    },
    {
      "cell_type": "code",
      "metadata": {
        "id": "U-ZMHyht9dOu",
        "colab_type": "code",
        "colab": {}
      },
      "source": [
        "# img = cv2.imread(str(jpg_path), 0)"
      ],
      "execution_count": 0,
      "outputs": []
    },
    {
      "cell_type": "code",
      "metadata": {
        "id": "vFU1mnmMsj1X",
        "colab_type": "code",
        "colab": {}
      },
      "source": [
        "# 範囲指定\n",
        "img_crop = img[0:250]"
      ],
      "execution_count": 0,
      "outputs": []
    },
    {
      "cell_type": "code",
      "metadata": {
        "id": "1g6YGdh6Y7rY",
        "colab_type": "code",
        "colab": {}
      },
      "source": [
        "txt = pytesseract.image_to_string(img_crop, lang=\"jpn\", config=\"--psm 6\").replace(\".\", \"\")"
      ],
      "execution_count": 0,
      "outputs": []
    },
    {
      "cell_type": "code",
      "metadata": {
        "id": "1g9HMM_Vy9Nv",
        "colab_type": "code",
        "colab": {}
      },
      "source": [
        "print(txt)"
      ],
      "execution_count": 0,
      "outputs": []
    },
    {
      "cell_type": "code",
      "metadata": {
        "id": "gSnP_H4_vDLf",
        "colab_type": "code",
        "colab": {}
      },
      "source": [
        "data = [int(i) for i in re.findall(\"[0-9]+\", txt)]"
      ],
      "execution_count": 0,
      "outputs": []
    },
    {
      "cell_type": "code",
      "metadata": {
        "id": "PRkyuC4p1cky",
        "colab_type": "code",
        "colab": {}
      },
      "source": [
        "result = []\n",
        "\n",
        "while(len(data) >= 9):\n",
        "\n",
        "    if data[2] == data[3] + data[4]:\n",
        "        if data[1] == data[2] + data[5] + data[6] + data[7] + data[8]:\n",
        "            result = data[:9]\n",
        "            break\n",
        "\n",
        "    data.pop(0)"
      ],
      "execution_count": 0,
      "outputs": []
    },
    {
      "cell_type": "markdown",
      "metadata": {
        "id": "NJP14eajhJ0t",
        "colab_type": "text"
      },
      "source": [
        "# CSV"
      ]
    },
    {
      "cell_type": "code",
      "metadata": {
        "id": "gOWBu50n9rbi",
        "colab_type": "code",
        "colab": {}
      },
      "source": [
        "import datetime"
      ],
      "execution_count": 0,
      "outputs": []
    },
    {
      "cell_type": "code",
      "metadata": {
        "id": "i7cZtIjneE1K",
        "colab_type": "code",
        "colab": {}
      },
      "source": [
        "import csv"
      ],
      "execution_count": 0,
      "outputs": []
    },
    {
      "cell_type": "code",
      "metadata": {
        "id": "vdc_A_10KKBU",
        "colab_type": "code",
        "colab": {}
      },
      "source": [
        "dt_match = re.search(\"(\\d{4})年(\\d{1,2})月(\\d{1,2})日(\\d{1,2})時\", txt)"
      ],
      "execution_count": 0,
      "outputs": []
    },
    {
      "cell_type": "code",
      "metadata": {
        "id": "NYNEp3NPeB_x",
        "colab_type": "code",
        "colab": {}
      },
      "source": [
        "if result:\n",
        "\n",
        "    if dt_match:\n",
        "        y, m, d, h = map(int, dt_match.groups())\n",
        "        dt_update = datetime.datetime(y, m, d, h).strftime(\"%Y%m%d%H00\")\n",
        "    else:\n",
        "        dt_update = datetime.datetime.now().strftime(\"%Y%m%d%H00\")\n",
        "\n",
        "    p = pathlib.Path(f'{dt_update}.csv')\n",
        "\n",
        "    with p.open(mode='w') as fw:\n",
        "        writer = csv.writer(fw)\n",
        "        writer.writerow([dt_update] + result)\n",
        "\n",
        "    print(result)\n",
        "\n",
        "    jpg_path.rename(f\"{dt_update}.jpg\")\n",
        "\n",
        "else:\n",
        "    print(\"見つかりません\")   "
      ],
      "execution_count": 0,
      "outputs": []
    },
    {
      "cell_type": "code",
      "metadata": {
        "id": "jDA_mnxA0wq9",
        "colab_type": "code",
        "colab": {}
      },
      "source": [
        "# 確認\n",
        "cv2_imshow(img_crop)"
      ],
      "execution_count": 0,
      "outputs": []
    }
  ]
}