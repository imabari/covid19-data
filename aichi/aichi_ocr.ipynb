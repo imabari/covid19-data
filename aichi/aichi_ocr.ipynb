{
  "nbformat": 4,
  "nbformat_minor": 0,
  "metadata": {
    "colab": {
      "name": "aichi_ocr.ipynb",
      "provenance": [],
      "collapsed_sections": [],
      "authorship_tag": "ABX9TyMObKMBd6Dwl0hnHWGwulKa",
      "include_colab_link": true
    },
    "kernelspec": {
      "name": "python3",
      "display_name": "Python 3"
    }
  },
  "cells": [
    {
      "cell_type": "markdown",
      "metadata": {
        "id": "view-in-github",
        "colab_type": "text"
      },
      "source": [
        "<a href=\"https://colab.research.google.com/github/imabari/covid19-data/blob/master/aichi/aichi_ocr.ipynb\" target=\"_parent\"><img src=\"https://colab.research.google.com/assets/colab-badge.svg\" alt=\"Open In Colab\"/></a>"
      ]
    },
    {
      "cell_type": "code",
      "metadata": {
        "id": "_XaDTJ4Vkrzf",
        "colab_type": "code",
        "outputId": "42e489ce-4b60-4b4f-f721-c0a227166e7f",
        "colab": {
          "base_uri": "https://localhost:8080/",
          "height": 521
        }
      },
      "source": [
        "!add-apt-repository ppa:alex-p/tesseract-ocr -y"
      ],
      "execution_count": 1,
      "outputs": [
        {
          "output_type": "stream",
          "text": [
            "Get:1 https://cloud.r-project.org/bin/linux/ubuntu bionic-cran35/ InRelease [3,626 B]\n",
            "Ign:2 https://developer.download.nvidia.com/compute/cuda/repos/ubuntu1804/x86_64  InRelease\n",
            "Get:3 https://cloud.r-project.org/bin/linux/ubuntu bionic-cran35/ Packages [91.7 kB]\n",
            "Ign:4 https://developer.download.nvidia.com/compute/machine-learning/repos/ubuntu1804/x86_64  InRelease\n",
            "Hit:5 https://developer.download.nvidia.com/compute/cuda/repos/ubuntu1804/x86_64  Release\n",
            "Hit:6 https://developer.download.nvidia.com/compute/machine-learning/repos/ubuntu1804/x86_64  Release\n",
            "Get:8 http://security.ubuntu.com/ubuntu bionic-security InRelease [88.7 kB]\n",
            "Get:9 http://ppa.launchpad.net/alex-p/tesseract-ocr/ubuntu bionic InRelease [15.4 kB]\n",
            "Hit:10 http://archive.ubuntu.com/ubuntu bionic InRelease\n",
            "Get:12 http://archive.ubuntu.com/ubuntu bionic-updates InRelease [88.7 kB]\n",
            "Get:13 http://ppa.launchpad.net/graphics-drivers/ppa/ubuntu bionic InRelease [21.3 kB]\n",
            "Get:14 http://security.ubuntu.com/ubuntu bionic-security/multiverse amd64 Packages [8,505 B]\n",
            "Get:15 http://security.ubuntu.com/ubuntu bionic-security/restricted amd64 Packages [52.4 kB]\n",
            "Get:16 http://security.ubuntu.com/ubuntu bionic-security/universe amd64 Packages [844 kB]\n",
            "Get:17 http://archive.ubuntu.com/ubuntu bionic-backports InRelease [74.6 kB]\n",
            "Get:18 http://ppa.launchpad.net/marutter/c2d4u3.5/ubuntu bionic InRelease [15.4 kB]\n",
            "Get:19 http://security.ubuntu.com/ubuntu bionic-security/main amd64 Packages [908 kB]\n",
            "Get:20 http://archive.ubuntu.com/ubuntu bionic-updates/main amd64 Packages [1,205 kB]\n",
            "Get:21 http://ppa.launchpad.net/alex-p/tesseract-ocr/ubuntu bionic/main amd64 Packages [26.5 kB]\n",
            "Get:22 http://archive.ubuntu.com/ubuntu bionic-updates/universe amd64 Packages [1,376 kB]\n",
            "Get:23 http://ppa.launchpad.net/graphics-drivers/ppa/ubuntu bionic/main amd64 Packages [37.4 kB]\n",
            "Get:24 http://archive.ubuntu.com/ubuntu bionic-updates/multiverse amd64 Packages [19.8 kB]\n",
            "Get:25 http://archive.ubuntu.com/ubuntu bionic-updates/restricted amd64 Packages [66.7 kB]\n",
            "Get:26 http://archive.ubuntu.com/ubuntu bionic-backports/universe amd64 Packages [8,158 B]\n",
            "Get:27 http://archive.ubuntu.com/ubuntu bionic-backports/main amd64 Packages [8,286 B]\n",
            "Get:28 http://ppa.launchpad.net/marutter/c2d4u3.5/ubuntu bionic/main Sources [1,813 kB]\n",
            "Get:29 http://ppa.launchpad.net/marutter/c2d4u3.5/ubuntu bionic/main amd64 Packages [875 kB]\n",
            "Fetched 7,648 kB in 8s (916 kB/s)\n",
            "Reading package lists... Done\n"
          ],
          "name": "stdout"
        }
      ]
    },
    {
      "cell_type": "code",
      "metadata": {
        "id": "P_Q7so1hks6e",
        "colab_type": "code",
        "outputId": "fa6264c7-97a2-47aa-9990-1ecfce65a330",
        "colab": {
          "base_uri": "https://localhost:8080/",
          "height": 295
        }
      },
      "source": [
        "!apt update"
      ],
      "execution_count": 2,
      "outputs": [
        {
          "output_type": "stream",
          "text": [
            "\u001b[33m\r0% [Working]\u001b[0m\r            \rHit:1 https://cloud.r-project.org/bin/linux/ubuntu bionic-cran35/ InRelease\n",
            "\u001b[33m\r0% [Connecting to archive.ubuntu.com] [Connecting to security.ubuntu.com] [Conn\u001b[0m\u001b[33m\r0% [1 InRelease gpgv 3,626 B] [Connecting to archive.ubuntu.com] [Connecting to\u001b[0m\r                                                                               \rIgn:2 https://developer.download.nvidia.com/compute/cuda/repos/ubuntu1804/x86_64  InRelease\n",
            "\u001b[33m\r0% [1 InRelease gpgv 3,626 B] [Connecting to archive.ubuntu.com (91.189.88.142)\u001b[0m\u001b[33m\r0% [Connecting to archive.ubuntu.com (91.189.88.142)] [Connecting to security.u\u001b[0m\r                                                                               \rIgn:3 https://developer.download.nvidia.com/compute/machine-learning/repos/ubuntu1804/x86_64  InRelease\n",
            "\u001b[33m\r0% [Connecting to archive.ubuntu.com (91.189.88.142)] [Waiting for headers] [Wa\u001b[0m\r                                                                               \rHit:4 https://developer.download.nvidia.com/compute/cuda/repos/ubuntu1804/x86_64  Release\n",
            "\u001b[33m\r0% [Connecting to archive.ubuntu.com (91.189.88.142)] [Waiting for headers] [Wa\u001b[0m\u001b[33m\r0% [Release.gpg gpgv 564 B] [Connecting to archive.ubuntu.com (91.189.88.142)] \u001b[0m\r                                                                               \rHit:5 https://developer.download.nvidia.com/compute/machine-learning/repos/ubuntu1804/x86_64  Release\n",
            "\u001b[33m\r0% [Release.gpg gpgv 564 B] [Connecting to archive.ubuntu.com (91.189.88.142)] \u001b[0m\r                                                                               \rHit:6 http://ppa.launchpad.net/alex-p/tesseract-ocr/ubuntu bionic InRelease\n",
            "\u001b[33m\r0% [Release.gpg gpgv 564 B] [Connecting to archive.ubuntu.com (91.189.88.142)] \u001b[0m\r                                                                               \rHit:7 http://security.ubuntu.com/ubuntu bionic-security InRelease\n",
            "Hit:9 http://archive.ubuntu.com/ubuntu bionic InRelease\n",
            "Hit:11 http://ppa.launchpad.net/graphics-drivers/ppa/ubuntu bionic InRelease\n",
            "Hit:12 http://archive.ubuntu.com/ubuntu bionic-updates InRelease\n",
            "Hit:13 http://archive.ubuntu.com/ubuntu bionic-backports InRelease\n",
            "Hit:14 http://ppa.launchpad.net/marutter/c2d4u3.5/ubuntu bionic InRelease\n",
            "Reading package lists... Done\n",
            "Building dependency tree       \n",
            "Reading state information... Done\n",
            "110 packages can be upgraded. Run 'apt list --upgradable' to see them.\n"
          ],
          "name": "stdout"
        }
      ]
    },
    {
      "cell_type": "code",
      "metadata": {
        "id": "BIfA1Fs4k8pf",
        "colab_type": "code",
        "outputId": "e2601382-536a-42cd-c70f-f3a39eae1cd5",
        "colab": {
          "base_uri": "https://localhost:8080/",
          "height": 1000
        }
      },
      "source": [
        "!apt install tesseract-ocr\n",
        "!apt install libtesseract-dev"
      ],
      "execution_count": 3,
      "outputs": [
        {
          "output_type": "stream",
          "text": [
            "Reading package lists... Done\n",
            "Building dependency tree       \n",
            "Reading state information... Done\n",
            "The following additional packages will be installed:\n",
            "  libtesseract4 tesseract-ocr-eng tesseract-ocr-osd\n",
            "The following NEW packages will be installed:\n",
            "  tesseract-ocr tesseract-ocr-eng tesseract-ocr-osd\n",
            "The following packages will be upgraded:\n",
            "  libtesseract4\n",
            "1 upgraded, 3 newly installed, 0 to remove and 109 not upgraded.\n",
            "Need to get 6,161 kB of archives.\n",
            "After this operation, 16.3 MB of additional disk space will be used.\n",
            "Get:1 http://ppa.launchpad.net/alex-p/tesseract-ocr/ubuntu bionic/main amd64 libtesseract4 amd64 4.1.1-2ppa1~bionic1 [1,261 kB]\n",
            "Get:2 http://ppa.launchpad.net/alex-p/tesseract-ocr/ubuntu bionic/main amd64 tesseract-ocr-eng all 1:4.0.0+git39-6572757-1ppa1~bionic1 [1,589 kB]\n",
            "Get:3 http://ppa.launchpad.net/alex-p/tesseract-ocr/ubuntu bionic/main amd64 tesseract-ocr-osd all 1:4.0.0+git39-6572757-1ppa1~bionic1 [2,992 kB]\n",
            "Get:4 http://ppa.launchpad.net/alex-p/tesseract-ocr/ubuntu bionic/main amd64 tesseract-ocr amd64 4.1.1-2ppa1~bionic1 [320 kB]\n",
            "Fetched 6,161 kB in 9s (657 kB/s)\n",
            "(Reading database ... 144568 files and directories currently installed.)\n",
            "Preparing to unpack .../libtesseract4_4.1.1-2ppa1~bionic1_amd64.deb ...\n",
            "Unpacking libtesseract4:amd64 (4.1.1-2ppa1~bionic1) over (4.00~git2288-10f4998a-2) ...\n",
            "Selecting previously unselected package tesseract-ocr-eng.\n",
            "Preparing to unpack .../tesseract-ocr-eng_1%3a4.0.0+git39-6572757-1ppa1~bionic1_all.deb ...\n",
            "Unpacking tesseract-ocr-eng (1:4.0.0+git39-6572757-1ppa1~bionic1) ...\n",
            "Selecting previously unselected package tesseract-ocr-osd.\n",
            "Preparing to unpack .../tesseract-ocr-osd_1%3a4.0.0+git39-6572757-1ppa1~bionic1_all.deb ...\n",
            "Unpacking tesseract-ocr-osd (1:4.0.0+git39-6572757-1ppa1~bionic1) ...\n",
            "Selecting previously unselected package tesseract-ocr.\n",
            "Preparing to unpack .../tesseract-ocr_4.1.1-2ppa1~bionic1_amd64.deb ...\n",
            "Unpacking tesseract-ocr (4.1.1-2ppa1~bionic1) ...\n",
            "Setting up libtesseract4:amd64 (4.1.1-2ppa1~bionic1) ...\n",
            "Setting up tesseract-ocr-osd (1:4.0.0+git39-6572757-1ppa1~bionic1) ...\n",
            "Setting up tesseract-ocr-eng (1:4.0.0+git39-6572757-1ppa1~bionic1) ...\n",
            "Setting up tesseract-ocr (4.1.1-2ppa1~bionic1) ...\n",
            "Processing triggers for man-db (2.8.3-2ubuntu0.1) ...\n",
            "Processing triggers for libc-bin (2.27-3ubuntu1) ...\n",
            "/sbin/ldconfig.real: /usr/local/lib/python3.6/dist-packages/ideep4py/lib/libmkldnn.so.0 is not a symbolic link\n",
            "\n",
            "Reading package lists... Done\n",
            "Building dependency tree       \n",
            "Reading state information... Done\n",
            "The following additional packages will be installed:\n",
            "  libarchive-dev liblept5 libleptonica-dev\n",
            "The following NEW packages will be installed:\n",
            "  libarchive-dev libleptonica-dev libtesseract-dev\n",
            "The following packages will be upgraded:\n",
            "  liblept5\n",
            "1 upgraded, 3 newly installed, 0 to remove and 108 not upgraded.\n",
            "Need to get 4,326 kB of archives.\n",
            "After this operation, 15.2 MB of additional disk space will be used.\n",
            "Get:1 http://archive.ubuntu.com/ubuntu bionic-updates/main amd64 libarchive-dev amd64 3.2.2-3.1ubuntu0.6 [470 kB]\n",
            "Get:2 http://ppa.launchpad.net/alex-p/tesseract-ocr/ubuntu bionic/main amd64 liblept5 amd64 1.78.0-1+nmu1ppa1~bionic1 [985 kB]\n",
            "Get:3 http://ppa.launchpad.net/alex-p/tesseract-ocr/ubuntu bionic/main amd64 libleptonica-dev amd64 1.78.0-1+nmu1ppa1~bionic1 [1,375 kB]\n",
            "Get:4 http://ppa.launchpad.net/alex-p/tesseract-ocr/ubuntu bionic/main amd64 libtesseract-dev amd64 4.1.1-2ppa1~bionic1 [1,495 kB]\n",
            "Fetched 4,326 kB in 7s (611 kB/s)\n",
            "Selecting previously unselected package libarchive-dev:amd64.\n",
            "(Reading database ... 144620 files and directories currently installed.)\n",
            "Preparing to unpack .../libarchive-dev_3.2.2-3.1ubuntu0.6_amd64.deb ...\n",
            "Unpacking libarchive-dev:amd64 (3.2.2-3.1ubuntu0.6) ...\n",
            "Preparing to unpack .../liblept5_1.78.0-1+nmu1ppa1~bionic1_amd64.deb ...\n",
            "Unpacking liblept5 (1.78.0-1+nmu1ppa1~bionic1) over (1.75.3-3) ...\n",
            "Selecting previously unselected package libleptonica-dev.\n",
            "Preparing to unpack .../libleptonica-dev_1.78.0-1+nmu1ppa1~bionic1_amd64.deb ...\n",
            "Unpacking libleptonica-dev (1.78.0-1+nmu1ppa1~bionic1) ...\n",
            "Selecting previously unselected package libtesseract-dev:amd64.\n",
            "Preparing to unpack .../libtesseract-dev_4.1.1-2ppa1~bionic1_amd64.deb ...\n",
            "Unpacking libtesseract-dev:amd64 (4.1.1-2ppa1~bionic1) ...\n",
            "Setting up liblept5 (1.78.0-1+nmu1ppa1~bionic1) ...\n",
            "Setting up libarchive-dev:amd64 (3.2.2-3.1ubuntu0.6) ...\n",
            "Setting up libleptonica-dev (1.78.0-1+nmu1ppa1~bionic1) ...\n",
            "Setting up libtesseract-dev:amd64 (4.1.1-2ppa1~bionic1) ...\n",
            "Processing triggers for libc-bin (2.27-3ubuntu1) ...\n",
            "/sbin/ldconfig.real: /usr/local/lib/python3.6/dist-packages/ideep4py/lib/libmkldnn.so.0 is not a symbolic link\n",
            "\n",
            "Processing triggers for man-db (2.8.3-2ubuntu0.1) ...\n"
          ],
          "name": "stdout"
        }
      ]
    },
    {
      "cell_type": "code",
      "metadata": {
        "id": "hWVxNxupk-_H",
        "colab_type": "code",
        "outputId": "cc8207e0-28b1-40bb-ad41-94f666a87814",
        "colab": {
          "base_uri": "https://localhost:8080/",
          "height": 156
        }
      },
      "source": [
        "!tesseract -v"
      ],
      "execution_count": 4,
      "outputs": [
        {
          "output_type": "stream",
          "text": [
            "tesseract 4.1.1-rc2-21-gf4ef\n",
            " leptonica-1.78.0\n",
            "  libgif 5.1.4 : libjpeg 8d (libjpeg-turbo 1.5.2) : libpng 1.6.34 : libtiff 4.0.9 : zlib 1.2.11 : libwebp 0.6.1 : libopenjp2 2.3.0\n",
            " Found AVX2\n",
            " Found AVX\n",
            " Found FMA\n",
            " Found SSE\n",
            " Found libarchive 3.2.2 zlib/1.2.11 liblzma/5.2.2 bz2lib/1.0.6 liblz4/1.7.1\n"
          ],
          "name": "stdout"
        }
      ]
    },
    {
      "cell_type": "code",
      "metadata": {
        "id": "tLOBzfeBk_De",
        "colab_type": "code",
        "outputId": "8b20d1ee-d508-4cbb-954f-84ebdc436c5f",
        "colab": {
          "base_uri": "https://localhost:8080/",
          "height": 712
        }
      },
      "source": [
        "!apt install tesseract-ocr-jpn  tesseract-ocr-jpn-vert\n",
        "!apt install tesseract-ocr-script-jpan tesseract-ocr-script-jpan-vert"
      ],
      "execution_count": 5,
      "outputs": [
        {
          "output_type": "stream",
          "text": [
            "Reading package lists... Done\n",
            "Building dependency tree       \n",
            "Reading state information... Done\n",
            "The following NEW packages will be installed:\n",
            "  tesseract-ocr-jpn tesseract-ocr-jpn-vert\n",
            "0 upgraded, 2 newly installed, 0 to remove and 108 not upgraded.\n",
            "Need to get 3,281 kB of archives.\n",
            "After this operation, 5,539 kB of additional disk space will be used.\n",
            "Get:1 http://ppa.launchpad.net/alex-p/tesseract-ocr/ubuntu bionic/main amd64 tesseract-ocr-jpn all 1:4.0.0+git39-6572757-1ppa1~bionic1 [1,391 kB]\n",
            "Get:2 http://ppa.launchpad.net/alex-p/tesseract-ocr/ubuntu bionic/main amd64 tesseract-ocr-jpn-vert all 1:4.0.0+git39-6572757-1ppa1~bionic1 [1,890 kB]\n",
            "Fetched 3,281 kB in 5s (691 kB/s)\n",
            "Selecting previously unselected package tesseract-ocr-jpn.\n",
            "(Reading database ... 144748 files and directories currently installed.)\n",
            "Preparing to unpack .../tesseract-ocr-jpn_1%3a4.0.0+git39-6572757-1ppa1~bionic1_all.deb ...\n",
            "Unpacking tesseract-ocr-jpn (1:4.0.0+git39-6572757-1ppa1~bionic1) ...\n",
            "Selecting previously unselected package tesseract-ocr-jpn-vert.\n",
            "Preparing to unpack .../tesseract-ocr-jpn-vert_1%3a4.0.0+git39-6572757-1ppa1~bionic1_all.deb ...\n",
            "Unpacking tesseract-ocr-jpn-vert (1:4.0.0+git39-6572757-1ppa1~bionic1) ...\n",
            "Setting up tesseract-ocr-jpn (1:4.0.0+git39-6572757-1ppa1~bionic1) ...\n",
            "Setting up tesseract-ocr-jpn-vert (1:4.0.0+git39-6572757-1ppa1~bionic1) ...\n",
            "Reading package lists... Done\n",
            "Building dependency tree       \n",
            "Reading state information... Done\n",
            "The following NEW packages will be installed:\n",
            "  tesseract-ocr-script-jpan tesseract-ocr-script-jpan-vert\n",
            "0 upgraded, 2 newly installed, 0 to remove and 108 not upgraded.\n",
            "Need to get 5,670 kB of archives.\n",
            "After this operation, 12.4 MB of additional disk space will be used.\n",
            "Get:1 http://ppa.launchpad.net/alex-p/tesseract-ocr/ubuntu bionic/main amd64 tesseract-ocr-script-jpan all 1:4.0.0+git39-6572757-1ppa1~bionic1 [2,586 kB]\n",
            "Get:2 http://ppa.launchpad.net/alex-p/tesseract-ocr/ubuntu bionic/main amd64 tesseract-ocr-script-jpan-vert all 1:4.0.0+git39-6572757-1ppa1~bionic1 [3,084 kB]\n",
            "Fetched 5,670 kB in 5s (1,095 kB/s)\n",
            "Selecting previously unselected package tesseract-ocr-script-jpan.\n",
            "(Reading database ... 144756 files and directories currently installed.)\n",
            "Preparing to unpack .../tesseract-ocr-script-jpan_1%3a4.0.0+git39-6572757-1ppa1~bionic1_all.deb ...\n",
            "Unpacking tesseract-ocr-script-jpan (1:4.0.0+git39-6572757-1ppa1~bionic1) ...\n",
            "Selecting previously unselected package tesseract-ocr-script-jpan-vert.\n",
            "Preparing to unpack .../tesseract-ocr-script-jpan-vert_1%3a4.0.0+git39-6572757-1ppa1~bionic1_all.deb ...\n",
            "Unpacking tesseract-ocr-script-jpan-vert (1:4.0.0+git39-6572757-1ppa1~bionic1) ...\n",
            "Setting up tesseract-ocr-script-jpan (1:4.0.0+git39-6572757-1ppa1~bionic1) ...\n",
            "Setting up tesseract-ocr-script-jpan-vert (1:4.0.0+git39-6572757-1ppa1~bionic1) ...\n"
          ],
          "name": "stdout"
        }
      ]
    },
    {
      "cell_type": "code",
      "metadata": {
        "id": "KiSNiwNmk_Gh",
        "colab_type": "code",
        "outputId": "d4975160-def4-49f1-f7ea-abaf3841b251",
        "colab": {
          "base_uri": "https://localhost:8080/",
          "height": 139
        }
      },
      "source": [
        "!tesseract --list-langs"
      ],
      "execution_count": 6,
      "outputs": [
        {
          "output_type": "stream",
          "text": [
            "List of available languages (6):\n",
            "Japanese\n",
            "Japanese_vert\n",
            "eng\n",
            "jpn\n",
            "jpn_vert\n",
            "osd\n"
          ],
          "name": "stdout"
        }
      ]
    },
    {
      "cell_type": "code",
      "metadata": {
        "id": "cv1UCEX5r7nz",
        "colab_type": "code",
        "outputId": "795331cf-7bba-4bce-82f5-e6fd40af9166",
        "colab": {
          "base_uri": "https://localhost:8080/",
          "height": 434
        }
      },
      "source": [
        "!apt install python3-pil"
      ],
      "execution_count": 7,
      "outputs": [
        {
          "output_type": "stream",
          "text": [
            "\rReading package lists... 0%\r\rReading package lists... 0%\r\rReading package lists... 0%\r\rReading package lists... 6%\r\rReading package lists... 6%\r\rReading package lists... 6%\r\rReading package lists... 6%\r\rReading package lists... 63%\r\rReading package lists... 63%\r\rReading package lists... 64%\r\rReading package lists... 64%\r\rReading package lists... 65%\r\rReading package lists... 71%\r\rReading package lists... 71%\r\rReading package lists... 72%\r\rReading package lists... 72%\r\rReading package lists... 81%\r\rReading package lists... 81%\r\rReading package lists... 81%\r\rReading package lists... 81%\r\rReading package lists... 81%\r\rReading package lists... 81%\r\rReading package lists... 81%\r\rReading package lists... 81%\r\rReading package lists... 87%\r\rReading package lists... 87%\r\rReading package lists... 87%\r\rReading package lists... 87%\r\rReading package lists... 93%\r\rReading package lists... 93%\r\rReading package lists... 93%\r\rReading package lists... 93%\r\rReading package lists... 93%\r\rReading package lists... 93%\r\rReading package lists... 93%\r\rReading package lists... 93%\r\rReading package lists... 94%\r\rReading package lists... 94%\r\rReading package lists... 95%\r\rReading package lists... 95%\r\rReading package lists... 98%\r\rReading package lists... 98%\r\rReading package lists... 98%\r\rReading package lists... 98%\r\rReading package lists... Done\r\n",
            "\rBuilding dependency tree... 0%\r\rBuilding dependency tree... 0%\r\rBuilding dependency tree... 50%\r\rBuilding dependency tree... 50%\r\rBuilding dependency tree       \r\n",
            "Reading state information... Done\n",
            "The following additional packages will be installed:\n",
            "  python3-olefile\n",
            "Suggested packages:\n",
            "  python-pil-doc python3-pil-dbg\n",
            "The following NEW packages will be installed:\n",
            "  python3-olefile python3-pil\n",
            "0 upgraded, 2 newly installed, 0 to remove and 108 not upgraded.\n",
            "Need to get 362 kB of archives.\n",
            "After this operation, 1,545 kB of additional disk space will be used.\n",
            "Get:1 http://archive.ubuntu.com/ubuntu bionic/main amd64 python3-olefile all 0.45.1-1 [33.3 kB]\n",
            "Get:2 http://archive.ubuntu.com/ubuntu bionic-updates/main amd64 python3-pil amd64 5.1.0-1ubuntu0.2 [329 kB]\n",
            "Fetched 362 kB in 2s (165 kB/s)\n",
            "Selecting previously unselected package python3-olefile.\n",
            "(Reading database ... 144764 files and directories currently installed.)\n",
            "Preparing to unpack .../python3-olefile_0.45.1-1_all.deb ...\n",
            "Unpacking python3-olefile (0.45.1-1) ...\n",
            "Selecting previously unselected package python3-pil:amd64.\n",
            "Preparing to unpack .../python3-pil_5.1.0-1ubuntu0.2_amd64.deb ...\n",
            "Unpacking python3-pil:amd64 (5.1.0-1ubuntu0.2) ...\n",
            "Setting up python3-pil:amd64 (5.1.0-1ubuntu0.2) ...\n",
            "Setting up python3-olefile (0.45.1-1) ...\n"
          ],
          "name": "stdout"
        }
      ]
    },
    {
      "cell_type": "code",
      "metadata": {
        "id": "e19RJLlckIf4",
        "colab_type": "code",
        "outputId": "a96af0e7-4696-4075-9a13-a9d256295929",
        "colab": {
          "base_uri": "https://localhost:8080/",
          "height": 208
        }
      },
      "source": [
        "!pip install pyocr"
      ],
      "execution_count": 8,
      "outputs": [
        {
          "output_type": "stream",
          "text": [
            "Collecting pyocr\n",
            "\u001b[?25l  Downloading https://files.pythonhosted.org/packages/86/17/5fa0edc8da817a7da0198f03319850cb36cf2f20a38b6c7616fcb36211ef/pyocr-0.7.2.tar.gz (65kB)\n",
            "\r\u001b[K     |█████                           | 10kB 16.9MB/s eta 0:00:01\r\u001b[K     |██████████                      | 20kB 1.7MB/s eta 0:00:01\r\u001b[K     |███████████████                 | 30kB 2.6MB/s eta 0:00:01\r\u001b[K     |████████████████████            | 40kB 3.3MB/s eta 0:00:01\r\u001b[K     |█████████████████████████       | 51kB 2.1MB/s eta 0:00:01\r\u001b[K     |██████████████████████████████  | 61kB 2.5MB/s eta 0:00:01\r\u001b[K     |████████████████████████████████| 71kB 2.3MB/s \n",
            "\u001b[?25hRequirement already satisfied: Pillow in /usr/local/lib/python3.6/dist-packages (from pyocr) (7.0.0)\n",
            "Building wheels for collected packages: pyocr\n",
            "  Building wheel for pyocr (setup.py) ... \u001b[?25l\u001b[?25hdone\n",
            "  Created wheel for pyocr: filename=pyocr-0.7.2-cp36-none-any.whl size=36499 sha256=a833c54ce9ba237ccd318564f41a1e56e7b6613638c87076ff3cb63b0675681a\n",
            "  Stored in directory: /root/.cache/pip/wheels/39/db/0f/e6d07dbdd818bf371b7329b01327752cb1bea4b73b8e2ff9ed\n",
            "Successfully built pyocr\n",
            "Installing collected packages: pyocr\n",
            "Successfully installed pyocr-0.7.2\n"
          ],
          "name": "stdout"
        }
      ]
    },
    {
      "cell_type": "code",
      "metadata": {
        "id": "yXmO8Gw30j8Z",
        "colab_type": "code",
        "colab": {}
      },
      "source": [
        "import requests\n",
        "from bs4 import BeautifulSoup"
      ],
      "execution_count": 0,
      "outputs": []
    },
    {
      "cell_type": "code",
      "metadata": {
        "id": "iUAYpueC0j7h",
        "colab_type": "code",
        "colab": {}
      },
      "source": [
        "url = \"https://www.pref.aichi.jp/site/covid19-aichi/\"\n",
        "\n",
        "headers = {\n",
        "    \"User-Agent\": \"Mozilla/5.0 (Windows NT 10.0; WOW64; Trident/7.0; rv:11.0) like Gecko\",\n",
        "}"
      ],
      "execution_count": 0,
      "outputs": []
    },
    {
      "cell_type": "code",
      "metadata": {
        "id": "yisuqHFp0j6e",
        "colab_type": "code",
        "colab": {}
      },
      "source": [
        "r = requests.get(url, headers=headers)\n",
        "\n",
        "r.raise_for_status()\n",
        "\n",
        "soup = BeautifulSoup(r.content, \"html5lib\")"
      ],
      "execution_count": 0,
      "outputs": []
    },
    {
      "cell_type": "code",
      "metadata": {
        "id": "EhwGnWcM0o0g",
        "colab_type": "code",
        "colab": {}
      },
      "source": [
        "src = soup.find(\"img\", alt=\"感染者数\").get(\"src\")"
      ],
      "execution_count": 0,
      "outputs": []
    },
    {
      "cell_type": "code",
      "metadata": {
        "id": "GphQVh7H0j41",
        "colab_type": "code",
        "outputId": "ae9573f1-98dd-4d8a-c6f0-3745f5475a73",
        "colab": {
          "base_uri": "https://localhost:8080/",
          "height": 34
        }
      },
      "source": [
        "from urllib.parse import urljoin\n",
        "\n",
        "link = urljoin(url, src)\n",
        "link"
      ],
      "execution_count": 13,
      "outputs": [
        {
          "output_type": "execute_result",
          "data": {
            "text/plain": [
              "'https://www.pref.aichi.jp/uploaded/image/240187.jpg'"
            ]
          },
          "metadata": {
            "tags": []
          },
          "execution_count": 13
        }
      ]
    },
    {
      "cell_type": "code",
      "metadata": {
        "id": "eT2LbHEnmm54",
        "colab_type": "code",
        "outputId": "d52921fb-5337-469a-bebc-bbc0a4b5e09f",
        "colab": {
          "base_uri": "https://localhost:8080/",
          "height": 208
        }
      },
      "source": [
        "!wget $link -O kansen.jpg"
      ],
      "execution_count": 14,
      "outputs": [
        {
          "output_type": "stream",
          "text": [
            "--2020-05-03 02:23:45--  https://www.pref.aichi.jp/uploaded/image/240187.jpg\n",
            "Resolving www.pref.aichi.jp (www.pref.aichi.jp)... 219.164.237.64\n",
            "Connecting to www.pref.aichi.jp (www.pref.aichi.jp)|219.164.237.64|:443... connected.\n",
            "HTTP request sent, awaiting response... 200 OK\n",
            "Length: 385157 (376K) [image/jpeg]\n",
            "Saving to: ‘kansen.jpg’\n",
            "\n",
            "\rkansen.jpg            0%[                    ]       0  --.-KB/s               \rkansen.jpg          100%[===================>] 376.13K  1.88MB/s    in 0.2s    \n",
            "\n",
            "2020-05-03 02:23:46 (1.88 MB/s) - ‘kansen.jpg’ saved [385157/385157]\n",
            "\n"
          ],
          "name": "stdout"
        }
      ]
    },
    {
      "cell_type": "code",
      "metadata": {
        "id": "GEY6lLlPnaWB",
        "colab_type": "code",
        "colab": {}
      },
      "source": [
        "import re\n",
        "\n",
        "import cv2\n",
        "import numpy as np\n",
        "\n",
        "import pyocr\n",
        "import pyocr.builders\n",
        "\n",
        "from PIL import Image"
      ],
      "execution_count": 0,
      "outputs": []
    },
    {
      "cell_type": "code",
      "metadata": {
        "id": "VhIADXZcwulZ",
        "colab_type": "code",
        "colab": {}
      },
      "source": [
        "from google.colab.patches import cv2_imshow"
      ],
      "execution_count": 0,
      "outputs": []
    },
    {
      "cell_type": "code",
      "metadata": {
        "id": "kn-APt8y1vRp",
        "colab_type": "code",
        "colab": {}
      },
      "source": [
        "def textFrom(img):\n",
        "\n",
        "    # 閾値の設定\n",
        "    th = 200\n",
        "\n",
        "    ret, binary_img = cv2.threshold(img, th, 255, cv2.THRESH_BINARY)\n",
        "\n",
        "    # 表示\n",
        "    cv2_imshow(binary_img)\n",
        "\n",
        "    # OCRテキスト処理\n",
        "    txt = tool.image_to_string(\n",
        "        Image.fromarray(binary_img),\n",
        "        lang=\"jpn\",\n",
        "        # builder=pyocr.builders.DigitBuilder(tesseract_layout=6)\n",
        "    )\n",
        "\n",
        "    # 数字以外を除去\n",
        "    num = re.sub(r\"\\D\", \"\", txt)\n",
        "    return num"
      ],
      "execution_count": 0,
      "outputs": []
    },
    {
      "cell_type": "code",
      "metadata": {
        "id": "yTS58aRFnace",
        "colab_type": "code",
        "colab": {}
      },
      "source": [
        "# グレー用\n",
        "\n",
        "def textFromDark(img):\n",
        "    ret, binary_img = cv2.threshold(img, 0, 255, cv2.THRESH_BINARY + cv2.THRESH_OTSU)\n",
        "\n",
        "    print(ret)\n",
        "\n",
        "    # 表示\n",
        "    cv2_imshow(binary_img)\n",
        "    \n",
        "    # OCRテキスト処理\n",
        "    txt = tool.image_to_string(\n",
        "        Image.fromarray(binary_img),\n",
        "        lang=\"jpn\",\n",
        "        # builder=pyocr.builders.DigitBuilder(tesseract_layout=6)\n",
        "    )\n",
        "\n",
        "    # 数字以外を除去  \n",
        "    num = re.sub(r\"\\D\", \"\", txt)\n",
        "    return num"
      ],
      "execution_count": 0,
      "outputs": []
    },
    {
      "cell_type": "code",
      "metadata": {
        "id": "Et9D3nChkGoH",
        "colab_type": "code",
        "colab": {}
      },
      "source": [
        "# 利用可能なOCRツールを取得\n",
        "tools = pyocr.get_available_tools()\n",
        "\n",
        "tool = tools[0]"
      ],
      "execution_count": 0,
      "outputs": []
    },
    {
      "cell_type": "code",
      "metadata": {
        "id": "z2ResZ-6557j",
        "colab_type": "code",
        "colab": {}
      },
      "source": [
        "# 画像読込\n",
        "src_img = cv2.imread(\"kansen.jpg\")\n",
        "\n",
        "# グレーに変換\n",
        "gray_img = cv2.cvtColor(src_img, cv2.COLOR_BGR2GRAY)"
      ],
      "execution_count": 0,
      "outputs": []
    },
    {
      "cell_type": "code",
      "metadata": {
        "id": "c0v1uT4aSg9l",
        "colab_type": "code",
        "colab": {}
      },
      "source": [
        "POINT_Y1 = 145  # Y座標上\n",
        "POINT_Y2 = 165  # Y座標下\n",
        "\n",
        "START = 72      # 開始位置\n",
        "INTERVAL = 72   # 間隔\n",
        "MARGIN = 5      # 余白"
      ],
      "execution_count": 0,
      "outputs": []
    },
    {
      "cell_type": "code",
      "metadata": {
        "id": "iee2V9mNVOEG",
        "colab_type": "code",
        "colab": {}
      },
      "source": [
        "def point_calc(i):\n",
        "\n",
        "    BASE = START + (INTERVAL * i)\n",
        "\n",
        "    x1 = BASE + MARGIN\n",
        "    x2 = BASE - MARGIN + INTERVAL\n",
        "\n",
        "    return x1, x2"
      ],
      "execution_count": 0,
      "outputs": []
    },
    {
      "cell_type": "code",
      "metadata": {
        "id": "syNTqFzx1iDy",
        "colab_type": "code",
        "outputId": "16278da7-991b-4a41-ec91-f152345e29af",
        "colab": {
          "base_uri": "https://localhost:8080/",
          "height": 94
        }
      },
      "source": [
        "# 検査実施人数\n",
        "\n",
        "x1, x2 = point_calc(0)\n",
        "\n",
        "# トリミング\n",
        "inspectors_img = gray_img[POINT_Y1:POINT_Y2, x1:x2]\n",
        "\n",
        "# リサイズ×３\n",
        "inspectors_img = cv2.resize(inspectors_img, None, fx=3, fy=3)\n",
        "inspectors_txt = textFrom(inspectors_img)\n",
        "\n",
        "print(inspectors_txt)"
      ],
      "execution_count": 23,
      "outputs": [
        {
          "output_type": "display_data",
          "data": {
            "image/png": "[encoded data removed]",
            "text/plain": [
              "<PIL.Image.Image image mode=L size=186x60 at 0x7F5AE7C9A470>"
            ]
          },
          "metadata": {
            "tags": []
          }
        },
        {
          "output_type": "stream",
          "text": [
            "7463\n"
          ],
          "name": "stdout"
        }
      ]
    },
    {
      "cell_type": "code",
      "metadata": {
        "id": "JSTYxv700vEe",
        "colab_type": "code",
        "outputId": "8a92ca9b-1f29-4b94-afa6-d4927fecddcc",
        "colab": {
          "base_uri": "https://localhost:8080/",
          "height": 112
        }
      },
      "source": [
        "# 陽性数\n",
        "\n",
        "x1, x2 = point_calc(1)\n",
        "\n",
        "# トリミング\n",
        "positive_img = gray_img[POINT_Y1:POINT_Y2, x1:x2]\n",
        "\n",
        "# リサイズ×３\n",
        "positive_img = cv2.resize(positive_img, None, fx=3, fy=3)\n",
        "positive_txt = textFromDark(positive_img)\n",
        "\n",
        "print(positive_txt)"
      ],
      "execution_count": 24,
      "outputs": [
        {
          "output_type": "stream",
          "text": [
            "120.0\n"
          ],
          "name": "stdout"
        },
        {
          "output_type": "display_data",
          "data": {
            "image/png": "[encoded data removed]",
            "text/plain": [
              "<PIL.Image.Image image mode=L size=186x60 at 0x7F5AE7470828>"
            ]
          },
          "metadata": {
            "tags": []
          }
        },
        {
          "output_type": "stream",
          "text": [
            "484\n"
          ],
          "name": "stdout"
        }
      ]
    },
    {
      "cell_type": "code",
      "metadata": {
        "id": "7oj83zQn01Ng",
        "colab_type": "code",
        "outputId": "cfa332a9-1eba-4118-f881-8a6722c9c80b",
        "colab": {
          "base_uri": "https://localhost:8080/",
          "height": 112
        }
      },
      "source": [
        "# 入院中\n",
        "\n",
        "x1, x2 = point_calc(2)\n",
        "\n",
        "# トリミング\n",
        "hospitalized_img = gray_img[POINT_Y1:POINT_Y2, x1:x2]\n",
        "\n",
        "# リサイズ×３\n",
        "hospitalized_img = cv2.resize(hospitalized_img, None, fx=3, fy=3)\n",
        "hospitalized_txt = textFromDark(hospitalized_img)\n",
        "\n",
        "print(hospitalized_txt)"
      ],
      "execution_count": 25,
      "outputs": [
        {
          "output_type": "stream",
          "text": [
            "149.0\n"
          ],
          "name": "stdout"
        },
        {
          "output_type": "display_data",
          "data": {
            "image/png": "[encoded data removed]",
            "text/plain": [
              "<PIL.Image.Image image mode=L size=186x60 at 0x7F5AE7470DD8>"
            ]
          },
          "metadata": {
            "tags": []
          }
        },
        {
          "output_type": "stream",
          "text": [
            "136\n"
          ],
          "name": "stdout"
        }
      ]
    },
    {
      "cell_type": "code",
      "metadata": {
        "id": "gg1uhuwI01TZ",
        "colab_type": "code",
        "outputId": "2a234fe5-d7bb-437d-987d-152444968536",
        "colab": {
          "base_uri": "https://localhost:8080/",
          "height": 74
        }
      },
      "source": [
        "# 軽症・中等症\n",
        "\n",
        "x1, x2 = point_calc(3)\n",
        "\n",
        "# トリミング\n",
        "mild_moderate_img = gray_img[POINT_Y1:POINT_Y2, x1:x2]\n",
        "\n",
        "# リサイズ×３\n",
        "mild_moderate_img = cv2.resize(mild_moderate_img, None, fx=2, fy=2)\n",
        "mild_moderate_txt = textFrom(mild_moderate_img)\n",
        "\n",
        "print(mild_moderate_txt)"
      ],
      "execution_count": 26,
      "outputs": [
        {
          "output_type": "display_data",
          "data": {
            "image/png": "[encoded data removed]",
            "text/plain": [
              "<PIL.Image.Image image mode=L size=124x40 at 0x7F5AE7470828>"
            ]
          },
          "metadata": {
            "tags": []
          }
        },
        {
          "output_type": "stream",
          "text": [
            "128\n"
          ],
          "name": "stdout"
        }
      ]
    },
    {
      "cell_type": "code",
      "metadata": {
        "id": "vvKr2Rag01XK",
        "colab_type": "code",
        "outputId": "e8e99d08-92ae-4da4-cd37-3eaa3e37d78e",
        "colab": {
          "base_uri": "https://localhost:8080/",
          "height": 94
        }
      },
      "source": [
        "# 重症\n",
        "\n",
        "x1, x2 = point_calc(4)\n",
        "\n",
        "# トリミング\n",
        "severe_img = gray_img[POINT_Y1:POINT_Y2, x1:x2]\n",
        "\n",
        "# リサイズ×３\n",
        "severe_img = cv2.resize(severe_img, None, fx=3, fy=3)\n",
        "severe_txt = textFrom(severe_img)\n",
        "\n",
        "print(severe_txt)"
      ],
      "execution_count": 27,
      "outputs": [
        {
          "output_type": "display_data",
          "data": {
            "image/png": "[encoded data removed]",
            "text/plain": [
              "<PIL.Image.Image image mode=L size=186x60 at 0x7F5AE7470F60>"
            ]
          },
          "metadata": {
            "tags": []
          }
        },
        {
          "output_type": "stream",
          "text": [
            "8\n"
          ],
          "name": "stdout"
        }
      ]
    },
    {
      "cell_type": "code",
      "metadata": {
        "id": "ijIXJCTqXic9",
        "colab_type": "code",
        "outputId": "58671ce1-eb73-4be2-c5c7-6a5331d660cf",
        "colab": {
          "base_uri": "https://localhost:8080/",
          "height": 94
        }
      },
      "source": [
        "# 施設入所\n",
        "\n",
        "x1, x2 = point_calc(5)\n",
        "\n",
        "# トリミング\n",
        "facility_img = gray_img[POINT_Y1:POINT_Y2, x1:x2]\n",
        "\n",
        "# リサイズ×３\n",
        "facility_img = cv2.resize(facility_img, None, fx=3, fy=3)\n",
        "facility_txt = textFrom(facility_img)\n",
        "\n",
        "print(facility_txt)"
      ],
      "execution_count": 28,
      "outputs": [
        {
          "output_type": "display_data",
          "data": {
            "image/png": "[encoded data removed]",
            "text/plain": [
              "<PIL.Image.Image image mode=L size=186x60 at 0x7F5AE7470C18>"
            ]
          },
          "metadata": {
            "tags": []
          }
        },
        {
          "output_type": "stream",
          "text": [
            "22\n"
          ],
          "name": "stdout"
        }
      ]
    },
    {
      "cell_type": "code",
      "metadata": {
        "id": "fi3xE-Rt0vIP",
        "colab_type": "code",
        "outputId": "fd2f86a3-5cd7-4493-b3ff-cdbcaf53906b",
        "colab": {
          "base_uri": "https://localhost:8080/",
          "height": 94
        }
      },
      "source": [
        "# 退院\n",
        "\n",
        "x1, x2 = point_calc(6)\n",
        "\n",
        "# トリミング\n",
        "discharge_img = gray_img[POINT_Y1:POINT_Y2, x1:x2]\n",
        "\n",
        "# リサイズ×３\n",
        "discharge_img = cv2.resize(discharge_img, None, fx=3, fy=3)\n",
        "discharge_txt = textFrom(discharge_img)\n",
        "\n",
        "print(discharge_txt)"
      ],
      "execution_count": 29,
      "outputs": [
        {
          "output_type": "display_data",
          "data": {
            "image/png": "[encoded data removed]",
            "text/plain": [
              "<PIL.Image.Image image mode=L size=186x60 at 0x7F5AE7485048>"
            ]
          },
          "metadata": {
            "tags": []
          }
        },
        {
          "output_type": "stream",
          "text": [
            "289\n"
          ],
          "name": "stdout"
        }
      ]
    },
    {
      "cell_type": "code",
      "metadata": {
        "id": "LR_0LR4g0vMb",
        "colab_type": "code",
        "outputId": "e217f706-63cc-4808-98df-c4a334e2521d",
        "colab": {
          "base_uri": "https://localhost:8080/",
          "height": 94
        }
      },
      "source": [
        "# 転院\n",
        "\n",
        "x1, x2 = point_calc(7)\n",
        "\n",
        "# トリミング\n",
        "transfer_img = gray_img[POINT_Y1:POINT_Y2, x1:x2]\n",
        "\n",
        "# リサイズ×３\n",
        "transfer_img = cv2.resize(transfer_img, None, fx=3, fy=3)\n",
        "\n",
        "transfer_txt = textFrom(transfer_img)\n",
        "\n",
        "print(transfer_txt)"
      ],
      "execution_count": 30,
      "outputs": [
        {
          "output_type": "display_data",
          "data": {
            "image/png": "[encoded data removed]",
            "text/plain": [
              "<PIL.Image.Image image mode=L size=186x60 at 0x7F5AE74870B8>"
            ]
          },
          "metadata": {
            "tags": []
          }
        },
        {
          "output_type": "stream",
          "text": [
            "3\n"
          ],
          "name": "stdout"
        }
      ]
    },
    {
      "cell_type": "code",
      "metadata": {
        "id": "YtUb7uvk0vPv",
        "colab_type": "code",
        "outputId": "4e964ff8-9a5d-45ce-f7fb-258cf7b3b263",
        "colab": {
          "base_uri": "https://localhost:8080/",
          "height": 94
        }
      },
      "source": [
        "# 死亡\n",
        "\n",
        "x1, x2 = point_calc(8)\n",
        "\n",
        "# トリミング\n",
        "death_img = gray_img[POINT_Y1:POINT_Y2, x1:x2]\n",
        "\n",
        "# リサイズ×３\n",
        "death_img = cv2.resize(death_img, None, fx=3, fy=3)\n",
        "\n",
        "# 収縮\n",
        "# kernel = np.ones((5,5),np.uint8)\n",
        "# death_img = cv2.dilate(death_img,kernel,iterations = 1)\n",
        "\n",
        "death_txt = textFrom(death_img)\n",
        "\n",
        "print(death_txt)"
      ],
      "execution_count": 31,
      "outputs": [
        {
          "output_type": "display_data",
          "data": {
            "image/png": "[encoded data removed]",
            "text/plain": [
              "<PIL.Image.Image image mode=L size=186x60 at 0x7F5AE7481160>"
            ]
          },
          "metadata": {
            "tags": []
          }
        },
        {
          "output_type": "stream",
          "text": [
            "34\n"
          ],
          "name": "stdout"
        }
      ]
    }
  ]
}