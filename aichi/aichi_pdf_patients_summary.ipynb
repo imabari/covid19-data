{
  "nbformat": 4,
  "nbformat_minor": 0,
  "metadata": {
    "colab": {
      "name": "aichi_pdf_patients_summary.ipynb",
      "provenance": [],
      "collapsed_sections": [],
      "authorship_tag": "ABX9TyP8apdxAqOc+Vvrmsusra34",
      "include_colab_link": true
    },
    "kernelspec": {
      "name": "python3",
      "display_name": "Python 3"
    }
  },
  "cells": [
    {
      "cell_type": "markdown",
      "metadata": {
        "id": "view-in-github",
        "colab_type": "text"
      },
      "source": [
        "<a href=\"https://colab.research.google.com/github/imabari/covid19-data/blob/master/aichi/aichi_pdf_patients_summary.ipynb\" target=\"_parent\"><img src=\"https://colab.research.google.com/assets/colab-badge.svg\" alt=\"Open In Colab\"/></a>"
      ]
    },
    {
      "cell_type": "code",
      "metadata": {
        "id": "_Wm6u2NYpTaI",
        "colab_type": "code",
        "colab": {
          "base_uri": "https://localhost:8080/",
          "height": 419
        },
        "outputId": "4b815bc3-3a5a-4bd9-b5fc-4a419630ed92"
      },
      "source": [
        "!apt install python3-tk ghostscript\n",
        "!pip install camelot-py[cv]"
      ],
      "execution_count": 62,
      "outputs": [
        {
          "output_type": "stream",
          "text": [
            "Reading package lists... Done\n",
            "Building dependency tree       \n",
            "Reading state information... Done\n",
            "ghostscript is already the newest version (9.26~dfsg+0-0ubuntu0.18.04.12).\n",
            "python3-tk is already the newest version (3.6.9-1~18.04).\n",
            "0 upgraded, 0 newly installed, 0 to remove and 29 not upgraded.\n",
            "Requirement already satisfied: camelot-py[cv] in /usr/local/lib/python3.6/dist-packages (0.7.3)\n",
            "Requirement already satisfied: chardet>=3.0.4 in /usr/local/lib/python3.6/dist-packages (from camelot-py[cv]) (3.0.4)\n",
            "Requirement already satisfied: click>=6.7 in /usr/local/lib/python3.6/dist-packages (from camelot-py[cv]) (7.1.2)\n",
            "Requirement already satisfied: openpyxl>=2.5.8 in /usr/local/lib/python3.6/dist-packages (from camelot-py[cv]) (2.5.9)\n",
            "Requirement already satisfied: pdfminer.six>=20170720 in /usr/local/lib/python3.6/dist-packages (from camelot-py[cv]) (20200402)\n",
            "Requirement already satisfied: pandas>=0.23.4 in /usr/local/lib/python3.6/dist-packages (from camelot-py[cv]) (1.0.3)\n",
            "Requirement already satisfied: PyPDF2>=1.26.0 in /usr/local/lib/python3.6/dist-packages (from camelot-py[cv]) (1.26.0)\n",
            "Requirement already satisfied: numpy>=1.13.3 in /usr/local/lib/python3.6/dist-packages (from camelot-py[cv]) (1.18.4)\n",
            "Requirement already satisfied: opencv-python>=3.4.2.17; extra == \"cv\" in /usr/local/lib/python3.6/dist-packages (from camelot-py[cv]) (4.1.2.30)\n",
            "Requirement already satisfied: et-xmlfile in /usr/local/lib/python3.6/dist-packages (from openpyxl>=2.5.8->camelot-py[cv]) (1.0.1)\n",
            "Requirement already satisfied: jdcal in /usr/local/lib/python3.6/dist-packages (from openpyxl>=2.5.8->camelot-py[cv]) (1.4.1)\n",
            "Requirement already satisfied: sortedcontainers in /usr/local/lib/python3.6/dist-packages (from pdfminer.six>=20170720->camelot-py[cv]) (2.1.0)\n",
            "Requirement already satisfied: pycryptodome in /usr/local/lib/python3.6/dist-packages (from pdfminer.six>=20170720->camelot-py[cv]) (3.9.7)\n",
            "Requirement already satisfied: python-dateutil>=2.6.1 in /usr/local/lib/python3.6/dist-packages (from pandas>=0.23.4->camelot-py[cv]) (2.8.1)\n",
            "Requirement already satisfied: pytz>=2017.2 in /usr/local/lib/python3.6/dist-packages (from pandas>=0.23.4->camelot-py[cv]) (2018.9)\n",
            "Requirement already satisfied: six>=1.5 in /usr/local/lib/python3.6/dist-packages (from python-dateutil>=2.6.1->pandas>=0.23.4->camelot-py[cv]) (1.12.0)\n"
          ],
          "name": "stdout"
        }
      ]
    },
    {
      "cell_type": "code",
      "metadata": {
        "id": "B13eppg162QP",
        "colab_type": "code",
        "colab": {}
      },
      "source": [
        "import requests\n",
        "from bs4 import BeautifulSoup"
      ],
      "execution_count": 0,
      "outputs": []
    },
    {
      "cell_type": "code",
      "metadata": {
        "id": "3RhRawk77ky8",
        "colab_type": "code",
        "colab": {}
      },
      "source": [
        "from urllib.parse import urljoin"
      ],
      "execution_count": 0,
      "outputs": []
    },
    {
      "cell_type": "code",
      "metadata": {
        "id": "onXDGa1167o4",
        "colab_type": "code",
        "colab": {}
      },
      "source": [
        "import re"
      ],
      "execution_count": 0,
      "outputs": []
    },
    {
      "cell_type": "code",
      "metadata": {
        "id": "PWl5wxlz-_U8",
        "colab_type": "code",
        "colab": {}
      },
      "source": [
        "import datetime"
      ],
      "execution_count": 0,
      "outputs": []
    },
    {
      "cell_type": "code",
      "metadata": {
        "id": "s2ZKsu3C62Pp",
        "colab_type": "code",
        "colab": {}
      },
      "source": [
        "url = \"https://www.pref.aichi.jp/site/covid19-aichi/kansensya-kensa.html\"\n",
        "\n",
        "headers = {\n",
        "    \"User-Agent\": \"Mozilla/5.0 (Windows NT 10.0; WOW64; Trident/7.0; rv:11.0) like Gecko\",\n",
        "}"
      ],
      "execution_count": 0,
      "outputs": []
    },
    {
      "cell_type": "code",
      "metadata": {
        "id": "WmpV3LsA62O-",
        "colab_type": "code",
        "colab": {}
      },
      "source": [
        "r = requests.get(url, headers=headers)\n",
        "\n",
        "r.raise_for_status()\n",
        "\n",
        "soup = BeautifulSoup(r.content, \"html5lib\")"
      ],
      "execution_count": 0,
      "outputs": []
    },
    {
      "cell_type": "code",
      "metadata": {
        "id": "eTgKRiun66e4",
        "colab_type": "code",
        "colab": {}
      },
      "source": [
        "tag = soup.find(\"a\", text=re.compile(\"県内発生事例一覧.+PDFファイル\"))"
      ],
      "execution_count": 0,
      "outputs": []
    },
    {
      "cell_type": "code",
      "metadata": {
        "id": "2izjaefS62N8",
        "colab_type": "code",
        "colab": {}
      },
      "source": [
        "link = urljoin(url, tag.get(\"href\"))"
      ],
      "execution_count": 0,
      "outputs": []
    },
    {
      "cell_type": "code",
      "metadata": {
        "id": "WySL26PKBh36",
        "colab_type": "code",
        "colab": {}
      },
      "source": [
        "m = re.search(\"(\\d{1,2})月(\\d{1,2})日\", tag.get_text(strip=True))"
      ],
      "execution_count": 0,
      "outputs": []
    },
    {
      "cell_type": "code",
      "metadata": {
        "id": "ZH_zJbiECloh",
        "colab_type": "code",
        "colab": {}
      },
      "source": [
        "dt_now = datetime.datetime.now()"
      ],
      "execution_count": 0,
      "outputs": []
    },
    {
      "cell_type": "code",
      "metadata": {
        "id": "zI9nWi3AB29a",
        "colab_type": "code",
        "colab": {}
      },
      "source": [
        "month, day = map(int, m.groups())"
      ],
      "execution_count": 0,
      "outputs": []
    },
    {
      "cell_type": "code",
      "metadata": {
        "id": "0nzSTY-I2yLN",
        "colab_type": "code",
        "outputId": "78bf5262-1fef-4bb0-e7e2-d03c814b2eb9",
        "colab": {
          "base_uri": "https://localhost:8080/",
          "height": 34
        }
      },
      "source": [
        "tag.get_text(strip=True)"
      ],
      "execution_count": 74,
      "outputs": [
        {
          "output_type": "execute_result",
          "data": {
            "text/plain": [
              "'県内発生事例一覧(5月10日現在) [PDFファイル／172KB]'"
            ]
          },
          "metadata": {
            "tags": []
          },
          "execution_count": 74
        }
      ]
    },
    {
      "cell_type": "code",
      "metadata": {
        "id": "WbJbUCws-6xJ",
        "colab_type": "code",
        "outputId": "7aaa8ee9-22e5-406a-a4ef-b8a092aee64c",
        "colab": {
          "base_uri": "https://localhost:8080/",
          "height": 34
        }
      },
      "source": [
        "dt_update = datetime.datetime(dt_now.year, month, day)\n",
        "dt_update"
      ],
      "execution_count": 75,
      "outputs": [
        {
          "output_type": "execute_result",
          "data": {
            "text/plain": [
              "datetime.datetime(2020, 5, 10, 0, 0)"
            ]
          },
          "metadata": {
            "tags": []
          },
          "execution_count": 75
        }
      ]
    },
    {
      "cell_type": "code",
      "metadata": {
        "id": "Us6FH4de7ugy",
        "colab_type": "code",
        "colab": {}
      },
      "source": [
        "import pandas as pd"
      ],
      "execution_count": 0,
      "outputs": []
    },
    {
      "cell_type": "code",
      "metadata": {
        "id": "cpcHhUlH_PES",
        "colab_type": "code",
        "colab": {}
      },
      "source": [
        "import json"
      ],
      "execution_count": 0,
      "outputs": []
    },
    {
      "cell_type": "code",
      "metadata": {
        "id": "IvQNhfb-plQo",
        "colab_type": "code",
        "colab": {}
      },
      "source": [
        "import camelot"
      ],
      "execution_count": 0,
      "outputs": []
    },
    {
      "cell_type": "code",
      "metadata": {
        "id": "BRwzLpaDpj-Q",
        "colab_type": "code",
        "colab": {}
      },
      "source": [
        "tables = camelot.read_pdf(link, pages=\"all\", split_text=True, strip_text=\"\\n\", line_scale=40)"
      ],
      "execution_count": 0,
      "outputs": []
    },
    {
      "cell_type": "code",
      "metadata": {
        "id": "pE8rnPXmp4lJ",
        "colab_type": "code",
        "colab": {}
      },
      "source": [
        "df_csv = pd.concat([table.df for table in tables])\n",
        "\n",
        "df_csv.to_csv(\"partients.csv\", index=None, header=None)"
      ],
      "execution_count": 0,
      "outputs": []
    },
    {
      "cell_type": "code",
      "metadata": {
        "id": "96QPh5jk_EET",
        "colab_type": "code",
        "colab": {}
      },
      "source": [
        "data = {}"
      ],
      "execution_count": 0,
      "outputs": []
    },
    {
      "cell_type": "code",
      "metadata": {
        "id": "ZUIjvnAE7yKa",
        "colab_type": "code",
        "colab": {}
      },
      "source": [
        "df_kanja = pd.read_csv(\"partients.csv\")"
      ],
      "execution_count": 0,
      "outputs": []
    },
    {
      "cell_type": "code",
      "metadata": {
        "id": "SlVINU7xq4rb",
        "colab_type": "code",
        "colab": {}
      },
      "source": [
        "def my_parser(s):\n",
        "\n",
        "    y = dt_now.year\n",
        "    m, d = map(int, re.findall(\"[0-9]{1,2}\", s))\n",
        "\n",
        "    return pd.Timestamp(year=y, month=m, day=d)"
      ],
      "execution_count": 0,
      "outputs": []
    },
    {
      "cell_type": "code",
      "metadata": {
        "id": "EAV-KwOK8KZy",
        "colab_type": "code",
        "colab": {}
      },
      "source": [
        "df_kanja[\"発表日\"] = df_kanja[\"発表日\"].apply(my_parser)"
      ],
      "execution_count": 0,
      "outputs": []
    },
    {
      "cell_type": "code",
      "metadata": {
        "id": "d_dacn9BxhA7",
        "colab_type": "code",
        "outputId": "ca181df9-d971-4422-e332-7c0e596b703d",
        "colab": {
          "base_uri": "https://localhost:8080/",
          "height": 363
        }
      },
      "source": [
        "df_kanja.tail(10)"
      ],
      "execution_count": 85,
      "outputs": [
        {
          "output_type": "execute_result",
          "data": {
            "text/html": [
              "<div>\n",
              "<style scoped>\n",
              "    .dataframe tbody tr th:only-of-type {\n",
              "        vertical-align: middle;\n",
              "    }\n",
              "\n",
              "    .dataframe tbody tr th {\n",
              "        vertical-align: top;\n",
              "    }\n",
              "\n",
              "    .dataframe thead th {\n",
              "        text-align: right;\n",
              "    }\n",
              "</style>\n",
              "<table border=\"1\" class=\"dataframe\">\n",
              "  <thead>\n",
              "    <tr style=\"text-align: right;\">\n",
              "      <th></th>\n",
              "      <th>No</th>\n",
              "      <th>発表日</th>\n",
              "      <th>年代・性別</th>\n",
              "      <th>国籍</th>\n",
              "      <th>住居地</th>\n",
              "      <th>接触状況</th>\n",
              "      <th>備考</th>\n",
              "    </tr>\n",
              "  </thead>\n",
              "  <tbody>\n",
              "    <tr>\n",
              "      <th>491</th>\n",
              "      <td>492</td>\n",
              "      <td>2020-05-03</td>\n",
              "      <td>50代女性</td>\n",
              "      <td>NaN</td>\n",
              "      <td>名古屋市</td>\n",
              "      <td>No.424,470と接触</td>\n",
              "      <td>名古屋市発表272</td>\n",
              "    </tr>\n",
              "    <tr>\n",
              "      <th>492</th>\n",
              "      <td>493</td>\n",
              "      <td>2020-05-04</td>\n",
              "      <td>30代男性</td>\n",
              "      <td>日本</td>\n",
              "      <td>半田市</td>\n",
              "      <td>No.490と接触</td>\n",
              "      <td>本県発表198</td>\n",
              "    </tr>\n",
              "    <tr>\n",
              "      <th>493</th>\n",
              "      <td>494</td>\n",
              "      <td>2020-05-04</td>\n",
              "      <td>60代女性</td>\n",
              "      <td>日本</td>\n",
              "      <td>知多市</td>\n",
              "      <td>No.389,453と接触</td>\n",
              "      <td>本県発表199</td>\n",
              "    </tr>\n",
              "    <tr>\n",
              "      <th>494</th>\n",
              "      <td>495</td>\n",
              "      <td>2020-05-04</td>\n",
              "      <td>60代女性</td>\n",
              "      <td>NaN</td>\n",
              "      <td>豊田市</td>\n",
              "      <td>NaN</td>\n",
              "      <td>豊田市発表8</td>\n",
              "    </tr>\n",
              "    <tr>\n",
              "      <th>495</th>\n",
              "      <td>496</td>\n",
              "      <td>2020-05-05</td>\n",
              "      <td>40代男性</td>\n",
              "      <td>日本</td>\n",
              "      <td>一宮市</td>\n",
              "      <td>NaN</td>\n",
              "      <td>本県発表200</td>\n",
              "    </tr>\n",
              "    <tr>\n",
              "      <th>496</th>\n",
              "      <td>497</td>\n",
              "      <td>2020-05-05</td>\n",
              "      <td>30代男性</td>\n",
              "      <td>日本</td>\n",
              "      <td>みよし市</td>\n",
              "      <td>No.495と接触</td>\n",
              "      <td>本県発表201</td>\n",
              "    </tr>\n",
              "    <tr>\n",
              "      <th>497</th>\n",
              "      <td>498</td>\n",
              "      <td>2020-05-05</td>\n",
              "      <td>30代女性</td>\n",
              "      <td>日本</td>\n",
              "      <td>みよし市</td>\n",
              "      <td>No.495と接触</td>\n",
              "      <td>本県発表202</td>\n",
              "    </tr>\n",
              "    <tr>\n",
              "      <th>498</th>\n",
              "      <td>499</td>\n",
              "      <td>2020-05-09</td>\n",
              "      <td>50代女性</td>\n",
              "      <td>日本</td>\n",
              "      <td>春日井市</td>\n",
              "      <td>NaN</td>\n",
              "      <td>本県発表203</td>\n",
              "    </tr>\n",
              "    <tr>\n",
              "      <th>499</th>\n",
              "      <td>500</td>\n",
              "      <td>2020-05-09</td>\n",
              "      <td>70代男性</td>\n",
              "      <td>NaN</td>\n",
              "      <td>名古屋市</td>\n",
              "      <td>NaN</td>\n",
              "      <td>名古屋市発表273</td>\n",
              "    </tr>\n",
              "    <tr>\n",
              "      <th>500</th>\n",
              "      <td>501</td>\n",
              "      <td>2020-05-09</td>\n",
              "      <td>70代女性</td>\n",
              "      <td>NaN</td>\n",
              "      <td>名古屋市</td>\n",
              "      <td>NaN</td>\n",
              "      <td>名古屋市発表274</td>\n",
              "    </tr>\n",
              "  </tbody>\n",
              "</table>\n",
              "</div>"
            ],
            "text/plain": [
              "      No        発表日  年代・性別   国籍   住居地           接触状況         備考\n",
              "491  492 2020-05-03  50代女性  NaN  名古屋市  No.424,470と接触  名古屋市発表272\n",
              "492  493 2020-05-04  30代男性   日本   半田市      No.490と接触    本県発表198\n",
              "493  494 2020-05-04  60代女性   日本   知多市  No.389,453と接触    本県発表199\n",
              "494  495 2020-05-04  60代女性  NaN   豊田市            NaN     豊田市発表8\n",
              "495  496 2020-05-05  40代男性   日本   一宮市            NaN    本県発表200\n",
              "496  497 2020-05-05  30代男性   日本  みよし市      No.495と接触    本県発表201\n",
              "497  498 2020-05-05  30代女性   日本  みよし市      No.495と接触    本県発表202\n",
              "498  499 2020-05-09  50代女性   日本  春日井市            NaN    本県発表203\n",
              "499  500 2020-05-09  70代男性  NaN  名古屋市            NaN  名古屋市発表273\n",
              "500  501 2020-05-09  70代女性  NaN  名古屋市            NaN  名古屋市発表274"
            ]
          },
          "metadata": {
            "tags": []
          },
          "execution_count": 85
        }
      ]
    },
    {
      "cell_type": "code",
      "metadata": {
        "id": "f1qGhqi5DQS0",
        "colab_type": "code",
        "colab": {}
      },
      "source": [
        "sr = df_kanja[\"発表日\"].value_counts()"
      ],
      "execution_count": 0,
      "outputs": []
    },
    {
      "cell_type": "code",
      "metadata": {
        "id": "INOG9a8gxqOJ",
        "colab_type": "code",
        "outputId": "e252aacf-f628-4d7c-8eff-a99d5481c6ff",
        "colab": {
          "base_uri": "https://localhost:8080/",
          "height": 382
        }
      },
      "source": [
        "sr.sort_index().tail(20)"
      ],
      "execution_count": 87,
      "outputs": [
        {
          "output_type": "execute_result",
          "data": {
            "text/plain": [
              "2020-04-15    12\n",
              "2020-04-16    14\n",
              "2020-04-17    10\n",
              "2020-04-18    17\n",
              "2020-04-19    10\n",
              "2020-04-20     5\n",
              "2020-04-21    16\n",
              "2020-04-22    19\n",
              "2020-04-23    12\n",
              "2020-04-24    14\n",
              "2020-04-25     1\n",
              "2020-04-26     1\n",
              "2020-04-28     5\n",
              "2020-04-29     4\n",
              "2020-04-30     1\n",
              "2020-05-01     3\n",
              "2020-05-03     2\n",
              "2020-05-04     3\n",
              "2020-05-05     3\n",
              "2020-05-09     3\n",
              "Name: 発表日, dtype: int64"
            ]
          },
          "metadata": {
            "tags": []
          },
          "execution_count": 87
        }
      ]
    },
    {
      "cell_type": "code",
      "metadata": {
        "id": "rO3SQ0z4IKBX",
        "colab_type": "code",
        "colab": {}
      },
      "source": [
        "# indexに更新日付が含まれるか確認、含まれない場合は更新日を0で追加\n",
        "if dt_update not in sr.index:\n",
        "    sr[dt_update] = 0"
      ],
      "execution_count": 0,
      "outputs": []
    },
    {
      "cell_type": "code",
      "metadata": {
        "id": "-Uszttj1Jvfb",
        "colab_type": "code",
        "colab": {}
      },
      "source": [
        "df_patients_sum = sr.sort_index().asfreq(\"D\", fill_value=0).reset_index()"
      ],
      "execution_count": 0,
      "outputs": []
    },
    {
      "cell_type": "code",
      "metadata": {
        "id": "NEA4J7h1_jeU",
        "colab_type": "code",
        "colab": {}
      },
      "source": [
        "df_patients_sum[\"日付\"] = df_patients_sum[\"index\"].dt.strftime(\"%Y-%m-%d\")"
      ],
      "execution_count": 0,
      "outputs": []
    },
    {
      "cell_type": "code",
      "metadata": {
        "id": "3fTnmx64__BK",
        "colab_type": "code",
        "colab": {}
      },
      "source": [
        "df_patients_sum.rename(columns={\"発表日\": \"小計\"}, inplace=True)\n",
        "df_patients_sum.drop(columns=[\"index\"], inplace=True)"
      ],
      "execution_count": 0,
      "outputs": []
    },
    {
      "cell_type": "code",
      "metadata": {
        "id": "Pj30X6BI9dQa",
        "colab_type": "code",
        "outputId": "5b571354-949a-4f7e-ecf9-f254dfd3e7c7",
        "colab": {
          "base_uri": "https://localhost:8080/",
          "height": 363
        }
      },
      "source": [
        "df_patients_sum.tail(10)"
      ],
      "execution_count": 92,
      "outputs": [
        {
          "output_type": "execute_result",
          "data": {
            "text/html": [
              "<div>\n",
              "<style scoped>\n",
              "    .dataframe tbody tr th:only-of-type {\n",
              "        vertical-align: middle;\n",
              "    }\n",
              "\n",
              "    .dataframe tbody tr th {\n",
              "        vertical-align: top;\n",
              "    }\n",
              "\n",
              "    .dataframe thead th {\n",
              "        text-align: right;\n",
              "    }\n",
              "</style>\n",
              "<table border=\"1\" class=\"dataframe\">\n",
              "  <thead>\n",
              "    <tr style=\"text-align: right;\">\n",
              "      <th></th>\n",
              "      <th>小計</th>\n",
              "      <th>日付</th>\n",
              "    </tr>\n",
              "  </thead>\n",
              "  <tbody>\n",
              "    <tr>\n",
              "      <th>96</th>\n",
              "      <td>3</td>\n",
              "      <td>2020-05-01</td>\n",
              "    </tr>\n",
              "    <tr>\n",
              "      <th>97</th>\n",
              "      <td>0</td>\n",
              "      <td>2020-05-02</td>\n",
              "    </tr>\n",
              "    <tr>\n",
              "      <th>98</th>\n",
              "      <td>2</td>\n",
              "      <td>2020-05-03</td>\n",
              "    </tr>\n",
              "    <tr>\n",
              "      <th>99</th>\n",
              "      <td>3</td>\n",
              "      <td>2020-05-04</td>\n",
              "    </tr>\n",
              "    <tr>\n",
              "      <th>100</th>\n",
              "      <td>3</td>\n",
              "      <td>2020-05-05</td>\n",
              "    </tr>\n",
              "    <tr>\n",
              "      <th>101</th>\n",
              "      <td>0</td>\n",
              "      <td>2020-05-06</td>\n",
              "    </tr>\n",
              "    <tr>\n",
              "      <th>102</th>\n",
              "      <td>0</td>\n",
              "      <td>2020-05-07</td>\n",
              "    </tr>\n",
              "    <tr>\n",
              "      <th>103</th>\n",
              "      <td>0</td>\n",
              "      <td>2020-05-08</td>\n",
              "    </tr>\n",
              "    <tr>\n",
              "      <th>104</th>\n",
              "      <td>3</td>\n",
              "      <td>2020-05-09</td>\n",
              "    </tr>\n",
              "    <tr>\n",
              "      <th>105</th>\n",
              "      <td>0</td>\n",
              "      <td>2020-05-10</td>\n",
              "    </tr>\n",
              "  </tbody>\n",
              "</table>\n",
              "</div>"
            ],
            "text/plain": [
              "     小計          日付\n",
              "96    3  2020-05-01\n",
              "97    0  2020-05-02\n",
              "98    2  2020-05-03\n",
              "99    3  2020-05-04\n",
              "100   3  2020-05-05\n",
              "101   0  2020-05-06\n",
              "102   0  2020-05-07\n",
              "103   0  2020-05-08\n",
              "104   3  2020-05-09\n",
              "105   0  2020-05-10"
            ]
          },
          "metadata": {
            "tags": []
          },
          "execution_count": 92
        }
      ]
    },
    {
      "cell_type": "code",
      "metadata": {
        "id": "kA0Feg9g-48h",
        "colab_type": "code",
        "colab": {}
      },
      "source": [
        "data[\"patients_summary\"] = {\n",
        "    \"data\": df_patients_sum.to_dict(orient=\"records\"),\n",
        "    \"date\": dt_update.strftime(\"%Y/%m/%d\"),\n",
        "}"
      ],
      "execution_count": 0,
      "outputs": []
    },
    {
      "cell_type": "code",
      "metadata": {
        "id": "TevFFMDF_Jvi",
        "colab_type": "code",
        "colab": {}
      },
      "source": [
        "with open(\"data.json\", \"w\", encoding=\"utf-8\") as fw:\n",
        "    json.dump(data, fw, ensure_ascii=False, indent=4)"
      ],
      "execution_count": 0,
      "outputs": []
    }
  ]
}