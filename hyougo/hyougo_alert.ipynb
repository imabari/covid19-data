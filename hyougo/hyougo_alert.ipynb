{
  "nbformat": 4,
  "nbformat_minor": 0,
  "metadata": {
    "colab": {
      "name": "hyougo_alert.ipynb",
      "provenance": [],
      "authorship_tag": "ABX9TyPXx1N5HGlN5IL/ClJ89twJ",
      "include_colab_link": true
    },
    "kernelspec": {
      "name": "python3",
      "display_name": "Python 3"
    }
  },
  "cells": [
    {
      "cell_type": "markdown",
      "metadata": {
        "id": "view-in-github",
        "colab_type": "text"
      },
      "source": [
        "<a href=\"https://colab.research.google.com/github/imabari/covid19-data/blob/master/hyougo/hyougo_alert.ipynb\" target=\"_parent\"><img src=\"https://colab.research.google.com/assets/colab-badge.svg\" alt=\"Open In Colab\"/></a>"
      ]
    },
    {
      "cell_type": "code",
      "metadata": {
        "id": "ui5DyFx4zL3t"
      },
      "source": [
        "import re"
      ],
      "execution_count": 1,
      "outputs": []
    },
    {
      "cell_type": "code",
      "metadata": {
        "id": "MF4q6_B7zL3t"
      },
      "source": [
        "import requests\n",
        "from bs4 import BeautifulSoup"
      ],
      "execution_count": 2,
      "outputs": []
    },
    {
      "cell_type": "code",
      "metadata": {
        "id": "b7mz-tijzL3t"
      },
      "source": [
        "url = \"https://web.pref.hyogo.lg.jp/index.html\"\n",
        "\n",
        "headers = {\n",
        "    \"User-Agent\": \"Mozilla/5.0 (Windows NT 10.0; WOW64; Trident/7.0; rv:11.0) like Gecko\"\n",
        "}"
      ],
      "execution_count": 3,
      "outputs": []
    },
    {
      "cell_type": "code",
      "metadata": {
        "id": "wmc4UbgVPO5M"
      },
      "source": [
        "alert_dic = {\n",
        "    \"感染小康期\": {\"判断基準\": \"10人未満\", \"対応の方向性\": \"予防\"},\n",
        "    \"感染警戒期\": {\"判断基準\": \"10人以上\", \"対応の方向性\": \"警戒\"},\n",
        "    \"感染増加期\": {\"判断基準\": \"20人以上\", \"対応の方向性\": \"制限強化\"},\n",
        "    \"感染拡大期Ⅰ\": {\"判断基準\": \"30人以上\", \"対応の方向性\": \"制限強化\"},\n",
        "    \"感染拡大期Ⅱ\": {\"判断基準\": \"40人以上\", \"対応の方向性\": \"制限強化\"},\n",
        "    \"感染拡大特別期\": {\"判断基準\": \"総合的に判断\", \"対応の方向性\": \"制限強化\"},\n",
        "}"
      ],
      "execution_count": 4,
      "outputs": []
    },
    {
      "cell_type": "code",
      "metadata": {
        "id": "lU0HVC3xzL3t"
      },
      "source": [
        "r = requests.get(url, headers=headers)\n",
        "r.raise_for_status()\n",
        "\n",
        "soup = BeautifulSoup(r.content, \"html.parser\")"
      ],
      "execution_count": 5,
      "outputs": []
    },
    {
      "cell_type": "code",
      "metadata": {
        "id": "wxDXDaO4zY1T"
      },
      "source": [
        "p = re.compile(\"【現在は、(感染小康期|感染警戒期|感染増加期|感染拡大期[ⅠⅡ]|感染拡大特別期)です】\")\n",
        "# p = re.compile(\"【現在は、(.+)です】\")"
      ],
      "execution_count": 6,
      "outputs": []
    },
    {
      "cell_type": "code",
      "metadata": {
        "colab": {
          "base_uri": "https://localhost:8080/"
        },
        "id": "CUzeWw3ezOok",
        "outputId": "dea2717c-7e78-468d-b9fc-01daf5c546a1"
      },
      "source": [
        "tag = soup.find(\"strong\", text=p)\n",
        "text = \"\"\n",
        "\n",
        "if tag:\n",
        "\n",
        "    s = tag.get_text(strip=True)\n",
        "\n",
        "    m = re.search(p, s)\n",
        "\n",
        "    text = m.group(1)\n",
        "\n",
        "    if m:\n",
        "        data = alert_dic.get(text)\n",
        "        print(data[\"判断基準\"], data[\"対応の方向性\"])\n",
        "    else:\n",
        "        print(\"マッチしません\")"
      ],
      "execution_count": 7,
      "outputs": [
        {
          "output_type": "stream",
          "text": [
            "総合的に判断 制限強化\n"
          ],
          "name": "stdout"
        }
      ]
    },
    {
      "cell_type": "code",
      "metadata": {
        "id": "SFOWjWBWBHIN"
      },
      "source": [
        "import pandas as pd\n",
        "import datetime"
      ],
      "execution_count": 8,
      "outputs": []
    },
    {
      "cell_type": "code",
      "metadata": {
        "id": "t2Urj2VvUNB7"
      },
      "source": [
        "JST = datetime.timezone(datetime.timedelta(hours=+9))\n",
        "dt_now = datetime.datetime.now(JST)"
      ],
      "execution_count": 9,
      "outputs": []
    },
    {
      "cell_type": "code",
      "metadata": {
        "id": "yTdDLymsUBiT"
      },
      "source": [
        "def str2date(s):\n",
        "\n",
        "    n = re.findall(\"[0-9]{1,2}\", s)\n",
        "\n",
        "    y = dt_now.year\n",
        "\n",
        "    if len(n) == 2:\n",
        "        m, d = map(int, n)\n",
        "        return pd.Timestamp(y, m, d)\n",
        "\n",
        "    else:\n",
        "        return pd.NaT"
      ],
      "execution_count": 10,
      "outputs": []
    },
    {
      "cell_type": "code",
      "metadata": {
        "id": "qZsPOrGCSbxz"
      },
      "source": [
        "df = pd.read_html(url, match=\"新規陽性者数（1週間平均）\", index_col=0)[0].T"
      ],
      "execution_count": 11,
      "outputs": []
    },
    {
      "cell_type": "code",
      "metadata": {
        "id": "yflwc1TVTtZE"
      },
      "source": [
        "dt_text = df.columns[0]"
      ],
      "execution_count": 12,
      "outputs": []
    },
    {
      "cell_type": "code",
      "metadata": {
        "id": "BhUU_rgeSsFC"
      },
      "source": [
        "df.set_axis([\"日付\", \"新規陽性者数\"], axis=1, inplace=True)"
      ],
      "execution_count": 13,
      "outputs": []
    },
    {
      "cell_type": "code",
      "metadata": {
        "id": "CAPwkjFjUEy7"
      },
      "source": [
        "df[\"日付\"] = df[\"日付\"].apply(str2date)"
      ],
      "execution_count": 14,
      "outputs": []
    },
    {
      "cell_type": "code",
      "metadata": {
        "id": "14qSIMf7TTb7"
      },
      "source": [
        "df[\"新規陽性者数\"] = df[\"新規陽性者数\"].astype(float)"
      ],
      "execution_count": 15,
      "outputs": []
    },
    {
      "cell_type": "code",
      "metadata": {
        "id": "kx3Cf1AmTfdE"
      },
      "source": [
        "df.set_index(\"日付\", inplace=True)"
      ],
      "execution_count": 16,
      "outputs": []
    },
    {
      "cell_type": "code",
      "metadata": {
        "id": "UG7HwJLgUaNb"
      },
      "source": [
        "df[\"警戒レベル\"] = pd.cut(\n",
        "    df[\"新規陽性者数\"],\n",
        "    [0, 10, 20, 30, 40, 100, 9999],\n",
        "    labels=[\"感染小康期\", \"感染警戒期\", \"感染増加期\", \"感染拡大期Ⅰ\", \"感染拡大期Ⅱ\", \"感染拡大特別期\"],\n",
        "    right=False,\n",
        ")"
      ],
      "execution_count": 17,
      "outputs": []
    },
    {
      "cell_type": "code",
      "metadata": {
        "id": "l4txJko-p3sG"
      },
      "source": [
        "df[\"対応\"] = pd.cut(\n",
        "    df[\"新規陽性者数\"],\n",
        "    [0, 10, 20, 9999],\n",
        "    labels=[\"予防\", \"警戒\", \"制限強化\"],\n",
        "    right=False,\n",
        ")"
      ],
      "execution_count": 18,
      "outputs": []
    },
    {
      "cell_type": "code",
      "metadata": {
        "colab": {
          "base_uri": "https://localhost:8080/",
          "height": 300
        },
        "id": "IbtQ3OyyhTCy",
        "outputId": "4bcb6b42-5f18-4ae6-b115-1447900ffe32"
      },
      "source": [
        "df"
      ],
      "execution_count": 19,
      "outputs": [
        {
          "output_type": "execute_result",
          "data": {
            "text/html": [
              "<div>\n",
              "<style scoped>\n",
              "    .dataframe tbody tr th:only-of-type {\n",
              "        vertical-align: middle;\n",
              "    }\n",
              "\n",
              "    .dataframe tbody tr th {\n",
              "        vertical-align: top;\n",
              "    }\n",
              "\n",
              "    .dataframe thead th {\n",
              "        text-align: right;\n",
              "    }\n",
              "</style>\n",
              "<table border=\"1\" class=\"dataframe\">\n",
              "  <thead>\n",
              "    <tr style=\"text-align: right;\">\n",
              "      <th></th>\n",
              "      <th>新規陽性者数</th>\n",
              "      <th>警戒レベル</th>\n",
              "      <th>対応</th>\n",
              "    </tr>\n",
              "    <tr>\n",
              "      <th>日付</th>\n",
              "      <th></th>\n",
              "      <th></th>\n",
              "      <th></th>\n",
              "    </tr>\n",
              "  </thead>\n",
              "  <tbody>\n",
              "    <tr>\n",
              "      <th>2020-11-19</th>\n",
              "      <td>86.9</td>\n",
              "      <td>感染拡大期Ⅱ</td>\n",
              "      <td>制限強化</td>\n",
              "    </tr>\n",
              "    <tr>\n",
              "      <th>2020-11-20</th>\n",
              "      <td>95.4</td>\n",
              "      <td>感染拡大期Ⅱ</td>\n",
              "      <td>制限強化</td>\n",
              "    </tr>\n",
              "    <tr>\n",
              "      <th>2020-11-21</th>\n",
              "      <td>105.9</td>\n",
              "      <td>感染拡大特別期</td>\n",
              "      <td>制限強化</td>\n",
              "    </tr>\n",
              "    <tr>\n",
              "      <th>2020-11-22</th>\n",
              "      <td>114.4</td>\n",
              "      <td>感染拡大特別期</td>\n",
              "      <td>制限強化</td>\n",
              "    </tr>\n",
              "    <tr>\n",
              "      <th>2020-11-23</th>\n",
              "      <td>119.7</td>\n",
              "      <td>感染拡大特別期</td>\n",
              "      <td>制限強化</td>\n",
              "    </tr>\n",
              "    <tr>\n",
              "      <th>2020-11-24</th>\n",
              "      <td>115.6</td>\n",
              "      <td>感染拡大特別期</td>\n",
              "      <td>制限強化</td>\n",
              "    </tr>\n",
              "    <tr>\n",
              "      <th>2020-11-25</th>\n",
              "      <td>115.1</td>\n",
              "      <td>感染拡大特別期</td>\n",
              "      <td>制限強化</td>\n",
              "    </tr>\n",
              "  </tbody>\n",
              "</table>\n",
              "</div>"
            ],
            "text/plain": [
              "            新規陽性者数    警戒レベル    対応\n",
              "日付                               \n",
              "2020-11-19    86.9   感染拡大期Ⅱ  制限強化\n",
              "2020-11-20    95.4   感染拡大期Ⅱ  制限強化\n",
              "2020-11-21   105.9  感染拡大特別期  制限強化\n",
              "2020-11-22   114.4  感染拡大特別期  制限強化\n",
              "2020-11-23   119.7  感染拡大特別期  制限強化\n",
              "2020-11-24   115.6  感染拡大特別期  制限強化\n",
              "2020-11-25   115.1  感染拡大特別期  制限強化"
            ]
          },
          "metadata": {
            "tags": []
          },
          "execution_count": 19
        }
      ]
    },
    {
      "cell_type": "code",
      "metadata": {
        "colab": {
          "base_uri": "https://localhost:8080/"
        },
        "id": "oQGI5eNJq_18",
        "outputId": "974558ab-85b6-4f65-b01d-7321fb914226"
      },
      "source": [
        "if text == df.iloc[-1][\"警戒レベル\"]:\n",
        "    print(text)\n",
        "else:\n",
        "    print(\"※要確認\", text, df.iloc[-1][\"警戒レベル\"])"
      ],
      "execution_count": 20,
      "outputs": [
        {
          "output_type": "stream",
          "text": [
            "感染拡大特別期\n"
          ],
          "name": "stdout"
        }
      ]
    },
    {
      "cell_type": "code",
      "metadata": {
        "colab": {
          "base_uri": "https://localhost:8080/",
          "height": 35
        },
        "id": "-BCAgrSjBV2N",
        "outputId": "59753cbd-0961-452f-b403-364ab92ae4a7"
      },
      "source": [
        "dt_text"
      ],
      "execution_count": 21,
      "outputs": [
        {
          "output_type": "execute_result",
          "data": {
            "application/vnd.google.colaboratory.intrinsic+json": {
              "type": "string"
            },
            "text/plain": [
              "'(11月25日14時現在）'"
            ]
          },
          "metadata": {
            "tags": []
          },
          "execution_count": 21
        }
      ]
    },
    {
      "cell_type": "code",
      "metadata": {
        "id": "ru09gnv8BbHk"
      },
      "source": [
        "month, day, hour = map(int, re.findall(\"\\d{1,2}\", dt_text))"
      ],
      "execution_count": 22,
      "outputs": []
    },
    {
      "cell_type": "code",
      "metadata": {
        "id": "DIv3HCvUBsnt"
      },
      "source": [
        "dt_update = datetime.datetime(dt_now.year, month, day, hour)"
      ],
      "execution_count": 23,
      "outputs": []
    },
    {
      "cell_type": "code",
      "metadata": {
        "colab": {
          "base_uri": "https://localhost:8080/"
        },
        "id": "F2TzT5KQhjYU",
        "outputId": "7527b922-2080-4d17-a8c9-369f3737011e"
      },
      "source": [
        "dt_update"
      ],
      "execution_count": 24,
      "outputs": [
        {
          "output_type": "execute_result",
          "data": {
            "text/plain": [
              "datetime.datetime(2020, 11, 25, 14, 0)"
            ]
          },
          "metadata": {
            "tags": []
          },
          "execution_count": 24
        }
      ]
    }
  ]
}