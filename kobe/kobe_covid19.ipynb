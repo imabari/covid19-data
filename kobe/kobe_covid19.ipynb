{
  "nbformat": 4,
  "nbformat_minor": 0,
  "metadata": {
    "colab": {
      "name": "kobe_covid19.ipynb",
      "provenance": [],
      "collapsed_sections": [],
      "toc_visible": true,
      "authorship_tag": "ABX9TyN9eirag7K5XucMlOJ6DOC6",
      "include_colab_link": true
    },
    "kernelspec": {
      "name": "python3",
      "display_name": "Python 3"
    }
  },
  "cells": [
    {
      "cell_type": "markdown",
      "metadata": {
        "id": "view-in-github",
        "colab_type": "text"
      },
      "source": [
        "<a href=\"https://colab.research.google.com/github/imabari/covid19-data/blob/master/kobe/kobe_covid19.ipynb\" target=\"_parent\"><img src=\"https://colab.research.google.com/assets/colab-badge.svg\" alt=\"Open In Colab\"/></a>"
      ]
    },
    {
      "cell_type": "code",
      "metadata": {
        "id": "s2tDlMMicK09",
        "colab_type": "code",
        "colab": {}
      },
      "source": [
        "!pip install pycurl\n",
        "!pip install -U pandas"
      ],
      "execution_count": 0,
      "outputs": []
    },
    {
      "cell_type": "code",
      "metadata": {
        "id": "8dn9LSkSei8m",
        "colab_type": "code",
        "colab": {}
      },
      "source": [
        "!pip install retry"
      ],
      "execution_count": 0,
      "outputs": []
    },
    {
      "cell_type": "code",
      "metadata": {
        "id": "B4ueV-AF0D0b",
        "colab_type": "code",
        "colab": {}
      },
      "source": [
        "import datetime\n",
        "import json\n",
        "import pathlib\n",
        "import re\n",
        "from urllib.parse import urljoin"
      ],
      "execution_count": 0,
      "outputs": []
    },
    {
      "cell_type": "code",
      "metadata": {
        "id": "QhZPh5jTeiJQ",
        "colab_type": "code",
        "colab": {}
      },
      "source": [
        "from retry import retry"
      ],
      "execution_count": 0,
      "outputs": []
    },
    {
      "cell_type": "code",
      "metadata": {
        "id": "__MGt1sGKNx1",
        "colab_type": "code",
        "colab": {}
      },
      "source": [
        "import pandas as pd\n",
        "import pycurl\n",
        "import requests\n",
        "from bs4 import BeautifulSoup"
      ],
      "execution_count": 0,
      "outputs": []
    },
    {
      "cell_type": "code",
      "metadata": {
        "id": "yN6OxNNFKN1b",
        "colab_type": "code",
        "colab": {}
      },
      "source": [
        "OUT_DIR = \"data\"\n",
        "DOWNLOAD_DIR = \"download\""
      ],
      "execution_count": 0,
      "outputs": []
    },
    {
      "cell_type": "code",
      "metadata": {
        "id": "b3G3ACWgKN4P",
        "colab_type": "code",
        "colab": {}
      },
      "source": [
        "@retry(tries=4, delay=5, backoff=2)\n",
        "def get_file(url, dir=\".\"):\n",
        "\n",
        "    p = pathlib.Path(dir, pathlib.PurePath(url).name)\n",
        "\n",
        "    p.parent.mkdir(parents=True, exist_ok=True)\n",
        "\n",
        "    with p.open(mode=\"wb\") as f:\n",
        "\n",
        "        c = pycurl.Curl()\n",
        "        c.setopt(c.URL, url)\n",
        "        c.setopt(c.WRITEDATA, f)\n",
        "        c.perform()\n",
        "        c.close()\n",
        "\n",
        "    return p"
      ],
      "execution_count": 0,
      "outputs": []
    },
    {
      "cell_type": "code",
      "metadata": {
        "id": "Ckt525e9KN6m",
        "colab_type": "code",
        "colab": {}
      },
      "source": [
        "def my_parser(s):\n",
        "\n",
        "    y = datetime.datetime.now().year\n",
        "    m, d = map(int, re.findall(\"[0-9]{1,2}\", s))\n",
        "\n",
        "    return pd.Timestamp(year=y, month=m, day=d)"
      ],
      "execution_count": 0,
      "outputs": []
    },
    {
      "cell_type": "code",
      "metadata": {
        "id": "JX8I4kJ1KN9N",
        "colab_type": "code",
        "colab": {}
      },
      "source": [
        "# スクレイピング\n",
        "url = \"https://www.city.kobe.lg.jp/a73576/kenko/health/infection/protection/covid_19.html\"\n",
        "\n",
        "headers = {\n",
        "    \"User-Agent\":\n",
        "    \"Mozilla/5.0 (Windows NT 10.0; WOW64; Trident/7.0; rv:11.0) like Gecko\"\n",
        "}\n",
        "\n",
        "r = requests.get(url, headers=headers)\n",
        "\n",
        "r.raise_for_status()\n",
        "\n",
        "soup = BeautifulSoup(r.content, \"html5lib\")"
      ],
      "execution_count": 0,
      "outputs": []
    },
    {
      "cell_type": "code",
      "metadata": {
        "id": "X6hFGtLCKOAE",
        "colab_type": "code",
        "colab": {}
      },
      "source": [
        "# ダウンロード\n",
        "files = []\n",
        "\n",
        "for i in soup.find_all(\"a\", class_=\"icon_excel openDataFile\"):\n",
        "    link = urljoin(url, i.get(\"href\"))\n",
        "\n",
        "    file = get_file(link, DOWNLOAD_DIR)\n",
        "\n",
        "    files.append(file)"
      ],
      "execution_count": 0,
      "outputs": []
    },
    {
      "cell_type": "code",
      "metadata": {
        "id": "7Jl2y-CJKODL",
        "colab_type": "code",
        "colab": {}
      },
      "source": [
        "# 最終更新日\n",
        "last_update = datetime.date.today().strftime(\"%Y/%m/%d %H:%M\")"
      ],
      "execution_count": 0,
      "outputs": []
    },
    {
      "cell_type": "code",
      "metadata": {
        "id": "504bm0OHKpXd",
        "colab_type": "code",
        "colab": {}
      },
      "source": [
        "data = {}\n",
        "\n",
        "data[\"lastUpdate\"] = last_update"
      ],
      "execution_count": 0,
      "outputs": []
    },
    {
      "cell_type": "code",
      "metadata": {
        "id": "itavitHwKpav",
        "colab_type": "code",
        "colab": {}
      },
      "source": [
        "# 市内感染者の状況・検査件数\n",
        "df_pcr = pd.read_excel(files[0], sheet_name=\"kobe\", index_col=0, skipfooter=3)\n",
        "\n",
        "df_pcr.columns = df_pcr.columns.str.replace(r\"\\s\", \"\")\n",
        "\n",
        "df_pcr.index = df_pcr.index.strftime(\"%Y-%m-%dT08:00:00Z\")"
      ],
      "execution_count": 0,
      "outputs": []
    },
    {
      "cell_type": "code",
      "metadata": {
        "id": "mi93TPlSKpdG",
        "colab_type": "code",
        "colab": {}
      },
      "source": [
        "# patients_summary\n",
        "df_pats_sum = df_pcr[\"陽性者数（日別）\"].reset_index().rename(columns={\n",
        "    \"index\": \"日付\",\n",
        "    \"陽性者数（日別）\": \"小計\"\n",
        "})\n",
        "\n",
        "data[\"patients_summary\"] = {\n",
        "    \"date\": last_update,\n",
        "    \"data\": df_pats_sum.to_dict(orient=\"recodes\")\n",
        "}"
      ],
      "execution_count": 0,
      "outputs": []
    },
    {
      "cell_type": "code",
      "metadata": {
        "id": "cFP2ULefKpfr",
        "colab_type": "code",
        "colab": {}
      },
      "source": [
        "# inspections_summary\n",
        "df_insp_sum = df_pcr[\"検査実施人数（日別）\"].reset_index().rename(columns={\n",
        "    \"index\": \"日付\",\n",
        "    \"検査実施人数（日別）\": \"小計\"\n",
        "})\n",
        "\n",
        "data[\"inspections_summary\"] = {\n",
        "    \"date\": last_update,\n",
        "    \"data\": df_insp_sum.to_dict(orient=\"recodes\")\n",
        "}"
      ],
      "execution_count": 0,
      "outputs": []
    },
    {
      "cell_type": "code",
      "metadata": {
        "id": "SEnvLidYKpiV",
        "colab_type": "code",
        "colab": {}
      },
      "source": [
        "# 相談件数\n",
        "df_sodan = pd.read_excel(files[1],\n",
        "                         sheet_name=\"相談件数\",\n",
        "                         index_col=0,\n",
        "                         headers=None,\n",
        "                         skiprows=1,\n",
        "                         names=[\"日付\", \"窓口日別\", \"窓口累計\", \"保健所日別\", \"保健所累計\"])\n",
        "\n",
        "df_sodan.index = df_sodan.index.strftime(\"%Y-%m-%dT08:00:00Z\")"
      ],
      "execution_count": 0,
      "outputs": []
    },
    {
      "cell_type": "code",
      "metadata": {
        "id": "Sr_7tx0gMklk",
        "colab_type": "code",
        "colab": {}
      },
      "source": [
        "df_sodan = df_sodan[df_sodan.index.notnull()]"
      ],
      "execution_count": 0,
      "outputs": []
    },
    {
      "cell_type": "code",
      "metadata": {
        "id": "LcuDc9siK1qt",
        "colab_type": "code",
        "colab": {}
      },
      "source": [
        "# contacts_summary\n",
        "df_conts_sum = df_sodan[\"窓口日別\"].reset_index(\n",
        ").rename(columns={\n",
        "    \"index\": \"日付\",\n",
        "    \"窓口日別\": \"小計\"\n",
        "})\n",
        "\n",
        "data[\"contacts_summary\"] = {\n",
        "    \"date\": last_update,\n",
        "    \"data\": df_conts_sum.to_dict(orient=\"recodes\")\n",
        "}"
      ],
      "execution_count": 0,
      "outputs": []
    },
    {
      "cell_type": "code",
      "metadata": {
        "id": "204S4CEfK1ty",
        "colab_type": "code",
        "colab": {}
      },
      "source": [
        "# health_center_summary\n",
        "df_hecen_sum = df_sodan[\"保健所日別\"].reset_index().rename(\n",
        "    columns={\n",
        "        \"index\": \"日付\",\n",
        "        \"保健所日別\": \"小計\"\n",
        "    })\n",
        "\n",
        "data[\"health_center_summary\"] = {\n",
        "    \"date\": last_update,\n",
        "    \"data\": df_hecen_sum.to_dict(orient=\"recodes\")\n",
        "}"
      ],
      "execution_count": 0,
      "outputs": []
    },
    {
      "cell_type": "code",
      "metadata": {
        "id": "VZFb4SSmK1wn",
        "colab_type": "code",
        "colab": {}
      },
      "source": [
        "# patients\n",
        "dfs = pd.read_html(\"https://www.city.kobe.lg.jp/a57337/kenko/health/corona_zokusei.html\", header=0, index_col=\"番号\")\n",
        "\n",
        "dfs[0].rename(columns={\"陽性判明日\": \"発表日\"}, inplace=True)"
      ],
      "execution_count": 0,
      "outputs": []
    },
    {
      "cell_type": "code",
      "metadata": {
        "id": "fS_zxqEeO768",
        "colab_type": "code",
        "colab": {}
      },
      "source": [
        "df_pats = pd.concat([df.sort_index() for df in dfs]).reset_index(drop=True)\n",
        "\n",
        "df_pats[\"発表日\"] = df_pats[\"発表日\"].apply(my_parser)\n",
        "\n",
        "df_pats[\"判明日\"] = df_pats[\"発表日\"].dt.strftime(\"%Y-%m-%dT08:00:00Z\")\n",
        "\n",
        "df_pats[\"date\"] = df_pats[\"発表日\"].dt.strftime(\"%Y-%m-%d\")\n",
        "\n",
        "df_pats[\"年代\"] = df_pats[\"年代\"].astype(str) + \"代\"\n",
        "\n",
        "df_pats[\"退院\"] = None\n",
        "\n",
        "df_patsm = (\n",
        "    df_pats[~df_pats[\"備考\"].astype(str).str.contains(\"市外在住\")]\n",
        "    .copy()\n",
        "    .reset_index()\n",
        "    .sort_values([\"判明日\", \"index\"])\n",
        ")\n",
        "\n",
        "df_patsm.loc[df_patsm[\"備考\"].isnull(), \"備考\"] = None\n",
        "\n",
        "data[\"patients\"] = {\n",
        "    \"date\": last_update,\n",
        "    \"data\": df_patsm.loc[:, [\"判明日\", \"date\", \"年代\", \"性別\", \"備考\", \"退院\"]].to_dict(\n",
        "        orient=\"recodes\"\n",
        "    ),\n",
        "}"
      ],
      "execution_count": 0,
      "outputs": []
    },
    {
      "cell_type": "code",
      "metadata": {
        "id": "lfHh-RjIK4fQ",
        "colab_type": "code",
        "colab": {}
      },
      "source": [
        "# main_summary\n",
        "df_all = pd.read_excel(files[0], sheet_name=\"all\", index_col=0)\n",
        "\n",
        "df_all.columns = df_all.columns.str.replace(r\"\\s\", \"\")"
      ],
      "execution_count": 0,
      "outputs": []
    },
    {
      "cell_type": "code",
      "metadata": {
        "id": "J2ZHG2QTLiw-",
        "colab_type": "code",
        "colab": {}
      },
      "source": [
        "sr_all = df_all[df_all.index.notnull()].iloc[-1]\n",
        "sr_all"
      ],
      "execution_count": 0,
      "outputs": []
    },
    {
      "cell_type": "code",
      "metadata": {
        "id": "dCz0pJAOK1zv",
        "colab_type": "code",
        "colab": {}
      },
      "source": [
        "data[\"main_summary\"] = {\n",
        "    \"attr\":\n",
        "    \"患者発生総数\",\n",
        "    \"value\":\n",
        "    int(sr_all[\"患者発生総数【速報含む】\"]),\n",
        "    \"children\": [{\n",
        "        \"attr\":\n",
        "        \"調査済患者総数\",\n",
        "        \"value\":\n",
        "        int(sr_all[\"調査済患者総数\"]),\n",
        "        \"children\": [\n",
        "            {\n",
        "                \"attr\":\n",
        "                \"入院中\",\n",
        "                \"value\":\n",
        "                int(sr_all[\"入院・入居中\"]),\n",
        "                \"children\": [\n",
        "                    {\n",
        "                        \"attr\": \"軽症・中等症\",\n",
        "                        \"value\": int(sr_all[\"軽症・中等症\"])\n",
        "                    },\n",
        "                    {\n",
        "                        \"attr\": \"重症\",\n",
        "                        \"value\": int(sr_all[\"重症\"])\n",
        "                    },\n",
        "                ],\n",
        "            },\n",
        "            {\n",
        "                \"attr\": \"死亡\",\n",
        "                \"value\": int(sr_all[\"死亡（累計）\"])\n",
        "            },\n",
        "            {\n",
        "                \"attr\": \"治癒確認\",\n",
        "                \"value\": int(sr_all[\"治癒確認（退院など）（累計）\"])\n",
        "            },\n",
        "        ],\n",
        "    }],\n",
        "}"
      ],
      "execution_count": 0,
      "outputs": []
    },
    {
      "cell_type": "code",
      "metadata": {
        "id": "PQ14E6R_K12o",
        "colab_type": "code",
        "colab": {}
      },
      "source": [
        "data"
      ],
      "execution_count": 0,
      "outputs": []
    },
    {
      "cell_type": "code",
      "metadata": {
        "id": "YdW3UgGFKCmU",
        "colab_type": "code",
        "colab": {}
      },
      "source": [
        "# data.json\n",
        "p = pathlib.Path(OUT_DIR, \"data.json\")\n",
        "p.parent.mkdir(parents=True, exist_ok=True)\n",
        "\n",
        "with p.open(mode=\"w\", encoding=\"utf-8\") as fw:\n",
        "    json.dump(data, fw, ensure_ascii=False, indent=4)"
      ],
      "execution_count": 0,
      "outputs": []
    }
  ]
}