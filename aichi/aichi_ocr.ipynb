{
  "nbformat": 4,
  "nbformat_minor": 0,
  "metadata": {
    "colab": {
      "name": "aichi_ocr.ipynb",
      "provenance": [],
      "collapsed_sections": [],
      "toc_visible": true,
      "authorship_tag": "ABX9TyMVylQHRxebLXJhOaI07Xvb",
      "include_colab_link": true
    },
    "kernelspec": {
      "name": "python3",
      "display_name": "Python 3"
    }
  },
  "cells": [
    {
      "cell_type": "markdown",
      "metadata": {
        "id": "view-in-github",
        "colab_type": "text"
      },
      "source": [
        "<a href=\"https://colab.research.google.com/github/imabari/covid19-data/blob/master/aichi/aichi_ocr.ipynb\" target=\"_parent\"><img src=\"https://colab.research.google.com/assets/colab-badge.svg\" alt=\"Open In Colab\"/></a>"
      ]
    },
    {
      "cell_type": "code",
      "metadata": {
        "id": "_XaDTJ4Vkrzf",
        "colab_type": "code",
        "outputId": "ba7d88fe-a958-41cd-b804-7711dcc01330",
        "colab": {
          "base_uri": "https://localhost:8080/",
          "height": 248
        }
      },
      "source": [
        "!add-apt-repository ppa:alex-p/tesseract-ocr -y"
      ],
      "execution_count": 31,
      "outputs": [
        {
          "output_type": "stream",
          "text": [
            "\r0% [Working]\r            \rHit:1 https://cloud.r-project.org/bin/linux/ubuntu bionic-cran35/ InRelease\n",
            "\r0% [Connecting to archive.ubuntu.com (91.189.88.152)] [Connecting to security.u\r0% [1 InRelease gpgv 3,626 B] [Connecting to archive.ubuntu.com (91.189.88.152)\r                                                                               \rIgn:2 https://developer.download.nvidia.com/compute/cuda/repos/ubuntu1804/x86_64  InRelease\n",
            "\r0% [1 InRelease gpgv 3,626 B] [Connecting to archive.ubuntu.com (91.189.88.152)\r                                                                               \rIgn:3 https://developer.download.nvidia.com/compute/machine-learning/repos/ubuntu1804/x86_64  InRelease\n",
            "\r0% [1 InRelease gpgv 3,626 B] [Connecting to archive.ubuntu.com (91.189.88.152)\r                                                                               \rHit:4 https://developer.download.nvidia.com/compute/cuda/repos/ubuntu1804/x86_64  Release\n",
            "Hit:5 https://developer.download.nvidia.com/compute/machine-learning/repos/ubuntu1804/x86_64  Release\n",
            "Hit:6 http://ppa.launchpad.net/alex-p/tesseract-ocr/ubuntu bionic InRelease\n",
            "Hit:7 http://security.ubuntu.com/ubuntu bionic-security InRelease\n",
            "Hit:8 http://archive.ubuntu.com/ubuntu bionic InRelease\n",
            "Hit:10 http://archive.ubuntu.com/ubuntu bionic-updates InRelease\n",
            "Hit:11 http://ppa.launchpad.net/graphics-drivers/ppa/ubuntu bionic InRelease\n",
            "Hit:12 http://archive.ubuntu.com/ubuntu bionic-backports InRelease\n",
            "Hit:14 http://ppa.launchpad.net/marutter/c2d4u3.5/ubuntu bionic InRelease\n",
            "Reading package lists... Done\n"
          ],
          "name": "stdout"
        }
      ]
    },
    {
      "cell_type": "code",
      "metadata": {
        "id": "P_Q7so1hks6e",
        "colab_type": "code",
        "outputId": "2b4c5da5-5a0b-4c0a-c493-9a7c5fe612bf",
        "colab": {
          "base_uri": "https://localhost:8080/",
          "height": 302
        }
      },
      "source": [
        "!apt update"
      ],
      "execution_count": 32,
      "outputs": [
        {
          "output_type": "stream",
          "text": [
            "\u001b[33m\r0% [Working]\u001b[0m\r            \rHit:1 https://cloud.r-project.org/bin/linux/ubuntu bionic-cran35/ InRelease\n",
            "\u001b[33m\r0% [Connecting to archive.ubuntu.com (91.189.88.152)] [Connecting to security.u\u001b[0m\u001b[33m\r0% [1 InRelease gpgv 3,626 B] [Connecting to archive.ubuntu.com (91.189.88.152)\u001b[0m\r                                                                               \rIgn:2 https://developer.download.nvidia.com/compute/cuda/repos/ubuntu1804/x86_64  InRelease\n",
            "\u001b[33m\r0% [1 InRelease gpgv 3,626 B] [Connecting to archive.ubuntu.com (91.189.88.152)\u001b[0m\r                                                                               \rIgn:3 https://developer.download.nvidia.com/compute/machine-learning/repos/ubuntu1804/x86_64  InRelease\n",
            "\u001b[33m\r0% [1 InRelease gpgv 3,626 B] [Connecting to archive.ubuntu.com (91.189.88.152)\u001b[0m\r                                                                               \rHit:4 https://developer.download.nvidia.com/compute/cuda/repos/ubuntu1804/x86_64  Release\n",
            "\u001b[33m\r0% [1 InRelease gpgv 3,626 B] [Connecting to archive.ubuntu.com (91.189.88.152)\u001b[0m\r                                                                               \rHit:5 https://developer.download.nvidia.com/compute/machine-learning/repos/ubuntu1804/x86_64  Release\n",
            "\u001b[33m\r0% [1 InRelease gpgv 3,626 B] [Connecting to archive.ubuntu.com (91.189.88.152)\u001b[0m\u001b[33m\r                                                                               \r0% [Waiting for headers] [Waiting for headers] [Waiting for headers]\u001b[0m\u001b[33m\r0% [Release.gpg gpgv 564 B] [Waiting for headers] [Waiting for headers] [Waitin\u001b[0m\r                                                                               \rHit:6 http://ppa.launchpad.net/alex-p/tesseract-ocr/ubuntu bionic InRelease\n",
            "\u001b[33m\r0% [Release.gpg gpgv 564 B] [Waiting for headers] [Waiting for headers] [Connec\u001b[0m\r                                                                               \rHit:7 http://security.ubuntu.com/ubuntu bionic-security InRelease\n",
            "\u001b[33m\r0% [Release.gpg gpgv 564 B] [Waiting for headers] [Connecting to ppa.launchpad.\u001b[0m\r                                                                               \rHit:8 http://archive.ubuntu.com/ubuntu bionic InRelease\n",
            "\u001b[33m\r0% [Release.gpg gpgv 564 B] [Waiting for headers] [Connecting to ppa.launchpad.\u001b[0m\u001b[33m\r                                                                               \r0% [Waiting for headers] [Connecting to ppa.launchpad.net (91.189.95.83)]\u001b[0m\u001b[33m\r0% [Release.gpg gpgv 564 B] [Waiting for headers] [Connecting to ppa.launchpad.\u001b[0m\r                                                                               \rHit:10 http://archive.ubuntu.com/ubuntu bionic-updates InRelease\n",
            "\u001b[33m\r                                                                               \r0% [Release.gpg gpgv 564 B] [Waiting for headers] [Waiting for headers]\u001b[0m\r                                                                       \rHit:11 http://ppa.launchpad.net/graphics-drivers/ppa/ubuntu bionic InRelease\n",
            "Hit:12 http://archive.ubuntu.com/ubuntu bionic-backports InRelease\n",
            "Hit:14 http://ppa.launchpad.net/marutter/c2d4u3.5/ubuntu bionic InRelease\n",
            "Reading package lists... Done\n",
            "Building dependency tree       \n",
            "Reading state information... Done\n",
            "51 packages can be upgraded. Run 'apt list --upgradable' to see them.\n"
          ],
          "name": "stdout"
        }
      ]
    },
    {
      "cell_type": "code",
      "metadata": {
        "id": "BIfA1Fs4k8pf",
        "colab_type": "code",
        "outputId": "8189edca-ad3c-4373-b1cf-6a5fb39809ad",
        "colab": {
          "base_uri": "https://localhost:8080/",
          "height": 195
        }
      },
      "source": [
        "!apt install tesseract-ocr\n",
        "!apt install libtesseract-dev"
      ],
      "execution_count": 33,
      "outputs": [
        {
          "output_type": "stream",
          "text": [
            "Reading package lists... Done\n",
            "Building dependency tree       \n",
            "Reading state information... Done\n",
            "tesseract-ocr is already the newest version (4.1.1-2ppa1~bionic1).\n",
            "0 upgraded, 0 newly installed, 0 to remove and 51 not upgraded.\n",
            "Reading package lists... Done\n",
            "Building dependency tree       \n",
            "Reading state information... Done\n",
            "libtesseract-dev is already the newest version (4.1.1-2ppa1~bionic1).\n",
            "0 upgraded, 0 newly installed, 0 to remove and 51 not upgraded.\n"
          ],
          "name": "stdout"
        }
      ]
    },
    {
      "cell_type": "code",
      "metadata": {
        "id": "hWVxNxupk-_H",
        "colab_type": "code",
        "outputId": "f36a23ea-9e9b-40d3-dc2f-110d03e2dedb",
        "colab": {
          "base_uri": "https://localhost:8080/",
          "height": 159
        }
      },
      "source": [
        "!tesseract -v"
      ],
      "execution_count": 34,
      "outputs": [
        {
          "output_type": "stream",
          "text": [
            "tesseract 4.1.1-rc2-21-gf4ef\n",
            " leptonica-1.78.0\n",
            "  libgif 5.1.4 : libjpeg 8d (libjpeg-turbo 1.5.2) : libpng 1.6.34 : libtiff 4.0.9 : zlib 1.2.11 : libwebp 0.6.1 : libopenjp2 2.3.0\n",
            " Found AVX2\n",
            " Found AVX\n",
            " Found FMA\n",
            " Found SSE\n",
            " Found libarchive 3.2.2 zlib/1.2.11 liblzma/5.2.2 bz2lib/1.0.6 liblz4/1.7.1\n"
          ],
          "name": "stdout"
        }
      ]
    },
    {
      "cell_type": "code",
      "metadata": {
        "id": "tLOBzfeBk_De",
        "colab_type": "code",
        "outputId": "25e41770-80e9-4148-ba35-2cc1618f1332",
        "colab": {
          "base_uri": "https://localhost:8080/",
          "height": 231
        }
      },
      "source": [
        "!apt install tesseract-ocr-jpn  tesseract-ocr-jpn-vert\n",
        "!apt install tesseract-ocr-script-jpan tesseract-ocr-script-jpan-vert"
      ],
      "execution_count": 35,
      "outputs": [
        {
          "output_type": "stream",
          "text": [
            "Reading package lists... Done\n",
            "Building dependency tree       \n",
            "Reading state information... Done\n",
            "tesseract-ocr-jpn is already the newest version (1:4.0.0+git39-6572757-1ppa1~bionic1).\n",
            "tesseract-ocr-jpn-vert is already the newest version (1:4.0.0+git39-6572757-1ppa1~bionic1).\n",
            "0 upgraded, 0 newly installed, 0 to remove and 51 not upgraded.\n",
            "Reading package lists... Done\n",
            "Building dependency tree       \n",
            "Reading state information... Done\n",
            "tesseract-ocr-script-jpan is already the newest version (1:4.0.0+git39-6572757-1ppa1~bionic1).\n",
            "tesseract-ocr-script-jpan-vert is already the newest version (1:4.0.0+git39-6572757-1ppa1~bionic1).\n",
            "0 upgraded, 0 newly installed, 0 to remove and 51 not upgraded.\n"
          ],
          "name": "stdout"
        }
      ]
    },
    {
      "cell_type": "code",
      "metadata": {
        "id": "KiSNiwNmk_Gh",
        "colab_type": "code",
        "outputId": "4be37f9a-8f5a-44e9-87e3-fa9cdfa6838d",
        "colab": {
          "base_uri": "https://localhost:8080/",
          "height": 142
        }
      },
      "source": [
        "!tesseract --list-langs"
      ],
      "execution_count": 36,
      "outputs": [
        {
          "output_type": "stream",
          "text": [
            "List of available languages (6):\n",
            "Japanese\n",
            "Japanese_vert\n",
            "eng\n",
            "jpn\n",
            "jpn_vert\n",
            "osd\n"
          ],
          "name": "stdout"
        }
      ]
    },
    {
      "cell_type": "markdown",
      "metadata": {
        "id": "OJyZoIFoaHOY",
        "colab_type": "text"
      },
      "source": [
        "# スクレイピング"
      ]
    },
    {
      "cell_type": "code",
      "metadata": {
        "id": "JZgqK5j6dsUq",
        "colab_type": "code",
        "colab": {}
      },
      "source": [
        "import pathlib\n",
        "import re"
      ],
      "execution_count": 0,
      "outputs": []
    },
    {
      "cell_type": "code",
      "metadata": {
        "id": "yXmO8Gw30j8Z",
        "colab_type": "code",
        "colab": {}
      },
      "source": [
        "import requests\n",
        "from bs4 import BeautifulSoup\n",
        "from urllib.parse import urljoin"
      ],
      "execution_count": 0,
      "outputs": []
    },
    {
      "cell_type": "code",
      "metadata": {
        "id": "iUAYpueC0j7h",
        "colab_type": "code",
        "colab": {}
      },
      "source": [
        "url = \"https://www.pref.aichi.jp/site/covid19-aichi/\"\n",
        "\n",
        "headers = {\n",
        "    \"User-Agent\": \"Mozilla/5.0 (Windows NT 10.0; WOW64; Trident/7.0; rv:11.0) like Gecko\",\n",
        "}"
      ],
      "execution_count": 0,
      "outputs": []
    },
    {
      "cell_type": "code",
      "metadata": {
        "id": "yisuqHFp0j6e",
        "colab_type": "code",
        "colab": {}
      },
      "source": [
        "r = requests.get(url, headers=headers)\n",
        "\n",
        "r.raise_for_status()\n",
        "\n",
        "soup = BeautifulSoup(r.content, \"html5lib\")"
      ],
      "execution_count": 0,
      "outputs": []
    },
    {
      "cell_type": "code",
      "metadata": {
        "id": "EhwGnWcM0o0g",
        "colab_type": "code",
        "colab": {}
      },
      "source": [
        "src = soup.find(\"img\", alt=\"検査陽性者\").get(\"src\")"
      ],
      "execution_count": 0,
      "outputs": []
    },
    {
      "cell_type": "code",
      "metadata": {
        "id": "GphQVh7H0j41",
        "colab_type": "code",
        "outputId": "9f84be21-a9c3-4e26-e59e-5d85590de0c7",
        "colab": {
          "base_uri": "https://localhost:8080/",
          "height": 35
        }
      },
      "source": [
        "link = urljoin(url, src)\n",
        "link"
      ],
      "execution_count": 42,
      "outputs": [
        {
          "output_type": "execute_result",
          "data": {
            "text/plain": [
              "'https://www.pref.aichi.jp/uploaded/image/240297.jpg'"
            ]
          },
          "metadata": {
            "tags": []
          },
          "execution_count": 42
        }
      ]
    },
    {
      "cell_type": "markdown",
      "metadata": {
        "id": "xJwtYaRKxyQ2",
        "colab_type": "text"
      },
      "source": [
        "# ダウンロード"
      ]
    },
    {
      "cell_type": "code",
      "metadata": {
        "id": "0Lk44P9JdUSW",
        "colab_type": "code",
        "colab": {}
      },
      "source": [
        "def get_file(url, dir=\".\"):\n",
        "\n",
        "    r = requests.get(url)\n",
        "\n",
        "    p = pathlib.Path(dir, pathlib.PurePath(url).name)\n",
        "    p.parent.mkdir(parents=True, exist_ok=True)\n",
        "\n",
        "    with p.open(mode='wb') as fw:\n",
        "        fw.write(r.content)\n",
        "\n",
        "    return p"
      ],
      "execution_count": 0,
      "outputs": []
    },
    {
      "cell_type": "code",
      "metadata": {
        "id": "eT2LbHEnmm54",
        "colab_type": "code",
        "colab": {}
      },
      "source": [
        "jpg_path = get_file(link)"
      ],
      "execution_count": 0,
      "outputs": []
    },
    {
      "cell_type": "markdown",
      "metadata": {
        "id": "s5yihSKBc0kv",
        "colab_type": "text"
      },
      "source": [
        "# pytesseract"
      ]
    },
    {
      "cell_type": "code",
      "metadata": {
        "id": "e19RJLlckIf4",
        "colab_type": "code",
        "outputId": "e0f239a5-9c2c-439e-897a-8d16c25a451f",
        "colab": {
          "base_uri": "https://localhost:8080/",
          "height": 53
        }
      },
      "source": [
        "!pip install pytesseract"
      ],
      "execution_count": 45,
      "outputs": [
        {
          "output_type": "stream",
          "text": [
            "Requirement already satisfied: pytesseract in /usr/local/lib/python3.6/dist-packages (0.3.4)\n",
            "Requirement already satisfied: Pillow in /usr/local/lib/python3.6/dist-packages (from pytesseract) (7.0.0)\n"
          ],
          "name": "stdout"
        }
      ]
    },
    {
      "cell_type": "code",
      "metadata": {
        "id": "8_yhXJhWZOQ5",
        "colab_type": "code",
        "colab": {}
      },
      "source": [
        "try:\n",
        "    from PIL import Image\n",
        "except ImportError:\n",
        "    import Image\n",
        "    \n",
        "import pytesseract"
      ],
      "execution_count": 0,
      "outputs": []
    },
    {
      "cell_type": "code",
      "metadata": {
        "id": "uPFP9VmrgoqY",
        "colab_type": "code",
        "colab": {}
      },
      "source": [
        "import cv2\n",
        "import numpy as np"
      ],
      "execution_count": 0,
      "outputs": []
    },
    {
      "cell_type": "code",
      "metadata": {
        "id": "vdw4SqZThx_X",
        "colab_type": "code",
        "colab": {}
      },
      "source": [
        "from google.colab.patches import cv2_imshow"
      ],
      "execution_count": 0,
      "outputs": []
    },
    {
      "cell_type": "code",
      "metadata": {
        "id": "zLSBLD7Inbbw",
        "colab_type": "code",
        "colab": {}
      },
      "source": [
        "# img = cv2.imread(str(jpg_path))\n",
        "# img, _ = cv2.decolor(img)"
      ],
      "execution_count": 0,
      "outputs": []
    },
    {
      "cell_type": "code",
      "metadata": {
        "id": "gZf9w_AtmtOA",
        "colab_type": "code",
        "colab": {}
      },
      "source": [
        "src = cv2.imread(str(jpg_path))\n",
        "\n",
        "img = cv2.inRange(src, (150, 150, 100), (255, 255, 255))"
      ],
      "execution_count": 0,
      "outputs": []
    },
    {
      "cell_type": "code",
      "metadata": {
        "id": "U-ZMHyht9dOu",
        "colab_type": "code",
        "colab": {}
      },
      "source": [
        "# img = cv2.imread(str(jpg_path), 0)"
      ],
      "execution_count": 0,
      "outputs": []
    },
    {
      "cell_type": "code",
      "metadata": {
        "id": "vFU1mnmMsj1X",
        "colab_type": "code",
        "outputId": "7a9266ad-0e7b-4d07-b8c5-edeebce64df0",
        "colab": {
          "base_uri": "https://localhost:8080/",
          "height": 267
        }
      },
      "source": [
        "# 範囲指定\n",
        "img_crop = img[0:250]\n",
        "\n",
        "# 確認\n",
        "cv2_imshow(img_crop)"
      ],
      "execution_count": 52,
      "outputs": [
        {
          "output_type": "display_data",
          "data": {
            "image/png": "[encoded data removed]",
            "text/plain": [
              "<PIL.Image.Image image mode=L size=696x250 at 0x7FF80E321978>"
            ]
          },
          "metadata": {
            "tags": []
          }
        }
      ]
    },
    {
      "cell_type": "code",
      "metadata": {
        "id": "1g6YGdh6Y7rY",
        "colab_type": "code",
        "colab": {}
      },
      "source": [
        "txt = pytesseract.image_to_string(img_crop, lang=\"jpn\", config=\"--psm 6\").replace(\".\", \"\")"
      ],
      "execution_count": 0,
      "outputs": []
    },
    {
      "cell_type": "code",
      "metadata": {
        "id": "1g9HMM_Vy9Nv",
        "colab_type": "code",
        "outputId": "a1dbaf84-0b41-42ef-93bf-9396897518d9",
        "colab": {
          "base_uri": "https://localhost:8080/",
          "height": 142
        }
      },
      "source": [
        "print(txt)"
      ],
      "execution_count": 54,
      "outputs": [
        {
          "output_type": "stream",
          "text": [
            "〇挨査陽性者の状況                       2020年5月13日18時現在\n",
            "(注) 検査実施人数には県内において疑い例または悪者の漠厚接触者として検査を\n",
            "行ったものについて掲載\n",
            "挨査実施| 陽性者数         軽症・           施設\n",
            "人数※1| ※2      入院中 | 中等症     重症      入所      退院      転院      死亡\n",
            "8614人 | 497人 | 67人 | 63A人 | 4人       8人 | 388A人 | 0人 | 34人\n",
            "AAクラスターの陽性者の状況\n"
          ],
          "name": "stdout"
        }
      ]
    },
    {
      "cell_type": "code",
      "metadata": {
        "id": "gSnP_H4_vDLf",
        "colab_type": "code",
        "colab": {}
      },
      "source": [
        "data = [int(i) for i in re.findall(\"[0-9]+\", txt)]"
      ],
      "execution_count": 0,
      "outputs": []
    },
    {
      "cell_type": "code",
      "metadata": {
        "id": "PRkyuC4p1cky",
        "colab_type": "code",
        "colab": {}
      },
      "source": [
        "result = []\n",
        "\n",
        "while(len(data) >= 9):\n",
        "\n",
        "    if data[2] == data[3] + data[4]:\n",
        "        if data[1] == data[2] + data[5] + data[6] + data[7] + data[8]:\n",
        "            result = data[:9]\n",
        "            break\n",
        "\n",
        "    data.pop(0)"
      ],
      "execution_count": 0,
      "outputs": []
    },
    {
      "cell_type": "markdown",
      "metadata": {
        "id": "NJP14eajhJ0t",
        "colab_type": "text"
      },
      "source": [
        "# CSV"
      ]
    },
    {
      "cell_type": "code",
      "metadata": {
        "id": "gOWBu50n9rbi",
        "colab_type": "code",
        "colab": {}
      },
      "source": [
        "import datetime"
      ],
      "execution_count": 0,
      "outputs": []
    },
    {
      "cell_type": "code",
      "metadata": {
        "id": "i7cZtIjneE1K",
        "colab_type": "code",
        "colab": {}
      },
      "source": [
        "import csv"
      ],
      "execution_count": 0,
      "outputs": []
    },
    {
      "cell_type": "code",
      "metadata": {
        "id": "vdc_A_10KKBU",
        "colab_type": "code",
        "colab": {}
      },
      "source": [
        "dt_match = re.search(\"(\\d{4})年(\\d{1,2})月(\\d{1,2})日(\\d{1,2})時\", txt)"
      ],
      "execution_count": 0,
      "outputs": []
    },
    {
      "cell_type": "code",
      "metadata": {
        "id": "NYNEp3NPeB_x",
        "colab_type": "code",
        "colab": {
          "base_uri": "https://localhost:8080/",
          "height": 35
        },
        "outputId": "32e77f2a-8ffa-441c-fa35-84efb5ca8e12"
      },
      "source": [
        "if result:\n",
        "\n",
        "    if dt_match:\n",
        "        y, m, d, h = map(int, dt_match.groups())\n",
        "        dt_update = datetime.datetime(y, m, d, h).strftime(\"%Y%m%d%H00\")\n",
        "    else:\n",
        "        dt_update = datetime.datetime.now().strftime(\"%Y%m%d%H00\")\n",
        "\n",
        "    p = pathlib.Path(f'{dt_update}.csv')\n",
        "\n",
        "    with p.open(mode='w') as fw:\n",
        "        writer = csv.writer(fw)\n",
        "        writer.writerow([dt_update] + result)\n",
        "\n",
        "    print(result)\n",
        "\n",
        "    jpg_path.rename(f\"{dt_update}.jpg\")\n",
        "\n",
        "else:\n",
        "    print(\"見つかりません\")   "
      ],
      "execution_count": 60,
      "outputs": [
        {
          "output_type": "stream",
          "text": [
            "[8614, 497, 67, 63, 4, 8, 388, 0, 34]\n"
          ],
          "name": "stdout"
        }
      ]
    }
  ]
}