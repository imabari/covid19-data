{
  "nbformat": 4,
  "nbformat_minor": 0,
  "metadata": {
    "colab": {
      "name": "ehime_covid_today.ipynb",
      "provenance": [],
      "toc_visible": true,
      "authorship_tag": "ABX9TyOh010+45xFbfkl50rtByzF",
      "include_colab_link": true
    },
    "kernelspec": {
      "name": "python3",
      "display_name": "Python 3"
    }
  },
  "cells": [
    {
      "cell_type": "markdown",
      "metadata": {
        "id": "view-in-github",
        "colab_type": "text"
      },
      "source": [
        "<a href=\"https://colab.research.google.com/github/imabari/covid19-data/blob/master/ehime/ehime_covid_today.ipynb\" target=\"_parent\"><img src=\"https://colab.research.google.com/assets/colab-badge.svg\" alt=\"Open In Colab\"/></a>"
      ]
    },
    {
      "cell_type": "code",
      "metadata": {
        "colab": {
          "base_uri": "https://localhost:8080/"
        },
        "id": "s8aTNI9aRhe7",
        "outputId": "505d4921-b81e-46a3-9c09-ed8b6fe3e46d"
      },
      "source": [
        "!pip install pdfplumber"
      ],
      "execution_count": null,
      "outputs": [
        {
          "output_type": "stream",
          "text": [
            "Collecting pdfplumber\n",
            "\u001b[?25l  Downloading https://files.pythonhosted.org/packages/7e/57/4d9768e9ed204c68bd5813a2a112d3d6af4912f0785d47080b5067cdce64/pdfplumber-0.5.27.tar.gz (44kB)\n",
            "\u001b[K     |████████████████████████████████| 51kB 2.6MB/s \n",
            "\u001b[?25hCollecting pdfminer.six==20200517\n",
            "\u001b[?25l  Downloading https://files.pythonhosted.org/packages/b0/c0/ef1c8758bbd86edb10b5443700aac97d0ba27a9ca2e7696db8cd1fdbd5a8/pdfminer.six-20200517-py3-none-any.whl (5.6MB)\n",
            "\u001b[K     |████████████████████████████████| 5.6MB 5.2MB/s \n",
            "\u001b[?25hRequirement already satisfied: Pillow>=7.0.0 in /usr/local/lib/python3.7/dist-packages (from pdfplumber) (7.1.2)\n",
            "Collecting Wand\n",
            "\u001b[?25l  Downloading https://files.pythonhosted.org/packages/d7/f6/05f043c099639b9017b7244791048a4d146dfea45b41a199aed373246d50/Wand-0.6.6-py2.py3-none-any.whl (138kB)\n",
            "\u001b[K     |████████████████████████████████| 143kB 32.5MB/s \n",
            "\u001b[?25hRequirement already satisfied: chardet; python_version > \"3.0\" in /usr/local/lib/python3.7/dist-packages (from pdfminer.six==20200517->pdfplumber) (3.0.4)\n",
            "Collecting pycryptodome\n",
            "\u001b[?25l  Downloading https://files.pythonhosted.org/packages/ad/16/9627ab0493894a11c68e46000dbcc82f578c8ff06bc2980dcd016aea9bd3/pycryptodome-3.10.1-cp35-abi3-manylinux2010_x86_64.whl (1.9MB)\n",
            "\u001b[K     |████████████████████████████████| 1.9MB 48.4MB/s \n",
            "\u001b[?25hRequirement already satisfied: sortedcontainers in /usr/local/lib/python3.7/dist-packages (from pdfminer.six==20200517->pdfplumber) (2.3.0)\n",
            "Building wheels for collected packages: pdfplumber\n",
            "  Building wheel for pdfplumber (setup.py) ... \u001b[?25l\u001b[?25hdone\n",
            "  Created wheel for pdfplumber: filename=pdfplumber-0.5.27-cp37-none-any.whl size=32071 sha256=0598d402bb4a57fb45d483256cf057101fe59b593c9487c86e8fce83ba250567\n",
            "  Stored in directory: /root/.cache/pip/wheels/b4/74/fc/f7b3a1a0732209027fb48a5f4392fc40d79970b11c2ba49e71\n",
            "Successfully built pdfplumber\n",
            "Installing collected packages: pycryptodome, pdfminer.six, Wand, pdfplumber\n",
            "Successfully installed Wand-0.6.6 pdfminer.six-20200517 pdfplumber-0.5.27 pycryptodome-3.10.1\n"
          ],
          "name": "stdout"
        }
      ]
    },
    {
      "cell_type": "code",
      "metadata": {
        "colab": {
          "base_uri": "https://localhost:8080/"
        },
        "id": "TyRwUfnA3JIA",
        "outputId": "14ec7954-001d-4123-b5e1-34efebe0483f"
      },
      "source": [
        "!pip install japanize-matplotlib"
      ],
      "execution_count": null,
      "outputs": [
        {
          "output_type": "stream",
          "text": [
            "Collecting japanize-matplotlib\n",
            "\u001b[?25l  Downloading https://files.pythonhosted.org/packages/aa/85/08a4b7fe8987582d99d9bb7ad0ff1ec75439359a7f9690a0dbf2dbf98b15/japanize-matplotlib-1.1.3.tar.gz (4.1MB)\n",
            "\u001b[K     |████████████████████████████████| 4.1MB 4.3MB/s \n",
            "\u001b[?25hRequirement already satisfied: matplotlib in /usr/local/lib/python3.7/dist-packages (from japanize-matplotlib) (3.2.2)\n",
            "Requirement already satisfied: python-dateutil>=2.1 in /usr/local/lib/python3.7/dist-packages (from matplotlib->japanize-matplotlib) (2.8.1)\n",
            "Requirement already satisfied: kiwisolver>=1.0.1 in /usr/local/lib/python3.7/dist-packages (from matplotlib->japanize-matplotlib) (1.3.1)\n",
            "Requirement already satisfied: pyparsing!=2.0.4,!=2.1.2,!=2.1.6,>=2.0.1 in /usr/local/lib/python3.7/dist-packages (from matplotlib->japanize-matplotlib) (2.4.7)\n",
            "Requirement already satisfied: cycler>=0.10 in /usr/local/lib/python3.7/dist-packages (from matplotlib->japanize-matplotlib) (0.10.0)\n",
            "Requirement already satisfied: numpy>=1.11 in /usr/local/lib/python3.7/dist-packages (from matplotlib->japanize-matplotlib) (1.19.5)\n",
            "Requirement already satisfied: six>=1.5 in /usr/local/lib/python3.7/dist-packages (from python-dateutil>=2.1->matplotlib->japanize-matplotlib) (1.15.0)\n",
            "Building wheels for collected packages: japanize-matplotlib\n",
            "  Building wheel for japanize-matplotlib (setup.py) ... \u001b[?25l\u001b[?25hdone\n",
            "  Created wheel for japanize-matplotlib: filename=japanize_matplotlib-1.1.3-cp37-none-any.whl size=4120276 sha256=3a7f1c9b8c217e7160e956d075e2b22b6bfc8e897605ecc1a08ddf6fb9661bf3\n",
            "  Stored in directory: /root/.cache/pip/wheels/b7/d9/a2/f907d50b32a2d2008ce5d691d30fb6569c2c93eefcfde55202\n",
            "Successfully built japanize-matplotlib\n",
            "Installing collected packages: japanize-matplotlib\n",
            "Successfully installed japanize-matplotlib-1.1.3\n"
          ],
          "name": "stdout"
        }
      ]
    },
    {
      "cell_type": "code",
      "metadata": {
        "id": "5LYLByHJww4s"
      },
      "source": [
        "import requests\n",
        "from bs4 import BeautifulSoup"
      ],
      "execution_count": null,
      "outputs": []
    },
    {
      "cell_type": "code",
      "metadata": {
        "id": "PhIRIw1Gww4t"
      },
      "source": [
        "from urllib.parse import urljoin\n",
        "import pathlib"
      ],
      "execution_count": null,
      "outputs": []
    },
    {
      "cell_type": "code",
      "metadata": {
        "id": "AdpxH5CwRhe9"
      },
      "source": [
        "import pdfplumber\n",
        "import pandas as pd"
      ],
      "execution_count": null,
      "outputs": []
    },
    {
      "cell_type": "code",
      "metadata": {
        "id": "pX3YRRhZ3JIB"
      },
      "source": [
        "import matplotlib.pyplot as plt\n",
        "import japanize_matplotlib"
      ],
      "execution_count": null,
      "outputs": []
    },
    {
      "cell_type": "code",
      "metadata": {
        "id": "xQT_n4hoFUjw"
      },
      "source": [
        "import matplotlib.ticker as ticker"
      ],
      "execution_count": null,
      "outputs": []
    },
    {
      "cell_type": "code",
      "metadata": {
        "id": "RHKr59Ml3JIC"
      },
      "source": [
        "# 解像度\n",
        "import matplotlib as mpl\n",
        "mpl.rcParams['figure.dpi'] = 200"
      ],
      "execution_count": null,
      "outputs": []
    },
    {
      "cell_type": "markdown",
      "metadata": {
        "id": "virGw9bu83AZ"
      },
      "source": [
        "# スクレイピング"
      ]
    },
    {
      "cell_type": "code",
      "metadata": {
        "id": "-AE0btIqww4t"
      },
      "source": [
        "url = \"https://www.pref.ehime.jp/h25500/kansen/covid19.html\"\n",
        "\n",
        "headers = {\n",
        "    \"User-Agent\": \"Mozilla/5.0 (Windows NT 10.0; WOW64; Trident/7.0; rv:11.0) like Gecko\"\n",
        "}"
      ],
      "execution_count": null,
      "outputs": []
    },
    {
      "cell_type": "code",
      "metadata": {
        "id": "9L0rc2Yfww4t"
      },
      "source": [
        "r = requests.get(url, headers=headers)\n",
        "r.raise_for_status()\n",
        "\n",
        "soup = BeautifulSoup(r.content, \"html.parser\")"
      ],
      "execution_count": null,
      "outputs": []
    },
    {
      "cell_type": "code",
      "metadata": {
        "id": "A7Uf7MFYxPmI"
      },
      "source": [
        "tags = [i for i in soup.select(\"div#tmp_contents > ul > li > a\") if \"新型コロナウイルスの感染の確認等について\" in i.get_text(strip=True)]"
      ],
      "execution_count": null,
      "outputs": []
    },
    {
      "cell_type": "markdown",
      "metadata": {
        "id": "m5DiZG-p8wqj"
      },
      "source": [
        "# ダウンロード"
      ]
    },
    {
      "cell_type": "code",
      "metadata": {
        "id": "peenu36OyXgt"
      },
      "source": [
        "def fetch_file(url, dir=\".\"):\n",
        "\n",
        "    p = pathlib.Path(dir, pathlib.PurePath(url).name)\n",
        "    p.parent.mkdir(parents=True, exist_ok=True)\n",
        "\n",
        "    if p.exists():\n",
        "        print(f\"{p}\\t同一のファイルが存在するためダウンロードを中止します\")\n",
        "\n",
        "    else:\n",
        "        r = requests.get(url)\n",
        "        r.raise_for_status()\n",
        "\n",
        "        with p.open(mode=\"wb\") as fw:\n",
        "            fw.write(r.content)\n",
        "    return p"
      ],
      "execution_count": null,
      "outputs": []
    },
    {
      "cell_type": "code",
      "metadata": {
        "id": "kK_RnPqRww4u"
      },
      "source": [
        "# 最新\n",
        "link = urljoin(url, tags[0].get(\"href\"))"
      ],
      "execution_count": null,
      "outputs": []
    },
    {
      "cell_type": "code",
      "metadata": {
        "id": "dzskbcn0ybZ4"
      },
      "source": [
        "p = fetch_file(link)"
      ],
      "execution_count": null,
      "outputs": []
    },
    {
      "cell_type": "markdown",
      "metadata": {
        "id": "iKXxYSqV5K3h"
      },
      "source": [
        "# PDF"
      ]
    },
    {
      "cell_type": "code",
      "metadata": {
        "id": "85BoJe1rDyZ3"
      },
      "source": [
        "def find_cluster(data):\n",
        "\n",
        "    for d in data:\n",
        "\n",
        "        s = d.get(\"text\", \"\")\n",
        "\n",
        "        if s.startswith(\"○クラスターの状況\"):\n",
        "\n",
        "            return d.get(\"top\")\n",
        "    \n",
        "    return None"
      ],
      "execution_count": null,
      "outputs": []
    },
    {
      "cell_type": "code",
      "metadata": {
        "id": "FGMIrLEbRhe9"
      },
      "source": [
        "pdf = pdfplumber.open(p)"
      ],
      "execution_count": null,
      "outputs": []
    },
    {
      "cell_type": "code",
      "metadata": {
        "id": "frz9GyKIRhe-"
      },
      "source": [
        "page = pdf.pages[0]"
      ],
      "execution_count": null,
      "outputs": []
    },
    {
      "cell_type": "code",
      "metadata": {
        "id": "nXdpHo5fEpbq"
      },
      "source": [
        "top = find_cluster(page.extract_words())\n",
        "hight = top or page.height"
      ],
      "execution_count": null,
      "outputs": []
    },
    {
      "cell_type": "code",
      "metadata": {
        "id": "pbEGBDa3WE2x"
      },
      "source": [
        "crop = page.within_bbox((0, 80, page.width, hight))"
      ],
      "execution_count": null,
      "outputs": []
    },
    {
      "cell_type": "code",
      "metadata": {
        "colab": {
          "base_uri": "https://localhost:8080/"
        },
        "id": "J31aOUqMWbhZ",
        "outputId": "e12452c7-0d54-4a36-eb6f-868dea57cfab"
      },
      "source": [
        "# 全セルからテーブルのセルを除去\n",
        "all_cells = set(crop.debug_tablefinder().cells)\n",
        "for t in page.find_tables():\n",
        "    all_cells -= set(t.cells)\n",
        "\n",
        "print(all_cells)"
      ],
      "execution_count": null,
      "outputs": [
        {
          "output_type": "stream",
          "text": [
            "{(Decimal('312.3972727272727272727272727'), Decimal('485.470'), Decimal('558.600'), Decimal('596.740'))}\n"
          ],
          "name": "stdout"
        }
      ]
    },
    {
      "cell_type": "code",
      "metadata": {
        "id": "qMqr_e9PW23-"
      },
      "source": [
        "rect = all_cells.pop()"
      ],
      "execution_count": null,
      "outputs": []
    },
    {
      "cell_type": "code",
      "metadata": {
        "id": "yH3blXt_WlPH"
      },
      "source": [
        "text = page.within_bbox(rect).extract_text()"
      ],
      "execution_count": null,
      "outputs": []
    },
    {
      "cell_type": "code",
      "metadata": {
        "colab": {
          "base_uri": "https://localhost:8080/",
          "height": 35
        },
        "id": "OJl55kc-XLsv",
        "outputId": "de2a73f0-f157-4e86-d31b-811c7e0e5f26"
      },
      "source": [
        "text"
      ],
      "execution_count": null,
      "outputs": [
        {
          "output_type": "execute_result",
          "data": {
            "application/vnd.google.colaboratory.intrinsic+json": {
              "type": "string"
            },
            "text/plain": [
              "'家庭内  ：２名 \\n学校関係  4： ２名 \\n仕事関係  名： ２名 \\n医療・福祉施設  ：３名 \\n飲食店  ：２名 \\n生活上の接触  ：１名 \\n調査中  ：３名 '"
            ]
          },
          "metadata": {
            "tags": []
          },
          "execution_count": 23
        }
      ]
    },
    {
      "cell_type": "code",
      "metadata": {
        "id": "M-vQjHGk1fU5"
      },
      "source": [
        "tables = sorted(crop.find_tables(), key=lambda t: t.bbox)"
      ],
      "execution_count": null,
      "outputs": []
    },
    {
      "cell_type": "code",
      "metadata": {
        "id": "hPZVtwJGXCpI"
      },
      "source": [
        "table = tables[0].extract()"
      ],
      "execution_count": null,
      "outputs": []
    },
    {
      "cell_type": "code",
      "metadata": {
        "id": "9bm9Uc8qWyEg"
      },
      "source": [
        "df0 = pd.DataFrame(table[1:], columns=table[0])"
      ],
      "execution_count": null,
      "outputs": []
    },
    {
      "cell_type": "code",
      "metadata": {
        "colab": {
          "base_uri": "https://localhost:8080/",
          "height": 98
        },
        "id": "sc4iRgQKfqcA",
        "outputId": "948dfc94-cb52-43dd-de61-732f00e3f739"
      },
      "source": [
        "df0"
      ],
      "execution_count": null,
      "outputs": [
        {
          "output_type": "execute_result",
          "data": {
            "text/html": [
              "<div>\n",
              "<style scoped>\n",
              "    .dataframe tbody tr th:only-of-type {\n",
              "        vertical-align: middle;\n",
              "    }\n",
              "\n",
              "    .dataframe tbody tr th {\n",
              "        vertical-align: top;\n",
              "    }\n",
              "\n",
              "    .dataframe thead th {\n",
              "        text-align: right;\n",
              "    }\n",
              "</style>\n",
              "<table border=\"1\" class=\"dataframe\">\n",
              "  <thead>\n",
              "    <tr style=\"text-align: right;\">\n",
              "      <th></th>\n",
              "      <th>陽性者</th>\n",
              "      <th>年代</th>\n",
              "      <th>性別</th>\n",
              "      <th>居住地</th>\n",
              "      <th>職業</th>\n",
              "    </tr>\n",
              "  </thead>\n",
              "  <tbody>\n",
              "    <tr>\n",
              "      <th>0</th>\n",
              "      <td>1,958人目 \\n～\\n1,97 2人目</td>\n",
              "      <td>10代    ：２名 \\n20代    ：５名 \\n30代    ：２名 \\n40代    ...</td>\n",
              "      <td>男性：８名 \\n \\n女性：７名</td>\n",
              "      <td>松山市    ：７名 \\n今治市    ：２名 \\n宇和島市  ：１名 \\n西条市    ：...</td>\n",
              "      <td>会社員      ：７名 \\n福祉関係    ：１名 \\n学校関係    ：２名 \\n団体職...</td>\n",
              "    </tr>\n",
              "  </tbody>\n",
              "</table>\n",
              "</div>"
            ],
            "text/plain": [
              "                     陽性者  ...                                                 職業\n",
              "0  1,958人目 \\n～\\n1,97 2人目  ...  会社員      ：７名 \\n福祉関係    ：１名 \\n学校関係    ：２名 \\n団体職...\n",
              "\n",
              "[1 rows x 5 columns]"
            ]
          },
          "metadata": {
            "tags": []
          },
          "execution_count": 27
        }
      ]
    },
    {
      "cell_type": "code",
      "metadata": {
        "id": "wxZjoOhgXgU3"
      },
      "source": [
        "df0[\"感染経路\"] = text"
      ],
      "execution_count": null,
      "outputs": []
    },
    {
      "cell_type": "code",
      "metadata": {
        "colab": {
          "base_uri": "https://localhost:8080/",
          "height": 237
        },
        "id": "urLw9QkWanWh",
        "outputId": "6236dd14-5233-4119-86a8-139649385856"
      },
      "source": [
        "df0.T"
      ],
      "execution_count": null,
      "outputs": [
        {
          "output_type": "execute_result",
          "data": {
            "text/html": [
              "<div>\n",
              "<style scoped>\n",
              "    .dataframe tbody tr th:only-of-type {\n",
              "        vertical-align: middle;\n",
              "    }\n",
              "\n",
              "    .dataframe tbody tr th {\n",
              "        vertical-align: top;\n",
              "    }\n",
              "\n",
              "    .dataframe thead th {\n",
              "        text-align: right;\n",
              "    }\n",
              "</style>\n",
              "<table border=\"1\" class=\"dataframe\">\n",
              "  <thead>\n",
              "    <tr style=\"text-align: right;\">\n",
              "      <th></th>\n",
              "      <th>0</th>\n",
              "    </tr>\n",
              "  </thead>\n",
              "  <tbody>\n",
              "    <tr>\n",
              "      <th>陽性者</th>\n",
              "      <td>1,958人目 \\n～\\n1,97 2人目</td>\n",
              "    </tr>\n",
              "    <tr>\n",
              "      <th>年代</th>\n",
              "      <td>10代    ：２名 \\n20代    ：５名 \\n30代    ：２名 \\n40代    ...</td>\n",
              "    </tr>\n",
              "    <tr>\n",
              "      <th>性別</th>\n",
              "      <td>男性：８名 \\n \\n女性：７名</td>\n",
              "    </tr>\n",
              "    <tr>\n",
              "      <th>居住地</th>\n",
              "      <td>松山市    ：７名 \\n今治市    ：２名 \\n宇和島市  ：１名 \\n西条市    ：...</td>\n",
              "    </tr>\n",
              "    <tr>\n",
              "      <th>職業</th>\n",
              "      <td>会社員      ：７名 \\n福祉関係    ：１名 \\n学校関係    ：２名 \\n団体職...</td>\n",
              "    </tr>\n",
              "    <tr>\n",
              "      <th>感染経路</th>\n",
              "      <td>家庭内  ：２名 \\n学校関係  4： ２名 \\n仕事関係  名： ２名 \\n医療・福祉施設...</td>\n",
              "    </tr>\n",
              "  </tbody>\n",
              "</table>\n",
              "</div>"
            ],
            "text/plain": [
              "                                                      0\n",
              "陽性者                               1,958人目 \\n～\\n1,97 2人目\n",
              "年代    10代    ：２名 \\n20代    ：５名 \\n30代    ：２名 \\n40代    ...\n",
              "性別                                     男性：８名 \\n \\n女性：７名\n",
              "居住地   松山市    ：７名 \\n今治市    ：２名 \\n宇和島市  ：１名 \\n西条市    ：...\n",
              "職業    会社員      ：７名 \\n福祉関係    ：１名 \\n学校関係    ：２名 \\n団体職...\n",
              "感染経路  家庭内  ：２名 \\n学校関係  4： ２名 \\n仕事関係  名： ２名 \\n医療・福祉施設..."
            ]
          },
          "metadata": {
            "tags": []
          },
          "execution_count": 29
        }
      ]
    },
    {
      "cell_type": "code",
      "metadata": {
        "id": "G7-8Azaoa2BJ"
      },
      "source": [
        "def data_conv(ser: pd.Series, col: str) -> pd.Series:\n",
        "\n",
        "    df = ser.str.split(\"\\n+\", expand=True).T[0].str.split(\"：\", expand=True).rename(columns={0: col, 1: \"人数\"})\n",
        "\n",
        "    df[col] = df[col].str.strip().str.normalize(\"NFKC\")\n",
        "\n",
        "    df[\"人数\"] = df[\"人数\"].str.strip().str.rstrip(\"名\").str.normalize(\"NFKC\").astype(int)\n",
        "\n",
        "    return df.set_index(col)[\"人数\"]"
      ],
      "execution_count": null,
      "outputs": []
    },
    {
      "cell_type": "markdown",
      "metadata": {
        "id": "hSWaVIzZafdi"
      },
      "source": [
        "## 年代"
      ]
    },
    {
      "cell_type": "code",
      "metadata": {
        "id": "tD7eLWA3XJ9Y",
        "colab": {
          "base_uri": "https://localhost:8080/"
        },
        "outputId": "6de24fdd-ff0b-4bdb-e4c8-a6bd6a040db9"
      },
      "source": [
        "df_ages = data_conv(df0[\"年代\"], \"年代\").reindex([\"10歳未満\", \"10代\", \"20代\", \"30代\", \"40代\", \"50代\", \"60代\", \"70代\", \"80代\", \"90代\"], fill_value=0)\n",
        "df_ages"
      ],
      "execution_count": null,
      "outputs": [
        {
          "output_type": "execute_result",
          "data": {
            "text/plain": [
              "年代\n",
              "10歳未満    0\n",
              "10代      2\n",
              "20代      5\n",
              "30代      2\n",
              "40代      4\n",
              "50代      0\n",
              "60代      1\n",
              "70代      1\n",
              "80代      0\n",
              "90代      0\n",
              "Name: 人数, dtype: int64"
            ]
          },
          "metadata": {
            "tags": []
          },
          "execution_count": 31
        }
      ]
    },
    {
      "cell_type": "code",
      "metadata": {
        "colab": {
          "base_uri": "https://localhost:8080/",
          "height": 685
        },
        "id": "SSPPehh527fx",
        "outputId": "78b4f33e-b40d-4ce5-9716-8bea70ecba9b"
      },
      "source": [
        "df_ages.plot.barh();\n",
        "\n",
        "# X軸の数字をオフセットを使わずに表現する\n",
        "plt.gca().get_xaxis().get_major_formatter().set_useOffset(False)\n",
        "\n",
        "# X軸の数字が必ず整数になるようにする\n",
        "plt.gca().get_xaxis().set_major_locator(ticker.MaxNLocator(integer=True))\n",
        "\n",
        "# グラフを保存\n",
        "plt.savefig(\"01.png\", dpi=200, bbox_inches=\"tight\")\n",
        "plt.show()"
      ],
      "execution_count": null,
      "outputs": [
        {
          "output_type": "display_data",
          "data": {
            "image/png": "[encoded data removed]",
            "text/plain": [
              "<Figure size 1200x800 with 1 Axes>"
            ]
          },
          "metadata": {
            "tags": [],
            "needs_background": "light"
          }
        }
      ]
    },
    {
      "cell_type": "markdown",
      "metadata": {
        "id": "4PiGW1nQah9Z"
      },
      "source": [
        "## 居住地"
      ]
    },
    {
      "cell_type": "code",
      "metadata": {
        "id": "cOasx7OqRUbP"
      },
      "source": [
        "ehime_cities = [\n",
        "    \"四国中央市\",\n",
        "    \"新居浜市\",\n",
        "    \"西条市\",\n",
        "    \"今治市\",\n",
        "    \"上島町\",\n",
        "    \"松山市\",\n",
        "    \"東温市\",\n",
        "    \"伊予市\",\n",
        "    \"久万高原町\",\n",
        "    \"松前町\",\n",
        "    \"砥部町\",\n",
        "    \"八幡浜市\",\n",
        "    \"大洲市\",\n",
        "    \"西予市\",\n",
        "    \"内子町\",\n",
        "    \"伊方町\",\n",
        "    \"宇和島市\",\n",
        "    \"松野町\",\n",
        "    \"鬼北町\",\n",
        "    \"愛南町\",\n",
        "]"
      ],
      "execution_count": null,
      "outputs": []
    },
    {
      "cell_type": "code",
      "metadata": {
        "id": "GqgmBGLiZcXZ",
        "colab": {
          "base_uri": "https://localhost:8080/"
        },
        "outputId": "f3c58b17-06a5-4f66-8106-6c0b1e14957c"
      },
      "source": [
        "df_area = data_conv(df0[\"居住地\"], \"居住地\")\n",
        "df_area"
      ],
      "execution_count": null,
      "outputs": [
        {
          "output_type": "execute_result",
          "data": {
            "text/plain": [
              "居住地\n",
              "松山市      7\n",
              "今治市      2\n",
              "宇和島市     1\n",
              "西条市      1\n",
              "四国中央市    4\n",
              "Name: 人数, dtype: int64"
            ]
          },
          "metadata": {
            "tags": []
          },
          "execution_count": 34
        }
      ]
    },
    {
      "cell_type": "code",
      "metadata": {
        "id": "3-xUP45uTSnA"
      },
      "source": [
        "df_ehime = df_area.reindex(ehime_cities, fill_value=0)"
      ],
      "execution_count": null,
      "outputs": []
    },
    {
      "cell_type": "code",
      "metadata": {
        "id": "9cBfIldQSQsv"
      },
      "source": [
        "df_outside = df_area.loc[~df_area.index.isin(ehime_cities)]"
      ],
      "execution_count": null,
      "outputs": []
    },
    {
      "cell_type": "code",
      "metadata": {
        "id": "bqj7XqaBTcPP"
      },
      "source": [
        "df_area = df_ehime.append(df_outside)"
      ],
      "execution_count": null,
      "outputs": []
    },
    {
      "cell_type": "code",
      "metadata": {
        "colab": {
          "base_uri": "https://localhost:8080/",
          "height": 673
        },
        "id": "UAHwIx-l3XlA",
        "outputId": "7e4d4dd6-34f7-440d-83fc-c813a4133073"
      },
      "source": [
        "df_area.plot.barh();\n",
        "\n",
        "# X軸の数字をオフセットを使わずに表現する\n",
        "plt.gca().get_xaxis().get_major_formatter().set_useOffset(False)\n",
        "\n",
        "# X軸の数字が必ず整数になるようにする\n",
        "plt.gca().get_xaxis().set_major_locator(ticker.MaxNLocator(integer=True))\n",
        "\n",
        "# グラフを保存\n",
        "plt.savefig(\"02.png\", dpi=200, bbox_inches=\"tight\")\n",
        "plt.show()"
      ],
      "execution_count": null,
      "outputs": [
        {
          "output_type": "display_data",
          "data": {
            "image/png": "[encoded data removed]",
            "text/plain": [
              "<Figure size 1200x800 with 1 Axes>"
            ]
          },
          "metadata": {
            "tags": [],
            "needs_background": "light"
          }
        }
      ]
    },
    {
      "cell_type": "markdown",
      "metadata": {
        "id": "WUh9VtA44L9Z"
      },
      "source": [
        "# 職業別"
      ]
    },
    {
      "cell_type": "code",
      "metadata": {
        "id": "fmbXM7tNcxKT",
        "colab": {
          "base_uri": "https://localhost:8080/"
        },
        "outputId": "48b30193-3684-46d8-edf2-dde4e5918b79"
      },
      "source": [
        "df_works = data_conv(df0[\"職業\"], \"職業\")\n",
        "df_works"
      ],
      "execution_count": null,
      "outputs": [
        {
          "output_type": "execute_result",
          "data": {
            "text/plain": [
              "職業\n",
              "会社員     7\n",
              "福祉関係    1\n",
              "学校関係    2\n",
              "団体職員    1\n",
              "無職      4\n",
              "Name: 人数, dtype: int64"
            ]
          },
          "metadata": {
            "tags": []
          },
          "execution_count": 39
        }
      ]
    },
    {
      "cell_type": "code",
      "metadata": {
        "colab": {
          "base_uri": "https://localhost:8080/",
          "height": 689
        },
        "id": "crYjCIn839lo",
        "outputId": "fe08816e-61c4-4901-8750-b5f4e22e310b"
      },
      "source": [
        "df_works.plot.barh();\n",
        "\n",
        "# X軸の数字をオフセットを使わずに表現する\n",
        "plt.gca().get_xaxis().get_major_formatter().set_useOffset(False)\n",
        "\n",
        "# X軸の数字が必ず整数になるようにする\n",
        "plt.gca().get_xaxis().set_major_locator(ticker.MaxNLocator(integer=True))\n",
        "\n",
        "# グラフを保存\n",
        "plt.savefig(\"03.png\", dpi=200, bbox_inches=\"tight\")\n",
        "plt.show()"
      ],
      "execution_count": null,
      "outputs": [
        {
          "output_type": "display_data",
          "data": {
            "image/png": "[encoded data removed]",
            "text/plain": [
              "<Figure size 1200x800 with 1 Axes>"
            ]
          },
          "metadata": {
            "tags": [],
            "needs_background": "light"
          }
        }
      ]
    },
    {
      "cell_type": "markdown",
      "metadata": {
        "id": "2qVy21H04PJw"
      },
      "source": [
        "# 性別"
      ]
    },
    {
      "cell_type": "code",
      "metadata": {
        "id": "GyBjuuqCdJjZ"
      },
      "source": [
        "df_sex = df0[\"性別\"].str.extractall(\"([男|女]性)：(.+)名\").rename(columns={0: \"性別\", 1: \"人数\"}).set_index(\"性別\").astype(int)"
      ],
      "execution_count": null,
      "outputs": []
    },
    {
      "cell_type": "code",
      "metadata": {
        "colab": {
          "base_uri": "https://localhost:8080/",
          "height": 706
        },
        "id": "7ArC60Bi4bsJ",
        "outputId": "8233b071-d385-4011-b7b9-c4162620928c"
      },
      "source": [
        "df_sex.plot.barh();\n",
        "\n",
        "# X軸の数字をオフセットを使わずに表現する\n",
        "plt.gca().get_xaxis().get_major_formatter().set_useOffset(False)\n",
        "\n",
        "# X軸の数字が必ず整数になるようにする\n",
        "plt.gca().get_xaxis().set_major_locator(ticker.MaxNLocator(integer=True))\n",
        "\n",
        "# グラフを保存\n",
        "plt.savefig(\"04.png\", dpi=200, bbox_inches=\"tight\")\n",
        "plt.show()"
      ],
      "execution_count": null,
      "outputs": [
        {
          "output_type": "display_data",
          "data": {
            "image/png": "[encoded data removed]",
            "text/plain": [
              "<Figure size 1200x800 with 1 Axes>"
            ]
          },
          "metadata": {
            "tags": [],
            "needs_background": "light"
          }
        }
      ]
    },
    {
      "cell_type": "markdown",
      "metadata": {
        "id": "wFq7C0rgYJrH"
      },
      "source": [
        "# 感染経路"
      ]
    },
    {
      "cell_type": "code",
      "metadata": {
        "id": "2CAd-x0BX-uY"
      },
      "source": [
        "df_route = data_conv(df0[\"感染経路\"], \"感染経路\")"
      ],
      "execution_count": null,
      "outputs": []
    },
    {
      "cell_type": "code",
      "metadata": {
        "id": "8SIcdXR1YXkG",
        "colab": {
          "base_uri": "https://localhost:8080/",
          "height": 644
        },
        "outputId": "c2f5e6ab-d1d1-4104-bbad-3658b10238e8"
      },
      "source": [
        "df_route.plot.barh();\n",
        "\n",
        "# X軸の数字をオフセットを使わずに表現する\n",
        "plt.gca().get_xaxis().get_major_formatter().set_useOffset(False)\n",
        "\n",
        "# X軸の数字が必ず整数になるようにする\n",
        "plt.gca().get_xaxis().set_major_locator(ticker.MaxNLocator(integer=True))\n",
        "\n",
        "# グラフを保存\n",
        "plt.savefig(\"05.png\", dpi=200, bbox_inches=\"tight\")\n",
        "plt.show()"
      ],
      "execution_count": null,
      "outputs": [
        {
          "output_type": "display_data",
          "data": {
            "image/png": "[encoded data removed]",
            "text/plain": [
              "<Figure size 1200x800 with 1 Axes>"
            ]
          },
          "metadata": {
            "tags": [],
            "needs_background": "light"
          }
        }
      ]
    },
    {
      "cell_type": "code",
      "metadata": {
        "id": "t0eVq3pM-clD"
      },
      "source": [
        "df_area.to_csv(\"area.tsv\", sep=\"\\t\")"
      ],
      "execution_count": null,
      "outputs": []
    },
    {
      "cell_type": "code",
      "metadata": {
        "id": "DIIjNzrb-pmq"
      },
      "source": [
        "df_ages.to_csv(\"ages.tsv\", sep=\"\\t\")"
      ],
      "execution_count": null,
      "outputs": []
    },
    {
      "cell_type": "code",
      "metadata": {
        "id": "hXa7vlgZBDBq"
      },
      "source": [
        "df_sex.to_csv(\"sex.tsv\", sep=\"\\t\")"
      ],
      "execution_count": null,
      "outputs": []
    }
  ]
}