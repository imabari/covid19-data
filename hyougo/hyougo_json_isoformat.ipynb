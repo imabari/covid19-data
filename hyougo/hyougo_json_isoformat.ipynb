{
  "nbformat": 4,
  "nbformat_minor": 0,
  "metadata": {
    "colab": {
      "name": "hyougo_json-isoformat.ipynb",
      "provenance": [],
      "collapsed_sections": [],
      "toc_visible": true,
      "include_colab_link": true
    },
    "kernelspec": {
      "name": "python3",
      "display_name": "Python 3"
    }
  },
  "cells": [
    {
      "cell_type": "markdown",
      "metadata": {
        "id": "view-in-github",
        "colab_type": "text"
      },
      "source": [
        "<a href=\"https://colab.research.google.com/github/imabari/covid19-data/blob/master/hyougo/hyougo_json_isoformat.ipynb\" target=\"_parent\"><img src=\"https://colab.research.google.com/assets/colab-badge.svg\" alt=\"Open In Colab\"/></a>"
      ]
    },
    {
      "cell_type": "code",
      "metadata": {
        "id": "l9PRH1px56P3",
        "colab": {
          "base_uri": "https://localhost:8080/"
        },
        "outputId": "c5d6f9df-147e-4d9e-bf82-8a06df0d72bd"
      },
      "source": [
        "!pip install jsonschema"
      ],
      "execution_count": 1,
      "outputs": [
        {
          "output_type": "stream",
          "text": [
            "Requirement already satisfied: jsonschema in /usr/local/lib/python3.6/dist-packages (2.6.0)\n"
          ],
          "name": "stdout"
        }
      ]
    },
    {
      "cell_type": "code",
      "metadata": {
        "id": "yRXkkxa-dr4G",
        "colab": {
          "base_uri": "https://localhost:8080/"
        },
        "outputId": "ce7ad696-61e9-4439-bd40-602d0a925f90"
      },
      "source": [
        "!pip install pycurl\n",
        "!pip install retry"
      ],
      "execution_count": 2,
      "outputs": [
        {
          "output_type": "stream",
          "text": [
            "Collecting pycurl\n",
            "\u001b[?25l  Downloading https://files.pythonhosted.org/packages/50/1a/35b1d8b8e4e23a234f1b17a8a40299fd550940b16866c9a1f2d47a04b969/pycurl-7.43.0.6.tar.gz (222kB)\n",
            "\r\u001b[K     |█▌                              | 10kB 16.4MB/s eta 0:00:01\r\u001b[K     |███                             | 20kB 21.8MB/s eta 0:00:01\r\u001b[K     |████▍                           | 30kB 14.0MB/s eta 0:00:01\r\u001b[K     |█████▉                          | 40kB 9.3MB/s eta 0:00:01\r\u001b[K     |███████▍                        | 51kB 8.1MB/s eta 0:00:01\r\u001b[K     |████████▉                       | 61kB 8.7MB/s eta 0:00:01\r\u001b[K     |██████████▎                     | 71kB 8.7MB/s eta 0:00:01\r\u001b[K     |███████████▊                    | 81kB 8.7MB/s eta 0:00:01\r\u001b[K     |█████████████▎                  | 92kB 8.7MB/s eta 0:00:01\r\u001b[K     |██████████████▊                 | 102kB 7.9MB/s eta 0:00:01\r\u001b[K     |████████████████▏               | 112kB 7.9MB/s eta 0:00:01\r\u001b[K     |█████████████████▋              | 122kB 7.9MB/s eta 0:00:01\r\u001b[K     |███████████████████▏            | 133kB 7.9MB/s eta 0:00:01\r\u001b[K     |████████████████████▋           | 143kB 7.9MB/s eta 0:00:01\r\u001b[K     |██████████████████████          | 153kB 7.9MB/s eta 0:00:01\r\u001b[K     |███████████████████████▌        | 163kB 7.9MB/s eta 0:00:01\r\u001b[K     |█████████████████████████       | 174kB 7.9MB/s eta 0:00:01\r\u001b[K     |██████████████████████████▌     | 184kB 7.9MB/s eta 0:00:01\r\u001b[K     |████████████████████████████    | 194kB 7.9MB/s eta 0:00:01\r\u001b[K     |█████████████████████████████▍  | 204kB 7.9MB/s eta 0:00:01\r\u001b[K     |██████████████████████████████▉ | 215kB 7.9MB/s eta 0:00:01\r\u001b[K     |████████████████████████████████| 225kB 7.9MB/s \n",
            "\u001b[?25hBuilding wheels for collected packages: pycurl\n",
            "  Building wheel for pycurl (setup.py) ... \u001b[?25l\u001b[?25hdone\n",
            "  Created wheel for pycurl: filename=pycurl-7.43.0.6-cp36-cp36m-linux_x86_64.whl size=284386 sha256=578426f979684ee1f7bb8f2dcaaff72f5c576073d313acf743952c527ec2c4e2\n",
            "  Stored in directory: /root/.cache/pip/wheels/d9/a1/7b/2894883fd5c69a3ba684a49d255466d1e924b3cf58cedc1ade\n",
            "Successfully built pycurl\n",
            "Installing collected packages: pycurl\n",
            "Successfully installed pycurl-7.43.0.6\n",
            "Collecting retry\n",
            "  Downloading https://files.pythonhosted.org/packages/4b/0d/53aea75710af4528a25ed6837d71d117602b01946b307a3912cb3cfcbcba/retry-0.9.2-py2.py3-none-any.whl\n",
            "Requirement already satisfied: py<2.0.0,>=1.4.26 in /usr/local/lib/python3.6/dist-packages (from retry) (1.10.0)\n",
            "Requirement already satisfied: decorator>=3.4.2 in /usr/local/lib/python3.6/dist-packages (from retry) (4.4.2)\n",
            "Installing collected packages: retry\n",
            "Successfully installed retry-0.9.2\n"
          ],
          "name": "stdout"
        }
      ]
    },
    {
      "cell_type": "code",
      "metadata": {
        "id": "55BT72KZeIvu"
      },
      "source": [
        "PCR_XLSX = \"https://web.pref.hyogo.lg.jp/kf16/documents/pcr.xlsx\"\n",
        "YOUSEI_XLSX = \"https://web.pref.hyogo.lg.jp/kf16/documents/yousei.xlsx\"\n",
        "KANJA_XLSX = \"https://web.pref.hyogo.lg.jp/kk03/documents/corona_kanjyajyokyo.xlsx\"\n",
        "KANJA_HTML = \"https://web.pref.hyogo.lg.jp/kk03/corona_hasseijyokyo.html\"\n",
        "\n",
        "DOWNLOAD_DIR = \"download\"\n",
        "DATA_DIR = \"data\""
      ],
      "execution_count": 3,
      "outputs": []
    },
    {
      "cell_type": "code",
      "metadata": {
        "id": "nslK3ecQeb0u"
      },
      "source": [
        "from retry import retry\n",
        "import pathlib"
      ],
      "execution_count": 4,
      "outputs": []
    },
    {
      "cell_type": "markdown",
      "metadata": {
        "id": "9JQQ0bZHBL33"
      },
      "source": [
        "# ダウンロード"
      ]
    },
    {
      "cell_type": "code",
      "metadata": {
        "id": "N1Pbfu-Ddsdv"
      },
      "source": [
        "@retry(tries=5, delay=5, backoff=3)\n",
        "def get_file(url, dir=\".\"):\n",
        "\n",
        "    r = requests.get(url)\n",
        "    r.raise_for_status()\n",
        "\n",
        "    p = pathlib.Path(dir, pathlib.PurePath(url).name)\n",
        "    p.parent.mkdir(parents=True, exist_ok=True)\n",
        "\n",
        "    with p.open(mode=\"wb\") as fw:\n",
        "        fw.write(r.content)\n",
        "\n",
        "    return p"
      ],
      "execution_count": 5,
      "outputs": []
    },
    {
      "cell_type": "markdown",
      "metadata": {
        "id": "qhcpLl5vDICg"
      },
      "source": [
        "# SCHEMA"
      ]
    },
    {
      "cell_type": "code",
      "metadata": {
        "id": "Xoc8NSP4DP2t"
      },
      "source": [
        "AGE_SCHEMA = {\n",
        "    \"$schema\": \"http://json-schema.org/draft-07/schema#\",\n",
        "    \"type\": \"object\",\n",
        "    \"properties\": {\n",
        "        \"data\": {\n",
        "            \"type\": \"object\",\n",
        "            \"additionalProperties\": {\n",
        "                \"default\": 0,\n",
        "                \"type\": \"integer\"\n",
        "            }\n",
        "        },\n",
        "        \"last_update\": {\n",
        "            \"format\": \"date-time\",\n",
        "            \"type\": \"string\"\n",
        "        }\n",
        "    },\n",
        "    \"required\": [\n",
        "        \"data\",\n",
        "        \"last_update\"\n",
        "    ],\n",
        "}"
      ],
      "execution_count": 6,
      "outputs": []
    },
    {
      "cell_type": "code",
      "metadata": {
        "id": "TlJpnZuUDP5k"
      },
      "source": [
        "AGE_SUMMARY_SCHEMA = {\n",
        "    \"$schema\": \"http://json-schema.org/draft-07/schema#\",\n",
        "    \"type\": \"object\",\n",
        "    \"additionalProperties\": False,\n",
        "    \"properties\": {\n",
        "        \"data\": {\n",
        "            \"type\": \"object\",\n",
        "            \"additionalProperties\": {\n",
        "                \"type\": \"array\",\n",
        "                \"items\": {\"default\": 0, \"type\": \"integer\"},\n",
        "            },\n",
        "        },\n",
        "        \"labels\": {\n",
        "            \"type\": \"array\",\n",
        "            \"items\": {\"pattern\": \"^[0-9]{1,2}/[0-9]{1,2}$\", \"type\": \"string\"},\n",
        "        },\n",
        "        \"last_update\": {\n",
        "            \"format\": \"date-time\",\n",
        "            \"type\": \"string\",\n",
        "        },\n",
        "    },\n",
        "    \"required\": [\"data\", \"labels\", \"last_update\"],\n",
        "}"
      ],
      "execution_count": 7,
      "outputs": []
    },
    {
      "cell_type": "code",
      "metadata": {
        "id": "dLwTO18NYG8G"
      },
      "source": [
        "CLUSTERS_SCHEMA = {\n",
        "    \"$schema\": \"http://json-schema.org/draft-07/schema#\",\n",
        "    \"type\": \"object\",\n",
        "    \"additionalProperties\": False,\n",
        "    \"properties\": {\n",
        "        \"data\": {\n",
        "            \"type\": \"array\",\n",
        "            \"items\": {\n",
        "                \"type\": \"object\",\n",
        "                \"oneOf\": [\n",
        "                    {\n",
        "                        \"properties\": {\"日付\": {\"type\": \"string\", \"format\": \"date-time\"}},\n",
        "                    },\n",
        "                    {\n",
        "                        \"additionalProperties\": {\"type\": \"integer\"},\n",
        "                    }\n",
        "                ],\n",
        "            },\n",
        "        },\n",
        "        \"last_update\": {\"type\": \"string\", \"format\": \"date-time\"},\n",
        "    },\n",
        "    \"required\": [\"data\", \"last_update\"],\n",
        "}"
      ],
      "execution_count": 8,
      "outputs": []
    },
    {
      "cell_type": "code",
      "metadata": {
        "id": "--P3YaJDDQDE"
      },
      "source": [
        "CLUSTERS_SUMMARY_SCHEMA = {\n",
        "    \"$schema\": \"http://json-schema.org/draft-07/schema#\",\n",
        "    \"type\": \"object\",\n",
        "    \"additionalProperties\": False,\n",
        "    \"properties\": {\n",
        "        \"data\": {\n",
        "            \"type\": \"object\",\n",
        "            \"additionalProperties\": {\"default\": 0, \"type\": \"integer\"},\n",
        "        },\n",
        "        \"last_update\": {\n",
        "            \"format\": \"date-time\",\n",
        "            \"type\": \"string\",\n",
        "        },\n",
        "    },\n",
        "    \"required\": [\"data\", \"last_update\"],\n",
        "}"
      ],
      "execution_count": 9,
      "outputs": []
    },
    {
      "cell_type": "code",
      "metadata": {
        "id": "qdnNk3-Uuhhe"
      },
      "source": [
        "INSPECTIONS_SCHEMA = {\n",
        "    \"$schema\": \"http://json-schema.org/draft-07/schema#\",\n",
        "    \"type\": \"object\",\n",
        "    \"additionalProperties\": False,\n",
        "    \"properties\": {\n",
        "        \"data\": {\n",
        "            \"type\": \"array\",\n",
        "            \"items\": {\n",
        "                \"type\": \"object\",\n",
        "                \"additionalProperties\": False,\n",
        "                \"properties\": {\n",
        "                    \"判明日\": {\"type\": \"string\", \"format\": \"date\"},\n",
        "                    \"地方衛生研究所等\": {\"type\": \"integer\"},\n",
        "                    \"民間検査機関等\": {\n",
        "                        \"type\": \"object\",\n",
        "                        \"additionalProperties\": {\"type\": \"integer\"},\n",
        "                    },\n",
        "                    \"陽性確認\": {\"type\": \"integer\"},\n",
        "                },\n",
        "                \"required\": [\"判明日\", \"地方衛生研究所等\", \"民間検査機関等\", \"陽性確認\"],\n",
        "            },\n",
        "        },\n",
        "        \"last_update\": {\"type\": \"string\", \"format\": \"date-time\"},\n",
        "    },\n",
        "    \"required\": [\"data\", \"last_update\"],\n",
        "}"
      ],
      "execution_count": 10,
      "outputs": []
    },
    {
      "cell_type": "code",
      "metadata": {
        "id": "iT0ZZYuJDPwh"
      },
      "source": [
        "INSPECTIONS_SUMMARY_SCHEMA = {\n",
        "    \"$schema\": \"http://json-schema.org/draft-07/schema#\",\n",
        "    \"type\": \"object\",\n",
        "    \"additionalProperties\": False,\n",
        "    \"properties\": {\n",
        "        \"data\": {\n",
        "            \"type\": \"object\",\n",
        "            \"additionalProperties\": {\n",
        "                \"type\": \"array\",\n",
        "                \"items\": {\"default\": 0, \"type\": \"integer\"},\n",
        "            },\n",
        "        },\n",
        "        \"labels\": {\n",
        "            \"type\": \"array\",\n",
        "            \"items\": {\"pattern\": r\"^[0-9]{1,2}/[0-9]{1,2}$\", \"type\": \"string\"},\n",
        "        },\n",
        "        \"last_update\": {\n",
        "            \"format\": \"date-time\",\n",
        "            \"type\": \"string\",\n",
        "        },\n",
        "    },\n",
        "    \"required\": [\"data\", \"labels\", \"last_update\"],\n",
        "}"
      ],
      "execution_count": 11,
      "outputs": []
    },
    {
      "cell_type": "code",
      "metadata": {
        "id": "8mEE9K1mC20P"
      },
      "source": [
        "MAIN_SUMMARY_SCHEMA = {\n",
        "    \"$schema\": \"http://json-schema.org/draft-06/schema#\",\n",
        "    \"$ref\": \"#/definitions/Main\",\n",
        "    \"definitions\": {\n",
        "        \"Main\": {\n",
        "            \"type\": \"object\",\n",
        "            \"additionalProperties\": False,\n",
        "            \"properties\": {\n",
        "                \"attr\": {\"type\": \"string\"},\n",
        "                \"value\": {\"type\": \"integer\", \"default\": 0},\n",
        "                \"children\": {\n",
        "                    \"type\": \"array\",\n",
        "                    \"items\": {\"$ref\": \"#/definitions/Inspections\"},\n",
        "                },\n",
        "                \"last_update\": {\n",
        "                    \"format\": \"date-time\",\n",
        "                    \"type\": \"string\",\n",
        "                },\n",
        "            },\n",
        "            \"required\": [\"attr\", \"children\", \"last_update\", \"value\"],\n",
        "            \"title\": \"Main\",\n",
        "        },\n",
        "        \"Inspections\": {\n",
        "            \"type\": \"object\",\n",
        "            \"additionalProperties\": False,\n",
        "            \"properties\": {\n",
        "                \"attr\": {\"type\": \"string\"},\n",
        "                \"value\": {\"type\": \"integer\", \"default\": 0},\n",
        "                \"children\": {\n",
        "                    \"type\": \"array\",\n",
        "                    \"items\": {\"$ref\": \"#/definitions/Patients\"},\n",
        "                },\n",
        "            },\n",
        "            \"required\": [\"attr\", \"children\", \"value\"],\n",
        "            \"title\": \"Inspections\",\n",
        "        },\n",
        "        \"Patients\": {\n",
        "            \"type\": \"object\",\n",
        "            \"additionalProperties\": False,\n",
        "            \"properties\": {\n",
        "                \"attr\": {\"type\": \"string\"},\n",
        "                \"value\": {\"type\": \"integer\", \"default\": 0},\n",
        "                \"children\": {\n",
        "                    \"type\": \"array\",\n",
        "                    \"items\": {\"$ref\": \"#/definitions/Symptoms\"},\n",
        "                },\n",
        "            },\n",
        "            \"required\": [\"attr\", \"value\"],\n",
        "            \"title\": \"Patients\",\n",
        "        },\n",
        "        \"Symptoms\": {\n",
        "            \"type\": \"object\",\n",
        "            \"additionalProperties\": False,\n",
        "            \"properties\": {\n",
        "                \"attr\": {\"type\": \"string\"},\n",
        "                \"value\": {\"type\": \"integer\", \"default\": 0},\n",
        "            },\n",
        "            \"required\": [\"attr\", \"value\"],\n",
        "            \"title\": \"Symptoms\",\n",
        "        },\n",
        "    },\n",
        "}"
      ],
      "execution_count": 12,
      "outputs": []
    },
    {
      "cell_type": "code",
      "metadata": {
        "id": "hBEq8Iv4DP_2"
      },
      "source": [
        "PATIENTS_SCHEMA = {\n",
        "    \"$schema\": \"http://json-schema.org/draft-07/schema#\",\n",
        "    \"$ref\": \"#/definitions/Main\",\n",
        "    \"definitions\": {\n",
        "        \"Main\": {\n",
        "            \"type\": \"object\",\n",
        "            \"additionalProperties\": False,\n",
        "            \"properties\": {\n",
        "                \"data\": {\"type\": \"array\", \"items\": {\"$ref\": \"#/definitions/Datum\"}},\n",
        "                \"last_update\": {\"type\": \"string\"},\n",
        "                \"exclude_patients\": {\"type\": \"array\", \"items\": {\"type\": \"integer\"}},\n",
        "            },\n",
        "            \"required\": [\"data\", \"exclude_patients\", \"last_update\"],\n",
        "            \"title\": \"Main\",\n",
        "        },\n",
        "        \"Datum\": {\n",
        "            \"type\": \"object\",\n",
        "            \"additionalProperties\": False,\n",
        "            \"properties\": {\n",
        "                \"No\": {\"type\": \"integer\"},\n",
        "                \"居住地\": {\"type\": \"string\"},\n",
        "                \"年代\": {\"$ref\": \"#/definitions/Age\"},\n",
        "                \"性別\": {\"$ref\": \"#/definitions/Sex\"},\n",
        "                \"備考\": {\"type\": \"string\"},\n",
        "                \"退院\": {\"type\": \"null\"},\n",
        "                \"date\": {\"type\": \"string\", \"format\": \"date\"},\n",
        "                \"リリース日\": {\"type\": \"string\", \"format\": \"date\"},\n",
        "                \"曜日\": {\"$ref\": \"#/definitions/Week\"},\n",
        "            },\n",
        "            \"required\": [\"date\", \"リリース日\", \"備考\", \"居住地\", \"年代\", \"性別\", \"曜日\", \"No\", \"退院\"],\n",
        "            \"title\": \"Datum\",\n",
        "        },\n",
        "        \"Age\": {\n",
        "            \"type\": \"string\",\n",
        "            \"enum\": [\n",
        "                \"10歳未満\",\n",
        "                \"10代\",\n",
        "                \"20代\",\n",
        "                \"30代\",\n",
        "                \"40代\",\n",
        "                \"50代\",\n",
        "                \"60代\",\n",
        "                \"70代\",\n",
        "                \"80代\",\n",
        "                \"90歳以上\",\n",
        "                \"非公表\",\n",
        "            ],\n",
        "            \"title\": \"Age\",\n",
        "        },\n",
        "        \"Sex\": {\"type\": \"string\", \"enum\": [\"男性\", \"女性\", \"非公表\"], \"title\": \"Sex\"},\n",
        "        \"Week\": {\n",
        "            \"type\": \"string\",\n",
        "            \"enum\": [\"月\", \"火\", \"水\", \"木\", \"金\", \"土\", \"日\"],\n",
        "            \"title\": \"Week\",\n",
        "        },\n",
        "    },\n",
        "}"
      ],
      "execution_count": 13,
      "outputs": []
    },
    {
      "cell_type": "code",
      "metadata": {
        "id": "_b3I-Z95DP8s"
      },
      "source": [
        "PATIENTS_SUMMARY_SCHEMA = {\n",
        "    \"$schema\": \"http://json-schema.org/draft-07/schema#\",\n",
        "    \"type\": \"object\",\n",
        "    \"additionalProperties\": False,\n",
        "    \"properties\": {\n",
        "        \"data\": {\n",
        "            \"type\": \"array\",\n",
        "            \"items\": {\n",
        "                \"type\": \"object\",\n",
        "                \"additionalProperties\": False,\n",
        "                \"properties\": {\n",
        "                    \"日付\": {\"type\": \"string\", \"format\": \"date\"},\n",
        "                    \"小計\": {\"default\": 0, \"type\": \"integer\"},\n",
        "                },\n",
        "                \"required\": [\"小計\", \"日付\"],\n",
        "            },\n",
        "        },\n",
        "        \"last_update\": {\n",
        "            \"format\": \"date-time\",\n",
        "            \"type\": \"string\",\n",
        "        },\n",
        "    },\n",
        "    \"required\": [\"data\", \"last_update\"],\n",
        "}"
      ],
      "execution_count": 14,
      "outputs": []
    },
    {
      "cell_type": "markdown",
      "metadata": {
        "id": "O7HqGFL7BbdW"
      },
      "source": [
        "# データラングリング"
      ]
    },
    {
      "cell_type": "code",
      "metadata": {
        "id": "pD01Cc3nA_Lz"
      },
      "source": [
        "import datetime\n",
        "import json\n",
        "\n",
        "import jsonschema\n",
        "import pandas as pd\n",
        "import requests"
      ],
      "execution_count": 15,
      "outputs": []
    },
    {
      "cell_type": "code",
      "metadata": {
        "id": "by7pxgiFgtxW"
      },
      "source": [
        "from bs4 import BeautifulSoup\n",
        "from urllib.parse import urljoin"
      ],
      "execution_count": 16,
      "outputs": []
    },
    {
      "cell_type": "code",
      "metadata": {
        "id": "E02siZKr5663"
      },
      "source": [
        "def dumps_json(file_name, json_data, dir=DATA_DIR):\n",
        "\n",
        "    p = pathlib.Path(dir, file_name)\n",
        "\n",
        "    p.parent.mkdir(parents=True, exist_ok=True)\n",
        "\n",
        "    with p.open(mode=\"w\") as fw:\n",
        "        json.dump(json_data, fw, ensure_ascii=False, indent=4)"
      ],
      "execution_count": 17,
      "outputs": []
    },
    {
      "cell_type": "code",
      "metadata": {
        "id": "AHrrm4nZasLI"
      },
      "source": [
        "# 最終更新日\n",
        "JST = datetime.timezone(datetime.timedelta(hours=+9))\n",
        "dt_now = datetime.datetime.now(JST)"
      ],
      "execution_count": 18,
      "outputs": []
    },
    {
      "cell_type": "code",
      "metadata": {
        "id": "-AbIt9nnbig3"
      },
      "source": [
        "last_update = dt_now.replace(hour=0, minute=0, second=0, microsecond=0)\n",
        "# last_update -= datetime.timedelta(days=1)"
      ],
      "execution_count": 19,
      "outputs": []
    },
    {
      "cell_type": "markdown",
      "metadata": {
        "id": "_1pbVpuxCDXm"
      },
      "source": [
        "## pcr.xlsx"
      ]
    },
    {
      "cell_type": "code",
      "metadata": {
        "id": "Io18c4WKfF9v"
      },
      "source": [
        "pcr_path = get_file(PCR_XLSX, DOWNLOAD_DIR)"
      ],
      "execution_count": 20,
      "outputs": []
    },
    {
      "cell_type": "code",
      "metadata": {
        "id": "E3FQSlBaBz4N"
      },
      "source": [
        "df_pcr = pd.read_excel(pcr_path, index_col=\"年月日\").fillna(0).astype(int)"
      ],
      "execution_count": 21,
      "outputs": []
    },
    {
      "cell_type": "code",
      "metadata": {
        "id": "VGowyWJ-bjdX"
      },
      "source": [
        "df_pcr.rename(\n",
        "    columns={\n",
        "        \"検査件数（合計）\": \"合計\",\n",
        "        \"うち地方衛生研究所等によるPCR検査件数\": \"地方衛生研究所等\",\n",
        "        \"うち民間検査機関等によるPCR検査件数\": \"民間検査機関等_PCR検査\",\n",
        "        \"うち民間検査機関等による抗原検査件数\": \"民間検査機関等_抗原検査\",\n",
        "        \"陽性件数\": \"陽性確認\",\n",
        "    },\n",
        "    inplace=True,\n",
        ")"
      ],
      "execution_count": 22,
      "outputs": []
    },
    {
      "cell_type": "code",
      "metadata": {
        "id": "ld_yiP2R6bbw"
      },
      "source": [
        "df_pcr[\"民間検査機関等\"] = df_pcr[\"民間検査機関等_PCR検査\"] + df_pcr[\"民間検査機関等_抗原検査\"] "
      ],
      "execution_count": 23,
      "outputs": []
    },
    {
      "cell_type": "code",
      "metadata": {
        "id": "M7o21i2BZPnG"
      },
      "source": [
        "df_pcr[\"日付\"] = df_pcr.index.map(lambda d: pd.Timestamp(d, tz='Asia/Tokyo').isoformat())"
      ],
      "execution_count": 24,
      "outputs": []
    },
    {
      "cell_type": "code",
      "metadata": {
        "id": "merlZmH60wZm"
      },
      "source": [
        "df_pcr.to_csv(\"pcr.tsv\", sep=\"\\t\")"
      ],
      "execution_count": 25,
      "outputs": []
    },
    {
      "cell_type": "code",
      "metadata": {
        "id": "BKjuTqsaBz6_"
      },
      "source": [
        "# inspections_summary\n",
        "\n",
        "df_insp_sum = df_pcr.loc[:, [\"地方衛生研究所等\", \"民間検査機関等\"]].copy()\n",
        "\n",
        "labels = df_insp_sum.index.map(lambda x: f\"{x.month}/{x.day}\")"
      ],
      "execution_count": 26,
      "outputs": []
    },
    {
      "cell_type": "code",
      "metadata": {
        "id": "Bat9wxoSCfWf"
      },
      "source": [
        "inspections_summary = {\n",
        "    \"data\": df_insp_sum.to_dict(orient=\"list\"),\n",
        "    \"labels\": labels.tolist(),\n",
        "    \"last_update\": last_update.isoformat(),\n",
        "}"
      ],
      "execution_count": 27,
      "outputs": []
    },
    {
      "cell_type": "code",
      "metadata": {
        "id": "rYnfrPiYCVOb"
      },
      "source": [
        "jsonschema.validate(inspections_summary, INSPECTIONS_SUMMARY_SCHEMA)\n",
        "\n",
        "dumps_json(\"inspections_summary.json\", inspections_summary)"
      ],
      "execution_count": 28,
      "outputs": []
    },
    {
      "cell_type": "code",
      "metadata": {
        "id": "zcGyFB9TtN0H"
      },
      "source": [
        "# inspections\n",
        "\n",
        "df_insp = df_pcr.loc[:, [\"地方衛生研究所等\", \"民間検査機関等_PCR検査\", \"民間検査機関等_抗原検査\", \"陽性確認\"]].copy()\n",
        "df_insp[\"判明日\"] = df_insp.index.strftime(\"%Y-%m-%d\")"
      ],
      "execution_count": 29,
      "outputs": []
    },
    {
      "cell_type": "code",
      "metadata": {
        "id": "nxwsrQ768e9H"
      },
      "source": [
        "df_insp.sort_index(inplace=True)"
      ],
      "execution_count": 30,
      "outputs": []
    },
    {
      "cell_type": "code",
      "metadata": {
        "id": "4c3RVjtr7iU-"
      },
      "source": [
        "insp_dict = [\n",
        "    {\n",
        "        \"判明日\": row[\"判明日\"],\n",
        "        \"地方衛生研究所等\": row[\"地方衛生研究所等\"],\n",
        "        \"民間検査機関等\": {\"PCR検査\": row[\"民間検査機関等_PCR検査\"], \"抗原検査\": row[\"民間検査機関等_抗原検査\"]},\n",
        "        \"陽性確認\": row[\"陽性確認\"],\n",
        "    }\n",
        "    for _, row in df_insp.iterrows()\n",
        "]"
      ],
      "execution_count": 31,
      "outputs": []
    },
    {
      "cell_type": "code",
      "metadata": {
        "id": "NAMFCmGzt3Nv"
      },
      "source": [
        "inspections = {\n",
        "    \"data\": insp_dict,\n",
        "    \"last_update\": last_update.isoformat(),\n",
        "}"
      ],
      "execution_count": 32,
      "outputs": []
    },
    {
      "cell_type": "code",
      "metadata": {
        "id": "qNaEiQYgt851"
      },
      "source": [
        "# jsonschema.validate(inspections, INSPECTIONS_SCHEMA)\n",
        "dumps_json(\"inspections.json\", inspections)"
      ],
      "execution_count": 33,
      "outputs": []
    },
    {
      "cell_type": "code",
      "metadata": {
        "id": "r1MYAu9yBz97"
      },
      "source": [
        "# parent_summary\n",
        "\n",
        "df_pts = df_pcr.loc[:, [\"日付\", \"陽性確認\"]].copy()\n",
        "\n",
        "df_pts.rename(columns={\"陽性確認\": \"小計\"}, inplace=True)"
      ],
      "execution_count": 34,
      "outputs": []
    },
    {
      "cell_type": "code",
      "metadata": {
        "id": "IpH_cQcECj24"
      },
      "source": [
        "patients_summary = {\n",
        "    \"data\": df_pts.to_dict(orient=\"records\"),\n",
        "    \"last_update\": last_update.isoformat(),\n",
        "}"
      ],
      "execution_count": 35,
      "outputs": []
    },
    {
      "cell_type": "code",
      "metadata": {
        "id": "nkGEW1SaCj83"
      },
      "source": [
        "jsonschema.validate(patients_summary, PATIENTS_SUMMARY_SCHEMA)\n",
        "\n",
        "dumps_json(\"patients_summary.json\", patients_summary)"
      ],
      "execution_count": 36,
      "outputs": []
    },
    {
      "cell_type": "markdown",
      "metadata": {
        "id": "EXKm4d_sDzrI"
      },
      "source": [
        "## kanjya.xlsx"
      ]
    },
    {
      "cell_type": "code",
      "metadata": {
        "id": "OABVe2Prf3du"
      },
      "source": [
        "p = get_file(KANJA_HTML, DOWNLOAD_DIR)\n",
        "\n",
        "soup = BeautifulSoup(p.open(encoding='utf-8'), \"html.parser\")"
      ],
      "execution_count": 37,
      "outputs": []
    },
    {
      "cell_type": "code",
      "metadata": {
        "id": "tSOAaF6kZp7v"
      },
      "source": [
        "import re"
      ],
      "execution_count": 38,
      "outputs": []
    },
    {
      "cell_type": "code",
      "metadata": {
        "id": "fquaSlsChfCX"
      },
      "source": [
        "# tag = soup.find(\"a\", class_=\"icon_excel\")\n",
        "\n",
        "tag = soup.find(\"a\", href=re.compile(\".xls[mx]?$\"))\n",
        "\n",
        "link = urljoin(KANJA_HTML, tag.get(\"href\"))"
      ],
      "execution_count": 39,
      "outputs": []
    },
    {
      "cell_type": "code",
      "metadata": {
        "id": "jfk6xIa2fXhm"
      },
      "source": [
        "kanja_path = get_file(link, DOWNLOAD_DIR)"
      ],
      "execution_count": 40,
      "outputs": []
    },
    {
      "cell_type": "code",
      "metadata": {
        "id": "bOQey7D5QNHZ"
      },
      "source": [
        "df_head = pd.read_excel(kanja_path, header=None, skiprows=3).dropna(thresh=5, axis=1)"
      ],
      "execution_count": 41,
      "outputs": []
    },
    {
      "cell_type": "code",
      "metadata": {
        "id": "sWzBjuUiOayz"
      },
      "source": [
        "df_head.columns = [\"\".join(i).strip() for i in df_head.head(2).fillna(\"\").astype(str).T.values]\r\n",
        "df_tmp = df_head.iloc[2:, :].copy().reset_index(drop=True)\r\n",
        "\r\n",
        "df_kanja = df_tmp[df_tmp[\"番号\"].notnull()].copy()\r\n",
        "\r\n",
        "df_kanja.dropna(how=\"all\", axis=1, inplace=True)\r\n",
        "\r\n",
        "df_kanja.to_csv(\"kanja.csv\")"
      ],
      "execution_count": 42,
      "outputs": []
    },
    {
      "cell_type": "code",
      "metadata": {
        "id": "e6LtJUCdOSFN"
      },
      "source": [
        "exclude_lst = df_kanja[df_kanja[\"発表日\"] == \"欠番\"][\"番号\"].to_list()\r\n",
        "exclude_lst.sort()"
      ],
      "execution_count": 43,
      "outputs": []
    },
    {
      "cell_type": "code",
      "metadata": {
        "id": "qxpb3vYZCkAP"
      },
      "source": [
        "df_kanja.dropna(thresh=5, inplace=True)\n",
        "\n",
        "df_kanja.columns = df_kanja.columns.map(lambda s: s.replace(\"\\n\", \"\"))\n",
        "\n",
        "df_kanja[\"番号\"] = df_kanja[\"番号\"].astype(int)\n",
        "df_kanja[\"年代\"] = df_kanja[\"年代\"].astype(str)\n",
        "df_kanja[\"年代\"] = df_kanja[\"年代\"].replace({\"10?[歳代]未満\": \"10歳未満\", \"90(歳以上)?\": \"90歳以上\", \"([1-8]0$)\": r\"\\1代\"}, regex=True)\n",
        "\n",
        "flg_is_serial = df_kanja[\"発表日\"].astype(\"str\").str.isdigit()\n",
        "\n",
        "fromSerial = pd.to_datetime(df_kanja.loc[flg_is_serial, \"発表日\"].astype(float), unit=\"D\", origin=pd.Timestamp(\"1899/12/30\"))\n",
        "fromString = pd.to_datetime(df_kanja.loc[~flg_is_serial, \"発表日\"])\n",
        "\n",
        "df_kanja[\"発表日\"] = pd.concat([fromString, fromSerial])\n",
        "\n",
        "df_kanja[\"居住地\"] = df_kanja[\"居住地\"].str.replace(\"\\n\", \"\")\n",
        "df_kanja[\"備考欄\"] = df_kanja[\"備考欄\"].str.replace(\"\\n\", \" \")\n",
        "\n",
        "df_kanja.set_index(\"番号\", inplace=True)"
      ],
      "execution_count": 44,
      "outputs": []
    },
    {
      "cell_type": "code",
      "metadata": {
        "id": "Ez6PVaWa5swi"
      },
      "source": [
        "df_kanja.to_csv(\"kanja.tsv\", sep=\"\\t\")"
      ],
      "execution_count": 45,
      "outputs": []
    },
    {
      "cell_type": "code",
      "metadata": {
        "id": "hNahpt-pDw2L",
        "colab": {
          "base_uri": "https://localhost:8080/",
          "height": 53
        },
        "outputId": "0c3069bc-0dfa-4781-f83d-89acbdc70624"
      },
      "source": [
        "# 陽性患者数（日別）\n",
        "\"\"\"\n",
        "df_pts = (\n",
        "    df_kanja[\"発表日\"]\n",
        "    .value_counts()\n",
        "    .sort_index()\n",
        "    .asfreq(\"D\", fill_value=0)\n",
        "    .reset_index()\n",
        ")\n",
        "\n",
        "df_pts[\"日付\"] = df_pts[\"index\"].dt.strftime(\"%Y-%m-%d\")\n",
        "\n",
        "df_pts.rename(columns={\"発表日\": \"小計\"}, inplace=True)\n",
        "\n",
        "df_pts.drop(\"index\", axis=1, inplace=True)\n",
        "\n",
        "df_pts\n",
        "\"\"\""
      ],
      "execution_count": 46,
      "outputs": [
        {
          "output_type": "execute_result",
          "data": {
            "application/vnd.google.colaboratory.intrinsic+json": {
              "type": "string"
            },
            "text/plain": [
              "'\\ndf_pts = (\\n    df_kanja[\"発表日\"]\\n    .value_counts()\\n    .sort_index()\\n    .asfreq(\"D\", fill_value=0)\\n    .reset_index()\\n)\\n\\ndf_pts[\"日付\"] = df_pts[\"index\"].dt.strftime(\"%Y-%m-%d\")\\n\\ndf_pts.rename(columns={\"発表日\": \"小計\"}, inplace=True)\\n\\ndf_pts.drop(\"index\", axis=1, inplace=True)\\n\\ndf_pts\\n'"
            ]
          },
          "metadata": {
            "tags": []
          },
          "execution_count": 46
        }
      ]
    },
    {
      "cell_type": "code",
      "metadata": {
        "id": "6C55vNCAEU9X",
        "colab": {
          "base_uri": "https://localhost:8080/",
          "height": 35
        },
        "outputId": "1d02491d-a69b-46d8-f1a7-639dd985317a"
      },
      "source": [
        "\"\"\"\n",
        "patients_summary = {\n",
        "    \"data\": df_pts.to_dict(orient=\"records\"),\n",
        "    \"last_update\": last_update.strftime(\"%Y-%m-%d %H:%M\"),\n",
        "}\n",
        "\"\"\""
      ],
      "execution_count": 47,
      "outputs": [
        {
          "output_type": "execute_result",
          "data": {
            "application/vnd.google.colaboratory.intrinsic+json": {
              "type": "string"
            },
            "text/plain": [
              "'\\npatients_summary = {\\n    \"data\": df_pts.to_dict(orient=\"records\"),\\n    \"last_update\": last_update.strftime(\"%Y-%m-%d %H:%M\"),\\n}\\n'"
            ]
          },
          "metadata": {
            "tags": []
          },
          "execution_count": 47
        }
      ]
    },
    {
      "cell_type": "code",
      "metadata": {
        "id": "iIkDdxn5Dw5i"
      },
      "source": [
        "jsonschema.validate(patients_summary, PATIENTS_SUMMARY_SCHEMA)\n",
        "\n",
        "dumps_json(\"patients_summary.json\", patients_summary)"
      ],
      "execution_count": 48,
      "outputs": []
    },
    {
      "cell_type": "code",
      "metadata": {
        "id": "E48gD9ZtDw8Z",
        "colab": {
          "base_uri": "https://localhost:8080/",
          "height": 424
        },
        "outputId": "06928fd9-901f-4879-9dd2-97a8fadf3946"
      },
      "source": [
        "# 陽性患者情報\n",
        "\n",
        "df_pt = df_kanja.loc[:, [\"発表日\", \"居住地\", \"年代\", \"性別\", \"備考欄\"]].sort_index().reset_index()\n",
        "df_pt.head(10)\n",
        "\n",
        "df_pt[\"退院\"] = None\n",
        "\n",
        "df_pt[\"date\"] = df_pt[\"発表日\"].dt.strftime(\"%Y-%m-%d\")\n",
        "df_pt[\"リリース日\"] = df_pt[\"発表日\"].apply(lambda d: pd.Timestamp(d, tz='Asia/Tokyo').isoformat())\n",
        "\n",
        "week = [\"月\", \"火\", \"水\", \"木\", \"金\", \"土\", \"日\"]\n",
        "\n",
        "df_pt[\"曜日\"] = df_pt[\"発表日\"].dt.dayofweek.apply(lambda x: week[x])\n",
        "\n",
        "df_pt[\"備考欄\"] = df_pt[\"備考欄\"].str.replace(\"NO.|N0.|NO,|N0,|No,\", \"No.\")\n",
        "df_pt[\"備考欄\"] = df_pt[\"備考欄\"].str.replace(\"・\", \"、\")\n",
        "df_pt[\"備考欄\"] = df_pt[\"備考欄\"].fillna(\"\")\n",
        "df_pt.rename(columns={\"番号\": \"No\", \"備考欄\": \"備考\"}, inplace=True)\n",
        "\n",
        "df_pt[\"性別\"] = df_pt[\"性別\"].str.replace(\"\\s\", \"\", regex=True)\n",
        "\n",
        "df_pt.drop(\"発表日\", axis=1, inplace=True)\n",
        "\n",
        "df_pt"
      ],
      "execution_count": 49,
      "outputs": [
        {
          "output_type": "execute_result",
          "data": {
            "text/html": [
              "<div>\n",
              "<style scoped>\n",
              "    .dataframe tbody tr th:only-of-type {\n",
              "        vertical-align: middle;\n",
              "    }\n",
              "\n",
              "    .dataframe tbody tr th {\n",
              "        vertical-align: top;\n",
              "    }\n",
              "\n",
              "    .dataframe thead th {\n",
              "        text-align: right;\n",
              "    }\n",
              "</style>\n",
              "<table border=\"1\" class=\"dataframe\">\n",
              "  <thead>\n",
              "    <tr style=\"text-align: right;\">\n",
              "      <th></th>\n",
              "      <th>No</th>\n",
              "      <th>居住地</th>\n",
              "      <th>年代</th>\n",
              "      <th>性別</th>\n",
              "      <th>備考</th>\n",
              "      <th>退院</th>\n",
              "      <th>date</th>\n",
              "      <th>リリース日</th>\n",
              "      <th>曜日</th>\n",
              "    </tr>\n",
              "  </thead>\n",
              "  <tbody>\n",
              "    <tr>\n",
              "      <th>0</th>\n",
              "      <td>1</td>\n",
              "      <td>西宮市</td>\n",
              "      <td>40代</td>\n",
              "      <td>男性</td>\n",
              "      <td>特定できず</td>\n",
              "      <td>None</td>\n",
              "      <td>2020-03-01</td>\n",
              "      <td>2020-03-01T00:00:00+09:00</td>\n",
              "      <td>日</td>\n",
              "    </tr>\n",
              "    <tr>\n",
              "      <th>1</th>\n",
              "      <td>2</td>\n",
              "      <td>神戸市</td>\n",
              "      <td>40代</td>\n",
              "      <td>男性</td>\n",
              "      <td>感染経路確認済</td>\n",
              "      <td>None</td>\n",
              "      <td>2020-03-03</td>\n",
              "      <td>2020-03-03T00:00:00+09:00</td>\n",
              "      <td>火</td>\n",
              "    </tr>\n",
              "    <tr>\n",
              "      <th>2</th>\n",
              "      <td>3</td>\n",
              "      <td>神戸市</td>\n",
              "      <td>40代</td>\n",
              "      <td>女性</td>\n",
              "      <td>2/15、16に大阪のライブハウスArcに参加</td>\n",
              "      <td>None</td>\n",
              "      <td>2020-03-03</td>\n",
              "      <td>2020-03-03T00:00:00+09:00</td>\n",
              "      <td>火</td>\n",
              "    </tr>\n",
              "    <tr>\n",
              "      <th>3</th>\n",
              "      <td>4</td>\n",
              "      <td>福崎町</td>\n",
              "      <td>50代</td>\n",
              "      <td>女性</td>\n",
              "      <td>2/15、16に大阪のライブハウスArcに参加</td>\n",
              "      <td>None</td>\n",
              "      <td>2020-03-05</td>\n",
              "      <td>2020-03-05T00:00:00+09:00</td>\n",
              "      <td>木</td>\n",
              "    </tr>\n",
              "    <tr>\n",
              "      <th>4</th>\n",
              "      <td>5</td>\n",
              "      <td>姫路市</td>\n",
              "      <td>40代</td>\n",
              "      <td>男性</td>\n",
              "      <td>2/19に大阪のSoap operaライブに参加</td>\n",
              "      <td>None</td>\n",
              "      <td>2020-03-06</td>\n",
              "      <td>2020-03-06T00:00:00+09:00</td>\n",
              "      <td>金</td>\n",
              "    </tr>\n",
              "    <tr>\n",
              "      <th>...</th>\n",
              "      <td>...</td>\n",
              "      <td>...</td>\n",
              "      <td>...</td>\n",
              "      <td>...</td>\n",
              "      <td>...</td>\n",
              "      <td>...</td>\n",
              "      <td>...</td>\n",
              "      <td>...</td>\n",
              "      <td>...</td>\n",
              "    </tr>\n",
              "    <tr>\n",
              "      <th>13950</th>\n",
              "      <td>14021</td>\n",
              "      <td>朝来健康福祉事務所管内</td>\n",
              "      <td>70代</td>\n",
              "      <td>女性</td>\n",
              "      <td>陽性患者の濃厚接触者</td>\n",
              "      <td>None</td>\n",
              "      <td>2021-01-18</td>\n",
              "      <td>2021-01-18T00:00:00+09:00</td>\n",
              "      <td>月</td>\n",
              "    </tr>\n",
              "    <tr>\n",
              "      <th>13951</th>\n",
              "      <td>14022</td>\n",
              "      <td>朝来健康福祉事務所管内</td>\n",
              "      <td>40代</td>\n",
              "      <td>女性</td>\n",
              "      <td>陽性患者の濃厚接触者</td>\n",
              "      <td>None</td>\n",
              "      <td>2021-01-18</td>\n",
              "      <td>2021-01-18T00:00:00+09:00</td>\n",
              "      <td>月</td>\n",
              "    </tr>\n",
              "    <tr>\n",
              "      <th>13952</th>\n",
              "      <td>14023</td>\n",
              "      <td>朝来健康福祉事務所管内</td>\n",
              "      <td>20代</td>\n",
              "      <td>男性</td>\n",
              "      <td>陽性患者の濃厚接触者</td>\n",
              "      <td>None</td>\n",
              "      <td>2021-01-18</td>\n",
              "      <td>2021-01-18T00:00:00+09:00</td>\n",
              "      <td>月</td>\n",
              "    </tr>\n",
              "    <tr>\n",
              "      <th>13953</th>\n",
              "      <td>14024</td>\n",
              "      <td>朝来健康福祉事務所管内</td>\n",
              "      <td>10代</td>\n",
              "      <td>男性</td>\n",
              "      <td>陽性患者の濃厚接触者</td>\n",
              "      <td>None</td>\n",
              "      <td>2021-01-18</td>\n",
              "      <td>2021-01-18T00:00:00+09:00</td>\n",
              "      <td>月</td>\n",
              "    </tr>\n",
              "    <tr>\n",
              "      <th>13954</th>\n",
              "      <td>14025</td>\n",
              "      <td>県外</td>\n",
              "      <td>20代</td>\n",
              "      <td>男性</td>\n",
              "      <td>行動歴調査中</td>\n",
              "      <td>None</td>\n",
              "      <td>2021-01-18</td>\n",
              "      <td>2021-01-18T00:00:00+09:00</td>\n",
              "      <td>月</td>\n",
              "    </tr>\n",
              "  </tbody>\n",
              "</table>\n",
              "<p>13955 rows × 9 columns</p>\n",
              "</div>"
            ],
            "text/plain": [
              "          No          居住地   年代  ...        date                      リリース日 曜日\n",
              "0          1          西宮市  40代  ...  2020-03-01  2020-03-01T00:00:00+09:00  日\n",
              "1          2          神戸市  40代  ...  2020-03-03  2020-03-03T00:00:00+09:00  火\n",
              "2          3          神戸市  40代  ...  2020-03-03  2020-03-03T00:00:00+09:00  火\n",
              "3          4          福崎町  50代  ...  2020-03-05  2020-03-05T00:00:00+09:00  木\n",
              "4          5          姫路市  40代  ...  2020-03-06  2020-03-06T00:00:00+09:00  金\n",
              "...      ...          ...  ...  ...         ...                        ... ..\n",
              "13950  14021  朝来健康福祉事務所管内  70代  ...  2021-01-18  2021-01-18T00:00:00+09:00  月\n",
              "13951  14022  朝来健康福祉事務所管内  40代  ...  2021-01-18  2021-01-18T00:00:00+09:00  月\n",
              "13952  14023  朝来健康福祉事務所管内  20代  ...  2021-01-18  2021-01-18T00:00:00+09:00  月\n",
              "13953  14024  朝来健康福祉事務所管内  10代  ...  2021-01-18  2021-01-18T00:00:00+09:00  月\n",
              "13954  14025           県外  20代  ...  2021-01-18  2021-01-18T00:00:00+09:00  月\n",
              "\n",
              "[13955 rows x 9 columns]"
            ]
          },
          "metadata": {
            "tags": []
          },
          "execution_count": 49
        }
      ]
    },
    {
      "cell_type": "code",
      "metadata": {
        "id": "hsejNrMkEOIo"
      },
      "source": [
        "patients = {\n",
        "    \"data\": df_pt.to_dict(orient=\"records\"),\n",
        "    \"last_update\": last_update.isoformat(),\n",
        "    \"exclude_patients\": exclude_lst,\n",
        "}"
      ],
      "execution_count": 50,
      "outputs": []
    },
    {
      "cell_type": "code",
      "metadata": {
        "id": "Dc8pW64x43wo"
      },
      "source": [
        "jsonschema.validate(patients, PATIENTS_SCHEMA)\n",
        "\n",
        "dumps_json(\"patients.json\", patients)"
      ],
      "execution_count": 51,
      "outputs": []
    },
    {
      "cell_type": "code",
      "metadata": {
        "id": "ekQLzuX3EOOh"
      },
      "source": [
        "# 年代集計\n",
        "\n",
        "age_list = [\"10歳未満\",\"10代\", \"20代\", \"30代\", \"40代\", \"50代\", \"60代\", \"70代\", \"80代\", \"90歳以上\", \"非公表\"]\n",
        "\n",
        "df_age = df_kanja[\"年代\"].value_counts().sort_index().reindex(age_list, fill_value=0)\n",
        "\n",
        "df_age = df_age.astype(int)"
      ],
      "execution_count": 52,
      "outputs": []
    },
    {
      "cell_type": "code",
      "metadata": {
        "id": "1mAAXEhjEORq"
      },
      "source": [
        "age = {\n",
        "    \"data\": df_age.to_dict(),\n",
        "    \"last_update\": last_update.isoformat(),\n",
        "}"
      ],
      "execution_count": 53,
      "outputs": []
    },
    {
      "cell_type": "code",
      "metadata": {
        "id": "bWEsrIOKEOUq"
      },
      "source": [
        "jsonschema.validate(age, AGE_SCHEMA)\n",
        "\n",
        "dumps_json(\"age.json\", age)"
      ],
      "execution_count": 54,
      "outputs": []
    },
    {
      "cell_type": "code",
      "metadata": {
        "id": "o4sLD-zdE4Pn",
        "colab": {
          "base_uri": "https://localhost:8080/",
          "height": 424
        },
        "outputId": "fff52f17-ecaf-475c-9981-cbe1acaf6e0d"
      },
      "source": [
        "df_ages = (\n",
        "    pd.crosstab(df_kanja[\"発表日\"], df_kanja[\"年代\"])\n",
        "    .reindex(age_list, axis=1, fill_value=0)\n",
        "    .astype(int)\n",
        ")\n",
        "\n",
        "# 日付補完\n",
        "dt_range = pd.date_range(df_ages.index[0], df_pcr.index[-1])\n",
        "df_agesum = df_ages.reindex(index=dt_range, fill_value=0)\n",
        "\n",
        "df_agesum"
      ],
      "execution_count": 55,
      "outputs": [
        {
          "output_type": "execute_result",
          "data": {
            "text/html": [
              "<div>\n",
              "<style scoped>\n",
              "    .dataframe tbody tr th:only-of-type {\n",
              "        vertical-align: middle;\n",
              "    }\n",
              "\n",
              "    .dataframe tbody tr th {\n",
              "        vertical-align: top;\n",
              "    }\n",
              "\n",
              "    .dataframe thead th {\n",
              "        text-align: right;\n",
              "    }\n",
              "</style>\n",
              "<table border=\"1\" class=\"dataframe\">\n",
              "  <thead>\n",
              "    <tr style=\"text-align: right;\">\n",
              "      <th>年代</th>\n",
              "      <th>10歳未満</th>\n",
              "      <th>10代</th>\n",
              "      <th>20代</th>\n",
              "      <th>30代</th>\n",
              "      <th>40代</th>\n",
              "      <th>50代</th>\n",
              "      <th>60代</th>\n",
              "      <th>70代</th>\n",
              "      <th>80代</th>\n",
              "      <th>90歳以上</th>\n",
              "      <th>非公表</th>\n",
              "    </tr>\n",
              "  </thead>\n",
              "  <tbody>\n",
              "    <tr>\n",
              "      <th>2020-03-01</th>\n",
              "      <td>0</td>\n",
              "      <td>0</td>\n",
              "      <td>0</td>\n",
              "      <td>0</td>\n",
              "      <td>1</td>\n",
              "      <td>0</td>\n",
              "      <td>0</td>\n",
              "      <td>0</td>\n",
              "      <td>0</td>\n",
              "      <td>0</td>\n",
              "      <td>0</td>\n",
              "    </tr>\n",
              "    <tr>\n",
              "      <th>2020-03-02</th>\n",
              "      <td>0</td>\n",
              "      <td>0</td>\n",
              "      <td>0</td>\n",
              "      <td>0</td>\n",
              "      <td>0</td>\n",
              "      <td>0</td>\n",
              "      <td>0</td>\n",
              "      <td>0</td>\n",
              "      <td>0</td>\n",
              "      <td>0</td>\n",
              "      <td>0</td>\n",
              "    </tr>\n",
              "    <tr>\n",
              "      <th>2020-03-03</th>\n",
              "      <td>0</td>\n",
              "      <td>0</td>\n",
              "      <td>0</td>\n",
              "      <td>0</td>\n",
              "      <td>2</td>\n",
              "      <td>0</td>\n",
              "      <td>0</td>\n",
              "      <td>0</td>\n",
              "      <td>0</td>\n",
              "      <td>0</td>\n",
              "      <td>0</td>\n",
              "    </tr>\n",
              "    <tr>\n",
              "      <th>2020-03-04</th>\n",
              "      <td>0</td>\n",
              "      <td>0</td>\n",
              "      <td>0</td>\n",
              "      <td>0</td>\n",
              "      <td>0</td>\n",
              "      <td>0</td>\n",
              "      <td>0</td>\n",
              "      <td>0</td>\n",
              "      <td>0</td>\n",
              "      <td>0</td>\n",
              "      <td>0</td>\n",
              "    </tr>\n",
              "    <tr>\n",
              "      <th>2020-03-05</th>\n",
              "      <td>0</td>\n",
              "      <td>0</td>\n",
              "      <td>0</td>\n",
              "      <td>0</td>\n",
              "      <td>0</td>\n",
              "      <td>1</td>\n",
              "      <td>0</td>\n",
              "      <td>0</td>\n",
              "      <td>0</td>\n",
              "      <td>0</td>\n",
              "      <td>0</td>\n",
              "    </tr>\n",
              "    <tr>\n",
              "      <th>...</th>\n",
              "      <td>...</td>\n",
              "      <td>...</td>\n",
              "      <td>...</td>\n",
              "      <td>...</td>\n",
              "      <td>...</td>\n",
              "      <td>...</td>\n",
              "      <td>...</td>\n",
              "      <td>...</td>\n",
              "      <td>...</td>\n",
              "      <td>...</td>\n",
              "      <td>...</td>\n",
              "    </tr>\n",
              "    <tr>\n",
              "      <th>2021-01-14</th>\n",
              "      <td>10</td>\n",
              "      <td>15</td>\n",
              "      <td>58</td>\n",
              "      <td>37</td>\n",
              "      <td>32</td>\n",
              "      <td>42</td>\n",
              "      <td>30</td>\n",
              "      <td>37</td>\n",
              "      <td>24</td>\n",
              "      <td>7</td>\n",
              "      <td>0</td>\n",
              "    </tr>\n",
              "    <tr>\n",
              "      <th>2021-01-15</th>\n",
              "      <td>13</td>\n",
              "      <td>24</td>\n",
              "      <td>49</td>\n",
              "      <td>34</td>\n",
              "      <td>27</td>\n",
              "      <td>34</td>\n",
              "      <td>35</td>\n",
              "      <td>40</td>\n",
              "      <td>16</td>\n",
              "      <td>5</td>\n",
              "      <td>0</td>\n",
              "    </tr>\n",
              "    <tr>\n",
              "      <th>2021-01-16</th>\n",
              "      <td>8</td>\n",
              "      <td>19</td>\n",
              "      <td>55</td>\n",
              "      <td>33</td>\n",
              "      <td>34</td>\n",
              "      <td>37</td>\n",
              "      <td>30</td>\n",
              "      <td>30</td>\n",
              "      <td>17</td>\n",
              "      <td>1</td>\n",
              "      <td>1</td>\n",
              "    </tr>\n",
              "    <tr>\n",
              "      <th>2021-01-17</th>\n",
              "      <td>6</td>\n",
              "      <td>16</td>\n",
              "      <td>57</td>\n",
              "      <td>52</td>\n",
              "      <td>35</td>\n",
              "      <td>35</td>\n",
              "      <td>28</td>\n",
              "      <td>27</td>\n",
              "      <td>20</td>\n",
              "      <td>12</td>\n",
              "      <td>0</td>\n",
              "    </tr>\n",
              "    <tr>\n",
              "      <th>2021-01-18</th>\n",
              "      <td>8</td>\n",
              "      <td>7</td>\n",
              "      <td>29</td>\n",
              "      <td>16</td>\n",
              "      <td>17</td>\n",
              "      <td>17</td>\n",
              "      <td>10</td>\n",
              "      <td>19</td>\n",
              "      <td>13</td>\n",
              "      <td>12</td>\n",
              "      <td>0</td>\n",
              "    </tr>\n",
              "  </tbody>\n",
              "</table>\n",
              "<p>324 rows × 11 columns</p>\n",
              "</div>"
            ],
            "text/plain": [
              "年代          10歳未満  10代  20代  30代  40代  50代  60代  70代  80代  90歳以上  非公表\n",
              "2020-03-01      0    0    0    0    1    0    0    0    0      0    0\n",
              "2020-03-02      0    0    0    0    0    0    0    0    0      0    0\n",
              "2020-03-03      0    0    0    0    2    0    0    0    0      0    0\n",
              "2020-03-04      0    0    0    0    0    0    0    0    0      0    0\n",
              "2020-03-05      0    0    0    0    0    1    0    0    0      0    0\n",
              "...           ...  ...  ...  ...  ...  ...  ...  ...  ...    ...  ...\n",
              "2021-01-14     10   15   58   37   32   42   30   37   24      7    0\n",
              "2021-01-15     13   24   49   34   27   34   35   40   16      5    0\n",
              "2021-01-16      8   19   55   33   34   37   30   30   17      1    1\n",
              "2021-01-17      6   16   57   52   35   35   28   27   20     12    0\n",
              "2021-01-18      8    7   29   16   17   17   10   19   13     12    0\n",
              "\n",
              "[324 rows x 11 columns]"
            ]
          },
          "metadata": {
            "tags": []
          },
          "execution_count": 55
        }
      ]
    },
    {
      "cell_type": "code",
      "metadata": {
        "id": "-7IURnJTE4Sr"
      },
      "source": [
        "labels = df_agesum.index.map(lambda d: f\"{d.month}/{d.day}\")"
      ],
      "execution_count": 56,
      "outputs": []
    },
    {
      "cell_type": "code",
      "metadata": {
        "id": "fxzc9U1VE4Vm"
      },
      "source": [
        "age_summary = {\n",
        "    \"data\": df_agesum.to_dict(orient=\"list\"),\n",
        "    \"labels\": labels.tolist(),\n",
        "    \"last_update\": last_update.isoformat(),\n",
        "}"
      ],
      "execution_count": 57,
      "outputs": []
    },
    {
      "cell_type": "code",
      "metadata": {
        "id": "aM6yKRUGE4Ym"
      },
      "source": [
        "jsonschema.validate(age_summary, AGE_SUMMARY_SCHEMA)\n",
        "\n",
        "dumps_json(\"age_summary.json\", age_summary)"
      ],
      "execution_count": 58,
      "outputs": []
    },
    {
      "cell_type": "code",
      "metadata": {
        "id": "C6g7-wHoE4cO"
      },
      "source": [
        "# クラスタ概要\n",
        "\n",
        "df_cluster_sum = df_kanja.loc[:, \"認定こども園\":\"特定できず\"].copy().notnull().sum()"
      ],
      "execution_count": 59,
      "outputs": []
    },
    {
      "cell_type": "code",
      "metadata": {
        "id": "wQ5pZ66YFMzb"
      },
      "source": [
        "clusters_summary = {\n",
        "    \"data\": df_cluster_sum.to_dict(),\n",
        "    \"last_update\": last_update.isoformat(),\n",
        "}"
      ],
      "execution_count": 60,
      "outputs": []
    },
    {
      "cell_type": "code",
      "metadata": {
        "id": "kYoLUbXiFM2o"
      },
      "source": [
        "jsonschema.validate(clusters_summary, CLUSTERS_SUMMARY_SCHEMA)\n",
        "\n",
        "dumps_json(\"clusters_summary.json\", clusters_summary)"
      ],
      "execution_count": 61,
      "outputs": []
    },
    {
      "cell_type": "code",
      "metadata": {
        "id": "56_J6al5FM5n"
      },
      "source": [
        "# クラスタ\n",
        "\n",
        "df_clusters = df_kanja.loc[:, \"認定こども園\":\"特定できず\"].copy().notna().astype(int)"
      ],
      "execution_count": 62,
      "outputs": []
    },
    {
      "cell_type": "code",
      "metadata": {
        "id": "NgU1WgNG8h16"
      },
      "source": [
        "df_clusters[\"発表日\"] = df_kanja[\"発表日\"]"
      ],
      "execution_count": 63,
      "outputs": []
    },
    {
      "cell_type": "code",
      "metadata": {
        "id": "Z330Et_P8BWj"
      },
      "source": [
        "pv_clusters = df_clusters.pivot_table(index=\"発表日\", aggfunc=\"sum\")"
      ],
      "execution_count": 64,
      "outputs": []
    },
    {
      "cell_type": "code",
      "metadata": {
        "id": "aalNoxIkrmy8"
      },
      "source": [
        "dt_range = pd.date_range(pv_clusters.index[0], df_pcr.index[-1])\n",
        "\n",
        "pv_clusters = pv_clusters.reindex(index=dt_range, fill_value=0)"
      ],
      "execution_count": 65,
      "outputs": []
    },
    {
      "cell_type": "code",
      "metadata": {
        "id": "MKIjIVa47DL2"
      },
      "source": [
        "pv_clusters[\"日付\"] = pv_clusters.index.map(lambda d: pd.Timestamp(d, tz='Asia/Tokyo').isoformat())"
      ],
      "execution_count": 66,
      "outputs": []
    },
    {
      "cell_type": "code",
      "metadata": {
        "id": "uztyhc-JFM8-"
      },
      "source": [
        "clusters = {\n",
        "    \"data\": pv_clusters.to_dict(orient=\"records\"),\n",
        "    \"last_update\": last_update.isoformat(),\n",
        "}"
      ],
      "execution_count": 67,
      "outputs": []
    },
    {
      "cell_type": "code",
      "metadata": {
        "id": "2jzMYwd0FUmB"
      },
      "source": [
        "jsonschema.validate(clusters, CLUSTERS_SCHEMA)\n",
        "dumps_json(\"clusters.json\", clusters)"
      ],
      "execution_count": 68,
      "outputs": []
    },
    {
      "cell_type": "code",
      "metadata": {
        "id": "xKR55Q97Dw_Z",
        "colab": {
          "base_uri": "https://localhost:8080/"
        },
        "outputId": "8760d592-9472-49bd-97b0-c4368815c755"
      },
      "source": [
        "# 重複者\n",
        "\n",
        "(df_kanja.loc[:, \"認定こども園\":].copy().notnull().sum(axis=1) > 1).sum()"
      ],
      "execution_count": 69,
      "outputs": [
        {
          "output_type": "execute_result",
          "data": {
            "text/plain": [
              "8"
            ]
          },
          "metadata": {
            "tags": []
          },
          "execution_count": 69
        }
      ]
    },
    {
      "cell_type": "markdown",
      "metadata": {
        "id": "gug1ffSBFixf"
      },
      "source": [
        "## yousei.xlsx"
      ]
    },
    {
      "cell_type": "code",
      "metadata": {
        "id": "kODIiANyfhdN"
      },
      "source": [
        "yousei_path = get_file(YOUSEI_XLSX, DOWNLOAD_DIR)"
      ],
      "execution_count": 70,
      "outputs": []
    },
    {
      "cell_type": "code",
      "metadata": {
        "id": "FgEnLr8pFhWI"
      },
      "source": [
        "df_yousei = pd.read_excel(yousei_path, index_col=\"発表年月日\", na_values=\"-\")\n",
        "\n",
        "df_yousei.columns = df_yousei.columns.map(lambda s: s.replace(\"（累計）\", \"\").strip())\n",
        "\n",
        "# df_yousei.index += pd.to_timedelta(\"1 days\")\n",
        "\n",
        "df_yousei.rename(\n",
        "    columns={\n",
        "        \"入院中（合計）\": \"入院中\",\n",
        "        \"入院中（中等症以下）\": \"軽症・中等症\",\n",
        "        \"入院中（重症）\": \"重症\",\n",
        "        \"陽性者数\": \"陽性患者数\",\n",
        "        \"その他医療機関\\n福祉施設等\": \"その他医療機関福祉施設等\",\n",
        "    },\n",
        "    inplace=True,\n",
        ")\n",
        "\n",
        "df_yousei.drop(\"発表時間\", axis=1, inplace=True)"
      ],
      "execution_count": 71,
      "outputs": []
    },
    {
      "cell_type": "code",
      "metadata": {
        "id": "ZDDIdyIl5IB-"
      },
      "source": [
        "df_yousei.to_csv(\"yousei.tsv\", sep=\"\\t\")"
      ],
      "execution_count": 72,
      "outputs": []
    },
    {
      "cell_type": "code",
      "metadata": {
        "id": "xlI_55c5FiM_"
      },
      "source": [
        "d = df_yousei.iloc[-1].to_dict()"
      ],
      "execution_count": 73,
      "outputs": []
    },
    {
      "cell_type": "code",
      "metadata": {
        "id": "0foKI_aFgfTI",
        "colab": {
          "base_uri": "https://localhost:8080/"
        },
        "outputId": "a3037997-c09d-404e-f8aa-d63085bd68f4"
      },
      "source": [
        "d"
      ],
      "execution_count": 74,
      "outputs": [
        {
          "output_type": "execute_result",
          "data": {
            "text/plain": [
              "{'その他医療機関福祉施設等': 192.0,\n",
              " '入院中': 582.0,\n",
              " '入院調整': 722.0,\n",
              " '宿泊療養': 437.0,\n",
              " '検査実施人数': 174439.0,\n",
              " '死亡': 308.0,\n",
              " '軽症・中等症': 514.0,\n",
              " '退院': 11714.0,\n",
              " '重症': 68.0,\n",
              " '陽性患者数': 13955.0}"
            ]
          },
          "metadata": {
            "tags": []
          },
          "execution_count": 74
        }
      ]
    },
    {
      "cell_type": "code",
      "metadata": {
        "id": "YSv_sHnJFoRf"
      },
      "source": [
        "main_summary = {\n",
        "    \"attr\": \"検査実施人数\",\n",
        "    \"value\": int(d[\"検査実施人数\"]),\n",
        "    \"children\": [\n",
        "        {\n",
        "            \"attr\": \"陽性患者数\",\n",
        "            \"value\": int(d[\"陽性患者数\"]),\n",
        "            \"children\": [\n",
        "                {\n",
        "                    \"attr\": \"入院中\",\n",
        "                    \"value\": int(d[\"入院中\"]),\n",
        "                    \"children\": [\n",
        "                        {\"attr\": \"軽症・中等症\", \"value\": int(d[\"軽症・中等症\"])},\n",
        "                        {\"attr\": \"重症\", \"value\": int(d[\"重症\"])},\n",
        "                    ],\n",
        "                },\n",
        "                {\"attr\": \"宿泊療養\", \"value\": int(d[\"宿泊療養\"])},\n",
        "                {\"attr\": \"入院調整\", \"value\": int(d[\"入院調整\"])},\n",
        "                {\"attr\": \"その他医療機関福祉施設等\", \"value\": int(d[\"その他医療機関福祉施設等\"])},\n",
        "                {\"attr\": \"死亡\", \"value\": int(d[\"死亡\"])},\n",
        "                {\"attr\": \"退院\", \"value\": int(d[\"退院\"])},\n",
        "            ],\n",
        "        }\n",
        "    ],\n",
        "    \"last_update\": last_update.isoformat(),\n",
        "}"
      ],
      "execution_count": 75,
      "outputs": []
    },
    {
      "cell_type": "code",
      "metadata": {
        "id": "FTxI8eGt57NM"
      },
      "source": [
        "jsonschema.validate(main_summary, MAIN_SUMMARY_SCHEMA)\n",
        "\n",
        "dumps_json(\"main_summary.json\", main_summary)"
      ],
      "execution_count": 76,
      "outputs": []
    },
    {
      "cell_type": "code",
      "metadata": {
        "id": "RxcOU-t151aE"
      },
      "source": [
        "df_yousei[\"治療中\"] = df_yousei[\"入院中\"] + df_yousei[\"宿泊療養\"] + df_yousei[\"入院調整\"] + df_yousei[\"その他医療機関福祉施設等\"]"
      ],
      "execution_count": 77,
      "outputs": []
    },
    {
      "cell_type": "code",
      "metadata": {
        "id": "4dtB4doKcYLH"
      },
      "source": [
        "df_test = pd.concat([df_pcr[\"陽性確認\"].cumsum(), df_yousei[\"陽性患者数\"].reindex(index=df_pcr.index, fill_value=0)], axis=1)"
      ],
      "execution_count": 78,
      "outputs": []
    },
    {
      "cell_type": "code",
      "metadata": {
        "colab": {
          "base_uri": "https://localhost:8080/",
          "height": 865
        },
        "id": "TKyAohVjeJ9V",
        "outputId": "6a38e050-96af-4e09-8ff9-65093092f7c4"
      },
      "source": [
        "df_test[df_test[\"陽性確認\"] != df_test[\"陽性患者数\"]]"
      ],
      "execution_count": 79,
      "outputs": [
        {
          "output_type": "execute_result",
          "data": {
            "text/html": [
              "<div>\n",
              "<style scoped>\n",
              "    .dataframe tbody tr th:only-of-type {\n",
              "        vertical-align: middle;\n",
              "    }\n",
              "\n",
              "    .dataframe tbody tr th {\n",
              "        vertical-align: top;\n",
              "    }\n",
              "\n",
              "    .dataframe thead th {\n",
              "        text-align: right;\n",
              "    }\n",
              "</style>\n",
              "<table border=\"1\" class=\"dataframe\">\n",
              "  <thead>\n",
              "    <tr style=\"text-align: right;\">\n",
              "      <th></th>\n",
              "      <th>陽性確認</th>\n",
              "      <th>陽性患者数</th>\n",
              "    </tr>\n",
              "    <tr>\n",
              "      <th>年月日</th>\n",
              "      <th></th>\n",
              "      <th></th>\n",
              "    </tr>\n",
              "  </thead>\n",
              "  <tbody>\n",
              "    <tr>\n",
              "      <th>2020-03-01</th>\n",
              "      <td>1</td>\n",
              "      <td>0</td>\n",
              "    </tr>\n",
              "    <tr>\n",
              "      <th>2020-03-02</th>\n",
              "      <td>1</td>\n",
              "      <td>0</td>\n",
              "    </tr>\n",
              "    <tr>\n",
              "      <th>2020-03-03</th>\n",
              "      <td>3</td>\n",
              "      <td>0</td>\n",
              "    </tr>\n",
              "    <tr>\n",
              "      <th>2020-03-04</th>\n",
              "      <td>3</td>\n",
              "      <td>0</td>\n",
              "    </tr>\n",
              "    <tr>\n",
              "      <th>2020-03-05</th>\n",
              "      <td>4</td>\n",
              "      <td>0</td>\n",
              "    </tr>\n",
              "    <tr>\n",
              "      <th>2020-03-06</th>\n",
              "      <td>8</td>\n",
              "      <td>0</td>\n",
              "    </tr>\n",
              "    <tr>\n",
              "      <th>2020-03-07</th>\n",
              "      <td>10</td>\n",
              "      <td>0</td>\n",
              "    </tr>\n",
              "    <tr>\n",
              "      <th>2020-03-08</th>\n",
              "      <td>12</td>\n",
              "      <td>0</td>\n",
              "    </tr>\n",
              "    <tr>\n",
              "      <th>2020-03-09</th>\n",
              "      <td>16</td>\n",
              "      <td>0</td>\n",
              "    </tr>\n",
              "    <tr>\n",
              "      <th>2020-05-04</th>\n",
              "      <td>667</td>\n",
              "      <td>668</td>\n",
              "    </tr>\n",
              "    <tr>\n",
              "      <th>2020-05-05</th>\n",
              "      <td>673</td>\n",
              "      <td>674</td>\n",
              "    </tr>\n",
              "    <tr>\n",
              "      <th>2020-05-06</th>\n",
              "      <td>676</td>\n",
              "      <td>677</td>\n",
              "    </tr>\n",
              "    <tr>\n",
              "      <th>2020-05-07</th>\n",
              "      <td>679</td>\n",
              "      <td>680</td>\n",
              "    </tr>\n",
              "    <tr>\n",
              "      <th>2020-07-13</th>\n",
              "      <td>738</td>\n",
              "      <td>739</td>\n",
              "    </tr>\n",
              "    <tr>\n",
              "      <th>2020-07-14</th>\n",
              "      <td>747</td>\n",
              "      <td>739</td>\n",
              "    </tr>\n",
              "    <tr>\n",
              "      <th>2020-07-15</th>\n",
              "      <td>759</td>\n",
              "      <td>760</td>\n",
              "    </tr>\n",
              "    <tr>\n",
              "      <th>2020-07-16</th>\n",
              "      <td>776</td>\n",
              "      <td>777</td>\n",
              "    </tr>\n",
              "    <tr>\n",
              "      <th>2020-12-03</th>\n",
              "      <td>6038</td>\n",
              "      <td>6039</td>\n",
              "    </tr>\n",
              "    <tr>\n",
              "      <th>2020-12-04</th>\n",
              "      <td>6167</td>\n",
              "      <td>6168</td>\n",
              "    </tr>\n",
              "    <tr>\n",
              "      <th>2020-12-05</th>\n",
              "      <td>6316</td>\n",
              "      <td>6319</td>\n",
              "    </tr>\n",
              "    <tr>\n",
              "      <th>2020-12-06</th>\n",
              "      <td>6436</td>\n",
              "      <td>6439</td>\n",
              "    </tr>\n",
              "    <tr>\n",
              "      <th>2020-12-07</th>\n",
              "      <td>6542</td>\n",
              "      <td>6545</td>\n",
              "    </tr>\n",
              "    <tr>\n",
              "      <th>2020-12-08</th>\n",
              "      <td>6687</td>\n",
              "      <td>6690</td>\n",
              "    </tr>\n",
              "    <tr>\n",
              "      <th>2020-12-09</th>\n",
              "      <td>6844</td>\n",
              "      <td>6847</td>\n",
              "    </tr>\n",
              "    <tr>\n",
              "      <th>2020-12-12</th>\n",
              "      <td>7225</td>\n",
              "      <td>7227</td>\n",
              "    </tr>\n",
              "  </tbody>\n",
              "</table>\n",
              "</div>"
            ],
            "text/plain": [
              "            陽性確認  陽性患者数\n",
              "年月日                    \n",
              "2020-03-01     1      0\n",
              "2020-03-02     1      0\n",
              "2020-03-03     3      0\n",
              "2020-03-04     3      0\n",
              "2020-03-05     4      0\n",
              "2020-03-06     8      0\n",
              "2020-03-07    10      0\n",
              "2020-03-08    12      0\n",
              "2020-03-09    16      0\n",
              "2020-05-04   667    668\n",
              "2020-05-05   673    674\n",
              "2020-05-06   676    677\n",
              "2020-05-07   679    680\n",
              "2020-07-13   738    739\n",
              "2020-07-14   747    739\n",
              "2020-07-15   759    760\n",
              "2020-07-16   776    777\n",
              "2020-12-03  6038   6039\n",
              "2020-12-04  6167   6168\n",
              "2020-12-05  6316   6319\n",
              "2020-12-06  6436   6439\n",
              "2020-12-07  6542   6545\n",
              "2020-12-08  6687   6690\n",
              "2020-12-09  6844   6847\n",
              "2020-12-12  7225   7227"
            ]
          },
          "metadata": {
            "tags": []
          },
          "execution_count": 79
        }
      ]
    },
    {
      "cell_type": "code",
      "metadata": {
        "id": "axcFj5K83J9S"
      },
      "source": [
        "ser_cur = df_yousei[\"治療中\"].reindex(df_pcr.index)"
      ],
      "execution_count": 80,
      "outputs": []
    },
    {
      "cell_type": "code",
      "metadata": {
        "id": "nWCR1pFE34KZ"
      },
      "source": [
        "df_current = pd.DataFrame({\"小計\": ser_cur.combine_first(df_pcr[\"陽性確認\"].cumsum())}).diff().fillna(0).astype(int)"
      ],
      "execution_count": 81,
      "outputs": []
    },
    {
      "cell_type": "code",
      "metadata": {
        "id": "SMCuFsiRvVq5"
      },
      "source": [
        "df_current[\"日付\"] = df_current.index.map(lambda d: pd.Timestamp(d, tz='Asia/Tokyo').isoformat())"
      ],
      "execution_count": 82,
      "outputs": []
    },
    {
      "cell_type": "code",
      "metadata": {
        "id": "Fm1XQY4UvdiA"
      },
      "source": [
        "df_cur_pts = df_current.loc[:, [\"日付\", \"小計\"]].copy()"
      ],
      "execution_count": 83,
      "outputs": []
    },
    {
      "cell_type": "code",
      "metadata": {
        "id": "9u9WrvTQvoG5"
      },
      "source": [
        "current_patients = {\n",
        "    \"data\": df_cur_pts.to_dict(orient=\"records\"),\n",
        "    \"last_update\": last_update.isoformat(),\n",
        "}"
      ],
      "execution_count": 84,
      "outputs": []
    },
    {
      "cell_type": "code",
      "metadata": {
        "id": "9J3s_2ygvrj1"
      },
      "source": [
        "jsonschema.validate(current_patients, PATIENTS_SUMMARY_SCHEMA)\n",
        "\n",
        "dumps_json(\"current_patients.json\", current_patients)"
      ],
      "execution_count": 85,
      "outputs": []
    },
    {
      "cell_type": "markdown",
      "metadata": {
        "id": "HfVk5o1rF1a7"
      },
      "source": [
        "# チェック"
      ]
    },
    {
      "cell_type": "code",
      "metadata": {
        "id": "GH_X0bQHV6TE",
        "colab": {
          "base_uri": "https://localhost:8080/"
        },
        "outputId": "234c7ed2-fd2b-4c0f-96c6-90459121cf4f"
      },
      "source": [
        "!pip install dictdiffer"
      ],
      "execution_count": 86,
      "outputs": [
        {
          "output_type": "stream",
          "text": [
            "Collecting dictdiffer\n",
            "  Downloading https://files.pythonhosted.org/packages/97/92/350b6b6ec39c5f87d98d04c91a50c498518716a05368e6dea88b5c69b590/dictdiffer-0.8.1-py2.py3-none-any.whl\n",
            "Installing collected packages: dictdiffer\n",
            "Successfully installed dictdiffer-0.8.1\n"
          ],
          "name": "stdout"
        }
      ]
    },
    {
      "cell_type": "code",
      "metadata": {
        "id": "csbWJHlyV_dR"
      },
      "source": [
        "from dictdiffer import diff, patch, swap, revert"
      ],
      "execution_count": 87,
      "outputs": []
    },
    {
      "cell_type": "code",
      "metadata": {
        "id": "33EddlLOWsT5"
      },
      "source": [
        "import pprint"
      ],
      "execution_count": 88,
      "outputs": []
    },
    {
      "cell_type": "code",
      "metadata": {
        "id": "UDR_y1oO57D8"
      },
      "source": [
        "def json_check(fn, d):\n",
        "\n",
        "    r = requests.get(\n",
        "        \"https://raw.githubusercontent.com/stop-covid19-hyogo/covid19-scraping/gh-pages/\"\n",
        "        + fn\n",
        "    )\n",
        "\n",
        "    result = d == r.json()\n",
        "\n",
        "    if not result:\n",
        "\n",
        "        print(fn)\n",
        "        pprint.pprint(list(diff(d, r.json())))"
      ],
      "execution_count": 89,
      "outputs": []
    },
    {
      "cell_type": "code",
      "metadata": {
        "id": "hDmtMj6hyaJB"
      },
      "source": [
        "json_check(\"inspections.json\", inspections)\n",
        "json_check(\"inspections_summary.json\", inspections_summary)"
      ],
      "execution_count": 90,
      "outputs": []
    },
    {
      "cell_type": "code",
      "metadata": {
        "id": "zS14yuR2WzmP",
        "colab": {
          "base_uri": "https://localhost:8080/"
        },
        "outputId": "3fa02e6b-93ac-4a25-af1f-18050d6afe9a"
      },
      "source": [
        "json_check(\"age.json\", age)\n",
        "json_check(\"age_summary.json\", age_summary)"
      ],
      "execution_count": 91,
      "outputs": [
        {
          "output_type": "stream",
          "text": [
            "age.json\n",
            "[('change',\n",
            "  'last_update',\n",
            "  ('2021-01-19T00:00:00+09:00', '2020-01-19T00:00:00+09:00'))]\n",
            "age_summary.json\n",
            "[('change',\n",
            "  'last_update',\n",
            "  ('2021-01-19T00:00:00+09:00', '2020-01-19T00:00:00+09:00'))]\n"
          ],
          "name": "stdout"
        }
      ]
    },
    {
      "cell_type": "code",
      "metadata": {
        "id": "YGURxqLmCu1H",
        "colab": {
          "base_uri": "https://localhost:8080/"
        },
        "outputId": "10ad6981-f257-43c8-9137-d845bdfb69f8"
      },
      "source": [
        "json_check(\"patients_summary.json\", patients_summary)\n",
        "json_check(\"patients.json\", patients)\n",
        "json_check(\"current_patients.json\", current_patients)"
      ],
      "execution_count": 92,
      "outputs": [
        {
          "output_type": "stream",
          "text": [
            "patients.json\n",
            "[('change', ['data', 22, '備考'], ('', None)),\n",
            " ('change',\n",
            "  'last_update',\n",
            "  ('2021-01-19T00:00:00+09:00', '2020-01-19T00:00:00+09:00'))]\n",
            "current_patients.json\n",
            "[('change', ['data', 39, '小計'], (9, 8)),\n",
            " ('change', ['data', 40, '小計'], (12, 11)),\n",
            " ('change', ['data', 43, '小計'], (11, 10)),\n",
            " ('change', ['data', 45, '小計'], (4, 3)),\n",
            " ('change', ['data', 46, '小計'], (4, 3)),\n",
            " ('change', ['data', 47, '小計'], (5, 3)),\n",
            " ('change', ['data', 48, '小計'], (2, 1)),\n",
            " ('change', ['data', 49, '小計'], (8, 3)),\n",
            " ('change', ['data', 51, '小計'], (4, 2)),\n",
            " ('change', ['data', 52, '小計'], (2, -4)),\n",
            " ('change', ['data', 53, '小計'], (5, 4)),\n",
            " ('change', ['data', 54, '小計'], (1, 0)),\n",
            " ('change', ['data', 55, '小計'], (1, 0)),\n",
            " ('change', ['data', 56, '小計'], (3, 1)),\n",
            " ('change', ['data', 57, '小計'], (3, 2)),\n",
            " ('change', ['data', 59, '小計'], (4, -20)),\n",
            " ('change', ['data', 62, '小計'], (7, -3)),\n",
            " ('change', ['data', 66, '小計'], (6, -5)),\n",
            " ('change', ['data', 69, '小計'], (39, 38)),\n",
            " ('change', ['data', 70, '小計'], (29, 11)),\n",
            " ('change', ['data', 71, '小計'], (42, 28)),\n",
            " ('change', ['data', 72, '小計'], (17, 13)),\n",
            " ('change', ['data', 73, '小計'], (9, -4)),\n",
            " ('change', ['data', 75, '小計'], (20, 19)),\n",
            " ('change', ['data', 76, '小計'], (31, 20)),\n",
            " ('change', ['data', 77, '小計'], (27, 26)),\n",
            " ('change', ['data', 79, '小計'], (11, 0)),\n",
            " ('change', ['data', 80, '小計'], (11, -20)),\n",
            " ('change', ['data', 81, '小計'], (19, 18)),\n",
            " ('change', ['data', 82, '小計'], (17, -10)),\n",
            " ('change', ['data', 83, '小計'], (20, 2)),\n",
            " ('change', ['data', 84, '小計'], (25, -14)),\n",
            " ('change', ['data', 85, '小計'], (15, 13)),\n",
            " ('change', ['data', 86, '小計'], (9, -3)),\n",
            " ('change', ['data', 87, '小計'], (1, -5)),\n",
            " ('change', ['data', 88, '小計'], (7, -14)),\n",
            " ('change', ['data', 89, '小計'], (6, -22)),\n",
            " ('change', ['data', 90, '小計'], (3, -14)),\n",
            " ('change', ['data', 91, '小計'], (5, -25)),\n",
            " ('change', ['data', 92, '小計'], (4, -4)),\n",
            " ('change', ['data', 93, '小計'], (12, -7)),\n",
            " ('change', ['data', 94, '小計'], (0, -4)),\n",
            " ('change', ['data', 95, '小計'], (6, -24)),\n",
            " ('change', ['data', 96, '小計'], (3, -24)),\n",
            " ('change', ['data', 97, '小計'], (3, -16)),\n",
            " ('change', ['data', 98, '小計'], (1, -9)),\n",
            " ('change', ['data', 99, '小計'], (8, -17)),\n",
            " ('change', ['data', 100, '小計'], (5, -9)),\n",
            " ('change', ['data', 101, '小計'], (1, -11)),\n",
            " ('change', ['data', 102, '小計'], (0, -10)),\n",
            " ('change', ['data', 103, '小計'], (3, -17)),\n",
            " ('change', ['data', 104, '小計'], (1, -8)),\n",
            " ('change', ['data', 105, '小計'], (0, -12)),\n",
            " ('change', ['data', 106, '小計'], (1, -5)),\n",
            " ('change', ['data', 107, '小計'], (0, -6)),\n",
            " ('change', ['data', 108, '小計'], (0, -10)),\n",
            " ('change', ['data', 109, '小計'], (0, -13)),\n",
            " ('change', ['data', 110, '小計'], (0, -7)),\n",
            " ('change', ['data', 111, '小計'], (0, -4)),\n",
            " ('change', ['data', 112, '小計'], (0, -2)),\n",
            " ('change', ['data', 113, '小計'], (0, -4)),\n",
            " ('change', ['data', 114, '小計'], (0, -4)),\n",
            " ('change', ['data', 115, '小計'], (0, -2)),\n",
            " ('change', ['data', 116, '小計'], (0, -3)),\n",
            " ('change', ['data', 117, '小計'], (0, -4)),\n",
            " ('change', ['data', 118, '小計'], (0, -4)),\n",
            " ('change', ['data', 119, '小計'], (0, -2)),\n",
            " ('change', ['data', 121, '小計'], (0, -4)),\n",
            " ('change', ['data', 122, '小計'], (0, -2)),\n",
            " ('change', ['data', 123, '小計'], (0, -4)),\n",
            " ('change', ['data', 124, '小計'], (0, -5)),\n",
            " ('change', ['data', 125, '小計'], (0, -6)),\n",
            " ('change', ['data', 126, '小計'], (0, -5)),\n",
            " ('change', ['data', 129, '小計'], (0, -1)),\n",
            " ('change', ['data', 131, '小計'], (0, -1)),\n",
            " ('change', ['data', 146, '小計'], (0, -1)),\n",
            " ('change', ['data', 151, '小計'], (1, -2)),\n",
            " ('change', ['data', 152, '小計'], (2, 1)),\n",
            " ('change', ['data', 157, '小計'], (4, 2)),\n",
            " ('change', ['data', 158, '小計'], (1, 0)),\n",
            " ('change', ['data', 159, '小計'], (3, 2)),\n",
            " ('change', ['data', 160, '小計'], (2, 0)),\n",
            " ('change', ['data', 164, '小計'], (1, -5)),\n",
            " ('change', ['data', 165, '小計'], (9, 0)),\n",
            " ('change', ['data', 166, '小計'], (12, 16)),\n",
            " ('change', ['data', 167, '小計'], (17, 10)),\n",
            " ('change', ['data', 168, '小計'], (24, 15)),\n",
            " ('change', ['data', 169, '小計'], (13, 5)),\n",
            " ('change', ['data', 170, '小計'], (21, 15)),\n",
            " ('change', ['data', 171, '小計'], (7, 5)),\n",
            " ('change', ['data', 172, '小計'], (12, 11)),\n",
            " ('change', ['data', 173, '小計'], (30, 11)),\n",
            " ('change', ['data', 174, '小計'], (35, 15)),\n",
            " ('change', ['data', 175, '小計'], (23, 5)),\n",
            " ('change', ['data', 176, '小計'], (24, -9)),\n",
            " ('change', ['data', 177, '小計'], (49, 34)),\n",
            " ('change', ['data', 180, '小計'], (46, 1)),\n",
            " ('change', ['data', 181, '小計'], (53, 32)),\n",
            " ('change', ['data', 182, '小計'], (62, 27)),\n",
            " ('change', ['data', 183, '小計'], (32, 3)),\n",
            " ('change', ['data', 184, '小計'], (60, 46)),\n",
            " ('change', ['data', 185, '小計'], (27, -26)),\n",
            " ('change', ['data', 186, '小計'], (32, 3)),\n",
            " ('change', ['data', 187, '小計'], (52, 19)),\n",
            " ('change', ['data', 188, '小計'], (61, 1)),\n",
            " ('change', ['data', 189, '小計'], (49, -2)),\n",
            " ('change', ['data', 190, '小計'], (55, 3)),\n",
            " ('change', ['data', 191, '小計'], (48, 11)),\n",
            " ('change', ['data', 192, '小計'], (26, -33)),\n",
            " ('change', ['data', 193, '小計'], (30, -12)),\n",
            " ('change', ['data', 194, '小計'], (36, -1)),\n",
            " ('change', ['data', 195, '小計'], (48, -10)),\n",
            " ('change', ['data', 196, '小計'], (33, 6)),\n",
            " ('change', ['data', 197, '小計'], (53, 7)),\n",
            " ('change', ['data', 198, '小計'], (37, 16)),\n",
            " ('change', ['data', 199, '小計'], (24, -15)),\n",
            " ('change', ['data', 200, '小計'], (25, 3)),\n",
            " ('change', ['data', 201, '小計'], (49, 4)),\n",
            " ('change', ['data', 202, '小計'], (34, 2)),\n",
            " ('change', ['data', 203, '小計'], (39, -13)),\n",
            " ('change', ['data', 204, '小計'], (33, 1)),\n",
            " ('change', ['data', 205, '小計'], (24, 0)),\n",
            " ('change', ['data', 206, '小計'], (8, -16)),\n",
            " ('change', ['data', 207, '小計'], (23, -29)),\n",
            " ('change', ['data', 208, '小計'], (28, -8)),\n",
            " ('change', ['data', 209, '小計'], (22, -19)),\n",
            " ('change', ['data', 210, '小計'], (26, -11)),\n",
            " ('change', ['data', 211, '小計'], (20, -9)),\n",
            " ('change', ['data', 212, '小計'], (13, -9)),\n",
            " ('change', ['data', 213, '小計'], (8, -9)),\n",
            " ('change', ['data', 214, '小計'], (21, -9)),\n",
            " ('change', ['data', 215, '小計'], (7, -17)),\n",
            " ('change', ['data', 216, '小計'], (13, -5)),\n",
            " ('change', ['data', 217, '小計'], (13, -15)),\n",
            " ('change', ['data', 218, '小計'], (9, 1)),\n",
            " ('change', ['data', 219, '小計'], (16, 1)),\n",
            " ('change', ['data', 220, '小計'], (6, -9)),\n",
            " ('change', ['data', 221, '小計'], (18, 5)),\n",
            " ('change', ['data', 222, '小計'], (22, 5)),\n",
            " ('change', ['data', 223, '小計'], (21, 4)),\n",
            " ('change', ['data', 224, '小計'], (14, -9)),\n",
            " ('change', ['data', 225, '小計'], (20, -3)),\n",
            " ('change', ['data', 226, '小計'], (15, 10)),\n",
            " ('change', ['data', 227, '小計'], (8, -1)),\n",
            " ('change', ['data', 228, '小計'], (23, 1)),\n",
            " ('change', ['data', 229, '小計'], (20, 12)),\n",
            " ('change', ['data', 230, '小計'], (16, -5)),\n",
            " ('change', ['data', 231, '小計'], (12, -6)),\n",
            " ('change', ['data', 232, '小計'], (21, 6)),\n",
            " ('change', ['data', 233, '小計'], (5, -9)),\n",
            " ('change', ['data', 234, '小計'], (27, -2)),\n",
            " ('change', ['data', 235, '小計'], (13, -15)),\n",
            " ('change', ['data', 236, '小計'], (1, -9)),\n",
            " ('change', ['data', 237, '小計'], (8, -5)),\n",
            " ('change', ['data', 238, '小計'], (12, 1)),\n",
            " ('change', ['data', 239, '小計'], (22, 1)),\n",
            " ('change', ['data', 240, '小計'], (16, 11)),\n",
            " ('change', ['data', 241, '小計'], (10, -2)),\n",
            " ('change', ['data', 242, '小計'], (18, -4)),\n",
            " ('change', ['data', 243, '小計'], (15, 8)),\n",
            " ('change', ['data', 244, '小計'], (21, 7)),\n",
            " ('change', ['data', 245, '小計'], (29, 15)),\n",
            " ('change', ['data', 246, '小計'], (15, -7)),\n",
            " ('change', ['data', 247, '小計'], (15, 4)),\n",
            " ('change', ['data', 248, '小計'], (7, -8)),\n",
            " ('change', ['data', 249, '小計'], (18, 4)),\n",
            " ('change', ['data', 250, '小計'], (16, -1)),\n",
            " ('change', ['data', 251, '小計'], (27, 13)),\n",
            " ('change', ['data', 252, '小計'], (16, 3)),\n",
            " ('change', ['data', 253, '小計'], (12, 4)),\n",
            " ('change', ['data', 254, '小計'], (12, -8)),\n",
            " ('change', ['data', 255, '小計'], (8, 1)),\n",
            " ('change', ['data', 256, '小計'], (13, -5)),\n",
            " ('change', ['data', 257, '小計'], (19, -8)),\n",
            " ('change', ['data', 258, '小計'], (14, 2)),\n",
            " ('change', ['data', 259, '小計'], (18, -8)),\n",
            " ('change', ['data', 260, '小計'], (17, 4)),\n",
            " ('change', ['data', 261, '小計'], (13, -4)),\n",
            " ('change', ['data', 262, '小計'], (5, 0)),\n",
            " ('change', ['data', 263, '小計'], (13, 2)),\n",
            " ('change', ['data', 264, '小計'], (14, -8)),\n",
            " ('change', ['data', 265, '小計'], (17, 7)),\n",
            " ('change', ['data', 266, '小計'], (21, 1)),\n",
            " ('change', ['data', 267, '小計'], (48, 22)),\n",
            " ('change', ['data', 268, '小計'], (15, 10)),\n",
            " ('change', ['data', 269, '小計'], (6, -6)),\n",
            " ('change', ['data', 270, '小計'], (10, 5)),\n",
            " ('change', ['data', 271, '小計'], (29, 8)),\n",
            " ('change', ['data', 272, '小計'], (17, 2)),\n",
            " ('change', ['data', 273, '小計'], (20, 9)),\n",
            " ('change', ['data', 274, '小計'], (28, 11)),\n",
            " ('change', ['data', 275, '小計'], (15, 1)),\n",
            " ('change', ['data', 276, '小計'], (10, -11)),\n",
            " ('change', ['data', 277, '小計'], (52, 22)),\n",
            " ('change', ['data', 278, '小計'], (36, 28)),\n",
            " ('change', ['data', 279, '小計'], (43, 18)),\n",
            " ('change', ['data', 280, '小計'], (49, 9)),\n",
            " ('change', ['data', 281, '小計'], (31, 11)),\n",
            " ('change', ['data', 282, '小計'], (32, 4)),\n",
            " ('change', ['data', 283, '小計'], (20, 9)),\n",
            " ('change', ['data', 284, '小計'], (58, 8)),\n",
            " ('change', ['data', 285, '小計'], (70, 18)),\n",
            " ('change', ['data', 286, '小計'], (81, 30)),\n",
            " ('change', ['data', 287, '小計'], (69, 20)),\n",
            " ('change', ['data', 288, '小計'], (79, 44)),\n",
            " ('change', ['data', 289, '小計'], (79, 21)),\n",
            " ('change', ['data', 290, '小計'], (40, -2)),\n",
            " ('change', ['data', 291, '小計'], (106, 51)),\n",
            " ('change', ['data', 292, '小計'], (103, 54)),\n",
            " ('change', ['data', 293, '小計'], (132, 31)),\n",
            " ('change', ['data', 294, '小計'], (129, 51)),\n",
            " ('change', ['data', 295, '小計'], (152, 82)),\n",
            " ('change', ['data', 296, '小計'], (138, 20)),\n",
            " ('change', ['data', 297, '小計'], (77, 14)),\n",
            " ('change', ['data', 298, '小計'], (77, -14)),\n",
            " ('change', ['data', 299, '小計'], (98, -6)),\n",
            " ('change', ['data', 300, '小計'], (184, 53)),\n",
            " ('change', ['data', 301, '小計'], (103, 25)),\n",
            " ('change', ['data', 302, '小計'], (143, 1)),\n",
            " ('change', ['data', 303, '小計'], (111, -29)),\n",
            " ('change', ['data', 304, '小計'], (55, -48)),\n",
            " ('change', ['data', 305, '小計'], (122, 7)),\n",
            " ('change', ['data', 306, '小計'], (123, 34)),\n",
            " ('change', ['data', 307, '小計'], (171, 14)),\n",
            " ('change', ['data', 308, '小計'], (129, 34)),\n",
            " ('change', ['data', 309, '小計'], (149, 18)),\n",
            " ('change', ['data', 310, '小計'], (120, 5)),\n",
            " ('change', ['data', 311, '小計'], (106, 19)),\n",
            " ('change', ['data', 312, '小計'], (145, -16)),\n",
            " ('change', ['data', 313, '小計'], (157, 19)),\n",
            " ('change', ['data', 314, '小計'], (148, -10)),\n",
            " ('change', ['data', 315, '小計'], (98, 7)),\n",
            " ('change', ['data', 316, '小計'], (135, -15)),\n",
            " ('change', ['data', 317, '小計'], (112, 11)),\n",
            " ('change', ['data', 318, '小計'], (65, 9)),\n",
            " ('change', ['data', 319, '小計'], (144, -49)),\n",
            " ('change', ['data', 320, '小計'], (135, 22)),\n",
            " ('change', ['data', 321, '小計'], (164, 24)),\n",
            " ('change', ['data', 322, '小計'], (128, 17)),\n",
            " ('change', ['data', 323, '小計'], (126, 11)),\n",
            " ('change', ['data', 324, '小計'], (103, 16)),\n",
            " ('change', ['data', 325, '小計'], (44, 16)),\n",
            " ('change', ['data', 326, '小計'], (190, 13)),\n",
            " ('change', ['data', 327, '小計'], (-7478, 59)),\n",
            " ('change', ['data', 329, '小計'], (78, 77)),\n",
            " ('change', ['data', 332, '小計'], (0, -1)),\n",
            " ('change', ['data', 334, '小計'], (36, 37)),\n",
            " ('change', ['data', 338, '小計'], (-66, -65))]\n"
          ],
          "name": "stdout"
        }
      ]
    },
    {
      "cell_type": "code",
      "metadata": {
        "id": "_zyUtFqjWwhp",
        "colab": {
          "base_uri": "https://localhost:8080/"
        },
        "outputId": "3d1aeda5-8ae6-4727-e3e8-b7778512d91d"
      },
      "source": [
        "json_check(\"clusters.json\", clusters)\n",
        "json_check(\"clusters_summary.json\", clusters_summary)"
      ],
      "execution_count": 93,
      "outputs": [
        {
          "output_type": "stream",
          "text": [
            "clusters.json\n",
            "[('change',\n",
            "  'last_update',\n",
            "  ('2021-01-19T00:00:00+09:00', '2020-01-19T00:00:00+09:00'))]\n",
            "clusters_summary.json\n",
            "[('change',\n",
            "  'last_update',\n",
            "  ('2021-01-19T00:00:00+09:00', '2020-01-19T00:00:00+09:00'))]\n"
          ],
          "name": "stdout"
        }
      ]
    },
    {
      "cell_type": "code",
      "metadata": {
        "id": "iurioM6cCu4c"
      },
      "source": [
        "json_check(\"main_summary.json\", main_summary)"
      ],
      "execution_count": 94,
      "outputs": []
    }
  ]
}