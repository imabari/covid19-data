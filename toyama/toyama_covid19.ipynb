{
  "nbformat": 4,
  "nbformat_minor": 0,
  "metadata": {
    "colab": {
      "name": "toyama_covid19.ipynb",
      "provenance": [],
      "collapsed_sections": [],
      "toc_visible": true,
      "include_colab_link": true
    },
    "kernelspec": {
      "name": "python3",
      "display_name": "Python 3"
    }
  },
  "cells": [
    {
      "cell_type": "markdown",
      "metadata": {
        "id": "view-in-github",
        "colab_type": "text"
      },
      "source": [
        "<a href=\"https://colab.research.google.com/github/imabari/toyama/blob/master/toyama_covid19.ipynb\" target=\"_parent\"><img src=\"https://colab.research.google.com/assets/colab-badge.svg\" alt=\"Open In Colab\"/></a>"
      ]
    },
    {
      "cell_type": "markdown",
      "metadata": {
        "id": "T_X1-GdlT10s",
        "colab_type": "text"
      },
      "source": [
        "# ダウンロード"
      ]
    },
    {
      "cell_type": "code",
      "metadata": {
        "id": "W5MEPisHC73b",
        "colab_type": "code",
        "colab": {}
      },
      "source": [
        "COUNTS_FILE = \"toyama_counts.csv\"\n",
        "PATIENTS_FILE = \"toyama_patients.csv\""
      ],
      "execution_count": 0,
      "outputs": []
    },
    {
      "cell_type": "code",
      "metadata": {
        "id": "EfWLaQngPKwR",
        "colab_type": "code",
        "colab": {}
      },
      "source": [
        "!wget http://opendata.pref.toyama.jp/files/covid19/20200403/toyama_counts.csv -O $COUNTS_FILE"
      ],
      "execution_count": 0,
      "outputs": []
    },
    {
      "cell_type": "code",
      "metadata": {
        "id": "72uKQkwVPK-T",
        "colab_type": "code",
        "colab": {}
      },
      "source": [
        "!wget http://opendata.pref.toyama.jp/files/covid19/20200403/toyama_patients.csv -O $PATIENTS_FILE"
      ],
      "execution_count": 0,
      "outputs": []
    },
    {
      "cell_type": "markdown",
      "metadata": {
        "id": "RSjccWnP3Ffg",
        "colab_type": "text"
      },
      "source": [
        "# データラングリング"
      ]
    },
    {
      "cell_type": "code",
      "metadata": {
        "id": "1a0qF-E010MC",
        "colab_type": "code",
        "colab": {}
      },
      "source": [
        "import datetime\n",
        "import pandas as pd\n",
        "import json"
      ],
      "execution_count": 0,
      "outputs": []
    },
    {
      "cell_type": "code",
      "metadata": {
        "id": "coFWXzql_4gb",
        "colab_type": "code",
        "colab": {}
      },
      "source": [
        "def dumps_json(file_name, json_data):\n",
        "\n",
        "    with open(file_name, \"w\") as fw:\n",
        "        json.dump(json_data, fw, ensure_ascii=False, indent=2)"
      ],
      "execution_count": 0,
      "outputs": []
    },
    {
      "cell_type": "code",
      "metadata": {
        "id": "sx6eUgDp1weB",
        "colab_type": "code",
        "colab": {}
      },
      "source": [
        "JST = datetime.timezone(datetime.timedelta(hours=+9), \"JST\")\n",
        "\n",
        "# 現在の時刻\n",
        "dt_now = datetime.datetime.now(JST).strftime(\"%Y/%m/%d %H:%M\")"
      ],
      "execution_count": 0,
      "outputs": []
    },
    {
      "cell_type": "code",
      "metadata": {
        "id": "IioKBLpM1hag",
        "colab_type": "code",
        "colab": {}
      },
      "source": [
        "data = {\"lastUpdate\": dt_now}"
      ],
      "execution_count": 0,
      "outputs": []
    },
    {
      "cell_type": "markdown",
      "metadata": {
        "id": "RiE7fbh0doSy",
        "colab_type": "text"
      },
      "source": [
        "# 集計結果"
      ]
    },
    {
      "cell_type": "code",
      "metadata": {
        "id": "JEbvyocMy_2E",
        "colab_type": "code",
        "colab": {}
      },
      "source": [
        "# データ読み込み\n",
        "df = pd.read_csv(COUNTS_FILE, index_col= \"年月日\", parse_dates=True)"
      ],
      "execution_count": 0,
      "outputs": []
    },
    {
      "cell_type": "code",
      "metadata": {
        "id": "UDUXXSXuEzfP",
        "colab_type": "code",
        "colab": {}
      },
      "source": [
        "df.head(10)"
      ],
      "execution_count": 0,
      "outputs": []
    },
    {
      "cell_type": "code",
      "metadata": {
        "id": "EwwsE7Ur6zTb",
        "colab_type": "code",
        "colab": {}
      },
      "source": [
        "df[\"日付\"] = df.index.strftime(\"%Y-%m-%d\")"
      ],
      "execution_count": 0,
      "outputs": []
    },
    {
      "cell_type": "code",
      "metadata": {
        "id": "I-krzcZa0EqD",
        "colab_type": "code",
        "colab": {}
      },
      "source": [
        "# 検査実施人数\n",
        "df_insp = df.loc[:, (\"日付\", \"検査実施人数\")].copy()\n",
        "df_insp.rename(columns={\"検査実施人数\":\"小計\"}, inplace=True)\n",
        "\n",
        "data[\"inspection_persons\"] = {\"date\": dt_now, \"data\": df_insp.to_dict(orient=\"recodes\")}"
      ],
      "execution_count": 0,
      "outputs": []
    },
    {
      "cell_type": "code",
      "metadata": {
        "id": "D42cM8a93EcT",
        "colab_type": "code",
        "colab": {}
      },
      "source": [
        "# 陽性患者数 \n",
        "df_pats = df.loc[:, (\"日付\", \"陽性人数\")].copy()\n",
        "df_pats.rename(columns={\"陽性人数\":\"小計\"}, inplace=True)\n",
        "\n",
        "data[\"patients_summary\"] = {\"date\": dt_now, \"data\": df_pats.to_dict(orient=\"recodes\")}"
      ],
      "execution_count": 0,
      "outputs": []
    },
    {
      "cell_type": "code",
      "metadata": {
        "id": "k-3vonAx3EjJ",
        "colab_type": "code",
        "colab": {}
      },
      "source": [
        "# 一般相談件数\n",
        "df_contacts = df.loc[:, (\"日付\", \"一般相談件数\")].copy()\n",
        "df_contacts.rename(columns={\"一般相談件数\":\"小計\"}, inplace=True)\n",
        "\n",
        "data[\"contacts\"] = {\"date\": dt_now, \"data\": df_contacts.to_dict(orient=\"recodes\")}"
      ],
      "execution_count": 0,
      "outputs": []
    },
    {
      "cell_type": "code",
      "metadata": {
        "id": "VXmC5gpl4JSq",
        "colab_type": "code",
        "colab": {}
      },
      "source": [
        "# 帰国者・接触者相談件数\n",
        "df_querents = df.loc[:, (\"日付\", \"帰国者相談件数\")].copy()\n",
        "df_querents.rename(columns={\"帰国者相談件数\":\"小計\"}, inplace=True)\n",
        "\n",
        "data[\"querents\"] = {\"date\": dt_now, \"data\": df_querents.to_dict(orient=\"recodes\")}"
      ],
      "execution_count": 0,
      "outputs": []
    },
    {
      "cell_type": "markdown",
      "metadata": {
        "id": "KHKOk43XdhjS",
        "colab_type": "text"
      },
      "source": [
        "# 患者情報"
      ]
    },
    {
      "cell_type": "code",
      "metadata": {
        "id": "7lLijyU34JV8",
        "colab_type": "code",
        "colab": {}
      },
      "source": [
        "# 陽性患者の属性\n",
        "df_kanja = pd.read_csv(PATIENTS_FILE, index_col=\"No\", dtype={\"年代\": \"object\"})"
      ],
      "execution_count": 0,
      "outputs": []
    },
    {
      "cell_type": "code",
      "metadata": {
        "id": "zUSVE66C-WQO",
        "colab_type": "code",
        "colab": {}
      },
      "source": [
        "df_kanja.rename(columns={\"公表年月日\": \"date\"}, inplace=True)"
      ],
      "execution_count": 0,
      "outputs": []
    },
    {
      "cell_type": "code",
      "metadata": {
        "id": "uj4i50dG4gWn",
        "colab_type": "code",
        "colab": {}
      },
      "source": [
        "# 年代を数字に変換\n",
        "df_kanja[\"age\"] = df_kanja[\"年代\"].replace({\"10代未満\": \"0代\", \"90代以上\": \"90代\"})\n",
        "df_kanja[\"age\"] = df_kanja[\"age\"].str.rstrip(\"代\").astype(int)"
      ],
      "execution_count": 0,
      "outputs": []
    },
    {
      "cell_type": "code",
      "metadata": {
        "id": "YIhYOVtH3cQs",
        "colab_type": "code",
        "colab": {}
      },
      "source": [
        "df_patients = df_kanja.loc[:, (\"date\", \"居住地\", \"年代\", \"性別\")].copy()"
      ],
      "execution_count": 0,
      "outputs": []
    },
    {
      "cell_type": "code",
      "metadata": {
        "id": "AbhLZefI3X-k",
        "colab_type": "code",
        "colab": {}
      },
      "source": [
        "data[\"patients\"] = {\"date\": dt_now, \"data\": df_patients.to_dict(orient=\"recodes\")}"
      ],
      "execution_count": 0,
      "outputs": []
    },
    {
      "cell_type": "code",
      "metadata": {
        "id": "XAC174U5FqZ1",
        "colab_type": "code",
        "colab": {}
      },
      "source": [
        "s_stat = df_kanja[\"状態\"].value_counts().reindex([\"入院中\", \"退院\", \"死亡\"]).fillna(0).astype(int)"
      ],
      "execution_count": 0,
      "outputs": []
    },
    {
      "cell_type": "code",
      "metadata": {
        "id": "BCfHg1egGTm_",
        "colab_type": "code",
        "colab": {}
      },
      "source": [
        "if len(df_kanja) != s_stat.sum():\n",
        "    print(\"Warning:患者人数と状態の合計が違います\")"
      ],
      "execution_count": 0,
      "outputs": []
    },
    {
      "cell_type": "code",
      "metadata": {
        "id": "N7pCsSh7ZSm_",
        "colab_type": "code",
        "colab": {}
      },
      "source": [
        "# 状態が入院中以外の場合は症状を欠損値にする\n",
        "df_kanja[\"症状\"] = df_kanja[\"症状\"].where(df_kanja[\"状態\"] == \"入院中\")"
      ],
      "execution_count": 0,
      "outputs": []
    },
    {
      "cell_type": "code",
      "metadata": {
        "id": "puwxi416JaZ-",
        "colab_type": "code",
        "colab": {}
      },
      "source": [
        "s_symp = df_kanja[\"症状\"].value_counts().reindex([\"無症状\", \"軽症・中等症\", \"重症\"]).fillna(0).astype(int)"
      ],
      "execution_count": 0,
      "outputs": []
    },
    {
      "cell_type": "code",
      "metadata": {
        "id": "iep0_OH1cCmi",
        "colab_type": "code",
        "colab": {}
      },
      "source": [
        "if s_stat[\"入院中\"] != s_symp.sum():\n",
        "    print(\"Warning:入院中と症状の合計が違います\")"
      ],
      "execution_count": 0,
      "outputs": []
    },
    {
      "cell_type": "code",
      "metadata": {
        "id": "9CKQrajhzEEA",
        "colab_type": "code",
        "colab": {}
      },
      "source": [
        "main_sum = {\"陽性患者数\": len(df_kanja), \"検査実施人数\": int(df_insp[\"小計\"].sum())}\n",
        "main_sum.update(s_symp.to_dict())\n",
        "main_sum.update(s_stat.to_dict())"
      ],
      "execution_count": 0,
      "outputs": []
    },
    {
      "cell_type": "code",
      "metadata": {
        "id": "rl9iBFgozSD4",
        "colab_type": "code",
        "colab": {}
      },
      "source": [
        "data[\"main_summary\"] = {\n",
        "    \"attr\": \"検査実施人数\",\n",
        "    \"value\": main_sum[\"検査実施人数\"],\n",
        "    \"children\": [\n",
        "        {\n",
        "            \"attr\": \"陽性患者数\",\n",
        "            \"value\": main_sum[\"陽性患者数\"],\n",
        "            \"children\": [\n",
        "                {\n",
        "                    \"attr\": \"入院中\",\n",
        "                    \"value\": main_sum[\"入院中\"],\n",
        "                    \"children\": [\n",
        "                        {\"attr\": \"無症状\", \"value\": main_sum[\"無症状\"]},\n",
        "                        {\"attr\": \"軽症・中等症\", \"value\": main_sum[\"軽症・中等症\"]},\n",
        "                        {\"attr\": \"重症\", \"value\": main_sum[\"重症\"]},\n",
        "                    ],\n",
        "                },\n",
        "                {\"attr\": \"退院\", \"value\": main_sum[\"退院\"]},\n",
        "                {\"attr\": \"死亡\", \"value\": main_sum[\"死亡\"]},\n",
        "            ],\n",
        "        }\n",
        "    ],\n",
        "}"
      ],
      "execution_count": 0,
      "outputs": []
    },
    {
      "cell_type": "code",
      "metadata": {
        "id": "S8uftA_n8ulg",
        "colab_type": "code",
        "colab": {}
      },
      "source": [
        "print(data)"
      ],
      "execution_count": 0,
      "outputs": []
    },
    {
      "cell_type": "markdown",
      "metadata": {
        "id": "N_yHH2M3y_DM",
        "colab_type": "text"
      },
      "source": [
        "# JSON出力"
      ]
    },
    {
      "cell_type": "code",
      "metadata": {
        "id": "ZLuGBYYt2iWq",
        "colab_type": "code",
        "colab": {}
      },
      "source": [
        "dumps_json(\"data.json\", data)"
      ],
      "execution_count": 0,
      "outputs": []
    },
    {
      "cell_type": "markdown",
      "metadata": {
        "id": "y0XSrPB0KMGa",
        "colab_type": "text"
      },
      "source": [
        "# ダウンロード"
      ]
    },
    {
      "cell_type": "code",
      "metadata": {
        "id": "VVceZHdaKG3I",
        "colab_type": "code",
        "colab": {}
      },
      "source": [
        "from google.colab import files"
      ],
      "execution_count": 0,
      "outputs": []
    },
    {
      "cell_type": "code",
      "metadata": {
        "id": "pDhR2ZR8KZWZ",
        "colab_type": "code",
        "colab": {}
      },
      "source": [
        "files.download(\"data.json\")"
      ],
      "execution_count": 0,
      "outputs": []
    },
    {
      "cell_type": "markdown",
      "metadata": {
        "id": "zqyF4MgwTXcm",
        "colab_type": "text"
      },
      "source": [
        "# 可視化"
      ]
    },
    {
      "cell_type": "code",
      "metadata": {
        "id": "iF5rUyIfom_v",
        "colab_type": "code",
        "colab": {}
      },
      "source": [
        "!pip install japanize-matplotlib"
      ],
      "execution_count": 0,
      "outputs": []
    },
    {
      "cell_type": "code",
      "metadata": {
        "id": "QKPXfgiLSPhY",
        "colab_type": "code",
        "colab": {}
      },
      "source": [
        "import matplotlib.pyplot as plt\n",
        "import matplotlib.dates as mdates"
      ],
      "execution_count": 0,
      "outputs": []
    },
    {
      "cell_type": "code",
      "metadata": {
        "id": "S9v-aTDSos4E",
        "colab_type": "code",
        "colab": {}
      },
      "source": [
        "import japanize_matplotlib"
      ],
      "execution_count": 0,
      "outputs": []
    },
    {
      "cell_type": "markdown",
      "metadata": {
        "id": "J2_Mrt_kY5aG",
        "colab_type": "text"
      },
      "source": [
        "## 陽性者一覧"
      ]
    },
    {
      "cell_type": "code",
      "metadata": {
        "id": "xzebyAQDY29I",
        "colab_type": "code",
        "colab": {}
      },
      "source": [
        "df_kanja"
      ],
      "execution_count": 0,
      "outputs": []
    },
    {
      "cell_type": "markdown",
      "metadata": {
        "id": "FWBpuhX4Ye1Y",
        "colab_type": "text"
      },
      "source": [
        "## 陽性者概要"
      ]
    },
    {
      "cell_type": "code",
      "metadata": {
        "id": "LnrcOxjDWEye",
        "colab_type": "code",
        "colab": {}
      },
      "source": [
        "s_main = pd.Series(main_sum).loc[[\"検査実施人数\", \"陽性患者数\", \"入院中\", \"無症状\", \"軽症・中等症\", \"重症\", \"死亡\", \"退院\"]]\n",
        "s_main"
      ],
      "execution_count": 0,
      "outputs": []
    },
    {
      "cell_type": "code",
      "metadata": {
        "id": "JIiC7CntqKM1",
        "colab_type": "code",
        "colab": {}
      },
      "source": [
        "s_main.plot.barh()"
      ],
      "execution_count": 0,
      "outputs": []
    },
    {
      "cell_type": "markdown",
      "metadata": {
        "id": "_jClTX2ZUKUx",
        "colab_type": "text"
      },
      "source": [
        "## 陽性患者数"
      ]
    },
    {
      "cell_type": "code",
      "metadata": {
        "id": "rbCsaEW8TeGh",
        "colab_type": "code",
        "colab": {}
      },
      "source": [
        "fig, ax = plt.subplots()\n",
        "locator = mdates.AutoDateLocator()\n",
        "formatter = mdates.ConciseDateFormatter(locator)\n",
        "ax.xaxis.set_major_locator(locator)\n",
        "ax.xaxis.set_major_formatter(formatter)\n",
        "\n",
        "ax.bar(df.index, df[\"陽性人数\"])"
      ],
      "execution_count": 0,
      "outputs": []
    },
    {
      "cell_type": "code",
      "metadata": {
        "id": "wMx_5aWlV7Jm",
        "colab_type": "code",
        "colab": {}
      },
      "source": [
        "# 直近10件\n",
        "df[\"陽性人数\"].tail(10)"
      ],
      "execution_count": 0,
      "outputs": []
    },
    {
      "cell_type": "code",
      "metadata": {
        "id": "PbixyMAyV7Su",
        "colab_type": "code",
        "colab": {}
      },
      "source": [
        "# 直近累計10件\n",
        "df[\"陽性人数\"].cumsum().tail(10)"
      ],
      "execution_count": 0,
      "outputs": []
    },
    {
      "cell_type": "markdown",
      "metadata": {
        "id": "lH1ncirrTTmf",
        "colab_type": "text"
      },
      "source": [
        "## 検査実施人数"
      ]
    },
    {
      "cell_type": "code",
      "metadata": {
        "id": "gGs4gxHOSZXA",
        "colab_type": "code",
        "colab": {}
      },
      "source": [
        "fig, ax = plt.subplots()\n",
        "locator = mdates.AutoDateLocator()\n",
        "formatter = mdates.ConciseDateFormatter(locator)\n",
        "ax.xaxis.set_major_locator(locator)\n",
        "ax.xaxis.set_major_formatter(formatter)\n",
        "\n",
        "ax.bar(df.index, df[\"検査実施人数\"])"
      ],
      "execution_count": 0,
      "outputs": []
    },
    {
      "cell_type": "code",
      "metadata": {
        "id": "jgRh5ADuVyIA",
        "colab_type": "code",
        "colab": {}
      },
      "source": [
        "# 直近10件\n",
        "df[\"検査実施人数\"].tail(10)"
      ],
      "execution_count": 0,
      "outputs": []
    },
    {
      "cell_type": "code",
      "metadata": {
        "id": "wKVyzLtUVyLR",
        "colab_type": "code",
        "colab": {}
      },
      "source": [
        "# 直近累計10件\n",
        "df[\"検査実施人数\"].cumsum().tail(10)"
      ],
      "execution_count": 0,
      "outputs": []
    },
    {
      "cell_type": "markdown",
      "metadata": {
        "id": "5waAXEOQUTEu",
        "colab_type": "text"
      },
      "source": [
        "## 一般相談件数"
      ]
    },
    {
      "cell_type": "code",
      "metadata": {
        "id": "rqwrR0MUUR-H",
        "colab_type": "code",
        "colab": {}
      },
      "source": [
        "fig, ax = plt.subplots()\n",
        "locator = mdates.AutoDateLocator()\n",
        "formatter = mdates.ConciseDateFormatter(locator)\n",
        "ax.xaxis.set_major_locator(locator)\n",
        "ax.xaxis.set_major_formatter(formatter)\n",
        "\n",
        "ax.bar(df.index, df[\"一般相談件数\"])"
      ],
      "execution_count": 0,
      "outputs": []
    },
    {
      "cell_type": "code",
      "metadata": {
        "id": "shF7ruYNVqJ_",
        "colab_type": "code",
        "colab": {}
      },
      "source": [
        "# 直近10件\n",
        "df[\"一般相談件数\"].tail(10)"
      ],
      "execution_count": 0,
      "outputs": []
    },
    {
      "cell_type": "code",
      "metadata": {
        "id": "d-_dXuClVqNO",
        "colab_type": "code",
        "colab": {}
      },
      "source": [
        "# 直近累計10件\n",
        "df[\"一般相談件数\"].cumsum().tail(10)"
      ],
      "execution_count": 0,
      "outputs": []
    },
    {
      "cell_type": "markdown",
      "metadata": {
        "id": "zEEbdao_U0P_",
        "colab_type": "text"
      },
      "source": [
        "## 帰国者・接触者相談センター"
      ]
    },
    {
      "cell_type": "code",
      "metadata": {
        "id": "wCFumHbcU2vX",
        "colab_type": "code",
        "colab": {}
      },
      "source": [
        "fig, ax = plt.subplots()\n",
        "locator = mdates.AutoDateLocator()\n",
        "formatter = mdates.ConciseDateFormatter(locator)\n",
        "ax.xaxis.set_major_locator(locator)\n",
        "ax.xaxis.set_major_formatter(formatter)\n",
        "\n",
        "ax.bar(df.index, df[\"帰国者相談件数\"])"
      ],
      "execution_count": 0,
      "outputs": []
    },
    {
      "cell_type": "code",
      "metadata": {
        "id": "hjFLCwDGVPXX",
        "colab_type": "code",
        "colab": {}
      },
      "source": [
        "# 直近10件\n",
        "df[\"帰国者相談件数\"].tail(10)"
      ],
      "execution_count": 0,
      "outputs": []
    },
    {
      "cell_type": "code",
      "metadata": {
        "id": "lSWokmJZVd23",
        "colab_type": "code",
        "colab": {}
      },
      "source": [
        "# 直近累計10件\n",
        "df[\"帰国者相談件数\"].cumsum().tail(10)"
      ],
      "execution_count": 0,
      "outputs": []
    },
    {
      "cell_type": "markdown",
      "metadata": {
        "id": "le24TO_Hm12o",
        "colab_type": "text"
      },
      "source": [
        "## 年代別"
      ]
    },
    {
      "cell_type": "code",
      "metadata": {
        "id": "9DxQr4oCm5Yu",
        "colab_type": "code",
        "colab": {}
      },
      "source": [
        "s_age = df_kanja[\"age\"].value_counts().reindex([0, 10, 20, 30, 40, 50, 60, 70, 80, 90]).fillna(0).astype(int)"
      ],
      "execution_count": 0,
      "outputs": []
    },
    {
      "cell_type": "code",
      "metadata": {
        "id": "l-kAHKzFoGIl",
        "colab_type": "code",
        "colab": {}
      },
      "source": [
        "s_age.plot.barh()"
      ],
      "execution_count": 0,
      "outputs": []
    },
    {
      "cell_type": "markdown",
      "metadata": {
        "id": "i7LjFzePpdN-",
        "colab_type": "text"
      },
      "source": [
        "## 性別"
      ]
    },
    {
      "cell_type": "code",
      "metadata": {
        "id": "1kHGs1CwoUhW",
        "colab_type": "code",
        "colab": {}
      },
      "source": [
        "s_sex = df_kanja[\"性別\"].value_counts()"
      ],
      "execution_count": 0,
      "outputs": []
    },
    {
      "cell_type": "code",
      "metadata": {
        "id": "5rXOqIQcobt9",
        "colab_type": "code",
        "colab": {}
      },
      "source": [
        "s_sex.plot.barh()"
      ],
      "execution_count": 0,
      "outputs": []
    },
    {
      "cell_type": "markdown",
      "metadata": {
        "id": "cPcDpodDfJoA",
        "colab_type": "text"
      },
      "source": [
        "## 年齢別性別"
      ]
    },
    {
      "cell_type": "code",
      "metadata": {
        "id": "tzz4XC_jdWY-",
        "colab_type": "code",
        "colab": {}
      },
      "source": [
        "pv_age = pd.crosstab(df_kanja[\"age\"], df_kanja[\"性別\"]).reindex([0, 10, 20, 30, 40, 50, 60, 70, 80, 90]).fillna(0).astype(int)"
      ],
      "execution_count": 0,
      "outputs": []
    },
    {
      "cell_type": "code",
      "metadata": {
        "id": "OV9jil6pdygM",
        "colab_type": "code",
        "colab": {}
      },
      "source": [
        "pv_age.plot.barh(color=[\"#e41a1c\", \"#377eb8\"])"
      ],
      "execution_count": 0,
      "outputs": []
    },
    {
      "cell_type": "markdown",
      "metadata": {
        "id": "gBhlV_33rus3",
        "colab_type": "text"
      },
      "source": [
        "## 市町村別"
      ]
    },
    {
      "cell_type": "code",
      "metadata": {
        "id": "examuQ4prcVu",
        "colab_type": "code",
        "colab": {}
      },
      "source": [
        "df_kanja[\"居住地\"].value_counts().plot.barh()"
      ],
      "execution_count": 0,
      "outputs": []
    }
  ]
}
