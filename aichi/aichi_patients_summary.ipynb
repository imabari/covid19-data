{
  "nbformat": 4,
  "nbformat_minor": 0,
  "metadata": {
    "colab": {
      "name": "aichi_patients_summary.ipynb",
      "provenance": [],
      "collapsed_sections": [],
      "authorship_tag": "ABX9TyOM0s0b6ikQVL4l4hjF+O/8",
      "include_colab_link": true
    },
    "kernelspec": {
      "name": "python3",
      "display_name": "Python 3"
    }
  },
  "cells": [
    {
      "cell_type": "markdown",
      "metadata": {
        "id": "view-in-github",
        "colab_type": "text"
      },
      "source": [
        "<a href=\"https://colab.research.google.com/github/imabari/covid19-data/blob/master/aichi/aichi_patients_summary.ipynb\" target=\"_parent\"><img src=\"https://colab.research.google.com/assets/colab-badge.svg\" alt=\"Open In Colab\"/></a>"
      ]
    },
    {
      "cell_type": "code",
      "metadata": {
        "id": "B13eppg162QP",
        "colab_type": "code",
        "colab": {}
      },
      "source": [
        "import requests\n",
        "from bs4 import BeautifulSoup"
      ],
      "execution_count": 0,
      "outputs": []
    },
    {
      "cell_type": "code",
      "metadata": {
        "id": "3RhRawk77ky8",
        "colab_type": "code",
        "colab": {}
      },
      "source": [
        "from urllib.parse import urljoin"
      ],
      "execution_count": 0,
      "outputs": []
    },
    {
      "cell_type": "code",
      "metadata": {
        "id": "onXDGa1167o4",
        "colab_type": "code",
        "colab": {}
      },
      "source": [
        "import re"
      ],
      "execution_count": 0,
      "outputs": []
    },
    {
      "cell_type": "code",
      "metadata": {
        "id": "PWl5wxlz-_U8",
        "colab_type": "code",
        "colab": {}
      },
      "source": [
        "import datetime"
      ],
      "execution_count": 0,
      "outputs": []
    },
    {
      "cell_type": "code",
      "metadata": {
        "id": "s2ZKsu3C62Pp",
        "colab_type": "code",
        "colab": {}
      },
      "source": [
        "url = \"https://www.pref.aichi.jp/site/covid19-aichi/kansensya-kensa.html\"\n",
        "\n",
        "headers = {\n",
        "    \"User-Agent\": \"Mozilla/5.0 (Windows NT 10.0; WOW64; Trident/7.0; rv:11.0) like Gecko\",\n",
        "}"
      ],
      "execution_count": 0,
      "outputs": []
    },
    {
      "cell_type": "code",
      "metadata": {
        "id": "WmpV3LsA62O-",
        "colab_type": "code",
        "colab": {}
      },
      "source": [
        "r = requests.get(url, headers=headers)\n",
        "\n",
        "r.raise_for_status()\n",
        "\n",
        "soup = BeautifulSoup(r.content, \"html5lib\")"
      ],
      "execution_count": 0,
      "outputs": []
    },
    {
      "cell_type": "code",
      "metadata": {
        "id": "eTgKRiun66e4",
        "colab_type": "code",
        "colab": {}
      },
      "source": [
        "tag = soup.find(\"a\", text=re.compile(\"県内発生事例一覧.+Excelファイル\"))"
      ],
      "execution_count": 0,
      "outputs": []
    },
    {
      "cell_type": "code",
      "metadata": {
        "id": "2izjaefS62N8",
        "colab_type": "code",
        "colab": {}
      },
      "source": [
        "link = urljoin(url, tag.get(\"href\"))"
      ],
      "execution_count": 0,
      "outputs": []
    },
    {
      "cell_type": "code",
      "metadata": {
        "id": "WySL26PKBh36",
        "colab_type": "code",
        "colab": {}
      },
      "source": [
        "m = re.search(\"(\\d{1,2})月(\\d{1,2})日\", tag.get_text(strip=True))"
      ],
      "execution_count": 0,
      "outputs": []
    },
    {
      "cell_type": "code",
      "metadata": {
        "id": "ZH_zJbiECloh",
        "colab_type": "code",
        "colab": {}
      },
      "source": [
        "dt_now = datetime.datetime.now()"
      ],
      "execution_count": 0,
      "outputs": []
    },
    {
      "cell_type": "code",
      "metadata": {
        "id": "zI9nWi3AB29a",
        "colab_type": "code",
        "colab": {}
      },
      "source": [
        "month, day = map(int, m.groups())"
      ],
      "execution_count": 0,
      "outputs": []
    },
    {
      "cell_type": "code",
      "metadata": {
        "id": "0nzSTY-I2yLN",
        "colab_type": "code",
        "colab": {
          "base_uri": "https://localhost:8080/",
          "height": 35
        },
        "outputId": "2de35ef8-3b52-48dc-c789-825edf3aa244"
      },
      "source": [
        "tag.get_text(strip=True)"
      ],
      "execution_count": 12,
      "outputs": [
        {
          "output_type": "execute_result",
          "data": {
            "text/plain": [
              "'県内発生事例一覧(4月22日現在) [Excelファイル／34KB]'"
            ]
          },
          "metadata": {
            "tags": []
          },
          "execution_count": 12
        }
      ]
    },
    {
      "cell_type": "markdown",
      "metadata": {
        "id": "DBSyXKNw2xpZ",
        "colab_type": "text"
      },
      "source": [
        "※更新日は4月22日"
      ]
    },
    {
      "cell_type": "code",
      "metadata": {
        "id": "WbJbUCws-6xJ",
        "colab_type": "code",
        "colab": {
          "base_uri": "https://localhost:8080/",
          "height": 35
        },
        "outputId": "8d4f26d5-2572-42c1-cc88-fd64a507336f"
      },
      "source": [
        "dt_update = datetime.datetime(dt_now.year, month, day)\n",
        "dt_update"
      ],
      "execution_count": 13,
      "outputs": [
        {
          "output_type": "execute_result",
          "data": {
            "text/plain": [
              "datetime.datetime(2020, 4, 22, 0, 0)"
            ]
          },
          "metadata": {
            "tags": []
          },
          "execution_count": 13
        }
      ]
    },
    {
      "cell_type": "code",
      "metadata": {
        "id": "Us6FH4de7ugy",
        "colab_type": "code",
        "colab": {}
      },
      "source": [
        "import pandas as pd"
      ],
      "execution_count": 0,
      "outputs": []
    },
    {
      "cell_type": "code",
      "metadata": {
        "id": "cpcHhUlH_PES",
        "colab_type": "code",
        "colab": {}
      },
      "source": [
        "import json"
      ],
      "execution_count": 0,
      "outputs": []
    },
    {
      "cell_type": "code",
      "metadata": {
        "id": "96QPh5jk_EET",
        "colab_type": "code",
        "colab": {}
      },
      "source": [
        "data = {}"
      ],
      "execution_count": 0,
      "outputs": []
    },
    {
      "cell_type": "code",
      "metadata": {
        "id": "ZUIjvnAE7yKa",
        "colab_type": "code",
        "colab": {}
      },
      "source": [
        "df_kanja = pd.read_excel(link, index_col=\"No\", header=2, na_values=0)"
      ],
      "execution_count": 0,
      "outputs": []
    },
    {
      "cell_type": "code",
      "metadata": {
        "id": "EAV-KwOK8KZy",
        "colab_type": "code",
        "colab": {}
      },
      "source": [
        "df_kanja[\"発表日\"] = df_kanja[\"発表日\"].apply(lambda date: pd.to_datetime(date, unit=\"D\", origin=pd.Timestamp(\"1899/12/30\")))"
      ],
      "execution_count": 0,
      "outputs": []
    },
    {
      "cell_type": "code",
      "metadata": {
        "id": "d_dacn9BxhA7",
        "colab_type": "code",
        "colab": {
          "base_uri": "https://localhost:8080/",
          "height": 394
        },
        "outputId": "ca544cd0-73b2-489e-f08d-f20833fd9bac"
      },
      "source": [
        "df_kanja.tail(10)"
      ],
      "execution_count": 19,
      "outputs": [
        {
          "output_type": "execute_result",
          "data": {
            "text/html": [
              "<div>\n",
              "<style scoped>\n",
              "    .dataframe tbody tr th:only-of-type {\n",
              "        vertical-align: middle;\n",
              "    }\n",
              "\n",
              "    .dataframe tbody tr th {\n",
              "        vertical-align: top;\n",
              "    }\n",
              "\n",
              "    .dataframe thead th {\n",
              "        text-align: right;\n",
              "    }\n",
              "</style>\n",
              "<table border=\"1\" class=\"dataframe\">\n",
              "  <thead>\n",
              "    <tr style=\"text-align: right;\">\n",
              "      <th></th>\n",
              "      <th>発表日</th>\n",
              "      <th>年代・性別</th>\n",
              "      <th>国籍</th>\n",
              "      <th>住居地</th>\n",
              "      <th>接触状況</th>\n",
              "      <th>備考</th>\n",
              "    </tr>\n",
              "    <tr>\n",
              "      <th>No</th>\n",
              "      <th></th>\n",
              "      <th></th>\n",
              "      <th></th>\n",
              "      <th></th>\n",
              "      <th></th>\n",
              "      <th></th>\n",
              "    </tr>\n",
              "  </thead>\n",
              "  <tbody>\n",
              "    <tr>\n",
              "      <th>440</th>\n",
              "      <td>2020-04-22</td>\n",
              "      <td>90代男性</td>\n",
              "      <td>日本</td>\n",
              "      <td>知多市</td>\n",
              "      <td>No.390と接触</td>\n",
              "      <td>本県発表172</td>\n",
              "    </tr>\n",
              "    <tr>\n",
              "      <th>441</th>\n",
              "      <td>2020-04-22</td>\n",
              "      <td>50代女性</td>\n",
              "      <td>NaN</td>\n",
              "      <td>名古屋市</td>\n",
              "      <td>No.366と接触</td>\n",
              "      <td>名古屋市発表248</td>\n",
              "    </tr>\n",
              "    <tr>\n",
              "      <th>442</th>\n",
              "      <td>2020-04-22</td>\n",
              "      <td>40代男性</td>\n",
              "      <td>NaN</td>\n",
              "      <td>名古屋市</td>\n",
              "      <td>No.379,417と接触</td>\n",
              "      <td>名古屋市発表249</td>\n",
              "    </tr>\n",
              "    <tr>\n",
              "      <th>443</th>\n",
              "      <td>2020-04-22</td>\n",
              "      <td>40代女性</td>\n",
              "      <td>NaN</td>\n",
              "      <td>名古屋市</td>\n",
              "      <td>No.442と接触</td>\n",
              "      <td>名古屋市発表250</td>\n",
              "    </tr>\n",
              "    <tr>\n",
              "      <th>444</th>\n",
              "      <td>2020-04-22</td>\n",
              "      <td>10歳未満女性</td>\n",
              "      <td>NaN</td>\n",
              "      <td>名古屋市</td>\n",
              "      <td>No.442,443と接触</td>\n",
              "      <td>名古屋市発表251</td>\n",
              "    </tr>\n",
              "    <tr>\n",
              "      <th>445</th>\n",
              "      <td>2020-04-22</td>\n",
              "      <td>90代男性</td>\n",
              "      <td>NaN</td>\n",
              "      <td>名古屋市</td>\n",
              "      <td>No.410と接触</td>\n",
              "      <td>名古屋市発表252</td>\n",
              "    </tr>\n",
              "    <tr>\n",
              "      <th>446</th>\n",
              "      <td>2020-04-22</td>\n",
              "      <td>60代女性</td>\n",
              "      <td>NaN</td>\n",
              "      <td>名古屋市</td>\n",
              "      <td>No.445と接触</td>\n",
              "      <td>名古屋市発表253</td>\n",
              "    </tr>\n",
              "    <tr>\n",
              "      <th>447</th>\n",
              "      <td>2020-04-22</td>\n",
              "      <td>20代女性</td>\n",
              "      <td>NaN</td>\n",
              "      <td>名古屋市</td>\n",
              "      <td>No.417と接触</td>\n",
              "      <td>名古屋市発表254</td>\n",
              "    </tr>\n",
              "    <tr>\n",
              "      <th>448</th>\n",
              "      <td>2020-04-22</td>\n",
              "      <td>50代男性</td>\n",
              "      <td>NaN</td>\n",
              "      <td>名古屋市</td>\n",
              "      <td>NaN</td>\n",
              "      <td>名古屋市発表255</td>\n",
              "    </tr>\n",
              "    <tr>\n",
              "      <th>449</th>\n",
              "      <td>2020-04-22</td>\n",
              "      <td>20代男性</td>\n",
              "      <td>NaN</td>\n",
              "      <td>名古屋市</td>\n",
              "      <td>NaN</td>\n",
              "      <td>名古屋市発表256</td>\n",
              "    </tr>\n",
              "  </tbody>\n",
              "</table>\n",
              "</div>"
            ],
            "text/plain": [
              "           発表日    年代・性別   国籍   住居地           接触状況         備考\n",
              "No                                                          \n",
              "440 2020-04-22    90代男性   日本   知多市      No.390と接触    本県発表172\n",
              "441 2020-04-22    50代女性  NaN  名古屋市      No.366と接触  名古屋市発表248\n",
              "442 2020-04-22    40代男性  NaN  名古屋市  No.379,417と接触  名古屋市発表249\n",
              "443 2020-04-22    40代女性  NaN  名古屋市      No.442と接触  名古屋市発表250\n",
              "444 2020-04-22  10歳未満女性  NaN  名古屋市  No.442,443と接触  名古屋市発表251\n",
              "445 2020-04-22    90代男性  NaN  名古屋市      No.410と接触  名古屋市発表252\n",
              "446 2020-04-22    60代女性  NaN  名古屋市      No.445と接触  名古屋市発表253\n",
              "447 2020-04-22    20代女性  NaN  名古屋市      No.417と接触  名古屋市発表254\n",
              "448 2020-04-22    50代男性  NaN  名古屋市            NaN  名古屋市発表255\n",
              "449 2020-04-22    20代男性  NaN  名古屋市            NaN  名古屋市発表256"
            ]
          },
          "metadata": {
            "tags": []
          },
          "execution_count": 19
        }
      ]
    },
    {
      "cell_type": "markdown",
      "metadata": {
        "id": "WTqlleTG3QY5",
        "colab_type": "text"
      },
      "source": [
        "※末尾の日付も4月22日"
      ]
    },
    {
      "cell_type": "markdown",
      "metadata": {
        "id": "LiiPmT0z2pe2",
        "colab_type": "text"
      },
      "source": [
        "※同じ日付のため更新日を３日後の4月25日に変更（あとで削除）"
      ]
    },
    {
      "cell_type": "code",
      "metadata": {
        "id": "4fmyUEtN3Xc4",
        "colab_type": "code",
        "colab": {
          "base_uri": "https://localhost:8080/",
          "height": 35
        },
        "outputId": "3659fd69-89ca-432b-c023-cf6173a2273e"
      },
      "source": [
        "dt_update += datetime.timedelta(days=3)\n",
        "dt_update"
      ],
      "execution_count": 20,
      "outputs": [
        {
          "output_type": "execute_result",
          "data": {
            "text/plain": [
              "datetime.datetime(2020, 4, 25, 0, 0)"
            ]
          },
          "metadata": {
            "tags": []
          },
          "execution_count": 20
        }
      ]
    },
    {
      "cell_type": "code",
      "metadata": {
        "id": "f1qGhqi5DQS0",
        "colab_type": "code",
        "colab": {}
      },
      "source": [
        "sr = df_kanja[\"発表日\"].value_counts()"
      ],
      "execution_count": 0,
      "outputs": []
    },
    {
      "cell_type": "code",
      "metadata": {
        "id": "INOG9a8gxqOJ",
        "colab_type": "code",
        "colab": {
          "base_uri": "https://localhost:8080/",
          "height": 212
        },
        "outputId": "9f7b1d2f-4094-4a2d-e67d-1ec0ef9ad8bd"
      },
      "source": [
        "sr.sort_index().tail(10)"
      ],
      "execution_count": 22,
      "outputs": [
        {
          "output_type": "execute_result",
          "data": {
            "text/plain": [
              "2020-04-13     9\n",
              "2020-04-14    10\n",
              "2020-04-15    12\n",
              "2020-04-16    14\n",
              "2020-04-17    10\n",
              "2020-04-18    17\n",
              "2020-04-19    10\n",
              "2020-04-20     5\n",
              "2020-04-21    16\n",
              "2020-04-22    19\n",
              "Name: 発表日, dtype: int64"
            ]
          },
          "metadata": {
            "tags": []
          },
          "execution_count": 22
        }
      ]
    },
    {
      "cell_type": "markdown",
      "metadata": {
        "id": "V2KcZKH549q5",
        "colab_type": "text"
      },
      "source": [
        "※集計しても末尾は4月22日"
      ]
    },
    {
      "cell_type": "code",
      "metadata": {
        "id": "rO3SQ0z4IKBX",
        "colab_type": "code",
        "colab": {}
      },
      "source": [
        "# indexに更新日付が含まれるか確認、含まれない場合は更新日を0で追加\n",
        "if dt_update not in sr.index:\n",
        "    sr[dt_update] = 0"
      ],
      "execution_count": 0,
      "outputs": []
    },
    {
      "cell_type": "code",
      "metadata": {
        "id": "-Uszttj1Jvfb",
        "colab_type": "code",
        "colab": {}
      },
      "source": [
        "df_patients_sum = sr.sort_index().asfreq(\"D\", fill_value=0).reset_index()"
      ],
      "execution_count": 0,
      "outputs": []
    },
    {
      "cell_type": "code",
      "metadata": {
        "id": "NEA4J7h1_jeU",
        "colab_type": "code",
        "colab": {}
      },
      "source": [
        "df_patients_sum[\"日付\"] = df_patients_sum[\"index\"].dt.strftime(\"%Y-%m-%d\")"
      ],
      "execution_count": 0,
      "outputs": []
    },
    {
      "cell_type": "code",
      "metadata": {
        "id": "3fTnmx64__BK",
        "colab_type": "code",
        "colab": {}
      },
      "source": [
        "df_patients_sum.rename(columns={\"発表日\": \"小計\"}, inplace=True)\n",
        "df_patients_sum.drop(columns=[\"index\"], inplace=True)"
      ],
      "execution_count": 0,
      "outputs": []
    },
    {
      "cell_type": "code",
      "metadata": {
        "id": "Pj30X6BI9dQa",
        "colab_type": "code",
        "outputId": "cb965ade-e070-4538-ccc0-4d092fec6c4e",
        "colab": {
          "base_uri": "https://localhost:8080/",
          "height": 363
        }
      },
      "source": [
        "df_patients_sum.tail(10)"
      ],
      "execution_count": 27,
      "outputs": [
        {
          "output_type": "execute_result",
          "data": {
            "text/html": [
              "<div>\n",
              "<style scoped>\n",
              "    .dataframe tbody tr th:only-of-type {\n",
              "        vertical-align: middle;\n",
              "    }\n",
              "\n",
              "    .dataframe tbody tr th {\n",
              "        vertical-align: top;\n",
              "    }\n",
              "\n",
              "    .dataframe thead th {\n",
              "        text-align: right;\n",
              "    }\n",
              "</style>\n",
              "<table border=\"1\" class=\"dataframe\">\n",
              "  <thead>\n",
              "    <tr style=\"text-align: right;\">\n",
              "      <th></th>\n",
              "      <th>小計</th>\n",
              "      <th>日付</th>\n",
              "    </tr>\n",
              "  </thead>\n",
              "  <tbody>\n",
              "    <tr>\n",
              "      <th>81</th>\n",
              "      <td>14</td>\n",
              "      <td>2020-04-16</td>\n",
              "    </tr>\n",
              "    <tr>\n",
              "      <th>82</th>\n",
              "      <td>10</td>\n",
              "      <td>2020-04-17</td>\n",
              "    </tr>\n",
              "    <tr>\n",
              "      <th>83</th>\n",
              "      <td>17</td>\n",
              "      <td>2020-04-18</td>\n",
              "    </tr>\n",
              "    <tr>\n",
              "      <th>84</th>\n",
              "      <td>10</td>\n",
              "      <td>2020-04-19</td>\n",
              "    </tr>\n",
              "    <tr>\n",
              "      <th>85</th>\n",
              "      <td>5</td>\n",
              "      <td>2020-04-20</td>\n",
              "    </tr>\n",
              "    <tr>\n",
              "      <th>86</th>\n",
              "      <td>16</td>\n",
              "      <td>2020-04-21</td>\n",
              "    </tr>\n",
              "    <tr>\n",
              "      <th>87</th>\n",
              "      <td>19</td>\n",
              "      <td>2020-04-22</td>\n",
              "    </tr>\n",
              "    <tr>\n",
              "      <th>88</th>\n",
              "      <td>0</td>\n",
              "      <td>2020-04-23</td>\n",
              "    </tr>\n",
              "    <tr>\n",
              "      <th>89</th>\n",
              "      <td>0</td>\n",
              "      <td>2020-04-24</td>\n",
              "    </tr>\n",
              "    <tr>\n",
              "      <th>90</th>\n",
              "      <td>0</td>\n",
              "      <td>2020-04-25</td>\n",
              "    </tr>\n",
              "  </tbody>\n",
              "</table>\n",
              "</div>"
            ],
            "text/plain": [
              "    小計          日付\n",
              "81  14  2020-04-16\n",
              "82  10  2020-04-17\n",
              "83  17  2020-04-18\n",
              "84  10  2020-04-19\n",
              "85   5  2020-04-20\n",
              "86  16  2020-04-21\n",
              "87  19  2020-04-22\n",
              "88   0  2020-04-23\n",
              "89   0  2020-04-24\n",
              "90   0  2020-04-25"
            ]
          },
          "metadata": {
            "tags": []
          },
          "execution_count": 27
        }
      ]
    },
    {
      "cell_type": "markdown",
      "metadata": {
        "id": "PnZiEkap4PZJ",
        "colab_type": "text"
      },
      "source": [
        "※4月23日～4月25日は0で補完されます"
      ]
    },
    {
      "cell_type": "code",
      "metadata": {
        "id": "kA0Feg9g-48h",
        "colab_type": "code",
        "colab": {}
      },
      "source": [
        "data[\"patients_summary\"] = {\n",
        "    \"data\": df_patients_sum.to_dict(orient=\"records\"),\n",
        "    \"date\": dt_update.strftime(\"%Y/%m/%d\"),\n",
        "}"
      ],
      "execution_count": 0,
      "outputs": []
    },
    {
      "cell_type": "code",
      "metadata": {
        "id": "TevFFMDF_Jvi",
        "colab_type": "code",
        "colab": {}
      },
      "source": [
        "with open(\"data.json\", \"w\", encoding=\"utf-8\") as fw:\n",
        "    json.dump(data, fw, ensure_ascii=False, indent=4)"
      ],
      "execution_count": 0,
      "outputs": []
    }
  ]
}