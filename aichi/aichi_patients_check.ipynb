{
  "nbformat": 4,
  "nbformat_minor": 0,
  "metadata": {
    "colab": {
      "name": "aichi_patients_check.ipynb",
      "provenance": [],
      "collapsed_sections": [],
      "toc_visible": true,
      "authorship_tag": "ABX9TyPBVE8t+QHisaEis0tBnIUZ",
      "include_colab_link": true
    },
    "kernelspec": {
      "name": "python3",
      "display_name": "Python 3"
    }
  },
  "cells": [
    {
      "cell_type": "markdown",
      "metadata": {
        "id": "view-in-github",
        "colab_type": "text"
      },
      "source": [
        "<a href=\"https://colab.research.google.com/github/imabari/covid19-data/blob/master/aichi/aichi_patients_check.ipynb\" target=\"_parent\"><img src=\"https://colab.research.google.com/assets/colab-badge.svg\" alt=\"Open In Colab\"/></a>"
      ]
    },
    {
      "cell_type": "code",
      "metadata": {
        "colab": {
          "base_uri": "https://localhost:8080/"
        },
        "id": "tqVOP3xxsK2h",
        "outputId": "87aff94c-2cfd-4128-d1c8-bd4ec3ef0f92"
      },
      "source": [
        "!pip install tabula-py"
      ],
      "execution_count": 1,
      "outputs": [
        {
          "output_type": "stream",
          "text": [
            "Collecting tabula-py\n",
            "\u001b[?25l  Downloading https://files.pythonhosted.org/packages/cf/29/d6cb0d77ef46d84d35cffa09cf42c73b373aea664d28604eab6818f8a47c/tabula_py-2.2.0-py3-none-any.whl (11.7MB)\n",
            "\u001b[K     |████████████████████████████████| 11.7MB 8.7MB/s \n",
            "\u001b[?25hRequirement already satisfied: pandas>=0.25.3 in /usr/local/lib/python3.6/dist-packages (from tabula-py) (1.1.5)\n",
            "Collecting distro\n",
            "  Downloading https://files.pythonhosted.org/packages/25/b7/b3c4270a11414cb22c6352ebc7a83aaa3712043be29daa05018fd5a5c956/distro-1.5.0-py2.py3-none-any.whl\n",
            "Requirement already satisfied: numpy in /usr/local/lib/python3.6/dist-packages (from tabula-py) (1.19.5)\n",
            "Requirement already satisfied: pytz>=2017.2 in /usr/local/lib/python3.6/dist-packages (from pandas>=0.25.3->tabula-py) (2018.9)\n",
            "Requirement already satisfied: python-dateutil>=2.7.3 in /usr/local/lib/python3.6/dist-packages (from pandas>=0.25.3->tabula-py) (2.8.1)\n",
            "Requirement already satisfied: six>=1.5 in /usr/local/lib/python3.6/dist-packages (from python-dateutil>=2.7.3->pandas>=0.25.3->tabula-py) (1.15.0)\n",
            "Installing collected packages: distro, tabula-py\n",
            "Successfully installed distro-1.5.0 tabula-py-2.2.0\n"
          ],
          "name": "stdout"
        }
      ]
    },
    {
      "cell_type": "code",
      "metadata": {
        "colab": {
          "base_uri": "https://localhost:8080/"
        },
        "id": "RMGkh8wMOH6A",
        "outputId": "cd397cc2-bb50-4d14-d92d-b27ec935fc1e"
      },
      "source": [
        "!pip install japanize-matplotlib"
      ],
      "execution_count": 2,
      "outputs": [
        {
          "output_type": "stream",
          "text": [
            "Collecting japanize-matplotlib\n",
            "\u001b[?25l  Downloading https://files.pythonhosted.org/packages/aa/85/08a4b7fe8987582d99d9bb7ad0ff1ec75439359a7f9690a0dbf2dbf98b15/japanize-matplotlib-1.1.3.tar.gz (4.1MB)\n",
            "\u001b[K     |████████████████████████████████| 4.1MB 9.0MB/s \n",
            "\u001b[?25hRequirement already satisfied: matplotlib in /usr/local/lib/python3.6/dist-packages (from japanize-matplotlib) (3.2.2)\n",
            "Requirement already satisfied: cycler>=0.10 in /usr/local/lib/python3.6/dist-packages (from matplotlib->japanize-matplotlib) (0.10.0)\n",
            "Requirement already satisfied: numpy>=1.11 in /usr/local/lib/python3.6/dist-packages (from matplotlib->japanize-matplotlib) (1.19.5)\n",
            "Requirement already satisfied: python-dateutil>=2.1 in /usr/local/lib/python3.6/dist-packages (from matplotlib->japanize-matplotlib) (2.8.1)\n",
            "Requirement already satisfied: kiwisolver>=1.0.1 in /usr/local/lib/python3.6/dist-packages (from matplotlib->japanize-matplotlib) (1.3.1)\n",
            "Requirement already satisfied: pyparsing!=2.0.4,!=2.1.2,!=2.1.6,>=2.0.1 in /usr/local/lib/python3.6/dist-packages (from matplotlib->japanize-matplotlib) (2.4.7)\n",
            "Requirement already satisfied: six in /usr/local/lib/python3.6/dist-packages (from cycler>=0.10->matplotlib->japanize-matplotlib) (1.15.0)\n",
            "Building wheels for collected packages: japanize-matplotlib\n",
            "  Building wheel for japanize-matplotlib (setup.py) ... \u001b[?25l\u001b[?25hdone\n",
            "  Created wheel for japanize-matplotlib: filename=japanize_matplotlib-1.1.3-cp36-none-any.whl size=4120276 sha256=0090f1d54570ad51435994385161820465ba7fa61f237bac57256e270a7ca037\n",
            "  Stored in directory: /root/.cache/pip/wheels/b7/d9/a2/f907d50b32a2d2008ce5d691d30fb6569c2c93eefcfde55202\n",
            "Successfully built japanize-matplotlib\n",
            "Installing collected packages: japanize-matplotlib\n",
            "Successfully installed japanize-matplotlib-1.1.3\n"
          ],
          "name": "stdout"
        }
      ]
    },
    {
      "cell_type": "code",
      "metadata": {
        "id": "QoVgIaTm7OXq"
      },
      "source": [
        "import datetime\n",
        "import hashlib\n",
        "import pathlib\n",
        "import re\n",
        "from urllib.parse import urljoin"
      ],
      "execution_count": 3,
      "outputs": []
    },
    {
      "cell_type": "code",
      "metadata": {
        "id": "CUZoBpRY83up"
      },
      "source": [
        "from tabula import read_pdf\n",
        "import pandas as pd\n",
        "import requests\n",
        "from bs4 import BeautifulSoup"
      ],
      "execution_count": 4,
      "outputs": []
    },
    {
      "cell_type": "code",
      "metadata": {
        "id": "hVImjMBYOH6B"
      },
      "source": [
        "import matplotlib.pyplot as plt\n",
        "import matplotlib.dates as mdates\n",
        "import japanize_matplotlib"
      ],
      "execution_count": 5,
      "outputs": []
    },
    {
      "cell_type": "code",
      "metadata": {
        "id": "UwHtvqMpGuzS"
      },
      "source": [
        "from google.colab import files"
      ],
      "execution_count": 6,
      "outputs": []
    },
    {
      "cell_type": "code",
      "metadata": {
        "id": "WeGkqXyQY3Ec"
      },
      "source": [
        "aichi_cities = [\r\n",
        "    \"名古屋市\",\r\n",
        "    \"一宮市\",\r\n",
        "    \"瀬戸市\",\r\n",
        "    \"春日井市\",\r\n",
        "    \"犬山市\",\r\n",
        "    \"江南市\",\r\n",
        "    \"小牧市\",\r\n",
        "    \"稲沢市\",\r\n",
        "    \"尾張旭市\",\r\n",
        "    \"岩倉市\",\r\n",
        "    \"豊明市\",\r\n",
        "    \"日進市\",\r\n",
        "    \"清須市\",\r\n",
        "    \"北名古屋市\",\r\n",
        "    \"長久手市\",\r\n",
        "    \"東郷町\",\r\n",
        "    \"豊山町\",\r\n",
        "    \"大口町\",\r\n",
        "    \"扶桑町\",\r\n",
        "    \"津島市\",\r\n",
        "    \"愛西市\",\r\n",
        "    \"弥富市\",\r\n",
        "    \"あま市\",\r\n",
        "    \"大治町\",\r\n",
        "    \"蟹江町\",\r\n",
        "    \"飛島村\",\r\n",
        "    \"半田市\",\r\n",
        "    \"常滑市\",\r\n",
        "    \"東海市\",\r\n",
        "    \"大府市\",\r\n",
        "    \"知多市\",\r\n",
        "    \"阿久比町\",\r\n",
        "    \"東浦町\",\r\n",
        "    \"南知多町\",\r\n",
        "    \"美浜町\",\r\n",
        "    \"武豊町\",\r\n",
        "    \"岡崎市\",\r\n",
        "    \"碧南市\",\r\n",
        "    \"刈谷市\",\r\n",
        "    \"豊田市\",\r\n",
        "    \"安城市\",\r\n",
        "    \"西尾市\",\r\n",
        "    \"知立市\",\r\n",
        "    \"高浜市\",\r\n",
        "    \"みよし市\",\r\n",
        "    \"幸田町\",\r\n",
        "    \"豊橋市\",\r\n",
        "    \"豊川市\",\r\n",
        "    \"蒲郡市\",\r\n",
        "    \"新城市\",\r\n",
        "    \"田原市\",\r\n",
        "    \"設楽町\",\r\n",
        "    \"東栄町\",\r\n",
        "    \"豊根村\",\r\n",
        "]"
      ],
      "execution_count": 7,
      "outputs": []
    },
    {
      "cell_type": "code",
      "metadata": {
        "id": "675EHvaH4maf"
      },
      "source": [
        "ages_list = [\r\n",
        "    \"10歳未満\",\r\n",
        "    \"10代\",\r\n",
        "    \"20代\",\r\n",
        "    \"30代\",\r\n",
        "    \"40代\",\r\n",
        "    \"50代\",\r\n",
        "    \"60代\",\r\n",
        "    \"70代\",\r\n",
        "    \"80代\",\r\n",
        "    \"90代\",\r\n",
        "    \"100代\",\r\n",
        "]"
      ],
      "execution_count": 8,
      "outputs": []
    },
    {
      "cell_type": "code",
      "metadata": {
        "id": "OZlDHNRnALyS"
      },
      "source": [
        "def fetch_file(url, filename):\n",
        "\n",
        "    p = pathlib.Path(filename)\n",
        "    p.parent.mkdir(parents=True, exist_ok=True)\n",
        "\n",
        "    if not p.exists():\n",
        "\n",
        "        r = requests.get(url)\n",
        "        r.raise_for_status()\n",
        "\n",
        "        with p.open(mode=\"wb\") as fw:\n",
        "            fw.write(r.content)\n",
        "\n",
        "    return p"
      ],
      "execution_count": 9,
      "outputs": []
    },
    {
      "cell_type": "code",
      "metadata": {
        "id": "hMyFDuFxDwg_"
      },
      "source": [
        "def days2date(s):\n",
        "\n",
        "    y = 2021 if s.name > 16576 else 2020\n",
        "\n",
        "    days = re.findall(\"[0-9]{1,2}\", s[\"発表日\"])\n",
        "\n",
        "    if len(days) == 2:\n",
        "        m, d = map(int, days)\n",
        "        return pd.Timestamp(year=y, month=m, day=d)\n",
        "    else:\n",
        "        return pd.NaT"
      ],
      "execution_count": 10,
      "outputs": []
    },
    {
      "cell_type": "markdown",
      "metadata": {
        "id": "0-6RNOg4JHdx"
      },
      "source": [
        "# スクレイピング"
      ]
    },
    {
      "cell_type": "code",
      "metadata": {
        "id": "C1xCCln37OXq"
      },
      "source": [
        "url = \"https://www.pref.aichi.jp/site/covid19-aichi/\"\n",
        "\n",
        "headers = {\n",
        "    \"User-Agent\": \"Mozilla/5.0 (Windows NT 10.0; WOW64; Trident/7.0; rv:11.0) like Gecko\"\n",
        "}"
      ],
      "execution_count": 11,
      "outputs": []
    },
    {
      "cell_type": "code",
      "metadata": {
        "id": "RCjy-vnJ7KQF"
      },
      "source": [
        "JST = datetime.timezone(datetime.timedelta(hours=+9), \"JST\")\n",
        "dt_now = datetime.datetime.now(JST).replace()"
      ],
      "execution_count": 12,
      "outputs": []
    },
    {
      "cell_type": "code",
      "metadata": {
        "id": "DY9l5mrq7OXq"
      },
      "source": [
        "r = requests.get(url, headers=headers)\n",
        "r.raise_for_status()\n",
        "\n",
        "soup = BeautifulSoup(r.content, \"html.parser\")"
      ],
      "execution_count": 13,
      "outputs": []
    },
    {
      "cell_type": "markdown",
      "metadata": {
        "id": "-jSHlITO2Qd8"
      },
      "source": [
        "# ファイルチェック"
      ]
    },
    {
      "cell_type": "code",
      "metadata": {
        "id": "y0n0XS8RPSeL"
      },
      "source": [
        "def pdf2df(url, fn):\r\n",
        "\r\n",
        "    fp_pdf = fetch_file(url, fn)\r\n",
        "    fp_pkl = fp_pdf.with_suffix(\".plk\")\r\n",
        "    fp_sha = fp_pdf.with_suffix(\".sha256\")\r\n",
        "\r\n",
        "    hash = \"\"\r\n",
        "    filename = \"\"\r\n",
        "\r\n",
        "    if fp_pkl.exists():\r\n",
        "\r\n",
        "        hash, filename = fp_sha.read_text().split()\r\n",
        "\r\n",
        "    checksum = hashlib.sha256(fp_pdf.read_bytes()).hexdigest()\r\n",
        "\r\n",
        "    print(checksum)\r\n",
        "\r\n",
        "    if (hash != checksum) or (not fp_pkl.exists()) or (fn != filename):\r\n",
        "\r\n",
        "        df = pd.concat(read_pdf(fp_pdf, pages=\"all\", lattice=True))\r\n",
        "\r\n",
        "        df.to_pickle(fp_pkl)\r\n",
        "        fp_sha.write_text(f\"{checksum} {fn}\")\r\n",
        "\r\n",
        "    else:\r\n",
        "        df = pd.read_pickle(fp_pkl)\r\n",
        "\r\n",
        "    return df"
      ],
      "execution_count": 14,
      "outputs": []
    },
    {
      "cell_type": "code",
      "metadata": {
        "id": "kNmn3exZREkT"
      },
      "source": [
        "tags = soup.find(\"span\", text=\"▶ 愛知県内の発生事例\").parent.find_all(\"a\", href=re.compile(\".pdf$\"))\r\n",
        "links = [urljoin(url, i.get(\"href\")) for i in tags[::-1]]"
      ],
      "execution_count": 15,
      "outputs": []
    },
    {
      "cell_type": "code",
      "metadata": {
        "colab": {
          "base_uri": "https://localhost:8080/"
        },
        "id": "8CHfc0SpO7Ws",
        "outputId": "0fc12362-9f90-47d2-e117-b722966ddddb"
      },
      "source": [
        "df1 = pdf2df(links[0], \"source1.pdf\")"
      ],
      "execution_count": 67,
      "outputs": [
        {
          "output_type": "stream",
          "text": [
            "832e1bbf2fb9b9d7e9bee66c81ee39402569434009bee25c959c020716c98b83\n"
          ],
          "name": "stdout"
        }
      ]
    },
    {
      "cell_type": "code",
      "metadata": {
        "colab": {
          "base_uri": "https://localhost:8080/"
        },
        "id": "qS1E5YJbzOcS",
        "outputId": "94e497fc-f83a-4adb-e498-854830ca2932"
      },
      "source": [
        "df2 = pdf2df(links[1], \"source2.pdf\")"
      ],
      "execution_count": 68,
      "outputs": [
        {
          "output_type": "stream",
          "text": [
            "ac6b716d534148fb5e98c3c73d97932b728ee71083d56335f976a7e0ca040812\n"
          ],
          "name": "stdout"
        }
      ]
    },
    {
      "cell_type": "code",
      "metadata": {
        "id": "crg19vLH9iI-"
      },
      "source": [
        "df = pd.concat([df1, df2]).set_index(\"No\")"
      ],
      "execution_count": 18,
      "outputs": []
    },
    {
      "cell_type": "markdown",
      "metadata": {
        "id": "Pul1GDeFF6Qz"
      },
      "source": [
        "# 前処理"
      ]
    },
    {
      "cell_type": "code",
      "metadata": {
        "id": "i0y2DbPdG6dO"
      },
      "source": [
        "# 発表日が欠損を削除\r\n",
        "df.dropna(subset=[\"発表日\"], inplace=True)"
      ],
      "execution_count": 19,
      "outputs": []
    },
    {
      "cell_type": "code",
      "metadata": {
        "id": "Sw-z5s25yNoY"
      },
      "source": [
        "# Noでソート\r\n",
        "df.index = df.index.astype(int)\r\n",
        "df.sort_index(inplace=True)"
      ],
      "execution_count": 20,
      "outputs": []
    },
    {
      "cell_type": "code",
      "metadata": {
        "id": "RmdZegcjV3Gp"
      },
      "source": [
        "# 発表日をdatetimeに変換\r\n",
        "number_date = df.apply(days2date, axis=1)"
      ],
      "execution_count": 21,
      "outputs": []
    },
    {
      "cell_type": "code",
      "metadata": {
        "id": "CrVNGzgo5kZT"
      },
      "source": [
        "df_date = df[\"発表日\"].str.extract(\"(\\d{1,2})月(\\d{1,2})日\").rename(columns={0: \"month\", 1: \"day\"}).astype(int)\r\n",
        "ser = df_date[\"month\"] - df_date[\"month\"].shift(1, fill_value=0)"
      ],
      "execution_count": 22,
      "outputs": []
    },
    {
      "cell_type": "code",
      "metadata": {
        "id": "RIYbLCpN5Uua"
      },
      "source": [
        "# 12から1に変わるとカウント\r\n",
        "df_date[\"year\"] = 2020 + (ser == -11).cumsum()\r\n",
        "\r\n",
        "df[\"発表日\"] = pd.to_datetime(df_date)"
      ],
      "execution_count": 23,
      "outputs": []
    },
    {
      "cell_type": "code",
      "metadata": {
        "id": "-dOIq9ECDB0q",
        "colab": {
          "base_uri": "https://localhost:8080/",
          "height": 81
        },
        "outputId": "0fe2a659-8e8a-4ba5-9bcc-6fb834c2ad8f"
      },
      "source": [
        "# Noと違う日付をチェック\r\n",
        "df[df[\"発表日\"] != number_date]"
      ],
      "execution_count": 24,
      "outputs": [
        {
          "output_type": "execute_result",
          "data": {
            "text/html": [
              "<div>\n",
              "<style scoped>\n",
              "    .dataframe tbody tr th:only-of-type {\n",
              "        vertical-align: middle;\n",
              "    }\n",
              "\n",
              "    .dataframe tbody tr th {\n",
              "        vertical-align: top;\n",
              "    }\n",
              "\n",
              "    .dataframe thead th {\n",
              "        text-align: right;\n",
              "    }\n",
              "</style>\n",
              "<table border=\"1\" class=\"dataframe\">\n",
              "  <thead>\n",
              "    <tr style=\"text-align: right;\">\n",
              "      <th></th>\n",
              "      <th>発表日</th>\n",
              "      <th>年代・性別</th>\n",
              "      <th>国籍</th>\n",
              "      <th>住居地</th>\n",
              "      <th>接触状況</th>\n",
              "      <th>備考</th>\n",
              "    </tr>\n",
              "    <tr>\n",
              "      <th>No</th>\n",
              "      <th></th>\n",
              "      <th></th>\n",
              "      <th></th>\n",
              "      <th></th>\n",
              "      <th></th>\n",
              "      <th></th>\n",
              "    </tr>\n",
              "  </thead>\n",
              "  <tbody>\n",
              "  </tbody>\n",
              "</table>\n",
              "</div>"
            ],
            "text/plain": [
              "Empty DataFrame\n",
              "Columns: [発表日, 年代・性別, 国籍, 住居地, 接触状況, 備考]\n",
              "Index: []"
            ]
          },
          "metadata": {
            "tags": []
          },
          "execution_count": 24
        }
      ]
    },
    {
      "cell_type": "code",
      "metadata": {
        "id": "iXPQFxjlA-EH",
        "colab": {
          "base_uri": "https://localhost:8080/",
          "height": 81
        },
        "outputId": "2c443b91-676c-45f5-a633-474e40c193b9"
      },
      "source": [
        "# 未来の日付チェック\r\n",
        "df[df[\"発表日\"] > dt_now.replace(tzinfo=None)]"
      ],
      "execution_count": 25,
      "outputs": [
        {
          "output_type": "execute_result",
          "data": {
            "text/html": [
              "<div>\n",
              "<style scoped>\n",
              "    .dataframe tbody tr th:only-of-type {\n",
              "        vertical-align: middle;\n",
              "    }\n",
              "\n",
              "    .dataframe tbody tr th {\n",
              "        vertical-align: top;\n",
              "    }\n",
              "\n",
              "    .dataframe thead th {\n",
              "        text-align: right;\n",
              "    }\n",
              "</style>\n",
              "<table border=\"1\" class=\"dataframe\">\n",
              "  <thead>\n",
              "    <tr style=\"text-align: right;\">\n",
              "      <th></th>\n",
              "      <th>発表日</th>\n",
              "      <th>年代・性別</th>\n",
              "      <th>国籍</th>\n",
              "      <th>住居地</th>\n",
              "      <th>接触状況</th>\n",
              "      <th>備考</th>\n",
              "    </tr>\n",
              "    <tr>\n",
              "      <th>No</th>\n",
              "      <th></th>\n",
              "      <th></th>\n",
              "      <th></th>\n",
              "      <th></th>\n",
              "      <th></th>\n",
              "      <th></th>\n",
              "    </tr>\n",
              "  </thead>\n",
              "  <tbody>\n",
              "  </tbody>\n",
              "</table>\n",
              "</div>"
            ],
            "text/plain": [
              "Empty DataFrame\n",
              "Columns: [発表日, 年代・性別, 国籍, 住居地, 接触状況, 備考]\n",
              "Index: []"
            ]
          },
          "metadata": {
            "tags": []
          },
          "execution_count": 25
        }
      ]
    },
    {
      "cell_type": "code",
      "metadata": {
        "id": "U1MbdTftGeyh"
      },
      "source": [
        "cjk = str.maketrans(\"⻲⻑黑戶⻯⻄⻘⻤\", \"亀長黒戸竜西青鬼\")"
      ],
      "execution_count": 26,
      "outputs": []
    },
    {
      "cell_type": "code",
      "metadata": {
        "id": "ANzpyFxPGPVB"
      },
      "source": [
        "# 文字コード正規化\r\n",
        "df[\"住居地\"] = df[\"住居地\"].fillna(\"\").str.normalize(\"NFKC\")\r\n",
        "df[\"住居地\"] = df[\"住居地\"].apply(lambda s: s.translate(cjk))\r\n",
        "\r\n",
        "df[\"年代・性別\"] = df[\"年代・性別\"].str.normalize(\"NFKC\").str.replace(\" \", \"\")"
      ],
      "execution_count": 27,
      "outputs": []
    },
    {
      "cell_type": "code",
      "metadata": {
        "id": "vnnD9IfhHcm3"
      },
      "source": [
        "# 年代と性別を分割\r\n",
        "df_ages = df[\"年代・性別\"].str.extract(\"(.+)(男性|女性|その他)\").rename(columns={0: \"年代\", 1: \"性別\"})\r\n",
        "df = df.join(df_ages)"
      ],
      "execution_count": 28,
      "outputs": []
    },
    {
      "cell_type": "code",
      "metadata": {
        "id": "i8lFEjoLJV-n"
      },
      "source": [
        "# 前後の空白削除\r\n",
        "df[\"年代\"] = df[\"年代\"].str.strip()"
      ],
      "execution_count": 29,
      "outputs": []
    },
    {
      "cell_type": "code",
      "metadata": {
        "id": "YKDA_3plPeeH"
      },
      "source": [
        "df.to_csv(\"aichi.csv\", encoding=\"utf_8_sig\")\r\n",
        "# files.download(\"aichi.csv\")"
      ],
      "execution_count": 30,
      "outputs": []
    },
    {
      "cell_type": "markdown",
      "metadata": {
        "id": "1aL6uRg6yAyU"
      },
      "source": [
        "# 抽出"
      ]
    },
    {
      "cell_type": "code",
      "metadata": {
        "id": "E2pllNCeytJg"
      },
      "source": [
        "flag = (\r\n",
        "    (df[\"接触状況\"].str.contains(\"再感染\"))\r\n",
        "    | (df[\"住居地\"] == \"中国武漢市\")\r\n",
        "    | df.index.isin((1095, 1610, 2085, 2536, 8896, 12906))\r\n",
        ")"
      ],
      "execution_count": 31,
      "outputs": []
    },
    {
      "cell_type": "code",
      "metadata": {
        "id": "EVPRcf_Kyx1U",
        "colab": {
          "base_uri": "https://localhost:8080/"
        },
        "outputId": "50c0069e-f75e-4b69-8c10-f6bd34a40d40"
      },
      "source": [
        "flag.sum()"
      ],
      "execution_count": 32,
      "outputs": [
        {
          "output_type": "execute_result",
          "data": {
            "text/plain": [
              "30"
            ]
          },
          "metadata": {
            "tags": []
          },
          "execution_count": 32
        }
      ]
    },
    {
      "cell_type": "code",
      "metadata": {
        "id": "-S89xysf0fpG",
        "colab": {
          "base_uri": "https://localhost:8080/",
          "height": 1000
        },
        "outputId": "47df48a8-d59e-4eb1-d3b9-0416a656e01a"
      },
      "source": [
        "df[flag]"
      ],
      "execution_count": 33,
      "outputs": [
        {
          "output_type": "execute_result",
          "data": {
            "text/html": [
              "<div>\n",
              "<style scoped>\n",
              "    .dataframe tbody tr th:only-of-type {\n",
              "        vertical-align: middle;\n",
              "    }\n",
              "\n",
              "    .dataframe tbody tr th {\n",
              "        vertical-align: top;\n",
              "    }\n",
              "\n",
              "    .dataframe thead th {\n",
              "        text-align: right;\n",
              "    }\n",
              "</style>\n",
              "<table border=\"1\" class=\"dataframe\">\n",
              "  <thead>\n",
              "    <tr style=\"text-align: right;\">\n",
              "      <th></th>\n",
              "      <th>発表日</th>\n",
              "      <th>年代・性別</th>\n",
              "      <th>国籍</th>\n",
              "      <th>住居地</th>\n",
              "      <th>接触状況</th>\n",
              "      <th>備考</th>\n",
              "      <th>年代</th>\n",
              "      <th>性別</th>\n",
              "    </tr>\n",
              "    <tr>\n",
              "      <th>No</th>\n",
              "      <th></th>\n",
              "      <th></th>\n",
              "      <th></th>\n",
              "      <th></th>\n",
              "      <th></th>\n",
              "      <th></th>\n",
              "      <th></th>\n",
              "      <th></th>\n",
              "    </tr>\n",
              "  </thead>\n",
              "  <tbody>\n",
              "    <tr>\n",
              "      <th>1</th>\n",
              "      <td>2020-01-26</td>\n",
              "      <td>40代男性</td>\n",
              "      <td>中国</td>\n",
              "      <td>中国武漢市</td>\n",
              "      <td>中国</td>\n",
              "      <td>本県発表1</td>\n",
              "      <td>40代</td>\n",
              "      <td>男性</td>\n",
              "    </tr>\n",
              "    <tr>\n",
              "      <th>2</th>\n",
              "      <td>2020-01-28</td>\n",
              "      <td>40代男性</td>\n",
              "      <td>中国</td>\n",
              "      <td>中国武漢市</td>\n",
              "      <td>中国</td>\n",
              "      <td>本県発表2</td>\n",
              "      <td>40代</td>\n",
              "      <td>男性</td>\n",
              "    </tr>\n",
              "    <tr>\n",
              "      <th>190</th>\n",
              "      <td>2020-04-02</td>\n",
              "      <td>40代女性</td>\n",
              "      <td>日本</td>\n",
              "      <td>名古屋市</td>\n",
              "      <td>再感染(No.54)</td>\n",
              "      <td>名古屋市発表127</td>\n",
              "      <td>40代</td>\n",
              "      <td>女性</td>\n",
              "    </tr>\n",
              "    <tr>\n",
              "      <th>356</th>\n",
              "      <td>2020-04-15</td>\n",
              "      <td>20代女性</td>\n",
              "      <td>NaN</td>\n",
              "      <td>名古屋市</td>\n",
              "      <td>再感染(No.35)</td>\n",
              "      <td>名古屋市発表204</td>\n",
              "      <td>20代</td>\n",
              "      <td>女性</td>\n",
              "    </tr>\n",
              "    <tr>\n",
              "      <th>391</th>\n",
              "      <td>2020-04-18</td>\n",
              "      <td>90代女性</td>\n",
              "      <td>NaN</td>\n",
              "      <td>名古屋市</td>\n",
              "      <td>再感染(No.85)</td>\n",
              "      <td>名古屋市発表224</td>\n",
              "      <td>90代</td>\n",
              "      <td>女性</td>\n",
              "    </tr>\n",
              "    <tr>\n",
              "      <th>392</th>\n",
              "      <td>2020-04-18</td>\n",
              "      <td>60代男性</td>\n",
              "      <td>NaN</td>\n",
              "      <td>名古屋市</td>\n",
              "      <td>再感染(No.154)</td>\n",
              "      <td>名古屋市発表225</td>\n",
              "      <td>60代</td>\n",
              "      <td>男性</td>\n",
              "    </tr>\n",
              "    <tr>\n",
              "      <th>491</th>\n",
              "      <td>2020-05-03</td>\n",
              "      <td>60代女性</td>\n",
              "      <td>日本</td>\n",
              "      <td>知多市</td>\n",
              "      <td>再感染(No.353)</td>\n",
              "      <td>本県発表197</td>\n",
              "      <td>60代</td>\n",
              "      <td>女性</td>\n",
              "    </tr>\n",
              "    <tr>\n",
              "      <th>506</th>\n",
              "      <td>2020-05-14</td>\n",
              "      <td>30代女性</td>\n",
              "      <td>NaN</td>\n",
              "      <td>名古屋市</td>\n",
              "      <td>再感染(No.355)</td>\n",
              "      <td>名古屋市発表277</td>\n",
              "      <td>30代</td>\n",
              "      <td>女性</td>\n",
              "    </tr>\n",
              "    <tr>\n",
              "      <th>520</th>\n",
              "      <td>2020-06-15</td>\n",
              "      <td>70代男性</td>\n",
              "      <td>NaN</td>\n",
              "      <td>名古屋市</td>\n",
              "      <td>再感染(No.500)</td>\n",
              "      <td>名古屋市発表283</td>\n",
              "      <td>70代</td>\n",
              "      <td>男性</td>\n",
              "    </tr>\n",
              "    <tr>\n",
              "      <th>1095</th>\n",
              "      <td>2020-07-26</td>\n",
              "      <td>30代女性</td>\n",
              "      <td>NaN</td>\n",
              "      <td>名古屋市</td>\n",
              "      <td>No.762と接触</td>\n",
              "      <td>名古屋市発表621</td>\n",
              "      <td>30代</td>\n",
              "      <td>女性</td>\n",
              "    </tr>\n",
              "    <tr>\n",
              "      <th>1610</th>\n",
              "      <td>2020-07-30</td>\n",
              "      <td>20代男性</td>\n",
              "      <td>NaN</td>\n",
              "      <td>名古屋市</td>\n",
              "      <td>No.994と接触</td>\n",
              "      <td>名古屋市発表925</td>\n",
              "      <td>20代</td>\n",
              "      <td>男性</td>\n",
              "    </tr>\n",
              "    <tr>\n",
              "      <th>2085</th>\n",
              "      <td>2020-08-02</td>\n",
              "      <td>40代女性</td>\n",
              "      <td>NaN</td>\n",
              "      <td>名古屋市</td>\n",
              "      <td>NaN</td>\n",
              "      <td>名古屋市発表1180</td>\n",
              "      <td>40代</td>\n",
              "      <td>女性</td>\n",
              "    </tr>\n",
              "    <tr>\n",
              "      <th>2536</th>\n",
              "      <td>2020-08-05</td>\n",
              "      <td>20代女性</td>\n",
              "      <td>NaN</td>\n",
              "      <td>名古屋市</td>\n",
              "      <td>NaN</td>\n",
              "      <td>名古屋市発表1435</td>\n",
              "      <td>20代</td>\n",
              "      <td>女性</td>\n",
              "    </tr>\n",
              "    <tr>\n",
              "      <th>4377</th>\n",
              "      <td>2020-08-28</td>\n",
              "      <td>20代男性</td>\n",
              "      <td>NaN</td>\n",
              "      <td>春日井市</td>\n",
              "      <td>再感染(No.1642)</td>\n",
              "      <td>本県発表1613</td>\n",
              "      <td>20代</td>\n",
              "      <td>男性</td>\n",
              "    </tr>\n",
              "    <tr>\n",
              "      <th>4586</th>\n",
              "      <td>2020-09-02</td>\n",
              "      <td>30代男性</td>\n",
              "      <td>NaN</td>\n",
              "      <td>知立市</td>\n",
              "      <td>No.4466と接触、再感染(No.1203)</td>\n",
              "      <td>本県発表1700</td>\n",
              "      <td>30代</td>\n",
              "      <td>男性</td>\n",
              "    </tr>\n",
              "    <tr>\n",
              "      <th>4739</th>\n",
              "      <td>2020-09-08</td>\n",
              "      <td>40代女性</td>\n",
              "      <td>NaN</td>\n",
              "      <td>安城市</td>\n",
              "      <td>再感染(No.1484)</td>\n",
              "      <td>本県発表1758</td>\n",
              "      <td>40代</td>\n",
              "      <td>女性</td>\n",
              "    </tr>\n",
              "    <tr>\n",
              "      <th>8896</th>\n",
              "      <td>2020-11-23</td>\n",
              "      <td>60代男性</td>\n",
              "      <td>NaN</td>\n",
              "      <td>名古屋市</td>\n",
              "      <td>NaN</td>\n",
              "      <td>名古屋市発表4685</td>\n",
              "      <td>60代</td>\n",
              "      <td>男性</td>\n",
              "    </tr>\n",
              "    <tr>\n",
              "      <th>11475</th>\n",
              "      <td>2020-12-08</td>\n",
              "      <td>50代男性</td>\n",
              "      <td>NaN</td>\n",
              "      <td>長久手市</td>\n",
              "      <td>再感染(No.4877)</td>\n",
              "      <td>本県発表4333</td>\n",
              "      <td>50代</td>\n",
              "      <td>男性</td>\n",
              "    </tr>\n",
              "    <tr>\n",
              "      <th>12906</th>\n",
              "      <td>2020-12-15</td>\n",
              "      <td>20代女性</td>\n",
              "      <td>NaN</td>\n",
              "      <td>津島市</td>\n",
              "      <td>NaN</td>\n",
              "      <td>本県発表5005</td>\n",
              "      <td>20代</td>\n",
              "      <td>女性</td>\n",
              "    </tr>\n",
              "    <tr>\n",
              "      <th>13085</th>\n",
              "      <td>2020-12-16</td>\n",
              "      <td>10代女性</td>\n",
              "      <td>NaN</td>\n",
              "      <td>小牧市</td>\n",
              "      <td>再感染(No.6653)</td>\n",
              "      <td>本県発表5069</td>\n",
              "      <td>10代</td>\n",
              "      <td>女性</td>\n",
              "    </tr>\n",
              "    <tr>\n",
              "      <th>13525</th>\n",
              "      <td>2020-12-17</td>\n",
              "      <td>30代女性</td>\n",
              "      <td>NaN</td>\n",
              "      <td>名古屋市</td>\n",
              "      <td>再感染(No.3774)</td>\n",
              "      <td>名古屋市発表6914</td>\n",
              "      <td>30代</td>\n",
              "      <td>女性</td>\n",
              "    </tr>\n",
              "    <tr>\n",
              "      <th>13687</th>\n",
              "      <td>2020-12-18</td>\n",
              "      <td>10歳未満女性</td>\n",
              "      <td>NaN</td>\n",
              "      <td>名古屋市</td>\n",
              "      <td>再感染(No.5587)</td>\n",
              "      <td>名古屋市発表6942</td>\n",
              "      <td>10歳未満</td>\n",
              "      <td>女性</td>\n",
              "    </tr>\n",
              "    <tr>\n",
              "      <th>19531</th>\n",
              "      <td>2021-01-11</td>\n",
              "      <td>10代女性</td>\n",
              "      <td>NaN</td>\n",
              "      <td>豊田市</td>\n",
              "      <td>No.18120と接触、再感染</td>\n",
              "      <td>豊N田o.市73発61表)817</td>\n",
              "      <td>10代</td>\n",
              "      <td>女性</td>\n",
              "    </tr>\n",
              "    <tr>\n",
              "      <th>19532</th>\n",
              "      <td>2021-01-11</td>\n",
              "      <td>10代男性</td>\n",
              "      <td>NaN</td>\n",
              "      <td>豊田市</td>\n",
              "      <td>No.18120と接触、再感染</td>\n",
              "      <td>豊N田o.市73発62表)818</td>\n",
              "      <td>10代</td>\n",
              "      <td>男性</td>\n",
              "    </tr>\n",
              "    <tr>\n",
              "      <th>19770</th>\n",
              "      <td>2021-01-12</td>\n",
              "      <td>80代男性</td>\n",
              "      <td>NaN</td>\n",
              "      <td>名古屋市</td>\n",
              "      <td>再感染(No.15172)</td>\n",
              "      <td>名古屋市発表9681</td>\n",
              "      <td>80代</td>\n",
              "      <td>男性</td>\n",
              "    </tr>\n",
              "    <tr>\n",
              "      <th>20403</th>\n",
              "      <td>2021-01-14</td>\n",
              "      <td>20代男性</td>\n",
              "      <td>NaN</td>\n",
              "      <td>名古屋市</td>\n",
              "      <td>再感染(No.15384)</td>\n",
              "      <td>名古屋市発表9909</td>\n",
              "      <td>20代</td>\n",
              "      <td>男性</td>\n",
              "    </tr>\n",
              "    <tr>\n",
              "      <th>21078</th>\n",
              "      <td>2021-01-16</td>\n",
              "      <td>60代男性</td>\n",
              "      <td>NaN</td>\n",
              "      <td>名古屋市</td>\n",
              "      <td>再感染(No.13970)</td>\n",
              "      <td>名古屋市発表10143</td>\n",
              "      <td>60代</td>\n",
              "      <td>男性</td>\n",
              "    </tr>\n",
              "    <tr>\n",
              "      <th>21939</th>\n",
              "      <td>2021-01-20</td>\n",
              "      <td>50代女性</td>\n",
              "      <td>NaN</td>\n",
              "      <td>名古屋市</td>\n",
              "      <td>再感染(No.18198)</td>\n",
              "      <td>名古屋市発表10452</td>\n",
              "      <td>50代</td>\n",
              "      <td>女性</td>\n",
              "    </tr>\n",
              "    <tr>\n",
              "      <th>23650</th>\n",
              "      <td>2021-01-29</td>\n",
              "      <td>70代男性</td>\n",
              "      <td>NaN</td>\n",
              "      <td>日進市</td>\n",
              "      <td>No.14691と接触、再感染</td>\n",
              "      <td>本N県o.発13表0797)00</td>\n",
              "      <td>70代</td>\n",
              "      <td>男性</td>\n",
              "    </tr>\n",
              "    <tr>\n",
              "      <th>24064</th>\n",
              "      <td>2021-02-01</td>\n",
              "      <td>20代男性</td>\n",
              "      <td>NaN</td>\n",
              "      <td>知多市</td>\n",
              "      <td>再感染(No.5599)</td>\n",
              "      <td>本県発表9841</td>\n",
              "      <td>20代</td>\n",
              "      <td>男性</td>\n",
              "    </tr>\n",
              "  </tbody>\n",
              "</table>\n",
              "</div>"
            ],
            "text/plain": [
              "             発表日    年代・性別   国籍  ...                備考     年代  性別\n",
              "No                              ...                             \n",
              "1     2020-01-26    40代男性   中国  ...             本県発表1    40代  男性\n",
              "2     2020-01-28    40代男性   中国  ...             本県発表2    40代  男性\n",
              "190   2020-04-02    40代女性   日本  ...         名古屋市発表127    40代  女性\n",
              "356   2020-04-15    20代女性  NaN  ...         名古屋市発表204    20代  女性\n",
              "391   2020-04-18    90代女性  NaN  ...         名古屋市発表224    90代  女性\n",
              "392   2020-04-18    60代男性  NaN  ...         名古屋市発表225    60代  男性\n",
              "491   2020-05-03    60代女性   日本  ...           本県発表197    60代  女性\n",
              "506   2020-05-14    30代女性  NaN  ...         名古屋市発表277    30代  女性\n",
              "520   2020-06-15    70代男性  NaN  ...         名古屋市発表283    70代  男性\n",
              "1095  2020-07-26    30代女性  NaN  ...         名古屋市発表621    30代  女性\n",
              "1610  2020-07-30    20代男性  NaN  ...         名古屋市発表925    20代  男性\n",
              "2085  2020-08-02    40代女性  NaN  ...        名古屋市発表1180    40代  女性\n",
              "2536  2020-08-05    20代女性  NaN  ...        名古屋市発表1435    20代  女性\n",
              "4377  2020-08-28    20代男性  NaN  ...          本県発表1613    20代  男性\n",
              "4586  2020-09-02    30代男性  NaN  ...          本県発表1700    30代  男性\n",
              "4739  2020-09-08    40代女性  NaN  ...          本県発表1758    40代  女性\n",
              "8896  2020-11-23    60代男性  NaN  ...        名古屋市発表4685    60代  男性\n",
              "11475 2020-12-08    50代男性  NaN  ...          本県発表4333    50代  男性\n",
              "12906 2020-12-15    20代女性  NaN  ...          本県発表5005    20代  女性\n",
              "13085 2020-12-16    10代女性  NaN  ...          本県発表5069    10代  女性\n",
              "13525 2020-12-17    30代女性  NaN  ...        名古屋市発表6914    30代  女性\n",
              "13687 2020-12-18  10歳未満女性  NaN  ...        名古屋市発表6942  10歳未満  女性\n",
              "19531 2021-01-11    10代女性  NaN  ...  豊N田o.市73発61表)817    10代  女性\n",
              "19532 2021-01-11    10代男性  NaN  ...  豊N田o.市73発62表)818    10代  男性\n",
              "19770 2021-01-12    80代男性  NaN  ...        名古屋市発表9681    80代  男性\n",
              "20403 2021-01-14    20代男性  NaN  ...        名古屋市発表9909    20代  男性\n",
              "21078 2021-01-16    60代男性  NaN  ...       名古屋市発表10143    60代  男性\n",
              "21939 2021-01-20    50代女性  NaN  ...       名古屋市発表10452    50代  女性\n",
              "23650 2021-01-29    70代男性  NaN  ...  本N県o.発13表0797)00    70代  男性\n",
              "24064 2021-02-01    20代男性  NaN  ...          本県発表9841    20代  男性\n",
              "\n",
              "[30 rows x 8 columns]"
            ]
          },
          "metadata": {
            "tags": []
          },
          "execution_count": 33
        }
      ]
    },
    {
      "cell_type": "code",
      "metadata": {
        "id": "Z7Po42wMyAFw"
      },
      "source": [
        "df = df[~flag]"
      ],
      "execution_count": 34,
      "outputs": []
    },
    {
      "cell_type": "markdown",
      "metadata": {
        "id": "3oBqBYBWlwoi"
      },
      "source": [
        "# 陽性者数"
      ]
    },
    {
      "cell_type": "code",
      "metadata": {
        "id": "LHCWc-XSQroH"
      },
      "source": [
        "s = df[\"発表日\"].value_counts().sort_index().asfreq(\"D\", fill_value=0)"
      ],
      "execution_count": 35,
      "outputs": []
    },
    {
      "cell_type": "code",
      "metadata": {
        "id": "ioaZHD41QgBB",
        "colab": {
          "base_uri": "https://localhost:8080/",
          "height": 293
        },
        "outputId": "c55aa063-115b-4b17-95f1-797cec2f7917"
      },
      "source": [
        "locator = mdates.AutoDateLocator()\r\n",
        "formatter = mdates.ConciseDateFormatter(locator)\r\n",
        "fig, ax = plt.subplots()\r\n",
        "\r\n",
        "ax.xaxis.set_major_locator(locator)\r\n",
        "ax.xaxis.set_major_formatter(formatter)\r\n",
        "\r\n",
        "ax.bar(s.index, s, width=1)"
      ],
      "execution_count": 36,
      "outputs": [
        {
          "output_type": "execute_result",
          "data": {
            "text/plain": [
              "<BarContainer object of 354 artists>"
            ]
          },
          "metadata": {
            "tags": []
          },
          "execution_count": 36
        },
        {
          "output_type": "display_data",
          "data": {
            "image/png": "[encoded data removed]",
            "text/plain": [
              "<Figure size 432x288 with 1 Axes>"
            ]
          },
          "metadata": {
            "tags": [],
            "needs_background": "light"
          }
        }
      ]
    },
    {
      "cell_type": "code",
      "metadata": {
        "id": "YjamriGRopIA",
        "colab": {
          "base_uri": "https://localhost:8080/"
        },
        "outputId": "fc80dbf0-d97a-43ec-f6c3-3ffeb15ecd6b"
      },
      "source": [
        "# 直近14日\r\n",
        "s.tail(14)"
      ],
      "execution_count": 37,
      "outputs": [
        {
          "output_type": "execute_result",
          "data": {
            "text/plain": [
              "2021-01-19    246\n",
              "2021-01-20    245\n",
              "2021-01-21    270\n",
              "2021-01-22    246\n",
              "2021-01-23    246\n",
              "2021-01-24    164\n",
              "2021-01-25     89\n",
              "2021-01-26    215\n",
              "2021-01-27    227\n",
              "2021-01-28    244\n",
              "2021-01-29    163\n",
              "2021-01-30    126\n",
              "2021-01-31    121\n",
              "2021-02-01     79\n",
              "Freq: D, Name: 発表日, dtype: int64"
            ]
          },
          "metadata": {
            "tags": []
          },
          "execution_count": 37
        }
      ]
    },
    {
      "cell_type": "code",
      "metadata": {
        "id": "qZleCDceM5aB",
        "colab": {
          "base_uri": "https://localhost:8080/",
          "height": 377
        },
        "outputId": "d4622bc8-b920-4323-bd63-7ecaab14c357"
      },
      "source": [
        "s.tail(30).plot.bar()"
      ],
      "execution_count": 38,
      "outputs": [
        {
          "output_type": "execute_result",
          "data": {
            "text/plain": [
              "<matplotlib.axes._subplots.AxesSubplot at 0x7f4c4873d748>"
            ]
          },
          "metadata": {
            "tags": []
          },
          "execution_count": 38
        },
        {
          "output_type": "display_data",
          "data": {
            "image/png": "[encoded data removed]",
            "text/plain": [
              "<Figure size 432x288 with 1 Axes>"
            ]
          },
          "metadata": {
            "tags": [],
            "needs_background": "light"
          }
        }
      ]
    },
    {
      "cell_type": "markdown",
      "metadata": {
        "id": "eD0wbgivHOq6"
      },
      "source": [
        "# 住所地"
      ]
    },
    {
      "cell_type": "markdown",
      "metadata": {
        "id": "av9IrZO2J7yh"
      },
      "source": [
        "## 県内"
      ]
    },
    {
      "cell_type": "code",
      "metadata": {
        "id": "4zrPjWMlKItr"
      },
      "source": [
        "df_kennai = df[df[\"住居地\"].isin(aichi_cities)]"
      ],
      "execution_count": 39,
      "outputs": []
    },
    {
      "cell_type": "code",
      "metadata": {
        "id": "sqQKINKzmRKa",
        "colab": {
          "base_uri": "https://localhost:8080/",
          "height": 608
        },
        "outputId": "61eb3c0d-f820-4dcf-8e60-3f032c4fd7ea"
      },
      "source": [
        "# 県内\r\n",
        "df_kennai[\"住居地\"].value_counts().plot.barh(figsize=(5, 10))"
      ],
      "execution_count": 40,
      "outputs": [
        {
          "output_type": "execute_result",
          "data": {
            "text/plain": [
              "<matplotlib.axes._subplots.AxesSubplot at 0x7f4c485e8be0>"
            ]
          },
          "metadata": {
            "tags": []
          },
          "execution_count": 40
        },
        {
          "output_type": "display_data",
          "data": {
            "image/png": "[encoded data removed]",
            "text/plain": [
              "<Figure size 360x720 with 1 Axes>"
            ]
          },
          "metadata": {
            "tags": [],
            "needs_background": "light"
          }
        }
      ]
    },
    {
      "cell_type": "code",
      "metadata": {
        "id": "TrFZYCuxJ1Ih",
        "colab": {
          "base_uri": "https://localhost:8080/"
        },
        "outputId": "09cf614c-b424-431e-cbe2-61d7efb1ff33"
      },
      "source": [
        "df_kennai[\"住居地\"].value_counts()"
      ],
      "execution_count": 41,
      "outputs": [
        {
          "output_type": "execute_result",
          "data": {
            "text/plain": [
              "名古屋市     11218\n",
              "豊田市       1113\n",
              "豊橋市        997\n",
              "一宮市        962\n",
              "春日井市       887\n",
              "岡崎市        866\n",
              "小牧市        489\n",
              "豊川市        367\n",
              "西尾市        363\n",
              "あま市        341\n",
              "瀬戸市        328\n",
              "刈谷市        325\n",
              "東海市        305\n",
              "稲沢市        292\n",
              "安城市        281\n",
              "北名古屋市      269\n",
              "日進市        268\n",
              "江南市        261\n",
              "半田市        254\n",
              "尾張旭市       218\n",
              "知多市        213\n",
              "清須市        207\n",
              "知立市        190\n",
              "愛西市        180\n",
              "蒲郡市        178\n",
              "大府市        174\n",
              "蟹江町        166\n",
              "碧南市        165\n",
              "津島市        161\n",
              "弥富市        157\n",
              "犬山市        140\n",
              "長久手市       139\n",
              "岩倉市        134\n",
              "豊明市        129\n",
              "みよし市       123\n",
              "幸田町        114\n",
              "大治町        110\n",
              "東郷町         98\n",
              "扶桑町         95\n",
              "東浦町         86\n",
              "常滑市         86\n",
              "武豊町         86\n",
              "高浜市         77\n",
              "田原市         67\n",
              "大口町         67\n",
              "豊山町         51\n",
              "新城市         49\n",
              "阿久比町        33\n",
              "美浜町         26\n",
              "南知多町        24\n",
              "飛島村         17\n",
              "東栄町          3\n",
              "設楽町          2\n",
              "豊根村          1\n",
              "Name: 住居地, dtype: int64"
            ]
          },
          "metadata": {
            "tags": []
          },
          "execution_count": 41
        }
      ]
    },
    {
      "cell_type": "code",
      "metadata": {
        "id": "-DWjd2qRKrIQ"
      },
      "source": [
        "df_kennai.to_csv(\"kennai.csv\", encoding=\"utf_8_sig\")\r\n",
        "# files.download(\"kennai.csv\")"
      ],
      "execution_count": 42,
      "outputs": []
    },
    {
      "cell_type": "markdown",
      "metadata": {
        "id": "SHCWx-kIKCNB"
      },
      "source": [
        "## 県外"
      ]
    },
    {
      "cell_type": "code",
      "metadata": {
        "id": "nGIark2wY6LT"
      },
      "source": [
        "df_kengai = df[~df[\"住居地\"].isin(aichi_cities)]"
      ],
      "execution_count": 43,
      "outputs": []
    },
    {
      "cell_type": "code",
      "metadata": {
        "id": "L9S_PFK6SaJ_",
        "colab": {
          "base_uri": "https://localhost:8080/",
          "height": 608
        },
        "outputId": "87098404-1dc4-4106-9abd-56155b0a3edb"
      },
      "source": [
        "# 県外\r\n",
        "df_kengai[\"住居地\"].value_counts().plot.barh(figsize=(5, 10))"
      ],
      "execution_count": 44,
      "outputs": [
        {
          "output_type": "execute_result",
          "data": {
            "text/plain": [
              "<matplotlib.axes._subplots.AxesSubplot at 0x7f4c4866eba8>"
            ]
          },
          "metadata": {
            "tags": []
          },
          "execution_count": 44
        },
        {
          "output_type": "display_data",
          "data": {
            "image/png": "[encoded data removed]",
            "text/plain": [
              "<Figure size 360x720 with 1 Axes>"
            ]
          },
          "metadata": {
            "tags": [],
            "needs_background": "light"
          }
        }
      ]
    },
    {
      "cell_type": "code",
      "metadata": {
        "id": "-rNPeckuGZiL",
        "colab": {
          "base_uri": "https://localhost:8080/"
        },
        "outputId": "7688f9e9-b290-4518-cf85-f6ec3ce07dee"
      },
      "source": [
        "df_kengai[\"住居地\"].value_counts()"
      ],
      "execution_count": 45,
      "outputs": [
        {
          "output_type": "execute_result",
          "data": {
            "text/plain": [
              "岐阜県        35\n",
              "東京都        27\n",
              "三重県        23\n",
              "尾張地方       11\n",
              "神奈川県        5\n",
              "京都府         5\n",
              "大阪府         5\n",
              "三河地方        5\n",
              "静岡県         5\n",
              "兵庫県         3\n",
              "茨城県         3\n",
              "千葉県         3\n",
              "沖縄県         2\n",
              "福岡県         2\n",
              "福井県         2\n",
              "愛媛県         1\n",
              "滋賀県         1\n",
              "一宮保健所管内     1\n",
              "熊本県         1\n",
              "可児市         1\n",
              "奈良県         1\n",
              "土岐市         1\n",
              "北海道         1\n",
              "石川県         1\n",
              "群馬県         1\n",
              "不定          1\n",
              "岐阜市         1\n",
              "            1\n",
              "Name: 住居地, dtype: int64"
            ]
          },
          "metadata": {
            "tags": []
          },
          "execution_count": 45
        }
      ]
    },
    {
      "cell_type": "code",
      "metadata": {
        "id": "stJehDPlGfFa"
      },
      "source": [
        "df_kengai.to_csv(\"kengai.csv\", encoding=\"utf_8_sig\")\n",
        "# files.download(\"kengai.csv\")"
      ],
      "execution_count": 46,
      "outputs": []
    },
    {
      "cell_type": "markdown",
      "metadata": {
        "id": "90sg7yzVX14e"
      },
      "source": [
        "## 置換"
      ]
    },
    {
      "cell_type": "code",
      "metadata": {
        "id": "Tp0dVUAISme_"
      },
      "source": [
        "# 県外に置換\r\n",
        "df[\"住居地\"] = df[\"住居地\"].where(df[\"住居地\"].isin(aichi_cities), \"県外\")"
      ],
      "execution_count": 47,
      "outputs": []
    },
    {
      "cell_type": "code",
      "metadata": {
        "id": "4swryofKPufv",
        "colab": {
          "base_uri": "https://localhost:8080/",
          "height": 879
        },
        "outputId": "4b2c55cc-f0d9-4db6-bedf-5d2c724a515f"
      },
      "source": [
        "df[\"住居地\"].value_counts().plot.barh(figsize=(5, 15))"
      ],
      "execution_count": 48,
      "outputs": [
        {
          "output_type": "execute_result",
          "data": {
            "text/plain": [
              "<matplotlib.axes._subplots.AxesSubplot at 0x7f4c480230b8>"
            ]
          },
          "metadata": {
            "tags": []
          },
          "execution_count": 48
        },
        {
          "output_type": "display_data",
          "data": {
            "image/png": "[encoded data removed]",
            "text/plain": [
              "<Figure size 360x1080 with 1 Axes>"
            ]
          },
          "metadata": {
            "tags": [],
            "needs_background": "light"
          }
        }
      ]
    },
    {
      "cell_type": "code",
      "metadata": {
        "id": "Tyia7DxFn4Gv",
        "colab": {
          "base_uri": "https://localhost:8080/"
        },
        "outputId": "e8c6981b-b6fa-473d-d13b-1eb8c04960c1"
      },
      "source": [
        "df[\"住居地\"].value_counts().reindex(aichi_cities, fill_value=0)"
      ],
      "execution_count": 49,
      "outputs": [
        {
          "output_type": "execute_result",
          "data": {
            "text/plain": [
              "名古屋市     11218\n",
              "一宮市        962\n",
              "瀬戸市        328\n",
              "春日井市       887\n",
              "犬山市        140\n",
              "江南市        261\n",
              "小牧市        489\n",
              "稲沢市        292\n",
              "尾張旭市       218\n",
              "岩倉市        134\n",
              "豊明市        129\n",
              "日進市        268\n",
              "清須市        207\n",
              "北名古屋市      269\n",
              "長久手市       139\n",
              "東郷町         98\n",
              "豊山町         51\n",
              "大口町         67\n",
              "扶桑町         95\n",
              "津島市        161\n",
              "愛西市        180\n",
              "弥富市        157\n",
              "あま市        341\n",
              "大治町        110\n",
              "蟹江町        166\n",
              "飛島村         17\n",
              "半田市        254\n",
              "常滑市         86\n",
              "東海市        305\n",
              "大府市        174\n",
              "知多市        213\n",
              "阿久比町        33\n",
              "東浦町         86\n",
              "南知多町        24\n",
              "美浜町         26\n",
              "武豊町         86\n",
              "岡崎市        866\n",
              "碧南市        165\n",
              "刈谷市        325\n",
              "豊田市       1113\n",
              "安城市        281\n",
              "西尾市        363\n",
              "知立市        190\n",
              "高浜市         77\n",
              "みよし市       123\n",
              "幸田町        114\n",
              "豊橋市        997\n",
              "豊川市        367\n",
              "蒲郡市        178\n",
              "新城市         49\n",
              "田原市         67\n",
              "設楽町          2\n",
              "東栄町          3\n",
              "豊根村          1\n",
              "Name: 住居地, dtype: int64"
            ]
          },
          "metadata": {
            "tags": []
          },
          "execution_count": 49
        }
      ]
    },
    {
      "cell_type": "markdown",
      "metadata": {
        "id": "qUjv75nlHYri"
      },
      "source": [
        "# 性別"
      ]
    },
    {
      "cell_type": "code",
      "metadata": {
        "id": "xo4KFL-rYRbe",
        "colab": {
          "base_uri": "https://localhost:8080/",
          "height": 281
        },
        "outputId": "e61ac4aa-67f1-4ea7-a63f-d9ccb8eabd48"
      },
      "source": [
        "df[\"性別\"].value_counts().plot.barh()"
      ],
      "execution_count": 50,
      "outputs": [
        {
          "output_type": "execute_result",
          "data": {
            "text/plain": [
              "<matplotlib.axes._subplots.AxesSubplot at 0x7f4c47e06be0>"
            ]
          },
          "metadata": {
            "tags": []
          },
          "execution_count": 50
        },
        {
          "output_type": "display_data",
          "data": {
            "image/png": "[encoded data removed]",
            "text/plain": [
              "<Figure size 432x288 with 1 Axes>"
            ]
          },
          "metadata": {
            "tags": [],
            "needs_background": "light"
          }
        }
      ]
    },
    {
      "cell_type": "code",
      "metadata": {
        "id": "MlVDe_kkq40X",
        "colab": {
          "base_uri": "https://localhost:8080/"
        },
        "outputId": "7f511409-39bf-4b02-f6fa-8e201f28df07"
      },
      "source": [
        "# 性別 欠損数\r\n",
        "df[\"性別\"].isna().sum()"
      ],
      "execution_count": 51,
      "outputs": [
        {
          "output_type": "execute_result",
          "data": {
            "text/plain": [
              "0"
            ]
          },
          "metadata": {
            "tags": []
          },
          "execution_count": 51
        }
      ]
    },
    {
      "cell_type": "code",
      "metadata": {
        "id": "PNsu8cggHrea",
        "colab": {
          "base_uri": "https://localhost:8080/"
        },
        "outputId": "e3333478-4ca9-4216-9d8f-5b8b10269949"
      },
      "source": [
        "# 性別\r\n",
        "df[\"性別\"].value_counts()"
      ],
      "execution_count": 52,
      "outputs": [
        {
          "output_type": "execute_result",
          "data": {
            "text/plain": [
              "男性    13039\n",
              "女性    11062\n",
              "Name: 性別, dtype: int64"
            ]
          },
          "metadata": {
            "tags": []
          },
          "execution_count": 52
        }
      ]
    },
    {
      "cell_type": "markdown",
      "metadata": {
        "id": "iVf3aoulHm6C"
      },
      "source": [
        "# 年代確認"
      ]
    },
    {
      "cell_type": "markdown",
      "metadata": {
        "id": "LeKZdcUPIh9h"
      },
      "source": [
        "## 置換前"
      ]
    },
    {
      "cell_type": "code",
      "metadata": {
        "id": "z3I2c0BOI4YB",
        "colab": {
          "base_uri": "https://localhost:8080/"
        },
        "outputId": "3640fc59-0341-43f8-d8d4-b047a035dee7"
      },
      "source": [
        "# ユニーク確認\r\n",
        "df[\"年代\"].unique()"
      ],
      "execution_count": 53,
      "outputs": [
        {
          "output_type": "execute_result",
          "data": {
            "text/plain": [
              "array(['60代', '50代', '80代', '70代', '20代', '40代', '30代', '90代', '10歳未満',\n",
              "       '10代', '100代', '高齢者', 'ー代'], dtype=object)"
            ]
          },
          "metadata": {
            "tags": []
          },
          "execution_count": 53
        }
      ]
    },
    {
      "cell_type": "code",
      "metadata": {
        "id": "7bEE_z0GITSJ",
        "colab": {
          "base_uri": "https://localhost:8080/"
        },
        "outputId": "3ba12615-705d-4636-a833-2946e6167843"
      },
      "source": [
        "df[\"年代\"].value_counts()"
      ],
      "execution_count": 54,
      "outputs": [
        {
          "output_type": "execute_result",
          "data": {
            "text/plain": [
              "20代      5607\n",
              "30代      3540\n",
              "40代      3358\n",
              "50代      3168\n",
              "60代      2061\n",
              "70代      2040\n",
              "10代      1679\n",
              "80代      1437\n",
              "10歳未満     789\n",
              "90代       407\n",
              "100代       13\n",
              "ー代          1\n",
              "高齢者         1\n",
              "Name: 年代, dtype: int64"
            ]
          },
          "metadata": {
            "tags": []
          },
          "execution_count": 54
        }
      ]
    },
    {
      "cell_type": "markdown",
      "metadata": {
        "id": "75OdePc-LCvB"
      },
      "source": [
        "## 確認"
      ]
    },
    {
      "cell_type": "code",
      "metadata": {
        "id": "xD2k8QOIAvnk",
        "colab": {
          "base_uri": "https://localhost:8080/",
          "height": 143
        },
        "outputId": "fa59d32f-26ef-4499-efe7-d4c1d2efea1c"
      },
      "source": [
        "# リスト外\r\n",
        "df[~df[\"年代\"].isin(ages_list)]"
      ],
      "execution_count": 55,
      "outputs": [
        {
          "output_type": "execute_result",
          "data": {
            "text/html": [
              "<div>\n",
              "<style scoped>\n",
              "    .dataframe tbody tr th:only-of-type {\n",
              "        vertical-align: middle;\n",
              "    }\n",
              "\n",
              "    .dataframe tbody tr th {\n",
              "        vertical-align: top;\n",
              "    }\n",
              "\n",
              "    .dataframe thead th {\n",
              "        text-align: right;\n",
              "    }\n",
              "</style>\n",
              "<table border=\"1\" class=\"dataframe\">\n",
              "  <thead>\n",
              "    <tr style=\"text-align: right;\">\n",
              "      <th></th>\n",
              "      <th>発表日</th>\n",
              "      <th>年代・性別</th>\n",
              "      <th>国籍</th>\n",
              "      <th>住居地</th>\n",
              "      <th>接触状況</th>\n",
              "      <th>備考</th>\n",
              "      <th>年代</th>\n",
              "      <th>性別</th>\n",
              "    </tr>\n",
              "    <tr>\n",
              "      <th>No</th>\n",
              "      <th></th>\n",
              "      <th></th>\n",
              "      <th></th>\n",
              "      <th></th>\n",
              "      <th></th>\n",
              "      <th></th>\n",
              "      <th></th>\n",
              "      <th></th>\n",
              "    </tr>\n",
              "  </thead>\n",
              "  <tbody>\n",
              "    <tr>\n",
              "      <th>5543</th>\n",
              "      <td>2020-10-11</td>\n",
              "      <td>高齢者女性</td>\n",
              "      <td>NaN</td>\n",
              "      <td>名古屋市</td>\n",
              "      <td>NaN</td>\n",
              "      <td>名古屋市発表2999</td>\n",
              "      <td>高齢者</td>\n",
              "      <td>女性</td>\n",
              "    </tr>\n",
              "    <tr>\n",
              "      <th>13890</th>\n",
              "      <td>2020-12-19</td>\n",
              "      <td>ー代女性</td>\n",
              "      <td>NaN</td>\n",
              "      <td>豊橋市</td>\n",
              "      <td>NaN</td>\n",
              "      <td>豊橋市発表347</td>\n",
              "      <td>ー代</td>\n",
              "      <td>女性</td>\n",
              "    </tr>\n",
              "  </tbody>\n",
              "</table>\n",
              "</div>"
            ],
            "text/plain": [
              "             発表日  年代・性別   国籍   住居地 接触状況          備考   年代  性別\n",
              "No                                                          \n",
              "5543  2020-10-11  高齢者女性  NaN  名古屋市  NaN  名古屋市発表2999  高齢者  女性\n",
              "13890 2020-12-19   ー代女性  NaN   豊橋市  NaN    豊橋市発表347   ー代  女性"
            ]
          },
          "metadata": {
            "tags": []
          },
          "execution_count": 55
        }
      ]
    },
    {
      "cell_type": "markdown",
      "metadata": {
        "id": "ZdkCmXvgIdYp"
      },
      "source": [
        "## 置換後 "
      ]
    },
    {
      "cell_type": "code",
      "metadata": {
        "id": "SJdW-bWDcjiQ"
      },
      "source": [
        "# 10歳未満代を10歳未満に置換\r\n",
        "df[\"年代\"] = df[\"年代\"].replace(\"10歳未満代\", \"10歳未満\")"
      ],
      "execution_count": 56,
      "outputs": []
    },
    {
      "cell_type": "code",
      "metadata": {
        "id": "SVLZqypHATDM"
      },
      "source": [
        "# リスト外をその他に置換\r\n",
        "df[\"年代\"] = df[\"年代\"].where(df[\"年代\"].isin(ages_list), \"その他\")"
      ],
      "execution_count": 57,
      "outputs": []
    },
    {
      "cell_type": "code",
      "metadata": {
        "id": "HJjfsYZ3UzZ6",
        "colab": {
          "base_uri": "https://localhost:8080/"
        },
        "outputId": "c62d19d8-2008-4641-df20-e1c8ef490555"
      },
      "source": [
        "df[\"年代\"].unique()"
      ],
      "execution_count": 58,
      "outputs": [
        {
          "output_type": "execute_result",
          "data": {
            "text/plain": [
              "array(['60代', '50代', '80代', '70代', '20代', '40代', '30代', '90代', '10歳未満',\n",
              "       '10代', '100代', 'その他'], dtype=object)"
            ]
          },
          "metadata": {
            "tags": []
          },
          "execution_count": 58
        }
      ]
    },
    {
      "cell_type": "code",
      "metadata": {
        "id": "r9QxpWa5YW_F",
        "colab": {
          "base_uri": "https://localhost:8080/",
          "height": 281
        },
        "outputId": "ec8bc98d-f940-4bb6-df51-9324e5455595"
      },
      "source": [
        "df[\"年代\"].value_counts().plot.barh()"
      ],
      "execution_count": 59,
      "outputs": [
        {
          "output_type": "execute_result",
          "data": {
            "text/plain": [
              "<matplotlib.axes._subplots.AxesSubplot at 0x7f4c47df0cc0>"
            ]
          },
          "metadata": {
            "tags": []
          },
          "execution_count": 59
        },
        {
          "output_type": "display_data",
          "data": {
            "image/png": "[encoded data removed]",
            "text/plain": [
              "<Figure size 432x288 with 1 Axes>"
            ]
          },
          "metadata": {
            "tags": [],
            "needs_background": "light"
          }
        }
      ]
    },
    {
      "cell_type": "code",
      "metadata": {
        "id": "rI_C4zfOXMBg",
        "colab": {
          "base_uri": "https://localhost:8080/"
        },
        "outputId": "3db058ba-4100-4806-ded5-d68db89e2199"
      },
      "source": [
        "df[\"年代\"].value_counts()"
      ],
      "execution_count": 60,
      "outputs": [
        {
          "output_type": "execute_result",
          "data": {
            "text/plain": [
              "20代      5607\n",
              "30代      3540\n",
              "40代      3358\n",
              "50代      3168\n",
              "60代      2061\n",
              "70代      2040\n",
              "10代      1679\n",
              "80代      1437\n",
              "10歳未満     789\n",
              "90代       407\n",
              "100代       13\n",
              "その他         2\n",
              "Name: 年代, dtype: int64"
            ]
          },
          "metadata": {
            "tags": []
          },
          "execution_count": 60
        }
      ]
    },
    {
      "cell_type": "markdown",
      "metadata": {
        "id": "E2bUlRByIrII"
      },
      "source": [
        "# 市町村別年代"
      ]
    },
    {
      "cell_type": "code",
      "metadata": {
        "id": "yD9n3GmCD_r3",
        "colab": {
          "base_uri": "https://localhost:8080/",
          "height": 1000
        },
        "outputId": "ad56e132-c380-4c5e-e163-7be0428ebe79"
      },
      "source": [
        "df_area_ages = pd.crosstab(df[\"住居地\"], df[\"年代\"]).reindex(index=aichi_cities + [\"県外\"], columns=ages_list + [\"その他\"], fill_value=0)\r\n",
        "df_area_ages"
      ],
      "execution_count": 61,
      "outputs": [
        {
          "output_type": "execute_result",
          "data": {
            "text/html": [
              "<div>\n",
              "<style scoped>\n",
              "    .dataframe tbody tr th:only-of-type {\n",
              "        vertical-align: middle;\n",
              "    }\n",
              "\n",
              "    .dataframe tbody tr th {\n",
              "        vertical-align: top;\n",
              "    }\n",
              "\n",
              "    .dataframe thead th {\n",
              "        text-align: right;\n",
              "    }\n",
              "</style>\n",
              "<table border=\"1\" class=\"dataframe\">\n",
              "  <thead>\n",
              "    <tr style=\"text-align: right;\">\n",
              "      <th>年代</th>\n",
              "      <th>10歳未満</th>\n",
              "      <th>10代</th>\n",
              "      <th>20代</th>\n",
              "      <th>30代</th>\n",
              "      <th>40代</th>\n",
              "      <th>50代</th>\n",
              "      <th>60代</th>\n",
              "      <th>70代</th>\n",
              "      <th>80代</th>\n",
              "      <th>90代</th>\n",
              "      <th>100代</th>\n",
              "      <th>その他</th>\n",
              "    </tr>\n",
              "    <tr>\n",
              "      <th>住居地</th>\n",
              "      <th></th>\n",
              "      <th></th>\n",
              "      <th></th>\n",
              "      <th></th>\n",
              "      <th></th>\n",
              "      <th></th>\n",
              "      <th></th>\n",
              "      <th></th>\n",
              "      <th></th>\n",
              "      <th></th>\n",
              "      <th></th>\n",
              "      <th></th>\n",
              "    </tr>\n",
              "  </thead>\n",
              "  <tbody>\n",
              "    <tr>\n",
              "      <th>名古屋市</th>\n",
              "      <td>331</td>\n",
              "      <td>532</td>\n",
              "      <td>2909</td>\n",
              "      <td>1810</td>\n",
              "      <td>1505</td>\n",
              "      <td>1335</td>\n",
              "      <td>971</td>\n",
              "      <td>860</td>\n",
              "      <td>708</td>\n",
              "      <td>247</td>\n",
              "      <td>9</td>\n",
              "      <td>1</td>\n",
              "    </tr>\n",
              "    <tr>\n",
              "      <th>一宮市</th>\n",
              "      <td>27</td>\n",
              "      <td>80</td>\n",
              "      <td>189</td>\n",
              "      <td>115</td>\n",
              "      <td>111</td>\n",
              "      <td>151</td>\n",
              "      <td>85</td>\n",
              "      <td>110</td>\n",
              "      <td>84</td>\n",
              "      <td>10</td>\n",
              "      <td>0</td>\n",
              "      <td>0</td>\n",
              "    </tr>\n",
              "    <tr>\n",
              "      <th>瀬戸市</th>\n",
              "      <td>9</td>\n",
              "      <td>21</td>\n",
              "      <td>74</td>\n",
              "      <td>53</td>\n",
              "      <td>51</td>\n",
              "      <td>47</td>\n",
              "      <td>24</td>\n",
              "      <td>29</td>\n",
              "      <td>17</td>\n",
              "      <td>3</td>\n",
              "      <td>0</td>\n",
              "      <td>0</td>\n",
              "    </tr>\n",
              "    <tr>\n",
              "      <th>春日井市</th>\n",
              "      <td>22</td>\n",
              "      <td>93</td>\n",
              "      <td>180</td>\n",
              "      <td>99</td>\n",
              "      <td>134</td>\n",
              "      <td>133</td>\n",
              "      <td>68</td>\n",
              "      <td>93</td>\n",
              "      <td>57</td>\n",
              "      <td>8</td>\n",
              "      <td>0</td>\n",
              "      <td>0</td>\n",
              "    </tr>\n",
              "    <tr>\n",
              "      <th>犬山市</th>\n",
              "      <td>4</td>\n",
              "      <td>26</td>\n",
              "      <td>21</td>\n",
              "      <td>19</td>\n",
              "      <td>22</td>\n",
              "      <td>16</td>\n",
              "      <td>19</td>\n",
              "      <td>9</td>\n",
              "      <td>2</td>\n",
              "      <td>2</td>\n",
              "      <td>0</td>\n",
              "      <td>0</td>\n",
              "    </tr>\n",
              "    <tr>\n",
              "      <th>江南市</th>\n",
              "      <td>8</td>\n",
              "      <td>28</td>\n",
              "      <td>45</td>\n",
              "      <td>22</td>\n",
              "      <td>29</td>\n",
              "      <td>46</td>\n",
              "      <td>29</td>\n",
              "      <td>31</td>\n",
              "      <td>20</td>\n",
              "      <td>3</td>\n",
              "      <td>0</td>\n",
              "      <td>0</td>\n",
              "    </tr>\n",
              "    <tr>\n",
              "      <th>小牧市</th>\n",
              "      <td>29</td>\n",
              "      <td>55</td>\n",
              "      <td>90</td>\n",
              "      <td>69</td>\n",
              "      <td>81</td>\n",
              "      <td>80</td>\n",
              "      <td>30</td>\n",
              "      <td>30</td>\n",
              "      <td>17</td>\n",
              "      <td>8</td>\n",
              "      <td>0</td>\n",
              "      <td>0</td>\n",
              "    </tr>\n",
              "    <tr>\n",
              "      <th>稲沢市</th>\n",
              "      <td>7</td>\n",
              "      <td>22</td>\n",
              "      <td>64</td>\n",
              "      <td>34</td>\n",
              "      <td>39</td>\n",
              "      <td>46</td>\n",
              "      <td>16</td>\n",
              "      <td>41</td>\n",
              "      <td>21</td>\n",
              "      <td>2</td>\n",
              "      <td>0</td>\n",
              "      <td>0</td>\n",
              "    </tr>\n",
              "    <tr>\n",
              "      <th>尾張旭市</th>\n",
              "      <td>8</td>\n",
              "      <td>27</td>\n",
              "      <td>53</td>\n",
              "      <td>27</td>\n",
              "      <td>26</td>\n",
              "      <td>26</td>\n",
              "      <td>23</td>\n",
              "      <td>16</td>\n",
              "      <td>11</td>\n",
              "      <td>1</td>\n",
              "      <td>0</td>\n",
              "      <td>0</td>\n",
              "    </tr>\n",
              "    <tr>\n",
              "      <th>岩倉市</th>\n",
              "      <td>2</td>\n",
              "      <td>18</td>\n",
              "      <td>29</td>\n",
              "      <td>20</td>\n",
              "      <td>17</td>\n",
              "      <td>17</td>\n",
              "      <td>20</td>\n",
              "      <td>6</td>\n",
              "      <td>5</td>\n",
              "      <td>0</td>\n",
              "      <td>0</td>\n",
              "      <td>0</td>\n",
              "    </tr>\n",
              "    <tr>\n",
              "      <th>豊明市</th>\n",
              "      <td>9</td>\n",
              "      <td>4</td>\n",
              "      <td>28</td>\n",
              "      <td>33</td>\n",
              "      <td>12</td>\n",
              "      <td>24</td>\n",
              "      <td>10</td>\n",
              "      <td>7</td>\n",
              "      <td>2</td>\n",
              "      <td>0</td>\n",
              "      <td>0</td>\n",
              "      <td>0</td>\n",
              "    </tr>\n",
              "    <tr>\n",
              "      <th>日進市</th>\n",
              "      <td>8</td>\n",
              "      <td>20</td>\n",
              "      <td>58</td>\n",
              "      <td>39</td>\n",
              "      <td>37</td>\n",
              "      <td>39</td>\n",
              "      <td>34</td>\n",
              "      <td>17</td>\n",
              "      <td>14</td>\n",
              "      <td>2</td>\n",
              "      <td>0</td>\n",
              "      <td>0</td>\n",
              "    </tr>\n",
              "    <tr>\n",
              "      <th>清須市</th>\n",
              "      <td>6</td>\n",
              "      <td>11</td>\n",
              "      <td>44</td>\n",
              "      <td>28</td>\n",
              "      <td>34</td>\n",
              "      <td>29</td>\n",
              "      <td>12</td>\n",
              "      <td>26</td>\n",
              "      <td>13</td>\n",
              "      <td>4</td>\n",
              "      <td>0</td>\n",
              "      <td>0</td>\n",
              "    </tr>\n",
              "    <tr>\n",
              "      <th>北名古屋市</th>\n",
              "      <td>13</td>\n",
              "      <td>34</td>\n",
              "      <td>55</td>\n",
              "      <td>34</td>\n",
              "      <td>38</td>\n",
              "      <td>45</td>\n",
              "      <td>18</td>\n",
              "      <td>23</td>\n",
              "      <td>8</td>\n",
              "      <td>1</td>\n",
              "      <td>0</td>\n",
              "      <td>0</td>\n",
              "    </tr>\n",
              "    <tr>\n",
              "      <th>長久手市</th>\n",
              "      <td>5</td>\n",
              "      <td>11</td>\n",
              "      <td>40</td>\n",
              "      <td>29</td>\n",
              "      <td>21</td>\n",
              "      <td>19</td>\n",
              "      <td>7</td>\n",
              "      <td>4</td>\n",
              "      <td>3</td>\n",
              "      <td>0</td>\n",
              "      <td>0</td>\n",
              "      <td>0</td>\n",
              "    </tr>\n",
              "    <tr>\n",
              "      <th>東郷町</th>\n",
              "      <td>5</td>\n",
              "      <td>11</td>\n",
              "      <td>17</td>\n",
              "      <td>9</td>\n",
              "      <td>18</td>\n",
              "      <td>17</td>\n",
              "      <td>7</td>\n",
              "      <td>9</td>\n",
              "      <td>5</td>\n",
              "      <td>0</td>\n",
              "      <td>0</td>\n",
              "      <td>0</td>\n",
              "    </tr>\n",
              "    <tr>\n",
              "      <th>豊山町</th>\n",
              "      <td>2</td>\n",
              "      <td>6</td>\n",
              "      <td>5</td>\n",
              "      <td>6</td>\n",
              "      <td>10</td>\n",
              "      <td>5</td>\n",
              "      <td>7</td>\n",
              "      <td>8</td>\n",
              "      <td>2</td>\n",
              "      <td>0</td>\n",
              "      <td>0</td>\n",
              "      <td>0</td>\n",
              "    </tr>\n",
              "    <tr>\n",
              "      <th>大口町</th>\n",
              "      <td>3</td>\n",
              "      <td>11</td>\n",
              "      <td>11</td>\n",
              "      <td>9</td>\n",
              "      <td>8</td>\n",
              "      <td>11</td>\n",
              "      <td>2</td>\n",
              "      <td>6</td>\n",
              "      <td>2</td>\n",
              "      <td>4</td>\n",
              "      <td>0</td>\n",
              "      <td>0</td>\n",
              "    </tr>\n",
              "    <tr>\n",
              "      <th>扶桑町</th>\n",
              "      <td>5</td>\n",
              "      <td>17</td>\n",
              "      <td>9</td>\n",
              "      <td>8</td>\n",
              "      <td>19</td>\n",
              "      <td>15</td>\n",
              "      <td>6</td>\n",
              "      <td>10</td>\n",
              "      <td>6</td>\n",
              "      <td>0</td>\n",
              "      <td>0</td>\n",
              "      <td>0</td>\n",
              "    </tr>\n",
              "    <tr>\n",
              "      <th>津島市</th>\n",
              "      <td>1</td>\n",
              "      <td>8</td>\n",
              "      <td>39</td>\n",
              "      <td>11</td>\n",
              "      <td>16</td>\n",
              "      <td>35</td>\n",
              "      <td>18</td>\n",
              "      <td>23</td>\n",
              "      <td>10</td>\n",
              "      <td>0</td>\n",
              "      <td>0</td>\n",
              "      <td>0</td>\n",
              "    </tr>\n",
              "    <tr>\n",
              "      <th>愛西市</th>\n",
              "      <td>3</td>\n",
              "      <td>12</td>\n",
              "      <td>23</td>\n",
              "      <td>13</td>\n",
              "      <td>26</td>\n",
              "      <td>30</td>\n",
              "      <td>23</td>\n",
              "      <td>35</td>\n",
              "      <td>15</td>\n",
              "      <td>0</td>\n",
              "      <td>0</td>\n",
              "      <td>0</td>\n",
              "    </tr>\n",
              "    <tr>\n",
              "      <th>弥富市</th>\n",
              "      <td>2</td>\n",
              "      <td>5</td>\n",
              "      <td>29</td>\n",
              "      <td>9</td>\n",
              "      <td>17</td>\n",
              "      <td>27</td>\n",
              "      <td>13</td>\n",
              "      <td>25</td>\n",
              "      <td>24</td>\n",
              "      <td>6</td>\n",
              "      <td>0</td>\n",
              "      <td>0</td>\n",
              "    </tr>\n",
              "    <tr>\n",
              "      <th>あま市</th>\n",
              "      <td>12</td>\n",
              "      <td>34</td>\n",
              "      <td>61</td>\n",
              "      <td>43</td>\n",
              "      <td>46</td>\n",
              "      <td>53</td>\n",
              "      <td>26</td>\n",
              "      <td>36</td>\n",
              "      <td>28</td>\n",
              "      <td>2</td>\n",
              "      <td>0</td>\n",
              "      <td>0</td>\n",
              "    </tr>\n",
              "    <tr>\n",
              "      <th>大治町</th>\n",
              "      <td>3</td>\n",
              "      <td>14</td>\n",
              "      <td>20</td>\n",
              "      <td>17</td>\n",
              "      <td>18</td>\n",
              "      <td>18</td>\n",
              "      <td>7</td>\n",
              "      <td>7</td>\n",
              "      <td>6</td>\n",
              "      <td>0</td>\n",
              "      <td>0</td>\n",
              "      <td>0</td>\n",
              "    </tr>\n",
              "    <tr>\n",
              "      <th>蟹江町</th>\n",
              "      <td>7</td>\n",
              "      <td>9</td>\n",
              "      <td>25</td>\n",
              "      <td>14</td>\n",
              "      <td>22</td>\n",
              "      <td>16</td>\n",
              "      <td>14</td>\n",
              "      <td>32</td>\n",
              "      <td>22</td>\n",
              "      <td>5</td>\n",
              "      <td>0</td>\n",
              "      <td>0</td>\n",
              "    </tr>\n",
              "    <tr>\n",
              "      <th>飛島村</th>\n",
              "      <td>0</td>\n",
              "      <td>1</td>\n",
              "      <td>3</td>\n",
              "      <td>1</td>\n",
              "      <td>0</td>\n",
              "      <td>1</td>\n",
              "      <td>3</td>\n",
              "      <td>6</td>\n",
              "      <td>2</td>\n",
              "      <td>0</td>\n",
              "      <td>0</td>\n",
              "      <td>0</td>\n",
              "    </tr>\n",
              "    <tr>\n",
              "      <th>半田市</th>\n",
              "      <td>9</td>\n",
              "      <td>24</td>\n",
              "      <td>55</td>\n",
              "      <td>46</td>\n",
              "      <td>37</td>\n",
              "      <td>38</td>\n",
              "      <td>19</td>\n",
              "      <td>10</td>\n",
              "      <td>10</td>\n",
              "      <td>5</td>\n",
              "      <td>1</td>\n",
              "      <td>0</td>\n",
              "    </tr>\n",
              "    <tr>\n",
              "      <th>常滑市</th>\n",
              "      <td>4</td>\n",
              "      <td>9</td>\n",
              "      <td>24</td>\n",
              "      <td>12</td>\n",
              "      <td>9</td>\n",
              "      <td>13</td>\n",
              "      <td>7</td>\n",
              "      <td>7</td>\n",
              "      <td>1</td>\n",
              "      <td>0</td>\n",
              "      <td>0</td>\n",
              "      <td>0</td>\n",
              "    </tr>\n",
              "    <tr>\n",
              "      <th>東海市</th>\n",
              "      <td>7</td>\n",
              "      <td>36</td>\n",
              "      <td>66</td>\n",
              "      <td>51</td>\n",
              "      <td>38</td>\n",
              "      <td>41</td>\n",
              "      <td>28</td>\n",
              "      <td>29</td>\n",
              "      <td>7</td>\n",
              "      <td>2</td>\n",
              "      <td>0</td>\n",
              "      <td>0</td>\n",
              "    </tr>\n",
              "    <tr>\n",
              "      <th>大府市</th>\n",
              "      <td>10</td>\n",
              "      <td>20</td>\n",
              "      <td>51</td>\n",
              "      <td>27</td>\n",
              "      <td>24</td>\n",
              "      <td>19</td>\n",
              "      <td>10</td>\n",
              "      <td>6</td>\n",
              "      <td>7</td>\n",
              "      <td>0</td>\n",
              "      <td>0</td>\n",
              "      <td>0</td>\n",
              "    </tr>\n",
              "    <tr>\n",
              "      <th>知多市</th>\n",
              "      <td>8</td>\n",
              "      <td>25</td>\n",
              "      <td>41</td>\n",
              "      <td>23</td>\n",
              "      <td>41</td>\n",
              "      <td>23</td>\n",
              "      <td>17</td>\n",
              "      <td>20</td>\n",
              "      <td>10</td>\n",
              "      <td>5</td>\n",
              "      <td>0</td>\n",
              "      <td>0</td>\n",
              "    </tr>\n",
              "    <tr>\n",
              "      <th>阿久比町</th>\n",
              "      <td>1</td>\n",
              "      <td>3</td>\n",
              "      <td>5</td>\n",
              "      <td>8</td>\n",
              "      <td>7</td>\n",
              "      <td>2</td>\n",
              "      <td>4</td>\n",
              "      <td>2</td>\n",
              "      <td>1</td>\n",
              "      <td>0</td>\n",
              "      <td>0</td>\n",
              "      <td>0</td>\n",
              "    </tr>\n",
              "    <tr>\n",
              "      <th>東浦町</th>\n",
              "      <td>5</td>\n",
              "      <td>8</td>\n",
              "      <td>25</td>\n",
              "      <td>12</td>\n",
              "      <td>15</td>\n",
              "      <td>10</td>\n",
              "      <td>6</td>\n",
              "      <td>2</td>\n",
              "      <td>2</td>\n",
              "      <td>1</td>\n",
              "      <td>0</td>\n",
              "      <td>0</td>\n",
              "    </tr>\n",
              "    <tr>\n",
              "      <th>南知多町</th>\n",
              "      <td>1</td>\n",
              "      <td>0</td>\n",
              "      <td>4</td>\n",
              "      <td>1</td>\n",
              "      <td>1</td>\n",
              "      <td>6</td>\n",
              "      <td>2</td>\n",
              "      <td>5</td>\n",
              "      <td>3</td>\n",
              "      <td>1</td>\n",
              "      <td>0</td>\n",
              "      <td>0</td>\n",
              "    </tr>\n",
              "    <tr>\n",
              "      <th>美浜町</th>\n",
              "      <td>0</td>\n",
              "      <td>5</td>\n",
              "      <td>7</td>\n",
              "      <td>2</td>\n",
              "      <td>2</td>\n",
              "      <td>2</td>\n",
              "      <td>6</td>\n",
              "      <td>1</td>\n",
              "      <td>1</td>\n",
              "      <td>0</td>\n",
              "      <td>0</td>\n",
              "      <td>0</td>\n",
              "    </tr>\n",
              "    <tr>\n",
              "      <th>武豊町</th>\n",
              "      <td>3</td>\n",
              "      <td>9</td>\n",
              "      <td>23</td>\n",
              "      <td>10</td>\n",
              "      <td>15</td>\n",
              "      <td>9</td>\n",
              "      <td>4</td>\n",
              "      <td>9</td>\n",
              "      <td>4</td>\n",
              "      <td>0</td>\n",
              "      <td>0</td>\n",
              "      <td>0</td>\n",
              "    </tr>\n",
              "    <tr>\n",
              "      <th>岡崎市</th>\n",
              "      <td>29</td>\n",
              "      <td>72</td>\n",
              "      <td>201</td>\n",
              "      <td>115</td>\n",
              "      <td>116</td>\n",
              "      <td>114</td>\n",
              "      <td>82</td>\n",
              "      <td>66</td>\n",
              "      <td>47</td>\n",
              "      <td>22</td>\n",
              "      <td>2</td>\n",
              "      <td>0</td>\n",
              "    </tr>\n",
              "    <tr>\n",
              "      <th>碧南市</th>\n",
              "      <td>3</td>\n",
              "      <td>6</td>\n",
              "      <td>31</td>\n",
              "      <td>20</td>\n",
              "      <td>33</td>\n",
              "      <td>22</td>\n",
              "      <td>20</td>\n",
              "      <td>17</td>\n",
              "      <td>10</td>\n",
              "      <td>3</td>\n",
              "      <td>0</td>\n",
              "      <td>0</td>\n",
              "    </tr>\n",
              "    <tr>\n",
              "      <th>刈谷市</th>\n",
              "      <td>9</td>\n",
              "      <td>24</td>\n",
              "      <td>81</td>\n",
              "      <td>53</td>\n",
              "      <td>46</td>\n",
              "      <td>45</td>\n",
              "      <td>20</td>\n",
              "      <td>27</td>\n",
              "      <td>19</td>\n",
              "      <td>1</td>\n",
              "      <td>0</td>\n",
              "      <td>0</td>\n",
              "    </tr>\n",
              "    <tr>\n",
              "      <th>豊田市</th>\n",
              "      <td>29</td>\n",
              "      <td>74</td>\n",
              "      <td>270</td>\n",
              "      <td>138</td>\n",
              "      <td>160</td>\n",
              "      <td>143</td>\n",
              "      <td>114</td>\n",
              "      <td>114</td>\n",
              "      <td>63</td>\n",
              "      <td>7</td>\n",
              "      <td>1</td>\n",
              "      <td>0</td>\n",
              "    </tr>\n",
              "    <tr>\n",
              "      <th>安城市</th>\n",
              "      <td>12</td>\n",
              "      <td>20</td>\n",
              "      <td>72</td>\n",
              "      <td>50</td>\n",
              "      <td>42</td>\n",
              "      <td>39</td>\n",
              "      <td>21</td>\n",
              "      <td>15</td>\n",
              "      <td>8</td>\n",
              "      <td>2</td>\n",
              "      <td>0</td>\n",
              "      <td>0</td>\n",
              "    </tr>\n",
              "    <tr>\n",
              "      <th>西尾市</th>\n",
              "      <td>32</td>\n",
              "      <td>28</td>\n",
              "      <td>66</td>\n",
              "      <td>67</td>\n",
              "      <td>60</td>\n",
              "      <td>48</td>\n",
              "      <td>23</td>\n",
              "      <td>23</td>\n",
              "      <td>9</td>\n",
              "      <td>7</td>\n",
              "      <td>0</td>\n",
              "      <td>0</td>\n",
              "    </tr>\n",
              "    <tr>\n",
              "      <th>知立市</th>\n",
              "      <td>10</td>\n",
              "      <td>16</td>\n",
              "      <td>40</td>\n",
              "      <td>39</td>\n",
              "      <td>31</td>\n",
              "      <td>25</td>\n",
              "      <td>13</td>\n",
              "      <td>7</td>\n",
              "      <td>8</td>\n",
              "      <td>1</td>\n",
              "      <td>0</td>\n",
              "      <td>0</td>\n",
              "    </tr>\n",
              "    <tr>\n",
              "      <th>高浜市</th>\n",
              "      <td>4</td>\n",
              "      <td>11</td>\n",
              "      <td>26</td>\n",
              "      <td>10</td>\n",
              "      <td>9</td>\n",
              "      <td>5</td>\n",
              "      <td>2</td>\n",
              "      <td>3</td>\n",
              "      <td>4</td>\n",
              "      <td>3</td>\n",
              "      <td>0</td>\n",
              "      <td>0</td>\n",
              "    </tr>\n",
              "    <tr>\n",
              "      <th>みよし市</th>\n",
              "      <td>3</td>\n",
              "      <td>8</td>\n",
              "      <td>18</td>\n",
              "      <td>12</td>\n",
              "      <td>23</td>\n",
              "      <td>29</td>\n",
              "      <td>9</td>\n",
              "      <td>12</td>\n",
              "      <td>7</td>\n",
              "      <td>2</td>\n",
              "      <td>0</td>\n",
              "      <td>0</td>\n",
              "    </tr>\n",
              "    <tr>\n",
              "      <th>幸田町</th>\n",
              "      <td>6</td>\n",
              "      <td>11</td>\n",
              "      <td>17</td>\n",
              "      <td>20</td>\n",
              "      <td>18</td>\n",
              "      <td>15</td>\n",
              "      <td>14</td>\n",
              "      <td>11</td>\n",
              "      <td>1</td>\n",
              "      <td>1</td>\n",
              "      <td>0</td>\n",
              "      <td>0</td>\n",
              "    </tr>\n",
              "    <tr>\n",
              "      <th>豊橋市</th>\n",
              "      <td>45</td>\n",
              "      <td>78</td>\n",
              "      <td>193</td>\n",
              "      <td>142</td>\n",
              "      <td>161</td>\n",
              "      <td>130</td>\n",
              "      <td>94</td>\n",
              "      <td>85</td>\n",
              "      <td>55</td>\n",
              "      <td>13</td>\n",
              "      <td>0</td>\n",
              "      <td>1</td>\n",
              "    </tr>\n",
              "    <tr>\n",
              "      <th>豊川市</th>\n",
              "      <td>15</td>\n",
              "      <td>26</td>\n",
              "      <td>68</td>\n",
              "      <td>52</td>\n",
              "      <td>51</td>\n",
              "      <td>59</td>\n",
              "      <td>26</td>\n",
              "      <td>30</td>\n",
              "      <td>28</td>\n",
              "      <td>12</td>\n",
              "      <td>0</td>\n",
              "      <td>0</td>\n",
              "    </tr>\n",
              "    <tr>\n",
              "      <th>蒲郡市</th>\n",
              "      <td>9</td>\n",
              "      <td>22</td>\n",
              "      <td>31</td>\n",
              "      <td>14</td>\n",
              "      <td>23</td>\n",
              "      <td>15</td>\n",
              "      <td>11</td>\n",
              "      <td>23</td>\n",
              "      <td>23</td>\n",
              "      <td>7</td>\n",
              "      <td>0</td>\n",
              "      <td>0</td>\n",
              "    </tr>\n",
              "    <tr>\n",
              "      <th>新城市</th>\n",
              "      <td>2</td>\n",
              "      <td>12</td>\n",
              "      <td>6</td>\n",
              "      <td>6</td>\n",
              "      <td>9</td>\n",
              "      <td>8</td>\n",
              "      <td>2</td>\n",
              "      <td>2</td>\n",
              "      <td>1</td>\n",
              "      <td>1</td>\n",
              "      <td>0</td>\n",
              "      <td>0</td>\n",
              "    </tr>\n",
              "    <tr>\n",
              "      <th>田原市</th>\n",
              "      <td>1</td>\n",
              "      <td>11</td>\n",
              "      <td>16</td>\n",
              "      <td>12</td>\n",
              "      <td>13</td>\n",
              "      <td>5</td>\n",
              "      <td>2</td>\n",
              "      <td>4</td>\n",
              "      <td>2</td>\n",
              "      <td>1</td>\n",
              "      <td>0</td>\n",
              "      <td>0</td>\n",
              "    </tr>\n",
              "    <tr>\n",
              "      <th>設楽町</th>\n",
              "      <td>0</td>\n",
              "      <td>0</td>\n",
              "      <td>0</td>\n",
              "      <td>0</td>\n",
              "      <td>0</td>\n",
              "      <td>0</td>\n",
              "      <td>0</td>\n",
              "      <td>1</td>\n",
              "      <td>1</td>\n",
              "      <td>0</td>\n",
              "      <td>0</td>\n",
              "      <td>0</td>\n",
              "    </tr>\n",
              "    <tr>\n",
              "      <th>東栄町</th>\n",
              "      <td>0</td>\n",
              "      <td>0</td>\n",
              "      <td>0</td>\n",
              "      <td>0</td>\n",
              "      <td>0</td>\n",
              "      <td>0</td>\n",
              "      <td>1</td>\n",
              "      <td>2</td>\n",
              "      <td>0</td>\n",
              "      <td>0</td>\n",
              "      <td>0</td>\n",
              "      <td>0</td>\n",
              "    </tr>\n",
              "    <tr>\n",
              "      <th>豊根村</th>\n",
              "      <td>0</td>\n",
              "      <td>0</td>\n",
              "      <td>1</td>\n",
              "      <td>0</td>\n",
              "      <td>0</td>\n",
              "      <td>0</td>\n",
              "      <td>0</td>\n",
              "      <td>0</td>\n",
              "      <td>0</td>\n",
              "      <td>0</td>\n",
              "      <td>0</td>\n",
              "      <td>0</td>\n",
              "    </tr>\n",
              "    <tr>\n",
              "      <th>県外</th>\n",
              "      <td>1</td>\n",
              "      <td>11</td>\n",
              "      <td>48</td>\n",
              "      <td>27</td>\n",
              "      <td>17</td>\n",
              "      <td>22</td>\n",
              "      <td>12</td>\n",
              "      <td>8</td>\n",
              "      <td>1</td>\n",
              "      <td>2</td>\n",
              "      <td>0</td>\n",
              "      <td>0</td>\n",
              "    </tr>\n",
              "  </tbody>\n",
              "</table>\n",
              "</div>"
            ],
            "text/plain": [
              "年代     10歳未満  10代   20代   30代   40代   50代  60代  70代  80代  90代  100代  その他\n",
              "住居地                                                                     \n",
              "名古屋市     331  532  2909  1810  1505  1335  971  860  708  247     9    1\n",
              "一宮市       27   80   189   115   111   151   85  110   84   10     0    0\n",
              "瀬戸市        9   21    74    53    51    47   24   29   17    3     0    0\n",
              "春日井市      22   93   180    99   134   133   68   93   57    8     0    0\n",
              "犬山市        4   26    21    19    22    16   19    9    2    2     0    0\n",
              "江南市        8   28    45    22    29    46   29   31   20    3     0    0\n",
              "小牧市       29   55    90    69    81    80   30   30   17    8     0    0\n",
              "稲沢市        7   22    64    34    39    46   16   41   21    2     0    0\n",
              "尾張旭市       8   27    53    27    26    26   23   16   11    1     0    0\n",
              "岩倉市        2   18    29    20    17    17   20    6    5    0     0    0\n",
              "豊明市        9    4    28    33    12    24   10    7    2    0     0    0\n",
              "日進市        8   20    58    39    37    39   34   17   14    2     0    0\n",
              "清須市        6   11    44    28    34    29   12   26   13    4     0    0\n",
              "北名古屋市     13   34    55    34    38    45   18   23    8    1     0    0\n",
              "長久手市       5   11    40    29    21    19    7    4    3    0     0    0\n",
              "東郷町        5   11    17     9    18    17    7    9    5    0     0    0\n",
              "豊山町        2    6     5     6    10     5    7    8    2    0     0    0\n",
              "大口町        3   11    11     9     8    11    2    6    2    4     0    0\n",
              "扶桑町        5   17     9     8    19    15    6   10    6    0     0    0\n",
              "津島市        1    8    39    11    16    35   18   23   10    0     0    0\n",
              "愛西市        3   12    23    13    26    30   23   35   15    0     0    0\n",
              "弥富市        2    5    29     9    17    27   13   25   24    6     0    0\n",
              "あま市       12   34    61    43    46    53   26   36   28    2     0    0\n",
              "大治町        3   14    20    17    18    18    7    7    6    0     0    0\n",
              "蟹江町        7    9    25    14    22    16   14   32   22    5     0    0\n",
              "飛島村        0    1     3     1     0     1    3    6    2    0     0    0\n",
              "半田市        9   24    55    46    37    38   19   10   10    5     1    0\n",
              "常滑市        4    9    24    12     9    13    7    7    1    0     0    0\n",
              "東海市        7   36    66    51    38    41   28   29    7    2     0    0\n",
              "大府市       10   20    51    27    24    19   10    6    7    0     0    0\n",
              "知多市        8   25    41    23    41    23   17   20   10    5     0    0\n",
              "阿久比町       1    3     5     8     7     2    4    2    1    0     0    0\n",
              "東浦町        5    8    25    12    15    10    6    2    2    1     0    0\n",
              "南知多町       1    0     4     1     1     6    2    5    3    1     0    0\n",
              "美浜町        0    5     7     2     2     2    6    1    1    0     0    0\n",
              "武豊町        3    9    23    10    15     9    4    9    4    0     0    0\n",
              "岡崎市       29   72   201   115   116   114   82   66   47   22     2    0\n",
              "碧南市        3    6    31    20    33    22   20   17   10    3     0    0\n",
              "刈谷市        9   24    81    53    46    45   20   27   19    1     0    0\n",
              "豊田市       29   74   270   138   160   143  114  114   63    7     1    0\n",
              "安城市       12   20    72    50    42    39   21   15    8    2     0    0\n",
              "西尾市       32   28    66    67    60    48   23   23    9    7     0    0\n",
              "知立市       10   16    40    39    31    25   13    7    8    1     0    0\n",
              "高浜市        4   11    26    10     9     5    2    3    4    3     0    0\n",
              "みよし市       3    8    18    12    23    29    9   12    7    2     0    0\n",
              "幸田町        6   11    17    20    18    15   14   11    1    1     0    0\n",
              "豊橋市       45   78   193   142   161   130   94   85   55   13     0    1\n",
              "豊川市       15   26    68    52    51    59   26   30   28   12     0    0\n",
              "蒲郡市        9   22    31    14    23    15   11   23   23    7     0    0\n",
              "新城市        2   12     6     6     9     8    2    2    1    1     0    0\n",
              "田原市        1   11    16    12    13     5    2    4    2    1     0    0\n",
              "設楽町        0    0     0     0     0     0    0    1    1    0     0    0\n",
              "東栄町        0    0     0     0     0     0    1    2    0    0     0    0\n",
              "豊根村        0    0     1     0     0     0    0    0    0    0     0    0\n",
              "県外         1   11    48    27    17    22   12    8    1    2     0    0"
            ]
          },
          "metadata": {
            "tags": []
          },
          "execution_count": 61
        }
      ]
    },
    {
      "cell_type": "code",
      "metadata": {
        "id": "EkVOgW9aEqlv",
        "colab": {
          "base_uri": "https://localhost:8080/",
          "height": 924
        },
        "outputId": "cf0a2be2-ec96-4971-997c-67b8d410d01f"
      },
      "source": [
        "df_area_ages.T.plot.bar(subplots=True, layout=(7, 8), figsize=(20, 15), legend=False);"
      ],
      "execution_count": 62,
      "outputs": [
        {
          "output_type": "display_data",
          "data": {
            "image/png": "[encoded data removed]",
            "text/plain": [
              "<Figure size 1440x1080 with 56 Axes>"
            ]
          },
          "metadata": {
            "tags": [],
            "needs_background": "light"
          }
        }
      ]
    },
    {
      "cell_type": "code",
      "metadata": {
        "id": "jzesGixFHDJA",
        "colab": {
          "base_uri": "https://localhost:8080/",
          "height": 1000
        },
        "outputId": "6a655ffb-f1d2-4193-f8df-599d6ff254ac"
      },
      "source": [
        "df_area_sex = pd.crosstab(df[\"住居地\"], df[\"性別\"]).reindex(index=aichi_cities + [\"県外\"], columns=[\"男性\", \"女性\", \"その他\"], fill_value=0)\r\n",
        "df_area_sex"
      ],
      "execution_count": 63,
      "outputs": [
        {
          "output_type": "execute_result",
          "data": {
            "text/html": [
              "<div>\n",
              "<style scoped>\n",
              "    .dataframe tbody tr th:only-of-type {\n",
              "        vertical-align: middle;\n",
              "    }\n",
              "\n",
              "    .dataframe tbody tr th {\n",
              "        vertical-align: top;\n",
              "    }\n",
              "\n",
              "    .dataframe thead th {\n",
              "        text-align: right;\n",
              "    }\n",
              "</style>\n",
              "<table border=\"1\" class=\"dataframe\">\n",
              "  <thead>\n",
              "    <tr style=\"text-align: right;\">\n",
              "      <th>性別</th>\n",
              "      <th>男性</th>\n",
              "      <th>女性</th>\n",
              "      <th>その他</th>\n",
              "    </tr>\n",
              "    <tr>\n",
              "      <th>住居地</th>\n",
              "      <th></th>\n",
              "      <th></th>\n",
              "      <th></th>\n",
              "    </tr>\n",
              "  </thead>\n",
              "  <tbody>\n",
              "    <tr>\n",
              "      <th>名古屋市</th>\n",
              "      <td>6005</td>\n",
              "      <td>5213</td>\n",
              "      <td>0</td>\n",
              "    </tr>\n",
              "    <tr>\n",
              "      <th>一宮市</th>\n",
              "      <td>497</td>\n",
              "      <td>465</td>\n",
              "      <td>0</td>\n",
              "    </tr>\n",
              "    <tr>\n",
              "      <th>瀬戸市</th>\n",
              "      <td>184</td>\n",
              "      <td>144</td>\n",
              "      <td>0</td>\n",
              "    </tr>\n",
              "    <tr>\n",
              "      <th>春日井市</th>\n",
              "      <td>519</td>\n",
              "      <td>368</td>\n",
              "      <td>0</td>\n",
              "    </tr>\n",
              "    <tr>\n",
              "      <th>犬山市</th>\n",
              "      <td>72</td>\n",
              "      <td>68</td>\n",
              "      <td>0</td>\n",
              "    </tr>\n",
              "    <tr>\n",
              "      <th>江南市</th>\n",
              "      <td>148</td>\n",
              "      <td>113</td>\n",
              "      <td>0</td>\n",
              "    </tr>\n",
              "    <tr>\n",
              "      <th>小牧市</th>\n",
              "      <td>249</td>\n",
              "      <td>240</td>\n",
              "      <td>0</td>\n",
              "    </tr>\n",
              "    <tr>\n",
              "      <th>稲沢市</th>\n",
              "      <td>164</td>\n",
              "      <td>128</td>\n",
              "      <td>0</td>\n",
              "    </tr>\n",
              "    <tr>\n",
              "      <th>尾張旭市</th>\n",
              "      <td>112</td>\n",
              "      <td>106</td>\n",
              "      <td>0</td>\n",
              "    </tr>\n",
              "    <tr>\n",
              "      <th>岩倉市</th>\n",
              "      <td>66</td>\n",
              "      <td>68</td>\n",
              "      <td>0</td>\n",
              "    </tr>\n",
              "    <tr>\n",
              "      <th>豊明市</th>\n",
              "      <td>65</td>\n",
              "      <td>64</td>\n",
              "      <td>0</td>\n",
              "    </tr>\n",
              "    <tr>\n",
              "      <th>日進市</th>\n",
              "      <td>150</td>\n",
              "      <td>118</td>\n",
              "      <td>0</td>\n",
              "    </tr>\n",
              "    <tr>\n",
              "      <th>清須市</th>\n",
              "      <td>120</td>\n",
              "      <td>87</td>\n",
              "      <td>0</td>\n",
              "    </tr>\n",
              "    <tr>\n",
              "      <th>北名古屋市</th>\n",
              "      <td>135</td>\n",
              "      <td>134</td>\n",
              "      <td>0</td>\n",
              "    </tr>\n",
              "    <tr>\n",
              "      <th>長久手市</th>\n",
              "      <td>86</td>\n",
              "      <td>53</td>\n",
              "      <td>0</td>\n",
              "    </tr>\n",
              "    <tr>\n",
              "      <th>東郷町</th>\n",
              "      <td>52</td>\n",
              "      <td>46</td>\n",
              "      <td>0</td>\n",
              "    </tr>\n",
              "    <tr>\n",
              "      <th>豊山町</th>\n",
              "      <td>26</td>\n",
              "      <td>25</td>\n",
              "      <td>0</td>\n",
              "    </tr>\n",
              "    <tr>\n",
              "      <th>大口町</th>\n",
              "      <td>38</td>\n",
              "      <td>29</td>\n",
              "      <td>0</td>\n",
              "    </tr>\n",
              "    <tr>\n",
              "      <th>扶桑町</th>\n",
              "      <td>51</td>\n",
              "      <td>44</td>\n",
              "      <td>0</td>\n",
              "    </tr>\n",
              "    <tr>\n",
              "      <th>津島市</th>\n",
              "      <td>87</td>\n",
              "      <td>74</td>\n",
              "      <td>0</td>\n",
              "    </tr>\n",
              "    <tr>\n",
              "      <th>愛西市</th>\n",
              "      <td>97</td>\n",
              "      <td>83</td>\n",
              "      <td>0</td>\n",
              "    </tr>\n",
              "    <tr>\n",
              "      <th>弥富市</th>\n",
              "      <td>66</td>\n",
              "      <td>91</td>\n",
              "      <td>0</td>\n",
              "    </tr>\n",
              "    <tr>\n",
              "      <th>あま市</th>\n",
              "      <td>189</td>\n",
              "      <td>152</td>\n",
              "      <td>0</td>\n",
              "    </tr>\n",
              "    <tr>\n",
              "      <th>大治町</th>\n",
              "      <td>55</td>\n",
              "      <td>55</td>\n",
              "      <td>0</td>\n",
              "    </tr>\n",
              "    <tr>\n",
              "      <th>蟹江町</th>\n",
              "      <td>85</td>\n",
              "      <td>81</td>\n",
              "      <td>0</td>\n",
              "    </tr>\n",
              "    <tr>\n",
              "      <th>飛島村</th>\n",
              "      <td>12</td>\n",
              "      <td>5</td>\n",
              "      <td>0</td>\n",
              "    </tr>\n",
              "    <tr>\n",
              "      <th>半田市</th>\n",
              "      <td>140</td>\n",
              "      <td>114</td>\n",
              "      <td>0</td>\n",
              "    </tr>\n",
              "    <tr>\n",
              "      <th>常滑市</th>\n",
              "      <td>52</td>\n",
              "      <td>34</td>\n",
              "      <td>0</td>\n",
              "    </tr>\n",
              "    <tr>\n",
              "      <th>東海市</th>\n",
              "      <td>177</td>\n",
              "      <td>128</td>\n",
              "      <td>0</td>\n",
              "    </tr>\n",
              "    <tr>\n",
              "      <th>大府市</th>\n",
              "      <td>104</td>\n",
              "      <td>70</td>\n",
              "      <td>0</td>\n",
              "    </tr>\n",
              "    <tr>\n",
              "      <th>知多市</th>\n",
              "      <td>111</td>\n",
              "      <td>102</td>\n",
              "      <td>0</td>\n",
              "    </tr>\n",
              "    <tr>\n",
              "      <th>阿久比町</th>\n",
              "      <td>16</td>\n",
              "      <td>17</td>\n",
              "      <td>0</td>\n",
              "    </tr>\n",
              "    <tr>\n",
              "      <th>東浦町</th>\n",
              "      <td>44</td>\n",
              "      <td>42</td>\n",
              "      <td>0</td>\n",
              "    </tr>\n",
              "    <tr>\n",
              "      <th>南知多町</th>\n",
              "      <td>11</td>\n",
              "      <td>13</td>\n",
              "      <td>0</td>\n",
              "    </tr>\n",
              "    <tr>\n",
              "      <th>美浜町</th>\n",
              "      <td>18</td>\n",
              "      <td>8</td>\n",
              "      <td>0</td>\n",
              "    </tr>\n",
              "    <tr>\n",
              "      <th>武豊町</th>\n",
              "      <td>45</td>\n",
              "      <td>41</td>\n",
              "      <td>0</td>\n",
              "    </tr>\n",
              "    <tr>\n",
              "      <th>岡崎市</th>\n",
              "      <td>462</td>\n",
              "      <td>404</td>\n",
              "      <td>0</td>\n",
              "    </tr>\n",
              "    <tr>\n",
              "      <th>碧南市</th>\n",
              "      <td>92</td>\n",
              "      <td>73</td>\n",
              "      <td>0</td>\n",
              "    </tr>\n",
              "    <tr>\n",
              "      <th>刈谷市</th>\n",
              "      <td>175</td>\n",
              "      <td>150</td>\n",
              "      <td>0</td>\n",
              "    </tr>\n",
              "    <tr>\n",
              "      <th>豊田市</th>\n",
              "      <td>659</td>\n",
              "      <td>454</td>\n",
              "      <td>0</td>\n",
              "    </tr>\n",
              "    <tr>\n",
              "      <th>安城市</th>\n",
              "      <td>163</td>\n",
              "      <td>118</td>\n",
              "      <td>0</td>\n",
              "    </tr>\n",
              "    <tr>\n",
              "      <th>西尾市</th>\n",
              "      <td>197</td>\n",
              "      <td>166</td>\n",
              "      <td>0</td>\n",
              "    </tr>\n",
              "    <tr>\n",
              "      <th>知立市</th>\n",
              "      <td>105</td>\n",
              "      <td>85</td>\n",
              "      <td>0</td>\n",
              "    </tr>\n",
              "    <tr>\n",
              "      <th>高浜市</th>\n",
              "      <td>42</td>\n",
              "      <td>35</td>\n",
              "      <td>0</td>\n",
              "    </tr>\n",
              "    <tr>\n",
              "      <th>みよし市</th>\n",
              "      <td>73</td>\n",
              "      <td>50</td>\n",
              "      <td>0</td>\n",
              "    </tr>\n",
              "    <tr>\n",
              "      <th>幸田町</th>\n",
              "      <td>45</td>\n",
              "      <td>69</td>\n",
              "      <td>0</td>\n",
              "    </tr>\n",
              "    <tr>\n",
              "      <th>豊橋市</th>\n",
              "      <td>512</td>\n",
              "      <td>485</td>\n",
              "      <td>0</td>\n",
              "    </tr>\n",
              "    <tr>\n",
              "      <th>豊川市</th>\n",
              "      <td>187</td>\n",
              "      <td>180</td>\n",
              "      <td>0</td>\n",
              "    </tr>\n",
              "    <tr>\n",
              "      <th>蒲郡市</th>\n",
              "      <td>97</td>\n",
              "      <td>81</td>\n",
              "      <td>0</td>\n",
              "    </tr>\n",
              "    <tr>\n",
              "      <th>新城市</th>\n",
              "      <td>26</td>\n",
              "      <td>23</td>\n",
              "      <td>0</td>\n",
              "    </tr>\n",
              "    <tr>\n",
              "      <th>田原市</th>\n",
              "      <td>44</td>\n",
              "      <td>23</td>\n",
              "      <td>0</td>\n",
              "    </tr>\n",
              "    <tr>\n",
              "      <th>設楽町</th>\n",
              "      <td>1</td>\n",
              "      <td>1</td>\n",
              "      <td>0</td>\n",
              "    </tr>\n",
              "    <tr>\n",
              "      <th>東栄町</th>\n",
              "      <td>2</td>\n",
              "      <td>1</td>\n",
              "      <td>0</td>\n",
              "    </tr>\n",
              "    <tr>\n",
              "      <th>豊根村</th>\n",
              "      <td>1</td>\n",
              "      <td>0</td>\n",
              "      <td>0</td>\n",
              "    </tr>\n",
              "    <tr>\n",
              "      <th>県外</th>\n",
              "      <td>108</td>\n",
              "      <td>41</td>\n",
              "      <td>0</td>\n",
              "    </tr>\n",
              "  </tbody>\n",
              "</table>\n",
              "</div>"
            ],
            "text/plain": [
              "性別       男性    女性  その他\n",
              "住居地                   \n",
              "名古屋市   6005  5213    0\n",
              "一宮市     497   465    0\n",
              "瀬戸市     184   144    0\n",
              "春日井市    519   368    0\n",
              "犬山市      72    68    0\n",
              "江南市     148   113    0\n",
              "小牧市     249   240    0\n",
              "稲沢市     164   128    0\n",
              "尾張旭市    112   106    0\n",
              "岩倉市      66    68    0\n",
              "豊明市      65    64    0\n",
              "日進市     150   118    0\n",
              "清須市     120    87    0\n",
              "北名古屋市   135   134    0\n",
              "長久手市     86    53    0\n",
              "東郷町      52    46    0\n",
              "豊山町      26    25    0\n",
              "大口町      38    29    0\n",
              "扶桑町      51    44    0\n",
              "津島市      87    74    0\n",
              "愛西市      97    83    0\n",
              "弥富市      66    91    0\n",
              "あま市     189   152    0\n",
              "大治町      55    55    0\n",
              "蟹江町      85    81    0\n",
              "飛島村      12     5    0\n",
              "半田市     140   114    0\n",
              "常滑市      52    34    0\n",
              "東海市     177   128    0\n",
              "大府市     104    70    0\n",
              "知多市     111   102    0\n",
              "阿久比町     16    17    0\n",
              "東浦町      44    42    0\n",
              "南知多町     11    13    0\n",
              "美浜町      18     8    0\n",
              "武豊町      45    41    0\n",
              "岡崎市     462   404    0\n",
              "碧南市      92    73    0\n",
              "刈谷市     175   150    0\n",
              "豊田市     659   454    0\n",
              "安城市     163   118    0\n",
              "西尾市     197   166    0\n",
              "知立市     105    85    0\n",
              "高浜市      42    35    0\n",
              "みよし市     73    50    0\n",
              "幸田町      45    69    0\n",
              "豊橋市     512   485    0\n",
              "豊川市     187   180    0\n",
              "蒲郡市      97    81    0\n",
              "新城市      26    23    0\n",
              "田原市      44    23    0\n",
              "設楽町       1     1    0\n",
              "東栄町       2     1    0\n",
              "豊根村       1     0    0\n",
              "県外      108    41    0"
            ]
          },
          "metadata": {
            "tags": []
          },
          "execution_count": 63
        }
      ]
    },
    {
      "cell_type": "code",
      "metadata": {
        "id": "l88eHSPuHTZo",
        "colab": {
          "base_uri": "https://localhost:8080/",
          "height": 912
        },
        "outputId": "cddbbd32-a14e-43f7-dfe7-088da5850e06"
      },
      "source": [
        "df_area_sex.T.plot.bar(subplots=True, layout=(7, 8), figsize=(20, 15), legend=False);"
      ],
      "execution_count": 64,
      "outputs": [
        {
          "output_type": "display_data",
          "data": {
            "image/png": "[encoded data removed]",
            "text/plain": [
              "<Figure size 1440x1080 with 56 Axes>"
            ]
          },
          "metadata": {
            "tags": [],
            "needs_background": "light"
          }
        }
      ]
    },
    {
      "cell_type": "markdown",
      "metadata": {
        "id": "bEhtCGDpKrIw"
      },
      "source": [
        "# 年代別性別"
      ]
    },
    {
      "cell_type": "code",
      "metadata": {
        "id": "VU90ycv3Juzg",
        "colab": {
          "base_uri": "https://localhost:8080/",
          "height": 457
        },
        "outputId": "879a8957-6b4c-4123-efe9-30c219a53ff8"
      },
      "source": [
        "df_ages_sex = pd.crosstab(df[\"年代\"], df[\"性別\"]).reindex(index=ages_list + [\"その他\"], columns=[\"男性\", \"女性\", \"その他\"], fill_value=0)\r\n",
        "df_ages_sex"
      ],
      "execution_count": 65,
      "outputs": [
        {
          "output_type": "execute_result",
          "data": {
            "text/html": [
              "<div>\n",
              "<style scoped>\n",
              "    .dataframe tbody tr th:only-of-type {\n",
              "        vertical-align: middle;\n",
              "    }\n",
              "\n",
              "    .dataframe tbody tr th {\n",
              "        vertical-align: top;\n",
              "    }\n",
              "\n",
              "    .dataframe thead th {\n",
              "        text-align: right;\n",
              "    }\n",
              "</style>\n",
              "<table border=\"1\" class=\"dataframe\">\n",
              "  <thead>\n",
              "    <tr style=\"text-align: right;\">\n",
              "      <th>性別</th>\n",
              "      <th>男性</th>\n",
              "      <th>女性</th>\n",
              "      <th>その他</th>\n",
              "    </tr>\n",
              "    <tr>\n",
              "      <th>年代</th>\n",
              "      <th></th>\n",
              "      <th></th>\n",
              "      <th></th>\n",
              "    </tr>\n",
              "  </thead>\n",
              "  <tbody>\n",
              "    <tr>\n",
              "      <th>10歳未満</th>\n",
              "      <td>398</td>\n",
              "      <td>391</td>\n",
              "      <td>0</td>\n",
              "    </tr>\n",
              "    <tr>\n",
              "      <th>10代</th>\n",
              "      <td>920</td>\n",
              "      <td>759</td>\n",
              "      <td>0</td>\n",
              "    </tr>\n",
              "    <tr>\n",
              "      <th>20代</th>\n",
              "      <td>2969</td>\n",
              "      <td>2638</td>\n",
              "      <td>0</td>\n",
              "    </tr>\n",
              "    <tr>\n",
              "      <th>30代</th>\n",
              "      <td>2001</td>\n",
              "      <td>1539</td>\n",
              "      <td>0</td>\n",
              "    </tr>\n",
              "    <tr>\n",
              "      <th>40代</th>\n",
              "      <td>1995</td>\n",
              "      <td>1363</td>\n",
              "      <td>0</td>\n",
              "    </tr>\n",
              "    <tr>\n",
              "      <th>50代</th>\n",
              "      <td>1775</td>\n",
              "      <td>1393</td>\n",
              "      <td>0</td>\n",
              "    </tr>\n",
              "    <tr>\n",
              "      <th>60代</th>\n",
              "      <td>1205</td>\n",
              "      <td>856</td>\n",
              "      <td>0</td>\n",
              "    </tr>\n",
              "    <tr>\n",
              "      <th>70代</th>\n",
              "      <td>1034</td>\n",
              "      <td>1006</td>\n",
              "      <td>0</td>\n",
              "    </tr>\n",
              "    <tr>\n",
              "      <th>80代</th>\n",
              "      <td>621</td>\n",
              "      <td>816</td>\n",
              "      <td>0</td>\n",
              "    </tr>\n",
              "    <tr>\n",
              "      <th>90代</th>\n",
              "      <td>118</td>\n",
              "      <td>289</td>\n",
              "      <td>0</td>\n",
              "    </tr>\n",
              "    <tr>\n",
              "      <th>100代</th>\n",
              "      <td>3</td>\n",
              "      <td>10</td>\n",
              "      <td>0</td>\n",
              "    </tr>\n",
              "    <tr>\n",
              "      <th>その他</th>\n",
              "      <td>0</td>\n",
              "      <td>2</td>\n",
              "      <td>0</td>\n",
              "    </tr>\n",
              "  </tbody>\n",
              "</table>\n",
              "</div>"
            ],
            "text/plain": [
              "性別       男性    女性  その他\n",
              "年代                    \n",
              "10歳未満   398   391    0\n",
              "10代     920   759    0\n",
              "20代    2969  2638    0\n",
              "30代    2001  1539    0\n",
              "40代    1995  1363    0\n",
              "50代    1775  1393    0\n",
              "60代    1205   856    0\n",
              "70代    1034  1006    0\n",
              "80代     621   816    0\n",
              "90代     118   289    0\n",
              "100代      3    10    0\n",
              "その他       0     2    0"
            ]
          },
          "metadata": {
            "tags": []
          },
          "execution_count": 65
        }
      ]
    },
    {
      "cell_type": "code",
      "metadata": {
        "id": "hZz16zLMKAzY",
        "colab": {
          "base_uri": "https://localhost:8080/",
          "height": 281
        },
        "outputId": "5c47d7d1-8ea0-4127-8b59-e4a29ac1bf7f"
      },
      "source": [
        "df_ages_sex.plot.barh()"
      ],
      "execution_count": 66,
      "outputs": [
        {
          "output_type": "execute_result",
          "data": {
            "text/plain": [
              "<matplotlib.axes._subplots.AxesSubplot at 0x7f4c45cf15c0>"
            ]
          },
          "metadata": {
            "tags": []
          },
          "execution_count": 66
        },
        {
          "output_type": "display_data",
          "data": {
            "image/png": "[encoded data removed]",
            "text/plain": [
              "<Figure size 432x288 with 1 Axes>"
            ]
          },
          "metadata": {
            "tags": [],
            "needs_background": "light"
          }
        }
      ]
    }
  ]
}