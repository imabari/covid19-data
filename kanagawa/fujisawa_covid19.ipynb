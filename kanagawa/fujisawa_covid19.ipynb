{
  "nbformat": 4,
  "nbformat_minor": 0,
  "metadata": {
    "colab": {
      "name": "fujisawa-covid19.ipynb",
      "provenance": [],
      "authorship_tag": "ABX9TyO9PLEv7GjdTadzbyeIoqiN",
      "include_colab_link": true
    },
    "kernelspec": {
      "name": "python3",
      "display_name": "Python 3"
    },
    "language_info": {
      "name": "python"
    }
  },
  "cells": [
    {
      "cell_type": "markdown",
      "metadata": {
        "id": "view-in-github",
        "colab_type": "text"
      },
      "source": [
        "<a href=\"https://colab.research.google.com/github/imabari/covid19-data/blob/master/kanagawa/fujisawa_covid19.ipynb\" target=\"_parent\"><img src=\"https://colab.research.google.com/assets/colab-badge.svg\" alt=\"Open In Colab\"/></a>"
      ]
    },
    {
      "cell_type": "code",
      "source": [
        "!pip install pdfplumber"
      ],
      "metadata": {
        "colab": {
          "base_uri": "https://localhost:8080/",
          "height": 660
        },
        "id": "bIEEg6duEpMt",
        "outputId": "88c5ec8b-45e7-4285-fd3f-44162b647579"
      },
      "execution_count": 1,
      "outputs": [
        {
          "output_type": "stream",
          "name": "stdout",
          "text": [
            "Collecting pdfplumber\n",
            "  Downloading pdfplumber-0.6.0.tar.gz (46 kB)\n",
            "\u001b[K     |████████████████████████████████| 46 kB 1.4 MB/s \n",
            "\u001b[?25hCollecting pdfminer.six==20211012\n",
            "  Downloading pdfminer.six-20211012-py3-none-any.whl (5.6 MB)\n",
            "\u001b[K     |████████████████████████████████| 5.6 MB 9.1 MB/s \n",
            "\u001b[?25hCollecting Pillow>=8.4\n",
            "  Downloading Pillow-9.0.1-cp37-cp37m-manylinux_2_17_x86_64.manylinux2014_x86_64.whl (4.3 MB)\n",
            "\u001b[K     |████████████████████████████████| 4.3 MB 32.5 MB/s \n",
            "\u001b[?25hCollecting Wand>=0.6.7\n",
            "  Downloading Wand-0.6.7-py2.py3-none-any.whl (139 kB)\n",
            "\u001b[K     |████████████████████████████████| 139 kB 39.1 MB/s \n",
            "\u001b[?25hRequirement already satisfied: chardet in /usr/local/lib/python3.7/dist-packages (from pdfminer.six==20211012->pdfplumber) (3.0.4)\n",
            "Collecting cryptography\n",
            "  Downloading cryptography-36.0.1-cp36-abi3-manylinux_2_24_x86_64.whl (3.6 MB)\n",
            "\u001b[K     |████████████████████████████████| 3.6 MB 37.0 MB/s \n",
            "\u001b[?25hRequirement already satisfied: cffi>=1.12 in /usr/local/lib/python3.7/dist-packages (from cryptography->pdfminer.six==20211012->pdfplumber) (1.15.0)\n",
            "Requirement already satisfied: pycparser in /usr/local/lib/python3.7/dist-packages (from cffi>=1.12->cryptography->pdfminer.six==20211012->pdfplumber) (2.21)\n",
            "Building wheels for collected packages: pdfplumber\n",
            "  Building wheel for pdfplumber (setup.py) ... \u001b[?25l\u001b[?25hdone\n",
            "  Created wheel for pdfplumber: filename=pdfplumber-0.6.0-py3-none-any.whl size=33688 sha256=950f91e1440f41e78b4ee07019c962993ca1b9126e4f2dc5482aae523c39579b\n",
            "  Stored in directory: /root/.cache/pip/wheels/58/56/fe/2e93d842ffa9ea97746c1ab253d43502ed61c0689361a0224e\n",
            "Successfully built pdfplumber\n",
            "Installing collected packages: cryptography, Wand, Pillow, pdfminer.six, pdfplumber\n",
            "  Attempting uninstall: Pillow\n",
            "    Found existing installation: Pillow 7.1.2\n",
            "    Uninstalling Pillow-7.1.2:\n",
            "      Successfully uninstalled Pillow-7.1.2\n",
            "\u001b[31mERROR: pip's dependency resolver does not currently take into account all the packages that are installed. This behaviour is the source of the following dependency conflicts.\n",
            "albumentations 0.1.12 requires imgaug<0.2.7,>=0.2.5, but you have imgaug 0.2.9 which is incompatible.\u001b[0m\n",
            "Successfully installed Pillow-9.0.1 Wand-0.6.7 cryptography-36.0.1 pdfminer.six-20211012 pdfplumber-0.6.0\n"
          ]
        },
        {
          "output_type": "display_data",
          "data": {
            "application/vnd.colab-display-data+json": {
              "pip_warning": {
                "packages": [
                  "PIL"
                ]
              }
            }
          },
          "metadata": {}
        }
      ]
    },
    {
      "cell_type": "markdown",
      "source": [
        "# スクレイピング"
      ],
      "metadata": {
        "id": "lRpqQrO5QFzT"
      }
    },
    {
      "cell_type": "code",
      "source": [
        "import requests\n",
        "from bs4 import BeautifulSoup"
      ],
      "metadata": {
        "id": "WfjmxpA6QAB8"
      },
      "execution_count": 2,
      "outputs": []
    },
    {
      "cell_type": "code",
      "source": [
        "from urllib.parse import urljoin"
      ],
      "metadata": {
        "id": "ipUupNJnQAB9"
      },
      "execution_count": 3,
      "outputs": []
    },
    {
      "cell_type": "code",
      "source": [
        "import re"
      ],
      "metadata": {
        "id": "jI6Gx9k6QWou"
      },
      "execution_count": 4,
      "outputs": []
    },
    {
      "cell_type": "code",
      "source": [
        "import pathlib"
      ],
      "metadata": {
        "id": "suQez-2hQAB-"
      },
      "execution_count": 5,
      "outputs": []
    },
    {
      "cell_type": "code",
      "source": [
        "headers = {\n",
        "    \"User-Agent\": \"Mozilla/5.0 (Windows NT 10.0; WOW64; Trident/7.0; rv:11.0) like Gecko\"\n",
        "}"
      ],
      "metadata": {
        "id": "Mp143MjPQAB_"
      },
      "execution_count": 6,
      "outputs": []
    },
    {
      "cell_type": "code",
      "source": [
        "def fetch_soup(url, parser=\"html.parser\"):\n",
        "\n",
        "    r = requests.get(url, headers=headers)\n",
        "    r.raise_for_status()\n",
        "\n",
        "    soup = BeautifulSoup(r.content, parser)\n",
        "\n",
        "    return soup"
      ],
      "metadata": {
        "id": "K4gwEvZMQACA"
      },
      "execution_count": 7,
      "outputs": []
    },
    {
      "cell_type": "code",
      "source": [
        "def fetch_file(url, dir=\".\"):\n",
        "\n",
        "    p = pathlib.Path(dir, pathlib.PurePath(url).name)\n",
        "    p.parent.mkdir(parents=True, exist_ok=True)\n",
        "\n",
        "    r = requests.get(url)\n",
        "    r.raise_for_status()\n",
        "\n",
        "    with p.open(mode=\"wb\") as fw:\n",
        "        fw.write(r.content)\n",
        "    return p"
      ],
      "metadata": {
        "id": "0qTdKRrwQACB"
      },
      "execution_count": 8,
      "outputs": []
    },
    {
      "cell_type": "code",
      "source": [
        "url = \"https://www.city.fujisawa.kanagawa.jp/hokenyobo/corona_doukou_data.html\""
      ],
      "metadata": {
        "id": "QCo1WqpaQACC"
      },
      "execution_count": 9,
      "outputs": []
    },
    {
      "cell_type": "code",
      "source": [
        "soup = fetch_soup(url)"
      ],
      "metadata": {
        "id": "V2stLMeiQACD"
      },
      "execution_count": 10,
      "outputs": []
    },
    {
      "cell_type": "code",
      "source": [
        "tag = soup.find(\"a\", href=re.compile(\".pdf$\"), text=re.compile(\"【令和３年１０月～】\"))"
      ],
      "metadata": {
        "id": "bBW0N-xMQKr2"
      },
      "execution_count": 11,
      "outputs": []
    },
    {
      "cell_type": "code",
      "source": [
        "link = urljoin(url, tag.get(\"href\"))"
      ],
      "metadata": {
        "id": "696d68InQACF"
      },
      "execution_count": 12,
      "outputs": []
    },
    {
      "cell_type": "code",
      "source": [
        "p = fetch_file(link)"
      ],
      "metadata": {
        "id": "aFiSq0CjQuyp"
      },
      "execution_count": 13,
      "outputs": []
    },
    {
      "cell_type": "markdown",
      "source": [
        "# PDFからCSV変換"
      ],
      "metadata": {
        "id": "XTZ6uXuoQznj"
      }
    },
    {
      "cell_type": "code",
      "source": [
        "import datetime"
      ],
      "metadata": {
        "id": "xuFPikNjNUgH"
      },
      "execution_count": 14,
      "outputs": []
    },
    {
      "cell_type": "code",
      "source": [
        "import pdfplumber\n",
        "import pandas as pd"
      ],
      "metadata": {
        "id": "69JVqYHcEpMx"
      },
      "execution_count": 15,
      "outputs": []
    },
    {
      "cell_type": "code",
      "source": [
        "JST = datetime.timezone(datetime.timedelta(hours=+9))\n",
        "dt_now = datetime.datetime.now(JST).replace(tzinfo=None)"
      ],
      "metadata": {
        "id": "tA7WHshNNUgJ"
      },
      "execution_count": 16,
      "outputs": []
    },
    {
      "cell_type": "code",
      "source": [
        "with pdfplumber.open(p) as pdf:\n",
        "\n",
        "    dfs = []\n",
        "\n",
        "    for page in pdf.pages:\n",
        "\n",
        "        table = page.extract_table()\n",
        "\n",
        "        df_tmp = pd.DataFrame(table[1:], columns=table[0])\n",
        "\n",
        "        dfs.append(df_tmp)"
      ],
      "metadata": {
        "id": "ScJZPmwtEpNE"
      },
      "execution_count": 17,
      "outputs": []
    },
    {
      "cell_type": "code",
      "source": [
        "df0 = pd.concat(dfs).reset_index(drop=True)"
      ],
      "metadata": {
        "id": "yrjQ3Nd6EpNE"
      },
      "execution_count": 18,
      "outputs": []
    },
    {
      "cell_type": "code",
      "source": [
        "df1 = df0.copy()"
      ],
      "metadata": {
        "id": "vDQVQWCDHzbS"
      },
      "execution_count": 19,
      "outputs": []
    },
    {
      "cell_type": "code",
      "source": [
        "df1.rename(columns={None: \"No\"}, inplace=True)"
      ],
      "metadata": {
        "id": "Sm3aFQlRKZtQ"
      },
      "execution_count": 20,
      "outputs": []
    },
    {
      "cell_type": "code",
      "source": [
        "df1[\"発表日\"].fillna(method=\"ffill\", inplace=True)"
      ],
      "metadata": {
        "id": "uUG7Sp7VH4dY"
      },
      "execution_count": 21,
      "outputs": []
    },
    {
      "cell_type": "code",
      "source": [
        "df_date = df1[\"発表日\"].str.extract(\"(\\d{4})年(\\d{1,2})月(\\d{1,2})日\").astype(int).rename(columns={0: \"year\", 1:\"month\", 2:\"day\"})"
      ],
      "metadata": {
        "id": "4-56muTxJHl5"
      },
      "execution_count": 22,
      "outputs": []
    },
    {
      "cell_type": "code",
      "source": [
        "df1[\"date\"] = pd.to_datetime(df_date, errors=\"coerce\")"
      ],
      "metadata": {
        "id": "XSNsYAWQJlGY"
      },
      "execution_count": 23,
      "outputs": []
    },
    {
      "cell_type": "code",
      "source": [
        "# 7024が2022年10月15日になってるので修正\n",
        "df_date[\"year\"].mask(df1[\"date\"] > dt_now, df_date[\"year\"] - 1, inplace=True)"
      ],
      "metadata": {
        "id": "EFCuTe1nPBjc"
      },
      "execution_count": 24,
      "outputs": []
    },
    {
      "cell_type": "code",
      "source": [
        "df1[\"date\"] = pd.to_datetime(df_date, errors=\"coerce\")"
      ],
      "metadata": {
        "id": "ohPPskVePUUt"
      },
      "execution_count": 25,
      "outputs": []
    },
    {
      "cell_type": "code",
      "source": [
        "df1"
      ],
      "metadata": {
        "colab": {
          "base_uri": "https://localhost:8080/",
          "height": 424
        },
        "id": "umRvp6BdI0_C",
        "outputId": "347dc7d1-77a9-40bd-df76-810eaba1fb9b"
      },
      "execution_count": 26,
      "outputs": [
        {
          "output_type": "execute_result",
          "data": {
            "text/html": [
              "\n",
              "  <div id=\"df-01664574-8bc7-4fb1-964d-f5715e7ae6fc\">\n",
              "    <div class=\"colab-df-container\">\n",
              "      <div>\n",
              "<style scoped>\n",
              "    .dataframe tbody tr th:only-of-type {\n",
              "        vertical-align: middle;\n",
              "    }\n",
              "\n",
              "    .dataframe tbody tr th {\n",
              "        vertical-align: top;\n",
              "    }\n",
              "\n",
              "    .dataframe thead th {\n",
              "        text-align: right;\n",
              "    }\n",
              "</style>\n",
              "<table border=\"1\" class=\"dataframe\">\n",
              "  <thead>\n",
              "    <tr style=\"text-align: right;\">\n",
              "      <th></th>\n",
              "      <th>番号</th>\n",
              "      <th>発表日</th>\n",
              "      <th>No</th>\n",
              "      <th>年代</th>\n",
              "      <th>性別</th>\n",
              "      <th>居住地</th>\n",
              "      <th>職業</th>\n",
              "      <th>備考</th>\n",
              "      <th>date</th>\n",
              "    </tr>\n",
              "  </thead>\n",
              "  <tbody>\n",
              "    <tr>\n",
              "      <th>0</th>\n",
              "      <td>6972</td>\n",
              "      <td>2021年10月1日</td>\n",
              "      <td>1</td>\n",
              "      <td>80代</td>\n",
              "      <td>女性</td>\n",
              "      <td>藤沢市</td>\n",
              "      <td>無職</td>\n",
              "      <td></td>\n",
              "      <td>2021-10-01</td>\n",
              "    </tr>\n",
              "    <tr>\n",
              "      <th>1</th>\n",
              "      <td>6973</td>\n",
              "      <td>2021年10月1日</td>\n",
              "      <td>2</td>\n",
              "      <td>40代</td>\n",
              "      <td>男性</td>\n",
              "      <td>藤沢市</td>\n",
              "      <td>会社員</td>\n",
              "      <td></td>\n",
              "      <td>2021-10-01</td>\n",
              "    </tr>\n",
              "    <tr>\n",
              "      <th>2</th>\n",
              "      <td>6974</td>\n",
              "      <td>2021年10月1日</td>\n",
              "      <td>3</td>\n",
              "      <td>20代</td>\n",
              "      <td>女性</td>\n",
              "      <td>藤沢市</td>\n",
              "      <td>学生</td>\n",
              "      <td></td>\n",
              "      <td>2021-10-01</td>\n",
              "    </tr>\n",
              "    <tr>\n",
              "      <th>3</th>\n",
              "      <td>6975</td>\n",
              "      <td>2021年10月1日</td>\n",
              "      <td>4</td>\n",
              "      <td>20代</td>\n",
              "      <td>男性</td>\n",
              "      <td>藤沢市</td>\n",
              "      <td>介護職員</td>\n",
              "      <td></td>\n",
              "      <td>2021-10-01</td>\n",
              "    </tr>\n",
              "    <tr>\n",
              "      <th>4</th>\n",
              "      <td>6976</td>\n",
              "      <td>2021年10月1日</td>\n",
              "      <td>5</td>\n",
              "      <td>20代</td>\n",
              "      <td>女性</td>\n",
              "      <td>藤沢市</td>\n",
              "      <td>会社員</td>\n",
              "      <td></td>\n",
              "      <td>2021-10-01</td>\n",
              "    </tr>\n",
              "    <tr>\n",
              "      <th>...</th>\n",
              "      <td>...</td>\n",
              "      <td>...</td>\n",
              "      <td>...</td>\n",
              "      <td>...</td>\n",
              "      <td>...</td>\n",
              "      <td>...</td>\n",
              "      <td>...</td>\n",
              "      <td>...</td>\n",
              "      <td>...</td>\n",
              "    </tr>\n",
              "    <tr>\n",
              "      <th>15</th>\n",
              "      <td>21615</td>\n",
              "      <td>2022年3月6日</td>\n",
              "      <td>334</td>\n",
              "      <td>10代</td>\n",
              "      <td>男性</td>\n",
              "      <td>藤沢市</td>\n",
              "      <td>---</td>\n",
              "      <td></td>\n",
              "      <td>2022-03-06</td>\n",
              "    </tr>\n",
              "    <tr>\n",
              "      <th>16</th>\n",
              "      <td>21616</td>\n",
              "      <td>2022年3月6日</td>\n",
              "      <td>335</td>\n",
              "      <td>40代</td>\n",
              "      <td>女性</td>\n",
              "      <td>藤沢市</td>\n",
              "      <td>自営業</td>\n",
              "      <td></td>\n",
              "      <td>2022-03-06</td>\n",
              "    </tr>\n",
              "    <tr>\n",
              "      <th>17</th>\n",
              "      <td>21617</td>\n",
              "      <td>2022年3月6日</td>\n",
              "      <td>336</td>\n",
              "      <td>20代</td>\n",
              "      <td>女性</td>\n",
              "      <td>市外</td>\n",
              "      <td>学生</td>\n",
              "      <td></td>\n",
              "      <td>2022-03-06</td>\n",
              "    </tr>\n",
              "    <tr>\n",
              "      <th>18</th>\n",
              "      <td>21618</td>\n",
              "      <td>2022年3月6日</td>\n",
              "      <td>337</td>\n",
              "      <td>90代</td>\n",
              "      <td>女性</td>\n",
              "      <td>藤沢市</td>\n",
              "      <td>無職</td>\n",
              "      <td></td>\n",
              "      <td>2022-03-06</td>\n",
              "    </tr>\n",
              "    <tr>\n",
              "      <th>19</th>\n",
              "      <td>21619</td>\n",
              "      <td>2022年3月6日</td>\n",
              "      <td>338</td>\n",
              "      <td>20代</td>\n",
              "      <td>女性</td>\n",
              "      <td>藤沢市</td>\n",
              "      <td>アルバイト</td>\n",
              "      <td></td>\n",
              "      <td>2022-03-06</td>\n",
              "    </tr>\n",
              "  </tbody>\n",
              "</table>\n",
              "<p>14644 rows × 9 columns</p>\n",
              "</div>\n",
              "      <button class=\"colab-df-convert\" onclick=\"convertToInteractive('df-01664574-8bc7-4fb1-964d-f5715e7ae6fc')\"\n",
              "              title=\"Convert this dataframe to an interactive table.\"\n",
              "              style=\"display:none;\">\n",
              "        \n",
              "  <svg xmlns=\"http://www.w3.org/2000/svg\" height=\"24px\"viewBox=\"0 0 24 24\"\n",
              "       width=\"24px\">\n",
              "    <path d=\"M0 0h24v24H0V0z\" fill=\"none\"/>\n",
              "    <path d=\"M18.56 5.44l.94 2.06.94-2.06 2.06-.94-2.06-.94-.94-2.06-.94 2.06-2.06.94zm-11 1L8.5 8.5l.94-2.06 2.06-.94-2.06-.94L8.5 2.5l-.94 2.06-2.06.94zm10 10l.94 2.06.94-2.06 2.06-.94-2.06-.94-.94-2.06-.94 2.06-2.06.94z\"/><path d=\"M17.41 7.96l-1.37-1.37c-.4-.4-.92-.59-1.43-.59-.52 0-1.04.2-1.43.59L10.3 9.45l-7.72 7.72c-.78.78-.78 2.05 0 2.83L4 21.41c.39.39.9.59 1.41.59.51 0 1.02-.2 1.41-.59l7.78-7.78 2.81-2.81c.8-.78.8-2.07 0-2.86zM5.41 20L4 18.59l7.72-7.72 1.47 1.35L5.41 20z\"/>\n",
              "  </svg>\n",
              "      </button>\n",
              "      \n",
              "  <style>\n",
              "    .colab-df-container {\n",
              "      display:flex;\n",
              "      flex-wrap:wrap;\n",
              "      gap: 12px;\n",
              "    }\n",
              "\n",
              "    .colab-df-convert {\n",
              "      background-color: #E8F0FE;\n",
              "      border: none;\n",
              "      border-radius: 50%;\n",
              "      cursor: pointer;\n",
              "      display: none;\n",
              "      fill: #1967D2;\n",
              "      height: 32px;\n",
              "      padding: 0 0 0 0;\n",
              "      width: 32px;\n",
              "    }\n",
              "\n",
              "    .colab-df-convert:hover {\n",
              "      background-color: #E2EBFA;\n",
              "      box-shadow: 0px 1px 2px rgba(60, 64, 67, 0.3), 0px 1px 3px 1px rgba(60, 64, 67, 0.15);\n",
              "      fill: #174EA6;\n",
              "    }\n",
              "\n",
              "    [theme=dark] .colab-df-convert {\n",
              "      background-color: #3B4455;\n",
              "      fill: #D2E3FC;\n",
              "    }\n",
              "\n",
              "    [theme=dark] .colab-df-convert:hover {\n",
              "      background-color: #434B5C;\n",
              "      box-shadow: 0px 1px 3px 1px rgba(0, 0, 0, 0.15);\n",
              "      filter: drop-shadow(0px 1px 2px rgba(0, 0, 0, 0.3));\n",
              "      fill: #FFFFFF;\n",
              "    }\n",
              "  </style>\n",
              "\n",
              "      <script>\n",
              "        const buttonEl =\n",
              "          document.querySelector('#df-01664574-8bc7-4fb1-964d-f5715e7ae6fc button.colab-df-convert');\n",
              "        buttonEl.style.display =\n",
              "          google.colab.kernel.accessAllowed ? 'block' : 'none';\n",
              "\n",
              "        async function convertToInteractive(key) {\n",
              "          const element = document.querySelector('#df-01664574-8bc7-4fb1-964d-f5715e7ae6fc');\n",
              "          const dataTable =\n",
              "            await google.colab.kernel.invokeFunction('convertToInteractive',\n",
              "                                                     [key], {});\n",
              "          if (!dataTable) return;\n",
              "\n",
              "          const docLinkHtml = 'Like what you see? Visit the ' +\n",
              "            '<a target=\"_blank\" href=https://colab.research.google.com/notebooks/data_table.ipynb>data table notebook</a>'\n",
              "            + ' to learn more about interactive tables.';\n",
              "          element.innerHTML = '';\n",
              "          dataTable['output_type'] = 'display_data';\n",
              "          await google.colab.output.renderOutput(dataTable, element);\n",
              "          const docLink = document.createElement('div');\n",
              "          docLink.innerHTML = docLinkHtml;\n",
              "          element.appendChild(docLink);\n",
              "        }\n",
              "      </script>\n",
              "    </div>\n",
              "  </div>\n",
              "  "
            ],
            "text/plain": [
              "       番号         発表日   No   年代  性別  居住地     職業 備考       date\n",
              "0    6972  2021年10月1日    1  80代  女性  藤沢市     無職    2021-10-01\n",
              "1    6973  2021年10月1日    2  40代  男性  藤沢市    会社員    2021-10-01\n",
              "2    6974  2021年10月1日    3  20代  女性  藤沢市     学生    2021-10-01\n",
              "3    6975  2021年10月1日    4  20代  男性  藤沢市   介護職員    2021-10-01\n",
              "4    6976  2021年10月1日    5  20代  女性  藤沢市    会社員    2021-10-01\n",
              "..    ...         ...  ...  ...  ..  ...    ... ..        ...\n",
              "15  21615   2022年3月6日  334  10代  男性  藤沢市    ---    2022-03-06\n",
              "16  21616   2022年3月6日  335  40代  女性  藤沢市    自営業    2022-03-06\n",
              "17  21617   2022年3月6日  336  20代  女性   市外     学生    2022-03-06\n",
              "18  21618   2022年3月6日  337  90代  女性  藤沢市     無職    2022-03-06\n",
              "19  21619   2022年3月6日  338  20代  女性  藤沢市  アルバイト    2022-03-06\n",
              "\n",
              "[14644 rows x 9 columns]"
            ]
          },
          "metadata": {},
          "execution_count": 26
        }
      ]
    },
    {
      "cell_type": "code",
      "source": [
        "df1.to_csv(\"fujisawa.csv\", encoding=\"utf_8_sig\")"
      ],
      "metadata": {
        "id": "hDoYUk7VQ5V5"
      },
      "execution_count": 27,
      "outputs": []
    },
    {
      "cell_type": "markdown",
      "source": [
        "# ダウンロード"
      ],
      "metadata": {
        "id": "-yjIKqXBRAVi"
      }
    },
    {
      "cell_type": "code",
      "source": [
        "from google.colab import files\n",
        "\n",
        "files.download(\"fujisawa.csv\")"
      ],
      "metadata": {
        "colab": {
          "base_uri": "https://localhost:8080/",
          "height": 17
        },
        "id": "MR-e3M0ARB4-",
        "outputId": "e275db4d-75e5-4294-9ae9-554d23fdc91a"
      },
      "execution_count": 28,
      "outputs": [
        {
          "output_type": "display_data",
          "data": {
            "application/javascript": [
              "\n",
              "    async function download(id, filename, size) {\n",
              "      if (!google.colab.kernel.accessAllowed) {\n",
              "        return;\n",
              "      }\n",
              "      const div = document.createElement('div');\n",
              "      const label = document.createElement('label');\n",
              "      label.textContent = `Downloading \"${filename}\": `;\n",
              "      div.appendChild(label);\n",
              "      const progress = document.createElement('progress');\n",
              "      progress.max = size;\n",
              "      div.appendChild(progress);\n",
              "      document.body.appendChild(div);\n",
              "\n",
              "      const buffers = [];\n",
              "      let downloaded = 0;\n",
              "\n",
              "      const channel = await google.colab.kernel.comms.open(id);\n",
              "      // Send a message to notify the kernel that we're ready.\n",
              "      channel.send({})\n",
              "\n",
              "      for await (const message of channel.messages) {\n",
              "        // Send a message to notify the kernel that we're ready.\n",
              "        channel.send({})\n",
              "        if (message.buffers) {\n",
              "          for (const buffer of message.buffers) {\n",
              "            buffers.push(buffer);\n",
              "            downloaded += buffer.byteLength;\n",
              "            progress.value = downloaded;\n",
              "          }\n",
              "        }\n",
              "      }\n",
              "      const blob = new Blob(buffers, {type: 'application/binary'});\n",
              "      const a = document.createElement('a');\n",
              "      a.href = window.URL.createObjectURL(blob);\n",
              "      a.download = filename;\n",
              "      div.appendChild(a);\n",
              "      a.click();\n",
              "      div.remove();\n",
              "    }\n",
              "  "
            ],
            "text/plain": [
              "<IPython.core.display.Javascript object>"
            ]
          },
          "metadata": {}
        },
        {
          "output_type": "display_data",
          "data": {
            "application/javascript": [
              "download(\"download_898bbc8a-42ad-4b4a-9e90-a7cb0b852cf0\", \"fujisawa.csv\", 1065908)"
            ],
            "text/plain": [
              "<IPython.core.display.Javascript object>"
            ]
          },
          "metadata": {}
        }
      ]
    }
  ]
}