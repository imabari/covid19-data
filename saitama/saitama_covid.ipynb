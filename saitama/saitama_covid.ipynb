{
  "nbformat": 4,
  "nbformat_minor": 0,
  "metadata": {
    "colab": {
      "name": "saitama_covid.ipynb",
      "provenance": [],
      "collapsed_sections": [],
      "toc_visible": true,
      "authorship_tag": "ABX9TyPvZXf6tKVa/4GkjiwCXnCT",
      "include_colab_link": true
    },
    "kernelspec": {
      "name": "python3",
      "display_name": "Python 3"
    }
  },
  "cells": [
    {
      "cell_type": "markdown",
      "metadata": {
        "id": "view-in-github",
        "colab_type": "text"
      },
      "source": [
        "<a href=\"https://colab.research.google.com/github/imabari/covid19-data/blob/master/saitama/saitama_covid.ipynb\" target=\"_parent\"><img src=\"https://colab.research.google.com/assets/colab-badge.svg\" alt=\"Open In Colab\"/></a>"
      ]
    },
    {
      "cell_type": "code",
      "metadata": {
        "id": "lRSqPiGgUeLj"
      },
      "source": [
        "import datetime\r\n",
        "import json\r\n",
        "import pathlib\r\n",
        "import re\r\n",
        "from urllib.parse import urljoin"
      ],
      "execution_count": 1,
      "outputs": []
    },
    {
      "cell_type": "code",
      "metadata": {
        "id": "2mRq8YGGDPo3"
      },
      "source": [
        "import pandas as pd\r\n",
        "import requests\r\n",
        "from bs4 import BeautifulSoup"
      ],
      "execution_count": 2,
      "outputs": []
    },
    {
      "cell_type": "code",
      "metadata": {
        "id": "4AF5yjAiU8vA"
      },
      "source": [
        "def fetch_soup(url):\r\n",
        "\r\n",
        "    r = requests.get(url)\r\n",
        "    r.raise_for_status()\r\n",
        "\r\n",
        "    soup = BeautifulSoup(r.content, \"html.parser\")\r\n",
        "\r\n",
        "    return soup"
      ],
      "execution_count": 3,
      "outputs": []
    },
    {
      "cell_type": "code",
      "metadata": {
        "id": "ryXcNiVjUe_Z"
      },
      "source": [
        "def fetch_file(url, dir=\".\"):\r\n",
        "\r\n",
        "    r = requests.get(url)\r\n",
        "\r\n",
        "    p = pathlib.Path(dir, pathlib.PurePath(url).name)\r\n",
        "    p.parent.mkdir(parents=True, exist_ok=True)\r\n",
        "\r\n",
        "    with p.open(mode=\"wb\") as fw:\r\n",
        "        fw.write(r.content)\r\n",
        "\r\n",
        "    return p"
      ],
      "execution_count": 4,
      "outputs": []
    },
    {
      "cell_type": "code",
      "metadata": {
        "id": "eZ-JmiYtUfFJ"
      },
      "source": [
        "def fetch_csv(url, text):\r\n",
        "\r\n",
        "    soup = fetch_soup(url)\r\n",
        "    href = soup.find_all(\"a\", title=re.compile(text))[-1].get(\"href\")\r\n",
        "\r\n",
        "    csv_soup = fetch_soup(urljoin(url, href))\r\n",
        "    csv_href = csv_soup.find(\"p\", class_=\"muted ellipsis\").find(\"a\").get(\"href\")\r\n",
        "\r\n",
        "    p = fetch_file(csv_href, \"download\")\r\n",
        "\r\n",
        "    return p"
      ],
      "execution_count": 5,
      "outputs": []
    },
    {
      "cell_type": "code",
      "metadata": {
        "id": "NjAcsQBE67wD"
      },
      "source": [
        "def str2date(s):\r\n",
        "\r\n",
        "    lst = list(map(int, re.findall(\"\\d+\", s)))\r\n",
        "    lst.insert(0, None)\r\n",
        "\r\n",
        "    return lst[-3:]"
      ],
      "execution_count": 6,
      "outputs": []
    },
    {
      "cell_type": "code",
      "metadata": {
        "id": "QS6vcm1pcqvY"
      },
      "source": [
        "def dumps_json(file_name, json_data, dir=\".\"):\r\n",
        "\r\n",
        "    p = pathlib.Path(dir, file_name)\r\n",
        "    p.parent.mkdir(parents=True, exist_ok=True)\r\n",
        "\r\n",
        "    with p.open(mode=\"w\") as fw:\r\n",
        "        json.dump(json_data, fw, ensure_ascii=False, indent=4)"
      ],
      "execution_count": 7,
      "outputs": []
    },
    {
      "cell_type": "markdown",
      "metadata": {
        "id": "9xwDNQXbb_3y"
      },
      "source": [
        "## プログラム"
      ]
    },
    {
      "cell_type": "code",
      "metadata": {
        "id": "OHpSWPh8U6ch"
      },
      "source": [
        "# 検査陽性者の状況\r\n",
        "MAIN_SUMMARY_URL = \"http://www.pref.saitama.lg.jp/a0701/shingatacoronavirus.html\""
      ],
      "execution_count": 8,
      "outputs": []
    },
    {
      "cell_type": "code",
      "metadata": {
        "id": "CFcFYPe-Xmkp"
      },
      "source": [
        "soup = fetch_soup(MAIN_SUMMARY_URL)"
      ],
      "execution_count": 9,
      "outputs": []
    },
    {
      "cell_type": "code",
      "metadata": {
        "id": "KRYIP6VSWgyI"
      },
      "source": [
        "# 更新日付取得\r\n",
        "s = soup.select_one(\"#tmp_contents > h2\").get_text()\r\n",
        "m = re.search(\"([0-9]+)月([0-9]+)日\", s)\r\n",
        "\r\n",
        "month, day = map(int, m.groups())"
      ],
      "execution_count": 10,
      "outputs": []
    },
    {
      "cell_type": "code",
      "metadata": {
        "id": "QYxkNRaSWpvR"
      },
      "source": [
        "dt_now = datetime.datetime.now()"
      ],
      "execution_count": 11,
      "outputs": []
    },
    {
      "cell_type": "code",
      "metadata": {
        "id": "eargLRoQX66h"
      },
      "source": [
        "dt_update = dt_now.replace(month=month, day=day, hour=21, minute=0, second=0, microsecond=0)\r\n",
        "\r\n",
        "if dt_now < dt_update:\r\n",
        "    dt_update = dt_update.replace(year=dt_now.year -1)\r\n",
        "\r\n",
        "str_update = dt_update.strftime(\"%Y/%m/%d %H:%M\")"
      ],
      "execution_count": 12,
      "outputs": []
    },
    {
      "cell_type": "code",
      "metadata": {
        "id": "oTXxzztmZh2p"
      },
      "source": [
        "data = {\"lastUpdate\": str_update}"
      ],
      "execution_count": 13,
      "outputs": []
    },
    {
      "cell_type": "code",
      "metadata": {
        "id": "fU79BcI_WE85"
      },
      "source": [
        "tag = soup.select_one(\"#tmp_contents > div > div.outline > ul\")"
      ],
      "execution_count": 14,
      "outputs": []
    },
    {
      "cell_type": "code",
      "metadata": {
        "id": "zRmk_rAGW4Yx"
      },
      "source": [
        "# 人数取得\r\n",
        "text = tag.get_text(strip=True)\r\n",
        "\r\n",
        "temp = {}"
      ],
      "execution_count": 15,
      "outputs": []
    },
    {
      "cell_type": "code",
      "metadata": {
        "id": "8X347D8SampB"
      },
      "source": [
        "for i in re.finditer(\r\n",
        "    r\"(陽性確認者数|新規公表分|指定医療機関|一般医療機関|最重症者|重症者|宿泊療養|自宅療養|新型コロナウイルス感染症を死因とする死亡|死亡|調整中|退院・療養終了)：?([0-9,]+)人?\",\r\n",
        "    text,\r\n",
        "):\r\n",
        "\r\n",
        "    temp[i.group(1)] = int(i.group(2).replace(\",\", \"\"))"
      ],
      "execution_count": 16,
      "outputs": []
    },
    {
      "cell_type": "code",
      "metadata": {
        "id": "VvS51YTOa-Oh"
      },
      "source": [
        "for i in re.finditer(r\"(自治体による検査|民間検査機関等による検査)（\\d{1,2}月\\d{1,2}日まで）：延べ([0-9,]+)人\", text):\r\n",
        "    temp[i.group(1)] = int(i.group(2).replace(\",\", \"\"))"
      ],
      "execution_count": 17,
      "outputs": []
    },
    {
      "cell_type": "code",
      "metadata": {
        "id": "fTouLlOQaxK5"
      },
      "source": [
        "m = re.search(\"(入院)：(指定医療機関)([0-9,]+)人\\s*(一般医療機関)([0-9,]+)人\\s*(計)([0-9,]+)人\", text)\r\n",
        "if m:\r\n",
        "    temp[f\"{m.group(1)}_{m.group(2)}\"] = int(m.group(3).replace(\",\", \"\"))\r\n",
        "    temp[f\"{m.group(1)}_{m.group(4)}\"] = int(m.group(5).replace(\",\", \"\"))\r\n",
        "    temp[f\"{m.group(1)}_{m.group(6)}\"] = int(m.group(7).replace(\",\", \"\"))"
      ],
      "execution_count": 18,
      "outputs": []
    },
    {
      "cell_type": "code",
      "metadata": {
        "id": "XCtBT-rPaxOJ"
      },
      "source": [
        "m = re.search(\"(退院・療養終了)：(退院)([0-9,]+)人\\s*(療養終了)([0-9,]+)人\\s*(計)([0-9,]+)人?\", text)\r\n",
        "if m:\r\n",
        "    temp[f\"{m.group(1)}_{m.group(2)}\"] = int(m.group(3).replace(\",\", \"\"))\r\n",
        "    temp[f\"{m.group(1)}_{m.group(4)}\"] = int(m.group(5).replace(\",\", \"\"))\r\n",
        "    temp[f\"{m.group(1)}_{m.group(6)}\"] = int(m.group(7).replace(\",\", \"\"))"
      ],
      "execution_count": 19,
      "outputs": []
    },
    {
      "cell_type": "code",
      "metadata": {
        "colab": {
          "base_uri": "https://localhost:8080/"
        },
        "id": "BKkOQtgRbEMy",
        "outputId": "c0c2e0c4-6d7d-41cc-8c79-ef03d91089a1"
      },
      "source": [
        "temp"
      ],
      "execution_count": 20,
      "outputs": [
        {
          "output_type": "execute_result",
          "data": {
            "text/plain": [
              "{'一般医療機関': 692,\n",
              " '入院_一般医療機関': 692,\n",
              " '入院_指定医療機関': 203,\n",
              " '入院_計': 895,\n",
              " '宿泊療養': 266,\n",
              " '指定医療機関': 203,\n",
              " '新型コロナウイルス感染症を死因とする死亡': 224,\n",
              " '新規公表分': 328,\n",
              " '最重症者': 6,\n",
              " '死亡': 275,\n",
              " '民間検査機関等による検査': 334413,\n",
              " '自宅療養': 4988,\n",
              " '自治体による検査': 50618,\n",
              " '調整中': 328,\n",
              " '退院・療養終了_療養終了': 8638,\n",
              " '退院・療養終了_計': 14361,\n",
              " '退院・療養終了_退院': 5723,\n",
              " '重症者': 73,\n",
              " '陽性確認者数': 21113}"
            ]
          },
          "metadata": {
            "tags": []
          },
          "execution_count": 20
        }
      ]
    },
    {
      "cell_type": "code",
      "metadata": {
        "id": "FaGmBtOddkaR"
      },
      "source": [
        "data[\"main_summary\"] = {\r\n",
        "    \"attr\": \"検査実施人数\",\r\n",
        "    \"value\": temp[\"自治体による検査\"],\r\n",
        "    \"children\": [\r\n",
        "        {\r\n",
        "            \"attr\": \"陽性患者数\",\r\n",
        "            \"value\": temp[\"陽性確認者数\"],\r\n",
        "            \"children\": [\r\n",
        "                {\r\n",
        "                    \"attr\": \"入院中\",\r\n",
        "                    \"value\": temp[\"陽性確認者数\"] - temp[\"退院・療養終了_計\"] - temp[\"死亡\"],\r\n",
        "                    \"children\": [\r\n",
        "                        {\r\n",
        "                            \"attr\": \"軽症・中等症\",\r\n",
        "                            \"value\": temp[\"陽性確認者数\"]\r\n",
        "                            - temp[\"退院・療養終了_計\"]\r\n",
        "                            - temp[\"死亡\"]\r\n",
        "                            - temp[\"最重症者\"]\r\n",
        "                            - temp[\"重症者\"],\r\n",
        "                        },\r\n",
        "                        {\"attr\": \"重症\", \"value\": temp[\"最重症者\"] + temp[\"重症者\"]},\r\n",
        "                    ],\r\n",
        "                },\r\n",
        "                {\"attr\": \"退院\", \"value\": temp[\"退院・療養終了_計\"]},\r\n",
        "                {\"attr\": \"死亡\", \"value\": temp[\"死亡\"]},\r\n",
        "            ],\r\n",
        "        }\r\n",
        "    ],\r\n",
        "}"
      ],
      "execution_count": 21,
      "outputs": []
    },
    {
      "cell_type": "code",
      "metadata": {
        "id": "nuN-0wUTdqDo"
      },
      "source": [
        "# main_summary.json\r\n",
        "main_summary = {\r\n",
        "    \"attr\": \"検査実施人数\",\r\n",
        "    \"value\": temp[\"自治体による検査\"],\r\n",
        "    \"children\": [\r\n",
        "        {\r\n",
        "            \"attr\": \"陽性患者数\",\r\n",
        "            \"value\": temp[\"陽性確認者数\"],\r\n",
        "            \"children\": [\r\n",
        "                {\r\n",
        "                    \"attr\": \"入院中\",\r\n",
        "                    \"value\": temp[\"指定医療機関\"] + temp[\"一般医療機関\"],\r\n",
        "                    \"children\": [\r\n",
        "                        {\"attr\": \"重症\", \"value\": temp[\"最重症者\"] + temp[\"重症者\"]},\r\n",
        "                    ],\r\n",
        "                },\r\n",
        "                {\"attr\": \"宿泊療養\", \"value\": temp[\"宿泊療養\"]},\r\n",
        "                {\"attr\": \"自宅療養\", \"value\": temp[\"自宅療養\"]},\r\n",
        "                {\"attr\": \"調整中\", \"value\": temp[\"調整中\"]},\r\n",
        "                {\"attr\": \"死亡\", \"value\": temp[\"死亡\"]},\r\n",
        "                {\"attr\": \"退院・療養終了\", \"value\": temp[\"退院・療養終了_計\"]},\r\n",
        "            ],\r\n",
        "        }\r\n",
        "    ],\r\n",
        "    \"lastUpdate\": str_update,\r\n",
        "}"
      ],
      "execution_count": 22,
      "outputs": []
    },
    {
      "cell_type": "code",
      "metadata": {
        "id": "KVff1JgWd_A5"
      },
      "source": [
        "dumps_json(\"main_summary.json\", main_summary, \"data\")"
      ],
      "execution_count": 23,
      "outputs": []
    },
    {
      "cell_type": "markdown",
      "metadata": {
        "id": "O2w08sVegNpJ"
      },
      "source": [
        "# 検査"
      ]
    },
    {
      "cell_type": "markdown",
      "metadata": {
        "id": "I1eLm8T3RiVF"
      },
      "source": [
        "## 前処理"
      ]
    },
    {
      "cell_type": "code",
      "metadata": {
        "id": "DDJ-TeNH_d3i"
      },
      "source": [
        "# 検査数\r\n",
        "KENSA_URL = \"https://opendata.pref.saitama.lg.jp/data/dataset/covid19-kensa\"\r\n",
        "KENSA_TITLE = \"^埼玉県が実施した新型コロナウイルス疑い例検査数\""
      ],
      "execution_count": 24,
      "outputs": []
    },
    {
      "cell_type": "code",
      "metadata": {
        "id": "TLCGpCN0gNBp"
      },
      "source": [
        "# 検査\r\n",
        "kensa_path = fetch_csv(KENSA_URL, KENSA_TITLE)"
      ],
      "execution_count": 25,
      "outputs": []
    },
    {
      "cell_type": "code",
      "metadata": {
        "id": "jic1YJswgT9B"
      },
      "source": [
        "df_kensa = pd.read_csv(kensa_path, encoding=\"cp932\")"
      ],
      "execution_count": 26,
      "outputs": []
    },
    {
      "cell_type": "code",
      "metadata": {
        "id": "-KJH9eBwj1aq"
      },
      "source": [
        "df_date = (\r\n",
        "    df_kensa[\"検査日\"]\r\n",
        "    .astype(\"str\")\r\n",
        "    .apply(str2date)\r\n",
        "    .apply(pd.Series)\r\n",
        "    .fillna(method=\"ffill\")\r\n",
        "    .rename(columns={0: \"year\", 1: \"month\", 2: \"day\"})\r\n",
        ")"
      ],
      "execution_count": 27,
      "outputs": []
    },
    {
      "cell_type": "code",
      "metadata": {
        "id": "tVZrSLh39m57"
      },
      "source": [
        "df_kensa[\"検査日\"] = pd.to_datetime(df_date, errors=\"coerce\")"
      ],
      "execution_count": 28,
      "outputs": []
    },
    {
      "cell_type": "code",
      "metadata": {
        "id": "2--Xxxlj9-ja"
      },
      "source": [
        "df_kensa = df_kensa.set_index(\"検査日\")\r\n",
        "df_kensa.rename(columns={\"検査数（延べ人数）\": \"小計\"}, inplace=True)\r\n",
        "df_kensa[\"日付\"] = df_kensa.index.strftime(\"%Y-%m-%dT08:00:00.000Z\")"
      ],
      "execution_count": 29,
      "outputs": []
    },
    {
      "cell_type": "markdown",
      "metadata": {
        "id": "6nwnooS2RbtL"
      },
      "source": [
        "## inspections_summary"
      ]
    },
    {
      "cell_type": "code",
      "metadata": {
        "id": "rAPU-skFRey6"
      },
      "source": [
        "df_insp_sum = df_kensa.loc[:, [\"日付\", \"小計\"]]"
      ],
      "execution_count": 30,
      "outputs": []
    },
    {
      "cell_type": "code",
      "metadata": {
        "id": "PN2F72l0erkq"
      },
      "source": [
        "data[\"inspections_summary\"] = {\r\n",
        "    \"data\": df_insp_sum.to_dict(orient=\"records\"),\r\n",
        "    \"date\": str_update,\r\n",
        "}"
      ],
      "execution_count": 31,
      "outputs": []
    },
    {
      "cell_type": "markdown",
      "metadata": {
        "id": "-w4GHzrs_4qa"
      },
      "source": [
        "# 陽性患者数"
      ]
    },
    {
      "cell_type": "markdown",
      "metadata": {
        "id": "QmoLA37dRQ_L"
      },
      "source": [
        "## 前処理"
      ]
    },
    {
      "cell_type": "code",
      "metadata": {
        "id": "nQwn4wm6_jOy"
      },
      "source": [
        "# 陽性患者数\r\n",
        "JOKYO_URL = \"https://opendata.pref.saitama.lg.jp/data/dataset/covid19-jokyo\"\r\n",
        "JOKYO_TITLE = \"^埼玉県内の新型コロナウイルス感染症の発生状況\""
      ],
      "execution_count": 32,
      "outputs": []
    },
    {
      "cell_type": "code",
      "metadata": {
        "id": "H2aVRLhP_8Va"
      },
      "source": [
        "# 状況\r\n",
        "jokyo_path = fetch_csv(JOKYO_URL, JOKYO_TITLE)"
      ],
      "execution_count": 33,
      "outputs": []
    },
    {
      "cell_type": "code",
      "metadata": {
        "colab": {
          "base_uri": "https://localhost:8080/"
        },
        "id": "MFqJs2wiAZCZ",
        "outputId": "a959539d-6cb8-4661-c98c-79452cf960ec"
      },
      "source": [
        "jokyo_path"
      ],
      "execution_count": 34,
      "outputs": [
        {
          "output_type": "execute_result",
          "data": {
            "text/plain": [
              "PosixPath('download/jokyo20210118.csv')"
            ]
          },
          "metadata": {
            "tags": []
          },
          "execution_count": 34
        }
      ]
    },
    {
      "cell_type": "code",
      "metadata": {
        "id": "chTnaKVzAChJ"
      },
      "source": [
        "df_kanja = pd.read_csv(jokyo_path, encoding=\"cp932\")"
      ],
      "execution_count": 35,
      "outputs": []
    },
    {
      "cell_type": "code",
      "metadata": {
        "id": "ai4J3Q9lBLrS"
      },
      "source": [
        "df_temp = (\r\n",
        "    df_kanja[\"判明日\"]\r\n",
        "    .astype(\"str\")\r\n",
        "    .apply(str2date)\r\n",
        "    .apply(pd.Series)\r\n",
        "    .rename(columns={0: \"year\", 1: \"month\", 2: \"day\"})\r\n",
        ")"
      ],
      "execution_count": 36,
      "outputs": []
    },
    {
      "cell_type": "code",
      "metadata": {
        "id": "QtKsHtzeCslR"
      },
      "source": [
        "df_temp[\"year\"] = df_temp[\"year\"].replace({20: 2020, 21: 2021}).fillna(method=\"ffill\")"
      ],
      "execution_count": 37,
      "outputs": []
    },
    {
      "cell_type": "code",
      "metadata": {
        "id": "o5sx75c4Cprp"
      },
      "source": [
        "df_kanja[\"date\"] = pd.to_datetime(df_temp, errors=\"coerce\")"
      ],
      "execution_count": 38,
      "outputs": []
    },
    {
      "cell_type": "markdown",
      "metadata": {
        "id": "OMPLeXf8RKir"
      },
      "source": [
        "## patients_summary"
      ]
    },
    {
      "cell_type": "code",
      "metadata": {
        "id": "H9t7i51CBjJK"
      },
      "source": [
        "ser_patients_sum = df_kanja[\"date\"].value_counts().sort_index()"
      ],
      "execution_count": 39,
      "outputs": []
    },
    {
      "cell_type": "code",
      "metadata": {
        "id": "kajPXA7VGj8T"
      },
      "source": [
        "dt_range = pd.date_range(ser_patients_sum.index[0], df_kensa.index[-1])\r\n",
        "ser_patients_sum = ser_patients_sum.reindex(index=dt_range, fill_value=0)"
      ],
      "execution_count": 40,
      "outputs": []
    },
    {
      "cell_type": "code",
      "metadata": {
        "id": "cBuzjQTiG-wJ"
      },
      "source": [
        "df_patients_sum = pd.DataFrame({\"小計\": ser_patients_sum})"
      ],
      "execution_count": 41,
      "outputs": []
    },
    {
      "cell_type": "code",
      "metadata": {
        "id": "E-_Nu5u2JFjb"
      },
      "source": [
        "df_patients_sum[\"日付\"] = df_patients_sum.index.strftime(\"%Y-%m-%dT08:00:00.000Z\")"
      ],
      "execution_count": 42,
      "outputs": []
    },
    {
      "cell_type": "code",
      "metadata": {
        "id": "pc8YhKKfI_ss"
      },
      "source": [
        "data[\"patients_summary\"] = {\r\n",
        "    \"data\": df_patients_sum.to_dict(orient=\"records\"),\r\n",
        "    \"date\": str_update,\r\n",
        "}"
      ],
      "execution_count": 43,
      "outputs": []
    },
    {
      "cell_type": "markdown",
      "metadata": {
        "id": "jyXpI4CXJYUT"
      },
      "source": [
        "## patients"
      ]
    },
    {
      "cell_type": "code",
      "metadata": {
        "id": "h3DEvo4eLRk6"
      },
      "source": [
        "df_kanja.rename(columns={\"NO.\": \"No\"}, inplace=True)"
      ],
      "execution_count": 44,
      "outputs": []
    },
    {
      "cell_type": "code",
      "metadata": {
        "id": "qz2R1FFmLhvL"
      },
      "source": [
        "df_kanja[\"リリース日\"] = df_kanja[\"date\"].dt.strftime(\"%Y-%m-%dT08:00:00.000Z\")\r\n",
        "df_kanja[\"リリース日\"] = df_kanja[\"リリース日\"].mask(df_kanja[\"判明日\"] == \"調査中\", \"調査中\")"
      ],
      "execution_count": 45,
      "outputs": []
    },
    {
      "cell_type": "code",
      "metadata": {
        "id": "Z2YAGNiJMYkq"
      },
      "source": [
        "df_kanja[\"date\"] = df_kanja[\"date\"].dt.strftime(\"%Y-%m-%d\")\r\n",
        "df_kanja[\"date\"] = df_kanja[\"date\"].mask(df_kanja[\"判明日\"] == \"調査中\", \"調査中\")"
      ],
      "execution_count": 46,
      "outputs": []
    },
    {
      "cell_type": "code",
      "metadata": {
        "id": "u3mOqMynHmxS"
      },
      "source": [
        "df_kanja[\"退院\"] = \"\""
      ],
      "execution_count": 47,
      "outputs": []
    },
    {
      "cell_type": "code",
      "metadata": {
        "id": "5oU-dBJAHobr"
      },
      "source": [
        "df_patients = df_kanja.loc[:, [\"No\", \"リリース日\", \"年代\", \"性別\", \"居住地\", \"退院\", \"date\"]].copy()\r\n",
        "df_patients.dropna(subset=[\"リリース日\"], inplace=True)\r\n",
        "df_patients.fillna(\"\", inplace=True)"
      ],
      "execution_count": 48,
      "outputs": []
    },
    {
      "cell_type": "code",
      "metadata": {
        "id": "bCmegNTRUFux"
      },
      "source": [
        "data[\"patients\"] = {\r\n",
        "    \"data\": df_patients.to_dict(orient=\"records\"),\r\n",
        "    \"date\": str_update,\r\n",
        "}"
      ],
      "execution_count": 49,
      "outputs": []
    },
    {
      "cell_type": "code",
      "metadata": {
        "id": "mBqKL425h4WR"
      },
      "source": [
        "dumps_json(\"data.json\", data, \"data\")"
      ],
      "execution_count": 50,
      "outputs": []
    }
  ]
}