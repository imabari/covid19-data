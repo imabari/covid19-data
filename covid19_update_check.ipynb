{
  "nbformat": 4,
  "nbformat_minor": 0,
  "metadata": {
    "colab": {
      "name": "covid19_update_check.ipynb",
      "provenance": [],
      "authorship_tag": "ABX9TyN/GjLg1vH0SOjwtbt5cZtD",
      "include_colab_link": true
    },
    "kernelspec": {
      "name": "python3",
      "display_name": "Python 3"
    }
  },
  "cells": [
    {
      "cell_type": "markdown",
      "metadata": {
        "id": "view-in-github",
        "colab_type": "text"
      },
      "source": [
        "<a href=\"https://colab.research.google.com/github/imabari/covid19-data/blob/master/covid19_update_check.ipynb\" target=\"_parent\"><img src=\"https://colab.research.google.com/assets/colab-badge.svg\" alt=\"Open In Colab\"/></a>"
      ]
    },
    {
      "cell_type": "code",
      "metadata": {
        "id": "v0KnWAuVA55t",
        "colab_type": "code",
        "colab": {}
      },
      "source": [
        "import csv\n",
        "import datetime\n",
        "import time"
      ],
      "execution_count": 6,
      "outputs": []
    },
    {
      "cell_type": "code",
      "metadata": {
        "id": "eEvtUIhMSTFj",
        "colab_type": "code",
        "colab": {}
      },
      "source": [
        "import dateutil.parser\n",
        "import requests"
      ],
      "execution_count": 7,
      "outputs": []
    },
    {
      "cell_type": "code",
      "metadata": {
        "id": "efJgukruAo1v",
        "colab_type": "code",
        "colab": {
          "base_uri": "https://localhost:8080/",
          "height": 213
        },
        "outputId": "37600317-dcd8-46a9-f79b-d04c59174846"
      },
      "source": [
        "!wget https://docs.google.com/spreadsheets/d/e/2PACX-1vRKCr0sySSGgA7k1uDuGJwLSF17oI1jsq0XwyEVDd8Lyo9gb5VqY3AYUhi5-Dcj0_-1hrYr32WyP9Ep/pub?output=csv -O data.csv\n",
        "\n",
        "# スプレッドシート\n",
        "# https://docs.google.com/spreadsheets/d/1uPPA_8i6BootGwLiLV3Xdcsd9p9LiAzd6DoskHvGEcs/edit?usp=sharing"
      ],
      "execution_count": 8,
      "outputs": [
        {
          "output_type": "stream",
          "text": [
            "--2020-07-23 05:20:30--  https://docs.google.com/spreadsheets/d/e/2PACX-1vRKCr0sySSGgA7k1uDuGJwLSF17oI1jsq0XwyEVDd8Lyo9gb5VqY3AYUhi5-Dcj0_-1hrYr32WyP9Ep/pub?output=csv\n",
            "Resolving docs.google.com (docs.google.com)... 64.233.189.100, 64.233.189.138, 64.233.189.139, ...\n",
            "Connecting to docs.google.com (docs.google.com)|64.233.189.100|:443... connected.\n",
            "HTTP request sent, awaiting response... 200 OK\n",
            "Length: unspecified [text/csv]\n",
            "Saving to: ‘data.csv’\n",
            "\n",
            "\rdata.csv                [<=>                 ]       0  --.-KB/s               \rdata.csv                [ <=>                ]   3.46K  --.-KB/s    in 0s      \n",
            "\n",
            "2020-07-23 05:20:31 (39.8 MB/s) - ‘data.csv’ saved [3542]\n",
            "\n"
          ],
          "name": "stdout"
        }
      ]
    },
    {
      "cell_type": "code",
      "metadata": {
        "id": "2TzBiSYsUOJt",
        "colab_type": "code",
        "colab": {}
      },
      "source": [
        "JST = datetime.timezone(datetime.timedelta(hours=+9))\n",
        "\n",
        "# 現在\n",
        "dt_now = datetime.datetime.now(JST)"
      ],
      "execution_count": 9,
      "outputs": []
    },
    {
      "cell_type": "code",
      "metadata": {
        "id": "38zz8iHNA71J",
        "colab_type": "code",
        "colab": {
          "base_uri": "https://localhost:8080/",
          "height": 836
        },
        "outputId": "9f8ce3ae-5a0c-4a89-ebcc-03773d66a5fe"
      },
      "source": [
        "with open(\"data.csv\", newline=\"\") as csvfile:\n",
        "    reader = csv.DictReader(csvfile)\n",
        "    for row in reader:\n",
        "\n",
        "        if row[\"url\"]:\n",
        "\n",
        "            r = requests.get(row[\"url\"])\n",
        "            data = r.json()\n",
        "\n",
        "            if row[\"label\"]:\n",
        "                dt_update = dateutil.parser.parse(data.get(row[\"label\"])).replace(\n",
        "                    tzinfo=JST\n",
        "                )\n",
        "\n",
        "            else:\n",
        "                dt_update = dateutil.parser.parse(data).replace(tzinfo=JST)\n",
        "\n",
        "            print(row[\"pref\"], (dt_now - dt_update).days)\n",
        "\n",
        "            time.sleep(2)\n",
        "        else:\n",
        "            print(row[\"pref\"])"
      ],
      "execution_count": 11,
      "outputs": [
        {
          "output_type": "stream",
          "text": [
            "北海道 0\n",
            "岩手県 3\n",
            "宮城県 1\n",
            "秋田県 31\n",
            "山形県 1\n",
            "福島県 0\n",
            "茨城県\n",
            "栃木県 0\n",
            "群馬県 9\n",
            "埼玉県 0\n",
            "千葉県\n",
            "東京都 0\n",
            "神奈川県 0\n",
            "新潟県\n",
            "富山県 0\n",
            "石川県\n",
            "福井県\n",
            "山梨県 0\n",
            "長野県\n",
            "岐阜県\n",
            "静岡県 -1\n",
            "愛知県 0\n",
            "三重県 1\n",
            "滋賀県 0\n",
            "京都府 1\n",
            "大阪府 0\n",
            "兵庫県 0\n",
            "奈良県\n",
            "和歌山県\n",
            "鳥取県 0\n",
            "島根県\n",
            "岡山県 0\n",
            "広島県 1\n",
            "山口県 0\n",
            "徳島県 1\n",
            "香川県 1\n",
            "愛媛県\n",
            "高知県\n",
            "福岡県\n",
            "佐賀県 0\n",
            "長崎県\n",
            "熊本県 0\n",
            "大分県 0\n",
            "宮崎県\n",
            "鹿児島県 0\n",
            "沖縄県 1\n"
          ],
          "name": "stdout"
        }
      ]
    },
    {
      "cell_type": "code",
      "metadata": {
        "id": "nvurMO4AMoQG",
        "colab_type": "code",
        "colab": {}
      },
      "source": [
        ""
      ],
      "execution_count": 10,
      "outputs": []
    }
  ]
}