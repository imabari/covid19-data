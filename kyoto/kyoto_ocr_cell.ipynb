{
  "nbformat": 4,
  "nbformat_minor": 0,
  "metadata": {
    "colab": {
      "name": "kyoto_ocr_cell.ipynb",
      "provenance": [],
      "collapsed_sections": [],
      "toc_visible": true,
      "authorship_tag": "ABX9TyOobLV/0F3QTb87Tzbz0DFO",
      "include_colab_link": true
    },
    "kernelspec": {
      "name": "python3",
      "display_name": "Python 3"
    }
  },
  "cells": [
    {
      "cell_type": "markdown",
      "metadata": {
        "id": "view-in-github",
        "colab_type": "text"
      },
      "source": [
        "<a href=\"https://colab.research.google.com/github/imabari/covid19-data/blob/master/kyoto/kyoto_ocr_cell.ipynb\" target=\"_parent\"><img src=\"https://colab.research.google.com/assets/colab-badge.svg\" alt=\"Open In Colab\"/></a>"
      ]
    },
    {
      "cell_type": "code",
      "metadata": {
        "id": "_XaDTJ4Vkrzf",
        "colab_type": "code",
        "colab": {
          "base_uri": "https://localhost:8080/",
          "height": 1000
        },
        "outputId": "7ad29dd4-8b08-4fbd-f91e-4a75d0c3291e"
      },
      "source": [
        "!add-apt-repository ppa:alex-p/tesseract-ocr -y\n",
        "!apt update\n",
        "!apt install tesseract-ocr\n",
        "!apt install libtesseract-dev\n",
        "!tesseract -v\n",
        "!apt install tesseract-ocr-jpn  tesseract-ocr-jpn-vert\n",
        "!apt install tesseract-ocr-script-jpan tesseract-ocr-script-jpan-vert\n",
        "!tesseract --list-langs\n",
        "!pip install pytesseract"
      ],
      "execution_count": 1,
      "outputs": [
        {
          "output_type": "stream",
          "text": [
            "Get:1 https://cloud.r-project.org/bin/linux/ubuntu bionic-cran35/ InRelease [3,626 B]\n",
            "Ign:2 https://developer.download.nvidia.com/compute/cuda/repos/ubuntu1804/x86_64  InRelease\n",
            "Get:3 http://security.ubuntu.com/ubuntu bionic-security InRelease [88.7 kB]\n",
            "Get:4 http://ppa.launchpad.net/alex-p/tesseract-ocr/ubuntu bionic InRelease [15.4 kB]\n",
            "Hit:5 http://archive.ubuntu.com/ubuntu bionic InRelease\n",
            "Ign:6 https://developer.download.nvidia.com/compute/machine-learning/repos/ubuntu1804/x86_64  InRelease\n",
            "Hit:7 https://developer.download.nvidia.com/compute/cuda/repos/ubuntu1804/x86_64  Release\n",
            "Get:8 https://developer.download.nvidia.com/compute/machine-learning/repos/ubuntu1804/x86_64  Release [564 B]\n",
            "Get:9 https://developer.download.nvidia.com/compute/machine-learning/repos/ubuntu1804/x86_64  Release.gpg [833 B]\n",
            "Get:10 http://archive.ubuntu.com/ubuntu bionic-updates InRelease [88.7 kB]\n",
            "Get:11 http://ppa.launchpad.net/graphics-drivers/ppa/ubuntu bionic InRelease [21.3 kB]\n",
            "Get:12 https://cloud.r-project.org/bin/linux/ubuntu bionic-cran35/ Packages [95.7 kB]\n",
            "Get:13 http://archive.ubuntu.com/ubuntu bionic-backports InRelease [74.6 kB]\n",
            "Get:14 http://ppa.launchpad.net/marutter/c2d4u3.5/ubuntu bionic InRelease [15.4 kB]\n",
            "Get:15 http://ppa.launchpad.net/alex-p/tesseract-ocr/ubuntu bionic/main amd64 Packages [26.5 kB]\n",
            "Get:17 https://developer.download.nvidia.com/compute/machine-learning/repos/ubuntu1804/x86_64  Packages [47.5 kB]\n",
            "Get:18 http://security.ubuntu.com/ubuntu bionic-security/universe amd64 Packages [892 kB]\n",
            "Get:19 http://ppa.launchpad.net/graphics-drivers/ppa/ubuntu bionic/main amd64 Packages [43.0 kB]\n",
            "Get:20 http://security.ubuntu.com/ubuntu bionic-security/restricted amd64 Packages [109 kB]\n",
            "Get:21 http://security.ubuntu.com/ubuntu bionic-security/main amd64 Packages [1,067 kB]\n",
            "Get:22 http://archive.ubuntu.com/ubuntu bionic-updates/main amd64 Packages [1,362 kB]\n",
            "Get:23 http://archive.ubuntu.com/ubuntu bionic-updates/restricted amd64 Packages [125 kB]\n",
            "Get:24 http://archive.ubuntu.com/ubuntu bionic-updates/universe amd64 Packages [1,421 kB]\n",
            "Get:25 http://ppa.launchpad.net/marutter/c2d4u3.5/ubuntu bionic/main Sources [1,864 kB]\n",
            "Get:26 http://ppa.launchpad.net/marutter/c2d4u3.5/ubuntu bionic/main amd64 Packages [900 kB]\n",
            "Fetched 8,262 kB in 4s (1,934 kB/s)\n",
            "Reading package lists... Done\n",
            "Hit:1 http://security.ubuntu.com/ubuntu bionic-security InRelease\n",
            "Ign:2 https://developer.download.nvidia.com/compute/cuda/repos/ubuntu1804/x86_64  InRelease\n",
            "Hit:3 https://cloud.r-project.org/bin/linux/ubuntu bionic-cran35/ InRelease\n",
            "Hit:4 http://ppa.launchpad.net/alex-p/tesseract-ocr/ubuntu bionic InRelease\n",
            "Ign:5 https://developer.download.nvidia.com/compute/machine-learning/repos/ubuntu1804/x86_64  InRelease\n",
            "Hit:6 https://developer.download.nvidia.com/compute/cuda/repos/ubuntu1804/x86_64  Release\n",
            "Hit:7 http://archive.ubuntu.com/ubuntu bionic InRelease\n",
            "Hit:8 https://developer.download.nvidia.com/compute/machine-learning/repos/ubuntu1804/x86_64  Release\n",
            "Hit:9 http://archive.ubuntu.com/ubuntu bionic-updates InRelease\n",
            "Hit:10 http://ppa.launchpad.net/graphics-drivers/ppa/ubuntu bionic InRelease\n",
            "Hit:11 http://archive.ubuntu.com/ubuntu bionic-backports InRelease\n",
            "Hit:12 http://ppa.launchpad.net/marutter/c2d4u3.5/ubuntu bionic InRelease\n",
            "Reading package lists... Done\n",
            "Building dependency tree       \n",
            "Reading state information... Done\n",
            "74 packages can be upgraded. Run 'apt list --upgradable' to see them.\n",
            "Reading package lists... Done\n",
            "Building dependency tree       \n",
            "Reading state information... Done\n",
            "The following package was automatically installed and is no longer required:\n",
            "  libnvidia-common-440\n",
            "Use 'apt autoremove' to remove it.\n",
            "The following additional packages will be installed:\n",
            "  libtesseract4 tesseract-ocr-eng tesseract-ocr-osd\n",
            "The following NEW packages will be installed:\n",
            "  tesseract-ocr tesseract-ocr-eng tesseract-ocr-osd\n",
            "The following packages will be upgraded:\n",
            "  libtesseract4\n",
            "1 upgraded, 3 newly installed, 0 to remove and 73 not upgraded.\n",
            "Need to get 6,161 kB of archives.\n",
            "After this operation, 16.3 MB of additional disk space will be used.\n",
            "Get:1 http://ppa.launchpad.net/alex-p/tesseract-ocr/ubuntu bionic/main amd64 libtesseract4 amd64 4.1.1+git4247-97079fa3-1ppa1~bionic1 [1,260 kB]\n",
            "Get:2 http://ppa.launchpad.net/alex-p/tesseract-ocr/ubuntu bionic/main amd64 tesseract-ocr-eng all 1:4.0.0+git39-6572757-1ppa1~bionic1 [1,589 kB]\n",
            "Get:3 http://ppa.launchpad.net/alex-p/tesseract-ocr/ubuntu bionic/main amd64 tesseract-ocr-osd all 1:4.0.0+git39-6572757-1ppa1~bionic1 [2,992 kB]\n",
            "Get:4 http://ppa.launchpad.net/alex-p/tesseract-ocr/ubuntu bionic/main amd64 tesseract-ocr amd64 4.1.1+git4247-97079fa3-1ppa1~bionic1 [320 kB]\n",
            "Fetched 6,161 kB in 3s (1,940 kB/s)\n",
            "(Reading database ... 144579 files and directories currently installed.)\n",
            "Preparing to unpack .../libtesseract4_4.1.1+git4247-97079fa3-1ppa1~bionic1_amd64.deb ...\n",
            "Unpacking libtesseract4:amd64 (4.1.1+git4247-97079fa3-1ppa1~bionic1) over (4.00~git2288-10f4998a-2) ...\n",
            "Selecting previously unselected package tesseract-ocr-eng.\n",
            "Preparing to unpack .../tesseract-ocr-eng_1%3a4.0.0+git39-6572757-1ppa1~bionic1_all.deb ...\n",
            "Unpacking tesseract-ocr-eng (1:4.0.0+git39-6572757-1ppa1~bionic1) ...\n",
            "Selecting previously unselected package tesseract-ocr-osd.\n",
            "Preparing to unpack .../tesseract-ocr-osd_1%3a4.0.0+git39-6572757-1ppa1~bionic1_all.deb ...\n",
            "Unpacking tesseract-ocr-osd (1:4.0.0+git39-6572757-1ppa1~bionic1) ...\n",
            "Selecting previously unselected package tesseract-ocr.\n",
            "Preparing to unpack .../tesseract-ocr_4.1.1+git4247-97079fa3-1ppa1~bionic1_amd64.deb ...\n",
            "Unpacking tesseract-ocr (4.1.1+git4247-97079fa3-1ppa1~bionic1) ...\n",
            "Setting up libtesseract4:amd64 (4.1.1+git4247-97079fa3-1ppa1~bionic1) ...\n",
            "Setting up tesseract-ocr-osd (1:4.0.0+git39-6572757-1ppa1~bionic1) ...\n",
            "Setting up tesseract-ocr-eng (1:4.0.0+git39-6572757-1ppa1~bionic1) ...\n",
            "Setting up tesseract-ocr (4.1.1+git4247-97079fa3-1ppa1~bionic1) ...\n",
            "Processing triggers for man-db (2.8.3-2ubuntu0.1) ...\n",
            "Processing triggers for libc-bin (2.27-3ubuntu1) ...\n",
            "/sbin/ldconfig.real: /usr/local/lib/python3.6/dist-packages/ideep4py/lib/libmkldnn.so.0 is not a symbolic link\n",
            "\n",
            "Reading package lists... Done\n",
            "Building dependency tree       \n",
            "Reading state information... Done\n",
            "The following package was automatically installed and is no longer required:\n",
            "  libnvidia-common-440\n",
            "Use 'apt autoremove' to remove it.\n",
            "The following additional packages will be installed:\n",
            "  libarchive-dev liblept5 libleptonica-dev\n",
            "The following NEW packages will be installed:\n",
            "  libarchive-dev libleptonica-dev libtesseract-dev\n",
            "The following packages will be upgraded:\n",
            "  liblept5\n",
            "1 upgraded, 3 newly installed, 0 to remove and 72 not upgraded.\n",
            "Need to get 4,327 kB of archives.\n",
            "After this operation, 15.2 MB of additional disk space will be used.\n",
            "Get:1 http://archive.ubuntu.com/ubuntu bionic-updates/main amd64 libarchive-dev amd64 3.2.2-3.1ubuntu0.6 [470 kB]\n",
            "Get:2 http://ppa.launchpad.net/alex-p/tesseract-ocr/ubuntu bionic/main amd64 liblept5 amd64 1.78.0-1+nmu1ppa1~bionic1 [985 kB]\n",
            "Get:3 http://ppa.launchpad.net/alex-p/tesseract-ocr/ubuntu bionic/main amd64 libleptonica-dev amd64 1.78.0-1+nmu1ppa1~bionic1 [1,375 kB]\n",
            "Get:4 http://ppa.launchpad.net/alex-p/tesseract-ocr/ubuntu bionic/main amd64 libtesseract-dev amd64 4.1.1+git4247-97079fa3-1ppa1~bionic1 [1,496 kB]\n",
            "Fetched 4,327 kB in 2s (1,823 kB/s)\n",
            "Selecting previously unselected package libarchive-dev:amd64.\n",
            "(Reading database ... 144631 files and directories currently installed.)\n",
            "Preparing to unpack .../libarchive-dev_3.2.2-3.1ubuntu0.6_amd64.deb ...\n",
            "Unpacking libarchive-dev:amd64 (3.2.2-3.1ubuntu0.6) ...\n",
            "Preparing to unpack .../liblept5_1.78.0-1+nmu1ppa1~bionic1_amd64.deb ...\n",
            "Unpacking liblept5 (1.78.0-1+nmu1ppa1~bionic1) over (1.75.3-3) ...\n",
            "Selecting previously unselected package libleptonica-dev.\n",
            "Preparing to unpack .../libleptonica-dev_1.78.0-1+nmu1ppa1~bionic1_amd64.deb ...\n",
            "Unpacking libleptonica-dev (1.78.0-1+nmu1ppa1~bionic1) ...\n",
            "Selecting previously unselected package libtesseract-dev:amd64.\n",
            "Preparing to unpack .../libtesseract-dev_4.1.1+git4247-97079fa3-1ppa1~bionic1_amd64.deb ...\n",
            "Unpacking libtesseract-dev:amd64 (4.1.1+git4247-97079fa3-1ppa1~bionic1) ...\n",
            "Setting up liblept5 (1.78.0-1+nmu1ppa1~bionic1) ...\n",
            "Setting up libarchive-dev:amd64 (3.2.2-3.1ubuntu0.6) ...\n",
            "Setting up libleptonica-dev (1.78.0-1+nmu1ppa1~bionic1) ...\n",
            "Setting up libtesseract-dev:amd64 (4.1.1+git4247-97079fa3-1ppa1~bionic1) ...\n",
            "Processing triggers for libc-bin (2.27-3ubuntu1) ...\n",
            "/sbin/ldconfig.real: /usr/local/lib/python3.6/dist-packages/ideep4py/lib/libmkldnn.so.0 is not a symbolic link\n",
            "\n",
            "Processing triggers for man-db (2.8.3-2ubuntu0.1) ...\n",
            "tesseract 4.1.1-rc2-25-g9707\n",
            " leptonica-1.78.0\n",
            "  libgif 5.1.4 : libjpeg 8d (libjpeg-turbo 1.5.2) : libpng 1.6.34 : libtiff 4.0.9 : zlib 1.2.11 : libwebp 0.6.1 : libopenjp2 2.3.0\n",
            " Found AVX2\n",
            " Found AVX\n",
            " Found FMA\n",
            " Found SSE\n",
            " Found libarchive 3.2.2 zlib/1.2.11 liblzma/5.2.2 bz2lib/1.0.6 liblz4/1.7.1\n",
            "Reading package lists... Done\n",
            "Building dependency tree       \n",
            "Reading state information... Done\n",
            "The following package was automatically installed and is no longer required:\n",
            "  libnvidia-common-440\n",
            "Use 'apt autoremove' to remove it.\n",
            "The following NEW packages will be installed:\n",
            "  tesseract-ocr-jpn tesseract-ocr-jpn-vert\n",
            "0 upgraded, 2 newly installed, 0 to remove and 72 not upgraded.\n",
            "Need to get 3,281 kB of archives.\n",
            "After this operation, 5,539 kB of additional disk space will be used.\n",
            "Get:1 http://ppa.launchpad.net/alex-p/tesseract-ocr/ubuntu bionic/main amd64 tesseract-ocr-jpn all 1:4.0.0+git39-6572757-1ppa1~bionic1 [1,391 kB]\n",
            "Get:2 http://ppa.launchpad.net/alex-p/tesseract-ocr/ubuntu bionic/main amd64 tesseract-ocr-jpn-vert all 1:4.0.0+git39-6572757-1ppa1~bionic1 [1,890 kB]\n",
            "Fetched 3,281 kB in 2s (1,975 kB/s)\n",
            "Selecting previously unselected package tesseract-ocr-jpn.\n",
            "(Reading database ... 144759 files and directories currently installed.)\n",
            "Preparing to unpack .../tesseract-ocr-jpn_1%3a4.0.0+git39-6572757-1ppa1~bionic1_all.deb ...\n",
            "Unpacking tesseract-ocr-jpn (1:4.0.0+git39-6572757-1ppa1~bionic1) ...\n",
            "Selecting previously unselected package tesseract-ocr-jpn-vert.\n",
            "Preparing to unpack .../tesseract-ocr-jpn-vert_1%3a4.0.0+git39-6572757-1ppa1~bionic1_all.deb ...\n",
            "Unpacking tesseract-ocr-jpn-vert (1:4.0.0+git39-6572757-1ppa1~bionic1) ...\n",
            "Setting up tesseract-ocr-jpn (1:4.0.0+git39-6572757-1ppa1~bionic1) ...\n",
            "Setting up tesseract-ocr-jpn-vert (1:4.0.0+git39-6572757-1ppa1~bionic1) ...\n",
            "Reading package lists... Done\n",
            "Building dependency tree       \n",
            "Reading state information... Done\n",
            "The following package was automatically installed and is no longer required:\n",
            "  libnvidia-common-440\n",
            "Use 'apt autoremove' to remove it.\n",
            "The following NEW packages will be installed:\n",
            "  tesseract-ocr-script-jpan tesseract-ocr-script-jpan-vert\n",
            "0 upgraded, 2 newly installed, 0 to remove and 72 not upgraded.\n",
            "Need to get 5,670 kB of archives.\n",
            "After this operation, 12.4 MB of additional disk space will be used.\n",
            "Get:1 http://ppa.launchpad.net/alex-p/tesseract-ocr/ubuntu bionic/main amd64 tesseract-ocr-script-jpan all 1:4.0.0+git39-6572757-1ppa1~bionic1 [2,586 kB]\n",
            "Get:2 http://ppa.launchpad.net/alex-p/tesseract-ocr/ubuntu bionic/main amd64 tesseract-ocr-script-jpan-vert all 1:4.0.0+git39-6572757-1ppa1~bionic1 [3,084 kB]\n",
            "Fetched 5,670 kB in 2s (3,006 kB/s)\n",
            "Selecting previously unselected package tesseract-ocr-script-jpan.\n",
            "(Reading database ... 144767 files and directories currently installed.)\n",
            "Preparing to unpack .../tesseract-ocr-script-jpan_1%3a4.0.0+git39-6572757-1ppa1~bionic1_all.deb ...\n",
            "Unpacking tesseract-ocr-script-jpan (1:4.0.0+git39-6572757-1ppa1~bionic1) ...\n",
            "Selecting previously unselected package tesseract-ocr-script-jpan-vert.\n",
            "Preparing to unpack .../tesseract-ocr-script-jpan-vert_1%3a4.0.0+git39-6572757-1ppa1~bionic1_all.deb ...\n",
            "Unpacking tesseract-ocr-script-jpan-vert (1:4.0.0+git39-6572757-1ppa1~bionic1) ...\n",
            "Setting up tesseract-ocr-script-jpan (1:4.0.0+git39-6572757-1ppa1~bionic1) ...\n",
            "Setting up tesseract-ocr-script-jpan-vert (1:4.0.0+git39-6572757-1ppa1~bionic1) ...\n",
            "List of available languages (6):\n",
            "Japanese\n",
            "Japanese_vert\n",
            "eng\n",
            "jpn\n",
            "jpn_vert\n",
            "osd\n",
            "Collecting pytesseract\n",
            "  Downloading https://files.pythonhosted.org/packages/17/4b/4dbd55388225bb6cd243d21f70e77cb3ce061e241257485936324b8e920f/pytesseract-0.3.6.tar.gz\n",
            "Requirement already satisfied: Pillow in /usr/local/lib/python3.6/dist-packages (from pytesseract) (7.0.0)\n",
            "Building wheels for collected packages: pytesseract\n",
            "  Building wheel for pytesseract (setup.py) ... \u001b[?25l\u001b[?25hdone\n",
            "  Created wheel for pytesseract: filename=pytesseract-0.3.6-py2.py3-none-any.whl size=13629 sha256=779032d0af1a441f75edd21b79640a92818f3e8acf5123ef92811db3beba30cd\n",
            "  Stored in directory: /root/.cache/pip/wheels/ee/71/72/b98430261d849ae631e283dfc7ccb456a3fb2ed2205714b63f\n",
            "Successfully built pytesseract\n",
            "Installing collected packages: pytesseract\n",
            "Successfully installed pytesseract-0.3.6\n"
          ],
          "name": "stdout"
        }
      ]
    },
    {
      "cell_type": "markdown",
      "metadata": {
        "id": "OJyZoIFoaHOY",
        "colab_type": "text"
      },
      "source": [
        "# スクレイピング"
      ]
    },
    {
      "cell_type": "code",
      "metadata": {
        "id": "JZgqK5j6dsUq",
        "colab_type": "code",
        "colab": {}
      },
      "source": [
        "import pathlib\n",
        "import re"
      ],
      "execution_count": 2,
      "outputs": []
    },
    {
      "cell_type": "code",
      "metadata": {
        "id": "yXmO8Gw30j8Z",
        "colab_type": "code",
        "colab": {}
      },
      "source": [
        "import requests\n",
        "from bs4 import BeautifulSoup\n",
        "from urllib.parse import urljoin"
      ],
      "execution_count": 3,
      "outputs": []
    },
    {
      "cell_type": "code",
      "metadata": {
        "id": "iUAYpueC0j7h",
        "colab_type": "code",
        "colab": {}
      },
      "source": [
        "url = \"https://www.pref.kyoto.jp/kentai/corona/pcrkensa.html\"\n",
        "\n",
        "headers = {\n",
        "    \"User-Agent\": \"Mozilla/5.0 (Windows NT 10.0; WOW64; Trident/7.0; rv:11.0) like Gecko\",\n",
        "}"
      ],
      "execution_count": 4,
      "outputs": []
    },
    {
      "cell_type": "code",
      "metadata": {
        "id": "yisuqHFp0j6e",
        "colab_type": "code",
        "colab": {}
      },
      "source": [
        "r = requests.get(url, headers=headers)\n",
        "\n",
        "r.raise_for_status()\n",
        "\n",
        "soup = BeautifulSoup(r.content, \"html5lib\")"
      ],
      "execution_count": 5,
      "outputs": []
    },
    {
      "cell_type": "code",
      "metadata": {
        "id": "EhwGnWcM0o0g",
        "colab_type": "code",
        "colab": {}
      },
      "source": [
        "src = soup.find(\"img\", alt=re.compile(\"pcr$\")).get(\"src\")"
      ],
      "execution_count": 6,
      "outputs": []
    },
    {
      "cell_type": "code",
      "metadata": {
        "id": "GphQVh7H0j41",
        "colab_type": "code",
        "colab": {
          "base_uri": "https://localhost:8080/",
          "height": 36
        },
        "outputId": "74bf566b-2d34-480f-ec3c-51d00a1d5acc"
      },
      "source": [
        "link = urljoin(url, src)\n",
        "link"
      ],
      "execution_count": 7,
      "outputs": [
        {
          "output_type": "execute_result",
          "data": {
            "application/vnd.google.colaboratory.intrinsic+json": {
              "type": "string"
            },
            "text/plain": [
              "'https://www.pref.kyoto.jp/kentai/corona/images/20200903_pcr.png'"
            ]
          },
          "metadata": {
            "tags": []
          },
          "execution_count": 7
        }
      ]
    },
    {
      "cell_type": "markdown",
      "metadata": {
        "id": "xJwtYaRKxyQ2",
        "colab_type": "text"
      },
      "source": [
        "# ダウンロード"
      ]
    },
    {
      "cell_type": "code",
      "metadata": {
        "id": "0Lk44P9JdUSW",
        "colab_type": "code",
        "colab": {}
      },
      "source": [
        "def get_file(url, dir=\".\"):\n",
        "\n",
        "    r = requests.get(url)\n",
        "\n",
        "    p = pathlib.Path(dir, pathlib.PurePath(url).name)\n",
        "    p.parent.mkdir(parents=True, exist_ok=True)\n",
        "\n",
        "    with p.open(mode='wb') as fw:\n",
        "        fw.write(r.content)\n",
        "\n",
        "    return p"
      ],
      "execution_count": 8,
      "outputs": []
    },
    {
      "cell_type": "markdown",
      "metadata": {
        "id": "s5yihSKBc0kv",
        "colab_type": "text"
      },
      "source": [
        "# pytesseract"
      ]
    },
    {
      "cell_type": "code",
      "metadata": {
        "id": "8_yhXJhWZOQ5",
        "colab_type": "code",
        "colab": {}
      },
      "source": [
        "import cv2\n",
        "import numpy as np"
      ],
      "execution_count": 9,
      "outputs": []
    },
    {
      "cell_type": "code",
      "metadata": {
        "id": "RqbG5mQ69G_Z",
        "colab_type": "code",
        "colab": {}
      },
      "source": [
        "import pytesseract"
      ],
      "execution_count": 10,
      "outputs": []
    },
    {
      "cell_type": "code",
      "metadata": {
        "id": "B723mSKb9Rzf",
        "colab_type": "code",
        "colab": {}
      },
      "source": [
        "from google.colab.patches import cv2_imshow"
      ],
      "execution_count": 11,
      "outputs": []
    },
    {
      "cell_type": "code",
      "metadata": {
        "id": "eT2LbHEnmm54",
        "colab_type": "code",
        "colab": {}
      },
      "source": [
        "jpg_path = get_file(link)"
      ],
      "execution_count": 12,
      "outputs": []
    },
    {
      "cell_type": "code",
      "metadata": {
        "id": "aHnh8L7iOfUn",
        "colab_type": "code",
        "colab": {}
      },
      "source": [
        "# https://teratail.com/questions/151317\n",
        "\n",
        "import cv2\n",
        "import numpy as np\n",
        "\n",
        "img = cv2.imread(str(jpg_path))\n",
        "\n",
        "# BGR -> グレースケール\n",
        "gray = cv2.cvtColor(img, cv2.COLOR_BGR2GRAY)\n",
        "\n",
        "gray[gray > 220] = 255\n",
        "cv2.imwrite(\"gray.png\", gray)\n",
        "\n",
        "# エッジ抽出 (Canny)\n",
        "edges = cv2.Canny(gray, 1, 100, apertureSize=3)\n",
        "cv2.imwrite(\"edges.png\", edges)\n",
        "\n",
        "# 膨張処理\n",
        "kernel = cv2.getStructuringElement(cv2.MORPH_RECT, (3, 3))\n",
        "edges = cv2.dilate(edges, kernel)\n",
        "\n",
        "# 輪郭抽出\n",
        "contours, hierarchy = cv2.findContours(edges, cv2.RETR_TREE, cv2.CHAIN_APPROX_SIMPLE)"
      ],
      "execution_count": 13,
      "outputs": []
    },
    {
      "cell_type": "code",
      "metadata": {
        "id": "x539zf9qAe-y",
        "colab_type": "code",
        "colab": {}
      },
      "source": [
        "# 面積でフィルタリング\n",
        "rects = []\n",
        "\n",
        "for cnt, hrchy in zip(contours, hierarchy[0]):\n",
        "    if cv2.contourArea(cnt) < 3000:\n",
        "        continue  # 面積が小さいものは除く\n",
        "    if hrchy[3] == -1:\n",
        "        continue  # ルートノードは除く\n",
        "\n",
        "    # 輪郭を囲む長方形を計算する。\n",
        "    rect = cv2.minAreaRect(cnt)\n",
        "    rect_points = cv2.boxPoints(rect).astype(int)\n",
        "\n",
        "    # 座標\n",
        "    x_max, y_max = np.amax(rect_points.T, axis=1)\n",
        "    x_min, y_min = np.amin(rect_points.T, axis=1)\n",
        "\n",
        "    dst = gray[y_min: y_max, x_min : x_max]\n",
        "\n",
        "    dst2 = cv2.resize(dst, None, fx=1.5, fy=1.5)\n",
        "    # cv2.imwrite(f\"gray{i:02}.png\", dst)\n",
        "\n",
        "    txt = pytesseract.image_to_string(dst2, lang=\"jpn\", config=\"--psm 6\").strip()\n",
        "\n",
        "    if txt:\n",
        "        rects.append([y_min, y_max , x_min, x_max, txt])"
      ],
      "execution_count": 14,
      "outputs": []
    },
    {
      "cell_type": "code",
      "metadata": {
        "id": "2xRJ6Im857Yh",
        "colab_type": "code",
        "colab": {}
      },
      "source": [
        "import pandas as pd"
      ],
      "execution_count": 15,
      "outputs": []
    },
    {
      "cell_type": "code",
      "metadata": {
        "id": "P6y1Ipkr7Jqw",
        "colab_type": "code",
        "colab": {}
      },
      "source": [
        "df = pd.DataFrame(rects, columns=[\"y1\", \"y2\", \"x1\", \"x2\", \"text\"])"
      ],
      "execution_count": 16,
      "outputs": []
    },
    {
      "cell_type": "code",
      "metadata": {
        "id": "nd-uPefQMjG6",
        "colab_type": "code",
        "colab": {
          "base_uri": "https://localhost:8080/",
          "height": 1000
        },
        "outputId": "06f62037-d9df-4ed2-b451-db52d4b5d692"
      },
      "source": [
        "df"
      ],
      "execution_count": 17,
      "outputs": [
        {
          "output_type": "execute_result",
          "data": {
            "text/html": [
              "<div>\n",
              "<style scoped>\n",
              "    .dataframe tbody tr th:only-of-type {\n",
              "        vertical-align: middle;\n",
              "    }\n",
              "\n",
              "    .dataframe tbody tr th {\n",
              "        vertical-align: top;\n",
              "    }\n",
              "\n",
              "    .dataframe thead th {\n",
              "        text-align: right;\n",
              "    }\n",
              "</style>\n",
              "<table border=\"1\" class=\"dataframe\">\n",
              "  <thead>\n",
              "    <tr style=\"text-align: right;\">\n",
              "      <th></th>\n",
              "      <th>y1</th>\n",
              "      <th>y2</th>\n",
              "      <th>x1</th>\n",
              "      <th>x2</th>\n",
              "      <th>text</th>\n",
              "    </tr>\n",
              "  </thead>\n",
              "  <tbody>\n",
              "    <tr>\n",
              "      <th>0</th>\n",
              "      <td>654</td>\n",
              "      <td>703</td>\n",
              "      <td>610</td>\n",
              "      <td>678</td>\n",
              "      <td>7</td>\n",
              "    </tr>\n",
              "    <tr>\n",
              "      <th>1</th>\n",
              "      <td>654</td>\n",
              "      <td>703</td>\n",
              "      <td>537</td>\n",
              "      <td>606</td>\n",
              "      <td>25</td>\n",
              "    </tr>\n",
              "    <tr>\n",
              "      <th>2</th>\n",
              "      <td>654</td>\n",
              "      <td>703</td>\n",
              "      <td>465</td>\n",
              "      <td>534</td>\n",
              "      <td>28</td>\n",
              "    </tr>\n",
              "    <tr>\n",
              "      <th>3</th>\n",
              "      <td>654</td>\n",
              "      <td>703</td>\n",
              "      <td>392</td>\n",
              "      <td>461</td>\n",
              "      <td>34</td>\n",
              "    </tr>\n",
              "    <tr>\n",
              "      <th>4</th>\n",
              "      <td>654</td>\n",
              "      <td>703</td>\n",
              "      <td>319</td>\n",
              "      <td>387</td>\n",
              "      <td>3</td>\n",
              "    </tr>\n",
              "    <tr>\n",
              "      <th>5</th>\n",
              "      <td>654</td>\n",
              "      <td>703</td>\n",
              "      <td>247</td>\n",
              "      <td>316</td>\n",
              "      <td>78</td>\n",
              "    </tr>\n",
              "    <tr>\n",
              "      <th>6</th>\n",
              "      <td>654</td>\n",
              "      <td>703</td>\n",
              "      <td>167</td>\n",
              "      <td>242</td>\n",
              "      <td>1.340</td>\n",
              "    </tr>\n",
              "    <tr>\n",
              "      <th>7</th>\n",
              "      <td>654</td>\n",
              "      <td>703</td>\n",
              "      <td>13</td>\n",
              "      <td>163</td>\n",
              "      <td>9月3日(最新日)</td>\n",
              "    </tr>\n",
              "    <tr>\n",
              "      <th>8</th>\n",
              "      <td>581</td>\n",
              "      <td>650</td>\n",
              "      <td>320</td>\n",
              "      <td>388</td>\n",
              "      <td>重\\n症</td>\n",
              "    </tr>\n",
              "    <tr>\n",
              "      <th>9</th>\n",
              "      <td>537</td>\n",
              "      <td>650</td>\n",
              "      <td>611</td>\n",
              "      <td>679</td>\n",
              "      <td>調\\n束\\n中</td>\n",
              "    </tr>\n",
              "    <tr>\n",
              "      <th>10</th>\n",
              "      <td>537</td>\n",
              "      <td>650</td>\n",
              "      <td>538</td>\n",
              "      <td>607</td>\n",
              "      <td>死</td>\n",
              "    </tr>\n",
              "    <tr>\n",
              "      <th>11</th>\n",
              "      <td>537</td>\n",
              "      <td>650</td>\n",
              "      <td>465</td>\n",
              "      <td>534</td>\n",
              "      <td>自\\n宅\\n療\\n状</td>\n",
              "    </tr>\n",
              "    <tr>\n",
              "      <th>12</th>\n",
              "      <td>537</td>\n",
              "      <td>650</td>\n",
              "      <td>392</td>\n",
              "      <td>461</td>\n",
              "      <td>施\\n設\\n療\\n養</td>\n",
              "    </tr>\n",
              "    <tr>\n",
              "      <th>13</th>\n",
              "      <td>537</td>\n",
              "      <td>650</td>\n",
              "      <td>247</td>\n",
              "      <td>388</td>\n",
              "      <td>入\\n院 | 生\\n症</td>\n",
              "    </tr>\n",
              "    <tr>\n",
              "      <th>14</th>\n",
              "      <td>537</td>\n",
              "      <td>650</td>\n",
              "      <td>168</td>\n",
              "      <td>243</td>\n",
              "      <td>勧退\\n告院\\n解又\\n除は</td>\n",
              "    </tr>\n",
              "    <tr>\n",
              "      <th>15</th>\n",
              "      <td>389</td>\n",
              "      <td>465</td>\n",
              "      <td>505</td>\n",
              "      <td>670</td>\n",
              "      <td>1.512\\n(F) = (D) + (E)</td>\n",
              "    </tr>\n",
              "    <tr>\n",
              "      <th>16</th>\n",
              "      <td>389</td>\n",
              "      <td>465</td>\n",
              "      <td>336</td>\n",
              "      <td>501</td>\n",
              "      <td>32.853\\n(C)ニ(A+ (B)</td>\n",
              "    </tr>\n",
              "    <tr>\n",
              "      <th>17</th>\n",
              "      <td>389</td>\n",
              "      <td>465</td>\n",
              "      <td>167</td>\n",
              "      <td>332</td>\n",
              "      <td>4.6%\\n(P)/(C)</td>\n",
              "    </tr>\n",
              "    <tr>\n",
              "      <th>18</th>\n",
              "      <td>389</td>\n",
              "      <td>465</td>\n",
              "      <td>11</td>\n",
              "      <td>163</td>\n",
              "      <td>果計</td>\n",
              "    </tr>\n",
              "    <tr>\n",
              "      <th>19</th>\n",
              "      <td>312</td>\n",
              "      <td>385</td>\n",
              "      <td>505</td>\n",
              "      <td>670</td>\n",
              "      <td>360\\n)</td>\n",
              "    </tr>\n",
              "    <tr>\n",
              "      <th>20</th>\n",
              "      <td>312</td>\n",
              "      <td>385</td>\n",
              "      <td>336</td>\n",
              "      <td>501</td>\n",
              "      <td>9.201\\n(B)</td>\n",
              "    </tr>\n",
              "    <tr>\n",
              "      <th>21</th>\n",
              "      <td>312</td>\n",
              "      <td>385</td>\n",
              "      <td>167</td>\n",
              "      <td>332</td>\n",
              "      <td>3.9%</td>\n",
              "    </tr>\n",
              "    <tr>\n",
              "      <th>22</th>\n",
              "      <td>312</td>\n",
              "      <td>385</td>\n",
              "      <td>11</td>\n",
              "      <td>163</td>\n",
              "      <td>6月15日までの里計</td>\n",
              "    </tr>\n",
              "    <tr>\n",
              "      <th>23</th>\n",
              "      <td>232</td>\n",
              "      <td>308</td>\n",
              "      <td>505</td>\n",
              "      <td>670</td>\n",
              "      <td>1.152\\n(D)</td>\n",
              "    </tr>\n",
              "    <tr>\n",
              "      <th>24</th>\n",
              "      <td>232</td>\n",
              "      <td>308</td>\n",
              "      <td>336</td>\n",
              "      <td>501</td>\n",
              "      <td>23.652\\n(A)</td>\n",
              "    </tr>\n",
              "    <tr>\n",
              "      <th>25</th>\n",
              "      <td>232</td>\n",
              "      <td>308</td>\n",
              "      <td>167</td>\n",
              "      <td>332</td>\n",
              "      <td>4.9%</td>\n",
              "    </tr>\n",
              "    <tr>\n",
              "      <th>26</th>\n",
              "      <td>232</td>\n",
              "      <td>308</td>\n",
              "      <td>11</td>\n",
              "      <td>163</td>\n",
              "      <td>6月16日からの里計\\n(最新日含む)</td>\n",
              "    </tr>\n",
              "    <tr>\n",
              "      <th>27</th>\n",
              "      <td>152</td>\n",
              "      <td>227</td>\n",
              "      <td>505</td>\n",
              "      <td>671</td>\n",
              "      <td>19</td>\n",
              "    </tr>\n",
              "    <tr>\n",
              "      <th>28</th>\n",
              "      <td>152</td>\n",
              "      <td>227</td>\n",
              "      <td>336</td>\n",
              "      <td>501</td>\n",
              "      <td>368</td>\n",
              "    </tr>\n",
              "    <tr>\n",
              "      <th>29</th>\n",
              "      <td>152</td>\n",
              "      <td>227</td>\n",
              "      <td>167</td>\n",
              "      <td>332</td>\n",
              "      <td>3.7%\\n※直近一週間の平均</td>\n",
              "    </tr>\n",
              "    <tr>\n",
              "      <th>30</th>\n",
              "      <td>152</td>\n",
              "      <td>227</td>\n",
              "      <td>12</td>\n",
              "      <td>163</td>\n",
              "      <td>9月3日(最新日)</td>\n",
              "    </tr>\n",
              "    <tr>\n",
              "      <th>31</th>\n",
              "      <td>77</td>\n",
              "      <td>147</td>\n",
              "      <td>505</td>\n",
              "      <td>670</td>\n",
              "      <td>PCR検査陽人者数</td>\n",
              "    </tr>\n",
              "    <tr>\n",
              "      <th>32</th>\n",
              "      <td>33</td>\n",
              "      <td>146</td>\n",
              "      <td>335</td>\n",
              "      <td>669</td>\n",
              "      <td>PCR検査実施人数\\n|     PCR検査陽性者数</td>\n",
              "    </tr>\n",
              "    <tr>\n",
              "      <th>33</th>\n",
              "      <td>34</td>\n",
              "      <td>147</td>\n",
              "      <td>167</td>\n",
              "      <td>332</td>\n",
              "      <td>陽性率</td>\n",
              "    </tr>\n",
              "  </tbody>\n",
              "</table>\n",
              "</div>"
            ],
            "text/plain": [
              "     y1   y2   x1   x2                        text\n",
              "0   654  703  610  678                           7\n",
              "1   654  703  537  606                          25\n",
              "2   654  703  465  534                          28\n",
              "3   654  703  392  461                          34\n",
              "4   654  703  319  387                           3\n",
              "5   654  703  247  316                          78\n",
              "6   654  703  167  242                       1.340\n",
              "7   654  703   13  163                   9月3日(最新日)\n",
              "8   581  650  320  388                        重\\n症\n",
              "9   537  650  611  679                     調\\n束\\n中\n",
              "10  537  650  538  607                           死\n",
              "11  537  650  465  534                  自\\n宅\\n療\\n状\n",
              "12  537  650  392  461                  施\\n設\\n療\\n養\n",
              "13  537  650  247  388                 入\\n院 | 生\\n症\n",
              "14  537  650  168  243              勧退\\n告院\\n解又\\n除は\n",
              "15  389  465  505  670      1.512\\n(F) = (D) + (E)\n",
              "16  389  465  336  501         32.853\\n(C)ニ(A+ (B)\n",
              "17  389  465  167  332               4.6%\\n(P)/(C)\n",
              "18  389  465   11  163                          果計\n",
              "19  312  385  505  670                      360\\n)\n",
              "20  312  385  336  501                  9.201\\n(B)\n",
              "21  312  385  167  332                        3.9%\n",
              "22  312  385   11  163                  6月15日までの里計\n",
              "23  232  308  505  670                  1.152\\n(D)\n",
              "24  232  308  336  501                 23.652\\n(A)\n",
              "25  232  308  167  332                        4.9%\n",
              "26  232  308   11  163         6月16日からの里計\\n(最新日含む)\n",
              "27  152  227  505  671                          19\n",
              "28  152  227  336  501                         368\n",
              "29  152  227  167  332             3.7%\\n※直近一週間の平均\n",
              "30  152  227   12  163                   9月3日(最新日)\n",
              "31   77  147  505  670                   PCR検査陽人者数\n",
              "32   33  146  335  669  PCR検査実施人数\\n|     PCR検査陽性者数\n",
              "33   34  147  167  332                         陽性率"
            ]
          },
          "metadata": {
            "tags": []
          },
          "execution_count": 17
        }
      ]
    },
    {
      "cell_type": "code",
      "metadata": {
        "id": "-FdphC722Q5s",
        "colab_type": "code",
        "colab": {}
      },
      "source": [
        "t1 = set(df[\"x1\"].unique()) & set(df[\"x1\"].unique() + 1)\n",
        "\n",
        "for i in t1:\n",
        "    df[\"x1\"] = df[\"x1\"].replace(i, i - 1)"
      ],
      "execution_count": 18,
      "outputs": []
    },
    {
      "cell_type": "code",
      "metadata": {
        "id": "dInxxciQCxCc",
        "colab_type": "code",
        "colab": {}
      },
      "source": [
        "t2 = set(df[\"y2\"].unique()) & set(df[\"y2\"].unique() + 1)\n",
        "\n",
        "for i in t2:\n",
        "    df[\"y2\"] = df[\"y2\"].replace(i, i - 1)"
      ],
      "execution_count": 19,
      "outputs": []
    },
    {
      "cell_type": "code",
      "metadata": {
        "id": "FOkE-lOMMJVl",
        "colab_type": "code",
        "colab": {}
      },
      "source": [
        "pv = df.pivot_table(index=\"y2\", columns=\"x1\", values=\"text\", aggfunc=lambda x: \" \".join(str(v) for v in x))"
      ],
      "execution_count": 20,
      "outputs": []
    },
    {
      "cell_type": "code",
      "metadata": {
        "id": "twWFox_8klyY",
        "colab_type": "code",
        "colab": {
          "base_uri": "https://localhost:8080/",
          "height": 300
        },
        "outputId": "bc027baa-1ce5-42f2-a4bb-5c30f0f1f39b"
      },
      "source": [
        "pv"
      ],
      "execution_count": 21,
      "outputs": [
        {
          "output_type": "execute_result",
          "data": {
            "text/html": [
              "<div>\n",
              "<style scoped>\n",
              "    .dataframe tbody tr th:only-of-type {\n",
              "        vertical-align: middle;\n",
              "    }\n",
              "\n",
              "    .dataframe tbody tr th {\n",
              "        vertical-align: top;\n",
              "    }\n",
              "\n",
              "    .dataframe thead th {\n",
              "        text-align: right;\n",
              "    }\n",
              "</style>\n",
              "<table border=\"1\" class=\"dataframe\">\n",
              "  <thead>\n",
              "    <tr style=\"text-align: right;\">\n",
              "      <th>x1</th>\n",
              "      <th>11</th>\n",
              "      <th>12</th>\n",
              "      <th>167</th>\n",
              "      <th>247</th>\n",
              "      <th>319</th>\n",
              "      <th>335</th>\n",
              "      <th>392</th>\n",
              "      <th>465</th>\n",
              "      <th>505</th>\n",
              "      <th>537</th>\n",
              "      <th>610</th>\n",
              "    </tr>\n",
              "    <tr>\n",
              "      <th>y2</th>\n",
              "      <th></th>\n",
              "      <th></th>\n",
              "      <th></th>\n",
              "      <th></th>\n",
              "      <th></th>\n",
              "      <th></th>\n",
              "      <th></th>\n",
              "      <th></th>\n",
              "      <th></th>\n",
              "      <th></th>\n",
              "      <th></th>\n",
              "    </tr>\n",
              "  </thead>\n",
              "  <tbody>\n",
              "    <tr>\n",
              "      <th>146</th>\n",
              "      <td>NaN</td>\n",
              "      <td>NaN</td>\n",
              "      <td>陽性率</td>\n",
              "      <td>NaN</td>\n",
              "      <td>NaN</td>\n",
              "      <td>PCR検査実施人数\\n|     PCR検査陽性者数</td>\n",
              "      <td>NaN</td>\n",
              "      <td>NaN</td>\n",
              "      <td>PCR検査陽人者数</td>\n",
              "      <td>NaN</td>\n",
              "      <td>NaN</td>\n",
              "    </tr>\n",
              "    <tr>\n",
              "      <th>227</th>\n",
              "      <td>9月3日(最新日)</td>\n",
              "      <td>NaN</td>\n",
              "      <td>3.7%\\n※直近一週間の平均</td>\n",
              "      <td>NaN</td>\n",
              "      <td>NaN</td>\n",
              "      <td>368</td>\n",
              "      <td>NaN</td>\n",
              "      <td>NaN</td>\n",
              "      <td>19</td>\n",
              "      <td>NaN</td>\n",
              "      <td>NaN</td>\n",
              "    </tr>\n",
              "    <tr>\n",
              "      <th>308</th>\n",
              "      <td>6月16日からの里計\\n(最新日含む)</td>\n",
              "      <td>NaN</td>\n",
              "      <td>4.9%</td>\n",
              "      <td>NaN</td>\n",
              "      <td>NaN</td>\n",
              "      <td>23.652\\n(A)</td>\n",
              "      <td>NaN</td>\n",
              "      <td>NaN</td>\n",
              "      <td>1.152\\n(D)</td>\n",
              "      <td>NaN</td>\n",
              "      <td>NaN</td>\n",
              "    </tr>\n",
              "    <tr>\n",
              "      <th>385</th>\n",
              "      <td>6月15日までの里計</td>\n",
              "      <td>NaN</td>\n",
              "      <td>3.9%</td>\n",
              "      <td>NaN</td>\n",
              "      <td>NaN</td>\n",
              "      <td>9.201\\n(B)</td>\n",
              "      <td>NaN</td>\n",
              "      <td>NaN</td>\n",
              "      <td>360\\n)</td>\n",
              "      <td>NaN</td>\n",
              "      <td>NaN</td>\n",
              "    </tr>\n",
              "    <tr>\n",
              "      <th>465</th>\n",
              "      <td>果計</td>\n",
              "      <td>NaN</td>\n",
              "      <td>4.6%\\n(P)/(C)</td>\n",
              "      <td>NaN</td>\n",
              "      <td>NaN</td>\n",
              "      <td>32.853\\n(C)ニ(A+ (B)</td>\n",
              "      <td>NaN</td>\n",
              "      <td>NaN</td>\n",
              "      <td>1.512\\n(F) = (D) + (E)</td>\n",
              "      <td>NaN</td>\n",
              "      <td>NaN</td>\n",
              "    </tr>\n",
              "    <tr>\n",
              "      <th>650</th>\n",
              "      <td>NaN</td>\n",
              "      <td>NaN</td>\n",
              "      <td>勧退\\n告院\\n解又\\n除は</td>\n",
              "      <td>入\\n院 | 生\\n症</td>\n",
              "      <td>重\\n症</td>\n",
              "      <td>NaN</td>\n",
              "      <td>施\\n設\\n療\\n養</td>\n",
              "      <td>自\\n宅\\n療\\n状</td>\n",
              "      <td>NaN</td>\n",
              "      <td>死</td>\n",
              "      <td>調\\n束\\n中</td>\n",
              "    </tr>\n",
              "    <tr>\n",
              "      <th>703</th>\n",
              "      <td>NaN</td>\n",
              "      <td>9月3日(最新日)</td>\n",
              "      <td>1.340</td>\n",
              "      <td>78</td>\n",
              "      <td>3</td>\n",
              "      <td>NaN</td>\n",
              "      <td>34</td>\n",
              "      <td>28</td>\n",
              "      <td>NaN</td>\n",
              "      <td>25</td>\n",
              "      <td>7</td>\n",
              "    </tr>\n",
              "  </tbody>\n",
              "</table>\n",
              "</div>"
            ],
            "text/plain": [
              "x1                   11         12   ...  537      610\n",
              "y2                                   ...              \n",
              "146                  NaN        NaN  ...  NaN      NaN\n",
              "227            9月3日(最新日)        NaN  ...  NaN      NaN\n",
              "308  6月16日からの里計\\n(最新日含む)        NaN  ...  NaN      NaN\n",
              "385           6月15日までの里計        NaN  ...  NaN      NaN\n",
              "465                   果計        NaN  ...  NaN      NaN\n",
              "650                  NaN        NaN  ...    死  調\\n束\\n中\n",
              "703                  NaN  9月3日(最新日)  ...   25        7\n",
              "\n",
              "[7 rows x 11 columns]"
            ]
          },
          "metadata": {
            "tags": []
          },
          "execution_count": 21
        }
      ]
    },
    {
      "cell_type": "code",
      "metadata": {
        "id": "KosXpdZNeLwh",
        "colab_type": "code",
        "colab": {}
      },
      "source": [
        "pv1 = pv.iloc[:-2].copy()"
      ],
      "execution_count": 22,
      "outputs": []
    },
    {
      "cell_type": "code",
      "metadata": {
        "id": "HrRD7JI7e3dJ",
        "colab_type": "code",
        "colab": {}
      },
      "source": [
        "pv1.dropna(thresh=4, inplace=True)\n",
        "pv1.dropna(how=\"all\", axis=1, inplace=True)\n",
        "\n",
        "pv1.fillna(\"\", inplace=True)"
      ],
      "execution_count": 23,
      "outputs": []
    },
    {
      "cell_type": "code",
      "metadata": {
        "id": "wlkFqwZtiHAB",
        "colab_type": "code",
        "colab": {}
      },
      "source": [
        "def data_split(s):\n",
        "    x = str(s).split()\n",
        "    if len(x) == 0:\n",
        "        return \"\"\n",
        "    else:\n",
        "        if x[0].endswith(\"%\"):\n",
        "            return float(x[0].rstrip(\"%\"))\n",
        "\n",
        "        t = x[0].replace(\".\", \"\")\n",
        "\n",
        "        if t.isdigit():\n",
        "            return int(t)\n",
        "\n",
        "        return t"
      ],
      "execution_count": 24,
      "outputs": []
    },
    {
      "cell_type": "code",
      "metadata": {
        "id": "yGtmhZPihU4q",
        "colab_type": "code",
        "colab": {}
      },
      "source": [
        "pv1 = pv1.applymap(data_split)"
      ],
      "execution_count": 25,
      "outputs": []
    },
    {
      "cell_type": "code",
      "metadata": {
        "id": "vUwCKWL5avO6",
        "colab_type": "code",
        "colab": {}
      },
      "source": [
        "pv1.set_axis([\"日付\", \"陽性率\", \"PCR検査実施人数\", \"PCR検査陽性者数\"], axis=1, inplace=True)"
      ],
      "execution_count": 26,
      "outputs": []
    },
    {
      "cell_type": "code",
      "metadata": {
        "id": "X9fWAt0sblhb",
        "colab_type": "code",
        "colab": {}
      },
      "source": [
        "pv1[\"日付\"] = pv1[\"日付\"].str.replace(\"\\(最新日\\)\", \"\").str.replace(\"里計\", \"累計\").str.replace(\"果計\", \"累計\")"
      ],
      "execution_count": 27,
      "outputs": []
    },
    {
      "cell_type": "code",
      "metadata": {
        "id": "pDkS6JPPbXwb",
        "colab_type": "code",
        "colab": {}
      },
      "source": [
        "pv1.set_index(\"日付\", inplace=True)"
      ],
      "execution_count": 28,
      "outputs": []
    },
    {
      "cell_type": "code",
      "metadata": {
        "id": "E4wH7fM9edAw",
        "colab_type": "code",
        "colab": {
          "base_uri": "https://localhost:8080/",
          "height": 206
        },
        "outputId": "00b895d9-1a0a-4e6f-8e85-5afdc934a56d"
      },
      "source": [
        "pv1"
      ],
      "execution_count": 29,
      "outputs": [
        {
          "output_type": "execute_result",
          "data": {
            "text/html": [
              "<div>\n",
              "<style scoped>\n",
              "    .dataframe tbody tr th:only-of-type {\n",
              "        vertical-align: middle;\n",
              "    }\n",
              "\n",
              "    .dataframe tbody tr th {\n",
              "        vertical-align: top;\n",
              "    }\n",
              "\n",
              "    .dataframe thead th {\n",
              "        text-align: right;\n",
              "    }\n",
              "</style>\n",
              "<table border=\"1\" class=\"dataframe\">\n",
              "  <thead>\n",
              "    <tr style=\"text-align: right;\">\n",
              "      <th></th>\n",
              "      <th>陽性率</th>\n",
              "      <th>PCR検査実施人数</th>\n",
              "      <th>PCR検査陽性者数</th>\n",
              "    </tr>\n",
              "    <tr>\n",
              "      <th>日付</th>\n",
              "      <th></th>\n",
              "      <th></th>\n",
              "      <th></th>\n",
              "    </tr>\n",
              "  </thead>\n",
              "  <tbody>\n",
              "    <tr>\n",
              "      <th>9月3日</th>\n",
              "      <td>3.7</td>\n",
              "      <td>368</td>\n",
              "      <td>19</td>\n",
              "    </tr>\n",
              "    <tr>\n",
              "      <th>6月16日からの累計</th>\n",
              "      <td>4.9</td>\n",
              "      <td>23652</td>\n",
              "      <td>1152</td>\n",
              "    </tr>\n",
              "    <tr>\n",
              "      <th>6月15日までの累計</th>\n",
              "      <td>3.9</td>\n",
              "      <td>9201</td>\n",
              "      <td>360</td>\n",
              "    </tr>\n",
              "    <tr>\n",
              "      <th>累計</th>\n",
              "      <td>4.6</td>\n",
              "      <td>32853</td>\n",
              "      <td>1512</td>\n",
              "    </tr>\n",
              "  </tbody>\n",
              "</table>\n",
              "</div>"
            ],
            "text/plain": [
              "            陽性率  PCR検査実施人数  PCR検査陽性者数\n",
              "日付                                   \n",
              "9月3日        3.7        368         19\n",
              "6月16日からの累計  4.9      23652       1152\n",
              "6月15日までの累計  3.9       9201        360\n",
              "累計          4.6      32853       1512"
            ]
          },
          "metadata": {
            "tags": []
          },
          "execution_count": 29
        }
      ]
    },
    {
      "cell_type": "code",
      "metadata": {
        "id": "QuFx0bSBVzcf",
        "colab_type": "code",
        "colab": {}
      },
      "source": [
        "pv1.to_csv(\"kensa.csv\", encoding=\"utf_8_sig\")"
      ],
      "execution_count": 39,
      "outputs": []
    },
    {
      "cell_type": "code",
      "metadata": {
        "id": "T35_yHb4d5JS",
        "colab_type": "code",
        "colab": {}
      },
      "source": [
        "pv2 = pv.iloc[-2:].copy()"
      ],
      "execution_count": 30,
      "outputs": []
    },
    {
      "cell_type": "code",
      "metadata": {
        "id": "E0t6hysZMJf1",
        "colab_type": "code",
        "colab": {}
      },
      "source": [
        "pv2.dropna(thresh=8, inplace=True)"
      ],
      "execution_count": 31,
      "outputs": []
    },
    {
      "cell_type": "code",
      "metadata": {
        "id": "ZcWNzjnETDM-",
        "colab_type": "code",
        "colab": {}
      },
      "source": [
        "pv2.dropna(how=\"all\", axis=1, inplace=True)"
      ],
      "execution_count": 32,
      "outputs": []
    },
    {
      "cell_type": "code",
      "metadata": {
        "id": "ds81VWMFSyyP",
        "colab_type": "code",
        "colab": {
          "base_uri": "https://localhost:8080/",
          "height": 112
        },
        "outputId": "1ef2dcaf-72fd-4751-c057-1b03bfc8cdc0"
      },
      "source": [
        "pv2"
      ],
      "execution_count": 33,
      "outputs": [
        {
          "output_type": "execute_result",
          "data": {
            "text/html": [
              "<div>\n",
              "<style scoped>\n",
              "    .dataframe tbody tr th:only-of-type {\n",
              "        vertical-align: middle;\n",
              "    }\n",
              "\n",
              "    .dataframe tbody tr th {\n",
              "        vertical-align: top;\n",
              "    }\n",
              "\n",
              "    .dataframe thead th {\n",
              "        text-align: right;\n",
              "    }\n",
              "</style>\n",
              "<table border=\"1\" class=\"dataframe\">\n",
              "  <thead>\n",
              "    <tr style=\"text-align: right;\">\n",
              "      <th>x1</th>\n",
              "      <th>12</th>\n",
              "      <th>167</th>\n",
              "      <th>247</th>\n",
              "      <th>319</th>\n",
              "      <th>392</th>\n",
              "      <th>465</th>\n",
              "      <th>537</th>\n",
              "      <th>610</th>\n",
              "    </tr>\n",
              "    <tr>\n",
              "      <th>y2</th>\n",
              "      <th></th>\n",
              "      <th></th>\n",
              "      <th></th>\n",
              "      <th></th>\n",
              "      <th></th>\n",
              "      <th></th>\n",
              "      <th></th>\n",
              "      <th></th>\n",
              "    </tr>\n",
              "  </thead>\n",
              "  <tbody>\n",
              "    <tr>\n",
              "      <th>703</th>\n",
              "      <td>9月3日(最新日)</td>\n",
              "      <td>1.340</td>\n",
              "      <td>78</td>\n",
              "      <td>3</td>\n",
              "      <td>34</td>\n",
              "      <td>28</td>\n",
              "      <td>25</td>\n",
              "      <td>7</td>\n",
              "    </tr>\n",
              "  </tbody>\n",
              "</table>\n",
              "</div>"
            ],
            "text/plain": [
              "x1         12     167 247 319 392 465 537 610\n",
              "y2                                           \n",
              "703  9月3日(最新日)  1.340  78   3  34  28  25   7"
            ]
          },
          "metadata": {
            "tags": []
          },
          "execution_count": 33
        }
      ]
    },
    {
      "cell_type": "code",
      "metadata": {
        "id": "PI3KcHnISdee",
        "colab_type": "code",
        "colab": {}
      },
      "source": [
        "s1 = pv2.iloc[0]"
      ],
      "execution_count": 34,
      "outputs": []
    },
    {
      "cell_type": "code",
      "metadata": {
        "id": "px6K_mH-gn9x",
        "colab_type": "code",
        "colab": {}
      },
      "source": [
        "s1.index = [\"日付\", \"退院又は勧告解除\", \"入院\", \"重症\", \"施設療養\", \"自宅療養\", \"死亡\", \"調整中\"]"
      ],
      "execution_count": 35,
      "outputs": []
    },
    {
      "cell_type": "code",
      "metadata": {
        "id": "KCveoSqKZqRw",
        "colab_type": "code",
        "colab": {}
      },
      "source": [
        "s1.name = \"陽性者の状況\""
      ],
      "execution_count": 36,
      "outputs": []
    },
    {
      "cell_type": "code",
      "metadata": {
        "id": "DAsP9H4NSP2Y",
        "colab_type": "code",
        "colab": {}
      },
      "source": [
        "s1 = s1.str.replace(\".\", \"\").str.replace(\"\\(最新日\\)\", \"\")"
      ],
      "execution_count": 37,
      "outputs": []
    },
    {
      "cell_type": "code",
      "metadata": {
        "id": "3ZhYGwobZu4E",
        "colab_type": "code",
        "colab": {
          "base_uri": "https://localhost:8080/",
          "height": 178
        },
        "outputId": "f91abb81-0915-470c-83d4-3df238c9d2bd"
      },
      "source": [
        "s1"
      ],
      "execution_count": 38,
      "outputs": [
        {
          "output_type": "execute_result",
          "data": {
            "text/plain": [
              "日付          9月3日\n",
              "退院又は勧告解除    1340\n",
              "入院            78\n",
              "重症             3\n",
              "施設療養          34\n",
              "自宅療養          28\n",
              "死亡            25\n",
              "調整中            7\n",
              "Name: 陽性者の状況, dtype: object"
            ]
          },
          "metadata": {
            "tags": []
          },
          "execution_count": 38
        }
      ]
    },
    {
      "cell_type": "code",
      "metadata": {
        "id": "kKt6BPwvMOSV",
        "colab_type": "code",
        "colab": {}
      },
      "source": [
        "s1.to_csv(\"main.csv\", encoding=\"utf_8_sig\")"
      ],
      "execution_count": 40,
      "outputs": []
    }
  ]
}