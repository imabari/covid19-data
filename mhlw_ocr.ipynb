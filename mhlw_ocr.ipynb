{
  "nbformat": 4,
  "nbformat_minor": 0,
  "metadata": {
    "colab": {
      "name": "mhlw_ocr.ipynb",
      "provenance": [],
      "collapsed_sections": [],
      "toc_visible": true,
      "authorship_tag": "ABX9TyM4KsGMAdQWVMH+2wMrE1Iu",
      "include_colab_link": true
    },
    "kernelspec": {
      "name": "python3",
      "display_name": "Python 3"
    }
  },
  "cells": [
    {
      "cell_type": "markdown",
      "metadata": {
        "id": "view-in-github",
        "colab_type": "text"
      },
      "source": [
        "<a href=\"https://colab.research.google.com/github/imabari/covid19-data/blob/master/mhlw_ocr.ipynb\" target=\"_parent\"><img src=\"https://colab.research.google.com/assets/colab-badge.svg\" alt=\"Open In Colab\"/></a>"
      ]
    },
    {
      "cell_type": "code",
      "metadata": {
        "id": "pt9O5n8Lc3gc",
        "colab_type": "code",
        "colab": {
          "base_uri": "https://localhost:8080/",
          "height": 214
        },
        "outputId": "b0a4e4d6-e2eb-479c-91fb-d0a33106fcaf"
      },
      "source": [
        "# データをダウンロード\n",
        "!wget https://www.mhlw.go.jp/content/10906000/000668093.pdf -O data.pdf\n",
        "# !wget https://www.mhlw.go.jp/content/10906000/000668309.pdf -O data.pdf"
      ],
      "execution_count": 1,
      "outputs": [
        {
          "output_type": "stream",
          "text": [
            "--2020-09-06 02:20:18--  https://www.mhlw.go.jp/content/10906000/000668093.pdf\n",
            "Resolving www.mhlw.go.jp (www.mhlw.go.jp)... 23.78.64.19, 2600:1408:5400:48d::3194, 2600:1408:5400:4a8::3194\n",
            "Connecting to www.mhlw.go.jp (www.mhlw.go.jp)|23.78.64.19|:443... connected.\n",
            "HTTP request sent, awaiting response... 200 OK\n",
            "Length: 453107 (442K) [application/pdf]\n",
            "Saving to: ‘data.pdf’\n",
            "\n",
            "data.pdf            100%[===================>] 442.49K  --.-KB/s    in 0.09s   \n",
            "\n",
            "2020-09-06 02:20:19 (4.76 MB/s) - ‘data.pdf’ saved [453107/453107]\n",
            "\n"
          ],
          "name": "stdout"
        }
      ]
    },
    {
      "cell_type": "code",
      "metadata": {
        "id": "ugCimFfCdCBH",
        "colab_type": "code",
        "colab": {
          "base_uri": "https://localhost:8080/",
          "height": 304
        },
        "outputId": "9e3c0830-099b-4143-b6d5-df46b048d364"
      },
      "source": [
        "# PDFBOXをダウンロード\n",
        "!wget https://www-eu.apache.org/dist/pdfbox/2.0.21/pdfbox-app-2.0.21.jar -O pdfbox-app.jar"
      ],
      "execution_count": 2,
      "outputs": [
        {
          "output_type": "stream",
          "text": [
            "--2020-09-06 02:20:19--  https://www-eu.apache.org/dist/pdfbox/2.0.21/pdfbox-app-2.0.21.jar\n",
            "Resolving www-eu.apache.org (www-eu.apache.org)... 95.216.24.32, 2a01:4f9:2a:185f::2\n",
            "Connecting to www-eu.apache.org (www-eu.apache.org)|95.216.24.32|:443... connected.\n",
            "HTTP request sent, awaiting response... 302 Found\n",
            "Location: https://downloads.apache.org/pdfbox/2.0.21/pdfbox-app-2.0.21.jar [following]\n",
            "--2020-09-06 02:20:19--  https://downloads.apache.org/pdfbox/2.0.21/pdfbox-app-2.0.21.jar\n",
            "Resolving downloads.apache.org (downloads.apache.org)... 88.99.95.219, 2a01:4f8:10a:201a::2\n",
            "Connecting to downloads.apache.org (downloads.apache.org)|88.99.95.219|:443... connected.\n",
            "HTTP request sent, awaiting response... 200 OK\n",
            "Length: 9897381 (9.4M) [application/java-archive]\n",
            "Saving to: ‘pdfbox-app.jar’\n",
            "\n",
            "pdfbox-app.jar      100%[===================>]   9.44M  9.37MB/s    in 1.0s    \n",
            "\n",
            "2020-09-06 02:20:21 (9.37 MB/s) - ‘pdfbox-app.jar’ saved [9897381/9897381]\n",
            "\n"
          ],
          "name": "stdout"
        }
      ]
    },
    {
      "cell_type": "code",
      "metadata": {
        "id": "qL7Xuv5EM97a",
        "colab_type": "code",
        "colab": {}
      },
      "source": [
        "# PDFから画像に変換\n",
        "!java -jar pdfbox-app.jar PDFToImage -imageType png -dpi 300 data.pdf"
      ],
      "execution_count": 3,
      "outputs": []
    },
    {
      "cell_type": "code",
      "metadata": {
        "id": "URJte09EMrCl",
        "colab_type": "code",
        "colab": {}
      },
      "source": [
        "# !java -jar pdfbox-app.jar ExtractImages data.pdf"
      ],
      "execution_count": 4,
      "outputs": []
    },
    {
      "cell_type": "code",
      "metadata": {
        "id": "Pk-ZtniNyVfb",
        "colab_type": "code",
        "colab": {
          "base_uri": "https://localhost:8080/",
          "height": 1000
        },
        "outputId": "84c49dad-3425-411f-913a-a98b2a84f35a"
      },
      "source": [
        "!add-apt-repository ppa:alex-p/tesseract-ocr -y\n",
        "\n",
        "!apt update\n",
        "\n",
        "!apt install tesseract-ocr\n",
        "!apt install libtesseract-dev\n",
        "\n",
        "!tesseract -v\n",
        "\n",
        "!apt install tesseract-ocr-jpn  tesseract-ocr-jpn-vert\n",
        "!apt install tesseract-ocr-script-jpan tesseract-ocr-script-jpan-vert\n",
        "\n",
        "!tesseract --list-langs\n",
        "!pip install pytesseract"
      ],
      "execution_count": 5,
      "outputs": [
        {
          "output_type": "stream",
          "text": [
            "Ign:1 https://developer.download.nvidia.com/compute/cuda/repos/ubuntu1804/x86_64  InRelease\n",
            "Get:2 https://cloud.r-project.org/bin/linux/ubuntu bionic-cran35/ InRelease [3,626 B]\n",
            "Hit:3 http://archive.ubuntu.com/ubuntu bionic InRelease\n",
            "Get:4 http://security.ubuntu.com/ubuntu bionic-security InRelease [88.7 kB]\n",
            "Get:5 http://ppa.launchpad.net/alex-p/tesseract-ocr/ubuntu bionic InRelease [15.4 kB]\n",
            "Ign:6 https://developer.download.nvidia.com/compute/machine-learning/repos/ubuntu1804/x86_64  InRelease\n",
            "Hit:7 https://developer.download.nvidia.com/compute/cuda/repos/ubuntu1804/x86_64  Release\n",
            "Get:8 https://developer.download.nvidia.com/compute/machine-learning/repos/ubuntu1804/x86_64  Release [564 B]\n",
            "Get:9 https://developer.download.nvidia.com/compute/machine-learning/repos/ubuntu1804/x86_64  Release.gpg [833 B]\n",
            "Get:10 http://archive.ubuntu.com/ubuntu bionic-updates InRelease [88.7 kB]\n",
            "Get:11 http://ppa.launchpad.net/graphics-drivers/ppa/ubuntu bionic InRelease [21.3 kB]\n",
            "Get:12 https://cloud.r-project.org/bin/linux/ubuntu bionic-cran35/ Packages [95.7 kB]\n",
            "Get:13 http://archive.ubuntu.com/ubuntu bionic-backports InRelease [74.6 kB]\n",
            "Get:14 http://ppa.launchpad.net/marutter/c2d4u3.5/ubuntu bionic InRelease [15.4 kB]\n",
            "Get:15 http://ppa.launchpad.net/alex-p/tesseract-ocr/ubuntu bionic/main amd64 Packages [26.5 kB]\n",
            "Get:17 https://developer.download.nvidia.com/compute/machine-learning/repos/ubuntu1804/x86_64  Packages [47.5 kB]\n",
            "Get:18 http://security.ubuntu.com/ubuntu bionic-security/main amd64 Packages [1,067 kB]\n",
            "Get:19 http://ppa.launchpad.net/graphics-drivers/ppa/ubuntu bionic/main amd64 Packages [43.0 kB]\n",
            "Get:20 http://security.ubuntu.com/ubuntu bionic-security/restricted amd64 Packages [109 kB]\n",
            "Get:21 http://security.ubuntu.com/ubuntu bionic-security/universe amd64 Packages [892 kB]\n",
            "Get:22 http://archive.ubuntu.com/ubuntu bionic-updates/main amd64 Packages [1,362 kB]\n",
            "Get:23 http://archive.ubuntu.com/ubuntu bionic-updates/restricted amd64 Packages [125 kB]\n",
            "Get:24 http://archive.ubuntu.com/ubuntu bionic-updates/universe amd64 Packages [1,421 kB]\n",
            "Get:25 http://ppa.launchpad.net/marutter/c2d4u3.5/ubuntu bionic/main Sources [1,864 kB]\n",
            "Get:26 http://ppa.launchpad.net/marutter/c2d4u3.5/ubuntu bionic/main amd64 Packages [900 kB]\n",
            "Fetched 8,262 kB in 4s (1,893 kB/s)\n",
            "Reading package lists... Done\n",
            "Ign:1 https://developer.download.nvidia.com/compute/cuda/repos/ubuntu1804/x86_64  InRelease\n",
            "Hit:2 http://ppa.launchpad.net/alex-p/tesseract-ocr/ubuntu bionic InRelease\n",
            "Hit:3 http://archive.ubuntu.com/ubuntu bionic InRelease\n",
            "Ign:4 https://developer.download.nvidia.com/compute/machine-learning/repos/ubuntu1804/x86_64  InRelease\n",
            "Hit:5 https://cloud.r-project.org/bin/linux/ubuntu bionic-cran35/ InRelease\n",
            "Hit:6 https://developer.download.nvidia.com/compute/cuda/repos/ubuntu1804/x86_64  Release\n",
            "Hit:7 http://security.ubuntu.com/ubuntu bionic-security InRelease\n",
            "Hit:8 https://developer.download.nvidia.com/compute/machine-learning/repos/ubuntu1804/x86_64  Release\n",
            "Hit:9 http://archive.ubuntu.com/ubuntu bionic-updates InRelease\n",
            "Hit:10 http://ppa.launchpad.net/graphics-drivers/ppa/ubuntu bionic InRelease\n",
            "Hit:11 http://archive.ubuntu.com/ubuntu bionic-backports InRelease\n",
            "Hit:12 http://ppa.launchpad.net/marutter/c2d4u3.5/ubuntu bionic InRelease\n",
            "Reading package lists... Done\n",
            "Building dependency tree       \n",
            "Reading state information... Done\n",
            "74 packages can be upgraded. Run 'apt list --upgradable' to see them.\n",
            "Reading package lists... Done\n",
            "Building dependency tree       \n",
            "Reading state information... Done\n",
            "The following package was automatically installed and is no longer required:\n",
            "  libnvidia-common-440\n",
            "Use 'apt autoremove' to remove it.\n",
            "The following additional packages will be installed:\n",
            "  libtesseract4 tesseract-ocr-eng tesseract-ocr-osd\n",
            "The following NEW packages will be installed:\n",
            "  tesseract-ocr tesseract-ocr-eng tesseract-ocr-osd\n",
            "The following packages will be upgraded:\n",
            "  libtesseract4\n",
            "1 upgraded, 3 newly installed, 0 to remove and 73 not upgraded.\n",
            "Need to get 6,161 kB of archives.\n",
            "After this operation, 16.3 MB of additional disk space will be used.\n",
            "Get:1 http://ppa.launchpad.net/alex-p/tesseract-ocr/ubuntu bionic/main amd64 libtesseract4 amd64 4.1.1+git4247-97079fa3-1ppa1~bionic1 [1,260 kB]\n",
            "Get:2 http://ppa.launchpad.net/alex-p/tesseract-ocr/ubuntu bionic/main amd64 tesseract-ocr-eng all 1:4.0.0+git39-6572757-1ppa1~bionic1 [1,589 kB]\n",
            "Get:3 http://ppa.launchpad.net/alex-p/tesseract-ocr/ubuntu bionic/main amd64 tesseract-ocr-osd all 1:4.0.0+git39-6572757-1ppa1~bionic1 [2,992 kB]\n",
            "Get:4 http://ppa.launchpad.net/alex-p/tesseract-ocr/ubuntu bionic/main amd64 tesseract-ocr amd64 4.1.1+git4247-97079fa3-1ppa1~bionic1 [320 kB]\n",
            "Fetched 6,161 kB in 3s (2,016 kB/s)\n",
            "(Reading database ... 144579 files and directories currently installed.)\n",
            "Preparing to unpack .../libtesseract4_4.1.1+git4247-97079fa3-1ppa1~bionic1_amd64.deb ...\n",
            "Unpacking libtesseract4:amd64 (4.1.1+git4247-97079fa3-1ppa1~bionic1) over (4.00~git2288-10f4998a-2) ...\n",
            "Selecting previously unselected package tesseract-ocr-eng.\n",
            "Preparing to unpack .../tesseract-ocr-eng_1%3a4.0.0+git39-6572757-1ppa1~bionic1_all.deb ...\n",
            "Unpacking tesseract-ocr-eng (1:4.0.0+git39-6572757-1ppa1~bionic1) ...\n",
            "Selecting previously unselected package tesseract-ocr-osd.\n",
            "Preparing to unpack .../tesseract-ocr-osd_1%3a4.0.0+git39-6572757-1ppa1~bionic1_all.deb ...\n",
            "Unpacking tesseract-ocr-osd (1:4.0.0+git39-6572757-1ppa1~bionic1) ...\n",
            "Selecting previously unselected package tesseract-ocr.\n",
            "Preparing to unpack .../tesseract-ocr_4.1.1+git4247-97079fa3-1ppa1~bionic1_amd64.deb ...\n",
            "Unpacking tesseract-ocr (4.1.1+git4247-97079fa3-1ppa1~bionic1) ...\n",
            "Setting up libtesseract4:amd64 (4.1.1+git4247-97079fa3-1ppa1~bionic1) ...\n",
            "Setting up tesseract-ocr-osd (1:4.0.0+git39-6572757-1ppa1~bionic1) ...\n",
            "Setting up tesseract-ocr-eng (1:4.0.0+git39-6572757-1ppa1~bionic1) ...\n",
            "Setting up tesseract-ocr (4.1.1+git4247-97079fa3-1ppa1~bionic1) ...\n",
            "Processing triggers for man-db (2.8.3-2ubuntu0.1) ...\n",
            "Processing triggers for libc-bin (2.27-3ubuntu1) ...\n",
            "/sbin/ldconfig.real: /usr/local/lib/python3.6/dist-packages/ideep4py/lib/libmkldnn.so.0 is not a symbolic link\n",
            "\n",
            "Reading package lists... Done\n",
            "Building dependency tree       \n",
            "Reading state information... Done\n",
            "The following package was automatically installed and is no longer required:\n",
            "  libnvidia-common-440\n",
            "Use 'apt autoremove' to remove it.\n",
            "The following additional packages will be installed:\n",
            "  libarchive-dev liblept5 libleptonica-dev\n",
            "The following NEW packages will be installed:\n",
            "  libarchive-dev libleptonica-dev libtesseract-dev\n",
            "The following packages will be upgraded:\n",
            "  liblept5\n",
            "1 upgraded, 3 newly installed, 0 to remove and 72 not upgraded.\n",
            "Need to get 4,327 kB of archives.\n",
            "After this operation, 15.2 MB of additional disk space will be used.\n",
            "Get:1 http://archive.ubuntu.com/ubuntu bionic-updates/main amd64 libarchive-dev amd64 3.2.2-3.1ubuntu0.6 [470 kB]\n",
            "Get:2 http://ppa.launchpad.net/alex-p/tesseract-ocr/ubuntu bionic/main amd64 liblept5 amd64 1.78.0-1+nmu1ppa1~bionic1 [985 kB]\n",
            "Get:3 http://ppa.launchpad.net/alex-p/tesseract-ocr/ubuntu bionic/main amd64 libleptonica-dev amd64 1.78.0-1+nmu1ppa1~bionic1 [1,375 kB]\n",
            "Get:4 http://ppa.launchpad.net/alex-p/tesseract-ocr/ubuntu bionic/main amd64 libtesseract-dev amd64 4.1.1+git4247-97079fa3-1ppa1~bionic1 [1,496 kB]\n",
            "Fetched 4,327 kB in 3s (1,684 kB/s)\n",
            "Selecting previously unselected package libarchive-dev:amd64.\n",
            "(Reading database ... 144631 files and directories currently installed.)\n",
            "Preparing to unpack .../libarchive-dev_3.2.2-3.1ubuntu0.6_amd64.deb ...\n",
            "Unpacking libarchive-dev:amd64 (3.2.2-3.1ubuntu0.6) ...\n",
            "Preparing to unpack .../liblept5_1.78.0-1+nmu1ppa1~bionic1_amd64.deb ...\n",
            "Unpacking liblept5 (1.78.0-1+nmu1ppa1~bionic1) over (1.75.3-3) ...\n",
            "Selecting previously unselected package libleptonica-dev.\n",
            "Preparing to unpack .../libleptonica-dev_1.78.0-1+nmu1ppa1~bionic1_amd64.deb ...\n",
            "Unpacking libleptonica-dev (1.78.0-1+nmu1ppa1~bionic1) ...\n",
            "Selecting previously unselected package libtesseract-dev:amd64.\n",
            "Preparing to unpack .../libtesseract-dev_4.1.1+git4247-97079fa3-1ppa1~bionic1_amd64.deb ...\n",
            "Unpacking libtesseract-dev:amd64 (4.1.1+git4247-97079fa3-1ppa1~bionic1) ...\n",
            "Setting up liblept5 (1.78.0-1+nmu1ppa1~bionic1) ...\n",
            "Setting up libarchive-dev:amd64 (3.2.2-3.1ubuntu0.6) ...\n",
            "Setting up libleptonica-dev (1.78.0-1+nmu1ppa1~bionic1) ...\n",
            "Setting up libtesseract-dev:amd64 (4.1.1+git4247-97079fa3-1ppa1~bionic1) ...\n",
            "Processing triggers for libc-bin (2.27-3ubuntu1) ...\n",
            "/sbin/ldconfig.real: /usr/local/lib/python3.6/dist-packages/ideep4py/lib/libmkldnn.so.0 is not a symbolic link\n",
            "\n",
            "Processing triggers for man-db (2.8.3-2ubuntu0.1) ...\n",
            "tesseract 4.1.1-rc2-25-g9707\n",
            " leptonica-1.78.0\n",
            "  libgif 5.1.4 : libjpeg 8d (libjpeg-turbo 1.5.2) : libpng 1.6.34 : libtiff 4.0.9 : zlib 1.2.11 : libwebp 0.6.1 : libopenjp2 2.3.0\n",
            " Found AVX2\n",
            " Found AVX\n",
            " Found FMA\n",
            " Found SSE\n",
            " Found libarchive 3.2.2 zlib/1.2.11 liblzma/5.2.2 bz2lib/1.0.6 liblz4/1.7.1\n",
            "Reading package lists... Done\n",
            "Building dependency tree       \n",
            "Reading state information... Done\n",
            "The following package was automatically installed and is no longer required:\n",
            "  libnvidia-common-440\n",
            "Use 'apt autoremove' to remove it.\n",
            "The following NEW packages will be installed:\n",
            "  tesseract-ocr-jpn tesseract-ocr-jpn-vert\n",
            "0 upgraded, 2 newly installed, 0 to remove and 72 not upgraded.\n",
            "Need to get 3,281 kB of archives.\n",
            "After this operation, 5,539 kB of additional disk space will be used.\n",
            "Get:1 http://ppa.launchpad.net/alex-p/tesseract-ocr/ubuntu bionic/main amd64 tesseract-ocr-jpn all 1:4.0.0+git39-6572757-1ppa1~bionic1 [1,391 kB]\n",
            "Get:2 http://ppa.launchpad.net/alex-p/tesseract-ocr/ubuntu bionic/main amd64 tesseract-ocr-jpn-vert all 1:4.0.0+git39-6572757-1ppa1~bionic1 [1,890 kB]\n",
            "Fetched 3,281 kB in 2s (2,034 kB/s)\n",
            "Selecting previously unselected package tesseract-ocr-jpn.\n",
            "(Reading database ... 144759 files and directories currently installed.)\n",
            "Preparing to unpack .../tesseract-ocr-jpn_1%3a4.0.0+git39-6572757-1ppa1~bionic1_all.deb ...\n",
            "Unpacking tesseract-ocr-jpn (1:4.0.0+git39-6572757-1ppa1~bionic1) ...\n",
            "Selecting previously unselected package tesseract-ocr-jpn-vert.\n",
            "Preparing to unpack .../tesseract-ocr-jpn-vert_1%3a4.0.0+git39-6572757-1ppa1~bionic1_all.deb ...\n",
            "Unpacking tesseract-ocr-jpn-vert (1:4.0.0+git39-6572757-1ppa1~bionic1) ...\n",
            "Setting up tesseract-ocr-jpn (1:4.0.0+git39-6572757-1ppa1~bionic1) ...\n",
            "Setting up tesseract-ocr-jpn-vert (1:4.0.0+git39-6572757-1ppa1~bionic1) ...\n",
            "Reading package lists... Done\n",
            "Building dependency tree       \n",
            "Reading state information... Done\n",
            "The following package was automatically installed and is no longer required:\n",
            "  libnvidia-common-440\n",
            "Use 'apt autoremove' to remove it.\n",
            "The following NEW packages will be installed:\n",
            "  tesseract-ocr-script-jpan tesseract-ocr-script-jpan-vert\n",
            "0 upgraded, 2 newly installed, 0 to remove and 72 not upgraded.\n",
            "Need to get 5,670 kB of archives.\n",
            "After this operation, 12.4 MB of additional disk space will be used.\n",
            "Get:1 http://ppa.launchpad.net/alex-p/tesseract-ocr/ubuntu bionic/main amd64 tesseract-ocr-script-jpan all 1:4.0.0+git39-6572757-1ppa1~bionic1 [2,586 kB]\n",
            "Get:2 http://ppa.launchpad.net/alex-p/tesseract-ocr/ubuntu bionic/main amd64 tesseract-ocr-script-jpan-vert all 1:4.0.0+git39-6572757-1ppa1~bionic1 [3,084 kB]\n",
            "Fetched 5,670 kB in 2s (3,245 kB/s)\n",
            "Selecting previously unselected package tesseract-ocr-script-jpan.\n",
            "(Reading database ... 144767 files and directories currently installed.)\n",
            "Preparing to unpack .../tesseract-ocr-script-jpan_1%3a4.0.0+git39-6572757-1ppa1~bionic1_all.deb ...\n",
            "Unpacking tesseract-ocr-script-jpan (1:4.0.0+git39-6572757-1ppa1~bionic1) ...\n",
            "Selecting previously unselected package tesseract-ocr-script-jpan-vert.\n",
            "Preparing to unpack .../tesseract-ocr-script-jpan-vert_1%3a4.0.0+git39-6572757-1ppa1~bionic1_all.deb ...\n",
            "Unpacking tesseract-ocr-script-jpan-vert (1:4.0.0+git39-6572757-1ppa1~bionic1) ...\n",
            "Setting up tesseract-ocr-script-jpan (1:4.0.0+git39-6572757-1ppa1~bionic1) ...\n",
            "Setting up tesseract-ocr-script-jpan-vert (1:4.0.0+git39-6572757-1ppa1~bionic1) ...\n",
            "List of available languages (6):\n",
            "Japanese\n",
            "Japanese_vert\n",
            "eng\n",
            "jpn\n",
            "jpn_vert\n",
            "osd\n",
            "Collecting pytesseract\n",
            "  Downloading https://files.pythonhosted.org/packages/17/4b/4dbd55388225bb6cd243d21f70e77cb3ce061e241257485936324b8e920f/pytesseract-0.3.6.tar.gz\n",
            "Requirement already satisfied: Pillow in /usr/local/lib/python3.6/dist-packages (from pytesseract) (7.0.0)\n",
            "Building wheels for collected packages: pytesseract\n",
            "  Building wheel for pytesseract (setup.py) ... \u001b[?25l\u001b[?25hdone\n",
            "  Created wheel for pytesseract: filename=pytesseract-0.3.6-py2.py3-none-any.whl size=13629 sha256=b8d87a1417578a18d91e27609620b59ef942462d55610f9406819258c0441ad4\n",
            "  Stored in directory: /root/.cache/pip/wheels/ee/71/72/b98430261d849ae631e283dfc7ccb456a3fb2ed2205714b63f\n",
            "Successfully built pytesseract\n",
            "Installing collected packages: pytesseract\n",
            "Successfully installed pytesseract-0.3.6\n"
          ],
          "name": "stdout"
        }
      ]
    },
    {
      "cell_type": "code",
      "metadata": {
        "id": "51vJQPiXi-h5",
        "colab_type": "code",
        "colab": {}
      },
      "source": [
        "import re\n",
        "\n",
        "import cv2\n",
        "import numpy as np\n",
        "import pytesseract"
      ],
      "execution_count": 6,
      "outputs": []
    },
    {
      "cell_type": "code",
      "metadata": {
        "id": "aYwr-CWwjpnZ",
        "colab_type": "code",
        "colab": {}
      },
      "source": [
        "from google.colab.patches import cv2_imshow"
      ],
      "execution_count": 7,
      "outputs": []
    },
    {
      "cell_type": "markdown",
      "metadata": {
        "id": "sA4l5kE_9CFm",
        "colab_type": "text"
      },
      "source": [
        "参考：[OpenCVでの表のセルの認識方法](https://teratail.com/questions/151317)"
      ]
    },
    {
      "cell_type": "code",
      "metadata": {
        "id": "N-_uunzkxhO1",
        "colab_type": "code",
        "colab": {}
      },
      "source": [
        "img = cv2.imread(\"data1.png\")\n",
        "\n",
        "# BGR -> グレースケール\n",
        "gray = cv2.cvtColor(img, cv2.COLOR_BGR2GRAY)\n",
        "\n",
        "gray[gray > 220] = 255\n",
        "cv2.imwrite(\"gray.png\", gray)\n",
        "\n",
        "# エッジ抽出 (Canny)\n",
        "edges = cv2.Canny(gray, 1, 100, apertureSize=3)\n",
        "cv2.imwrite(\"edges.png\", edges)\n",
        "\n",
        "# 膨張処理\n",
        "kernel = cv2.getStructuringElement(cv2.MORPH_RECT, (3, 3))\n",
        "edges = cv2.dilate(edges, kernel)\n",
        "\n",
        "# 輪郭抽出\n",
        "contours, hierarchy = cv2.findContours(edges, cv2.RETR_TREE, cv2.CHAIN_APPROX_SIMPLE)"
      ],
      "execution_count": 8,
      "outputs": []
    },
    {
      "cell_type": "code",
      "metadata": {
        "colab_type": "code",
        "id": "DSH1TrpZho2Y",
        "colab": {}
      },
      "source": [
        "rects = []\n",
        "\n",
        "for cnt, hrchy in zip(contours, hierarchy[0]):\n",
        "\n",
        "    if hrchy[3] == -1:\n",
        "        continue  # ルートノードは除く\n",
        "\n",
        "    # 面積範囲\n",
        "    if 6000 < cv2.contourArea(cnt) < 12000:\n",
        "\n",
        "        # 輪郭を囲む長方形を計算する。\n",
        "        rect = cv2.minAreaRect(cnt)\n",
        "        rect_points = cv2.boxPoints(rect).astype(int)\n",
        "\n",
        "        # 座標\n",
        "        x_max, y_max = np.amax(rect_points.T, axis=1)\n",
        "        x_min, y_min = np.amin(rect_points.T, axis=1)\n",
        "\n",
        "        # 各座標ごとに切り出し\n",
        "        dst = gray[y_min + 1 : y_max - 1, x_min + 5 : x_max]\n",
        "\n",
        "        # OCR用に1.2倍に拡大\n",
        "        dst2 = cv2.resize(dst, None, fx=1.2, fy=1.2)\n",
        "        # cv2.imwrite(f\"gray{i:03}.png\", dst2)\n",
        "\n",
        "        txt = (\n",
        "            pytesseract.image_to_string(dst2, lang=\"jpn\", config=\"--psm 6\")\n",
        "            .replace(\",\", \"\")\n",
        "            .replace(\".\", \"\")\n",
        "            .replace(\" \", \"\")\n",
        "            .strip()\n",
        "        )\n",
        "\n",
        "        if txt:\n",
        "            rects.append([y_min, y_max , x_min, x_max, txt])"
      ],
      "execution_count": 9,
      "outputs": []
    },
    {
      "cell_type": "code",
      "metadata": {
        "id": "uvUvwYV4m3LJ",
        "colab_type": "code",
        "colab": {}
      },
      "source": [
        "import pandas as pd"
      ],
      "execution_count": 10,
      "outputs": []
    },
    {
      "cell_type": "code",
      "metadata": {
        "id": "YK6yQmtS4bqz",
        "colab_type": "code",
        "colab": {}
      },
      "source": [
        "df = pd.DataFrame(rects, columns=[\"y1\", \"y2\", \"x1\", \"x2\", \"text\"])"
      ],
      "execution_count": 11,
      "outputs": []
    },
    {
      "cell_type": "code",
      "metadata": {
        "id": "AI46zq4yK4uI",
        "colab_type": "code",
        "colab": {}
      },
      "source": [
        "# X軸のずれ調整\n",
        "t1 = set(df[\"x1\"].unique()) & set(df[\"x1\"].unique() + 1)\n",
        "\n",
        "for i in t1:\n",
        "    df[\"x1\"] = df[\"x1\"].replace(i, i - 1)"
      ],
      "execution_count": 12,
      "outputs": []
    },
    {
      "cell_type": "code",
      "metadata": {
        "id": "oDOxVKrdLLNI",
        "colab_type": "code",
        "colab": {}
      },
      "source": [
        "# Y軸のずれ調整\n",
        "t2 = set(df[\"y2\"].unique()) & set(df[\"y2\"].unique() + 1)\n",
        "\n",
        "for i in t2:\n",
        "    df[\"y2\"] = df[\"y2\"].replace(i, i - 1)"
      ],
      "execution_count": 13,
      "outputs": []
    },
    {
      "cell_type": "code",
      "metadata": {
        "id": "BzvDDnAa6KfC",
        "colab_type": "code",
        "colab": {}
      },
      "source": [
        "pv = df.pivot_table(index=\"y2\", columns=\"x1\", values=\"text\", aggfunc=lambda x: \" \".join(str(v) for v in x))"
      ],
      "execution_count": 14,
      "outputs": []
    },
    {
      "cell_type": "code",
      "metadata": {
        "id": "0I_5XLvcQVAD",
        "colab_type": "code",
        "colab": {}
      },
      "source": [
        "pv.dropna(thresh=3, inplace=True)"
      ],
      "execution_count": 15,
      "outputs": []
    },
    {
      "cell_type": "code",
      "metadata": {
        "id": "TKVcHP7sRE_c",
        "colab_type": "code",
        "colab": {}
      },
      "source": [
        "pv.dropna(how=\"all\", axis=1, inplace=True)"
      ],
      "execution_count": 16,
      "outputs": []
    },
    {
      "cell_type": "code",
      "metadata": {
        "id": "7WEVGgLkISzw",
        "colab_type": "code",
        "colab": {}
      },
      "source": [
        "pv.set_axis(\n",
        "    [\"都道府県名\", \"陽性者数\", \"PCR検査実施人数\", \"入院\", \"重症\", \"退院\", \"死亡\", \"確認中\"], axis=1, inplace=True\n",
        ")"
      ],
      "execution_count": 17,
      "outputs": []
    },
    {
      "cell_type": "code",
      "metadata": {
        "id": "1FO1MRObJOi_",
        "colab_type": "code",
        "colab": {}
      },
      "source": [
        "pv.set_index(\"都道府県名\", inplace=True)"
      ],
      "execution_count": 18,
      "outputs": []
    },
    {
      "cell_type": "code",
      "metadata": {
        "id": "-cwnwq7eDqKB",
        "colab_type": "code",
        "colab": {}
      },
      "source": [
        "pv.set_axis(\n",
        "    [\n",
        "        \"北海道\",\n",
        "        \"青森県\",\n",
        "        \"岩手県\",\n",
        "        \"宮城県\",\n",
        "        \"秋田県\",\n",
        "        \"山形県\",\n",
        "        \"福島県\",\n",
        "        \"茨城県\",\n",
        "        \"栃木県\",\n",
        "        \"群馬県\",\n",
        "        \"埼玉県\",\n",
        "        \"千葉県\",\n",
        "        \"東京都\",\n",
        "        \"神奈川県\",\n",
        "        \"新潟県\",\n",
        "        \"富山県\",\n",
        "        \"石川県\",\n",
        "        \"福井県\",\n",
        "        \"山梨県\",\n",
        "        \"長野県\",\n",
        "        \"岐阜県\",\n",
        "        \"静岡県\",\n",
        "        \"愛知県\",\n",
        "        \"三重県\",\n",
        "        \"滋賀県\",\n",
        "        \"京都府\",\n",
        "        \"大阪府\",\n",
        "        \"兵庫県\",\n",
        "        \"奈良県\",\n",
        "        \"和歌山県\",\n",
        "        \"鳥取県\",\n",
        "        \"島根県\",\n",
        "        \"岡山県\",\n",
        "        \"広島県\",\n",
        "        \"山口県\",\n",
        "        \"徳島県\",\n",
        "        \"香川県\",\n",
        "        \"愛媛県\",\n",
        "        \"高知県\",\n",
        "        \"福岡県\",\n",
        "        \"佐賀県\",\n",
        "        \"長崎県\",\n",
        "        \"熊本県\",\n",
        "        \"大分県\",\n",
        "        \"宮崎県\",\n",
        "        \"鹿児島県\",\n",
        "        \"沖縄県\",\n",
        "        \"その他\",\n",
        "        \"合計\",\n",
        "    ],\n",
        "    inplace=True,\n",
        ")"
      ],
      "execution_count": 19,
      "outputs": []
    },
    {
      "cell_type": "code",
      "metadata": {
        "id": "QxBH_0YRKerl",
        "colab_type": "code",
        "colab": {}
      },
      "source": [
        "pv = pv.astype(float).astype(\"Int64\")"
      ],
      "execution_count": 20,
      "outputs": []
    },
    {
      "cell_type": "code",
      "metadata": {
        "id": "vr9nAiO2KA6P",
        "colab_type": "code",
        "colab": {
          "base_uri": "https://localhost:8080/",
          "height": 160
        },
        "outputId": "d94bce39-1d7b-45bc-b7af-74da833ec2a0"
      },
      "source": [
        "pv.dtypes"
      ],
      "execution_count": 21,
      "outputs": [
        {
          "output_type": "execute_result",
          "data": {
            "text/plain": [
              "陽性者数         Int64\n",
              "PCR検査実施人数    Int64\n",
              "入院           Int64\n",
              "重症           Int64\n",
              "退院           Int64\n",
              "死亡           Int64\n",
              "確認中          Int64\n",
              "dtype: object"
            ]
          },
          "metadata": {
            "tags": []
          },
          "execution_count": 21
        }
      ]
    },
    {
      "cell_type": "code",
      "metadata": {
        "id": "sWLK1Khu7JBz",
        "colab_type": "code",
        "colab": {}
      },
      "source": [
        "pv.to_csv(\"data.csv\")"
      ],
      "execution_count": 22,
      "outputs": []
    },
    {
      "cell_type": "markdown",
      "metadata": {
        "id": "3SSOUqSQNBBd",
        "colab_type": "text"
      },
      "source": [
        "# 合計確認"
      ]
    },
    {
      "cell_type": "code",
      "metadata": {
        "id": "_FywiMCgL34Y",
        "colab_type": "code",
        "colab": {
          "base_uri": "https://localhost:8080/",
          "height": 160
        },
        "outputId": "091b4df7-1172-4dac-de4f-705e2371f894"
      },
      "source": [
        " # 合計\n",
        " pv.loc[\"合計\"]"
      ],
      "execution_count": 26,
      "outputs": [
        {
          "output_type": "execute_result",
          "data": {
            "text/plain": [
              "陽性者数           69450\n",
              "PCR検査実施人数    1387330\n",
              "入院              8363\n",
              "重症               214\n",
              "退院             59720\n",
              "死亡              1329\n",
              "確認中               88\n",
              "Name: 合計, dtype: Int64"
            ]
          },
          "metadata": {
            "tags": []
          },
          "execution_count": 26
        }
      ]
    },
    {
      "cell_type": "code",
      "metadata": {
        "id": "ALwk2ksZL233",
        "colab_type": "code",
        "colab": {
          "base_uri": "https://localhost:8080/",
          "height": 160
        },
        "outputId": "e1eb9ae5-2187-443c-af60-bd800a00d1ee"
      },
      "source": [
        "# 集計\n",
        "pv.iloc[:-1].sum().astype(\"Int64\")"
      ],
      "execution_count": 27,
      "outputs": [
        {
          "output_type": "execute_result",
          "data": {
            "text/plain": [
              "陽性者数           69450\n",
              "PCR検査実施人数    1387330\n",
              "入院              8363\n",
              "重症               214\n",
              "退院             59720\n",
              "死亡              1329\n",
              "確認中               88\n",
              "dtype: Int64"
            ]
          },
          "metadata": {
            "tags": []
          },
          "execution_count": 27
        }
      ]
    },
    {
      "cell_type": "code",
      "metadata": {
        "id": "THasN-G-Laml",
        "colab_type": "code",
        "colab": {
          "base_uri": "https://localhost:8080/",
          "height": 160
        },
        "outputId": "2c75abe1-f3ea-4e54-dc62-23adbd3d50b9"
      },
      "source": [
        "pv.iloc[:-1].sum() == pv.loc[\"合計\"]"
      ],
      "execution_count": 28,
      "outputs": [
        {
          "output_type": "execute_result",
          "data": {
            "text/plain": [
              "陽性者数         True\n",
              "PCR検査実施人数    True\n",
              "入院           True\n",
              "重症           True\n",
              "退院           True\n",
              "死亡           True\n",
              "確認中          True\n",
              "dtype: boolean"
            ]
          },
          "metadata": {
            "tags": []
          },
          "execution_count": 28
        }
      ]
    }
  ]
}