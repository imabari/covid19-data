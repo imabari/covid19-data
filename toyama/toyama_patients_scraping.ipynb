{
  "nbformat": 4,
  "nbformat_minor": 0,
  "metadata": {
    "colab": {
      "name": "toyama_patients_scraping.ipynb",
      "provenance": [],
      "collapsed_sections": [],
      "authorship_tag": "ABX9TyNJVw6aXHmuQbDQDt3E0ETz",
      "include_colab_link": true
    },
    "kernelspec": {
      "name": "python3",
      "display_name": "Python 3"
    }
  },
  "cells": [
    {
      "cell_type": "markdown",
      "metadata": {
        "id": "view-in-github",
        "colab_type": "text"
      },
      "source": [
        "<a href=\"https://colab.research.google.com/github/imabari/covid19-data/blob/master/toyama/toyama_patients_scraping.ipynb\" target=\"_parent\"><img src=\"https://colab.research.google.com/assets/colab-badge.svg\" alt=\"Open In Colab\"/></a>"
      ]
    },
    {
      "cell_type": "code",
      "metadata": {
        "id": "PDo3vfG5RIi9",
        "colab_type": "code",
        "colab": {}
      },
      "source": [
        "DATA_DIR = \"../data/data.json\""
      ],
      "execution_count": 0,
      "outputs": []
    },
    {
      "cell_type": "code",
      "metadata": {
        "id": "XBw3SJ1DQ2S1",
        "colab_type": "code",
        "colab": {}
      },
      "source": [
        "!wget https://raw.githubusercontent.com/Terachan0117/covid19-toyama/development/data/data.json -O $DATA_DIR"
      ],
      "execution_count": 0,
      "outputs": []
    },
    {
      "cell_type": "code",
      "metadata": {
        "id": "q6MXvQhvQWqm",
        "colab_type": "code",
        "colab": {}
      },
      "source": [
        "!pip install jaconv"
      ],
      "execution_count": 0,
      "outputs": []
    },
    {
      "cell_type": "code",
      "metadata": {
        "id": "W4XAUzcCPmQW",
        "colab_type": "code",
        "colab": {}
      },
      "source": [
        "import datetime\n",
        "import json\n",
        "import re\n",
        "\n",
        "import jaconv\n",
        "import pandas as pd\n",
        "import requests\n",
        "from bs4 import BeautifulSoup"
      ],
      "execution_count": 0,
      "outputs": []
    },
    {
      "cell_type": "code",
      "metadata": {
        "id": "bNDvCPpWPnC5",
        "colab_type": "code",
        "colab": {}
      },
      "source": [
        "# 現時点のデータを取得\n",
        "data = json.load(open(DATA_DIR, \"r\", encoding=\"utf-8\"))"
      ],
      "execution_count": 0,
      "outputs": []
    },
    {
      "cell_type": "code",
      "metadata": {
        "id": "JulE_V09PnF7",
        "colab_type": "code",
        "colab": {}
      },
      "source": [
        "# 現在時刻\n",
        "dt_now = datetime.datetime.now().strftime(\"%Y-%m-%d %H:%M\")\n",
        "data[\"lastUpdate\"] = dt_now"
      ],
      "execution_count": 0,
      "outputs": []
    },
    {
      "cell_type": "code",
      "metadata": {
        "id": "PFx_F_YfPr99",
        "colab_type": "code",
        "colab": {}
      },
      "source": [
        "# 富山県HPから最新の情報を取得\n",
        "url = \"http://www.pref.toyama.jp/cms_sec/1205/kj00021798.html\"\n",
        "headers = {\n",
        "    \"User-Agent\": \"Mozilla/5.0 (Windows NT 10.0; WOW64; Trident/7.0; rv:11.0) like Gecko\",\n",
        "}"
      ],
      "execution_count": 0,
      "outputs": []
    },
    {
      "cell_type": "code",
      "metadata": {
        "id": "3zpiZbRrvOis",
        "colab_type": "code",
        "colab": {}
      },
      "source": [
        "# スクレイピング\n",
        "r = requests.get(url, headers=headers)\n",
        "r.raise_for_status()\n",
        "soup = BeautifulSoup(r.content, \"html.parser\")"
      ],
      "execution_count": 0,
      "outputs": []
    },
    {
      "cell_type": "code",
      "metadata": {
        "id": "YDWwPKEfPvhX",
        "colab_type": "code",
        "colab": {}
      },
      "source": [
        "# 数字を半角に変換\n",
        "text = jaconv.z2h(soup.select_one(\"div#main > p\").get_text(strip=True), digit=True)"
      ],
      "execution_count": 0,
      "outputs": []
    },
    {
      "cell_type": "code",
      "metadata": {
        "id": "pyrkoPICR-Zk",
        "colab_type": "code",
        "colab": {}
      },
      "source": [
        "# 数字のみ抽出\n",
        "main_sum = list(map(int, re.findall(\"[0-9,]+\", text)))"
      ],
      "execution_count": 0,
      "outputs": []
    },
    {
      "cell_type": "code",
      "metadata": {
        "id": "K7dGhQjUS8j3",
        "colab_type": "code",
        "colab": {}
      },
      "source": [
        "# 一覧エクセルを取得\n",
        "link = (\n",
        "    soup.find(\"div\", id=\"file\")\n",
        "    .find(\"a\", text=\"富山県内における新型コロナウイルス感染症の発生状況一覧\")\n",
        "    .get(\"href\")\n",
        ")\n",
        "\n",
        "df_kanjya = pd.read_excel(link, skiprows=2)"
      ],
      "execution_count": 0,
      "outputs": []
    },
    {
      "cell_type": "code",
      "metadata": {
        "id": "WSVeDdY_S-90",
        "colab_type": "code",
        "colab": {}
      },
      "source": [
        "# エクセル内データを定義書準拠形式に変換\n",
        "df_kanjya.rename(columns={\"県番号\": \"No\", \"検査結果判明日\": \"判明日\"}, inplace=True)\n",
        "\n",
        "df_kanjya[\"判明日\"] = df_kanjya[\"判明日\"].apply(\n",
        "    lambda date: pd.to_datetime(\n",
        "        date, unit=\"D\", origin=pd.Timestamp(\"1899/12/30\")\n",
        "    ).strftime(\"%Y-%m-%d\")\n",
        ")"
      ],
      "execution_count": 0,
      "outputs": []
    },
    {
      "cell_type": "code",
      "metadata": {
        "id": "IqotxZxCTJVF",
        "colab_type": "code",
        "colab": {}
      },
      "source": [
        "df_kanjya[\"性別\"] = df_kanjya[\"性別\"].replace({\"男\": \"男性\", \"女\": \"女性\"})\n",
        "df_kanjya[\"年代\"] = df_kanjya[\"年代\"].replace(\"90代\", \"90歳以上\")"
      ],
      "execution_count": 0,
      "outputs": []
    },
    {
      "cell_type": "code",
      "metadata": {
        "id": "Sd-V9iNsTMtm",
        "colab_type": "code",
        "colab": {}
      },
      "source": [
        "# 検査陽性者の状況\n",
        "data[\"main_summary\"] = {\n",
        "    \"date\": dt_now,\n",
        "    \"children\": [\n",
        "        {\n",
        "            \"attr\": \"陽性患者数\",\n",
        "            \"value\": main_sum[0],\n",
        "            \"children\": [\n",
        "                {\"attr\": \"入院\", \"value\": main_sum[1],},\n",
        "                {\"attr\": \"退院\", \"value\": main_sum[2],},\n",
        "                {\"attr\": \"死亡\", \"value\": main_sum[3],},\n",
        "            ],\n",
        "        }\n",
        "    ],\n",
        "}"
      ],
      "execution_count": 0,
      "outputs": []
    },
    {
      "cell_type": "code",
      "metadata": {
        "id": "-p0R0w_pT1Od",
        "colab_type": "code",
        "colab": {}
      },
      "source": [
        "# 陽性患者の属性\n",
        "df_patients = df_kanjya.loc[:, [\"No\", \"判明日\", \"居住地\", \"年代\", \"性別\"]].fillna(\"-\")\n",
        "data[\"patients\"] = {\"date\": dt_now, \"data\": df_patients.to_dict(orient=\"records\")}"
      ],
      "execution_count": 0,
      "outputs": []
    },
    {
      "cell_type": "code",
      "metadata": {
        "id": "01RE9pCMW-QU",
        "colab_type": "code",
        "colab": {}
      },
      "source": [
        "# 居住地\n",
        "city_names = [\n",
        "    \"富山市\",\n",
        "    \"高岡市\",\n",
        "    \"射水市\",\n",
        "    \"南砺市\",\n",
        "    \"氷見市\",\n",
        "    \"魚津市\",\n",
        "    \"黒部市\",\n",
        "    \"滑川市\",\n",
        "    \"小矢部市\",\n",
        "    \"立山町\",\n",
        "    \"入善町\",\n",
        "    \"上市町\",\n",
        "    \"朝日町\",\n",
        "    \"舟橋村\",\n",
        "    \"県外\",\n",
        "]"
      ],
      "execution_count": 0,
      "outputs": []
    },
    {
      "cell_type": "code",
      "metadata": {
        "id": "xlLh6lDXT2nF",
        "colab_type": "code",
        "colab": {}
      },
      "source": [
        "df_residence = (\n",
        "    df_kanjya[\"居住地\"]\n",
        "    .where(df_kanjya[\"居住地\"].isin(city_names), \"県外\")\n",
        "    .value_counts()\n",
        "    .reindex(index=city_names, fill_value=0)\n",
        "    .reset_index()\n",
        ")"
      ],
      "execution_count": 0,
      "outputs": []
    },
    {
      "cell_type": "code",
      "metadata": {
        "id": "f89AOIcyjMoj",
        "colab_type": "code",
        "colab": {}
      },
      "source": [
        "df_residence.rename(columns={\"居住地\": \"小計\", \"index\": \"居住地\"}, inplace=True)"
      ],
      "execution_count": 0,
      "outputs": []
    },
    {
      "cell_type": "code",
      "metadata": {
        "id": "cS7nEUiziwfE",
        "colab_type": "code",
        "colab": {}
      },
      "source": [
        "data[\"patients_by_residence\"] = {\n",
        "    \"date\": dt_now,\n",
        "    \"data\": df_residence.to_dict(orient=\"records\"),\n",
        "}"
      ],
      "execution_count": 0,
      "outputs": []
    },
    {
      "cell_type": "code",
      "metadata": {
        "id": "MpxFU31dkLFr",
        "colab_type": "code",
        "colab": {}
      },
      "source": [
        "# 年代\n",
        "age_lists = [\"10歳未満\", \"10代\", \"20代\", \"30代\", \"40代\", \"50代\", \"60代\", \"70代\", \"80代\", \"90歳以上\"]"
      ],
      "execution_count": 0,
      "outputs": []
    },
    {
      "cell_type": "code",
      "metadata": {
        "id": "VLekjARsj5TU",
        "colab_type": "code",
        "colab": {}
      },
      "source": [
        "df_age = (\n",
        "    df_kanjya[\"年代\"].value_counts().reindex(index=age_lists, fill_value=0).reset_index()\n",
        ")"
      ],
      "execution_count": 0,
      "outputs": []
    },
    {
      "cell_type": "code",
      "metadata": {
        "id": "pNUzo0Txk5-i",
        "colab_type": "code",
        "colab": {}
      },
      "source": [
        "df_age.rename(columns={\"年代\": \"小計\", \"index\": \"年代\"}, inplace=True)"
      ],
      "execution_count": 0,
      "outputs": []
    },
    {
      "cell_type": "code",
      "metadata": {
        "id": "xlVuxifpnMX5",
        "colab_type": "code",
        "colab": {}
      },
      "source": [
        "data[\"patients_by_age\"] = {\"date\": dt_now, \"data\": df_age.to_dict(orient=\"records\")}"
      ],
      "execution_count": 0,
      "outputs": []
    },
    {
      "cell_type": "code",
      "metadata": {
        "id": "vyDTt6Bxk8x6",
        "colab_type": "code",
        "colab": {}
      },
      "source": [
        "# 性別\n",
        "gender_lists = [\"男性\", \"女性\", \"その他\"]"
      ],
      "execution_count": 0,
      "outputs": []
    },
    {
      "cell_type": "code",
      "metadata": {
        "id": "TdM852UnmQ0T",
        "colab_type": "code",
        "colab": {}
      },
      "source": [
        "df_gender = (\n",
        "    df_kanjya[\"性別\"]\n",
        "    .value_counts()\n",
        "    .reindex(index=gender_lists, fill_value=0)\n",
        "    .reset_index()\n",
        ")\n",
        "df_gender.rename(columns={\"性別\": \"小計\", \"index\": \"性別\"}, inplace=True)"
      ],
      "execution_count": 0,
      "outputs": []
    },
    {
      "cell_type": "code",
      "metadata": {
        "id": "b0urQEpemrvF",
        "colab_type": "code",
        "colab": {}
      },
      "source": [
        "data[\"patients_by_gender\"] = {\n",
        "    \"date\": dt_now,\n",
        "    \"data\": df_gender.to_dict(orient=\"records\"),\n",
        "}"
      ],
      "execution_count": 0,
      "outputs": []
    },
    {
      "cell_type": "code",
      "metadata": {
        "id": "X41H-WhYm17y",
        "colab_type": "code",
        "colab": {}
      },
      "source": [
        "# data.json上書き\n",
        "data_json = open(DATA_DIR, \"w\", encoding=\"utf-8\")\n",
        "json.dump(data, data_json, ensure_ascii=False, indent=4)"
      ],
      "execution_count": 0,
      "outputs": []
    }
  ]
}