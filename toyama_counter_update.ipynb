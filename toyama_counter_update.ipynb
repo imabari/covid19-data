{
  "nbformat": 4,
  "nbformat_minor": 0,
  "metadata": {
    "colab": {
      "name": "toyama_counter_update.ipynb",
      "provenance": [],
      "toc_visible": true,
      "authorship_tag": "ABX9TyPU/lP6u+OgtuWo3fiwLZea",
      "include_colab_link": true
    },
    "kernelspec": {
      "name": "python3",
      "display_name": "Python 3"
    }
  },
  "cells": [
    {
      "cell_type": "markdown",
      "metadata": {
        "id": "view-in-github",
        "colab_type": "text"
      },
      "source": [
        "<a href=\"https://colab.research.google.com/github/imabari/toyama/blob/master/toyama_counter_update.ipynb\" target=\"_parent\"><img src=\"https://colab.research.google.com/assets/colab-badge.svg\" alt=\"Open In Colab\"/></a>"
      ]
    },
    {
      "cell_type": "code",
      "metadata": {
        "id": "STf8yKarmLCj",
        "colab_type": "code",
        "outputId": "a10a1043-3632-45dd-8af6-795a5a2adb25",
        "colab": {
          "base_uri": "https://localhost:8080/",
          "height": 213
        }
      },
      "source": [
        "!wget http://opendata.pref.toyama.jp/files/covid19/20200403/toyama_counts.csv -O counts.csv"
      ],
      "execution_count": 1,
      "outputs": [
        {
          "output_type": "stream",
          "text": [
            "--2020-04-06 02:25:45--  http://opendata.pref.toyama.jp/files/covid19/20200403/toyama_counts.csv\n",
            "Resolving opendata.pref.toyama.jp (opendata.pref.toyama.jp)... 202.213.106.6\n",
            "Connecting to opendata.pref.toyama.jp (opendata.pref.toyama.jp)|202.213.106.6|:80... connected.\n",
            "HTTP request sent, awaiting response... 200 OK\n",
            "Length: 1050 (1.0K) [text/csv]\n",
            "Saving to: ‘counts.csv’\n",
            "\n",
            "counts.csv          100%[===================>]   1.03K  --.-KB/s    in 0s      \n",
            "\n",
            "2020-04-06 02:25:47 (173 MB/s) - ‘counts.csv’ saved [1050/1050]\n",
            "\n"
          ],
          "name": "stdout"
        }
      ]
    },
    {
      "cell_type": "markdown",
      "metadata": {
        "id": "lHHxdrdtqU8e",
        "colab_type": "text"
      },
      "source": [
        "# スクレイピング"
      ]
    },
    {
      "cell_type": "code",
      "metadata": {
        "id": "VRf2CwR1-V7B",
        "colab_type": "code",
        "colab": {}
      },
      "source": [
        "import requests\n",
        "from bs4 import BeautifulSoup"
      ],
      "execution_count": 0,
      "outputs": []
    },
    {
      "cell_type": "code",
      "metadata": {
        "id": "ow6lCH_q-Sez",
        "colab_type": "code",
        "colab": {}
      },
      "source": [
        "import re\n",
        "import datetime"
      ],
      "execution_count": 0,
      "outputs": []
    },
    {
      "cell_type": "code",
      "metadata": {
        "id": "laquHbPnJ6Zl",
        "colab_type": "code",
        "colab": {}
      },
      "source": [
        "# 和暦から西暦のdateに変換\n",
        "def wareki2date(s):\n",
        "\n",
        "    m = re.match(\"(昭和|平成|令和)(\\d{1,2})年(\\d{1,2})月(\\d{1,2})日\", s)\n",
        "\n",
        "    year = int(m.group(2))\n",
        "    month = int(m.group(3))\n",
        "    day = int(m.group(4))\n",
        "\n",
        "    if m.group(1) == \"昭和\":\n",
        "        year += 1925\n",
        "    elif m.group(1) == \"平成\":\n",
        "        year += 1988\n",
        "    elif m.group(1) == \"令和\":\n",
        "        year += 2018\n",
        "\n",
        "    result = datetime.datetime(year, month, day)\n",
        "\n",
        "    return result"
      ],
      "execution_count": 0,
      "outputs": []
    },
    {
      "cell_type": "code",
      "metadata": {
        "id": "UFzR2y5k-V6Z",
        "colab_type": "code",
        "colab": {}
      },
      "source": [
        "url = \"http://www.pref.toyama.jp/cms_sec/1205/kj00021629.html\"\n",
        "\n",
        "headers = {\n",
        "    \"User-Agent\": \"Mozilla/5.0 (Windows NT 10.0; WOW64; Trident/7.0; rv:11.0) like Gecko\",\n",
        "}"
      ],
      "execution_count": 0,
      "outputs": []
    },
    {
      "cell_type": "code",
      "metadata": {
        "id": "IZc0ba6Q-V5u",
        "colab_type": "code",
        "colab": {}
      },
      "source": [
        "r = requests.get(url, headers=headers)\n",
        "\n",
        "r.raise_for_status()\n",
        "\n",
        "soup = BeautifulSoup(r.content, \"html5lib\")"
      ],
      "execution_count": 0,
      "outputs": []
    },
    {
      "cell_type": "code",
      "metadata": {
        "id": "stWiZ25CGSji",
        "colab_type": "code",
        "colab": {}
      },
      "source": [
        "result = {}"
      ],
      "execution_count": 0,
      "outputs": []
    },
    {
      "cell_type": "markdown",
      "metadata": {
        "id": "V6mkt0XrqfrD",
        "colab_type": "text"
      },
      "source": [
        "## 検査"
      ]
    },
    {
      "cell_type": "code",
      "metadata": {
        "id": "Xo3dAqewCJA4",
        "colab_type": "code",
        "colab": {}
      },
      "source": [
        "s_kensa = soup.find(\"h4\", text=re.compile(\"新型コロナウイルスPCR検査件数$\")).find_next_sibling(\"p\").get_text(\"\\n\", strip=True)\n",
        "m_kensa = re.search(\"（(令和\\d{1,2}年\\d{1,2}月\\d{1,2}日)まで）\", s_kensa)"
      ],
      "execution_count": 0,
      "outputs": []
    },
    {
      "cell_type": "code",
      "metadata": {
        "id": "lBdZapx_Dld0",
        "colab_type": "code",
        "colab": {}
      },
      "source": [
        "kensa = [int(i.replace(\",\" ,\"\")) for i in re.findall(\"([0-9,]+)人\", s_kensa)]"
      ],
      "execution_count": 0,
      "outputs": []
    },
    {
      "cell_type": "code",
      "metadata": {
        "id": "iN-USBUYNE2k",
        "colab_type": "code",
        "colab": {}
      },
      "source": [
        "dt_kensa = wareki2date(m_kensa.group(1))"
      ],
      "execution_count": 0,
      "outputs": []
    },
    {
      "cell_type": "code",
      "metadata": {
        "id": "X9LZ2zBPD-aD",
        "colab_type": "code",
        "colab": {}
      },
      "source": [
        "result[\"検査実施人数\"] = kensa[0]\n",
        "result[\"陽性人数\"] = kensa[1]\n",
        "result[\"陰性人数\"] = kensa[2]"
      ],
      "execution_count": 0,
      "outputs": []
    },
    {
      "cell_type": "markdown",
      "metadata": {
        "id": "wm3tA01cp8Du",
        "colab_type": "text"
      },
      "source": [
        "## 一般相談"
      ]
    },
    {
      "cell_type": "code",
      "metadata": {
        "id": "0MjDfGebEOy3",
        "colab_type": "code",
        "colab": {}
      },
      "source": [
        "s_ippan = soup.find(\"h4\", text=re.compile(\"新型コロナウイルス感染症に関する一般相談件数$\")).find_next_sibling(\"p\").contents[0]\n",
        "m_ippan = re.search(\"([0-9,]+)件（(令和\\d{1,2}年\\d{1,2}月\\d{1,2}日)まで）\", s_ippan)"
      ],
      "execution_count": 0,
      "outputs": []
    },
    {
      "cell_type": "code",
      "metadata": {
        "id": "UoktAkoyGE0L",
        "colab_type": "code",
        "colab": {}
      },
      "source": [
        "result[\"一般相談件数\"] = int(m_ippan.group(1).replace(\",\", \"\"))\n",
        "dt_ippan = wareki2date(m_ippan.group(2))"
      ],
      "execution_count": 0,
      "outputs": []
    },
    {
      "cell_type": "markdown",
      "metadata": {
        "id": "fqXX3uGJqBOV",
        "colab_type": "text"
      },
      "source": [
        "## 帰国者相談"
      ]
    },
    {
      "cell_type": "code",
      "metadata": {
        "id": "236pP4fSB2lU",
        "colab_type": "code",
        "colab": {}
      },
      "source": [
        "s_kikoku = soup.find(\"h4\", text=re.compile(\"帰国者・接触者相談センターへの相談件数$\")).find_next_sibling(\"p\").contents[0]\n",
        "m_kikoku = re.match(\"([0-9,]+)件（(令和\\d{1,2}年\\d{1,2}月\\d{1,2}日)まで）\", s_kikoku)"
      ],
      "execution_count": 0,
      "outputs": []
    },
    {
      "cell_type": "code",
      "metadata": {
        "id": "f6x-xMIWFIy0",
        "colab_type": "code",
        "colab": {}
      },
      "source": [
        "result[\"帰国者相談件数\"] = int(m_kikoku.group(1).replace(\",\", \"\"))\n",
        "dt_kikoku = wareki2date(m_kikoku.group(2))"
      ],
      "execution_count": 0,
      "outputs": []
    },
    {
      "cell_type": "markdown",
      "metadata": {
        "id": "E0AXWTOHqo8f",
        "colab_type": "text"
      },
      "source": [
        "# 集計"
      ]
    },
    {
      "cell_type": "code",
      "metadata": {
        "id": "VvuVO7qw6XaE",
        "colab_type": "code",
        "colab": {}
      },
      "source": [
        "import pandas as pd"
      ],
      "execution_count": 0,
      "outputs": []
    },
    {
      "cell_type": "code",
      "metadata": {
        "id": "DU-SzQsl9cpD",
        "colab_type": "code",
        "outputId": "95c51df4-226f-4f83-8560-adcac6d4adf7",
        "colab": {
          "base_uri": "https://localhost:8080/",
          "height": 394
        }
      },
      "source": [
        "df = pd.read_csv(\"counts.csv\", index_col=\"年月日\", parse_dates=True, dtype={\"備考\": \"object\"})\n",
        "df[\"備考\"] = df[\"備考\"].fillna(\"\")\n",
        "df.tail(10)"
      ],
      "execution_count": 18,
      "outputs": [
        {
          "output_type": "execute_result",
          "data": {
            "text/html": [
              "<div>\n",
              "<style scoped>\n",
              "    .dataframe tbody tr th:only-of-type {\n",
              "        vertical-align: middle;\n",
              "    }\n",
              "\n",
              "    .dataframe tbody tr th {\n",
              "        vertical-align: top;\n",
              "    }\n",
              "\n",
              "    .dataframe thead th {\n",
              "        text-align: right;\n",
              "    }\n",
              "</style>\n",
              "<table border=\"1\" class=\"dataframe\">\n",
              "  <thead>\n",
              "    <tr style=\"text-align: right;\">\n",
              "      <th></th>\n",
              "      <th>検査実施人数</th>\n",
              "      <th>陰性人数</th>\n",
              "      <th>陽性人数</th>\n",
              "      <th>一般相談件数</th>\n",
              "      <th>帰国者相談件数</th>\n",
              "      <th>備考</th>\n",
              "    </tr>\n",
              "    <tr>\n",
              "      <th>年月日</th>\n",
              "      <th></th>\n",
              "      <th></th>\n",
              "      <th></th>\n",
              "      <th></th>\n",
              "      <th></th>\n",
              "      <th></th>\n",
              "    </tr>\n",
              "  </thead>\n",
              "  <tbody>\n",
              "    <tr>\n",
              "      <th>2020-03-24</th>\n",
              "      <td>4</td>\n",
              "      <td>4</td>\n",
              "      <td>0</td>\n",
              "      <td>72</td>\n",
              "      <td>7</td>\n",
              "      <td></td>\n",
              "    </tr>\n",
              "    <tr>\n",
              "      <th>2020-03-25</th>\n",
              "      <td>2</td>\n",
              "      <td>2</td>\n",
              "      <td>0</td>\n",
              "      <td>87</td>\n",
              "      <td>8</td>\n",
              "      <td></td>\n",
              "    </tr>\n",
              "    <tr>\n",
              "      <th>2020-03-26</th>\n",
              "      <td>1</td>\n",
              "      <td>1</td>\n",
              "      <td>0</td>\n",
              "      <td>73</td>\n",
              "      <td>9</td>\n",
              "      <td></td>\n",
              "    </tr>\n",
              "    <tr>\n",
              "      <th>2020-03-27</th>\n",
              "      <td>3</td>\n",
              "      <td>3</td>\n",
              "      <td>0</td>\n",
              "      <td>131</td>\n",
              "      <td>12</td>\n",
              "      <td></td>\n",
              "    </tr>\n",
              "    <tr>\n",
              "      <th>2020-03-28</th>\n",
              "      <td>6</td>\n",
              "      <td>6</td>\n",
              "      <td>0</td>\n",
              "      <td>58</td>\n",
              "      <td>2</td>\n",
              "      <td></td>\n",
              "    </tr>\n",
              "    <tr>\n",
              "      <th>2020-03-29</th>\n",
              "      <td>0</td>\n",
              "      <td>0</td>\n",
              "      <td>0</td>\n",
              "      <td>40</td>\n",
              "      <td>5</td>\n",
              "      <td></td>\n",
              "    </tr>\n",
              "    <tr>\n",
              "      <th>2020-03-30</th>\n",
              "      <td>4</td>\n",
              "      <td>3</td>\n",
              "      <td>1</td>\n",
              "      <td>217</td>\n",
              "      <td>16</td>\n",
              "      <td></td>\n",
              "    </tr>\n",
              "    <tr>\n",
              "      <th>2020-03-31</th>\n",
              "      <td>14</td>\n",
              "      <td>11</td>\n",
              "      <td>3</td>\n",
              "      <td>446</td>\n",
              "      <td>12</td>\n",
              "      <td></td>\n",
              "    </tr>\n",
              "    <tr>\n",
              "      <th>2020-04-01</th>\n",
              "      <td>25</td>\n",
              "      <td>22</td>\n",
              "      <td>3</td>\n",
              "      <td>781</td>\n",
              "      <td>37</td>\n",
              "      <td></td>\n",
              "    </tr>\n",
              "    <tr>\n",
              "      <th>2020-04-02</th>\n",
              "      <td>39</td>\n",
              "      <td>38</td>\n",
              "      <td>1</td>\n",
              "      <td>601</td>\n",
              "      <td>25</td>\n",
              "      <td></td>\n",
              "    </tr>\n",
              "  </tbody>\n",
              "</table>\n",
              "</div>"
            ],
            "text/plain": [
              "            検査実施人数  陰性人数  陽性人数  一般相談件数  帰国者相談件数 備考\n",
              "年月日                                               \n",
              "2020-03-24       4     4     0      72        7   \n",
              "2020-03-25       2     2     0      87        8   \n",
              "2020-03-26       1     1     0      73        9   \n",
              "2020-03-27       3     3     0     131       12   \n",
              "2020-03-28       6     6     0      58        2   \n",
              "2020-03-29       0     0     0      40        5   \n",
              "2020-03-30       4     3     1     217       16   \n",
              "2020-03-31      14    11     3     446       12   \n",
              "2020-04-01      25    22     3     781       37   \n",
              "2020-04-02      39    38     1     601       25   "
            ]
          },
          "metadata": {
            "tags": []
          },
          "execution_count": 18
        }
      ]
    },
    {
      "cell_type": "code",
      "metadata": {
        "id": "tqTbMKrM9AzJ",
        "colab_type": "code",
        "outputId": "a6c56e89-2280-4beb-c968-65661a2bc0bb",
        "colab": {
          "base_uri": "https://localhost:8080/",
          "height": 124
        }
      },
      "source": [
        "# 最新データ\n",
        "s_cum = pd.Series(result, name=dt_kensa)\n",
        "s_cum"
      ],
      "execution_count": 19,
      "outputs": [
        {
          "output_type": "execute_result",
          "data": {
            "text/plain": [
              "検査実施人数      161\n",
              "陽性人数          8\n",
              "陰性人数        153\n",
              "一般相談件数     6158\n",
              "帰国者相談件数     386\n",
              "Name: 2020-04-02 00:00:00, dtype: int64"
            ]
          },
          "metadata": {
            "tags": []
          },
          "execution_count": 19
        }
      ]
    },
    {
      "cell_type": "code",
      "metadata": {
        "id": "0MZlz_UJ65JM",
        "colab_type": "code",
        "colab": {}
      },
      "source": [
        "# 累計を集計\n",
        "df_cum = df.drop(columns=\"備考\").cumsum().copy()"
      ],
      "execution_count": 0,
      "outputs": []
    },
    {
      "cell_type": "code",
      "metadata": {
        "id": "jKXhvSPNMn6S",
        "colab_type": "code",
        "outputId": "6a35591f-ffb3-4a03-ee34-0944e08f531c",
        "colab": {
          "base_uri": "https://localhost:8080/",
          "height": 394
        }
      },
      "source": [
        "# 最新データを追加\n",
        "df_cum = df_cum.append(s_cum)\n",
        "\n",
        "# 重複削除\n",
        "df_cum.drop_duplicates(inplace=True)\n",
        "\n",
        "df_cum.tail(10)"
      ],
      "execution_count": 21,
      "outputs": [
        {
          "output_type": "execute_result",
          "data": {
            "text/html": [
              "<div>\n",
              "<style scoped>\n",
              "    .dataframe tbody tr th:only-of-type {\n",
              "        vertical-align: middle;\n",
              "    }\n",
              "\n",
              "    .dataframe tbody tr th {\n",
              "        vertical-align: top;\n",
              "    }\n",
              "\n",
              "    .dataframe thead th {\n",
              "        text-align: right;\n",
              "    }\n",
              "</style>\n",
              "<table border=\"1\" class=\"dataframe\">\n",
              "  <thead>\n",
              "    <tr style=\"text-align: right;\">\n",
              "      <th></th>\n",
              "      <th>検査実施人数</th>\n",
              "      <th>陰性人数</th>\n",
              "      <th>陽性人数</th>\n",
              "      <th>一般相談件数</th>\n",
              "      <th>帰国者相談件数</th>\n",
              "    </tr>\n",
              "    <tr>\n",
              "      <th>年月日</th>\n",
              "      <th></th>\n",
              "      <th></th>\n",
              "      <th></th>\n",
              "      <th></th>\n",
              "      <th></th>\n",
              "    </tr>\n",
              "  </thead>\n",
              "  <tbody>\n",
              "    <tr>\n",
              "      <th>2020-03-24</th>\n",
              "      <td>67</td>\n",
              "      <td>67</td>\n",
              "      <td>0</td>\n",
              "      <td>3724</td>\n",
              "      <td>260</td>\n",
              "    </tr>\n",
              "    <tr>\n",
              "      <th>2020-03-25</th>\n",
              "      <td>69</td>\n",
              "      <td>69</td>\n",
              "      <td>0</td>\n",
              "      <td>3811</td>\n",
              "      <td>268</td>\n",
              "    </tr>\n",
              "    <tr>\n",
              "      <th>2020-03-26</th>\n",
              "      <td>70</td>\n",
              "      <td>70</td>\n",
              "      <td>0</td>\n",
              "      <td>3884</td>\n",
              "      <td>277</td>\n",
              "    </tr>\n",
              "    <tr>\n",
              "      <th>2020-03-27</th>\n",
              "      <td>73</td>\n",
              "      <td>73</td>\n",
              "      <td>0</td>\n",
              "      <td>4015</td>\n",
              "      <td>289</td>\n",
              "    </tr>\n",
              "    <tr>\n",
              "      <th>2020-03-28</th>\n",
              "      <td>79</td>\n",
              "      <td>79</td>\n",
              "      <td>0</td>\n",
              "      <td>4073</td>\n",
              "      <td>291</td>\n",
              "    </tr>\n",
              "    <tr>\n",
              "      <th>2020-03-29</th>\n",
              "      <td>79</td>\n",
              "      <td>79</td>\n",
              "      <td>0</td>\n",
              "      <td>4113</td>\n",
              "      <td>296</td>\n",
              "    </tr>\n",
              "    <tr>\n",
              "      <th>2020-03-30</th>\n",
              "      <td>83</td>\n",
              "      <td>82</td>\n",
              "      <td>1</td>\n",
              "      <td>4330</td>\n",
              "      <td>312</td>\n",
              "    </tr>\n",
              "    <tr>\n",
              "      <th>2020-03-31</th>\n",
              "      <td>97</td>\n",
              "      <td>93</td>\n",
              "      <td>4</td>\n",
              "      <td>4776</td>\n",
              "      <td>324</td>\n",
              "    </tr>\n",
              "    <tr>\n",
              "      <th>2020-04-01</th>\n",
              "      <td>122</td>\n",
              "      <td>115</td>\n",
              "      <td>7</td>\n",
              "      <td>5557</td>\n",
              "      <td>361</td>\n",
              "    </tr>\n",
              "    <tr>\n",
              "      <th>2020-04-02</th>\n",
              "      <td>161</td>\n",
              "      <td>153</td>\n",
              "      <td>8</td>\n",
              "      <td>6158</td>\n",
              "      <td>386</td>\n",
              "    </tr>\n",
              "  </tbody>\n",
              "</table>\n",
              "</div>"
            ],
            "text/plain": [
              "            検査実施人数  陰性人数  陽性人数  一般相談件数  帰国者相談件数\n",
              "年月日                                            \n",
              "2020-03-24      67    67     0    3724      260\n",
              "2020-03-25      69    69     0    3811      268\n",
              "2020-03-26      70    70     0    3884      277\n",
              "2020-03-27      73    73     0    4015      289\n",
              "2020-03-28      79    79     0    4073      291\n",
              "2020-03-29      79    79     0    4113      296\n",
              "2020-03-30      83    82     1    4330      312\n",
              "2020-03-31      97    93     4    4776      324\n",
              "2020-04-01     122   115     7    5557      361\n",
              "2020-04-02     161   153     8    6158      386"
            ]
          },
          "metadata": {
            "tags": []
          },
          "execution_count": 21
        }
      ]
    },
    {
      "cell_type": "code",
      "metadata": {
        "id": "uRD41wLHxxn0",
        "colab_type": "code",
        "outputId": "e28332ff-3784-4623-c3c3-7d6c0dca4c69",
        "colab": {
          "base_uri": "https://localhost:8080/",
          "height": 394
        }
      },
      "source": [
        "# 差分を計算\n",
        "df_diff = df_cum.sort_index().diff().fillna(0).astype(int)\n",
        "df_diff[\"備考\"] = \"\"\n",
        "\n",
        "df_diff.tail(10)"
      ],
      "execution_count": 22,
      "outputs": [
        {
          "output_type": "execute_result",
          "data": {
            "text/html": [
              "<div>\n",
              "<style scoped>\n",
              "    .dataframe tbody tr th:only-of-type {\n",
              "        vertical-align: middle;\n",
              "    }\n",
              "\n",
              "    .dataframe tbody tr th {\n",
              "        vertical-align: top;\n",
              "    }\n",
              "\n",
              "    .dataframe thead th {\n",
              "        text-align: right;\n",
              "    }\n",
              "</style>\n",
              "<table border=\"1\" class=\"dataframe\">\n",
              "  <thead>\n",
              "    <tr style=\"text-align: right;\">\n",
              "      <th></th>\n",
              "      <th>検査実施人数</th>\n",
              "      <th>陰性人数</th>\n",
              "      <th>陽性人数</th>\n",
              "      <th>一般相談件数</th>\n",
              "      <th>帰国者相談件数</th>\n",
              "      <th>備考</th>\n",
              "    </tr>\n",
              "    <tr>\n",
              "      <th>年月日</th>\n",
              "      <th></th>\n",
              "      <th></th>\n",
              "      <th></th>\n",
              "      <th></th>\n",
              "      <th></th>\n",
              "      <th></th>\n",
              "    </tr>\n",
              "  </thead>\n",
              "  <tbody>\n",
              "    <tr>\n",
              "      <th>2020-03-24</th>\n",
              "      <td>4</td>\n",
              "      <td>4</td>\n",
              "      <td>0</td>\n",
              "      <td>72</td>\n",
              "      <td>7</td>\n",
              "      <td></td>\n",
              "    </tr>\n",
              "    <tr>\n",
              "      <th>2020-03-25</th>\n",
              "      <td>2</td>\n",
              "      <td>2</td>\n",
              "      <td>0</td>\n",
              "      <td>87</td>\n",
              "      <td>8</td>\n",
              "      <td></td>\n",
              "    </tr>\n",
              "    <tr>\n",
              "      <th>2020-03-26</th>\n",
              "      <td>1</td>\n",
              "      <td>1</td>\n",
              "      <td>0</td>\n",
              "      <td>73</td>\n",
              "      <td>9</td>\n",
              "      <td></td>\n",
              "    </tr>\n",
              "    <tr>\n",
              "      <th>2020-03-27</th>\n",
              "      <td>3</td>\n",
              "      <td>3</td>\n",
              "      <td>0</td>\n",
              "      <td>131</td>\n",
              "      <td>12</td>\n",
              "      <td></td>\n",
              "    </tr>\n",
              "    <tr>\n",
              "      <th>2020-03-28</th>\n",
              "      <td>6</td>\n",
              "      <td>6</td>\n",
              "      <td>0</td>\n",
              "      <td>58</td>\n",
              "      <td>2</td>\n",
              "      <td></td>\n",
              "    </tr>\n",
              "    <tr>\n",
              "      <th>2020-03-29</th>\n",
              "      <td>0</td>\n",
              "      <td>0</td>\n",
              "      <td>0</td>\n",
              "      <td>40</td>\n",
              "      <td>5</td>\n",
              "      <td></td>\n",
              "    </tr>\n",
              "    <tr>\n",
              "      <th>2020-03-30</th>\n",
              "      <td>4</td>\n",
              "      <td>3</td>\n",
              "      <td>1</td>\n",
              "      <td>217</td>\n",
              "      <td>16</td>\n",
              "      <td></td>\n",
              "    </tr>\n",
              "    <tr>\n",
              "      <th>2020-03-31</th>\n",
              "      <td>14</td>\n",
              "      <td>11</td>\n",
              "      <td>3</td>\n",
              "      <td>446</td>\n",
              "      <td>12</td>\n",
              "      <td></td>\n",
              "    </tr>\n",
              "    <tr>\n",
              "      <th>2020-04-01</th>\n",
              "      <td>25</td>\n",
              "      <td>22</td>\n",
              "      <td>3</td>\n",
              "      <td>781</td>\n",
              "      <td>37</td>\n",
              "      <td></td>\n",
              "    </tr>\n",
              "    <tr>\n",
              "      <th>2020-04-02</th>\n",
              "      <td>39</td>\n",
              "      <td>38</td>\n",
              "      <td>1</td>\n",
              "      <td>601</td>\n",
              "      <td>25</td>\n",
              "      <td></td>\n",
              "    </tr>\n",
              "  </tbody>\n",
              "</table>\n",
              "</div>"
            ],
            "text/plain": [
              "            検査実施人数  陰性人数  陽性人数  一般相談件数  帰国者相談件数 備考\n",
              "年月日                                               \n",
              "2020-03-24       4     4     0      72        7   \n",
              "2020-03-25       2     2     0      87        8   \n",
              "2020-03-26       1     1     0      73        9   \n",
              "2020-03-27       3     3     0     131       12   \n",
              "2020-03-28       6     6     0      58        2   \n",
              "2020-03-29       0     0     0      40        5   \n",
              "2020-03-30       4     3     1     217       16   \n",
              "2020-03-31      14    11     3     446       12   \n",
              "2020-04-01      25    22     3     781       37   \n",
              "2020-04-02      39    38     1     601       25   "
            ]
          },
          "metadata": {
            "tags": []
          },
          "execution_count": 22
        }
      ]
    },
    {
      "cell_type": "code",
      "metadata": {
        "id": "7b0vjh_99ovL",
        "colab_type": "code",
        "outputId": "a03b6631-0993-40fa-a0f5-eba316a2ca2f",
        "colab": {
          "base_uri": "https://localhost:8080/",
          "height": 142
        }
      },
      "source": [
        "# 当日分\n",
        "s_diff = df_diff.iloc[-1, :]\n",
        "s_diff"
      ],
      "execution_count": 23,
      "outputs": [
        {
          "output_type": "execute_result",
          "data": {
            "text/plain": [
              "検査実施人数      39\n",
              "陰性人数        38\n",
              "陽性人数         1\n",
              "一般相談件数     601\n",
              "帰国者相談件数     25\n",
              "備考            \n",
              "Name: 2020-04-02 00:00:00, dtype: object"
            ]
          },
          "metadata": {
            "tags": []
          },
          "execution_count": 23
        }
      ]
    },
    {
      "cell_type": "code",
      "metadata": {
        "id": "KXrAFWMlw_bk",
        "colab_type": "code",
        "colab": {}
      },
      "source": [
        "# 当日分を追加\n",
        "df = df.append(s_diff)\n",
        "\n",
        "# 重複を削除\n",
        "df.drop_duplicates(inplace=True)"
      ],
      "execution_count": 0,
      "outputs": []
    },
    {
      "cell_type": "code",
      "metadata": {
        "id": "NhCmLSeC1WVj",
        "colab_type": "code",
        "colab": {}
      },
      "source": [
        "# df = df.astype({\"検査実施人数\": int, \"陰性人数\": int, \"陽性人数\": int, \"一般相談件数\": int, \"帰国者相談件数\": int, \"備考\": str})"
      ],
      "execution_count": 0,
      "outputs": []
    },
    {
      "cell_type": "code",
      "metadata": {
        "id": "9pcg06We5npt",
        "colab_type": "code",
        "outputId": "bb35d808-5b1c-4bee-a4d9-f1f214f023da",
        "colab": {
          "base_uri": "https://localhost:8080/",
          "height": 394
        }
      },
      "source": [
        "df.tail(10)"
      ],
      "execution_count": 26,
      "outputs": [
        {
          "output_type": "execute_result",
          "data": {
            "text/html": [
              "<div>\n",
              "<style scoped>\n",
              "    .dataframe tbody tr th:only-of-type {\n",
              "        vertical-align: middle;\n",
              "    }\n",
              "\n",
              "    .dataframe tbody tr th {\n",
              "        vertical-align: top;\n",
              "    }\n",
              "\n",
              "    .dataframe thead th {\n",
              "        text-align: right;\n",
              "    }\n",
              "</style>\n",
              "<table border=\"1\" class=\"dataframe\">\n",
              "  <thead>\n",
              "    <tr style=\"text-align: right;\">\n",
              "      <th></th>\n",
              "      <th>検査実施人数</th>\n",
              "      <th>陰性人数</th>\n",
              "      <th>陽性人数</th>\n",
              "      <th>一般相談件数</th>\n",
              "      <th>帰国者相談件数</th>\n",
              "      <th>備考</th>\n",
              "    </tr>\n",
              "    <tr>\n",
              "      <th>年月日</th>\n",
              "      <th></th>\n",
              "      <th></th>\n",
              "      <th></th>\n",
              "      <th></th>\n",
              "      <th></th>\n",
              "      <th></th>\n",
              "    </tr>\n",
              "  </thead>\n",
              "  <tbody>\n",
              "    <tr>\n",
              "      <th>2020-03-24</th>\n",
              "      <td>4</td>\n",
              "      <td>4</td>\n",
              "      <td>0</td>\n",
              "      <td>72</td>\n",
              "      <td>7</td>\n",
              "      <td></td>\n",
              "    </tr>\n",
              "    <tr>\n",
              "      <th>2020-03-25</th>\n",
              "      <td>2</td>\n",
              "      <td>2</td>\n",
              "      <td>0</td>\n",
              "      <td>87</td>\n",
              "      <td>8</td>\n",
              "      <td></td>\n",
              "    </tr>\n",
              "    <tr>\n",
              "      <th>2020-03-26</th>\n",
              "      <td>1</td>\n",
              "      <td>1</td>\n",
              "      <td>0</td>\n",
              "      <td>73</td>\n",
              "      <td>9</td>\n",
              "      <td></td>\n",
              "    </tr>\n",
              "    <tr>\n",
              "      <th>2020-03-27</th>\n",
              "      <td>3</td>\n",
              "      <td>3</td>\n",
              "      <td>0</td>\n",
              "      <td>131</td>\n",
              "      <td>12</td>\n",
              "      <td></td>\n",
              "    </tr>\n",
              "    <tr>\n",
              "      <th>2020-03-28</th>\n",
              "      <td>6</td>\n",
              "      <td>6</td>\n",
              "      <td>0</td>\n",
              "      <td>58</td>\n",
              "      <td>2</td>\n",
              "      <td></td>\n",
              "    </tr>\n",
              "    <tr>\n",
              "      <th>2020-03-29</th>\n",
              "      <td>0</td>\n",
              "      <td>0</td>\n",
              "      <td>0</td>\n",
              "      <td>40</td>\n",
              "      <td>5</td>\n",
              "      <td></td>\n",
              "    </tr>\n",
              "    <tr>\n",
              "      <th>2020-03-30</th>\n",
              "      <td>4</td>\n",
              "      <td>3</td>\n",
              "      <td>1</td>\n",
              "      <td>217</td>\n",
              "      <td>16</td>\n",
              "      <td></td>\n",
              "    </tr>\n",
              "    <tr>\n",
              "      <th>2020-03-31</th>\n",
              "      <td>14</td>\n",
              "      <td>11</td>\n",
              "      <td>3</td>\n",
              "      <td>446</td>\n",
              "      <td>12</td>\n",
              "      <td></td>\n",
              "    </tr>\n",
              "    <tr>\n",
              "      <th>2020-04-01</th>\n",
              "      <td>25</td>\n",
              "      <td>22</td>\n",
              "      <td>3</td>\n",
              "      <td>781</td>\n",
              "      <td>37</td>\n",
              "      <td></td>\n",
              "    </tr>\n",
              "    <tr>\n",
              "      <th>2020-04-02</th>\n",
              "      <td>39</td>\n",
              "      <td>38</td>\n",
              "      <td>1</td>\n",
              "      <td>601</td>\n",
              "      <td>25</td>\n",
              "      <td></td>\n",
              "    </tr>\n",
              "  </tbody>\n",
              "</table>\n",
              "</div>"
            ],
            "text/plain": [
              "            検査実施人数  陰性人数  陽性人数  一般相談件数  帰国者相談件数 備考\n",
              "年月日                                               \n",
              "2020-03-24       4     4     0      72        7   \n",
              "2020-03-25       2     2     0      87        8   \n",
              "2020-03-26       1     1     0      73        9   \n",
              "2020-03-27       3     3     0     131       12   \n",
              "2020-03-28       6     6     0      58        2   \n",
              "2020-03-29       0     0     0      40        5   \n",
              "2020-03-30       4     3     1     217       16   \n",
              "2020-03-31      14    11     3     446       12   \n",
              "2020-04-01      25    22     3     781       37   \n",
              "2020-04-02      39    38     1     601       25   "
            ]
          },
          "metadata": {
            "tags": []
          },
          "execution_count": 26
        }
      ]
    },
    {
      "cell_type": "code",
      "metadata": {
        "id": "fOYcarIqA5lD",
        "colab_type": "code",
        "colab": {}
      },
      "source": [
        "from google.colab import files"
      ],
      "execution_count": 0,
      "outputs": []
    },
    {
      "cell_type": "code",
      "metadata": {
        "id": "yEP1ZQDGyVHd",
        "colab_type": "code",
        "colab": {}
      },
      "source": [
        "if dt_kensa == dt_ippan == dt_kikoku:\n",
        "    df.to_csv(\"toyama_counts.csv\", encoding=\"utf_8_sig\")\n",
        "    files.download(\"toyama_counts.csv\")\n",
        "else:\n",
        "    print(\"日付が違います\")"
      ],
      "execution_count": 0,
      "outputs": []
    }
  ]
}