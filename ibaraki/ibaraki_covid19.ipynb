{
  "nbformat": 4,
  "nbformat_minor": 0,
  "metadata": {
    "colab": {
      "name": "ibaraki_covid19.ipynb",
      "provenance": [],
      "authorship_tag": "ABX9TyOxZnXu71lRf+bNY/VEi+NR",
      "include_colab_link": true
    },
    "kernelspec": {
      "name": "python3",
      "display_name": "Python 3"
    }
  },
  "cells": [
    {
      "cell_type": "markdown",
      "metadata": {
        "id": "view-in-github",
        "colab_type": "text"
      },
      "source": [
        "<a href=\"https://colab.research.google.com/github/imabari/covid19-data/blob/master/ibaraki/ibaraki_covid19.ipynb\" target=\"_parent\"><img src=\"https://colab.research.google.com/assets/colab-badge.svg\" alt=\"Open In Colab\"/></a>"
      ]
    },
    {
      "cell_type": "code",
      "metadata": {
        "id": "SoJm-xyFxz4y"
      },
      "source": [
        "!pip install pdfplumber"
      ],
      "execution_count": null,
      "outputs": []
    },
    {
      "cell_type": "code",
      "metadata": {
        "id": "792fmeJ07xzy"
      },
      "source": [
        "import datetime\r\n",
        "import pathlib\r\n",
        "import re\r\n",
        "from urllib.parse import urljoin"
      ],
      "execution_count": null,
      "outputs": []
    },
    {
      "cell_type": "code",
      "metadata": {
        "id": "qp_rypo_yp0R"
      },
      "source": [
        "import requests\n",
        "from bs4 import BeautifulSoup"
      ],
      "execution_count": null,
      "outputs": []
    },
    {
      "cell_type": "code",
      "metadata": {
        "id": "MfaVA42uxz43"
      },
      "source": [
        "import pdfplumber\n",
        "import pandas as pd"
      ],
      "execution_count": null,
      "outputs": []
    },
    {
      "cell_type": "code",
      "metadata": {
        "id": "QWR5TH4dyp0U"
      },
      "source": [
        "headers = {\r\n",
        "    \"User-Agent\": \"Mozilla/5.0 (Windows NT 10.0; WOW64; Trident/7.0; rv:11.0) like Gecko\"\r\n",
        "}"
      ],
      "execution_count": null,
      "outputs": []
    },
    {
      "cell_type": "code",
      "metadata": {
        "id": "v9OybNuDyp0V"
      },
      "source": [
        "def fetch_soup(url, parser=\"html.parser\"):\r\n",
        "\r\n",
        "    r = requests.get(url, headers=headers)\r\n",
        "    r.raise_for_status()\r\n",
        "\r\n",
        "    soup = BeautifulSoup(r.content, parser)\r\n",
        "\r\n",
        "    return soup"
      ],
      "execution_count": null,
      "outputs": []
    },
    {
      "cell_type": "code",
      "metadata": {
        "id": "sqbnuD4Cyp0W"
      },
      "source": [
        "def fetch_file(url, dir=\".\"):\r\n",
        "\r\n",
        "    p = pathlib.Path(dir, pathlib.PurePath(url).name)\r\n",
        "    p.parent.mkdir(parents=True, exist_ok=True)\r\n",
        "    \r\n",
        "    r = requests.get(url)\r\n",
        "    r.raise_for_status()\r\n",
        "\r\n",
        "    with p.open(mode=\"wb\") as fw:\r\n",
        "        fw.write(r.content)\r\n",
        "    return p"
      ],
      "execution_count": null,
      "outputs": []
    },
    {
      "cell_type": "code",
      "metadata": {
        "id": "On6RLrZIxz5B"
      },
      "source": [
        "def pdf2df(p):\n",
        "\n",
        "    with pdfplumber.open(p) as pdf:\n",
        "\n",
        "        dfs = []\n",
        "\n",
        "        for page in pdf.pages[1:]:\n",
        "\n",
        "            table = page.extract_table()\n",
        "\n",
        "            tmp = pd.DataFrame(table[1:], columns=table[0])\n",
        "\n",
        "            if (tmp.columns[0] == \"判明日\") or (tmp.columns[1] == \"判明日\"):\n",
        "\n",
        "                dfs.append(tmp)\n",
        "\n",
        "    df = pd.concat(dfs)\n",
        "\n",
        "    df.replace([\"―\", \"－\", \"\"], pd.NA, inplace=True)\n",
        "    df.dropna(how=\"all\", inplace=True)\n",
        "\n",
        "    return df.reset_index(drop=True)"
      ],
      "execution_count": null,
      "outputs": []
    },
    {
      "cell_type": "code",
      "metadata": {
        "id": "hjQcPJb_5AkB"
      },
      "source": [
        "def str2date(s):\r\n",
        "\r\n",
        "    df = s.str.extract(\"(\\d{1,2})月(\\d{1,2})日\").rename(columns={0: \"month\", 1: \"day\"}).fillna(0).astype(int)\r\n",
        "\r\n",
        "    df[\"year\"] = dt_now.year\r\n",
        "\r\n",
        "    tmp = pd.to_datetime(df, errors=\"coerce\")\r\n",
        "\r\n",
        "    df[\"year\"] = df[\"year\"].mask(tmp > dt_now, df[\"year\"] - 1)\r\n",
        "\r\n",
        "    return pd.to_datetime(df, errors=\"coerce\")"
      ],
      "execution_count": null,
      "outputs": []
    },
    {
      "cell_type": "code",
      "metadata": {
        "id": "H1W0NBcB5Qpg"
      },
      "source": [
        "JST = datetime.timezone(datetime.timedelta(hours=+9))\r\n",
        "dt_now = datetime.datetime.now(JST).replace(tzinfo=None)"
      ],
      "execution_count": null,
      "outputs": []
    },
    {
      "cell_type": "code",
      "metadata": {
        "id": "KjTw8Lf3yp0Y"
      },
      "source": [
        "url = \"https://www.pref.ibaraki.jp/1saigai/2019-ncov/hassei.html\""
      ],
      "execution_count": null,
      "outputs": []
    },
    {
      "cell_type": "code",
      "metadata": {
        "id": "SYf4CkOhyp0Y"
      },
      "source": [
        "soup = fetch_soup(url)"
      ],
      "execution_count": null,
      "outputs": []
    },
    {
      "cell_type": "markdown",
      "metadata": {
        "id": "wBv2e7QBVvVa"
      },
      "source": [
        "# 茨城県"
      ]
    },
    {
      "cell_type": "code",
      "metadata": {
        "id": "kWZaJkTu7cj1"
      },
      "source": [
        "tag_pref = soup.find(\"a\", class_=\"icon_pdf\", text=re.compile(\"^新型コロナウイルス感染症患者の発生及び退院・退所等について\"))\r\n",
        "link_pref = urljoin(url, tag_pref.get(\"href\"))"
      ],
      "execution_count": null,
      "outputs": []
    },
    {
      "cell_type": "code",
      "metadata": {
        "id": "s0c27lfPyoN7"
      },
      "source": [
        "path_pref = fetch_file(link_pref)"
      ],
      "execution_count": null,
      "outputs": []
    },
    {
      "cell_type": "code",
      "metadata": {
        "id": "iKzkMuJLMOWo"
      },
      "source": [
        "df_pref = pdf2df(path_pref)"
      ],
      "execution_count": null,
      "outputs": []
    },
    {
      "cell_type": "code",
      "metadata": {
        "id": "NgL1nG9gWO1L"
      },
      "source": [
        "pub_pref = tag_pref.parent.find_previous_sibling(\"h4\").get_text(strip=True).replace(\"発表\", \"\")"
      ],
      "execution_count": null,
      "outputs": []
    },
    {
      "cell_type": "code",
      "metadata": {
        "id": "Lm6nMSc63u2x"
      },
      "source": [
        "df_pref[\"管轄\"] = \"茨城県\"\r\n",
        "df_pref[\"公表日\"] = pub_pref"
      ],
      "execution_count": null,
      "outputs": []
    },
    {
      "cell_type": "code",
      "metadata": {
        "id": "q167WQt69b9b"
      },
      "source": [
        "df_pref"
      ],
      "execution_count": null,
      "outputs": []
    },
    {
      "cell_type": "markdown",
      "metadata": {
        "id": "6vkteArQVsZl"
      },
      "source": [
        "# 水戸市"
      ]
    },
    {
      "cell_type": "code",
      "metadata": {
        "id": "RNsepviG6kdh"
      },
      "source": [
        "tag_city = soup.find(\"a\", class_=\"icon_pdf\", text=re.compile(\"^【水戸市発表】新型コロナウイルス感染症患者の発生について\"))\r\n",
        "link_city = urljoin(url, tag_city.get(\"href\"))"
      ],
      "execution_count": null,
      "outputs": []
    },
    {
      "cell_type": "code",
      "metadata": {
        "id": "qY3Mi4igVm1L"
      },
      "source": [
        "path_city = fetch_file(link_city)"
      ],
      "execution_count": null,
      "outputs": []
    },
    {
      "cell_type": "code",
      "metadata": {
        "id": "TRLjc11NjJsI"
      },
      "source": [
        "df_city = pdf2df(path_city)"
      ],
      "execution_count": null,
      "outputs": []
    },
    {
      "cell_type": "code",
      "metadata": {
        "id": "maop-b-cWFhD"
      },
      "source": [
        "pub_city = tag_city.parent.find_previous_sibling(\"h4\").get_text(strip=True).replace(\"発表\", \"\")"
      ],
      "execution_count": null,
      "outputs": []
    },
    {
      "cell_type": "code",
      "metadata": {
        "id": "UcBf2SZf31go"
      },
      "source": [
        "df_city[\"管轄\"] = \"水戸市\"\r\n",
        "df_city[\"公表日\"] = pub_city"
      ],
      "execution_count": null,
      "outputs": []
    },
    {
      "cell_type": "code",
      "metadata": {
        "id": "fkkWoTdLOL1e"
      },
      "source": [
        "df_city"
      ],
      "execution_count": null,
      "outputs": []
    },
    {
      "cell_type": "markdown",
      "metadata": {
        "id": "p8VSqaRUV1Cj"
      },
      "source": [
        "# 結合"
      ]
    },
    {
      "cell_type": "code",
      "metadata": {
        "id": "6MJK52Kxo33U"
      },
      "source": [
        "df = pd.concat([df_pref, df_city])"
      ],
      "execution_count": null,
      "outputs": []
    },
    {
      "cell_type": "code",
      "metadata": {
        "id": "PVGnLVLvGNyR"
      },
      "source": [
        "df"
      ],
      "execution_count": null,
      "outputs": []
    },
    {
      "cell_type": "markdown",
      "metadata": {
        "id": "hCUKz8HtV4o8"
      },
      "source": [
        "# 前処理"
      ]
    },
    {
      "cell_type": "code",
      "metadata": {
        "id": "CZeR_wrDL5gq"
      },
      "source": [
        "# 無症状\r\n",
        "df[\"状態\"] = df[\"発症日\"].where(df[\"発症日\"] == \"症状なし\").replace({\"症状なし\": \"無症状\"})"
      ],
      "execution_count": null,
      "outputs": []
    },
    {
      "cell_type": "code",
      "metadata": {
        "id": "XZhKEnExDkmI"
      },
      "source": [
        "df[\"年代\"] = df[\"年代\"].str.replace(\"歳代\", \"代\")"
      ],
      "execution_count": null,
      "outputs": []
    },
    {
      "cell_type": "code",
      "metadata": {
        "id": "7MCRCd0qM5ON"
      },
      "source": [
        "df[\"性別\"] = df[\"性別\"].replace({\"男子\": \"男性\", \"女子\": \"女性\"})"
      ],
      "execution_count": null,
      "outputs": []
    },
    {
      "cell_type": "code",
      "metadata": {
        "id": "aVUbhB-0ytal"
      },
      "source": [
        "df[\"職業\"] = df[\"職業\"].replace({\"生徒\": \"学生\", \"非公表\": \"\"})"
      ],
      "execution_count": null,
      "outputs": []
    },
    {
      "cell_type": "code",
      "metadata": {
        "id": "c5oQp2kjegfL"
      },
      "source": [
        "df[\"患者_濃厚接触者フラグ\"] = df[\"新規\\n濃厚\"].replace({\"新規\": 0, \"濃厚\": 1})"
      ],
      "execution_count": null,
      "outputs": []
    },
    {
      "cell_type": "code",
      "metadata": {
        "id": "e9z2Zchc5IoY"
      },
      "source": [
        "df[\"判明日\"] = str2date(df[\"判明日\"])\r\n",
        "df[\"発症日\"] = str2date(df[\"発症日\"])\r\n",
        "df[\"公表日\"] = str2date(df[\"公表日\"])"
      ],
      "execution_count": null,
      "outputs": []
    },
    {
      "cell_type": "code",
      "metadata": {
        "id": "uSQvZhLGGTQj"
      },
      "source": [
        "df[\"判明日ISO\"] = df[\"判明日\"].apply(lambda d: pd.Timestamp(d, tz=None).isoformat()).replace(\"NaT\", \"\")\r\n",
        "df[\"発症日ISO\"] = df[\"発症日\"].apply(lambda d: pd.Timestamp(d, tz=None).isoformat()).replace(\"NaT\", \"\")\r\n",
        "df[\"公表日ISO\"] = df[\"公表日\"].apply(lambda d: pd.Timestamp(d, tz=None).isoformat()).replace(\"NaT\", \"\")"
      ],
      "execution_count": null,
      "outputs": []
    },
    {
      "cell_type": "code",
      "metadata": {
        "id": "DeQM3Xmo_4UX"
      },
      "source": [
        "df[\"全国地方公共団体コード\"] = \"080004\"\r\n",
        "df[\"都道府県名\"] = \"茨城県\""
      ],
      "execution_count": null,
      "outputs": []
    },
    {
      "cell_type": "code",
      "metadata": {
        "id": "JHfIjO9K_tw3"
      },
      "source": [
        "df[\"市区町村名\"] = df[\"管轄\"].where(df[\"管轄\"] == \"水戸市\")\r\n",
        "df[\"全国地方公共団体コード\"] = df[\"全国地方公共団体コード\"].mask(df[\"管轄\"] == \"水戸市\", \"082015\")"
      ],
      "execution_count": null,
      "outputs": []
    },
    {
      "cell_type": "code",
      "metadata": {
        "id": "dLhfymBH-epP"
      },
      "source": [
        "df.rename(\r\n",
        "    columns={\r\n",
        "        \"公表日ISO\": \"公表_年月日\",\r\n",
        "        \"発症日ISO\": \"発症_年月日\",\r\n",
        "        \"居住地\": \"患者_居住地\",\r\n",
        "        \"年代\": \"患者_年代\",\r\n",
        "        \"性別\": \"患者_性別\",\r\n",
        "        \"職業\": \"患者_職業\",\r\n",
        "        \"状態\": \"患者_状態\",\r\n",
        "        \"備考（疑われる感染経路）\": \"備考\",\r\n",
        "    },\r\n",
        "    inplace=True,\r\n",
        ")"
      ],
      "execution_count": null,
      "outputs": []
    },
    {
      "cell_type": "code",
      "metadata": {
        "id": "gGJxeMAIgarE"
      },
      "source": [
        "df[\"備考\"] = df[\"備考\"].str.replace(\"、\", \"感染;\") + \"感染\""
      ],
      "execution_count": null,
      "outputs": []
    },
    {
      "cell_type": "code",
      "metadata": {
        "id": "PKuVRjtDFrFo"
      },
      "source": [
        "df1 = df.reset_index().sort_values(by=[\"公表日\", \"管轄\", \"index\"]).reset_index(drop=True)"
      ],
      "execution_count": null,
      "outputs": []
    },
    {
      "cell_type": "code",
      "metadata": {
        "id": "p_jopjwGApXm"
      },
      "source": [
        "df1 = df1.reindex(\r\n",
        "    [\r\n",
        "        \"全国地方公共団体コード\",\r\n",
        "        \"都道府県名\",\r\n",
        "        \"市区町村名\",\r\n",
        "        \"公表_年月日\",\r\n",
        "        \"発症_年月日\",\r\n",
        "        \"患者_居住地\",\r\n",
        "        \"患者_年代\",\r\n",
        "        \"患者_性別\",\r\n",
        "        \"患者_職業\",\r\n",
        "        \"患者_状態\",\r\n",
        "        \"患者_症状\",\r\n",
        "        \"患者_渡航歴の有無フラグ\",\r\n",
        "        \"患者_濃厚接触者フラグ\",\r\n",
        "        \"検査方法\",\r\n",
        "        \"備考\",\r\n",
        "    ],\r\n",
        "    axis=1,\r\n",
        ")"
      ],
      "execution_count": null,
      "outputs": []
    },
    {
      "cell_type": "code",
      "metadata": {
        "id": "DFv5ooDjl1Tq"
      },
      "source": [
        "df1"
      ],
      "execution_count": null,
      "outputs": []
    },
    {
      "cell_type": "code",
      "metadata": {
        "id": "8bdweC8gCwpu"
      },
      "source": [
        "df1.to_csv(\"080004_ibaraki_covid19_patients.csv\", encoding=\"utf_8_sig\")"
      ],
      "execution_count": null,
      "outputs": []
    },
    {
      "cell_type": "code",
      "metadata": {
        "id": "eKIyZaRZWhO2"
      },
      "source": [
        "df1.to_csv(\"080004_ibaraki_covid19_patients.tsv\", sep=\"\\t\", encoding=\"utf_8_sig\")"
      ],
      "execution_count": null,
      "outputs": []
    },
    {
      "cell_type": "code",
      "metadata": {
        "id": "CJ-cSp8MnRJ3"
      },
      "source": [
        "from google.colab import files"
      ],
      "execution_count": null,
      "outputs": []
    },
    {
      "cell_type": "code",
      "metadata": {
        "id": "jEZWKWPcnUfZ"
      },
      "source": [
        "files.download(\"080004_ibaraki_covid19_patients.tsv\")"
      ],
      "execution_count": null,
      "outputs": []
    }
  ]
}