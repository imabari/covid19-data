{
  "nbformat": 4,
  "nbformat_minor": 0,
  "metadata": {
    "colab": {
      "name": "aichi_patients_summary.ipynb",
      "provenance": [],
      "collapsed_sections": [],
      "authorship_tag": "ABX9TyMJ8SSQV/Uu3KnESfNZ6Ysp",
      "include_colab_link": true
    },
    "kernelspec": {
      "name": "python3",
      "display_name": "Python 3"
    }
  },
  "cells": [
    {
      "cell_type": "markdown",
      "metadata": {
        "id": "view-in-github",
        "colab_type": "text"
      },
      "source": [
        "<a href=\"https://colab.research.google.com/github/imabari/covid19-data/blob/master/aichi/aichi_patients_summary.ipynb\" target=\"_parent\"><img src=\"https://colab.research.google.com/assets/colab-badge.svg\" alt=\"Open In Colab\"/></a>"
      ]
    },
    {
      "cell_type": "code",
      "metadata": {
        "id": "B13eppg162QP",
        "colab_type": "code",
        "colab": {}
      },
      "source": [
        "import requests\n",
        "from bs4 import BeautifulSoup"
      ],
      "execution_count": 0,
      "outputs": []
    },
    {
      "cell_type": "code",
      "metadata": {
        "id": "3RhRawk77ky8",
        "colab_type": "code",
        "colab": {}
      },
      "source": [
        "from urllib.parse import urljoin"
      ],
      "execution_count": 0,
      "outputs": []
    },
    {
      "cell_type": "code",
      "metadata": {
        "id": "onXDGa1167o4",
        "colab_type": "code",
        "colab": {}
      },
      "source": [
        "import re"
      ],
      "execution_count": 0,
      "outputs": []
    },
    {
      "cell_type": "code",
      "metadata": {
        "id": "PWl5wxlz-_U8",
        "colab_type": "code",
        "colab": {}
      },
      "source": [
        "import datetime"
      ],
      "execution_count": 0,
      "outputs": []
    },
    {
      "cell_type": "code",
      "metadata": {
        "id": "s2ZKsu3C62Pp",
        "colab_type": "code",
        "colab": {}
      },
      "source": [
        "url = \"https://www.pref.aichi.jp/site/covid19-aichi/kansensya-kensa.html\"\n",
        "\n",
        "headers = {\n",
        "    \"User-Agent\": \"Mozilla/5.0 (Windows NT 10.0; WOW64; Trident/7.0; rv:11.0) like Gecko\",\n",
        "}"
      ],
      "execution_count": 0,
      "outputs": []
    },
    {
      "cell_type": "code",
      "metadata": {
        "id": "WmpV3LsA62O-",
        "colab_type": "code",
        "colab": {}
      },
      "source": [
        "r = requests.get(url, headers=headers)\n",
        "\n",
        "r.raise_for_status()\n",
        "\n",
        "soup = BeautifulSoup(r.content, \"html5lib\")"
      ],
      "execution_count": 0,
      "outputs": []
    },
    {
      "cell_type": "code",
      "metadata": {
        "id": "eTgKRiun66e4",
        "colab_type": "code",
        "colab": {}
      },
      "source": [
        "tag = soup.find(\"a\", text=re.compile(\"県内発生事例一覧.+Excelファイル\"))"
      ],
      "execution_count": 0,
      "outputs": []
    },
    {
      "cell_type": "code",
      "metadata": {
        "id": "2izjaefS62N8",
        "colab_type": "code",
        "colab": {}
      },
      "source": [
        "link = urljoin(url, tag.get(\"href\"))"
      ],
      "execution_count": 0,
      "outputs": []
    },
    {
      "cell_type": "code",
      "metadata": {
        "id": "WySL26PKBh36",
        "colab_type": "code",
        "colab": {}
      },
      "source": [
        "m = re.search(\"(\\d{1,2})月(\\d{1,2})日\", tag.get_text(strip=True))"
      ],
      "execution_count": 0,
      "outputs": []
    },
    {
      "cell_type": "code",
      "metadata": {
        "id": "ZH_zJbiECloh",
        "colab_type": "code",
        "colab": {}
      },
      "source": [
        "dt_now = datetime.datetime.now()"
      ],
      "execution_count": 0,
      "outputs": []
    },
    {
      "cell_type": "code",
      "metadata": {
        "id": "zI9nWi3AB29a",
        "colab_type": "code",
        "colab": {}
      },
      "source": [
        "month, day = map(int, m.groups())"
      ],
      "execution_count": 0,
      "outputs": []
    },
    {
      "cell_type": "code",
      "metadata": {
        "id": "WbJbUCws-6xJ",
        "colab_type": "code",
        "colab": {}
      },
      "source": [
        "dt_update = datetime.datetime(dt_now.year, month, day)\n",
        "\n",
        "# テスト\n",
        "# dt_update = datetime.datetime(dt_now.year, month, day) + datetime.timedelta(days=7)"
      ],
      "execution_count": 0,
      "outputs": []
    },
    {
      "cell_type": "code",
      "metadata": {
        "id": "hGyK0cR1CvB5",
        "colab_type": "code",
        "colab": {
          "base_uri": "https://localhost:8080/",
          "height": 35
        },
        "outputId": "c2e89dbb-af95-4530-8110-1708565e2fca"
      },
      "source": [
        "dt_update"
      ],
      "execution_count": 237,
      "outputs": [
        {
          "output_type": "execute_result",
          "data": {
            "text/plain": [
              "datetime.datetime(2020, 4, 22, 0, 0)"
            ]
          },
          "metadata": {
            "tags": []
          },
          "execution_count": 237
        }
      ]
    },
    {
      "cell_type": "code",
      "metadata": {
        "id": "Us6FH4de7ugy",
        "colab_type": "code",
        "colab": {}
      },
      "source": [
        "import pandas as pd"
      ],
      "execution_count": 0,
      "outputs": []
    },
    {
      "cell_type": "code",
      "metadata": {
        "id": "cpcHhUlH_PES",
        "colab_type": "code",
        "colab": {}
      },
      "source": [
        "import json"
      ],
      "execution_count": 0,
      "outputs": []
    },
    {
      "cell_type": "code",
      "metadata": {
        "id": "96QPh5jk_EET",
        "colab_type": "code",
        "colab": {}
      },
      "source": [
        "data = {}"
      ],
      "execution_count": 0,
      "outputs": []
    },
    {
      "cell_type": "code",
      "metadata": {
        "id": "ZUIjvnAE7yKa",
        "colab_type": "code",
        "colab": {}
      },
      "source": [
        "df_kanja = pd.read_excel(link, index_col=\"No\", header=2)"
      ],
      "execution_count": 0,
      "outputs": []
    },
    {
      "cell_type": "code",
      "metadata": {
        "id": "reqneyONAuaa",
        "colab_type": "code",
        "colab": {
          "base_uri": "https://localhost:8080/",
          "height": 455
        },
        "outputId": "f905f168-8a04-44fc-dee8-c03ac3de291f"
      },
      "source": [
        "df_kanja"
      ],
      "execution_count": 242,
      "outputs": [
        {
          "output_type": "execute_result",
          "data": {
            "text/html": [
              "<div>\n",
              "<style scoped>\n",
              "    .dataframe tbody tr th:only-of-type {\n",
              "        vertical-align: middle;\n",
              "    }\n",
              "\n",
              "    .dataframe tbody tr th {\n",
              "        vertical-align: top;\n",
              "    }\n",
              "\n",
              "    .dataframe thead th {\n",
              "        text-align: right;\n",
              "    }\n",
              "</style>\n",
              "<table border=\"1\" class=\"dataframe\">\n",
              "  <thead>\n",
              "    <tr style=\"text-align: right;\">\n",
              "      <th></th>\n",
              "      <th>発表日</th>\n",
              "      <th>年代・性別</th>\n",
              "      <th>国籍</th>\n",
              "      <th>住居地</th>\n",
              "      <th>接触状況</th>\n",
              "      <th>備考</th>\n",
              "    </tr>\n",
              "    <tr>\n",
              "      <th>No</th>\n",
              "      <th></th>\n",
              "      <th></th>\n",
              "      <th></th>\n",
              "      <th></th>\n",
              "      <th></th>\n",
              "      <th></th>\n",
              "    </tr>\n",
              "  </thead>\n",
              "  <tbody>\n",
              "    <tr>\n",
              "      <th>1</th>\n",
              "      <td>43856</td>\n",
              "      <td>40代男性</td>\n",
              "      <td>中国</td>\n",
              "      <td>中国武漢市</td>\n",
              "      <td>中国</td>\n",
              "      <td>本県発表1</td>\n",
              "    </tr>\n",
              "    <tr>\n",
              "      <th>2</th>\n",
              "      <td>43858</td>\n",
              "      <td>40代男性</td>\n",
              "      <td>中国</td>\n",
              "      <td>中国武漢市</td>\n",
              "      <td>中国</td>\n",
              "      <td>本県発表2</td>\n",
              "    </tr>\n",
              "    <tr>\n",
              "      <th>3</th>\n",
              "      <td>43875</td>\n",
              "      <td>60代男性</td>\n",
              "      <td>日本</td>\n",
              "      <td>名古屋市</td>\n",
              "      <td>アメリカ</td>\n",
              "      <td>名古屋市発表1</td>\n",
              "    </tr>\n",
              "    <tr>\n",
              "      <th>4</th>\n",
              "      <td>43876</td>\n",
              "      <td>60代女性</td>\n",
              "      <td>日本</td>\n",
              "      <td>名古屋市</td>\n",
              "      <td>No.3の妻</td>\n",
              "      <td>名古屋市発表2</td>\n",
              "    </tr>\n",
              "    <tr>\n",
              "      <th>5</th>\n",
              "      <td>43877</td>\n",
              "      <td>60代男性</td>\n",
              "      <td>日本</td>\n",
              "      <td>尾張地方</td>\n",
              "      <td>No.4と接触</td>\n",
              "      <td>本県発表3</td>\n",
              "    </tr>\n",
              "    <tr>\n",
              "      <th>...</th>\n",
              "      <td>...</td>\n",
              "      <td>...</td>\n",
              "      <td>...</td>\n",
              "      <td>...</td>\n",
              "      <td>...</td>\n",
              "      <td>...</td>\n",
              "    </tr>\n",
              "    <tr>\n",
              "      <th>445</th>\n",
              "      <td>43943</td>\n",
              "      <td>90代男性</td>\n",
              "      <td>0</td>\n",
              "      <td>名古屋市</td>\n",
              "      <td>No.410と接触</td>\n",
              "      <td>名古屋市発表252</td>\n",
              "    </tr>\n",
              "    <tr>\n",
              "      <th>446</th>\n",
              "      <td>43943</td>\n",
              "      <td>60代女性</td>\n",
              "      <td>0</td>\n",
              "      <td>名古屋市</td>\n",
              "      <td>No.445と接触</td>\n",
              "      <td>名古屋市発表253</td>\n",
              "    </tr>\n",
              "    <tr>\n",
              "      <th>447</th>\n",
              "      <td>43943</td>\n",
              "      <td>20代女性</td>\n",
              "      <td>0</td>\n",
              "      <td>名古屋市</td>\n",
              "      <td>No.417と接触</td>\n",
              "      <td>名古屋市発表254</td>\n",
              "    </tr>\n",
              "    <tr>\n",
              "      <th>448</th>\n",
              "      <td>43943</td>\n",
              "      <td>50代男性</td>\n",
              "      <td>0</td>\n",
              "      <td>名古屋市</td>\n",
              "      <td>0</td>\n",
              "      <td>名古屋市発表255</td>\n",
              "    </tr>\n",
              "    <tr>\n",
              "      <th>449</th>\n",
              "      <td>43943</td>\n",
              "      <td>20代男性</td>\n",
              "      <td>0</td>\n",
              "      <td>名古屋市</td>\n",
              "      <td>0</td>\n",
              "      <td>名古屋市発表256</td>\n",
              "    </tr>\n",
              "  </tbody>\n",
              "</table>\n",
              "<p>449 rows × 6 columns</p>\n",
              "</div>"
            ],
            "text/plain": [
              "       発表日  年代・性別  国籍    住居地       接触状況         備考\n",
              "No                                                \n",
              "1    43856  40代男性  中国  中国武漢市         中国      本県発表1\n",
              "2    43858  40代男性  中国  中国武漢市         中国      本県発表2\n",
              "3    43875  60代男性  日本   名古屋市       アメリカ    名古屋市発表1\n",
              "4    43876  60代女性  日本   名古屋市     No.3の妻    名古屋市発表2\n",
              "5    43877  60代男性  日本   尾張地方    No.4と接触      本県発表3\n",
              "..     ...    ...  ..    ...        ...        ...\n",
              "445  43943  90代男性   0   名古屋市  No.410と接触  名古屋市発表252\n",
              "446  43943  60代女性   0   名古屋市  No.445と接触  名古屋市発表253\n",
              "447  43943  20代女性   0   名古屋市  No.417と接触  名古屋市発表254\n",
              "448  43943  50代男性   0   名古屋市          0  名古屋市発表255\n",
              "449  43943  20代男性   0   名古屋市          0  名古屋市発表256\n",
              "\n",
              "[449 rows x 6 columns]"
            ]
          },
          "metadata": {
            "tags": []
          },
          "execution_count": 242
        }
      ]
    },
    {
      "cell_type": "code",
      "metadata": {
        "id": "EAV-KwOK8KZy",
        "colab_type": "code",
        "colab": {}
      },
      "source": [
        "df_kanja[\"発表日\"] = df_kanja[\"発表日\"].apply(lambda date: pd.to_datetime(date, unit=\"D\", origin=pd.Timestamp(\"1899/12/30\")))"
      ],
      "execution_count": 0,
      "outputs": []
    },
    {
      "cell_type": "code",
      "metadata": {
        "id": "f1qGhqi5DQS0",
        "colab_type": "code",
        "colab": {}
      },
      "source": [
        "sr = df_kanja[\"発表日\"].value_counts()"
      ],
      "execution_count": 0,
      "outputs": []
    },
    {
      "cell_type": "code",
      "metadata": {
        "id": "rO3SQ0z4IKBX",
        "colab_type": "code",
        "colab": {}
      },
      "source": [
        "# indexに更新日付が含まれるか確認\n",
        "if dt_update not in sr.index:\n",
        "    sr[dt_update] = 0"
      ],
      "execution_count": 0,
      "outputs": []
    },
    {
      "cell_type": "code",
      "metadata": {
        "id": "-Uszttj1Jvfb",
        "colab_type": "code",
        "colab": {}
      },
      "source": [
        "df_patients_sum = sr.sort_index().asfreq(\"D\", fill_value=0).reset_index()"
      ],
      "execution_count": 0,
      "outputs": []
    },
    {
      "cell_type": "code",
      "metadata": {
        "id": "NEA4J7h1_jeU",
        "colab_type": "code",
        "colab": {}
      },
      "source": [
        "df_patients_sum[\"日付\"] = df_patients_sum[\"index\"].dt.strftime(\"%Y-%m-%d\")"
      ],
      "execution_count": 0,
      "outputs": []
    },
    {
      "cell_type": "code",
      "metadata": {
        "id": "3fTnmx64__BK",
        "colab_type": "code",
        "colab": {}
      },
      "source": [
        "df_patients_sum.rename(columns={\"発表日\": \"小計\"}, inplace=True)\n",
        "df_patients_sum.drop(columns=[\"index\"], inplace=True)"
      ],
      "execution_count": 0,
      "outputs": []
    },
    {
      "cell_type": "code",
      "metadata": {
        "id": "Pj30X6BI9dQa",
        "colab_type": "code",
        "colab": {
          "base_uri": "https://localhost:8080/",
          "height": 424
        },
        "outputId": "b4b5a636-7ffd-4396-d65d-295779f77437"
      },
      "source": [
        "df_patients_sum"
      ],
      "execution_count": 249,
      "outputs": [
        {
          "output_type": "execute_result",
          "data": {
            "text/html": [
              "<div>\n",
              "<style scoped>\n",
              "    .dataframe tbody tr th:only-of-type {\n",
              "        vertical-align: middle;\n",
              "    }\n",
              "\n",
              "    .dataframe tbody tr th {\n",
              "        vertical-align: top;\n",
              "    }\n",
              "\n",
              "    .dataframe thead th {\n",
              "        text-align: right;\n",
              "    }\n",
              "</style>\n",
              "<table border=\"1\" class=\"dataframe\">\n",
              "  <thead>\n",
              "    <tr style=\"text-align: right;\">\n",
              "      <th></th>\n",
              "      <th>小計</th>\n",
              "      <th>日付</th>\n",
              "    </tr>\n",
              "  </thead>\n",
              "  <tbody>\n",
              "    <tr>\n",
              "      <th>0</th>\n",
              "      <td>1</td>\n",
              "      <td>2020-01-26</td>\n",
              "    </tr>\n",
              "    <tr>\n",
              "      <th>1</th>\n",
              "      <td>0</td>\n",
              "      <td>2020-01-27</td>\n",
              "    </tr>\n",
              "    <tr>\n",
              "      <th>2</th>\n",
              "      <td>1</td>\n",
              "      <td>2020-01-28</td>\n",
              "    </tr>\n",
              "    <tr>\n",
              "      <th>3</th>\n",
              "      <td>0</td>\n",
              "      <td>2020-01-29</td>\n",
              "    </tr>\n",
              "    <tr>\n",
              "      <th>4</th>\n",
              "      <td>0</td>\n",
              "      <td>2020-01-30</td>\n",
              "    </tr>\n",
              "    <tr>\n",
              "      <th>...</th>\n",
              "      <td>...</td>\n",
              "      <td>...</td>\n",
              "    </tr>\n",
              "    <tr>\n",
              "      <th>83</th>\n",
              "      <td>17</td>\n",
              "      <td>2020-04-18</td>\n",
              "    </tr>\n",
              "    <tr>\n",
              "      <th>84</th>\n",
              "      <td>10</td>\n",
              "      <td>2020-04-19</td>\n",
              "    </tr>\n",
              "    <tr>\n",
              "      <th>85</th>\n",
              "      <td>5</td>\n",
              "      <td>2020-04-20</td>\n",
              "    </tr>\n",
              "    <tr>\n",
              "      <th>86</th>\n",
              "      <td>16</td>\n",
              "      <td>2020-04-21</td>\n",
              "    </tr>\n",
              "    <tr>\n",
              "      <th>87</th>\n",
              "      <td>19</td>\n",
              "      <td>2020-04-22</td>\n",
              "    </tr>\n",
              "  </tbody>\n",
              "</table>\n",
              "<p>88 rows × 2 columns</p>\n",
              "</div>"
            ],
            "text/plain": [
              "    小計          日付\n",
              "0    1  2020-01-26\n",
              "1    0  2020-01-27\n",
              "2    1  2020-01-28\n",
              "3    0  2020-01-29\n",
              "4    0  2020-01-30\n",
              "..  ..         ...\n",
              "83  17  2020-04-18\n",
              "84  10  2020-04-19\n",
              "85   5  2020-04-20\n",
              "86  16  2020-04-21\n",
              "87  19  2020-04-22\n",
              "\n",
              "[88 rows x 2 columns]"
            ]
          },
          "metadata": {
            "tags": []
          },
          "execution_count": 249
        }
      ]
    },
    {
      "cell_type": "code",
      "metadata": {
        "id": "kA0Feg9g-48h",
        "colab_type": "code",
        "colab": {}
      },
      "source": [
        "data[\"patients_summary\"] = {\n",
        "    \"data\": df_patients_sum.to_dict(orient=\"records\"),\n",
        "    \"date\": dt_update.strftime(\"%Y/%m/%d\"),\n",
        "}"
      ],
      "execution_count": 0,
      "outputs": []
    },
    {
      "cell_type": "code",
      "metadata": {
        "id": "TevFFMDF_Jvi",
        "colab_type": "code",
        "colab": {}
      },
      "source": [
        "with open(\"data.json\", \"w\", encoding=\"utf-8\") as fw:\n",
        "    json.dump(data, fw, ensure_ascii=False, indent=4)"
      ],
      "execution_count": 0,
      "outputs": []
    }
  ]
}