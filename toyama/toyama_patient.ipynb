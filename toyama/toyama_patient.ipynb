{
  "nbformat": 4,
  "nbformat_minor": 0,
  "metadata": {
    "colab": {
      "name": "toyama_patient.ipynb",
      "provenance": [],
      "authorship_tag": "ABX9TyN4eUeXt+9yiC03QWi5K07p",
      "include_colab_link": true
    },
    "kernelspec": {
      "name": "python3",
      "display_name": "Python 3"
    }
  },
  "cells": [
    {
      "cell_type": "markdown",
      "metadata": {
        "id": "view-in-github",
        "colab_type": "text"
      },
      "source": [
        "<a href=\"https://colab.research.google.com/github/imabari/covid19-data/blob/master/toyama/toyama_patient.ipynb\" target=\"_parent\"><img src=\"https://colab.research.google.com/assets/colab-badge.svg\" alt=\"Open In Colab\"/></a>"
      ]
    },
    {
      "cell_type": "code",
      "metadata": {
        "id": "B2NG5yWA5e0v",
        "colab_type": "code",
        "colab": {}
      },
      "source": [
        "import requests\n",
        "from bs4 import BeautifulSoup\n",
        "\n",
        "import pandas as pd\n",
        "\n",
        "import datetime\n",
        "import json\n",
        "import pathlib"
      ],
      "execution_count": 0,
      "outputs": []
    },
    {
      "cell_type": "code",
      "metadata": {
        "id": "l0AIil-P5e0C",
        "colab_type": "code",
        "colab": {}
      },
      "source": [
        "url = \"http://www.pref.toyama.jp/cms_sec/1205/kj00021798.html\"\n",
        "\n",
        "headers = {\n",
        "    \"User-Agent\": \"Mozilla/5.0 (Windows NT 10.0; WOW64; Trident/7.0; rv:11.0) like Gecko\",\n",
        "}"
      ],
      "execution_count": 0,
      "outputs": []
    },
    {
      "cell_type": "code",
      "metadata": {
        "id": "aVck6cDH5ezV",
        "colab_type": "code",
        "colab": {}
      },
      "source": [
        "r = requests.get(url, headers=headers)\n",
        "\n",
        "r.raise_for_status()\n",
        "\n",
        "soup = BeautifulSoup(r.content, \"html.parser\")"
      ],
      "execution_count": 0,
      "outputs": []
    },
    {
      "cell_type": "code",
      "metadata": {
        "id": "Ddfo4_cG5pGK",
        "colab_type": "code",
        "colab": {}
      },
      "source": [
        "file_list = soup.find(\"div\", id=\"file\")\n",
        "link = file_list.find(\"a\", text=\"富山県内における新型コロナウイルス感染症の発生状況一覧\").get(\"href\")"
      ],
      "execution_count": 0,
      "outputs": []
    },
    {
      "cell_type": "code",
      "metadata": {
        "id": "NRvvOR_k-7m-",
        "colab_type": "code",
        "colab": {}
      },
      "source": [
        "# 現在の日時\n",
        "dt_now = datetime.datetime.now().strftime(\"%Y-%m-%d %H:%M\")"
      ],
      "execution_count": 0,
      "outputs": []
    },
    {
      "cell_type": "code",
      "metadata": {
        "id": "zI1VhdDD67n_",
        "colab_type": "code",
        "colab": {}
      },
      "source": [
        "df_kanja = pd.read_excel(link, skiprows=2)"
      ],
      "execution_count": 0,
      "outputs": []
    },
    {
      "cell_type": "code",
      "metadata": {
        "id": "Wip_OdjJ8Qa2",
        "colab_type": "code",
        "colab": {}
      },
      "source": [
        "df_kanja[\"検査結果判明日\"] = df_kanja[\"検査結果判明日\"].apply(\n",
        "    lambda date: pd.to_datetime(date, unit=\"D\", origin=pd.Timestamp(\"1899/12/30\")).strftime(\"%Y-%m-%d\")\n",
        ")"
      ],
      "execution_count": 0,
      "outputs": []
    },
    {
      "cell_type": "code",
      "metadata": {
        "id": "GXSvFUvY8U7-",
        "colab_type": "code",
        "colab": {}
      },
      "source": [
        "df_kanja.rename(columns={\"県番号\": \"No\"}, inplace=True)"
      ],
      "execution_count": 0,
      "outputs": []
    },
    {
      "cell_type": "code",
      "metadata": {
        "id": "_uKrbeno96Uu",
        "colab_type": "code",
        "colab": {}
      },
      "source": [
        "df_patients = df_kanja.loc[:, [\"No\", \"検査結果判明日\", \"居住地\", \"年代\", \"性別\", \"職業\"]]"
      ],
      "execution_count": 0,
      "outputs": []
    },
    {
      "cell_type": "code",
      "metadata": {
        "id": "LesxavDF-wsd",
        "colab_type": "code",
        "colab": {}
      },
      "source": [
        "data = {\"patients\": {\"data\": df_patients.to_dict(orient=\"records\"), \"date\": dt_now}}\n",
        "\n",
        "p = pathlib.Path(\"data\", \"patients.json\")\n",
        "p.parent.mkdir(parents=True, exist_ok=True)\n",
        "\n",
        "with p.open(mode=\"w\", encoding=\"utf-8\") as fw:\n",
        "    json.dump(data, fw, ensure_ascii=False, indent=4)"
      ],
      "execution_count": 0,
      "outputs": []
    }
  ]
}