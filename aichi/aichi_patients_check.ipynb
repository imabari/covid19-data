{
  "nbformat": 4,
  "nbformat_minor": 0,
  "metadata": {
    "colab": {
      "name": "aichi_patients_check.ipynb",
      "provenance": [],
      "collapsed_sections": [],
      "toc_visible": true,
      "authorship_tag": "ABX9TyNdZOGsZG1R8oeZq39PvBZL",
      "include_colab_link": true
    },
    "kernelspec": {
      "name": "python3",
      "display_name": "Python 3"
    }
  },
  "cells": [
    {
      "cell_type": "markdown",
      "metadata": {
        "id": "view-in-github",
        "colab_type": "text"
      },
      "source": [
        "<a href=\"https://colab.research.google.com/github/imabari/covid19-data/blob/master/aichi/aichi_patients_check.ipynb\" target=\"_parent\"><img src=\"https://colab.research.google.com/assets/colab-badge.svg\" alt=\"Open In Colab\"/></a>"
      ]
    },
    {
      "cell_type": "code",
      "metadata": {
        "colab": {
          "base_uri": "https://localhost:8080/"
        },
        "id": "tqVOP3xxsK2h",
        "outputId": "8554444b-0a82-4960-fe03-72463c801dc4"
      },
      "source": [
        "!pip install tabula-py"
      ],
      "execution_count": null,
      "outputs": [
        {
          "output_type": "stream",
          "text": [
            "Collecting tabula-py\n",
            "\u001b[?25l  Downloading https://files.pythonhosted.org/packages/cf/29/d6cb0d77ef46d84d35cffa09cf42c73b373aea664d28604eab6818f8a47c/tabula_py-2.2.0-py3-none-any.whl (11.7MB)\n",
            "\u001b[K     |████████████████████████████████| 11.7MB 333kB/s \n",
            "\u001b[?25hRequirement already satisfied: pandas>=0.25.3 in /usr/local/lib/python3.6/dist-packages (from tabula-py) (1.1.5)\n",
            "Requirement already satisfied: numpy in /usr/local/lib/python3.6/dist-packages (from tabula-py) (1.19.5)\n",
            "Collecting distro\n",
            "  Downloading https://files.pythonhosted.org/packages/25/b7/b3c4270a11414cb22c6352ebc7a83aaa3712043be29daa05018fd5a5c956/distro-1.5.0-py2.py3-none-any.whl\n",
            "Requirement already satisfied: pytz>=2017.2 in /usr/local/lib/python3.6/dist-packages (from pandas>=0.25.3->tabula-py) (2018.9)\n",
            "Requirement already satisfied: python-dateutil>=2.7.3 in /usr/local/lib/python3.6/dist-packages (from pandas>=0.25.3->tabula-py) (2.8.1)\n",
            "Requirement already satisfied: six>=1.5 in /usr/local/lib/python3.6/dist-packages (from python-dateutil>=2.7.3->pandas>=0.25.3->tabula-py) (1.15.0)\n",
            "Installing collected packages: distro, tabula-py\n",
            "Successfully installed distro-1.5.0 tabula-py-2.2.0\n"
          ],
          "name": "stdout"
        }
      ]
    },
    {
      "cell_type": "code",
      "metadata": {
        "colab": {
          "base_uri": "https://localhost:8080/"
        },
        "id": "RMGkh8wMOH6A",
        "outputId": "8310bf77-97f9-42e4-bfda-e61e167e33a5"
      },
      "source": [
        "!pip install japanize-matplotlib"
      ],
      "execution_count": null,
      "outputs": [
        {
          "output_type": "stream",
          "text": [
            "Collecting japanize-matplotlib\n",
            "\u001b[?25l  Downloading https://files.pythonhosted.org/packages/aa/85/08a4b7fe8987582d99d9bb7ad0ff1ec75439359a7f9690a0dbf2dbf98b15/japanize-matplotlib-1.1.3.tar.gz (4.1MB)\n",
            "\u001b[K     |████████████████████████████████| 4.1MB 3.8MB/s \n",
            "\u001b[?25hRequirement already satisfied: matplotlib in /usr/local/lib/python3.6/dist-packages (from japanize-matplotlib) (3.2.2)\n",
            "Requirement already satisfied: numpy>=1.11 in /usr/local/lib/python3.6/dist-packages (from matplotlib->japanize-matplotlib) (1.19.5)\n",
            "Requirement already satisfied: pyparsing!=2.0.4,!=2.1.2,!=2.1.6,>=2.0.1 in /usr/local/lib/python3.6/dist-packages (from matplotlib->japanize-matplotlib) (2.4.7)\n",
            "Requirement already satisfied: kiwisolver>=1.0.1 in /usr/local/lib/python3.6/dist-packages (from matplotlib->japanize-matplotlib) (1.3.1)\n",
            "Requirement already satisfied: python-dateutil>=2.1 in /usr/local/lib/python3.6/dist-packages (from matplotlib->japanize-matplotlib) (2.8.1)\n",
            "Requirement already satisfied: cycler>=0.10 in /usr/local/lib/python3.6/dist-packages (from matplotlib->japanize-matplotlib) (0.10.0)\n",
            "Requirement already satisfied: six>=1.5 in /usr/local/lib/python3.6/dist-packages (from python-dateutil>=2.1->matplotlib->japanize-matplotlib) (1.15.0)\n",
            "Building wheels for collected packages: japanize-matplotlib\n",
            "  Building wheel for japanize-matplotlib (setup.py) ... \u001b[?25l\u001b[?25hdone\n",
            "  Created wheel for japanize-matplotlib: filename=japanize_matplotlib-1.1.3-cp36-none-any.whl size=4120276 sha256=6d8299f1edd2e311f13cf77adca28f2ec5248b337fa246907da05011290985b3\n",
            "  Stored in directory: /root/.cache/pip/wheels/b7/d9/a2/f907d50b32a2d2008ce5d691d30fb6569c2c93eefcfde55202\n",
            "Successfully built japanize-matplotlib\n",
            "Installing collected packages: japanize-matplotlib\n",
            "Successfully installed japanize-matplotlib-1.1.3\n"
          ],
          "name": "stdout"
        }
      ]
    },
    {
      "cell_type": "code",
      "metadata": {
        "id": "QoVgIaTm7OXq"
      },
      "source": [
        "import datetime\n",
        "import hashlib\n",
        "import pathlib\n",
        "import re\n",
        "from urllib.parse import urljoin"
      ],
      "execution_count": null,
      "outputs": []
    },
    {
      "cell_type": "code",
      "metadata": {
        "id": "CUZoBpRY83up"
      },
      "source": [
        "from tabula import read_pdf\n",
        "import pandas as pd\n",
        "import requests\n",
        "from bs4 import BeautifulSoup"
      ],
      "execution_count": null,
      "outputs": []
    },
    {
      "cell_type": "code",
      "metadata": {
        "id": "hVImjMBYOH6B"
      },
      "source": [
        "import matplotlib.pyplot as plt\n",
        "import matplotlib.dates as mdates\n",
        "import japanize_matplotlib"
      ],
      "execution_count": null,
      "outputs": []
    },
    {
      "cell_type": "code",
      "metadata": {
        "id": "UwHtvqMpGuzS"
      },
      "source": [
        "from google.colab import files"
      ],
      "execution_count": null,
      "outputs": []
    },
    {
      "cell_type": "code",
      "metadata": {
        "id": "WeGkqXyQY3Ec"
      },
      "source": [
        "aichi_cities = [\r\n",
        "    \"名古屋市\",\r\n",
        "    \"一宮市\",\r\n",
        "    \"瀬戸市\",\r\n",
        "    \"春日井市\",\r\n",
        "    \"犬山市\",\r\n",
        "    \"江南市\",\r\n",
        "    \"小牧市\",\r\n",
        "    \"稲沢市\",\r\n",
        "    \"尾張旭市\",\r\n",
        "    \"岩倉市\",\r\n",
        "    \"豊明市\",\r\n",
        "    \"日進市\",\r\n",
        "    \"清須市\",\r\n",
        "    \"北名古屋市\",\r\n",
        "    \"長久手市\",\r\n",
        "    \"東郷町\",\r\n",
        "    \"豊山町\",\r\n",
        "    \"大口町\",\r\n",
        "    \"扶桑町\",\r\n",
        "    \"津島市\",\r\n",
        "    \"愛西市\",\r\n",
        "    \"弥富市\",\r\n",
        "    \"あま市\",\r\n",
        "    \"大治町\",\r\n",
        "    \"蟹江町\",\r\n",
        "    \"飛島村\",\r\n",
        "    \"半田市\",\r\n",
        "    \"常滑市\",\r\n",
        "    \"東海市\",\r\n",
        "    \"大府市\",\r\n",
        "    \"知多市\",\r\n",
        "    \"阿久比町\",\r\n",
        "    \"東浦町\",\r\n",
        "    \"南知多町\",\r\n",
        "    \"美浜町\",\r\n",
        "    \"武豊町\",\r\n",
        "    \"岡崎市\",\r\n",
        "    \"碧南市\",\r\n",
        "    \"刈谷市\",\r\n",
        "    \"豊田市\",\r\n",
        "    \"安城市\",\r\n",
        "    \"西尾市\",\r\n",
        "    \"知立市\",\r\n",
        "    \"高浜市\",\r\n",
        "    \"みよし市\",\r\n",
        "    \"幸田町\",\r\n",
        "    \"豊橋市\",\r\n",
        "    \"豊川市\",\r\n",
        "    \"蒲郡市\",\r\n",
        "    \"新城市\",\r\n",
        "    \"田原市\",\r\n",
        "    \"設楽町\",\r\n",
        "    \"東栄町\",\r\n",
        "    \"豊根村\",\r\n",
        "]"
      ],
      "execution_count": null,
      "outputs": []
    },
    {
      "cell_type": "code",
      "metadata": {
        "id": "675EHvaH4maf"
      },
      "source": [
        "ages_list = [\r\n",
        "    \"10歳未満\",\r\n",
        "    \"10代\",\r\n",
        "    \"20代\",\r\n",
        "    \"30代\",\r\n",
        "    \"40代\",\r\n",
        "    \"50代\",\r\n",
        "    \"60代\",\r\n",
        "    \"70代\",\r\n",
        "    \"80代\",\r\n",
        "    \"90代\",\r\n",
        "    \"100代\",\r\n",
        "]"
      ],
      "execution_count": null,
      "outputs": []
    },
    {
      "cell_type": "code",
      "metadata": {
        "id": "OZlDHNRnALyS"
      },
      "source": [
        "def fetch_file(url, filename):\n",
        "\n",
        "    p = pathlib.Path(filename)\n",
        "    p.parent.mkdir(parents=True, exist_ok=True)\n",
        "\n",
        "    if not p.exists():\n",
        "\n",
        "        r = requests.get(url)\n",
        "        r.raise_for_status()\n",
        "\n",
        "        with p.open(mode=\"wb\") as fw:\n",
        "            fw.write(r.content)\n",
        "\n",
        "    return p"
      ],
      "execution_count": null,
      "outputs": []
    },
    {
      "cell_type": "code",
      "metadata": {
        "id": "hMyFDuFxDwg_"
      },
      "source": [
        "def days2date(s):\n",
        "\n",
        "    y = 2021 if s.name > 16576 else 2020\n",
        "\n",
        "    days = re.findall(\"[0-9]{1,2}\", s[\"発表日\"])\n",
        "\n",
        "    if len(days) == 2:\n",
        "        m, d = map(int, days)\n",
        "        return pd.Timestamp(year=y, month=m, day=d)\n",
        "    else:\n",
        "        return pd.NaT"
      ],
      "execution_count": null,
      "outputs": []
    },
    {
      "cell_type": "markdown",
      "metadata": {
        "id": "0-6RNOg4JHdx"
      },
      "source": [
        "# スクレイピング"
      ]
    },
    {
      "cell_type": "code",
      "metadata": {
        "id": "C1xCCln37OXq"
      },
      "source": [
        "url = \"https://www.pref.aichi.jp/site/covid19-aichi/\"\n",
        "\n",
        "headers = {\n",
        "    \"User-Agent\": \"Mozilla/5.0 (Windows NT 10.0; WOW64; Trident/7.0; rv:11.0) like Gecko\"\n",
        "}"
      ],
      "execution_count": null,
      "outputs": []
    },
    {
      "cell_type": "code",
      "metadata": {
        "id": "RCjy-vnJ7KQF"
      },
      "source": [
        "JST = datetime.timezone(datetime.timedelta(hours=+9), \"JST\")\n",
        "dt_now = datetime.datetime.now(JST).replace()"
      ],
      "execution_count": null,
      "outputs": []
    },
    {
      "cell_type": "code",
      "metadata": {
        "id": "DY9l5mrq7OXq"
      },
      "source": [
        "r = requests.get(url, headers=headers)\n",
        "r.raise_for_status()\n",
        "\n",
        "soup = BeautifulSoup(r.content, \"html.parser\")"
      ],
      "execution_count": null,
      "outputs": []
    },
    {
      "cell_type": "markdown",
      "metadata": {
        "id": "-jSHlITO2Qd8"
      },
      "source": [
        "# ファイルチェック"
      ]
    },
    {
      "cell_type": "code",
      "metadata": {
        "id": "y0n0XS8RPSeL"
      },
      "source": [
        "def pdf2df(url, fn):\r\n",
        "\r\n",
        "    fp_pdf = fetch_file(url, fn)\r\n",
        "    fp_pkl = fp_pdf.with_suffix(\".pkl\")\r\n",
        "    fp_sha = fp_pdf.with_suffix(\".sha256\")\r\n",
        "\r\n",
        "    hash = \"\"\r\n",
        "    filename = \"\"\r\n",
        "\r\n",
        "    # hashファイル確認\r\n",
        "    if fp_sha.exists():\r\n",
        "\r\n",
        "        hash, filename = fp_sha.read_text().split()\r\n",
        "\r\n",
        "    checksum = hashlib.sha256(fp_pdf.read_bytes()).hexdigest()\r\n",
        "\r\n",
        "    print(checksum)\r\n",
        "\r\n",
        "    # hashとファイル名とpickle確認\r\n",
        "    if (hash == checksum) and (fn == filename) and fp_pkl.exists():\r\n",
        "\r\n",
        "        df = pd.read_pickle(fp_pkl)\r\n",
        "\r\n",
        "    else:\r\n",
        "        df = pd.concat(read_pdf(fp_pdf, pages=\"all\", lattice=True))\r\n",
        "\r\n",
        "        df.to_pickle(fp_pkl)\r\n",
        "        fp_sha.write_text(f\"{checksum} {fn}\")\r\n",
        "\r\n",
        "    return df"
      ],
      "execution_count": null,
      "outputs": []
    },
    {
      "cell_type": "code",
      "metadata": {
        "id": "kNmn3exZREkT"
      },
      "source": [
        "tags = soup.find(\"span\", text=\"▶ 愛知県内の発生事例\").parent.find_all(\"a\", href=re.compile(\".pdf$\"))\r\n",
        "links = [urljoin(url, i.get(\"href\")) for i in tags[::-1]]"
      ],
      "execution_count": null,
      "outputs": []
    },
    {
      "cell_type": "code",
      "metadata": {
        "colab": {
          "base_uri": "https://localhost:8080/"
        },
        "id": "8CHfc0SpO7Ws",
        "outputId": "234e1069-feaa-439b-c39a-b71cec00b23c"
      },
      "source": [
        "df1 = pdf2df(links[0], \"source1.pdf\")"
      ],
      "execution_count": null,
      "outputs": [
        {
          "output_type": "stream",
          "text": [
            "832e1bbf2fb9b9d7e9bee66c81ee39402569434009bee25c959c020716c98b83\n"
          ],
          "name": "stdout"
        }
      ]
    },
    {
      "cell_type": "code",
      "metadata": {
        "colab": {
          "base_uri": "https://localhost:8080/"
        },
        "id": "qS1E5YJbzOcS",
        "outputId": "fc129b3c-8605-43b0-e0c5-7b59772c10d5"
      },
      "source": [
        "df2 = pdf2df(links[1], \"source2.pdf\")"
      ],
      "execution_count": null,
      "outputs": [
        {
          "output_type": "stream",
          "text": [
            "d7108171ead5f44eb2315afcf7f21013be3e278f577a7f36cb7463ceca93a8ff\n"
          ],
          "name": "stdout"
        }
      ]
    },
    {
      "cell_type": "code",
      "metadata": {
        "id": "crg19vLH9iI-"
      },
      "source": [
        "df = pd.concat([df1, df2]).set_index(\"No\")"
      ],
      "execution_count": null,
      "outputs": []
    },
    {
      "cell_type": "code",
      "metadata": {
        "colab": {
          "base_uri": "https://localhost:8080/"
        },
        "id": "OJEKvR9xVEJp",
        "outputId": "9b8852cd-fbbd-45b2-a557-ed80218e5e17"
      },
      "source": [
        "df.info"
      ],
      "execution_count": null,
      "outputs": [
        {
          "output_type": "execute_result",
          "data": {
            "text/plain": [
              "<bound method DataFrame.info of          発表日  年代・性別   国籍    住居地         接触状況           備考\n",
              "No                                                       \n",
              "1      1月26日  40代男性   中国  中国武漢市           中国        本県発表1\n",
              "2      1月28日  40代男性   中国  中国武漢市           中国        本県発表2\n",
              "3      2月14日  60代男性   日本   名古屋市         アメリカ      名古屋市発表1\n",
              "4      2月15日  60代女性   日本   名古屋市      No.3と接触      名古屋市発表2\n",
              "5      2月16日  60代男性   日本   尾張地方      No.4と接触        本県発表3\n",
              "...      ...    ...  ...    ...          ...          ...\n",
              "24228   2月2日  40代女性  NaN   名古屋市          NaN  名古屋市発表11333\n",
              "24229   2月2日  70代男性  NaN   名古屋市          NaN  名古屋市発表11334\n",
              "24230   2月2日  40代男性  NaN   名古屋市  No.23769と接触  名古屋市発表11335\n",
              "24231   2月2日  30代女性  NaN   名古屋市  No.24008と接触  名古屋市発表11336\n",
              "24232   2月2日  20代男性  NaN    三重県          NaN  名古屋市発表11337\n",
              "\n",
              "[24234 rows x 6 columns]>"
            ]
          },
          "metadata": {
            "tags": []
          },
          "execution_count": 69
        }
      ]
    },
    {
      "cell_type": "code",
      "metadata": {
        "colab": {
          "base_uri": "https://localhost:8080/",
          "height": 143
        },
        "id": "rkgdHVUAVQr4",
        "outputId": "10fbc829-57dd-442b-ab9c-a9c6a50c09a3"
      },
      "source": [
        "df[df[\"発表日\"].isna()]"
      ],
      "execution_count": null,
      "outputs": [
        {
          "output_type": "execute_result",
          "data": {
            "text/html": [
              "<div>\n",
              "<style scoped>\n",
              "    .dataframe tbody tr th:only-of-type {\n",
              "        vertical-align: middle;\n",
              "    }\n",
              "\n",
              "    .dataframe tbody tr th {\n",
              "        vertical-align: top;\n",
              "    }\n",
              "\n",
              "    .dataframe thead th {\n",
              "        text-align: right;\n",
              "    }\n",
              "</style>\n",
              "<table border=\"1\" class=\"dataframe\">\n",
              "  <thead>\n",
              "    <tr style=\"text-align: right;\">\n",
              "      <th></th>\n",
              "      <th>発表日</th>\n",
              "      <th>年代・性別</th>\n",
              "      <th>国籍</th>\n",
              "      <th>住居地</th>\n",
              "      <th>接触状況</th>\n",
              "      <th>備考</th>\n",
              "    </tr>\n",
              "    <tr>\n",
              "      <th>No</th>\n",
              "      <th></th>\n",
              "      <th></th>\n",
              "      <th></th>\n",
              "      <th></th>\n",
              "      <th></th>\n",
              "      <th></th>\n",
              "    </tr>\n",
              "  </thead>\n",
              "  <tbody>\n",
              "    <tr>\n",
              "      <th>※ 11月10日(火)名古屋市による陽性者公表数の修正</th>\n",
              "      <td>NaN</td>\n",
              "      <td>NaN</td>\n",
              "      <td>NaN</td>\n",
              "      <td>NaN</td>\n",
              "      <td>NaN</td>\n",
              "      <td>NaN</td>\n",
              "    </tr>\n",
              "    <tr>\n",
              "      <th>※ 11月10日(火)名古屋市による陽性者公表数の修正</th>\n",
              "      <td>NaN</td>\n",
              "      <td>NaN</td>\n",
              "      <td>NaN</td>\n",
              "      <td>NaN</td>\n",
              "      <td>NaN</td>\n",
              "      <td>NaN</td>\n",
              "    </tr>\n",
              "  </tbody>\n",
              "</table>\n",
              "</div>"
            ],
            "text/plain": [
              "                             発表日 年代・性別   国籍  住居地 接触状況   備考\n",
              "No                                                        \n",
              "※ 11月10日(火)名古屋市による陽性者公表数の修正  NaN   NaN  NaN  NaN  NaN  NaN\n",
              "※ 11月10日(火)名古屋市による陽性者公表数の修正  NaN   NaN  NaN  NaN  NaN  NaN"
            ]
          },
          "metadata": {
            "tags": []
          },
          "execution_count": 71
        }
      ]
    },
    {
      "cell_type": "markdown",
      "metadata": {
        "id": "Pul1GDeFF6Qz"
      },
      "source": [
        "# 前処理"
      ]
    },
    {
      "cell_type": "code",
      "metadata": {
        "id": "i0y2DbPdG6dO"
      },
      "source": [
        "# 発表日が欠損を削除\r\n",
        "df.dropna(subset=[\"発表日\"], inplace=True)"
      ],
      "execution_count": null,
      "outputs": []
    },
    {
      "cell_type": "code",
      "metadata": {
        "id": "Sw-z5s25yNoY"
      },
      "source": [
        "# Noでソート\r\n",
        "df.index = df.index.astype(int)\r\n",
        "df.sort_index(inplace=True)"
      ],
      "execution_count": null,
      "outputs": []
    },
    {
      "cell_type": "code",
      "metadata": {
        "id": "RmdZegcjV3Gp"
      },
      "source": [
        "# 発表日をdatetimeに変換\r\n",
        "number_date = df.apply(days2date, axis=1)"
      ],
      "execution_count": null,
      "outputs": []
    },
    {
      "cell_type": "code",
      "metadata": {
        "id": "CrVNGzgo5kZT"
      },
      "source": [
        "df_date = df[\"発表日\"].str.extract(\"(\\d{1,2})月(\\d{1,2})日\").rename(columns={0: \"month\", 1: \"day\"}).astype(int)\r\n",
        "ser = df_date[\"month\"] - df_date[\"month\"].shift(1, fill_value=0)"
      ],
      "execution_count": null,
      "outputs": []
    },
    {
      "cell_type": "code",
      "metadata": {
        "id": "RIYbLCpN5Uua"
      },
      "source": [
        "# 12から1に変わるとカウント\r\n",
        "df_date[\"year\"] = 2020 + (ser == -11).cumsum()\r\n",
        "\r\n",
        "df[\"発表日\"] = pd.to_datetime(df_date)"
      ],
      "execution_count": null,
      "outputs": []
    },
    {
      "cell_type": "code",
      "metadata": {
        "id": "-dOIq9ECDB0q",
        "colab": {
          "base_uri": "https://localhost:8080/",
          "height": 81
        },
        "outputId": "449b5913-8c72-495f-8d65-bcd4e7aab46a"
      },
      "source": [
        "# Noと違う日付をチェック\r\n",
        "df[df[\"発表日\"] != number_date]"
      ],
      "execution_count": null,
      "outputs": [
        {
          "output_type": "execute_result",
          "data": {
            "text/html": [
              "<div>\n",
              "<style scoped>\n",
              "    .dataframe tbody tr th:only-of-type {\n",
              "        vertical-align: middle;\n",
              "    }\n",
              "\n",
              "    .dataframe tbody tr th {\n",
              "        vertical-align: top;\n",
              "    }\n",
              "\n",
              "    .dataframe thead th {\n",
              "        text-align: right;\n",
              "    }\n",
              "</style>\n",
              "<table border=\"1\" class=\"dataframe\">\n",
              "  <thead>\n",
              "    <tr style=\"text-align: right;\">\n",
              "      <th></th>\n",
              "      <th>発表日</th>\n",
              "      <th>年代・性別</th>\n",
              "      <th>国籍</th>\n",
              "      <th>住居地</th>\n",
              "      <th>接触状況</th>\n",
              "      <th>備考</th>\n",
              "    </tr>\n",
              "    <tr>\n",
              "      <th>No</th>\n",
              "      <th></th>\n",
              "      <th></th>\n",
              "      <th></th>\n",
              "      <th></th>\n",
              "      <th></th>\n",
              "      <th></th>\n",
              "    </tr>\n",
              "  </thead>\n",
              "  <tbody>\n",
              "  </tbody>\n",
              "</table>\n",
              "</div>"
            ],
            "text/plain": [
              "Empty DataFrame\n",
              "Columns: [発表日, 年代・性別, 国籍, 住居地, 接触状況, 備考]\n",
              "Index: []"
            ]
          },
          "metadata": {
            "tags": []
          },
          "execution_count": 24
        }
      ]
    },
    {
      "cell_type": "code",
      "metadata": {
        "id": "iXPQFxjlA-EH",
        "colab": {
          "base_uri": "https://localhost:8080/",
          "height": 81
        },
        "outputId": "dc26d080-c74e-4cc4-fb33-8e1e7a217df8"
      },
      "source": [
        "# 未来の日付チェック\r\n",
        "df[df[\"発表日\"] > dt_now.replace(tzinfo=None)]"
      ],
      "execution_count": null,
      "outputs": [
        {
          "output_type": "execute_result",
          "data": {
            "text/html": [
              "<div>\n",
              "<style scoped>\n",
              "    .dataframe tbody tr th:only-of-type {\n",
              "        vertical-align: middle;\n",
              "    }\n",
              "\n",
              "    .dataframe tbody tr th {\n",
              "        vertical-align: top;\n",
              "    }\n",
              "\n",
              "    .dataframe thead th {\n",
              "        text-align: right;\n",
              "    }\n",
              "</style>\n",
              "<table border=\"1\" class=\"dataframe\">\n",
              "  <thead>\n",
              "    <tr style=\"text-align: right;\">\n",
              "      <th></th>\n",
              "      <th>発表日</th>\n",
              "      <th>年代・性別</th>\n",
              "      <th>国籍</th>\n",
              "      <th>住居地</th>\n",
              "      <th>接触状況</th>\n",
              "      <th>備考</th>\n",
              "    </tr>\n",
              "    <tr>\n",
              "      <th>No</th>\n",
              "      <th></th>\n",
              "      <th></th>\n",
              "      <th></th>\n",
              "      <th></th>\n",
              "      <th></th>\n",
              "      <th></th>\n",
              "    </tr>\n",
              "  </thead>\n",
              "  <tbody>\n",
              "  </tbody>\n",
              "</table>\n",
              "</div>"
            ],
            "text/plain": [
              "Empty DataFrame\n",
              "Columns: [発表日, 年代・性別, 国籍, 住居地, 接触状況, 備考]\n",
              "Index: []"
            ]
          },
          "metadata": {
            "tags": []
          },
          "execution_count": 25
        }
      ]
    },
    {
      "cell_type": "code",
      "metadata": {
        "id": "U1MbdTftGeyh"
      },
      "source": [
        "cjk = str.maketrans(\"⻲⻑黑戶⻯⻄⻘⻤\", \"亀長黒戸竜西青鬼\")"
      ],
      "execution_count": null,
      "outputs": []
    },
    {
      "cell_type": "code",
      "metadata": {
        "id": "ANzpyFxPGPVB"
      },
      "source": [
        "# 文字コード正規化\r\n",
        "df[\"住居地\"] = df[\"住居地\"].fillna(\"\").str.normalize(\"NFKC\")\r\n",
        "df[\"住居地\"] = df[\"住居地\"].apply(lambda s: s.translate(cjk))\r\n",
        "\r\n",
        "df[\"年代・性別\"] = df[\"年代・性別\"].str.normalize(\"NFKC\").str.replace(\" \", \"\")"
      ],
      "execution_count": null,
      "outputs": []
    },
    {
      "cell_type": "code",
      "metadata": {
        "id": "vnnD9IfhHcm3"
      },
      "source": [
        "# 年代と性別を分割\r\n",
        "df_ages = df[\"年代・性別\"].str.extract(\"(.+)(男性|女性|その他)\").rename(columns={0: \"年代\", 1: \"性別\"})\r\n",
        "df = df.join(df_ages)"
      ],
      "execution_count": null,
      "outputs": []
    },
    {
      "cell_type": "code",
      "metadata": {
        "id": "i8lFEjoLJV-n"
      },
      "source": [
        "# 前後の空白削除\r\n",
        "df[\"年代\"] = df[\"年代\"].str.strip()"
      ],
      "execution_count": null,
      "outputs": []
    },
    {
      "cell_type": "code",
      "metadata": {
        "id": "YKDA_3plPeeH"
      },
      "source": [
        "df.to_csv(\"aichi.csv\", encoding=\"utf_8_sig\")\r\n",
        "# files.download(\"aichi.csv\")"
      ],
      "execution_count": null,
      "outputs": []
    },
    {
      "cell_type": "markdown",
      "metadata": {
        "id": "1aL6uRg6yAyU"
      },
      "source": [
        "# 抽出"
      ]
    },
    {
      "cell_type": "code",
      "metadata": {
        "id": "E2pllNCeytJg"
      },
      "source": [
        "flag = (\r\n",
        "    (df[\"接触状況\"].str.contains(\"再感染\"))\r\n",
        "    | (df[\"住居地\"] == \"中国武漢市\")\r\n",
        "    | df.index.isin((1095, 1610, 2085, 2536, 8896, 12906))\r\n",
        ")"
      ],
      "execution_count": null,
      "outputs": []
    },
    {
      "cell_type": "code",
      "metadata": {
        "id": "EVPRcf_Kyx1U",
        "colab": {
          "base_uri": "https://localhost:8080/"
        },
        "outputId": "64cb6c33-43ba-4808-e8b6-eb0109669eb1"
      },
      "source": [
        "flag.sum()"
      ],
      "execution_count": null,
      "outputs": [
        {
          "output_type": "execute_result",
          "data": {
            "text/plain": [
              "30"
            ]
          },
          "metadata": {
            "tags": []
          },
          "execution_count": 32
        }
      ]
    },
    {
      "cell_type": "code",
      "metadata": {
        "id": "-S89xysf0fpG",
        "colab": {
          "base_uri": "https://localhost:8080/",
          "height": 1000
        },
        "outputId": "d3cc5840-4f84-48d6-c5cf-f6b95c966e50"
      },
      "source": [
        "df[flag]"
      ],
      "execution_count": null,
      "outputs": [
        {
          "output_type": "execute_result",
          "data": {
            "text/html": [
              "<div>\n",
              "<style scoped>\n",
              "    .dataframe tbody tr th:only-of-type {\n",
              "        vertical-align: middle;\n",
              "    }\n",
              "\n",
              "    .dataframe tbody tr th {\n",
              "        vertical-align: top;\n",
              "    }\n",
              "\n",
              "    .dataframe thead th {\n",
              "        text-align: right;\n",
              "    }\n",
              "</style>\n",
              "<table border=\"1\" class=\"dataframe\">\n",
              "  <thead>\n",
              "    <tr style=\"text-align: right;\">\n",
              "      <th></th>\n",
              "      <th>発表日</th>\n",
              "      <th>年代・性別</th>\n",
              "      <th>国籍</th>\n",
              "      <th>住居地</th>\n",
              "      <th>接触状況</th>\n",
              "      <th>備考</th>\n",
              "      <th>年代</th>\n",
              "      <th>性別</th>\n",
              "    </tr>\n",
              "    <tr>\n",
              "      <th>No</th>\n",
              "      <th></th>\n",
              "      <th></th>\n",
              "      <th></th>\n",
              "      <th></th>\n",
              "      <th></th>\n",
              "      <th></th>\n",
              "      <th></th>\n",
              "      <th></th>\n",
              "    </tr>\n",
              "  </thead>\n",
              "  <tbody>\n",
              "    <tr>\n",
              "      <th>1</th>\n",
              "      <td>2020-01-26</td>\n",
              "      <td>40代男性</td>\n",
              "      <td>中国</td>\n",
              "      <td>中国武漢市</td>\n",
              "      <td>中国</td>\n",
              "      <td>本県発表1</td>\n",
              "      <td>40代</td>\n",
              "      <td>男性</td>\n",
              "    </tr>\n",
              "    <tr>\n",
              "      <th>2</th>\n",
              "      <td>2020-01-28</td>\n",
              "      <td>40代男性</td>\n",
              "      <td>中国</td>\n",
              "      <td>中国武漢市</td>\n",
              "      <td>中国</td>\n",
              "      <td>本県発表2</td>\n",
              "      <td>40代</td>\n",
              "      <td>男性</td>\n",
              "    </tr>\n",
              "    <tr>\n",
              "      <th>190</th>\n",
              "      <td>2020-04-02</td>\n",
              "      <td>40代女性</td>\n",
              "      <td>日本</td>\n",
              "      <td>名古屋市</td>\n",
              "      <td>再感染(No.54)</td>\n",
              "      <td>名古屋市発表127</td>\n",
              "      <td>40代</td>\n",
              "      <td>女性</td>\n",
              "    </tr>\n",
              "    <tr>\n",
              "      <th>356</th>\n",
              "      <td>2020-04-15</td>\n",
              "      <td>20代女性</td>\n",
              "      <td>NaN</td>\n",
              "      <td>名古屋市</td>\n",
              "      <td>再感染(No.35)</td>\n",
              "      <td>名古屋市発表204</td>\n",
              "      <td>20代</td>\n",
              "      <td>女性</td>\n",
              "    </tr>\n",
              "    <tr>\n",
              "      <th>391</th>\n",
              "      <td>2020-04-18</td>\n",
              "      <td>90代女性</td>\n",
              "      <td>NaN</td>\n",
              "      <td>名古屋市</td>\n",
              "      <td>再感染(No.85)</td>\n",
              "      <td>名古屋市発表224</td>\n",
              "      <td>90代</td>\n",
              "      <td>女性</td>\n",
              "    </tr>\n",
              "    <tr>\n",
              "      <th>392</th>\n",
              "      <td>2020-04-18</td>\n",
              "      <td>60代男性</td>\n",
              "      <td>NaN</td>\n",
              "      <td>名古屋市</td>\n",
              "      <td>再感染(No.154)</td>\n",
              "      <td>名古屋市発表225</td>\n",
              "      <td>60代</td>\n",
              "      <td>男性</td>\n",
              "    </tr>\n",
              "    <tr>\n",
              "      <th>491</th>\n",
              "      <td>2020-05-03</td>\n",
              "      <td>60代女性</td>\n",
              "      <td>日本</td>\n",
              "      <td>知多市</td>\n",
              "      <td>再感染(No.353)</td>\n",
              "      <td>本県発表197</td>\n",
              "      <td>60代</td>\n",
              "      <td>女性</td>\n",
              "    </tr>\n",
              "    <tr>\n",
              "      <th>506</th>\n",
              "      <td>2020-05-14</td>\n",
              "      <td>30代女性</td>\n",
              "      <td>NaN</td>\n",
              "      <td>名古屋市</td>\n",
              "      <td>再感染(No.355)</td>\n",
              "      <td>名古屋市発表277</td>\n",
              "      <td>30代</td>\n",
              "      <td>女性</td>\n",
              "    </tr>\n",
              "    <tr>\n",
              "      <th>520</th>\n",
              "      <td>2020-06-15</td>\n",
              "      <td>70代男性</td>\n",
              "      <td>NaN</td>\n",
              "      <td>名古屋市</td>\n",
              "      <td>再感染(No.500)</td>\n",
              "      <td>名古屋市発表283</td>\n",
              "      <td>70代</td>\n",
              "      <td>男性</td>\n",
              "    </tr>\n",
              "    <tr>\n",
              "      <th>1095</th>\n",
              "      <td>2020-07-26</td>\n",
              "      <td>30代女性</td>\n",
              "      <td>NaN</td>\n",
              "      <td>名古屋市</td>\n",
              "      <td>No.762と接触</td>\n",
              "      <td>名古屋市発表621</td>\n",
              "      <td>30代</td>\n",
              "      <td>女性</td>\n",
              "    </tr>\n",
              "    <tr>\n",
              "      <th>1610</th>\n",
              "      <td>2020-07-30</td>\n",
              "      <td>20代男性</td>\n",
              "      <td>NaN</td>\n",
              "      <td>名古屋市</td>\n",
              "      <td>No.994と接触</td>\n",
              "      <td>名古屋市発表925</td>\n",
              "      <td>20代</td>\n",
              "      <td>男性</td>\n",
              "    </tr>\n",
              "    <tr>\n",
              "      <th>2085</th>\n",
              "      <td>2020-08-02</td>\n",
              "      <td>40代女性</td>\n",
              "      <td>NaN</td>\n",
              "      <td>名古屋市</td>\n",
              "      <td>NaN</td>\n",
              "      <td>名古屋市発表1180</td>\n",
              "      <td>40代</td>\n",
              "      <td>女性</td>\n",
              "    </tr>\n",
              "    <tr>\n",
              "      <th>2536</th>\n",
              "      <td>2020-08-05</td>\n",
              "      <td>20代女性</td>\n",
              "      <td>NaN</td>\n",
              "      <td>名古屋市</td>\n",
              "      <td>NaN</td>\n",
              "      <td>名古屋市発表1435</td>\n",
              "      <td>20代</td>\n",
              "      <td>女性</td>\n",
              "    </tr>\n",
              "    <tr>\n",
              "      <th>4377</th>\n",
              "      <td>2020-08-28</td>\n",
              "      <td>20代男性</td>\n",
              "      <td>NaN</td>\n",
              "      <td>春日井市</td>\n",
              "      <td>再感染(No.1642)</td>\n",
              "      <td>本県発表1613</td>\n",
              "      <td>20代</td>\n",
              "      <td>男性</td>\n",
              "    </tr>\n",
              "    <tr>\n",
              "      <th>4586</th>\n",
              "      <td>2020-09-02</td>\n",
              "      <td>30代男性</td>\n",
              "      <td>NaN</td>\n",
              "      <td>知立市</td>\n",
              "      <td>No.4466と接触、再感染(No.1203)</td>\n",
              "      <td>本県発表1700</td>\n",
              "      <td>30代</td>\n",
              "      <td>男性</td>\n",
              "    </tr>\n",
              "    <tr>\n",
              "      <th>4739</th>\n",
              "      <td>2020-09-08</td>\n",
              "      <td>40代女性</td>\n",
              "      <td>NaN</td>\n",
              "      <td>安城市</td>\n",
              "      <td>再感染(No.1484)</td>\n",
              "      <td>本県発表1758</td>\n",
              "      <td>40代</td>\n",
              "      <td>女性</td>\n",
              "    </tr>\n",
              "    <tr>\n",
              "      <th>8896</th>\n",
              "      <td>2020-11-23</td>\n",
              "      <td>60代男性</td>\n",
              "      <td>NaN</td>\n",
              "      <td>名古屋市</td>\n",
              "      <td>NaN</td>\n",
              "      <td>名古屋市発表4685</td>\n",
              "      <td>60代</td>\n",
              "      <td>男性</td>\n",
              "    </tr>\n",
              "    <tr>\n",
              "      <th>11475</th>\n",
              "      <td>2020-12-08</td>\n",
              "      <td>50代男性</td>\n",
              "      <td>NaN</td>\n",
              "      <td>長久手市</td>\n",
              "      <td>再感染(No.4877)</td>\n",
              "      <td>本県発表4333</td>\n",
              "      <td>50代</td>\n",
              "      <td>男性</td>\n",
              "    </tr>\n",
              "    <tr>\n",
              "      <th>12906</th>\n",
              "      <td>2020-12-15</td>\n",
              "      <td>20代女性</td>\n",
              "      <td>NaN</td>\n",
              "      <td>津島市</td>\n",
              "      <td>NaN</td>\n",
              "      <td>本県発表5005</td>\n",
              "      <td>20代</td>\n",
              "      <td>女性</td>\n",
              "    </tr>\n",
              "    <tr>\n",
              "      <th>13085</th>\n",
              "      <td>2020-12-16</td>\n",
              "      <td>10代女性</td>\n",
              "      <td>NaN</td>\n",
              "      <td>小牧市</td>\n",
              "      <td>再感染(No.6653)</td>\n",
              "      <td>本県発表5069</td>\n",
              "      <td>10代</td>\n",
              "      <td>女性</td>\n",
              "    </tr>\n",
              "    <tr>\n",
              "      <th>13525</th>\n",
              "      <td>2020-12-17</td>\n",
              "      <td>30代女性</td>\n",
              "      <td>NaN</td>\n",
              "      <td>名古屋市</td>\n",
              "      <td>再感染(No.3774)</td>\n",
              "      <td>名古屋市発表6914</td>\n",
              "      <td>30代</td>\n",
              "      <td>女性</td>\n",
              "    </tr>\n",
              "    <tr>\n",
              "      <th>13687</th>\n",
              "      <td>2020-12-18</td>\n",
              "      <td>10歳未満女性</td>\n",
              "      <td>NaN</td>\n",
              "      <td>名古屋市</td>\n",
              "      <td>再感染(No.5587)</td>\n",
              "      <td>名古屋市発表6942</td>\n",
              "      <td>10歳未満</td>\n",
              "      <td>女性</td>\n",
              "    </tr>\n",
              "    <tr>\n",
              "      <th>19531</th>\n",
              "      <td>2021-01-11</td>\n",
              "      <td>10代女性</td>\n",
              "      <td>NaN</td>\n",
              "      <td>豊田市</td>\n",
              "      <td>No.18120と接触、再感染</td>\n",
              "      <td>豊N田o.市73発61表)817</td>\n",
              "      <td>10代</td>\n",
              "      <td>女性</td>\n",
              "    </tr>\n",
              "    <tr>\n",
              "      <th>19532</th>\n",
              "      <td>2021-01-11</td>\n",
              "      <td>10代男性</td>\n",
              "      <td>NaN</td>\n",
              "      <td>豊田市</td>\n",
              "      <td>No.18120と接触、再感染</td>\n",
              "      <td>豊N田o.市73発62表)818</td>\n",
              "      <td>10代</td>\n",
              "      <td>男性</td>\n",
              "    </tr>\n",
              "    <tr>\n",
              "      <th>19770</th>\n",
              "      <td>2021-01-12</td>\n",
              "      <td>80代男性</td>\n",
              "      <td>NaN</td>\n",
              "      <td>名古屋市</td>\n",
              "      <td>再感染(No.15172)</td>\n",
              "      <td>名古屋市発表9681</td>\n",
              "      <td>80代</td>\n",
              "      <td>男性</td>\n",
              "    </tr>\n",
              "    <tr>\n",
              "      <th>20403</th>\n",
              "      <td>2021-01-14</td>\n",
              "      <td>20代男性</td>\n",
              "      <td>NaN</td>\n",
              "      <td>名古屋市</td>\n",
              "      <td>再感染(No.15384)</td>\n",
              "      <td>名古屋市発表9909</td>\n",
              "      <td>20代</td>\n",
              "      <td>男性</td>\n",
              "    </tr>\n",
              "    <tr>\n",
              "      <th>21078</th>\n",
              "      <td>2021-01-16</td>\n",
              "      <td>60代男性</td>\n",
              "      <td>NaN</td>\n",
              "      <td>名古屋市</td>\n",
              "      <td>再感染(No.13970)</td>\n",
              "      <td>名古屋市発表10143</td>\n",
              "      <td>60代</td>\n",
              "      <td>男性</td>\n",
              "    </tr>\n",
              "    <tr>\n",
              "      <th>21939</th>\n",
              "      <td>2021-01-20</td>\n",
              "      <td>50代女性</td>\n",
              "      <td>NaN</td>\n",
              "      <td>名古屋市</td>\n",
              "      <td>再感染(No.18198)</td>\n",
              "      <td>名古屋市発表10452</td>\n",
              "      <td>50代</td>\n",
              "      <td>女性</td>\n",
              "    </tr>\n",
              "    <tr>\n",
              "      <th>23650</th>\n",
              "      <td>2021-01-29</td>\n",
              "      <td>70代男性</td>\n",
              "      <td>NaN</td>\n",
              "      <td>日進市</td>\n",
              "      <td>No.14691と接触、再感染</td>\n",
              "      <td>本N県o.発13表0797)00</td>\n",
              "      <td>70代</td>\n",
              "      <td>男性</td>\n",
              "    </tr>\n",
              "    <tr>\n",
              "      <th>24064</th>\n",
              "      <td>2021-02-01</td>\n",
              "      <td>20代男性</td>\n",
              "      <td>NaN</td>\n",
              "      <td>知多市</td>\n",
              "      <td>再感染(No.5599)</td>\n",
              "      <td>本県発表9841</td>\n",
              "      <td>20代</td>\n",
              "      <td>男性</td>\n",
              "    </tr>\n",
              "  </tbody>\n",
              "</table>\n",
              "</div>"
            ],
            "text/plain": [
              "             発表日    年代・性別   国籍  ...                備考     年代  性別\n",
              "No                              ...                             \n",
              "1     2020-01-26    40代男性   中国  ...             本県発表1    40代  男性\n",
              "2     2020-01-28    40代男性   中国  ...             本県発表2    40代  男性\n",
              "190   2020-04-02    40代女性   日本  ...         名古屋市発表127    40代  女性\n",
              "356   2020-04-15    20代女性  NaN  ...         名古屋市発表204    20代  女性\n",
              "391   2020-04-18    90代女性  NaN  ...         名古屋市発表224    90代  女性\n",
              "392   2020-04-18    60代男性  NaN  ...         名古屋市発表225    60代  男性\n",
              "491   2020-05-03    60代女性   日本  ...           本県発表197    60代  女性\n",
              "506   2020-05-14    30代女性  NaN  ...         名古屋市発表277    30代  女性\n",
              "520   2020-06-15    70代男性  NaN  ...         名古屋市発表283    70代  男性\n",
              "1095  2020-07-26    30代女性  NaN  ...         名古屋市発表621    30代  女性\n",
              "1610  2020-07-30    20代男性  NaN  ...         名古屋市発表925    20代  男性\n",
              "2085  2020-08-02    40代女性  NaN  ...        名古屋市発表1180    40代  女性\n",
              "2536  2020-08-05    20代女性  NaN  ...        名古屋市発表1435    20代  女性\n",
              "4377  2020-08-28    20代男性  NaN  ...          本県発表1613    20代  男性\n",
              "4586  2020-09-02    30代男性  NaN  ...          本県発表1700    30代  男性\n",
              "4739  2020-09-08    40代女性  NaN  ...          本県発表1758    40代  女性\n",
              "8896  2020-11-23    60代男性  NaN  ...        名古屋市発表4685    60代  男性\n",
              "11475 2020-12-08    50代男性  NaN  ...          本県発表4333    50代  男性\n",
              "12906 2020-12-15    20代女性  NaN  ...          本県発表5005    20代  女性\n",
              "13085 2020-12-16    10代女性  NaN  ...          本県発表5069    10代  女性\n",
              "13525 2020-12-17    30代女性  NaN  ...        名古屋市発表6914    30代  女性\n",
              "13687 2020-12-18  10歳未満女性  NaN  ...        名古屋市発表6942  10歳未満  女性\n",
              "19531 2021-01-11    10代女性  NaN  ...  豊N田o.市73発61表)817    10代  女性\n",
              "19532 2021-01-11    10代男性  NaN  ...  豊N田o.市73発62表)818    10代  男性\n",
              "19770 2021-01-12    80代男性  NaN  ...        名古屋市発表9681    80代  男性\n",
              "20403 2021-01-14    20代男性  NaN  ...        名古屋市発表9909    20代  男性\n",
              "21078 2021-01-16    60代男性  NaN  ...       名古屋市発表10143    60代  男性\n",
              "21939 2021-01-20    50代女性  NaN  ...       名古屋市発表10452    50代  女性\n",
              "23650 2021-01-29    70代男性  NaN  ...  本N県o.発13表0797)00    70代  男性\n",
              "24064 2021-02-01    20代男性  NaN  ...          本県発表9841    20代  男性\n",
              "\n",
              "[30 rows x 8 columns]"
            ]
          },
          "metadata": {
            "tags": []
          },
          "execution_count": 33
        }
      ]
    },
    {
      "cell_type": "code",
      "metadata": {
        "id": "Z7Po42wMyAFw"
      },
      "source": [
        "df = df[~flag]"
      ],
      "execution_count": null,
      "outputs": []
    },
    {
      "cell_type": "markdown",
      "metadata": {
        "id": "3oBqBYBWlwoi"
      },
      "source": [
        "# 陽性者数"
      ]
    },
    {
      "cell_type": "code",
      "metadata": {
        "id": "LHCWc-XSQroH"
      },
      "source": [
        "s = df[\"発表日\"].value_counts().sort_index().asfreq(\"D\", fill_value=0)"
      ],
      "execution_count": null,
      "outputs": []
    },
    {
      "cell_type": "code",
      "metadata": {
        "id": "ioaZHD41QgBB",
        "colab": {
          "base_uri": "https://localhost:8080/",
          "height": 293
        },
        "outputId": "843911ec-4466-4388-8433-bee74aa25576"
      },
      "source": [
        "locator = mdates.AutoDateLocator()\r\n",
        "formatter = mdates.ConciseDateFormatter(locator)\r\n",
        "fig, ax = plt.subplots()\r\n",
        "\r\n",
        "ax.xaxis.set_major_locator(locator)\r\n",
        "ax.xaxis.set_major_formatter(formatter)\r\n",
        "\r\n",
        "ax.bar(s.index, s, width=1)"
      ],
      "execution_count": null,
      "outputs": [
        {
          "output_type": "execute_result",
          "data": {
            "text/plain": [
              "<BarContainer object of 355 artists>"
            ]
          },
          "metadata": {
            "tags": []
          },
          "execution_count": 36
        },
        {
          "output_type": "display_data",
          "data": {
            "image/png": "[encoded data removed]",
            "text/plain": [
              "<Figure size 432x288 with 1 Axes>"
            ]
          },
          "metadata": {
            "tags": [],
            "needs_background": "light"
          }
        }
      ]
    },
    {
      "cell_type": "code",
      "metadata": {
        "id": "YjamriGRopIA",
        "colab": {
          "base_uri": "https://localhost:8080/"
        },
        "outputId": "bdb12819-5bed-4c94-8ba7-2e5030549308"
      },
      "source": [
        "# 直近14日\r\n",
        "s.tail(14)"
      ],
      "execution_count": null,
      "outputs": [
        {
          "output_type": "execute_result",
          "data": {
            "text/plain": [
              "2021-01-20    245\n",
              "2021-01-21    270\n",
              "2021-01-22    246\n",
              "2021-01-23    246\n",
              "2021-01-24    164\n",
              "2021-01-25     89\n",
              "2021-01-26    215\n",
              "2021-01-27    227\n",
              "2021-01-28    244\n",
              "2021-01-29    163\n",
              "2021-01-30    126\n",
              "2021-01-31    121\n",
              "2021-02-01     79\n",
              "2021-02-02    101\n",
              "Freq: D, Name: 発表日, dtype: int64"
            ]
          },
          "metadata": {
            "tags": []
          },
          "execution_count": 37
        }
      ]
    },
    {
      "cell_type": "code",
      "metadata": {
        "id": "qZleCDceM5aB",
        "colab": {
          "base_uri": "https://localhost:8080/",
          "height": 377
        },
        "outputId": "cfeadd51-5b12-48de-f57a-f266ccfe9ba8"
      },
      "source": [
        "s.tail(30).plot.bar()"
      ],
      "execution_count": null,
      "outputs": [
        {
          "output_type": "execute_result",
          "data": {
            "text/plain": [
              "<matplotlib.axes._subplots.AxesSubplot at 0x7f1507e41630>"
            ]
          },
          "metadata": {
            "tags": []
          },
          "execution_count": 38
        },
        {
          "output_type": "display_data",
          "data": {
            "image/png": "[encoded data removed]",
            "text/plain": [
              "<Figure size 432x288 with 1 Axes>"
            ]
          },
          "metadata": {
            "tags": [],
            "needs_background": "light"
          }
        }
      ]
    },
    {
      "cell_type": "markdown",
      "metadata": {
        "id": "eD0wbgivHOq6"
      },
      "source": [
        "# 住所地"
      ]
    },
    {
      "cell_type": "markdown",
      "metadata": {
        "id": "av9IrZO2J7yh"
      },
      "source": [
        "## 県内"
      ]
    },
    {
      "cell_type": "code",
      "metadata": {
        "id": "4zrPjWMlKItr"
      },
      "source": [
        "df_kennai = df[df[\"住居地\"].isin(aichi_cities)]"
      ],
      "execution_count": null,
      "outputs": []
    },
    {
      "cell_type": "code",
      "metadata": {
        "id": "sqQKINKzmRKa",
        "colab": {
          "base_uri": "https://localhost:8080/",
          "height": 608
        },
        "outputId": "5ea105b1-e991-4cf5-f2f8-91b6980e3706"
      },
      "source": [
        "# 県内\r\n",
        "df_kennai[\"住居地\"].value_counts().plot.barh(figsize=(5, 10))"
      ],
      "execution_count": null,
      "outputs": [
        {
          "output_type": "execute_result",
          "data": {
            "text/plain": [
              "<matplotlib.axes._subplots.AxesSubplot at 0x7f1507c85048>"
            ]
          },
          "metadata": {
            "tags": []
          },
          "execution_count": 40
        },
        {
          "output_type": "display_data",
          "data": {
            "image/png": "[encoded data removed]",
            "text/plain": [
              "<Figure size 360x720 with 1 Axes>"
            ]
          },
          "metadata": {
            "tags": [],
            "needs_background": "light"
          }
        }
      ]
    },
    {
      "cell_type": "code",
      "metadata": {
        "id": "TrFZYCuxJ1Ih",
        "colab": {
          "base_uri": "https://localhost:8080/"
        },
        "outputId": "b9922177-d862-486e-d63d-5781c2d9ec62"
      },
      "source": [
        "df_kennai[\"住居地\"].value_counts()"
      ],
      "execution_count": null,
      "outputs": [
        {
          "output_type": "execute_result",
          "data": {
            "text/plain": [
              "名古屋市     11260\n",
              "豊田市       1120\n",
              "豊橋市       1003\n",
              "一宮市        967\n",
              "春日井市       887\n",
              "岡崎市        876\n",
              "小牧市        489\n",
              "豊川市        368\n",
              "西尾市        364\n",
              "あま市        341\n",
              "瀬戸市        329\n",
              "刈谷市        325\n",
              "東海市        309\n",
              "稲沢市        292\n",
              "安城市        284\n",
              "日進市        269\n",
              "北名古屋市      269\n",
              "江南市        264\n",
              "半田市        255\n",
              "尾張旭市       218\n",
              "知多市        214\n",
              "清須市        207\n",
              "知立市        193\n",
              "蒲郡市        181\n",
              "愛西市        180\n",
              "大府市        175\n",
              "蟹江町        168\n",
              "碧南市        165\n",
              "津島市        162\n",
              "弥富市        157\n",
              "犬山市        140\n",
              "長久手市       139\n",
              "岩倉市        134\n",
              "豊明市        130\n",
              "みよし市       123\n",
              "幸田町        114\n",
              "大治町        110\n",
              "東郷町         99\n",
              "扶桑町         96\n",
              "武豊町         86\n",
              "常滑市         86\n",
              "東浦町         86\n",
              "高浜市         77\n",
              "大口町         67\n",
              "田原市         67\n",
              "豊山町         52\n",
              "新城市         49\n",
              "阿久比町        33\n",
              "美浜町         26\n",
              "南知多町        24\n",
              "飛島村         17\n",
              "東栄町          3\n",
              "設楽町          2\n",
              "豊根村          1\n",
              "Name: 住居地, dtype: int64"
            ]
          },
          "metadata": {
            "tags": []
          },
          "execution_count": 41
        }
      ]
    },
    {
      "cell_type": "code",
      "metadata": {
        "id": "-DWjd2qRKrIQ"
      },
      "source": [
        "df_kennai.to_csv(\"kennai.csv\", encoding=\"utf_8_sig\")\r\n",
        "# files.download(\"kennai.csv\")"
      ],
      "execution_count": null,
      "outputs": []
    },
    {
      "cell_type": "markdown",
      "metadata": {
        "id": "SHCWx-kIKCNB"
      },
      "source": [
        "## 県外"
      ]
    },
    {
      "cell_type": "code",
      "metadata": {
        "id": "nGIark2wY6LT"
      },
      "source": [
        "df_kengai = df[~df[\"住居地\"].isin(aichi_cities)]"
      ],
      "execution_count": null,
      "outputs": []
    },
    {
      "cell_type": "code",
      "metadata": {
        "id": "L9S_PFK6SaJ_",
        "colab": {
          "base_uri": "https://localhost:8080/",
          "height": 608
        },
        "outputId": "7381aca1-2cab-4e68-9a92-86b0a02de44e"
      },
      "source": [
        "# 県外\r\n",
        "df_kengai[\"住居地\"].value_counts().plot.barh(figsize=(5, 10))"
      ],
      "execution_count": null,
      "outputs": [
        {
          "output_type": "execute_result",
          "data": {
            "text/plain": [
              "<matplotlib.axes._subplots.AxesSubplot at 0x7f1507b62978>"
            ]
          },
          "metadata": {
            "tags": []
          },
          "execution_count": 44
        },
        {
          "output_type": "display_data",
          "data": {
            "image/png": "[encoded data removed]",
            "text/plain": [
              "<Figure size 360x720 with 1 Axes>"
            ]
          },
          "metadata": {
            "tags": [],
            "needs_background": "light"
          }
        }
      ]
    },
    {
      "cell_type": "code",
      "metadata": {
        "id": "-rNPeckuGZiL",
        "colab": {
          "base_uri": "https://localhost:8080/"
        },
        "outputId": "f5ec44b8-8b58-409a-f769-58c714d2295e"
      },
      "source": [
        "df_kengai[\"住居地\"].value_counts()"
      ],
      "execution_count": null,
      "outputs": [
        {
          "output_type": "execute_result",
          "data": {
            "text/plain": [
              "岐阜県        35\n",
              "東京都        27\n",
              "三重県        24\n",
              "尾張地方       11\n",
              "京都府         5\n",
              "神奈川県        5\n",
              "大阪府         5\n",
              "三河地方        5\n",
              "静岡県         5\n",
              "兵庫県         3\n",
              "千葉県         3\n",
              "茨城県         3\n",
              "福岡県         2\n",
              "福井県         2\n",
              "沖縄県         2\n",
              "岐阜市         1\n",
              "奈良県         1\n",
              "愛媛県         1\n",
              "北海道         1\n",
              "不定          1\n",
              "可児市         1\n",
              "熊本県         1\n",
              "一宮保健所管内     1\n",
              "群馬県         1\n",
              "土岐市         1\n",
              "滋賀県         1\n",
              "石川県         1\n",
              "            1\n",
              "Name: 住居地, dtype: int64"
            ]
          },
          "metadata": {
            "tags": []
          },
          "execution_count": 45
        }
      ]
    },
    {
      "cell_type": "code",
      "metadata": {
        "id": "stJehDPlGfFa"
      },
      "source": [
        "df_kengai.to_csv(\"kengai.csv\", encoding=\"utf_8_sig\")\n",
        "# files.download(\"kengai.csv\")"
      ],
      "execution_count": null,
      "outputs": []
    },
    {
      "cell_type": "markdown",
      "metadata": {
        "id": "90sg7yzVX14e"
      },
      "source": [
        "## 置換"
      ]
    },
    {
      "cell_type": "code",
      "metadata": {
        "id": "Tp0dVUAISme_"
      },
      "source": [
        "# 県外に置換\r\n",
        "df[\"住居地\"] = df[\"住居地\"].where(df[\"住居地\"].isin(aichi_cities), \"県外\")"
      ],
      "execution_count": null,
      "outputs": []
    },
    {
      "cell_type": "code",
      "metadata": {
        "id": "4swryofKPufv",
        "colab": {
          "base_uri": "https://localhost:8080/",
          "height": 879
        },
        "outputId": "3153c7e6-3ddd-4fb6-f268-45722f56f6db"
      },
      "source": [
        "df[\"住居地\"].value_counts().plot.barh(figsize=(5, 15))"
      ],
      "execution_count": null,
      "outputs": [
        {
          "output_type": "execute_result",
          "data": {
            "text/plain": [
              "<matplotlib.axes._subplots.AxesSubplot at 0x7f15058727b8>"
            ]
          },
          "metadata": {
            "tags": []
          },
          "execution_count": 48
        },
        {
          "output_type": "display_data",
          "data": {
            "image/png": "[encoded data removed]",
            "text/plain": [
              "<Figure size 360x1080 with 1 Axes>"
            ]
          },
          "metadata": {
            "tags": [],
            "needs_background": "light"
          }
        }
      ]
    },
    {
      "cell_type": "code",
      "metadata": {
        "id": "Tyia7DxFn4Gv",
        "colab": {
          "base_uri": "https://localhost:8080/"
        },
        "outputId": "961c3978-cb8a-466a-abce-a9553671dd9e"
      },
      "source": [
        "df[\"住居地\"].value_counts().reindex(aichi_cities, fill_value=0)"
      ],
      "execution_count": null,
      "outputs": [
        {
          "output_type": "execute_result",
          "data": {
            "text/plain": [
              "名古屋市     11260\n",
              "一宮市        967\n",
              "瀬戸市        329\n",
              "春日井市       887\n",
              "犬山市        140\n",
              "江南市        264\n",
              "小牧市        489\n",
              "稲沢市        292\n",
              "尾張旭市       218\n",
              "岩倉市        134\n",
              "豊明市        130\n",
              "日進市        269\n",
              "清須市        207\n",
              "北名古屋市      269\n",
              "長久手市       139\n",
              "東郷町         99\n",
              "豊山町         52\n",
              "大口町         67\n",
              "扶桑町         96\n",
              "津島市        162\n",
              "愛西市        180\n",
              "弥富市        157\n",
              "あま市        341\n",
              "大治町        110\n",
              "蟹江町        168\n",
              "飛島村         17\n",
              "半田市        255\n",
              "常滑市         86\n",
              "東海市        309\n",
              "大府市        175\n",
              "知多市        214\n",
              "阿久比町        33\n",
              "東浦町         86\n",
              "南知多町        24\n",
              "美浜町         26\n",
              "武豊町         86\n",
              "岡崎市        876\n",
              "碧南市        165\n",
              "刈谷市        325\n",
              "豊田市       1120\n",
              "安城市        284\n",
              "西尾市        364\n",
              "知立市        193\n",
              "高浜市         77\n",
              "みよし市       123\n",
              "幸田町        114\n",
              "豊橋市       1003\n",
              "豊川市        368\n",
              "蒲郡市        181\n",
              "新城市         49\n",
              "田原市         67\n",
              "設楽町          2\n",
              "東栄町          3\n",
              "豊根村          1\n",
              "Name: 住居地, dtype: int64"
            ]
          },
          "metadata": {
            "tags": []
          },
          "execution_count": 49
        }
      ]
    },
    {
      "cell_type": "markdown",
      "metadata": {
        "id": "qUjv75nlHYri"
      },
      "source": [
        "# 性別"
      ]
    },
    {
      "cell_type": "code",
      "metadata": {
        "id": "xo4KFL-rYRbe",
        "colab": {
          "base_uri": "https://localhost:8080/",
          "height": 281
        },
        "outputId": "50f83c58-d13b-4b4f-8c7d-44c3dd33e0fd"
      },
      "source": [
        "df[\"性別\"].value_counts().plot.barh()"
      ],
      "execution_count": null,
      "outputs": [
        {
          "output_type": "execute_result",
          "data": {
            "text/plain": [
              "<matplotlib.axes._subplots.AxesSubplot at 0x7f150795cf28>"
            ]
          },
          "metadata": {
            "tags": []
          },
          "execution_count": 50
        },
        {
          "output_type": "display_data",
          "data": {
            "image/png": "[encoded data removed]",
            "text/plain": [
              "<Figure size 432x288 with 1 Axes>"
            ]
          },
          "metadata": {
            "tags": [],
            "needs_background": "light"
          }
        }
      ]
    },
    {
      "cell_type": "code",
      "metadata": {
        "id": "MlVDe_kkq40X",
        "colab": {
          "base_uri": "https://localhost:8080/"
        },
        "outputId": "60a82af0-d353-43d4-9807-d1dc2fd1c7b4"
      },
      "source": [
        "# 性別 欠損数\r\n",
        "df[\"性別\"].isna().sum()"
      ],
      "execution_count": null,
      "outputs": [
        {
          "output_type": "execute_result",
          "data": {
            "text/plain": [
              "0"
            ]
          },
          "metadata": {
            "tags": []
          },
          "execution_count": 51
        }
      ]
    },
    {
      "cell_type": "code",
      "metadata": {
        "id": "PNsu8cggHrea",
        "colab": {
          "base_uri": "https://localhost:8080/"
        },
        "outputId": "7a49057b-a169-4c28-b869-db3e21f61082"
      },
      "source": [
        "# 性別\r\n",
        "df[\"性別\"].value_counts()"
      ],
      "execution_count": null,
      "outputs": [
        {
          "output_type": "execute_result",
          "data": {
            "text/plain": [
              "男性    13087\n",
              "女性    11115\n",
              "Name: 性別, dtype: int64"
            ]
          },
          "metadata": {
            "tags": []
          },
          "execution_count": 52
        }
      ]
    },
    {
      "cell_type": "markdown",
      "metadata": {
        "id": "iVf3aoulHm6C"
      },
      "source": [
        "# 年代確認"
      ]
    },
    {
      "cell_type": "markdown",
      "metadata": {
        "id": "LeKZdcUPIh9h"
      },
      "source": [
        "## 置換前"
      ]
    },
    {
      "cell_type": "code",
      "metadata": {
        "id": "z3I2c0BOI4YB",
        "colab": {
          "base_uri": "https://localhost:8080/"
        },
        "outputId": "e3e70568-c44d-4eb0-de12-732bef17b2cd"
      },
      "source": [
        "# ユニーク確認\r\n",
        "df[\"年代\"].unique()"
      ],
      "execution_count": null,
      "outputs": [
        {
          "output_type": "execute_result",
          "data": {
            "text/plain": [
              "array(['60代', '50代', '80代', '70代', '20代', '40代', '30代', '90代', '10歳未満',\n",
              "       '10代', '100代', '高齢者', 'ー代'], dtype=object)"
            ]
          },
          "metadata": {
            "tags": []
          },
          "execution_count": 53
        }
      ]
    },
    {
      "cell_type": "code",
      "metadata": {
        "id": "7bEE_z0GITSJ",
        "colab": {
          "base_uri": "https://localhost:8080/"
        },
        "outputId": "6e5f6bf8-2757-49c1-96fe-ea44cb153322"
      },
      "source": [
        "df[\"年代\"].value_counts()"
      ],
      "execution_count": null,
      "outputs": [
        {
          "output_type": "execute_result",
          "data": {
            "text/plain": [
              "20代      5624\n",
              "30代      3556\n",
              "40代      3372\n",
              "50代      3182\n",
              "60代      2065\n",
              "70代      2050\n",
              "10代      1682\n",
              "80代      1450\n",
              "10歳未満     790\n",
              "90代       415\n",
              "100代       14\n",
              "ー代          1\n",
              "高齢者         1\n",
              "Name: 年代, dtype: int64"
            ]
          },
          "metadata": {
            "tags": []
          },
          "execution_count": 54
        }
      ]
    },
    {
      "cell_type": "markdown",
      "metadata": {
        "id": "75OdePc-LCvB"
      },
      "source": [
        "## 確認"
      ]
    },
    {
      "cell_type": "code",
      "metadata": {
        "id": "xD2k8QOIAvnk",
        "colab": {
          "base_uri": "https://localhost:8080/",
          "height": 143
        },
        "outputId": "7e823d98-145d-41ae-fb07-fb06cd54a27e"
      },
      "source": [
        "# リスト外\r\n",
        "df[~df[\"年代\"].isin(ages_list)]"
      ],
      "execution_count": null,
      "outputs": [
        {
          "output_type": "execute_result",
          "data": {
            "text/html": [
              "<div>\n",
              "<style scoped>\n",
              "    .dataframe tbody tr th:only-of-type {\n",
              "        vertical-align: middle;\n",
              "    }\n",
              "\n",
              "    .dataframe tbody tr th {\n",
              "        vertical-align: top;\n",
              "    }\n",
              "\n",
              "    .dataframe thead th {\n",
              "        text-align: right;\n",
              "    }\n",
              "</style>\n",
              "<table border=\"1\" class=\"dataframe\">\n",
              "  <thead>\n",
              "    <tr style=\"text-align: right;\">\n",
              "      <th></th>\n",
              "      <th>発表日</th>\n",
              "      <th>年代・性別</th>\n",
              "      <th>国籍</th>\n",
              "      <th>住居地</th>\n",
              "      <th>接触状況</th>\n",
              "      <th>備考</th>\n",
              "      <th>年代</th>\n",
              "      <th>性別</th>\n",
              "    </tr>\n",
              "    <tr>\n",
              "      <th>No</th>\n",
              "      <th></th>\n",
              "      <th></th>\n",
              "      <th></th>\n",
              "      <th></th>\n",
              "      <th></th>\n",
              "      <th></th>\n",
              "      <th></th>\n",
              "      <th></th>\n",
              "    </tr>\n",
              "  </thead>\n",
              "  <tbody>\n",
              "    <tr>\n",
              "      <th>5543</th>\n",
              "      <td>2020-10-11</td>\n",
              "      <td>高齢者女性</td>\n",
              "      <td>NaN</td>\n",
              "      <td>名古屋市</td>\n",
              "      <td>NaN</td>\n",
              "      <td>名古屋市発表2999</td>\n",
              "      <td>高齢者</td>\n",
              "      <td>女性</td>\n",
              "    </tr>\n",
              "    <tr>\n",
              "      <th>13890</th>\n",
              "      <td>2020-12-19</td>\n",
              "      <td>ー代女性</td>\n",
              "      <td>NaN</td>\n",
              "      <td>豊橋市</td>\n",
              "      <td>NaN</td>\n",
              "      <td>豊橋市発表347</td>\n",
              "      <td>ー代</td>\n",
              "      <td>女性</td>\n",
              "    </tr>\n",
              "  </tbody>\n",
              "</table>\n",
              "</div>"
            ],
            "text/plain": [
              "             発表日  年代・性別   国籍   住居地 接触状況          備考   年代  性別\n",
              "No                                                          \n",
              "5543  2020-10-11  高齢者女性  NaN  名古屋市  NaN  名古屋市発表2999  高齢者  女性\n",
              "13890 2020-12-19   ー代女性  NaN   豊橋市  NaN    豊橋市発表347   ー代  女性"
            ]
          },
          "metadata": {
            "tags": []
          },
          "execution_count": 55
        }
      ]
    },
    {
      "cell_type": "markdown",
      "metadata": {
        "id": "ZdkCmXvgIdYp"
      },
      "source": [
        "## 置換後 "
      ]
    },
    {
      "cell_type": "code",
      "metadata": {
        "id": "SJdW-bWDcjiQ"
      },
      "source": [
        "# 10歳未満代を10歳未満に置換\r\n",
        "df[\"年代\"] = df[\"年代\"].replace(\"10歳未満代\", \"10歳未満\")"
      ],
      "execution_count": null,
      "outputs": []
    },
    {
      "cell_type": "code",
      "metadata": {
        "id": "SVLZqypHATDM"
      },
      "source": [
        "# リスト外をその他に置換\r\n",
        "df[\"年代\"] = df[\"年代\"].where(df[\"年代\"].isin(ages_list), \"その他\")"
      ],
      "execution_count": null,
      "outputs": []
    },
    {
      "cell_type": "code",
      "metadata": {
        "id": "HJjfsYZ3UzZ6",
        "colab": {
          "base_uri": "https://localhost:8080/"
        },
        "outputId": "5d03a317-0924-429d-8e56-e5e2c3cd9797"
      },
      "source": [
        "df[\"年代\"].unique()"
      ],
      "execution_count": null,
      "outputs": [
        {
          "output_type": "execute_result",
          "data": {
            "text/plain": [
              "array(['60代', '50代', '80代', '70代', '20代', '40代', '30代', '90代', '10歳未満',\n",
              "       '10代', '100代', 'その他'], dtype=object)"
            ]
          },
          "metadata": {
            "tags": []
          },
          "execution_count": 58
        }
      ]
    },
    {
      "cell_type": "code",
      "metadata": {
        "id": "r9QxpWa5YW_F",
        "colab": {
          "base_uri": "https://localhost:8080/",
          "height": 281
        },
        "outputId": "12460edf-fa03-4b9c-8f1c-0634fa71c95e"
      },
      "source": [
        "df[\"年代\"].value_counts().plot.barh()"
      ],
      "execution_count": null,
      "outputs": [
        {
          "output_type": "execute_result",
          "data": {
            "text/plain": [
              "<matplotlib.axes._subplots.AxesSubplot at 0x7f15075f2ba8>"
            ]
          },
          "metadata": {
            "tags": []
          },
          "execution_count": 59
        },
        {
          "output_type": "display_data",
          "data": {
            "image/png": "[encoded data removed]",
            "text/plain": [
              "<Figure size 432x288 with 1 Axes>"
            ]
          },
          "metadata": {
            "tags": [],
            "needs_background": "light"
          }
        }
      ]
    },
    {
      "cell_type": "code",
      "metadata": {
        "id": "rI_C4zfOXMBg",
        "colab": {
          "base_uri": "https://localhost:8080/"
        },
        "outputId": "92db663e-86a1-44dc-a313-b885e39e2f1a"
      },
      "source": [
        "df[\"年代\"].value_counts()"
      ],
      "execution_count": null,
      "outputs": [
        {
          "output_type": "execute_result",
          "data": {
            "text/plain": [
              "20代      5624\n",
              "30代      3556\n",
              "40代      3372\n",
              "50代      3182\n",
              "60代      2065\n",
              "70代      2050\n",
              "10代      1682\n",
              "80代      1450\n",
              "10歳未満     790\n",
              "90代       415\n",
              "100代       14\n",
              "その他         2\n",
              "Name: 年代, dtype: int64"
            ]
          },
          "metadata": {
            "tags": []
          },
          "execution_count": 60
        }
      ]
    },
    {
      "cell_type": "markdown",
      "metadata": {
        "id": "E2bUlRByIrII"
      },
      "source": [
        "# 市町村別年代"
      ]
    },
    {
      "cell_type": "code",
      "metadata": {
        "id": "yD9n3GmCD_r3",
        "colab": {
          "base_uri": "https://localhost:8080/",
          "height": 1000
        },
        "outputId": "3e2fa504-e534-442f-8144-2f0af0d80668"
      },
      "source": [
        "df_area_ages = pd.crosstab(df[\"住居地\"], df[\"年代\"]).reindex(index=aichi_cities + [\"県外\"], columns=ages_list + [\"その他\"], fill_value=0)\r\n",
        "df_area_ages"
      ],
      "execution_count": null,
      "outputs": [
        {
          "output_type": "execute_result",
          "data": {
            "text/html": [
              "<div>\n",
              "<style scoped>\n",
              "    .dataframe tbody tr th:only-of-type {\n",
              "        vertical-align: middle;\n",
              "    }\n",
              "\n",
              "    .dataframe tbody tr th {\n",
              "        vertical-align: top;\n",
              "    }\n",
              "\n",
              "    .dataframe thead th {\n",
              "        text-align: right;\n",
              "    }\n",
              "</style>\n",
              "<table border=\"1\" class=\"dataframe\">\n",
              "  <thead>\n",
              "    <tr style=\"text-align: right;\">\n",
              "      <th>年代</th>\n",
              "      <th>10歳未満</th>\n",
              "      <th>10代</th>\n",
              "      <th>20代</th>\n",
              "      <th>30代</th>\n",
              "      <th>40代</th>\n",
              "      <th>50代</th>\n",
              "      <th>60代</th>\n",
              "      <th>70代</th>\n",
              "      <th>80代</th>\n",
              "      <th>90代</th>\n",
              "      <th>100代</th>\n",
              "      <th>その他</th>\n",
              "    </tr>\n",
              "    <tr>\n",
              "      <th>住居地</th>\n",
              "      <th></th>\n",
              "      <th></th>\n",
              "      <th></th>\n",
              "      <th></th>\n",
              "      <th></th>\n",
              "      <th></th>\n",
              "      <th></th>\n",
              "      <th></th>\n",
              "      <th></th>\n",
              "      <th></th>\n",
              "      <th></th>\n",
              "      <th></th>\n",
              "    </tr>\n",
              "  </thead>\n",
              "  <tbody>\n",
              "    <tr>\n",
              "      <th>名古屋市</th>\n",
              "      <td>331</td>\n",
              "      <td>532</td>\n",
              "      <td>2915</td>\n",
              "      <td>1815</td>\n",
              "      <td>1508</td>\n",
              "      <td>1341</td>\n",
              "      <td>973</td>\n",
              "      <td>865</td>\n",
              "      <td>716</td>\n",
              "      <td>253</td>\n",
              "      <td>10</td>\n",
              "      <td>1</td>\n",
              "    </tr>\n",
              "    <tr>\n",
              "      <th>一宮市</th>\n",
              "      <td>27</td>\n",
              "      <td>80</td>\n",
              "      <td>190</td>\n",
              "      <td>118</td>\n",
              "      <td>111</td>\n",
              "      <td>151</td>\n",
              "      <td>86</td>\n",
              "      <td>110</td>\n",
              "      <td>84</td>\n",
              "      <td>10</td>\n",
              "      <td>0</td>\n",
              "      <td>0</td>\n",
              "    </tr>\n",
              "    <tr>\n",
              "      <th>瀬戸市</th>\n",
              "      <td>9</td>\n",
              "      <td>21</td>\n",
              "      <td>74</td>\n",
              "      <td>53</td>\n",
              "      <td>52</td>\n",
              "      <td>47</td>\n",
              "      <td>24</td>\n",
              "      <td>29</td>\n",
              "      <td>17</td>\n",
              "      <td>3</td>\n",
              "      <td>0</td>\n",
              "      <td>0</td>\n",
              "    </tr>\n",
              "    <tr>\n",
              "      <th>春日井市</th>\n",
              "      <td>22</td>\n",
              "      <td>93</td>\n",
              "      <td>180</td>\n",
              "      <td>99</td>\n",
              "      <td>134</td>\n",
              "      <td>133</td>\n",
              "      <td>68</td>\n",
              "      <td>93</td>\n",
              "      <td>57</td>\n",
              "      <td>8</td>\n",
              "      <td>0</td>\n",
              "      <td>0</td>\n",
              "    </tr>\n",
              "    <tr>\n",
              "      <th>犬山市</th>\n",
              "      <td>4</td>\n",
              "      <td>26</td>\n",
              "      <td>21</td>\n",
              "      <td>19</td>\n",
              "      <td>22</td>\n",
              "      <td>16</td>\n",
              "      <td>19</td>\n",
              "      <td>9</td>\n",
              "      <td>2</td>\n",
              "      <td>2</td>\n",
              "      <td>0</td>\n",
              "      <td>0</td>\n",
              "    </tr>\n",
              "    <tr>\n",
              "      <th>江南市</th>\n",
              "      <td>9</td>\n",
              "      <td>28</td>\n",
              "      <td>45</td>\n",
              "      <td>22</td>\n",
              "      <td>30</td>\n",
              "      <td>47</td>\n",
              "      <td>29</td>\n",
              "      <td>31</td>\n",
              "      <td>20</td>\n",
              "      <td>3</td>\n",
              "      <td>0</td>\n",
              "      <td>0</td>\n",
              "    </tr>\n",
              "    <tr>\n",
              "      <th>小牧市</th>\n",
              "      <td>29</td>\n",
              "      <td>55</td>\n",
              "      <td>90</td>\n",
              "      <td>69</td>\n",
              "      <td>81</td>\n",
              "      <td>80</td>\n",
              "      <td>30</td>\n",
              "      <td>30</td>\n",
              "      <td>17</td>\n",
              "      <td>8</td>\n",
              "      <td>0</td>\n",
              "      <td>0</td>\n",
              "    </tr>\n",
              "    <tr>\n",
              "      <th>稲沢市</th>\n",
              "      <td>7</td>\n",
              "      <td>22</td>\n",
              "      <td>64</td>\n",
              "      <td>34</td>\n",
              "      <td>39</td>\n",
              "      <td>46</td>\n",
              "      <td>16</td>\n",
              "      <td>41</td>\n",
              "      <td>21</td>\n",
              "      <td>2</td>\n",
              "      <td>0</td>\n",
              "      <td>0</td>\n",
              "    </tr>\n",
              "    <tr>\n",
              "      <th>尾張旭市</th>\n",
              "      <td>8</td>\n",
              "      <td>27</td>\n",
              "      <td>53</td>\n",
              "      <td>27</td>\n",
              "      <td>26</td>\n",
              "      <td>26</td>\n",
              "      <td>23</td>\n",
              "      <td>16</td>\n",
              "      <td>11</td>\n",
              "      <td>1</td>\n",
              "      <td>0</td>\n",
              "      <td>0</td>\n",
              "    </tr>\n",
              "    <tr>\n",
              "      <th>岩倉市</th>\n",
              "      <td>2</td>\n",
              "      <td>18</td>\n",
              "      <td>29</td>\n",
              "      <td>20</td>\n",
              "      <td>17</td>\n",
              "      <td>17</td>\n",
              "      <td>20</td>\n",
              "      <td>6</td>\n",
              "      <td>5</td>\n",
              "      <td>0</td>\n",
              "      <td>0</td>\n",
              "      <td>0</td>\n",
              "    </tr>\n",
              "    <tr>\n",
              "      <th>豊明市</th>\n",
              "      <td>9</td>\n",
              "      <td>4</td>\n",
              "      <td>29</td>\n",
              "      <td>33</td>\n",
              "      <td>12</td>\n",
              "      <td>24</td>\n",
              "      <td>10</td>\n",
              "      <td>7</td>\n",
              "      <td>2</td>\n",
              "      <td>0</td>\n",
              "      <td>0</td>\n",
              "      <td>0</td>\n",
              "    </tr>\n",
              "    <tr>\n",
              "      <th>日進市</th>\n",
              "      <td>8</td>\n",
              "      <td>20</td>\n",
              "      <td>58</td>\n",
              "      <td>39</td>\n",
              "      <td>37</td>\n",
              "      <td>39</td>\n",
              "      <td>34</td>\n",
              "      <td>18</td>\n",
              "      <td>14</td>\n",
              "      <td>2</td>\n",
              "      <td>0</td>\n",
              "      <td>0</td>\n",
              "    </tr>\n",
              "    <tr>\n",
              "      <th>清須市</th>\n",
              "      <td>6</td>\n",
              "      <td>11</td>\n",
              "      <td>44</td>\n",
              "      <td>28</td>\n",
              "      <td>34</td>\n",
              "      <td>29</td>\n",
              "      <td>12</td>\n",
              "      <td>26</td>\n",
              "      <td>13</td>\n",
              "      <td>4</td>\n",
              "      <td>0</td>\n",
              "      <td>0</td>\n",
              "    </tr>\n",
              "    <tr>\n",
              "      <th>北名古屋市</th>\n",
              "      <td>13</td>\n",
              "      <td>34</td>\n",
              "      <td>55</td>\n",
              "      <td>34</td>\n",
              "      <td>38</td>\n",
              "      <td>45</td>\n",
              "      <td>18</td>\n",
              "      <td>23</td>\n",
              "      <td>8</td>\n",
              "      <td>1</td>\n",
              "      <td>0</td>\n",
              "      <td>0</td>\n",
              "    </tr>\n",
              "    <tr>\n",
              "      <th>長久手市</th>\n",
              "      <td>5</td>\n",
              "      <td>11</td>\n",
              "      <td>40</td>\n",
              "      <td>29</td>\n",
              "      <td>21</td>\n",
              "      <td>19</td>\n",
              "      <td>7</td>\n",
              "      <td>4</td>\n",
              "      <td>3</td>\n",
              "      <td>0</td>\n",
              "      <td>0</td>\n",
              "      <td>0</td>\n",
              "    </tr>\n",
              "    <tr>\n",
              "      <th>東郷町</th>\n",
              "      <td>5</td>\n",
              "      <td>11</td>\n",
              "      <td>18</td>\n",
              "      <td>9</td>\n",
              "      <td>18</td>\n",
              "      <td>17</td>\n",
              "      <td>7</td>\n",
              "      <td>9</td>\n",
              "      <td>5</td>\n",
              "      <td>0</td>\n",
              "      <td>0</td>\n",
              "      <td>0</td>\n",
              "    </tr>\n",
              "    <tr>\n",
              "      <th>豊山町</th>\n",
              "      <td>2</td>\n",
              "      <td>6</td>\n",
              "      <td>5</td>\n",
              "      <td>6</td>\n",
              "      <td>11</td>\n",
              "      <td>5</td>\n",
              "      <td>7</td>\n",
              "      <td>8</td>\n",
              "      <td>2</td>\n",
              "      <td>0</td>\n",
              "      <td>0</td>\n",
              "      <td>0</td>\n",
              "    </tr>\n",
              "    <tr>\n",
              "      <th>大口町</th>\n",
              "      <td>3</td>\n",
              "      <td>11</td>\n",
              "      <td>11</td>\n",
              "      <td>9</td>\n",
              "      <td>8</td>\n",
              "      <td>11</td>\n",
              "      <td>2</td>\n",
              "      <td>6</td>\n",
              "      <td>2</td>\n",
              "      <td>4</td>\n",
              "      <td>0</td>\n",
              "      <td>0</td>\n",
              "    </tr>\n",
              "    <tr>\n",
              "      <th>扶桑町</th>\n",
              "      <td>5</td>\n",
              "      <td>17</td>\n",
              "      <td>9</td>\n",
              "      <td>8</td>\n",
              "      <td>19</td>\n",
              "      <td>16</td>\n",
              "      <td>6</td>\n",
              "      <td>10</td>\n",
              "      <td>6</td>\n",
              "      <td>0</td>\n",
              "      <td>0</td>\n",
              "      <td>0</td>\n",
              "    </tr>\n",
              "    <tr>\n",
              "      <th>津島市</th>\n",
              "      <td>1</td>\n",
              "      <td>8</td>\n",
              "      <td>39</td>\n",
              "      <td>11</td>\n",
              "      <td>16</td>\n",
              "      <td>36</td>\n",
              "      <td>18</td>\n",
              "      <td>23</td>\n",
              "      <td>10</td>\n",
              "      <td>0</td>\n",
              "      <td>0</td>\n",
              "      <td>0</td>\n",
              "    </tr>\n",
              "    <tr>\n",
              "      <th>愛西市</th>\n",
              "      <td>3</td>\n",
              "      <td>12</td>\n",
              "      <td>23</td>\n",
              "      <td>13</td>\n",
              "      <td>26</td>\n",
              "      <td>30</td>\n",
              "      <td>23</td>\n",
              "      <td>35</td>\n",
              "      <td>15</td>\n",
              "      <td>0</td>\n",
              "      <td>0</td>\n",
              "      <td>0</td>\n",
              "    </tr>\n",
              "    <tr>\n",
              "      <th>弥富市</th>\n",
              "      <td>2</td>\n",
              "      <td>5</td>\n",
              "      <td>29</td>\n",
              "      <td>9</td>\n",
              "      <td>17</td>\n",
              "      <td>27</td>\n",
              "      <td>13</td>\n",
              "      <td>25</td>\n",
              "      <td>24</td>\n",
              "      <td>6</td>\n",
              "      <td>0</td>\n",
              "      <td>0</td>\n",
              "    </tr>\n",
              "    <tr>\n",
              "      <th>あま市</th>\n",
              "      <td>12</td>\n",
              "      <td>34</td>\n",
              "      <td>61</td>\n",
              "      <td>43</td>\n",
              "      <td>46</td>\n",
              "      <td>53</td>\n",
              "      <td>26</td>\n",
              "      <td>36</td>\n",
              "      <td>28</td>\n",
              "      <td>2</td>\n",
              "      <td>0</td>\n",
              "      <td>0</td>\n",
              "    </tr>\n",
              "    <tr>\n",
              "      <th>大治町</th>\n",
              "      <td>3</td>\n",
              "      <td>14</td>\n",
              "      <td>20</td>\n",
              "      <td>17</td>\n",
              "      <td>18</td>\n",
              "      <td>18</td>\n",
              "      <td>7</td>\n",
              "      <td>7</td>\n",
              "      <td>6</td>\n",
              "      <td>0</td>\n",
              "      <td>0</td>\n",
              "      <td>0</td>\n",
              "    </tr>\n",
              "    <tr>\n",
              "      <th>蟹江町</th>\n",
              "      <td>7</td>\n",
              "      <td>9</td>\n",
              "      <td>25</td>\n",
              "      <td>15</td>\n",
              "      <td>22</td>\n",
              "      <td>16</td>\n",
              "      <td>14</td>\n",
              "      <td>32</td>\n",
              "      <td>23</td>\n",
              "      <td>5</td>\n",
              "      <td>0</td>\n",
              "      <td>0</td>\n",
              "    </tr>\n",
              "    <tr>\n",
              "      <th>飛島村</th>\n",
              "      <td>0</td>\n",
              "      <td>1</td>\n",
              "      <td>3</td>\n",
              "      <td>1</td>\n",
              "      <td>0</td>\n",
              "      <td>1</td>\n",
              "      <td>3</td>\n",
              "      <td>6</td>\n",
              "      <td>2</td>\n",
              "      <td>0</td>\n",
              "      <td>0</td>\n",
              "      <td>0</td>\n",
              "    </tr>\n",
              "    <tr>\n",
              "      <th>半田市</th>\n",
              "      <td>9</td>\n",
              "      <td>24</td>\n",
              "      <td>56</td>\n",
              "      <td>46</td>\n",
              "      <td>37</td>\n",
              "      <td>38</td>\n",
              "      <td>19</td>\n",
              "      <td>10</td>\n",
              "      <td>10</td>\n",
              "      <td>5</td>\n",
              "      <td>1</td>\n",
              "      <td>0</td>\n",
              "    </tr>\n",
              "    <tr>\n",
              "      <th>常滑市</th>\n",
              "      <td>4</td>\n",
              "      <td>9</td>\n",
              "      <td>24</td>\n",
              "      <td>12</td>\n",
              "      <td>9</td>\n",
              "      <td>13</td>\n",
              "      <td>7</td>\n",
              "      <td>7</td>\n",
              "      <td>1</td>\n",
              "      <td>0</td>\n",
              "      <td>0</td>\n",
              "      <td>0</td>\n",
              "    </tr>\n",
              "    <tr>\n",
              "      <th>東海市</th>\n",
              "      <td>7</td>\n",
              "      <td>37</td>\n",
              "      <td>67</td>\n",
              "      <td>51</td>\n",
              "      <td>40</td>\n",
              "      <td>41</td>\n",
              "      <td>28</td>\n",
              "      <td>29</td>\n",
              "      <td>7</td>\n",
              "      <td>2</td>\n",
              "      <td>0</td>\n",
              "      <td>0</td>\n",
              "    </tr>\n",
              "    <tr>\n",
              "      <th>大府市</th>\n",
              "      <td>10</td>\n",
              "      <td>21</td>\n",
              "      <td>51</td>\n",
              "      <td>27</td>\n",
              "      <td>24</td>\n",
              "      <td>19</td>\n",
              "      <td>10</td>\n",
              "      <td>6</td>\n",
              "      <td>7</td>\n",
              "      <td>0</td>\n",
              "      <td>0</td>\n",
              "      <td>0</td>\n",
              "    </tr>\n",
              "    <tr>\n",
              "      <th>知多市</th>\n",
              "      <td>8</td>\n",
              "      <td>25</td>\n",
              "      <td>41</td>\n",
              "      <td>23</td>\n",
              "      <td>42</td>\n",
              "      <td>23</td>\n",
              "      <td>17</td>\n",
              "      <td>20</td>\n",
              "      <td>10</td>\n",
              "      <td>5</td>\n",
              "      <td>0</td>\n",
              "      <td>0</td>\n",
              "    </tr>\n",
              "    <tr>\n",
              "      <th>阿久比町</th>\n",
              "      <td>1</td>\n",
              "      <td>3</td>\n",
              "      <td>5</td>\n",
              "      <td>8</td>\n",
              "      <td>7</td>\n",
              "      <td>2</td>\n",
              "      <td>4</td>\n",
              "      <td>2</td>\n",
              "      <td>1</td>\n",
              "      <td>0</td>\n",
              "      <td>0</td>\n",
              "      <td>0</td>\n",
              "    </tr>\n",
              "    <tr>\n",
              "      <th>東浦町</th>\n",
              "      <td>5</td>\n",
              "      <td>8</td>\n",
              "      <td>25</td>\n",
              "      <td>12</td>\n",
              "      <td>15</td>\n",
              "      <td>10</td>\n",
              "      <td>6</td>\n",
              "      <td>2</td>\n",
              "      <td>2</td>\n",
              "      <td>1</td>\n",
              "      <td>0</td>\n",
              "      <td>0</td>\n",
              "    </tr>\n",
              "    <tr>\n",
              "      <th>南知多町</th>\n",
              "      <td>1</td>\n",
              "      <td>0</td>\n",
              "      <td>4</td>\n",
              "      <td>1</td>\n",
              "      <td>1</td>\n",
              "      <td>6</td>\n",
              "      <td>2</td>\n",
              "      <td>5</td>\n",
              "      <td>3</td>\n",
              "      <td>1</td>\n",
              "      <td>0</td>\n",
              "      <td>0</td>\n",
              "    </tr>\n",
              "    <tr>\n",
              "      <th>美浜町</th>\n",
              "      <td>0</td>\n",
              "      <td>5</td>\n",
              "      <td>7</td>\n",
              "      <td>2</td>\n",
              "      <td>2</td>\n",
              "      <td>2</td>\n",
              "      <td>6</td>\n",
              "      <td>1</td>\n",
              "      <td>1</td>\n",
              "      <td>0</td>\n",
              "      <td>0</td>\n",
              "      <td>0</td>\n",
              "    </tr>\n",
              "    <tr>\n",
              "      <th>武豊町</th>\n",
              "      <td>3</td>\n",
              "      <td>9</td>\n",
              "      <td>23</td>\n",
              "      <td>10</td>\n",
              "      <td>15</td>\n",
              "      <td>9</td>\n",
              "      <td>4</td>\n",
              "      <td>9</td>\n",
              "      <td>4</td>\n",
              "      <td>0</td>\n",
              "      <td>0</td>\n",
              "      <td>0</td>\n",
              "    </tr>\n",
              "    <tr>\n",
              "      <th>岡崎市</th>\n",
              "      <td>29</td>\n",
              "      <td>72</td>\n",
              "      <td>202</td>\n",
              "      <td>118</td>\n",
              "      <td>117</td>\n",
              "      <td>117</td>\n",
              "      <td>83</td>\n",
              "      <td>67</td>\n",
              "      <td>47</td>\n",
              "      <td>22</td>\n",
              "      <td>2</td>\n",
              "      <td>0</td>\n",
              "    </tr>\n",
              "    <tr>\n",
              "      <th>碧南市</th>\n",
              "      <td>3</td>\n",
              "      <td>6</td>\n",
              "      <td>31</td>\n",
              "      <td>20</td>\n",
              "      <td>33</td>\n",
              "      <td>22</td>\n",
              "      <td>20</td>\n",
              "      <td>17</td>\n",
              "      <td>10</td>\n",
              "      <td>3</td>\n",
              "      <td>0</td>\n",
              "      <td>0</td>\n",
              "    </tr>\n",
              "    <tr>\n",
              "      <th>刈谷市</th>\n",
              "      <td>9</td>\n",
              "      <td>24</td>\n",
              "      <td>81</td>\n",
              "      <td>53</td>\n",
              "      <td>46</td>\n",
              "      <td>45</td>\n",
              "      <td>20</td>\n",
              "      <td>27</td>\n",
              "      <td>19</td>\n",
              "      <td>1</td>\n",
              "      <td>0</td>\n",
              "      <td>0</td>\n",
              "    </tr>\n",
              "    <tr>\n",
              "      <th>豊田市</th>\n",
              "      <td>29</td>\n",
              "      <td>74</td>\n",
              "      <td>270</td>\n",
              "      <td>139</td>\n",
              "      <td>160</td>\n",
              "      <td>144</td>\n",
              "      <td>114</td>\n",
              "      <td>115</td>\n",
              "      <td>66</td>\n",
              "      <td>8</td>\n",
              "      <td>1</td>\n",
              "      <td>0</td>\n",
              "    </tr>\n",
              "    <tr>\n",
              "      <th>安城市</th>\n",
              "      <td>12</td>\n",
              "      <td>20</td>\n",
              "      <td>73</td>\n",
              "      <td>50</td>\n",
              "      <td>42</td>\n",
              "      <td>39</td>\n",
              "      <td>21</td>\n",
              "      <td>16</td>\n",
              "      <td>9</td>\n",
              "      <td>2</td>\n",
              "      <td>0</td>\n",
              "      <td>0</td>\n",
              "    </tr>\n",
              "    <tr>\n",
              "      <th>西尾市</th>\n",
              "      <td>32</td>\n",
              "      <td>29</td>\n",
              "      <td>66</td>\n",
              "      <td>67</td>\n",
              "      <td>60</td>\n",
              "      <td>48</td>\n",
              "      <td>23</td>\n",
              "      <td>23</td>\n",
              "      <td>9</td>\n",
              "      <td>7</td>\n",
              "      <td>0</td>\n",
              "      <td>0</td>\n",
              "    </tr>\n",
              "    <tr>\n",
              "      <th>知立市</th>\n",
              "      <td>10</td>\n",
              "      <td>16</td>\n",
              "      <td>41</td>\n",
              "      <td>41</td>\n",
              "      <td>31</td>\n",
              "      <td>25</td>\n",
              "      <td>13</td>\n",
              "      <td>7</td>\n",
              "      <td>8</td>\n",
              "      <td>1</td>\n",
              "      <td>0</td>\n",
              "      <td>0</td>\n",
              "    </tr>\n",
              "    <tr>\n",
              "      <th>高浜市</th>\n",
              "      <td>4</td>\n",
              "      <td>11</td>\n",
              "      <td>26</td>\n",
              "      <td>10</td>\n",
              "      <td>9</td>\n",
              "      <td>5</td>\n",
              "      <td>2</td>\n",
              "      <td>3</td>\n",
              "      <td>4</td>\n",
              "      <td>3</td>\n",
              "      <td>0</td>\n",
              "      <td>0</td>\n",
              "    </tr>\n",
              "    <tr>\n",
              "      <th>みよし市</th>\n",
              "      <td>3</td>\n",
              "      <td>8</td>\n",
              "      <td>18</td>\n",
              "      <td>12</td>\n",
              "      <td>23</td>\n",
              "      <td>29</td>\n",
              "      <td>9</td>\n",
              "      <td>12</td>\n",
              "      <td>7</td>\n",
              "      <td>2</td>\n",
              "      <td>0</td>\n",
              "      <td>0</td>\n",
              "    </tr>\n",
              "    <tr>\n",
              "      <th>幸田町</th>\n",
              "      <td>6</td>\n",
              "      <td>11</td>\n",
              "      <td>17</td>\n",
              "      <td>20</td>\n",
              "      <td>18</td>\n",
              "      <td>15</td>\n",
              "      <td>14</td>\n",
              "      <td>11</td>\n",
              "      <td>1</td>\n",
              "      <td>1</td>\n",
              "      <td>0</td>\n",
              "      <td>0</td>\n",
              "    </tr>\n",
              "    <tr>\n",
              "      <th>豊橋市</th>\n",
              "      <td>45</td>\n",
              "      <td>78</td>\n",
              "      <td>194</td>\n",
              "      <td>142</td>\n",
              "      <td>165</td>\n",
              "      <td>130</td>\n",
              "      <td>94</td>\n",
              "      <td>85</td>\n",
              "      <td>55</td>\n",
              "      <td>14</td>\n",
              "      <td>0</td>\n",
              "      <td>1</td>\n",
              "    </tr>\n",
              "    <tr>\n",
              "      <th>豊川市</th>\n",
              "      <td>15</td>\n",
              "      <td>26</td>\n",
              "      <td>68</td>\n",
              "      <td>52</td>\n",
              "      <td>51</td>\n",
              "      <td>60</td>\n",
              "      <td>26</td>\n",
              "      <td>30</td>\n",
              "      <td>28</td>\n",
              "      <td>12</td>\n",
              "      <td>0</td>\n",
              "      <td>0</td>\n",
              "    </tr>\n",
              "    <tr>\n",
              "      <th>蒲郡市</th>\n",
              "      <td>9</td>\n",
              "      <td>22</td>\n",
              "      <td>32</td>\n",
              "      <td>15</td>\n",
              "      <td>23</td>\n",
              "      <td>15</td>\n",
              "      <td>11</td>\n",
              "      <td>24</td>\n",
              "      <td>23</td>\n",
              "      <td>7</td>\n",
              "      <td>0</td>\n",
              "      <td>0</td>\n",
              "    </tr>\n",
              "    <tr>\n",
              "      <th>新城市</th>\n",
              "      <td>2</td>\n",
              "      <td>12</td>\n",
              "      <td>6</td>\n",
              "      <td>6</td>\n",
              "      <td>9</td>\n",
              "      <td>8</td>\n",
              "      <td>2</td>\n",
              "      <td>2</td>\n",
              "      <td>1</td>\n",
              "      <td>1</td>\n",
              "      <td>0</td>\n",
              "      <td>0</td>\n",
              "    </tr>\n",
              "    <tr>\n",
              "      <th>田原市</th>\n",
              "      <td>1</td>\n",
              "      <td>11</td>\n",
              "      <td>16</td>\n",
              "      <td>12</td>\n",
              "      <td>13</td>\n",
              "      <td>5</td>\n",
              "      <td>2</td>\n",
              "      <td>4</td>\n",
              "      <td>2</td>\n",
              "      <td>1</td>\n",
              "      <td>0</td>\n",
              "      <td>0</td>\n",
              "    </tr>\n",
              "    <tr>\n",
              "      <th>設楽町</th>\n",
              "      <td>0</td>\n",
              "      <td>0</td>\n",
              "      <td>0</td>\n",
              "      <td>0</td>\n",
              "      <td>0</td>\n",
              "      <td>0</td>\n",
              "      <td>0</td>\n",
              "      <td>1</td>\n",
              "      <td>1</td>\n",
              "      <td>0</td>\n",
              "      <td>0</td>\n",
              "      <td>0</td>\n",
              "    </tr>\n",
              "    <tr>\n",
              "      <th>東栄町</th>\n",
              "      <td>0</td>\n",
              "      <td>0</td>\n",
              "      <td>0</td>\n",
              "      <td>0</td>\n",
              "      <td>0</td>\n",
              "      <td>0</td>\n",
              "      <td>1</td>\n",
              "      <td>2</td>\n",
              "      <td>0</td>\n",
              "      <td>0</td>\n",
              "      <td>0</td>\n",
              "      <td>0</td>\n",
              "    </tr>\n",
              "    <tr>\n",
              "      <th>豊根村</th>\n",
              "      <td>0</td>\n",
              "      <td>0</td>\n",
              "      <td>1</td>\n",
              "      <td>0</td>\n",
              "      <td>0</td>\n",
              "      <td>0</td>\n",
              "      <td>0</td>\n",
              "      <td>0</td>\n",
              "      <td>0</td>\n",
              "      <td>0</td>\n",
              "      <td>0</td>\n",
              "      <td>0</td>\n",
              "    </tr>\n",
              "    <tr>\n",
              "      <th>県外</th>\n",
              "      <td>1</td>\n",
              "      <td>11</td>\n",
              "      <td>49</td>\n",
              "      <td>27</td>\n",
              "      <td>17</td>\n",
              "      <td>22</td>\n",
              "      <td>12</td>\n",
              "      <td>8</td>\n",
              "      <td>1</td>\n",
              "      <td>2</td>\n",
              "      <td>0</td>\n",
              "      <td>0</td>\n",
              "    </tr>\n",
              "  </tbody>\n",
              "</table>\n",
              "</div>"
            ],
            "text/plain": [
              "年代     10歳未満  10代   20代   30代   40代   50代  60代  70代  80代  90代  100代  その他\n",
              "住居地                                                                     \n",
              "名古屋市     331  532  2915  1815  1508  1341  973  865  716  253    10    1\n",
              "一宮市       27   80   190   118   111   151   86  110   84   10     0    0\n",
              "瀬戸市        9   21    74    53    52    47   24   29   17    3     0    0\n",
              "春日井市      22   93   180    99   134   133   68   93   57    8     0    0\n",
              "犬山市        4   26    21    19    22    16   19    9    2    2     0    0\n",
              "江南市        9   28    45    22    30    47   29   31   20    3     0    0\n",
              "小牧市       29   55    90    69    81    80   30   30   17    8     0    0\n",
              "稲沢市        7   22    64    34    39    46   16   41   21    2     0    0\n",
              "尾張旭市       8   27    53    27    26    26   23   16   11    1     0    0\n",
              "岩倉市        2   18    29    20    17    17   20    6    5    0     0    0\n",
              "豊明市        9    4    29    33    12    24   10    7    2    0     0    0\n",
              "日進市        8   20    58    39    37    39   34   18   14    2     0    0\n",
              "清須市        6   11    44    28    34    29   12   26   13    4     0    0\n",
              "北名古屋市     13   34    55    34    38    45   18   23    8    1     0    0\n",
              "長久手市       5   11    40    29    21    19    7    4    3    0     0    0\n",
              "東郷町        5   11    18     9    18    17    7    9    5    0     0    0\n",
              "豊山町        2    6     5     6    11     5    7    8    2    0     0    0\n",
              "大口町        3   11    11     9     8    11    2    6    2    4     0    0\n",
              "扶桑町        5   17     9     8    19    16    6   10    6    0     0    0\n",
              "津島市        1    8    39    11    16    36   18   23   10    0     0    0\n",
              "愛西市        3   12    23    13    26    30   23   35   15    0     0    0\n",
              "弥富市        2    5    29     9    17    27   13   25   24    6     0    0\n",
              "あま市       12   34    61    43    46    53   26   36   28    2     0    0\n",
              "大治町        3   14    20    17    18    18    7    7    6    0     0    0\n",
              "蟹江町        7    9    25    15    22    16   14   32   23    5     0    0\n",
              "飛島村        0    1     3     1     0     1    3    6    2    0     0    0\n",
              "半田市        9   24    56    46    37    38   19   10   10    5     1    0\n",
              "常滑市        4    9    24    12     9    13    7    7    1    0     0    0\n",
              "東海市        7   37    67    51    40    41   28   29    7    2     0    0\n",
              "大府市       10   21    51    27    24    19   10    6    7    0     0    0\n",
              "知多市        8   25    41    23    42    23   17   20   10    5     0    0\n",
              "阿久比町       1    3     5     8     7     2    4    2    1    0     0    0\n",
              "東浦町        5    8    25    12    15    10    6    2    2    1     0    0\n",
              "南知多町       1    0     4     1     1     6    2    5    3    1     0    0\n",
              "美浜町        0    5     7     2     2     2    6    1    1    0     0    0\n",
              "武豊町        3    9    23    10    15     9    4    9    4    0     0    0\n",
              "岡崎市       29   72   202   118   117   117   83   67   47   22     2    0\n",
              "碧南市        3    6    31    20    33    22   20   17   10    3     0    0\n",
              "刈谷市        9   24    81    53    46    45   20   27   19    1     0    0\n",
              "豊田市       29   74   270   139   160   144  114  115   66    8     1    0\n",
              "安城市       12   20    73    50    42    39   21   16    9    2     0    0\n",
              "西尾市       32   29    66    67    60    48   23   23    9    7     0    0\n",
              "知立市       10   16    41    41    31    25   13    7    8    1     0    0\n",
              "高浜市        4   11    26    10     9     5    2    3    4    3     0    0\n",
              "みよし市       3    8    18    12    23    29    9   12    7    2     0    0\n",
              "幸田町        6   11    17    20    18    15   14   11    1    1     0    0\n",
              "豊橋市       45   78   194   142   165   130   94   85   55   14     0    1\n",
              "豊川市       15   26    68    52    51    60   26   30   28   12     0    0\n",
              "蒲郡市        9   22    32    15    23    15   11   24   23    7     0    0\n",
              "新城市        2   12     6     6     9     8    2    2    1    1     0    0\n",
              "田原市        1   11    16    12    13     5    2    4    2    1     0    0\n",
              "設楽町        0    0     0     0     0     0    0    1    1    0     0    0\n",
              "東栄町        0    0     0     0     0     0    1    2    0    0     0    0\n",
              "豊根村        0    0     1     0     0     0    0    0    0    0     0    0\n",
              "県外         1   11    49    27    17    22   12    8    1    2     0    0"
            ]
          },
          "metadata": {
            "tags": []
          },
          "execution_count": 61
        }
      ]
    },
    {
      "cell_type": "code",
      "metadata": {
        "id": "EkVOgW9aEqlv",
        "colab": {
          "base_uri": "https://localhost:8080/",
          "height": 924
        },
        "outputId": "1774450e-4445-4878-bc6c-2b6e1ac2e66c"
      },
      "source": [
        "df_area_ages.T.plot.bar(subplots=True, layout=(7, 8), figsize=(20, 15), legend=False);"
      ],
      "execution_count": null,
      "outputs": [
        {
          "output_type": "display_data",
          "data": {
            "image/png": "[encoded data removed]",
            "text/plain": [
              "<Figure size 1440x1080 with 56 Axes>"
            ]
          },
          "metadata": {
            "tags": [],
            "needs_background": "light"
          }
        }
      ]
    },
    {
      "cell_type": "code",
      "metadata": {
        "id": "jzesGixFHDJA",
        "colab": {
          "base_uri": "https://localhost:8080/",
          "height": 1000
        },
        "outputId": "72338938-61cd-4f6c-e5a1-db487451f9a9"
      },
      "source": [
        "df_area_sex = pd.crosstab(df[\"住居地\"], df[\"性別\"]).reindex(index=aichi_cities + [\"県外\"], columns=[\"男性\", \"女性\", \"その他\"], fill_value=0)\r\n",
        "df_area_sex"
      ],
      "execution_count": null,
      "outputs": [
        {
          "output_type": "execute_result",
          "data": {
            "text/html": [
              "<div>\n",
              "<style scoped>\n",
              "    .dataframe tbody tr th:only-of-type {\n",
              "        vertical-align: middle;\n",
              "    }\n",
              "\n",
              "    .dataframe tbody tr th {\n",
              "        vertical-align: top;\n",
              "    }\n",
              "\n",
              "    .dataframe thead th {\n",
              "        text-align: right;\n",
              "    }\n",
              "</style>\n",
              "<table border=\"1\" class=\"dataframe\">\n",
              "  <thead>\n",
              "    <tr style=\"text-align: right;\">\n",
              "      <th>性別</th>\n",
              "      <th>男性</th>\n",
              "      <th>女性</th>\n",
              "      <th>その他</th>\n",
              "    </tr>\n",
              "    <tr>\n",
              "      <th>住居地</th>\n",
              "      <th></th>\n",
              "      <th></th>\n",
              "      <th></th>\n",
              "    </tr>\n",
              "  </thead>\n",
              "  <tbody>\n",
              "    <tr>\n",
              "      <th>名古屋市</th>\n",
              "      <td>6019</td>\n",
              "      <td>5241</td>\n",
              "      <td>0</td>\n",
              "    </tr>\n",
              "    <tr>\n",
              "      <th>一宮市</th>\n",
              "      <td>502</td>\n",
              "      <td>465</td>\n",
              "      <td>0</td>\n",
              "    </tr>\n",
              "    <tr>\n",
              "      <th>瀬戸市</th>\n",
              "      <td>185</td>\n",
              "      <td>144</td>\n",
              "      <td>0</td>\n",
              "    </tr>\n",
              "    <tr>\n",
              "      <th>春日井市</th>\n",
              "      <td>519</td>\n",
              "      <td>368</td>\n",
              "      <td>0</td>\n",
              "    </tr>\n",
              "    <tr>\n",
              "      <th>犬山市</th>\n",
              "      <td>72</td>\n",
              "      <td>68</td>\n",
              "      <td>0</td>\n",
              "    </tr>\n",
              "    <tr>\n",
              "      <th>江南市</th>\n",
              "      <td>150</td>\n",
              "      <td>114</td>\n",
              "      <td>0</td>\n",
              "    </tr>\n",
              "    <tr>\n",
              "      <th>小牧市</th>\n",
              "      <td>249</td>\n",
              "      <td>240</td>\n",
              "      <td>0</td>\n",
              "    </tr>\n",
              "    <tr>\n",
              "      <th>稲沢市</th>\n",
              "      <td>164</td>\n",
              "      <td>128</td>\n",
              "      <td>0</td>\n",
              "    </tr>\n",
              "    <tr>\n",
              "      <th>尾張旭市</th>\n",
              "      <td>112</td>\n",
              "      <td>106</td>\n",
              "      <td>0</td>\n",
              "    </tr>\n",
              "    <tr>\n",
              "      <th>岩倉市</th>\n",
              "      <td>66</td>\n",
              "      <td>68</td>\n",
              "      <td>0</td>\n",
              "    </tr>\n",
              "    <tr>\n",
              "      <th>豊明市</th>\n",
              "      <td>65</td>\n",
              "      <td>65</td>\n",
              "      <td>0</td>\n",
              "    </tr>\n",
              "    <tr>\n",
              "      <th>日進市</th>\n",
              "      <td>151</td>\n",
              "      <td>118</td>\n",
              "      <td>0</td>\n",
              "    </tr>\n",
              "    <tr>\n",
              "      <th>清須市</th>\n",
              "      <td>120</td>\n",
              "      <td>87</td>\n",
              "      <td>0</td>\n",
              "    </tr>\n",
              "    <tr>\n",
              "      <th>北名古屋市</th>\n",
              "      <td>135</td>\n",
              "      <td>134</td>\n",
              "      <td>0</td>\n",
              "    </tr>\n",
              "    <tr>\n",
              "      <th>長久手市</th>\n",
              "      <td>86</td>\n",
              "      <td>53</td>\n",
              "      <td>0</td>\n",
              "    </tr>\n",
              "    <tr>\n",
              "      <th>東郷町</th>\n",
              "      <td>52</td>\n",
              "      <td>47</td>\n",
              "      <td>0</td>\n",
              "    </tr>\n",
              "    <tr>\n",
              "      <th>豊山町</th>\n",
              "      <td>26</td>\n",
              "      <td>26</td>\n",
              "      <td>0</td>\n",
              "    </tr>\n",
              "    <tr>\n",
              "      <th>大口町</th>\n",
              "      <td>38</td>\n",
              "      <td>29</td>\n",
              "      <td>0</td>\n",
              "    </tr>\n",
              "    <tr>\n",
              "      <th>扶桑町</th>\n",
              "      <td>52</td>\n",
              "      <td>44</td>\n",
              "      <td>0</td>\n",
              "    </tr>\n",
              "    <tr>\n",
              "      <th>津島市</th>\n",
              "      <td>87</td>\n",
              "      <td>75</td>\n",
              "      <td>0</td>\n",
              "    </tr>\n",
              "    <tr>\n",
              "      <th>愛西市</th>\n",
              "      <td>97</td>\n",
              "      <td>83</td>\n",
              "      <td>0</td>\n",
              "    </tr>\n",
              "    <tr>\n",
              "      <th>弥富市</th>\n",
              "      <td>66</td>\n",
              "      <td>91</td>\n",
              "      <td>0</td>\n",
              "    </tr>\n",
              "    <tr>\n",
              "      <th>あま市</th>\n",
              "      <td>189</td>\n",
              "      <td>152</td>\n",
              "      <td>0</td>\n",
              "    </tr>\n",
              "    <tr>\n",
              "      <th>大治町</th>\n",
              "      <td>55</td>\n",
              "      <td>55</td>\n",
              "      <td>0</td>\n",
              "    </tr>\n",
              "    <tr>\n",
              "      <th>蟹江町</th>\n",
              "      <td>85</td>\n",
              "      <td>83</td>\n",
              "      <td>0</td>\n",
              "    </tr>\n",
              "    <tr>\n",
              "      <th>飛島村</th>\n",
              "      <td>12</td>\n",
              "      <td>5</td>\n",
              "      <td>0</td>\n",
              "    </tr>\n",
              "    <tr>\n",
              "      <th>半田市</th>\n",
              "      <td>141</td>\n",
              "      <td>114</td>\n",
              "      <td>0</td>\n",
              "    </tr>\n",
              "    <tr>\n",
              "      <th>常滑市</th>\n",
              "      <td>52</td>\n",
              "      <td>34</td>\n",
              "      <td>0</td>\n",
              "    </tr>\n",
              "    <tr>\n",
              "      <th>東海市</th>\n",
              "      <td>179</td>\n",
              "      <td>130</td>\n",
              "      <td>0</td>\n",
              "    </tr>\n",
              "    <tr>\n",
              "      <th>大府市</th>\n",
              "      <td>104</td>\n",
              "      <td>71</td>\n",
              "      <td>0</td>\n",
              "    </tr>\n",
              "    <tr>\n",
              "      <th>知多市</th>\n",
              "      <td>112</td>\n",
              "      <td>102</td>\n",
              "      <td>0</td>\n",
              "    </tr>\n",
              "    <tr>\n",
              "      <th>阿久比町</th>\n",
              "      <td>16</td>\n",
              "      <td>17</td>\n",
              "      <td>0</td>\n",
              "    </tr>\n",
              "    <tr>\n",
              "      <th>東浦町</th>\n",
              "      <td>44</td>\n",
              "      <td>42</td>\n",
              "      <td>0</td>\n",
              "    </tr>\n",
              "    <tr>\n",
              "      <th>南知多町</th>\n",
              "      <td>11</td>\n",
              "      <td>13</td>\n",
              "      <td>0</td>\n",
              "    </tr>\n",
              "    <tr>\n",
              "      <th>美浜町</th>\n",
              "      <td>18</td>\n",
              "      <td>8</td>\n",
              "      <td>0</td>\n",
              "    </tr>\n",
              "    <tr>\n",
              "      <th>武豊町</th>\n",
              "      <td>45</td>\n",
              "      <td>41</td>\n",
              "      <td>0</td>\n",
              "    </tr>\n",
              "    <tr>\n",
              "      <th>岡崎市</th>\n",
              "      <td>468</td>\n",
              "      <td>408</td>\n",
              "      <td>0</td>\n",
              "    </tr>\n",
              "    <tr>\n",
              "      <th>碧南市</th>\n",
              "      <td>92</td>\n",
              "      <td>73</td>\n",
              "      <td>0</td>\n",
              "    </tr>\n",
              "    <tr>\n",
              "      <th>刈谷市</th>\n",
              "      <td>175</td>\n",
              "      <td>150</td>\n",
              "      <td>0</td>\n",
              "    </tr>\n",
              "    <tr>\n",
              "      <th>豊田市</th>\n",
              "      <td>663</td>\n",
              "      <td>457</td>\n",
              "      <td>0</td>\n",
              "    </tr>\n",
              "    <tr>\n",
              "      <th>安城市</th>\n",
              "      <td>166</td>\n",
              "      <td>118</td>\n",
              "      <td>0</td>\n",
              "    </tr>\n",
              "    <tr>\n",
              "      <th>西尾市</th>\n",
              "      <td>197</td>\n",
              "      <td>167</td>\n",
              "      <td>0</td>\n",
              "    </tr>\n",
              "    <tr>\n",
              "      <th>知立市</th>\n",
              "      <td>107</td>\n",
              "      <td>86</td>\n",
              "      <td>0</td>\n",
              "    </tr>\n",
              "    <tr>\n",
              "      <th>高浜市</th>\n",
              "      <td>42</td>\n",
              "      <td>35</td>\n",
              "      <td>0</td>\n",
              "    </tr>\n",
              "    <tr>\n",
              "      <th>みよし市</th>\n",
              "      <td>73</td>\n",
              "      <td>50</td>\n",
              "      <td>0</td>\n",
              "    </tr>\n",
              "    <tr>\n",
              "      <th>幸田町</th>\n",
              "      <td>45</td>\n",
              "      <td>69</td>\n",
              "      <td>0</td>\n",
              "    </tr>\n",
              "    <tr>\n",
              "      <th>豊橋市</th>\n",
              "      <td>514</td>\n",
              "      <td>489</td>\n",
              "      <td>0</td>\n",
              "    </tr>\n",
              "    <tr>\n",
              "      <th>豊川市</th>\n",
              "      <td>188</td>\n",
              "      <td>180</td>\n",
              "      <td>0</td>\n",
              "    </tr>\n",
              "    <tr>\n",
              "      <th>蒲郡市</th>\n",
              "      <td>98</td>\n",
              "      <td>83</td>\n",
              "      <td>0</td>\n",
              "    </tr>\n",
              "    <tr>\n",
              "      <th>新城市</th>\n",
              "      <td>26</td>\n",
              "      <td>23</td>\n",
              "      <td>0</td>\n",
              "    </tr>\n",
              "    <tr>\n",
              "      <th>田原市</th>\n",
              "      <td>44</td>\n",
              "      <td>23</td>\n",
              "      <td>0</td>\n",
              "    </tr>\n",
              "    <tr>\n",
              "      <th>設楽町</th>\n",
              "      <td>1</td>\n",
              "      <td>1</td>\n",
              "      <td>0</td>\n",
              "    </tr>\n",
              "    <tr>\n",
              "      <th>東栄町</th>\n",
              "      <td>2</td>\n",
              "      <td>1</td>\n",
              "      <td>0</td>\n",
              "    </tr>\n",
              "    <tr>\n",
              "      <th>豊根村</th>\n",
              "      <td>1</td>\n",
              "      <td>0</td>\n",
              "      <td>0</td>\n",
              "    </tr>\n",
              "    <tr>\n",
              "      <th>県外</th>\n",
              "      <td>109</td>\n",
              "      <td>41</td>\n",
              "      <td>0</td>\n",
              "    </tr>\n",
              "  </tbody>\n",
              "</table>\n",
              "</div>"
            ],
            "text/plain": [
              "性別       男性    女性  その他\n",
              "住居地                   \n",
              "名古屋市   6019  5241    0\n",
              "一宮市     502   465    0\n",
              "瀬戸市     185   144    0\n",
              "春日井市    519   368    0\n",
              "犬山市      72    68    0\n",
              "江南市     150   114    0\n",
              "小牧市     249   240    0\n",
              "稲沢市     164   128    0\n",
              "尾張旭市    112   106    0\n",
              "岩倉市      66    68    0\n",
              "豊明市      65    65    0\n",
              "日進市     151   118    0\n",
              "清須市     120    87    0\n",
              "北名古屋市   135   134    0\n",
              "長久手市     86    53    0\n",
              "東郷町      52    47    0\n",
              "豊山町      26    26    0\n",
              "大口町      38    29    0\n",
              "扶桑町      52    44    0\n",
              "津島市      87    75    0\n",
              "愛西市      97    83    0\n",
              "弥富市      66    91    0\n",
              "あま市     189   152    0\n",
              "大治町      55    55    0\n",
              "蟹江町      85    83    0\n",
              "飛島村      12     5    0\n",
              "半田市     141   114    0\n",
              "常滑市      52    34    0\n",
              "東海市     179   130    0\n",
              "大府市     104    71    0\n",
              "知多市     112   102    0\n",
              "阿久比町     16    17    0\n",
              "東浦町      44    42    0\n",
              "南知多町     11    13    0\n",
              "美浜町      18     8    0\n",
              "武豊町      45    41    0\n",
              "岡崎市     468   408    0\n",
              "碧南市      92    73    0\n",
              "刈谷市     175   150    0\n",
              "豊田市     663   457    0\n",
              "安城市     166   118    0\n",
              "西尾市     197   167    0\n",
              "知立市     107    86    0\n",
              "高浜市      42    35    0\n",
              "みよし市     73    50    0\n",
              "幸田町      45    69    0\n",
              "豊橋市     514   489    0\n",
              "豊川市     188   180    0\n",
              "蒲郡市      98    83    0\n",
              "新城市      26    23    0\n",
              "田原市      44    23    0\n",
              "設楽町       1     1    0\n",
              "東栄町       2     1    0\n",
              "豊根村       1     0    0\n",
              "県外      109    41    0"
            ]
          },
          "metadata": {
            "tags": []
          },
          "execution_count": 63
        }
      ]
    },
    {
      "cell_type": "code",
      "metadata": {
        "id": "l88eHSPuHTZo",
        "colab": {
          "base_uri": "https://localhost:8080/",
          "height": 912
        },
        "outputId": "8a197b26-3c50-49a3-bfd3-905da1c90e35"
      },
      "source": [
        "df_area_sex.T.plot.bar(subplots=True, layout=(7, 8), figsize=(20, 15), legend=False);"
      ],
      "execution_count": null,
      "outputs": [
        {
          "output_type": "display_data",
          "data": {
            "image/png": "[encoded data removed]",
            "text/plain": [
              "<Figure size 1440x1080 with 56 Axes>"
            ]
          },
          "metadata": {
            "tags": [],
            "needs_background": "light"
          }
        }
      ]
    },
    {
      "cell_type": "markdown",
      "metadata": {
        "id": "bEhtCGDpKrIw"
      },
      "source": [
        "# 年代別性別"
      ]
    },
    {
      "cell_type": "code",
      "metadata": {
        "id": "VU90ycv3Juzg",
        "colab": {
          "base_uri": "https://localhost:8080/",
          "height": 457
        },
        "outputId": "2062706a-dfcd-42d3-f1e1-72835db919cb"
      },
      "source": [
        "df_ages_sex = pd.crosstab(df[\"年代\"], df[\"性別\"]).reindex(index=ages_list + [\"その他\"], columns=[\"男性\", \"女性\", \"その他\"], fill_value=0)\r\n",
        "df_ages_sex"
      ],
      "execution_count": null,
      "outputs": [
        {
          "output_type": "execute_result",
          "data": {
            "text/html": [
              "<div>\n",
              "<style scoped>\n",
              "    .dataframe tbody tr th:only-of-type {\n",
              "        vertical-align: middle;\n",
              "    }\n",
              "\n",
              "    .dataframe tbody tr th {\n",
              "        vertical-align: top;\n",
              "    }\n",
              "\n",
              "    .dataframe thead th {\n",
              "        text-align: right;\n",
              "    }\n",
              "</style>\n",
              "<table border=\"1\" class=\"dataframe\">\n",
              "  <thead>\n",
              "    <tr style=\"text-align: right;\">\n",
              "      <th>性別</th>\n",
              "      <th>男性</th>\n",
              "      <th>女性</th>\n",
              "      <th>その他</th>\n",
              "    </tr>\n",
              "    <tr>\n",
              "      <th>年代</th>\n",
              "      <th></th>\n",
              "      <th></th>\n",
              "      <th></th>\n",
              "    </tr>\n",
              "  </thead>\n",
              "  <tbody>\n",
              "    <tr>\n",
              "      <th>10歳未満</th>\n",
              "      <td>398</td>\n",
              "      <td>392</td>\n",
              "      <td>0</td>\n",
              "    </tr>\n",
              "    <tr>\n",
              "      <th>10代</th>\n",
              "      <td>921</td>\n",
              "      <td>761</td>\n",
              "      <td>0</td>\n",
              "    </tr>\n",
              "    <tr>\n",
              "      <th>20代</th>\n",
              "      <td>2977</td>\n",
              "      <td>2647</td>\n",
              "      <td>0</td>\n",
              "    </tr>\n",
              "    <tr>\n",
              "      <th>30代</th>\n",
              "      <td>2012</td>\n",
              "      <td>1544</td>\n",
              "      <td>0</td>\n",
              "    </tr>\n",
              "    <tr>\n",
              "      <th>40代</th>\n",
              "      <td>2001</td>\n",
              "      <td>1371</td>\n",
              "      <td>0</td>\n",
              "    </tr>\n",
              "    <tr>\n",
              "      <th>50代</th>\n",
              "      <td>1785</td>\n",
              "      <td>1397</td>\n",
              "      <td>0</td>\n",
              "    </tr>\n",
              "    <tr>\n",
              "      <th>60代</th>\n",
              "      <td>1207</td>\n",
              "      <td>858</td>\n",
              "      <td>0</td>\n",
              "    </tr>\n",
              "    <tr>\n",
              "      <th>70代</th>\n",
              "      <td>1039</td>\n",
              "      <td>1011</td>\n",
              "      <td>0</td>\n",
              "    </tr>\n",
              "    <tr>\n",
              "      <th>80代</th>\n",
              "      <td>626</td>\n",
              "      <td>824</td>\n",
              "      <td>0</td>\n",
              "    </tr>\n",
              "    <tr>\n",
              "      <th>90代</th>\n",
              "      <td>118</td>\n",
              "      <td>297</td>\n",
              "      <td>0</td>\n",
              "    </tr>\n",
              "    <tr>\n",
              "      <th>100代</th>\n",
              "      <td>3</td>\n",
              "      <td>11</td>\n",
              "      <td>0</td>\n",
              "    </tr>\n",
              "    <tr>\n",
              "      <th>その他</th>\n",
              "      <td>0</td>\n",
              "      <td>2</td>\n",
              "      <td>0</td>\n",
              "    </tr>\n",
              "  </tbody>\n",
              "</table>\n",
              "</div>"
            ],
            "text/plain": [
              "性別       男性    女性  その他\n",
              "年代                    \n",
              "10歳未満   398   392    0\n",
              "10代     921   761    0\n",
              "20代    2977  2647    0\n",
              "30代    2012  1544    0\n",
              "40代    2001  1371    0\n",
              "50代    1785  1397    0\n",
              "60代    1207   858    0\n",
              "70代    1039  1011    0\n",
              "80代     626   824    0\n",
              "90代     118   297    0\n",
              "100代      3    11    0\n",
              "その他       0     2    0"
            ]
          },
          "metadata": {
            "tags": []
          },
          "execution_count": 65
        }
      ]
    },
    {
      "cell_type": "code",
      "metadata": {
        "id": "hZz16zLMKAzY",
        "colab": {
          "base_uri": "https://localhost:8080/",
          "height": 281
        },
        "outputId": "818f6f58-0461-49b5-bbff-e378f041636b"
      },
      "source": [
        "df_ages_sex.plot.barh()"
      ],
      "execution_count": null,
      "outputs": [
        {
          "output_type": "execute_result",
          "data": {
            "text/plain": [
              "<matplotlib.axes._subplots.AxesSubplot at 0x7f1505ae0dd8>"
            ]
          },
          "metadata": {
            "tags": []
          },
          "execution_count": 66
        },
        {
          "output_type": "display_data",
          "data": {
            "image/png": "[encoded data removed]",
            "text/plain": [
              "<Figure size 432x288 with 1 Axes>"
            ]
          },
          "metadata": {
            "tags": [],
            "needs_background": "light"
          }
        }
      ]
    }
  ]
}