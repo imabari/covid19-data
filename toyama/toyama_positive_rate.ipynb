{
  "nbformat": 4,
  "nbformat_minor": 0,
  "metadata": {
    "colab": {
      "name": "toyama_positive_rate.ipynb",
      "provenance": [],
      "collapsed_sections": [],
      "toc_visible": true,
      "authorship_tag": "ABX9TyMXAPHhhyzBZbv1ckA1+g5p",
      "include_colab_link": true
    },
    "kernelspec": {
      "name": "python3",
      "display_name": "Python 3"
    }
  },
  "cells": [
    {
      "cell_type": "markdown",
      "metadata": {
        "id": "view-in-github",
        "colab_type": "text"
      },
      "source": [
        "<a href=\"https://colab.research.google.com/github/imabari/covid19-data/blob/master/toyama/toyama_positive_rate.ipynb\" target=\"_parent\"><img src=\"https://colab.research.google.com/assets/colab-badge.svg\" alt=\"Open In Colab\"/></a>"
      ]
    },
    {
      "cell_type": "code",
      "metadata": {
        "id": "ZB1dP_3BUG7S"
      },
      "source": [
        "import pandas as pd"
      ],
      "execution_count": 1,
      "outputs": []
    },
    {
      "cell_type": "markdown",
      "metadata": {
        "id": "YJmi32_nvn3S"
      },
      "source": [
        "# オープンデータ"
      ]
    },
    {
      "cell_type": "code",
      "metadata": {
        "id": "xiYIP49iUP1Q"
      },
      "source": [
        "COUNTS_URL = \"https://docs.google.com/spreadsheets/d/e/2PACX-1vSJuQThafLPC7OPqUC9TbLV1DmSU0x2Co8VZi2Q2ZZCKLJCTayDl6IoXKyK676mzBgpkoKMgpNK1VML/pub?gid=574469870&single=true&output=csv\""
      ],
      "execution_count": 2,
      "outputs": []
    },
    {
      "cell_type": "code",
      "metadata": {
        "id": "LXgpfRdGURFV"
      },
      "source": [
        "df1 = pd.read_csv(COUNTS_URL, index_col=0, parse_dates=True, usecols=[0, 1, 2, 3, 4, 7, 8]).dropna(thresh=5).fillna(0).astype(int)"
      ],
      "execution_count": 3,
      "outputs": []
    },
    {
      "cell_type": "code",
      "metadata": {
        "colab": {
          "base_uri": "https://localhost:8080/",
          "height": 455
        },
        "id": "uhkFtJultSNr",
        "outputId": "66b47998-de8d-4e3f-8b8c-b74307fb4de1"
      },
      "source": [
        "df1"
      ],
      "execution_count": 4,
      "outputs": [
        {
          "output_type": "execute_result",
          "data": {
            "text/html": [
              "<div>\n",
              "<style scoped>\n",
              "    .dataframe tbody tr th:only-of-type {\n",
              "        vertical-align: middle;\n",
              "    }\n",
              "\n",
              "    .dataframe tbody tr th {\n",
              "        vertical-align: top;\n",
              "    }\n",
              "\n",
              "    .dataframe thead th {\n",
              "        text-align: right;\n",
              "    }\n",
              "</style>\n",
              "<table border=\"1\" class=\"dataframe\">\n",
              "  <thead>\n",
              "    <tr style=\"text-align: right;\">\n",
              "      <th></th>\n",
              "      <th>PCR検査数</th>\n",
              "      <th>抗原検査数</th>\n",
              "      <th>陰性人数</th>\n",
              "      <th>陽性人数</th>\n",
              "      <th>退院者数</th>\n",
              "      <th>死亡者数</th>\n",
              "    </tr>\n",
              "    <tr>\n",
              "      <th>年月日</th>\n",
              "      <th></th>\n",
              "      <th></th>\n",
              "      <th></th>\n",
              "      <th></th>\n",
              "      <th></th>\n",
              "      <th></th>\n",
              "    </tr>\n",
              "  </thead>\n",
              "  <tbody>\n",
              "    <tr>\n",
              "      <th>2020-02-27</th>\n",
              "      <td>24</td>\n",
              "      <td>0</td>\n",
              "      <td>24</td>\n",
              "      <td>0</td>\n",
              "      <td>0</td>\n",
              "      <td>0</td>\n",
              "    </tr>\n",
              "    <tr>\n",
              "      <th>2020-02-28</th>\n",
              "      <td>0</td>\n",
              "      <td>0</td>\n",
              "      <td>0</td>\n",
              "      <td>0</td>\n",
              "      <td>0</td>\n",
              "      <td>0</td>\n",
              "    </tr>\n",
              "    <tr>\n",
              "      <th>2020-02-29</th>\n",
              "      <td>0</td>\n",
              "      <td>0</td>\n",
              "      <td>0</td>\n",
              "      <td>0</td>\n",
              "      <td>0</td>\n",
              "      <td>0</td>\n",
              "    </tr>\n",
              "    <tr>\n",
              "      <th>2020-03-01</th>\n",
              "      <td>1</td>\n",
              "      <td>0</td>\n",
              "      <td>1</td>\n",
              "      <td>0</td>\n",
              "      <td>0</td>\n",
              "      <td>0</td>\n",
              "    </tr>\n",
              "    <tr>\n",
              "      <th>2020-03-02</th>\n",
              "      <td>1</td>\n",
              "      <td>0</td>\n",
              "      <td>1</td>\n",
              "      <td>0</td>\n",
              "      <td>0</td>\n",
              "      <td>0</td>\n",
              "    </tr>\n",
              "    <tr>\n",
              "      <th>...</th>\n",
              "      <td>...</td>\n",
              "      <td>...</td>\n",
              "      <td>...</td>\n",
              "      <td>...</td>\n",
              "      <td>...</td>\n",
              "      <td>...</td>\n",
              "    </tr>\n",
              "    <tr>\n",
              "      <th>2021-01-02</th>\n",
              "      <td>37</td>\n",
              "      <td>29</td>\n",
              "      <td>31</td>\n",
              "      <td>6</td>\n",
              "      <td>2</td>\n",
              "      <td>0</td>\n",
              "    </tr>\n",
              "    <tr>\n",
              "      <th>2021-01-03</th>\n",
              "      <td>28</td>\n",
              "      <td>31</td>\n",
              "      <td>21</td>\n",
              "      <td>7</td>\n",
              "      <td>8</td>\n",
              "      <td>0</td>\n",
              "    </tr>\n",
              "    <tr>\n",
              "      <th>2021-01-04</th>\n",
              "      <td>152</td>\n",
              "      <td>41</td>\n",
              "      <td>143</td>\n",
              "      <td>9</td>\n",
              "      <td>5</td>\n",
              "      <td>0</td>\n",
              "    </tr>\n",
              "    <tr>\n",
              "      <th>2021-01-05</th>\n",
              "      <td>238</td>\n",
              "      <td>88</td>\n",
              "      <td>219</td>\n",
              "      <td>19</td>\n",
              "      <td>14</td>\n",
              "      <td>0</td>\n",
              "    </tr>\n",
              "    <tr>\n",
              "      <th>2021-01-06</th>\n",
              "      <td>179</td>\n",
              "      <td>79</td>\n",
              "      <td>152</td>\n",
              "      <td>27</td>\n",
              "      <td>9</td>\n",
              "      <td>0</td>\n",
              "    </tr>\n",
              "  </tbody>\n",
              "</table>\n",
              "<p>315 rows × 6 columns</p>\n",
              "</div>"
            ],
            "text/plain": [
              "            PCR検査数  抗原検査数  陰性人数  陽性人数  退院者数  死亡者数\n",
              "年月日                                              \n",
              "2020-02-27      24      0    24     0     0     0\n",
              "2020-02-28       0      0     0     0     0     0\n",
              "2020-02-29       0      0     0     0     0     0\n",
              "2020-03-01       1      0     1     0     0     0\n",
              "2020-03-02       1      0     1     0     0     0\n",
              "...            ...    ...   ...   ...   ...   ...\n",
              "2021-01-02      37     29    31     6     2     0\n",
              "2021-01-03      28     31    21     7     8     0\n",
              "2021-01-04     152     41   143     9     5     0\n",
              "2021-01-05     238     88   219    19    14     0\n",
              "2021-01-06     179     79   152    27     9     0\n",
              "\n",
              "[315 rows x 6 columns]"
            ]
          },
          "metadata": {
            "tags": []
          },
          "execution_count": 4
        }
      ]
    },
    {
      "cell_type": "code",
      "metadata": {
        "id": "tkEfzMdGWbBm"
      },
      "source": [
        "df1[\"検査数\"] = df1[\"PCR検査数\"] + df1[\"抗原検査数\"]"
      ],
      "execution_count": 5,
      "outputs": []
    },
    {
      "cell_type": "code",
      "metadata": {
        "id": "pPX5U8tLX5KF"
      },
      "source": [
        "df1[\"陽性者累計\"] = df1[\"陽性人数\"].cumsum()\r\n",
        "df1[\"退院者累計\"] = df1[\"退院者数\"].cumsum()\r\n",
        "df1[\"死亡者累計\"] = df1[\"死亡者数\"].cumsum()"
      ],
      "execution_count": 6,
      "outputs": []
    },
    {
      "cell_type": "code",
      "metadata": {
        "id": "_H_RD2h6YRUc"
      },
      "source": [
        "df1[\"入院者数\"] = df1[\"陽性者累計\"] - df1[\"退院者累計\"] - df1[\"死亡者累計\"]"
      ],
      "execution_count": 7,
      "outputs": []
    },
    {
      "cell_type": "code",
      "metadata": {
        "id": "7UoboiGiZEwj"
      },
      "source": [
        "df1[\"入院者数_週平均\"] = df1[\"入院者数\"].rolling(window=7).mean().fillna(0)"
      ],
      "execution_count": 8,
      "outputs": []
    },
    {
      "cell_type": "code",
      "metadata": {
        "id": "RPTCAyhiWmKk"
      },
      "source": [
        "df1[\"陽性率\"] = (\r\n",
        "    df1[\"陽性人数\"].rolling(window=7).mean() / df1[\"検査数\"].rolling(window=7).mean() * 100\r\n",
        ").round(1).fillna(0)"
      ],
      "execution_count": 9,
      "outputs": []
    },
    {
      "cell_type": "code",
      "metadata": {
        "id": "FYPJSHanxRlg"
      },
      "source": [
        "df1[\"PCR陽性率\"] = (\r\n",
        "    df1[\"陽性人数\"].rolling(window=7).mean() / df1[\"PCR検査数\"].rolling(window=7).mean() * 100\r\n",
        ").round(1).fillna(0)"
      ],
      "execution_count": 10,
      "outputs": []
    },
    {
      "cell_type": "code",
      "metadata": {
        "colab": {
          "base_uri": "https://localhost:8080/",
          "height": 395
        },
        "id": "aL5fzStEW4ut",
        "outputId": "26c38110-7e0a-4b71-d888-22b6dbd818c9"
      },
      "source": [
        "df1.tail(10)"
      ],
      "execution_count": 11,
      "outputs": [
        {
          "output_type": "execute_result",
          "data": {
            "text/html": [
              "<div>\n",
              "<style scoped>\n",
              "    .dataframe tbody tr th:only-of-type {\n",
              "        vertical-align: middle;\n",
              "    }\n",
              "\n",
              "    .dataframe tbody tr th {\n",
              "        vertical-align: top;\n",
              "    }\n",
              "\n",
              "    .dataframe thead th {\n",
              "        text-align: right;\n",
              "    }\n",
              "</style>\n",
              "<table border=\"1\" class=\"dataframe\">\n",
              "  <thead>\n",
              "    <tr style=\"text-align: right;\">\n",
              "      <th></th>\n",
              "      <th>PCR検査数</th>\n",
              "      <th>抗原検査数</th>\n",
              "      <th>陰性人数</th>\n",
              "      <th>陽性人数</th>\n",
              "      <th>退院者数</th>\n",
              "      <th>死亡者数</th>\n",
              "      <th>検査数</th>\n",
              "      <th>陽性者累計</th>\n",
              "      <th>退院者累計</th>\n",
              "      <th>死亡者累計</th>\n",
              "      <th>入院者数</th>\n",
              "      <th>入院者数_週平均</th>\n",
              "      <th>陽性率</th>\n",
              "      <th>PCR陽性率</th>\n",
              "    </tr>\n",
              "    <tr>\n",
              "      <th>年月日</th>\n",
              "      <th></th>\n",
              "      <th></th>\n",
              "      <th></th>\n",
              "      <th></th>\n",
              "      <th></th>\n",
              "      <th></th>\n",
              "      <th></th>\n",
              "      <th></th>\n",
              "      <th></th>\n",
              "      <th></th>\n",
              "      <th></th>\n",
              "      <th></th>\n",
              "      <th></th>\n",
              "      <th></th>\n",
              "    </tr>\n",
              "  </thead>\n",
              "  <tbody>\n",
              "    <tr>\n",
              "      <th>2020-12-28</th>\n",
              "      <td>110</td>\n",
              "      <td>28</td>\n",
              "      <td>105</td>\n",
              "      <td>5</td>\n",
              "      <td>3</td>\n",
              "      <td>0</td>\n",
              "      <td>138</td>\n",
              "      <td>548</td>\n",
              "      <td>462</td>\n",
              "      <td>26</td>\n",
              "      <td>60</td>\n",
              "      <td>52.285714</td>\n",
              "      <td>2.7</td>\n",
              "      <td>3.4</td>\n",
              "    </tr>\n",
              "    <tr>\n",
              "      <th>2020-12-29</th>\n",
              "      <td>132</td>\n",
              "      <td>83</td>\n",
              "      <td>129</td>\n",
              "      <td>3</td>\n",
              "      <td>6</td>\n",
              "      <td>0</td>\n",
              "      <td>215</td>\n",
              "      <td>551</td>\n",
              "      <td>468</td>\n",
              "      <td>26</td>\n",
              "      <td>57</td>\n",
              "      <td>54.857143</td>\n",
              "      <td>2.5</td>\n",
              "      <td>3.3</td>\n",
              "    </tr>\n",
              "    <tr>\n",
              "      <th>2020-12-30</th>\n",
              "      <td>41</td>\n",
              "      <td>41</td>\n",
              "      <td>38</td>\n",
              "      <td>3</td>\n",
              "      <td>7</td>\n",
              "      <td>0</td>\n",
              "      <td>82</td>\n",
              "      <td>554</td>\n",
              "      <td>475</td>\n",
              "      <td>26</td>\n",
              "      <td>53</td>\n",
              "      <td>57.142857</td>\n",
              "      <td>2.8</td>\n",
              "      <td>3.6</td>\n",
              "    </tr>\n",
              "    <tr>\n",
              "      <th>2020-12-31</th>\n",
              "      <td>44</td>\n",
              "      <td>34</td>\n",
              "      <td>36</td>\n",
              "      <td>8</td>\n",
              "      <td>3</td>\n",
              "      <td>0</td>\n",
              "      <td>78</td>\n",
              "      <td>562</td>\n",
              "      <td>478</td>\n",
              "      <td>26</td>\n",
              "      <td>58</td>\n",
              "      <td>57.571429</td>\n",
              "      <td>2.1</td>\n",
              "      <td>2.9</td>\n",
              "    </tr>\n",
              "    <tr>\n",
              "      <th>2021-01-01</th>\n",
              "      <td>25</td>\n",
              "      <td>44</td>\n",
              "      <td>18</td>\n",
              "      <td>7</td>\n",
              "      <td>3</td>\n",
              "      <td>0</td>\n",
              "      <td>69</td>\n",
              "      <td>569</td>\n",
              "      <td>481</td>\n",
              "      <td>26</td>\n",
              "      <td>62</td>\n",
              "      <td>58.142857</td>\n",
              "      <td>3.0</td>\n",
              "      <td>4.4</td>\n",
              "    </tr>\n",
              "    <tr>\n",
              "      <th>2021-01-02</th>\n",
              "      <td>37</td>\n",
              "      <td>29</td>\n",
              "      <td>31</td>\n",
              "      <td>6</td>\n",
              "      <td>2</td>\n",
              "      <td>0</td>\n",
              "      <td>66</td>\n",
              "      <td>575</td>\n",
              "      <td>483</td>\n",
              "      <td>26</td>\n",
              "      <td>66</td>\n",
              "      <td>59.142857</td>\n",
              "      <td>4.7</td>\n",
              "      <td>7.5</td>\n",
              "    </tr>\n",
              "    <tr>\n",
              "      <th>2021-01-03</th>\n",
              "      <td>28</td>\n",
              "      <td>31</td>\n",
              "      <td>21</td>\n",
              "      <td>7</td>\n",
              "      <td>8</td>\n",
              "      <td>0</td>\n",
              "      <td>59</td>\n",
              "      <td>582</td>\n",
              "      <td>491</td>\n",
              "      <td>26</td>\n",
              "      <td>65</td>\n",
              "      <td>60.142857</td>\n",
              "      <td>5.5</td>\n",
              "      <td>9.4</td>\n",
              "    </tr>\n",
              "    <tr>\n",
              "      <th>2021-01-04</th>\n",
              "      <td>152</td>\n",
              "      <td>41</td>\n",
              "      <td>143</td>\n",
              "      <td>9</td>\n",
              "      <td>5</td>\n",
              "      <td>0</td>\n",
              "      <td>193</td>\n",
              "      <td>591</td>\n",
              "      <td>496</td>\n",
              "      <td>26</td>\n",
              "      <td>69</td>\n",
              "      <td>61.428571</td>\n",
              "      <td>5.6</td>\n",
              "      <td>9.4</td>\n",
              "    </tr>\n",
              "    <tr>\n",
              "      <th>2021-01-05</th>\n",
              "      <td>238</td>\n",
              "      <td>88</td>\n",
              "      <td>219</td>\n",
              "      <td>19</td>\n",
              "      <td>14</td>\n",
              "      <td>0</td>\n",
              "      <td>326</td>\n",
              "      <td>610</td>\n",
              "      <td>510</td>\n",
              "      <td>26</td>\n",
              "      <td>74</td>\n",
              "      <td>63.857143</td>\n",
              "      <td>6.8</td>\n",
              "      <td>10.4</td>\n",
              "    </tr>\n",
              "    <tr>\n",
              "      <th>2021-01-06</th>\n",
              "      <td>179</td>\n",
              "      <td>79</td>\n",
              "      <td>152</td>\n",
              "      <td>27</td>\n",
              "      <td>9</td>\n",
              "      <td>0</td>\n",
              "      <td>258</td>\n",
              "      <td>637</td>\n",
              "      <td>519</td>\n",
              "      <td>26</td>\n",
              "      <td>92</td>\n",
              "      <td>69.428571</td>\n",
              "      <td>7.9</td>\n",
              "      <td>11.8</td>\n",
              "    </tr>\n",
              "  </tbody>\n",
              "</table>\n",
              "</div>"
            ],
            "text/plain": [
              "            PCR検査数  抗原検査数  陰性人数  陽性人数  ...  入院者数   入院者数_週平均  陽性率  PCR陽性率\n",
              "年月日                                    ...                              \n",
              "2020-12-28     110     28   105     5  ...    60  52.285714  2.7     3.4\n",
              "2020-12-29     132     83   129     3  ...    57  54.857143  2.5     3.3\n",
              "2020-12-30      41     41    38     3  ...    53  57.142857  2.8     3.6\n",
              "2020-12-31      44     34    36     8  ...    58  57.571429  2.1     2.9\n",
              "2021-01-01      25     44    18     7  ...    62  58.142857  3.0     4.4\n",
              "2021-01-02      37     29    31     6  ...    66  59.142857  4.7     7.5\n",
              "2021-01-03      28     31    21     7  ...    65  60.142857  5.5     9.4\n",
              "2021-01-04     152     41   143     9  ...    69  61.428571  5.6     9.4\n",
              "2021-01-05     238     88   219    19  ...    74  63.857143  6.8    10.4\n",
              "2021-01-06     179     79   152    27  ...    92  69.428571  7.9    11.8\n",
              "\n",
              "[10 rows x 14 columns]"
            ]
          },
          "metadata": {
            "tags": []
          },
          "execution_count": 11
        }
      ]
    },
    {
      "cell_type": "markdown",
      "metadata": {
        "id": "9teEIYbccffF"
      },
      "source": [
        "# 富山県"
      ]
    },
    {
      "cell_type": "code",
      "metadata": {
        "id": "qfa7LiUdcp5l"
      },
      "source": [
        "import requests\r\n",
        "from bs4 import BeautifulSoup"
      ],
      "execution_count": 12,
      "outputs": []
    },
    {
      "cell_type": "code",
      "metadata": {
        "id": "pq17lvH7fGLU"
      },
      "source": [
        "import datetime"
      ],
      "execution_count": 13,
      "outputs": []
    },
    {
      "cell_type": "code",
      "metadata": {
        "id": "CJMN3nBgfEZ1"
      },
      "source": [
        "dt_now = datetime.datetime.now()"
      ],
      "execution_count": 14,
      "outputs": []
    },
    {
      "cell_type": "code",
      "metadata": {
        "id": "pG828gticZ6g"
      },
      "source": [
        "url = \"http://www.pref.toyama.jp/cms_sec/1205/kj00022038.html\"\r\n",
        "\r\n",
        "headers = {\r\n",
        "    \"User-Agent\": \"Mozilla/5.0 (Windows NT 10.0; WOW64; Trident/7.0; rv:11.0) like Gecko\",\r\n",
        "}"
      ],
      "execution_count": 15,
      "outputs": []
    },
    {
      "cell_type": "code",
      "metadata": {
        "id": "4SUhe8vDcnfU"
      },
      "source": [
        "r = requests.get(url, headers=headers)"
      ],
      "execution_count": 16,
      "outputs": []
    },
    {
      "cell_type": "code",
      "metadata": {
        "id": "CHkOJ8UHcaDV"
      },
      "source": [
        "r.raise_for_status()\r\n",
        "soup = BeautifulSoup(r.content, \"html.parser\")\r\n",
        "\r\n",
        "link = soup.find(\"div\", id=\"file\").find(\"a\", text=\"強化・緩和の判断指標（直近１週間平均）の推移\").get(\"href\")"
      ],
      "execution_count": 17,
      "outputs": []
    },
    {
      "cell_type": "code",
      "metadata": {
        "id": "njzeLc11caGU"
      },
      "source": [
        "df2 = pd.read_excel(link, index_col=[0,1,2], skiprows=2, header=None, skipfooter=4).T.reset_index(drop=True)"
      ],
      "execution_count": 18,
      "outputs": []
    },
    {
      "cell_type": "code",
      "metadata": {
        "id": "6hOSFIFOcaJK"
      },
      "source": [
        "df2.set_axis([\"年月日\", \"入院者数\", \"重症病床稼働率\", \"新規陽性者数\", \"感染経路不明の患者数\", \"陽性率\", \"比較\", \"達成状況\"], axis=1, inplace=True)"
      ],
      "execution_count": 19,
      "outputs": []
    },
    {
      "cell_type": "code",
      "metadata": {
        "id": "ns0s2h9claLW"
      },
      "source": [
        "df_date = df2[\"年月日\"].str.normalize(\"NFKC\").str.extract(\"(\\d{1,2})/(\\d{1,2})\").rename(columns={0: \"month\", 1: \"day\"}).fillna(0).astype(int)\r\n",
        "df_date[\"year\"] = dt_now.year\r\n",
        "tmp = pd.to_datetime(df_date, errors=\"coerce\")\r\n",
        "df_date[\"year\"] = df_date[\"year\"].mask(tmp > dt_now, df_date[\"year\"] - 1)\r\n",
        "\r\n",
        "df2[\"年月日\"] = pd.to_datetime(df_date, errors=\"coerce\")"
      ],
      "execution_count": 20,
      "outputs": []
    },
    {
      "cell_type": "code",
      "metadata": {
        "id": "c2vT8QrElPQf"
      },
      "source": [
        "df2[\"入院者数\"] = df2[\"入院者数\"].str.normalize(\"NFKC\").str.rstrip(\"人\").astype(float)\r\n",
        "df2[\"新規陽性者数\"] = df2[\"新規陽性者数\"].str.normalize(\"NFKC\").str.rstrip(\"人\").astype(float)\r\n",
        "df2[\"感染経路不明の患者数\"] = df2[\"感染経路不明の患者数\"].str.normalize(\"NFKC\").str.rstrip(\"人\").astype(float)"
      ],
      "execution_count": 21,
      "outputs": []
    },
    {
      "cell_type": "code",
      "metadata": {
        "id": "19hPO_Q6nLNH"
      },
      "source": [
        "df2[\"重症病床稼働率\"] = (df2[\"重症病床稼働率\"].astype(float) * 100).round(1)\r\n",
        "df2[\"陽性率\"] = (df2[\"陽性率\"].astype(float) * 100).round(1)"
      ],
      "execution_count": 22,
      "outputs": []
    },
    {
      "cell_type": "code",
      "metadata": {
        "id": "cfyCpBaOqLhB"
      },
      "source": [
        "df2.set_index(\"年月日\", inplace=True)"
      ],
      "execution_count": 23,
      "outputs": []
    },
    {
      "cell_type": "code",
      "metadata": {
        "colab": {
          "base_uri": "https://localhost:8080/"
        },
        "id": "wPzzrqjMl06h",
        "outputId": "b9ed431e-9244-4030-e4a9-336e39d7b761"
      },
      "source": [
        "df2.dtypes"
      ],
      "execution_count": 24,
      "outputs": [
        {
          "output_type": "execute_result",
          "data": {
            "text/plain": [
              "入院者数          float64\n",
              "重症病床稼働率       float64\n",
              "新規陽性者数        float64\n",
              "感染経路不明の患者数    float64\n",
              "陽性率           float64\n",
              "比較             object\n",
              "達成状況           object\n",
              "dtype: object"
            ]
          },
          "metadata": {
            "tags": []
          },
          "execution_count": 24
        }
      ]
    },
    {
      "cell_type": "code",
      "metadata": {
        "colab": {
          "base_uri": "https://localhost:8080/",
          "height": 395
        },
        "id": "_z3h2R_8caMU",
        "outputId": "6fc7f864-a0a5-4408-aebb-89d56240f7c7"
      },
      "source": [
        "df2.tail(10)"
      ],
      "execution_count": 25,
      "outputs": [
        {
          "output_type": "execute_result",
          "data": {
            "text/html": [
              "<div>\n",
              "<style scoped>\n",
              "    .dataframe tbody tr th:only-of-type {\n",
              "        vertical-align: middle;\n",
              "    }\n",
              "\n",
              "    .dataframe tbody tr th {\n",
              "        vertical-align: top;\n",
              "    }\n",
              "\n",
              "    .dataframe thead th {\n",
              "        text-align: right;\n",
              "    }\n",
              "</style>\n",
              "<table border=\"1\" class=\"dataframe\">\n",
              "  <thead>\n",
              "    <tr style=\"text-align: right;\">\n",
              "      <th></th>\n",
              "      <th>入院者数</th>\n",
              "      <th>重症病床稼働率</th>\n",
              "      <th>新規陽性者数</th>\n",
              "      <th>感染経路不明の患者数</th>\n",
              "      <th>陽性率</th>\n",
              "      <th>比較</th>\n",
              "      <th>達成状況</th>\n",
              "    </tr>\n",
              "    <tr>\n",
              "      <th>年月日</th>\n",
              "      <th></th>\n",
              "      <th></th>\n",
              "      <th></th>\n",
              "      <th></th>\n",
              "      <th></th>\n",
              "      <th></th>\n",
              "      <th></th>\n",
              "    </tr>\n",
              "  </thead>\n",
              "  <tbody>\n",
              "    <tr>\n",
              "      <th>2020-12-29</th>\n",
              "      <td>34.4</td>\n",
              "      <td>4.1</td>\n",
              "      <td>5.8</td>\n",
              "      <td>1.1</td>\n",
              "      <td>3.5</td>\n",
              "      <td>1.4</td>\n",
              "      <td>-</td>\n",
              "    </tr>\n",
              "    <tr>\n",
              "      <th>2020-12-30</th>\n",
              "      <td>35.0</td>\n",
              "      <td>4.5</td>\n",
              "      <td>5.7</td>\n",
              "      <td>1.4</td>\n",
              "      <td>4.0</td>\n",
              "      <td>1.3</td>\n",
              "      <td>-</td>\n",
              "    </tr>\n",
              "    <tr>\n",
              "      <th>2020-12-31</th>\n",
              "      <td>34.3</td>\n",
              "      <td>4.9</td>\n",
              "      <td>3.6</td>\n",
              "      <td>1.8</td>\n",
              "      <td>3.3</td>\n",
              "      <td>0.5</td>\n",
              "      <td>-</td>\n",
              "    </tr>\n",
              "    <tr>\n",
              "      <th>2021-01-01</th>\n",
              "      <td>33.4</td>\n",
              "      <td>5.3</td>\n",
              "      <td>4.0</td>\n",
              "      <td>2.3</td>\n",
              "      <td>5.5</td>\n",
              "      <td>0.6</td>\n",
              "      <td>-</td>\n",
              "    </tr>\n",
              "    <tr>\n",
              "      <th>2021-01-02</th>\n",
              "      <td>33.1</td>\n",
              "      <td>5.7</td>\n",
              "      <td>4.3</td>\n",
              "      <td>2.6</td>\n",
              "      <td>13.2</td>\n",
              "      <td>0.6</td>\n",
              "      <td>-</td>\n",
              "    </tr>\n",
              "    <tr>\n",
              "      <th>2021-01-03</th>\n",
              "      <td>33.0</td>\n",
              "      <td>5.7</td>\n",
              "      <td>4.7</td>\n",
              "      <td>3.0</td>\n",
              "      <td>17.7</td>\n",
              "      <td>0.7</td>\n",
              "      <td>-</td>\n",
              "    </tr>\n",
              "    <tr>\n",
              "      <th>2021-01-04</th>\n",
              "      <td>34.3</td>\n",
              "      <td>5.7</td>\n",
              "      <td>5.1</td>\n",
              "      <td>3.2</td>\n",
              "      <td>8.3</td>\n",
              "      <td>0.8</td>\n",
              "      <td>-</td>\n",
              "    </tr>\n",
              "    <tr>\n",
              "      <th>2021-01-05</th>\n",
              "      <td>38.0</td>\n",
              "      <td>5.7</td>\n",
              "      <td>6.6</td>\n",
              "      <td>3.6</td>\n",
              "      <td>10.4</td>\n",
              "      <td>1.1</td>\n",
              "      <td>-</td>\n",
              "    </tr>\n",
              "    <tr>\n",
              "      <th>2021-01-06</th>\n",
              "      <td>45.0</td>\n",
              "      <td>5.7</td>\n",
              "      <td>11.3</td>\n",
              "      <td>5.8</td>\n",
              "      <td>11.7</td>\n",
              "      <td>2</td>\n",
              "      <td>-</td>\n",
              "    </tr>\n",
              "    <tr>\n",
              "      <th>2021-01-07</th>\n",
              "      <td>51.0</td>\n",
              "      <td>5.7</td>\n",
              "      <td>13.1</td>\n",
              "      <td>5.5</td>\n",
              "      <td>11.2</td>\n",
              "      <td>3.7</td>\n",
              "      <td>-</td>\n",
              "    </tr>\n",
              "  </tbody>\n",
              "</table>\n",
              "</div>"
            ],
            "text/plain": [
              "            入院者数  重症病床稼働率  新規陽性者数  感染経路不明の患者数   陽性率   比較 達成状況\n",
              "年月日                                                          \n",
              "2020-12-29  34.4      4.1     5.8         1.1   3.5  1.4    -\n",
              "2020-12-30  35.0      4.5     5.7         1.4   4.0  1.3    -\n",
              "2020-12-31  34.3      4.9     3.6         1.8   3.3  0.5    -\n",
              "2021-01-01  33.4      5.3     4.0         2.3   5.5  0.6    -\n",
              "2021-01-02  33.1      5.7     4.3         2.6  13.2  0.6    -\n",
              "2021-01-03  33.0      5.7     4.7         3.0  17.7  0.7    -\n",
              "2021-01-04  34.3      5.7     5.1         3.2   8.3  0.8    -\n",
              "2021-01-05  38.0      5.7     6.6         3.6  10.4  1.1    -\n",
              "2021-01-06  45.0      5.7    11.3         5.8  11.7    2    -\n",
              "2021-01-07  51.0      5.7    13.1         5.5  11.2  3.7    -"
            ]
          },
          "metadata": {
            "tags": []
          },
          "execution_count": 25
        }
      ]
    },
    {
      "cell_type": "markdown",
      "metadata": {
        "id": "AYPqM60C3JUu"
      },
      "source": [
        "# 結合"
      ]
    },
    {
      "cell_type": "code",
      "metadata": {
        "id": "W86QmameqGCU"
      },
      "source": [
        "df = df1.join(df2, rsuffix=\"（県）\")"
      ],
      "execution_count": 26,
      "outputs": []
    },
    {
      "cell_type": "code",
      "metadata": {
        "id": "L0zulREmwjXS"
      },
      "source": [
        "dt_range = pd.date_range(\"2020-05-12\", \"2021-01-06\")"
      ],
      "execution_count": 27,
      "outputs": []
    },
    {
      "cell_type": "code",
      "metadata": {
        "id": "_rjs3jN7w6fS"
      },
      "source": [
        "df = df.reindex(index=dt_range)"
      ],
      "execution_count": 28,
      "outputs": []
    },
    {
      "cell_type": "code",
      "metadata": {
        "colab": {
          "base_uri": "https://localhost:8080/",
          "height": 441
        },
        "id": "1TCyN4t3xjkv",
        "outputId": "0df05c80-3778-40f9-eb87-75ad7e85960e"
      },
      "source": [
        "df"
      ],
      "execution_count": 29,
      "outputs": [
        {
          "output_type": "execute_result",
          "data": {
            "text/html": [
              "<div>\n",
              "<style scoped>\n",
              "    .dataframe tbody tr th:only-of-type {\n",
              "        vertical-align: middle;\n",
              "    }\n",
              "\n",
              "    .dataframe tbody tr th {\n",
              "        vertical-align: top;\n",
              "    }\n",
              "\n",
              "    .dataframe thead th {\n",
              "        text-align: right;\n",
              "    }\n",
              "</style>\n",
              "<table border=\"1\" class=\"dataframe\">\n",
              "  <thead>\n",
              "    <tr style=\"text-align: right;\">\n",
              "      <th></th>\n",
              "      <th>PCR検査数</th>\n",
              "      <th>抗原検査数</th>\n",
              "      <th>陰性人数</th>\n",
              "      <th>陽性人数</th>\n",
              "      <th>退院者数</th>\n",
              "      <th>死亡者数</th>\n",
              "      <th>検査数</th>\n",
              "      <th>陽性者累計</th>\n",
              "      <th>退院者累計</th>\n",
              "      <th>死亡者累計</th>\n",
              "      <th>入院者数</th>\n",
              "      <th>入院者数_週平均</th>\n",
              "      <th>陽性率</th>\n",
              "      <th>PCR陽性率</th>\n",
              "      <th>入院者数（県）</th>\n",
              "      <th>重症病床稼働率</th>\n",
              "      <th>新規陽性者数</th>\n",
              "      <th>感染経路不明の患者数</th>\n",
              "      <th>陽性率（県）</th>\n",
              "      <th>比較</th>\n",
              "      <th>達成状況</th>\n",
              "    </tr>\n",
              "  </thead>\n",
              "  <tbody>\n",
              "    <tr>\n",
              "      <th>2020-05-12</th>\n",
              "      <td>39</td>\n",
              "      <td>0</td>\n",
              "      <td>38</td>\n",
              "      <td>1</td>\n",
              "      <td>5</td>\n",
              "      <td>0</td>\n",
              "      <td>39</td>\n",
              "      <td>222</td>\n",
              "      <td>110</td>\n",
              "      <td>16</td>\n",
              "      <td>96</td>\n",
              "      <td>114.857143</td>\n",
              "      <td>2.1</td>\n",
              "      <td>2.1</td>\n",
              "      <td>77.9</td>\n",
              "      <td>7.9</td>\n",
              "      <td>0.8</td>\n",
              "      <td>0.14</td>\n",
              "      <td>2.1</td>\n",
              "      <td>-</td>\n",
              "      <td>-</td>\n",
              "    </tr>\n",
              "    <tr>\n",
              "      <th>2020-05-13</th>\n",
              "      <td>25</td>\n",
              "      <td>0</td>\n",
              "      <td>25</td>\n",
              "      <td>0</td>\n",
              "      <td>12</td>\n",
              "      <td>2</td>\n",
              "      <td>25</td>\n",
              "      <td>222</td>\n",
              "      <td>122</td>\n",
              "      <td>18</td>\n",
              "      <td>82</td>\n",
              "      <td>106.000000</td>\n",
              "      <td>2.1</td>\n",
              "      <td>2.1</td>\n",
              "      <td>74.9</td>\n",
              "      <td>7.9</td>\n",
              "      <td>0.8</td>\n",
              "      <td>0.14</td>\n",
              "      <td>2.1</td>\n",
              "      <td>-</td>\n",
              "      <td>-</td>\n",
              "    </tr>\n",
              "    <tr>\n",
              "      <th>2020-05-14</th>\n",
              "      <td>28</td>\n",
              "      <td>0</td>\n",
              "      <td>26</td>\n",
              "      <td>2</td>\n",
              "      <td>4</td>\n",
              "      <td>0</td>\n",
              "      <td>28</td>\n",
              "      <td>224</td>\n",
              "      <td>126</td>\n",
              "      <td>18</td>\n",
              "      <td>80</td>\n",
              "      <td>99.428571</td>\n",
              "      <td>2.6</td>\n",
              "      <td>2.6</td>\n",
              "      <td>70.6</td>\n",
              "      <td>8.6</td>\n",
              "      <td>1.0</td>\n",
              "      <td>0.14</td>\n",
              "      <td>2.6</td>\n",
              "      <td>-</td>\n",
              "      <td>-</td>\n",
              "    </tr>\n",
              "    <tr>\n",
              "      <th>2020-05-15</th>\n",
              "      <td>21</td>\n",
              "      <td>0</td>\n",
              "      <td>21</td>\n",
              "      <td>0</td>\n",
              "      <td>11</td>\n",
              "      <td>0</td>\n",
              "      <td>21</td>\n",
              "      <td>224</td>\n",
              "      <td>137</td>\n",
              "      <td>18</td>\n",
              "      <td>69</td>\n",
              "      <td>92.285714</td>\n",
              "      <td>2.7</td>\n",
              "      <td>2.7</td>\n",
              "      <td>66.6</td>\n",
              "      <td>9.3</td>\n",
              "      <td>0.8</td>\n",
              "      <td>0.14</td>\n",
              "      <td>2.7</td>\n",
              "      <td>-</td>\n",
              "      <td>-</td>\n",
              "    </tr>\n",
              "    <tr>\n",
              "      <th>2020-05-16</th>\n",
              "      <td>50</td>\n",
              "      <td>0</td>\n",
              "      <td>49</td>\n",
              "      <td>1</td>\n",
              "      <td>19</td>\n",
              "      <td>1</td>\n",
              "      <td>50</td>\n",
              "      <td>225</td>\n",
              "      <td>156</td>\n",
              "      <td>19</td>\n",
              "      <td>50</td>\n",
              "      <td>83.571429</td>\n",
              "      <td>2.2</td>\n",
              "      <td>2.2</td>\n",
              "      <td>62.9</td>\n",
              "      <td>10.0</td>\n",
              "      <td>0.5</td>\n",
              "      <td>0.14</td>\n",
              "      <td>2.2</td>\n",
              "      <td>-</td>\n",
              "      <td>-</td>\n",
              "    </tr>\n",
              "    <tr>\n",
              "      <th>...</th>\n",
              "      <td>...</td>\n",
              "      <td>...</td>\n",
              "      <td>...</td>\n",
              "      <td>...</td>\n",
              "      <td>...</td>\n",
              "      <td>...</td>\n",
              "      <td>...</td>\n",
              "      <td>...</td>\n",
              "      <td>...</td>\n",
              "      <td>...</td>\n",
              "      <td>...</td>\n",
              "      <td>...</td>\n",
              "      <td>...</td>\n",
              "      <td>...</td>\n",
              "      <td>...</td>\n",
              "      <td>...</td>\n",
              "      <td>...</td>\n",
              "      <td>...</td>\n",
              "      <td>...</td>\n",
              "      <td>...</td>\n",
              "      <td>...</td>\n",
              "    </tr>\n",
              "    <tr>\n",
              "      <th>2021-01-02</th>\n",
              "      <td>37</td>\n",
              "      <td>29</td>\n",
              "      <td>31</td>\n",
              "      <td>6</td>\n",
              "      <td>2</td>\n",
              "      <td>0</td>\n",
              "      <td>66</td>\n",
              "      <td>575</td>\n",
              "      <td>483</td>\n",
              "      <td>26</td>\n",
              "      <td>66</td>\n",
              "      <td>59.142857</td>\n",
              "      <td>4.7</td>\n",
              "      <td>7.5</td>\n",
              "      <td>33.1</td>\n",
              "      <td>5.7</td>\n",
              "      <td>4.3</td>\n",
              "      <td>2.60</td>\n",
              "      <td>13.2</td>\n",
              "      <td>0.6</td>\n",
              "      <td>-</td>\n",
              "    </tr>\n",
              "    <tr>\n",
              "      <th>2021-01-03</th>\n",
              "      <td>28</td>\n",
              "      <td>31</td>\n",
              "      <td>21</td>\n",
              "      <td>7</td>\n",
              "      <td>8</td>\n",
              "      <td>0</td>\n",
              "      <td>59</td>\n",
              "      <td>582</td>\n",
              "      <td>491</td>\n",
              "      <td>26</td>\n",
              "      <td>65</td>\n",
              "      <td>60.142857</td>\n",
              "      <td>5.5</td>\n",
              "      <td>9.4</td>\n",
              "      <td>33.0</td>\n",
              "      <td>5.7</td>\n",
              "      <td>4.7</td>\n",
              "      <td>3.00</td>\n",
              "      <td>17.7</td>\n",
              "      <td>0.7</td>\n",
              "      <td>-</td>\n",
              "    </tr>\n",
              "    <tr>\n",
              "      <th>2021-01-04</th>\n",
              "      <td>152</td>\n",
              "      <td>41</td>\n",
              "      <td>143</td>\n",
              "      <td>9</td>\n",
              "      <td>5</td>\n",
              "      <td>0</td>\n",
              "      <td>193</td>\n",
              "      <td>591</td>\n",
              "      <td>496</td>\n",
              "      <td>26</td>\n",
              "      <td>69</td>\n",
              "      <td>61.428571</td>\n",
              "      <td>5.6</td>\n",
              "      <td>9.4</td>\n",
              "      <td>34.3</td>\n",
              "      <td>5.7</td>\n",
              "      <td>5.1</td>\n",
              "      <td>3.20</td>\n",
              "      <td>8.3</td>\n",
              "      <td>0.8</td>\n",
              "      <td>-</td>\n",
              "    </tr>\n",
              "    <tr>\n",
              "      <th>2021-01-05</th>\n",
              "      <td>238</td>\n",
              "      <td>88</td>\n",
              "      <td>219</td>\n",
              "      <td>19</td>\n",
              "      <td>14</td>\n",
              "      <td>0</td>\n",
              "      <td>326</td>\n",
              "      <td>610</td>\n",
              "      <td>510</td>\n",
              "      <td>26</td>\n",
              "      <td>74</td>\n",
              "      <td>63.857143</td>\n",
              "      <td>6.8</td>\n",
              "      <td>10.4</td>\n",
              "      <td>38.0</td>\n",
              "      <td>5.7</td>\n",
              "      <td>6.6</td>\n",
              "      <td>3.60</td>\n",
              "      <td>10.4</td>\n",
              "      <td>1.1</td>\n",
              "      <td>-</td>\n",
              "    </tr>\n",
              "    <tr>\n",
              "      <th>2021-01-06</th>\n",
              "      <td>179</td>\n",
              "      <td>79</td>\n",
              "      <td>152</td>\n",
              "      <td>27</td>\n",
              "      <td>9</td>\n",
              "      <td>0</td>\n",
              "      <td>258</td>\n",
              "      <td>637</td>\n",
              "      <td>519</td>\n",
              "      <td>26</td>\n",
              "      <td>92</td>\n",
              "      <td>69.428571</td>\n",
              "      <td>7.9</td>\n",
              "      <td>11.8</td>\n",
              "      <td>45.0</td>\n",
              "      <td>5.7</td>\n",
              "      <td>11.3</td>\n",
              "      <td>5.80</td>\n",
              "      <td>11.7</td>\n",
              "      <td>2</td>\n",
              "      <td>-</td>\n",
              "    </tr>\n",
              "  </tbody>\n",
              "</table>\n",
              "<p>240 rows × 21 columns</p>\n",
              "</div>"
            ],
            "text/plain": [
              "            PCR検査数  抗原検査数  陰性人数  陽性人数  ...  感染経路不明の患者数  陽性率（県）   比較  達成状況\n",
              "2020-05-12      39      0    38     1  ...        0.14     2.1    -     -\n",
              "2020-05-13      25      0    25     0  ...        0.14     2.1    -     -\n",
              "2020-05-14      28      0    26     2  ...        0.14     2.6    -     -\n",
              "2020-05-15      21      0    21     0  ...        0.14     2.7    -     -\n",
              "2020-05-16      50      0    49     1  ...        0.14     2.2    -     -\n",
              "...            ...    ...   ...   ...  ...         ...     ...  ...   ...\n",
              "2021-01-02      37     29    31     6  ...        2.60    13.2  0.6     -\n",
              "2021-01-03      28     31    21     7  ...        3.00    17.7  0.7     -\n",
              "2021-01-04     152     41   143     9  ...        3.20     8.3  0.8     -\n",
              "2021-01-05     238     88   219    19  ...        3.60    10.4  1.1     -\n",
              "2021-01-06     179     79   152    27  ...        5.80    11.7    2     -\n",
              "\n",
              "[240 rows x 21 columns]"
            ]
          },
          "metadata": {
            "tags": []
          },
          "execution_count": 29
        }
      ]
    },
    {
      "cell_type": "code",
      "metadata": {
        "id": "_2ogdLQmxcOa"
      },
      "source": [
        "df.to_csv(\"data.csv\")"
      ],
      "execution_count": 30,
      "outputs": []
    },
    {
      "cell_type": "code",
      "metadata": {
        "colab": {
          "base_uri": "https://localhost:8080/"
        },
        "id": "trU3U7CNx77Y",
        "outputId": "1e43ab3b-988e-4b71-9da1-b3fe2c948c0b"
      },
      "source": [
        "(df[\"PCR陽性率\"] == df[\"陽性率（県）\"]).sum()"
      ],
      "execution_count": 31,
      "outputs": [
        {
          "output_type": "execute_result",
          "data": {
            "text/plain": [
              "88"
            ]
          },
          "metadata": {
            "tags": []
          },
          "execution_count": 31
        }
      ]
    },
    {
      "cell_type": "code",
      "metadata": {
        "colab": {
          "base_uri": "https://localhost:8080/"
        },
        "id": "tRkWBUynyRUv",
        "outputId": "b5bbeceb-376d-4c9a-c53b-9d61fd36f0db"
      },
      "source": [
        "(df[\"PCR陽性率\"] != df[\"陽性率（県）\"]).sum()"
      ],
      "execution_count": 32,
      "outputs": [
        {
          "output_type": "execute_result",
          "data": {
            "text/plain": [
              "152"
            ]
          },
          "metadata": {
            "tags": []
          },
          "execution_count": 32
        }
      ]
    },
    {
      "cell_type": "code",
      "metadata": {
        "id": "-U01hx7pyV8p"
      },
      "source": [
        "df_false = df[df[\"PCR陽性率\"] != df[\"陽性率（県）\"]]"
      ],
      "execution_count": 33,
      "outputs": []
    },
    {
      "cell_type": "code",
      "metadata": {
        "colab": {
          "base_uri": "https://localhost:8080/",
          "height": 424
        },
        "id": "2NTAZdQ5zhbJ",
        "outputId": "6954941c-0923-4181-edc7-202a40c96578"
      },
      "source": [
        "df_false.loc[:, [\"PCR陽性率\", \"陽性率（県）\"]]"
      ],
      "execution_count": 34,
      "outputs": [
        {
          "output_type": "execute_result",
          "data": {
            "text/html": [
              "<div>\n",
              "<style scoped>\n",
              "    .dataframe tbody tr th:only-of-type {\n",
              "        vertical-align: middle;\n",
              "    }\n",
              "\n",
              "    .dataframe tbody tr th {\n",
              "        vertical-align: top;\n",
              "    }\n",
              "\n",
              "    .dataframe thead th {\n",
              "        text-align: right;\n",
              "    }\n",
              "</style>\n",
              "<table border=\"1\" class=\"dataframe\">\n",
              "  <thead>\n",
              "    <tr style=\"text-align: right;\">\n",
              "      <th></th>\n",
              "      <th>PCR陽性率</th>\n",
              "      <th>陽性率（県）</th>\n",
              "    </tr>\n",
              "  </thead>\n",
              "  <tbody>\n",
              "    <tr>\n",
              "      <th>2020-07-02</th>\n",
              "      <td>0.8</td>\n",
              "      <td>1.0</td>\n",
              "    </tr>\n",
              "    <tr>\n",
              "      <th>2020-07-03</th>\n",
              "      <td>0.6</td>\n",
              "      <td>1.0</td>\n",
              "    </tr>\n",
              "    <tr>\n",
              "      <th>2020-07-04</th>\n",
              "      <td>0.5</td>\n",
              "      <td>0.7</td>\n",
              "    </tr>\n",
              "    <tr>\n",
              "      <th>2020-07-05</th>\n",
              "      <td>0.5</td>\n",
              "      <td>0.7</td>\n",
              "    </tr>\n",
              "    <tr>\n",
              "      <th>2020-07-06</th>\n",
              "      <td>0.4</td>\n",
              "      <td>0.7</td>\n",
              "    </tr>\n",
              "    <tr>\n",
              "      <th>...</th>\n",
              "      <td>...</td>\n",
              "      <td>...</td>\n",
              "    </tr>\n",
              "    <tr>\n",
              "      <th>2021-01-01</th>\n",
              "      <td>4.4</td>\n",
              "      <td>5.5</td>\n",
              "    </tr>\n",
              "    <tr>\n",
              "      <th>2021-01-02</th>\n",
              "      <td>7.5</td>\n",
              "      <td>13.2</td>\n",
              "    </tr>\n",
              "    <tr>\n",
              "      <th>2021-01-03</th>\n",
              "      <td>9.4</td>\n",
              "      <td>17.7</td>\n",
              "    </tr>\n",
              "    <tr>\n",
              "      <th>2021-01-04</th>\n",
              "      <td>9.4</td>\n",
              "      <td>8.3</td>\n",
              "    </tr>\n",
              "    <tr>\n",
              "      <th>2021-01-06</th>\n",
              "      <td>11.8</td>\n",
              "      <td>11.7</td>\n",
              "    </tr>\n",
              "  </tbody>\n",
              "</table>\n",
              "<p>152 rows × 2 columns</p>\n",
              "</div>"
            ],
            "text/plain": [
              "            PCR陽性率  陽性率（県）\n",
              "2020-07-02     0.8     1.0\n",
              "2020-07-03     0.6     1.0\n",
              "2020-07-04     0.5     0.7\n",
              "2020-07-05     0.5     0.7\n",
              "2020-07-06     0.4     0.7\n",
              "...            ...     ...\n",
              "2021-01-01     4.4     5.5\n",
              "2021-01-02     7.5    13.2\n",
              "2021-01-03     9.4    17.7\n",
              "2021-01-04     9.4     8.3\n",
              "2021-01-06    11.8    11.7\n",
              "\n",
              "[152 rows x 2 columns]"
            ]
          },
          "metadata": {
            "tags": []
          },
          "execution_count": 34
        }
      ]
    },
    {
      "cell_type": "code",
      "metadata": {
        "id": "l6-cDxFJ2rwn"
      },
      "source": [
        "df_false.to_csv(\"false.csv\")"
      ],
      "execution_count": 35,
      "outputs": []
    }
  ]
}