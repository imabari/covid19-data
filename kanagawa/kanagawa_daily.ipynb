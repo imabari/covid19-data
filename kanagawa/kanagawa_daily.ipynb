{
  "nbformat": 4,
  "nbformat_minor": 0,
  "metadata": {
    "colab": {
      "name": "kanagawa_daily.ipynb",
      "provenance": [],
      "authorship_tag": "ABX9TyMl9+neEQwshlFyS5GZV1HF",
      "include_colab_link": true
    },
    "kernelspec": {
      "name": "python3",
      "display_name": "Python 3"
    }
  },
  "cells": [
    {
      "cell_type": "markdown",
      "metadata": {
        "id": "view-in-github",
        "colab_type": "text"
      },
      "source": [
        "<a href=\"https://colab.research.google.com/github/imabari/covid19-data/blob/master/kanagawa/kanagawa_daily.ipynb\" target=\"_parent\"><img src=\"https://colab.research.google.com/assets/colab-badge.svg\" alt=\"Open In Colab\"/></a>"
      ]
    },
    {
      "cell_type": "code",
      "metadata": {
        "id": "Zuc3H6TYafQG"
      },
      "source": [
        "import datetime\r\n",
        "import pandas as pd\r\n",
        "import requests\r\n",
        "from urllib.parse import urljoin"
      ],
      "execution_count": 1,
      "outputs": []
    },
    {
      "cell_type": "code",
      "metadata": {
        "id": "L4uHpQxWknFu"
      },
      "source": [
        "dt_now = datetime.datetime.now()"
      ],
      "execution_count": 2,
      "outputs": []
    },
    {
      "cell_type": "code",
      "metadata": {
        "id": "CJRDPuqXkd9o"
      },
      "source": [
        "def str2date(s: pd.Series) -> pd.Series:\r\n",
        "\r\n",
        "    df = s.str.extract(\"(\\d{1,2})/(\\d{1,2})\").rename(columns={0: \"month\", 1: \"day\"}).fillna(0).astype(int)\r\n",
        "\r\n",
        "    df[\"year\"] = dt_now.year\r\n",
        "\r\n",
        "    tmp = pd.to_datetime(df, errors=\"coerce\")\r\n",
        "\r\n",
        "    df[\"year\"] = df[\"year\"].mask(tmp > dt_now, df[\"year\"] - 1)\r\n",
        "\r\n",
        "    return pd.to_datetime(df, errors=\"coerce\")"
      ],
      "execution_count": 3,
      "outputs": []
    },
    {
      "cell_type": "code",
      "metadata": {
        "id": "lLPHqStRhRX_"
      },
      "source": [
        "url = \"http://www.pref.kanagawa.jp/osirase/1369/data/data.json\""
      ],
      "execution_count": 4,
      "outputs": []
    },
    {
      "cell_type": "code",
      "metadata": {
        "id": "eri2_oTlbA1z"
      },
      "source": [
        "r = requests.get(url)"
      ],
      "execution_count": 5,
      "outputs": []
    },
    {
      "cell_type": "code",
      "metadata": {
        "id": "sGEHQKK7bHBy"
      },
      "source": [
        "data = r.json()"
      ],
      "execution_count": 6,
      "outputs": []
    },
    {
      "cell_type": "markdown",
      "metadata": {
        "id": "KCE-fIFKl8j1"
      },
      "source": [
        "# 宿泊施設"
      ]
    },
    {
      "cell_type": "code",
      "metadata": {
        "id": "5MzO-XXCgxCI"
      },
      "source": [
        "link = urljoin(url, data[\"capacity\"][\"daily_capacity\"][\"宿泊施設CSVファイル\"][0][\"name\"])"
      ],
      "execution_count": 7,
      "outputs": []
    },
    {
      "cell_type": "code",
      "metadata": {
        "id": "Djkv000vhmzw"
      },
      "source": [
        "df1 = pd.read_csv(link, index_col=\"日付\", parse_dates=True, encoding=\"cp932\")"
      ],
      "execution_count": 8,
      "outputs": []
    },
    {
      "cell_type": "markdown",
      "metadata": {
        "id": "jgkWGZjFl_Ug"
      },
      "source": [
        "# 入院者数・宿泊療養者数"
      ]
    },
    {
      "cell_type": "code",
      "metadata": {
        "id": "pz2doaFfah3c"
      },
      "source": [
        "df_tmp = pd.json_normalize(data[\"inspection\"][\"daily_bed_count_by_case\"][\"items\"]).set_index(\"label\")"
      ],
      "execution_count": 9,
      "outputs": []
    },
    {
      "cell_type": "code",
      "metadata": {
        "id": "QUUW-aT4euBR"
      },
      "source": [
        "df2 = df_tmp[\"values\"].apply(pd.Series).T.set_axis(data[\"inspection\"][\"daily_bed_count_by_case\"][\"labels\"])"
      ],
      "execution_count": 10,
      "outputs": []
    },
    {
      "cell_type": "code",
      "metadata": {
        "colab": {
          "base_uri": "https://localhost:8080/",
          "height": 424
        },
        "id": "eC-m16vklcgv",
        "outputId": "9a7065bf-634c-4332-dddc-71ad77d3e55b"
      },
      "source": [
        "df2"
      ],
      "execution_count": 11,
      "outputs": [
        {
          "output_type": "execute_result",
          "data": {
            "text/html": [
              "<div>\n",
              "<style scoped>\n",
              "    .dataframe tbody tr th:only-of-type {\n",
              "        vertical-align: middle;\n",
              "    }\n",
              "\n",
              "    .dataframe tbody tr th {\n",
              "        vertical-align: top;\n",
              "    }\n",
              "\n",
              "    .dataframe thead th {\n",
              "        text-align: right;\n",
              "    }\n",
              "</style>\n",
              "<table border=\"1\" class=\"dataframe\">\n",
              "  <thead>\n",
              "    <tr style=\"text-align: right;\">\n",
              "      <th>label</th>\n",
              "      <th>重症者数（入院）</th>\n",
              "      <th>中等症・軽症者数（入院）</th>\n",
              "      <th>宿泊療養者数</th>\n",
              "    </tr>\n",
              "  </thead>\n",
              "  <tbody>\n",
              "    <tr>\n",
              "      <th>07/01</th>\n",
              "      <td>8</td>\n",
              "      <td>41</td>\n",
              "      <td>30</td>\n",
              "    </tr>\n",
              "    <tr>\n",
              "      <th>07/02</th>\n",
              "      <td>7</td>\n",
              "      <td>51</td>\n",
              "      <td>36</td>\n",
              "    </tr>\n",
              "    <tr>\n",
              "      <th>07/03</th>\n",
              "      <td>7</td>\n",
              "      <td>50</td>\n",
              "      <td>42</td>\n",
              "    </tr>\n",
              "    <tr>\n",
              "      <th>07/06</th>\n",
              "      <td>10</td>\n",
              "      <td>58</td>\n",
              "      <td>51</td>\n",
              "    </tr>\n",
              "    <tr>\n",
              "      <th>07/07</th>\n",
              "      <td>7</td>\n",
              "      <td>52</td>\n",
              "      <td>51</td>\n",
              "    </tr>\n",
              "    <tr>\n",
              "      <th>...</th>\n",
              "      <td>...</td>\n",
              "      <td>...</td>\n",
              "      <td>...</td>\n",
              "    </tr>\n",
              "    <tr>\n",
              "      <th>01/25</th>\n",
              "      <td>106</td>\n",
              "      <td>849</td>\n",
              "      <td>285</td>\n",
              "    </tr>\n",
              "    <tr>\n",
              "      <th>01/26</th>\n",
              "      <td>110</td>\n",
              "      <td>825</td>\n",
              "      <td>267</td>\n",
              "    </tr>\n",
              "    <tr>\n",
              "      <th>01/27</th>\n",
              "      <td>105</td>\n",
              "      <td>823</td>\n",
              "      <td>250</td>\n",
              "    </tr>\n",
              "    <tr>\n",
              "      <th>01/28</th>\n",
              "      <td>104</td>\n",
              "      <td>828</td>\n",
              "      <td>272</td>\n",
              "    </tr>\n",
              "    <tr>\n",
              "      <th>01/29</th>\n",
              "      <td>103</td>\n",
              "      <td>803</td>\n",
              "      <td>259</td>\n",
              "    </tr>\n",
              "  </tbody>\n",
              "</table>\n",
              "<p>154 rows × 3 columns</p>\n",
              "</div>"
            ],
            "text/plain": [
              "label  重症者数（入院）  中等症・軽症者数（入院）  宿泊療養者数\n",
              "07/01         8            41      30\n",
              "07/02         7            51      36\n",
              "07/03         7            50      42\n",
              "07/06        10            58      51\n",
              "07/07         7            52      51\n",
              "...         ...           ...     ...\n",
              "01/25       106           849     285\n",
              "01/26       110           825     267\n",
              "01/27       105           823     250\n",
              "01/28       104           828     272\n",
              "01/29       103           803     259\n",
              "\n",
              "[154 rows x 3 columns]"
            ]
          },
          "metadata": {
            "tags": []
          },
          "execution_count": 11
        }
      ]
    },
    {
      "cell_type": "code",
      "metadata": {
        "id": "KT87YwpGjzNm"
      },
      "source": [
        "df2.index = str2date(df2.index)"
      ],
      "execution_count": 12,
      "outputs": []
    },
    {
      "cell_type": "markdown",
      "metadata": {
        "id": "JkxXjy48mjB9"
      },
      "source": [
        "# 結合"
      ]
    },
    {
      "cell_type": "code",
      "metadata": {
        "id": "KAHvJ-0SlCtN"
      },
      "source": [
        "df = df1.join(df2).dropna(thresh=6).astype(int)"
      ],
      "execution_count": 13,
      "outputs": []
    },
    {
      "cell_type": "code",
      "metadata": {
        "id": "tk_b5slWmqds"
      },
      "source": [
        "df.to_csv(\"kanagawa.csv\", encoding=\"utf_8_sig\")"
      ],
      "execution_count": 14,
      "outputs": []
    }
  ]
}